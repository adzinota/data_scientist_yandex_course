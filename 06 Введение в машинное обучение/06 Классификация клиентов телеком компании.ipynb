{
 "cells": [
  {
   "cell_type": "markdown",
   "metadata": {},
   "source": [
    "# Рекомендация тарифов"
   ]
  },
  {
   "cell_type": "markdown",
   "metadata": {},
   "source": [
    "В вашем распоряжении данные о поведении клиентов, которые уже перешли на эти тарифы (из проекта курса «Статистический анализ данных»). Нужно построить модель для задачи классификации, которая выберет подходящий тариф. Предобработка данных не понадобится — вы её уже сделали.\n",
    "\n",
    "Постройте модель с максимально большим значением *accuracy*. Чтобы сдать проект успешно, нужно довести долю правильных ответов по крайней мере до 0.75. Проверьте *accuracy* на тестовой выборке самостоятельно."
   ]
  },
  {
   "cell_type": "markdown",
   "metadata": {},
   "source": [
    "## Откройте и изучите файл"
   ]
  },
  {
   "cell_type": "markdown",
   "metadata": {},
   "source": [
    "Импортируем необходимые библиотеки и модули"
   ]
  },
  {
   "cell_type": "code",
   "execution_count": 2,
   "metadata": {},
   "outputs": [],
   "source": [
    "import pandas as pd\n",
    "\n",
    "from sklearn.tree import DecisionTreeClassifier\n",
    "from sklearn.ensemble import RandomForestClassifier\n",
    "from sklearn.linear_model import LogisticRegression\n",
    "\n",
    "from sklearn.model_selection import train_test_split\n",
    "from sklearn.metrics import mean_squared_error\n",
    "from sklearn.metrics import accuracy_score"
   ]
  },
  {
   "cell_type": "markdown",
   "metadata": {},
   "source": [
    "Прочитаем датасет из файла и посмотрим первые 5 строк"
   ]
  },
  {
   "cell_type": "code",
   "execution_count": 3,
   "metadata": {},
   "outputs": [
    {
     "data": {
      "text/html": [
       "<div>\n",
       "<style scoped>\n",
       "    .dataframe tbody tr th:only-of-type {\n",
       "        vertical-align: middle;\n",
       "    }\n",
       "\n",
       "    .dataframe tbody tr th {\n",
       "        vertical-align: top;\n",
       "    }\n",
       "\n",
       "    .dataframe thead th {\n",
       "        text-align: right;\n",
       "    }\n",
       "</style>\n",
       "<table border=\"1\" class=\"dataframe\">\n",
       "  <thead>\n",
       "    <tr style=\"text-align: right;\">\n",
       "      <th></th>\n",
       "      <th>calls</th>\n",
       "      <th>minutes</th>\n",
       "      <th>messages</th>\n",
       "      <th>mb_used</th>\n",
       "      <th>is_ultra</th>\n",
       "    </tr>\n",
       "  </thead>\n",
       "  <tbody>\n",
       "    <tr>\n",
       "      <td>0</td>\n",
       "      <td>40.0</td>\n",
       "      <td>311.90</td>\n",
       "      <td>83.0</td>\n",
       "      <td>19915.42</td>\n",
       "      <td>0</td>\n",
       "    </tr>\n",
       "    <tr>\n",
       "      <td>1</td>\n",
       "      <td>85.0</td>\n",
       "      <td>516.75</td>\n",
       "      <td>56.0</td>\n",
       "      <td>22696.96</td>\n",
       "      <td>0</td>\n",
       "    </tr>\n",
       "    <tr>\n",
       "      <td>2</td>\n",
       "      <td>77.0</td>\n",
       "      <td>467.66</td>\n",
       "      <td>86.0</td>\n",
       "      <td>21060.45</td>\n",
       "      <td>0</td>\n",
       "    </tr>\n",
       "    <tr>\n",
       "      <td>3</td>\n",
       "      <td>106.0</td>\n",
       "      <td>745.53</td>\n",
       "      <td>81.0</td>\n",
       "      <td>8437.39</td>\n",
       "      <td>1</td>\n",
       "    </tr>\n",
       "    <tr>\n",
       "      <td>4</td>\n",
       "      <td>66.0</td>\n",
       "      <td>418.74</td>\n",
       "      <td>1.0</td>\n",
       "      <td>14502.75</td>\n",
       "      <td>0</td>\n",
       "    </tr>\n",
       "  </tbody>\n",
       "</table>\n",
       "</div>"
      ],
      "text/plain": [
       "   calls  minutes  messages   mb_used  is_ultra\n",
       "0   40.0   311.90      83.0  19915.42         0\n",
       "1   85.0   516.75      56.0  22696.96         0\n",
       "2   77.0   467.66      86.0  21060.45         0\n",
       "3  106.0   745.53      81.0   8437.39         1\n",
       "4   66.0   418.74       1.0  14502.75         0"
      ]
     },
     "execution_count": 3,
     "metadata": {},
     "output_type": "execute_result"
    }
   ],
   "source": [
    "df = pd.read_csv('/datasets/users_behavior.csv')\n",
    "df.head()"
   ]
  },
  {
   "cell_type": "markdown",
   "metadata": {},
   "source": [
    "Посмотрим общую информацию о датасете"
   ]
  },
  {
   "cell_type": "code",
   "execution_count": 4,
   "metadata": {},
   "outputs": [
    {
     "name": "stdout",
     "output_type": "stream",
     "text": [
      "<class 'pandas.core.frame.DataFrame'>\n",
      "RangeIndex: 3214 entries, 0 to 3213\n",
      "Data columns (total 5 columns):\n",
      "calls       3214 non-null float64\n",
      "minutes     3214 non-null float64\n",
      "messages    3214 non-null float64\n",
      "mb_used     3214 non-null float64\n",
      "is_ultra    3214 non-null int64\n",
      "dtypes: float64(4), int64(1)\n",
      "memory usage: 125.7 KB\n"
     ]
    }
   ],
   "source": [
    "df.info()"
   ]
  },
  {
   "cell_type": "markdown",
   "metadata": {},
   "source": [
    "Узнаем долю пользователей тарифа Ультра"
   ]
  },
  {
   "cell_type": "code",
   "execution_count": 5,
   "metadata": {},
   "outputs": [
    {
     "data": {
      "text/plain": [
       "0.30647168637212197"
      ]
     },
     "execution_count": 5,
     "metadata": {},
     "output_type": "execute_result"
    }
   ],
   "source": [
    "df['is_ultra'].mean()"
   ]
  },
  {
   "cell_type": "code",
   "execution_count": 8,
   "metadata": {},
   "outputs": [
    {
     "data": {
      "text/html": [
       "<div>\n",
       "<style scoped>\n",
       "    .dataframe tbody tr th:only-of-type {\n",
       "        vertical-align: middle;\n",
       "    }\n",
       "\n",
       "    .dataframe tbody tr th {\n",
       "        vertical-align: top;\n",
       "    }\n",
       "\n",
       "    .dataframe thead th {\n",
       "        text-align: right;\n",
       "    }\n",
       "</style>\n",
       "<table border=\"1\" class=\"dataframe\">\n",
       "  <thead>\n",
       "    <tr style=\"text-align: right;\">\n",
       "      <th></th>\n",
       "      <th>calls</th>\n",
       "      <th>minutes</th>\n",
       "      <th>messages</th>\n",
       "      <th>mb_used</th>\n",
       "      <th>is_ultra</th>\n",
       "    </tr>\n",
       "  </thead>\n",
       "  <tbody>\n",
       "    <tr>\n",
       "      <td>calls</td>\n",
       "      <td>1.000000</td>\n",
       "      <td>0.982083</td>\n",
       "      <td>0.177385</td>\n",
       "      <td>0.286442</td>\n",
       "      <td>0.207122</td>\n",
       "    </tr>\n",
       "    <tr>\n",
       "      <td>minutes</td>\n",
       "      <td>0.982083</td>\n",
       "      <td>1.000000</td>\n",
       "      <td>0.173110</td>\n",
       "      <td>0.280967</td>\n",
       "      <td>0.206955</td>\n",
       "    </tr>\n",
       "    <tr>\n",
       "      <td>messages</td>\n",
       "      <td>0.177385</td>\n",
       "      <td>0.173110</td>\n",
       "      <td>1.000000</td>\n",
       "      <td>0.195721</td>\n",
       "      <td>0.203830</td>\n",
       "    </tr>\n",
       "    <tr>\n",
       "      <td>mb_used</td>\n",
       "      <td>0.286442</td>\n",
       "      <td>0.280967</td>\n",
       "      <td>0.195721</td>\n",
       "      <td>1.000000</td>\n",
       "      <td>0.198568</td>\n",
       "    </tr>\n",
       "    <tr>\n",
       "      <td>is_ultra</td>\n",
       "      <td>0.207122</td>\n",
       "      <td>0.206955</td>\n",
       "      <td>0.203830</td>\n",
       "      <td>0.198568</td>\n",
       "      <td>1.000000</td>\n",
       "    </tr>\n",
       "  </tbody>\n",
       "</table>\n",
       "</div>"
      ],
      "text/plain": [
       "             calls   minutes  messages   mb_used  is_ultra\n",
       "calls     1.000000  0.982083  0.177385  0.286442  0.207122\n",
       "minutes   0.982083  1.000000  0.173110  0.280967  0.206955\n",
       "messages  0.177385  0.173110  1.000000  0.195721  0.203830\n",
       "mb_used   0.286442  0.280967  0.195721  1.000000  0.198568\n",
       "is_ultra  0.207122  0.206955  0.203830  0.198568  1.000000"
      ]
     },
     "execution_count": 8,
     "metadata": {},
     "output_type": "execute_result"
    }
   ],
   "source": [
    "df.corr()"
   ]
  },
  {
   "cell_type": "code",
   "execution_count": 17,
   "metadata": {},
   "outputs": [
    {
     "data": {
      "text/plain": [
       "<matplotlib.axes._subplots.AxesSubplot at 0x7f19004b8890>"
      ]
     },
     "execution_count": 17,
     "metadata": {},
     "output_type": "execute_result"
    },
    {
     "data": {
      "image/png": "[encoded data removed]",
      "text/plain": [
       "<Figure size 360x360 with 1 Axes>"
      ]
     },
     "metadata": {
      "needs_background": "light"
     },
     "output_type": "display_data"
    }
   ],
   "source": [
    "df.plot.scatter('calls', 'minutes', figsize=(5, 5), grid=True)"
   ]
  },
  {
   "cell_type": "markdown",
   "metadata": {},
   "source": [
    "Есть очень сильная (близкая к 1) взаимосвязь между количеством звонков и количеством минут, следовательно, можно оставить только столбец с количеством минут"
   ]
  },
  {
   "cell_type": "markdown",
   "metadata": {},
   "source": [
    "## Разбейте данные на выборки"
   ]
  },
  {
   "cell_type": "markdown",
   "metadata": {},
   "source": [
    "Так как тестовой выборки нет, необходимо разбить данные на три части: обучающую, валидационную и тестовую.  \n",
    "Размеры тестового и валидационного наборов обычно равны.  \n",
    "Исходные данные разбивают в соотношении 3:1:1.  \n",
    "Таким образом, обучающая выборка 60%, валидационная и тестовая - 20% каждая."
   ]
  },
  {
   "cell_type": "markdown",
   "metadata": {},
   "source": [
    "Сохраним в отдельных переменных признаки (features) и целевой признак (target)"
   ]
  },
  {
   "cell_type": "code",
   "execution_count": 41,
   "metadata": {},
   "outputs": [],
   "source": [
    "features = df.drop(['is_ultra','calls'], axis=1)\n",
    "target = df['is_ultra']"
   ]
  },
  {
   "cell_type": "markdown",
   "metadata": {},
   "source": [
    "При помощи модуля train_test_split из библиотеки sklearn.model_selection разделим данные:  \n",
    "* features_train, target_train - признаки и целевой признак обучающей выборки\n",
    "* features_x, target_x - признаки и целевой признак обучающей выборки, которую разделим на тестовую и валидационную\n",
    "\n",
    "Делим в соотношении 60% и 40%, 60% приходится на обучающую выборку"
   ]
  },
  {
   "cell_type": "code",
   "execution_count": 42,
   "metadata": {},
   "outputs": [],
   "source": [
    "features_train, features_x, target_train, target_x = train_test_split(\n",
    "    features, target, test_size=0.4, random_state=12345)"
   ]
  },
  {
   "cell_type": "markdown",
   "metadata": {},
   "source": [
    "Теперь разделим 40% данных на тестовую и валидационную выборки (пополам):\n",
    "* features_test, target_test - признаки и целевой признак тестовой выборки\n",
    "* features_valid, target_valid - признаки и целевой признак валидационной выборки"
   ]
  },
  {
   "cell_type": "code",
   "execution_count": 43,
   "metadata": {},
   "outputs": [],
   "source": [
    "features_test, features_valid, target_test, target_valid = train_test_split(\n",
    "    features_x, target_x, test_size=0.5, random_state=12345)"
   ]
  },
  {
   "cell_type": "code",
   "execution_count": 24,
   "metadata": {},
   "outputs": [
    {
     "data": {
      "text/plain": [
       "0.5998755444928439"
      ]
     },
     "execution_count": 24,
     "metadata": {},
     "output_type": "execute_result"
    }
   ],
   "source": [
    "features_train.shape[0] / df.shape[0]"
   ]
  },
  {
   "cell_type": "code",
   "execution_count": 25,
   "metadata": {},
   "outputs": [
    {
     "data": {
      "text/plain": [
       "0.2000622277535781"
      ]
     },
     "execution_count": 25,
     "metadata": {},
     "output_type": "execute_result"
    }
   ],
   "source": [
    "features_valid.shape[0] / df.shape[0]"
   ]
  },
  {
   "cell_type": "code",
   "execution_count": 26,
   "metadata": {},
   "outputs": [
    {
     "data": {
      "text/plain": [
       "0.2000622277535781"
      ]
     },
     "execution_count": 26,
     "metadata": {},
     "output_type": "execute_result"
    }
   ],
   "source": [
    "features_test.shape[0] / df.shape[0]"
   ]
  },
  {
   "cell_type": "markdown",
   "metadata": {},
   "source": [
    "## Исследуйте модели"
   ]
  },
  {
   "cell_type": "markdown",
   "metadata": {},
   "source": [
    "### DecisionTreeClassifier"
   ]
  },
  {
   "cell_type": "markdown",
   "metadata": {},
   "source": [
    "Исследуем модель \"дерево решений\", проверим глубину дерева от 1 до 10"
   ]
  },
  {
   "cell_type": "code",
   "execution_count": 27,
   "metadata": {},
   "outputs": [],
   "source": [
    "best_model = None\n",
    "best_result = 0"
   ]
  },
  {
   "cell_type": "code",
   "execution_count": 28,
   "metadata": {},
   "outputs": [],
   "source": [
    "for depth in range(1, 11):\n",
    "    model = DecisionTreeClassifier(random_state=12345, max_depth=depth) # обучите модель с заданной глубиной дерева\n",
    "    \n",
    "    model.fit(features_train, target_train) # обучите модель\n",
    "    \n",
    "    predictions = model.predict(features_valid) # получите предсказания модели\n",
    "    \n",
    "    result = accuracy_score(target_valid, predictions) # посчитайте качество модели\n",
    "    \n",
    "    if result > best_result:\n",
    "        best_model = model\n",
    "        best_result = result\n",
    "        best_depth = depth"
   ]
  },
  {
   "cell_type": "code",
   "execution_count": 29,
   "metadata": {},
   "outputs": [
    {
     "name": "stdout",
     "output_type": "stream",
     "text": [
      "Качество лучшей модели: 0.7962674961119751 \n",
      "Глубина дерева: 7\n"
     ]
    }
   ],
   "source": [
    "print(\"Качество лучшей модели:\", best_result, \"\\nГлубина дерева:\", best_depth)"
   ]
  },
  {
   "cell_type": "markdown",
   "metadata": {},
   "source": [
    "### RandomForestClassifier"
   ]
  },
  {
   "cell_type": "markdown",
   "metadata": {},
   "source": [
    "Исследуем модель \"случайный лес\", проверим количество деревьев и глубину дерева от 1 до 10"
   ]
  },
  {
   "cell_type": "code",
   "execution_count": 30,
   "metadata": {},
   "outputs": [],
   "source": [
    "best_model = None\n",
    "best_result = 0\n",
    "best_est = 0"
   ]
  },
  {
   "cell_type": "code",
   "execution_count": 31,
   "metadata": {},
   "outputs": [],
   "source": [
    "for est in range(1, 11):\n",
    "    for depth in range (1, 11):\n",
    "        model = RandomForestClassifier(random_state=12345, n_estimators=est, max_depth=depth)\n",
    "        \n",
    "        model.fit(features_train, target_train)\n",
    "        \n",
    "        predictions = model.predict(features_valid) \n",
    "        \n",
    "        result = accuracy_score(target_valid, predictions)\n",
    "        \n",
    "        if result > best_result:\n",
    "            best_model = model\n",
    "            best_result = result\n",
    "            best_est = est\n",
    "            best_depth = depth"
   ]
  },
  {
   "cell_type": "code",
   "execution_count": 32,
   "metadata": {},
   "outputs": [
    {
     "name": "stdout",
     "output_type": "stream",
     "text": [
      "Качество лучшей модели: 0.8149300155520995 \n",
      "Количество деревьев: 7 \n",
      "Глубина дерева: 8\n"
     ]
    }
   ],
   "source": [
    "print(\"Качество лучшей модели:\", best_result, \"\\nКоличество деревьев:\", best_est, \"\\nГлубина дерева:\", best_depth)"
   ]
  },
  {
   "cell_type": "markdown",
   "metadata": {},
   "source": [
    "### LogisticRegression"
   ]
  },
  {
   "cell_type": "markdown",
   "metadata": {},
   "source": [
    "Исследуем модель \"логистическая регрессия\""
   ]
  },
  {
   "cell_type": "code",
   "execution_count": 44,
   "metadata": {},
   "outputs": [],
   "source": [
    "model = LogisticRegression(random_state=12345, solver='liblinear')\n",
    "\n",
    "model.fit(features_train, target_train)\n",
    "\n",
    "predictions = model.predict(features_valid) \n",
    "        \n",
    "result = accuracy_score(target_valid, predictions)"
   ]
  },
  {
   "cell_type": "code",
   "execution_count": 45,
   "metadata": {},
   "outputs": [
    {
     "name": "stdout",
     "output_type": "stream",
     "text": [
      "Качество модели: 0.7402799377916018\n"
     ]
    }
   ],
   "source": [
    "f1_score(target_valid, predictions_valid)"
   ]
  },
  {
   "cell_type": "markdown",
   "metadata": {},
   "source": [
    "По итогам исследования моделей лучшей моделью является \"случайный лес\" с качеством модели 0.815 (гиперпараметры: количество деревьев - 7, глубина дерева - 8)  \n",
    "На втором месте \"дерево решений\", качество модели 0.796, глубина дерева 7  \n",
    "Хуже всех модель \"логистическая регрессия\", качество модели 0.698"
   ]
  },
  {
   "cell_type": "markdown",
   "metadata": {},
   "source": [
    "## Проверьте модель на тестовой выборке"
   ]
  },
  {
   "cell_type": "code",
   "execution_count": 37,
   "metadata": {},
   "outputs": [],
   "source": [
    "model = RandomForestClassifier(random_state=12345, n_estimators=7, max_depth=8 )\n",
    "\n",
    "model.fit(features_train, target_train) \n",
    "\n",
    "predictions_test = model.predict(features_test) \n",
    "\n",
    "result = accuracy_score(target_test, predictions_test) "
   ]
  },
  {
   "cell_type": "code",
   "execution_count": 38,
   "metadata": {},
   "outputs": [
    {
     "name": "stdout",
     "output_type": "stream",
     "text": [
      "Качество модели на тестовой выборке с наилучшими параметрами: 0.7869362363919129\n"
     ]
    }
   ],
   "source": [
    "print(\"Качество модели на тестовой выборке с наилучшими параметрами:\", result)"
   ]
  },
  {
   "cell_type": "markdown",
   "metadata": {},
   "source": [
    "## Проверьте модели на адекватность"
   ]
  },
  {
   "cell_type": "markdown",
   "metadata": {},
   "source": [
    "Качество модели на тестовой выборке 0.787, что означает адекватность модели (т.е. она не предсказывает случайным образом)  \n",
    "Проверим соотношение тарифов Ультра и Смарт в датасете"
   ]
  },
  {
   "cell_type": "code",
   "execution_count": 18,
   "metadata": {},
   "outputs": [
    {
     "data": {
      "text/plain": [
       "0    0.693528\n",
       "1    0.306472\n",
       "Name: is_ultra, dtype: float64"
      ]
     },
     "execution_count": 18,
     "metadata": {},
     "output_type": "execute_result"
    }
   ],
   "source": [
    "df['is_ultra'].value_counts(normalize=True)"
   ]
  },
  {
   "cell_type": "markdown",
   "metadata": {},
   "source": [
    "Допустим, модель всегда предсказывает тариф Смарт, тогда точность модели будет 0.694, но точность модели \"случайный лес\" выше"
   ]
  },
  {
   "cell_type": "code",
   "execution_count": 53,
   "metadata": {},
   "outputs": [
    {
     "data": {
      "text/html": [
       "<div>\n",
       "<style scoped>\n",
       "    .dataframe tbody tr th:only-of-type {\n",
       "        vertical-align: middle;\n",
       "    }\n",
       "\n",
       "    .dataframe tbody tr th {\n",
       "        vertical-align: top;\n",
       "    }\n",
       "\n",
       "    .dataframe thead th {\n",
       "        text-align: right;\n",
       "    }\n",
       "</style>\n",
       "<table border=\"1\" class=\"dataframe\">\n",
       "  <thead>\n",
       "    <tr style=\"text-align: right;\">\n",
       "      <th></th>\n",
       "      <th>most_frequent</th>\n",
       "    </tr>\n",
       "  </thead>\n",
       "  <tbody>\n",
       "    <tr>\n",
       "      <td>0</td>\n",
       "      <td>0.706065</td>\n",
       "    </tr>\n",
       "  </tbody>\n",
       "</table>\n",
       "</div>"
      ],
      "text/plain": [
       "   most_frequent\n",
       "0       0.706065"
      ]
     },
     "execution_count": 53,
     "metadata": {},
     "output_type": "execute_result"
    }
   ],
   "source": [
    "from sklearn.dummy import DummyClassifier\n",
    "\n",
    "strategies = ['most_frequent']\n",
    "\n",
    "dummy_results = []\n",
    "\n",
    "for strategy in strategies:\n",
    "    dc = DummyClassifier(strategy = strategy, random_state = 0)\n",
    "\n",
    "dc.fit(features_train, target_train)\n",
    "\n",
    "result = dc.score(features_test, target_test)\n",
    "\n",
    "dummy_results.append({strategy: result})\n",
    "\n",
    "pd.DataFrame(dummy_results)"
   ]
  },
  {
   "cell_type": "markdown",
   "metadata": {},
   "source": [
    "0.787 vs 0.706"
   ]
  },
  {
   "cell_type": "markdown",
   "metadata": {},
   "source": [
    "## Выводы"
   ]
  },
  {
   "cell_type": "markdown",
   "metadata": {},
   "source": [
    "Были исследованы три модели:\n",
    "* дерево решений\n",
    "* случайный лес\n",
    "* логистическая регрессия\n",
    "\n",
    "Наилучший результат показала модель \"случайный лес\", качество на валидационной выборке 0.813, на тестовой выборке - 0.785"
   ]
  }
 ],
 "metadata": {
  "ExecuteTimeLog": [
   {
    "duration": 660,
    "start_time": "2022-02-23T00:40:58.991Z"
   },
   {
    "duration": 23,
    "start_time": "2022-02-23T00:41:13.278Z"
   },
   {
    "duration": 3,
    "start_time": "2022-02-23T00:41:27.406Z"
   },
   {
    "duration": 24,
    "start_time": "2022-02-23T00:41:28.165Z"
   },
   {
    "duration": 4,
    "start_time": "2022-02-23T00:43:02.897Z"
   },
   {
    "duration": 312,
    "start_time": "2022-02-23T00:43:24.052Z"
   },
   {
    "duration": 457,
    "start_time": "2022-02-23T00:43:37.114Z"
   },
   {
    "duration": 24,
    "start_time": "2022-02-23T00:43:37.646Z"
   },
   {
    "duration": 4,
    "start_time": "2022-02-23T00:43:38.972Z"
   },
   {
    "duration": 6,
    "start_time": "2022-02-23T00:43:39.708Z"
   },
   {
    "duration": 6,
    "start_time": "2022-02-23T00:45:17.243Z"
   },
   {
    "duration": 22,
    "start_time": "2022-02-23T00:45:35.674Z"
   },
   {
    "duration": 7,
    "start_time": "2022-02-23T00:45:58.796Z"
   },
   {
    "duration": 4,
    "start_time": "2022-02-23T00:49:07.233Z"
   },
   {
    "duration": 6,
    "start_time": "2022-02-23T00:49:08.138Z"
   },
   {
    "duration": 5,
    "start_time": "2022-02-23T01:48:06.854Z"
   },
   {
    "duration": 5,
    "start_time": "2022-02-23T01:50:58.775Z"
   },
   {
    "duration": 282,
    "start_time": "2022-02-23T02:05:40.160Z"
   },
   {
    "duration": 4,
    "start_time": "2022-02-23T02:05:47.029Z"
   },
   {
    "duration": 255,
    "start_time": "2022-02-23T02:05:49.557Z"
   },
   {
    "duration": 3,
    "start_time": "2022-02-23T02:06:19.327Z"
   },
   {
    "duration": 32,
    "start_time": "2022-02-23T02:06:22.917Z"
   },
   {
    "duration": 27,
    "start_time": "2022-02-23T02:06:47.975Z"
   },
   {
    "duration": 51,
    "start_time": "2022-02-23T02:09:25.220Z"
   },
   {
    "duration": 49,
    "start_time": "2022-02-23T02:09:40.248Z"
   },
   {
    "duration": 52,
    "start_time": "2022-02-23T02:10:11.226Z"
   },
   {
    "duration": 52,
    "start_time": "2022-02-23T02:10:25.874Z"
   },
   {
    "duration": 51,
    "start_time": "2022-02-23T02:10:42.949Z"
   },
   {
    "duration": 768,
    "start_time": "2022-02-23T02:11:02.013Z"
   },
   {
    "duration": 7992,
    "start_time": "2022-02-23T02:11:11.493Z"
   },
   {
    "duration": 49,
    "start_time": "2022-02-23T02:11:25.172Z"
   },
   {
    "duration": 49,
    "start_time": "2022-02-23T02:11:46.869Z"
   },
   {
    "duration": 48,
    "start_time": "2022-02-23T02:14:09.861Z"
   },
   {
    "duration": 240,
    "start_time": "2022-02-23T02:14:11.099Z"
   },
   {
    "duration": 3,
    "start_time": "2022-02-23T02:15:32.171Z"
   },
   {
    "duration": 210,
    "start_time": "2022-02-23T02:15:36.706Z"
   },
   {
    "duration": 462,
    "start_time": "2022-02-23T02:16:16.071Z"
   },
   {
    "duration": 2,
    "start_time": "2022-02-23T02:16:59.501Z"
   },
   {
    "duration": 49,
    "start_time": "2022-02-23T02:17:00.341Z"
   },
   {
    "duration": 4,
    "start_time": "2022-02-23T02:17:01.011Z"
   },
   {
    "duration": 85,
    "start_time": "2022-02-23T02:17:19.769Z"
   },
   {
    "duration": 212,
    "start_time": "2022-02-23T02:17:27.879Z"
   },
   {
    "duration": 6964,
    "start_time": "2022-02-23T02:19:04.304Z"
   },
   {
    "duration": 380,
    "start_time": "2022-02-23T02:20:21.324Z"
   },
   {
    "duration": 262,
    "start_time": "2022-02-23T02:20:48.285Z"
   },
   {
    "duration": 4333,
    "start_time": "2022-02-23T02:20:58.370Z"
   },
   {
    "duration": 4557,
    "start_time": "2022-02-23T02:21:35.518Z"
   },
   {
    "duration": 2,
    "start_time": "2022-02-23T02:22:07.340Z"
   },
   {
    "duration": 4243,
    "start_time": "2022-02-23T02:22:12.406Z"
   },
   {
    "duration": 3,
    "start_time": "2022-02-23T02:22:16.651Z"
   },
   {
    "duration": 369,
    "start_time": "2022-02-23T02:52:22.761Z"
   },
   {
    "duration": 4,
    "start_time": "2022-02-23T02:52:53.628Z"
   },
   {
    "duration": 20,
    "start_time": "2022-02-23T02:52:58.676Z"
   },
   {
    "duration": 15,
    "start_time": "2022-02-23T02:53:38.692Z"
   },
   {
    "duration": 18,
    "start_time": "2022-02-23T02:53:52.150Z"
   },
   {
    "duration": 14,
    "start_time": "2022-02-23T02:54:09.651Z"
   },
   {
    "duration": 4,
    "start_time": "2022-02-23T02:55:28.662Z"
   },
   {
    "duration": 14,
    "start_time": "2022-02-23T02:55:30.798Z"
   },
   {
    "duration": 14,
    "start_time": "2022-02-23T02:56:19.684Z"
   },
   {
    "duration": 4,
    "start_time": "2022-02-23T02:56:20.244Z"
   },
   {
    "duration": 13,
    "start_time": "2022-02-23T02:56:26.352Z"
   },
   {
    "duration": 3,
    "start_time": "2022-02-23T02:56:27.024Z"
   },
   {
    "duration": 12,
    "start_time": "2022-02-23T02:56:34.604Z"
   },
   {
    "duration": 3,
    "start_time": "2022-02-23T02:56:35.086Z"
   },
   {
    "duration": 286,
    "start_time": "2022-02-23T02:58:05.043Z"
   },
   {
    "duration": 3,
    "start_time": "2022-02-23T02:58:10.110Z"
   },
   {
    "duration": 291,
    "start_time": "2022-02-23T02:58:10.822Z"
   },
   {
    "duration": 266,
    "start_time": "2022-02-23T02:58:50.596Z"
   },
   {
    "duration": 21,
    "start_time": "2022-02-23T03:00:49.431Z"
   },
   {
    "duration": 1026,
    "start_time": "2022-02-23T03:03:21.132Z"
   },
   {
    "duration": 29,
    "start_time": "2022-02-23T03:03:22.160Z"
   },
   {
    "duration": 6,
    "start_time": "2022-02-23T03:03:22.191Z"
   },
   {
    "duration": 22,
    "start_time": "2022-02-23T03:03:22.200Z"
   },
   {
    "duration": 6,
    "start_time": "2022-02-23T03:03:22.232Z"
   },
   {
    "duration": 4,
    "start_time": "2022-02-23T03:03:22.240Z"
   },
   {
    "duration": 6,
    "start_time": "2022-02-23T03:03:22.246Z"
   },
   {
    "duration": 5,
    "start_time": "2022-02-23T03:03:22.254Z"
   },
   {
    "duration": 2,
    "start_time": "2022-02-23T03:03:22.261Z"
   },
   {
    "duration": 76,
    "start_time": "2022-02-23T03:03:22.265Z"
   },
   {
    "duration": 3,
    "start_time": "2022-02-23T03:03:22.343Z"
   },
   {
    "duration": 3,
    "start_time": "2022-02-23T03:03:22.348Z"
   },
   {
    "duration": 4319,
    "start_time": "2022-02-23T03:03:22.353Z"
   },
   {
    "duration": 3,
    "start_time": "2022-02-23T03:03:26.674Z"
   },
   {
    "duration": 13,
    "start_time": "2022-02-23T03:03:26.678Z"
   },
   {
    "duration": 3,
    "start_time": "2022-02-23T03:03:26.692Z"
   },
   {
    "duration": 33,
    "start_time": "2022-02-23T03:04:10.639Z"
   },
   {
    "duration": 32,
    "start_time": "2022-02-23T03:07:40.837Z"
   },
   {
    "duration": 3,
    "start_time": "2022-02-23T03:07:41.516Z"
   },
   {
    "duration": 3,
    "start_time": "2022-02-23T03:10:59.797Z"
   },
   {
    "duration": 23,
    "start_time": "2022-02-23T03:11:35.767Z"
   },
   {
    "duration": 5,
    "start_time": "2022-02-23T03:11:54.719Z"
   },
   {
    "duration": 6,
    "start_time": "2022-02-23T03:12:12.650Z"
   },
   {
    "duration": 4,
    "start_time": "2022-02-23T03:12:23.054Z"
   },
   {
    "duration": 4,
    "start_time": "2022-02-23T03:12:37.002Z"
   },
   {
    "duration": 6,
    "start_time": "2022-02-23T03:12:45.022Z"
   },
   {
    "duration": 4,
    "start_time": "2022-02-23T03:13:09.116Z"
   },
   {
    "duration": 4,
    "start_time": "2022-02-23T03:13:13.823Z"
   },
   {
    "duration": 5,
    "start_time": "2022-02-23T03:13:14.965Z"
   },
   {
    "duration": 5,
    "start_time": "2022-02-23T03:13:16.025Z"
   },
   {
    "duration": 2,
    "start_time": "2022-02-23T03:14:43.929Z"
   },
   {
    "duration": 48,
    "start_time": "2022-02-23T03:14:44.376Z"
   },
   {
    "duration": 3,
    "start_time": "2022-02-23T03:14:45.233Z"
   },
   {
    "duration": 3,
    "start_time": "2022-02-23T03:14:59.135Z"
   },
   {
    "duration": 1481,
    "start_time": "2022-02-23T03:18:28.034Z"
   },
   {
    "duration": 4,
    "start_time": "2022-02-23T03:18:29.516Z"
   },
   {
    "duration": 3,
    "start_time": "2022-02-23T03:19:35.463Z"
   },
   {
    "duration": 1315,
    "start_time": "2022-02-23T03:19:35.468Z"
   },
   {
    "duration": 4,
    "start_time": "2022-02-23T03:19:36.785Z"
   },
   {
    "duration": 12,
    "start_time": "2022-02-23T03:20:27.537Z"
   },
   {
    "duration": 3,
    "start_time": "2022-02-23T03:20:28.021Z"
   },
   {
    "duration": 3,
    "start_time": "2022-02-23T03:21:08.895Z"
   },
   {
    "duration": 3,
    "start_time": "2022-02-23T03:25:03.448Z"
   },
   {
    "duration": 37,
    "start_time": "2022-02-23T03:25:06.059Z"
   },
   {
    "duration": 3,
    "start_time": "2022-02-23T03:25:06.622Z"
   },
   {
    "duration": 9,
    "start_time": "2022-02-23T03:36:53.357Z"
   },
   {
    "duration": 6,
    "start_time": "2022-02-23T03:37:06.222Z"
   },
   {
    "duration": 6,
    "start_time": "2022-02-23T03:37:30.682Z"
   },
   {
    "duration": 6,
    "start_time": "2022-02-23T03:38:06.098Z"
   },
   {
    "duration": 1014,
    "start_time": "2022-02-23T03:42:48.838Z"
   },
   {
    "duration": 29,
    "start_time": "2022-02-23T03:42:49.854Z"
   },
   {
    "duration": 7,
    "start_time": "2022-02-23T03:42:49.885Z"
   },
   {
    "duration": 4,
    "start_time": "2022-02-23T03:42:49.894Z"
   },
   {
    "duration": 4,
    "start_time": "2022-02-23T03:42:49.899Z"
   },
   {
    "duration": 5,
    "start_time": "2022-02-23T03:42:49.905Z"
   },
   {
    "duration": 21,
    "start_time": "2022-02-23T03:42:49.912Z"
   },
   {
    "duration": 3,
    "start_time": "2022-02-23T03:42:49.935Z"
   },
   {
    "duration": 48,
    "start_time": "2022-02-23T03:42:49.940Z"
   },
   {
    "duration": 3,
    "start_time": "2022-02-23T03:42:49.990Z"
   },
   {
    "duration": 2,
    "start_time": "2022-02-23T03:42:49.995Z"
   },
   {
    "duration": 1297,
    "start_time": "2022-02-23T03:42:49.999Z"
   },
   {
    "duration": 3,
    "start_time": "2022-02-23T03:42:51.298Z"
   },
   {
    "duration": 11,
    "start_time": "2022-02-23T03:42:51.303Z"
   },
   {
    "duration": 16,
    "start_time": "2022-02-23T03:42:51.315Z"
   },
   {
    "duration": 31,
    "start_time": "2022-02-23T03:42:51.332Z"
   },
   {
    "duration": 3,
    "start_time": "2022-02-23T03:42:51.364Z"
   },
   {
    "duration": 11,
    "start_time": "2022-02-23T03:42:51.368Z"
   },
   {
    "duration": 1756,
    "start_time": "2022-02-23T05:33:09.470Z"
   },
   {
    "duration": 56,
    "start_time": "2022-02-23T05:33:11.229Z"
   },
   {
    "duration": 9,
    "start_time": "2022-02-23T05:33:11.287Z"
   },
   {
    "duration": 7,
    "start_time": "2022-02-23T05:33:11.696Z"
   },
   {
    "duration": 6,
    "start_time": "2022-02-23T05:34:22.812Z"
   },
   {
    "duration": 8,
    "start_time": "2022-02-23T05:34:23.728Z"
   },
   {
    "duration": 7,
    "start_time": "2022-02-23T05:34:24.720Z"
   },
   {
    "duration": 4,
    "start_time": "2022-02-23T05:35:42.400Z"
   },
   {
    "duration": 85,
    "start_time": "2022-02-23T05:35:43.104Z"
   },
   {
    "duration": 6,
    "start_time": "2022-02-23T05:35:43.598Z"
   },
   {
    "duration": 4,
    "start_time": "2022-02-23T05:36:13.275Z"
   },
   {
    "duration": 2132,
    "start_time": "2022-02-23T05:36:14.116Z"
   },
   {
    "duration": 6,
    "start_time": "2022-02-23T05:36:16.251Z"
   },
   {
    "duration": 26,
    "start_time": "2022-02-23T05:36:43.974Z"
   },
   {
    "duration": 5,
    "start_time": "2022-02-23T05:36:44.419Z"
   },
   {
    "duration": 57,
    "start_time": "2022-02-23T05:37:12.630Z"
   },
   {
    "duration": 5,
    "start_time": "2022-02-23T05:37:12.818Z"
   },
   {
    "duration": 286,
    "start_time": "2022-02-23T06:41:07.446Z"
   },
   {
    "duration": 972,
    "start_time": "2022-02-23T06:41:12.577Z"
   },
   {
    "duration": 38,
    "start_time": "2022-02-23T06:41:13.550Z"
   },
   {
    "duration": 6,
    "start_time": "2022-02-23T06:41:14.621Z"
   },
   {
    "duration": 4,
    "start_time": "2022-02-23T06:41:15.903Z"
   },
   {
    "duration": 9,
    "start_time": "2022-02-23T06:41:16.351Z"
   },
   {
    "duration": 3128,
    "start_time": "2022-02-23T06:41:42.211Z"
   },
   {
    "duration": 8,
    "start_time": "2022-02-23T06:42:57.762Z"
   },
   {
    "duration": 297,
    "start_time": "2022-02-23T06:43:05.431Z"
   },
   {
    "duration": 253,
    "start_time": "2022-02-23T06:43:11.238Z"
   },
   {
    "duration": 257,
    "start_time": "2022-02-23T06:43:25.430Z"
   },
   {
    "duration": 262,
    "start_time": "2022-02-23T06:44:00.079Z"
   },
   {
    "duration": 473,
    "start_time": "2022-02-23T06:44:23.283Z"
   },
   {
    "duration": 272,
    "start_time": "2022-02-23T06:44:36.482Z"
   },
   {
    "duration": 380,
    "start_time": "2022-02-23T06:44:44.135Z"
   },
   {
    "duration": 325,
    "start_time": "2022-02-23T06:46:12.086Z"
   },
   {
    "duration": 297,
    "start_time": "2022-02-23T06:46:23.982Z"
   },
   {
    "duration": 4,
    "start_time": "2022-02-23T06:46:58.080Z"
   },
   {
    "duration": 5,
    "start_time": "2022-02-23T06:47:00.877Z"
   },
   {
    "duration": 5,
    "start_time": "2022-02-23T06:47:06.419Z"
   },
   {
    "duration": 3,
    "start_time": "2022-02-23T06:47:21.505Z"
   },
   {
    "duration": 3,
    "start_time": "2022-02-23T06:47:42.489Z"
   },
   {
    "duration": 245,
    "start_time": "2022-02-23T06:47:58.289Z"
   },
   {
    "duration": 3,
    "start_time": "2022-02-23T06:48:08.313Z"
   },
   {
    "duration": 4,
    "start_time": "2022-02-23T06:48:23.452Z"
   },
   {
    "duration": 3,
    "start_time": "2022-02-23T06:48:44.030Z"
   },
   {
    "duration": 3,
    "start_time": "2022-02-23T06:48:57.076Z"
   },
   {
    "duration": 47,
    "start_time": "2022-02-23T06:48:57.810Z"
   },
   {
    "duration": 3,
    "start_time": "2022-02-23T06:48:58.772Z"
   },
   {
    "duration": 2,
    "start_time": "2022-02-23T06:49:03.736Z"
   },
   {
    "duration": 1134,
    "start_time": "2022-02-23T06:49:04.328Z"
   },
   {
    "duration": 4,
    "start_time": "2022-02-23T06:49:05.774Z"
   },
   {
    "duration": 9,
    "start_time": "2022-02-23T06:49:11.835Z"
   },
   {
    "duration": 3,
    "start_time": "2022-02-23T06:49:12.296Z"
   },
   {
    "duration": 27,
    "start_time": "2022-02-23T06:49:26.203Z"
   },
   {
    "duration": 3,
    "start_time": "2022-02-23T06:49:27.199Z"
   },
   {
    "duration": 20,
    "start_time": "2022-02-23T07:00:42.008Z"
   },
   {
    "duration": 3,
    "start_time": "2022-02-23T07:00:42.443Z"
   },
   {
    "duration": 8,
    "start_time": "2022-02-23T07:02:47.300Z"
   },
   {
    "duration": 4,
    "start_time": "2022-02-23T07:02:48.440Z"
   },
   {
    "duration": 4,
    "start_time": "2022-02-23T07:03:44.221Z"
   },
   {
    "duration": 4,
    "start_time": "2022-02-23T07:03:45.146Z"
   },
   {
    "duration": 5,
    "start_time": "2022-02-23T07:03:46.337Z"
   },
   {
    "duration": 11,
    "start_time": "2022-02-23T07:03:52.219Z"
   },
   {
    "duration": 3,
    "start_time": "2022-02-23T07:03:52.753Z"
   },
   {
    "duration": 89,
    "start_time": "2022-02-23T07:05:04.859Z"
   },
   {
    "duration": 80,
    "start_time": "2022-02-23T07:05:13.466Z"
   },
   {
    "duration": 243,
    "start_time": "2022-02-23T07:05:21.668Z"
   },
   {
    "duration": 12,
    "start_time": "2022-02-23T07:06:01.010Z"
   },
   {
    "duration": 7,
    "start_time": "2022-02-23T11:01:36.411Z"
   },
   {
    "duration": 10,
    "start_time": "2022-02-23T11:01:44.566Z"
   },
   {
    "duration": 9,
    "start_time": "2022-02-23T11:03:37.231Z"
   },
   {
    "duration": 10,
    "start_time": "2022-02-23T11:04:00.183Z"
   }
  ],
  "kernelspec": {
   "display_name": "Python 3",
   "language": "python",
   "name": "python3"
  },
  "language_info": {
   "codemirror_mode": {
    "name": "ipython",
    "version": 3
   },
   "file_extension": ".py",
   "mimetype": "text/x-python",
   "name": "python",
   "nbconvert_exporter": "python",
   "pygments_lexer": "ipython3",
   "version": "3.8.8"
  },
  "toc": {
   "base_numbering": 1,
   "nav_menu": {},
   "number_sections": true,
   "sideBar": true,
   "skip_h1_title": true,
   "title_cell": "Table of Contents",
   "title_sidebar": "Contents",
   "toc_cell": false,
   "toc_position": {},
   "toc_section_display": true,
   "toc_window_display": true
  }
 },
 "nbformat": 4,
 "nbformat_minor": 4
}
