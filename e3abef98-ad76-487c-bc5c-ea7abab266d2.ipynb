{
 "cells": [
  {
   "cell_type": "markdown",
   "metadata": {
    "pycharm": {
     "name": "#%% md\n"
    }
   },
   "source": [
    "<div style=\"border:solid green 2px; padding: 20px\"> \n",
    "    \n",
    "**Комментарий ревьюера**\n",
    "\n",
    "Привет! Меня зовут Сысоева Вера.\n",
    "    \n",
    "Далее в файле мои комментарии ты сможешь найти в ячейках, аналогичных данной ( если рамки комментария зелёные и отмечены **#ок** - всё сделано правильно; жёлтые и отмечены **#можно лучше** - есть замечания, но не критично; красные с пометкой **#ошибка** - нужно переделать). Не удаляй эти комментарии и постарайся учесть их в ходе выполнения проекта.\n",
    "    \n",
    "Я буду поддерживать версионность комментариев, и при следующих итерациях комментарии будут выделены, как \"Комментраии ревьюера - 2 (3 и.т.д.)\"\n",
    "    \n",
    "Если у тебя есть замечания, возражения и вопросы, ты можешь писать свои комментарии, по возможности выделяй их так же цветом (например, синим), чтоб их можно было легко отделить от текста проекта. \n",
    "    \n",
    "Кстати, предлагаю сразу общаться на \"ты\".\n",
    "    \n",
    "Увидев у тебя ошибку, в первый раз я лишь укажу на ее наличие и дам тебе возможность самостоятельно найти и исправить ее. На реальной работе твой начальник будет поступать так же, а я пытаюсь подготовить тебя именно к работе аналитиком. Но если ты пока не справишься с такой задачей - при следующей проверке я дам более точную подсказку.\n",
    "    \n",
    "</div>"
   ]
  },
  {
   "cell_type": "markdown",
   "metadata": {
    "pycharm": {
     "name": "#%% md\n"
    }
   },
   "source": [
    "# Исследование надёжности заёмщиков\n",
    "\n",
    "Заказчик — кредитный отдел банка. Нужно разобраться, влияет ли семейное положение и количество детей клиента на факт погашения кредита в срок. Входные данные от банка — статистика о платёжеспособности клиентов.\n",
    "\n",
    "Результаты исследования будут учтены при построении модели **кредитного скоринга** — специальной системы, которая оценивает способность потенциального заёмщика вернуть кредит банку."
   ]
  },
  {
   "cell_type": "markdown",
   "metadata": {
    "pycharm": {
     "name": "#%% md\n"
    }
   },
   "source": [
    "## Описание данных\n",
    "* children - количество детей в семье\n",
    "* days_employed - трудовой стаж в днях\n",
    "* dob_years - возраст клиента в годах\n",
    "* education - образование клиента\n",
    "* education_id - идентификатор образования\n",
    "* family_status - семейное положение\n",
    "* family_status_id - идентификатор семейного положения\n",
    "* gender - пол клиента\n",
    "* income_type - тип занятости\n",
    "* debt - имел ли задолженность по возврату кредитов\n",
    "* total_income - доход в месяц\n",
    "* purpose - цель получения кредита"
   ]
  },
  {
   "cell_type": "markdown",
   "metadata": {
    "pycharm": {
     "name": "#%% md\n"
    }
   },
   "source": [
    "## Шаг 1. Откройте файл с данными и изучите общую информацию"
   ]
  },
  {
   "cell_type": "code",
   "execution_count": 1,
   "metadata": {
    "pycharm": {
     "name": "#%%\n"
    }
   },
   "outputs": [],
   "source": [
    "#импорт используемых библиотек\n",
    "import pandas as pd\n",
    "from pymystem3 import Mystem\n",
    "from nltk.stem import SnowballStemmer"
   ]
  },
  {
   "cell_type": "code",
   "execution_count": 2,
   "metadata": {
    "pycharm": {
     "name": "#%%\n"
    }
   },
   "outputs": [],
   "source": [
    "df = pd.read_csv('/datasets/data.csv') #чтение файла csv в датафрейм df"
   ]
  },
  {
   "cell_type": "code",
   "execution_count": 3,
   "metadata": {
    "pycharm": {
     "name": "#%%\n"
    }
   },
   "outputs": [
    {
     "name": "stdout",
     "output_type": "stream",
     "text": [
      "<class 'pandas.core.frame.DataFrame'>\n",
      "RangeIndex: 21525 entries, 0 to 21524\n",
      "Data columns (total 12 columns):\n",
      "children            21525 non-null int64\n",
      "days_employed       19351 non-null float64\n",
      "dob_years           21525 non-null int64\n",
      "education           21525 non-null object\n",
      "education_id        21525 non-null int64\n",
      "family_status       21525 non-null object\n",
      "family_status_id    21525 non-null int64\n",
      "gender              21525 non-null object\n",
      "income_type         21525 non-null object\n",
      "debt                21525 non-null int64\n",
      "total_income        19351 non-null float64\n",
      "purpose             21525 non-null object\n",
      "dtypes: float64(2), int64(5), object(5)\n",
      "memory usage: 2.0+ MB\n"
     ]
    }
   ],
   "source": [
    "df.info() #вывод общей информации о датафрейме"
   ]
  },
  {
   "cell_type": "code",
   "execution_count": 4,
   "metadata": {
    "scrolled": false,
    "pycharm": {
     "name": "#%%\n"
    }
   },
   "outputs": [
    {
     "data": {
      "text/html": [
       "<div>\n",
       "<style scoped>\n",
       "    .dataframe tbody tr th:only-of-type {\n",
       "        vertical-align: middle;\n",
       "    }\n",
       "\n",
       "    .dataframe tbody tr th {\n",
       "        vertical-align: top;\n",
       "    }\n",
       "\n",
       "    .dataframe thead th {\n",
       "        text-align: right;\n",
       "    }\n",
       "</style>\n",
       "<table border=\"1\" class=\"dataframe\">\n",
       "  <thead>\n",
       "    <tr style=\"text-align: right;\">\n",
       "      <th></th>\n",
       "      <th>children</th>\n",
       "      <th>days_employed</th>\n",
       "      <th>dob_years</th>\n",
       "      <th>education</th>\n",
       "      <th>education_id</th>\n",
       "      <th>family_status</th>\n",
       "      <th>family_status_id</th>\n",
       "      <th>gender</th>\n",
       "      <th>income_type</th>\n",
       "      <th>debt</th>\n",
       "      <th>total_income</th>\n",
       "      <th>purpose</th>\n",
       "    </tr>\n",
       "  </thead>\n",
       "  <tbody>\n",
       "    <tr>\n",
       "      <td>0</td>\n",
       "      <td>1</td>\n",
       "      <td>-8437.673028</td>\n",
       "      <td>42</td>\n",
       "      <td>высшее</td>\n",
       "      <td>0</td>\n",
       "      <td>женат / замужем</td>\n",
       "      <td>0</td>\n",
       "      <td>F</td>\n",
       "      <td>сотрудник</td>\n",
       "      <td>0</td>\n",
       "      <td>253875.639453</td>\n",
       "      <td>покупка жилья</td>\n",
       "    </tr>\n",
       "    <tr>\n",
       "      <td>1</td>\n",
       "      <td>1</td>\n",
       "      <td>-4024.803754</td>\n",
       "      <td>36</td>\n",
       "      <td>среднее</td>\n",
       "      <td>1</td>\n",
       "      <td>женат / замужем</td>\n",
       "      <td>0</td>\n",
       "      <td>F</td>\n",
       "      <td>сотрудник</td>\n",
       "      <td>0</td>\n",
       "      <td>112080.014102</td>\n",
       "      <td>приобретение автомобиля</td>\n",
       "    </tr>\n",
       "    <tr>\n",
       "      <td>2</td>\n",
       "      <td>0</td>\n",
       "      <td>-5623.422610</td>\n",
       "      <td>33</td>\n",
       "      <td>Среднее</td>\n",
       "      <td>1</td>\n",
       "      <td>женат / замужем</td>\n",
       "      <td>0</td>\n",
       "      <td>M</td>\n",
       "      <td>сотрудник</td>\n",
       "      <td>0</td>\n",
       "      <td>145885.952297</td>\n",
       "      <td>покупка жилья</td>\n",
       "    </tr>\n",
       "    <tr>\n",
       "      <td>3</td>\n",
       "      <td>3</td>\n",
       "      <td>-4124.747207</td>\n",
       "      <td>32</td>\n",
       "      <td>среднее</td>\n",
       "      <td>1</td>\n",
       "      <td>женат / замужем</td>\n",
       "      <td>0</td>\n",
       "      <td>M</td>\n",
       "      <td>сотрудник</td>\n",
       "      <td>0</td>\n",
       "      <td>267628.550329</td>\n",
       "      <td>дополнительное образование</td>\n",
       "    </tr>\n",
       "    <tr>\n",
       "      <td>4</td>\n",
       "      <td>0</td>\n",
       "      <td>340266.072047</td>\n",
       "      <td>53</td>\n",
       "      <td>среднее</td>\n",
       "      <td>1</td>\n",
       "      <td>гражданский брак</td>\n",
       "      <td>1</td>\n",
       "      <td>F</td>\n",
       "      <td>пенсионер</td>\n",
       "      <td>0</td>\n",
       "      <td>158616.077870</td>\n",
       "      <td>сыграть свадьбу</td>\n",
       "    </tr>\n",
       "  </tbody>\n",
       "</table>\n",
       "</div>"
      ],
      "text/plain": [
       "   children  days_employed  dob_years education  education_id  \\\n",
       "0         1   -8437.673028         42    высшее             0   \n",
       "1         1   -4024.803754         36   среднее             1   \n",
       "2         0   -5623.422610         33   Среднее             1   \n",
       "3         3   -4124.747207         32   среднее             1   \n",
       "4         0  340266.072047         53   среднее             1   \n",
       "\n",
       "      family_status  family_status_id gender income_type  debt   total_income  \\\n",
       "0   женат / замужем                 0      F   сотрудник     0  253875.639453   \n",
       "1   женат / замужем                 0      F   сотрудник     0  112080.014102   \n",
       "2   женат / замужем                 0      M   сотрудник     0  145885.952297   \n",
       "3   женат / замужем                 0      M   сотрудник     0  267628.550329   \n",
       "4  гражданский брак                 1      F   пенсионер     0  158616.077870   \n",
       "\n",
       "                      purpose  \n",
       "0               покупка жилья  \n",
       "1     приобретение автомобиля  \n",
       "2               покупка жилья  \n",
       "3  дополнительное образование  \n",
       "4             сыграть свадьбу  "
      ]
     },
     "execution_count": 4,
     "metadata": {},
     "output_type": "execute_result"
    }
   ],
   "source": [
    "df.head(5) #вывод первых 5 строк датафрейма"
   ]
  },
  {
   "cell_type": "markdown",
   "metadata": {
    "pycharm": {
     "name": "#%% md\n"
    }
   },
   "source": [
    "**Вывод**"
   ]
  },
  {
   "cell_type": "markdown",
   "metadata": {
    "pycharm": {
     "name": "#%% md\n"
    }
   },
   "source": [
    "В файле 12 колонок, 2 колонки типа float, 5 колонок типа int и 5 колонок типа object."
   ]
  },
  {
   "cell_type": "markdown",
   "metadata": {
    "pycharm": {
     "name": "#%% md\n"
    }
   },
   "source": [
    "<div style=\"border:solid green 2px; padding: 20px\"> \n",
    "    \n",
    "**Комментарий ревьюера**\n",
    "\n",
    "**#ок**\n",
    "    \n",
    "Отлично, все верно подгружено и просмотрено.\n",
    "\n",
    "Также для поиска проблем в данных можно использовать `describe` для числовых переменных и `unique` для категориальных\n",
    "\n",
    "</div>"
   ]
  },
  {
   "cell_type": "markdown",
   "metadata": {
    "pycharm": {
     "name": "#%% md\n"
    }
   },
   "source": [
    "## Шаг 2. Предобработка данных"
   ]
  },
  {
   "cell_type": "markdown",
   "metadata": {
    "pycharm": {
     "name": "#%% md\n"
    }
   },
   "source": [
    "### Обработка пропусков"
   ]
  },
  {
   "cell_type": "markdown",
   "metadata": {
    "pycharm": {
     "name": "#%% md\n"
    }
   },
   "source": [
    "#### Столбец children"
   ]
  },
  {
   "cell_type": "code",
   "execution_count": 5,
   "metadata": {
    "pycharm": {
     "name": "#%%\n"
    }
   },
   "outputs": [
    {
     "data": {
      "text/plain": [
       " 0     14149\n",
       " 1      4818\n",
       " 2      2055\n",
       " 3       330\n",
       " 20       76\n",
       "-1        47\n",
       " 4        41\n",
       " 5         9\n",
       "Name: children, dtype: int64"
      ]
     },
     "execution_count": 5,
     "metadata": {},
     "output_type": "execute_result"
    }
   ],
   "source": [
    "df['children'].value_counts() #получение уникальных значений"
   ]
  },
  {
   "cell_type": "markdown",
   "metadata": {
    "pycharm": {
     "name": "#%% md\n"
    }
   },
   "source": [
    "В столбце children есть неясные значения (-1 и 20), но пропусков нет  \n",
    "Можно предположить, что это ошибки, возникшие при заполнении анкеты, и заменить значение -1 на 1, а 20 заменить на 2"
   ]
  },
  {
   "cell_type": "code",
   "execution_count": 6,
   "metadata": {
    "pycharm": {
     "name": "#%%\n"
    }
   },
   "outputs": [
    {
     "data": {
      "text/plain": [
       "0    14149\n",
       "1     4865\n",
       "2     2131\n",
       "3      330\n",
       "4       41\n",
       "5        9\n",
       "Name: children, dtype: int64"
      ]
     },
     "execution_count": 6,
     "metadata": {},
     "output_type": "execute_result"
    }
   ],
   "source": [
    "df.loc[(df['children'] == -1), 'children'] = 1 #замена в столбце children значений, равных -1\n",
    "\n",
    "df.loc[(df['children'] == 20), 'children'] = 2#замена в столбце children значений, равных 20\n",
    "\n",
    "df['children'].value_counts() #получение уникальных значений"
   ]
  },
  {
   "cell_type": "markdown",
   "metadata": {
    "pycharm": {
     "name": "#%% md\n"
    }
   },
   "source": [
    "Теперь данные похожи на правду!"
   ]
  },
  {
   "cell_type": "markdown",
   "metadata": {
    "pycharm": {
     "name": "#%% md\n"
    }
   },
   "source": [
    "<div style=\"border:solid green 2px; padding: 20px\"> \n",
    "    \n",
    "**Комментарий ревьюера**\n",
    "\n",
    "**#ок**\n",
    "    \n",
    "Правильно\n",
    "\n",
    "</div>"
   ]
  },
  {
   "cell_type": "markdown",
   "metadata": {
    "pycharm": {
     "name": "#%% md\n"
    }
   },
   "source": [
    "#### Столбец days_employed"
   ]
  },
  {
   "cell_type": "code",
   "execution_count": 7,
   "metadata": {
    "pycharm": {
     "name": "#%%\n"
    }
   },
   "outputs": [
    {
     "data": {
      "text/plain": [
       "-986.927316     1\n",
       "-7026.359174    1\n",
       "-4236.274243    1\n",
       "-6620.396473    1\n",
       "-1238.560080    1\n",
       "               ..\n",
       "-2849.351119    1\n",
       "-5619.328204    1\n",
       "-448.829898     1\n",
       "-1687.038672    1\n",
       "-582.538413     1\n",
       "Name: days_employed, Length: 19351, dtype: int64"
      ]
     },
     "execution_count": 7,
     "metadata": {},
     "output_type": "execute_result"
    }
   ],
   "source": [
    "df['days_employed'].value_counts() #получение уникальных значений"
   ]
  },
  {
   "cell_type": "markdown",
   "metadata": {
    "pycharm": {
     "name": "#%% md\n"
    }
   },
   "source": [
    "Так как в столбце слишком много различных значений, то значений NaN (если они есть) не видно. Чтобы проверить их наличие, воспользуемся методом isna()"
   ]
  },
  {
   "cell_type": "code",
   "execution_count": 8,
   "metadata": {
    "pycharm": {
     "name": "#%%\n"
    }
   },
   "outputs": [
    {
     "data": {
      "text/plain": [
       "2174"
      ]
     },
     "execution_count": 8,
     "metadata": {},
     "output_type": "execute_result"
    }
   ],
   "source": [
    "len(df[df['days_employed'].isna()]) #вывод количества тех строк, где есть NaN"
   ]
  },
  {
   "cell_type": "markdown",
   "metadata": {
    "pycharm": {
     "name": "#%% md\n"
    }
   },
   "source": [
    "Ого, в этом столбце целых 2147 пропусков!  \n",
    "\n",
    "Заменим пропущенные значения на среднее при помощи метода mean()"
   ]
  },
  {
   "cell_type": "code",
   "execution_count": 9,
   "metadata": {
    "pycharm": {
     "name": "#%%\n"
    }
   },
   "outputs": [
    {
     "data": {
      "text/plain": [
       "0"
      ]
     },
     "execution_count": 9,
     "metadata": {},
     "output_type": "execute_result"
    }
   ],
   "source": [
    "df['days_employed'] = df['days_employed'].fillna(value = df['days_employed'].mean()) \n",
    "#замена пропущенных значений средним по столбцу\n",
    "\n",
    "len(df[df['days_employed'].isna()])  #вывод количества тех строк, где в заданном столбце есть NaN"
   ]
  },
  {
   "cell_type": "markdown",
   "metadata": {
    "pycharm": {
     "name": "#%% md\n"
    }
   },
   "source": [
    "<div style=\"border:solid green 2px; padding: 20px\"> \n",
    "    \n",
    "**Комментарий ревьюера**\n",
    "\n",
    "**#ок**\n",
    "   \n",
    "Все верно\n",
    "\n",
    "</div>"
   ]
  },
  {
   "cell_type": "markdown",
   "metadata": {
    "pycharm": {
     "name": "#%% md\n"
    }
   },
   "source": [
    "Пропуски устранены"
   ]
  },
  {
   "cell_type": "markdown",
   "metadata": {
    "pycharm": {
     "name": "#%% md\n"
    }
   },
   "source": [
    "#### Столбец dob_years"
   ]
  },
  {
   "cell_type": "code",
   "execution_count": 10,
   "metadata": {
    "pycharm": {
     "name": "#%%\n"
    }
   },
   "outputs": [
    {
     "data": {
      "text/plain": [
       "count    21525.000000\n",
       "mean        43.293380\n",
       "std         12.574584\n",
       "min          0.000000\n",
       "25%         33.000000\n",
       "50%         42.000000\n",
       "75%         53.000000\n",
       "max         75.000000\n",
       "Name: dob_years, dtype: float64"
      ]
     },
     "execution_count": 10,
     "metadata": {},
     "output_type": "execute_result"
    }
   ],
   "source": [
    "#df['dob_years'].value_counts().sort_index() #получение уникальных значений и сортировка для удобства восприятия\n",
    "df['dob_years'].describe() #лучше использовать describe(), более компактный вывод и сразу видно min и max"
   ]
  },
  {
   "cell_type": "markdown",
   "metadata": {
    "pycharm": {
     "name": "#%% md\n"
    }
   },
   "source": [
    "В этом столбце пропуском можно считать значение 0  \n",
    "Заменим его на средний возраст при помощи метода mean()"
   ]
  },
  {
   "cell_type": "code",
   "execution_count": 11,
   "metadata": {
    "pycharm": {
     "name": "#%%\n"
    }
   },
   "outputs": [
    {
     "data": {
      "text/plain": [
       "count    21525.000000\n",
       "mean        43.495145\n",
       "std         12.218213\n",
       "min         19.000000\n",
       "25%         34.000000\n",
       "50%         43.000000\n",
       "75%         53.000000\n",
       "max         75.000000\n",
       "Name: dob_years, dtype: float64"
      ]
     },
     "execution_count": 11,
     "metadata": {},
     "output_type": "execute_result"
    }
   ],
   "source": [
    "df.loc[(df['dob_years'] == 0), 'dob_years'] = int(df['dob_years'].mean()) \n",
    "#замена значения 0 средним по столбцу и приведение к типу int, т.к среднее - вещественное\n",
    "df['dob_years'].describe()"
   ]
  },
  {
   "cell_type": "markdown",
   "metadata": {
    "pycharm": {
     "name": "#%% md\n"
    }
   },
   "source": [
    "Теперь видно, что минимальный возраст 19, а максимальный - 75  \n",
    "Подходит!"
   ]
  },
  {
   "cell_type": "markdown",
   "metadata": {
    "pycharm": {
     "name": "#%% md\n"
    }
   },
   "source": [
    "#### Столбец education"
   ]
  },
  {
   "cell_type": "code",
   "execution_count": 12,
   "metadata": {
    "scrolled": false,
    "pycharm": {
     "name": "#%%\n"
    }
   },
   "outputs": [
    {
     "data": {
      "text/plain": [
       "array(['высшее', 'среднее', 'Среднее', 'СРЕДНЕЕ', 'ВЫСШЕЕ',\n",
       "       'неоконченное высшее', 'начальное', 'Высшее',\n",
       "       'НЕОКОНЧЕННОЕ ВЫСШЕЕ', 'Неоконченное высшее', 'НАЧАЛЬНОЕ',\n",
       "       'Начальное', 'Ученая степень', 'УЧЕНАЯ СТЕПЕНЬ', 'ученая степень'],\n",
       "      dtype=object)"
      ]
     },
     "execution_count": 12,
     "metadata": {},
     "output_type": "execute_result"
    }
   ],
   "source": [
    "#df['education'].value_counts() #получение уникальных значений\n",
    "df['education'].unique() #лучше использовать unique() для компактности вывода"
   ]
  },
  {
   "cell_type": "markdown",
   "metadata": {
    "pycharm": {
     "name": "#%% md\n"
    }
   },
   "source": [
    "Пропусков нет"
   ]
  },
  {
   "cell_type": "markdown",
   "metadata": {
    "pycharm": {
     "name": "#%% md\n"
    }
   },
   "source": [
    "#### Столбец education_id"
   ]
  },
  {
   "cell_type": "code",
   "execution_count": 13,
   "metadata": {
    "pycharm": {
     "name": "#%%\n"
    }
   },
   "outputs": [
    {
     "data": {
      "text/plain": [
       "1    15233\n",
       "0     5260\n",
       "2      744\n",
       "3      282\n",
       "4        6\n",
       "Name: education_id, dtype: int64"
      ]
     },
     "execution_count": 13,
     "metadata": {},
     "output_type": "execute_result"
    }
   ],
   "source": [
    "df['education_id'].value_counts() #получение уникальных значений"
   ]
  },
  {
   "cell_type": "markdown",
   "metadata": {
    "pycharm": {
     "name": "#%% md\n"
    }
   },
   "source": [
    "Тут все отлично"
   ]
  },
  {
   "cell_type": "markdown",
   "metadata": {
    "pycharm": {
     "name": "#%% md\n"
    }
   },
   "source": [
    "#### Столбец family_status"
   ]
  },
  {
   "cell_type": "code",
   "execution_count": 14,
   "metadata": {
    "pycharm": {
     "name": "#%%\n"
    }
   },
   "outputs": [
    {
     "data": {
      "text/plain": [
       "женат / замужем          12380\n",
       "гражданский брак          4177\n",
       "Не женат / не замужем     2813\n",
       "в разводе                 1195\n",
       "вдовец / вдова             960\n",
       "Name: family_status, dtype: int64"
      ]
     },
     "execution_count": 14,
     "metadata": {},
     "output_type": "execute_result"
    }
   ],
   "source": [
    "df['family_status'].value_counts() #получение уникальных значений"
   ]
  },
  {
   "cell_type": "markdown",
   "metadata": {
    "pycharm": {
     "name": "#%% md\n"
    }
   },
   "source": [
    "Все хорошо"
   ]
  },
  {
   "cell_type": "markdown",
   "metadata": {
    "pycharm": {
     "name": "#%% md\n"
    }
   },
   "source": [
    "#### Столбец family_status_id"
   ]
  },
  {
   "cell_type": "code",
   "execution_count": 15,
   "metadata": {
    "pycharm": {
     "name": "#%%\n"
    }
   },
   "outputs": [
    {
     "data": {
      "text/plain": [
       "0    12380\n",
       "1     4177\n",
       "4     2813\n",
       "3     1195\n",
       "2      960\n",
       "Name: family_status_id, dtype: int64"
      ]
     },
     "execution_count": 15,
     "metadata": {},
     "output_type": "execute_result"
    }
   ],
   "source": [
    "df['family_status_id'].value_counts() #получение уникальных значений"
   ]
  },
  {
   "cell_type": "markdown",
   "metadata": {
    "pycharm": {
     "name": "#%% md\n"
    }
   },
   "source": [
    "Супер"
   ]
  },
  {
   "cell_type": "markdown",
   "metadata": {
    "pycharm": {
     "name": "#%% md\n"
    }
   },
   "source": [
    "#### Столбец gender"
   ]
  },
  {
   "cell_type": "code",
   "execution_count": 16,
   "metadata": {
    "pycharm": {
     "name": "#%%\n"
    }
   },
   "outputs": [
    {
     "data": {
      "text/plain": [
       "F      14236\n",
       "M       7288\n",
       "XNA        1\n",
       "Name: gender, dtype: int64"
      ]
     },
     "execution_count": 16,
     "metadata": {},
     "output_type": "execute_result"
    }
   ],
   "source": [
    "df['gender'].value_counts() #получение уникальных значений"
   ]
  },
  {
   "cell_type": "markdown",
   "metadata": {
    "pycharm": {
     "name": "#%% md\n"
    }
   },
   "source": [
    "Один раз встречается пропуск  \n",
    "Заменим его на F, т.к этот пол встречается почти вдвое чаще"
   ]
  },
  {
   "cell_type": "code",
   "execution_count": 17,
   "metadata": {
    "pycharm": {
     "name": "#%%\n"
    }
   },
   "outputs": [
    {
     "data": {
      "text/plain": [
       "F    14237\n",
       "M     7288\n",
       "Name: gender, dtype: int64"
      ]
     },
     "execution_count": 17,
     "metadata": {},
     "output_type": "execute_result"
    }
   ],
   "source": [
    "df.loc[(df['gender'] == 'XNA'), 'gender'] = 'F' #замена в столбце gender значения, равного XNA\n",
    "df['gender'].value_counts() #получение уникальных значений"
   ]
  },
  {
   "cell_type": "markdown",
   "metadata": {
    "pycharm": {
     "name": "#%% md\n"
    }
   },
   "source": [
    "#### Столбец income_type"
   ]
  },
  {
   "cell_type": "code",
   "execution_count": 18,
   "metadata": {
    "pycharm": {
     "name": "#%%\n"
    }
   },
   "outputs": [
    {
     "data": {
      "text/plain": [
       "сотрудник          11119\n",
       "компаньон           5085\n",
       "пенсионер           3856\n",
       "госслужащий         1459\n",
       "безработный            2\n",
       "предприниматель        2\n",
       "студент                1\n",
       "в декрете              1\n",
       "Name: income_type, dtype: int64"
      ]
     },
     "execution_count": 18,
     "metadata": {},
     "output_type": "execute_result"
    }
   ],
   "source": [
    "df['income_type'].value_counts() #получение уникальных значений"
   ]
  },
  {
   "cell_type": "markdown",
   "metadata": {
    "pycharm": {
     "name": "#%% md\n"
    }
   },
   "source": [
    "Отлично"
   ]
  },
  {
   "cell_type": "markdown",
   "metadata": {
    "pycharm": {
     "name": "#%% md\n"
    }
   },
   "source": [
    "#### Столбец dept"
   ]
  },
  {
   "cell_type": "code",
   "execution_count": 19,
   "metadata": {
    "pycharm": {
     "name": "#%%\n"
    }
   },
   "outputs": [
    {
     "data": {
      "text/plain": [
       "0    19784\n",
       "1     1741\n",
       "Name: debt, dtype: int64"
      ]
     },
     "execution_count": 19,
     "metadata": {},
     "output_type": "execute_result"
    }
   ],
   "source": [
    "df['debt'].value_counts() #получение уникальных значений"
   ]
  },
  {
   "cell_type": "markdown",
   "metadata": {
    "pycharm": {
     "name": "#%% md\n"
    }
   },
   "source": [
    "Супер"
   ]
  },
  {
   "cell_type": "markdown",
   "metadata": {
    "pycharm": {
     "name": "#%% md\n"
    }
   },
   "source": [
    "#### Столбец total_income"
   ]
  },
  {
   "cell_type": "code",
   "execution_count": 20,
   "metadata": {
    "pycharm": {
     "name": "#%%\n"
    }
   },
   "outputs": [
    {
     "data": {
      "text/plain": [
       "112874.418757    1\n",
       "133912.272223    1\n",
       "182036.676828    1\n",
       "122421.963500    1\n",
       "198271.837248    1\n",
       "                ..\n",
       "133299.194693    1\n",
       "115080.782380    1\n",
       "84896.781597     1\n",
       "153838.839212    1\n",
       "150014.128510    1\n",
       "Name: total_income, Length: 19351, dtype: int64"
      ]
     },
     "execution_count": 20,
     "metadata": {},
     "output_type": "execute_result"
    }
   ],
   "source": [
    "df['total_income'].value_counts() #получение уникальных значений"
   ]
  },
  {
   "cell_type": "markdown",
   "metadata": {
    "pycharm": {
     "name": "#%% md\n"
    }
   },
   "source": [
    "Снова воспользуемся методом isna()"
   ]
  },
  {
   "cell_type": "code",
   "execution_count": 21,
   "metadata": {
    "pycharm": {
     "name": "#%%\n"
    }
   },
   "outputs": [
    {
     "data": {
      "text/plain": [
       "2174"
      ]
     },
     "execution_count": 21,
     "metadata": {},
     "output_type": "execute_result"
    }
   ],
   "source": [
    "len(df[df['total_income'].isna()]) #вывод количествоа тех строк, где в заданном столбце есть NaN"
   ]
  },
  {
   "cell_type": "markdown",
   "metadata": {
    "pycharm": {
     "name": "#%% md\n"
    }
   },
   "source": [
    "Тоже 2174 пропусков, как в столбце days_employed  \n",
    "Тут явно есть связь...  \n",
    "Заменим на медианное значение"
   ]
  },
  {
   "cell_type": "code",
   "execution_count": 22,
   "metadata": {
    "pycharm": {
     "name": "#%%\n"
    }
   },
   "outputs": [
    {
     "data": {
      "text/plain": [
       "0"
      ]
     },
     "execution_count": 22,
     "metadata": {},
     "output_type": "execute_result"
    }
   ],
   "source": [
    "df['total_income'] = df['total_income'].fillna(value=df['total_income'].median())\n",
    "#замена пропущенных значенией медианным по столбцу\n",
    "\n",
    "len(df[df['total_income'].isna()]) #вывод количества тех строк, где в заданном столбце есть NaN"
   ]
  },
  {
   "cell_type": "markdown",
   "metadata": {
    "pycharm": {
     "name": "#%% md\n"
    }
   },
   "source": [
    "<div style=\"border:solid green 2px; padding: 20px\"> \n",
    "    \n",
    "**Комментарий ревьюера**\n",
    "\n",
    "**#ок**\n",
    "    \n",
    "Хорошо, медиана - верный выбор для заполнения пропусков\n",
    "\n",
    "</div>"
   ]
  },
  {
   "cell_type": "markdown",
   "metadata": {
    "pycharm": {
     "name": "#%% md\n"
    }
   },
   "source": [
    "#### Столбец purpose"
   ]
  },
  {
   "cell_type": "code",
   "execution_count": 23,
   "metadata": {
    "pycharm": {
     "name": "#%%\n"
    }
   },
   "outputs": [
    {
     "data": {
      "text/plain": [
       "свадьба                                   797\n",
       "на проведение свадьбы                     777\n",
       "сыграть свадьбу                           774\n",
       "операции с недвижимостью                  676\n",
       "покупка коммерческой недвижимости         664\n",
       "операции с жильем                         653\n",
       "покупка жилья для сдачи                   653\n",
       "операции с коммерческой недвижимостью     651\n",
       "покупка жилья                             647\n",
       "жилье                                     647\n",
       "покупка жилья для семьи                   641\n",
       "строительство собственной недвижимости    635\n",
       "недвижимость                              634\n",
       "операции со своей недвижимостью           630\n",
       "строительство жилой недвижимости          626\n",
       "покупка недвижимости                      624\n",
       "строительство недвижимости                620\n",
       "покупка своего жилья                      620\n",
       "ремонт жилью                              612\n",
       "покупка жилой недвижимости                607\n",
       "на покупку своего автомобиля              505\n",
       "заняться высшим образованием              496\n",
       "автомобиль                                495\n",
       "сделка с подержанным автомобилем          489\n",
       "свой автомобиль                           480\n",
       "на покупку подержанного автомобиля        479\n",
       "автомобили                                478\n",
       "на покупку автомобиля                     472\n",
       "дополнительное образование                462\n",
       "приобретение автомобиля                   462\n",
       "сделка с автомобилем                      455\n",
       "высшее образование                        453\n",
       "получение дополнительного образования     447\n",
       "образование                               447\n",
       "получение образования                     443\n",
       "профильное образование                    436\n",
       "получение высшего образования             426\n",
       "заняться образованием                     412\n",
       "Name: purpose, dtype: int64"
      ]
     },
     "execution_count": 23,
     "metadata": {},
     "output_type": "execute_result"
    }
   ],
   "source": [
    "df['purpose'].value_counts() #получение уникальных значений"
   ]
  },
  {
   "cell_type": "markdown",
   "metadata": {
    "pycharm": {
     "name": "#%% md\n"
    }
   },
   "source": [
    "Пропусков нет"
   ]
  },
  {
   "cell_type": "markdown",
   "metadata": {
    "pycharm": {
     "name": "#%% md\n"
    }
   },
   "source": [
    "<div style=\"border:solid green 2px; padding: 20px\"> \n",
    "    \n",
    "**Комментарий ревьюера**\n",
    "\n",
    "**#ок**\n",
    "    \n",
    "Отлично, с пропусками явными и неявными справились\n",
    "\n",
    "</div>"
   ]
  },
  {
   "cell_type": "markdown",
   "metadata": {
    "pycharm": {
     "name": "#%% md\n"
    }
   },
   "source": [
    "### Замена типа данных"
   ]
  },
  {
   "cell_type": "markdown",
   "metadata": {
    "pycharm": {
     "name": "#%% md\n"
    }
   },
   "source": [
    "У столбцов days_employed и total_income данные представлены в вещественном типе, хотя никакой роли дробная часть не играет  \n",
    "Представим эти столбцы в целочисленном типе с помощью метода astype(), т.к все пропуски, могущие вызвать ошибку, устранены в предыдущем разделе"
   ]
  },
  {
   "cell_type": "markdown",
   "metadata": {
    "pycharm": {
     "name": "#%% md\n"
    }
   },
   "source": [
    "#### Столбец days_employed"
   ]
  },
  {
   "cell_type": "code",
   "execution_count": 24,
   "metadata": {
    "pycharm": {
     "name": "#%%\n"
    }
   },
   "outputs": [
    {
     "data": {
      "text/html": [
       "<div>\n",
       "<style scoped>\n",
       "    .dataframe tbody tr th:only-of-type {\n",
       "        vertical-align: middle;\n",
       "    }\n",
       "\n",
       "    .dataframe tbody tr th {\n",
       "        vertical-align: top;\n",
       "    }\n",
       "\n",
       "    .dataframe thead th {\n",
       "        text-align: right;\n",
       "    }\n",
       "</style>\n",
       "<table border=\"1\" class=\"dataframe\">\n",
       "  <thead>\n",
       "    <tr style=\"text-align: right;\">\n",
       "      <th></th>\n",
       "      <th>children</th>\n",
       "      <th>days_employed</th>\n",
       "      <th>dob_years</th>\n",
       "      <th>education</th>\n",
       "      <th>education_id</th>\n",
       "      <th>family_status</th>\n",
       "      <th>family_status_id</th>\n",
       "      <th>gender</th>\n",
       "      <th>income_type</th>\n",
       "      <th>debt</th>\n",
       "      <th>total_income</th>\n",
       "      <th>purpose</th>\n",
       "    </tr>\n",
       "  </thead>\n",
       "  <tbody>\n",
       "    <tr>\n",
       "      <td>0</td>\n",
       "      <td>1</td>\n",
       "      <td>-8437</td>\n",
       "      <td>42</td>\n",
       "      <td>высшее</td>\n",
       "      <td>0</td>\n",
       "      <td>женат / замужем</td>\n",
       "      <td>0</td>\n",
       "      <td>F</td>\n",
       "      <td>сотрудник</td>\n",
       "      <td>0</td>\n",
       "      <td>253875.639453</td>\n",
       "      <td>покупка жилья</td>\n",
       "    </tr>\n",
       "    <tr>\n",
       "      <td>1</td>\n",
       "      <td>1</td>\n",
       "      <td>-4024</td>\n",
       "      <td>36</td>\n",
       "      <td>среднее</td>\n",
       "      <td>1</td>\n",
       "      <td>женат / замужем</td>\n",
       "      <td>0</td>\n",
       "      <td>F</td>\n",
       "      <td>сотрудник</td>\n",
       "      <td>0</td>\n",
       "      <td>112080.014102</td>\n",
       "      <td>приобретение автомобиля</td>\n",
       "    </tr>\n",
       "    <tr>\n",
       "      <td>2</td>\n",
       "      <td>0</td>\n",
       "      <td>-5623</td>\n",
       "      <td>33</td>\n",
       "      <td>Среднее</td>\n",
       "      <td>1</td>\n",
       "      <td>женат / замужем</td>\n",
       "      <td>0</td>\n",
       "      <td>M</td>\n",
       "      <td>сотрудник</td>\n",
       "      <td>0</td>\n",
       "      <td>145885.952297</td>\n",
       "      <td>покупка жилья</td>\n",
       "    </tr>\n",
       "    <tr>\n",
       "      <td>3</td>\n",
       "      <td>3</td>\n",
       "      <td>-4124</td>\n",
       "      <td>32</td>\n",
       "      <td>среднее</td>\n",
       "      <td>1</td>\n",
       "      <td>женат / замужем</td>\n",
       "      <td>0</td>\n",
       "      <td>M</td>\n",
       "      <td>сотрудник</td>\n",
       "      <td>0</td>\n",
       "      <td>267628.550329</td>\n",
       "      <td>дополнительное образование</td>\n",
       "    </tr>\n",
       "    <tr>\n",
       "      <td>4</td>\n",
       "      <td>0</td>\n",
       "      <td>340266</td>\n",
       "      <td>53</td>\n",
       "      <td>среднее</td>\n",
       "      <td>1</td>\n",
       "      <td>гражданский брак</td>\n",
       "      <td>1</td>\n",
       "      <td>F</td>\n",
       "      <td>пенсионер</td>\n",
       "      <td>0</td>\n",
       "      <td>158616.077870</td>\n",
       "      <td>сыграть свадьбу</td>\n",
       "    </tr>\n",
       "  </tbody>\n",
       "</table>\n",
       "</div>"
      ],
      "text/plain": [
       "   children  days_employed  dob_years education  education_id  \\\n",
       "0         1          -8437         42    высшее             0   \n",
       "1         1          -4024         36   среднее             1   \n",
       "2         0          -5623         33   Среднее             1   \n",
       "3         3          -4124         32   среднее             1   \n",
       "4         0         340266         53   среднее             1   \n",
       "\n",
       "      family_status  family_status_id gender income_type  debt   total_income  \\\n",
       "0   женат / замужем                 0      F   сотрудник     0  253875.639453   \n",
       "1   женат / замужем                 0      F   сотрудник     0  112080.014102   \n",
       "2   женат / замужем                 0      M   сотрудник     0  145885.952297   \n",
       "3   женат / замужем                 0      M   сотрудник     0  267628.550329   \n",
       "4  гражданский брак                 1      F   пенсионер     0  158616.077870   \n",
       "\n",
       "                      purpose  \n",
       "0               покупка жилья  \n",
       "1     приобретение автомобиля  \n",
       "2               покупка жилья  \n",
       "3  дополнительное образование  \n",
       "4             сыграть свадьбу  "
      ]
     },
     "execution_count": 24,
     "metadata": {},
     "output_type": "execute_result"
    }
   ],
   "source": [
    "df['days_employed'] = df['days_employed'].astype('int') #приведение к целочисленному типу\n",
    "df.head(5) #вывод первых пяти строк"
   ]
  },
  {
   "cell_type": "markdown",
   "metadata": {
    "pycharm": {
     "name": "#%% md\n"
    }
   },
   "source": [
    "Данные в столбце days_employed какие-то странные, где-то значения отрицательные, а где-то при переводе в года дают нереальные числа  \n",
    "Хотелось бы уточнить у разработчиков, как получились такие данные и получить корректные значения  \n",
    "Видимо, использовать этот столбец при анализе не получится"
   ]
  },
  {
   "cell_type": "markdown",
   "metadata": {
    "pycharm": {
     "name": "#%% md\n"
    }
   },
   "source": [
    "#### Столбец total_income"
   ]
  },
  {
   "cell_type": "code",
   "execution_count": 25,
   "metadata": {
    "pycharm": {
     "name": "#%%\n"
    }
   },
   "outputs": [
    {
     "data": {
      "text/html": [
       "<div>\n",
       "<style scoped>\n",
       "    .dataframe tbody tr th:only-of-type {\n",
       "        vertical-align: middle;\n",
       "    }\n",
       "\n",
       "    .dataframe tbody tr th {\n",
       "        vertical-align: top;\n",
       "    }\n",
       "\n",
       "    .dataframe thead th {\n",
       "        text-align: right;\n",
       "    }\n",
       "</style>\n",
       "<table border=\"1\" class=\"dataframe\">\n",
       "  <thead>\n",
       "    <tr style=\"text-align: right;\">\n",
       "      <th></th>\n",
       "      <th>children</th>\n",
       "      <th>days_employed</th>\n",
       "      <th>dob_years</th>\n",
       "      <th>education</th>\n",
       "      <th>education_id</th>\n",
       "      <th>family_status</th>\n",
       "      <th>family_status_id</th>\n",
       "      <th>gender</th>\n",
       "      <th>income_type</th>\n",
       "      <th>debt</th>\n",
       "      <th>total_income</th>\n",
       "      <th>purpose</th>\n",
       "    </tr>\n",
       "  </thead>\n",
       "  <tbody>\n",
       "    <tr>\n",
       "      <td>0</td>\n",
       "      <td>1</td>\n",
       "      <td>-8437</td>\n",
       "      <td>42</td>\n",
       "      <td>высшее</td>\n",
       "      <td>0</td>\n",
       "      <td>женат / замужем</td>\n",
       "      <td>0</td>\n",
       "      <td>F</td>\n",
       "      <td>сотрудник</td>\n",
       "      <td>0</td>\n",
       "      <td>253875</td>\n",
       "      <td>покупка жилья</td>\n",
       "    </tr>\n",
       "    <tr>\n",
       "      <td>1</td>\n",
       "      <td>1</td>\n",
       "      <td>-4024</td>\n",
       "      <td>36</td>\n",
       "      <td>среднее</td>\n",
       "      <td>1</td>\n",
       "      <td>женат / замужем</td>\n",
       "      <td>0</td>\n",
       "      <td>F</td>\n",
       "      <td>сотрудник</td>\n",
       "      <td>0</td>\n",
       "      <td>112080</td>\n",
       "      <td>приобретение автомобиля</td>\n",
       "    </tr>\n",
       "    <tr>\n",
       "      <td>2</td>\n",
       "      <td>0</td>\n",
       "      <td>-5623</td>\n",
       "      <td>33</td>\n",
       "      <td>Среднее</td>\n",
       "      <td>1</td>\n",
       "      <td>женат / замужем</td>\n",
       "      <td>0</td>\n",
       "      <td>M</td>\n",
       "      <td>сотрудник</td>\n",
       "      <td>0</td>\n",
       "      <td>145885</td>\n",
       "      <td>покупка жилья</td>\n",
       "    </tr>\n",
       "    <tr>\n",
       "      <td>3</td>\n",
       "      <td>3</td>\n",
       "      <td>-4124</td>\n",
       "      <td>32</td>\n",
       "      <td>среднее</td>\n",
       "      <td>1</td>\n",
       "      <td>женат / замужем</td>\n",
       "      <td>0</td>\n",
       "      <td>M</td>\n",
       "      <td>сотрудник</td>\n",
       "      <td>0</td>\n",
       "      <td>267628</td>\n",
       "      <td>дополнительное образование</td>\n",
       "    </tr>\n",
       "    <tr>\n",
       "      <td>4</td>\n",
       "      <td>0</td>\n",
       "      <td>340266</td>\n",
       "      <td>53</td>\n",
       "      <td>среднее</td>\n",
       "      <td>1</td>\n",
       "      <td>гражданский брак</td>\n",
       "      <td>1</td>\n",
       "      <td>F</td>\n",
       "      <td>пенсионер</td>\n",
       "      <td>0</td>\n",
       "      <td>158616</td>\n",
       "      <td>сыграть свадьбу</td>\n",
       "    </tr>\n",
       "  </tbody>\n",
       "</table>\n",
       "</div>"
      ],
      "text/plain": [
       "   children  days_employed  dob_years education  education_id  \\\n",
       "0         1          -8437         42    высшее             0   \n",
       "1         1          -4024         36   среднее             1   \n",
       "2         0          -5623         33   Среднее             1   \n",
       "3         3          -4124         32   среднее             1   \n",
       "4         0         340266         53   среднее             1   \n",
       "\n",
       "      family_status  family_status_id gender income_type  debt  total_income  \\\n",
       "0   женат / замужем                 0      F   сотрудник     0        253875   \n",
       "1   женат / замужем                 0      F   сотрудник     0        112080   \n",
       "2   женат / замужем                 0      M   сотрудник     0        145885   \n",
       "3   женат / замужем                 0      M   сотрудник     0        267628   \n",
       "4  гражданский брак                 1      F   пенсионер     0        158616   \n",
       "\n",
       "                      purpose  \n",
       "0               покупка жилья  \n",
       "1     приобретение автомобиля  \n",
       "2               покупка жилья  \n",
       "3  дополнительное образование  \n",
       "4             сыграть свадьбу  "
      ]
     },
     "execution_count": 25,
     "metadata": {},
     "output_type": "execute_result"
    }
   ],
   "source": [
    "df['total_income'] = df['total_income'].astype(int) #приведение к целочисленному типу\n",
    "df.head(5) #вывод первых пяти строк"
   ]
  },
  {
   "cell_type": "markdown",
   "metadata": {
    "pycharm": {
     "name": "#%% md\n"
    }
   },
   "source": [
    "Теперь числа в столбце удобнее для восприятия"
   ]
  },
  {
   "cell_type": "markdown",
   "metadata": {
    "pycharm": {
     "name": "#%% md\n"
    }
   },
   "source": [
    "#### Столбец debt"
   ]
  },
  {
   "cell_type": "code",
   "execution_count": 26,
   "metadata": {
    "pycharm": {
     "name": "#%%\n"
    }
   },
   "outputs": [
    {
     "data": {
      "text/html": [
       "<div>\n",
       "<style scoped>\n",
       "    .dataframe tbody tr th:only-of-type {\n",
       "        vertical-align: middle;\n",
       "    }\n",
       "\n",
       "    .dataframe tbody tr th {\n",
       "        vertical-align: top;\n",
       "    }\n",
       "\n",
       "    .dataframe thead th {\n",
       "        text-align: right;\n",
       "    }\n",
       "</style>\n",
       "<table border=\"1\" class=\"dataframe\">\n",
       "  <thead>\n",
       "    <tr style=\"text-align: right;\">\n",
       "      <th></th>\n",
       "      <th>children</th>\n",
       "      <th>days_employed</th>\n",
       "      <th>dob_years</th>\n",
       "      <th>education</th>\n",
       "      <th>education_id</th>\n",
       "      <th>family_status</th>\n",
       "      <th>family_status_id</th>\n",
       "      <th>gender</th>\n",
       "      <th>income_type</th>\n",
       "      <th>debt</th>\n",
       "      <th>total_income</th>\n",
       "      <th>purpose</th>\n",
       "    </tr>\n",
       "  </thead>\n",
       "  <tbody>\n",
       "    <tr>\n",
       "      <td>0</td>\n",
       "      <td>1</td>\n",
       "      <td>-8437</td>\n",
       "      <td>42</td>\n",
       "      <td>высшее</td>\n",
       "      <td>0</td>\n",
       "      <td>женат / замужем</td>\n",
       "      <td>0</td>\n",
       "      <td>F</td>\n",
       "      <td>сотрудник</td>\n",
       "      <td>False</td>\n",
       "      <td>253875</td>\n",
       "      <td>покупка жилья</td>\n",
       "    </tr>\n",
       "    <tr>\n",
       "      <td>1</td>\n",
       "      <td>1</td>\n",
       "      <td>-4024</td>\n",
       "      <td>36</td>\n",
       "      <td>среднее</td>\n",
       "      <td>1</td>\n",
       "      <td>женат / замужем</td>\n",
       "      <td>0</td>\n",
       "      <td>F</td>\n",
       "      <td>сотрудник</td>\n",
       "      <td>False</td>\n",
       "      <td>112080</td>\n",
       "      <td>приобретение автомобиля</td>\n",
       "    </tr>\n",
       "    <tr>\n",
       "      <td>2</td>\n",
       "      <td>0</td>\n",
       "      <td>-5623</td>\n",
       "      <td>33</td>\n",
       "      <td>Среднее</td>\n",
       "      <td>1</td>\n",
       "      <td>женат / замужем</td>\n",
       "      <td>0</td>\n",
       "      <td>M</td>\n",
       "      <td>сотрудник</td>\n",
       "      <td>False</td>\n",
       "      <td>145885</td>\n",
       "      <td>покупка жилья</td>\n",
       "    </tr>\n",
       "    <tr>\n",
       "      <td>3</td>\n",
       "      <td>3</td>\n",
       "      <td>-4124</td>\n",
       "      <td>32</td>\n",
       "      <td>среднее</td>\n",
       "      <td>1</td>\n",
       "      <td>женат / замужем</td>\n",
       "      <td>0</td>\n",
       "      <td>M</td>\n",
       "      <td>сотрудник</td>\n",
       "      <td>False</td>\n",
       "      <td>267628</td>\n",
       "      <td>дополнительное образование</td>\n",
       "    </tr>\n",
       "    <tr>\n",
       "      <td>4</td>\n",
       "      <td>0</td>\n",
       "      <td>340266</td>\n",
       "      <td>53</td>\n",
       "      <td>среднее</td>\n",
       "      <td>1</td>\n",
       "      <td>гражданский брак</td>\n",
       "      <td>1</td>\n",
       "      <td>F</td>\n",
       "      <td>пенсионер</td>\n",
       "      <td>False</td>\n",
       "      <td>158616</td>\n",
       "      <td>сыграть свадьбу</td>\n",
       "    </tr>\n",
       "  </tbody>\n",
       "</table>\n",
       "</div>"
      ],
      "text/plain": [
       "   children  days_employed  dob_years education  education_id  \\\n",
       "0         1          -8437         42    высшее             0   \n",
       "1         1          -4024         36   среднее             1   \n",
       "2         0          -5623         33   Среднее             1   \n",
       "3         3          -4124         32   среднее             1   \n",
       "4         0         340266         53   среднее             1   \n",
       "\n",
       "      family_status  family_status_id gender income_type   debt  total_income  \\\n",
       "0   женат / замужем                 0      F   сотрудник  False        253875   \n",
       "1   женат / замужем                 0      F   сотрудник  False        112080   \n",
       "2   женат / замужем                 0      M   сотрудник  False        145885   \n",
       "3   женат / замужем                 0      M   сотрудник  False        267628   \n",
       "4  гражданский брак                 1      F   пенсионер  False        158616   \n",
       "\n",
       "                      purpose  \n",
       "0               покупка жилья  \n",
       "1     приобретение автомобиля  \n",
       "2               покупка жилья  \n",
       "3  дополнительное образование  \n",
       "4             сыграть свадьбу  "
      ]
     },
     "execution_count": 26,
     "metadata": {},
     "output_type": "execute_result"
    }
   ],
   "source": [
    "df['debt'] = df['debt'].astype(bool) #приведение к целочисленному типу\n",
    "df.head(5) #вывод первых пяти строк"
   ]
  },
  {
   "cell_type": "markdown",
   "metadata": {
    "pycharm": {
     "name": "#%% md\n"
    }
   },
   "source": [
    "Debt действительно лучше переводить в bool"
   ]
  },
  {
   "cell_type": "markdown",
   "metadata": {
    "pycharm": {
     "name": "#%% md\n"
    }
   },
   "source": [
    "<div style=\"border:solid green 2px; padding: 20px\"> \n",
    "    \n",
    "**Комментарий ревьюера**\n",
    "\n",
    "**#ок**\n",
    "    \n",
    "Правильно. Дополнительно можно было debt сделать bool\n",
    "\n",
    "Также в качестве итога можно было вывести info(), результат предобработки был бы четче виден\n",
    "\n",
    "</div>"
   ]
  },
  {
   "cell_type": "markdown",
   "metadata": {
    "pycharm": {
     "name": "#%% md\n"
    }
   },
   "source": [
    "### Обработка дубликатов"
   ]
  },
  {
   "cell_type": "markdown",
   "metadata": {
    "pycharm": {
     "name": "#%% md\n"
    }
   },
   "source": [
    "#### Столбец education"
   ]
  },
  {
   "cell_type": "code",
   "execution_count": 27,
   "metadata": {
    "scrolled": false,
    "pycharm": {
     "name": "#%%\n"
    }
   },
   "outputs": [
    {
     "data": {
      "text/plain": [
       "среднее                13750\n",
       "высшее                  4718\n",
       "СРЕДНЕЕ                  772\n",
       "Среднее                  711\n",
       "неоконченное высшее      668\n",
       "ВЫСШЕЕ                   274\n",
       "Высшее                   268\n",
       "начальное                250\n",
       "Неоконченное высшее       47\n",
       "НЕОКОНЧЕННОЕ ВЫСШЕЕ       29\n",
       "НАЧАЛЬНОЕ                 17\n",
       "Начальное                 15\n",
       "ученая степень             4\n",
       "Ученая степень             1\n",
       "УЧЕНАЯ СТЕПЕНЬ             1\n",
       "Name: education, dtype: int64"
      ]
     },
     "execution_count": 27,
     "metadata": {},
     "output_type": "execute_result"
    }
   ],
   "source": [
    "df['education'].value_counts() #получение уникальных значений"
   ]
  },
  {
   "cell_type": "markdown",
   "metadata": {
    "pycharm": {
     "name": "#%% md\n"
    }
   },
   "source": [
    "Приведем все значения к нижнему регистру методом str.lower()"
   ]
  },
  {
   "cell_type": "code",
   "execution_count": 28,
   "metadata": {
    "pycharm": {
     "name": "#%%\n"
    }
   },
   "outputs": [
    {
     "data": {
      "text/plain": [
       "среднее                15233\n",
       "высшее                  5260\n",
       "неоконченное высшее      744\n",
       "начальное                282\n",
       "ученая степень             6\n",
       "Name: education, dtype: int64"
      ]
     },
     "execution_count": 28,
     "metadata": {},
     "output_type": "execute_result"
    }
   ],
   "source": [
    "df['education']=df['education'].str.lower() #приведение к нижнему регистру\n",
    "\n",
    "df['education'].value_counts() #получение уникальных значений"
   ]
  },
  {
   "cell_type": "code",
   "execution_count": 29,
   "metadata": {
    "pycharm": {
     "name": "#%%\n"
    }
   },
   "outputs": [
    {
     "data": {
      "text/plain": [
       "0        False\n",
       "1        False\n",
       "2         True\n",
       "3         True\n",
       "4         True\n",
       "         ...  \n",
       "21520     True\n",
       "21521     True\n",
       "21522     True\n",
       "21523     True\n",
       "21524     True\n",
       "Name: education, Length: 21525, dtype: bool"
      ]
     },
     "execution_count": 29,
     "metadata": {},
     "output_type": "execute_result"
    }
   ],
   "source": [
    "df['education'].duplicated()"
   ]
  },
  {
   "cell_type": "code",
   "execution_count": 30,
   "metadata": {
    "pycharm": {
     "name": "#%%\n"
    }
   },
   "outputs": [
    {
     "data": {
      "text/plain": [
       "21520"
      ]
     },
     "execution_count": 30,
     "metadata": {},
     "output_type": "execute_result"
    }
   ],
   "source": [
    "df['education'].duplicated().sum()"
   ]
  },
  {
   "cell_type": "markdown",
   "metadata": {
    "pycharm": {
     "name": "#%% md\n"
    }
   },
   "source": [
    "<div style=\"border:solid red 2px; padding: 20px\"> \n",
    "    \n",
    "**Комментарий ревьюера**\n",
    "\n",
    "**#ошибка**\n",
    "    \n",
    "Ты верно обработала неявные дубликаты. Но нужно еще поработать с явными дубликатами методом `duplicated()`\n",
    "\n",
    "</div>"
   ]
  },
  {
   "cell_type": "markdown",
   "metadata": {
    "pycharm": {
     "name": "#%% md\n"
    }
   },
   "source": [
    "<div style=\"border:solid blue 2px; padding: 20px\"> \n",
    "    \n",
    "Так? Если честно, не очень понимаю, какое значение имеют полученные duplicated() данные :(  \n",
    "Ведь у каждого человека нужно сохранить эту информацию?\n",
    "</div>"
   ]
  },
  {
   "cell_type": "markdown",
   "metadata": {
    "pycharm": {
     "name": "#%% md\n"
    }
   },
   "source": [
    "<div style=\"border:solid black 2px; padding: 20px\"> \n",
    "    \n",
    "**Комментарий ревьюера - 2**\n",
    "    \n",
    "Нет, не так. Вот так нужно было сделать\n",
    "\n",
    "</div>"
   ]
  },
  {
   "cell_type": "code",
   "execution_count": 31,
   "metadata": {
    "pycharm": {
     "name": "#%%\n"
    }
   },
   "outputs": [
    {
     "data": {
      "text/plain": [
       "71"
      ]
     },
     "execution_count": 31,
     "metadata": {},
     "output_type": "execute_result"
    }
   ],
   "source": [
    "df.duplicated().sum()"
   ]
  },
  {
   "cell_type": "code",
   "execution_count": 32,
   "metadata": {
    "pycharm": {
     "name": "#%%\n"
    }
   },
   "outputs": [],
   "source": [
    "df = df.drop_duplicates().reset_index(drop=True) "
   ]
  },
  {
   "cell_type": "code",
   "execution_count": 33,
   "metadata": {
    "pycharm": {
     "name": "#%%\n"
    }
   },
   "outputs": [
    {
     "data": {
      "text/plain": [
       "0"
      ]
     },
     "execution_count": 33,
     "metadata": {},
     "output_type": "execute_result"
    }
   ],
   "source": [
    "df.duplicated().sum()"
   ]
  },
  {
   "cell_type": "markdown",
   "metadata": {
    "pycharm": {
     "name": "#%% md\n"
    }
   },
   "source": [
    "<div style=\"border:solid black 2px; padding: 20px\"> \n",
    "    \n",
    "**Комментарий ревьюера - 2**\n",
    "    \n",
    "Нужно было посмотреть сколько полностью идентичных строк в наборе и удалить их\n",
    "\n",
    "</div>"
   ]
  },
  {
   "cell_type": "markdown",
   "metadata": {
    "pycharm": {
     "name": "#%% md\n"
    }
   },
   "source": [
    "### Лемматизация"
   ]
  },
  {
   "cell_type": "code",
   "execution_count": 31,
   "metadata": {
    "pycharm": {
     "name": "#%%\n"
    }
   },
   "outputs": [],
   "source": [
    "m = Mystem() #создание объекта класса Mystem"
   ]
  },
  {
   "cell_type": "code",
   "execution_count": 32,
   "metadata": {
    "pycharm": {
     "name": "#%%\n"
    }
   },
   "outputs": [
    {
     "data": {
      "text/plain": [
       "свадьба                                   797\n",
       "на проведение свадьбы                     777\n",
       "сыграть свадьбу                           774\n",
       "операции с недвижимостью                  676\n",
       "покупка коммерческой недвижимости         664\n",
       "операции с жильем                         653\n",
       "покупка жилья для сдачи                   653\n",
       "операции с коммерческой недвижимостью     651\n",
       "покупка жилья                             647\n",
       "жилье                                     647\n",
       "покупка жилья для семьи                   641\n",
       "строительство собственной недвижимости    635\n",
       "недвижимость                              634\n",
       "операции со своей недвижимостью           630\n",
       "строительство жилой недвижимости          626\n",
       "покупка недвижимости                      624\n",
       "покупка своего жилья                      620\n",
       "строительство недвижимости                620\n",
       "ремонт жилью                              612\n",
       "покупка жилой недвижимости                607\n",
       "на покупку своего автомобиля              505\n",
       "заняться высшим образованием              496\n",
       "автомобиль                                495\n",
       "сделка с подержанным автомобилем          489\n",
       "свой автомобиль                           480\n",
       "на покупку подержанного автомобиля        479\n",
       "автомобили                                478\n",
       "на покупку автомобиля                     472\n",
       "дополнительное образование                462\n",
       "приобретение автомобиля                   462\n",
       "сделка с автомобилем                      455\n",
       "высшее образование                        453\n",
       "получение дополнительного образования     447\n",
       "образование                               447\n",
       "получение образования                     443\n",
       "профильное образование                    436\n",
       "получение высшего образования             426\n",
       "заняться образованием                     412\n",
       "Name: purpose, dtype: int64"
      ]
     },
     "execution_count": 32,
     "metadata": {},
     "output_type": "execute_result"
    }
   ],
   "source": [
    "df['purpose'].value_counts() #получение уникальных значений"
   ]
  },
  {
   "cell_type": "markdown",
   "metadata": {
    "pycharm": {
     "name": "#%% md\n"
    }
   },
   "source": [
    "Произведем лемматизацию"
   ]
  },
  {
   "cell_type": "markdown",
   "metadata": {
    "pycharm": {
     "name": "#%% md\n"
    }
   },
   "source": [
    "<div style=\"border:solid gold 2px; padding: 20px\"> \n",
    "    \n",
    "**Комментарий ревьюера**\n",
    "\n",
    "**#можно лучше**\n",
    "    \n",
    "Стоит загружать все библиотеки в начале проекта, лучше в одной ячейке. Так тебе будет сложней случайно удалить ячейку с загрузкой нужной библиотеки и сделать код не работающим. А получатель твоего отчета сразу поймет, какие библиотеки ты используешь и какие ему нужно установить для запуска твоего проекта.\n",
    "\n",
    "</div>"
   ]
  },
  {
   "cell_type": "markdown",
   "metadata": {
    "pycharm": {
     "name": "#%% md\n"
    }
   },
   "source": [
    "<div style=\"border:solid blue 2px; padding: 20px\"> \n",
    "    \n",
    "Перенесла все библиотеки в начало\n",
    "</div>"
   ]
  },
  {
   "cell_type": "code",
   "execution_count": 33,
   "metadata": {
    "pycharm": {
     "name": "#%%\n"
    }
   },
   "outputs": [],
   "source": [
    "df['lemmas'] = df['purpose'].apply(m.lemmatize) #лемматизация значений в столбце purpose и запись их в столбец lemmas"
   ]
  },
  {
   "cell_type": "code",
   "execution_count": 34,
   "metadata": {
    "scrolled": false,
    "pycharm": {
     "name": "#%%\n"
    }
   },
   "outputs": [
    {
     "data": {
      "text/plain": [
       "[автомобиль, \\n]                                          973\n",
       "[свадьба, \\n]                                             797\n",
       "[на,  , проведение,  , свадьба, \\n]                       777\n",
       "[сыграть,  , свадьба, \\n]                                 774\n",
       "[операция,  , с,  , недвижимость, \\n]                     676\n",
       "[покупка,  , коммерческий,  , недвижимость, \\n]           664\n",
       "[операция,  , с,  , жилье, \\n]                            653\n",
       "[покупка,  , жилье,  , для,  , сдача, \\n]                 653\n",
       "[операция,  , с,  , коммерческий,  , недвижимость, \\n]    651\n",
       "[покупка,  , жилье, \\n]                                   647\n",
       "[жилье, \\n]                                               647\n",
       "[покупка,  , жилье,  , для,  , семья, \\n]                 641\n",
       "[строительство,  , собственный,  , недвижимость, \\n]      635\n",
       "[недвижимость, \\n]                                        634\n",
       "[операция,  , со,  , свой,  , недвижимость, \\n]           630\n",
       "[строительство,  , жилой,  , недвижимость, \\n]            626\n",
       "[покупка,  , недвижимость, \\n]                            624\n",
       "[строительство,  , недвижимость, \\n]                      620\n",
       "[покупка,  , свой,  , жилье, \\n]                          620\n",
       "[ремонт,  , жилье, \\n]                                    612\n",
       "[покупка,  , жилой,  , недвижимость, \\n]                  607\n",
       "[на,  , покупка,  , свой,  , автомобиль, \\n]              505\n",
       "[заниматься,  , высокий,  , образование, \\n]              496\n",
       "[сделка,  , с,  , подержанный,  , автомобиль, \\n]         489\n",
       "[свой,  , автомобиль, \\n]                                 480\n",
       "[на,  , покупка,  , подержать,  , автомобиль, \\n]         479\n",
       "[на,  , покупка,  , автомобиль, \\n]                       472\n",
       "[дополнительный,  , образование, \\n]                      462\n",
       "[приобретение,  , автомобиль, \\n]                         462\n",
       "[сделка,  , с,  , автомобиль, \\n]                         455\n",
       "[высокий,  , образование, \\n]                             453\n",
       "[получение,  , дополнительный,  , образование, \\n]        447\n",
       "[образование, \\n]                                         447\n",
       "[получение,  , образование, \\n]                           443\n",
       "[профильный,  , образование, \\n]                          436\n",
       "[получение,  , высокий,  , образование, \\n]               426\n",
       "[заниматься,  , образование, \\n]                          412\n",
       "Name: lemmas, dtype: int64"
      ]
     },
     "execution_count": 34,
     "metadata": {},
     "output_type": "execute_result"
    }
   ],
   "source": [
    "df['lemmas'].value_counts() #получение уникальных значений"
   ]
  },
  {
   "cell_type": "markdown",
   "metadata": {
    "pycharm": {
     "name": "#%% md\n"
    }
   },
   "source": [
    "Много дублирующихся значений"
   ]
  },
  {
   "cell_type": "code",
   "execution_count": 35,
   "metadata": {
    "scrolled": false,
    "pycharm": {
     "name": "#%%\n"
    }
   },
   "outputs": [
    {
     "data": {
      "text/plain": [
       "['\\n',\n",
       " ' ',\n",
       " 'автомобиль',\n",
       " 'высокий',\n",
       " 'для',\n",
       " 'дополнительный',\n",
       " 'жилой',\n",
       " 'жилье',\n",
       " 'заниматься',\n",
       " 'коммерческий',\n",
       " 'на',\n",
       " 'недвижимость',\n",
       " 'образование',\n",
       " 'операция',\n",
       " 'подержанный',\n",
       " 'подержать',\n",
       " 'покупка',\n",
       " 'получение',\n",
       " 'приобретение',\n",
       " 'проведение',\n",
       " 'профильный',\n",
       " 'ремонт',\n",
       " 'с',\n",
       " 'свадьба',\n",
       " 'свой',\n",
       " 'сдача',\n",
       " 'сделка',\n",
       " 'семья',\n",
       " 'со',\n",
       " 'собственный',\n",
       " 'строительство',\n",
       " 'сыграть']"
      ]
     },
     "execution_count": 35,
     "metadata": {},
     "output_type": "execute_result"
    }
   ],
   "source": [
    "lemmas = df['lemmas'].value_counts().index.tolist() \n",
    "#скопируем из столбца lemmas уникальные значения (списки слов), т.е индексы, в список lemmas\n",
    "\n",
    "#получился список списков, преобразуем в единый список\n",
    "lemmas_list = [] #пустой список, куда добавим вложенные списки\n",
    "\n",
    "for lemma in lemmas: #пройдемся по всему списку\n",
    "    lemmas_list.extend(lemma) #добавим список в новый методом extend()\n",
    "    \n",
    "words = sorted(list(set(lemmas_list))) \n",
    "#получим сортированный список, при этом для уникальности значений используем преобразование в set\n",
    "\n",
    "words"
   ]
  },
  {
   "cell_type": "markdown",
   "metadata": {
    "pycharm": {
     "name": "#%% md\n"
    }
   },
   "source": [
    "С данными в таком виде гораздо проще и удобнее работать  \n",
    "Выделим из этого списка ключевые слова и произведем стемминг для получения основ слов"
   ]
  },
  {
   "cell_type": "code",
   "execution_count": 36,
   "metadata": {
    "pycharm": {
     "name": "#%%\n"
    }
   },
   "outputs": [],
   "source": [
    "russian_stemmer = SnowballStemmer('russian')"
   ]
  },
  {
   "cell_type": "code",
   "execution_count": 37,
   "metadata": {
    "pycharm": {
     "name": "#%%\n"
    }
   },
   "outputs": [
    {
     "name": "stdout",
     "output_type": "stream",
     "text": [
      "Исходное слово: автомобиль, после стемминга: автомобил\n",
      "Исходное слово: жилье, после стемминга: жил\n",
      "Исходное слово: недвижимость, после стемминга: недвижим\n",
      "Исходное слово: образование, после стемминга: образован\n",
      "Исходное слово: свадьба, после стемминга: свадьб\n"
     ]
    }
   ],
   "source": [
    "words = ['автомобиль', 'жилье', 'недвижимость', 'образование', 'свадьба'] #список ключевых слов\n",
    "\n",
    "for word in words:\n",
    "    print ('Исходное слово: ' + word + ', после стемминга: ' + russian_stemmer.stem(word)) #стемминг слов"
   ]
  },
  {
   "cell_type": "markdown",
   "metadata": {
    "pycharm": {
     "name": "#%% md\n"
    }
   },
   "source": [
    "<div style=\"border:solid green 2px; padding: 20px\"> \n",
    "    \n",
    "**Комментарий ревьюера**\n",
    "\n",
    "**#ок**\n",
    "    \n",
    "Хорошо, леммы выделены правильно\n",
    "\n",
    "</div>"
   ]
  },
  {
   "cell_type": "markdown",
   "metadata": {
    "pycharm": {
     "name": "#%% md\n"
    }
   },
   "source": [
    "### Категоризация данных"
   ]
  },
  {
   "cell_type": "markdown",
   "metadata": {
    "pycharm": {
     "name": "#%% md\n"
    }
   },
   "source": [
    "#### Категоризация по цели кредита"
   ]
  },
  {
   "cell_type": "markdown",
   "metadata": {
    "pycharm": {
     "name": "#%% md\n"
    }
   },
   "source": [
    "В предыдущем разделе мы обработали текстовые данные, таким образом получив список основ слов, при помощи которых можно провести категоризацию по цели кредита  \n",
    "\n",
    "Всего можно выделить 4 цели:\n",
    "* Автомобиль\n",
    "* Недвижимость\n",
    "* Образование\n",
    "* Свадьба"
   ]
  },
  {
   "cell_type": "code",
   "execution_count": 38,
   "metadata": {
    "pycharm": {
     "name": "#%%\n"
    }
   },
   "outputs": [],
   "source": [
    "def category(purpose): #функция, возвращающая значение категории\n",
    "    if 'автомобил' in purpose:\n",
    "        return 'Автомобиль'\n",
    "    if 'жил' in purpose or 'недвижим' in purpose:\n",
    "        return 'Недвижимость'\n",
    "    if 'образован' in purpose:\n",
    "        return 'Образование'\n",
    "    if 'свадьб' in purpose:\n",
    "        return 'Свадьба'"
   ]
  },
  {
   "cell_type": "code",
   "execution_count": 39,
   "metadata": {
    "pycharm": {
     "name": "#%%\n"
    }
   },
   "outputs": [],
   "source": [
    "df['purpose_category'] = df['purpose'].apply(category) \n",
    "#получение столбца purpose_category, содержащего категорию цели кредита"
   ]
  },
  {
   "cell_type": "code",
   "execution_count": 40,
   "metadata": {
    "pycharm": {
     "name": "#%%\n"
    }
   },
   "outputs": [
    {
     "data": {
      "text/plain": [
       "Недвижимость    10840\n",
       "Автомобиль       4315\n",
       "Образование      4022\n",
       "Свадьба          2348\n",
       "Name: purpose_category, dtype: int64"
      ]
     },
     "execution_count": 40,
     "metadata": {},
     "output_type": "execute_result"
    }
   ],
   "source": [
    "df['purpose_category'].value_counts() #вывод количества уникальных значений"
   ]
  },
  {
   "cell_type": "markdown",
   "metadata": {
    "pycharm": {
     "name": "#%% md\n"
    }
   },
   "source": [
    "Получили столбец датафрейма, содержащий нужную категорию для каждой цели кредита"
   ]
  },
  {
   "cell_type": "markdown",
   "metadata": {
    "pycharm": {
     "name": "#%% md\n"
    }
   },
   "source": [
    "#### Категоризация по наличию или отсуствию детей"
   ]
  },
  {
   "cell_type": "markdown",
   "metadata": {
    "pycharm": {
     "name": "#%% md\n"
    }
   },
   "source": [
    "Произведем категоризацию по наличию или отсутствию детей  \n",
    "Так как категорий всего две, разумно использовать тип bool"
   ]
  },
  {
   "cell_type": "code",
   "execution_count": 41,
   "metadata": {
    "pycharm": {
     "name": "#%%\n"
    }
   },
   "outputs": [],
   "source": [
    "def category(children): #функция, возвращающая значение категории\n",
    "    if children == 0:\n",
    "        return False #если детей нет, вернуть False\n",
    "    else:\n",
    "        return True #если дети есть, вернуть True"
   ]
  },
  {
   "cell_type": "code",
   "execution_count": 42,
   "metadata": {
    "pycharm": {
     "name": "#%%\n"
    }
   },
   "outputs": [],
   "source": [
    "df['children_category'] = df['children'].apply(category) \n",
    "#получение столбца children_category, содержащего категорию наличия детей"
   ]
  },
  {
   "cell_type": "code",
   "execution_count": 43,
   "metadata": {
    "scrolled": true,
    "pycharm": {
     "name": "#%%\n"
    }
   },
   "outputs": [
    {
     "data": {
      "text/plain": [
       "False    14149\n",
       "True      7376\n",
       "Name: children_category, dtype: int64"
      ]
     },
     "execution_count": 43,
     "metadata": {},
     "output_type": "execute_result"
    }
   ],
   "source": [
    "df['children_category'].value_counts() #вывод количества уникальных значений"
   ]
  },
  {
   "cell_type": "markdown",
   "metadata": {
    "pycharm": {
     "name": "#%% md\n"
    }
   },
   "source": [
    "Получили столбец датафрейма, содержащий нужную категорию для наличия или отсутствия детей"
   ]
  },
  {
   "cell_type": "markdown",
   "metadata": {
    "pycharm": {
     "name": "#%% md\n"
    }
   },
   "source": [
    "#### Категоризация по уровню дохода"
   ]
  },
  {
   "cell_type": "markdown",
   "metadata": {
    "pycharm": {
     "name": "#%% md\n"
    }
   },
   "source": [
    "Произведем категоризацию по уровню дохода  \n",
    "Воспользуемся методом describe() для вычисления сводных статистик"
   ]
  },
  {
   "cell_type": "code",
   "execution_count": 44,
   "metadata": {
    "pycharm": {
     "name": "#%%\n"
    }
   },
   "outputs": [
    {
     "data": {
      "text/plain": [
       "count      21525\n",
       "mean      165158\n",
       "std        97866\n",
       "min        20667\n",
       "25%       107798\n",
       "50%       145017\n",
       "75%       195543\n",
       "max      2265604\n",
       "Name: total_income, dtype: int64"
      ]
     },
     "execution_count": 44,
     "metadata": {},
     "output_type": "execute_result"
    }
   ],
   "source": [
    "df['total_income'].describe().astype('int')"
   ]
  },
  {
   "cell_type": "code",
   "execution_count": 45,
   "metadata": {
    "pycharm": {
     "name": "#%%\n"
    }
   },
   "outputs": [
    {
     "data": {
      "text/plain": [
       "1    6468\n",
       "0    5382\n",
       "3    5381\n",
       "2    4294\n",
       "Name: quantile_id, dtype: int64"
      ]
     },
     "execution_count": 45,
     "metadata": {},
     "output_type": "execute_result"
    }
   ],
   "source": [
    "df['quantile_id'] = pd.qcut(df['total_income'], q=4,labels=False)\n",
    "df['quantile_id'].value_counts()"
   ]
  },
  {
   "cell_type": "code",
   "execution_count": 46,
   "metadata": {
    "pycharm": {
     "name": "#%%\n"
    }
   },
   "outputs": [
    {
     "data": {
      "text/plain": [
       "(107798.0, 145017.0]     6468\n",
       "(20666.999, 107798.0]    5382\n",
       "(195543.0, 2265604.0]    5381\n",
       "(145017.0, 195543.0]     4294\n",
       "Name: quantile, dtype: int64"
      ]
     },
     "execution_count": 46,
     "metadata": {},
     "output_type": "execute_result"
    }
   ],
   "source": [
    "df['quantile'] = pd.qcut(df['total_income'], q=4)\n",
    "df['quantile'].value_counts()"
   ]
  },
  {
   "cell_type": "markdown",
   "metadata": {
    "pycharm": {
     "name": "#%% md\n"
    }
   },
   "source": [
    "<div style=\"border:solid green 2px; padding: 20px\"> \n",
    "    \n",
    "**Комментарий ревьюера**\n",
    "\n",
    "**#ок**\n",
    "    \n",
    "Да, все необходимые для ответов на вопросы категории выделены верно. Здорово, что ты использовала квантили для категоризации уровня дохода\n",
    "\n",
    "</div>"
   ]
  },
  {
   "cell_type": "markdown",
   "metadata": {
    "pycharm": {
     "name": "#%% md\n"
    }
   },
   "source": [
    "## Шаг 3. Ответьте на вопросы"
   ]
  },
  {
   "cell_type": "markdown",
   "metadata": {
    "pycharm": {
     "name": "#%% md\n"
    }
   },
   "source": [
    "### Есть ли зависимость между наличием детей и возвратом кредита в срок?"
   ]
  },
  {
   "cell_type": "markdown",
   "metadata": {
    "pycharm": {
     "name": "#%% md\n"
    }
   },
   "source": [
    "В предыдущем пункте мы получили категории для наличия или отсутствия детей  \n",
    "Теперь необходимо вывести взаимосвязь между наличием детей и возвратом кредита в срок"
   ]
  },
  {
   "cell_type": "markdown",
   "metadata": {
    "pycharm": {
     "name": "#%% md\n"
    }
   },
   "source": [
    "Для начала сформируем датафрейм, который будет содержать сводные данные по категории и количеству \"хороших\" и \"плохих\" задолженностей"
   ]
  },
  {
   "cell_type": "markdown",
   "metadata": {
    "pycharm": {
     "name": "#%% md\n"
    }
   },
   "source": [
    "Напишем функцию, которая будет возвращать Series из количества сгруппированных и отфильтрованных по debt записей"
   ]
  },
  {
   "cell_type": "code",
   "execution_count": 47,
   "metadata": {
    "pycharm": {
     "name": "#%%\n"
    }
   },
   "outputs": [],
   "source": [
    "def df_category_debt(column, debt):\n",
    "    return df[df['debt'] == debt].groupby(column)['debt'].count()"
   ]
  },
  {
   "cell_type": "code",
   "execution_count": 48,
   "metadata": {
    "scrolled": true,
    "pycharm": {
     "name": "#%%\n"
    }
   },
   "outputs": [
    {
     "data": {
      "text/html": [
       "<div>\n",
       "<style scoped>\n",
       "    .dataframe tbody tr th:only-of-type {\n",
       "        vertical-align: middle;\n",
       "    }\n",
       "\n",
       "    .dataframe tbody tr th {\n",
       "        vertical-align: top;\n",
       "    }\n",
       "\n",
       "    .dataframe thead th {\n",
       "        text-align: right;\n",
       "    }\n",
       "</style>\n",
       "<table border=\"1\" class=\"dataframe\">\n",
       "  <thead>\n",
       "    <tr style=\"text-align: right;\">\n",
       "      <th></th>\n",
       "      <th>debt</th>\n",
       "      <th>ok</th>\n",
       "    </tr>\n",
       "    <tr>\n",
       "      <th>children_category</th>\n",
       "      <th></th>\n",
       "      <th></th>\n",
       "    </tr>\n",
       "  </thead>\n",
       "  <tbody>\n",
       "    <tr>\n",
       "      <td>False</td>\n",
       "      <td>1063</td>\n",
       "      <td>13086</td>\n",
       "    </tr>\n",
       "    <tr>\n",
       "      <td>True</td>\n",
       "      <td>678</td>\n",
       "      <td>6698</td>\n",
       "    </tr>\n",
       "  </tbody>\n",
       "</table>\n",
       "</div>"
      ],
      "text/plain": [
       "                   debt     ok\n",
       "children_category             \n",
       "False              1063  13086\n",
       "True                678   6698"
      ]
     },
     "execution_count": 48,
     "metadata": {},
     "output_type": "execute_result"
    }
   ],
   "source": [
    "df_children = df_category_debt('children_category', True).to_frame()\n",
    "\n",
    "df_children['ok'] = df_category_debt('children_category', False)\n",
    "#проделаем то же самое для записей, где просрочка отсуствует, после чего получившийся столбец добавим к датафрейму\n",
    "\n",
    "df_children #выведем датафрейм на экран\n"
   ]
  },
  {
   "cell_type": "markdown",
   "metadata": {
    "pycharm": {
     "name": "#%% md\n"
    }
   },
   "source": [
    "Получили количество просрочек и выплаченных задолженностей для каждой категории  \n",
    "Но полученные абсолютные значения неинформативны, следовательно, нужно вычислить относительные значения (проценты)"
   ]
  },
  {
   "cell_type": "markdown",
   "metadata": {
    "pycharm": {
     "name": "#%% md\n"
    }
   },
   "source": [
    "Напишем функцию, которая будет возвращать Series из процентов просроченных задолженностей"
   ]
  },
  {
   "cell_type": "code",
   "execution_count": 49,
   "metadata": {
    "pycharm": {
     "name": "#%%\n"
    }
   },
   "outputs": [],
   "source": [
    "def percent (df, col1, col2):\n",
    "    return 100 * df[col1] / df[col2]"
   ]
  },
  {
   "cell_type": "code",
   "execution_count": 50,
   "metadata": {
    "pycharm": {
     "name": "#%%\n"
    }
   },
   "outputs": [
    {
     "data": {
      "text/html": [
       "<div>\n",
       "<style scoped>\n",
       "    .dataframe tbody tr th:only-of-type {\n",
       "        vertical-align: middle;\n",
       "    }\n",
       "\n",
       "    .dataframe tbody tr th {\n",
       "        vertical-align: top;\n",
       "    }\n",
       "\n",
       "    .dataframe thead th {\n",
       "        text-align: right;\n",
       "    }\n",
       "</style>\n",
       "<table border=\"1\" class=\"dataframe\">\n",
       "  <thead>\n",
       "    <tr style=\"text-align: right;\">\n",
       "      <th></th>\n",
       "      <th>debt</th>\n",
       "      <th>ok</th>\n",
       "      <th>%</th>\n",
       "    </tr>\n",
       "    <tr>\n",
       "      <th>children_category</th>\n",
       "      <th></th>\n",
       "      <th></th>\n",
       "      <th></th>\n",
       "    </tr>\n",
       "  </thead>\n",
       "  <tbody>\n",
       "    <tr>\n",
       "      <td>False</td>\n",
       "      <td>1063</td>\n",
       "      <td>13086</td>\n",
       "      <td>8.123185</td>\n",
       "    </tr>\n",
       "    <tr>\n",
       "      <td>True</td>\n",
       "      <td>678</td>\n",
       "      <td>6698</td>\n",
       "      <td>10.122425</td>\n",
       "    </tr>\n",
       "  </tbody>\n",
       "</table>\n",
       "</div>"
      ],
      "text/plain": [
       "                   debt     ok          %\n",
       "children_category                        \n",
       "False              1063  13086   8.123185\n",
       "True                678   6698  10.122425"
      ]
     },
     "execution_count": 50,
     "metadata": {},
     "output_type": "execute_result"
    }
   ],
   "source": [
    "df_children['%'] = percent(df_children,'debt','ok')\n",
    "df_children.sort_values('%')"
   ]
  },
  {
   "cell_type": "markdown",
   "metadata": {
    "pycharm": {
     "name": "#%% md\n"
    }
   },
   "source": [
    "Таким образом, выяснили, что имеющие детей допускают просрочки в 10% случаев  \n",
    "При этом не имеющие детей допускают просрочки в 8% случаев  \n",
    "Следовательно, наличие детей немного увеличивает вероятность просрочки"
   ]
  },
  {
   "cell_type": "markdown",
   "metadata": {
    "pycharm": {
     "name": "#%% md\n"
    }
   },
   "source": [
    "### Есть ли зависимость между семейным положением и возвратом кредита в срок?"
   ]
  },
  {
   "cell_type": "markdown",
   "metadata": {
    "pycharm": {
     "name": "#%% md\n"
    }
   },
   "source": [
    "Исходные данные категоризированы по семейному положению, следовательно, необходимо провести аналогичные действия для этих категорий"
   ]
  },
  {
   "cell_type": "markdown",
   "metadata": {
    "pycharm": {
     "name": "#%% md\n"
    }
   },
   "source": [
    "Для начала сформируем датафрейм, который будет содержать сводные данные по категории и количеству \"хороших\" и \"плохих\" задолженностей\n",
    "Воспользуемся уже написанными функциями df_category_debt() и percent()"
   ]
  },
  {
   "cell_type": "code",
   "execution_count": 51,
   "metadata": {
    "scrolled": true,
    "pycharm": {
     "name": "#%%\n"
    }
   },
   "outputs": [
    {
     "data": {
      "text/html": [
       "<div>\n",
       "<style scoped>\n",
       "    .dataframe tbody tr th:only-of-type {\n",
       "        vertical-align: middle;\n",
       "    }\n",
       "\n",
       "    .dataframe tbody tr th {\n",
       "        vertical-align: top;\n",
       "    }\n",
       "\n",
       "    .dataframe thead th {\n",
       "        text-align: right;\n",
       "    }\n",
       "</style>\n",
       "<table border=\"1\" class=\"dataframe\">\n",
       "  <thead>\n",
       "    <tr style=\"text-align: right;\">\n",
       "      <th></th>\n",
       "      <th>debt</th>\n",
       "      <th>ok</th>\n",
       "    </tr>\n",
       "    <tr>\n",
       "      <th>family_status</th>\n",
       "      <th></th>\n",
       "      <th></th>\n",
       "    </tr>\n",
       "  </thead>\n",
       "  <tbody>\n",
       "    <tr>\n",
       "      <td>Не женат / не замужем</td>\n",
       "      <td>274</td>\n",
       "      <td>2539</td>\n",
       "    </tr>\n",
       "    <tr>\n",
       "      <td>в разводе</td>\n",
       "      <td>85</td>\n",
       "      <td>1110</td>\n",
       "    </tr>\n",
       "    <tr>\n",
       "      <td>вдовец / вдова</td>\n",
       "      <td>63</td>\n",
       "      <td>897</td>\n",
       "    </tr>\n",
       "    <tr>\n",
       "      <td>гражданский брак</td>\n",
       "      <td>388</td>\n",
       "      <td>3789</td>\n",
       "    </tr>\n",
       "    <tr>\n",
       "      <td>женат / замужем</td>\n",
       "      <td>931</td>\n",
       "      <td>11449</td>\n",
       "    </tr>\n",
       "  </tbody>\n",
       "</table>\n",
       "</div>"
      ],
      "text/plain": [
       "                       debt     ok\n",
       "family_status                     \n",
       "Не женат / не замужем   274   2539\n",
       "в разводе                85   1110\n",
       "вдовец / вдова           63    897\n",
       "гражданский брак        388   3789\n",
       "женат / замужем         931  11449"
      ]
     },
     "execution_count": 51,
     "metadata": {},
     "output_type": "execute_result"
    }
   ],
   "source": [
    "df_family_status = df_category_debt('family_status', True).to_frame()\n",
    "\n",
    "df_family_status['ok'] = df_category_debt('family_status', False)\n",
    "\n",
    "df_family_status"
   ]
  },
  {
   "cell_type": "code",
   "execution_count": 52,
   "metadata": {
    "pycharm": {
     "name": "#%%\n"
    }
   },
   "outputs": [
    {
     "data": {
      "text/html": [
       "<div>\n",
       "<style scoped>\n",
       "    .dataframe tbody tr th:only-of-type {\n",
       "        vertical-align: middle;\n",
       "    }\n",
       "\n",
       "    .dataframe tbody tr th {\n",
       "        vertical-align: top;\n",
       "    }\n",
       "\n",
       "    .dataframe thead th {\n",
       "        text-align: right;\n",
       "    }\n",
       "</style>\n",
       "<table border=\"1\" class=\"dataframe\">\n",
       "  <thead>\n",
       "    <tr style=\"text-align: right;\">\n",
       "      <th></th>\n",
       "      <th>debt</th>\n",
       "      <th>ok</th>\n",
       "      <th>%</th>\n",
       "    </tr>\n",
       "    <tr>\n",
       "      <th>family_status</th>\n",
       "      <th></th>\n",
       "      <th></th>\n",
       "      <th></th>\n",
       "    </tr>\n",
       "  </thead>\n",
       "  <tbody>\n",
       "    <tr>\n",
       "      <td>вдовец / вдова</td>\n",
       "      <td>63</td>\n",
       "      <td>897</td>\n",
       "      <td>7.023411</td>\n",
       "    </tr>\n",
       "    <tr>\n",
       "      <td>в разводе</td>\n",
       "      <td>85</td>\n",
       "      <td>1110</td>\n",
       "      <td>7.657658</td>\n",
       "    </tr>\n",
       "    <tr>\n",
       "      <td>женат / замужем</td>\n",
       "      <td>931</td>\n",
       "      <td>11449</td>\n",
       "      <td>8.131715</td>\n",
       "    </tr>\n",
       "    <tr>\n",
       "      <td>гражданский брак</td>\n",
       "      <td>388</td>\n",
       "      <td>3789</td>\n",
       "      <td>10.240169</td>\n",
       "    </tr>\n",
       "    <tr>\n",
       "      <td>Не женат / не замужем</td>\n",
       "      <td>274</td>\n",
       "      <td>2539</td>\n",
       "      <td>10.791650</td>\n",
       "    </tr>\n",
       "  </tbody>\n",
       "</table>\n",
       "</div>"
      ],
      "text/plain": [
       "                       debt     ok          %\n",
       "family_status                                \n",
       "вдовец / вдова           63    897   7.023411\n",
       "в разводе                85   1110   7.657658\n",
       "женат / замужем         931  11449   8.131715\n",
       "гражданский брак        388   3789  10.240169\n",
       "Не женат / не замужем   274   2539  10.791650"
      ]
     },
     "execution_count": 52,
     "metadata": {},
     "output_type": "execute_result"
    }
   ],
   "source": [
    "df_family_status['%'] = percent(df_family_status,'debt','ok')\n",
    "df_family_status.sort_values('%')"
   ]
  },
  {
   "cell_type": "markdown",
   "metadata": {
    "pycharm": {
     "name": "#%% md\n"
    }
   },
   "source": [
    "Получились довольно интересные результаты  \n",
    "Самые дисциплинированные - вдовцы и разведенные  \n",
    "Состоящие в браке - крепкие середнячки  \n",
    "А большее число просрочек у состоящих в \"гражданском браке\" и несемейных"
   ]
  },
  {
   "cell_type": "markdown",
   "metadata": {
    "pycharm": {
     "name": "#%% md\n"
    }
   },
   "source": [
    "### Есть ли зависимость между уровнем дохода и возвратом кредита в срок?"
   ]
  },
  {
   "cell_type": "markdown",
   "metadata": {
    "pycharm": {
     "name": "#%% md\n"
    }
   },
   "source": [
    "В предыдущем пункте мы получили категории для распределения доходов, разделив данные на 4 группы по квантилям\n",
    "Теперь необходимо вывести взаимосвязь между уровнем дохода и просрочками"
   ]
  },
  {
   "cell_type": "markdown",
   "metadata": {
    "pycharm": {
     "name": "#%% md\n"
    }
   },
   "source": [
    "Для начала сформируем датафрейм, который будет содержать сводные данные по категории и количеству \"хороших\" и \"плохих\" задолженностей\n",
    "Воспользуемся уже написанными функциями df_category_debt() и percent()"
   ]
  },
  {
   "cell_type": "code",
   "execution_count": 53,
   "metadata": {
    "scrolled": true,
    "pycharm": {
     "name": "#%%\n"
    }
   },
   "outputs": [
    {
     "data": {
      "text/html": [
       "<div>\n",
       "<style scoped>\n",
       "    .dataframe tbody tr th:only-of-type {\n",
       "        vertical-align: middle;\n",
       "    }\n",
       "\n",
       "    .dataframe tbody tr th {\n",
       "        vertical-align: top;\n",
       "    }\n",
       "\n",
       "    .dataframe thead th {\n",
       "        text-align: right;\n",
       "    }\n",
       "</style>\n",
       "<table border=\"1\" class=\"dataframe\">\n",
       "  <thead>\n",
       "    <tr style=\"text-align: right;\">\n",
       "      <th></th>\n",
       "      <th>debt</th>\n",
       "      <th>ok</th>\n",
       "    </tr>\n",
       "    <tr>\n",
       "      <th>quantile_id</th>\n",
       "      <th></th>\n",
       "      <th></th>\n",
       "    </tr>\n",
       "  </thead>\n",
       "  <tbody>\n",
       "    <tr>\n",
       "      <td>0</td>\n",
       "      <td>427</td>\n",
       "      <td>4955</td>\n",
       "    </tr>\n",
       "    <tr>\n",
       "      <td>1</td>\n",
       "      <td>547</td>\n",
       "      <td>5921</td>\n",
       "    </tr>\n",
       "    <tr>\n",
       "      <td>2</td>\n",
       "      <td>381</td>\n",
       "      <td>3913</td>\n",
       "    </tr>\n",
       "    <tr>\n",
       "      <td>3</td>\n",
       "      <td>386</td>\n",
       "      <td>4995</td>\n",
       "    </tr>\n",
       "  </tbody>\n",
       "</table>\n",
       "</div>"
      ],
      "text/plain": [
       "             debt    ok\n",
       "quantile_id            \n",
       "0             427  4955\n",
       "1             547  5921\n",
       "2             381  3913\n",
       "3             386  4995"
      ]
     },
     "execution_count": 53,
     "metadata": {},
     "output_type": "execute_result"
    }
   ],
   "source": [
    "df_quantile = df_category_debt('quantile_id', True).to_frame()\n",
    "\n",
    "df_quantile['ok'] = df_category_debt('quantile_id', False)\n",
    "\n",
    "df_quantile"
   ]
  },
  {
   "cell_type": "code",
   "execution_count": 54,
   "metadata": {
    "pycharm": {
     "name": "#%%\n"
    }
   },
   "outputs": [
    {
     "data": {
      "text/html": [
       "<div>\n",
       "<style scoped>\n",
       "    .dataframe tbody tr th:only-of-type {\n",
       "        vertical-align: middle;\n",
       "    }\n",
       "\n",
       "    .dataframe tbody tr th {\n",
       "        vertical-align: top;\n",
       "    }\n",
       "\n",
       "    .dataframe thead th {\n",
       "        text-align: right;\n",
       "    }\n",
       "</style>\n",
       "<table border=\"1\" class=\"dataframe\">\n",
       "  <thead>\n",
       "    <tr style=\"text-align: right;\">\n",
       "      <th></th>\n",
       "      <th>debt</th>\n",
       "      <th>ok</th>\n",
       "      <th>%</th>\n",
       "    </tr>\n",
       "    <tr>\n",
       "      <th>quantile_id</th>\n",
       "      <th></th>\n",
       "      <th></th>\n",
       "      <th></th>\n",
       "    </tr>\n",
       "  </thead>\n",
       "  <tbody>\n",
       "    <tr>\n",
       "      <td>3</td>\n",
       "      <td>386</td>\n",
       "      <td>4995</td>\n",
       "      <td>7.727728</td>\n",
       "    </tr>\n",
       "    <tr>\n",
       "      <td>0</td>\n",
       "      <td>427</td>\n",
       "      <td>4955</td>\n",
       "      <td>8.617558</td>\n",
       "    </tr>\n",
       "    <tr>\n",
       "      <td>1</td>\n",
       "      <td>547</td>\n",
       "      <td>5921</td>\n",
       "      <td>9.238304</td>\n",
       "    </tr>\n",
       "    <tr>\n",
       "      <td>2</td>\n",
       "      <td>381</td>\n",
       "      <td>3913</td>\n",
       "      <td>9.736775</td>\n",
       "    </tr>\n",
       "  </tbody>\n",
       "</table>\n",
       "</div>"
      ],
      "text/plain": [
       "             debt    ok         %\n",
       "quantile_id                      \n",
       "3             386  4995  7.727728\n",
       "0             427  4955  8.617558\n",
       "1             547  5921  9.238304\n",
       "2             381  3913  9.736775"
      ]
     },
     "execution_count": 54,
     "metadata": {},
     "output_type": "execute_result"
    }
   ],
   "source": [
    "df_quantile['%'] = percent(df_quantile,'debt','ok')\n",
    "df_quantile.sort_values('%')"
   ]
  },
  {
   "cell_type": "markdown",
   "metadata": {
    "pycharm": {
     "name": "#%% md\n"
    }
   },
   "source": [
    "Получается, что лучше всех выплачивают кредиты самые обеспеченные, потом самые бедные, а у середнячков число просрочек растет"
   ]
  },
  {
   "cell_type": "markdown",
   "metadata": {
    "pycharm": {
     "name": "#%% md\n"
    }
   },
   "source": [
    "### Как разные цели кредита влияют на его возврат в срок?"
   ]
  },
  {
   "cell_type": "markdown",
   "metadata": {
    "pycharm": {
     "name": "#%% md\n"
    }
   },
   "source": [
    "В предыдущем пункте мы провели лемматизацию и стемминг, получив 4 категории для целей получения кредита\n",
    "Теперь необходимо вывести взаимосвязь между целью кредита и просрочками"
   ]
  },
  {
   "cell_type": "markdown",
   "metadata": {
    "pycharm": {
     "name": "#%% md\n"
    }
   },
   "source": [
    "Для начала сформируем датафрейм, который будет содержать сводные данные по категории и количеству \"хороших\" и \"плохих\" задолженностей\n",
    "Воспользуемся уже написанными функциями df_category_debt() и percent()"
   ]
  },
  {
   "cell_type": "code",
   "execution_count": 55,
   "metadata": {
    "scrolled": true,
    "pycharm": {
     "name": "#%%\n"
    }
   },
   "outputs": [
    {
     "data": {
      "text/html": [
       "<div>\n",
       "<style scoped>\n",
       "    .dataframe tbody tr th:only-of-type {\n",
       "        vertical-align: middle;\n",
       "    }\n",
       "\n",
       "    .dataframe tbody tr th {\n",
       "        vertical-align: top;\n",
       "    }\n",
       "\n",
       "    .dataframe thead th {\n",
       "        text-align: right;\n",
       "    }\n",
       "</style>\n",
       "<table border=\"1\" class=\"dataframe\">\n",
       "  <thead>\n",
       "    <tr style=\"text-align: right;\">\n",
       "      <th></th>\n",
       "      <th>debt</th>\n",
       "      <th>ok</th>\n",
       "    </tr>\n",
       "    <tr>\n",
       "      <th>purpose_category</th>\n",
       "      <th></th>\n",
       "      <th></th>\n",
       "    </tr>\n",
       "  </thead>\n",
       "  <tbody>\n",
       "    <tr>\n",
       "      <td>Автомобиль</td>\n",
       "      <td>403</td>\n",
       "      <td>3912</td>\n",
       "    </tr>\n",
       "    <tr>\n",
       "      <td>Недвижимость</td>\n",
       "      <td>782</td>\n",
       "      <td>10058</td>\n",
       "    </tr>\n",
       "    <tr>\n",
       "      <td>Образование</td>\n",
       "      <td>370</td>\n",
       "      <td>3652</td>\n",
       "    </tr>\n",
       "    <tr>\n",
       "      <td>Свадьба</td>\n",
       "      <td>186</td>\n",
       "      <td>2162</td>\n",
       "    </tr>\n",
       "  </tbody>\n",
       "</table>\n",
       "</div>"
      ],
      "text/plain": [
       "                  debt     ok\n",
       "purpose_category             \n",
       "Автомобиль         403   3912\n",
       "Недвижимость       782  10058\n",
       "Образование        370   3652\n",
       "Свадьба            186   2162"
      ]
     },
     "execution_count": 55,
     "metadata": {},
     "output_type": "execute_result"
    }
   ],
   "source": [
    "df_purpose_category = df_category_debt('purpose_category', True).to_frame()\n",
    "\n",
    "df_purpose_category['ok'] = df_category_debt('purpose_category', False)\n",
    "\n",
    "df_purpose_category"
   ]
  },
  {
   "cell_type": "code",
   "execution_count": 56,
   "metadata": {
    "pycharm": {
     "name": "#%%\n"
    }
   },
   "outputs": [
    {
     "data": {
      "text/html": [
       "<div>\n",
       "<style scoped>\n",
       "    .dataframe tbody tr th:only-of-type {\n",
       "        vertical-align: middle;\n",
       "    }\n",
       "\n",
       "    .dataframe tbody tr th {\n",
       "        vertical-align: top;\n",
       "    }\n",
       "\n",
       "    .dataframe thead th {\n",
       "        text-align: right;\n",
       "    }\n",
       "</style>\n",
       "<table border=\"1\" class=\"dataframe\">\n",
       "  <thead>\n",
       "    <tr style=\"text-align: right;\">\n",
       "      <th></th>\n",
       "      <th>debt</th>\n",
       "      <th>ok</th>\n",
       "      <th>%</th>\n",
       "    </tr>\n",
       "    <tr>\n",
       "      <th>purpose_category</th>\n",
       "      <th></th>\n",
       "      <th></th>\n",
       "      <th></th>\n",
       "    </tr>\n",
       "  </thead>\n",
       "  <tbody>\n",
       "    <tr>\n",
       "      <td>Недвижимость</td>\n",
       "      <td>782</td>\n",
       "      <td>10058</td>\n",
       "      <td>7.774906</td>\n",
       "    </tr>\n",
       "    <tr>\n",
       "      <td>Свадьба</td>\n",
       "      <td>186</td>\n",
       "      <td>2162</td>\n",
       "      <td>8.603145</td>\n",
       "    </tr>\n",
       "    <tr>\n",
       "      <td>Образование</td>\n",
       "      <td>370</td>\n",
       "      <td>3652</td>\n",
       "      <td>10.131435</td>\n",
       "    </tr>\n",
       "    <tr>\n",
       "      <td>Автомобиль</td>\n",
       "      <td>403</td>\n",
       "      <td>3912</td>\n",
       "      <td>10.301636</td>\n",
       "    </tr>\n",
       "  </tbody>\n",
       "</table>\n",
       "</div>"
      ],
      "text/plain": [
       "                  debt     ok          %\n",
       "purpose_category                        \n",
       "Недвижимость       782  10058   7.774906\n",
       "Свадьба            186   2162   8.603145\n",
       "Образование        370   3652  10.131435\n",
       "Автомобиль         403   3912  10.301636"
      ]
     },
     "execution_count": 56,
     "metadata": {},
     "output_type": "execute_result"
    }
   ],
   "source": [
    "df_purpose_category['%'] = percent(df_purpose_category,'debt','ok')\n",
    "df_purpose_category.sort_values('%')"
   ]
  },
  {
   "cell_type": "markdown",
   "metadata": {
    "pycharm": {
     "name": "#%% md\n"
    }
   },
   "source": [
    "Выходит так, что ипотечники платят стабильнее всех, за ними идут молодожены, а на кредиты на образование и автомобиль чаще \"забивают\""
   ]
  },
  {
   "cell_type": "markdown",
   "metadata": {
    "pycharm": {
     "name": "#%% md\n"
    }
   },
   "source": [
    "<div style=\"border:solid red 2px; padding: 20px\"> \n",
    "    \n",
    "**Комментарий ревьюера**\n",
    "\n",
    "**#ошибка**\n",
    "\n",
    "Ты получила верные доли, но не совсем правильным способом.\n",
    "\n",
    "Получи, пожалуйста, те же проценты с помощью pivot_table. Этот метод сразу даст тебе таблицу, с которой удобно работать. \n",
    "    \n",
    "</div>"
   ]
  },
  {
   "cell_type": "code",
   "execution_count": 57,
   "metadata": {
    "pycharm": {
     "name": "#%%\n"
    }
   },
   "outputs": [
    {
     "data": {
      "text/html": [
       "<div>\n",
       "<style scoped>\n",
       "    .dataframe tbody tr th:only-of-type {\n",
       "        vertical-align: middle;\n",
       "    }\n",
       "\n",
       "    .dataframe tbody tr th {\n",
       "        vertical-align: top;\n",
       "    }\n",
       "\n",
       "    .dataframe thead th {\n",
       "        text-align: right;\n",
       "    }\n",
       "</style>\n",
       "<table border=\"1\" class=\"dataframe\">\n",
       "  <thead>\n",
       "    <tr style=\"text-align: right;\">\n",
       "      <th></th>\n",
       "      <th>debt</th>\n",
       "    </tr>\n",
       "    <tr>\n",
       "      <th>purpose_category</th>\n",
       "      <th></th>\n",
       "    </tr>\n",
       "  </thead>\n",
       "  <tbody>\n",
       "    <tr>\n",
       "      <td>Автомобиль</td>\n",
       "      <td>0.093395</td>\n",
       "    </tr>\n",
       "    <tr>\n",
       "      <td>Недвижимость</td>\n",
       "      <td>0.072140</td>\n",
       "    </tr>\n",
       "    <tr>\n",
       "      <td>Образование</td>\n",
       "      <td>0.091994</td>\n",
       "    </tr>\n",
       "    <tr>\n",
       "      <td>Свадьба</td>\n",
       "      <td>0.079216</td>\n",
       "    </tr>\n",
       "  </tbody>\n",
       "</table>\n",
       "</div>"
      ],
      "text/plain": [
       "                      debt\n",
       "purpose_category          \n",
       "Автомобиль        0.093395\n",
       "Недвижимость      0.072140\n",
       "Образование       0.091994\n",
       "Свадьба           0.079216"
      ]
     },
     "execution_count": 57,
     "metadata": {},
     "output_type": "execute_result"
    }
   ],
   "source": [
    "pd.pivot_table(df, index=['purpose_category'], values=['debt'])"
   ]
  },
  {
   "cell_type": "markdown",
   "metadata": {
    "pycharm": {
     "name": "#%% md\n"
    }
   },
   "source": [
    "<div style=\"border:solid blue 2px; padding: 20px\"> \n",
    "    \n",
    "pivot_table это материал следующего спринта, я пока не очень поняла, как он работает  \n",
    "Попробовала, числа вроде похожи, но отличаются\n",
    "    \n",
    "</div>"
   ]
  },
  {
   "cell_type": "markdown",
   "metadata": {
    "pycharm": {
     "name": "#%% md\n"
    }
   },
   "source": [
    "<div style=\"border:solid green 2px; padding: 20px\"> \n",
    "    \n",
    "**Комментарий ревьюера - 2**\n",
    "\n",
    "**#ок**\n",
    "    \n",
    "pivot дает правильный результат. А у тебя в таблице не совсем верно, ты поделили задолжность на без задолженности, а нужно задолженность делить на сумму задолженности и без\n",
    "\n",
    "</div>"
   ]
  },
  {
   "cell_type": "markdown",
   "metadata": {
    "pycharm": {
     "name": "#%% md\n"
    }
   },
   "source": [
    "## Шаг 4. Общий вывод"
   ]
  },
  {
   "cell_type": "markdown",
   "metadata": {
    "pycharm": {
     "name": "#%% md\n"
    }
   },
   "source": [
    "Были проанализированы зависимости различных категорий заемщиков и количества просрочек  \n",
    "Но насколько полученные данные значимы?"
   ]
  },
  {
   "cell_type": "markdown",
   "metadata": {
    "pycharm": {
     "name": "#%% md\n"
    }
   },
   "source": [
    "Сформируем датафрейм, в котором соберем сводные статистики по всем изученным зависимостям"
   ]
  },
  {
   "cell_type": "code",
   "execution_count": 58,
   "metadata": {
    "pycharm": {
     "name": "#%%\n"
    }
   },
   "outputs": [],
   "source": [
    "def df_final(column, series):\n",
    "    return series.describe()\n",
    "#функция, формирующая столбец из сводной статистики"
   ]
  },
  {
   "cell_type": "code",
   "execution_count": 59,
   "metadata": {
    "pycharm": {
     "name": "#%%\n"
    }
   },
   "outputs": [],
   "source": [
    "columns = ['children', 'family', 'quantile', 'purpose'] #список колонок\n",
    "\n",
    "series = [df_children['%'], df_family_status['%'], df_quantile['%'], df_purpose_category['%']]\n",
    "#список Series, из которых извлекаем статистику"
   ]
  },
  {
   "cell_type": "code",
   "execution_count": 60,
   "metadata": {
    "pycharm": {
     "name": "#%%\n"
    }
   },
   "outputs": [
    {
     "data": {
      "text/html": [
       "<div>\n",
       "<style scoped>\n",
       "    .dataframe tbody tr th:only-of-type {\n",
       "        vertical-align: middle;\n",
       "    }\n",
       "\n",
       "    .dataframe tbody tr th {\n",
       "        vertical-align: top;\n",
       "    }\n",
       "\n",
       "    .dataframe thead th {\n",
       "        text-align: right;\n",
       "    }\n",
       "</style>\n",
       "<table border=\"1\" class=\"dataframe\">\n",
       "  <thead>\n",
       "    <tr style=\"text-align: right;\">\n",
       "      <th></th>\n",
       "      <th>children</th>\n",
       "      <th>family</th>\n",
       "      <th>quantile</th>\n",
       "      <th>purpose</th>\n",
       "    </tr>\n",
       "  </thead>\n",
       "  <tbody>\n",
       "    <tr>\n",
       "      <td>count</td>\n",
       "      <td>2.000000</td>\n",
       "      <td>5.000000</td>\n",
       "      <td>4.000000</td>\n",
       "      <td>4.000000</td>\n",
       "    </tr>\n",
       "    <tr>\n",
       "      <td>mean</td>\n",
       "      <td>9.122805</td>\n",
       "      <td>8.768921</td>\n",
       "      <td>8.830091</td>\n",
       "      <td>9.202780</td>\n",
       "    </tr>\n",
       "    <tr>\n",
       "      <td>std</td>\n",
       "      <td>1.413676</td>\n",
       "      <td>1.654067</td>\n",
       "      <td>0.865850</td>\n",
       "      <td>1.220420</td>\n",
       "    </tr>\n",
       "    <tr>\n",
       "      <td>min</td>\n",
       "      <td>8.123185</td>\n",
       "      <td>7.023411</td>\n",
       "      <td>7.727728</td>\n",
       "      <td>7.774906</td>\n",
       "    </tr>\n",
       "    <tr>\n",
       "      <td>25%</td>\n",
       "      <td>8.622995</td>\n",
       "      <td>7.657658</td>\n",
       "      <td>8.395100</td>\n",
       "      <td>8.396085</td>\n",
       "    </tr>\n",
       "    <tr>\n",
       "      <td>50%</td>\n",
       "      <td>9.122805</td>\n",
       "      <td>8.131715</td>\n",
       "      <td>8.927931</td>\n",
       "      <td>9.367290</td>\n",
       "    </tr>\n",
       "    <tr>\n",
       "      <td>75%</td>\n",
       "      <td>9.622615</td>\n",
       "      <td>10.240169</td>\n",
       "      <td>9.362922</td>\n",
       "      <td>10.173985</td>\n",
       "    </tr>\n",
       "    <tr>\n",
       "      <td>max</td>\n",
       "      <td>10.122425</td>\n",
       "      <td>10.791650</td>\n",
       "      <td>9.736775</td>\n",
       "      <td>10.301636</td>\n",
       "    </tr>\n",
       "  </tbody>\n",
       "</table>\n",
       "</div>"
      ],
      "text/plain": [
       "        children     family  quantile    purpose\n",
       "count   2.000000   5.000000  4.000000   4.000000\n",
       "mean    9.122805   8.768921  8.830091   9.202780\n",
       "std     1.413676   1.654067  0.865850   1.220420\n",
       "min     8.123185   7.023411  7.727728   7.774906\n",
       "25%     8.622995   7.657658  8.395100   8.396085\n",
       "50%     9.122805   8.131715  8.927931   9.367290\n",
       "75%     9.622615  10.240169  9.362922  10.173985\n",
       "max    10.122425  10.791650  9.736775  10.301636"
      ]
     },
     "execution_count": 60,
     "metadata": {},
     "output_type": "execute_result"
    }
   ],
   "source": [
    "final = pd.DataFrame() #объявление итогового датафрейма со статистикой\n",
    "\n",
    "for i in range(len(series)):\n",
    "    final[columns[i]] = df_final(columns[i], series[i])\n",
    "#в цикле формируем столбцы датафрейма\n",
    "    \n",
    "final #выведем датафрейм на экран"
   ]
  },
  {
   "cell_type": "markdown",
   "metadata": {
    "pycharm": {
     "name": "#%% md\n"
    }
   },
   "source": [
    "Получается, что корреляция есть, но она не очень значительная  \n",
    "В любом случае, число просрочек находится в диапазоне 7-10%, в среднем 9%  \n",
    "Нужно использовать еще какие-то данные"
   ]
  },
  {
   "cell_type": "markdown",
   "metadata": {
    "pycharm": {
     "name": "#%% md\n"
    }
   },
   "source": [
    "<div style=\"border:solid green 2px; padding: 20px\"> \n",
    "\n",
    "**Общий комментарий по проекту**\n",
    "\n",
    "Ты отлично поработала над проектом, молодец. Ты сделала хороший самостоятельный анализ\n",
    "    \n",
    "Ты молодец, отлично справляешься с программой. \n",
    "    \n",
    "Поправь, пожалуйста, небольшие неточности, чтобы я могла принять проект. Удачи!\n",
    "</div>"
   ]
  },
  {
   "cell_type": "markdown",
   "metadata": {
    "pycharm": {
     "name": "#%% md\n"
    }
   },
   "source": [
    "## Чек-лист готовности проекта\n",
    "\n",
    "Поставьте 'x' в выполненных пунктах. Далее нажмите Shift+Enter."
   ]
  },
  {
   "cell_type": "markdown",
   "metadata": {
    "pycharm": {
     "name": "#%% md\n"
    }
   },
   "source": [
    "- [x]  открыт файл;\n",
    "- [x]  файл изучен;\n",
    "- [x]  определены пропущенные значения;\n",
    "- [x]  заполнены пропущенные значения;\n",
    "- [x]  есть пояснение, какие пропущенные значения обнаружены;\n",
    "- [x]  описаны возможные причины появления пропусков в данных;\n",
    "- [x]  объяснено, по какому принципу заполнены пропуски;\n",
    "- [x]  заменен вещественный тип данных на целочисленный;\n",
    "- [x]  есть пояснение, какой метод используется для изменения типа данных и почему;\n",
    "- [x]  удалены дубликаты;\n",
    "- [x]  есть пояснение, какой метод используется для поиска и удаления дубликатов;\n",
    "- [x]  описаны возможные причины появления дубликатов в данных;\n",
    "- [x]  выделены леммы в значениях столбца с целями получения кредита;\n",
    "- [x]  описан процесс лемматизации;\n",
    "- [x]  данные категоризированы;\n",
    "- [x]  есть объяснение принципа категоризации данных;\n",
    "- [x]  есть ответ на вопрос: \"Есть ли зависимость между наличием детей и возвратом кредита в срок?\";\n",
    "- [x]  есть ответ на вопрос: \"Есть ли зависимость между семейным положением и возвратом кредита в срок?\";\n",
    "- [x]  есть ответ на вопрос: \"Есть ли зависимость между уровнем дохода и возвратом кредита в срок?\";\n",
    "- [x]  есть ответ на вопрос: \"Как разные цели кредита влияют на его возврат в срок?\";\n",
    "- [x]  в каждом этапе есть выводы;\n",
    "- [x]  есть общий вывод."
   ]
  }
 ],
 "metadata": {
  "ExecuteTimeLog": [
   {
    "duration": 846,
    "start_time": "2022-01-07T02:02:03.554Z"
   },
   {
    "duration": 16,
    "start_time": "2022-01-07T02:02:18.028Z"
   },
   {
    "duration": 29,
    "start_time": "2022-01-07T02:02:52.860Z"
   },
   {
    "duration": 8,
    "start_time": "2022-01-07T02:03:52.097Z"
   },
   {
    "duration": 16,
    "start_time": "2022-01-07T02:05:18.487Z"
   },
   {
    "duration": 14,
    "start_time": "2022-01-07T02:06:42.811Z"
   },
   {
    "duration": 35,
    "start_time": "2022-01-07T02:07:23.497Z"
   },
   {
    "duration": 10,
    "start_time": "2022-01-07T02:08:02.810Z"
   },
   {
    "duration": 10,
    "start_time": "2022-01-07T02:09:21.732Z"
   },
   {
    "duration": 9,
    "start_time": "2022-01-07T02:09:29.862Z"
   },
   {
    "duration": 10,
    "start_time": "2022-01-07T02:09:35.533Z"
   },
   {
    "duration": 8,
    "start_time": "2022-01-07T02:11:04.009Z"
   },
   {
    "duration": 107,
    "start_time": "2022-01-07T02:13:23.003Z"
   },
   {
    "duration": 15,
    "start_time": "2022-01-07T02:13:27.854Z"
   },
   {
    "duration": 16,
    "start_time": "2022-01-07T02:14:07.598Z"
   },
   {
    "duration": 14,
    "start_time": "2022-01-07T02:15:32.747Z"
   },
   {
    "duration": 9,
    "start_time": "2022-01-07T02:16:29.455Z"
   },
   {
    "duration": 13,
    "start_time": "2022-01-07T02:16:34.102Z"
   },
   {
    "duration": 14,
    "start_time": "2022-01-07T02:17:38.454Z"
   },
   {
    "duration": 14,
    "start_time": "2022-01-07T02:18:56.879Z"
   },
   {
    "duration": 14,
    "start_time": "2022-01-07T02:19:02.413Z"
   },
   {
    "duration": 15,
    "start_time": "2022-01-07T02:19:12.291Z"
   },
   {
    "duration": 10,
    "start_time": "2022-01-07T02:19:46.796Z"
   },
   {
    "duration": 23,
    "start_time": "2022-01-07T02:20:35.489Z"
   },
   {
    "duration": 61,
    "start_time": "2022-01-07T02:21:20.751Z"
   },
   {
    "duration": 15,
    "start_time": "2022-01-07T02:21:21.323Z"
   },
   {
    "duration": 19,
    "start_time": "2022-01-07T02:21:21.836Z"
   },
   {
    "duration": 7,
    "start_time": "2022-01-07T02:21:24.773Z"
   },
   {
    "duration": 17,
    "start_time": "2022-01-07T02:21:26.000Z"
   },
   {
    "duration": 13,
    "start_time": "2022-01-07T02:21:28.938Z"
   },
   {
    "duration": 32,
    "start_time": "2022-01-07T02:21:32.621Z"
   },
   {
    "duration": 9,
    "start_time": "2022-01-07T02:21:42.828Z"
   },
   {
    "duration": 10,
    "start_time": "2022-01-07T02:21:48.468Z"
   },
   {
    "duration": 16,
    "start_time": "2022-01-07T02:21:52.419Z"
   },
   {
    "duration": 10,
    "start_time": "2022-01-07T02:22:00.734Z"
   },
   {
    "duration": 24,
    "start_time": "2022-01-07T02:22:04.364Z"
   },
   {
    "duration": 8,
    "start_time": "2022-01-07T02:22:25.393Z"
   },
   {
    "duration": 10,
    "start_time": "2022-01-07T02:23:11.030Z"
   },
   {
    "duration": 25,
    "start_time": "2022-01-07T02:23:53.263Z"
   },
   {
    "duration": 9,
    "start_time": "2022-01-07T02:24:33.730Z"
   },
   {
    "duration": 9,
    "start_time": "2022-01-07T02:25:29.417Z"
   },
   {
    "duration": 110,
    "start_time": "2022-01-07T02:26:18.484Z"
   },
   {
    "duration": 16,
    "start_time": "2022-01-07T02:26:31.665Z"
   },
   {
    "duration": 10,
    "start_time": "2022-01-07T02:26:54.285Z"
   },
   {
    "duration": 536,
    "start_time": "2022-01-07T02:35:54.972Z"
   },
   {
    "duration": 356,
    "start_time": "2022-01-07T02:36:10.105Z"
   },
   {
    "duration": 338,
    "start_time": "2022-01-07T02:36:20.654Z"
   },
   {
    "duration": 33,
    "start_time": "2022-01-07T02:36:43.448Z"
   },
   {
    "duration": 29,
    "start_time": "2022-01-07T02:38:25.931Z"
   },
   {
    "duration": 10,
    "start_time": "2022-01-07T02:38:33.057Z"
   },
   {
    "duration": 29,
    "start_time": "2022-01-07T02:38:53.702Z"
   },
   {
    "duration": 9,
    "start_time": "2022-01-07T02:38:54.513Z"
   },
   {
    "duration": 10,
    "start_time": "2022-01-07T02:38:58.530Z"
   },
   {
    "duration": 790,
    "start_time": "2022-01-07T02:39:14.790Z"
   },
   {
    "duration": 23,
    "start_time": "2022-01-07T02:39:16.147Z"
   },
   {
    "duration": 29,
    "start_time": "2022-01-07T02:39:16.945Z"
   },
   {
    "duration": 10,
    "start_time": "2022-01-07T02:39:20.134Z"
   },
   {
    "duration": 18,
    "start_time": "2022-01-07T02:39:21.252Z"
   },
   {
    "duration": 12,
    "start_time": "2022-01-07T02:39:22.965Z"
   },
   {
    "duration": 36,
    "start_time": "2022-01-07T02:39:24.220Z"
   },
   {
    "duration": 11,
    "start_time": "2022-01-07T02:39:25.443Z"
   },
   {
    "duration": 11,
    "start_time": "2022-01-07T02:39:27.312Z"
   },
   {
    "duration": 18,
    "start_time": "2022-01-07T02:39:30.990Z"
   },
   {
    "duration": 10,
    "start_time": "2022-01-07T02:39:33.572Z"
   },
   {
    "duration": 24,
    "start_time": "2022-01-07T02:39:35.206Z"
   },
   {
    "duration": 9,
    "start_time": "2022-01-07T02:39:38.745Z"
   },
   {
    "duration": 10,
    "start_time": "2022-01-07T02:39:42.664Z"
   },
   {
    "duration": 28,
    "start_time": "2022-01-07T02:39:45.072Z"
   },
   {
    "duration": 9,
    "start_time": "2022-01-07T02:39:46.649Z"
   },
   {
    "duration": 10,
    "start_time": "2022-01-07T02:39:49.580Z"
   },
   {
    "duration": 17,
    "start_time": "2022-01-07T02:39:51.334Z"
   },
   {
    "duration": 10,
    "start_time": "2022-01-07T02:39:56.236Z"
   },
   {
    "duration": 28,
    "start_time": "2022-01-07T02:40:01.970Z"
   },
   {
    "duration": 10,
    "start_time": "2022-01-07T02:40:03.767Z"
   },
   {
    "duration": 8,
    "start_time": "2022-01-07T02:41:10.247Z"
   },
   {
    "duration": 13,
    "start_time": "2022-01-07T02:43:05.456Z"
   },
   {
    "duration": 37,
    "start_time": "2022-01-07T02:43:37.825Z"
   },
   {
    "duration": 9,
    "start_time": "2022-01-07T02:46:37.096Z"
   },
   {
    "duration": 10,
    "start_time": "2022-01-07T02:47:25.781Z"
   },
   {
    "duration": 4778,
    "start_time": "2022-01-07T02:47:56.270Z"
   },
   {
    "duration": 4827,
    "start_time": "2022-01-07T02:48:26.587Z"
   },
   {
    "duration": 4903,
    "start_time": "2022-01-07T02:49:55.494Z"
   },
   {
    "duration": 5553,
    "start_time": "2022-01-07T03:00:47.099Z"
   },
   {
    "duration": 5210,
    "start_time": "2022-01-07T03:01:53.783Z"
   },
   {
    "duration": 4940,
    "start_time": "2022-01-07T03:02:27.240Z"
   },
   {
    "duration": 32,
    "start_time": "2022-01-07T03:03:05.034Z"
   },
   {
    "duration": 4761,
    "start_time": "2022-01-07T03:03:10.504Z"
   },
   {
    "duration": 4082,
    "start_time": "2022-01-07T03:04:55.602Z"
   },
   {
    "duration": 6687,
    "start_time": "2022-01-07T03:05:55.120Z"
   },
   {
    "duration": 3798,
    "start_time": "2022-01-07T03:06:17.631Z"
   },
   {
    "duration": 37,
    "start_time": "2022-01-07T03:06:35.803Z"
   },
   {
    "duration": 16,
    "start_time": "2022-01-07T03:10:44.068Z"
   },
   {
    "duration": 793,
    "start_time": "2022-01-07T03:28:09.111Z"
   },
   {
    "duration": 15,
    "start_time": "2022-01-07T03:28:09.907Z"
   },
   {
    "duration": 28,
    "start_time": "2022-01-07T03:28:12.549Z"
   },
   {
    "duration": 8,
    "start_time": "2022-01-07T03:28:20.555Z"
   },
   {
    "duration": 17,
    "start_time": "2022-01-07T03:28:21.772Z"
   },
   {
    "duration": 11,
    "start_time": "2022-01-07T03:28:23.566Z"
   },
   {
    "duration": 34,
    "start_time": "2022-01-07T03:28:27.619Z"
   },
   {
    "duration": 10,
    "start_time": "2022-01-07T03:28:30.708Z"
   },
   {
    "duration": 9,
    "start_time": "2022-01-07T03:28:34.129Z"
   },
   {
    "duration": 9,
    "start_time": "2022-01-07T03:28:39.517Z"
   },
   {
    "duration": 10,
    "start_time": "2022-01-07T03:28:41.570Z"
   },
   {
    "duration": 9,
    "start_time": "2022-01-07T03:28:45.832Z"
   },
   {
    "duration": 10,
    "start_time": "2022-01-07T03:28:47.544Z"
   },
   {
    "duration": 17,
    "start_time": "2022-01-07T03:28:50.444Z"
   },
   {
    "duration": 9,
    "start_time": "2022-01-07T03:28:53.552Z"
   },
   {
    "duration": 8,
    "start_time": "2022-01-07T03:29:17.269Z"
   },
   {
    "duration": 10,
    "start_time": "2022-01-07T03:29:19.019Z"
   },
   {
    "duration": 15,
    "start_time": "2022-01-07T03:29:21.288Z"
   },
   {
    "duration": 10,
    "start_time": "2022-01-07T03:29:22.930Z"
   },
   {
    "duration": 8,
    "start_time": "2022-01-07T03:29:26.439Z"
   },
   {
    "duration": 11,
    "start_time": "2022-01-07T03:29:30.833Z"
   },
   {
    "duration": 36,
    "start_time": "2022-01-07T03:29:35.003Z"
   },
   {
    "duration": 9,
    "start_time": "2022-01-07T03:29:38.912Z"
   },
   {
    "duration": 11,
    "start_time": "2022-01-07T03:29:40.522Z"
   },
   {
    "duration": 4,
    "start_time": "2022-01-07T03:34:24.840Z"
   },
   {
    "duration": 18,
    "start_time": "2022-01-07T03:34:38.556Z"
   },
   {
    "duration": 18,
    "start_time": "2022-01-07T03:38:01.815Z"
   },
   {
    "duration": 9,
    "start_time": "2022-01-07T03:39:40.543Z"
   },
   {
    "duration": 22,
    "start_time": "2022-01-07T03:39:44.005Z"
   },
   {
    "duration": 10,
    "start_time": "2022-01-07T03:39:53.458Z"
   },
   {
    "duration": 30,
    "start_time": "2022-01-07T03:39:58.331Z"
   },
   {
    "duration": 10,
    "start_time": "2022-01-07T03:40:00.767Z"
   },
   {
    "duration": 10,
    "start_time": "2022-01-07T03:40:10.634Z"
   },
   {
    "duration": 10,
    "start_time": "2022-01-07T03:40:15.162Z"
   },
   {
    "duration": 4674,
    "start_time": "2022-01-07T03:40:15.864Z"
   },
   {
    "duration": 60,
    "start_time": "2022-01-07T03:40:20.541Z"
   },
   {
    "duration": 10,
    "start_time": "2022-01-07T03:42:14.517Z"
   },
   {
    "duration": 32,
    "start_time": "2022-01-07T03:42:32.268Z"
   },
   {
    "duration": 5076,
    "start_time": "2022-01-07T03:42:33.531Z"
   },
   {
    "duration": 36,
    "start_time": "2022-01-07T03:42:38.610Z"
   },
   {
    "duration": 178,
    "start_time": "2022-01-07T03:47:07.960Z"
   },
   {
    "duration": 8,
    "start_time": "2022-01-07T03:49:07.175Z"
   },
   {
    "duration": 9,
    "start_time": "2022-01-07T03:51:10.943Z"
   },
   {
    "duration": 10,
    "start_time": "2022-01-07T03:51:14.226Z"
   },
   {
    "duration": 19,
    "start_time": "2022-01-07T03:51:47.661Z"
   },
   {
    "duration": 24,
    "start_time": "2022-01-07T03:52:46.146Z"
   },
   {
    "duration": 17,
    "start_time": "2022-01-07T03:53:04.357Z"
   },
   {
    "duration": 11,
    "start_time": "2022-01-07T03:53:17.387Z"
   },
   {
    "duration": 24,
    "start_time": "2022-01-07T03:53:37.911Z"
   },
   {
    "duration": 10,
    "start_time": "2022-01-07T03:54:43.146Z"
   },
   {
    "duration": 10,
    "start_time": "2022-01-07T03:54:50.149Z"
   },
   {
    "duration": 3768,
    "start_time": "2022-01-07T03:57:04.099Z"
   },
   {
    "duration": 34,
    "start_time": "2022-01-07T03:57:09.811Z"
   },
   {
    "duration": 15,
    "start_time": "2022-01-07T04:06:37.990Z"
   },
   {
    "duration": 10,
    "start_time": "2022-01-07T04:06:46.495Z"
   },
   {
    "duration": 9,
    "start_time": "2022-01-07T04:10:09.867Z"
   },
   {
    "duration": 38,
    "start_time": "2022-01-07T04:10:19.616Z"
   },
   {
    "duration": 9,
    "start_time": "2022-01-07T04:10:47.252Z"
   },
   {
    "duration": 38,
    "start_time": "2022-01-07T04:10:52.017Z"
   },
   {
    "duration": 9,
    "start_time": "2022-01-07T04:11:29.643Z"
   },
   {
    "duration": 8,
    "start_time": "2022-01-07T04:25:54.849Z"
   },
   {
    "duration": 9,
    "start_time": "2022-01-07T04:25:59.636Z"
   },
   {
    "duration": 2358,
    "start_time": "2022-01-07T04:26:10.310Z"
   },
   {
    "duration": 35,
    "start_time": "2022-01-07T04:26:29.419Z"
   },
   {
    "duration": 29,
    "start_time": "2022-01-07T04:27:20.363Z"
   },
   {
    "duration": 131,
    "start_time": "2022-01-07T04:27:59.223Z"
   },
   {
    "duration": 333,
    "start_time": "2022-01-07T04:28:10.629Z"
   },
   {
    "duration": 385,
    "start_time": "2022-01-07T04:29:37.429Z"
   },
   {
    "duration": 340,
    "start_time": "2022-01-07T04:29:55.145Z"
   },
   {
    "duration": 328,
    "start_time": "2022-01-07T04:30:22.684Z"
   },
   {
    "duration": 80,
    "start_time": "2022-01-07T04:30:29.859Z"
   },
   {
    "duration": 2294,
    "start_time": "2022-01-07T04:32:05.192Z"
   },
   {
    "duration": 115,
    "start_time": "2022-01-07T04:32:27.552Z"
   },
   {
    "duration": 2538,
    "start_time": "2022-01-07T04:33:45.708Z"
   },
   {
    "duration": 15,
    "start_time": "2022-01-07T04:35:07.330Z"
   },
   {
    "duration": 343,
    "start_time": "2022-01-07T04:35:22.729Z"
   },
   {
    "duration": 17,
    "start_time": "2022-01-07T04:35:31.539Z"
   },
   {
    "duration": 351,
    "start_time": "2022-01-07T04:35:54.001Z"
   },
   {
    "duration": 359,
    "start_time": "2022-01-07T04:36:07.538Z"
   },
   {
    "duration": 45,
    "start_time": "2022-01-07T04:36:19.415Z"
   },
   {
    "duration": 424,
    "start_time": "2022-01-07T04:37:10.402Z"
   },
   {
    "duration": 7390,
    "start_time": "2022-01-07T04:38:09.024Z"
   },
   {
    "duration": 46,
    "start_time": "2022-01-07T04:38:22.963Z"
   },
   {
    "duration": 366,
    "start_time": "2022-01-07T04:38:47.077Z"
   },
   {
    "duration": 31,
    "start_time": "2022-01-07T04:39:08.424Z"
   },
   {
    "duration": 36,
    "start_time": "2022-01-07T04:41:51.213Z"
   },
   {
    "duration": 34,
    "start_time": "2022-01-07T04:47:10.931Z"
   },
   {
    "duration": 32,
    "start_time": "2022-01-07T04:47:22.533Z"
   },
   {
    "duration": 349,
    "start_time": "2022-01-07T04:47:36.277Z"
   },
   {
    "duration": 30,
    "start_time": "2022-01-07T04:48:28.626Z"
   },
   {
    "duration": 31,
    "start_time": "2022-01-07T04:57:45.461Z"
   },
   {
    "duration": 766,
    "start_time": "2022-01-07T04:58:47.755Z"
   },
   {
    "duration": 12,
    "start_time": "2022-01-07T04:59:32.322Z"
   },
   {
    "duration": 7,
    "start_time": "2022-01-07T04:59:58.567Z"
   },
   {
    "duration": 126,
    "start_time": "2022-01-07T05:00:42.068Z"
   },
   {
    "duration": 9,
    "start_time": "2022-01-07T05:00:43.933Z"
   },
   {
    "duration": 7,
    "start_time": "2022-01-07T05:01:08.576Z"
   },
   {
    "duration": 9,
    "start_time": "2022-01-07T05:01:19.786Z"
   },
   {
    "duration": 467,
    "start_time": "2022-01-07T05:04:27.260Z"
   },
   {
    "duration": 27,
    "start_time": "2022-01-07T05:04:34.712Z"
   },
   {
    "duration": 28,
    "start_time": "2022-01-07T05:04:37.982Z"
   },
   {
    "duration": 32,
    "start_time": "2022-01-07T05:04:52.952Z"
   },
   {
    "duration": 36,
    "start_time": "2022-01-07T05:06:27.637Z"
   },
   {
    "duration": 3,
    "start_time": "2022-01-07T05:13:55.185Z"
   },
   {
    "duration": 34,
    "start_time": "2022-01-07T05:13:59.829Z"
   },
   {
    "duration": 4,
    "start_time": "2022-01-07T05:14:02.661Z"
   },
   {
    "duration": 17,
    "start_time": "2022-01-07T05:15:28.456Z"
   },
   {
    "duration": 13,
    "start_time": "2022-01-07T05:15:38.146Z"
   },
   {
    "duration": 6,
    "start_time": "2022-01-07T05:15:58.018Z"
   },
   {
    "duration": 6,
    "start_time": "2022-01-07T05:16:24.694Z"
   },
   {
    "duration": 325,
    "start_time": "2022-01-07T05:27:03.616Z"
   },
   {
    "duration": 23,
    "start_time": "2022-01-07T05:27:19.474Z"
   },
   {
    "duration": 34,
    "start_time": "2022-01-07T05:28:09.677Z"
   },
   {
    "duration": 5,
    "start_time": "2022-01-07T05:29:47.030Z"
   },
   {
    "duration": 13,
    "start_time": "2022-01-07T05:29:49.397Z"
   },
   {
    "duration": 37,
    "start_time": "2022-01-07T05:29:51.950Z"
   },
   {
    "duration": 24,
    "start_time": "2022-01-07T05:30:09.499Z"
   },
   {
    "duration": 20,
    "start_time": "2022-01-07T05:30:44.594Z"
   },
   {
    "duration": 371,
    "start_time": "2022-01-07T05:31:21.243Z"
   },
   {
    "duration": 10,
    "start_time": "2022-01-07T05:31:25.821Z"
   },
   {
    "duration": 13,
    "start_time": "2022-01-07T05:40:50.615Z"
   },
   {
    "duration": 7,
    "start_time": "2022-01-07T05:41:09.862Z"
   },
   {
    "duration": 7,
    "start_time": "2022-01-07T05:45:26.981Z"
   },
   {
    "duration": 8,
    "start_time": "2022-01-07T05:54:33.669Z"
   },
   {
    "duration": 7,
    "start_time": "2022-01-07T05:55:02.804Z"
   },
   {
    "duration": 377,
    "start_time": "2022-01-07T05:56:10.491Z"
   },
   {
    "duration": 11,
    "start_time": "2022-01-07T05:56:32.773Z"
   },
   {
    "duration": 9,
    "start_time": "2022-01-07T05:56:42.367Z"
   },
   {
    "duration": 31,
    "start_time": "2022-01-07T05:56:53.437Z"
   },
   {
    "duration": 6,
    "start_time": "2022-01-07T05:57:00.615Z"
   },
   {
    "duration": 369,
    "start_time": "2022-01-07T05:57:55.154Z"
   },
   {
    "duration": 20,
    "start_time": "2022-01-07T05:58:08.378Z"
   },
   {
    "duration": 23,
    "start_time": "2022-01-07T05:58:17.990Z"
   },
   {
    "duration": 2254,
    "start_time": "2022-01-07T05:58:42.889Z"
   },
   {
    "duration": 2223,
    "start_time": "2022-01-07T05:58:57.156Z"
   },
   {
    "duration": 21,
    "start_time": "2022-01-07T05:59:08.711Z"
   },
   {
    "duration": 12,
    "start_time": "2022-01-07T05:59:33.309Z"
   },
   {
    "duration": 16,
    "start_time": "2022-01-07T05:59:48.357Z"
   },
   {
    "duration": 10,
    "start_time": "2022-01-07T06:00:40.916Z"
   },
   {
    "duration": 14,
    "start_time": "2022-01-07T06:00:50.589Z"
   },
   {
    "duration": 389,
    "start_time": "2022-01-07T06:01:51.825Z"
   },
   {
    "duration": 11,
    "start_time": "2022-01-07T06:02:30.790Z"
   },
   {
    "duration": 17,
    "start_time": "2022-01-07T06:02:32.481Z"
   },
   {
    "duration": 11,
    "start_time": "2022-01-07T06:03:18.825Z"
   },
   {
    "duration": 15,
    "start_time": "2022-01-07T06:03:46.523Z"
   },
   {
    "duration": 352,
    "start_time": "2022-01-07T06:04:11.691Z"
   },
   {
    "duration": 15,
    "start_time": "2022-01-07T06:04:17.488Z"
   },
   {
    "duration": 358,
    "start_time": "2022-01-07T06:07:10.752Z"
   },
   {
    "duration": 10,
    "start_time": "2022-01-07T06:07:17.713Z"
   },
   {
    "duration": 9,
    "start_time": "2022-01-07T06:07:19.235Z"
   },
   {
    "duration": 15,
    "start_time": "2022-01-07T06:07:20.021Z"
   },
   {
    "duration": 370,
    "start_time": "2022-01-07T06:07:21.067Z"
   },
   {
    "duration": 19,
    "start_time": "2022-01-07T06:09:28.299Z"
   },
   {
    "duration": 18,
    "start_time": "2022-01-07T06:09:34.072Z"
   },
   {
    "duration": -1528,
    "start_time": "2022-01-07T06:10:29.158Z"
   },
   {
    "duration": 8546,
    "start_time": "2022-01-07T06:10:31.315Z"
   },
   {
    "duration": 19,
    "start_time": "2022-01-07T06:11:11.407Z"
   },
   {
    "duration": 15,
    "start_time": "2022-01-07T06:11:29.010Z"
   },
   {
    "duration": 19,
    "start_time": "2022-01-07T06:11:33.000Z"
   },
   {
    "duration": 18,
    "start_time": "2022-01-07T06:12:33.196Z"
   },
   {
    "duration": 20,
    "start_time": "2022-01-07T06:13:00.487Z"
   },
   {
    "duration": 12,
    "start_time": "2022-01-07T06:13:14.102Z"
   },
   {
    "duration": 25,
    "start_time": "2022-01-07T06:18:50.153Z"
   },
   {
    "duration": 26,
    "start_time": "2022-01-07T06:20:01.698Z"
   },
   {
    "duration": 9,
    "start_time": "2022-01-07T06:20:18.240Z"
   },
   {
    "duration": 24,
    "start_time": "2022-01-07T06:20:19.509Z"
   },
   {
    "duration": 26,
    "start_time": "2022-01-07T06:21:04.245Z"
   },
   {
    "duration": 10,
    "start_time": "2022-01-07T06:22:21.063Z"
   },
   {
    "duration": 4,
    "start_time": "2022-01-07T06:47:35.496Z"
   },
   {
    "duration": 4,
    "start_time": "2022-01-07T06:48:37.394Z"
   },
   {
    "duration": 11,
    "start_time": "2022-01-07T06:48:37.891Z"
   },
   {
    "duration": 9,
    "start_time": "2022-01-07T06:48:38.735Z"
   },
   {
    "duration": 6,
    "start_time": "2022-01-07T06:51:35.184Z"
   },
   {
    "duration": 5,
    "start_time": "2022-01-07T06:51:50.888Z"
   },
   {
    "duration": 5,
    "start_time": "2022-01-07T06:52:02.062Z"
   },
   {
    "duration": 7,
    "start_time": "2022-01-07T06:52:17.931Z"
   },
   {
    "duration": 6,
    "start_time": "2022-01-07T06:52:50.144Z"
   },
   {
    "duration": 6,
    "start_time": "2022-01-07T06:52:50.606Z"
   },
   {
    "duration": 13,
    "start_time": "2022-01-07T06:55:10.424Z"
   },
   {
    "duration": 13,
    "start_time": "2022-01-07T06:55:31.405Z"
   },
   {
    "duration": 13,
    "start_time": "2022-01-07T06:55:38.257Z"
   },
   {
    "duration": 12,
    "start_time": "2022-01-07T06:56:39.728Z"
   },
   {
    "duration": 11,
    "start_time": "2022-01-07T06:59:49.875Z"
   },
   {
    "duration": 14,
    "start_time": "2022-01-07T07:05:37.076Z"
   },
   {
    "duration": 21,
    "start_time": "2022-01-07T07:05:47.392Z"
   },
   {
    "duration": 418,
    "start_time": "2022-01-07T07:06:16.811Z"
   },
   {
    "duration": 44,
    "start_time": "2022-01-07T07:06:26.337Z"
   },
   {
    "duration": 45,
    "start_time": "2022-01-07T07:07:11.268Z"
   },
   {
    "duration": 20,
    "start_time": "2022-01-07T07:07:36.842Z"
   },
   {
    "duration": 19,
    "start_time": "2022-01-07T07:07:47.869Z"
   },
   {
    "duration": 15,
    "start_time": "2022-01-07T07:10:22.374Z"
   },
   {
    "duration": 20,
    "start_time": "2022-01-07T07:11:05.537Z"
   },
   {
    "duration": 6,
    "start_time": "2022-01-07T07:13:02.032Z"
   },
   {
    "duration": 109,
    "start_time": "2022-01-07T07:13:40.825Z"
   },
   {
    "duration": 225,
    "start_time": "2022-01-07T07:13:53.875Z"
   },
   {
    "duration": 7,
    "start_time": "2022-01-07T07:14:01.485Z"
   },
   {
    "duration": 5,
    "start_time": "2022-01-07T07:14:15.303Z"
   },
   {
    "duration": 6,
    "start_time": "2022-01-07T07:15:38.554Z"
   },
   {
    "duration": 14,
    "start_time": "2022-01-07T07:17:53.512Z"
   },
   {
    "duration": 6,
    "start_time": "2022-01-07T07:17:58.492Z"
   },
   {
    "duration": 114,
    "start_time": "2022-01-07T07:20:48.318Z"
   },
   {
    "duration": 29,
    "start_time": "2022-01-07T07:23:15.976Z"
   },
   {
    "duration": 26,
    "start_time": "2022-01-07T07:26:50.094Z"
   },
   {
    "duration": 26,
    "start_time": "2022-01-07T07:29:13.928Z"
   },
   {
    "duration": 23,
    "start_time": "2022-01-07T07:30:02.789Z"
   },
   {
    "duration": 15,
    "start_time": "2022-01-07T07:30:20.125Z"
   },
   {
    "duration": 361,
    "start_time": "2022-01-07T07:44:35.810Z"
   },
   {
    "duration": 12,
    "start_time": "2022-01-07T07:44:51.276Z"
   },
   {
    "duration": 173,
    "start_time": "2022-01-07T07:45:04.497Z"
   },
   {
    "duration": 13,
    "start_time": "2022-01-07T07:45:07.743Z"
   },
   {
    "duration": 36,
    "start_time": "2022-01-07T07:51:28.453Z"
   },
   {
    "duration": 13,
    "start_time": "2022-01-07T07:51:53.733Z"
   },
   {
    "duration": 26,
    "start_time": "2022-01-07T07:55:21.690Z"
   },
   {
    "duration": 364,
    "start_time": "2022-01-07T07:58:13.662Z"
   },
   {
    "duration": 325,
    "start_time": "2022-01-07T07:58:39.319Z"
   },
   {
    "duration": 27,
    "start_time": "2022-01-07T07:59:12.569Z"
   },
   {
    "duration": 4,
    "start_time": "2022-01-07T08:09:24.446Z"
   },
   {
    "duration": 24,
    "start_time": "2022-01-07T08:09:25.174Z"
   },
   {
    "duration": 4,
    "start_time": "2022-01-07T08:09:47.609Z"
   },
   {
    "duration": 22,
    "start_time": "2022-01-07T08:09:48.274Z"
   },
   {
    "duration": 812,
    "start_time": "2022-01-07T08:10:36.299Z"
   },
   {
    "duration": 15,
    "start_time": "2022-01-07T08:10:37.113Z"
   },
   {
    "duration": 42,
    "start_time": "2022-01-07T08:10:37.131Z"
   },
   {
    "duration": 9,
    "start_time": "2022-01-07T08:10:37.176Z"
   },
   {
    "duration": 19,
    "start_time": "2022-01-07T08:10:37.187Z"
   },
   {
    "duration": 10,
    "start_time": "2022-01-07T08:10:37.208Z"
   },
   {
    "duration": 70,
    "start_time": "2022-01-07T08:10:37.220Z"
   },
   {
    "duration": 9,
    "start_time": "2022-01-07T08:10:37.294Z"
   },
   {
    "duration": 10,
    "start_time": "2022-01-07T08:10:37.306Z"
   },
   {
    "duration": 41,
    "start_time": "2022-01-07T08:10:37.318Z"
   },
   {
    "duration": 12,
    "start_time": "2022-01-07T08:10:37.362Z"
   },
   {
    "duration": 8,
    "start_time": "2022-01-07T08:10:37.377Z"
   },
   {
    "duration": 10,
    "start_time": "2022-01-07T08:10:37.387Z"
   },
   {
    "duration": 8,
    "start_time": "2022-01-07T08:10:37.400Z"
   },
   {
    "duration": 54,
    "start_time": "2022-01-07T08:10:37.411Z"
   },
   {
    "duration": 17,
    "start_time": "2022-01-07T08:10:37.467Z"
   },
   {
    "duration": 12,
    "start_time": "2022-01-07T08:10:37.488Z"
   },
   {
    "duration": 9,
    "start_time": "2022-01-07T08:10:37.503Z"
   },
   {
    "duration": 51,
    "start_time": "2022-01-07T08:10:37.514Z"
   },
   {
    "duration": 35,
    "start_time": "2022-01-07T08:10:37.567Z"
   },
   {
    "duration": 9,
    "start_time": "2022-01-07T08:10:37.604Z"
   },
   {
    "duration": 46,
    "start_time": "2022-01-07T08:10:37.615Z"
   },
   {
    "duration": 18,
    "start_time": "2022-01-07T08:10:37.666Z"
   },
   {
    "duration": 18,
    "start_time": "2022-01-07T08:10:37.688Z"
   },
   {
    "duration": 9,
    "start_time": "2022-01-07T08:10:37.709Z"
   },
   {
    "duration": 23,
    "start_time": "2022-01-07T08:10:37.759Z"
   },
   {
    "duration": 10,
    "start_time": "2022-01-07T08:10:37.784Z"
   },
   {
    "duration": 12,
    "start_time": "2022-01-07T08:10:37.796Z"
   },
   {
    "duration": 4927,
    "start_time": "2022-01-07T08:10:37.810Z"
   },
   {
    "duration": 49,
    "start_time": "2022-01-07T08:10:42.740Z"
   },
   {
    "duration": 32,
    "start_time": "2022-01-07T08:10:42.791Z"
   },
   {
    "duration": 417,
    "start_time": "2022-01-07T08:10:42.825Z"
   },
   {
    "duration": -39,
    "start_time": "2022-01-07T08:10:43.284Z"
   },
   {
    "duration": -46,
    "start_time": "2022-01-07T08:10:43.292Z"
   },
   {
    "duration": -48,
    "start_time": "2022-01-07T08:10:43.296Z"
   },
   {
    "duration": -50,
    "start_time": "2022-01-07T08:10:43.299Z"
   },
   {
    "duration": -51,
    "start_time": "2022-01-07T08:10:43.302Z"
   },
   {
    "duration": -53,
    "start_time": "2022-01-07T08:10:43.306Z"
   },
   {
    "duration": -56,
    "start_time": "2022-01-07T08:10:43.310Z"
   },
   {
    "duration": -59,
    "start_time": "2022-01-07T08:10:43.314Z"
   },
   {
    "duration": -60,
    "start_time": "2022-01-07T08:10:43.317Z"
   },
   {
    "duration": -63,
    "start_time": "2022-01-07T08:10:43.321Z"
   },
   {
    "duration": -64,
    "start_time": "2022-01-07T08:10:43.324Z"
   },
   {
    "duration": -65,
    "start_time": "2022-01-07T08:10:43.326Z"
   },
   {
    "duration": -67,
    "start_time": "2022-01-07T08:10:43.329Z"
   },
   {
    "duration": -72,
    "start_time": "2022-01-07T08:10:43.336Z"
   },
   {
    "duration": -74,
    "start_time": "2022-01-07T08:10:43.339Z"
   },
   {
    "duration": 844,
    "start_time": "2022-01-07T08:20:50.352Z"
   },
   {
    "duration": 6,
    "start_time": "2022-01-07T08:20:52.124Z"
   },
   {
    "duration": 4,
    "start_time": "2022-01-07T08:20:56.646Z"
   },
   {
    "duration": 13,
    "start_time": "2022-01-07T08:20:57.247Z"
   },
   {
    "duration": 10,
    "start_time": "2022-01-07T08:20:58.975Z"
   },
   {
    "duration": 4,
    "start_time": "2022-01-07T08:21:03.820Z"
   },
   {
    "duration": 11,
    "start_time": "2022-01-07T08:21:04.856Z"
   },
   {
    "duration": 8,
    "start_time": "2022-01-07T08:21:05.593Z"
   },
   {
    "duration": 12,
    "start_time": "2022-01-07T08:21:13.090Z"
   },
   {
    "duration": 13,
    "start_time": "2022-01-07T08:21:15.472Z"
   },
   {
    "duration": 6,
    "start_time": "2022-01-07T08:21:18.125Z"
   },
   {
    "duration": 14,
    "start_time": "2022-01-07T08:21:54.329Z"
   },
   {
    "duration": 20,
    "start_time": "2022-01-07T08:22:05.218Z"
   },
   {
    "duration": 6,
    "start_time": "2022-01-07T08:22:09.832Z"
   },
   {
    "duration": 6,
    "start_time": "2022-01-07T08:22:30.633Z"
   },
   {
    "duration": 4,
    "start_time": "2022-01-07T08:23:01.743Z"
   },
   {
    "duration": 409,
    "start_time": "2022-01-07T08:23:02.829Z"
   },
   {
    "duration": 22,
    "start_time": "2022-01-07T08:23:18.697Z"
   },
   {
    "duration": 5,
    "start_time": "2022-01-07T08:26:23.359Z"
   },
   {
    "duration": 20,
    "start_time": "2022-01-07T08:26:24.453Z"
   },
   {
    "duration": 4,
    "start_time": "2022-01-07T08:27:39.689Z"
   },
   {
    "duration": 24,
    "start_time": "2022-01-07T08:27:40.542Z"
   },
   {
    "duration": 4,
    "start_time": "2022-01-07T08:27:44.049Z"
   },
   {
    "duration": 17,
    "start_time": "2022-01-07T08:27:46.278Z"
   },
   {
    "duration": 5,
    "start_time": "2022-01-07T08:29:59.318Z"
   },
   {
    "duration": 13,
    "start_time": "2022-01-07T08:30:13.100Z"
   },
   {
    "duration": 23,
    "start_time": "2022-01-07T08:33:38.199Z"
   },
   {
    "duration": 363,
    "start_time": "2022-01-07T08:34:59.299Z"
   },
   {
    "duration": 24,
    "start_time": "2022-01-07T08:35:04.558Z"
   },
   {
    "duration": 1505,
    "start_time": "2022-01-07T08:35:05.365Z"
   },
   {
    "duration": 14,
    "start_time": "2022-01-07T08:36:01.645Z"
   },
   {
    "duration": 25,
    "start_time": "2022-01-07T08:44:23.454Z"
   },
   {
    "duration": 23,
    "start_time": "2022-01-07T08:45:07.837Z"
   },
   {
    "duration": 14,
    "start_time": "2022-01-07T08:45:31.378Z"
   },
   {
    "duration": 23,
    "start_time": "2022-01-07T08:48:39.134Z"
   },
   {
    "duration": 382,
    "start_time": "2022-01-07T08:49:00.216Z"
   },
   {
    "duration": 15,
    "start_time": "2022-01-07T08:49:12.057Z"
   },
   {
    "duration": 6,
    "start_time": "2022-01-07T09:06:31.534Z"
   },
   {
    "duration": 6,
    "start_time": "2022-01-07T09:06:59.929Z"
   },
   {
    "duration": 6,
    "start_time": "2022-01-07T09:07:50.608Z"
   },
   {
    "duration": 5,
    "start_time": "2022-01-07T09:08:56.523Z"
   },
   {
    "duration": 5,
    "start_time": "2022-01-07T09:08:57.593Z"
   },
   {
    "duration": 8,
    "start_time": "2022-01-07T09:11:07.701Z"
   },
   {
    "duration": 340,
    "start_time": "2022-01-07T09:11:27.442Z"
   },
   {
    "duration": 429,
    "start_time": "2022-01-07T09:12:52.660Z"
   },
   {
    "duration": 6,
    "start_time": "2022-01-07T09:12:59.258Z"
   },
   {
    "duration": 25,
    "start_time": "2022-01-07T09:13:58.017Z"
   },
   {
    "duration": 9,
    "start_time": "2022-01-07T09:14:09.655Z"
   },
   {
    "duration": 7,
    "start_time": "2022-01-07T09:14:32.663Z"
   },
   {
    "duration": 10,
    "start_time": "2022-01-07T09:14:55.848Z"
   },
   {
    "duration": 9,
    "start_time": "2022-01-07T09:14:56.834Z"
   },
   {
    "duration": 8,
    "start_time": "2022-01-07T09:14:57.728Z"
   },
   {
    "duration": 11,
    "start_time": "2022-01-07T09:16:34.444Z"
   },
   {
    "duration": 11,
    "start_time": "2022-01-07T09:19:15.526Z"
   },
   {
    "duration": 20,
    "start_time": "2022-01-07T09:20:18.171Z"
   },
   {
    "duration": 18,
    "start_time": "2022-01-07T09:21:17.488Z"
   },
   {
    "duration": 15,
    "start_time": "2022-01-07T09:22:21.931Z"
   },
   {
    "duration": 28,
    "start_time": "2022-01-07T09:30:16.261Z"
   },
   {
    "duration": 559,
    "start_time": "2022-01-07T09:33:46.463Z"
   },
   {
    "duration": 363,
    "start_time": "2022-01-07T09:34:58.314Z"
   },
   {
    "duration": 38,
    "start_time": "2022-01-07T09:35:15.352Z"
   },
   {
    "duration": 44,
    "start_time": "2022-01-07T09:36:18.768Z"
   },
   {
    "duration": 115,
    "start_time": "2022-01-07T09:36:45.097Z"
   },
   {
    "duration": 120,
    "start_time": "2022-01-07T09:38:07.642Z"
   },
   {
    "duration": 15,
    "start_time": "2022-01-07T09:38:17.686Z"
   },
   {
    "duration": 21,
    "start_time": "2022-01-07T09:38:50.717Z"
   },
   {
    "duration": 36,
    "start_time": "2022-01-07T09:44:54.979Z"
   },
   {
    "duration": 33,
    "start_time": "2022-01-07T09:45:22.860Z"
   },
   {
    "duration": 3,
    "start_time": "2022-01-07T09:51:02.109Z"
   },
   {
    "duration": 30,
    "start_time": "2022-01-07T09:53:32.937Z"
   },
   {
    "duration": 354,
    "start_time": "2022-01-07T09:55:42.427Z"
   },
   {
    "duration": 339,
    "start_time": "2022-01-07T09:56:33.801Z"
   },
   {
    "duration": 510,
    "start_time": "2022-01-07T09:57:04.126Z"
   },
   {
    "duration": 870,
    "start_time": "2022-01-07T10:06:11.303Z"
   },
   {
    "duration": 18,
    "start_time": "2022-01-07T10:06:12.176Z"
   },
   {
    "duration": 31,
    "start_time": "2022-01-07T10:06:12.197Z"
   },
   {
    "duration": 8,
    "start_time": "2022-01-07T10:06:12.258Z"
   },
   {
    "duration": 18,
    "start_time": "2022-01-07T10:06:12.269Z"
   },
   {
    "duration": 10,
    "start_time": "2022-01-07T10:06:12.290Z"
   },
   {
    "duration": 75,
    "start_time": "2022-01-07T10:06:12.302Z"
   },
   {
    "duration": 8,
    "start_time": "2022-01-07T10:06:12.382Z"
   },
   {
    "duration": 10,
    "start_time": "2022-01-07T10:06:12.393Z"
   },
   {
    "duration": 8,
    "start_time": "2022-01-07T10:06:12.405Z"
   },
   {
    "duration": 48,
    "start_time": "2022-01-07T10:06:12.415Z"
   },
   {
    "duration": 11,
    "start_time": "2022-01-07T10:06:12.466Z"
   },
   {
    "duration": 12,
    "start_time": "2022-01-07T10:06:12.479Z"
   },
   {
    "duration": 10,
    "start_time": "2022-01-07T10:06:12.493Z"
   },
   {
    "duration": 11,
    "start_time": "2022-01-07T10:06:12.506Z"
   },
   {
    "duration": 57,
    "start_time": "2022-01-07T10:06:12.519Z"
   },
   {
    "duration": 10,
    "start_time": "2022-01-07T10:06:12.579Z"
   },
   {
    "duration": 14,
    "start_time": "2022-01-07T10:06:12.591Z"
   },
   {
    "duration": 53,
    "start_time": "2022-01-07T10:06:12.608Z"
   },
   {
    "duration": 48,
    "start_time": "2022-01-07T10:06:12.664Z"
   },
   {
    "duration": 12,
    "start_time": "2022-01-07T10:06:12.715Z"
   },
   {
    "duration": 40,
    "start_time": "2022-01-07T10:06:12.729Z"
   },
   {
    "duration": 20,
    "start_time": "2022-01-07T10:06:12.777Z"
   },
   {
    "duration": 18,
    "start_time": "2022-01-07T10:06:12.800Z"
   },
   {
    "duration": 44,
    "start_time": "2022-01-07T10:06:12.821Z"
   },
   {
    "duration": 24,
    "start_time": "2022-01-07T10:06:12.868Z"
   },
   {
    "duration": 10,
    "start_time": "2022-01-07T10:06:12.894Z"
   },
   {
    "duration": 11,
    "start_time": "2022-01-07T10:06:12.906Z"
   },
   {
    "duration": 5914,
    "start_time": "2022-01-07T10:06:12.919Z"
   },
   {
    "duration": 45,
    "start_time": "2022-01-07T10:06:18.836Z"
   },
   {
    "duration": 32,
    "start_time": "2022-01-07T10:06:18.883Z"
   },
   {
    "duration": 835,
    "start_time": "2022-01-07T10:06:18.918Z"
   },
   {
    "duration": 6,
    "start_time": "2022-01-07T10:06:19.756Z"
   },
   {
    "duration": 5,
    "start_time": "2022-01-07T10:06:19.764Z"
   },
   {
    "duration": 15,
    "start_time": "2022-01-07T10:06:19.771Z"
   },
   {
    "duration": 12,
    "start_time": "2022-01-07T10:06:19.788Z"
   },
   {
    "duration": 4,
    "start_time": "2022-01-07T10:06:19.803Z"
   },
   {
    "duration": 59,
    "start_time": "2022-01-07T10:06:19.810Z"
   },
   {
    "duration": 8,
    "start_time": "2022-01-07T10:06:19.871Z"
   },
   {
    "duration": 11,
    "start_time": "2022-01-07T10:06:19.882Z"
   },
   {
    "duration": 12,
    "start_time": "2022-01-07T10:06:19.895Z"
   },
   {
    "duration": 68,
    "start_time": "2022-01-07T10:06:19.910Z"
   },
   {
    "duration": 4,
    "start_time": "2022-01-07T10:06:19.981Z"
   },
   {
    "duration": 33,
    "start_time": "2022-01-07T10:06:19.987Z"
   },
   {
    "duration": 3,
    "start_time": "2022-01-07T10:06:20.023Z"
   },
   {
    "duration": 20,
    "start_time": "2022-01-07T10:06:20.060Z"
   },
   {
    "duration": 31,
    "start_time": "2022-01-07T10:06:20.083Z"
   },
   {
    "duration": 41,
    "start_time": "2022-01-07T10:06:20.118Z"
   },
   {
    "duration": 22,
    "start_time": "2022-01-07T10:06:20.162Z"
   },
   {
    "duration": 12,
    "start_time": "2022-01-07T10:06:20.187Z"
   },
   {
    "duration": 59,
    "start_time": "2022-01-07T10:06:20.202Z"
   },
   {
    "duration": 13,
    "start_time": "2022-01-07T10:06:20.263Z"
   },
   {
    "duration": 4,
    "start_time": "2022-01-07T10:06:20.279Z"
   },
   {
    "duration": 7,
    "start_time": "2022-01-07T10:06:20.286Z"
   },
   {
    "duration": 67,
    "start_time": "2022-01-07T10:06:20.295Z"
   },
   {
    "duration": 104,
    "start_time": "2022-01-08T04:42:45.852Z"
   },
   {
    "duration": 46,
    "start_time": "2022-01-08T13:04:10.847Z"
   },
   {
    "duration": 572,
    "start_time": "2022-01-08T13:04:16.121Z"
   },
   {
    "duration": 12,
    "start_time": "2022-01-08T13:04:17.407Z"
   },
   {
    "duration": 19,
    "start_time": "2022-01-08T13:04:18.785Z"
   },
   {
    "duration": 39,
    "start_time": "2022-01-08T13:04:21.765Z"
   },
   {
    "duration": 8,
    "start_time": "2022-01-08T13:04:27.653Z"
   },
   {
    "duration": 9,
    "start_time": "2022-01-08T13:11:06.527Z"
   },
   {
    "duration": 9,
    "start_time": "2022-01-08T13:13:10.154Z"
   },
   {
    "duration": 5,
    "start_time": "2022-01-08T13:14:16.274Z"
   },
   {
    "duration": 8,
    "start_time": "2022-01-08T13:39:48.348Z"
   },
   {
    "duration": 5,
    "start_time": "2022-01-08T13:40:55.280Z"
   },
   {
    "duration": 6,
    "start_time": "2022-01-08T13:43:47.694Z"
   },
   {
    "duration": 26,
    "start_time": "2022-01-08T13:43:56.734Z"
   },
   {
    "duration": 7,
    "start_time": "2022-01-08T13:43:58.840Z"
   },
   {
    "duration": 6,
    "start_time": "2022-01-08T13:44:11.041Z"
   },
   {
    "duration": 7,
    "start_time": "2022-01-08T13:44:19.891Z"
   },
   {
    "duration": 6,
    "start_time": "2022-01-08T13:45:17.751Z"
   },
   {
    "duration": 6,
    "start_time": "2022-01-08T13:45:42.099Z"
   },
   {
    "duration": 6,
    "start_time": "2022-01-08T13:45:56.388Z"
   },
   {
    "duration": 7,
    "start_time": "2022-01-08T13:50:10.863Z"
   },
   {
    "duration": 6,
    "start_time": "2022-01-08T13:50:52.047Z"
   },
   {
    "duration": 14,
    "start_time": "2022-01-08T14:06:16.259Z"
   },
   {
    "duration": 192,
    "start_time": "2022-01-08T14:09:36.003Z"
   },
   {
    "duration": 4,
    "start_time": "2022-01-08T14:09:40.019Z"
   },
   {
    "duration": 267,
    "start_time": "2022-01-08T14:09:40.766Z"
   },
   {
    "duration": 1274,
    "start_time": "2022-01-08T14:09:56.191Z"
   },
   {
    "duration": 52,
    "start_time": "2022-01-08T14:09:58.367Z"
   },
   {
    "duration": 11,
    "start_time": "2022-01-08T14:09:59.165Z"
   },
   {
    "duration": 1170,
    "start_time": "2022-01-08T14:10:58.798Z"
   },
   {
    "duration": 53,
    "start_time": "2022-01-08T14:11:02.093Z"
   },
   {
    "duration": 12,
    "start_time": "2022-01-08T14:11:02.947Z"
   },
   {
    "duration": 23,
    "start_time": "2022-01-08T14:11:05.482Z"
   },
   {
    "duration": 1149,
    "start_time": "2022-01-08T14:11:23.929Z"
   },
   {
    "duration": 52,
    "start_time": "2022-01-08T14:11:25.657Z"
   },
   {
    "duration": 12,
    "start_time": "2022-01-08T14:11:26.467Z"
   },
   {
    "duration": 20,
    "start_time": "2022-01-08T14:11:28.636Z"
   },
   {
    "duration": 1281,
    "start_time": "2022-01-08T14:11:40.677Z"
   },
   {
    "duration": 50,
    "start_time": "2022-01-08T14:11:41.960Z"
   },
   {
    "duration": 15,
    "start_time": "2022-01-08T14:11:42.501Z"
   },
   {
    "duration": 21,
    "start_time": "2022-01-08T14:11:43.323Z"
   },
   {
    "duration": 10,
    "start_time": "2022-01-08T14:11:55.583Z"
   },
   {
    "duration": 17,
    "start_time": "2022-01-08T14:12:02.798Z"
   },
   {
    "duration": 10,
    "start_time": "2022-01-08T14:12:08.590Z"
   },
   {
    "duration": 7,
    "start_time": "2022-01-08T14:12:42.528Z"
   },
   {
    "duration": 8,
    "start_time": "2022-01-08T14:13:09.655Z"
   },
   {
    "duration": 13,
    "start_time": "2022-01-08T14:14:03.381Z"
   },
   {
    "duration": 19,
    "start_time": "2022-01-08T14:14:55.299Z"
   },
   {
    "duration": 11,
    "start_time": "2022-01-08T14:15:12.649Z"
   },
   {
    "duration": 8,
    "start_time": "2022-01-08T14:17:19.630Z"
   },
   {
    "duration": 5,
    "start_time": "2022-01-08T14:17:37.511Z"
   },
   {
    "duration": 6,
    "start_time": "2022-01-08T14:18:13.800Z"
   },
   {
    "duration": 6,
    "start_time": "2022-01-08T14:18:26.557Z"
   },
   {
    "duration": 7,
    "start_time": "2022-01-08T14:18:28.223Z"
   },
   {
    "duration": 5,
    "start_time": "2022-01-08T14:18:51.805Z"
   },
   {
    "duration": 7,
    "start_time": "2022-01-08T14:19:01.839Z"
   },
   {
    "duration": 7,
    "start_time": "2022-01-08T14:19:05.657Z"
   },
   {
    "duration": 165,
    "start_time": "2022-01-08T14:23:48.325Z"
   },
   {
    "duration": 145,
    "start_time": "2022-01-08T14:24:02.688Z"
   },
   {
    "duration": 3,
    "start_time": "2022-01-08T14:24:07.161Z"
   },
   {
    "duration": 350,
    "start_time": "2022-01-08T14:24:08.469Z"
   },
   {
    "duration": 1175,
    "start_time": "2022-01-08T14:24:21.879Z"
   },
   {
    "duration": 1146,
    "start_time": "2022-01-08T14:24:46.319Z"
   },
   {
    "duration": 1163,
    "start_time": "2022-01-08T14:25:20.716Z"
   },
   {
    "duration": 54,
    "start_time": "2022-01-08T14:25:22.447Z"
   },
   {
    "duration": 12,
    "start_time": "2022-01-08T14:25:23.037Z"
   },
   {
    "duration": 19,
    "start_time": "2022-01-08T14:25:25.843Z"
   },
   {
    "duration": 7,
    "start_time": "2022-01-08T14:25:29.376Z"
   },
   {
    "duration": 16,
    "start_time": "2022-01-08T14:25:30.302Z"
   },
   {
    "duration": 10,
    "start_time": "2022-01-08T14:25:31.796Z"
   },
   {
    "duration": 8,
    "start_time": "2022-01-08T14:25:32.691Z"
   },
   {
    "duration": 10,
    "start_time": "2022-01-08T14:25:33.493Z"
   },
   {
    "duration": 8,
    "start_time": "2022-01-08T14:25:35.825Z"
   },
   {
    "duration": 14,
    "start_time": "2022-01-08T14:25:37.118Z"
   },
   {
    "duration": 7,
    "start_time": "2022-01-08T14:25:40.500Z"
   },
   {
    "duration": 7,
    "start_time": "2022-01-08T14:25:44.033Z"
   },
   {
    "duration": 11,
    "start_time": "2022-01-08T14:25:48.100Z"
   },
   {
    "duration": 8,
    "start_time": "2022-01-08T14:25:49.578Z"
   },
   {
    "duration": 9,
    "start_time": "2022-01-08T14:25:51.007Z"
   },
   {
    "duration": 11,
    "start_time": "2022-01-08T14:25:53.369Z"
   },
   {
    "duration": 8,
    "start_time": "2022-01-08T14:25:54.383Z"
   },
   {
    "duration": 8,
    "start_time": "2022-01-08T14:25:56.122Z"
   },
   {
    "duration": 8,
    "start_time": "2022-01-08T14:25:59.405Z"
   },
   {
    "duration": 7,
    "start_time": "2022-01-08T14:26:00.934Z"
   },
   {
    "duration": 8,
    "start_time": "2022-01-08T14:26:03.883Z"
   },
   {
    "duration": 8,
    "start_time": "2022-01-08T14:26:05.929Z"
   },
   {
    "duration": 19,
    "start_time": "2022-01-08T14:26:10.426Z"
   },
   {
    "duration": 12,
    "start_time": "2022-01-08T14:26:13.653Z"
   },
   {
    "duration": 16,
    "start_time": "2022-01-08T14:26:15.492Z"
   },
   {
    "duration": 8,
    "start_time": "2022-01-08T14:26:31.099Z"
   },
   {
    "duration": 17,
    "start_time": "2022-01-08T14:26:32.428Z"
   },
   {
    "duration": 6,
    "start_time": "2022-01-08T14:26:33.734Z"
   },
   {
    "duration": 5,
    "start_time": "2022-01-08T14:26:35.863Z"
   },
   {
    "duration": 3,
    "start_time": "2022-01-08T14:26:41.204Z"
   },
   {
    "duration": 8,
    "start_time": "2022-01-08T14:26:41.951Z"
   },
   {
    "duration": 3742,
    "start_time": "2022-01-08T14:26:50.358Z"
   },
   {
    "duration": 26,
    "start_time": "2022-01-08T14:26:54.960Z"
   },
   {
    "duration": 23,
    "start_time": "2022-01-08T14:26:57.974Z"
   },
   {
    "duration": 3,
    "start_time": "2022-01-08T14:27:00.729Z"
   },
   {
    "duration": 5,
    "start_time": "2022-01-08T14:27:01.223Z"
   },
   {
    "duration": 5,
    "start_time": "2022-01-08T14:27:04.791Z"
   },
   {
    "duration": 9,
    "start_time": "2022-01-08T14:27:06.747Z"
   },
   {
    "duration": 7,
    "start_time": "2022-01-08T14:27:07.331Z"
   },
   {
    "duration": 3,
    "start_time": "2022-01-08T14:27:09.681Z"
   },
   {
    "duration": 9,
    "start_time": "2022-01-08T14:27:11.655Z"
   },
   {
    "duration": 6,
    "start_time": "2022-01-08T14:27:12.147Z"
   },
   {
    "duration": 9,
    "start_time": "2022-01-08T14:27:17.650Z"
   },
   {
    "duration": 20,
    "start_time": "2022-01-08T14:27:21.288Z"
   },
   {
    "duration": 15,
    "start_time": "2022-01-08T14:27:22.247Z"
   },
   {
    "duration": 3,
    "start_time": "2022-01-08T14:27:27.673Z"
   },
   {
    "duration": 25,
    "start_time": "2022-01-08T14:27:28.883Z"
   },
   {
    "duration": 3,
    "start_time": "2022-01-08T14:27:40.630Z"
   },
   {
    "duration": 12,
    "start_time": "2022-01-08T14:27:41.087Z"
   },
   {
    "duration": 22,
    "start_time": "2022-01-08T14:27:46.597Z"
   },
   {
    "duration": 11,
    "start_time": "2022-01-08T14:27:49.493Z"
   },
   {
    "duration": 25,
    "start_time": "2022-01-08T14:30:25.614Z"
   },
   {
    "duration": 31,
    "start_time": "2022-01-08T14:31:24.105Z"
   },
   {
    "duration": 23,
    "start_time": "2022-01-08T14:31:35.769Z"
   },
   {
    "duration": 12,
    "start_time": "2022-01-08T14:32:04.635Z"
   },
   {
    "duration": 294,
    "start_time": "2022-01-08T14:33:01.236Z"
   },
   {
    "duration": 139,
    "start_time": "2022-01-08T14:33:19.664Z"
   },
   {
    "duration": 17,
    "start_time": "2022-01-08T14:33:27.313Z"
   },
   {
    "duration": 15,
    "start_time": "2022-01-08T14:33:55.035Z"
   },
   {
    "duration": 13,
    "start_time": "2022-01-08T14:34:04.357Z"
   },
   {
    "duration": 127,
    "start_time": "2022-01-08T14:35:26.372Z"
   },
   {
    "duration": 13,
    "start_time": "2022-01-08T14:35:35.053Z"
   },
   {
    "duration": 13,
    "start_time": "2022-01-08T14:36:19.985Z"
   },
   {
    "duration": 138,
    "start_time": "2022-01-08T14:36:40.787Z"
   },
   {
    "duration": 13,
    "start_time": "2022-01-08T14:36:47.141Z"
   },
   {
    "duration": 16,
    "start_time": "2022-01-08T14:56:46.592Z"
   },
   {
    "duration": 14,
    "start_time": "2022-01-08T14:57:08.964Z"
   },
   {
    "duration": 1135,
    "start_time": "2022-01-08T15:00:08.249Z"
   },
   {
    "duration": 51,
    "start_time": "2022-01-08T15:00:09.386Z"
   },
   {
    "duration": 11,
    "start_time": "2022-01-08T15:00:09.439Z"
   },
   {
    "duration": 24,
    "start_time": "2022-01-08T15:00:09.452Z"
   },
   {
    "duration": 6,
    "start_time": "2022-01-08T15:00:09.478Z"
   },
   {
    "duration": 14,
    "start_time": "2022-01-08T15:00:09.492Z"
   },
   {
    "duration": 7,
    "start_time": "2022-01-08T15:00:09.507Z"
   },
   {
    "duration": 6,
    "start_time": "2022-01-08T15:00:09.517Z"
   },
   {
    "duration": 10,
    "start_time": "2022-01-08T15:00:09.525Z"
   },
   {
    "duration": 16,
    "start_time": "2022-01-08T15:00:09.536Z"
   },
   {
    "duration": 44,
    "start_time": "2022-01-08T15:00:09.553Z"
   },
   {
    "duration": 5,
    "start_time": "2022-01-08T15:00:09.599Z"
   },
   {
    "duration": 6,
    "start_time": "2022-01-08T15:00:09.605Z"
   },
   {
    "duration": 7,
    "start_time": "2022-01-08T15:00:09.613Z"
   },
   {
    "duration": 9,
    "start_time": "2022-01-08T15:00:09.621Z"
   },
   {
    "duration": 9,
    "start_time": "2022-01-08T15:00:09.632Z"
   },
   {
    "duration": 13,
    "start_time": "2022-01-08T15:00:09.642Z"
   },
   {
    "duration": 39,
    "start_time": "2022-01-08T15:00:09.657Z"
   },
   {
    "duration": 8,
    "start_time": "2022-01-08T15:00:09.698Z"
   },
   {
    "duration": 15,
    "start_time": "2022-01-08T15:00:09.708Z"
   },
   {
    "duration": 5,
    "start_time": "2022-01-08T15:00:09.725Z"
   },
   {
    "duration": 11,
    "start_time": "2022-01-08T15:00:09.732Z"
   },
   {
    "duration": 7,
    "start_time": "2022-01-08T15:00:09.747Z"
   },
   {
    "duration": 44,
    "start_time": "2022-01-08T15:00:09.757Z"
   },
   {
    "duration": 12,
    "start_time": "2022-01-08T15:00:09.802Z"
   },
   {
    "duration": 15,
    "start_time": "2022-01-08T15:00:09.816Z"
   },
   {
    "duration": 7,
    "start_time": "2022-01-08T15:00:09.833Z"
   },
   {
    "duration": 19,
    "start_time": "2022-01-08T15:00:09.841Z"
   },
   {
    "duration": 32,
    "start_time": "2022-01-08T15:00:09.861Z"
   },
   {
    "duration": 7,
    "start_time": "2022-01-08T15:00:09.894Z"
   },
   {
    "duration": 5,
    "start_time": "2022-01-08T15:00:09.903Z"
   },
   {
    "duration": 11,
    "start_time": "2022-01-08T15:00:09.909Z"
   },
   {
    "duration": 3842,
    "start_time": "2022-01-08T15:00:09.922Z"
   },
   {
    "duration": 33,
    "start_time": "2022-01-08T15:00:13.767Z"
   },
   {
    "duration": 22,
    "start_time": "2022-01-08T15:00:13.802Z"
   },
   {
    "duration": 7,
    "start_time": "2022-01-08T15:00:13.826Z"
   },
   {
    "duration": 9,
    "start_time": "2022-01-08T15:00:13.835Z"
   },
   {
    "duration": 8,
    "start_time": "2022-01-08T15:00:13.845Z"
   },
   {
    "duration": 12,
    "start_time": "2022-01-08T15:00:13.854Z"
   },
   {
    "duration": 7,
    "start_time": "2022-01-08T15:00:13.891Z"
   },
   {
    "duration": 8,
    "start_time": "2022-01-08T15:00:13.900Z"
   },
   {
    "duration": 11,
    "start_time": "2022-01-08T15:00:13.910Z"
   },
   {
    "duration": 7,
    "start_time": "2022-01-08T15:00:13.922Z"
   },
   {
    "duration": 9,
    "start_time": "2022-01-08T15:00:13.931Z"
   },
   {
    "duration": 14,
    "start_time": "2022-01-08T15:00:13.943Z"
   },
   {
    "duration": 52,
    "start_time": "2022-01-08T15:00:13.959Z"
   },
   {
    "duration": 4,
    "start_time": "2022-01-08T15:00:14.013Z"
   },
   {
    "duration": 24,
    "start_time": "2022-01-08T15:00:14.019Z"
   },
   {
    "duration": 4,
    "start_time": "2022-01-08T15:00:14.045Z"
   },
   {
    "duration": 39,
    "start_time": "2022-01-08T15:00:14.051Z"
   },
   {
    "duration": 25,
    "start_time": "2022-01-08T15:00:14.093Z"
   },
   {
    "duration": 8,
    "start_time": "2022-01-08T15:00:14.120Z"
   },
   {
    "duration": 15,
    "start_time": "2022-01-08T15:00:14.130Z"
   },
   {
    "duration": 9,
    "start_time": "2022-01-08T15:00:14.147Z"
   },
   {
    "duration": 47,
    "start_time": "2022-01-08T15:00:14.158Z"
   },
   {
    "duration": 10,
    "start_time": "2022-01-08T15:00:14.207Z"
   },
   {
    "duration": 15,
    "start_time": "2022-01-08T15:00:14.219Z"
   },
   {
    "duration": 11,
    "start_time": "2022-01-08T15:00:14.236Z"
   },
   {
    "duration": 6,
    "start_time": "2022-01-08T15:00:14.249Z"
   },
   {
    "duration": 52,
    "start_time": "2022-01-08T15:00:14.256Z"
   },
   {
    "duration": 1552,
    "start_time": "2022-01-09T05:13:15.094Z"
   },
   {
    "duration": 62,
    "start_time": "2022-01-09T05:13:17.327Z"
   },
   {
    "duration": 15,
    "start_time": "2022-01-09T05:13:17.524Z"
   },
   {
    "duration": 27,
    "start_time": "2022-01-09T05:13:17.676Z"
   },
   {
    "duration": 9,
    "start_time": "2022-01-09T05:13:19.323Z"
   },
   {
    "duration": 17,
    "start_time": "2022-01-09T05:13:19.659Z"
   },
   {
    "duration": 12,
    "start_time": "2022-01-09T05:13:20.339Z"
   },
   {
    "duration": 8,
    "start_time": "2022-01-09T05:13:20.675Z"
   },
   {
    "duration": 10,
    "start_time": "2022-01-09T05:13:21.020Z"
   },
   {
    "duration": 11,
    "start_time": "2022-01-09T05:13:21.718Z"
   },
   {
    "duration": 17,
    "start_time": "2022-01-09T05:13:22.058Z"
   },
   {
    "duration": 7,
    "start_time": "2022-01-09T05:13:22.590Z"
   },
   {
    "duration": 8,
    "start_time": "2022-01-09T05:13:23.115Z"
   },
   {
    "duration": 10,
    "start_time": "2022-01-09T05:13:23.651Z"
   },
   {
    "duration": 9,
    "start_time": "2022-01-09T05:13:24.324Z"
   },
   {
    "duration": 11,
    "start_time": "2022-01-09T05:13:24.755Z"
   },
   {
    "duration": 15,
    "start_time": "2022-01-09T05:13:25.123Z"
   },
   {
    "duration": 11,
    "start_time": "2022-01-09T05:13:25.499Z"
   },
   {
    "duration": 11,
    "start_time": "2022-01-09T05:13:26.059Z"
   },
   {
    "duration": 12,
    "start_time": "2022-01-09T05:13:26.643Z"
   },
   {
    "duration": 9,
    "start_time": "2022-01-09T05:13:27.027Z"
   },
   {
    "duration": 11,
    "start_time": "2022-01-09T05:13:27.419Z"
   },
   {
    "duration": 11,
    "start_time": "2022-01-09T05:13:28.187Z"
   },
   {
    "duration": 19,
    "start_time": "2022-01-09T05:13:29.676Z"
   },
   {
    "duration": 19,
    "start_time": "2022-01-09T05:13:30.227Z"
   },
   {
    "duration": 18,
    "start_time": "2022-01-09T05:13:30.772Z"
   },
   {
    "duration": 10,
    "start_time": "2022-01-09T05:13:34.298Z"
   },
   {
    "duration": 26,
    "start_time": "2022-01-09T05:13:34.311Z"
   },
   {
    "duration": 8,
    "start_time": "2022-01-09T05:13:34.340Z"
   },
   {
    "duration": 8,
    "start_time": "2022-01-09T05:13:34.351Z"
   },
   {
    "duration": 28,
    "start_time": "2022-01-09T05:14:38.544Z"
   },
   {
    "duration": 29,
    "start_time": "2022-01-09T05:15:35.195Z"
   },
   {
    "duration": 24,
    "start_time": "2022-01-09T05:15:44.333Z"
   }
  ],
  "celltoolbar": "Отсутствует",
  "kernelspec": {
   "display_name": "Python 3 (ipykernel)",
   "language": "python",
   "name": "python3"
  },
  "language_info": {
   "codemirror_mode": {
    "name": "ipython",
    "version": 3
   },
   "file_extension": ".py",
   "mimetype": "text/x-python",
   "name": "python",
   "nbconvert_exporter": "python",
   "pygments_lexer": "ipython3",
   "version": "3.9.7"
  },
  "toc": {
   "base_numbering": 1,
   "nav_menu": {},
   "number_sections": true,
   "sideBar": true,
   "skip_h1_title": true,
   "title_cell": "Table of Contents",
   "title_sidebar": "Contents",
   "toc_cell": false,
   "toc_position": {
    "height": "calc(100% - 180px)",
    "left": "10px",
    "top": "150px",
    "width": "366.391px"
   },
   "toc_section_display": true,
   "toc_window_display": true
  }
 },
 "nbformat": 4,
 "nbformat_minor": 2
}