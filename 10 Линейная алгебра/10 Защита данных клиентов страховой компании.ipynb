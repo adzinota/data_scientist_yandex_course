{
 "cells": [
  {
   "cell_type": "markdown",
   "metadata": {},
   "source": [
    "# Защита персональных данных клиентов"
   ]
  },
  {
   "cell_type": "markdown",
   "metadata": {},
   "source": [
    "Вам нужно защитить данные клиентов страховой компании «Хоть потоп». Разработайте такой метод преобразования данных, чтобы по ним было сложно восстановить персональную информацию. Обоснуйте корректность его работы.\n",
    "\n",
    "Нужно защитить данные, чтобы при преобразовании качество моделей машинного обучения не ухудшилось. Подбирать наилучшую модель не требуется."
   ]
  },
  {
   "cell_type": "markdown",
   "metadata": {},
   "source": [
    "**Описание проекта**\n",
    "\n",
    "Вам нужно защитить данные клиентов страховой компании «Хоть потоп». Разработайте такой метод преобразования данных, чтобы по ним было сложно восстановить персональную информацию. Обоснуйте корректность его работы.\n",
    "Нужно защитить данные, чтобы при преобразовании качество моделей машинного обучения не ухудшилось. Подбирать наилучшую модель не требуется.\n",
    "\n",
    "**Инструкция по выполнению проекта**\n",
    "* Загрузите и изучите данные.\n",
    "* Ответьте на вопрос и обоснуйте решение.\n",
    "\n",
    "Признаки умножают на обратимую матрицу. Изменится ли качество линейной регрессии? (Её можно обучить заново.)\n",
    "* a. Изменится. Приведите примеры матриц.\n",
    "* b. Не изменится. Укажите, как связаны параметры линейной регрессии в исходной задаче и в преобразованной.\n",
    "\n",
    "Предложите алгоритм преобразования данных для решения задачи. Обоснуйте, почему качество линейной регрессии не поменяется.\n",
    "\n",
    "Запрограммируйте этот алгоритм, применив матричные операции. Проверьте, что качество линейной регрессии из sklearn не отличается до и после преобразования. Примените метрику R2."
   ]
  },
  {
   "cell_type": "markdown",
   "metadata": {},
   "source": [
    "## Загрузка данных"
   ]
  },
  {
   "cell_type": "markdown",
   "metadata": {},
   "source": [
    "Загрузим необходимые библиотеки"
   ]
  },
  {
   "cell_type": "code",
   "execution_count": 1,
   "metadata": {},
   "outputs": [],
   "source": [
    "import pandas as pd\n",
    "import seaborn as sns\n",
    "import numpy as np\n",
    "from sklearn.preprocessing import StandardScaler\n",
    "from sklearn.linear_model import LinearRegression\n",
    "from sklearn.metrics import r2_score, mean_squared_error"
   ]
  },
  {
   "cell_type": "markdown",
   "metadata": {},
   "source": [
    "Прочитаем файл в датафрейм"
   ]
  },
  {
   "cell_type": "code",
   "execution_count": 2,
   "metadata": {},
   "outputs": [],
   "source": [
    "df = pd.read_csv('/datasets/insurance.csv')"
   ]
  },
  {
   "cell_type": "markdown",
   "metadata": {},
   "source": [
    "Изучим общую информацию о файле"
   ]
  },
  {
   "cell_type": "code",
   "execution_count": 3,
   "metadata": {},
   "outputs": [
    {
     "name": "stdout",
     "output_type": "stream",
     "text": [
      "<class 'pandas.core.frame.DataFrame'>\n",
      "RangeIndex: 5000 entries, 0 to 4999\n",
      "Data columns (total 5 columns):\n",
      " #   Column             Non-Null Count  Dtype  \n",
      "---  ------             --------------  -----  \n",
      " 0   Пол                5000 non-null   int64  \n",
      " 1   Возраст            5000 non-null   float64\n",
      " 2   Зарплата           5000 non-null   float64\n",
      " 3   Члены семьи        5000 non-null   int64  \n",
      " 4   Страховые выплаты  5000 non-null   int64  \n",
      "dtypes: float64(2), int64(3)\n",
      "memory usage: 195.4 KB\n"
     ]
    }
   ],
   "source": [
    "df.info()"
   ]
  },
  {
   "cell_type": "markdown",
   "metadata": {},
   "source": [
    "Изучим первые строки файла"
   ]
  },
  {
   "cell_type": "code",
   "execution_count": 4,
   "metadata": {},
   "outputs": [
    {
     "data": {
      "text/html": [
       "<div>\n",
       "<style scoped>\n",
       "    .dataframe tbody tr th:only-of-type {\n",
       "        vertical-align: middle;\n",
       "    }\n",
       "\n",
       "    .dataframe tbody tr th {\n",
       "        vertical-align: top;\n",
       "    }\n",
       "\n",
       "    .dataframe thead th {\n",
       "        text-align: right;\n",
       "    }\n",
       "</style>\n",
       "<table border=\"1\" class=\"dataframe\">\n",
       "  <thead>\n",
       "    <tr style=\"text-align: right;\">\n",
       "      <th></th>\n",
       "      <th>Пол</th>\n",
       "      <th>Возраст</th>\n",
       "      <th>Зарплата</th>\n",
       "      <th>Члены семьи</th>\n",
       "      <th>Страховые выплаты</th>\n",
       "    </tr>\n",
       "  </thead>\n",
       "  <tbody>\n",
       "    <tr>\n",
       "      <th>0</th>\n",
       "      <td>1</td>\n",
       "      <td>41.0</td>\n",
       "      <td>49600.0</td>\n",
       "      <td>1</td>\n",
       "      <td>0</td>\n",
       "    </tr>\n",
       "    <tr>\n",
       "      <th>1</th>\n",
       "      <td>0</td>\n",
       "      <td>46.0</td>\n",
       "      <td>38000.0</td>\n",
       "      <td>1</td>\n",
       "      <td>1</td>\n",
       "    </tr>\n",
       "    <tr>\n",
       "      <th>2</th>\n",
       "      <td>0</td>\n",
       "      <td>29.0</td>\n",
       "      <td>21000.0</td>\n",
       "      <td>0</td>\n",
       "      <td>0</td>\n",
       "    </tr>\n",
       "    <tr>\n",
       "      <th>3</th>\n",
       "      <td>0</td>\n",
       "      <td>21.0</td>\n",
       "      <td>41700.0</td>\n",
       "      <td>2</td>\n",
       "      <td>0</td>\n",
       "    </tr>\n",
       "    <tr>\n",
       "      <th>4</th>\n",
       "      <td>1</td>\n",
       "      <td>28.0</td>\n",
       "      <td>26100.0</td>\n",
       "      <td>0</td>\n",
       "      <td>0</td>\n",
       "    </tr>\n",
       "  </tbody>\n",
       "</table>\n",
       "</div>"
      ],
      "text/plain": [
       "   Пол  Возраст  Зарплата  Члены семьи  Страховые выплаты\n",
       "0    1     41.0   49600.0            1                  0\n",
       "1    0     46.0   38000.0            1                  1\n",
       "2    0     29.0   21000.0            0                  0\n",
       "3    0     21.0   41700.0            2                  0\n",
       "4    1     28.0   26100.0            0                  0"
      ]
     },
     "execution_count": 4,
     "metadata": {},
     "output_type": "execute_result"
    }
   ],
   "source": [
    "df.head()"
   ]
  },
  {
   "cell_type": "markdown",
   "metadata": {},
   "source": [
    "Переименуем столбцы в соответствии с правилами"
   ]
  },
  {
   "cell_type": "code",
   "execution_count": 5,
   "metadata": {},
   "outputs": [],
   "source": [
    "df.rename(columns = {'Пол':'gender', 'Возраст':'age', 'Зарплата':'salary', 'Члены семьи':'family_members', 'Страховые выплаты':'payments'}, inplace = True)"
   ]
  },
  {
   "cell_type": "code",
   "execution_count": 6,
   "metadata": {},
   "outputs": [
    {
     "data": {
      "text/html": [
       "<div>\n",
       "<style scoped>\n",
       "    .dataframe tbody tr th:only-of-type {\n",
       "        vertical-align: middle;\n",
       "    }\n",
       "\n",
       "    .dataframe tbody tr th {\n",
       "        vertical-align: top;\n",
       "    }\n",
       "\n",
       "    .dataframe thead th {\n",
       "        text-align: right;\n",
       "    }\n",
       "</style>\n",
       "<table border=\"1\" class=\"dataframe\">\n",
       "  <thead>\n",
       "    <tr style=\"text-align: right;\">\n",
       "      <th></th>\n",
       "      <th>gender</th>\n",
       "      <th>age</th>\n",
       "      <th>salary</th>\n",
       "      <th>family_members</th>\n",
       "      <th>payments</th>\n",
       "    </tr>\n",
       "  </thead>\n",
       "  <tbody>\n",
       "    <tr>\n",
       "      <th>0</th>\n",
       "      <td>1</td>\n",
       "      <td>41.0</td>\n",
       "      <td>49600.0</td>\n",
       "      <td>1</td>\n",
       "      <td>0</td>\n",
       "    </tr>\n",
       "    <tr>\n",
       "      <th>1</th>\n",
       "      <td>0</td>\n",
       "      <td>46.0</td>\n",
       "      <td>38000.0</td>\n",
       "      <td>1</td>\n",
       "      <td>1</td>\n",
       "    </tr>\n",
       "    <tr>\n",
       "      <th>2</th>\n",
       "      <td>0</td>\n",
       "      <td>29.0</td>\n",
       "      <td>21000.0</td>\n",
       "      <td>0</td>\n",
       "      <td>0</td>\n",
       "    </tr>\n",
       "    <tr>\n",
       "      <th>3</th>\n",
       "      <td>0</td>\n",
       "      <td>21.0</td>\n",
       "      <td>41700.0</td>\n",
       "      <td>2</td>\n",
       "      <td>0</td>\n",
       "    </tr>\n",
       "    <tr>\n",
       "      <th>4</th>\n",
       "      <td>1</td>\n",
       "      <td>28.0</td>\n",
       "      <td>26100.0</td>\n",
       "      <td>0</td>\n",
       "      <td>0</td>\n",
       "    </tr>\n",
       "  </tbody>\n",
       "</table>\n",
       "</div>"
      ],
      "text/plain": [
       "   gender   age   salary  family_members  payments\n",
       "0       1  41.0  49600.0               1         0\n",
       "1       0  46.0  38000.0               1         1\n",
       "2       0  29.0  21000.0               0         0\n",
       "3       0  21.0  41700.0               2         0\n",
       "4       1  28.0  26100.0               0         0"
      ]
     },
     "execution_count": 6,
     "metadata": {},
     "output_type": "execute_result"
    }
   ],
   "source": [
    "df.head()"
   ]
  },
  {
   "cell_type": "markdown",
   "metadata": {},
   "source": [
    "Посмотрим количество дубликатов"
   ]
  },
  {
   "cell_type": "code",
   "execution_count": 7,
   "metadata": {},
   "outputs": [
    {
     "data": {
      "text/plain": [
       "153"
      ]
     },
     "execution_count": 7,
     "metadata": {},
     "output_type": "execute_result"
    }
   ],
   "source": [
    "df.duplicated().sum()"
   ]
  },
  {
   "cell_type": "markdown",
   "metadata": {},
   "source": [
    "Удалим дубликаты"
   ]
  },
  {
   "cell_type": "code",
   "execution_count": 8,
   "metadata": {},
   "outputs": [],
   "source": [
    "df.drop_duplicates(inplace=True)"
   ]
  },
  {
   "cell_type": "code",
   "execution_count": 9,
   "metadata": {
    "scrolled": true
   },
   "outputs": [
    {
     "data": {
      "text/plain": [
       "0"
      ]
     },
     "execution_count": 9,
     "metadata": {},
     "output_type": "execute_result"
    }
   ],
   "source": [
    "df.duplicated().sum()"
   ]
  },
  {
   "cell_type": "markdown",
   "metadata": {},
   "source": [
    "Изучим описательные статистики данных"
   ]
  },
  {
   "cell_type": "code",
   "execution_count": 10,
   "metadata": {},
   "outputs": [
    {
     "data": {
      "text/html": [
       "<div>\n",
       "<style scoped>\n",
       "    .dataframe tbody tr th:only-of-type {\n",
       "        vertical-align: middle;\n",
       "    }\n",
       "\n",
       "    .dataframe tbody tr th {\n",
       "        vertical-align: top;\n",
       "    }\n",
       "\n",
       "    .dataframe thead th {\n",
       "        text-align: right;\n",
       "    }\n",
       "</style>\n",
       "<table border=\"1\" class=\"dataframe\">\n",
       "  <thead>\n",
       "    <tr style=\"text-align: right;\">\n",
       "      <th></th>\n",
       "      <th>gender</th>\n",
       "      <th>age</th>\n",
       "      <th>salary</th>\n",
       "      <th>family_members</th>\n",
       "      <th>payments</th>\n",
       "    </tr>\n",
       "  </thead>\n",
       "  <tbody>\n",
       "    <tr>\n",
       "      <th>count</th>\n",
       "      <td>4847.000000</td>\n",
       "      <td>4847.000000</td>\n",
       "      <td>4847.000000</td>\n",
       "      <td>4847.000000</td>\n",
       "      <td>4847.000000</td>\n",
       "    </tr>\n",
       "    <tr>\n",
       "      <th>mean</th>\n",
       "      <td>0.498453</td>\n",
       "      <td>31.023932</td>\n",
       "      <td>39895.811842</td>\n",
       "      <td>1.203425</td>\n",
       "      <td>0.152259</td>\n",
       "    </tr>\n",
       "    <tr>\n",
       "      <th>std</th>\n",
       "      <td>0.500049</td>\n",
       "      <td>8.487995</td>\n",
       "      <td>9972.953985</td>\n",
       "      <td>1.098664</td>\n",
       "      <td>0.468934</td>\n",
       "    </tr>\n",
       "    <tr>\n",
       "      <th>min</th>\n",
       "      <td>0.000000</td>\n",
       "      <td>18.000000</td>\n",
       "      <td>5300.000000</td>\n",
       "      <td>0.000000</td>\n",
       "      <td>0.000000</td>\n",
       "    </tr>\n",
       "    <tr>\n",
       "      <th>25%</th>\n",
       "      <td>0.000000</td>\n",
       "      <td>24.000000</td>\n",
       "      <td>33200.000000</td>\n",
       "      <td>0.000000</td>\n",
       "      <td>0.000000</td>\n",
       "    </tr>\n",
       "    <tr>\n",
       "      <th>50%</th>\n",
       "      <td>0.000000</td>\n",
       "      <td>30.000000</td>\n",
       "      <td>40200.000000</td>\n",
       "      <td>1.000000</td>\n",
       "      <td>0.000000</td>\n",
       "    </tr>\n",
       "    <tr>\n",
       "      <th>75%</th>\n",
       "      <td>1.000000</td>\n",
       "      <td>37.000000</td>\n",
       "      <td>46600.000000</td>\n",
       "      <td>2.000000</td>\n",
       "      <td>0.000000</td>\n",
       "    </tr>\n",
       "    <tr>\n",
       "      <th>max</th>\n",
       "      <td>1.000000</td>\n",
       "      <td>65.000000</td>\n",
       "      <td>79000.000000</td>\n",
       "      <td>6.000000</td>\n",
       "      <td>5.000000</td>\n",
       "    </tr>\n",
       "  </tbody>\n",
       "</table>\n",
       "</div>"
      ],
      "text/plain": [
       "            gender          age        salary  family_members     payments\n",
       "count  4847.000000  4847.000000   4847.000000     4847.000000  4847.000000\n",
       "mean      0.498453    31.023932  39895.811842        1.203425     0.152259\n",
       "std       0.500049     8.487995   9972.953985        1.098664     0.468934\n",
       "min       0.000000    18.000000   5300.000000        0.000000     0.000000\n",
       "25%       0.000000    24.000000  33200.000000        0.000000     0.000000\n",
       "50%       0.000000    30.000000  40200.000000        1.000000     0.000000\n",
       "75%       1.000000    37.000000  46600.000000        2.000000     0.000000\n",
       "max       1.000000    65.000000  79000.000000        6.000000     5.000000"
      ]
     },
     "execution_count": 10,
     "metadata": {},
     "output_type": "execute_result"
    }
   ],
   "source": [
    "df.describe()"
   ]
  },
  {
   "cell_type": "markdown",
   "metadata": {},
   "source": [
    "Построим график корреляции признаков"
   ]
  },
  {
   "cell_type": "code",
   "execution_count": 11,
   "metadata": {},
   "outputs": [
    {
     "data": {
      "text/plain": [
       "<AxesSubplot:>"
      ]
     },
     "execution_count": 11,
     "metadata": {},
     "output_type": "execute_result"
    },
    {
     "data": {
      "image/png": "[encoded data removed]",
      "text/plain": [
       "<Figure size 432x288 with 2 Axes>"
      ]
     },
     "metadata": {
      "needs_background": "light"
     },
     "output_type": "display_data"
    }
   ],
   "source": [
    "sns.heatmap(df.corr(), annot = True, fmt='.1g', cmap= 'coolwarm')"
   ]
  },
  {
   "cell_type": "markdown",
   "metadata": {},
   "source": [
    "Выводы:\n",
    "* Пропусков нет\n",
    "* Столбцы переименованы\n",
    "* Дубликаты удалены\n",
    "* Типы данных не требуют преобразования\n",
    "* Корреляция существует только между целевым признаком (количество выплат) и возрастом клиента"
   ]
  },
  {
   "cell_type": "markdown",
   "metadata": {},
   "source": [
    "## Умножение матриц"
   ]
  },
  {
   "cell_type": "markdown",
   "metadata": {},
   "source": [
    "Обозначения:\n",
    "\n",
    "- $X$ — матрица признаков (нулевой столбец состоит из единиц)\n",
    "\n",
    "- $y$ — вектор целевого признака\n",
    "\n",
    "- $P$ — матрица, на которую умножаются признаки\n",
    "\n",
    "- $w$ — вектор весов линейной регрессии (нулевой элемент равен сдвигу)"
   ]
  },
  {
   "cell_type": "markdown",
   "metadata": {},
   "source": [
    "Предсказания:\n",
    "\n",
    "$$\n",
    "a = Xw\n",
    "$$\n",
    "\n",
    "Задача обучения:\n",
    "\n",
    "$$\n",
    "w = \\arg\\min_w MSE(Xw, y)\n",
    "$$\n",
    "\n",
    "Формула обучения:\n",
    "\n",
    "$$\n",
    "w = (X^T X)^{-1} X^T y\n",
    "$$"
   ]
  },
  {
   "cell_type": "markdown",
   "metadata": {},
   "source": [
    "Признаки умножают на обратимую матрицу. Изменится ли качество линейной регрессии? (Её можно обучить заново.)\n",
    "* a. Изменится. Приведите примеры матриц.\n",
    "* b. Не изменится. Укажите, как связаны параметры линейной регрессии в исходной задаче и в преобразованной."
   ]
  },
  {
   "cell_type": "markdown",
   "metadata": {},
   "source": [
    "Формула обучения:\n",
    "\n",
    "$$\n",
    "w = (X^T X)^{-1} X^T y\n",
    "$$"
   ]
  },
  {
   "cell_type": "markdown",
   "metadata": {},
   "source": [
    "Представим искомую матрицу признаков $X'$ как произведение исходной матрицы $X$ и обратимой матрицы $P$:\n",
    "\n",
    "$$\n",
    "X' = X * P\n",
    "$$"
   ]
  },
  {
   "cell_type": "markdown",
   "metadata": {},
   "source": [
    "Подставим новое значение $X'$ в формулу обучения:\n",
    "\n",
    "$$\n",
    "w' = ((X P)^T X P)^{-1} (X P)^T y\n",
    "$$"
   ]
  },
  {
   "cell_type": "markdown",
   "metadata": {},
   "source": [
    "Раскроем скобки:\n",
    "\n",
    "\n",
    "$$\n",
    "w' = ((X P)^T X P)^{-1} (X P)^T y = (P^T (X^T X) P)^{-1} P^T X^T y = P^{-1} (X^T X)^{-1} ( (P^T)^{-1} P^T ) X^T y\n",
    "$$"
   ]
  },
  {
   "cell_type": "markdown",
   "metadata": {},
   "source": [
    "Матрица $P$ по условию обратима, следовательно,  произведение $(P^T)^{-1} P^T$ равно единичной матрице $E$:\n",
    "\n",
    "$$\n",
    "w' = P^{-1} (X^T X)^{-1} ( (P^T)^{-1} P^T ) X^T y = P^{-1} (X^T X)^{-1} X^T y\n",
    "$$"
   ]
  },
  {
   "cell_type": "markdown",
   "metadata": {},
   "source": [
    "Часть полученного выражения совпадает с формулой обучения:\n",
    "\n",
    "$$\n",
    "w' = P^{-1} * (X^T X)^{-1} X^T y\n",
    "$$"
   ]
  },
  {
   "cell_type": "markdown",
   "metadata": {},
   "source": [
    "Следовательно:\n",
    "\n",
    "$$\n",
    "w' = P^{-1} w\n",
    "$$"
   ]
  },
  {
   "cell_type": "markdown",
   "metadata": {},
   "source": [
    "Подставим полученное значение весов  $w'$  в формулу предсказаний линейной регрессии $a = X w$:\n",
    "\n",
    "$$\n",
    "a' = X' w' = X P P^{-1} w\n",
    "$$"
   ]
  },
  {
   "cell_type": "markdown",
   "metadata": {},
   "source": [
    "Так как матрица $P$ по условию обратима, то произведение $P P^{-1}$ равно $E$:\n",
    "\n",
    "$$\n",
    "a' = X P P^{-1} w = X E w = X w = a\n",
    "$$"
   ]
  },
  {
   "cell_type": "markdown",
   "metadata": {},
   "source": [
    "Таким образом, предсказания $a'$ для матрицы признаков, умноженной на обратимую матрицу $P$, равны предсказаниям $a$, то есть качество линейной регрессии при умножении признаков на обратимую матрицу не меняется. Так как изменяются веса для новых признаков, модель необходимо переобучать на новых признаках."
   ]
  },
  {
   "cell_type": "markdown",
   "metadata": {},
   "source": [
    "Параметры линейной регрессии в задачах $w$ и $w'$ связаны следующим образом:\n",
    "\n",
    "$$\n",
    "w' = P^{-1} w\n",
    "$$"
   ]
  },
  {
   "cell_type": "markdown",
   "metadata": {},
   "source": [
    "## Алгоритм преобразования"
   ]
  },
  {
   "cell_type": "markdown",
   "metadata": {},
   "source": [
    "При умножении исходной матрицы на обратимую должна получаться матрица такого же размера, как исходная, следовательно, ключом должна быть обратимая квадратная матрица с размером, равным количеству признаков"
   ]
  },
  {
   "cell_type": "markdown",
   "metadata": {},
   "source": [
    "Проверим обратимость полученной матрицы"
   ]
  },
  {
   "cell_type": "code",
   "execution_count": 14,
   "metadata": {},
   "outputs": [
    {
     "name": "stdout",
     "output_type": "stream",
     "text": [
      "[[66  2 69 17]\n",
      " [ 8 23 88 96]\n",
      " [67  3 73 24]\n",
      " [80 20 87 41]] \n",
      "\n",
      " [[-0.22978554 -0.02214783  0.22667534  0.01444725]\n",
      " [ 0.24337758  0.0090638  -0.3155371   0.06256944]\n",
      " [ 0.30598722  0.0238144  -0.28630636 -0.01503933]\n",
      " [-0.3196487  -0.01173908  0.31915531 -0.00240848]]\n"
     ]
    }
   ],
   "source": [
    "size = df.shape[1] - 1\n",
    "\n",
    "while True:\n",
    "    key = np.random.randint(100, size=(size, size))\n",
    "    \n",
    "    if np.linalg.det(key) != 0:\n",
    "        key_inverted = np.linalg.inv(key)\n",
    "        break\n",
    "        \n",
    "print(key, '\\n\\n', key_inverted)"
   ]
  },
  {
   "cell_type": "markdown",
   "metadata": {},
   "source": [
    "Ошибки не возникло, следовательно, матрица обратима"
   ]
  },
  {
   "cell_type": "markdown",
   "metadata": {},
   "source": [
    "Выделим признаки и целевой признак"
   ]
  },
  {
   "cell_type": "code",
   "execution_count": 15,
   "metadata": {},
   "outputs": [],
   "source": [
    "features = df.drop('payments', axis = 1)\n",
    "target = df['payments']"
   ]
  },
  {
   "cell_type": "markdown",
   "metadata": {},
   "source": [
    "Масштабируем признаки с помощью StandardScaler() и сохраним их в отдельную переменную"
   ]
  },
  {
   "cell_type": "code",
   "execution_count": 16,
   "metadata": {},
   "outputs": [],
   "source": [
    "scaler = StandardScaler()\n",
    "\n",
    "scaler.fit(features)\n",
    "\n",
    "scaled_features = scaler.transform(features)"
   ]
  },
  {
   "cell_type": "markdown",
   "metadata": {},
   "source": [
    "Рассчитаем веса для исходных признаков по формуле $w = (X^T X)^{-1} X^T y$"
   ]
  },
  {
   "cell_type": "code",
   "execution_count": 17,
   "metadata": {},
   "outputs": [],
   "source": [
    "w = np.linalg.inv(scaled_features.T.dot(scaled_features)).dot(scaled_features.T).dot(target)"
   ]
  },
  {
   "cell_type": "markdown",
   "metadata": {},
   "source": [
    "Рассчитаем вектор предсказаний для исходных признаков по формуле $a = X w$"
   ]
  },
  {
   "cell_type": "code",
   "execution_count": 18,
   "metadata": {},
   "outputs": [],
   "source": [
    "a = scaled_features @ w"
   ]
  },
  {
   "cell_type": "markdown",
   "metadata": {},
   "source": [
    "Преобразуем признаки"
   ]
  },
  {
   "cell_type": "code",
   "execution_count": 19,
   "metadata": {},
   "outputs": [],
   "source": [
    "converted_features = scaled_features @ key"
   ]
  },
  {
   "cell_type": "markdown",
   "metadata": {},
   "source": [
    "Рассчитаем веса для преобразованных признаков"
   ]
  },
  {
   "cell_type": "code",
   "execution_count": 20,
   "metadata": {},
   "outputs": [],
   "source": [
    "w1 = np.linalg.inv(converted_features.T.dot(converted_features)).dot(converted_features.T).dot(target)"
   ]
  },
  {
   "cell_type": "markdown",
   "metadata": {},
   "source": [
    "Рассчитаем вектор предсказаний для преобразованных признаков"
   ]
  },
  {
   "cell_type": "code",
   "execution_count": 21,
   "metadata": {},
   "outputs": [],
   "source": [
    "a1 = converted_features @ w1"
   ]
  },
  {
   "cell_type": "markdown",
   "metadata": {},
   "source": [
    "Рассчитаем вектор разницы предсказаний по исходным и преобразованным признакам, и получим сумму его элементов"
   ]
  },
  {
   "cell_type": "code",
   "execution_count": 22,
   "metadata": {},
   "outputs": [
    {
     "data": {
      "text/plain": [
       "-1.2750000707995035e-14"
      ]
     },
     "execution_count": 22,
     "metadata": {},
     "output_type": "execute_result"
    }
   ],
   "source": [
    "(a - a1).sum()"
   ]
  },
  {
   "cell_type": "markdown",
   "metadata": {},
   "source": [
    "Полученное число крайне мало, следовательно, $a$ и $a1$ практически не отличаются, то есть преобразование не ухудшает качество модели"
   ]
  },
  {
   "cell_type": "markdown",
   "metadata": {},
   "source": [
    "## Проверка алгоритма"
   ]
  },
  {
   "cell_type": "markdown",
   "metadata": {},
   "source": [
    "Обучим модель линейной регрессии на исходных данных и рассчитаем R2 и MSE"
   ]
  },
  {
   "cell_type": "code",
   "execution_count": 23,
   "metadata": {},
   "outputs": [],
   "source": [
    "model = LinearRegression(normalize = True)\n",
    "\n",
    "model.fit(features, target)\n",
    "\n",
    "predictions = model.predict(features)"
   ]
  },
  {
   "cell_type": "code",
   "execution_count": 24,
   "metadata": {},
   "outputs": [
    {
     "name": "stdout",
     "output_type": "stream",
     "text": [
      "MSE: 0.125272638266816\n",
      "R2:  0.4302010044852068\n"
     ]
    }
   ],
   "source": [
    "print('MSE:', mean_squared_error(target, predictions))\n",
    "print('R2: ',r2_score(target, predictions))"
   ]
  },
  {
   "cell_type": "markdown",
   "metadata": {},
   "source": [
    "Переобучим модель на преобразованных признаках и рассчитаем R2 и MSE"
   ]
  },
  {
   "cell_type": "code",
   "execution_count": 25,
   "metadata": {},
   "outputs": [],
   "source": [
    "model.fit(converted_features, target)\n",
    "predictions = model.predict(converted_features)"
   ]
  },
  {
   "cell_type": "code",
   "execution_count": 26,
   "metadata": {},
   "outputs": [
    {
     "name": "stdout",
     "output_type": "stream",
     "text": [
      "MSE: 0.125272638266816\n",
      "R2:  0.4302010044852068\n"
     ]
    }
   ],
   "source": [
    "print('MSE:', mean_squared_error(target, predictions))\n",
    "print('R2: ',r2_score(target, predictions))"
   ]
  },
  {
   "cell_type": "markdown",
   "metadata": {},
   "source": [
    "Полученные значения для исходных и преобразованных данных имеют минимальные отличия, следовательно, удалось защитить данные, не ухудшив качество модели"
   ]
  }
 ],
 "metadata": {
  "ExecuteTimeLog": [
   {
    "duration": 479,
    "start_time": "2022-05-04T08:49:47.075Z"
   },
   {
    "duration": 14,
    "start_time": "2022-05-04T08:50:07.616Z"
   },
   {
    "duration": 16,
    "start_time": "2022-05-04T08:50:15.014Z"
   },
   {
    "duration": 22,
    "start_time": "2022-05-04T08:50:26.258Z"
   },
   {
    "duration": 547,
    "start_time": "2022-05-15T18:14:57.761Z"
   },
   {
    "duration": 41,
    "start_time": "2022-05-15T18:14:58.832Z"
   },
   {
    "duration": 16,
    "start_time": "2022-05-15T18:14:59.462Z"
   },
   {
    "duration": 27,
    "start_time": "2022-05-15T18:15:01.439Z"
   },
   {
    "duration": 5,
    "start_time": "2022-05-15T18:15:02.450Z"
   },
   {
    "duration": 28,
    "start_time": "2022-05-15T18:15:11.084Z"
   },
   {
    "duration": 9,
    "start_time": "2022-05-15T18:15:28.569Z"
   },
   {
    "duration": 41,
    "start_time": "2022-05-15T18:16:02.836Z"
   },
   {
    "duration": 20,
    "start_time": "2022-05-15T18:16:51.757Z"
   },
   {
    "duration": 1807,
    "start_time": "2022-05-15T18:18:37.721Z"
   },
   {
    "duration": 409,
    "start_time": "2022-05-15T18:18:40.669Z"
   },
   {
    "duration": 525,
    "start_time": "2022-05-15T18:19:20.325Z"
   },
   {
    "duration": 643,
    "start_time": "2022-05-15T18:19:37.034Z"
   },
   {
    "duration": 630,
    "start_time": "2022-05-15T18:19:52.630Z"
   },
   {
    "duration": 670,
    "start_time": "2022-05-15T18:20:11.257Z"
   },
   {
    "duration": 51,
    "start_time": "2022-05-15T18:22:49.788Z"
   },
   {
    "duration": 10,
    "start_time": "2022-05-15T18:22:57.321Z"
   },
   {
    "duration": 17,
    "start_time": "2022-05-15T18:22:59.137Z"
   },
   {
    "duration": 8,
    "start_time": "2022-05-15T18:23:00.070Z"
   },
   {
    "duration": 41,
    "start_time": "2022-05-15T18:23:00.473Z"
   },
   {
    "duration": 31,
    "start_time": "2022-05-15T18:23:44.141Z"
   },
   {
    "duration": 521,
    "start_time": "2022-05-15T18:23:45.969Z"
   },
   {
    "duration": 7,
    "start_time": "2022-05-15T19:14:57.814Z"
   },
   {
    "duration": 5,
    "start_time": "2022-05-15T19:15:02.069Z"
   },
   {
    "duration": 296,
    "start_time": "2022-05-15T19:17:52.780Z"
   },
   {
    "duration": 4,
    "start_time": "2022-05-15T19:18:12.365Z"
   },
   {
    "duration": 12,
    "start_time": "2022-05-15T19:18:16.087Z"
   },
   {
    "duration": 6,
    "start_time": "2022-05-15T19:18:19.784Z"
   },
   {
    "duration": 6,
    "start_time": "2022-05-15T19:18:22.274Z"
   },
   {
    "duration": 9,
    "start_time": "2022-05-15T19:23:05.834Z"
   },
   {
    "duration": 8,
    "start_time": "2022-05-15T19:24:56.535Z"
   },
   {
    "duration": 8,
    "start_time": "2022-05-15T19:26:09.552Z"
   },
   {
    "duration": 7,
    "start_time": "2022-05-15T19:26:10.215Z"
   },
   {
    "duration": 7,
    "start_time": "2022-05-15T19:27:04.475Z"
   },
   {
    "duration": 6,
    "start_time": "2022-05-15T19:29:58.244Z"
   },
   {
    "duration": 852,
    "start_time": "2022-05-15T19:30:39.551Z"
   },
   {
    "duration": 24,
    "start_time": "2022-05-15T19:31:55.064Z"
   },
   {
    "duration": 69,
    "start_time": "2022-05-15T19:33:41.415Z"
   },
   {
    "duration": 12,
    "start_time": "2022-05-15T19:33:46.839Z"
   },
   {
    "duration": 5,
    "start_time": "2022-05-15T19:33:47.774Z"
   },
   {
    "duration": 6,
    "start_time": "2022-05-15T19:33:54.143Z"
   },
   {
    "duration": 43,
    "start_time": "2022-05-15T19:35:15.494Z"
   },
   {
    "duration": 30,
    "start_time": "2022-05-15T19:35:30.149Z"
   },
   {
    "duration": 4,
    "start_time": "2022-05-15T19:37:01.114Z"
   },
   {
    "duration": 5,
    "start_time": "2022-05-15T19:38:45.088Z"
   },
   {
    "duration": 5,
    "start_time": "2022-05-15T19:38:48.580Z"
   },
   {
    "duration": 5,
    "start_time": "2022-05-15T19:38:51.476Z"
   },
   {
    "duration": 6,
    "start_time": "2022-05-15T19:39:36.935Z"
   },
   {
    "duration": 14,
    "start_time": "2022-05-15T19:40:10.819Z"
   },
   {
    "duration": 7,
    "start_time": "2022-05-15T19:51:31.942Z"
   },
   {
    "duration": 166,
    "start_time": "2022-05-15T19:55:06.484Z"
   },
   {
    "duration": 7,
    "start_time": "2022-05-15T19:55:36.145Z"
   },
   {
    "duration": 12,
    "start_time": "2022-05-15T19:56:50.367Z"
   },
   {
    "duration": 23,
    "start_time": "2022-05-15T19:56:57.421Z"
   },
   {
    "duration": 10,
    "start_time": "2022-05-15T19:56:58.321Z"
   },
   {
    "duration": 20,
    "start_time": "2022-05-15T19:57:07.851Z"
   },
   {
    "duration": 11,
    "start_time": "2022-05-15T19:57:08.831Z"
   },
   {
    "duration": 21,
    "start_time": "2022-05-15T19:58:23.337Z"
   },
   {
    "duration": 7,
    "start_time": "2022-05-15T19:58:24.424Z"
   },
   {
    "duration": 29,
    "start_time": "2022-05-15T19:59:59.132Z"
   },
   {
    "duration": 36,
    "start_time": "2022-05-15T19:59:59.700Z"
   },
   {
    "duration": 19,
    "start_time": "2022-05-15T20:00:04.136Z"
   },
   {
    "duration": 7,
    "start_time": "2022-05-15T20:00:05.377Z"
   },
   {
    "duration": 2817,
    "start_time": "2022-05-15T20:02:07.792Z"
   },
   {
    "duration": 53,
    "start_time": "2022-05-15T20:02:10.613Z"
   },
   {
    "duration": 17,
    "start_time": "2022-05-15T20:02:10.671Z"
   },
   {
    "duration": 71,
    "start_time": "2022-05-15T20:02:10.691Z"
   },
   {
    "duration": 7,
    "start_time": "2022-05-15T20:02:10.766Z"
   },
   {
    "duration": 15,
    "start_time": "2022-05-15T20:02:10.776Z"
   },
   {
    "duration": 64,
    "start_time": "2022-05-15T20:02:10.797Z"
   },
   {
    "duration": 14,
    "start_time": "2022-05-15T20:02:10.864Z"
   },
   {
    "duration": 8,
    "start_time": "2022-05-15T20:02:10.880Z"
   },
   {
    "duration": 66,
    "start_time": "2022-05-15T20:02:10.891Z"
   },
   {
    "duration": 661,
    "start_time": "2022-05-15T20:02:10.959Z"
   },
   {
    "duration": 7,
    "start_time": "2022-05-15T20:02:11.625Z"
   },
   {
    "duration": 39,
    "start_time": "2022-05-15T20:02:11.635Z"
   },
   {
    "duration": 64,
    "start_time": "2022-05-15T20:02:11.696Z"
   },
   {
    "duration": 70,
    "start_time": "2022-05-15T20:02:11.763Z"
   },
   {
    "duration": 13,
    "start_time": "2022-05-15T20:02:11.838Z"
   },
   {
    "duration": 389,
    "start_time": "2022-05-15T20:02:11.855Z"
   },
   {
    "duration": 0,
    "start_time": "2022-05-15T20:02:12.248Z"
   },
   {
    "duration": 0,
    "start_time": "2022-05-15T20:02:12.250Z"
   },
   {
    "duration": 0,
    "start_time": "2022-05-15T20:02:12.253Z"
   },
   {
    "duration": 0,
    "start_time": "2022-05-15T20:02:12.255Z"
   },
   {
    "duration": 0,
    "start_time": "2022-05-15T20:02:12.257Z"
   },
   {
    "duration": 0,
    "start_time": "2022-05-15T20:02:12.260Z"
   },
   {
    "duration": 0,
    "start_time": "2022-05-15T20:02:12.263Z"
   },
   {
    "duration": 0,
    "start_time": "2022-05-15T20:02:12.265Z"
   },
   {
    "duration": 105,
    "start_time": "2022-05-15T20:02:41.620Z"
   },
   {
    "duration": 6,
    "start_time": "2022-05-15T20:02:42.930Z"
   },
   {
    "duration": 15,
    "start_time": "2022-05-15T20:02:44.949Z"
   },
   {
    "duration": 48,
    "start_time": "2022-05-15T20:02:45.708Z"
   },
   {
    "duration": 8,
    "start_time": "2022-05-15T20:02:49.294Z"
   },
   {
    "duration": 54,
    "start_time": "2022-05-15T20:02:51.644Z"
   },
   {
    "duration": 8,
    "start_time": "2022-05-15T20:02:53.220Z"
   },
   {
    "duration": 12,
    "start_time": "2022-05-15T20:02:54.320Z"
   },
   {
    "duration": 9,
    "start_time": "2022-05-15T20:02:54.943Z"
   },
   {
    "duration": 2551,
    "start_time": "2022-05-15T20:03:03.723Z"
   },
   {
    "duration": 30,
    "start_time": "2022-05-15T20:03:06.276Z"
   },
   {
    "duration": 24,
    "start_time": "2022-05-15T20:03:06.309Z"
   },
   {
    "duration": 48,
    "start_time": "2022-05-15T20:03:06.335Z"
   },
   {
    "duration": 5,
    "start_time": "2022-05-15T20:03:06.387Z"
   },
   {
    "duration": 61,
    "start_time": "2022-05-15T20:03:06.400Z"
   },
   {
    "duration": 10,
    "start_time": "2022-05-15T20:03:06.463Z"
   },
   {
    "duration": 9,
    "start_time": "2022-05-15T20:03:06.475Z"
   },
   {
    "duration": 23,
    "start_time": "2022-05-15T20:03:06.486Z"
   },
   {
    "duration": 67,
    "start_time": "2022-05-15T20:03:06.516Z"
   },
   {
    "duration": 592,
    "start_time": "2022-05-15T20:03:06.586Z"
   },
   {
    "duration": 13,
    "start_time": "2022-05-15T20:03:07.180Z"
   },
   {
    "duration": 42,
    "start_time": "2022-05-15T20:03:07.196Z"
   },
   {
    "duration": 101,
    "start_time": "2022-05-15T20:03:07.252Z"
   },
   {
    "duration": 64,
    "start_time": "2022-05-15T20:03:07.357Z"
   },
   {
    "duration": 34,
    "start_time": "2022-05-15T20:03:07.424Z"
   },
   {
    "duration": 51,
    "start_time": "2022-05-15T20:03:07.461Z"
   },
   {
    "duration": 113,
    "start_time": "2022-05-15T20:03:07.516Z"
   },
   {
    "duration": 14,
    "start_time": "2022-05-15T20:03:07.648Z"
   },
   {
    "duration": 91,
    "start_time": "2022-05-15T20:03:07.665Z"
   },
   {
    "duration": 62,
    "start_time": "2022-05-15T20:03:07.794Z"
   },
   {
    "duration": 68,
    "start_time": "2022-05-15T20:03:07.868Z"
   },
   {
    "duration": 106,
    "start_time": "2022-05-15T20:03:07.943Z"
   },
   {
    "duration": 52,
    "start_time": "2022-05-15T20:03:08.059Z"
   },
   {
    "duration": 108,
    "start_time": "2022-05-15T20:03:08.114Z"
   },
   {
    "duration": 2134,
    "start_time": "2022-05-16T10:50:53.393Z"
   },
   {
    "duration": 22,
    "start_time": "2022-05-16T10:50:55.529Z"
   },
   {
    "duration": 16,
    "start_time": "2022-05-16T10:50:55.553Z"
   },
   {
    "duration": 22,
    "start_time": "2022-05-16T10:50:55.571Z"
   },
   {
    "duration": 5,
    "start_time": "2022-05-16T10:50:59.593Z"
   },
   {
    "duration": 12,
    "start_time": "2022-05-16T10:51:01.490Z"
   },
   {
    "duration": 9,
    "start_time": "2022-05-16T10:51:04.609Z"
   },
   {
    "duration": 7,
    "start_time": "2022-05-16T10:51:05.551Z"
   },
   {
    "duration": 10,
    "start_time": "2022-05-16T10:51:06.054Z"
   },
   {
    "duration": 32,
    "start_time": "2022-05-16T10:51:09.176Z"
   },
   {
    "duration": 5,
    "start_time": "2022-05-16T11:40:28.827Z"
   },
   {
    "duration": 19,
    "start_time": "2022-05-16T11:40:28.835Z"
   },
   {
    "duration": 16,
    "start_time": "2022-05-16T11:40:28.856Z"
   },
   {
    "duration": 39,
    "start_time": "2022-05-16T11:40:28.876Z"
   },
   {
    "duration": 10,
    "start_time": "2022-05-16T11:40:28.918Z"
   },
   {
    "duration": 28,
    "start_time": "2022-05-16T11:40:28.930Z"
   },
   {
    "duration": 15,
    "start_time": "2022-05-16T11:40:28.960Z"
   },
   {
    "duration": 8,
    "start_time": "2022-05-16T11:40:28.978Z"
   },
   {
    "duration": 13,
    "start_time": "2022-05-16T11:40:28.988Z"
   },
   {
    "duration": 67,
    "start_time": "2022-05-16T11:40:29.006Z"
   },
   {
    "duration": 711,
    "start_time": "2022-05-16T11:40:29.075Z"
   },
   {
    "duration": 8,
    "start_time": "2022-05-16T11:40:29.788Z"
   },
   {
    "duration": 10,
    "start_time": "2022-05-16T11:40:29.798Z"
   },
   {
    "duration": 52,
    "start_time": "2022-05-16T11:40:29.811Z"
   },
   {
    "duration": 91,
    "start_time": "2022-05-16T11:40:29.865Z"
   },
   {
    "duration": 6,
    "start_time": "2022-05-16T11:40:29.959Z"
   },
   {
    "duration": 92,
    "start_time": "2022-05-16T11:40:29.968Z"
   },
   {
    "duration": 20,
    "start_time": "2022-05-16T11:40:30.153Z"
   },
   {
    "duration": 27,
    "start_time": "2022-05-16T11:40:30.175Z"
   },
   {
    "duration": 50,
    "start_time": "2022-05-16T11:40:30.205Z"
   },
   {
    "duration": 98,
    "start_time": "2022-05-16T11:40:30.258Z"
   },
   {
    "duration": 193,
    "start_time": "2022-05-16T11:40:30.359Z"
   },
   {
    "duration": 114,
    "start_time": "2022-05-16T11:40:30.555Z"
   },
   {
    "duration": 80,
    "start_time": "2022-05-16T11:40:30.671Z"
   },
   {
    "duration": 8,
    "start_time": "2022-05-16T11:40:33.323Z"
   },
   {
    "duration": 7,
    "start_time": "2022-05-16T11:40:34.208Z"
   },
   {
    "duration": 1794,
    "start_time": "2022-05-17T06:05:58.692Z"
   },
   {
    "duration": 21,
    "start_time": "2022-05-17T06:06:00.488Z"
   },
   {
    "duration": 12,
    "start_time": "2022-05-17T06:06:00.510Z"
   },
   {
    "duration": 24,
    "start_time": "2022-05-17T06:06:00.524Z"
   },
   {
    "duration": 4,
    "start_time": "2022-05-17T06:06:00.549Z"
   },
   {
    "duration": 37,
    "start_time": "2022-05-17T06:06:00.555Z"
   },
   {
    "duration": 17,
    "start_time": "2022-05-17T06:06:00.594Z"
   },
   {
    "duration": 9,
    "start_time": "2022-05-17T06:06:00.612Z"
   },
   {
    "duration": 12,
    "start_time": "2022-05-17T06:06:00.623Z"
   },
   {
    "duration": 26,
    "start_time": "2022-05-17T06:06:00.637Z"
   },
   {
    "duration": 412,
    "start_time": "2022-05-17T06:06:00.664Z"
   },
   {
    "duration": 4,
    "start_time": "2022-05-17T06:06:06.289Z"
   },
   {
    "duration": 6,
    "start_time": "2022-05-17T06:06:12.594Z"
   },
   {
    "duration": 4,
    "start_time": "2022-05-17T06:06:43.055Z"
   },
   {
    "duration": 5,
    "start_time": "2022-05-17T06:06:49.287Z"
   },
   {
    "duration": 5,
    "start_time": "2022-05-17T06:07:15.524Z"
   },
   {
    "duration": 5,
    "start_time": "2022-05-17T06:07:18.526Z"
   },
   {
    "duration": 3,
    "start_time": "2022-05-17T06:07:40.699Z"
   },
   {
    "duration": 2,
    "start_time": "2022-05-17T06:07:41.815Z"
   },
   {
    "duration": 5,
    "start_time": "2022-05-17T06:08:06.477Z"
   },
   {
    "duration": 5,
    "start_time": "2022-05-17T06:08:12.731Z"
   },
   {
    "duration": 6,
    "start_time": "2022-05-17T06:08:25.431Z"
   },
   {
    "duration": 5,
    "start_time": "2022-05-17T06:08:52.717Z"
   },
   {
    "duration": 6,
    "start_time": "2022-05-17T06:09:02.150Z"
   },
   {
    "duration": 6,
    "start_time": "2022-05-17T06:09:08.786Z"
   },
   {
    "duration": 5,
    "start_time": "2022-05-17T06:09:10.764Z"
   },
   {
    "duration": 7,
    "start_time": "2022-05-17T06:09:13.006Z"
   },
   {
    "duration": 1486,
    "start_time": "2022-05-17T06:10:27.608Z"
   },
   {
    "duration": 14,
    "start_time": "2022-05-17T06:10:29.097Z"
   },
   {
    "duration": 12,
    "start_time": "2022-05-17T06:10:29.112Z"
   },
   {
    "duration": 17,
    "start_time": "2022-05-17T06:10:29.126Z"
   },
   {
    "duration": 3,
    "start_time": "2022-05-17T06:10:29.145Z"
   },
   {
    "duration": 15,
    "start_time": "2022-05-17T06:10:29.150Z"
   },
   {
    "duration": 7,
    "start_time": "2022-05-17T06:10:29.167Z"
   },
   {
    "duration": 6,
    "start_time": "2022-05-17T06:10:29.176Z"
   },
   {
    "duration": 7,
    "start_time": "2022-05-17T06:10:29.183Z"
   },
   {
    "duration": 51,
    "start_time": "2022-05-17T06:10:29.193Z"
   },
   {
    "duration": 334,
    "start_time": "2022-05-17T06:10:29.246Z"
   },
   {
    "duration": 2,
    "start_time": "2022-05-17T06:10:29.583Z"
   },
   {
    "duration": 9,
    "start_time": "2022-05-17T06:10:29.587Z"
   },
   {
    "duration": 14,
    "start_time": "2022-05-17T06:10:29.597Z"
   },
   {
    "duration": 31,
    "start_time": "2022-05-17T06:10:29.613Z"
   },
   {
    "duration": 14,
    "start_time": "2022-05-17T06:10:29.645Z"
   },
   {
    "duration": 84,
    "start_time": "2022-05-17T06:10:29.661Z"
   },
   {
    "duration": 12,
    "start_time": "2022-05-17T06:10:29.746Z"
   },
   {
    "duration": 101,
    "start_time": "2022-05-17T06:10:29.844Z"
   },
   {
    "duration": 7,
    "start_time": "2022-05-17T06:10:29.947Z"
   },
   {
    "duration": 5,
    "start_time": "2022-05-17T06:10:29.956Z"
   },
   {
    "duration": 82,
    "start_time": "2022-05-17T06:10:29.964Z"
   },
   {
    "duration": 96,
    "start_time": "2022-05-17T06:10:30.048Z"
   },
   {
    "duration": 218,
    "start_time": "2022-05-17T06:10:30.147Z"
   },
   {
    "duration": 32,
    "start_time": "2022-05-17T06:10:30.366Z"
   },
   {
    "duration": 152,
    "start_time": "2022-05-17T06:10:30.400Z"
   }
  ],
  "kernelspec": {
   "display_name": "Python 3",
   "language": "python",
   "name": "python3"
  },
  "language_info": {
   "codemirror_mode": {
    "name": "ipython",
    "version": 3
   },
   "file_extension": ".py",
   "mimetype": "text/x-python",
   "name": "python",
   "nbconvert_exporter": "python",
   "pygments_lexer": "ipython3",
   "version": "3.8.8"
  },
  "toc": {
   "base_numbering": 1,
   "nav_menu": {},
   "number_sections": true,
   "sideBar": true,
   "skip_h1_title": true,
   "title_cell": "Содержание",
   "title_sidebar": "Contents",
   "toc_cell": true,
   "toc_position": {
    "height": "calc(100% - 180px)",
    "left": "10px",
    "top": "150px",
    "width": "165px"
   },
   "toc_section_display": true,
   "toc_window_display": true
  }
 },
 "nbformat": 4,
 "nbformat_minor": 4
}
