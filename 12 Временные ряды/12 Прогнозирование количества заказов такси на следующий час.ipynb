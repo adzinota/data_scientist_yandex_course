{
 "cells": [
  {
   "cell_type": "markdown",
   "metadata": {},
   "source": [
    "#  Прогнозирование заказов такси"
   ]
  },
  {
   "cell_type": "markdown",
   "metadata": {},
   "source": [
    "Компания «Чётенькое такси» собрала исторические данные о заказах такси в аэропортах. Чтобы привлекать больше водителей в период пиковой нагрузки, нужно спрогнозировать количество заказов такси на следующий час. Постройте модель для такого предсказания.\n",
    "\n",
    "Значение метрики *RMSE* на тестовой выборке должно быть не больше 48.\n",
    "\n",
    "Вам нужно:\n",
    "\n",
    "1. Загрузить данные и выполнить их ресемплирование по одному часу.\n",
    "2. Проанализировать данные.\n",
    "3. Обучить разные модели с различными гиперпараметрами. Сделать тестовую выборку размером 10% от исходных данных.\n",
    "4. Проверить данные на тестовой выборке и сделать выводы.\n",
    "\n",
    "Инструкция по выполнению проекта\n",
    "* Загрузите данные и выполните их ресемплирование по одному часу.\n",
    "* Проанализируйте данные.\n",
    "* Обучите разные модели с различными гиперпараметрами. Сделайте тестовую выборку размером 10% от исходных данных.\n",
    "* Проверьте данные на тестовой выборке и сделайте выводы."
   ]
  },
  {
   "cell_type": "markdown",
   "metadata": {},
   "source": [
    "## Подготовка"
   ]
  },
  {
   "cell_type": "markdown",
   "metadata": {},
   "source": [
    "Импортируем необходимые библиотеки"
   ]
  },
  {
   "cell_type": "code",
   "execution_count": 1,
   "metadata": {},
   "outputs": [],
   "source": [
    "import pandas as pd\n",
    "import seaborn as sns\n",
    "from matplotlib import pyplot as plt\n",
    "from statsmodels.tsa.seasonal import seasonal_decompose\n",
    "from sklearn.model_selection import train_test_split\n",
    "from sklearn.metrics import mean_squared_error\n",
    "from sklearn.linear_model import LinearRegression\n",
    "from sklearn.tree import DecisionTreeRegressor\n",
    "from sklearn.ensemble import RandomForestRegressor\n",
    "from sklearn.model_selection import GridSearchCV\n",
    "from catboost import CatBoostRegressor\n",
    "from sklearn.model_selection import TimeSeriesSplit, GridSearchCV\n",
    "import lightgbm as lgb\n",
    "import warnings\n",
    "warnings.filterwarnings('ignore')"
   ]
  },
  {
   "cell_type": "markdown",
   "metadata": {},
   "source": [
    "Прочитаем файл в датафрейм, назначив даты индексом"
   ]
  },
  {
   "cell_type": "code",
   "execution_count": 2,
   "metadata": {},
   "outputs": [],
   "source": [
    "df = pd.read_csv('/datasets/taxi.csv', index_col=[0], parse_dates=[0])"
   ]
  },
  {
   "cell_type": "markdown",
   "metadata": {},
   "source": [
    "Посмотрим первые строки фрейма и общую информацию"
   ]
  },
  {
   "cell_type": "code",
   "execution_count": 3,
   "metadata": {},
   "outputs": [
    {
     "data": {
      "text/html": [
       "<div>\n",
       "<style scoped>\n",
       "    .dataframe tbody tr th:only-of-type {\n",
       "        vertical-align: middle;\n",
       "    }\n",
       "\n",
       "    .dataframe tbody tr th {\n",
       "        vertical-align: top;\n",
       "    }\n",
       "\n",
       "    .dataframe thead th {\n",
       "        text-align: right;\n",
       "    }\n",
       "</style>\n",
       "<table border=\"1\" class=\"dataframe\">\n",
       "  <thead>\n",
       "    <tr style=\"text-align: right;\">\n",
       "      <th></th>\n",
       "      <th>num_orders</th>\n",
       "    </tr>\n",
       "    <tr>\n",
       "      <th>datetime</th>\n",
       "      <th></th>\n",
       "    </tr>\n",
       "  </thead>\n",
       "  <tbody>\n",
       "    <tr>\n",
       "      <th>2018-03-01 00:00:00</th>\n",
       "      <td>9</td>\n",
       "    </tr>\n",
       "    <tr>\n",
       "      <th>2018-03-01 00:10:00</th>\n",
       "      <td>14</td>\n",
       "    </tr>\n",
       "    <tr>\n",
       "      <th>2018-03-01 00:20:00</th>\n",
       "      <td>28</td>\n",
       "    </tr>\n",
       "    <tr>\n",
       "      <th>2018-03-01 00:30:00</th>\n",
       "      <td>20</td>\n",
       "    </tr>\n",
       "    <tr>\n",
       "      <th>2018-03-01 00:40:00</th>\n",
       "      <td>32</td>\n",
       "    </tr>\n",
       "  </tbody>\n",
       "</table>\n",
       "</div>"
      ],
      "text/plain": [
       "                     num_orders\n",
       "datetime                       \n",
       "2018-03-01 00:00:00           9\n",
       "2018-03-01 00:10:00          14\n",
       "2018-03-01 00:20:00          28\n",
       "2018-03-01 00:30:00          20\n",
       "2018-03-01 00:40:00          32"
      ]
     },
     "execution_count": 3,
     "metadata": {},
     "output_type": "execute_result"
    }
   ],
   "source": [
    "df.head()"
   ]
  },
  {
   "cell_type": "code",
   "execution_count": 4,
   "metadata": {},
   "outputs": [
    {
     "name": "stdout",
     "output_type": "stream",
     "text": [
      "<class 'pandas.core.frame.DataFrame'>\n",
      "DatetimeIndex: 26496 entries, 2018-03-01 00:00:00 to 2018-08-31 23:50:00\n",
      "Data columns (total 1 columns):\n",
      " #   Column      Non-Null Count  Dtype\n",
      "---  ------      --------------  -----\n",
      " 0   num_orders  26496 non-null  int64\n",
      "dtypes: int64(1)\n",
      "memory usage: 414.0 KB\n"
     ]
    }
   ],
   "source": [
    "df.info()"
   ]
  },
  {
   "cell_type": "markdown",
   "metadata": {},
   "source": [
    "Проверим, есть ли пропуски"
   ]
  },
  {
   "cell_type": "code",
   "execution_count": 5,
   "metadata": {},
   "outputs": [
    {
     "data": {
      "text/plain": [
       "num_orders    0\n",
       "dtype: int64"
      ]
     },
     "execution_count": 5,
     "metadata": {},
     "output_type": "execute_result"
    }
   ],
   "source": [
    "df.isna().sum()"
   ]
  },
  {
   "cell_type": "markdown",
   "metadata": {},
   "source": [
    "Проверим индекс на монотонность"
   ]
  },
  {
   "cell_type": "code",
   "execution_count": 6,
   "metadata": {},
   "outputs": [
    {
     "data": {
      "text/plain": [
       "True"
      ]
     },
     "execution_count": 6,
     "metadata": {},
     "output_type": "execute_result"
    }
   ],
   "source": [
    "df.index.is_monotonic"
   ]
  },
  {
   "cell_type": "markdown",
   "metadata": {},
   "source": [
    "Ресемплируем данные по часу"
   ]
  },
  {
   "cell_type": "code",
   "execution_count": 7,
   "metadata": {},
   "outputs": [],
   "source": [
    "df = df.resample('1H').sum()"
   ]
  },
  {
   "cell_type": "markdown",
   "metadata": {},
   "source": [
    "## Анализ"
   ]
  },
  {
   "cell_type": "markdown",
   "metadata": {},
   "source": [
    "Определим функцию для построения графиков"
   ]
  },
  {
   "cell_type": "code",
   "execution_count": 8,
   "metadata": {},
   "outputs": [],
   "source": [
    "sns.set(rc={'figure.figsize':(15,4)})\n",
    "\n",
    "def lineplot(data, title):\n",
    "    data.plot()\n",
    "    plt.title(title)\n",
    "    plt.show()"
   ]
  },
  {
   "cell_type": "markdown",
   "metadata": {},
   "source": [
    "Разделим данные на трендовую, сезонную и шумовую состовляющие и построим соответствующие графики"
   ]
  },
  {
   "cell_type": "code",
   "execution_count": 9,
   "metadata": {},
   "outputs": [],
   "source": [
    "decomposed = seasonal_decompose(df)"
   ]
  },
  {
   "cell_type": "code",
   "execution_count": 10,
   "metadata": {},
   "outputs": [
    {
     "data": {
      "image/png": "[encoded data removed]",
      "text/plain": [
       "<Figure size 1080x288 with 1 Axes>"
      ]
     },
     "metadata": {},
     "output_type": "display_data"
    }
   ],
   "source": [
    "lineplot(decomposed.trend, 'Тренд')"
   ]
  },
  {
   "cell_type": "code",
   "execution_count": 11,
   "metadata": {},
   "outputs": [
    {
     "data": {
      "image/png": "[encoded data removed]",
      "text/plain": [
       "<Figure size 1080x288 with 1 Axes>"
      ]
     },
     "metadata": {},
     "output_type": "display_data"
    }
   ],
   "source": [
    "lineplot(decomposed.trend.rolling(24*7).mean(), 'Тренд (сглаженный)')"
   ]
  },
  {
   "cell_type": "code",
   "execution_count": 12,
   "metadata": {},
   "outputs": [
    {
     "data": {
      "image/png": "[encoded data removed]",
      "text/plain": [
       "<Figure size 1080x288 with 1 Axes>"
      ]
     },
     "metadata": {},
     "output_type": "display_data"
    }
   ],
   "source": [
    "lineplot(decomposed.seasonal.tail(24*7), 'Сезонность')"
   ]
  },
  {
   "cell_type": "code",
   "execution_count": 13,
   "metadata": {},
   "outputs": [
    {
     "data": {
      "image/png": "[encoded data removed]",
      "text/plain": [
       "<Figure size 1080x288 with 1 Axes>"
      ]
     },
     "metadata": {},
     "output_type": "display_data"
    }
   ],
   "source": [
    "lineplot(decomposed.resid, 'Шумы')"
   ]
  },
  {
   "cell_type": "markdown",
   "metadata": {},
   "source": [
    "Выводы:\n",
    "* Наблюдается тренд равномерного роста заказов с периодическими небольшими падениями\n",
    "* Присутствует сезонность по дням - спад ночью, рост с утра и днем, пик к вечеру"
   ]
  },
  {
   "cell_type": "markdown",
   "metadata": {},
   "source": [
    "## Обучение"
   ]
  },
  {
   "cell_type": "markdown",
   "metadata": {},
   "source": [
    "### Подготовка признаков"
   ]
  },
  {
   "cell_type": "markdown",
   "metadata": {},
   "source": [
    "Создадим признаки для горизонта прогнозирования в один шаг"
   ]
  },
  {
   "cell_type": "code",
   "execution_count": 14,
   "metadata": {},
   "outputs": [],
   "source": [
    "def get_features(df_learning):\n",
    "    df_learning['month'] = df_learning.index.month\n",
    "    df_learning['day'] = df_learning.index.day\n",
    "    df_learning['dayofweek'] = df_learning.index.dayofweek\n",
    "    df_learning['hour'] = df_learning.index.hour\n",
    "    \n",
    "    for lag in range(1, 6):\n",
    "        df_learning['lag_{}'.format(lag)] = df_learning['num_orders'].shift(lag)\n",
    "    \n",
    "    df_learning['rolling_mean'] = df_learning['num_orders'].shift().rolling(1).mean()\n",
    "    df_learning.dropna(inplace=True)\n",
    "    \n",
    "    return df_learning"
   ]
  },
  {
   "cell_type": "code",
   "execution_count": 15,
   "metadata": {},
   "outputs": [],
   "source": [
    "df_learning = df.copy()\n",
    "df_learning = get_features(df_learning)"
   ]
  },
  {
   "cell_type": "code",
   "execution_count": 16,
   "metadata": {},
   "outputs": [
    {
     "data": {
      "text/plain": [
       "(4416, 1)"
      ]
     },
     "execution_count": 16,
     "metadata": {},
     "output_type": "execute_result"
    }
   ],
   "source": [
    "df.shape"
   ]
  },
  {
   "cell_type": "code",
   "execution_count": 17,
   "metadata": {},
   "outputs": [
    {
     "data": {
      "text/plain": [
       "(4411, 11)"
      ]
     },
     "execution_count": 17,
     "metadata": {},
     "output_type": "execute_result"
    }
   ],
   "source": [
    "df_learning.shape"
   ]
  },
  {
   "cell_type": "markdown",
   "metadata": {},
   "source": [
    "Разделим данные на обучающую и тестовую выборки"
   ]
  },
  {
   "cell_type": "code",
   "execution_count": 18,
   "metadata": {},
   "outputs": [],
   "source": [
    "features = df_learning.drop(['num_orders'], axis=1) # выделение признаков\n",
    "target = df_learning['num_orders']"
   ]
  },
  {
   "cell_type": "code",
   "execution_count": 19,
   "metadata": {},
   "outputs": [],
   "source": [
    "features_train, features_test, target_train, target_test = train_test_split(\n",
    "    features, target, shuffle=False, test_size=0.1, random_state=17)"
   ]
  },
  {
   "cell_type": "markdown",
   "metadata": {},
   "source": [
    "### Обучение моделей"
   ]
  },
  {
   "cell_type": "markdown",
   "metadata": {},
   "source": [
    "Обучим различные модели и добавим модели и рассчитанный RMSE в массив"
   ]
  },
  {
   "cell_type": "code",
   "execution_count": 20,
   "metadata": {},
   "outputs": [],
   "source": [
    "train_models = []"
   ]
  },
  {
   "cell_type": "markdown",
   "metadata": {},
   "source": [
    "#### Линейная регрессия"
   ]
  },
  {
   "cell_type": "code",
   "execution_count": 21,
   "metadata": {},
   "outputs": [],
   "source": [
    "model = LinearRegression()"
   ]
  },
  {
   "cell_type": "code",
   "execution_count": 22,
   "metadata": {},
   "outputs": [],
   "source": [
    "model.fit(features_train, target_train)\n",
    "predictions = model.predict(features_train)"
   ]
  },
  {
   "cell_type": "code",
   "execution_count": 23,
   "metadata": {
    "scrolled": true
   },
   "outputs": [
    {
     "data": {
      "text/plain": [
       "30.49423537423937"
      ]
     },
     "execution_count": 23,
     "metadata": {},
     "output_type": "execute_result"
    }
   ],
   "source": [
    "rmse = mean_squared_error(target_train, predictions, squared=False)\n",
    "rmse"
   ]
  },
  {
   "cell_type": "code",
   "execution_count": 24,
   "metadata": {},
   "outputs": [],
   "source": [
    "train_models.append([model, rmse])"
   ]
  },
  {
   "cell_type": "markdown",
   "metadata": {},
   "source": [
    "#### DecisionTreeRegressor"
   ]
  },
  {
   "cell_type": "code",
   "execution_count": 25,
   "metadata": {},
   "outputs": [],
   "source": [
    "model = DecisionTreeRegressor(random_state=12345)"
   ]
  },
  {
   "cell_type": "code",
   "execution_count": 26,
   "metadata": {},
   "outputs": [],
   "source": [
    "parameters = {'max_depth':range(1,11,2)}\n",
    "\n",
    "tscv = TimeSeriesSplit(n_splits=2)"
   ]
  },
  {
   "cell_type": "code",
   "execution_count": 27,
   "metadata": {},
   "outputs": [],
   "source": [
    "gsearch = GridSearchCV(estimator=model, cv=tscv, param_grid=parameters)"
   ]
  },
  {
   "cell_type": "code",
   "execution_count": 28,
   "metadata": {},
   "outputs": [
    {
     "data": {
      "text/plain": [
       "{'max_depth': 7}"
      ]
     },
     "execution_count": 28,
     "metadata": {},
     "output_type": "execute_result"
    }
   ],
   "source": [
    "gsearch.fit(features_train, target_train)\n",
    "gsearch.best_params_"
   ]
  },
  {
   "cell_type": "code",
   "execution_count": 29,
   "metadata": {},
   "outputs": [
    {
     "data": {
      "text/plain": [
       "22.023192400699568"
      ]
     },
     "execution_count": 29,
     "metadata": {},
     "output_type": "execute_result"
    }
   ],
   "source": [
    "predictions = gsearch.predict(features_train)\n",
    "rmse = mean_squared_error(target_train, predictions, squared=False)\n",
    "rmse"
   ]
  },
  {
   "cell_type": "code",
   "execution_count": 30,
   "metadata": {},
   "outputs": [],
   "source": [
    "train_models.append([gsearch, rmse])"
   ]
  },
  {
   "cell_type": "markdown",
   "metadata": {},
   "source": [
    "#### RandomForestRegressor"
   ]
  },
  {
   "cell_type": "code",
   "execution_count": 31,
   "metadata": {},
   "outputs": [],
   "source": [
    "model = RandomForestRegressor(random_state=12345)"
   ]
  },
  {
   "cell_type": "code",
   "execution_count": 32,
   "metadata": {},
   "outputs": [],
   "source": [
    "parameters = {'n_estimators':range(50,100,10), 'max_depth':range(1,11,2)}\n",
    "\n",
    "tscv = TimeSeriesSplit(n_splits=2)"
   ]
  },
  {
   "cell_type": "code",
   "execution_count": 33,
   "metadata": {},
   "outputs": [],
   "source": [
    "gsearch = GridSearchCV(estimator=model, cv=tscv, param_grid=parameters)"
   ]
  },
  {
   "cell_type": "code",
   "execution_count": 34,
   "metadata": {},
   "outputs": [
    {
     "data": {
      "text/plain": [
       "{'max_depth': 9, 'n_estimators': 90}"
      ]
     },
     "execution_count": 34,
     "metadata": {},
     "output_type": "execute_result"
    }
   ],
   "source": [
    "gsearch.fit(features_train, target_train)\n",
    "gsearch.best_params_"
   ]
  },
  {
   "cell_type": "code",
   "execution_count": 35,
   "metadata": {},
   "outputs": [
    {
     "data": {
      "text/plain": [
       "16.987253846307453"
      ]
     },
     "execution_count": 35,
     "metadata": {},
     "output_type": "execute_result"
    }
   ],
   "source": [
    "predictions = gsearch.predict(features_train)\n",
    "rmse = mean_squared_error(target_train, predictions, squared=False)\n",
    "rmse"
   ]
  },
  {
   "cell_type": "code",
   "execution_count": 36,
   "metadata": {},
   "outputs": [],
   "source": [
    "train_models.append([gsearch, rmse])"
   ]
  },
  {
   "cell_type": "markdown",
   "metadata": {},
   "source": [
    "#### CatBoost"
   ]
  },
  {
   "cell_type": "code",
   "execution_count": 37,
   "metadata": {},
   "outputs": [],
   "source": [
    "model = CatBoostRegressor(verbose=False)"
   ]
  },
  {
   "cell_type": "code",
   "execution_count": 38,
   "metadata": {},
   "outputs": [],
   "source": [
    "model.fit(features_train, target_train, verbose=False)\n",
    "predictions = model.predict(features_train)"
   ]
  },
  {
   "cell_type": "code",
   "execution_count": 39,
   "metadata": {
    "scrolled": true
   },
   "outputs": [
    {
     "data": {
      "text/plain": [
       "13.316762140896047"
      ]
     },
     "execution_count": 39,
     "metadata": {},
     "output_type": "execute_result"
    }
   ],
   "source": [
    "rmse = mean_squared_error(target_train, predictions, squared=False)\n",
    "rmse"
   ]
  },
  {
   "cell_type": "code",
   "execution_count": 40,
   "metadata": {},
   "outputs": [],
   "source": [
    "train_models.append([model, rmse])"
   ]
  },
  {
   "cell_type": "markdown",
   "metadata": {},
   "source": [
    "#### LightGBM"
   ]
  },
  {
   "cell_type": "code",
   "execution_count": 41,
   "metadata": {},
   "outputs": [],
   "source": [
    "model = lgb.LGBMRegressor()"
   ]
  },
  {
   "cell_type": "code",
   "execution_count": 42,
   "metadata": {},
   "outputs": [],
   "source": [
    "model.fit(features_train, target_train, verbose=False)\n",
    "predictions = model.predict(features_train)"
   ]
  },
  {
   "cell_type": "code",
   "execution_count": 43,
   "metadata": {},
   "outputs": [
    {
     "data": {
      "text/plain": [
       "14.964692845001576"
      ]
     },
     "execution_count": 43,
     "metadata": {},
     "output_type": "execute_result"
    }
   ],
   "source": [
    "rmse = mean_squared_error(target_train, predictions, squared=False)\n",
    "rmse"
   ]
  },
  {
   "cell_type": "code",
   "execution_count": 44,
   "metadata": {},
   "outputs": [],
   "source": [
    "train_models.append([model, rmse])"
   ]
  },
  {
   "cell_type": "markdown",
   "metadata": {},
   "source": [
    "#### Результаты"
   ]
  },
  {
   "cell_type": "markdown",
   "metadata": {},
   "source": [
    "Преобразуем массив в датафрейм результатов для удобства отображения и отсортируем по возрастанию RMSE"
   ]
  },
  {
   "cell_type": "code",
   "execution_count": 45,
   "metadata": {},
   "outputs": [],
   "source": [
    "result = pd.DataFrame(train_models, columns=['model', 'rmse_train'])"
   ]
  },
  {
   "cell_type": "code",
   "execution_count": 46,
   "metadata": {},
   "outputs": [],
   "source": [
    "pd.options.display.max_colwidth = 0"
   ]
  },
  {
   "cell_type": "code",
   "execution_count": 47,
   "metadata": {},
   "outputs": [
    {
     "data": {
      "text/html": [
       "<div>\n",
       "<style scoped>\n",
       "    .dataframe tbody tr th:only-of-type {\n",
       "        vertical-align: middle;\n",
       "    }\n",
       "\n",
       "    .dataframe tbody tr th {\n",
       "        vertical-align: top;\n",
       "    }\n",
       "\n",
       "    .dataframe thead th {\n",
       "        text-align: right;\n",
       "    }\n",
       "</style>\n",
       "<table border=\"1\" class=\"dataframe\">\n",
       "  <thead>\n",
       "    <tr style=\"text-align: right;\">\n",
       "      <th></th>\n",
       "      <th>model</th>\n",
       "      <th>rmse_train</th>\n",
       "    </tr>\n",
       "  </thead>\n",
       "  <tbody>\n",
       "    <tr>\n",
       "      <th>3</th>\n",
       "      <td>&lt;catboost.core.CatBoostRegressor object at 0x7f307bd414c0&gt;</td>\n",
       "      <td>13.316762</td>\n",
       "    </tr>\n",
       "    <tr>\n",
       "      <th>4</th>\n",
       "      <td>LGBMRegressor()</td>\n",
       "      <td>14.964693</td>\n",
       "    </tr>\n",
       "    <tr>\n",
       "      <th>2</th>\n",
       "      <td>GridSearchCV(cv=TimeSeriesSplit(gap=0, max_train_size=None, n_splits=2, test_size=None),\\n             estimator=RandomForestRegressor(random_state=12345),\\n             param_grid={'max_depth': range(1, 11, 2),\\n                         'n_estimators': range(50, 100, 10)})</td>\n",
       "      <td>16.987254</td>\n",
       "    </tr>\n",
       "    <tr>\n",
       "      <th>1</th>\n",
       "      <td>GridSearchCV(cv=TimeSeriesSplit(gap=0, max_train_size=None, n_splits=2, test_size=None),\\n             estimator=DecisionTreeRegressor(random_state=12345),\\n             param_grid={'max_depth': range(1, 11, 2)})</td>\n",
       "      <td>22.023192</td>\n",
       "    </tr>\n",
       "    <tr>\n",
       "      <th>0</th>\n",
       "      <td>LinearRegression()</td>\n",
       "      <td>30.494235</td>\n",
       "    </tr>\n",
       "  </tbody>\n",
       "</table>\n",
       "</div>"
      ],
      "text/plain": [
       "                                                                                                                                                                                                                                                                                model  \\\n",
       "3  <catboost.core.CatBoostRegressor object at 0x7f307bd414c0>                                                                                                                                                                                                                           \n",
       "4  LGBMRegressor()                                                                                                                                                                                                                                                                      \n",
       "2  GridSearchCV(cv=TimeSeriesSplit(gap=0, max_train_size=None, n_splits=2, test_size=None),\\n             estimator=RandomForestRegressor(random_state=12345),\\n             param_grid={'max_depth': range(1, 11, 2),\\n                         'n_estimators': range(50, 100, 10)})   \n",
       "1  GridSearchCV(cv=TimeSeriesSplit(gap=0, max_train_size=None, n_splits=2, test_size=None),\\n             estimator=DecisionTreeRegressor(random_state=12345),\\n             param_grid={'max_depth': range(1, 11, 2)})                                                                 \n",
       "0  LinearRegression()                                                                                                                                                                                                                                                                   \n",
       "\n",
       "   rmse_train  \n",
       "3  13.316762   \n",
       "4  14.964693   \n",
       "2  16.987254   \n",
       "1  22.023192   \n",
       "0  30.494235   "
      ]
     },
     "metadata": {},
     "output_type": "display_data"
    }
   ],
   "source": [
    "display(result.sort_values(by='rmse_train'))"
   ]
  },
  {
   "cell_type": "markdown",
   "metadata": {},
   "source": [
    "## Тестирование"
   ]
  },
  {
   "cell_type": "markdown",
   "metadata": {},
   "source": [
    "Протестируем обученные модели на тестовых данных и добавим их RMSE в датафрейм с результатами, а также построим графики исходного и предсказанных рядов для каждой модели"
   ]
  },
  {
   "cell_type": "code",
   "execution_count": 48,
   "metadata": {},
   "outputs": [],
   "source": [
    "test_models = []"
   ]
  },
  {
   "cell_type": "code",
   "execution_count": 49,
   "metadata": {},
   "outputs": [],
   "source": [
    "def display_result(target, pred, rmse):\n",
    "    result = target.to_frame().reset_index()\n",
    "    result['prediction'] = pd.Series(pred)\n",
    "    result.set_index('datetime', inplace=True)\n",
    "    \n",
    "    lineplot(result, 'RMSE='+str(rmse))"
   ]
  },
  {
   "cell_type": "code",
   "execution_count": 50,
   "metadata": {},
   "outputs": [
    {
     "data": {
      "image/png": "[encoded data removed]",
      "text/plain": [
       "<Figure size 1080x288 with 1 Axes>"
      ]
     },
     "metadata": {},
     "output_type": "display_data"
    },
    {
     "data": {
      "image/png": "[encoded data removed]",
      "text/plain": [
       "<Figure size 1080x288 with 1 Axes>"
      ]
     },
     "metadata": {},
     "output_type": "display_data"
    },
    {
     "data": {
      "image/png": "[encoded data removed]",
      "text/plain": [
       "<Figure size 1080x288 with 1 Axes>"
      ]
     },
     "metadata": {},
     "output_type": "display_data"
    },
    {
     "data": {
      "image/png": "[encoded data removed]",
      "text/plain": [
       "<Figure size 1080x288 with 1 Axes>"
      ]
     },
     "metadata": {},
     "output_type": "display_data"
    },
    {
     "data": {
      "image/png": "[encoded data removed]",
      "text/plain": [
       "<Figure size 1080x288 with 1 Axes>"
      ]
     },
     "metadata": {},
     "output_type": "display_data"
    }
   ],
   "source": [
    "for i in range(len(train_models)):\n",
    "    predictions = train_models[i][0].predict(features_test)\n",
    "    rmse = mean_squared_error(target_test, predictions, squared=False)\n",
    "    display_result(target_test, predictions, rmse)\n",
    "    test_models.append(rmse)"
   ]
  },
  {
   "cell_type": "code",
   "execution_count": 51,
   "metadata": {},
   "outputs": [],
   "source": [
    "result['rmse_test'] = pd.Series(test_models)"
   ]
  },
  {
   "cell_type": "code",
   "execution_count": 52,
   "metadata": {},
   "outputs": [
    {
     "data": {
      "text/html": [
       "<div>\n",
       "<style scoped>\n",
       "    .dataframe tbody tr th:only-of-type {\n",
       "        vertical-align: middle;\n",
       "    }\n",
       "\n",
       "    .dataframe tbody tr th {\n",
       "        vertical-align: top;\n",
       "    }\n",
       "\n",
       "    .dataframe thead th {\n",
       "        text-align: right;\n",
       "    }\n",
       "</style>\n",
       "<table border=\"1\" class=\"dataframe\">\n",
       "  <thead>\n",
       "    <tr style=\"text-align: right;\">\n",
       "      <th></th>\n",
       "      <th>model</th>\n",
       "      <th>rmse_train</th>\n",
       "      <th>rmse_test</th>\n",
       "    </tr>\n",
       "  </thead>\n",
       "  <tbody>\n",
       "    <tr>\n",
       "      <th>3</th>\n",
       "      <td>&lt;catboost.core.CatBoostRegressor object at 0x7f307bd414c0&gt;</td>\n",
       "      <td>13.316762</td>\n",
       "      <td>43.657045</td>\n",
       "    </tr>\n",
       "    <tr>\n",
       "      <th>4</th>\n",
       "      <td>LGBMRegressor()</td>\n",
       "      <td>14.964693</td>\n",
       "      <td>44.695506</td>\n",
       "    </tr>\n",
       "    <tr>\n",
       "      <th>2</th>\n",
       "      <td>GridSearchCV(cv=TimeSeriesSplit(gap=0, max_train_size=None, n_splits=2, test_size=None),\\n             estimator=RandomForestRegressor(random_state=12345),\\n             param_grid={'max_depth': range(1, 11, 2),\\n                         'n_estimators': range(50, 100, 10)})</td>\n",
       "      <td>16.987254</td>\n",
       "      <td>49.246222</td>\n",
       "    </tr>\n",
       "    <tr>\n",
       "      <th>0</th>\n",
       "      <td>LinearRegression()</td>\n",
       "      <td>30.494235</td>\n",
       "      <td>52.692761</td>\n",
       "    </tr>\n",
       "    <tr>\n",
       "      <th>1</th>\n",
       "      <td>GridSearchCV(cv=TimeSeriesSplit(gap=0, max_train_size=None, n_splits=2, test_size=None),\\n             estimator=DecisionTreeRegressor(random_state=12345),\\n             param_grid={'max_depth': range(1, 11, 2)})</td>\n",
       "      <td>22.023192</td>\n",
       "      <td>60.488801</td>\n",
       "    </tr>\n",
       "  </tbody>\n",
       "</table>\n",
       "</div>"
      ],
      "text/plain": [
       "                                                                                                                                                                                                                                                                                model  \\\n",
       "3  <catboost.core.CatBoostRegressor object at 0x7f307bd414c0>                                                                                                                                                                                                                           \n",
       "4  LGBMRegressor()                                                                                                                                                                                                                                                                      \n",
       "2  GridSearchCV(cv=TimeSeriesSplit(gap=0, max_train_size=None, n_splits=2, test_size=None),\\n             estimator=RandomForestRegressor(random_state=12345),\\n             param_grid={'max_depth': range(1, 11, 2),\\n                         'n_estimators': range(50, 100, 10)})   \n",
       "0  LinearRegression()                                                                                                                                                                                                                                                                   \n",
       "1  GridSearchCV(cv=TimeSeriesSplit(gap=0, max_train_size=None, n_splits=2, test_size=None),\\n             estimator=DecisionTreeRegressor(random_state=12345),\\n             param_grid={'max_depth': range(1, 11, 2)})                                                                 \n",
       "\n",
       "   rmse_train  rmse_test  \n",
       "3  13.316762   43.657045  \n",
       "4  14.964693   44.695506  \n",
       "2  16.987254   49.246222  \n",
       "0  30.494235   52.692761  \n",
       "1  22.023192   60.488801  "
      ]
     },
     "execution_count": 52,
     "metadata": {},
     "output_type": "execute_result"
    }
   ],
   "source": [
    "result.sort_values(by='rmse_test')"
   ]
  },
  {
   "cell_type": "markdown",
   "metadata": {},
   "source": [
    "Только CatBoost и LightGBM демонстрируют RMSE ниже 48, у остальных результаты хуже"
   ]
  }
 ],
 "metadata": {
  "ExecuteTimeLog": [
   {
    "duration": 457,
    "start_time": "2022-05-21T11:57:46.659Z"
   },
   {
    "duration": 86,
    "start_time": "2022-05-21T11:58:10.869Z"
   },
   {
    "duration": 13,
    "start_time": "2022-05-21T11:58:17.058Z"
   },
   {
    "duration": 14,
    "start_time": "2022-05-21T11:58:24.692Z"
   },
   {
    "duration": 78,
    "start_time": "2022-05-21T11:59:28.144Z"
   },
   {
    "duration": 13,
    "start_time": "2022-05-21T11:59:55.017Z"
   },
   {
    "duration": 12,
    "start_time": "2022-05-21T11:59:59.995Z"
   },
   {
    "duration": 9,
    "start_time": "2022-05-21T12:00:02.496Z"
   },
   {
    "duration": 2,
    "start_time": "2022-05-21T12:00:07.801Z"
   },
   {
    "duration": 44,
    "start_time": "2022-05-21T12:00:07.805Z"
   },
   {
    "duration": 13,
    "start_time": "2022-05-21T12:00:07.851Z"
   },
   {
    "duration": 16,
    "start_time": "2022-05-21T12:00:07.866Z"
   },
   {
    "duration": 8,
    "start_time": "2022-05-21T12:00:17.076Z"
   },
   {
    "duration": 23,
    "start_time": "2022-05-21T12:03:20.371Z"
   },
   {
    "duration": 3,
    "start_time": "2022-05-21T12:05:19.180Z"
   },
   {
    "duration": 34,
    "start_time": "2022-05-21T12:05:19.766Z"
   },
   {
    "duration": 11,
    "start_time": "2022-05-21T12:05:20.758Z"
   },
   {
    "duration": 3,
    "start_time": "2022-05-21T12:05:50.667Z"
   },
   {
    "duration": 9,
    "start_time": "2022-05-21T12:05:55.386Z"
   },
   {
    "duration": 8,
    "start_time": "2022-05-21T12:06:25.411Z"
   },
   {
    "duration": 2,
    "start_time": "2022-05-21T12:06:34.597Z"
   },
   {
    "duration": 33,
    "start_time": "2022-05-21T12:06:35.005Z"
   },
   {
    "duration": 11,
    "start_time": "2022-05-21T12:06:35.403Z"
   },
   {
    "duration": 6,
    "start_time": "2022-05-21T12:06:36.161Z"
   },
   {
    "duration": 4,
    "start_time": "2022-05-21T12:06:37.967Z"
   },
   {
    "duration": 37,
    "start_time": "2022-05-21T12:06:56.621Z"
   },
   {
    "duration": 8,
    "start_time": "2022-05-21T12:06:57.188Z"
   },
   {
    "duration": 11,
    "start_time": "2022-05-21T12:07:03.186Z"
   },
   {
    "duration": 6,
    "start_time": "2022-05-21T12:07:05.756Z"
   },
   {
    "duration": 4,
    "start_time": "2022-05-21T12:07:06.207Z"
   },
   {
    "duration": 3,
    "start_time": "2022-05-21T12:16:21.054Z"
   },
   {
    "duration": 37,
    "start_time": "2022-05-21T12:16:25.530Z"
   },
   {
    "duration": 34,
    "start_time": "2022-05-21T12:16:43.093Z"
   },
   {
    "duration": 7,
    "start_time": "2022-05-21T12:19:43.059Z"
   },
   {
    "duration": 15,
    "start_time": "2022-05-21T12:21:18.755Z"
   },
   {
    "duration": 1102,
    "start_time": "2022-05-21T12:21:38.060Z"
   },
   {
    "duration": 4,
    "start_time": "2022-05-21T12:25:11.581Z"
   },
   {
    "duration": 602,
    "start_time": "2022-05-21T12:26:09.508Z"
   },
   {
    "duration": 3,
    "start_time": "2022-05-21T12:26:34.293Z"
   },
   {
    "duration": 258,
    "start_time": "2022-05-21T12:26:37.690Z"
   },
   {
    "duration": 285,
    "start_time": "2022-05-21T12:29:27.101Z"
   },
   {
    "duration": 27,
    "start_time": "2022-05-21T12:38:32.626Z"
   },
   {
    "duration": 274,
    "start_time": "2022-05-21T12:38:40.351Z"
   },
   {
    "duration": 614,
    "start_time": "2022-05-21T12:39:25.119Z"
   },
   {
    "duration": 280,
    "start_time": "2022-05-21T14:07:43.975Z"
   },
   {
    "duration": 333,
    "start_time": "2022-05-21T14:08:44.560Z"
   },
   {
    "duration": 13,
    "start_time": "2022-05-21T14:08:56.285Z"
   },
   {
    "duration": 11,
    "start_time": "2022-05-21T14:09:17.080Z"
   },
   {
    "duration": 394,
    "start_time": "2022-05-21T14:09:54.182Z"
   },
   {
    "duration": 8,
    "start_time": "2022-05-21T14:10:00.359Z"
   },
   {
    "duration": 556,
    "start_time": "2022-05-21T14:10:01.669Z"
   },
   {
    "duration": 37,
    "start_time": "2022-05-21T14:10:05.261Z"
   },
   {
    "duration": 424,
    "start_time": "2022-05-21T14:10:10.170Z"
   },
   {
    "duration": 23,
    "start_time": "2022-05-21T14:10:15.356Z"
   },
   {
    "duration": 367,
    "start_time": "2022-05-21T14:10:59.166Z"
   },
   {
    "duration": 609,
    "start_time": "2022-05-21T14:12:07.074Z"
   },
   {
    "duration": 475,
    "start_time": "2022-05-21T14:12:15.097Z"
   },
   {
    "duration": 4,
    "start_time": "2022-05-21T14:13:42.106Z"
   },
   {
    "duration": 4,
    "start_time": "2022-05-21T14:13:49.952Z"
   },
   {
    "duration": 295,
    "start_time": "2022-05-21T14:13:52.060Z"
   },
   {
    "duration": 11,
    "start_time": "2022-05-21T14:13:56.460Z"
   },
   {
    "duration": 321,
    "start_time": "2022-05-21T14:14:01.524Z"
   },
   {
    "duration": 288,
    "start_time": "2022-05-21T14:14:08.852Z"
   },
   {
    "duration": 6,
    "start_time": "2022-05-21T14:14:28.697Z"
   },
   {
    "duration": 420,
    "start_time": "2022-05-21T14:14:31.986Z"
   },
   {
    "duration": 891,
    "start_time": "2022-05-21T14:14:34.298Z"
   },
   {
    "duration": 863,
    "start_time": "2022-05-21T14:14:37.854Z"
   },
   {
    "duration": 5,
    "start_time": "2022-05-21T14:14:56.553Z"
   },
   {
    "duration": 316,
    "start_time": "2022-05-21T14:14:57.553Z"
   },
   {
    "duration": 318,
    "start_time": "2022-05-21T14:15:07.595Z"
   },
   {
    "duration": 345,
    "start_time": "2022-05-21T14:15:13.020Z"
   },
   {
    "duration": 5,
    "start_time": "2022-05-21T14:15:17.596Z"
   },
   {
    "duration": 433,
    "start_time": "2022-05-21T14:15:18.390Z"
   },
   {
    "duration": 893,
    "start_time": "2022-05-21T14:15:21.296Z"
   },
   {
    "duration": 992,
    "start_time": "2022-05-21T14:15:37.520Z"
   },
   {
    "duration": 332,
    "start_time": "2022-05-21T14:17:25.662Z"
   },
   {
    "duration": 327,
    "start_time": "2022-05-21T14:17:29.703Z"
   },
   {
    "duration": 833,
    "start_time": "2022-05-21T14:17:50.552Z"
   },
   {
    "duration": 832,
    "start_time": "2022-05-21T14:18:12.861Z"
   },
   {
    "duration": 882,
    "start_time": "2022-05-21T14:18:27.085Z"
   },
   {
    "duration": 5,
    "start_time": "2022-05-21T14:19:55.650Z"
   },
   {
    "duration": 320,
    "start_time": "2022-05-21T14:19:56.765Z"
   },
   {
    "duration": 334,
    "start_time": "2022-05-21T14:20:39.649Z"
   },
   {
    "duration": 443,
    "start_time": "2022-05-21T14:20:43.549Z"
   },
   {
    "duration": 870,
    "start_time": "2022-05-21T14:20:47.518Z"
   },
   {
    "duration": 4,
    "start_time": "2022-05-21T14:21:13.262Z"
   },
   {
    "duration": 288,
    "start_time": "2022-05-21T14:21:15.347Z"
   },
   {
    "duration": 317,
    "start_time": "2022-05-21T14:21:19.057Z"
   },
   {
    "duration": 340,
    "start_time": "2022-05-21T14:21:22.047Z"
   },
   {
    "duration": 910,
    "start_time": "2022-05-21T14:21:24.480Z"
   },
   {
    "duration": 4,
    "start_time": "2022-05-21T14:21:59.216Z"
   },
   {
    "duration": 337,
    "start_time": "2022-05-21T14:22:02.019Z"
   },
   {
    "duration": 341,
    "start_time": "2022-05-21T14:22:06.852Z"
   },
   {
    "duration": 987,
    "start_time": "2022-05-21T14:22:10.486Z"
   },
   {
    "duration": 6,
    "start_time": "2022-05-21T14:22:45.044Z"
   },
   {
    "duration": 291,
    "start_time": "2022-05-21T14:22:46.749Z"
   },
   {
    "duration": 320,
    "start_time": "2022-05-21T14:22:50.551Z"
   },
   {
    "duration": 932,
    "start_time": "2022-05-21T14:22:54.452Z"
   },
   {
    "duration": 5,
    "start_time": "2022-05-21T14:23:19.990Z"
   },
   {
    "duration": 332,
    "start_time": "2022-05-21T14:23:21.817Z"
   },
   {
    "duration": 854,
    "start_time": "2022-05-21T14:23:27.547Z"
   },
   {
    "duration": 5,
    "start_time": "2022-05-21T14:24:21.405Z"
   },
   {
    "duration": 890,
    "start_time": "2022-05-21T14:24:25.292Z"
   },
   {
    "duration": 8,
    "start_time": "2022-05-21T14:24:42.298Z"
   },
   {
    "duration": 988,
    "start_time": "2022-05-21T14:24:46.861Z"
   },
   {
    "duration": 387,
    "start_time": "2022-05-21T14:24:58.850Z"
   },
   {
    "duration": 6,
    "start_time": "2022-05-21T14:26:30.797Z"
   },
   {
    "duration": 345,
    "start_time": "2022-05-21T14:26:34.182Z"
   },
   {
    "duration": 6,
    "start_time": "2022-05-21T14:27:00.864Z"
   },
   {
    "duration": 300,
    "start_time": "2022-05-21T14:27:02.920Z"
   },
   {
    "duration": 343,
    "start_time": "2022-05-21T14:27:06.903Z"
   },
   {
    "duration": 830,
    "start_time": "2022-05-21T14:27:09.758Z"
   },
   {
    "duration": 5,
    "start_time": "2022-05-21T14:27:42.994Z"
   },
   {
    "duration": 302,
    "start_time": "2022-05-21T14:27:45.353Z"
   },
   {
    "duration": 921,
    "start_time": "2022-05-21T14:27:50.648Z"
   },
   {
    "duration": 6,
    "start_time": "2022-05-21T14:28:28.347Z"
   },
   {
    "duration": 343,
    "start_time": "2022-05-21T14:28:30.630Z"
   },
   {
    "duration": 783,
    "start_time": "2022-05-21T14:28:36.907Z"
   },
   {
    "duration": 5,
    "start_time": "2022-05-21T14:30:27.800Z"
   },
   {
    "duration": 285,
    "start_time": "2022-05-21T14:30:29.738Z"
   },
   {
    "duration": 778,
    "start_time": "2022-05-21T14:30:36.105Z"
   },
   {
    "duration": 5,
    "start_time": "2022-05-21T14:30:49.014Z"
   },
   {
    "duration": 277,
    "start_time": "2022-05-21T14:30:50.742Z"
   },
   {
    "duration": 854,
    "start_time": "2022-05-21T14:30:56.091Z"
   },
   {
    "duration": 468,
    "start_time": "2022-05-21T14:31:42.573Z"
   },
   {
    "duration": 4,
    "start_time": "2022-05-21T14:33:32.964Z"
   },
   {
    "duration": 276,
    "start_time": "2022-05-21T14:33:33.948Z"
   },
   {
    "duration": 815,
    "start_time": "2022-05-21T14:33:41.113Z"
   },
   {
    "duration": 13,
    "start_time": "2022-05-21T14:34:03.810Z"
   },
   {
    "duration": 13,
    "start_time": "2022-05-21T14:34:13.192Z"
   },
   {
    "duration": 5,
    "start_time": "2022-05-21T14:34:25.745Z"
   },
   {
    "duration": 209,
    "start_time": "2022-05-21T14:34:26.810Z"
   },
   {
    "duration": 772,
    "start_time": "2022-05-21T14:34:33.974Z"
   },
   {
    "duration": 6,
    "start_time": "2022-05-21T14:34:50.842Z"
   },
   {
    "duration": 292,
    "start_time": "2022-05-21T14:34:51.760Z"
   },
   {
    "duration": 337,
    "start_time": "2022-05-21T14:34:54.102Z"
   },
   {
    "duration": 337,
    "start_time": "2022-05-21T14:34:58.056Z"
   },
   {
    "duration": 5,
    "start_time": "2022-05-21T14:35:01.446Z"
   },
   {
    "duration": 985,
    "start_time": "2022-05-21T14:35:02.250Z"
   },
   {
    "duration": 13,
    "start_time": "2022-05-21T15:02:27.991Z"
   },
   {
    "duration": 14,
    "start_time": "2022-05-21T15:02:29.100Z"
   },
   {
    "duration": 318,
    "start_time": "2022-05-21T15:03:04.113Z"
   },
   {
    "duration": 32,
    "start_time": "2022-05-21T15:03:09.707Z"
   },
   {
    "duration": 12,
    "start_time": "2022-05-21T15:03:17.044Z"
   },
   {
    "duration": 24,
    "start_time": "2022-05-21T15:03:17.608Z"
   },
   {
    "duration": 25,
    "start_time": "2022-05-21T22:20:28.442Z"
   },
   {
    "duration": 14,
    "start_time": "2022-05-21T22:21:26.811Z"
   },
   {
    "duration": 16,
    "start_time": "2022-05-21T22:21:40.733Z"
   },
   {
    "duration": 696,
    "start_time": "2022-05-21T22:21:54.246Z"
   },
   {
    "duration": 360,
    "start_time": "2022-05-21T22:22:32.863Z"
   },
   {
    "duration": 398,
    "start_time": "2022-05-21T22:22:42.798Z"
   },
   {
    "duration": 636,
    "start_time": "2022-05-21T22:22:53.218Z"
   },
   {
    "duration": 10,
    "start_time": "2022-05-21T22:23:50.407Z"
   },
   {
    "duration": 689,
    "start_time": "2022-05-21T22:23:51.162Z"
   },
   {
    "duration": 732,
    "start_time": "2022-05-21T22:23:57.044Z"
   },
   {
    "duration": 16,
    "start_time": "2022-05-21T22:27:08.253Z"
   },
   {
    "duration": 12,
    "start_time": "2022-05-21T22:27:26.850Z"
   },
   {
    "duration": 15,
    "start_time": "2022-05-21T22:27:56.120Z"
   },
   {
    "duration": 4,
    "start_time": "2022-05-21T22:28:02.143Z"
   },
   {
    "duration": 60,
    "start_time": "2022-05-21T22:28:02.150Z"
   },
   {
    "duration": 7,
    "start_time": "2022-05-21T22:28:02.212Z"
   },
   {
    "duration": 20,
    "start_time": "2022-05-21T22:28:02.221Z"
   },
   {
    "duration": 16,
    "start_time": "2022-05-21T22:28:02.244Z"
   },
   {
    "duration": 12,
    "start_time": "2022-05-21T22:28:02.262Z"
   },
   {
    "duration": 19,
    "start_time": "2022-05-21T22:28:02.275Z"
   },
   {
    "duration": 15,
    "start_time": "2022-05-21T22:28:02.296Z"
   },
   {
    "duration": 295,
    "start_time": "2022-05-21T22:28:02.313Z"
   },
   {
    "duration": 335,
    "start_time": "2022-05-21T22:28:02.610Z"
   },
   {
    "duration": 440,
    "start_time": "2022-05-21T22:28:02.947Z"
   },
   {
    "duration": 9,
    "start_time": "2022-05-21T22:28:03.390Z"
   },
   {
    "duration": 806,
    "start_time": "2022-05-21T22:28:03.400Z"
   },
   {
    "duration": 18,
    "start_time": "2022-05-21T22:28:07.117Z"
   },
   {
    "duration": 13,
    "start_time": "2022-05-21T22:28:33.312Z"
   },
   {
    "duration": 21,
    "start_time": "2022-05-21T22:28:54.676Z"
   },
   {
    "duration": 6,
    "start_time": "2022-05-21T22:29:14.610Z"
   },
   {
    "duration": 404,
    "start_time": "2022-05-21T22:29:19.958Z"
   },
   {
    "duration": 336,
    "start_time": "2022-05-21T22:29:37.559Z"
   },
   {
    "duration": 236,
    "start_time": "2022-05-21T22:30:01.019Z"
   },
   {
    "duration": 363,
    "start_time": "2022-05-21T22:30:11.375Z"
   },
   {
    "duration": 356,
    "start_time": "2022-05-21T22:30:18.654Z"
   },
   {
    "duration": 7,
    "start_time": "2022-05-21T22:30:42.980Z"
   },
   {
    "duration": 10,
    "start_time": "2022-05-21T22:30:50.826Z"
   },
   {
    "duration": 5,
    "start_time": "2022-05-21T22:30:58.854Z"
   },
   {
    "duration": 11,
    "start_time": "2022-05-21T22:31:05.004Z"
   },
   {
    "duration": 13,
    "start_time": "2022-05-21T22:31:27.766Z"
   },
   {
    "duration": 7,
    "start_time": "2022-05-21T22:31:36.060Z"
   },
   {
    "duration": 9,
    "start_time": "2022-05-21T22:31:38.985Z"
   },
   {
    "duration": 4,
    "start_time": "2022-05-21T22:31:42.521Z"
   },
   {
    "duration": 6,
    "start_time": "2022-05-21T22:31:52.458Z"
   },
   {
    "duration": 14,
    "start_time": "2022-05-21T22:32:01.402Z"
   },
   {
    "duration": 10,
    "start_time": "2022-05-21T22:32:07.418Z"
   },
   {
    "duration": 3,
    "start_time": "2022-05-21T22:32:56.858Z"
   },
   {
    "duration": 140,
    "start_time": "2022-05-21T22:33:18.215Z"
   },
   {
    "duration": 4,
    "start_time": "2022-05-21T22:33:43.968Z"
   },
   {
    "duration": 3,
    "start_time": "2022-05-21T22:33:54.265Z"
   },
   {
    "duration": 3,
    "start_time": "2022-05-21T22:33:55.000Z"
   },
   {
    "duration": 3,
    "start_time": "2022-05-21T22:34:10.304Z"
   },
   {
    "duration": 163,
    "start_time": "2022-05-21T22:34:37.444Z"
   },
   {
    "duration": 11,
    "start_time": "2022-05-21T22:37:32.660Z"
   },
   {
    "duration": 353,
    "start_time": "2022-05-21T22:37:54.167Z"
   },
   {
    "duration": 5,
    "start_time": "2022-05-21T22:38:13.150Z"
   },
   {
    "duration": 269,
    "start_time": "2022-05-21T22:38:14.134Z"
   },
   {
    "duration": 4,
    "start_time": "2022-05-21T22:38:20.371Z"
   },
   {
    "duration": 248,
    "start_time": "2022-05-21T22:38:21.246Z"
   },
   {
    "duration": 280,
    "start_time": "2022-05-21T22:38:26.191Z"
   },
   {
    "duration": 280,
    "start_time": "2022-05-21T22:38:34.836Z"
   },
   {
    "duration": 764,
    "start_time": "2022-05-21T22:38:38.033Z"
   },
   {
    "duration": 310,
    "start_time": "2022-05-21T22:38:45.419Z"
   },
   {
    "duration": 4,
    "start_time": "2022-05-21T22:39:14.800Z"
   },
   {
    "duration": 310,
    "start_time": "2022-05-21T22:39:20.979Z"
   },
   {
    "duration": 288,
    "start_time": "2022-05-21T22:39:41.314Z"
   },
   {
    "duration": 411,
    "start_time": "2022-05-21T22:39:51.055Z"
   },
   {
    "duration": 407,
    "start_time": "2022-05-21T22:39:55.599Z"
   },
   {
    "duration": 229,
    "start_time": "2022-05-21T22:40:18.669Z"
   },
   {
    "duration": 324,
    "start_time": "2022-05-21T22:41:47.875Z"
   },
   {
    "duration": 296,
    "start_time": "2022-05-21T22:42:07.060Z"
   },
   {
    "duration": 17,
    "start_time": "2022-05-21T22:42:33.159Z"
   },
   {
    "duration": 202,
    "start_time": "2022-05-21T22:43:29.548Z"
   },
   {
    "duration": 302,
    "start_time": "2022-05-21T22:43:38.814Z"
   },
   {
    "duration": 375,
    "start_time": "2022-05-21T22:44:03.788Z"
   },
   {
    "duration": 5,
    "start_time": "2022-05-21T22:45:19.054Z"
   },
   {
    "duration": 250,
    "start_time": "2022-05-21T22:45:20.139Z"
   },
   {
    "duration": 285,
    "start_time": "2022-05-21T22:45:23.270Z"
   },
   {
    "duration": 337,
    "start_time": "2022-05-21T22:45:26.198Z"
   },
   {
    "duration": 311,
    "start_time": "2022-05-21T22:45:28.947Z"
   },
   {
    "duration": 782,
    "start_time": "2022-05-21T22:45:31.307Z"
   },
   {
    "duration": 6,
    "start_time": "2022-05-21T22:46:40.265Z"
   },
   {
    "duration": 880,
    "start_time": "2022-05-21T22:46:41.741Z"
   },
   {
    "duration": 6,
    "start_time": "2022-05-21T22:46:47.289Z"
   },
   {
    "duration": 765,
    "start_time": "2022-05-21T22:46:47.983Z"
   },
   {
    "duration": 7,
    "start_time": "2022-05-21T22:47:07.125Z"
   },
   {
    "duration": 737,
    "start_time": "2022-05-21T22:47:08.563Z"
   },
   {
    "duration": 18,
    "start_time": "2022-05-21T22:47:15.222Z"
   },
   {
    "duration": 745,
    "start_time": "2022-05-21T22:47:15.588Z"
   },
   {
    "duration": 5,
    "start_time": "2022-05-21T22:48:28.163Z"
   },
   {
    "duration": 811,
    "start_time": "2022-05-21T22:48:28.685Z"
   },
   {
    "duration": 6,
    "start_time": "2022-05-21T22:48:38.769Z"
   },
   {
    "duration": 740,
    "start_time": "2022-05-21T22:48:39.598Z"
   },
   {
    "duration": 5,
    "start_time": "2022-05-21T22:49:01.055Z"
   },
   {
    "duration": 933,
    "start_time": "2022-05-21T22:49:01.521Z"
   },
   {
    "duration": 5,
    "start_time": "2022-05-21T22:49:11.325Z"
   },
   {
    "duration": 48,
    "start_time": "2022-05-21T22:49:11.334Z"
   },
   {
    "duration": 7,
    "start_time": "2022-05-21T22:49:11.385Z"
   },
   {
    "duration": 20,
    "start_time": "2022-05-21T22:49:11.394Z"
   },
   {
    "duration": 6,
    "start_time": "2022-05-21T22:49:11.416Z"
   },
   {
    "duration": 5,
    "start_time": "2022-05-21T22:49:11.424Z"
   },
   {
    "duration": 32,
    "start_time": "2022-05-21T22:49:11.431Z"
   },
   {
    "duration": 3,
    "start_time": "2022-05-21T22:49:11.465Z"
   },
   {
    "duration": 272,
    "start_time": "2022-05-21T22:49:11.470Z"
   },
   {
    "duration": 273,
    "start_time": "2022-05-21T22:49:11.743Z"
   },
   {
    "duration": 320,
    "start_time": "2022-05-21T22:49:12.017Z"
   },
   {
    "duration": 7,
    "start_time": "2022-05-21T22:49:16.192Z"
   },
   {
    "duration": 756,
    "start_time": "2022-05-21T22:49:17.020Z"
   },
   {
    "duration": 4,
    "start_time": "2022-05-21T22:50:28.146Z"
   },
   {
    "duration": 281,
    "start_time": "2022-05-21T22:50:29.014Z"
   },
   {
    "duration": 4,
    "start_time": "2022-05-21T22:50:44.871Z"
   },
   {
    "duration": 270,
    "start_time": "2022-05-21T22:50:45.689Z"
   },
   {
    "duration": 744,
    "start_time": "2022-05-21T22:50:51.025Z"
   },
   {
    "duration": 3,
    "start_time": "2022-05-21T22:51:20.155Z"
   },
   {
    "duration": 249,
    "start_time": "2022-05-21T22:51:21.815Z"
   },
   {
    "duration": 17,
    "start_time": "2022-05-21T22:52:06.686Z"
   },
   {
    "duration": 43,
    "start_time": "2022-05-21T22:52:12.450Z"
   },
   {
    "duration": 4,
    "start_time": "2022-05-21T22:52:16.359Z"
   },
   {
    "duration": 259,
    "start_time": "2022-05-21T22:52:17.401Z"
   },
   {
    "duration": 197,
    "start_time": "2022-05-21T22:52:27.476Z"
   },
   {
    "duration": 929,
    "start_time": "2022-05-21T22:52:32.711Z"
   },
   {
    "duration": 4,
    "start_time": "2022-05-21T22:53:09.017Z"
   },
   {
    "duration": 246,
    "start_time": "2022-05-21T22:53:10.915Z"
   },
   {
    "duration": 753,
    "start_time": "2022-05-21T22:53:15.048Z"
   },
   {
    "duration": 6,
    "start_time": "2022-05-21T22:55:01.696Z"
   },
   {
    "duration": 272,
    "start_time": "2022-05-21T22:55:03.497Z"
   },
   {
    "duration": 775,
    "start_time": "2022-05-21T22:55:07.651Z"
   },
   {
    "duration": 11,
    "start_time": "2022-05-21T22:57:08.296Z"
   },
   {
    "duration": 4,
    "start_time": "2022-05-21T22:57:13.296Z"
   },
   {
    "duration": 259,
    "start_time": "2022-05-21T22:57:15.380Z"
   },
   {
    "duration": 844,
    "start_time": "2022-05-21T22:57:26.444Z"
   },
   {
    "duration": 6,
    "start_time": "2022-05-21T22:58:13.443Z"
   },
   {
    "duration": 276,
    "start_time": "2022-05-21T22:58:14.169Z"
   },
   {
    "duration": 750,
    "start_time": "2022-05-21T22:58:18.644Z"
   },
   {
    "duration": 68,
    "start_time": "2022-05-21T22:59:39.494Z"
   },
   {
    "duration": 54,
    "start_time": "2022-05-21T22:59:46.988Z"
   },
   {
    "duration": 49,
    "start_time": "2022-05-21T22:59:58.810Z"
   },
   {
    "duration": 48,
    "start_time": "2022-05-21T23:00:13.137Z"
   },
   {
    "duration": 203,
    "start_time": "2022-05-21T23:00:19.686Z"
   },
   {
    "duration": 56,
    "start_time": "2022-05-21T23:00:24.402Z"
   },
   {
    "duration": 3,
    "start_time": "2022-05-21T23:04:51.618Z"
   },
   {
    "duration": 5,
    "start_time": "2022-05-21T23:04:58.030Z"
   },
   {
    "duration": 262,
    "start_time": "2022-05-21T23:05:00.645Z"
   },
   {
    "duration": 767,
    "start_time": "2022-05-21T23:05:04.589Z"
   },
   {
    "duration": 3,
    "start_time": "2022-05-21T23:07:14.530Z"
   },
   {
    "duration": 4,
    "start_time": "2022-05-21T23:07:16.559Z"
   },
   {
    "duration": 48,
    "start_time": "2022-05-21T23:07:17.007Z"
   },
   {
    "duration": 245,
    "start_time": "2022-05-21T23:07:19.572Z"
   },
   {
    "duration": 755,
    "start_time": "2022-05-21T23:07:23.284Z"
   },
   {
    "duration": 5,
    "start_time": "2022-05-21T23:07:40.275Z"
   },
   {
    "duration": 740,
    "start_time": "2022-05-21T23:07:43.744Z"
   },
   {
    "duration": 4,
    "start_time": "2022-05-21T23:09:09.512Z"
   },
   {
    "duration": 273,
    "start_time": "2022-05-21T23:09:12.019Z"
   },
   {
    "duration": 780,
    "start_time": "2022-05-21T23:09:17.521Z"
   },
   {
    "duration": 4,
    "start_time": "2022-05-21T23:09:43.410Z"
   },
   {
    "duration": 902,
    "start_time": "2022-05-21T23:09:49.849Z"
   },
   {
    "duration": 4,
    "start_time": "2022-05-21T23:10:18.292Z"
   },
   {
    "duration": 770,
    "start_time": "2022-05-21T23:10:22.180Z"
   },
   {
    "duration": 4,
    "start_time": "2022-05-21T23:10:59.263Z"
   },
   {
    "duration": 260,
    "start_time": "2022-05-21T23:11:01.128Z"
   },
   {
    "duration": 744,
    "start_time": "2022-05-21T23:11:08.345Z"
   },
   {
    "duration": 4,
    "start_time": "2022-05-21T23:11:51.700Z"
   },
   {
    "duration": 272,
    "start_time": "2022-05-21T23:11:53.788Z"
   },
   {
    "duration": 754,
    "start_time": "2022-05-21T23:11:57.688Z"
   },
   {
    "duration": 5,
    "start_time": "2022-05-21T23:12:17.855Z"
   },
   {
    "duration": 769,
    "start_time": "2022-05-21T23:12:22.298Z"
   },
   {
    "duration": 4,
    "start_time": "2022-05-21T23:12:38.624Z"
   },
   {
    "duration": 5,
    "start_time": "2022-05-21T23:12:42.484Z"
   },
   {
    "duration": 875,
    "start_time": "2022-05-21T23:12:44.558Z"
   },
   {
    "duration": 306,
    "start_time": "2022-05-21T23:13:03.552Z"
   },
   {
    "duration": 4,
    "start_time": "2022-05-21T23:14:09.704Z"
   },
   {
    "duration": 267,
    "start_time": "2022-05-21T23:14:11.616Z"
   },
   {
    "duration": 783,
    "start_time": "2022-05-21T23:14:15.548Z"
   },
   {
    "duration": 316,
    "start_time": "2022-05-21T23:14:26.242Z"
   },
   {
    "duration": 321,
    "start_time": "2022-05-21T23:14:32.142Z"
   },
   {
    "duration": 284,
    "start_time": "2022-05-21T23:14:53.246Z"
   },
   {
    "duration": 256,
    "start_time": "2022-05-21T23:15:09.491Z"
   },
   {
    "duration": 188,
    "start_time": "2022-05-21T23:15:12.246Z"
   },
   {
    "duration": 260,
    "start_time": "2022-05-21T23:15:17.755Z"
   },
   {
    "duration": 347,
    "start_time": "2022-05-21T23:15:28.824Z"
   },
   {
    "duration": 410,
    "start_time": "2022-05-21T23:15:36.394Z"
   },
   {
    "duration": 390,
    "start_time": "2022-05-21T23:16:21.980Z"
   },
   {
    "duration": 300,
    "start_time": "2022-05-21T23:18:52.349Z"
   },
   {
    "duration": 402,
    "start_time": "2022-05-21T23:19:02.871Z"
   },
   {
    "duration": 8,
    "start_time": "2022-05-21T23:20:33.409Z"
   },
   {
    "duration": 8,
    "start_time": "2022-05-21T23:20:35.987Z"
   },
   {
    "duration": 5,
    "start_time": "2022-05-21T23:21:30.947Z"
   },
   {
    "duration": 3,
    "start_time": "2022-05-21T23:22:05.479Z"
   },
   {
    "duration": 12,
    "start_time": "2022-05-21T23:22:06.679Z"
   },
   {
    "duration": 9,
    "start_time": "2022-05-21T23:22:13.362Z"
   },
   {
    "duration": 509,
    "start_time": "2022-05-21T23:22:14.511Z"
   },
   {
    "duration": 248,
    "start_time": "2022-05-21T23:22:18.197Z"
   },
   {
    "duration": 317,
    "start_time": "2022-05-21T23:22:20.645Z"
   },
   {
    "duration": 313,
    "start_time": "2022-05-21T23:25:14.841Z"
   },
   {
    "duration": 294,
    "start_time": "2022-05-21T23:25:23.458Z"
   },
   {
    "duration": 290,
    "start_time": "2022-05-21T23:25:36.978Z"
   },
   {
    "duration": 302,
    "start_time": "2022-05-21T23:25:42.958Z"
   },
   {
    "duration": 296,
    "start_time": "2022-05-21T23:26:12.961Z"
   },
   {
    "duration": 316,
    "start_time": "2022-05-21T23:26:22.659Z"
   },
   {
    "duration": 301,
    "start_time": "2022-05-21T23:27:08.763Z"
   },
   {
    "duration": 288,
    "start_time": "2022-05-21T23:27:16.813Z"
   },
   {
    "duration": 182,
    "start_time": "2022-05-21T23:28:45.458Z"
   },
   {
    "duration": 7,
    "start_time": "2022-05-21T23:38:55.971Z"
   },
   {
    "duration": 15,
    "start_time": "2022-05-21T23:41:06.239Z"
   },
   {
    "duration": 6,
    "start_time": "2022-05-21T23:41:11.007Z"
   },
   {
    "duration": 6,
    "start_time": "2022-05-21T23:41:42.170Z"
   },
   {
    "duration": 12,
    "start_time": "2022-05-21T23:41:50.186Z"
   },
   {
    "duration": 30,
    "start_time": "2022-05-21T23:42:09.649Z"
   },
   {
    "duration": 6,
    "start_time": "2022-05-21T23:42:18.156Z"
   },
   {
    "duration": 19,
    "start_time": "2022-05-21T23:42:23.092Z"
   },
   {
    "duration": 8,
    "start_time": "2022-05-21T23:42:39.048Z"
   },
   {
    "duration": 17,
    "start_time": "2022-05-21T23:44:54.366Z"
   },
   {
    "duration": 3,
    "start_time": "2022-05-21T23:45:11.382Z"
   },
   {
    "duration": 52,
    "start_time": "2022-05-21T23:45:11.387Z"
   },
   {
    "duration": 10,
    "start_time": "2022-05-21T23:45:11.440Z"
   },
   {
    "duration": 16,
    "start_time": "2022-05-21T23:45:11.452Z"
   },
   {
    "duration": 6,
    "start_time": "2022-05-21T23:45:11.470Z"
   },
   {
    "duration": 6,
    "start_time": "2022-05-21T23:45:11.477Z"
   },
   {
    "duration": 13,
    "start_time": "2022-05-21T23:45:11.484Z"
   },
   {
    "duration": 13,
    "start_time": "2022-05-21T23:45:11.499Z"
   },
   {
    "duration": 15,
    "start_time": "2022-05-21T23:45:11.514Z"
   },
   {
    "duration": 520,
    "start_time": "2022-05-21T23:45:11.536Z"
   },
   {
    "duration": 310,
    "start_time": "2022-05-21T23:45:12.058Z"
   },
   {
    "duration": 199,
    "start_time": "2022-05-21T23:45:12.369Z"
   },
   {
    "duration": 333,
    "start_time": "2022-05-21T23:45:12.570Z"
   },
   {
    "duration": 8,
    "start_time": "2022-05-21T23:45:12.905Z"
   },
   {
    "duration": 14,
    "start_time": "2022-05-21T23:45:12.915Z"
   },
   {
    "duration": 33,
    "start_time": "2022-05-21T23:45:12.930Z"
   },
   {
    "duration": 4,
    "start_time": "2022-05-21T23:45:12.965Z"
   },
   {
    "duration": 16,
    "start_time": "2022-05-21T23:45:14.990Z"
   },
   {
    "duration": 6,
    "start_time": "2022-05-21T23:45:24.545Z"
   },
   {
    "duration": 41,
    "start_time": "2022-05-21T23:45:24.555Z"
   },
   {
    "duration": 7,
    "start_time": "2022-05-21T23:45:24.598Z"
   },
   {
    "duration": 12,
    "start_time": "2022-05-21T23:45:24.607Z"
   },
   {
    "duration": 36,
    "start_time": "2022-05-21T23:45:24.621Z"
   },
   {
    "duration": 8,
    "start_time": "2022-05-21T23:45:24.658Z"
   },
   {
    "duration": 25,
    "start_time": "2022-05-21T23:45:24.668Z"
   },
   {
    "duration": 5,
    "start_time": "2022-05-21T23:45:24.694Z"
   },
   {
    "duration": 10,
    "start_time": "2022-05-21T23:45:24.700Z"
   },
   {
    "duration": 310,
    "start_time": "2022-05-21T23:45:24.712Z"
   },
   {
    "duration": 320,
    "start_time": "2022-05-21T23:45:25.024Z"
   },
   {
    "duration": 183,
    "start_time": "2022-05-21T23:45:25.348Z"
   },
   {
    "duration": 346,
    "start_time": "2022-05-21T23:45:25.533Z"
   },
   {
    "duration": 7,
    "start_time": "2022-05-21T23:45:25.882Z"
   },
   {
    "duration": 7,
    "start_time": "2022-05-21T23:45:25.891Z"
   },
   {
    "duration": 8,
    "start_time": "2022-05-21T23:45:25.899Z"
   },
   {
    "duration": 33,
    "start_time": "2022-05-21T23:45:25.909Z"
   },
   {
    "duration": 4,
    "start_time": "2022-05-21T23:45:47.866Z"
   },
   {
    "duration": 11,
    "start_time": "2022-05-21T23:46:02.594Z"
   },
   {
    "duration": 16,
    "start_time": "2022-05-21T23:46:16.576Z"
   },
   {
    "duration": 7,
    "start_time": "2022-05-21T23:46:22.749Z"
   },
   {
    "duration": 10,
    "start_time": "2022-05-21T23:46:28.751Z"
   },
   {
    "duration": 4,
    "start_time": "2022-05-21T23:46:32.063Z"
   },
   {
    "duration": 9,
    "start_time": "2022-05-21T23:47:30.783Z"
   },
   {
    "duration": 331,
    "start_time": "2022-05-21T23:48:30.804Z"
   },
   {
    "duration": 23,
    "start_time": "2022-05-21T23:48:43.396Z"
   },
   {
    "duration": 5,
    "start_time": "2022-05-21T23:48:49.794Z"
   },
   {
    "duration": 5,
    "start_time": "2022-05-21T23:50:20.471Z"
   },
   {
    "duration": 6,
    "start_time": "2022-05-21T23:50:45.871Z"
   },
   {
    "duration": 3,
    "start_time": "2022-05-21T23:51:12.666Z"
   },
   {
    "duration": 3106,
    "start_time": "2022-05-21T23:51:27.702Z"
   },
   {
    "duration": 2463,
    "start_time": "2022-05-21T23:52:08.866Z"
   },
   {
    "duration": 13,
    "start_time": "2022-05-21T23:52:31.324Z"
   },
   {
    "duration": 5,
    "start_time": "2022-05-21T23:53:02.116Z"
   },
   {
    "duration": 5,
    "start_time": "2022-05-21T23:54:19.711Z"
   },
   {
    "duration": 2454,
    "start_time": "2022-05-21T23:54:21.110Z"
   },
   {
    "duration": 4,
    "start_time": "2022-05-21T23:54:23.565Z"
   },
   {
    "duration": 4,
    "start_time": "2022-05-21T23:54:23.803Z"
   },
   {
    "duration": 4,
    "start_time": "2022-05-21T23:54:35.324Z"
   },
   {
    "duration": 28601,
    "start_time": "2022-05-21T23:54:35.745Z"
   },
   {
    "duration": 82,
    "start_time": "2022-05-21T23:55:04.348Z"
   },
   {
    "duration": 35,
    "start_time": "2022-05-21T23:55:04.433Z"
   },
   {
    "duration": 3,
    "start_time": "2022-05-21T23:55:48.477Z"
   },
   {
    "duration": 10,
    "start_time": "2022-05-21T23:56:05.350Z"
   },
   {
    "duration": 6,
    "start_time": "2022-05-21T23:56:10.399Z"
   },
   {
    "duration": 5,
    "start_time": "2022-05-21T23:56:11.355Z"
   },
   {
    "duration": 3,
    "start_time": "2022-05-21T23:58:41.167Z"
   },
   {
    "duration": 3,
    "start_time": "2022-05-22T00:00:56.758Z"
   },
   {
    "duration": 4,
    "start_time": "2022-05-22T00:01:40.653Z"
   },
   {
    "duration": 3,
    "start_time": "2022-05-22T00:02:50.651Z"
   },
   {
    "duration": 22,
    "start_time": "2022-05-22T00:03:24.928Z"
   },
   {
    "duration": 11,
    "start_time": "2022-05-22T00:03:28.660Z"
   },
   {
    "duration": 8,
    "start_time": "2022-05-22T00:03:30.727Z"
   },
   {
    "duration": 3,
    "start_time": "2022-05-22T00:04:18.966Z"
   },
   {
    "duration": 2742,
    "start_time": "2022-05-22T00:04:19.682Z"
   },
   {
    "duration": 10,
    "start_time": "2022-05-22T00:04:22.426Z"
   },
   {
    "duration": 14,
    "start_time": "2022-05-22T00:04:22.447Z"
   },
   {
    "duration": 38,
    "start_time": "2022-05-22T00:05:46.399Z"
   },
   {
    "duration": 3,
    "start_time": "2022-05-22T00:06:48.581Z"
   },
   {
    "duration": 24651,
    "start_time": "2022-05-22T00:06:49.085Z"
   },
   {
    "duration": 19,
    "start_time": "2022-05-22T00:07:13.741Z"
   },
   {
    "duration": 5,
    "start_time": "2022-05-22T00:07:13.761Z"
   },
   {
    "duration": 4,
    "start_time": "2022-05-22T00:07:52.420Z"
   },
   {
    "duration": 173,
    "start_time": "2022-05-22T00:23:49.596Z"
   },
   {
    "duration": 17,
    "start_time": "2022-05-22T00:23:55.642Z"
   },
   {
    "duration": 12,
    "start_time": "2022-05-22T00:24:11.650Z"
   },
   {
    "duration": 13,
    "start_time": "2022-05-22T00:24:12.859Z"
   },
   {
    "duration": 5,
    "start_time": "2022-05-22T00:24:26.972Z"
   },
   {
    "duration": 41,
    "start_time": "2022-05-22T00:24:56.421Z"
   },
   {
    "duration": 5,
    "start_time": "2022-05-22T00:24:58.868Z"
   },
   {
    "duration": 2,
    "start_time": "2022-05-22T00:25:20.565Z"
   },
   {
    "duration": 7,
    "start_time": "2022-05-22T00:25:21.075Z"
   },
   {
    "duration": 8,
    "start_time": "2022-05-22T00:25:22.749Z"
   },
   {
    "duration": 5,
    "start_time": "2022-05-22T00:25:23.764Z"
   },
   {
    "duration": 3,
    "start_time": "2022-05-22T00:25:57.104Z"
   },
   {
    "duration": 2509,
    "start_time": "2022-05-22T00:25:57.615Z"
   },
   {
    "duration": 7,
    "start_time": "2022-05-22T00:26:00.125Z"
   },
   {
    "duration": 29,
    "start_time": "2022-05-22T00:26:00.135Z"
   },
   {
    "duration": 3,
    "start_time": "2022-05-22T00:26:05.420Z"
   },
   {
    "duration": 26907,
    "start_time": "2022-05-22T00:26:05.850Z"
   },
   {
    "duration": 90,
    "start_time": "2022-05-22T00:26:32.759Z"
   },
   {
    "duration": 19,
    "start_time": "2022-05-22T00:26:32.851Z"
   },
   {
    "duration": 3,
    "start_time": "2022-05-22T00:26:50.279Z"
   },
   {
    "duration": 3,
    "start_time": "2022-05-22T00:28:01.875Z"
   },
   {
    "duration": 2,
    "start_time": "2022-05-22T00:28:42.062Z"
   },
   {
    "duration": 5,
    "start_time": "2022-05-22T00:28:42.777Z"
   },
   {
    "duration": 3,
    "start_time": "2022-05-22T00:28:43.466Z"
   },
   {
    "duration": 167,
    "start_time": "2022-05-22T00:28:53.084Z"
   },
   {
    "duration": 5,
    "start_time": "2022-05-22T00:29:31.294Z"
   },
   {
    "duration": 5,
    "start_time": "2022-05-22T00:29:44.055Z"
   },
   {
    "duration": 3,
    "start_time": "2022-05-22T00:30:38.249Z"
   },
   {
    "duration": 3,
    "start_time": "2022-05-22T00:31:38.889Z"
   },
   {
    "duration": 3,
    "start_time": "2022-05-22T00:31:39.749Z"
   },
   {
    "duration": 11,
    "start_time": "2022-05-22T00:31:40.564Z"
   },
   {
    "duration": 5,
    "start_time": "2022-05-22T00:31:42.287Z"
   },
   {
    "duration": 2,
    "start_time": "2022-05-22T00:31:43.497Z"
   },
   {
    "duration": 3,
    "start_time": "2022-05-22T00:32:10.273Z"
   },
   {
    "duration": 2531,
    "start_time": "2022-05-22T00:32:10.954Z"
   },
   {
    "duration": 5,
    "start_time": "2022-05-22T00:32:13.487Z"
   },
   {
    "duration": 12,
    "start_time": "2022-05-22T00:32:13.494Z"
   },
   {
    "duration": 4,
    "start_time": "2022-05-22T00:32:23.506Z"
   },
   {
    "duration": 13160,
    "start_time": "2022-05-22T00:32:47.693Z"
   },
   {
    "duration": 3,
    "start_time": "2022-05-22T00:33:05.786Z"
   },
   {
    "duration": 19353,
    "start_time": "2022-05-22T00:33:14.607Z"
   },
   {
    "duration": 67,
    "start_time": "2022-05-22T00:33:33.962Z"
   },
   {
    "duration": 12,
    "start_time": "2022-05-22T00:33:34.031Z"
   },
   {
    "duration": 3,
    "start_time": "2022-05-22T00:33:42.957Z"
   },
   {
    "duration": 2,
    "start_time": "2022-05-22T00:33:44.174Z"
   },
   {
    "duration": 3,
    "start_time": "2022-05-22T00:33:46.480Z"
   },
   {
    "duration": 3,
    "start_time": "2022-05-22T00:34:26.877Z"
   },
   {
    "duration": 10,
    "start_time": "2022-05-22T00:34:27.550Z"
   },
   {
    "duration": 20,
    "start_time": "2022-05-22T00:34:34.162Z"
   },
   {
    "duration": 8,
    "start_time": "2022-05-22T00:34:35.375Z"
   },
   {
    "duration": 7,
    "start_time": "2022-05-22T00:35:08.027Z"
   },
   {
    "duration": 11,
    "start_time": "2022-05-22T00:35:08.546Z"
   },
   {
    "duration": 3,
    "start_time": "2022-05-22T00:35:44.986Z"
   },
   {
    "duration": 15,
    "start_time": "2022-05-22T00:35:45.648Z"
   },
   {
    "duration": 5,
    "start_time": "2022-05-22T00:35:46.488Z"
   },
   {
    "duration": 2,
    "start_time": "2022-05-22T00:35:48.396Z"
   },
   {
    "duration": 5,
    "start_time": "2022-05-22T00:37:23.427Z"
   },
   {
    "duration": 219,
    "start_time": "2022-05-22T00:37:23.960Z"
   },
   {
    "duration": 4,
    "start_time": "2022-05-22T00:37:25.205Z"
   },
   {
    "duration": 2,
    "start_time": "2022-05-22T00:37:26.682Z"
   },
   {
    "duration": 5,
    "start_time": "2022-05-22T00:37:36.447Z"
   },
   {
    "duration": 391,
    "start_time": "2022-05-22T00:37:36.924Z"
   },
   {
    "duration": 6,
    "start_time": "2022-05-22T00:37:37.350Z"
   },
   {
    "duration": 3,
    "start_time": "2022-05-22T00:37:44.207Z"
   },
   {
    "duration": 695,
    "start_time": "2022-05-22T00:37:44.695Z"
   },
   {
    "duration": 6,
    "start_time": "2022-05-22T00:37:45.393Z"
   },
   {
    "duration": 2,
    "start_time": "2022-05-22T00:37:47.157Z"
   },
   {
    "duration": 3,
    "start_time": "2022-05-22T00:37:51.816Z"
   },
   {
    "duration": 952,
    "start_time": "2022-05-22T00:37:52.252Z"
   },
   {
    "duration": 5,
    "start_time": "2022-05-22T00:37:53.206Z"
   },
   {
    "duration": 6,
    "start_time": "2022-05-22T00:38:21.660Z"
   },
   {
    "duration": 27,
    "start_time": "2022-05-22T00:38:22.072Z"
   },
   {
    "duration": 5,
    "start_time": "2022-05-22T00:38:22.516Z"
   },
   {
    "duration": 3,
    "start_time": "2022-05-22T00:38:36.014Z"
   },
   {
    "duration": 15,
    "start_time": "2022-05-22T00:38:36.377Z"
   },
   {
    "duration": 5,
    "start_time": "2022-05-22T00:38:38.720Z"
   },
   {
    "duration": 5,
    "start_time": "2022-05-22T00:38:39.244Z"
   },
   {
    "duration": 2,
    "start_time": "2022-05-22T00:38:48.582Z"
   },
   {
    "duration": 371,
    "start_time": "2022-05-22T00:38:49.011Z"
   },
   {
    "duration": 5,
    "start_time": "2022-05-22T00:38:49.409Z"
   },
   {
    "duration": 3,
    "start_time": "2022-05-22T00:38:50.603Z"
   },
   {
    "duration": 1390,
    "start_time": "2022-05-22T00:39:50.324Z"
   },
   {
    "duration": 54,
    "start_time": "2022-05-22T00:39:51.716Z"
   },
   {
    "duration": 12,
    "start_time": "2022-05-22T00:39:51.771Z"
   },
   {
    "duration": 16,
    "start_time": "2022-05-22T00:39:51.785Z"
   },
   {
    "duration": 9,
    "start_time": "2022-05-22T00:39:51.802Z"
   },
   {
    "duration": 35,
    "start_time": "2022-05-22T00:39:51.813Z"
   },
   {
    "duration": 17,
    "start_time": "2022-05-22T00:39:51.849Z"
   },
   {
    "duration": 8,
    "start_time": "2022-05-22T00:39:51.868Z"
   },
   {
    "duration": 12,
    "start_time": "2022-05-22T00:39:51.877Z"
   },
   {
    "duration": 365,
    "start_time": "2022-05-22T00:39:51.892Z"
   },
   {
    "duration": 317,
    "start_time": "2022-05-22T00:39:52.259Z"
   },
   {
    "duration": 205,
    "start_time": "2022-05-22T00:39:52.578Z"
   },
   {
    "duration": 336,
    "start_time": "2022-05-22T00:39:52.785Z"
   },
   {
    "duration": 9,
    "start_time": "2022-05-22T00:39:53.128Z"
   },
   {
    "duration": 34,
    "start_time": "2022-05-22T00:39:53.139Z"
   },
   {
    "duration": 8,
    "start_time": "2022-05-22T00:39:53.174Z"
   },
   {
    "duration": 11,
    "start_time": "2022-05-22T00:39:53.183Z"
   },
   {
    "duration": 135,
    "start_time": "2022-05-22T00:39:53.195Z"
   },
   {
    "duration": 0,
    "start_time": "2022-05-22T00:39:53.336Z"
   },
   {
    "duration": 0,
    "start_time": "2022-05-22T00:39:53.341Z"
   },
   {
    "duration": 0,
    "start_time": "2022-05-22T00:39:53.342Z"
   },
   {
    "duration": 0,
    "start_time": "2022-05-22T00:39:53.342Z"
   },
   {
    "duration": 0,
    "start_time": "2022-05-22T00:39:53.452Z"
   },
   {
    "duration": 0,
    "start_time": "2022-05-22T00:39:53.452Z"
   },
   {
    "duration": 0,
    "start_time": "2022-05-22T00:39:53.453Z"
   },
   {
    "duration": 0,
    "start_time": "2022-05-22T00:39:53.456Z"
   },
   {
    "duration": 0,
    "start_time": "2022-05-22T00:39:53.457Z"
   },
   {
    "duration": 0,
    "start_time": "2022-05-22T00:39:53.458Z"
   },
   {
    "duration": 0,
    "start_time": "2022-05-22T00:39:53.459Z"
   },
   {
    "duration": 0,
    "start_time": "2022-05-22T00:39:53.460Z"
   },
   {
    "duration": 0,
    "start_time": "2022-05-22T00:39:53.460Z"
   },
   {
    "duration": 0,
    "start_time": "2022-05-22T00:39:53.461Z"
   },
   {
    "duration": 0,
    "start_time": "2022-05-22T00:39:53.462Z"
   },
   {
    "duration": 0,
    "start_time": "2022-05-22T00:39:53.463Z"
   },
   {
    "duration": 0,
    "start_time": "2022-05-22T00:39:53.464Z"
   },
   {
    "duration": 0,
    "start_time": "2022-05-22T00:39:53.465Z"
   },
   {
    "duration": 0,
    "start_time": "2022-05-22T00:39:53.466Z"
   },
   {
    "duration": 0,
    "start_time": "2022-05-22T00:39:53.467Z"
   },
   {
    "duration": 0,
    "start_time": "2022-05-22T00:39:53.468Z"
   },
   {
    "duration": 0,
    "start_time": "2022-05-22T00:39:53.469Z"
   },
   {
    "duration": 5,
    "start_time": "2022-05-22T00:40:55.150Z"
   },
   {
    "duration": 7,
    "start_time": "2022-05-22T00:40:56.245Z"
   },
   {
    "duration": 2,
    "start_time": "2022-05-22T00:40:59.258Z"
   },
   {
    "duration": 3,
    "start_time": "2022-05-22T00:41:00.514Z"
   },
   {
    "duration": 17,
    "start_time": "2022-05-22T00:41:01.268Z"
   },
   {
    "duration": 5,
    "start_time": "2022-05-22T00:41:02.993Z"
   },
   {
    "duration": 2,
    "start_time": "2022-05-22T00:41:03.474Z"
   },
   {
    "duration": 3,
    "start_time": "2022-05-22T00:41:07.251Z"
   },
   {
    "duration": 19,
    "start_time": "2022-05-22T00:41:07.752Z"
   },
   {
    "duration": 5,
    "start_time": "2022-05-22T00:41:08.294Z"
   },
   {
    "duration": 3,
    "start_time": "2022-05-22T00:41:09.154Z"
   },
   {
    "duration": 5,
    "start_time": "2022-05-22T00:41:11.046Z"
   },
   {
    "duration": 393,
    "start_time": "2022-05-22T00:41:11.588Z"
   },
   {
    "duration": 6,
    "start_time": "2022-05-22T00:41:12.810Z"
   },
   {
    "duration": 2,
    "start_time": "2022-05-22T00:41:13.698Z"
   },
   {
    "duration": 3,
    "start_time": "2022-05-22T00:41:16.418Z"
   },
   {
    "duration": 2821,
    "start_time": "2022-05-22T00:41:16.903Z"
   },
   {
    "duration": 9,
    "start_time": "2022-05-22T00:41:19.737Z"
   },
   {
    "duration": 11,
    "start_time": "2022-05-22T00:41:19.755Z"
   },
   {
    "duration": 2,
    "start_time": "2022-05-22T00:41:22.074Z"
   },
   {
    "duration": 27808,
    "start_time": "2022-05-22T00:41:22.749Z"
   },
   {
    "duration": 6,
    "start_time": "2022-05-22T00:41:50.559Z"
   },
   {
    "duration": 4,
    "start_time": "2022-05-22T00:41:50.566Z"
   },
   {
    "duration": 4,
    "start_time": "2022-05-22T00:41:59.271Z"
   },
   {
    "duration": 28,
    "start_time": "2022-05-22T00:42:04.160Z"
   },
   {
    "duration": 13,
    "start_time": "2022-05-22T00:42:50.442Z"
   },
   {
    "duration": 13,
    "start_time": "2022-05-22T00:42:58.522Z"
   },
   {
    "duration": 9,
    "start_time": "2022-05-22T00:43:08.885Z"
   },
   {
    "duration": 28,
    "start_time": "2022-05-22T00:43:16.497Z"
   },
   {
    "duration": 3,
    "start_time": "2022-05-22T00:44:21.063Z"
   },
   {
    "duration": 16,
    "start_time": "2022-05-22T00:44:21.949Z"
   },
   {
    "duration": 20,
    "start_time": "2022-05-22T00:44:28.666Z"
   },
   {
    "duration": 8,
    "start_time": "2022-05-22T00:44:34.180Z"
   },
   {
    "duration": 5,
    "start_time": "2022-05-22T00:44:39.668Z"
   },
   {
    "duration": 43,
    "start_time": "2022-05-22T00:44:39.674Z"
   },
   {
    "duration": 7,
    "start_time": "2022-05-22T00:44:39.718Z"
   },
   {
    "duration": 39,
    "start_time": "2022-05-22T00:44:39.727Z"
   },
   {
    "duration": 5,
    "start_time": "2022-05-22T00:44:39.768Z"
   },
   {
    "duration": 6,
    "start_time": "2022-05-22T00:44:39.774Z"
   },
   {
    "duration": 10,
    "start_time": "2022-05-22T00:44:39.781Z"
   },
   {
    "duration": 4,
    "start_time": "2022-05-22T00:44:39.793Z"
   },
   {
    "duration": 11,
    "start_time": "2022-05-22T00:44:39.799Z"
   },
   {
    "duration": 304,
    "start_time": "2022-05-22T00:44:39.812Z"
   },
   {
    "duration": 306,
    "start_time": "2022-05-22T00:44:40.118Z"
   },
   {
    "duration": 226,
    "start_time": "2022-05-22T00:44:40.426Z"
   },
   {
    "duration": 315,
    "start_time": "2022-05-22T00:44:40.654Z"
   },
   {
    "duration": 6,
    "start_time": "2022-05-22T00:44:40.972Z"
   },
   {
    "duration": 6,
    "start_time": "2022-05-22T00:44:40.980Z"
   },
   {
    "duration": 8,
    "start_time": "2022-05-22T00:44:40.987Z"
   },
   {
    "duration": 12,
    "start_time": "2022-05-22T00:44:40.997Z"
   },
   {
    "duration": 19,
    "start_time": "2022-05-22T00:44:41.010Z"
   },
   {
    "duration": 28,
    "start_time": "2022-05-22T00:44:41.032Z"
   },
   {
    "duration": 5,
    "start_time": "2022-05-22T00:44:41.061Z"
   },
   {
    "duration": 6,
    "start_time": "2022-05-22T00:44:41.067Z"
   },
   {
    "duration": 64,
    "start_time": "2022-05-22T00:44:41.074Z"
   },
   {
    "duration": 114,
    "start_time": "2022-05-22T00:44:41.144Z"
   },
   {
    "duration": 5,
    "start_time": "2022-05-22T00:44:41.259Z"
   },
   {
    "duration": 6,
    "start_time": "2022-05-22T00:44:41.265Z"
   },
   {
    "duration": 20,
    "start_time": "2022-05-22T00:44:41.272Z"
   },
   {
    "duration": 4,
    "start_time": "2022-05-22T00:44:41.294Z"
   },
   {
    "duration": 7,
    "start_time": "2022-05-22T00:44:41.299Z"
   },
   {
    "duration": 7,
    "start_time": "2022-05-22T00:44:41.308Z"
   },
   {
    "duration": 416,
    "start_time": "2022-05-22T00:44:41.316Z"
   },
   {
    "duration": 12,
    "start_time": "2022-05-22T00:44:41.741Z"
   },
   {
    "duration": 4,
    "start_time": "2022-05-22T00:44:41.756Z"
   },
   {
    "duration": 5,
    "start_time": "2022-05-22T00:44:41.762Z"
   },
   {
    "duration": 2630,
    "start_time": "2022-05-22T00:44:41.768Z"
   },
   {
    "duration": 6,
    "start_time": "2022-05-22T00:44:44.400Z"
   },
   {
    "duration": 15,
    "start_time": "2022-05-22T00:44:44.408Z"
   },
   {
    "duration": 35,
    "start_time": "2022-05-22T00:44:44.428Z"
   },
   {
    "duration": 19290,
    "start_time": "2022-05-22T00:44:44.465Z"
   },
   {
    "duration": 6,
    "start_time": "2022-05-22T00:45:03.827Z"
   },
   {
    "duration": 24,
    "start_time": "2022-05-22T00:45:03.834Z"
   },
   {
    "duration": 8,
    "start_time": "2022-05-22T00:45:03.861Z"
   },
   {
    "duration": 3,
    "start_time": "2022-05-22T00:45:35.667Z"
   },
   {
    "duration": 27,
    "start_time": "2022-05-22T00:45:36.375Z"
   },
   {
    "duration": 7,
    "start_time": "2022-05-22T00:48:01.038Z"
   },
   {
    "duration": 471,
    "start_time": "2022-05-22T00:50:26.452Z"
   },
   {
    "duration": 4,
    "start_time": "2022-05-22T00:52:28.099Z"
   },
   {
    "duration": 52,
    "start_time": "2022-05-22T00:52:28.105Z"
   },
   {
    "duration": 6,
    "start_time": "2022-05-22T00:52:28.159Z"
   },
   {
    "duration": 38,
    "start_time": "2022-05-22T00:52:28.167Z"
   },
   {
    "duration": 9,
    "start_time": "2022-05-22T00:52:28.207Z"
   },
   {
    "duration": 7,
    "start_time": "2022-05-22T00:52:28.217Z"
   },
   {
    "duration": 37,
    "start_time": "2022-05-22T00:52:28.226Z"
   },
   {
    "duration": 6,
    "start_time": "2022-05-22T00:52:28.265Z"
   },
   {
    "duration": 10,
    "start_time": "2022-05-22T00:52:28.274Z"
   },
   {
    "duration": 337,
    "start_time": "2022-05-22T00:52:28.286Z"
   },
   {
    "duration": 308,
    "start_time": "2022-05-22T00:52:28.631Z"
   },
   {
    "duration": 322,
    "start_time": "2022-05-22T00:52:28.941Z"
   },
   {
    "duration": 373,
    "start_time": "2022-05-22T00:52:29.265Z"
   },
   {
    "duration": 10,
    "start_time": "2022-05-22T00:52:29.642Z"
   },
   {
    "duration": 10,
    "start_time": "2022-05-22T00:52:29.657Z"
   },
   {
    "duration": 9,
    "start_time": "2022-05-22T00:52:29.668Z"
   },
   {
    "duration": 14,
    "start_time": "2022-05-22T00:52:29.678Z"
   },
   {
    "duration": 7,
    "start_time": "2022-05-22T00:52:29.694Z"
   },
   {
    "duration": 8,
    "start_time": "2022-05-22T00:52:29.702Z"
   },
   {
    "duration": 5,
    "start_time": "2022-05-22T00:52:29.712Z"
   },
   {
    "duration": 46,
    "start_time": "2022-05-22T00:52:29.718Z"
   },
   {
    "duration": 17,
    "start_time": "2022-05-22T00:52:29.766Z"
   },
   {
    "duration": 126,
    "start_time": "2022-05-22T00:52:29.826Z"
   },
   {
    "duration": 11,
    "start_time": "2022-05-22T00:52:29.955Z"
   },
   {
    "duration": 6,
    "start_time": "2022-05-22T00:52:29.968Z"
   },
   {
    "duration": 32,
    "start_time": "2022-05-22T00:52:29.975Z"
   },
   {
    "duration": 5,
    "start_time": "2022-05-22T00:52:30.009Z"
   },
   {
    "duration": 46,
    "start_time": "2022-05-22T00:52:30.016Z"
   },
   {
    "duration": 15,
    "start_time": "2022-05-22T00:52:30.064Z"
   },
   {
    "duration": 417,
    "start_time": "2022-05-22T00:52:30.081Z"
   },
   {
    "duration": 6,
    "start_time": "2022-05-22T00:52:30.499Z"
   },
   {
    "duration": 52,
    "start_time": "2022-05-22T00:52:30.506Z"
   },
   {
    "duration": 29,
    "start_time": "2022-05-22T00:52:30.560Z"
   },
   {
    "duration": 2673,
    "start_time": "2022-05-22T00:52:30.591Z"
   },
   {
    "duration": 6,
    "start_time": "2022-05-22T00:52:33.265Z"
   },
   {
    "duration": 6,
    "start_time": "2022-05-22T00:52:33.272Z"
   },
   {
    "duration": 11,
    "start_time": "2022-05-22T00:52:33.279Z"
   },
   {
    "duration": 19160,
    "start_time": "2022-05-22T00:52:33.291Z"
   },
   {
    "duration": 5,
    "start_time": "2022-05-22T00:52:52.459Z"
   },
   {
    "duration": 10,
    "start_time": "2022-05-22T00:52:52.466Z"
   },
   {
    "duration": 4,
    "start_time": "2022-05-22T00:52:59.153Z"
   },
   {
    "duration": 36,
    "start_time": "2022-05-22T00:52:59.801Z"
   },
   {
    "duration": 11,
    "start_time": "2022-05-22T00:53:07.254Z"
   },
   {
    "duration": 8,
    "start_time": "2022-05-22T00:54:07.644Z"
   },
   {
    "duration": 13,
    "start_time": "2022-05-22T00:54:10.351Z"
   },
   {
    "duration": 9,
    "start_time": "2022-05-22T00:54:16.350Z"
   },
   {
    "duration": 20,
    "start_time": "2022-05-22T00:54:20.717Z"
   },
   {
    "duration": 13,
    "start_time": "2022-05-22T00:54:24.337Z"
   },
   {
    "duration": 14,
    "start_time": "2022-05-22T00:54:28.350Z"
   },
   {
    "duration": 3,
    "start_time": "2022-05-22T01:23:45.402Z"
   },
   {
    "duration": 224,
    "start_time": "2022-05-22T01:25:43.215Z"
   },
   {
    "duration": 216,
    "start_time": "2022-05-22T01:26:06.121Z"
   },
   {
    "duration": 11,
    "start_time": "2022-05-22T01:26:51.125Z"
   },
   {
    "duration": 37,
    "start_time": "2022-05-22T01:26:57.104Z"
   },
   {
    "duration": 31,
    "start_time": "2022-05-22T01:27:16.356Z"
   },
   {
    "duration": 26,
    "start_time": "2022-05-22T01:27:25.097Z"
   },
   {
    "duration": 1426,
    "start_time": "2022-05-22T01:33:47.115Z"
   },
   {
    "duration": 38,
    "start_time": "2022-05-22T01:33:48.543Z"
   },
   {
    "duration": 12,
    "start_time": "2022-05-22T01:33:48.583Z"
   },
   {
    "duration": 17,
    "start_time": "2022-05-22T01:33:48.596Z"
   },
   {
    "duration": 5,
    "start_time": "2022-05-22T01:33:48.614Z"
   },
   {
    "duration": 6,
    "start_time": "2022-05-22T01:33:48.632Z"
   },
   {
    "duration": 12,
    "start_time": "2022-05-22T01:33:48.639Z"
   },
   {
    "duration": 6,
    "start_time": "2022-05-22T01:33:48.653Z"
   },
   {
    "duration": 13,
    "start_time": "2022-05-22T01:33:48.660Z"
   },
   {
    "duration": 305,
    "start_time": "2022-05-22T01:33:48.674Z"
   },
   {
    "duration": 285,
    "start_time": "2022-05-22T01:33:48.980Z"
   },
   {
    "duration": 190,
    "start_time": "2022-05-22T01:33:49.266Z"
   },
   {
    "duration": 305,
    "start_time": "2022-05-22T01:33:49.457Z"
   },
   {
    "duration": 8,
    "start_time": "2022-05-22T01:33:49.765Z"
   },
   {
    "duration": 9,
    "start_time": "2022-05-22T01:33:49.774Z"
   },
   {
    "duration": 6,
    "start_time": "2022-05-22T01:33:49.785Z"
   },
   {
    "duration": 117,
    "start_time": "2022-05-22T01:33:49.792Z"
   },
   {
    "duration": 3,
    "start_time": "2022-05-22T01:33:49.911Z"
   },
   {
    "duration": 17,
    "start_time": "2022-05-22T01:33:49.915Z"
   },
   {
    "duration": 8,
    "start_time": "2022-05-22T01:33:49.933Z"
   },
   {
    "duration": 3,
    "start_time": "2022-05-22T01:33:49.942Z"
   },
   {
    "duration": 91,
    "start_time": "2022-05-22T01:33:49.946Z"
   },
   {
    "duration": 104,
    "start_time": "2022-05-22T01:33:50.039Z"
   },
   {
    "duration": 6,
    "start_time": "2022-05-22T01:33:50.144Z"
   },
   {
    "duration": 5,
    "start_time": "2022-05-22T01:33:50.152Z"
   },
   {
    "duration": 23,
    "start_time": "2022-05-22T01:33:50.158Z"
   },
   {
    "duration": 5,
    "start_time": "2022-05-22T01:33:50.182Z"
   },
   {
    "duration": 8,
    "start_time": "2022-05-22T01:33:50.188Z"
   },
   {
    "duration": 10,
    "start_time": "2022-05-22T01:33:50.198Z"
   },
   {
    "duration": 378,
    "start_time": "2022-05-22T01:33:50.210Z"
   },
   {
    "duration": 5,
    "start_time": "2022-05-22T01:33:50.590Z"
   },
   {
    "duration": 10,
    "start_time": "2022-05-22T01:33:50.596Z"
   },
   {
    "duration": 10,
    "start_time": "2022-05-22T01:33:50.607Z"
   },
   {
    "duration": 2315,
    "start_time": "2022-05-22T01:33:50.618Z"
   },
   {
    "duration": 5,
    "start_time": "2022-05-22T01:33:52.935Z"
   },
   {
    "duration": 6,
    "start_time": "2022-05-22T01:33:52.941Z"
   },
   {
    "duration": 5,
    "start_time": "2022-05-22T01:33:52.949Z"
   },
   {
    "duration": 5970,
    "start_time": "2022-05-22T01:33:52.956Z"
   },
   {
    "duration": 5,
    "start_time": "2022-05-22T01:33:58.929Z"
   },
   {
    "duration": 15,
    "start_time": "2022-05-22T01:33:58.936Z"
   },
   {
    "duration": 6,
    "start_time": "2022-05-22T01:33:58.955Z"
   },
   {
    "duration": 91,
    "start_time": "2022-05-22T01:33:58.962Z"
   },
   {
    "duration": 3,
    "start_time": "2022-05-22T01:33:59.054Z"
   },
   {
    "duration": 267,
    "start_time": "2022-05-22T01:33:59.058Z"
   },
   {
    "duration": 10,
    "start_time": "2022-05-22T01:33:59.327Z"
   },
   {
    "duration": 107,
    "start_time": "2022-05-22T01:33:59.339Z"
   },
   {
    "duration": 1338,
    "start_time": "2022-05-22T01:37:03.463Z"
   },
   {
    "duration": 41,
    "start_time": "2022-05-22T01:37:04.803Z"
   },
   {
    "duration": 11,
    "start_time": "2022-05-22T01:37:04.846Z"
   },
   {
    "duration": 15,
    "start_time": "2022-05-22T01:37:04.859Z"
   },
   {
    "duration": 5,
    "start_time": "2022-05-22T01:37:04.875Z"
   },
   {
    "duration": 6,
    "start_time": "2022-05-22T01:37:04.881Z"
   },
   {
    "duration": 11,
    "start_time": "2022-05-22T01:37:04.888Z"
   },
   {
    "duration": 3,
    "start_time": "2022-05-22T01:37:04.900Z"
   },
   {
    "duration": 32,
    "start_time": "2022-05-22T01:37:04.905Z"
   },
   {
    "duration": 314,
    "start_time": "2022-05-22T01:37:04.940Z"
   },
   {
    "duration": 292,
    "start_time": "2022-05-22T01:37:05.256Z"
   },
   {
    "duration": 200,
    "start_time": "2022-05-22T01:37:05.550Z"
   },
   {
    "duration": 321,
    "start_time": "2022-05-22T01:37:05.752Z"
   },
   {
    "duration": 8,
    "start_time": "2022-05-22T01:37:06.074Z"
   },
   {
    "duration": 5,
    "start_time": "2022-05-22T01:37:06.083Z"
   },
   {
    "duration": 7,
    "start_time": "2022-05-22T01:37:06.089Z"
   },
   {
    "duration": 10,
    "start_time": "2022-05-22T01:37:06.097Z"
   },
   {
    "duration": 17,
    "start_time": "2022-05-22T01:37:06.109Z"
   },
   {
    "duration": 8,
    "start_time": "2022-05-22T01:37:06.136Z"
   },
   {
    "duration": 3,
    "start_time": "2022-05-22T01:37:09.304Z"
   },
   {
    "duration": 2,
    "start_time": "2022-05-22T01:37:10.056Z"
   },
   {
    "duration": 10,
    "start_time": "2022-05-22T01:37:10.771Z"
   },
   {
    "duration": 5,
    "start_time": "2022-05-22T01:37:11.538Z"
   },
   {
    "duration": 2,
    "start_time": "2022-05-22T01:37:12.802Z"
   },
   {
    "duration": 2,
    "start_time": "2022-05-22T01:37:15.248Z"
   },
   {
    "duration": 18,
    "start_time": "2022-05-22T01:37:15.778Z"
   },
   {
    "duration": 5,
    "start_time": "2022-05-22T01:37:16.301Z"
   },
   {
    "duration": 3,
    "start_time": "2022-05-22T01:37:17.000Z"
   },
   {
    "duration": 3,
    "start_time": "2022-05-22T01:37:19.494Z"
   },
   {
    "duration": 457,
    "start_time": "2022-05-22T01:37:20.240Z"
   },
   {
    "duration": 6,
    "start_time": "2022-05-22T01:37:21.139Z"
   },
   {
    "duration": 3,
    "start_time": "2022-05-22T01:37:21.860Z"
   },
   {
    "duration": 3,
    "start_time": "2022-05-22T01:37:24.286Z"
   },
   {
    "duration": 2520,
    "start_time": "2022-05-22T01:37:24.938Z"
   },
   {
    "duration": 5,
    "start_time": "2022-05-22T01:37:27.460Z"
   },
   {
    "duration": 3,
    "start_time": "2022-05-22T01:37:28.162Z"
   },
   {
    "duration": 3,
    "start_time": "2022-05-22T01:37:30.896Z"
   },
   {
    "duration": 4782,
    "start_time": "2022-05-22T01:37:31.554Z"
   },
   {
    "duration": 6,
    "start_time": "2022-05-22T01:37:37.378Z"
   },
   {
    "duration": 2,
    "start_time": "2022-05-22T01:37:38.372Z"
   },
   {
    "duration": 4,
    "start_time": "2022-05-22T01:37:40.862Z"
   },
   {
    "duration": 31,
    "start_time": "2022-05-22T01:37:42.562Z"
   },
   {
    "duration": 3,
    "start_time": "2022-05-22T01:37:47.438Z"
   },
   {
    "duration": 25,
    "start_time": "2022-05-22T01:37:47.839Z"
   },
   {
    "duration": 4,
    "start_time": "2022-05-22T01:37:48.655Z"
   },
   {
    "duration": 29,
    "start_time": "2022-05-22T01:37:49.245Z"
   },
   {
    "duration": 2462,
    "start_time": "2022-05-22T10:29:59.667Z"
   },
   {
    "duration": 150,
    "start_time": "2022-05-22T10:30:02.132Z"
   },
   {
    "duration": 14,
    "start_time": "2022-05-22T10:30:02.284Z"
   },
   {
    "duration": 36,
    "start_time": "2022-05-22T10:30:02.301Z"
   },
   {
    "duration": 31,
    "start_time": "2022-05-22T10:30:02.346Z"
   },
   {
    "duration": 34,
    "start_time": "2022-05-22T10:30:02.379Z"
   },
   {
    "duration": 73,
    "start_time": "2022-05-22T10:30:02.415Z"
   },
   {
    "duration": 17,
    "start_time": "2022-05-22T10:30:02.490Z"
   },
   {
    "duration": 34,
    "start_time": "2022-05-22T10:30:02.508Z"
   },
   {
    "duration": 475,
    "start_time": "2022-05-22T10:30:02.545Z"
   },
   {
    "duration": 356,
    "start_time": "2022-05-22T10:30:03.022Z"
   },
   {
    "duration": 228,
    "start_time": "2022-05-22T10:30:03.380Z"
   },
   {
    "duration": 488,
    "start_time": "2022-05-22T10:30:03.610Z"
   },
   {
    "duration": 9,
    "start_time": "2022-05-22T10:30:04.100Z"
   },
   {
    "duration": 33,
    "start_time": "2022-05-22T10:30:04.112Z"
   },
   {
    "duration": 31,
    "start_time": "2022-05-22T10:30:04.147Z"
   },
   {
    "duration": 15,
    "start_time": "2022-05-22T10:30:04.180Z"
   },
   {
    "duration": 21,
    "start_time": "2022-05-22T10:30:04.198Z"
   },
   {
    "duration": 6,
    "start_time": "2022-05-22T10:30:05.970Z"
   },
   {
    "duration": 6,
    "start_time": "2022-05-22T10:30:09.111Z"
   },
   {
    "duration": 3,
    "start_time": "2022-05-22T10:30:11.389Z"
   },
   {
    "duration": 5,
    "start_time": "2022-05-22T10:30:13.148Z"
   },
   {
    "duration": 31,
    "start_time": "2022-05-22T10:30:13.715Z"
   },
   {
    "duration": 6,
    "start_time": "2022-05-22T10:30:14.268Z"
   },
   {
    "duration": 12,
    "start_time": "2022-05-22T10:30:16.125Z"
   },
   {
    "duration": 3,
    "start_time": "2022-05-22T10:30:17.964Z"
   },
   {
    "duration": 27,
    "start_time": "2022-05-22T10:30:18.451Z"
   },
   {
    "duration": 6,
    "start_time": "2022-05-22T10:30:18.887Z"
   },
   {
    "duration": 3,
    "start_time": "2022-05-22T10:30:20.667Z"
   },
   {
    "duration": 3,
    "start_time": "2022-05-22T10:30:21.312Z"
   },
   {
    "duration": 519,
    "start_time": "2022-05-22T10:30:22.734Z"
   },
   {
    "duration": 7,
    "start_time": "2022-05-22T10:30:23.255Z"
   },
   {
    "duration": 6,
    "start_time": "2022-05-22T10:30:24.038Z"
   },
   {
    "duration": 7,
    "start_time": "2022-05-22T10:30:26.757Z"
   },
   {
    "duration": 3852,
    "start_time": "2022-05-22T10:30:27.160Z"
   },
   {
    "duration": 7,
    "start_time": "2022-05-22T10:30:31.015Z"
   },
   {
    "duration": 3,
    "start_time": "2022-05-22T10:30:31.794Z"
   },
   {
    "duration": 5,
    "start_time": "2022-05-22T10:30:33.422Z"
   },
   {
    "duration": 286867,
    "start_time": "2022-05-22T10:30:33.886Z"
   },
   {
    "duration": 37,
    "start_time": "2022-05-22T10:35:20.773Z"
   },
   {
    "duration": 12,
    "start_time": "2022-05-22T10:35:20.818Z"
   },
   {
    "duration": 44,
    "start_time": "2022-05-22T10:35:20.835Z"
   },
   {
    "duration": 77,
    "start_time": "2022-05-22T10:35:20.882Z"
   },
   {
    "duration": 4,
    "start_time": "2022-05-22T11:47:28.614Z"
   },
   {
    "duration": 3,
    "start_time": "2022-05-22T11:49:47.067Z"
   },
   {
    "duration": 3,
    "start_time": "2022-05-22T11:49:48.495Z"
   },
   {
    "duration": 147,
    "start_time": "2022-05-22T11:50:00.799Z"
   },
   {
    "duration": 198,
    "start_time": "2022-05-22T11:50:19.650Z"
   },
   {
    "duration": 7,
    "start_time": "2022-05-22T11:51:19.955Z"
   },
   {
    "duration": 5,
    "start_time": "2022-05-22T11:51:28.298Z"
   },
   {
    "duration": 3,
    "start_time": "2022-05-22T11:52:04.775Z"
   },
   {
    "duration": 3,
    "start_time": "2022-05-22T11:52:05.556Z"
   },
   {
    "duration": 228,
    "start_time": "2022-05-22T11:52:06.802Z"
   },
   {
    "duration": 5,
    "start_time": "2022-05-22T11:52:08.717Z"
   },
   {
    "duration": 5,
    "start_time": "2022-05-22T11:52:09.587Z"
   },
   {
    "duration": 3,
    "start_time": "2022-05-22T11:52:17.896Z"
   },
   {
    "duration": 4,
    "start_time": "2022-05-22T11:52:18.479Z"
   },
   {
    "duration": 115,
    "start_time": "2022-05-22T11:52:21.456Z"
   },
   {
    "duration": 6,
    "start_time": "2022-05-22T11:52:22.467Z"
   },
   {
    "duration": 5,
    "start_time": "2022-05-22T11:52:22.891Z"
   },
   {
    "duration": 11,
    "start_time": "2022-05-22T11:53:44.157Z"
   },
   {
    "duration": 3,
    "start_time": "2022-05-22T11:53:52.478Z"
   },
   {
    "duration": 3,
    "start_time": "2022-05-22T11:54:06.610Z"
   },
   {
    "duration": 3,
    "start_time": "2022-05-22T11:54:07.080Z"
   },
   {
    "duration": 204,
    "start_time": "2022-05-22T11:54:09.156Z"
   },
   {
    "duration": 4,
    "start_time": "2022-05-22T11:54:10.176Z"
   },
   {
    "duration": 4,
    "start_time": "2022-05-22T11:54:21.545Z"
   },
   {
    "duration": 3,
    "start_time": "2022-05-22T11:54:22.082Z"
   },
   {
    "duration": 233,
    "start_time": "2022-05-22T11:54:22.970Z"
   },
   {
    "duration": 4,
    "start_time": "2022-05-22T11:54:23.875Z"
   },
   {
    "duration": 4,
    "start_time": "2022-05-22T11:56:05.358Z"
   },
   {
    "duration": 7,
    "start_time": "2022-05-22T11:56:06.624Z"
   },
   {
    "duration": 41,
    "start_time": "2022-05-22T11:56:18.702Z"
   },
   {
    "duration": 3,
    "start_time": "2022-05-22T11:56:32.510Z"
   },
   {
    "duration": 3,
    "start_time": "2022-05-22T11:56:34.093Z"
   },
   {
    "duration": 2821,
    "start_time": "2022-05-22T11:56:35.219Z"
   },
   {
    "duration": 5,
    "start_time": "2022-05-22T11:56:38.044Z"
   },
   {
    "duration": 3,
    "start_time": "2022-05-22T13:31:22.366Z"
   },
   {
    "duration": 5219,
    "start_time": "2022-05-22T13:31:24.006Z"
   },
   {
    "duration": 20,
    "start_time": "2022-05-22T13:31:29.227Z"
   },
   {
    "duration": 7,
    "start_time": "2022-05-22T13:31:39.891Z"
   },
   {
    "duration": 4,
    "start_time": "2022-05-22T13:31:46.265Z"
   },
   {
    "duration": 2997,
    "start_time": "2022-05-22T13:31:49.391Z"
   },
   {
    "duration": 3,
    "start_time": "2022-05-22T13:32:22.122Z"
   },
   {
    "duration": 4,
    "start_time": "2022-05-22T13:32:22.625Z"
   },
   {
    "duration": 2834,
    "start_time": "2022-05-22T13:32:23.876Z"
   },
   {
    "duration": 4,
    "start_time": "2022-05-22T13:32:26.712Z"
   },
   {
    "duration": 5,
    "start_time": "2022-05-22T13:32:27.805Z"
   },
   {
    "duration": 5,
    "start_time": "2022-05-22T13:32:28.771Z"
   },
   {
    "duration": 3,
    "start_time": "2022-05-22T13:33:33.423Z"
   },
   {
    "duration": 27,
    "start_time": "2022-05-22T13:33:35.036Z"
   },
   {
    "duration": 7,
    "start_time": "2022-05-22T13:33:35.943Z"
   },
   {
    "duration": 47,
    "start_time": "2022-05-22T13:34:05.024Z"
   },
   {
    "duration": 11,
    "start_time": "2022-05-22T13:34:27.313Z"
   },
   {
    "duration": 4,
    "start_time": "2022-05-22T13:49:54.482Z"
   },
   {
    "duration": 4,
    "start_time": "2022-05-22T13:50:05.542Z"
   },
   {
    "duration": 11,
    "start_time": "2022-05-22T13:50:39.972Z"
   },
   {
    "duration": 17,
    "start_time": "2022-05-22T13:50:45.585Z"
   },
   {
    "duration": 5,
    "start_time": "2022-05-22T13:50:51.814Z"
   },
   {
    "duration": 181,
    "start_time": "2022-05-22T13:50:51.820Z"
   },
   {
    "duration": 6,
    "start_time": "2022-05-22T13:50:52.003Z"
   },
   {
    "duration": 15,
    "start_time": "2022-05-22T13:50:52.011Z"
   },
   {
    "duration": 5,
    "start_time": "2022-05-22T13:50:52.027Z"
   },
   {
    "duration": 17,
    "start_time": "2022-05-22T13:50:52.034Z"
   },
   {
    "duration": 36,
    "start_time": "2022-05-22T13:50:52.052Z"
   },
   {
    "duration": 6,
    "start_time": "2022-05-22T13:50:52.090Z"
   },
   {
    "duration": 37,
    "start_time": "2022-05-22T13:50:52.098Z"
   },
   {
    "duration": 292,
    "start_time": "2022-05-22T13:50:52.138Z"
   },
   {
    "duration": 284,
    "start_time": "2022-05-22T13:50:52.431Z"
   },
   {
    "duration": 193,
    "start_time": "2022-05-22T13:50:52.717Z"
   },
   {
    "duration": 307,
    "start_time": "2022-05-22T13:50:52.911Z"
   },
   {
    "duration": 3,
    "start_time": "2022-05-22T13:50:53.220Z"
   },
   {
    "duration": 15,
    "start_time": "2022-05-22T13:50:57.440Z"
   },
   {
    "duration": 20,
    "start_time": "2022-05-22T13:50:58.212Z"
   },
   {
    "duration": 5,
    "start_time": "2022-05-22T13:51:50.974Z"
   },
   {
    "duration": 39,
    "start_time": "2022-05-22T13:51:50.981Z"
   },
   {
    "duration": 6,
    "start_time": "2022-05-22T13:51:51.022Z"
   },
   {
    "duration": 17,
    "start_time": "2022-05-22T13:51:51.031Z"
   },
   {
    "duration": 5,
    "start_time": "2022-05-22T13:51:51.050Z"
   },
   {
    "duration": 8,
    "start_time": "2022-05-22T13:51:51.056Z"
   },
   {
    "duration": 10,
    "start_time": "2022-05-22T13:51:51.066Z"
   },
   {
    "duration": 6,
    "start_time": "2022-05-22T13:51:51.078Z"
   },
   {
    "duration": 11,
    "start_time": "2022-05-22T13:51:51.085Z"
   },
   {
    "duration": 306,
    "start_time": "2022-05-22T13:51:51.098Z"
   },
   {
    "duration": 391,
    "start_time": "2022-05-22T13:51:51.406Z"
   },
   {
    "duration": 181,
    "start_time": "2022-05-22T13:51:51.798Z"
   },
   {
    "duration": 308,
    "start_time": "2022-05-22T13:51:51.980Z"
   },
   {
    "duration": 4,
    "start_time": "2022-05-22T13:51:58.309Z"
   },
   {
    "duration": 14,
    "start_time": "2022-05-22T13:51:59.019Z"
   },
   {
    "duration": 17,
    "start_time": "2022-05-22T13:52:00.090Z"
   },
   {
    "duration": 1365,
    "start_time": "2022-05-22T13:52:22.173Z"
   },
   {
    "duration": 41,
    "start_time": "2022-05-22T13:52:23.539Z"
   },
   {
    "duration": 12,
    "start_time": "2022-05-22T13:52:23.581Z"
   },
   {
    "duration": 18,
    "start_time": "2022-05-22T13:52:23.595Z"
   },
   {
    "duration": 7,
    "start_time": "2022-05-22T13:52:23.614Z"
   },
   {
    "duration": 6,
    "start_time": "2022-05-22T13:52:23.622Z"
   },
   {
    "duration": 12,
    "start_time": "2022-05-22T13:52:23.629Z"
   },
   {
    "duration": 4,
    "start_time": "2022-05-22T13:52:23.642Z"
   },
   {
    "duration": 12,
    "start_time": "2022-05-22T13:52:23.647Z"
   },
   {
    "duration": 328,
    "start_time": "2022-05-22T13:52:23.660Z"
   },
   {
    "duration": 269,
    "start_time": "2022-05-22T13:52:23.990Z"
   },
   {
    "duration": 173,
    "start_time": "2022-05-22T13:52:24.260Z"
   },
   {
    "duration": 306,
    "start_time": "2022-05-22T13:52:24.435Z"
   },
   {
    "duration": 9,
    "start_time": "2022-05-22T13:52:29.980Z"
   },
   {
    "duration": 3,
    "start_time": "2022-05-22T13:52:32.655Z"
   },
   {
    "duration": 14,
    "start_time": "2022-05-22T13:52:33.180Z"
   },
   {
    "duration": 34,
    "start_time": "2022-05-22T13:52:33.836Z"
   },
   {
    "duration": 4,
    "start_time": "2022-05-22T13:53:19.611Z"
   },
   {
    "duration": 39,
    "start_time": "2022-05-22T13:53:19.618Z"
   },
   {
    "duration": 7,
    "start_time": "2022-05-22T13:53:19.659Z"
   },
   {
    "duration": 95,
    "start_time": "2022-05-22T13:53:19.668Z"
   },
   {
    "duration": 6,
    "start_time": "2022-05-22T13:53:19.765Z"
   },
   {
    "duration": 7,
    "start_time": "2022-05-22T13:53:19.772Z"
   },
   {
    "duration": 10,
    "start_time": "2022-05-22T13:53:19.781Z"
   },
   {
    "duration": 5,
    "start_time": "2022-05-22T13:53:19.792Z"
   },
   {
    "duration": 33,
    "start_time": "2022-05-22T13:53:19.798Z"
   },
   {
    "duration": 301,
    "start_time": "2022-05-22T13:53:19.833Z"
   },
   {
    "duration": 283,
    "start_time": "2022-05-22T13:53:20.136Z"
   },
   {
    "duration": 186,
    "start_time": "2022-05-22T13:53:20.420Z"
   },
   {
    "duration": 320,
    "start_time": "2022-05-22T13:53:20.607Z"
   },
   {
    "duration": 6,
    "start_time": "2022-05-22T13:53:25.016Z"
   },
   {
    "duration": 18,
    "start_time": "2022-05-22T13:53:25.719Z"
   },
   {
    "duration": 17,
    "start_time": "2022-05-22T13:53:26.654Z"
   },
   {
    "duration": 5,
    "start_time": "2022-05-22T13:54:05.631Z"
   },
   {
    "duration": 60,
    "start_time": "2022-05-22T13:54:05.638Z"
   },
   {
    "duration": 9,
    "start_time": "2022-05-22T13:54:05.700Z"
   },
   {
    "duration": 14,
    "start_time": "2022-05-22T13:54:05.711Z"
   },
   {
    "duration": 6,
    "start_time": "2022-05-22T13:54:05.727Z"
   },
   {
    "duration": 16,
    "start_time": "2022-05-22T13:54:05.735Z"
   },
   {
    "duration": 13,
    "start_time": "2022-05-22T13:54:05.753Z"
   },
   {
    "duration": 4,
    "start_time": "2022-05-22T13:54:05.768Z"
   },
   {
    "duration": 10,
    "start_time": "2022-05-22T13:54:05.773Z"
   },
   {
    "duration": 330,
    "start_time": "2022-05-22T13:54:05.786Z"
   },
   {
    "duration": 377,
    "start_time": "2022-05-22T13:54:06.118Z"
   },
   {
    "duration": 195,
    "start_time": "2022-05-22T13:54:06.498Z"
   },
   {
    "duration": 419,
    "start_time": "2022-05-22T13:54:06.695Z"
   },
   {
    "duration": 1314,
    "start_time": "2022-05-22T13:54:20.964Z"
   },
   {
    "duration": 44,
    "start_time": "2022-05-22T13:54:22.280Z"
   },
   {
    "duration": 12,
    "start_time": "2022-05-22T13:54:22.326Z"
   },
   {
    "duration": 11,
    "start_time": "2022-05-22T13:54:22.340Z"
   },
   {
    "duration": 7,
    "start_time": "2022-05-22T13:54:22.353Z"
   },
   {
    "duration": 6,
    "start_time": "2022-05-22T13:54:22.362Z"
   },
   {
    "duration": 14,
    "start_time": "2022-05-22T13:54:22.369Z"
   },
   {
    "duration": 6,
    "start_time": "2022-05-22T13:54:22.385Z"
   },
   {
    "duration": 35,
    "start_time": "2022-05-22T13:54:22.393Z"
   },
   {
    "duration": 319,
    "start_time": "2022-05-22T13:54:22.431Z"
   },
   {
    "duration": 275,
    "start_time": "2022-05-22T13:54:22.752Z"
   },
   {
    "duration": 189,
    "start_time": "2022-05-22T13:54:23.029Z"
   },
   {
    "duration": 319,
    "start_time": "2022-05-22T13:54:23.220Z"
   },
   {
    "duration": 4,
    "start_time": "2022-05-22T13:54:27.753Z"
   },
   {
    "duration": 14,
    "start_time": "2022-05-22T13:54:28.857Z"
   },
   {
    "duration": 18,
    "start_time": "2022-05-22T13:54:29.596Z"
   },
   {
    "duration": 5,
    "start_time": "2022-05-22T14:57:23.408Z"
   },
   {
    "duration": 67,
    "start_time": "2022-05-22T14:57:23.415Z"
   },
   {
    "duration": 7,
    "start_time": "2022-05-22T14:57:23.483Z"
   },
   {
    "duration": 103,
    "start_time": "2022-05-22T14:57:23.492Z"
   },
   {
    "duration": 21,
    "start_time": "2022-05-22T14:57:23.597Z"
   },
   {
    "duration": 18,
    "start_time": "2022-05-22T14:57:23.620Z"
   },
   {
    "duration": 28,
    "start_time": "2022-05-22T14:57:23.640Z"
   },
   {
    "duration": 16,
    "start_time": "2022-05-22T14:57:23.669Z"
   },
   {
    "duration": 19,
    "start_time": "2022-05-22T14:57:23.686Z"
   },
   {
    "duration": 307,
    "start_time": "2022-05-22T14:57:23.707Z"
   },
   {
    "duration": 299,
    "start_time": "2022-05-22T14:57:24.017Z"
   },
   {
    "duration": 193,
    "start_time": "2022-05-22T14:57:24.318Z"
   },
   {
    "duration": 312,
    "start_time": "2022-05-22T14:57:24.512Z"
   },
   {
    "duration": 4,
    "start_time": "2022-05-22T14:57:24.826Z"
   },
   {
    "duration": 4,
    "start_time": "2022-05-22T14:57:32.337Z"
   },
   {
    "duration": 3,
    "start_time": "2022-05-22T14:57:32.978Z"
   },
   {
    "duration": 8,
    "start_time": "2022-05-22T14:57:33.998Z"
   },
   {
    "duration": 9,
    "start_time": "2022-05-22T14:57:36.572Z"
   },
   {
    "duration": 14,
    "start_time": "2022-05-22T14:57:57.789Z"
   },
   {
    "duration": 11,
    "start_time": "2022-05-22T14:58:02.169Z"
   },
   {
    "duration": 20,
    "start_time": "2022-05-22T14:58:11.469Z"
   },
   {
    "duration": 4,
    "start_time": "2022-05-22T14:59:52.013Z"
   },
   {
    "duration": 5,
    "start_time": "2022-05-22T14:59:58.638Z"
   },
   {
    "duration": 1385,
    "start_time": "2022-05-22T15:00:36.502Z"
   },
   {
    "duration": 42,
    "start_time": "2022-05-22T15:00:37.889Z"
   },
   {
    "duration": 14,
    "start_time": "2022-05-22T15:00:37.933Z"
   },
   {
    "duration": 21,
    "start_time": "2022-05-22T15:00:37.950Z"
   },
   {
    "duration": 22,
    "start_time": "2022-05-22T15:00:37.974Z"
   },
   {
    "duration": 45,
    "start_time": "2022-05-22T15:00:37.998Z"
   },
   {
    "duration": 38,
    "start_time": "2022-05-22T15:00:38.044Z"
   },
   {
    "duration": 19,
    "start_time": "2022-05-22T15:00:38.084Z"
   },
   {
    "duration": 29,
    "start_time": "2022-05-22T15:00:38.106Z"
   },
   {
    "duration": 379,
    "start_time": "2022-05-22T15:00:38.138Z"
   },
   {
    "duration": 284,
    "start_time": "2022-05-22T15:00:38.519Z"
   },
   {
    "duration": 193,
    "start_time": "2022-05-22T15:00:38.804Z"
   },
   {
    "duration": 319,
    "start_time": "2022-05-22T15:00:38.999Z"
   },
   {
    "duration": 8,
    "start_time": "2022-05-22T15:00:39.321Z"
   },
   {
    "duration": 22,
    "start_time": "2022-05-22T15:00:39.331Z"
   },
   {
    "duration": 3,
    "start_time": "2022-05-22T15:00:39.355Z"
   },
   {
    "duration": 7,
    "start_time": "2022-05-22T15:00:41.724Z"
   },
   {
    "duration": 5,
    "start_time": "2022-05-22T15:01:02.850Z"
   },
   {
    "duration": 136,
    "start_time": "2022-05-22T15:01:04.116Z"
   },
   {
    "duration": 4,
    "start_time": "2022-05-22T15:01:20.595Z"
   },
   {
    "duration": 5,
    "start_time": "2022-05-22T15:01:20.981Z"
   },
   {
    "duration": 3,
    "start_time": "2022-05-22T15:01:44.326Z"
   },
   {
    "duration": 3,
    "start_time": "2022-05-22T15:02:50.725Z"
   },
   {
    "duration": 101,
    "start_time": "2022-05-22T15:02:51.438Z"
   },
   {
    "duration": 5,
    "start_time": "2022-05-22T15:02:52.235Z"
   },
   {
    "duration": 4,
    "start_time": "2022-05-22T15:02:53.069Z"
   },
   {
    "duration": 3,
    "start_time": "2022-05-22T15:03:21.557Z"
   },
   {
    "duration": 7,
    "start_time": "2022-05-22T15:03:23.905Z"
   },
   {
    "duration": 3,
    "start_time": "2022-05-22T15:03:46.169Z"
   },
   {
    "duration": 3,
    "start_time": "2022-05-22T15:03:47.007Z"
   },
   {
    "duration": 4,
    "start_time": "2022-05-22T15:03:48.342Z"
   },
   {
    "duration": 3370,
    "start_time": "2022-05-22T15:03:49.560Z"
   },
   {
    "duration": 7,
    "start_time": "2022-05-22T15:04:01.947Z"
   },
   {
    "duration": 6,
    "start_time": "2022-05-22T15:04:07.342Z"
   },
   {
    "duration": 4,
    "start_time": "2022-05-22T15:04:14.486Z"
   },
   {
    "duration": 7,
    "start_time": "2022-05-22T15:05:48.387Z"
   },
   {
    "duration": 3,
    "start_time": "2022-05-22T15:06:17.200Z"
   },
   {
    "duration": 4,
    "start_time": "2022-05-22T15:06:25.405Z"
   },
   {
    "duration": 613,
    "start_time": "2022-05-22T15:06:25.897Z"
   },
   {
    "duration": 6,
    "start_time": "2022-05-22T15:06:26.514Z"
   },
   {
    "duration": 3,
    "start_time": "2022-05-22T15:06:27.301Z"
   },
   {
    "duration": 4,
    "start_time": "2022-05-22T15:06:29.216Z"
   },
   {
    "duration": 3112,
    "start_time": "2022-05-22T15:06:29.917Z"
   },
   {
    "duration": 6,
    "start_time": "2022-05-22T15:06:33.031Z"
   },
   {
    "duration": 15,
    "start_time": "2022-05-22T15:06:33.039Z"
   },
   {
    "duration": 3,
    "start_time": "2022-05-22T15:06:34.775Z"
   },
   {
    "duration": 273291,
    "start_time": "2022-05-22T15:06:35.362Z"
   },
   {
    "duration": 5,
    "start_time": "2022-05-22T15:11:08.655Z"
   },
   {
    "duration": 66,
    "start_time": "2022-05-22T15:11:08.662Z"
   },
   {
    "duration": 24,
    "start_time": "2022-05-22T15:11:08.731Z"
   },
   {
    "duration": 37,
    "start_time": "2022-05-22T15:11:08.756Z"
   },
   {
    "duration": 32,
    "start_time": "2022-05-22T15:11:08.794Z"
   },
   {
    "duration": 3,
    "start_time": "2022-05-22T15:24:06.496Z"
   },
   {
    "duration": 40,
    "start_time": "2022-05-22T15:24:07.122Z"
   },
   {
    "duration": 4,
    "start_time": "2022-05-22T15:24:07.847Z"
   },
   {
    "duration": 30,
    "start_time": "2022-05-22T15:24:08.580Z"
   },
   {
    "duration": 4,
    "start_time": "2022-05-22T15:27:20.254Z"
   },
   {
    "duration": 4,
    "start_time": "2022-05-22T15:27:20.889Z"
   },
   {
    "duration": 5,
    "start_time": "2022-05-22T15:27:23.552Z"
   },
   {
    "duration": 25878,
    "start_time": "2022-05-22T15:27:25.496Z"
   },
   {
    "duration": 3,
    "start_time": "2022-05-22T15:28:01.387Z"
   },
   {
    "duration": 3,
    "start_time": "2022-05-22T15:28:02.112Z"
   },
   {
    "duration": 1268026,
    "start_time": "2022-05-22T15:28:02.689Z"
   },
   {
    "duration": 52,
    "start_time": "2022-05-22T15:51:45.922Z"
   },
   {
    "duration": 3,
    "start_time": "2022-05-22T15:51:49.418Z"
   },
   {
    "duration": 2,
    "start_time": "2022-05-22T15:51:58.268Z"
   },
   {
    "duration": 30,
    "start_time": "2022-05-22T15:52:00.530Z"
   },
   {
    "duration": 3,
    "start_time": "2022-05-22T15:52:02.420Z"
   },
   {
    "duration": 31,
    "start_time": "2022-05-22T15:52:09.312Z"
   },
   {
    "duration": 4,
    "start_time": "2022-05-22T15:52:43.000Z"
   },
   {
    "duration": 43,
    "start_time": "2022-05-22T15:52:43.006Z"
   },
   {
    "duration": 8,
    "start_time": "2022-05-22T15:52:43.051Z"
   },
   {
    "duration": 14,
    "start_time": "2022-05-22T15:52:43.060Z"
   },
   {
    "duration": 6,
    "start_time": "2022-05-22T15:52:43.076Z"
   },
   {
    "duration": 13,
    "start_time": "2022-05-22T15:52:43.084Z"
   },
   {
    "duration": 10,
    "start_time": "2022-05-22T15:52:43.099Z"
   },
   {
    "duration": 4,
    "start_time": "2022-05-22T15:52:43.127Z"
   },
   {
    "duration": 26,
    "start_time": "2022-05-22T15:52:43.132Z"
   },
   {
    "duration": 377,
    "start_time": "2022-05-22T15:52:43.161Z"
   },
   {
    "duration": 308,
    "start_time": "2022-05-22T15:52:43.539Z"
   },
   {
    "duration": 190,
    "start_time": "2022-05-22T15:52:43.849Z"
   },
   {
    "duration": 286,
    "start_time": "2022-05-22T15:52:44.041Z"
   },
   {
    "duration": 4,
    "start_time": "2022-05-22T15:52:44.328Z"
   },
   {
    "duration": 20,
    "start_time": "2022-05-22T15:52:44.334Z"
   },
   {
    "duration": 3,
    "start_time": "2022-05-22T15:52:44.356Z"
   },
   {
    "duration": 7,
    "start_time": "2022-05-22T15:52:44.360Z"
   },
   {
    "duration": 7,
    "start_time": "2022-05-22T15:52:44.368Z"
   },
   {
    "duration": 9,
    "start_time": "2022-05-22T15:52:44.376Z"
   },
   {
    "duration": 6,
    "start_time": "2022-05-22T15:52:44.386Z"
   },
   {
    "duration": 7,
    "start_time": "2022-05-22T15:52:44.394Z"
   },
   {
    "duration": 27,
    "start_time": "2022-05-22T15:52:44.402Z"
   },
   {
    "duration": 98,
    "start_time": "2022-05-22T15:52:44.432Z"
   },
   {
    "duration": 95,
    "start_time": "2022-05-22T15:52:44.532Z"
   },
   {
    "duration": 2,
    "start_time": "2022-05-22T15:52:44.629Z"
   },
   {
    "duration": 6,
    "start_time": "2022-05-22T15:52:44.633Z"
   },
   {
    "duration": 7,
    "start_time": "2022-05-22T15:52:44.640Z"
   },
   {
    "duration": 3079,
    "start_time": "2022-05-22T15:52:44.650Z"
   },
   {
    "duration": 7,
    "start_time": "2022-05-22T15:52:47.731Z"
   },
   {
    "duration": 11,
    "start_time": "2022-05-22T15:52:47.739Z"
   },
   {
    "duration": 6,
    "start_time": "2022-05-22T15:52:47.751Z"
   },
   {
    "duration": 5,
    "start_time": "2022-05-22T15:52:47.758Z"
   },
   {
    "duration": 7,
    "start_time": "2022-05-22T15:52:47.765Z"
   },
   {
    "duration": 1225518,
    "start_time": "2022-05-22T15:52:47.774Z"
   },
   {
    "duration": 52,
    "start_time": "2022-05-22T16:13:13.294Z"
   },
   {
    "duration": 3,
    "start_time": "2022-05-22T16:13:13.348Z"
   },
   {
    "duration": 49,
    "start_time": "2022-05-22T16:19:17.194Z"
   },
   {
    "duration": 3,
    "start_time": "2022-05-22T16:19:21.613Z"
   },
   {
    "duration": 5,
    "start_time": "2022-05-22T16:19:27.773Z"
   },
   {
    "duration": 17,
    "start_time": "2022-05-22T16:19:28.291Z"
   },
   {
    "duration": 56,
    "start_time": "2022-05-22T16:20:14.021Z"
   },
   {
    "duration": 7,
    "start_time": "2022-05-22T16:20:14.480Z"
   },
   {
    "duration": 1257,
    "start_time": "2022-05-22T16:20:22.166Z"
   },
   {
    "duration": 39,
    "start_time": "2022-05-22T16:20:23.463Z"
   },
   {
    "duration": 9,
    "start_time": "2022-05-22T16:20:27.640Z"
   },
   {
    "duration": 4,
    "start_time": "2022-05-22T16:20:33.466Z"
   },
   {
    "duration": 15,
    "start_time": "2022-05-22T16:20:33.993Z"
   },
   {
    "duration": 6,
    "start_time": "2022-05-22T16:20:35.320Z"
   },
   {
    "duration": 4,
    "start_time": "2022-05-22T16:20:35.774Z"
   },
   {
    "duration": 4,
    "start_time": "2022-05-22T16:20:39.350Z"
   },
   {
    "duration": 5,
    "start_time": "2022-05-22T16:20:39.892Z"
   },
   {
    "duration": 3,
    "start_time": "2022-05-22T16:20:43.067Z"
   },
   {
    "duration": 2,
    "start_time": "2022-05-22T16:20:43.954Z"
   },
   {
    "duration": 37,
    "start_time": "2022-05-22T16:20:44.690Z"
   },
   {
    "duration": 5,
    "start_time": "2022-05-22T16:20:45.241Z"
   },
   {
    "duration": 4,
    "start_time": "2022-05-22T16:20:46.091Z"
   },
   {
    "duration": 3,
    "start_time": "2022-05-22T16:21:24.135Z"
   },
   {
    "duration": 3,
    "start_time": "2022-05-22T16:21:24.679Z"
   },
   {
    "duration": 3,
    "start_time": "2022-05-22T16:21:26.642Z"
   },
   {
    "duration": 2884,
    "start_time": "2022-05-22T16:21:27.279Z"
   },
   {
    "duration": 6,
    "start_time": "2022-05-22T16:21:30.165Z"
   },
   {
    "duration": 23,
    "start_time": "2022-05-22T16:21:30.173Z"
   },
   {
    "duration": 2,
    "start_time": "2022-05-22T16:21:33.596Z"
   },
   {
    "duration": 4,
    "start_time": "2022-05-22T16:21:39.011Z"
   },
   {
    "duration": 3,
    "start_time": "2022-05-22T16:21:40.759Z"
   },
   {
    "duration": 450478,
    "start_time": "2022-05-22T16:21:41.989Z"
   },
   {
    "duration": 45,
    "start_time": "2022-05-22T16:29:12.468Z"
   },
   {
    "duration": 12,
    "start_time": "2022-05-22T16:29:12.515Z"
   },
   {
    "duration": 4,
    "start_time": "2022-05-22T17:04:13.487Z"
   },
   {
    "duration": 15,
    "start_time": "2022-05-22T17:04:14.001Z"
   },
   {
    "duration": 13,
    "start_time": "2022-05-22T17:04:40.354Z"
   },
   {
    "duration": 6,
    "start_time": "2022-05-22T17:04:52.831Z"
   },
   {
    "duration": 3,
    "start_time": "2022-05-22T17:06:10.746Z"
   },
   {
    "duration": 12,
    "start_time": "2022-05-22T17:06:11.123Z"
   },
   {
    "duration": 12,
    "start_time": "2022-05-22T17:06:25.930Z"
   },
   {
    "duration": 2,
    "start_time": "2022-05-22T17:06:32.602Z"
   },
   {
    "duration": 12,
    "start_time": "2022-05-22T17:06:33.152Z"
   },
   {
    "duration": 3,
    "start_time": "2022-05-22T17:07:24.937Z"
   },
   {
    "duration": 13,
    "start_time": "2022-05-22T17:07:25.349Z"
   },
   {
    "duration": 2,
    "start_time": "2022-05-22T17:08:13.991Z"
   },
   {
    "duration": 18,
    "start_time": "2022-05-22T17:08:14.384Z"
   },
   {
    "duration": 3,
    "start_time": "2022-05-22T17:08:15.623Z"
   },
   {
    "duration": 13,
    "start_time": "2022-05-22T17:08:16.490Z"
   },
   {
    "duration": 2,
    "start_time": "2022-05-22T17:10:30.426Z"
   },
   {
    "duration": 3,
    "start_time": "2022-05-22T17:10:31.015Z"
   },
   {
    "duration": 4,
    "start_time": "2022-05-22T17:10:31.943Z"
   },
   {
    "duration": 444034,
    "start_time": "2022-05-22T17:10:33.127Z"
   },
   {
    "duration": 6,
    "start_time": "2022-05-22T17:17:57.162Z"
   },
   {
    "duration": 5,
    "start_time": "2022-05-22T17:17:57.170Z"
   },
   {
    "duration": 2,
    "start_time": "2022-05-22T17:20:40.214Z"
   },
   {
    "duration": 3,
    "start_time": "2022-05-22T17:20:40.786Z"
   },
   {
    "duration": 112,
    "start_time": "2022-05-22T17:20:42.141Z"
   },
   {
    "duration": 3,
    "start_time": "2022-05-22T17:21:02.291Z"
   },
   {
    "duration": 3,
    "start_time": "2022-05-22T17:21:03.090Z"
   },
   {
    "duration": 3,
    "start_time": "2022-05-22T17:21:22.644Z"
   },
   {
    "duration": 3,
    "start_time": "2022-05-22T17:21:24.683Z"
   },
   {
    "duration": 3,
    "start_time": "2022-05-22T17:21:25.064Z"
   },
   {
    "duration": 3,
    "start_time": "2022-05-22T17:21:25.745Z"
   },
   {
    "duration": 16612,
    "start_time": "2022-05-22T17:21:27.655Z"
   },
   {
    "duration": 2,
    "start_time": "2022-05-22T17:21:55.150Z"
   },
   {
    "duration": 4,
    "start_time": "2022-05-22T17:21:55.528Z"
   },
   {
    "duration": 4,
    "start_time": "2022-05-22T17:21:57.808Z"
   },
   {
    "duration": 150295,
    "start_time": "2022-05-22T17:21:59.231Z"
   },
   {
    "duration": 5,
    "start_time": "2022-05-22T17:24:29.528Z"
   },
   {
    "duration": 2,
    "start_time": "2022-05-22T17:24:36.448Z"
   },
   {
    "duration": 3,
    "start_time": "2022-05-22T17:25:38.492Z"
   },
   {
    "duration": 3,
    "start_time": "2022-05-22T17:25:38.969Z"
   },
   {
    "duration": 3,
    "start_time": "2022-05-22T17:25:39.768Z"
   },
   {
    "duration": 42437,
    "start_time": "2022-05-22T17:25:42.912Z"
   },
   {
    "duration": 7,
    "start_time": "2022-05-22T17:27:41.055Z"
   },
   {
    "duration": 7,
    "start_time": "2022-05-22T17:27:57.240Z"
   },
   {
    "duration": 3,
    "start_time": "2022-05-22T17:27:58.076Z"
   },
   {
    "duration": 3,
    "start_time": "2022-05-22T17:27:59.544Z"
   },
   {
    "duration": 43300,
    "start_time": "2022-05-22T17:28:00.438Z"
   },
   {
    "duration": 6,
    "start_time": "2022-05-22T17:28:47.774Z"
   },
   {
    "duration": 3,
    "start_time": "2022-05-22T17:29:02.522Z"
   },
   {
    "duration": 2,
    "start_time": "2022-05-22T17:29:03.026Z"
   },
   {
    "duration": 3,
    "start_time": "2022-05-22T17:29:03.689Z"
   },
   {
    "duration": 50173,
    "start_time": "2022-05-22T17:29:04.643Z"
   },
   {
    "duration": 6,
    "start_time": "2022-05-22T17:33:53.818Z"
   },
   {
    "duration": 3,
    "start_time": "2022-05-22T17:34:16.084Z"
   },
   {
    "duration": 5,
    "start_time": "2022-05-22T17:34:16.479Z"
   },
   {
    "duration": 3,
    "start_time": "2022-05-22T17:34:17.062Z"
   },
   {
    "duration": 17371,
    "start_time": "2022-05-22T17:34:18.322Z"
   },
   {
    "duration": 3,
    "start_time": "2022-05-22T17:34:42.520Z"
   },
   {
    "duration": 4,
    "start_time": "2022-05-22T17:34:42.935Z"
   },
   {
    "duration": 3,
    "start_time": "2022-05-22T17:34:46.820Z"
   },
   {
    "duration": 13501,
    "start_time": "2022-05-22T17:34:47.528Z"
   },
   {
    "duration": 7,
    "start_time": "2022-05-22T17:35:19.062Z"
   },
   {
    "duration": 3,
    "start_time": "2022-05-22T17:35:36.052Z"
   },
   {
    "duration": 4,
    "start_time": "2022-05-22T17:35:36.443Z"
   },
   {
    "duration": 3,
    "start_time": "2022-05-22T17:35:37.120Z"
   },
   {
    "duration": 25526,
    "start_time": "2022-05-22T17:35:37.611Z"
   },
   {
    "duration": 8,
    "start_time": "2022-05-22T17:36:26.219Z"
   },
   {
    "duration": 2,
    "start_time": "2022-05-22T17:36:35.414Z"
   },
   {
    "duration": 2,
    "start_time": "2022-05-22T17:36:35.839Z"
   },
   {
    "duration": 4,
    "start_time": "2022-05-22T17:36:36.461Z"
   },
   {
    "duration": 25674,
    "start_time": "2022-05-22T17:36:38.077Z"
   },
   {
    "duration": 3,
    "start_time": "2022-05-22T18:04:48.127Z"
   },
   {
    "duration": 4,
    "start_time": "2022-05-22T18:04:48.522Z"
   },
   {
    "duration": 3,
    "start_time": "2022-05-22T18:04:49.109Z"
   },
   {
    "duration": 86473,
    "start_time": "2022-05-22T18:04:57.351Z"
   },
   {
    "duration": 8,
    "start_time": "2022-05-22T18:07:16.218Z"
   },
   {
    "duration": 3,
    "start_time": "2022-05-22T18:07:49.217Z"
   },
   {
    "duration": 3,
    "start_time": "2022-05-22T18:07:49.618Z"
   },
   {
    "duration": 11,
    "start_time": "2022-05-22T18:07:50.665Z"
   },
   {
    "duration": 3,
    "start_time": "2022-05-22T18:08:07.181Z"
   },
   {
    "duration": 3,
    "start_time": "2022-05-22T18:08:08.081Z"
   },
   {
    "duration": 254380,
    "start_time": "2022-05-22T18:08:10.500Z"
   },
   {
    "duration": 8,
    "start_time": "2022-05-22T18:12:36.131Z"
   },
   {
    "duration": 3,
    "start_time": "2022-05-22T18:12:40.073Z"
   },
   {
    "duration": 3,
    "start_time": "2022-05-22T18:15:28.666Z"
   },
   {
    "duration": 3,
    "start_time": "2022-05-22T18:15:29.151Z"
   },
   {
    "duration": 3,
    "start_time": "2022-05-22T18:15:30.364Z"
   },
   {
    "duration": 83527,
    "start_time": "2022-05-22T18:15:31.442Z"
   },
   {
    "duration": 6,
    "start_time": "2022-05-22T18:17:01.095Z"
   },
   {
    "duration": 3,
    "start_time": "2022-05-22T18:17:03.173Z"
   },
   {
    "duration": 3,
    "start_time": "2022-05-22T18:17:41.847Z"
   },
   {
    "duration": 20,
    "start_time": "2022-05-22T18:17:43.535Z"
   },
   {
    "duration": 3,
    "start_time": "2022-05-22T18:18:39.404Z"
   },
   {
    "duration": 3,
    "start_time": "2022-05-22T18:18:40.031Z"
   },
   {
    "duration": 3,
    "start_time": "2022-05-22T18:18:43.401Z"
   },
   {
    "duration": 483,
    "start_time": "2022-05-22T18:18:46.588Z"
   },
   {
    "duration": 2,
    "start_time": "2022-05-22T18:19:06.883Z"
   },
   {
    "duration": 3,
    "start_time": "2022-05-22T18:19:07.956Z"
   },
   {
    "duration": 3,
    "start_time": "2022-05-22T18:19:08.562Z"
   },
   {
    "duration": 2544098,
    "start_time": "2022-05-22T18:19:09.550Z"
   },
   {
    "duration": 3,
    "start_time": "2022-05-22T19:02:01.921Z"
   },
   {
    "duration": 3,
    "start_time": "2022-05-22T19:02:02.907Z"
   },
   {
    "duration": 4,
    "start_time": "2022-05-22T19:02:04.229Z"
   },
   {
    "duration": 919094,
    "start_time": "2022-05-22T19:02:05.054Z"
   },
   {
    "duration": 0,
    "start_time": "2022-05-22T19:17:24.150Z"
   },
   {
    "duration": 3,
    "start_time": "2022-05-22T19:17:59.437Z"
   },
   {
    "duration": 3,
    "start_time": "2022-05-22T19:17:59.823Z"
   },
   {
    "duration": 4,
    "start_time": "2022-05-22T19:18:02.359Z"
   },
   {
    "duration": 3,
    "start_time": "2022-05-22T19:18:17.865Z"
   },
   {
    "duration": 3,
    "start_time": "2022-05-22T19:18:18.512Z"
   },
   {
    "duration": 26449,
    "start_time": "2022-05-22T19:18:19.010Z"
   },
   {
    "duration": 4,
    "start_time": "2022-05-22T19:18:45.679Z"
   },
   {
    "duration": 257941,
    "start_time": "2022-05-22T19:18:50.427Z"
   },
   {
    "duration": 59,
    "start_time": "2022-05-22T19:23:08.370Z"
   },
   {
    "duration": 3,
    "start_time": "2022-05-22T19:29:55.379Z"
   },
   {
    "duration": 3,
    "start_time": "2022-05-22T19:29:55.888Z"
   },
   {
    "duration": 3,
    "start_time": "2022-05-22T19:29:56.752Z"
   },
   {
    "duration": 686255,
    "start_time": "2022-05-22T19:29:57.325Z"
   },
   {
    "duration": 62,
    "start_time": "2022-05-22T19:41:23.582Z"
   },
   {
    "duration": 3,
    "start_time": "2022-05-22T20:45:56.875Z"
   },
   {
    "duration": 3,
    "start_time": "2022-05-22T20:45:58.490Z"
   },
   {
    "duration": 17,
    "start_time": "2022-05-22T20:46:22.988Z"
   },
   {
    "duration": 2662,
    "start_time": "2022-05-22T20:46:27.842Z"
   },
   {
    "duration": 4,
    "start_time": "2022-05-22T20:46:30.506Z"
   },
   {
    "duration": 4,
    "start_time": "2022-05-22T20:46:55.830Z"
   },
   {
    "duration": 1717,
    "start_time": "2022-05-22T20:47:01.457Z"
   },
   {
    "duration": 5,
    "start_time": "2022-05-22T20:47:03.966Z"
   },
   {
    "duration": 6,
    "start_time": "2022-05-22T20:49:38.806Z"
   },
   {
    "duration": 6,
    "start_time": "2022-05-22T20:49:40.424Z"
   },
   {
    "duration": 14,
    "start_time": "2022-05-22T20:49:42.044Z"
   },
   {
    "duration": 35458,
    "start_time": "2022-05-22T20:49:42.998Z"
   },
   {
    "duration": 24,
    "start_time": "2022-05-22T20:50:18.458Z"
   },
   {
    "duration": 3,
    "start_time": "2022-05-22T20:50:34.201Z"
   },
   {
    "duration": 3,
    "start_time": "2022-05-22T20:50:35.823Z"
   },
   {
    "duration": 5,
    "start_time": "2022-05-22T20:50:36.521Z"
   },
   {
    "duration": 76166,
    "start_time": "2022-05-22T20:50:37.101Z"
   },
   {
    "duration": 23,
    "start_time": "2022-05-22T20:51:53.269Z"
   },
   {
    "duration": 11,
    "start_time": "2022-05-22T20:52:02.564Z"
   },
   {
    "duration": 2613,
    "start_time": "2022-05-22T20:52:05.419Z"
   },
   {
    "duration": 5,
    "start_time": "2022-05-22T20:52:08.914Z"
   },
   {
    "duration": 1863,
    "start_time": "2022-05-22T20:52:44.251Z"
   },
   {
    "duration": 99,
    "start_time": "2022-05-22T20:52:46.116Z"
   },
   {
    "duration": 15,
    "start_time": "2022-05-22T20:52:46.216Z"
   },
   {
    "duration": 12,
    "start_time": "2022-05-22T20:52:46.236Z"
   },
   {
    "duration": 16,
    "start_time": "2022-05-22T20:52:46.250Z"
   },
   {
    "duration": 10,
    "start_time": "2022-05-22T20:52:46.270Z"
   },
   {
    "duration": 18,
    "start_time": "2022-05-22T20:52:46.283Z"
   },
   {
    "duration": 5,
    "start_time": "2022-05-22T20:52:46.303Z"
   },
   {
    "duration": 20,
    "start_time": "2022-05-22T20:52:46.312Z"
   },
   {
    "duration": 392,
    "start_time": "2022-05-22T20:52:46.336Z"
   },
   {
    "duration": 294,
    "start_time": "2022-05-22T20:52:46.729Z"
   },
   {
    "duration": 209,
    "start_time": "2022-05-22T20:52:47.027Z"
   },
   {
    "duration": 332,
    "start_time": "2022-05-22T20:52:47.238Z"
   },
   {
    "duration": 4,
    "start_time": "2022-05-22T20:52:47.572Z"
   },
   {
    "duration": 24,
    "start_time": "2022-05-22T20:52:47.578Z"
   },
   {
    "duration": 4,
    "start_time": "2022-05-22T20:52:47.604Z"
   },
   {
    "duration": 18,
    "start_time": "2022-05-22T20:52:47.610Z"
   },
   {
    "duration": 5,
    "start_time": "2022-05-22T20:52:47.630Z"
   },
   {
    "duration": 100,
    "start_time": "2022-05-22T20:52:47.637Z"
   },
   {
    "duration": 3,
    "start_time": "2022-05-22T20:52:47.738Z"
   },
   {
    "duration": 12,
    "start_time": "2022-05-22T20:52:47.742Z"
   },
   {
    "duration": 77,
    "start_time": "2022-05-22T20:52:47.755Z"
   },
   {
    "duration": 100,
    "start_time": "2022-05-22T20:52:47.834Z"
   },
   {
    "duration": 6,
    "start_time": "2022-05-22T20:52:47.936Z"
   },
   {
    "duration": 5,
    "start_time": "2022-05-22T20:52:47.943Z"
   },
   {
    "duration": 7,
    "start_time": "2022-05-22T20:52:47.950Z"
   },
   {
    "duration": 6,
    "start_time": "2022-05-22T20:52:47.958Z"
   },
   {
    "duration": 2302,
    "start_time": "2022-05-22T20:52:47.967Z"
   },
   {
    "duration": 8,
    "start_time": "2022-05-22T20:52:50.271Z"
   },
   {
    "duration": 19,
    "start_time": "2022-05-22T20:52:50.280Z"
   },
   {
    "duration": 8,
    "start_time": "2022-05-22T20:52:50.300Z"
   },
   {
    "duration": 9,
    "start_time": "2022-05-22T20:52:50.309Z"
   },
   {
    "duration": 8,
    "start_time": "2022-05-22T20:52:50.319Z"
   },
   {
    "duration": 33780,
    "start_time": "2022-05-22T20:52:50.328Z"
   },
   {
    "duration": 0,
    "start_time": "2022-05-22T20:53:24.110Z"
   },
   {
    "duration": 0,
    "start_time": "2022-05-22T20:53:24.111Z"
   },
   {
    "duration": 0,
    "start_time": "2022-05-22T20:53:24.113Z"
   },
   {
    "duration": 0,
    "start_time": "2022-05-22T20:53:24.115Z"
   },
   {
    "duration": 0,
    "start_time": "2022-05-22T20:53:24.116Z"
   },
   {
    "duration": 0,
    "start_time": "2022-05-22T20:53:24.118Z"
   },
   {
    "duration": 0,
    "start_time": "2022-05-22T20:53:24.120Z"
   },
   {
    "duration": 0,
    "start_time": "2022-05-22T20:53:24.126Z"
   },
   {
    "duration": 0,
    "start_time": "2022-05-22T20:53:24.128Z"
   },
   {
    "duration": 0,
    "start_time": "2022-05-22T20:53:24.129Z"
   },
   {
    "duration": 1299,
    "start_time": "2022-05-22T20:53:59.228Z"
   },
   {
    "duration": 36,
    "start_time": "2022-05-22T20:54:00.529Z"
   },
   {
    "duration": 11,
    "start_time": "2022-05-22T20:54:00.566Z"
   },
   {
    "duration": 29,
    "start_time": "2022-05-22T20:54:00.579Z"
   },
   {
    "duration": 15,
    "start_time": "2022-05-22T20:54:00.610Z"
   },
   {
    "duration": 12,
    "start_time": "2022-05-22T20:54:00.626Z"
   },
   {
    "duration": 24,
    "start_time": "2022-05-22T20:54:00.639Z"
   },
   {
    "duration": 9,
    "start_time": "2022-05-22T20:54:00.664Z"
   },
   {
    "duration": 15,
    "start_time": "2022-05-22T20:54:00.675Z"
   },
   {
    "duration": 312,
    "start_time": "2022-05-22T20:54:00.694Z"
   },
   {
    "duration": 291,
    "start_time": "2022-05-22T20:54:01.008Z"
   },
   {
    "duration": 194,
    "start_time": "2022-05-22T20:54:01.301Z"
   },
   {
    "duration": 324,
    "start_time": "2022-05-22T20:54:01.497Z"
   },
   {
    "duration": 4,
    "start_time": "2022-05-22T20:54:01.827Z"
   },
   {
    "duration": 35,
    "start_time": "2022-05-22T20:54:01.833Z"
   },
   {
    "duration": 7,
    "start_time": "2022-05-22T20:54:01.870Z"
   },
   {
    "duration": 52,
    "start_time": "2022-05-22T20:54:01.878Z"
   },
   {
    "duration": 23,
    "start_time": "2022-05-22T20:54:01.931Z"
   },
   {
    "duration": 124,
    "start_time": "2022-05-22T20:54:01.955Z"
   },
   {
    "duration": 29,
    "start_time": "2022-05-22T20:54:02.081Z"
   },
   {
    "duration": 27,
    "start_time": "2022-05-22T20:54:02.113Z"
   },
   {
    "duration": 92,
    "start_time": "2022-05-22T20:54:02.141Z"
   },
   {
    "duration": 129,
    "start_time": "2022-05-22T20:54:02.236Z"
   },
   {
    "duration": 29,
    "start_time": "2022-05-22T20:54:02.366Z"
   },
   {
    "duration": 24,
    "start_time": "2022-05-22T20:54:02.396Z"
   },
   {
    "duration": 39,
    "start_time": "2022-05-22T20:54:02.421Z"
   },
   {
    "duration": 6,
    "start_time": "2022-05-22T20:54:02.461Z"
   },
   {
    "duration": 103,
    "start_time": "2022-05-22T20:54:02.470Z"
   },
   {
    "duration": 6,
    "start_time": "2022-05-22T20:54:02.574Z"
   },
   {
    "duration": 16,
    "start_time": "2022-05-22T20:54:02.581Z"
   },
   {
    "duration": 15,
    "start_time": "2022-05-22T20:54:02.598Z"
   },
   {
    "duration": 17,
    "start_time": "2022-05-22T20:54:02.615Z"
   },
   {
    "duration": 7,
    "start_time": "2022-05-22T20:54:02.633Z"
   },
   {
    "duration": 13779,
    "start_time": "2022-05-22T20:54:02.641Z"
   },
   {
    "duration": 45,
    "start_time": "2022-05-22T20:54:16.423Z"
   },
   {
    "duration": 3,
    "start_time": "2022-05-22T20:54:16.469Z"
   },
   {
    "duration": 10,
    "start_time": "2022-05-22T20:54:16.473Z"
   },
   {
    "duration": 2492,
    "start_time": "2022-05-22T20:54:16.485Z"
   },
   {
    "duration": 5,
    "start_time": "2022-05-22T20:54:18.979Z"
   },
   {
    "duration": 10,
    "start_time": "2022-05-22T20:54:18.987Z"
   },
   {
    "duration": 7,
    "start_time": "2022-05-22T20:54:18.999Z"
   },
   {
    "duration": 2123,
    "start_time": "2022-05-22T20:54:19.007Z"
   },
   {
    "duration": 5,
    "start_time": "2022-05-22T20:54:21.131Z"
   },
   {
    "duration": 8,
    "start_time": "2022-05-22T20:54:21.138Z"
   },
   {
    "duration": 6,
    "start_time": "2022-05-22T20:54:21.147Z"
   },
   {
    "duration": 6,
    "start_time": "2022-05-22T20:54:21.154Z"
   },
   {
    "duration": 18,
    "start_time": "2022-05-22T20:54:21.162Z"
   },
   {
    "duration": 3,
    "start_time": "2022-05-22T20:54:35.900Z"
   },
   {
    "duration": 27,
    "start_time": "2022-05-22T20:54:41.763Z"
   },
   {
    "duration": 5,
    "start_time": "2022-05-22T20:54:44.183Z"
   },
   {
    "duration": 14,
    "start_time": "2022-05-22T20:54:52.702Z"
   },
   {
    "duration": 2,
    "start_time": "2022-05-22T21:21:23.990Z"
   },
   {
    "duration": 122,
    "start_time": "2022-05-22T21:21:24.429Z"
   },
   {
    "duration": 6,
    "start_time": "2022-05-22T21:22:35.701Z"
   },
   {
    "duration": 5,
    "start_time": "2022-05-22T21:22:50.970Z"
   },
   {
    "duration": 6,
    "start_time": "2022-05-22T21:22:58.272Z"
   },
   {
    "duration": 4,
    "start_time": "2022-05-22T21:23:24.905Z"
   },
   {
    "duration": 12,
    "start_time": "2022-05-22T21:24:22.635Z"
   },
   {
    "duration": 10,
    "start_time": "2022-05-22T21:24:28.112Z"
   },
   {
    "duration": 4,
    "start_time": "2022-05-22T21:24:38.163Z"
   },
   {
    "duration": 3,
    "start_time": "2022-05-22T21:26:23.842Z"
   },
   {
    "duration": 3,
    "start_time": "2022-05-22T21:26:35.544Z"
   },
   {
    "duration": 1343,
    "start_time": "2022-05-22T21:26:58.846Z"
   },
   {
    "duration": 7,
    "start_time": "2022-05-22T21:27:50.703Z"
   },
   {
    "duration": 6,
    "start_time": "2022-05-22T21:28:05.480Z"
   },
   {
    "duration": 4,
    "start_time": "2022-05-22T21:28:26.203Z"
   },
   {
    "duration": 1342,
    "start_time": "2022-05-22T21:28:28.803Z"
   },
   {
    "duration": 4,
    "start_time": "2022-05-22T21:28:53.118Z"
   },
   {
    "duration": 5,
    "start_time": "2022-05-22T21:28:53.476Z"
   },
   {
    "duration": 25,
    "start_time": "2022-05-22T21:28:54.836Z"
   },
   {
    "duration": 4,
    "start_time": "2022-05-22T21:29:09.386Z"
   },
   {
    "duration": 5,
    "start_time": "2022-05-22T21:29:09.790Z"
   },
   {
    "duration": 930,
    "start_time": "2022-05-22T21:29:10.854Z"
   },
   {
    "duration": 3,
    "start_time": "2022-05-22T21:30:15.199Z"
   },
   {
    "duration": 48,
    "start_time": "2022-05-22T21:30:15.827Z"
   },
   {
    "duration": 3,
    "start_time": "2022-05-22T21:30:58.798Z"
   },
   {
    "duration": 85,
    "start_time": "2022-05-22T21:31:00.044Z"
   },
   {
    "duration": 3,
    "start_time": "2022-05-22T21:32:06.077Z"
   },
   {
    "duration": 3,
    "start_time": "2022-05-22T21:32:10.779Z"
   },
   {
    "duration": 101,
    "start_time": "2022-05-22T21:32:11.231Z"
   },
   {
    "duration": 4,
    "start_time": "2022-05-22T21:32:48.546Z"
   },
   {
    "duration": 48,
    "start_time": "2022-05-22T21:32:52.567Z"
   },
   {
    "duration": 4,
    "start_time": "2022-05-22T21:33:08.660Z"
   },
   {
    "duration": 23,
    "start_time": "2022-05-22T21:33:09.272Z"
   },
   {
    "duration": 3,
    "start_time": "2022-05-22T21:33:32.752Z"
   },
   {
    "duration": 47,
    "start_time": "2022-05-22T21:33:33.079Z"
   },
   {
    "duration": 4,
    "start_time": "2022-05-22T21:35:19.655Z"
   },
   {
    "duration": 67,
    "start_time": "2022-05-22T21:35:20.270Z"
   },
   {
    "duration": 3,
    "start_time": "2022-05-22T22:29:28.748Z"
   },
   {
    "duration": 34,
    "start_time": "2022-05-22T22:29:32.990Z"
   },
   {
    "duration": 29,
    "start_time": "2022-05-22T22:30:40.147Z"
   },
   {
    "duration": 28,
    "start_time": "2022-05-22T22:30:40.774Z"
   },
   {
    "duration": 3,
    "start_time": "2022-05-22T22:31:44.436Z"
   },
   {
    "duration": 33,
    "start_time": "2022-05-22T22:31:44.958Z"
   },
   {
    "duration": 3,
    "start_time": "2022-05-22T22:32:06.722Z"
   },
   {
    "duration": 42,
    "start_time": "2022-05-22T22:32:07.305Z"
   },
   {
    "duration": 3,
    "start_time": "2022-05-22T22:33:11.078Z"
   },
   {
    "duration": 40,
    "start_time": "2022-05-22T22:33:11.681Z"
   },
   {
    "duration": 3,
    "start_time": "2022-05-22T22:33:27.073Z"
   },
   {
    "duration": 815,
    "start_time": "2022-05-22T22:33:27.599Z"
   },
   {
    "duration": 4,
    "start_time": "2022-05-22T22:33:43.184Z"
   },
   {
    "duration": 1537,
    "start_time": "2022-05-22T22:33:43.703Z"
   },
   {
    "duration": 4,
    "start_time": "2022-05-22T22:34:31.448Z"
   },
   {
    "duration": 15,
    "start_time": "2022-05-22T22:34:31.907Z"
   },
   {
    "duration": 2,
    "start_time": "2022-05-22T22:35:39.323Z"
   },
   {
    "duration": 1289,
    "start_time": "2022-05-22T22:36:30.062Z"
   },
   {
    "duration": 37,
    "start_time": "2022-05-22T22:36:31.353Z"
   },
   {
    "duration": 12,
    "start_time": "2022-05-22T22:36:31.391Z"
   },
   {
    "duration": 10,
    "start_time": "2022-05-22T22:36:31.405Z"
   },
   {
    "duration": 11,
    "start_time": "2022-05-22T22:36:31.426Z"
   },
   {
    "duration": 10,
    "start_time": "2022-05-22T22:36:31.438Z"
   },
   {
    "duration": 11,
    "start_time": "2022-05-22T22:36:31.449Z"
   },
   {
    "duration": 4,
    "start_time": "2022-05-22T22:36:31.461Z"
   },
   {
    "duration": 16,
    "start_time": "2022-05-22T22:36:31.466Z"
   },
   {
    "duration": 298,
    "start_time": "2022-05-22T22:36:31.485Z"
   },
   {
    "duration": 310,
    "start_time": "2022-05-22T22:36:31.784Z"
   },
   {
    "duration": 173,
    "start_time": "2022-05-22T22:36:32.096Z"
   },
   {
    "duration": 290,
    "start_time": "2022-05-22T22:36:32.270Z"
   },
   {
    "duration": 4,
    "start_time": "2022-05-22T22:36:32.561Z"
   },
   {
    "duration": 17,
    "start_time": "2022-05-22T22:36:32.567Z"
   },
   {
    "duration": 3,
    "start_time": "2022-05-22T22:36:32.586Z"
   },
   {
    "duration": 5,
    "start_time": "2022-05-22T22:36:32.591Z"
   },
   {
    "duration": 5,
    "start_time": "2022-05-22T22:36:32.597Z"
   },
   {
    "duration": 85,
    "start_time": "2022-05-22T22:36:32.626Z"
   },
   {
    "duration": 12,
    "start_time": "2022-05-22T22:36:32.713Z"
   },
   {
    "duration": 8,
    "start_time": "2022-05-22T22:36:32.726Z"
   },
   {
    "duration": 17,
    "start_time": "2022-05-22T22:36:32.735Z"
   },
   {
    "duration": 102,
    "start_time": "2022-05-22T22:36:32.831Z"
   },
   {
    "duration": 6,
    "start_time": "2022-05-22T22:36:32.935Z"
   },
   {
    "duration": 7,
    "start_time": "2022-05-22T22:36:32.942Z"
   },
   {
    "duration": 8,
    "start_time": "2022-05-22T22:36:32.951Z"
   },
   {
    "duration": 6,
    "start_time": "2022-05-22T22:36:32.960Z"
   },
   {
    "duration": 110,
    "start_time": "2022-05-22T22:36:32.969Z"
   },
   {
    "duration": 6,
    "start_time": "2022-05-22T22:36:33.081Z"
   },
   {
    "duration": 4,
    "start_time": "2022-05-22T22:36:33.088Z"
   },
   {
    "duration": 6,
    "start_time": "2022-05-22T22:36:33.094Z"
   },
   {
    "duration": 6,
    "start_time": "2022-05-22T22:36:33.101Z"
   },
   {
    "duration": 6,
    "start_time": "2022-05-22T22:36:33.109Z"
   },
   {
    "duration": 13051,
    "start_time": "2022-05-22T22:36:33.126Z"
   },
   {
    "duration": 51,
    "start_time": "2022-05-22T22:36:46.178Z"
   },
   {
    "duration": 3,
    "start_time": "2022-05-22T22:36:46.231Z"
   },
   {
    "duration": 6,
    "start_time": "2022-05-22T22:36:46.235Z"
   },
   {
    "duration": 2428,
    "start_time": "2022-05-22T22:36:46.243Z"
   },
   {
    "duration": 5,
    "start_time": "2022-05-22T22:36:48.673Z"
   },
   {
    "duration": 5,
    "start_time": "2022-05-22T22:36:48.679Z"
   },
   {
    "duration": 11,
    "start_time": "2022-05-22T22:36:48.685Z"
   },
   {
    "duration": 654,
    "start_time": "2022-05-22T22:36:48.698Z"
   },
   {
    "duration": 77,
    "start_time": "2022-05-22T22:36:49.353Z"
   },
   {
    "duration": 5,
    "start_time": "2022-05-22T22:36:49.431Z"
   },
   {
    "duration": 6,
    "start_time": "2022-05-22T22:36:49.438Z"
   },
   {
    "duration": 5,
    "start_time": "2022-05-22T22:36:49.445Z"
   },
   {
    "duration": 16,
    "start_time": "2022-05-22T22:36:49.451Z"
   },
   {
    "duration": 2,
    "start_time": "2022-05-22T22:36:49.469Z"
   },
   {
    "duration": 7,
    "start_time": "2022-05-22T22:36:49.472Z"
   },
   {
    "duration": 1418,
    "start_time": "2022-05-22T22:36:49.481Z"
   },
   {
    "duration": 3,
    "start_time": "2022-05-22T22:36:50.901Z"
   },
   {
    "duration": 22,
    "start_time": "2022-05-22T22:36:50.906Z"
   }
  ],
  "kernelspec": {
   "display_name": "Python 3",
   "language": "python",
   "name": "python3"
  },
  "language_info": {
   "codemirror_mode": {
    "name": "ipython",
    "version": 3
   },
   "file_extension": ".py",
   "mimetype": "text/x-python",
   "name": "python",
   "nbconvert_exporter": "python",
   "pygments_lexer": "ipython3",
   "version": "3.8.8"
  },
  "toc": {
   "base_numbering": 1,
   "nav_menu": {},
   "number_sections": true,
   "sideBar": true,
   "skip_h1_title": true,
   "title_cell": "Содержание",
   "title_sidebar": "Contents",
   "toc_cell": true,
   "toc_position": {
    "height": "calc(100% - 180px)",
    "left": "10px",
    "top": "150px",
    "width": "289.6px"
   },
   "toc_section_display": true,
   "toc_window_display": false
  }
 },
 "nbformat": 4,
 "nbformat_minor": 4
}
