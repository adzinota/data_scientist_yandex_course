{
 "cells": [
  {
   "cell_type": "markdown",
   "metadata": {},
   "source": [
    "# Определение перспективного тарифа для телеком-компании\n",
    "**Описание проекта**  \n",
    "Вы аналитик компании «Мегалайн» — федерального оператора сотовой связи. Клиентам предлагают два тарифных плана: «Смарт» и «Ультра». Чтобы скорректировать рекламный бюджет, коммерческий департамент хочет понять, какой тариф приносит больше денег.  \n",
    "Вам предстоит сделать предварительный анализ тарифов на небольшой выборке клиентов. В вашем распоряжении данные 500 пользователей «Мегалайна»: кто они, откуда, каким тарифом пользуются, сколько звонков и сообщений каждый отправил за 2018 год. Нужно проанализировать поведение клиентов и сделать вывод — какой тариф лучше.\n",
    "\n",
    "**Описание тарифов**  \n",
    "\n",
    "**_Тариф «Смарт»_**  \n",
    "* Ежемесячная плата: 550 рублей\n",
    "* Включено 500 минут разговора, 50 сообщений и 15 Гб интернет-трафика\n",
    "* Стоимость услуг сверх тарифного пакета: \n",
    "    1. минута разговора: 3 рубля («Мегалайн» всегда округляет вверх значения минут и мегабайтов. Если пользователь проговорил всего 1 секунду, в тарифе засчитывается целая минута); \n",
    "    2. сообщение: 3 рубля; 3. 1 Гб интернет-трафика: 200 рублей.\n",
    "\n",
    "**_Тариф «Ультра»_**  \n",
    "* Ежемесячная плата: 1950 рублей\n",
    "* Включено 3000 минут разговора, 1000 сообщений и 30 Гб интернет-трафика\n",
    "* Стоимость услуг сверх тарифного пакета: \n",
    "    1. минута разговора: 1 рубль; \n",
    "    2. сообщение: 1 рубль; \n",
    "    3. 1 Гб интернет-трафика: 150 рублей.\n",
    "\n",
    "_Примечание:_  \n",
    "«Мегалайн» всегда округляет секунды до минут, а мегабайты — до гигабайт. Каждый звонок округляется отдельно: даже если он длился всего 1 секунду, будет засчитан как 1 минута.  \n",
    "Для веб-трафика отдельные сессии не считаются. Вместо этого общая сумма за месяц округляется в бо́льшую сторону. Если абонент использует 1025 мегабайт в этом месяце, с него возьмут плату за 2 гигабайта.  "
   ]
  },
  {
   "cell_type": "markdown",
   "metadata": {},
   "source": [
    "## Изучение данных из файла"
   ]
  },
  {
   "cell_type": "code",
   "execution_count": 1,
   "metadata": {},
   "outputs": [],
   "source": [
    "import pandas as pd\n",
    "import numpy as np\n",
    "from matplotlib import pyplot as plt\n",
    "from scipy import stats as st"
   ]
  },
  {
   "cell_type": "code",
   "execution_count": 2,
   "metadata": {},
   "outputs": [
    {
     "name": "stdout",
     "output_type": "stream",
     "text": [
      "<class 'pandas.core.frame.DataFrame'>\n",
      "RangeIndex: 202607 entries, 0 to 202606\n",
      "Data columns (total 4 columns):\n",
      "id           202607 non-null object\n",
      "call_date    202607 non-null object\n",
      "duration     202607 non-null float64\n",
      "user_id      202607 non-null int64\n",
      "dtypes: float64(1), int64(1), object(2)\n",
      "memory usage: 6.2+ MB\n"
     ]
    }
   ],
   "source": [
    "df_calls = pd.read_csv(\"/datasets/calls.csv\")\n",
    "df_calls.info()"
   ]
  },
  {
   "cell_type": "code",
   "execution_count": 3,
   "metadata": {},
   "outputs": [
    {
     "name": "stdout",
     "output_type": "stream",
     "text": [
      "<class 'pandas.core.frame.DataFrame'>\n",
      "RangeIndex: 149396 entries, 0 to 149395\n",
      "Data columns (total 5 columns):\n",
      "Unnamed: 0      149396 non-null int64\n",
      "id              149396 non-null object\n",
      "mb_used         149396 non-null float64\n",
      "session_date    149396 non-null object\n",
      "user_id         149396 non-null int64\n",
      "dtypes: float64(1), int64(2), object(2)\n",
      "memory usage: 5.7+ MB\n"
     ]
    }
   ],
   "source": [
    "df_internet = pd.read_csv(\"/datasets/internet.csv\")\n",
    "df_internet.info()"
   ]
  },
  {
   "cell_type": "code",
   "execution_count": 4,
   "metadata": {},
   "outputs": [
    {
     "name": "stdout",
     "output_type": "stream",
     "text": [
      "<class 'pandas.core.frame.DataFrame'>\n",
      "RangeIndex: 123036 entries, 0 to 123035\n",
      "Data columns (total 3 columns):\n",
      "id              123036 non-null object\n",
      "message_date    123036 non-null object\n",
      "user_id         123036 non-null int64\n",
      "dtypes: int64(1), object(2)\n",
      "memory usage: 2.8+ MB\n"
     ]
    }
   ],
   "source": [
    "df_messages = pd.read_csv(\"/datasets/messages.csv\")\n",
    "df_messages.info()"
   ]
  },
  {
   "cell_type": "code",
   "execution_count": 5,
   "metadata": {},
   "outputs": [
    {
     "name": "stdout",
     "output_type": "stream",
     "text": [
      "<class 'pandas.core.frame.DataFrame'>\n",
      "RangeIndex: 2 entries, 0 to 1\n",
      "Data columns (total 8 columns):\n",
      "messages_included        2 non-null int64\n",
      "mb_per_month_included    2 non-null int64\n",
      "minutes_included         2 non-null int64\n",
      "rub_monthly_fee          2 non-null int64\n",
      "rub_per_gb               2 non-null int64\n",
      "rub_per_message          2 non-null int64\n",
      "rub_per_minute           2 non-null int64\n",
      "tariff_name              2 non-null object\n",
      "dtypes: int64(7), object(1)\n",
      "memory usage: 256.0+ bytes\n"
     ]
    }
   ],
   "source": [
    "df_tariffs = pd.read_csv(\"/datasets/tariffs.csv\")\n",
    "df_tariffs.info()"
   ]
  },
  {
   "cell_type": "code",
   "execution_count": 6,
   "metadata": {},
   "outputs": [
    {
     "name": "stdout",
     "output_type": "stream",
     "text": [
      "<class 'pandas.core.frame.DataFrame'>\n",
      "RangeIndex: 500 entries, 0 to 499\n",
      "Data columns (total 8 columns):\n",
      "user_id       500 non-null int64\n",
      "age           500 non-null int64\n",
      "churn_date    38 non-null object\n",
      "city          500 non-null object\n",
      "first_name    500 non-null object\n",
      "last_name     500 non-null object\n",
      "reg_date      500 non-null object\n",
      "tariff        500 non-null object\n",
      "dtypes: int64(2), object(6)\n",
      "memory usage: 31.4+ KB\n"
     ]
    }
   ],
   "source": [
    "df_users = pd.read_csv(\"/datasets/users.csv\")\n",
    "df_users.info()"
   ]
  },
  {
   "cell_type": "code",
   "execution_count": 7,
   "metadata": {},
   "outputs": [
    {
     "data": {
      "text/html": [
       "<div>\n",
       "<style scoped>\n",
       "    .dataframe tbody tr th:only-of-type {\n",
       "        vertical-align: middle;\n",
       "    }\n",
       "\n",
       "    .dataframe tbody tr th {\n",
       "        vertical-align: top;\n",
       "    }\n",
       "\n",
       "    .dataframe thead th {\n",
       "        text-align: right;\n",
       "    }\n",
       "</style>\n",
       "<table border=\"1\" class=\"dataframe\">\n",
       "  <thead>\n",
       "    <tr style=\"text-align: right;\">\n",
       "      <th></th>\n",
       "      <th>id</th>\n",
       "      <th>call_date</th>\n",
       "      <th>duration</th>\n",
       "      <th>user_id</th>\n",
       "    </tr>\n",
       "  </thead>\n",
       "  <tbody>\n",
       "    <tr>\n",
       "      <td>0</td>\n",
       "      <td>1000_0</td>\n",
       "      <td>2018-07-25</td>\n",
       "      <td>0.00</td>\n",
       "      <td>1000</td>\n",
       "    </tr>\n",
       "    <tr>\n",
       "      <td>1</td>\n",
       "      <td>1000_1</td>\n",
       "      <td>2018-08-17</td>\n",
       "      <td>0.00</td>\n",
       "      <td>1000</td>\n",
       "    </tr>\n",
       "    <tr>\n",
       "      <td>2</td>\n",
       "      <td>1000_2</td>\n",
       "      <td>2018-06-11</td>\n",
       "      <td>2.85</td>\n",
       "      <td>1000</td>\n",
       "    </tr>\n",
       "    <tr>\n",
       "      <td>3</td>\n",
       "      <td>1000_3</td>\n",
       "      <td>2018-09-21</td>\n",
       "      <td>13.80</td>\n",
       "      <td>1000</td>\n",
       "    </tr>\n",
       "    <tr>\n",
       "      <td>4</td>\n",
       "      <td>1000_4</td>\n",
       "      <td>2018-12-15</td>\n",
       "      <td>5.18</td>\n",
       "      <td>1000</td>\n",
       "    </tr>\n",
       "  </tbody>\n",
       "</table>\n",
       "</div>"
      ],
      "text/plain": [
       "       id   call_date  duration  user_id\n",
       "0  1000_0  2018-07-25      0.00     1000\n",
       "1  1000_1  2018-08-17      0.00     1000\n",
       "2  1000_2  2018-06-11      2.85     1000\n",
       "3  1000_3  2018-09-21     13.80     1000\n",
       "4  1000_4  2018-12-15      5.18     1000"
      ]
     },
     "execution_count": 7,
     "metadata": {},
     "output_type": "execute_result"
    }
   ],
   "source": [
    "df_calls.head()"
   ]
  },
  {
   "cell_type": "code",
   "execution_count": 8,
   "metadata": {},
   "outputs": [
    {
     "data": {
      "text/html": [
       "<div>\n",
       "<style scoped>\n",
       "    .dataframe tbody tr th:only-of-type {\n",
       "        vertical-align: middle;\n",
       "    }\n",
       "\n",
       "    .dataframe tbody tr th {\n",
       "        vertical-align: top;\n",
       "    }\n",
       "\n",
       "    .dataframe thead th {\n",
       "        text-align: right;\n",
       "    }\n",
       "</style>\n",
       "<table border=\"1\" class=\"dataframe\">\n",
       "  <thead>\n",
       "    <tr style=\"text-align: right;\">\n",
       "      <th></th>\n",
       "      <th>Unnamed: 0</th>\n",
       "      <th>id</th>\n",
       "      <th>mb_used</th>\n",
       "      <th>session_date</th>\n",
       "      <th>user_id</th>\n",
       "    </tr>\n",
       "  </thead>\n",
       "  <tbody>\n",
       "    <tr>\n",
       "      <td>0</td>\n",
       "      <td>0</td>\n",
       "      <td>1000_0</td>\n",
       "      <td>112.95</td>\n",
       "      <td>2018-11-25</td>\n",
       "      <td>1000</td>\n",
       "    </tr>\n",
       "    <tr>\n",
       "      <td>1</td>\n",
       "      <td>1</td>\n",
       "      <td>1000_1</td>\n",
       "      <td>1052.81</td>\n",
       "      <td>2018-09-07</td>\n",
       "      <td>1000</td>\n",
       "    </tr>\n",
       "    <tr>\n",
       "      <td>2</td>\n",
       "      <td>2</td>\n",
       "      <td>1000_2</td>\n",
       "      <td>1197.26</td>\n",
       "      <td>2018-06-25</td>\n",
       "      <td>1000</td>\n",
       "    </tr>\n",
       "    <tr>\n",
       "      <td>3</td>\n",
       "      <td>3</td>\n",
       "      <td>1000_3</td>\n",
       "      <td>550.27</td>\n",
       "      <td>2018-08-22</td>\n",
       "      <td>1000</td>\n",
       "    </tr>\n",
       "    <tr>\n",
       "      <td>4</td>\n",
       "      <td>4</td>\n",
       "      <td>1000_4</td>\n",
       "      <td>302.56</td>\n",
       "      <td>2018-09-24</td>\n",
       "      <td>1000</td>\n",
       "    </tr>\n",
       "  </tbody>\n",
       "</table>\n",
       "</div>"
      ],
      "text/plain": [
       "   Unnamed: 0      id  mb_used session_date  user_id\n",
       "0           0  1000_0   112.95   2018-11-25     1000\n",
       "1           1  1000_1  1052.81   2018-09-07     1000\n",
       "2           2  1000_2  1197.26   2018-06-25     1000\n",
       "3           3  1000_3   550.27   2018-08-22     1000\n",
       "4           4  1000_4   302.56   2018-09-24     1000"
      ]
     },
     "execution_count": 8,
     "metadata": {},
     "output_type": "execute_result"
    }
   ],
   "source": [
    "df_internet.head()"
   ]
  },
  {
   "cell_type": "code",
   "execution_count": 9,
   "metadata": {},
   "outputs": [
    {
     "data": {
      "text/html": [
       "<div>\n",
       "<style scoped>\n",
       "    .dataframe tbody tr th:only-of-type {\n",
       "        vertical-align: middle;\n",
       "    }\n",
       "\n",
       "    .dataframe tbody tr th {\n",
       "        vertical-align: top;\n",
       "    }\n",
       "\n",
       "    .dataframe thead th {\n",
       "        text-align: right;\n",
       "    }\n",
       "</style>\n",
       "<table border=\"1\" class=\"dataframe\">\n",
       "  <thead>\n",
       "    <tr style=\"text-align: right;\">\n",
       "      <th></th>\n",
       "      <th>id</th>\n",
       "      <th>message_date</th>\n",
       "      <th>user_id</th>\n",
       "    </tr>\n",
       "  </thead>\n",
       "  <tbody>\n",
       "    <tr>\n",
       "      <td>0</td>\n",
       "      <td>1000_0</td>\n",
       "      <td>2018-06-27</td>\n",
       "      <td>1000</td>\n",
       "    </tr>\n",
       "    <tr>\n",
       "      <td>1</td>\n",
       "      <td>1000_1</td>\n",
       "      <td>2018-10-08</td>\n",
       "      <td>1000</td>\n",
       "    </tr>\n",
       "    <tr>\n",
       "      <td>2</td>\n",
       "      <td>1000_2</td>\n",
       "      <td>2018-08-04</td>\n",
       "      <td>1000</td>\n",
       "    </tr>\n",
       "    <tr>\n",
       "      <td>3</td>\n",
       "      <td>1000_3</td>\n",
       "      <td>2018-06-16</td>\n",
       "      <td>1000</td>\n",
       "    </tr>\n",
       "    <tr>\n",
       "      <td>4</td>\n",
       "      <td>1000_4</td>\n",
       "      <td>2018-12-05</td>\n",
       "      <td>1000</td>\n",
       "    </tr>\n",
       "  </tbody>\n",
       "</table>\n",
       "</div>"
      ],
      "text/plain": [
       "       id message_date  user_id\n",
       "0  1000_0   2018-06-27     1000\n",
       "1  1000_1   2018-10-08     1000\n",
       "2  1000_2   2018-08-04     1000\n",
       "3  1000_3   2018-06-16     1000\n",
       "4  1000_4   2018-12-05     1000"
      ]
     },
     "execution_count": 9,
     "metadata": {},
     "output_type": "execute_result"
    }
   ],
   "source": [
    "df_messages.head()"
   ]
  },
  {
   "cell_type": "code",
   "execution_count": 10,
   "metadata": {},
   "outputs": [
    {
     "data": {
      "text/html": [
       "<div>\n",
       "<style scoped>\n",
       "    .dataframe tbody tr th:only-of-type {\n",
       "        vertical-align: middle;\n",
       "    }\n",
       "\n",
       "    .dataframe tbody tr th {\n",
       "        vertical-align: top;\n",
       "    }\n",
       "\n",
       "    .dataframe thead th {\n",
       "        text-align: right;\n",
       "    }\n",
       "</style>\n",
       "<table border=\"1\" class=\"dataframe\">\n",
       "  <thead>\n",
       "    <tr style=\"text-align: right;\">\n",
       "      <th></th>\n",
       "      <th>messages_included</th>\n",
       "      <th>mb_per_month_included</th>\n",
       "      <th>minutes_included</th>\n",
       "      <th>rub_monthly_fee</th>\n",
       "      <th>rub_per_gb</th>\n",
       "      <th>rub_per_message</th>\n",
       "      <th>rub_per_minute</th>\n",
       "      <th>tariff_name</th>\n",
       "    </tr>\n",
       "  </thead>\n",
       "  <tbody>\n",
       "    <tr>\n",
       "      <td>0</td>\n",
       "      <td>50</td>\n",
       "      <td>15360</td>\n",
       "      <td>500</td>\n",
       "      <td>550</td>\n",
       "      <td>200</td>\n",
       "      <td>3</td>\n",
       "      <td>3</td>\n",
       "      <td>smart</td>\n",
       "    </tr>\n",
       "    <tr>\n",
       "      <td>1</td>\n",
       "      <td>1000</td>\n",
       "      <td>30720</td>\n",
       "      <td>3000</td>\n",
       "      <td>1950</td>\n",
       "      <td>150</td>\n",
       "      <td>1</td>\n",
       "      <td>1</td>\n",
       "      <td>ultra</td>\n",
       "    </tr>\n",
       "  </tbody>\n",
       "</table>\n",
       "</div>"
      ],
      "text/plain": [
       "   messages_included  mb_per_month_included  minutes_included  \\\n",
       "0                 50                  15360               500   \n",
       "1               1000                  30720              3000   \n",
       "\n",
       "   rub_monthly_fee  rub_per_gb  rub_per_message  rub_per_minute tariff_name  \n",
       "0              550         200                3               3       smart  \n",
       "1             1950         150                1               1       ultra  "
      ]
     },
     "execution_count": 10,
     "metadata": {},
     "output_type": "execute_result"
    }
   ],
   "source": [
    "df_tariffs.head()"
   ]
  },
  {
   "cell_type": "code",
   "execution_count": 11,
   "metadata": {},
   "outputs": [
    {
     "data": {
      "text/html": [
       "<div>\n",
       "<style scoped>\n",
       "    .dataframe tbody tr th:only-of-type {\n",
       "        vertical-align: middle;\n",
       "    }\n",
       "\n",
       "    .dataframe tbody tr th {\n",
       "        vertical-align: top;\n",
       "    }\n",
       "\n",
       "    .dataframe thead th {\n",
       "        text-align: right;\n",
       "    }\n",
       "</style>\n",
       "<table border=\"1\" class=\"dataframe\">\n",
       "  <thead>\n",
       "    <tr style=\"text-align: right;\">\n",
       "      <th></th>\n",
       "      <th>user_id</th>\n",
       "      <th>age</th>\n",
       "      <th>churn_date</th>\n",
       "      <th>city</th>\n",
       "      <th>first_name</th>\n",
       "      <th>last_name</th>\n",
       "      <th>reg_date</th>\n",
       "      <th>tariff</th>\n",
       "    </tr>\n",
       "  </thead>\n",
       "  <tbody>\n",
       "    <tr>\n",
       "      <td>0</td>\n",
       "      <td>1000</td>\n",
       "      <td>52</td>\n",
       "      <td>NaN</td>\n",
       "      <td>Краснодар</td>\n",
       "      <td>Рафаил</td>\n",
       "      <td>Верещагин</td>\n",
       "      <td>2018-05-25</td>\n",
       "      <td>ultra</td>\n",
       "    </tr>\n",
       "    <tr>\n",
       "      <td>1</td>\n",
       "      <td>1001</td>\n",
       "      <td>41</td>\n",
       "      <td>NaN</td>\n",
       "      <td>Москва</td>\n",
       "      <td>Иван</td>\n",
       "      <td>Ежов</td>\n",
       "      <td>2018-11-01</td>\n",
       "      <td>smart</td>\n",
       "    </tr>\n",
       "    <tr>\n",
       "      <td>2</td>\n",
       "      <td>1002</td>\n",
       "      <td>59</td>\n",
       "      <td>NaN</td>\n",
       "      <td>Стерлитамак</td>\n",
       "      <td>Евгений</td>\n",
       "      <td>Абрамович</td>\n",
       "      <td>2018-06-17</td>\n",
       "      <td>smart</td>\n",
       "    </tr>\n",
       "    <tr>\n",
       "      <td>3</td>\n",
       "      <td>1003</td>\n",
       "      <td>23</td>\n",
       "      <td>NaN</td>\n",
       "      <td>Москва</td>\n",
       "      <td>Белла</td>\n",
       "      <td>Белякова</td>\n",
       "      <td>2018-08-17</td>\n",
       "      <td>ultra</td>\n",
       "    </tr>\n",
       "    <tr>\n",
       "      <td>4</td>\n",
       "      <td>1004</td>\n",
       "      <td>68</td>\n",
       "      <td>NaN</td>\n",
       "      <td>Новокузнецк</td>\n",
       "      <td>Татьяна</td>\n",
       "      <td>Авдеенко</td>\n",
       "      <td>2018-05-14</td>\n",
       "      <td>ultra</td>\n",
       "    </tr>\n",
       "  </tbody>\n",
       "</table>\n",
       "</div>"
      ],
      "text/plain": [
       "   user_id  age churn_date         city first_name  last_name    reg_date  \\\n",
       "0     1000   52        NaN    Краснодар     Рафаил  Верещагин  2018-05-25   \n",
       "1     1001   41        NaN       Москва       Иван       Ежов  2018-11-01   \n",
       "2     1002   59        NaN  Стерлитамак    Евгений  Абрамович  2018-06-17   \n",
       "3     1003   23        NaN       Москва      Белла   Белякова  2018-08-17   \n",
       "4     1004   68        NaN  Новокузнецк    Татьяна   Авдеенко  2018-05-14   \n",
       "\n",
       "  tariff  \n",
       "0  ultra  \n",
       "1  smart  \n",
       "2  smart  \n",
       "3  ultra  \n",
       "4  ultra  "
      ]
     },
     "execution_count": 11,
     "metadata": {},
     "output_type": "execute_result"
    }
   ],
   "source": [
    "df_users.head()"
   ]
  },
  {
   "cell_type": "markdown",
   "metadata": {},
   "source": [
    "## Подготовка данных"
   ]
  },
  {
   "cell_type": "markdown",
   "metadata": {},
   "source": [
    "### Обработка пропусков и преобразование типов данных"
   ]
  },
  {
   "cell_type": "markdown",
   "metadata": {},
   "source": [
    "* Приведите данные к нужным типам;\n",
    "* Найдите и исправьте ошибки в данных, если они есть.\n",
    "  * Поясните, какие ошибки вы нашли и как их исправили. В данных вы найдёте звонки с нулевой продолжительностью. Это не ошибка: нулями обозначены пропущенные звонки, поэтому их не нужно удалять."
   ]
  },
  {
   "cell_type": "markdown",
   "metadata": {},
   "source": [
    "#### df_calls"
   ]
  },
  {
   "cell_type": "markdown",
   "metadata": {},
   "source": [
    "Посмотрим число пропусков в таблице df_calls"
   ]
  },
  {
   "cell_type": "code",
   "execution_count": 12,
   "metadata": {},
   "outputs": [
    {
     "data": {
      "text/plain": [
       "id           0\n",
       "call_date    0\n",
       "duration     0\n",
       "user_id      0\n",
       "dtype: int64"
      ]
     },
     "execution_count": 12,
     "metadata": {},
     "output_type": "execute_result"
    }
   ],
   "source": [
    "df_calls.isna().sum()"
   ]
  },
  {
   "cell_type": "markdown",
   "metadata": {},
   "source": [
    "Преобразуем значения столбца call_date в тип datetime"
   ]
  },
  {
   "cell_type": "code",
   "execution_count": 13,
   "metadata": {},
   "outputs": [
    {
     "data": {
      "text/plain": [
       "count         202607\n",
       "unique           365\n",
       "top       2018-12-31\n",
       "freq            1435\n",
       "Name: call_date, dtype: object"
      ]
     },
     "execution_count": 13,
     "metadata": {},
     "output_type": "execute_result"
    }
   ],
   "source": [
    "df_calls['call_date'].describe()"
   ]
  },
  {
   "cell_type": "code",
   "execution_count": 14,
   "metadata": {},
   "outputs": [
    {
     "data": {
      "text/plain": [
       "count                  202607\n",
       "unique                    365\n",
       "top       2018-12-31 00:00:00\n",
       "freq                     1435\n",
       "first     2018-01-01 00:00:00\n",
       "last      2018-12-31 00:00:00\n",
       "Name: call_date, dtype: object"
      ]
     },
     "execution_count": 14,
     "metadata": {},
     "output_type": "execute_result"
    }
   ],
   "source": [
    "df_calls['call_date'] = pd.to_datetime(df_calls['call_date'], format=\"%Y-%m-%d\")\n",
    "df_calls['call_date'].describe()"
   ]
  },
  {
   "cell_type": "markdown",
   "metadata": {},
   "source": [
    "Округлим значения продолжительности разговора в большую сторону"
   ]
  },
  {
   "cell_type": "code",
   "execution_count": 15,
   "metadata": {},
   "outputs": [
    {
     "data": {
      "text/plain": [
       "count    202607.000000\n",
       "mean          7.158198\n",
       "std           5.959173\n",
       "min           0.000000\n",
       "25%           2.000000\n",
       "50%           6.000000\n",
       "75%          11.000000\n",
       "max          38.000000\n",
       "Name: duration, dtype: float64"
      ]
     },
     "execution_count": 15,
     "metadata": {},
     "output_type": "execute_result"
    }
   ],
   "source": [
    "df_calls['duration'] = df_calls['duration'].apply(np.ceil).astype(int)\n",
    "df_calls['duration'].describe()"
   ]
  },
  {
   "cell_type": "markdown",
   "metadata": {},
   "source": [
    "#### df_internet"
   ]
  },
  {
   "cell_type": "code",
   "execution_count": 16,
   "metadata": {},
   "outputs": [
    {
     "data": {
      "text/plain": [
       "Unnamed: 0      0\n",
       "id              0\n",
       "mb_used         0\n",
       "session_date    0\n",
       "user_id         0\n",
       "dtype: int64"
      ]
     },
     "execution_count": 16,
     "metadata": {},
     "output_type": "execute_result"
    }
   ],
   "source": [
    "df_internet.isna().sum()"
   ]
  },
  {
   "cell_type": "markdown",
   "metadata": {},
   "source": [
    "Изучим столбец Unnamed: 0"
   ]
  },
  {
   "cell_type": "code",
   "execution_count": 17,
   "metadata": {},
   "outputs": [
    {
     "data": {
      "text/plain": [
       "count    149396.000000\n",
       "mean      74697.500000\n",
       "std       43127.054745\n",
       "min           0.000000\n",
       "25%       37348.750000\n",
       "50%       74697.500000\n",
       "75%      112046.250000\n",
       "max      149395.000000\n",
       "Name: Unnamed: 0, dtype: float64"
      ]
     },
     "execution_count": 17,
     "metadata": {},
     "output_type": "execute_result"
    }
   ],
   "source": [
    "df_internet['Unnamed: 0'].describe()"
   ]
  },
  {
   "cell_type": "code",
   "execution_count": 18,
   "metadata": {},
   "outputs": [
    {
     "data": {
      "text/plain": [
       "0"
      ]
     },
     "execution_count": 18,
     "metadata": {},
     "output_type": "execute_result"
    }
   ],
   "source": [
    "len(df_calls[df_calls['id'].isna()])"
   ]
  },
  {
   "cell_type": "markdown",
   "metadata": {},
   "source": [
    "Кажется, этот стобец дублирует номера строк датафрейма, можно его удалить"
   ]
  },
  {
   "cell_type": "code",
   "execution_count": 19,
   "metadata": {},
   "outputs": [],
   "source": [
    "df_internet = df_internet.drop(columns = ['Unnamed: 0'],axis = 1)"
   ]
  },
  {
   "cell_type": "code",
   "execution_count": 20,
   "metadata": {},
   "outputs": [
    {
     "name": "stdout",
     "output_type": "stream",
     "text": [
      "<class 'pandas.core.frame.DataFrame'>\n",
      "RangeIndex: 149396 entries, 0 to 149395\n",
      "Data columns (total 4 columns):\n",
      "id              149396 non-null object\n",
      "mb_used         149396 non-null float64\n",
      "session_date    149396 non-null object\n",
      "user_id         149396 non-null int64\n",
      "dtypes: float64(1), int64(1), object(2)\n",
      "memory usage: 4.6+ MB\n"
     ]
    }
   ],
   "source": [
    "df_internet.info()"
   ]
  },
  {
   "cell_type": "markdown",
   "metadata": {},
   "source": [
    "Преобразуем значения столбца session_date в тип datetime"
   ]
  },
  {
   "cell_type": "code",
   "execution_count": 21,
   "metadata": {},
   "outputs": [
    {
     "data": {
      "text/plain": [
       "count         149396\n",
       "unique           365\n",
       "top       2018-12-31\n",
       "freq            1057\n",
       "Name: session_date, dtype: object"
      ]
     },
     "execution_count": 21,
     "metadata": {},
     "output_type": "execute_result"
    }
   ],
   "source": [
    "df_internet['session_date'].describe()"
   ]
  },
  {
   "cell_type": "code",
   "execution_count": 22,
   "metadata": {},
   "outputs": [
    {
     "data": {
      "text/plain": [
       "count                  149396\n",
       "unique                    365\n",
       "top       2018-12-31 00:00:00\n",
       "freq                     1057\n",
       "first     2018-01-01 00:00:00\n",
       "last      2018-12-31 00:00:00\n",
       "Name: session_date, dtype: object"
      ]
     },
     "execution_count": 22,
     "metadata": {},
     "output_type": "execute_result"
    }
   ],
   "source": [
    "df_internet['session_date'] = pd.to_datetime(df_internet['session_date'], format=\"%Y-%m-%d\")\n",
    "df_internet['session_date'].describe()"
   ]
  },
  {
   "cell_type": "code",
   "execution_count": 23,
   "metadata": {},
   "outputs": [
    {
     "data": {
      "text/plain": [
       "count    149396.000000\n",
       "mean        370.192426\n",
       "std         278.300951\n",
       "min           0.000000\n",
       "25%         138.187500\n",
       "50%         348.015000\n",
       "75%         559.552500\n",
       "max        1724.830000\n",
       "Name: mb_used, dtype: float64"
      ]
     },
     "execution_count": 23,
     "metadata": {},
     "output_type": "execute_result"
    }
   ],
   "source": [
    "df_internet['mb_used'].describe()"
   ]
  },
  {
   "cell_type": "markdown",
   "metadata": {},
   "source": [
    "Выясним общий процент нулевых интернет-сессий"
   ]
  },
  {
   "cell_type": "code",
   "execution_count": 24,
   "metadata": {},
   "outputs": [
    {
     "data": {
      "text/plain": [
       "13.12"
      ]
     },
     "execution_count": 24,
     "metadata": {},
     "output_type": "execute_result"
    }
   ],
   "source": [
    "(100 * df_internet.loc[df_internet['mb_used'] == 0, 'mb_used'].count() / df_internet['mb_used'].count()).round(2)"
   ]
  },
  {
   "cell_type": "markdown",
   "metadata": {},
   "source": [
    "Составим сводную таблицу с количеством нулевых сессий, общим числом сессий и их соотношением"
   ]
  },
  {
   "cell_type": "code",
   "execution_count": 25,
   "metadata": {},
   "outputs": [
    {
     "data": {
      "text/html": [
       "<div>\n",
       "<style scoped>\n",
       "    .dataframe tbody tr th:only-of-type {\n",
       "        vertical-align: middle;\n",
       "    }\n",
       "\n",
       "    .dataframe tbody tr th {\n",
       "        vertical-align: top;\n",
       "    }\n",
       "\n",
       "    .dataframe thead th {\n",
       "        text-align: right;\n",
       "    }\n",
       "</style>\n",
       "<table border=\"1\" class=\"dataframe\">\n",
       "  <thead>\n",
       "    <tr style=\"text-align: right;\">\n",
       "      <th></th>\n",
       "      <th>user_id</th>\n",
       "      <th>mb_null</th>\n",
       "      <th>mb_used</th>\n",
       "      <th>ratio</th>\n",
       "    </tr>\n",
       "  </thead>\n",
       "  <tbody>\n",
       "    <tr>\n",
       "      <td>0</td>\n",
       "      <td>1000</td>\n",
       "      <td>14</td>\n",
       "      <td>211</td>\n",
       "      <td>6.64</td>\n",
       "    </tr>\n",
       "    <tr>\n",
       "      <td>1</td>\n",
       "      <td>1001</td>\n",
       "      <td>14</td>\n",
       "      <td>96</td>\n",
       "      <td>14.58</td>\n",
       "    </tr>\n",
       "    <tr>\n",
       "      <td>2</td>\n",
       "      <td>1002</td>\n",
       "      <td>72</td>\n",
       "      <td>369</td>\n",
       "      <td>19.51</td>\n",
       "    </tr>\n",
       "    <tr>\n",
       "      <td>3</td>\n",
       "      <td>1003</td>\n",
       "      <td>2</td>\n",
       "      <td>104</td>\n",
       "      <td>1.92</td>\n",
       "    </tr>\n",
       "    <tr>\n",
       "      <td>4</td>\n",
       "      <td>1004</td>\n",
       "      <td>22</td>\n",
       "      <td>300</td>\n",
       "      <td>7.33</td>\n",
       "    </tr>\n",
       "  </tbody>\n",
       "</table>\n",
       "</div>"
      ],
      "text/plain": [
       "   user_id  mb_null  mb_used  ratio\n",
       "0     1000       14      211   6.64\n",
       "1     1001       14       96  14.58\n",
       "2     1002       72      369  19.51\n",
       "3     1003        2      104   1.92\n",
       "4     1004       22      300   7.33"
      ]
     },
     "execution_count": 25,
     "metadata": {},
     "output_type": "execute_result"
    }
   ],
   "source": [
    "df_internet.loc[df_internet['mb_used'] == 0, 'mb_null'] = True\n",
    "\n",
    "null_ratio = df_internet.pivot_table(\n",
    "    index='user_id',\n",
    "    values='mb_null',\n",
    "    aggfunc='count').reset_index()\\\n",
    ".merge(df_internet.pivot_table(\n",
    "    index='user_id',\n",
    "    values='mb_used',\n",
    "    aggfunc='count').reset_index(),\n",
    "       on=['user_id'], how='outer')\n",
    "\n",
    "null_ratio['ratio'] = (100 * null_ratio['mb_null'] / null_ratio['mb_used']).round(2)\n",
    "\n",
    "null_ratio.head()"
   ]
  },
  {
   "cell_type": "markdown",
   "metadata": {},
   "source": [
    "Получим сводную статистику по столбцу"
   ]
  },
  {
   "cell_type": "code",
   "execution_count": 26,
   "metadata": {},
   "outputs": [
    {
     "data": {
      "text/plain": [
       "count    497.00\n",
       "mean      12.58\n",
       "std        5.69\n",
       "min        0.00\n",
       "25%        6.17\n",
       "50%       14.61\n",
       "75%       16.85\n",
       "max       25.00\n",
       "Name: ratio, dtype: float64"
      ]
     },
     "execution_count": 26,
     "metadata": {},
     "output_type": "execute_result"
    }
   ],
   "source": [
    "null_ratio['ratio'].describe().round(2)"
   ]
  },
  {
   "cell_type": "code",
   "execution_count": 27,
   "metadata": {},
   "outputs": [
    {
     "data": {
      "image/png": "[encoded data removed]",
      "text/plain": [
       "<Figure size 1080x360 with 1 Axes>"
      ]
     },
     "metadata": {
      "needs_background": "light"
     },
     "output_type": "display_data"
    }
   ],
   "source": [
    "null_ratio['ratio'].plot(kind='hist', bins=100, grid=True, figsize=(15,5))\n",
    "\n",
    "plt.title('Соотношение нулевых интернет-сессий и общего числа сессий для каждого пользователя')\n",
    "plt.ylabel('Количество')\n",
    "plt.xlabel('Процент')\n",
    "plt.show()"
   ]
  },
  {
   "cell_type": "code",
   "execution_count": 28,
   "metadata": {},
   "outputs": [
    {
     "data": {
      "text/plain": [
       "<matplotlib.axes._subplots.AxesSubplot at 0x7f5814c19ed0>"
      ]
     },
     "execution_count": 28,
     "metadata": {},
     "output_type": "execute_result"
    },
    {
     "data": {
      "image/png": "[encoded data removed]",
      "text/plain": [
       "<Figure size 1080x360 with 1 Axes>"
      ]
     },
     "metadata": {
      "needs_background": "light"
     },
     "output_type": "display_data"
    }
   ],
   "source": [
    "null_ratio.plot(kind='scatter', x='mb_null', y='mb_used', grid=True, figsize=(15,5))"
   ]
  },
  {
   "cell_type": "markdown",
   "metadata": {},
   "source": [
    "На графиках очень смущает четкое разделение на две \"кучи\", причем у обеих \"кучек\" нормальное распределение - видимо, у их происхождения разные причины \n",
    "Возможно, первая кучка это исходящий трафик, а вторая - нетарифицируемый входящий (карты-навигаторы, мессенджеры и т.д)?"
   ]
  },
  {
   "cell_type": "markdown",
   "metadata": {},
   "source": [
    "#### df_messages"
   ]
  },
  {
   "cell_type": "code",
   "execution_count": 29,
   "metadata": {},
   "outputs": [
    {
     "data": {
      "text/plain": [
       "id              0\n",
       "message_date    0\n",
       "user_id         0\n",
       "dtype: int64"
      ]
     },
     "execution_count": 29,
     "metadata": {},
     "output_type": "execute_result"
    }
   ],
   "source": [
    "df_messages.isna().sum()"
   ]
  },
  {
   "cell_type": "markdown",
   "metadata": {},
   "source": [
    "Преобразуем значения столбца message_date в тип datetime"
   ]
  },
  {
   "cell_type": "code",
   "execution_count": 30,
   "metadata": {},
   "outputs": [
    {
     "data": {
      "text/plain": [
       "count         123036\n",
       "unique           364\n",
       "top       2018-12-31\n",
       "freq             859\n",
       "Name: message_date, dtype: object"
      ]
     },
     "execution_count": 30,
     "metadata": {},
     "output_type": "execute_result"
    }
   ],
   "source": [
    "df_messages['message_date'].describe()"
   ]
  },
  {
   "cell_type": "code",
   "execution_count": 31,
   "metadata": {},
   "outputs": [
    {
     "data": {
      "text/plain": [
       "0"
      ]
     },
     "execution_count": 31,
     "metadata": {},
     "output_type": "execute_result"
    }
   ],
   "source": [
    "len(df_messages[df_messages['message_date'].isna()])"
   ]
  },
  {
   "cell_type": "code",
   "execution_count": 32,
   "metadata": {},
   "outputs": [
    {
     "data": {
      "text/plain": [
       "count                  123036\n",
       "unique                    364\n",
       "top       2018-12-31 00:00:00\n",
       "freq                      859\n",
       "first     2018-01-02 00:00:00\n",
       "last      2018-12-31 00:00:00\n",
       "Name: message_date, dtype: object"
      ]
     },
     "execution_count": 32,
     "metadata": {},
     "output_type": "execute_result"
    }
   ],
   "source": [
    "df_messages['message_date'] = pd.to_datetime(df_messages['message_date'], format=\"%Y-%m-%d\")\n",
    "df_messages['message_date'].describe()"
   ]
  },
  {
   "cell_type": "markdown",
   "metadata": {},
   "source": [
    "#### df_tariffs"
   ]
  },
  {
   "cell_type": "code",
   "execution_count": 33,
   "metadata": {},
   "outputs": [
    {
     "data": {
      "text/plain": [
       "messages_included        0\n",
       "mb_per_month_included    0\n",
       "minutes_included         0\n",
       "rub_monthly_fee          0\n",
       "rub_per_gb               0\n",
       "rub_per_message          0\n",
       "rub_per_minute           0\n",
       "tariff_name              0\n",
       "dtype: int64"
      ]
     },
     "execution_count": 33,
     "metadata": {},
     "output_type": "execute_result"
    }
   ],
   "source": [
    "df_tariffs.isna().sum()"
   ]
  },
  {
   "cell_type": "markdown",
   "metadata": {},
   "source": [
    "#### df_users"
   ]
  },
  {
   "cell_type": "code",
   "execution_count": 34,
   "metadata": {},
   "outputs": [
    {
     "data": {
      "text/plain": [
       "user_id         0\n",
       "age             0\n",
       "churn_date    462\n",
       "city            0\n",
       "first_name      0\n",
       "last_name       0\n",
       "reg_date        0\n",
       "tariff          0\n",
       "dtype: int64"
      ]
     },
     "execution_count": 34,
     "metadata": {},
     "output_type": "execute_result"
    }
   ],
   "source": [
    "df_users.isna().sum()"
   ]
  },
  {
   "cell_type": "markdown",
   "metadata": {},
   "source": [
    "Преобразуем значения столбцов churn_date и reg_date в тип datetime"
   ]
  },
  {
   "cell_type": "code",
   "execution_count": 35,
   "metadata": {},
   "outputs": [
    {
     "data": {
      "text/plain": [
       "count             38\n",
       "unique            33\n",
       "top       2018-10-03\n",
       "freq               2\n",
       "Name: churn_date, dtype: object"
      ]
     },
     "execution_count": 35,
     "metadata": {},
     "output_type": "execute_result"
    }
   ],
   "source": [
    "df_users['churn_date'].describe()"
   ]
  },
  {
   "cell_type": "code",
   "execution_count": 36,
   "metadata": {},
   "outputs": [
    {
     "data": {
      "text/plain": [
       "count                      38\n",
       "unique                     33\n",
       "top       2018-10-03 00:00:00\n",
       "freq                        2\n",
       "first     2018-08-17 00:00:00\n",
       "last      2018-12-30 00:00:00\n",
       "Name: churn_date, dtype: object"
      ]
     },
     "execution_count": 36,
     "metadata": {},
     "output_type": "execute_result"
    }
   ],
   "source": [
    "df_users['churn_date'] = pd.to_datetime(df_users['churn_date'], format=\"%Y-%m-%d\")\n",
    "df_users['churn_date'].describe()"
   ]
  },
  {
   "cell_type": "code",
   "execution_count": 37,
   "metadata": {},
   "outputs": [
    {
     "data": {
      "text/plain": [
       "count            500\n",
       "unique           270\n",
       "top       2018-05-28\n",
       "freq               8\n",
       "Name: reg_date, dtype: object"
      ]
     },
     "execution_count": 37,
     "metadata": {},
     "output_type": "execute_result"
    }
   ],
   "source": [
    "df_users['reg_date'].describe()"
   ]
  },
  {
   "cell_type": "code",
   "execution_count": 38,
   "metadata": {},
   "outputs": [
    {
     "data": {
      "text/plain": [
       "count                     500\n",
       "unique                    270\n",
       "top       2018-05-28 00:00:00\n",
       "freq                        8\n",
       "first     2018-01-01 00:00:00\n",
       "last      2018-12-31 00:00:00\n",
       "Name: reg_date, dtype: object"
      ]
     },
     "execution_count": 38,
     "metadata": {},
     "output_type": "execute_result"
    }
   ],
   "source": [
    "df_users['reg_date'] = pd.to_datetime(df_users['reg_date'], format=\"%Y-%m-%d\")\n",
    "df_users['reg_date'].describe()"
   ]
  },
  {
   "cell_type": "markdown",
   "metadata": {},
   "source": [
    "Для единообразия переименуем столбец tariff"
   ]
  },
  {
   "cell_type": "code",
   "execution_count": 39,
   "metadata": {},
   "outputs": [],
   "source": [
    "df_users = df_users.rename(columns={'tariff':'tariff_name'})"
   ]
  },
  {
   "cell_type": "markdown",
   "metadata": {},
   "source": [
    "### Расчеты"
   ]
  },
  {
   "cell_type": "markdown",
   "metadata": {},
   "source": [
    "Посчитайте для каждого пользователя:\n",
    "* количество сделанных звонков и израсходованных минут разговора по месяцам\n",
    "* количество отправленных сообщений по месяцам\n",
    "* объем израсходованного интернет-трафика по месяцам\n",
    "* помесячную выручку с каждого пользователя (вычтите бесплатный лимит из суммарного количества звонков, сообщений и интернет-трафика; остаток умножьте на значение из тарифного плана; прибавьте абонентскую плату, соответствующую тарифному плану)"
   ]
  },
  {
   "cell_type": "markdown",
   "metadata": {},
   "source": [
    "#### Количество звонков и минут"
   ]
  },
  {
   "cell_type": "code",
   "execution_count": 40,
   "metadata": {},
   "outputs": [],
   "source": [
    "df_calls['month'] =  df_calls['call_date'].dt.month"
   ]
  },
  {
   "cell_type": "code",
   "execution_count": 41,
   "metadata": {},
   "outputs": [],
   "source": [
    "df_user_calls = df_calls\\\n",
    "                .groupby(['user_id', 'month'])\\\n",
    "                .agg({'duration':'sum', 'id':'count'})\\\n",
    "                .reset_index()\\\n",
    "                .rename(columns={'id':'total_calls_count'})"
   ]
  },
  {
   "cell_type": "code",
   "execution_count": 42,
   "metadata": {},
   "outputs": [
    {
     "data": {
      "text/html": [
       "<div>\n",
       "<style scoped>\n",
       "    .dataframe tbody tr th:only-of-type {\n",
       "        vertical-align: middle;\n",
       "    }\n",
       "\n",
       "    .dataframe tbody tr th {\n",
       "        vertical-align: top;\n",
       "    }\n",
       "\n",
       "    .dataframe thead th {\n",
       "        text-align: right;\n",
       "    }\n",
       "</style>\n",
       "<table border=\"1\" class=\"dataframe\">\n",
       "  <thead>\n",
       "    <tr style=\"text-align: right;\">\n",
       "      <th></th>\n",
       "      <th>user_id</th>\n",
       "      <th>month</th>\n",
       "      <th>duration</th>\n",
       "      <th>total_calls_count</th>\n",
       "    </tr>\n",
       "  </thead>\n",
       "  <tbody>\n",
       "    <tr>\n",
       "      <td>0</td>\n",
       "      <td>1000</td>\n",
       "      <td>5</td>\n",
       "      <td>159</td>\n",
       "      <td>22</td>\n",
       "    </tr>\n",
       "    <tr>\n",
       "      <td>1</td>\n",
       "      <td>1000</td>\n",
       "      <td>6</td>\n",
       "      <td>172</td>\n",
       "      <td>43</td>\n",
       "    </tr>\n",
       "    <tr>\n",
       "      <td>2</td>\n",
       "      <td>1000</td>\n",
       "      <td>7</td>\n",
       "      <td>340</td>\n",
       "      <td>47</td>\n",
       "    </tr>\n",
       "    <tr>\n",
       "      <td>3</td>\n",
       "      <td>1000</td>\n",
       "      <td>8</td>\n",
       "      <td>408</td>\n",
       "      <td>52</td>\n",
       "    </tr>\n",
       "    <tr>\n",
       "      <td>4</td>\n",
       "      <td>1000</td>\n",
       "      <td>9</td>\n",
       "      <td>466</td>\n",
       "      <td>58</td>\n",
       "    </tr>\n",
       "  </tbody>\n",
       "</table>\n",
       "</div>"
      ],
      "text/plain": [
       "   user_id  month  duration  total_calls_count\n",
       "0     1000      5       159                 22\n",
       "1     1000      6       172                 43\n",
       "2     1000      7       340                 47\n",
       "3     1000      8       408                 52\n",
       "4     1000      9       466                 58"
      ]
     },
     "execution_count": 42,
     "metadata": {},
     "output_type": "execute_result"
    }
   ],
   "source": [
    "df_user_calls.head()"
   ]
  },
  {
   "cell_type": "code",
   "execution_count": 43,
   "metadata": {},
   "outputs": [
    {
     "data": {
      "text/plain": [
       "count    3174.000000\n",
       "mean      456.931632\n",
       "std       238.031270\n",
       "min         0.000000\n",
       "25%       290.000000\n",
       "50%       447.000000\n",
       "75%       592.000000\n",
       "max      1673.000000\n",
       "Name: duration, dtype: float64"
      ]
     },
     "execution_count": 43,
     "metadata": {},
     "output_type": "execute_result"
    }
   ],
   "source": [
    "df_user_calls['duration'].describe()"
   ]
  },
  {
   "cell_type": "code",
   "execution_count": 44,
   "metadata": {},
   "outputs": [
    {
     "data": {
      "text/plain": [
       "count    3174.000000\n",
       "mean       63.833333\n",
       "std        32.678036\n",
       "min         1.000000\n",
       "25%        41.000000\n",
       "50%        63.000000\n",
       "75%        83.000000\n",
       "max       244.000000\n",
       "Name: total_calls_count, dtype: float64"
      ]
     },
     "execution_count": 44,
     "metadata": {},
     "output_type": "execute_result"
    }
   ],
   "source": [
    "df_user_calls['total_calls_count'].describe()"
   ]
  },
  {
   "cell_type": "markdown",
   "metadata": {},
   "source": [
    "#### Количество сообщений"
   ]
  },
  {
   "cell_type": "code",
   "execution_count": 45,
   "metadata": {},
   "outputs": [],
   "source": [
    "df_messages['month'] =  df_messages['message_date'].dt.month"
   ]
  },
  {
   "cell_type": "code",
   "execution_count": 46,
   "metadata": {},
   "outputs": [],
   "source": [
    "df_user_messages = df_messages\\\n",
    "                    .groupby(['user_id', 'month'])\\\n",
    "                    .agg({'id':'count'})\\\n",
    "                    .reset_index()\\\n",
    "                    .rename(columns={'id':'total_messages_count'})"
   ]
  },
  {
   "cell_type": "code",
   "execution_count": 47,
   "metadata": {},
   "outputs": [
    {
     "data": {
      "text/html": [
       "<div>\n",
       "<style scoped>\n",
       "    .dataframe tbody tr th:only-of-type {\n",
       "        vertical-align: middle;\n",
       "    }\n",
       "\n",
       "    .dataframe tbody tr th {\n",
       "        vertical-align: top;\n",
       "    }\n",
       "\n",
       "    .dataframe thead th {\n",
       "        text-align: right;\n",
       "    }\n",
       "</style>\n",
       "<table border=\"1\" class=\"dataframe\">\n",
       "  <thead>\n",
       "    <tr style=\"text-align: right;\">\n",
       "      <th></th>\n",
       "      <th>user_id</th>\n",
       "      <th>month</th>\n",
       "      <th>total_messages_count</th>\n",
       "    </tr>\n",
       "  </thead>\n",
       "  <tbody>\n",
       "    <tr>\n",
       "      <td>0</td>\n",
       "      <td>1000</td>\n",
       "      <td>5</td>\n",
       "      <td>22</td>\n",
       "    </tr>\n",
       "    <tr>\n",
       "      <td>1</td>\n",
       "      <td>1000</td>\n",
       "      <td>6</td>\n",
       "      <td>60</td>\n",
       "    </tr>\n",
       "    <tr>\n",
       "      <td>2</td>\n",
       "      <td>1000</td>\n",
       "      <td>7</td>\n",
       "      <td>75</td>\n",
       "    </tr>\n",
       "    <tr>\n",
       "      <td>3</td>\n",
       "      <td>1000</td>\n",
       "      <td>8</td>\n",
       "      <td>81</td>\n",
       "    </tr>\n",
       "    <tr>\n",
       "      <td>4</td>\n",
       "      <td>1000</td>\n",
       "      <td>9</td>\n",
       "      <td>57</td>\n",
       "    </tr>\n",
       "  </tbody>\n",
       "</table>\n",
       "</div>"
      ],
      "text/plain": [
       "   user_id  month  total_messages_count\n",
       "0     1000      5                    22\n",
       "1     1000      6                    60\n",
       "2     1000      7                    75\n",
       "3     1000      8                    81\n",
       "4     1000      9                    57"
      ]
     },
     "execution_count": 47,
     "metadata": {},
     "output_type": "execute_result"
    }
   ],
   "source": [
    "df_user_messages.head()"
   ]
  },
  {
   "cell_type": "markdown",
   "metadata": {},
   "source": [
    "#### Количество трафика"
   ]
  },
  {
   "cell_type": "code",
   "execution_count": 48,
   "metadata": {},
   "outputs": [],
   "source": [
    "df_internet['month'] =  df_internet['session_date'].dt.month"
   ]
  },
  {
   "cell_type": "code",
   "execution_count": 49,
   "metadata": {},
   "outputs": [],
   "source": [
    "df_user_internet = df_internet\\\n",
    "                    .groupby(['user_id', 'month'])\\\n",
    "                    .agg({'mb_used':'sum'})\\\n",
    "                    .reset_index()\\\n",
    "                    .rename(columns={'mb_used':'total_mb_used'})"
   ]
  },
  {
   "cell_type": "code",
   "execution_count": 50,
   "metadata": {},
   "outputs": [
    {
     "data": {
      "text/html": [
       "<div>\n",
       "<style scoped>\n",
       "    .dataframe tbody tr th:only-of-type {\n",
       "        vertical-align: middle;\n",
       "    }\n",
       "\n",
       "    .dataframe tbody tr th {\n",
       "        vertical-align: top;\n",
       "    }\n",
       "\n",
       "    .dataframe thead th {\n",
       "        text-align: right;\n",
       "    }\n",
       "</style>\n",
       "<table border=\"1\" class=\"dataframe\">\n",
       "  <thead>\n",
       "    <tr style=\"text-align: right;\">\n",
       "      <th></th>\n",
       "      <th>user_id</th>\n",
       "      <th>month</th>\n",
       "      <th>total_mb_used</th>\n",
       "    </tr>\n",
       "  </thead>\n",
       "  <tbody>\n",
       "    <tr>\n",
       "      <td>0</td>\n",
       "      <td>1000</td>\n",
       "      <td>5</td>\n",
       "      <td>2253.49</td>\n",
       "    </tr>\n",
       "    <tr>\n",
       "      <td>1</td>\n",
       "      <td>1000</td>\n",
       "      <td>6</td>\n",
       "      <td>23233.77</td>\n",
       "    </tr>\n",
       "    <tr>\n",
       "      <td>2</td>\n",
       "      <td>1000</td>\n",
       "      <td>7</td>\n",
       "      <td>14003.64</td>\n",
       "    </tr>\n",
       "    <tr>\n",
       "      <td>3</td>\n",
       "      <td>1000</td>\n",
       "      <td>8</td>\n",
       "      <td>14055.93</td>\n",
       "    </tr>\n",
       "    <tr>\n",
       "      <td>4</td>\n",
       "      <td>1000</td>\n",
       "      <td>9</td>\n",
       "      <td>14568.91</td>\n",
       "    </tr>\n",
       "  </tbody>\n",
       "</table>\n",
       "</div>"
      ],
      "text/plain": [
       "   user_id  month  total_mb_used\n",
       "0     1000      5        2253.49\n",
       "1     1000      6       23233.77\n",
       "2     1000      7       14003.64\n",
       "3     1000      8       14055.93\n",
       "4     1000      9       14568.91"
      ]
     },
     "execution_count": 50,
     "metadata": {},
     "output_type": "execute_result"
    }
   ],
   "source": [
    "df_user_internet.head()"
   ]
  },
  {
   "cell_type": "markdown",
   "metadata": {},
   "source": [
    "#### Объединение таблиц"
   ]
  },
  {
   "cell_type": "markdown",
   "metadata": {},
   "source": [
    "Объединим таблицы df_user_calls, df_user_messages и df_user_internet по столбцам user_id и month"
   ]
  },
  {
   "cell_type": "code",
   "execution_count": 51,
   "metadata": {},
   "outputs": [],
   "source": [
    "df = df_user_calls.merge(df_user_messages, on=['user_id','month'], how='outer')"
   ]
  },
  {
   "cell_type": "code",
   "execution_count": 52,
   "metadata": {},
   "outputs": [],
   "source": [
    "df = df.merge(df_user_internet, on=['user_id','month'], how = 'outer')"
   ]
  },
  {
   "cell_type": "markdown",
   "metadata": {},
   "source": [
    "Добавим к ним информацию из столбцов df_users и df_tariffs"
   ]
  },
  {
   "cell_type": "code",
   "execution_count": 53,
   "metadata": {},
   "outputs": [],
   "source": [
    "df = df.merge(df_users, on='user_id', how='left')"
   ]
  },
  {
   "cell_type": "code",
   "execution_count": 54,
   "metadata": {},
   "outputs": [],
   "source": [
    "df = df.merge(df_tariffs, on='tariff_name', how='left')"
   ]
  },
  {
   "cell_type": "markdown",
   "metadata": {},
   "source": [
    "Получили общую таблицу со всей необходимой информацией"
   ]
  },
  {
   "cell_type": "code",
   "execution_count": 55,
   "metadata": {},
   "outputs": [
    {
     "data": {
      "text/html": [
       "<div>\n",
       "<style scoped>\n",
       "    .dataframe tbody tr th:only-of-type {\n",
       "        vertical-align: middle;\n",
       "    }\n",
       "\n",
       "    .dataframe tbody tr th {\n",
       "        vertical-align: top;\n",
       "    }\n",
       "\n",
       "    .dataframe thead th {\n",
       "        text-align: right;\n",
       "    }\n",
       "</style>\n",
       "<table border=\"1\" class=\"dataframe\">\n",
       "  <thead>\n",
       "    <tr style=\"text-align: right;\">\n",
       "      <th></th>\n",
       "      <th>user_id</th>\n",
       "      <th>month</th>\n",
       "      <th>duration</th>\n",
       "      <th>total_calls_count</th>\n",
       "      <th>total_messages_count</th>\n",
       "      <th>total_mb_used</th>\n",
       "      <th>age</th>\n",
       "      <th>churn_date</th>\n",
       "      <th>city</th>\n",
       "      <th>first_name</th>\n",
       "      <th>last_name</th>\n",
       "      <th>reg_date</th>\n",
       "      <th>tariff_name</th>\n",
       "      <th>messages_included</th>\n",
       "      <th>mb_per_month_included</th>\n",
       "      <th>minutes_included</th>\n",
       "      <th>rub_monthly_fee</th>\n",
       "      <th>rub_per_gb</th>\n",
       "      <th>rub_per_message</th>\n",
       "      <th>rub_per_minute</th>\n",
       "    </tr>\n",
       "  </thead>\n",
       "  <tbody>\n",
       "    <tr>\n",
       "      <td>0</td>\n",
       "      <td>1000</td>\n",
       "      <td>5</td>\n",
       "      <td>159.0</td>\n",
       "      <td>22.0</td>\n",
       "      <td>22.0</td>\n",
       "      <td>2253.49</td>\n",
       "      <td>52</td>\n",
       "      <td>NaT</td>\n",
       "      <td>Краснодар</td>\n",
       "      <td>Рафаил</td>\n",
       "      <td>Верещагин</td>\n",
       "      <td>2018-05-25</td>\n",
       "      <td>ultra</td>\n",
       "      <td>1000</td>\n",
       "      <td>30720</td>\n",
       "      <td>3000</td>\n",
       "      <td>1950</td>\n",
       "      <td>150</td>\n",
       "      <td>1</td>\n",
       "      <td>1</td>\n",
       "    </tr>\n",
       "    <tr>\n",
       "      <td>1</td>\n",
       "      <td>1000</td>\n",
       "      <td>6</td>\n",
       "      <td>172.0</td>\n",
       "      <td>43.0</td>\n",
       "      <td>60.0</td>\n",
       "      <td>23233.77</td>\n",
       "      <td>52</td>\n",
       "      <td>NaT</td>\n",
       "      <td>Краснодар</td>\n",
       "      <td>Рафаил</td>\n",
       "      <td>Верещагин</td>\n",
       "      <td>2018-05-25</td>\n",
       "      <td>ultra</td>\n",
       "      <td>1000</td>\n",
       "      <td>30720</td>\n",
       "      <td>3000</td>\n",
       "      <td>1950</td>\n",
       "      <td>150</td>\n",
       "      <td>1</td>\n",
       "      <td>1</td>\n",
       "    </tr>\n",
       "    <tr>\n",
       "      <td>2</td>\n",
       "      <td>1000</td>\n",
       "      <td>7</td>\n",
       "      <td>340.0</td>\n",
       "      <td>47.0</td>\n",
       "      <td>75.0</td>\n",
       "      <td>14003.64</td>\n",
       "      <td>52</td>\n",
       "      <td>NaT</td>\n",
       "      <td>Краснодар</td>\n",
       "      <td>Рафаил</td>\n",
       "      <td>Верещагин</td>\n",
       "      <td>2018-05-25</td>\n",
       "      <td>ultra</td>\n",
       "      <td>1000</td>\n",
       "      <td>30720</td>\n",
       "      <td>3000</td>\n",
       "      <td>1950</td>\n",
       "      <td>150</td>\n",
       "      <td>1</td>\n",
       "      <td>1</td>\n",
       "    </tr>\n",
       "    <tr>\n",
       "      <td>3</td>\n",
       "      <td>1000</td>\n",
       "      <td>8</td>\n",
       "      <td>408.0</td>\n",
       "      <td>52.0</td>\n",
       "      <td>81.0</td>\n",
       "      <td>14055.93</td>\n",
       "      <td>52</td>\n",
       "      <td>NaT</td>\n",
       "      <td>Краснодар</td>\n",
       "      <td>Рафаил</td>\n",
       "      <td>Верещагин</td>\n",
       "      <td>2018-05-25</td>\n",
       "      <td>ultra</td>\n",
       "      <td>1000</td>\n",
       "      <td>30720</td>\n",
       "      <td>3000</td>\n",
       "      <td>1950</td>\n",
       "      <td>150</td>\n",
       "      <td>1</td>\n",
       "      <td>1</td>\n",
       "    </tr>\n",
       "    <tr>\n",
       "      <td>4</td>\n",
       "      <td>1000</td>\n",
       "      <td>9</td>\n",
       "      <td>466.0</td>\n",
       "      <td>58.0</td>\n",
       "      <td>57.0</td>\n",
       "      <td>14568.91</td>\n",
       "      <td>52</td>\n",
       "      <td>NaT</td>\n",
       "      <td>Краснодар</td>\n",
       "      <td>Рафаил</td>\n",
       "      <td>Верещагин</td>\n",
       "      <td>2018-05-25</td>\n",
       "      <td>ultra</td>\n",
       "      <td>1000</td>\n",
       "      <td>30720</td>\n",
       "      <td>3000</td>\n",
       "      <td>1950</td>\n",
       "      <td>150</td>\n",
       "      <td>1</td>\n",
       "      <td>1</td>\n",
       "    </tr>\n",
       "  </tbody>\n",
       "</table>\n",
       "</div>"
      ],
      "text/plain": [
       "   user_id  month  duration  total_calls_count  total_messages_count  \\\n",
       "0     1000      5     159.0               22.0                  22.0   \n",
       "1     1000      6     172.0               43.0                  60.0   \n",
       "2     1000      7     340.0               47.0                  75.0   \n",
       "3     1000      8     408.0               52.0                  81.0   \n",
       "4     1000      9     466.0               58.0                  57.0   \n",
       "\n",
       "   total_mb_used  age churn_date       city first_name  last_name   reg_date  \\\n",
       "0        2253.49   52        NaT  Краснодар     Рафаил  Верещагин 2018-05-25   \n",
       "1       23233.77   52        NaT  Краснодар     Рафаил  Верещагин 2018-05-25   \n",
       "2       14003.64   52        NaT  Краснодар     Рафаил  Верещагин 2018-05-25   \n",
       "3       14055.93   52        NaT  Краснодар     Рафаил  Верещагин 2018-05-25   \n",
       "4       14568.91   52        NaT  Краснодар     Рафаил  Верещагин 2018-05-25   \n",
       "\n",
       "  tariff_name  messages_included  mb_per_month_included  minutes_included  \\\n",
       "0       ultra               1000                  30720              3000   \n",
       "1       ultra               1000                  30720              3000   \n",
       "2       ultra               1000                  30720              3000   \n",
       "3       ultra               1000                  30720              3000   \n",
       "4       ultra               1000                  30720              3000   \n",
       "\n",
       "   rub_monthly_fee  rub_per_gb  rub_per_message  rub_per_minute  \n",
       "0             1950         150                1               1  \n",
       "1             1950         150                1               1  \n",
       "2             1950         150                1               1  \n",
       "3             1950         150                1               1  \n",
       "4             1950         150                1               1  "
      ]
     },
     "execution_count": 55,
     "metadata": {},
     "output_type": "execute_result"
    }
   ],
   "source": [
    "df.head()"
   ]
  },
  {
   "cell_type": "markdown",
   "metadata": {},
   "source": [
    "Проверим пропуски в общей таблице"
   ]
  },
  {
   "cell_type": "code",
   "execution_count": 56,
   "metadata": {},
   "outputs": [
    {
     "data": {
      "text/plain": [
       "user_id                     0\n",
       "month                       0\n",
       "duration                   40\n",
       "total_calls_count          40\n",
       "total_messages_count      497\n",
       "total_mb_used              11\n",
       "age                         0\n",
       "churn_date               3027\n",
       "city                        0\n",
       "first_name                  0\n",
       "last_name                   0\n",
       "reg_date                    0\n",
       "tariff_name                 0\n",
       "messages_included           0\n",
       "mb_per_month_included       0\n",
       "minutes_included            0\n",
       "rub_monthly_fee             0\n",
       "rub_per_gb                  0\n",
       "rub_per_message             0\n",
       "rub_per_minute              0\n",
       "dtype: int64"
      ]
     },
     "execution_count": 56,
     "metadata": {},
     "output_type": "execute_result"
    }
   ],
   "source": [
    "df.isna().sum()"
   ]
  },
  {
   "cell_type": "markdown",
   "metadata": {},
   "source": [
    "Заполним пропуски нулями (кроме столбца churn_date)"
   ]
  },
  {
   "cell_type": "code",
   "execution_count": 57,
   "metadata": {},
   "outputs": [],
   "source": [
    "df['duration'] = df['duration'].fillna(0)\n",
    "df['total_calls_count'] = df['duration'].fillna(0)\n",
    "df['total_messages_count'] = df['total_messages_count'].fillna(0)\n",
    "df['total_mb_used'] = df['total_mb_used'].fillna(0)"
   ]
  },
  {
   "cell_type": "code",
   "execution_count": 58,
   "metadata": {},
   "outputs": [
    {
     "data": {
      "text/plain": [
       "0"
      ]
     },
     "execution_count": 58,
     "metadata": {},
     "output_type": "execute_result"
    }
   ],
   "source": [
    "df.duplicated().sum()"
   ]
  },
  {
   "cell_type": "markdown",
   "metadata": {},
   "source": [
    "#### Помесячная выручка"
   ]
  },
  {
   "cell_type": "code",
   "execution_count": 59,
   "metadata": {},
   "outputs": [],
   "source": [
    "def revenue(row):\n",
    "    messages = (row['total_messages_count'] - row['messages_included']) * row['rub_per_message']\n",
    "    calls = (row['duration'] - row['minutes_included']) * row['rub_per_minute']\n",
    "    traffic = np.ceil((row['total_mb_used'] - row['mb_per_month_included']) /1024) * row['rub_per_gb']\n",
    "    \n",
    "    total = 0\n",
    "    for i in [messages, calls, traffic]:\n",
    "        if i > 0:\n",
    "            total += i\n",
    "    return total"
   ]
  },
  {
   "cell_type": "code",
   "execution_count": 60,
   "metadata": {},
   "outputs": [],
   "source": [
    "df['revenue'] = df.apply(lambda x: revenue(x), axis=1)"
   ]
  },
  {
   "cell_type": "code",
   "execution_count": 61,
   "metadata": {},
   "outputs": [],
   "source": [
    "df['total_revenue'] = df['revenue'] + df['rub_monthly_fee']"
   ]
  },
  {
   "cell_type": "code",
   "execution_count": 62,
   "metadata": {},
   "outputs": [],
   "source": [
    "df = df.drop(columns = ['first_name', 'last_name', 'messages_included', 'mb_per_month_included', 'minutes_included', \n",
    "                        'rub_monthly_fee', 'rub_per_gb', 'rub_per_message', 'rub_per_minute'],axis = 1)\n",
    "\n",
    "df['revenue'] = df['revenue'].astype(int)\n",
    "df['total_revenue'] = df['total_revenue'].astype(int)"
   ]
  },
  {
   "cell_type": "code",
   "execution_count": 63,
   "metadata": {},
   "outputs": [
    {
     "data": {
      "text/html": [
       "<div>\n",
       "<style scoped>\n",
       "    .dataframe tbody tr th:only-of-type {\n",
       "        vertical-align: middle;\n",
       "    }\n",
       "\n",
       "    .dataframe tbody tr th {\n",
       "        vertical-align: top;\n",
       "    }\n",
       "\n",
       "    .dataframe thead th {\n",
       "        text-align: right;\n",
       "    }\n",
       "</style>\n",
       "<table border=\"1\" class=\"dataframe\">\n",
       "  <thead>\n",
       "    <tr style=\"text-align: right;\">\n",
       "      <th></th>\n",
       "      <th>user_id</th>\n",
       "      <th>month</th>\n",
       "      <th>duration</th>\n",
       "      <th>total_calls_count</th>\n",
       "      <th>total_messages_count</th>\n",
       "      <th>total_mb_used</th>\n",
       "      <th>age</th>\n",
       "      <th>churn_date</th>\n",
       "      <th>city</th>\n",
       "      <th>reg_date</th>\n",
       "      <th>tariff_name</th>\n",
       "      <th>revenue</th>\n",
       "      <th>total_revenue</th>\n",
       "    </tr>\n",
       "  </thead>\n",
       "  <tbody>\n",
       "    <tr>\n",
       "      <td>2127</td>\n",
       "      <td>1340</td>\n",
       "      <td>1</td>\n",
       "      <td>25.0</td>\n",
       "      <td>25.0</td>\n",
       "      <td>0.0</td>\n",
       "      <td>2207.26</td>\n",
       "      <td>50</td>\n",
       "      <td>NaT</td>\n",
       "      <td>Пенза</td>\n",
       "      <td>2018-01-30</td>\n",
       "      <td>smart</td>\n",
       "      <td>0</td>\n",
       "      <td>550</td>\n",
       "    </tr>\n",
       "    <tr>\n",
       "      <td>2982</td>\n",
       "      <td>1468</td>\n",
       "      <td>11</td>\n",
       "      <td>276.0</td>\n",
       "      <td>276.0</td>\n",
       "      <td>13.0</td>\n",
       "      <td>12737.04</td>\n",
       "      <td>29</td>\n",
       "      <td>NaT</td>\n",
       "      <td>Тамбов</td>\n",
       "      <td>2018-02-11</td>\n",
       "      <td>smart</td>\n",
       "      <td>0</td>\n",
       "      <td>550</td>\n",
       "    </tr>\n",
       "    <tr>\n",
       "      <td>2318</td>\n",
       "      <td>1373</td>\n",
       "      <td>1</td>\n",
       "      <td>0.0</td>\n",
       "      <td>0.0</td>\n",
       "      <td>28.0</td>\n",
       "      <td>9173.74</td>\n",
       "      <td>34</td>\n",
       "      <td>NaT</td>\n",
       "      <td>Улан-Удэ</td>\n",
       "      <td>2018-01-17</td>\n",
       "      <td>smart</td>\n",
       "      <td>0</td>\n",
       "      <td>550</td>\n",
       "    </tr>\n",
       "    <tr>\n",
       "      <td>829</td>\n",
       "      <td>1134</td>\n",
       "      <td>2</td>\n",
       "      <td>458.0</td>\n",
       "      <td>458.0</td>\n",
       "      <td>47.0</td>\n",
       "      <td>13052.89</td>\n",
       "      <td>65</td>\n",
       "      <td>NaT</td>\n",
       "      <td>Красноярск</td>\n",
       "      <td>2018-01-16</td>\n",
       "      <td>smart</td>\n",
       "      <td>0</td>\n",
       "      <td>550</td>\n",
       "    </tr>\n",
       "    <tr>\n",
       "      <td>1721</td>\n",
       "      <td>1275</td>\n",
       "      <td>12</td>\n",
       "      <td>364.0</td>\n",
       "      <td>364.0</td>\n",
       "      <td>17.0</td>\n",
       "      <td>14796.81</td>\n",
       "      <td>48</td>\n",
       "      <td>NaT</td>\n",
       "      <td>Москва</td>\n",
       "      <td>2018-04-24</td>\n",
       "      <td>smart</td>\n",
       "      <td>0</td>\n",
       "      <td>550</td>\n",
       "    </tr>\n",
       "  </tbody>\n",
       "</table>\n",
       "</div>"
      ],
      "text/plain": [
       "      user_id  month  duration  total_calls_count  total_messages_count  \\\n",
       "2127     1340      1      25.0               25.0                   0.0   \n",
       "2982     1468     11     276.0              276.0                  13.0   \n",
       "2318     1373      1       0.0                0.0                  28.0   \n",
       "829      1134      2     458.0              458.0                  47.0   \n",
       "1721     1275     12     364.0              364.0                  17.0   \n",
       "\n",
       "      total_mb_used  age churn_date        city   reg_date tariff_name  \\\n",
       "2127        2207.26   50        NaT       Пенза 2018-01-30       smart   \n",
       "2982       12737.04   29        NaT      Тамбов 2018-02-11       smart   \n",
       "2318        9173.74   34        NaT    Улан-Удэ 2018-01-17       smart   \n",
       "829        13052.89   65        NaT  Красноярск 2018-01-16       smart   \n",
       "1721       14796.81   48        NaT      Москва 2018-04-24       smart   \n",
       "\n",
       "      revenue  total_revenue  \n",
       "2127        0            550  \n",
       "2982        0            550  \n",
       "2318        0            550  \n",
       "829         0            550  \n",
       "1721        0            550  "
      ]
     },
     "execution_count": 63,
     "metadata": {},
     "output_type": "execute_result"
    }
   ],
   "source": [
    "df.sort_values(by='total_revenue').head()"
   ]
  },
  {
   "cell_type": "code",
   "execution_count": 64,
   "metadata": {},
   "outputs": [
    {
     "data": {
      "text/html": [
       "<div>\n",
       "<style scoped>\n",
       "    .dataframe tbody tr th:only-of-type {\n",
       "        vertical-align: middle;\n",
       "    }\n",
       "\n",
       "    .dataframe tbody tr th {\n",
       "        vertical-align: top;\n",
       "    }\n",
       "\n",
       "    .dataframe thead th {\n",
       "        text-align: right;\n",
       "    }\n",
       "</style>\n",
       "<table border=\"1\" class=\"dataframe\">\n",
       "  <thead>\n",
       "    <tr style=\"text-align: right;\">\n",
       "      <th></th>\n",
       "      <th>user_id</th>\n",
       "      <th>month</th>\n",
       "      <th>duration</th>\n",
       "      <th>total_calls_count</th>\n",
       "      <th>total_messages_count</th>\n",
       "      <th>total_mb_used</th>\n",
       "      <th>age</th>\n",
       "      <th>churn_date</th>\n",
       "      <th>city</th>\n",
       "      <th>reg_date</th>\n",
       "      <th>tariff_name</th>\n",
       "      <th>revenue</th>\n",
       "      <th>total_revenue</th>\n",
       "    </tr>\n",
       "  </thead>\n",
       "  <tbody>\n",
       "    <tr>\n",
       "      <td>1793</td>\n",
       "      <td>1286</td>\n",
       "      <td>12</td>\n",
       "      <td>739.0</td>\n",
       "      <td>739.0</td>\n",
       "      <td>68.0</td>\n",
       "      <td>35108.07</td>\n",
       "      <td>19</td>\n",
       "      <td>NaT</td>\n",
       "      <td>Москва</td>\n",
       "      <td>2018-11-27</td>\n",
       "      <td>smart</td>\n",
       "      <td>4771</td>\n",
       "      <td>5321</td>\n",
       "    </tr>\n",
       "    <tr>\n",
       "      <td>1622</td>\n",
       "      <td>1261</td>\n",
       "      <td>12</td>\n",
       "      <td>1074.0</td>\n",
       "      <td>1074.0</td>\n",
       "      <td>22.0</td>\n",
       "      <td>32650.91</td>\n",
       "      <td>46</td>\n",
       "      <td>NaT</td>\n",
       "      <td>Казань</td>\n",
       "      <td>2018-10-30</td>\n",
       "      <td>smart</td>\n",
       "      <td>5122</td>\n",
       "      <td>5672</td>\n",
       "    </tr>\n",
       "    <tr>\n",
       "      <td>3105</td>\n",
       "      <td>1486</td>\n",
       "      <td>11</td>\n",
       "      <td>764.0</td>\n",
       "      <td>764.0</td>\n",
       "      <td>96.0</td>\n",
       "      <td>36266.11</td>\n",
       "      <td>35</td>\n",
       "      <td>NaT</td>\n",
       "      <td>Нижний Новгород</td>\n",
       "      <td>2018-10-31</td>\n",
       "      <td>smart</td>\n",
       "      <td>5130</td>\n",
       "      <td>5680</td>\n",
       "    </tr>\n",
       "    <tr>\n",
       "      <td>260</td>\n",
       "      <td>1042</td>\n",
       "      <td>12</td>\n",
       "      <td>728.0</td>\n",
       "      <td>728.0</td>\n",
       "      <td>75.0</td>\n",
       "      <td>37165.69</td>\n",
       "      <td>42</td>\n",
       "      <td>NaT</td>\n",
       "      <td>Хабаровск</td>\n",
       "      <td>2018-11-25</td>\n",
       "      <td>smart</td>\n",
       "      <td>5159</td>\n",
       "      <td>5709</td>\n",
       "    </tr>\n",
       "    <tr>\n",
       "      <td>3106</td>\n",
       "      <td>1486</td>\n",
       "      <td>12</td>\n",
       "      <td>1007.0</td>\n",
       "      <td>1007.0</td>\n",
       "      <td>83.0</td>\n",
       "      <td>38552.45</td>\n",
       "      <td>35</td>\n",
       "      <td>NaT</td>\n",
       "      <td>Нижний Новгород</td>\n",
       "      <td>2018-10-31</td>\n",
       "      <td>smart</td>\n",
       "      <td>6220</td>\n",
       "      <td>6770</td>\n",
       "    </tr>\n",
       "  </tbody>\n",
       "</table>\n",
       "</div>"
      ],
      "text/plain": [
       "      user_id  month  duration  total_calls_count  total_messages_count  \\\n",
       "1793     1286     12     739.0              739.0                  68.0   \n",
       "1622     1261     12    1074.0             1074.0                  22.0   \n",
       "3105     1486     11     764.0              764.0                  96.0   \n",
       "260      1042     12     728.0              728.0                  75.0   \n",
       "3106     1486     12    1007.0             1007.0                  83.0   \n",
       "\n",
       "      total_mb_used  age churn_date             city   reg_date tariff_name  \\\n",
       "1793       35108.07   19        NaT           Москва 2018-11-27       smart   \n",
       "1622       32650.91   46        NaT           Казань 2018-10-30       smart   \n",
       "3105       36266.11   35        NaT  Нижний Новгород 2018-10-31       smart   \n",
       "260        37165.69   42        NaT        Хабаровск 2018-11-25       smart   \n",
       "3106       38552.45   35        NaT  Нижний Новгород 2018-10-31       smart   \n",
       "\n",
       "      revenue  total_revenue  \n",
       "1793     4771           5321  \n",
       "1622     5122           5672  \n",
       "3105     5130           5680  \n",
       "260      5159           5709  \n",
       "3106     6220           6770  "
      ]
     },
     "execution_count": 64,
     "metadata": {},
     "output_type": "execute_result"
    }
   ],
   "source": [
    "df.sort_values(by='total_revenue').tail()"
   ]
  },
  {
   "cell_type": "markdown",
   "metadata": {},
   "source": [
    "## Анализ данных"
   ]
  },
  {
   "cell_type": "markdown",
   "metadata": {},
   "source": [
    "Опишите поведение клиентов оператора, исходя из выборки.  \n",
    "Сколько минут разговора, сколько сообщений и какой объём интернет-трафика требуется пользователям каждого тарифа в месяц?  \n",
    "Посчитайте среднее количество, дисперсию и стандартное отклонение.  \n",
    "Постройте гистограммы. Опишите распределения."
   ]
  },
  {
   "cell_type": "markdown",
   "metadata": {},
   "source": [
    "### Минуты разговора"
   ]
  },
  {
   "cell_type": "markdown",
   "metadata": {},
   "source": [
    "Рассчитаем среднее и медианное значение, дисперсию и стандартное отклонение для всех месяцев и для каждого месяца отдельно"
   ]
  },
  {
   "cell_type": "code",
   "execution_count": 65,
   "metadata": {},
   "outputs": [
    {
     "data": {
      "text/html": [
       "<style  type=\"text/css\" >\n",
       "</style><table id=\"T_5846f248_81c5_11ec_bef3_02420a393234\" ><thead>    <tr>        <th class=\"blank level0\" ></th>        <th class=\"col_heading level0 col0\" >median</th>        <th class=\"col_heading level0 col1\" >mean</th>        <th class=\"col_heading level0 col2\" >var</th>        <th class=\"col_heading level0 col3\" >std</th>        <th class=\"col_heading level0 col4\" >sum</th>    </tr>    <tr>        <th class=\"index_name level0\" >tariff_name</th>        <th class=\"blank\" ></th>        <th class=\"blank\" ></th>        <th class=\"blank\" ></th>        <th class=\"blank\" ></th>        <th class=\"blank\" ></th>    </tr></thead><tbody>\n",
       "                <tr>\n",
       "                        <th id=\"T_5846f248_81c5_11ec_bef3_02420a393234level0_row0\" class=\"row_heading level0 row0\" >smart</th>\n",
       "                        <td id=\"T_5846f248_81c5_11ec_bef3_02420a393234row0_col0\" class=\"data row0 col0\" >422.00</td>\n",
       "                        <td id=\"T_5846f248_81c5_11ec_bef3_02420a393234row0_col1\" class=\"data row0 col1\" >417.93</td>\n",
       "                        <td id=\"T_5846f248_81c5_11ec_bef3_02420a393234row0_col2\" class=\"data row0 col2\" >36219.32</td>\n",
       "                        <td id=\"T_5846f248_81c5_11ec_bef3_02420a393234row0_col3\" class=\"data row0 col3\" >190.31</td>\n",
       "                        <td id=\"T_5846f248_81c5_11ec_bef3_02420a393234row0_col4\" class=\"data row0 col4\" >931577.00</td>\n",
       "            </tr>\n",
       "            <tr>\n",
       "                        <th id=\"T_5846f248_81c5_11ec_bef3_02420a393234level0_row1\" class=\"row_heading level0 row1\" >ultra</th>\n",
       "                        <td id=\"T_5846f248_81c5_11ec_bef3_02420a393234row1_col0\" class=\"data row1 col0\" >518.00</td>\n",
       "                        <td id=\"T_5846f248_81c5_11ec_bef3_02420a393234row1_col1\" class=\"data row1 col1\" >526.62</td>\n",
       "                        <td id=\"T_5846f248_81c5_11ec_bef3_02420a393234row1_col2\" class=\"data row1 col2\" >100873.63</td>\n",
       "                        <td id=\"T_5846f248_81c5_11ec_bef3_02420a393234row1_col3\" class=\"data row1 col3\" >317.61</td>\n",
       "                        <td id=\"T_5846f248_81c5_11ec_bef3_02420a393234row1_col4\" class=\"data row1 col4\" >518724.00</td>\n",
       "            </tr>\n",
       "    </tbody></table>"
      ],
      "text/plain": [
       "<pandas.io.formats.style.Styler at 0x7f5815fe46d0>"
      ]
     },
     "execution_count": 65,
     "metadata": {},
     "output_type": "execute_result"
    }
   ],
   "source": [
    "df.pivot_table(\n",
    "    index='tariff_name', \n",
    "    values='duration', \n",
    "    aggfunc=['median','mean','var','std','sum'])\\\n",
    "    .droplevel(1, axis=1).style.format(\"{:.2f}\")"
   ]
  },
  {
   "cell_type": "code",
   "execution_count": 66,
   "metadata": {},
   "outputs": [
    {
     "data": {
      "text/html": [
       "<style  type=\"text/css\" >\n",
       "</style><table id=\"T_5856e144_81c5_11ec_bef3_02420a393234\" ><thead>    <tr>        <th class=\"blank\" ></th>        <th class=\"blank level0\" ></th>        <th class=\"col_heading level0 col0\" >median</th>        <th class=\"col_heading level0 col1\" >mean</th>        <th class=\"col_heading level0 col2\" >var</th>        <th class=\"col_heading level0 col3\" >std</th>        <th class=\"col_heading level0 col4\" >sum</th>    </tr>    <tr>        <th class=\"index_name level0\" >month</th>        <th class=\"index_name level1\" >tariff_name</th>        <th class=\"blank\" ></th>        <th class=\"blank\" ></th>        <th class=\"blank\" ></th>        <th class=\"blank\" ></th>        <th class=\"blank\" ></th>    </tr></thead><tbody>\n",
       "                <tr>\n",
       "                        <th id=\"T_5856e144_81c5_11ec_bef3_02420a393234level0_row0\" class=\"row_heading level0 row0\" rowspan=2>1</th>\n",
       "                        <th id=\"T_5856e144_81c5_11ec_bef3_02420a393234level1_row0\" class=\"row_heading level1 row0\" >smart</th>\n",
       "                        <td id=\"T_5856e144_81c5_11ec_bef3_02420a393234row0_col0\" class=\"data row0 col0\" >162.50</td>\n",
       "                        <td id=\"T_5856e144_81c5_11ec_bef3_02420a393234row0_col1\" class=\"data row0 col1\" >203.85</td>\n",
       "                        <td id=\"T_5856e144_81c5_11ec_bef3_02420a393234row0_col2\" class=\"data row0 col2\" >23787.34</td>\n",
       "                        <td id=\"T_5856e144_81c5_11ec_bef3_02420a393234row0_col3\" class=\"data row0 col3\" >154.23</td>\n",
       "                        <td id=\"T_5856e144_81c5_11ec_bef3_02420a393234row0_col4\" class=\"data row0 col4\" >6931.00</td>\n",
       "            </tr>\n",
       "            <tr>\n",
       "                                <th id=\"T_5856e144_81c5_11ec_bef3_02420a393234level1_row1\" class=\"row_heading level1 row1\" >ultra</th>\n",
       "                        <td id=\"T_5856e144_81c5_11ec_bef3_02420a393234row1_col0\" class=\"data row1 col0\" >382.00</td>\n",
       "                        <td id=\"T_5856e144_81c5_11ec_bef3_02420a393234row1_col1\" class=\"data row1 col1\" >428.11</td>\n",
       "                        <td id=\"T_5856e144_81c5_11ec_bef3_02420a393234row1_col2\" class=\"data row1 col2\" >72769.36</td>\n",
       "                        <td id=\"T_5856e144_81c5_11ec_bef3_02420a393234row1_col3\" class=\"data row1 col3\" >269.76</td>\n",
       "                        <td id=\"T_5856e144_81c5_11ec_bef3_02420a393234row1_col4\" class=\"data row1 col4\" >3853.00</td>\n",
       "            </tr>\n",
       "            <tr>\n",
       "                        <th id=\"T_5856e144_81c5_11ec_bef3_02420a393234level0_row2\" class=\"row_heading level0 row2\" rowspan=2>2</th>\n",
       "                        <th id=\"T_5856e144_81c5_11ec_bef3_02420a393234level1_row2\" class=\"row_heading level1 row2\" >smart</th>\n",
       "                        <td id=\"T_5856e144_81c5_11ec_bef3_02420a393234row2_col0\" class=\"data row2 col0\" >258.00</td>\n",
       "                        <td id=\"T_5856e144_81c5_11ec_bef3_02420a393234row2_col1\" class=\"data row2 col1\" >298.69</td>\n",
       "                        <td id=\"T_5856e144_81c5_11ec_bef3_02420a393234row2_col2\" class=\"data row2 col2\" >36412.29</td>\n",
       "                        <td id=\"T_5856e144_81c5_11ec_bef3_02420a393234row2_col3\" class=\"data row2 col3\" >190.82</td>\n",
       "                        <td id=\"T_5856e144_81c5_11ec_bef3_02420a393234row2_col4\" class=\"data row2 col4\" >17324.00</td>\n",
       "            </tr>\n",
       "            <tr>\n",
       "                                <th id=\"T_5856e144_81c5_11ec_bef3_02420a393234level1_row3\" class=\"row_heading level1 row3\" >ultra</th>\n",
       "                        <td id=\"T_5856e144_81c5_11ec_bef3_02420a393234row3_col0\" class=\"data row3 col0\" >168.00</td>\n",
       "                        <td id=\"T_5856e144_81c5_11ec_bef3_02420a393234row3_col1\" class=\"data row3 col1\" >297.12</td>\n",
       "                        <td id=\"T_5856e144_81c5_11ec_bef3_02420a393234row3_col2\" class=\"data row3 col2\" >87919.68</td>\n",
       "                        <td id=\"T_5856e144_81c5_11ec_bef3_02420a393234row3_col3\" class=\"data row3 col3\" >296.51</td>\n",
       "                        <td id=\"T_5856e144_81c5_11ec_bef3_02420a393234row3_col4\" class=\"data row3 col4\" >7131.00</td>\n",
       "            </tr>\n",
       "            <tr>\n",
       "                        <th id=\"T_5856e144_81c5_11ec_bef3_02420a393234level0_row4\" class=\"row_heading level0 row4\" rowspan=2>3</th>\n",
       "                        <th id=\"T_5856e144_81c5_11ec_bef3_02420a393234level1_row4\" class=\"row_heading level1 row4\" >smart</th>\n",
       "                        <td id=\"T_5856e144_81c5_11ec_bef3_02420a393234row4_col0\" class=\"data row4 col0\" >409.00</td>\n",
       "                        <td id=\"T_5856e144_81c5_11ec_bef3_02420a393234row4_col1\" class=\"data row4 col1\" >390.05</td>\n",
       "                        <td id=\"T_5856e144_81c5_11ec_bef3_02420a393234row4_col2\" class=\"data row4 col2\" >36823.16</td>\n",
       "                        <td id=\"T_5856e144_81c5_11ec_bef3_02420a393234row4_col3\" class=\"data row4 col3\" >191.89</td>\n",
       "                        <td id=\"T_5856e144_81c5_11ec_bef3_02420a393234row4_col4\" class=\"data row4 col4\" >30034.00</td>\n",
       "            </tr>\n",
       "            <tr>\n",
       "                                <th id=\"T_5856e144_81c5_11ec_bef3_02420a393234level1_row5\" class=\"row_heading level1 row5\" >ultra</th>\n",
       "                        <td id=\"T_5856e144_81c5_11ec_bef3_02420a393234row5_col0\" class=\"data row5 col0\" >403.00</td>\n",
       "                        <td id=\"T_5856e144_81c5_11ec_bef3_02420a393234row5_col1\" class=\"data row5 col1\" >489.65</td>\n",
       "                        <td id=\"T_5856e144_81c5_11ec_bef3_02420a393234row5_col2\" class=\"data row5 col2\" >111384.90</td>\n",
       "                        <td id=\"T_5856e144_81c5_11ec_bef3_02420a393234row5_col3\" class=\"data row5 col3\" >333.74</td>\n",
       "                        <td id=\"T_5856e144_81c5_11ec_bef3_02420a393234row5_col4\" class=\"data row5 col4\" >18117.00</td>\n",
       "            </tr>\n",
       "            <tr>\n",
       "                        <th id=\"T_5856e144_81c5_11ec_bef3_02420a393234level0_row6\" class=\"row_heading level0 row6\" rowspan=2>4</th>\n",
       "                        <th id=\"T_5856e144_81c5_11ec_bef3_02420a393234level1_row6\" class=\"row_heading level1 row6\" >smart</th>\n",
       "                        <td id=\"T_5856e144_81c5_11ec_bef3_02420a393234row6_col0\" class=\"data row6 col0\" >368.50</td>\n",
       "                        <td id=\"T_5856e144_81c5_11ec_bef3_02420a393234row6_col1\" class=\"data row6 col1\" >367.13</td>\n",
       "                        <td id=\"T_5856e144_81c5_11ec_bef3_02420a393234row6_col2\" class=\"data row6 col2\" >34778.21</td>\n",
       "                        <td id=\"T_5856e144_81c5_11ec_bef3_02420a393234row6_col3\" class=\"data row6 col3\" >186.49</td>\n",
       "                        <td id=\"T_5856e144_81c5_11ec_bef3_02420a393234row6_col4\" class=\"data row6 col4\" >41119.00</td>\n",
       "            </tr>\n",
       "            <tr>\n",
       "                                <th id=\"T_5856e144_81c5_11ec_bef3_02420a393234level1_row7\" class=\"row_heading level1 row7\" >ultra</th>\n",
       "                        <td id=\"T_5856e144_81c5_11ec_bef3_02420a393234row7_col0\" class=\"data row7 col0\" >453.00</td>\n",
       "                        <td id=\"T_5856e144_81c5_11ec_bef3_02420a393234row7_col1\" class=\"data row7 col1\" >458.02</td>\n",
       "                        <td id=\"T_5856e144_81c5_11ec_bef3_02420a393234row7_col2\" class=\"data row7 col2\" >71653.87</td>\n",
       "                        <td id=\"T_5856e144_81c5_11ec_bef3_02420a393234row7_col3\" class=\"data row7 col3\" >267.68</td>\n",
       "                        <td id=\"T_5856e144_81c5_11ec_bef3_02420a393234row7_col4\" class=\"data row7 col4\" >25191.00</td>\n",
       "            </tr>\n",
       "            <tr>\n",
       "                        <th id=\"T_5856e144_81c5_11ec_bef3_02420a393234level0_row8\" class=\"row_heading level0 row8\" rowspan=2>5</th>\n",
       "                        <th id=\"T_5856e144_81c5_11ec_bef3_02420a393234level1_row8\" class=\"row_heading level1 row8\" >smart</th>\n",
       "                        <td id=\"T_5856e144_81c5_11ec_bef3_02420a393234row8_col0\" class=\"data row8 col0\" >433.00</td>\n",
       "                        <td id=\"T_5856e144_81c5_11ec_bef3_02420a393234row8_col1\" class=\"data row8 col1\" >387.36</td>\n",
       "                        <td id=\"T_5856e144_81c5_11ec_bef3_02420a393234row8_col2\" class=\"data row8 col2\" >34820.06</td>\n",
       "                        <td id=\"T_5856e144_81c5_11ec_bef3_02420a393234row8_col3\" class=\"data row8 col3\" >186.60</td>\n",
       "                        <td id=\"T_5856e144_81c5_11ec_bef3_02420a393234row8_col4\" class=\"data row8 col4\" >54618.00</td>\n",
       "            </tr>\n",
       "            <tr>\n",
       "                                <th id=\"T_5856e144_81c5_11ec_bef3_02420a393234level1_row9\" class=\"row_heading level1 row9\" >ultra</th>\n",
       "                        <td id=\"T_5856e144_81c5_11ec_bef3_02420a393234row9_col0\" class=\"data row9 col0\" >519.00</td>\n",
       "                        <td id=\"T_5856e144_81c5_11ec_bef3_02420a393234row9_col1\" class=\"data row9 col1\" >510.33</td>\n",
       "                        <td id=\"T_5856e144_81c5_11ec_bef3_02420a393234row9_col2\" class=\"data row9 col2\" >83870.19</td>\n",
       "                        <td id=\"T_5856e144_81c5_11ec_bef3_02420a393234row9_col3\" class=\"data row9 col3\" >289.60</td>\n",
       "                        <td id=\"T_5856e144_81c5_11ec_bef3_02420a393234row9_col4\" class=\"data row9 col4\" >34192.00</td>\n",
       "            </tr>\n",
       "            <tr>\n",
       "                        <th id=\"T_5856e144_81c5_11ec_bef3_02420a393234level0_row10\" class=\"row_heading level0 row10\" rowspan=2>6</th>\n",
       "                        <th id=\"T_5856e144_81c5_11ec_bef3_02420a393234level1_row10\" class=\"row_heading level1 row10\" >smart</th>\n",
       "                        <td id=\"T_5856e144_81c5_11ec_bef3_02420a393234row10_col0\" class=\"data row10 col0\" >400.00</td>\n",
       "                        <td id=\"T_5856e144_81c5_11ec_bef3_02420a393234row10_col1\" class=\"data row10 col1\" >395.64</td>\n",
       "                        <td id=\"T_5856e144_81c5_11ec_bef3_02420a393234row10_col2\" class=\"data row10 col2\" >30742.92</td>\n",
       "                        <td id=\"T_5856e144_81c5_11ec_bef3_02420a393234row10_col3\" class=\"data row10 col3\" >175.34</td>\n",
       "                        <td id=\"T_5856e144_81c5_11ec_bef3_02420a393234row10_col4\" class=\"data row10 col4\" >64885.00</td>\n",
       "            </tr>\n",
       "            <tr>\n",
       "                                <th id=\"T_5856e144_81c5_11ec_bef3_02420a393234level1_row11\" class=\"row_heading level1 row11\" >ultra</th>\n",
       "                        <td id=\"T_5856e144_81c5_11ec_bef3_02420a393234row11_col0\" class=\"data row11 col0\" >479.00</td>\n",
       "                        <td id=\"T_5856e144_81c5_11ec_bef3_02420a393234row11_col1\" class=\"data row11 col1\" >479.70</td>\n",
       "                        <td id=\"T_5856e144_81c5_11ec_bef3_02420a393234row11_col2\" class=\"data row11 col2\" >91535.95</td>\n",
       "                        <td id=\"T_5856e144_81c5_11ec_bef3_02420a393234row11_col3\" class=\"data row11 col3\" >302.55</td>\n",
       "                        <td id=\"T_5856e144_81c5_11ec_bef3_02420a393234row11_col4\" class=\"data row11 col4\" >40295.00</td>\n",
       "            </tr>\n",
       "            <tr>\n",
       "                        <th id=\"T_5856e144_81c5_11ec_bef3_02420a393234level0_row12\" class=\"row_heading level0 row12\" rowspan=2>7</th>\n",
       "                        <th id=\"T_5856e144_81c5_11ec_bef3_02420a393234level1_row12\" class=\"row_heading level1 row12\" >smart</th>\n",
       "                        <td id=\"T_5856e144_81c5_11ec_bef3_02420a393234row12_col0\" class=\"data row12 col0\" >414.00</td>\n",
       "                        <td id=\"T_5856e144_81c5_11ec_bef3_02420a393234row12_col1\" class=\"data row12 col1\" >408.35</td>\n",
       "                        <td id=\"T_5856e144_81c5_11ec_bef3_02420a393234row12_col2\" class=\"data row12 col2\" >32250.27</td>\n",
       "                        <td id=\"T_5856e144_81c5_11ec_bef3_02420a393234row12_col3\" class=\"data row12 col3\" >179.58</td>\n",
       "                        <td id=\"T_5856e144_81c5_11ec_bef3_02420a393234row12_col4\" class=\"data row12 col4\" >82079.00</td>\n",
       "            </tr>\n",
       "            <tr>\n",
       "                                <th id=\"T_5856e144_81c5_11ec_bef3_02420a393234level1_row13\" class=\"row_heading level1 row13\" >ultra</th>\n",
       "                        <td id=\"T_5856e144_81c5_11ec_bef3_02420a393234row13_col0\" class=\"data row13 col0\" >542.00</td>\n",
       "                        <td id=\"T_5856e144_81c5_11ec_bef3_02420a393234row13_col1\" class=\"data row13 col1\" >545.79</td>\n",
       "                        <td id=\"T_5856e144_81c5_11ec_bef3_02420a393234row13_col2\" class=\"data row13 col2\" >94322.28</td>\n",
       "                        <td id=\"T_5856e144_81c5_11ec_bef3_02420a393234row13_col3\" class=\"data row13 col3\" >307.12</td>\n",
       "                        <td id=\"T_5856e144_81c5_11ec_bef3_02420a393234row13_col4\" class=\"data row13 col4\" >49667.00</td>\n",
       "            </tr>\n",
       "            <tr>\n",
       "                        <th id=\"T_5856e144_81c5_11ec_bef3_02420a393234level0_row14\" class=\"row_heading level0 row14\" rowspan=2>8</th>\n",
       "                        <th id=\"T_5856e144_81c5_11ec_bef3_02420a393234level1_row14\" class=\"row_heading level1 row14\" >smart</th>\n",
       "                        <td id=\"T_5856e144_81c5_11ec_bef3_02420a393234row14_col0\" class=\"data row14 col0\" >432.00</td>\n",
       "                        <td id=\"T_5856e144_81c5_11ec_bef3_02420a393234row14_col1\" class=\"data row14 col1\" >421.47</td>\n",
       "                        <td id=\"T_5856e144_81c5_11ec_bef3_02420a393234row14_col2\" class=\"data row14 col2\" >34793.58</td>\n",
       "                        <td id=\"T_5856e144_81c5_11ec_bef3_02420a393234row14_col3\" class=\"data row14 col3\" >186.53</td>\n",
       "                        <td id=\"T_5856e144_81c5_11ec_bef3_02420a393234row14_col4\" class=\"data row14 col4\" >99045.00</td>\n",
       "            </tr>\n",
       "            <tr>\n",
       "                                <th id=\"T_5856e144_81c5_11ec_bef3_02420a393234level1_row15\" class=\"row_heading level1 row15\" >ultra</th>\n",
       "                        <td id=\"T_5856e144_81c5_11ec_bef3_02420a393234row15_col0\" class=\"data row15 col0\" >500.00</td>\n",
       "                        <td id=\"T_5856e144_81c5_11ec_bef3_02420a393234row15_col1\" class=\"data row15 col1\" >510.78</td>\n",
       "                        <td id=\"T_5856e144_81c5_11ec_bef3_02420a393234row15_col2\" class=\"data row15 col2\" >97956.50</td>\n",
       "                        <td id=\"T_5856e144_81c5_11ec_bef3_02420a393234row15_col3\" class=\"data row15 col3\" >312.98</td>\n",
       "                        <td id=\"T_5856e144_81c5_11ec_bef3_02420a393234row15_col4\" class=\"data row15 col4\" >54653.00</td>\n",
       "            </tr>\n",
       "            <tr>\n",
       "                        <th id=\"T_5856e144_81c5_11ec_bef3_02420a393234level0_row16\" class=\"row_heading level0 row16\" rowspan=2>9</th>\n",
       "                        <th id=\"T_5856e144_81c5_11ec_bef3_02420a393234level1_row16\" class=\"row_heading level1 row16\" >smart</th>\n",
       "                        <td id=\"T_5856e144_81c5_11ec_bef3_02420a393234row16_col0\" class=\"data row16 col0\" >435.00</td>\n",
       "                        <td id=\"T_5856e144_81c5_11ec_bef3_02420a393234row16_col1\" class=\"data row16 col1\" >428.61</td>\n",
       "                        <td id=\"T_5856e144_81c5_11ec_bef3_02420a393234row16_col2\" class=\"data row16 col2\" >33535.34</td>\n",
       "                        <td id=\"T_5856e144_81c5_11ec_bef3_02420a393234row16_col3\" class=\"data row16 col3\" >183.13</td>\n",
       "                        <td id=\"T_5856e144_81c5_11ec_bef3_02420a393234row16_col4\" class=\"data row16 col4\" >111439.00</td>\n",
       "            </tr>\n",
       "            <tr>\n",
       "                                <th id=\"T_5856e144_81c5_11ec_bef3_02420a393234level1_row17\" class=\"row_heading level1 row17\" >ultra</th>\n",
       "                        <td id=\"T_5856e144_81c5_11ec_bef3_02420a393234row17_col0\" class=\"data row17 col0\" >520.00</td>\n",
       "                        <td id=\"T_5856e144_81c5_11ec_bef3_02420a393234row17_col1\" class=\"data row17 col1\" >539.44</td>\n",
       "                        <td id=\"T_5856e144_81c5_11ec_bef3_02420a393234row17_col2\" class=\"data row17 col2\" >105716.78</td>\n",
       "                        <td id=\"T_5856e144_81c5_11ec_bef3_02420a393234row17_col3\" class=\"data row17 col3\" >325.14</td>\n",
       "                        <td id=\"T_5856e144_81c5_11ec_bef3_02420a393234row17_col4\" class=\"data row17 col4\" >62036.00</td>\n",
       "            </tr>\n",
       "            <tr>\n",
       "                        <th id=\"T_5856e144_81c5_11ec_bef3_02420a393234level0_row18\" class=\"row_heading level0 row18\" rowspan=2>10</th>\n",
       "                        <th id=\"T_5856e144_81c5_11ec_bef3_02420a393234level1_row18\" class=\"row_heading level1 row18\" >smart</th>\n",
       "                        <td id=\"T_5856e144_81c5_11ec_bef3_02420a393234row18_col0\" class=\"data row18 col0\" >427.50</td>\n",
       "                        <td id=\"T_5856e144_81c5_11ec_bef3_02420a393234row18_col1\" class=\"data row18 col1\" >426.14</td>\n",
       "                        <td id=\"T_5856e144_81c5_11ec_bef3_02420a393234row18_col2\" class=\"data row18 col2\" >35392.34</td>\n",
       "                        <td id=\"T_5856e144_81c5_11ec_bef3_02420a393234row18_col3\" class=\"data row18 col3\" >188.13</td>\n",
       "                        <td id=\"T_5856e144_81c5_11ec_bef3_02420a393234row18_col4\" class=\"data row18 col4\" >125284.00</td>\n",
       "            </tr>\n",
       "            <tr>\n",
       "                                <th id=\"T_5856e144_81c5_11ec_bef3_02420a393234level1_row19\" class=\"row_heading level1 row19\" >ultra</th>\n",
       "                        <td id=\"T_5856e144_81c5_11ec_bef3_02420a393234row19_col0\" class=\"data row19 col0\" >533.00</td>\n",
       "                        <td id=\"T_5856e144_81c5_11ec_bef3_02420a393234row19_col1\" class=\"data row19 col1\" >558.08</td>\n",
       "                        <td id=\"T_5856e144_81c5_11ec_bef3_02420a393234row19_col2\" class=\"data row19 col2\" >106464.58</td>\n",
       "                        <td id=\"T_5856e144_81c5_11ec_bef3_02420a393234row19_col3\" class=\"data row19 col3\" >326.29</td>\n",
       "                        <td id=\"T_5856e144_81c5_11ec_bef3_02420a393234row19_col4\" class=\"data row19 col4\" >68644.00</td>\n",
       "            </tr>\n",
       "            <tr>\n",
       "                        <th id=\"T_5856e144_81c5_11ec_bef3_02420a393234level0_row20\" class=\"row_heading level0 row20\" rowspan=2>11</th>\n",
       "                        <th id=\"T_5856e144_81c5_11ec_bef3_02420a393234level1_row20\" class=\"row_heading level1 row20\" >smart</th>\n",
       "                        <td id=\"T_5856e144_81c5_11ec_bef3_02420a393234row20_col0\" class=\"data row20 col0\" >428.50</td>\n",
       "                        <td id=\"T_5856e144_81c5_11ec_bef3_02420a393234row20_col1\" class=\"data row20 col1\" >435.27</td>\n",
       "                        <td id=\"T_5856e144_81c5_11ec_bef3_02420a393234row20_col2\" class=\"data row20 col2\" >31605.24</td>\n",
       "                        <td id=\"T_5856e144_81c5_11ec_bef3_02420a393234row20_col3\" class=\"data row20 col3\" >177.78</td>\n",
       "                        <td id=\"T_5856e144_81c5_11ec_bef3_02420a393234row20_col4\" class=\"data row20 col4\" >137544.00</td>\n",
       "            </tr>\n",
       "            <tr>\n",
       "                                <th id=\"T_5856e144_81c5_11ec_bef3_02420a393234level1_row21\" class=\"row_heading level1 row21\" >ultra</th>\n",
       "                        <td id=\"T_5856e144_81c5_11ec_bef3_02420a393234row21_col0\" class=\"data row21 col0\" >546.00</td>\n",
       "                        <td id=\"T_5856e144_81c5_11ec_bef3_02420a393234row21_col1\" class=\"data row21 col1\" >541.38</td>\n",
       "                        <td id=\"T_5856e144_81c5_11ec_bef3_02420a393234row21_col2\" class=\"data row21 col2\" >96570.06</td>\n",
       "                        <td id=\"T_5856e144_81c5_11ec_bef3_02420a393234row21_col3\" class=\"data row21 col3\" >310.76</td>\n",
       "                        <td id=\"T_5856e144_81c5_11ec_bef3_02420a393234row21_col4\" class=\"data row21 col4\" >72545.00</td>\n",
       "            </tr>\n",
       "            <tr>\n",
       "                        <th id=\"T_5856e144_81c5_11ec_bef3_02420a393234level0_row22\" class=\"row_heading level0 row22\" rowspan=2>12</th>\n",
       "                        <th id=\"T_5856e144_81c5_11ec_bef3_02420a393234level1_row22\" class=\"row_heading level1 row22\" >smart</th>\n",
       "                        <td id=\"T_5856e144_81c5_11ec_bef3_02420a393234row22_col0\" class=\"data row22 col0\" >471.00</td>\n",
       "                        <td id=\"T_5856e144_81c5_11ec_bef3_02420a393234row22_col1\" class=\"data row22 col1\" >478.56</td>\n",
       "                        <td id=\"T_5856e144_81c5_11ec_bef3_02420a393234row22_col2\" class=\"data row22 col2\" >39698.62</td>\n",
       "                        <td id=\"T_5856e144_81c5_11ec_bef3_02420a393234row22_col3\" class=\"data row22 col3\" >199.25</td>\n",
       "                        <td id=\"T_5856e144_81c5_11ec_bef3_02420a393234row22_col4\" class=\"data row22 col4\" >161275.00</td>\n",
       "            </tr>\n",
       "            <tr>\n",
       "                                <th id=\"T_5856e144_81c5_11ec_bef3_02420a393234level1_row23\" class=\"row_heading level1 row23\" >ultra</th>\n",
       "                        <td id=\"T_5856e144_81c5_11ec_bef3_02420a393234row23_col0\" class=\"data row23 col0\" >584.00</td>\n",
       "                        <td id=\"T_5856e144_81c5_11ec_bef3_02420a393234row23_col1\" class=\"data row23 col1\" >592.81</td>\n",
       "                        <td id=\"T_5856e144_81c5_11ec_bef3_02420a393234row23_col2\" class=\"data row23 col2\" >117276.33</td>\n",
       "                        <td id=\"T_5856e144_81c5_11ec_bef3_02420a393234row23_col3\" class=\"data row23 col3\" >342.46</td>\n",
       "                        <td id=\"T_5856e144_81c5_11ec_bef3_02420a393234row23_col4\" class=\"data row23 col4\" >82400.00</td>\n",
       "            </tr>\n",
       "    </tbody></table>"
      ],
      "text/plain": [
       "<pandas.io.formats.style.Styler at 0x7f5815fe4890>"
      ]
     },
     "execution_count": 66,
     "metadata": {},
     "output_type": "execute_result"
    }
   ],
   "source": [
    "df.pivot_table(\n",
    "    index=['month', 'tariff_name'], \n",
    "    values='duration', \n",
    "    aggfunc=['median','mean','var','std','sum'])\\\n",
    "    .droplevel(1, axis=1).style.format(\"{:.2f}\")"
   ]
  },
  {
   "cell_type": "markdown",
   "metadata": {},
   "source": [
    "Рассчитаем длительность звонков в месяц для каждого пользователя"
   ]
  },
  {
   "cell_type": "code",
   "execution_count": 67,
   "metadata": {},
   "outputs": [
    {
     "data": {
      "text/html": [
       "<div>\n",
       "<style scoped>\n",
       "    .dataframe tbody tr th:only-of-type {\n",
       "        vertical-align: middle;\n",
       "    }\n",
       "\n",
       "    .dataframe tbody tr th {\n",
       "        vertical-align: top;\n",
       "    }\n",
       "\n",
       "    .dataframe thead th {\n",
       "        text-align: right;\n",
       "    }\n",
       "</style>\n",
       "<table border=\"1\" class=\"dataframe\">\n",
       "  <thead>\n",
       "    <tr style=\"text-align: right;\">\n",
       "      <th></th>\n",
       "      <th></th>\n",
       "      <th></th>\n",
       "      <th>sum</th>\n",
       "    </tr>\n",
       "    <tr>\n",
       "      <th>user_id</th>\n",
       "      <th>month</th>\n",
       "      <th>tariff_name</th>\n",
       "      <th></th>\n",
       "    </tr>\n",
       "  </thead>\n",
       "  <tbody>\n",
       "    <tr>\n",
       "      <td rowspan=\"8\" valign=\"top\">1000</td>\n",
       "      <td>5</td>\n",
       "      <td>ultra</td>\n",
       "      <td>159.0</td>\n",
       "    </tr>\n",
       "    <tr>\n",
       "      <td>6</td>\n",
       "      <td>ultra</td>\n",
       "      <td>172.0</td>\n",
       "    </tr>\n",
       "    <tr>\n",
       "      <td>7</td>\n",
       "      <td>ultra</td>\n",
       "      <td>340.0</td>\n",
       "    </tr>\n",
       "    <tr>\n",
       "      <td>8</td>\n",
       "      <td>ultra</td>\n",
       "      <td>408.0</td>\n",
       "    </tr>\n",
       "    <tr>\n",
       "      <td>9</td>\n",
       "      <td>ultra</td>\n",
       "      <td>466.0</td>\n",
       "    </tr>\n",
       "    <tr>\n",
       "      <td>10</td>\n",
       "      <td>ultra</td>\n",
       "      <td>350.0</td>\n",
       "    </tr>\n",
       "    <tr>\n",
       "      <td>11</td>\n",
       "      <td>ultra</td>\n",
       "      <td>338.0</td>\n",
       "    </tr>\n",
       "    <tr>\n",
       "      <td>12</td>\n",
       "      <td>ultra</td>\n",
       "      <td>333.0</td>\n",
       "    </tr>\n",
       "    <tr>\n",
       "      <td rowspan=\"2\" valign=\"top\">1001</td>\n",
       "      <td>11</td>\n",
       "      <td>smart</td>\n",
       "      <td>430.0</td>\n",
       "    </tr>\n",
       "    <tr>\n",
       "      <td>12</td>\n",
       "      <td>smart</td>\n",
       "      <td>414.0</td>\n",
       "    </tr>\n",
       "  </tbody>\n",
       "</table>\n",
       "</div>"
      ],
      "text/plain": [
       "                             sum\n",
       "user_id month tariff_name       \n",
       "1000    5     ultra        159.0\n",
       "        6     ultra        172.0\n",
       "        7     ultra        340.0\n",
       "        8     ultra        408.0\n",
       "        9     ultra        466.0\n",
       "        10    ultra        350.0\n",
       "        11    ultra        338.0\n",
       "        12    ultra        333.0\n",
       "1001    11    smart        430.0\n",
       "        12    smart        414.0"
      ]
     },
     "execution_count": 67,
     "metadata": {},
     "output_type": "execute_result"
    }
   ],
   "source": [
    "df_total_calls = df.pivot_table(\n",
    "    index=['user_id', 'month', 'tariff_name'], \n",
    "    values='duration', \n",
    "    aggfunc=['sum']).droplevel(1, axis=1)\n",
    "\n",
    "df_total_calls.head(10)"
   ]
  },
  {
   "cell_type": "markdown",
   "metadata": {},
   "source": [
    "Построим диаграмму длительности звонков для обоих тарифов"
   ]
  },
  {
   "cell_type": "code",
   "execution_count": 68,
   "metadata": {},
   "outputs": [
    {
     "data": {
      "image/png": "[encoded data removed]",
      "text/plain": [
       "<Figure size 1080x360 with 1 Axes>"
      ]
     },
     "metadata": {
      "needs_background": "light"
     },
     "output_type": "display_data"
    }
   ],
   "source": [
    "df_total_calls\\\n",
    "    .query('tariff_name == \"smart\"')['sum']\\\n",
    "    .plot(kind='hist', bins=100, alpha=0.7, color='green', grid=True, figsize=(15,5), label ='Smart')\n",
    "\n",
    "df_total_calls\\\n",
    "    .query('tariff_name == \"ultra\"')['sum']\\\n",
    "    .plot(kind='hist', bins=100, alpha=0.5, color='red', grid=True, figsize=(15,5), label ='Ultra')\n",
    "\n",
    "plt.title('Диаграмма длительности звонков')\n",
    "plt.xlabel('Количество')\n",
    "plt.ylabel('Длительность')\n",
    "plt.legend()\n",
    "plt.show()"
   ]
  },
  {
   "cell_type": "markdown",
   "metadata": {},
   "source": [
    "Наблюдаются выбросы около нуля, в целом длительность звонком распределена по Пуассону"
   ]
  },
  {
   "cell_type": "markdown",
   "metadata": {},
   "source": [
    "### Сообщения"
   ]
  },
  {
   "cell_type": "markdown",
   "metadata": {},
   "source": [
    "Рассчитаем среднее и медианное значение, дисперсию и стандартное отклонение для всех месяцев и для каждого месяца отдельно"
   ]
  },
  {
   "cell_type": "code",
   "execution_count": 69,
   "metadata": {},
   "outputs": [
    {
     "data": {
      "text/html": [
       "<style  type=\"text/css\" >\n",
       "</style><table id=\"T_595968b4_81c5_11ec_bef3_02420a393234\" ><thead>    <tr>        <th class=\"blank level0\" ></th>        <th class=\"col_heading level0 col0\" >median</th>        <th class=\"col_heading level0 col1\" >mean</th>        <th class=\"col_heading level0 col2\" >var</th>        <th class=\"col_heading level0 col3\" >std</th>        <th class=\"col_heading level0 col4\" >sum</th>    </tr>    <tr>        <th class=\"index_name level0\" >tariff_name</th>        <th class=\"blank\" ></th>        <th class=\"blank\" ></th>        <th class=\"blank\" ></th>        <th class=\"blank\" ></th>        <th class=\"blank\" ></th>    </tr></thead><tbody>\n",
       "                <tr>\n",
       "                        <th id=\"T_595968b4_81c5_11ec_bef3_02420a393234level0_row0\" class=\"row_heading level0 row0\" >smart</th>\n",
       "                        <td id=\"T_595968b4_81c5_11ec_bef3_02420a393234row0_col0\" class=\"data row0 col0\" >28.00</td>\n",
       "                        <td id=\"T_595968b4_81c5_11ec_bef3_02420a393234row0_col1\" class=\"data row0 col1\" >33.38</td>\n",
       "                        <td id=\"T_595968b4_81c5_11ec_bef3_02420a393234row0_col2\" class=\"data row0 col2\" >796.81</td>\n",
       "                        <td id=\"T_595968b4_81c5_11ec_bef3_02420a393234row0_col3\" class=\"data row0 col3\" >28.23</td>\n",
       "                        <td id=\"T_595968b4_81c5_11ec_bef3_02420a393234row0_col4\" class=\"data row0 col4\" >74413.00</td>\n",
       "            </tr>\n",
       "            <tr>\n",
       "                        <th id=\"T_595968b4_81c5_11ec_bef3_02420a393234level0_row1\" class=\"row_heading level0 row1\" >ultra</th>\n",
       "                        <td id=\"T_595968b4_81c5_11ec_bef3_02420a393234row1_col0\" class=\"data row1 col0\" >38.00</td>\n",
       "                        <td id=\"T_595968b4_81c5_11ec_bef3_02420a393234row1_col1\" class=\"data row1 col1\" >49.36</td>\n",
       "                        <td id=\"T_595968b4_81c5_11ec_bef3_02420a393234row1_col2\" class=\"data row1 col2\" >2285.27</td>\n",
       "                        <td id=\"T_595968b4_81c5_11ec_bef3_02420a393234row1_col3\" class=\"data row1 col3\" >47.80</td>\n",
       "                        <td id=\"T_595968b4_81c5_11ec_bef3_02420a393234row1_col4\" class=\"data row1 col4\" >48623.00</td>\n",
       "            </tr>\n",
       "    </tbody></table>"
      ],
      "text/plain": [
       "<pandas.io.formats.style.Styler at 0x7f5814c0e790>"
      ]
     },
     "execution_count": 69,
     "metadata": {},
     "output_type": "execute_result"
    }
   ],
   "source": [
    "df.pivot_table(\n",
    "    index='tariff_name', \n",
    "    values='total_messages_count', \n",
    "    aggfunc=['median','mean','var','std','sum'])\\\n",
    "    .droplevel(1, axis=1).style.format(\"{:.2f}\")"
   ]
  },
  {
   "cell_type": "code",
   "execution_count": 70,
   "metadata": {},
   "outputs": [
    {
     "data": {
      "text/html": [
       "<style  type=\"text/css\" >\n",
       "</style><table id=\"T_59799620_81c5_11ec_bef3_02420a393234\" ><thead>    <tr>        <th class=\"blank\" ></th>        <th class=\"blank level0\" ></th>        <th class=\"col_heading level0 col0\" >median</th>        <th class=\"col_heading level0 col1\" >mean</th>        <th class=\"col_heading level0 col2\" >var</th>        <th class=\"col_heading level0 col3\" >std</th>        <th class=\"col_heading level0 col4\" >sum</th>    </tr>    <tr>        <th class=\"index_name level0\" >month</th>        <th class=\"index_name level1\" >tariff_name</th>        <th class=\"blank\" ></th>        <th class=\"blank\" ></th>        <th class=\"blank\" ></th>        <th class=\"blank\" ></th>        <th class=\"blank\" ></th>    </tr></thead><tbody>\n",
       "                <tr>\n",
       "                        <th id=\"T_59799620_81c5_11ec_bef3_02420a393234level0_row0\" class=\"row_heading level0 row0\" rowspan=2>1</th>\n",
       "                        <th id=\"T_59799620_81c5_11ec_bef3_02420a393234level1_row0\" class=\"row_heading level1 row0\" >smart</th>\n",
       "                        <td id=\"T_59799620_81c5_11ec_bef3_02420a393234row0_col0\" class=\"data row0 col0\" >15.00</td>\n",
       "                        <td id=\"T_59799620_81c5_11ec_bef3_02420a393234row0_col1\" class=\"data row0 col1\" >18.24</td>\n",
       "                        <td id=\"T_59799620_81c5_11ec_bef3_02420a393234row0_col2\" class=\"data row0 col2\" >262.37</td>\n",
       "                        <td id=\"T_59799620_81c5_11ec_bef3_02420a393234row0_col3\" class=\"data row0 col3\" >16.20</td>\n",
       "                        <td id=\"T_59799620_81c5_11ec_bef3_02420a393234row0_col4\" class=\"data row0 col4\" >620.00</td>\n",
       "            </tr>\n",
       "            <tr>\n",
       "                                <th id=\"T_59799620_81c5_11ec_bef3_02420a393234level1_row1\" class=\"row_heading level1 row1\" >ultra</th>\n",
       "                        <td id=\"T_59799620_81c5_11ec_bef3_02420a393234row1_col0\" class=\"data row1 col0\" >32.00</td>\n",
       "                        <td id=\"T_59799620_81c5_11ec_bef3_02420a393234row1_col1\" class=\"data row1 col1\" >33.78</td>\n",
       "                        <td id=\"T_59799620_81c5_11ec_bef3_02420a393234row1_col2\" class=\"data row1 col2\" >940.69</td>\n",
       "                        <td id=\"T_59799620_81c5_11ec_bef3_02420a393234row1_col3\" class=\"data row1 col3\" >30.67</td>\n",
       "                        <td id=\"T_59799620_81c5_11ec_bef3_02420a393234row1_col4\" class=\"data row1 col4\" >304.00</td>\n",
       "            </tr>\n",
       "            <tr>\n",
       "                        <th id=\"T_59799620_81c5_11ec_bef3_02420a393234level0_row2\" class=\"row_heading level0 row2\" rowspan=2>2</th>\n",
       "                        <th id=\"T_59799620_81c5_11ec_bef3_02420a393234level1_row2\" class=\"row_heading level1 row2\" >smart</th>\n",
       "                        <td id=\"T_59799620_81c5_11ec_bef3_02420a393234row2_col0\" class=\"data row2 col0\" >20.00</td>\n",
       "                        <td id=\"T_59799620_81c5_11ec_bef3_02420a393234row2_col1\" class=\"data row2 col1\" >24.09</td>\n",
       "                        <td id=\"T_59799620_81c5_11ec_bef3_02420a393234row2_col2\" class=\"data row2 col2\" >473.10</td>\n",
       "                        <td id=\"T_59799620_81c5_11ec_bef3_02420a393234row2_col3\" class=\"data row2 col3\" >21.75</td>\n",
       "                        <td id=\"T_59799620_81c5_11ec_bef3_02420a393234row2_col4\" class=\"data row2 col4\" >1397.00</td>\n",
       "            </tr>\n",
       "            <tr>\n",
       "                                <th id=\"T_59799620_81c5_11ec_bef3_02420a393234level1_row3\" class=\"row_heading level1 row3\" >ultra</th>\n",
       "                        <td id=\"T_59799620_81c5_11ec_bef3_02420a393234row3_col0\" class=\"data row3 col0\" >5.50</td>\n",
       "                        <td id=\"T_59799620_81c5_11ec_bef3_02420a393234row3_col1\" class=\"data row3 col1\" >21.96</td>\n",
       "                        <td id=\"T_59799620_81c5_11ec_bef3_02420a393234row3_col2\" class=\"data row3 col2\" >716.82</td>\n",
       "                        <td id=\"T_59799620_81c5_11ec_bef3_02420a393234row3_col3\" class=\"data row3 col3\" >26.77</td>\n",
       "                        <td id=\"T_59799620_81c5_11ec_bef3_02420a393234row3_col4\" class=\"data row3 col4\" >527.00</td>\n",
       "            </tr>\n",
       "            <tr>\n",
       "                        <th id=\"T_59799620_81c5_11ec_bef3_02420a393234level0_row4\" class=\"row_heading level0 row4\" rowspan=2>3</th>\n",
       "                        <th id=\"T_59799620_81c5_11ec_bef3_02420a393234level1_row4\" class=\"row_heading level1 row4\" >smart</th>\n",
       "                        <td id=\"T_59799620_81c5_11ec_bef3_02420a393234row4_col0\" class=\"data row4 col0\" >23.00</td>\n",
       "                        <td id=\"T_59799620_81c5_11ec_bef3_02420a393234row4_col1\" class=\"data row4 col1\" >31.86</td>\n",
       "                        <td id=\"T_59799620_81c5_11ec_bef3_02420a393234row4_col2\" class=\"data row4 col2\" >718.49</td>\n",
       "                        <td id=\"T_59799620_81c5_11ec_bef3_02420a393234row4_col3\" class=\"data row4 col3\" >26.80</td>\n",
       "                        <td id=\"T_59799620_81c5_11ec_bef3_02420a393234row4_col4\" class=\"data row4 col4\" >2453.00</td>\n",
       "            </tr>\n",
       "            <tr>\n",
       "                                <th id=\"T_59799620_81c5_11ec_bef3_02420a393234level1_row5\" class=\"row_heading level1 row5\" >ultra</th>\n",
       "                        <td id=\"T_59799620_81c5_11ec_bef3_02420a393234row5_col0\" class=\"data row5 col0\" >20.00</td>\n",
       "                        <td id=\"T_59799620_81c5_11ec_bef3_02420a393234row5_col1\" class=\"data row5 col1\" >32.30</td>\n",
       "                        <td id=\"T_59799620_81c5_11ec_bef3_02420a393234row5_col2\" class=\"data row5 col2\" >1732.38</td>\n",
       "                        <td id=\"T_59799620_81c5_11ec_bef3_02420a393234row5_col3\" class=\"data row5 col3\" >41.62</td>\n",
       "                        <td id=\"T_59799620_81c5_11ec_bef3_02420a393234row5_col4\" class=\"data row5 col4\" >1195.00</td>\n",
       "            </tr>\n",
       "            <tr>\n",
       "                        <th id=\"T_59799620_81c5_11ec_bef3_02420a393234level0_row6\" class=\"row_heading level0 row6\" rowspan=2>4</th>\n",
       "                        <th id=\"T_59799620_81c5_11ec_bef3_02420a393234level1_row6\" class=\"row_heading level1 row6\" >smart</th>\n",
       "                        <td id=\"T_59799620_81c5_11ec_bef3_02420a393234row6_col0\" class=\"data row6 col0\" >28.00</td>\n",
       "                        <td id=\"T_59799620_81c5_11ec_bef3_02420a393234row6_col1\" class=\"data row6 col1\" >30.74</td>\n",
       "                        <td id=\"T_59799620_81c5_11ec_bef3_02420a393234row6_col2\" class=\"data row6 col2\" >602.14</td>\n",
       "                        <td id=\"T_59799620_81c5_11ec_bef3_02420a393234row6_col3\" class=\"data row6 col3\" >24.54</td>\n",
       "                        <td id=\"T_59799620_81c5_11ec_bef3_02420a393234row6_col4\" class=\"data row6 col4\" >3443.00</td>\n",
       "            </tr>\n",
       "            <tr>\n",
       "                                <th id=\"T_59799620_81c5_11ec_bef3_02420a393234level1_row7\" class=\"row_heading level1 row7\" >ultra</th>\n",
       "                        <td id=\"T_59799620_81c5_11ec_bef3_02420a393234row7_col0\" class=\"data row7 col0\" >17.00</td>\n",
       "                        <td id=\"T_59799620_81c5_11ec_bef3_02420a393234row7_col1\" class=\"data row7 col1\" >31.56</td>\n",
       "                        <td id=\"T_59799620_81c5_11ec_bef3_02420a393234row7_col2\" class=\"data row7 col2\" >1407.29</td>\n",
       "                        <td id=\"T_59799620_81c5_11ec_bef3_02420a393234row7_col3\" class=\"data row7 col3\" >37.51</td>\n",
       "                        <td id=\"T_59799620_81c5_11ec_bef3_02420a393234row7_col4\" class=\"data row7 col4\" >1736.00</td>\n",
       "            </tr>\n",
       "            <tr>\n",
       "                        <th id=\"T_59799620_81c5_11ec_bef3_02420a393234level0_row8\" class=\"row_heading level0 row8\" rowspan=2>5</th>\n",
       "                        <th id=\"T_59799620_81c5_11ec_bef3_02420a393234level1_row8\" class=\"row_heading level1 row8\" >smart</th>\n",
       "                        <td id=\"T_59799620_81c5_11ec_bef3_02420a393234row8_col0\" class=\"data row8 col0\" >30.00</td>\n",
       "                        <td id=\"T_59799620_81c5_11ec_bef3_02420a393234row8_col1\" class=\"data row8 col1\" >33.77</td>\n",
       "                        <td id=\"T_59799620_81c5_11ec_bef3_02420a393234row8_col2\" class=\"data row8 col2\" >730.99</td>\n",
       "                        <td id=\"T_59799620_81c5_11ec_bef3_02420a393234row8_col3\" class=\"data row8 col3\" >27.04</td>\n",
       "                        <td id=\"T_59799620_81c5_11ec_bef3_02420a393234row8_col4\" class=\"data row8 col4\" >4762.00</td>\n",
       "            </tr>\n",
       "            <tr>\n",
       "                                <th id=\"T_59799620_81c5_11ec_bef3_02420a393234level1_row9\" class=\"row_heading level1 row9\" >ultra</th>\n",
       "                        <td id=\"T_59799620_81c5_11ec_bef3_02420a393234row9_col0\" class=\"data row9 col0\" >25.00</td>\n",
       "                        <td id=\"T_59799620_81c5_11ec_bef3_02420a393234row9_col1\" class=\"data row9 col1\" >37.85</td>\n",
       "                        <td id=\"T_59799620_81c5_11ec_bef3_02420a393234row9_col2\" class=\"data row9 col2\" >1624.64</td>\n",
       "                        <td id=\"T_59799620_81c5_11ec_bef3_02420a393234row9_col3\" class=\"data row9 col3\" >40.31</td>\n",
       "                        <td id=\"T_59799620_81c5_11ec_bef3_02420a393234row9_col4\" class=\"data row9 col4\" >2536.00</td>\n",
       "            </tr>\n",
       "            <tr>\n",
       "                        <th id=\"T_59799620_81c5_11ec_bef3_02420a393234level0_row10\" class=\"row_heading level0 row10\" rowspan=2>6</th>\n",
       "                        <th id=\"T_59799620_81c5_11ec_bef3_02420a393234level1_row10\" class=\"row_heading level1 row10\" >smart</th>\n",
       "                        <td id=\"T_59799620_81c5_11ec_bef3_02420a393234row10_col0\" class=\"data row10 col0\" >28.00</td>\n",
       "                        <td id=\"T_59799620_81c5_11ec_bef3_02420a393234row10_col1\" class=\"data row10 col1\" >33.40</td>\n",
       "                        <td id=\"T_59799620_81c5_11ec_bef3_02420a393234row10_col2\" class=\"data row10 col2\" >806.81</td>\n",
       "                        <td id=\"T_59799620_81c5_11ec_bef3_02420a393234row10_col3\" class=\"data row10 col3\" >28.40</td>\n",
       "                        <td id=\"T_59799620_81c5_11ec_bef3_02420a393234row10_col4\" class=\"data row10 col4\" >5478.00</td>\n",
       "            </tr>\n",
       "            <tr>\n",
       "                                <th id=\"T_59799620_81c5_11ec_bef3_02420a393234level1_row11\" class=\"row_heading level1 row11\" >ultra</th>\n",
       "                        <td id=\"T_59799620_81c5_11ec_bef3_02420a393234row11_col0\" class=\"data row11 col0\" >27.50</td>\n",
       "                        <td id=\"T_59799620_81c5_11ec_bef3_02420a393234row11_col1\" class=\"data row11 col1\" >41.73</td>\n",
       "                        <td id=\"T_59799620_81c5_11ec_bef3_02420a393234row11_col2\" class=\"data row11 col2\" >1986.30</td>\n",
       "                        <td id=\"T_59799620_81c5_11ec_bef3_02420a393234row11_col3\" class=\"data row11 col3\" >44.57</td>\n",
       "                        <td id=\"T_59799620_81c5_11ec_bef3_02420a393234row11_col4\" class=\"data row11 col4\" >3505.00</td>\n",
       "            </tr>\n",
       "            <tr>\n",
       "                        <th id=\"T_59799620_81c5_11ec_bef3_02420a393234level0_row12\" class=\"row_heading level0 row12\" rowspan=2>7</th>\n",
       "                        <th id=\"T_59799620_81c5_11ec_bef3_02420a393234level1_row12\" class=\"row_heading level1 row12\" >smart</th>\n",
       "                        <td id=\"T_59799620_81c5_11ec_bef3_02420a393234row12_col0\" class=\"data row12 col0\" >29.00</td>\n",
       "                        <td id=\"T_59799620_81c5_11ec_bef3_02420a393234row12_col1\" class=\"data row12 col1\" >33.75</td>\n",
       "                        <td id=\"T_59799620_81c5_11ec_bef3_02420a393234row12_col2\" class=\"data row12 col2\" >799.89</td>\n",
       "                        <td id=\"T_59799620_81c5_11ec_bef3_02420a393234row12_col3\" class=\"data row12 col3\" >28.28</td>\n",
       "                        <td id=\"T_59799620_81c5_11ec_bef3_02420a393234row12_col4\" class=\"data row12 col4\" >6784.00</td>\n",
       "            </tr>\n",
       "            <tr>\n",
       "                                <th id=\"T_59799620_81c5_11ec_bef3_02420a393234level1_row13\" class=\"row_heading level1 row13\" >ultra</th>\n",
       "                        <td id=\"T_59799620_81c5_11ec_bef3_02420a393234row13_col0\" class=\"data row13 col0\" >38.00</td>\n",
       "                        <td id=\"T_59799620_81c5_11ec_bef3_02420a393234row13_col1\" class=\"data row13 col1\" >49.85</td>\n",
       "                        <td id=\"T_59799620_81c5_11ec_bef3_02420a393234row13_col2\" class=\"data row13 col2\" >2372.04</td>\n",
       "                        <td id=\"T_59799620_81c5_11ec_bef3_02420a393234row13_col3\" class=\"data row13 col3\" >48.70</td>\n",
       "                        <td id=\"T_59799620_81c5_11ec_bef3_02420a393234row13_col4\" class=\"data row13 col4\" >4536.00</td>\n",
       "            </tr>\n",
       "            <tr>\n",
       "                        <th id=\"T_59799620_81c5_11ec_bef3_02420a393234level0_row14\" class=\"row_heading level0 row14\" rowspan=2>8</th>\n",
       "                        <th id=\"T_59799620_81c5_11ec_bef3_02420a393234level1_row14\" class=\"row_heading level1 row14\" >smart</th>\n",
       "                        <td id=\"T_59799620_81c5_11ec_bef3_02420a393234row14_col0\" class=\"data row14 col0\" >27.00</td>\n",
       "                        <td id=\"T_59799620_81c5_11ec_bef3_02420a393234row14_col1\" class=\"data row14 col1\" >33.64</td>\n",
       "                        <td id=\"T_59799620_81c5_11ec_bef3_02420a393234row14_col2\" class=\"data row14 col2\" >838.26</td>\n",
       "                        <td id=\"T_59799620_81c5_11ec_bef3_02420a393234row14_col3\" class=\"data row14 col3\" >28.95</td>\n",
       "                        <td id=\"T_59799620_81c5_11ec_bef3_02420a393234row14_col4\" class=\"data row14 col4\" >7905.00</td>\n",
       "            </tr>\n",
       "            <tr>\n",
       "                                <th id=\"T_59799620_81c5_11ec_bef3_02420a393234level1_row15\" class=\"row_heading level1 row15\" >ultra</th>\n",
       "                        <td id=\"T_59799620_81c5_11ec_bef3_02420a393234row15_col0\" class=\"data row15 col0\" >40.00</td>\n",
       "                        <td id=\"T_59799620_81c5_11ec_bef3_02420a393234row15_col1\" class=\"data row15 col1\" >48.44</td>\n",
       "                        <td id=\"T_59799620_81c5_11ec_bef3_02420a393234row15_col2\" class=\"data row15 col2\" >2171.74</td>\n",
       "                        <td id=\"T_59799620_81c5_11ec_bef3_02420a393234row15_col3\" class=\"data row15 col3\" >46.60</td>\n",
       "                        <td id=\"T_59799620_81c5_11ec_bef3_02420a393234row15_col4\" class=\"data row15 col4\" >5183.00</td>\n",
       "            </tr>\n",
       "            <tr>\n",
       "                        <th id=\"T_59799620_81c5_11ec_bef3_02420a393234level0_row16\" class=\"row_heading level0 row16\" rowspan=2>9</th>\n",
       "                        <th id=\"T_59799620_81c5_11ec_bef3_02420a393234level1_row16\" class=\"row_heading level1 row16\" >smart</th>\n",
       "                        <td id=\"T_59799620_81c5_11ec_bef3_02420a393234row16_col0\" class=\"data row16 col0\" >30.00</td>\n",
       "                        <td id=\"T_59799620_81c5_11ec_bef3_02420a393234row16_col1\" class=\"data row16 col1\" >33.64</td>\n",
       "                        <td id=\"T_59799620_81c5_11ec_bef3_02420a393234row16_col2\" class=\"data row16 col2\" >790.62</td>\n",
       "                        <td id=\"T_59799620_81c5_11ec_bef3_02420a393234row16_col3\" class=\"data row16 col3\" >28.12</td>\n",
       "                        <td id=\"T_59799620_81c5_11ec_bef3_02420a393234row16_col4\" class=\"data row16 col4\" >8746.00</td>\n",
       "            </tr>\n",
       "            <tr>\n",
       "                                <th id=\"T_59799620_81c5_11ec_bef3_02420a393234level1_row17\" class=\"row_heading level1 row17\" >ultra</th>\n",
       "                        <td id=\"T_59799620_81c5_11ec_bef3_02420a393234row17_col0\" class=\"data row17 col0\" >43.00</td>\n",
       "                        <td id=\"T_59799620_81c5_11ec_bef3_02420a393234row17_col1\" class=\"data row17 col1\" >52.29</td>\n",
       "                        <td id=\"T_59799620_81c5_11ec_bef3_02420a393234row17_col2\" class=\"data row17 col2\" >2152.86</td>\n",
       "                        <td id=\"T_59799620_81c5_11ec_bef3_02420a393234row17_col3\" class=\"data row17 col3\" >46.40</td>\n",
       "                        <td id=\"T_59799620_81c5_11ec_bef3_02420a393234row17_col4\" class=\"data row17 col4\" >6013.00</td>\n",
       "            </tr>\n",
       "            <tr>\n",
       "                        <th id=\"T_59799620_81c5_11ec_bef3_02420a393234level0_row18\" class=\"row_heading level0 row18\" rowspan=2>10</th>\n",
       "                        <th id=\"T_59799620_81c5_11ec_bef3_02420a393234level1_row18\" class=\"row_heading level1 row18\" >smart</th>\n",
       "                        <td id=\"T_59799620_81c5_11ec_bef3_02420a393234row18_col0\" class=\"data row18 col0\" >30.00</td>\n",
       "                        <td id=\"T_59799620_81c5_11ec_bef3_02420a393234row18_col1\" class=\"data row18 col1\" >33.77</td>\n",
       "                        <td id=\"T_59799620_81c5_11ec_bef3_02420a393234row18_col2\" class=\"data row18 col2\" >816.11</td>\n",
       "                        <td id=\"T_59799620_81c5_11ec_bef3_02420a393234row18_col3\" class=\"data row18 col3\" >28.57</td>\n",
       "                        <td id=\"T_59799620_81c5_11ec_bef3_02420a393234row18_col4\" class=\"data row18 col4\" >9927.00</td>\n",
       "            </tr>\n",
       "            <tr>\n",
       "                                <th id=\"T_59799620_81c5_11ec_bef3_02420a393234level1_row19\" class=\"row_heading level1 row19\" >ultra</th>\n",
       "                        <td id=\"T_59799620_81c5_11ec_bef3_02420a393234row19_col0\" class=\"data row19 col0\" >49.00</td>\n",
       "                        <td id=\"T_59799620_81c5_11ec_bef3_02420a393234row19_col1\" class=\"data row19 col1\" >58.43</td>\n",
       "                        <td id=\"T_59799620_81c5_11ec_bef3_02420a393234row19_col2\" class=\"data row19 col2\" >2697.18</td>\n",
       "                        <td id=\"T_59799620_81c5_11ec_bef3_02420a393234row19_col3\" class=\"data row19 col3\" >51.93</td>\n",
       "                        <td id=\"T_59799620_81c5_11ec_bef3_02420a393234row19_col4\" class=\"data row19 col4\" >7187.00</td>\n",
       "            </tr>\n",
       "            <tr>\n",
       "                        <th id=\"T_59799620_81c5_11ec_bef3_02420a393234level0_row20\" class=\"row_heading level0 row20\" rowspan=2>11</th>\n",
       "                        <th id=\"T_59799620_81c5_11ec_bef3_02420a393234level1_row20\" class=\"row_heading level1 row20\" >smart</th>\n",
       "                        <td id=\"T_59799620_81c5_11ec_bef3_02420a393234row20_col0\" class=\"data row20 col0\" >28.00</td>\n",
       "                        <td id=\"T_59799620_81c5_11ec_bef3_02420a393234row20_col1\" class=\"data row20 col1\" >34.08</td>\n",
       "                        <td id=\"T_59799620_81c5_11ec_bef3_02420a393234row20_col2\" class=\"data row20 col2\" >805.94</td>\n",
       "                        <td id=\"T_59799620_81c5_11ec_bef3_02420a393234row20_col3\" class=\"data row20 col3\" >28.39</td>\n",
       "                        <td id=\"T_59799620_81c5_11ec_bef3_02420a393234row20_col4\" class=\"data row20 col4\" >10768.00</td>\n",
       "            </tr>\n",
       "            <tr>\n",
       "                                <th id=\"T_59799620_81c5_11ec_bef3_02420a393234level1_row21\" class=\"row_heading level1 row21\" >ultra</th>\n",
       "                        <td id=\"T_59799620_81c5_11ec_bef3_02420a393234row21_col0\" class=\"data row21 col0\" >43.00</td>\n",
       "                        <td id=\"T_59799620_81c5_11ec_bef3_02420a393234row21_col1\" class=\"data row21 col1\" >55.79</td>\n",
       "                        <td id=\"T_59799620_81c5_11ec_bef3_02420a393234row21_col2\" class=\"data row21 col2\" >2476.95</td>\n",
       "                        <td id=\"T_59799620_81c5_11ec_bef3_02420a393234row21_col3\" class=\"data row21 col3\" >49.77</td>\n",
       "                        <td id=\"T_59799620_81c5_11ec_bef3_02420a393234row21_col4\" class=\"data row21 col4\" >7476.00</td>\n",
       "            </tr>\n",
       "            <tr>\n",
       "                        <th id=\"T_59799620_81c5_11ec_bef3_02420a393234level0_row22\" class=\"row_heading level0 row22\" rowspan=2>12</th>\n",
       "                        <th id=\"T_59799620_81c5_11ec_bef3_02420a393234level1_row22\" class=\"row_heading level1 row22\" >smart</th>\n",
       "                        <td id=\"T_59799620_81c5_11ec_bef3_02420a393234row22_col0\" class=\"data row22 col0\" >29.00</td>\n",
       "                        <td id=\"T_59799620_81c5_11ec_bef3_02420a393234row22_col1\" class=\"data row22 col1\" >35.99</td>\n",
       "                        <td id=\"T_59799620_81c5_11ec_bef3_02420a393234row22_col2\" class=\"data row22 col2\" >934.95</td>\n",
       "                        <td id=\"T_59799620_81c5_11ec_bef3_02420a393234row22_col3\" class=\"data row22 col3\" >30.58</td>\n",
       "                        <td id=\"T_59799620_81c5_11ec_bef3_02420a393234row22_col4\" class=\"data row22 col4\" >12130.00</td>\n",
       "            </tr>\n",
       "            <tr>\n",
       "                                <th id=\"T_59799620_81c5_11ec_bef3_02420a393234level1_row23\" class=\"row_heading level1 row23\" >ultra</th>\n",
       "                        <td id=\"T_59799620_81c5_11ec_bef3_02420a393234row23_col0\" class=\"data row23 col0\" >51.00</td>\n",
       "                        <td id=\"T_59799620_81c5_11ec_bef3_02420a393234row23_col1\" class=\"data row23 col1\" >60.61</td>\n",
       "                        <td id=\"T_59799620_81c5_11ec_bef3_02420a393234row23_col2\" class=\"data row23 col2\" >2681.98</td>\n",
       "                        <td id=\"T_59799620_81c5_11ec_bef3_02420a393234row23_col3\" class=\"data row23 col3\" >51.79</td>\n",
       "                        <td id=\"T_59799620_81c5_11ec_bef3_02420a393234row23_col4\" class=\"data row23 col4\" >8425.00</td>\n",
       "            </tr>\n",
       "    </tbody></table>"
      ],
      "text/plain": [
       "<pandas.io.formats.style.Styler at 0x7f5815fba6d0>"
      ]
     },
     "execution_count": 70,
     "metadata": {},
     "output_type": "execute_result"
    }
   ],
   "source": [
    "df.pivot_table(\n",
    "    index=['month', 'tariff_name'], \n",
    "    values='total_messages_count', \n",
    "    aggfunc=['median','mean','var','std','sum'])\\\n",
    "    .droplevel(1, axis=1).style.format(\"{:.2f}\")"
   ]
  },
  {
   "cell_type": "markdown",
   "metadata": {},
   "source": [
    "Рассчитаем количество сообщений в в месяц для каждого пользователя"
   ]
  },
  {
   "cell_type": "code",
   "execution_count": 71,
   "metadata": {},
   "outputs": [
    {
     "data": {
      "text/html": [
       "<div>\n",
       "<style scoped>\n",
       "    .dataframe tbody tr th:only-of-type {\n",
       "        vertical-align: middle;\n",
       "    }\n",
       "\n",
       "    .dataframe tbody tr th {\n",
       "        vertical-align: top;\n",
       "    }\n",
       "\n",
       "    .dataframe thead th {\n",
       "        text-align: right;\n",
       "    }\n",
       "</style>\n",
       "<table border=\"1\" class=\"dataframe\">\n",
       "  <thead>\n",
       "    <tr style=\"text-align: right;\">\n",
       "      <th></th>\n",
       "      <th></th>\n",
       "      <th></th>\n",
       "      <th>sum</th>\n",
       "    </tr>\n",
       "    <tr>\n",
       "      <th>user_id</th>\n",
       "      <th>month</th>\n",
       "      <th>tariff_name</th>\n",
       "      <th></th>\n",
       "    </tr>\n",
       "  </thead>\n",
       "  <tbody>\n",
       "    <tr>\n",
       "      <td rowspan=\"8\" valign=\"top\">1000</td>\n",
       "      <td>5</td>\n",
       "      <td>ultra</td>\n",
       "      <td>22.0</td>\n",
       "    </tr>\n",
       "    <tr>\n",
       "      <td>6</td>\n",
       "      <td>ultra</td>\n",
       "      <td>60.0</td>\n",
       "    </tr>\n",
       "    <tr>\n",
       "      <td>7</td>\n",
       "      <td>ultra</td>\n",
       "      <td>75.0</td>\n",
       "    </tr>\n",
       "    <tr>\n",
       "      <td>8</td>\n",
       "      <td>ultra</td>\n",
       "      <td>81.0</td>\n",
       "    </tr>\n",
       "    <tr>\n",
       "      <td>9</td>\n",
       "      <td>ultra</td>\n",
       "      <td>57.0</td>\n",
       "    </tr>\n",
       "    <tr>\n",
       "      <td>10</td>\n",
       "      <td>ultra</td>\n",
       "      <td>73.0</td>\n",
       "    </tr>\n",
       "    <tr>\n",
       "      <td>11</td>\n",
       "      <td>ultra</td>\n",
       "      <td>58.0</td>\n",
       "    </tr>\n",
       "    <tr>\n",
       "      <td>12</td>\n",
       "      <td>ultra</td>\n",
       "      <td>70.0</td>\n",
       "    </tr>\n",
       "    <tr>\n",
       "      <td rowspan=\"2\" valign=\"top\">1001</td>\n",
       "      <td>11</td>\n",
       "      <td>smart</td>\n",
       "      <td>0.0</td>\n",
       "    </tr>\n",
       "    <tr>\n",
       "      <td>12</td>\n",
       "      <td>smart</td>\n",
       "      <td>0.0</td>\n",
       "    </tr>\n",
       "  </tbody>\n",
       "</table>\n",
       "</div>"
      ],
      "text/plain": [
       "                            sum\n",
       "user_id month tariff_name      \n",
       "1000    5     ultra        22.0\n",
       "        6     ultra        60.0\n",
       "        7     ultra        75.0\n",
       "        8     ultra        81.0\n",
       "        9     ultra        57.0\n",
       "        10    ultra        73.0\n",
       "        11    ultra        58.0\n",
       "        12    ultra        70.0\n",
       "1001    11    smart         0.0\n",
       "        12    smart         0.0"
      ]
     },
     "execution_count": 71,
     "metadata": {},
     "output_type": "execute_result"
    }
   ],
   "source": [
    "df_total_messages = df.pivot_table(\n",
    "    index=['user_id', 'month', 'tariff_name'], \n",
    "    values='total_messages_count', \n",
    "    aggfunc=['sum']).droplevel(1, axis=1)\n",
    "df_total_messages.head(10)"
   ]
  },
  {
   "cell_type": "markdown",
   "metadata": {},
   "source": [
    "Построим диаграмму количества сообщений для обоих тарифов"
   ]
  },
  {
   "cell_type": "code",
   "execution_count": 91,
   "metadata": {},
   "outputs": [
    {
     "data": {
      "image/png": "[encoded data removed]",
      "text/plain": [
       "<Figure size 1080x360 with 1 Axes>"
      ]
     },
     "metadata": {
      "needs_background": "light"
     },
     "output_type": "display_data"
    }
   ],
   "source": [
    "df_total_messages\\\n",
    "    .query('tariff_name == \"smart\"')['sum']\\\n",
    "    .plot(kind='hist', bins=100, alpha=0.7, color='green', grid=True, figsize=(15,5), label='Smart')\n",
    "\n",
    "df_total_messages\\\n",
    "    .query('tariff_name == \"ultra\"')['sum']\\\n",
    "    .plot(kind='hist', bins=100, alpha=0.5, color='red', grid=True, figsize=(15,5), label='Ultra')\n",
    "\n",
    "plt.title('Диаграмма количества сообщений')\n",
    "plt.xlabel('Количество пользователей')\n",
    "plt.ylabel('Количество сообщений')\n",
    "plt.legend()\n",
    "plt.show()"
   ]
  },
  {
   "cell_type": "markdown",
   "metadata": {},
   "source": [
    "Наблюдаются выбросы около нуля, в целом количество сообщений распределено по Пуассону"
   ]
  },
  {
   "cell_type": "markdown",
   "metadata": {},
   "source": [
    "### Трафик"
   ]
  },
  {
   "cell_type": "markdown",
   "metadata": {},
   "source": [
    "Рассчитаем среднее и медианное значение, дисперсию и стандартное отклонение для всех месяцев и для каждого месяца отдельно"
   ]
  },
  {
   "cell_type": "code",
   "execution_count": 73,
   "metadata": {},
   "outputs": [
    {
     "data": {
      "text/html": [
       "<style  type=\"text/css\" >\n",
       "</style><table id=\"T_5a3bb44e_81c5_11ec_bef3_02420a393234\" ><thead>    <tr>        <th class=\"blank level0\" ></th>        <th class=\"col_heading level0 col0\" >median</th>        <th class=\"col_heading level0 col1\" >mean</th>        <th class=\"col_heading level0 col2\" >var</th>        <th class=\"col_heading level0 col3\" >std</th>        <th class=\"col_heading level0 col4\" >sum</th>    </tr>    <tr>        <th class=\"index_name level0\" >tariff_name</th>        <th class=\"blank\" ></th>        <th class=\"blank\" ></th>        <th class=\"blank\" ></th>        <th class=\"blank\" ></th>        <th class=\"blank\" ></th>    </tr></thead><tbody>\n",
       "                <tr>\n",
       "                        <th id=\"T_5a3bb44e_81c5_11ec_bef3_02420a393234level0_row0\" class=\"row_heading level0 row0\" >smart</th>\n",
       "                        <td id=\"T_5a3bb44e_81c5_11ec_bef3_02420a393234row0_col0\" class=\"data row0 col0\" >16506.84</td>\n",
       "                        <td id=\"T_5a3bb44e_81c5_11ec_bef3_02420a393234row0_col1\" class=\"data row0 col1\" >16208.39</td>\n",
       "                        <td id=\"T_5a3bb44e_81c5_11ec_bef3_02420a393234row0_col2\" class=\"data row0 col2\" >34462496.46</td>\n",
       "                        <td id=\"T_5a3bb44e_81c5_11ec_bef3_02420a393234row0_col3\" class=\"data row0 col3\" >5870.48</td>\n",
       "                        <td id=\"T_5a3bb44e_81c5_11ec_bef3_02420a393234row0_col4\" class=\"data row0 col4\" >36128494.60</td>\n",
       "            </tr>\n",
       "            <tr>\n",
       "                        <th id=\"T_5a3bb44e_81c5_11ec_bef3_02420a393234level0_row1\" class=\"row_heading level0 row1\" >ultra</th>\n",
       "                        <td id=\"T_5a3bb44e_81c5_11ec_bef3_02420a393234row1_col0\" class=\"data row1 col0\" >19308.01</td>\n",
       "                        <td id=\"T_5a3bb44e_81c5_11ec_bef3_02420a393234row1_col1\" class=\"data row1 col1\" >19468.81</td>\n",
       "                        <td id=\"T_5a3bb44e_81c5_11ec_bef3_02420a393234row1_col2\" class=\"data row1 col2\" >101751013.78</td>\n",
       "                        <td id=\"T_5a3bb44e_81c5_11ec_bef3_02420a393234row1_col3\" class=\"data row1 col3\" >10087.17</td>\n",
       "                        <td id=\"T_5a3bb44e_81c5_11ec_bef3_02420a393234row1_col4\" class=\"data row1 col4\" >19176773.13</td>\n",
       "            </tr>\n",
       "    </tbody></table>"
      ],
      "text/plain": [
       "<pandas.io.formats.style.Styler at 0x7f58137c7590>"
      ]
     },
     "execution_count": 73,
     "metadata": {},
     "output_type": "execute_result"
    }
   ],
   "source": [
    "df.pivot_table(\n",
    "    index='tariff_name', \n",
    "    values='total_mb_used', \n",
    "    aggfunc=['median', 'mean', 'var', 'std', 'sum'])\\\n",
    "    .droplevel(1, axis=1).style.format(\"{:.2f}\")"
   ]
  },
  {
   "cell_type": "code",
   "execution_count": 74,
   "metadata": {},
   "outputs": [
    {
     "data": {
      "text/html": [
       "<style  type=\"text/css\" >\n",
       "</style><table id=\"T_5a5402d8_81c5_11ec_bef3_02420a393234\" ><thead>    <tr>        <th class=\"blank\" ></th>        <th class=\"blank level0\" ></th>        <th class=\"col_heading level0 col0\" >median</th>        <th class=\"col_heading level0 col1\" >mean</th>        <th class=\"col_heading level0 col2\" >var</th>        <th class=\"col_heading level0 col3\" >std</th>        <th class=\"col_heading level0 col4\" >sum</th>    </tr>    <tr>        <th class=\"index_name level0\" >month</th>        <th class=\"index_name level1\" >tariff_name</th>        <th class=\"blank\" ></th>        <th class=\"blank\" ></th>        <th class=\"blank\" ></th>        <th class=\"blank\" ></th>        <th class=\"blank\" ></th>    </tr></thead><tbody>\n",
       "                <tr>\n",
       "                        <th id=\"T_5a5402d8_81c5_11ec_bef3_02420a393234level0_row0\" class=\"row_heading level0 row0\" rowspan=2>1</th>\n",
       "                        <th id=\"T_5a5402d8_81c5_11ec_bef3_02420a393234level1_row0\" class=\"row_heading level1 row0\" >smart</th>\n",
       "                        <td id=\"T_5a5402d8_81c5_11ec_bef3_02420a393234row0_col0\" class=\"data row0 col0\" >7096.19</td>\n",
       "                        <td id=\"T_5a5402d8_81c5_11ec_bef3_02420a393234row0_col1\" class=\"data row0 col1\" >8513.72</td>\n",
       "                        <td id=\"T_5a5402d8_81c5_11ec_bef3_02420a393234row0_col2\" class=\"data row0 col2\" >41533913.37</td>\n",
       "                        <td id=\"T_5a5402d8_81c5_11ec_bef3_02420a393234row0_col3\" class=\"data row0 col3\" >6444.68</td>\n",
       "                        <td id=\"T_5a5402d8_81c5_11ec_bef3_02420a393234row0_col4\" class=\"data row0 col4\" >289466.40</td>\n",
       "            </tr>\n",
       "            <tr>\n",
       "                                <th id=\"T_5a5402d8_81c5_11ec_bef3_02420a393234level1_row1\" class=\"row_heading level1 row1\" >ultra</th>\n",
       "                        <td id=\"T_5a5402d8_81c5_11ec_bef3_02420a393234row1_col0\" class=\"data row1 col0\" >14791.37</td>\n",
       "                        <td id=\"T_5a5402d8_81c5_11ec_bef3_02420a393234row1_col1\" class=\"data row1 col1\" >13140.68</td>\n",
       "                        <td id=\"T_5a5402d8_81c5_11ec_bef3_02420a393234row1_col2\" class=\"data row1 col2\" >47132987.72</td>\n",
       "                        <td id=\"T_5a5402d8_81c5_11ec_bef3_02420a393234row1_col3\" class=\"data row1 col3\" >6865.35</td>\n",
       "                        <td id=\"T_5a5402d8_81c5_11ec_bef3_02420a393234row1_col4\" class=\"data row1 col4\" >118266.13</td>\n",
       "            </tr>\n",
       "            <tr>\n",
       "                        <th id=\"T_5a5402d8_81c5_11ec_bef3_02420a393234level0_row2\" class=\"row_heading level0 row2\" rowspan=2>2</th>\n",
       "                        <th id=\"T_5a5402d8_81c5_11ec_bef3_02420a393234level1_row2\" class=\"row_heading level1 row2\" >smart</th>\n",
       "                        <td id=\"T_5a5402d8_81c5_11ec_bef3_02420a393234row2_col0\" class=\"data row2 col0\" >12553.71</td>\n",
       "                        <td id=\"T_5a5402d8_81c5_11ec_bef3_02420a393234row2_col1\" class=\"data row2 col1\" >11597.05</td>\n",
       "                        <td id=\"T_5a5402d8_81c5_11ec_bef3_02420a393234row2_col2\" class=\"data row2 col2\" >39029429.92</td>\n",
       "                        <td id=\"T_5a5402d8_81c5_11ec_bef3_02420a393234row2_col3\" class=\"data row2 col3\" >6247.35</td>\n",
       "                        <td id=\"T_5a5402d8_81c5_11ec_bef3_02420a393234row2_col4\" class=\"data row2 col4\" >672629.15</td>\n",
       "            </tr>\n",
       "            <tr>\n",
       "                                <th id=\"T_5a5402d8_81c5_11ec_bef3_02420a393234level1_row3\" class=\"row_heading level1 row3\" >ultra</th>\n",
       "                        <td id=\"T_5a5402d8_81c5_11ec_bef3_02420a393234row3_col0\" class=\"data row3 col0\" >7327.12</td>\n",
       "                        <td id=\"T_5a5402d8_81c5_11ec_bef3_02420a393234row3_col1\" class=\"data row3 col1\" >11775.94</td>\n",
       "                        <td id=\"T_5a5402d8_81c5_11ec_bef3_02420a393234row3_col2\" class=\"data row3 col2\" >113308443.99</td>\n",
       "                        <td id=\"T_5a5402d8_81c5_11ec_bef3_02420a393234row3_col3\" class=\"data row3 col3\" >10644.64</td>\n",
       "                        <td id=\"T_5a5402d8_81c5_11ec_bef3_02420a393234row3_col4\" class=\"data row3 col4\" >282622.50</td>\n",
       "            </tr>\n",
       "            <tr>\n",
       "                        <th id=\"T_5a5402d8_81c5_11ec_bef3_02420a393234level0_row4\" class=\"row_heading level0 row4\" rowspan=2>3</th>\n",
       "                        <th id=\"T_5a5402d8_81c5_11ec_bef3_02420a393234level1_row4\" class=\"row_heading level1 row4\" >smart</th>\n",
       "                        <td id=\"T_5a5402d8_81c5_11ec_bef3_02420a393234row4_col0\" class=\"data row4 col0\" >15670.25</td>\n",
       "                        <td id=\"T_5a5402d8_81c5_11ec_bef3_02420a393234row4_col1\" class=\"data row4 col1\" >15104.16</td>\n",
       "                        <td id=\"T_5a5402d8_81c5_11ec_bef3_02420a393234row4_col2\" class=\"data row4 col2\" >33968352.79</td>\n",
       "                        <td id=\"T_5a5402d8_81c5_11ec_bef3_02420a393234row4_col3\" class=\"data row4 col3\" >5828.24</td>\n",
       "                        <td id=\"T_5a5402d8_81c5_11ec_bef3_02420a393234row4_col4\" class=\"data row4 col4\" >1163020.25</td>\n",
       "            </tr>\n",
       "            <tr>\n",
       "                                <th id=\"T_5a5402d8_81c5_11ec_bef3_02420a393234level1_row5\" class=\"row_heading level1 row5\" >ultra</th>\n",
       "                        <td id=\"T_5a5402d8_81c5_11ec_bef3_02420a393234row5_col0\" class=\"data row5 col0\" >17495.18</td>\n",
       "                        <td id=\"T_5a5402d8_81c5_11ec_bef3_02420a393234row5_col1\" class=\"data row5 col1\" >17535.55</td>\n",
       "                        <td id=\"T_5a5402d8_81c5_11ec_bef3_02420a393234row5_col2\" class=\"data row5 col2\" >119941614.06</td>\n",
       "                        <td id=\"T_5a5402d8_81c5_11ec_bef3_02420a393234row5_col3\" class=\"data row5 col3\" >10951.79</td>\n",
       "                        <td id=\"T_5a5402d8_81c5_11ec_bef3_02420a393234row5_col4\" class=\"data row5 col4\" >648815.36</td>\n",
       "            </tr>\n",
       "            <tr>\n",
       "                        <th id=\"T_5a5402d8_81c5_11ec_bef3_02420a393234level0_row6\" class=\"row_heading level0 row6\" rowspan=2>4</th>\n",
       "                        <th id=\"T_5a5402d8_81c5_11ec_bef3_02420a393234level1_row6\" class=\"row_heading level1 row6\" >smart</th>\n",
       "                        <td id=\"T_5a5402d8_81c5_11ec_bef3_02420a393234row6_col0\" class=\"data row6 col0\" >14087.65</td>\n",
       "                        <td id=\"T_5a5402d8_81c5_11ec_bef3_02420a393234row6_col1\" class=\"data row6 col1\" >13462.18</td>\n",
       "                        <td id=\"T_5a5402d8_81c5_11ec_bef3_02420a393234row6_col2\" class=\"data row6 col2\" >32470042.72</td>\n",
       "                        <td id=\"T_5a5402d8_81c5_11ec_bef3_02420a393234row6_col3\" class=\"data row6 col3\" >5698.25</td>\n",
       "                        <td id=\"T_5a5402d8_81c5_11ec_bef3_02420a393234row6_col4\" class=\"data row6 col4\" >1507764.23</td>\n",
       "            </tr>\n",
       "            <tr>\n",
       "                                <th id=\"T_5a5402d8_81c5_11ec_bef3_02420a393234level1_row7\" class=\"row_heading level1 row7\" >ultra</th>\n",
       "                        <td id=\"T_5a5402d8_81c5_11ec_bef3_02420a393234row7_col0\" class=\"data row7 col0\" >16645.78</td>\n",
       "                        <td id=\"T_5a5402d8_81c5_11ec_bef3_02420a393234row7_col1\" class=\"data row7 col1\" >16828.13</td>\n",
       "                        <td id=\"T_5a5402d8_81c5_11ec_bef3_02420a393234row7_col2\" class=\"data row7 col2\" >94452154.82</td>\n",
       "                        <td id=\"T_5a5402d8_81c5_11ec_bef3_02420a393234row7_col3\" class=\"data row7 col3\" >9718.65</td>\n",
       "                        <td id=\"T_5a5402d8_81c5_11ec_bef3_02420a393234row7_col4\" class=\"data row7 col4\" >925547.39</td>\n",
       "            </tr>\n",
       "            <tr>\n",
       "                        <th id=\"T_5a5402d8_81c5_11ec_bef3_02420a393234level0_row8\" class=\"row_heading level0 row8\" rowspan=2>5</th>\n",
       "                        <th id=\"T_5a5402d8_81c5_11ec_bef3_02420a393234level1_row8\" class=\"row_heading level1 row8\" >smart</th>\n",
       "                        <td id=\"T_5a5402d8_81c5_11ec_bef3_02420a393234row8_col0\" class=\"data row8 col0\" >16323.94</td>\n",
       "                        <td id=\"T_5a5402d8_81c5_11ec_bef3_02420a393234row8_col1\" class=\"data row8 col1\" >15805.18</td>\n",
       "                        <td id=\"T_5a5402d8_81c5_11ec_bef3_02420a393234row8_col2\" class=\"data row8 col2\" >35739254.56</td>\n",
       "                        <td id=\"T_5a5402d8_81c5_11ec_bef3_02420a393234row8_col3\" class=\"data row8 col3\" >5978.23</td>\n",
       "                        <td id=\"T_5a5402d8_81c5_11ec_bef3_02420a393234row8_col4\" class=\"data row8 col4\" >2228530.99</td>\n",
       "            </tr>\n",
       "            <tr>\n",
       "                                <th id=\"T_5a5402d8_81c5_11ec_bef3_02420a393234level1_row9\" class=\"row_heading level1 row9\" >ultra</th>\n",
       "                        <td id=\"T_5a5402d8_81c5_11ec_bef3_02420a393234row9_col0\" class=\"data row9 col0\" >18696.43</td>\n",
       "                        <td id=\"T_5a5402d8_81c5_11ec_bef3_02420a393234row9_col1\" class=\"data row9 col1\" >19363.15</td>\n",
       "                        <td id=\"T_5a5402d8_81c5_11ec_bef3_02420a393234row9_col2\" class=\"data row9 col2\" >100924330.43</td>\n",
       "                        <td id=\"T_5a5402d8_81c5_11ec_bef3_02420a393234row9_col3\" class=\"data row9 col3\" >10046.11</td>\n",
       "                        <td id=\"T_5a5402d8_81c5_11ec_bef3_02420a393234row9_col4\" class=\"data row9 col4\" >1297331.25</td>\n",
       "            </tr>\n",
       "            <tr>\n",
       "                        <th id=\"T_5a5402d8_81c5_11ec_bef3_02420a393234level0_row10\" class=\"row_heading level0 row10\" rowspan=2>6</th>\n",
       "                        <th id=\"T_5a5402d8_81c5_11ec_bef3_02420a393234level1_row10\" class=\"row_heading level1 row10\" >smart</th>\n",
       "                        <td id=\"T_5a5402d8_81c5_11ec_bef3_02420a393234row10_col0\" class=\"data row10 col0\" >16077.44</td>\n",
       "                        <td id=\"T_5a5402d8_81c5_11ec_bef3_02420a393234row10_col1\" class=\"data row10 col1\" >15794.65</td>\n",
       "                        <td id=\"T_5a5402d8_81c5_11ec_bef3_02420a393234row10_col2\" class=\"data row10 col2\" >33537483.02</td>\n",
       "                        <td id=\"T_5a5402d8_81c5_11ec_bef3_02420a393234row10_col3\" class=\"data row10 col3\" >5791.16</td>\n",
       "                        <td id=\"T_5a5402d8_81c5_11ec_bef3_02420a393234row10_col4\" class=\"data row10 col4\" >2590322.27</td>\n",
       "            </tr>\n",
       "            <tr>\n",
       "                                <th id=\"T_5a5402d8_81c5_11ec_bef3_02420a393234level1_row11\" class=\"row_heading level1 row11\" >ultra</th>\n",
       "                        <td id=\"T_5a5402d8_81c5_11ec_bef3_02420a393234row11_col0\" class=\"data row11 col0\" >19480.20</td>\n",
       "                        <td id=\"T_5a5402d8_81c5_11ec_bef3_02420a393234row11_col1\" class=\"data row11 col1\" >18924.94</td>\n",
       "                        <td id=\"T_5a5402d8_81c5_11ec_bef3_02420a393234row11_col2\" class=\"data row11 col2\" >86357572.13</td>\n",
       "                        <td id=\"T_5a5402d8_81c5_11ec_bef3_02420a393234row11_col3\" class=\"data row11 col3\" >9292.88</td>\n",
       "                        <td id=\"T_5a5402d8_81c5_11ec_bef3_02420a393234row11_col4\" class=\"data row11 col4\" >1589694.90</td>\n",
       "            </tr>\n",
       "            <tr>\n",
       "                        <th id=\"T_5a5402d8_81c5_11ec_bef3_02420a393234level0_row12\" class=\"row_heading level0 row12\" rowspan=2>7</th>\n",
       "                        <th id=\"T_5a5402d8_81c5_11ec_bef3_02420a393234level1_row12\" class=\"row_heading level1 row12\" >smart</th>\n",
       "                        <td id=\"T_5a5402d8_81c5_11ec_bef3_02420a393234row12_col0\" class=\"data row12 col0\" >15925.29</td>\n",
       "                        <td id=\"T_5a5402d8_81c5_11ec_bef3_02420a393234row12_col1\" class=\"data row12 col1\" >15743.15</td>\n",
       "                        <td id=\"T_5a5402d8_81c5_11ec_bef3_02420a393234row12_col2\" class=\"data row12 col2\" >34776430.55</td>\n",
       "                        <td id=\"T_5a5402d8_81c5_11ec_bef3_02420a393234row12_col3\" class=\"data row12 col3\" >5897.15</td>\n",
       "                        <td id=\"T_5a5402d8_81c5_11ec_bef3_02420a393234row12_col4\" class=\"data row12 col4\" >3164373.22</td>\n",
       "            </tr>\n",
       "            <tr>\n",
       "                                <th id=\"T_5a5402d8_81c5_11ec_bef3_02420a393234level1_row13\" class=\"row_heading level1 row13\" >ultra</th>\n",
       "                        <td id=\"T_5a5402d8_81c5_11ec_bef3_02420a393234row13_col0\" class=\"data row13 col0\" >20014.22</td>\n",
       "                        <td id=\"T_5a5402d8_81c5_11ec_bef3_02420a393234row13_col1\" class=\"data row13 col1\" >20495.67</td>\n",
       "                        <td id=\"T_5a5402d8_81c5_11ec_bef3_02420a393234row13_col2\" class=\"data row13 col2\" >101308192.04</td>\n",
       "                        <td id=\"T_5a5402d8_81c5_11ec_bef3_02420a393234row13_col3\" class=\"data row13 col3\" >10065.20</td>\n",
       "                        <td id=\"T_5a5402d8_81c5_11ec_bef3_02420a393234row13_col4\" class=\"data row13 col4\" >1865105.53</td>\n",
       "            </tr>\n",
       "            <tr>\n",
       "                        <th id=\"T_5a5402d8_81c5_11ec_bef3_02420a393234level0_row14\" class=\"row_heading level0 row14\" rowspan=2>8</th>\n",
       "                        <th id=\"T_5a5402d8_81c5_11ec_bef3_02420a393234level1_row14\" class=\"row_heading level1 row14\" >smart</th>\n",
       "                        <td id=\"T_5a5402d8_81c5_11ec_bef3_02420a393234row14_col0\" class=\"data row14 col0\" >16833.49</td>\n",
       "                        <td id=\"T_5a5402d8_81c5_11ec_bef3_02420a393234row14_col1\" class=\"data row14 col1\" >16610.72</td>\n",
       "                        <td id=\"T_5a5402d8_81c5_11ec_bef3_02420a393234row14_col2\" class=\"data row14 col2\" >31287232.55</td>\n",
       "                        <td id=\"T_5a5402d8_81c5_11ec_bef3_02420a393234row14_col3\" class=\"data row14 col3\" >5593.50</td>\n",
       "                        <td id=\"T_5a5402d8_81c5_11ec_bef3_02420a393234row14_col4\" class=\"data row14 col4\" >3903519.22</td>\n",
       "            </tr>\n",
       "            <tr>\n",
       "                                <th id=\"T_5a5402d8_81c5_11ec_bef3_02420a393234level1_row15\" class=\"row_heading level1 row15\" >ultra</th>\n",
       "                        <td id=\"T_5a5402d8_81c5_11ec_bef3_02420a393234row15_col0\" class=\"data row15 col0\" >18932.62</td>\n",
       "                        <td id=\"T_5a5402d8_81c5_11ec_bef3_02420a393234row15_col1\" class=\"data row15 col1\" >19576.05</td>\n",
       "                        <td id=\"T_5a5402d8_81c5_11ec_bef3_02420a393234row15_col2\" class=\"data row15 col2\" >109758234.23</td>\n",
       "                        <td id=\"T_5a5402d8_81c5_11ec_bef3_02420a393234row15_col3\" class=\"data row15 col3\" >10476.56</td>\n",
       "                        <td id=\"T_5a5402d8_81c5_11ec_bef3_02420a393234row15_col4\" class=\"data row15 col4\" >2094637.85</td>\n",
       "            </tr>\n",
       "            <tr>\n",
       "                        <th id=\"T_5a5402d8_81c5_11ec_bef3_02420a393234level0_row16\" class=\"row_heading level0 row16\" rowspan=2>9</th>\n",
       "                        <th id=\"T_5a5402d8_81c5_11ec_bef3_02420a393234level1_row16\" class=\"row_heading level1 row16\" >smart</th>\n",
       "                        <td id=\"T_5a5402d8_81c5_11ec_bef3_02420a393234row16_col0\" class=\"data row16 col0\" >16028.43</td>\n",
       "                        <td id=\"T_5a5402d8_81c5_11ec_bef3_02420a393234row16_col1\" class=\"data row16 col1\" >16303.58</td>\n",
       "                        <td id=\"T_5a5402d8_81c5_11ec_bef3_02420a393234row16_col2\" class=\"data row16 col2\" >26999618.88</td>\n",
       "                        <td id=\"T_5a5402d8_81c5_11ec_bef3_02420a393234row16_col3\" class=\"data row16 col3\" >5196.12</td>\n",
       "                        <td id=\"T_5a5402d8_81c5_11ec_bef3_02420a393234row16_col4\" class=\"data row16 col4\" >4238930.49</td>\n",
       "            </tr>\n",
       "            <tr>\n",
       "                                <th id=\"T_5a5402d8_81c5_11ec_bef3_02420a393234level1_row17\" class=\"row_heading level1 row17\" >ultra</th>\n",
       "                        <td id=\"T_5a5402d8_81c5_11ec_bef3_02420a393234row17_col0\" class=\"data row17 col0\" >19656.30</td>\n",
       "                        <td id=\"T_5a5402d8_81c5_11ec_bef3_02420a393234row17_col1\" class=\"data row17 col1\" >19204.28</td>\n",
       "                        <td id=\"T_5a5402d8_81c5_11ec_bef3_02420a393234row17_col2\" class=\"data row17 col2\" >89985870.90</td>\n",
       "                        <td id=\"T_5a5402d8_81c5_11ec_bef3_02420a393234row17_col3\" class=\"data row17 col3\" >9486.09</td>\n",
       "                        <td id=\"T_5a5402d8_81c5_11ec_bef3_02420a393234row17_col4\" class=\"data row17 col4\" >2208491.87</td>\n",
       "            </tr>\n",
       "            <tr>\n",
       "                        <th id=\"T_5a5402d8_81c5_11ec_bef3_02420a393234level0_row18\" class=\"row_heading level0 row18\" rowspan=2>10</th>\n",
       "                        <th id=\"T_5a5402d8_81c5_11ec_bef3_02420a393234level1_row18\" class=\"row_heading level1 row18\" >smart</th>\n",
       "                        <td id=\"T_5a5402d8_81c5_11ec_bef3_02420a393234row18_col0\" class=\"data row18 col0\" >17225.33</td>\n",
       "                        <td id=\"T_5a5402d8_81c5_11ec_bef3_02420a393234row18_col1\" class=\"data row18 col1\" >16757.12</td>\n",
       "                        <td id=\"T_5a5402d8_81c5_11ec_bef3_02420a393234row18_col2\" class=\"data row18 col2\" >34332386.62</td>\n",
       "                        <td id=\"T_5a5402d8_81c5_11ec_bef3_02420a393234row18_col3\" class=\"data row18 col3\" >5859.38</td>\n",
       "                        <td id=\"T_5a5402d8_81c5_11ec_bef3_02420a393234row18_col4\" class=\"data row18 col4\" >4926594.13</td>\n",
       "            </tr>\n",
       "            <tr>\n",
       "                                <th id=\"T_5a5402d8_81c5_11ec_bef3_02420a393234level1_row19\" class=\"row_heading level1 row19\" >ultra</th>\n",
       "                        <td id=\"T_5a5402d8_81c5_11ec_bef3_02420a393234row19_col0\" class=\"data row19 col0\" >20338.15</td>\n",
       "                        <td id=\"T_5a5402d8_81c5_11ec_bef3_02420a393234row19_col1\" class=\"data row19 col1\" >20045.34</td>\n",
       "                        <td id=\"T_5a5402d8_81c5_11ec_bef3_02420a393234row19_col2\" class=\"data row19 col2\" >96100999.85</td>\n",
       "                        <td id=\"T_5a5402d8_81c5_11ec_bef3_02420a393234row19_col3\" class=\"data row19 col3\" >9803.11</td>\n",
       "                        <td id=\"T_5a5402d8_81c5_11ec_bef3_02420a393234row19_col4\" class=\"data row19 col4\" >2465576.49</td>\n",
       "            </tr>\n",
       "            <tr>\n",
       "                        <th id=\"T_5a5402d8_81c5_11ec_bef3_02420a393234level0_row20\" class=\"row_heading level0 row20\" rowspan=2>11</th>\n",
       "                        <th id=\"T_5a5402d8_81c5_11ec_bef3_02420a393234level1_row20\" class=\"row_heading level1 row20\" >smart</th>\n",
       "                        <td id=\"T_5a5402d8_81c5_11ec_bef3_02420a393234row20_col0\" class=\"data row20 col0\" >17013.80</td>\n",
       "                        <td id=\"T_5a5402d8_81c5_11ec_bef3_02420a393234row20_col1\" class=\"data row20 col1\" >16895.70</td>\n",
       "                        <td id=\"T_5a5402d8_81c5_11ec_bef3_02420a393234row20_col2\" class=\"data row20 col2\" >28518520.15</td>\n",
       "                        <td id=\"T_5a5402d8_81c5_11ec_bef3_02420a393234row20_col3\" class=\"data row20 col3\" >5340.27</td>\n",
       "                        <td id=\"T_5a5402d8_81c5_11ec_bef3_02420a393234row20_col4\" class=\"data row20 col4\" >5339040.14</td>\n",
       "            </tr>\n",
       "            <tr>\n",
       "                                <th id=\"T_5a5402d8_81c5_11ec_bef3_02420a393234level1_row21\" class=\"row_heading level1 row21\" >ultra</th>\n",
       "                        <td id=\"T_5a5402d8_81c5_11ec_bef3_02420a393234row21_col0\" class=\"data row21 col0\" >18377.79</td>\n",
       "                        <td id=\"T_5a5402d8_81c5_11ec_bef3_02420a393234row21_col1\" class=\"data row21 col1\" >19786.81</td>\n",
       "                        <td id=\"T_5a5402d8_81c5_11ec_bef3_02420a393234row21_col2\" class=\"data row21 col2\" >98158937.70</td>\n",
       "                        <td id=\"T_5a5402d8_81c5_11ec_bef3_02420a393234row21_col3\" class=\"data row21 col3\" >9907.52</td>\n",
       "                        <td id=\"T_5a5402d8_81c5_11ec_bef3_02420a393234row21_col4\" class=\"data row21 col4\" >2651432.87</td>\n",
       "            </tr>\n",
       "            <tr>\n",
       "                        <th id=\"T_5a5402d8_81c5_11ec_bef3_02420a393234level0_row22\" class=\"row_heading level0 row22\" rowspan=2>12</th>\n",
       "                        <th id=\"T_5a5402d8_81c5_11ec_bef3_02420a393234level1_row22\" class=\"row_heading level1 row22\" >smart</th>\n",
       "                        <td id=\"T_5a5402d8_81c5_11ec_bef3_02420a393234row22_col0\" class=\"data row22 col0\" >17713.51</td>\n",
       "                        <td id=\"T_5a5402d8_81c5_11ec_bef3_02420a393234row22_col1\" class=\"data row22 col1\" >18113.66</td>\n",
       "                        <td id=\"T_5a5402d8_81c5_11ec_bef3_02420a393234row22_col2\" class=\"data row22 col2\" >31065938.54</td>\n",
       "                        <td id=\"T_5a5402d8_81c5_11ec_bef3_02420a393234row22_col3\" class=\"data row22 col3\" >5573.68</td>\n",
       "                        <td id=\"T_5a5402d8_81c5_11ec_bef3_02420a393234row22_col4\" class=\"data row22 col4\" >6104304.11</td>\n",
       "            </tr>\n",
       "            <tr>\n",
       "                                <th id=\"T_5a5402d8_81c5_11ec_bef3_02420a393234level1_row23\" class=\"row_heading level1 row23\" >ultra</th>\n",
       "                        <td id=\"T_5a5402d8_81c5_11ec_bef3_02420a393234row23_col0\" class=\"data row23 col0\" >21972.63</td>\n",
       "                        <td id=\"T_5a5402d8_81c5_11ec_bef3_02420a393234row23_col1\" class=\"data row23 col1\" >21793.17</td>\n",
       "                        <td id=\"T_5a5402d8_81c5_11ec_bef3_02420a393234row23_col2\" class=\"data row23 col2\" >107710907.32</td>\n",
       "                        <td id=\"T_5a5402d8_81c5_11ec_bef3_02420a393234row23_col3\" class=\"data row23 col3\" >10378.39</td>\n",
       "                        <td id=\"T_5a5402d8_81c5_11ec_bef3_02420a393234row23_col4\" class=\"data row23 col4\" >3029250.99</td>\n",
       "            </tr>\n",
       "    </tbody></table>"
      ],
      "text/plain": [
       "<pandas.io.formats.style.Styler at 0x7f5815ff9850>"
      ]
     },
     "execution_count": 74,
     "metadata": {},
     "output_type": "execute_result"
    }
   ],
   "source": [
    "df.pivot_table(\n",
    "    index=['month', 'tariff_name'], \n",
    "    values='total_mb_used', \n",
    "    aggfunc=['median','mean','var','std','sum'])\\\n",
    "    .droplevel(1, axis=1).style.format(\"{:.2f}\")"
   ]
  },
  {
   "cell_type": "markdown",
   "metadata": {},
   "source": [
    "Рассчитаем количество использованного интернет-трафика в месяц для каждого пользователя"
   ]
  },
  {
   "cell_type": "code",
   "execution_count": 75,
   "metadata": {},
   "outputs": [
    {
     "data": {
      "text/html": [
       "<div>\n",
       "<style scoped>\n",
       "    .dataframe tbody tr th:only-of-type {\n",
       "        vertical-align: middle;\n",
       "    }\n",
       "\n",
       "    .dataframe tbody tr th {\n",
       "        vertical-align: top;\n",
       "    }\n",
       "\n",
       "    .dataframe thead th {\n",
       "        text-align: right;\n",
       "    }\n",
       "</style>\n",
       "<table border=\"1\" class=\"dataframe\">\n",
       "  <thead>\n",
       "    <tr style=\"text-align: right;\">\n",
       "      <th></th>\n",
       "      <th></th>\n",
       "      <th></th>\n",
       "      <th>sum</th>\n",
       "    </tr>\n",
       "    <tr>\n",
       "      <th>user_id</th>\n",
       "      <th>month</th>\n",
       "      <th>tariff_name</th>\n",
       "      <th></th>\n",
       "    </tr>\n",
       "  </thead>\n",
       "  <tbody>\n",
       "    <tr>\n",
       "      <td rowspan=\"5\" valign=\"top\">1000</td>\n",
       "      <td>5</td>\n",
       "      <td>ultra</td>\n",
       "      <td>2253.49</td>\n",
       "    </tr>\n",
       "    <tr>\n",
       "      <td>6</td>\n",
       "      <td>ultra</td>\n",
       "      <td>23233.77</td>\n",
       "    </tr>\n",
       "    <tr>\n",
       "      <td>7</td>\n",
       "      <td>ultra</td>\n",
       "      <td>14003.64</td>\n",
       "    </tr>\n",
       "    <tr>\n",
       "      <td>8</td>\n",
       "      <td>ultra</td>\n",
       "      <td>14055.93</td>\n",
       "    </tr>\n",
       "    <tr>\n",
       "      <td>9</td>\n",
       "      <td>ultra</td>\n",
       "      <td>14568.91</td>\n",
       "    </tr>\n",
       "  </tbody>\n",
       "</table>\n",
       "</div>"
      ],
      "text/plain": [
       "                                sum\n",
       "user_id month tariff_name          \n",
       "1000    5     ultra         2253.49\n",
       "        6     ultra        23233.77\n",
       "        7     ultra        14003.64\n",
       "        8     ultra        14055.93\n",
       "        9     ultra        14568.91"
      ]
     },
     "execution_count": 75,
     "metadata": {},
     "output_type": "execute_result"
    }
   ],
   "source": [
    "df_total_traffic = df.pivot_table(\n",
    "    index=['user_id', 'month', 'tariff_name'], \n",
    "    values='total_mb_used', \n",
    "    aggfunc=['sum']).droplevel(1, axis=1)\n",
    "df_total_traffic.head()"
   ]
  },
  {
   "cell_type": "markdown",
   "metadata": {},
   "source": [
    "Построим диаграмму количество трафика для обоих тарифов"
   ]
  },
  {
   "cell_type": "code",
   "execution_count": 76,
   "metadata": {},
   "outputs": [
    {
     "data": {
      "image/png": "[encoded data removed]",
      "text/plain": [
       "<Figure size 1080x360 with 1 Axes>"
      ]
     },
     "metadata": {
      "needs_background": "light"
     },
     "output_type": "display_data"
    }
   ],
   "source": [
    "df_total_traffic\\\n",
    "    .query('tariff_name == \"smart\"')['sum']\\\n",
    "    .plot(kind='hist', bins=100, grid=True, figsize=(15,5), alpha=0.5, color='green', label='Smart')\n",
    "\n",
    "df_total_traffic\\\n",
    "    .query('tariff_name == \"ultra\"')['sum']\\\n",
    "    .plot(kind='hist', bins=100, grid=True, figsize=(15,5), alpha=0.5, color='red', label='Ultra')\n",
    "\n",
    "plt.title('Диаграмма количества трафика')\n",
    "plt.xlabel('Трафик')\n",
    "plt.ylabel('Количество')\n",
    "plt.legend()\n",
    "plt.show()"
   ]
  },
  {
   "cell_type": "markdown",
   "metadata": {},
   "source": [
    "Наблюдаются выбросы около нуля, в целом трафик имеет нормальное распределение"
   ]
  },
  {
   "cell_type": "markdown",
   "metadata": {},
   "source": [
    "## Проверка гипотез"
   ]
  },
  {
   "cell_type": "markdown",
   "metadata": {},
   "source": [
    "* средняя выручка пользователей тарифов «Ультра» и «Смарт» различается\n",
    "* средняя выручка пользователей из Москвы отличается от выручки пользователей из других регионов\n",
    "\n",
    "Пороговое значение alpha задайте самостоятельно.\n",
    "\n",
    "Поясните:\n",
    "* как вы формулировали нулевую и альтернативную гипотезы\n",
    "* какой критерий использовали для проверки гипотез и почему"
   ]
  },
  {
   "cell_type": "markdown",
   "metadata": {},
   "source": [
    "Когда генеральных совокупностей две, бывает нужно сопоставить их средние.\n",
    "\n",
    "Чтобы проверить гипотезу о равенстве среднего двух генеральных совокупностей по взятым из них выборкам, примените метод scipy.stats.ttest_ind().\n",
    "\n",
    "Методу передают параметры: array1 , array2 — массивы, содержащие выборки; equal_var — необязательный параметр, задающий считать ли равными дисперсии выборок."
   ]
  },
  {
   "cell_type": "markdown",
   "metadata": {},
   "source": [
    "### Средняя выручка пользователей тарифов «Ультра» и «Смарт» различается"
   ]
  },
  {
   "cell_type": "markdown",
   "metadata": {},
   "source": [
    "Сформулируем нулевую и альтернативную гипотезы:  \n",
    "H0 = средняя выручка пользователей тарифов «Ультра» и «Смарт» равна  \n",
    "H1 = средняя выручка пользователей тарифов «Ультра» и «Смарт» различается"
   ]
  },
  {
   "cell_type": "code",
   "execution_count": 77,
   "metadata": {},
   "outputs": [],
   "source": [
    "ultra = df.query('tariff_name == \"ultra\"')['total_revenue']\n",
    "smart = df.query('tariff_name == \"smart\"')['total_revenue']"
   ]
  },
  {
   "cell_type": "code",
   "execution_count": 78,
   "metadata": {},
   "outputs": [
    {
     "data": {
      "text/plain": [
       "1.4229814360764067e-160"
      ]
     },
     "execution_count": 78,
     "metadata": {},
     "output_type": "execute_result"
    }
   ],
   "source": [
    "alpha = 0.05\n",
    "\n",
    "results = st.ttest_ind(\n",
    "            smart, ultra)\n",
    "\n",
    "results.pvalue"
   ]
  },
  {
   "cell_type": "code",
   "execution_count": 79,
   "metadata": {},
   "outputs": [
    {
     "name": "stdout",
     "output_type": "stream",
     "text": [
      "Отвергаем нулевую гипотезу\n"
     ]
    }
   ],
   "source": [
    "if results.pvalue < alpha:\n",
    "    print(\"Отвергаем нулевую гипотезу\")\n",
    "else:\n",
    "    print(\"Нулевая гипотеза не может быть отвергнута\")"
   ]
  },
  {
   "cell_type": "markdown",
   "metadata": {},
   "source": [
    "Рассчитаем среднюю выручку для каждого тарифа и общую прибыль"
   ]
  },
  {
   "cell_type": "code",
   "execution_count": 80,
   "metadata": {},
   "outputs": [
    {
     "data": {
      "text/plain": [
       "1289.9735307312696"
      ]
     },
     "execution_count": 80,
     "metadata": {},
     "output_type": "execute_result"
    }
   ],
   "source": [
    "smart.mean()"
   ]
  },
  {
   "cell_type": "code",
   "execution_count": 81,
   "metadata": {},
   "outputs": [
    {
     "data": {
      "text/plain": [
       "2070.1522842639592"
      ]
     },
     "execution_count": 81,
     "metadata": {},
     "output_type": "execute_result"
    }
   ],
   "source": [
    "ultra.mean()"
   ]
  },
  {
   "cell_type": "code",
   "execution_count": 82,
   "metadata": {},
   "outputs": [
    {
     "data": {
      "text/plain": [
       "2875351"
      ]
     },
     "execution_count": 82,
     "metadata": {},
     "output_type": "execute_result"
    }
   ],
   "source": [
    "smart.sum()"
   ]
  },
  {
   "cell_type": "code",
   "execution_count": 83,
   "metadata": {},
   "outputs": [
    {
     "data": {
      "text/plain": [
       "2039100"
      ]
     },
     "execution_count": 83,
     "metadata": {},
     "output_type": "execute_result"
    }
   ],
   "source": [
    "ultra.sum()"
   ]
  },
  {
   "cell_type": "markdown",
   "metadata": {},
   "source": [
    "### Средняя выручка пользователей из Москвы отличается от выручки пользователей из других регионов"
   ]
  },
  {
   "cell_type": "markdown",
   "metadata": {},
   "source": [
    "Сформулируем нулевую и альтернативную гипотезы:  \n",
    "H0 = средняя выручка жителей Москвы и других городов равна  \n",
    "H1 = средняя выручка жителей Москвы и других городов различается"
   ]
  },
  {
   "cell_type": "code",
   "execution_count": 84,
   "metadata": {},
   "outputs": [],
   "source": [
    "moscow = df.query('city == \"Москва\"')['total_revenue']\n",
    "russia = df.query('city != \"Москва\"')['total_revenue']"
   ]
  },
  {
   "cell_type": "code",
   "execution_count": 85,
   "metadata": {},
   "outputs": [
    {
     "data": {
      "text/plain": [
       "0.5440152911670224"
      ]
     },
     "execution_count": 85,
     "metadata": {},
     "output_type": "execute_result"
    }
   ],
   "source": [
    "alpha = 0.05\n",
    "\n",
    "\n",
    "results = st.ttest_ind(\n",
    "            moscow, russia)\n",
    "\n",
    "results.pvalue"
   ]
  },
  {
   "cell_type": "code",
   "execution_count": 86,
   "metadata": {},
   "outputs": [
    {
     "name": "stdout",
     "output_type": "stream",
     "text": [
      "Нулевая гипотеза не может быть отвергнута\n"
     ]
    }
   ],
   "source": [
    "if results.pvalue < alpha:\n",
    "    print(\"Отвергаем нулевую гипотезу\")\n",
    "else:\n",
    "    print(\"Нулевая гипотеза не может быть отвергнута\")"
   ]
  },
  {
   "cell_type": "code",
   "execution_count": 87,
   "metadata": {},
   "outputs": [
    {
     "data": {
      "text/plain": [
       "1546.7135842880523"
      ]
     },
     "execution_count": 87,
     "metadata": {},
     "output_type": "execute_result"
    }
   ],
   "source": [
    "moscow.mean()"
   ]
  },
  {
   "cell_type": "code",
   "execution_count": 88,
   "metadata": {},
   "outputs": [
    {
     "data": {
      "text/plain": [
       "945042"
      ]
     },
     "execution_count": 88,
     "metadata": {},
     "output_type": "execute_result"
    }
   ],
   "source": [
    "moscow.sum()"
   ]
  },
  {
   "cell_type": "code",
   "execution_count": 89,
   "metadata": {},
   "outputs": [
    {
     "data": {
      "text/plain": [
       "1524.9362274298885"
      ]
     },
     "execution_count": 89,
     "metadata": {},
     "output_type": "execute_result"
    }
   ],
   "source": [
    "russia.mean()"
   ]
  },
  {
   "cell_type": "code",
   "execution_count": 90,
   "metadata": {},
   "outputs": [
    {
     "data": {
      "text/plain": [
       "3969409"
      ]
     },
     "execution_count": 90,
     "metadata": {},
     "output_type": "execute_result"
    }
   ],
   "source": [
    "russia.sum()"
   ]
  },
  {
   "cell_type": "markdown",
   "metadata": {},
   "source": [
    "## Общий вывод"
   ]
  },
  {
   "cell_type": "markdown",
   "metadata": {},
   "source": [
    "* Присутствуют пользователи, которые не пользуются всеми возможностями тарифа (нулевые значения)  \n",
    "* У пользователей тарифа Ультра в среднем дольше звонки, больше сообщений и интернет-трафика\n",
    "  * Смарт: 422 минуты разговоров, 28 сообщений, 16,1 Гб трафика\n",
    "  * Ультра: 518 минут разговоров, 38 сообщений, 18,9 Гб трафика\n",
    "* Средняя выручка на тарифе Смарт отличается от выручки на тарифе Ультра, при этом общая выручка тарифа Смарт выше (т.к. больше пользователей)\n",
    "  * Смарт: 1230.2 средняя, 2 742 018 общая\n",
    "  * Ультра: 2059.8 средняя, 2 028 903 общая\n",
    "* Средняя выручка от жителей Москвы и других городов практически не отличается, хотя львиную долю прибыли дает остальная Россия:\n",
    "  * Москва: 1505 средняя, 919 579 общая\n",
    "  * Россия: 1479.6 средняя, 3 851 342 общая"
   ]
  },
  {
   "cell_type": "markdown",
   "metadata": {},
   "source": [
    "Общая выручка тарифа Смарт выше (т.к. больше пользователей)\n",
    "У Смарта базовый тариф стоит 550 рублей, при этом средняя выручка с этого тарифа - 1230, у Ультры базовый тариф 1950, а средняя выручка 2060\n",
    "Получается, что многие пользователи Ультры \"не добирают\" свой тариф, им хватает базового, при этом на Смарте пользователи выходят за рамки тарифа и приносят больше прибыли\n",
    "\n",
    "Хотя стоимость тарифа Ультра и значительно выше Смарта, более выгоден оператору тариф Смарт"
   ]
  }
 ],
 "metadata": {
  "ExecuteTimeLog": [
   {
    "duration": 722,
    "start_time": "2022-01-23T06:11:46.625Z"
   },
   {
    "duration": 199,
    "start_time": "2022-01-23T06:12:46.916Z"
   },
   {
    "duration": 163,
    "start_time": "2022-01-23T06:13:26.945Z"
   },
   {
    "duration": 120,
    "start_time": "2022-01-23T06:13:50.994Z"
   },
   {
    "duration": 21,
    "start_time": "2022-01-23T06:14:10.447Z"
   },
   {
    "duration": 31,
    "start_time": "2022-01-23T06:14:28.135Z"
   },
   {
    "duration": 20,
    "start_time": "2022-01-23T06:15:04.782Z"
   },
   {
    "duration": 10,
    "start_time": "2022-01-23T06:15:20.854Z"
   },
   {
    "duration": 11,
    "start_time": "2022-01-23T06:15:34.344Z"
   },
   {
    "duration": 11,
    "start_time": "2022-01-23T06:15:50.566Z"
   },
   {
    "duration": 10,
    "start_time": "2022-01-23T06:17:14.379Z"
   },
   {
    "duration": 9,
    "start_time": "2022-01-23T06:17:15.938Z"
   },
   {
    "duration": 10,
    "start_time": "2022-01-23T06:17:17.602Z"
   },
   {
    "duration": 10,
    "start_time": "2022-01-23T06:17:19.866Z"
   },
   {
    "duration": 712,
    "start_time": "2022-01-23T06:18:10.816Z"
   },
   {
    "duration": 210,
    "start_time": "2022-01-23T06:18:11.531Z"
   },
   {
    "duration": 175,
    "start_time": "2022-01-23T06:18:11.744Z"
   },
   {
    "duration": 114,
    "start_time": "2022-01-23T06:18:11.925Z"
   },
   {
    "duration": 20,
    "start_time": "2022-01-23T06:18:12.042Z"
   },
   {
    "duration": 30,
    "start_time": "2022-01-23T06:18:12.065Z"
   },
   {
    "duration": 27,
    "start_time": "2022-01-23T06:18:12.097Z"
   },
   {
    "duration": 11,
    "start_time": "2022-01-23T06:18:12.126Z"
   },
   {
    "duration": 14,
    "start_time": "2022-01-23T06:18:12.141Z"
   },
   {
    "duration": 13,
    "start_time": "2022-01-23T06:18:12.157Z"
   },
   {
    "duration": 13,
    "start_time": "2022-01-23T06:18:12.172Z"
   },
   {
    "duration": 734,
    "start_time": "2022-01-23T06:19:43.173Z"
   },
   {
    "duration": 217,
    "start_time": "2022-01-23T06:19:43.910Z"
   },
   {
    "duration": 245,
    "start_time": "2022-01-23T06:19:44.134Z"
   },
   {
    "duration": 131,
    "start_time": "2022-01-23T06:19:44.381Z"
   },
   {
    "duration": 23,
    "start_time": "2022-01-23T06:19:44.514Z"
   },
   {
    "duration": 27,
    "start_time": "2022-01-23T06:19:44.540Z"
   },
   {
    "duration": 25,
    "start_time": "2022-01-23T06:19:44.570Z"
   },
   {
    "duration": 27,
    "start_time": "2022-01-23T06:19:44.599Z"
   },
   {
    "duration": 19,
    "start_time": "2022-01-23T06:19:44.629Z"
   },
   {
    "duration": 21,
    "start_time": "2022-01-23T06:19:44.651Z"
   },
   {
    "duration": 15,
    "start_time": "2022-01-23T06:19:44.675Z"
   },
   {
    "duration": 732,
    "start_time": "2022-01-23T06:21:11.509Z"
   },
   {
    "duration": 205,
    "start_time": "2022-01-23T06:21:12.244Z"
   },
   {
    "duration": 181,
    "start_time": "2022-01-23T06:21:12.452Z"
   },
   {
    "duration": 123,
    "start_time": "2022-01-23T06:21:12.636Z"
   },
   {
    "duration": 20,
    "start_time": "2022-01-23T06:21:12.762Z"
   },
   {
    "duration": 30,
    "start_time": "2022-01-23T06:21:12.784Z"
   },
   {
    "duration": 20,
    "start_time": "2022-01-23T06:21:12.816Z"
   },
   {
    "duration": 12,
    "start_time": "2022-01-23T06:21:12.838Z"
   },
   {
    "duration": 12,
    "start_time": "2022-01-23T06:21:12.853Z"
   },
   {
    "duration": 11,
    "start_time": "2022-01-23T06:21:12.868Z"
   },
   {
    "duration": 46,
    "start_time": "2022-01-23T06:21:12.881Z"
   },
   {
    "duration": 597,
    "start_time": "2022-01-23T06:26:31.553Z"
   },
   {
    "duration": 28,
    "start_time": "2022-01-23T06:26:39.510Z"
   },
   {
    "duration": 21,
    "start_time": "2022-01-23T06:27:31.449Z"
   },
   {
    "duration": 18,
    "start_time": "2022-01-23T06:27:55.737Z"
   },
   {
    "duration": 10,
    "start_time": "2022-01-23T06:28:06.527Z"
   },
   {
    "duration": 11,
    "start_time": "2022-01-23T06:28:19.681Z"
   },
   {
    "duration": 3,
    "start_time": "2022-01-23T06:34:19.088Z"
   },
   {
    "duration": 325,
    "start_time": "2022-01-23T06:34:45.742Z"
   },
   {
    "duration": 16,
    "start_time": "2022-01-23T06:35:08.705Z"
   },
   {
    "duration": 35,
    "start_time": "2022-01-23T06:36:12.700Z"
   },
   {
    "duration": 14,
    "start_time": "2022-01-23T06:36:15.213Z"
   },
   {
    "duration": 350,
    "start_time": "2022-01-23T06:37:46.192Z"
   },
   {
    "duration": 50,
    "start_time": "2022-01-23T06:38:00.333Z"
   },
   {
    "duration": 19,
    "start_time": "2022-01-23T06:46:19.885Z"
   },
   {
    "duration": 7,
    "start_time": "2022-01-23T06:46:34.619Z"
   },
   {
    "duration": 13,
    "start_time": "2022-01-23T06:47:06.271Z"
   },
   {
    "duration": 7,
    "start_time": "2022-01-23T06:47:13.761Z"
   },
   {
    "duration": 7,
    "start_time": "2022-01-23T06:48:44.363Z"
   },
   {
    "duration": 16,
    "start_time": "2022-01-23T06:48:55.177Z"
   },
   {
    "duration": 763,
    "start_time": "2022-01-23T06:49:02.920Z"
   },
   {
    "duration": 202,
    "start_time": "2022-01-23T06:49:03.685Z"
   },
   {
    "duration": 179,
    "start_time": "2022-01-23T06:49:03.893Z"
   },
   {
    "duration": 117,
    "start_time": "2022-01-23T06:49:04.074Z"
   },
   {
    "duration": 20,
    "start_time": "2022-01-23T06:49:04.193Z"
   },
   {
    "duration": 30,
    "start_time": "2022-01-23T06:49:04.216Z"
   },
   {
    "duration": 18,
    "start_time": "2022-01-23T06:49:04.248Z"
   },
   {
    "duration": 11,
    "start_time": "2022-01-23T06:49:04.271Z"
   },
   {
    "duration": 9,
    "start_time": "2022-01-23T06:49:04.285Z"
   },
   {
    "duration": 31,
    "start_time": "2022-01-23T06:49:04.296Z"
   },
   {
    "duration": 18,
    "start_time": "2022-01-23T06:49:04.329Z"
   },
   {
    "duration": 33,
    "start_time": "2022-01-23T06:49:04.349Z"
   },
   {
    "duration": 41,
    "start_time": "2022-01-23T06:49:04.384Z"
   },
   {
    "duration": 20,
    "start_time": "2022-01-23T06:49:04.427Z"
   },
   {
    "duration": 12,
    "start_time": "2022-01-23T06:49:04.450Z"
   },
   {
    "duration": 20,
    "start_time": "2022-01-23T06:49:04.464Z"
   },
   {
    "duration": 324,
    "start_time": "2022-01-23T06:49:04.487Z"
   },
   {
    "duration": 18,
    "start_time": "2022-01-23T06:49:04.814Z"
   },
   {
    "duration": 34,
    "start_time": "2022-01-23T06:49:04.834Z"
   },
   {
    "duration": 15,
    "start_time": "2022-01-23T06:49:04.870Z"
   },
   {
    "duration": 78,
    "start_time": "2022-01-23T06:49:04.887Z"
   },
   {
    "duration": 17,
    "start_time": "2022-01-23T06:49:04.967Z"
   },
   {
    "duration": 6,
    "start_time": "2022-01-23T06:49:04.987Z"
   },
   {
    "duration": 44,
    "start_time": "2022-01-23T06:49:04.995Z"
   },
   {
    "duration": 12,
    "start_time": "2022-01-23T06:49:05.042Z"
   },
   {
    "duration": 9,
    "start_time": "2022-01-23T06:49:05.058Z"
   },
   {
    "duration": 775,
    "start_time": "2022-01-23T06:49:37.794Z"
   },
   {
    "duration": 191,
    "start_time": "2022-01-23T06:49:38.572Z"
   },
   {
    "duration": 167,
    "start_time": "2022-01-23T06:49:38.769Z"
   },
   {
    "duration": 110,
    "start_time": "2022-01-23T06:49:38.938Z"
   },
   {
    "duration": 19,
    "start_time": "2022-01-23T06:49:39.050Z"
   },
   {
    "duration": 30,
    "start_time": "2022-01-23T06:49:39.072Z"
   },
   {
    "duration": 18,
    "start_time": "2022-01-23T06:49:39.106Z"
   },
   {
    "duration": 11,
    "start_time": "2022-01-23T06:49:39.127Z"
   },
   {
    "duration": 9,
    "start_time": "2022-01-23T06:49:39.140Z"
   },
   {
    "duration": 11,
    "start_time": "2022-01-23T06:49:39.151Z"
   },
   {
    "duration": 14,
    "start_time": "2022-01-23T06:49:39.164Z"
   },
   {
    "duration": 69,
    "start_time": "2022-01-23T06:49:39.180Z"
   },
   {
    "duration": 21,
    "start_time": "2022-01-23T06:49:39.251Z"
   },
   {
    "duration": 17,
    "start_time": "2022-01-23T06:49:39.274Z"
   },
   {
    "duration": 31,
    "start_time": "2022-01-23T06:49:39.293Z"
   },
   {
    "duration": 10,
    "start_time": "2022-01-23T06:49:39.326Z"
   },
   {
    "duration": 272,
    "start_time": "2022-01-23T06:49:39.338Z"
   },
   {
    "duration": 18,
    "start_time": "2022-01-23T06:49:39.612Z"
   },
   {
    "duration": 33,
    "start_time": "2022-01-23T06:49:39.632Z"
   },
   {
    "duration": 13,
    "start_time": "2022-01-23T06:49:39.668Z"
   },
   {
    "duration": 80,
    "start_time": "2022-01-23T06:49:39.683Z"
   },
   {
    "duration": 17,
    "start_time": "2022-01-23T06:49:39.767Z"
   },
   {
    "duration": 6,
    "start_time": "2022-01-23T06:49:39.786Z"
   },
   {
    "duration": 38,
    "start_time": "2022-01-23T06:49:39.795Z"
   },
   {
    "duration": 12,
    "start_time": "2022-01-23T06:49:39.835Z"
   },
   {
    "duration": 12,
    "start_time": "2022-01-23T06:49:39.850Z"
   },
   {
    "duration": 741,
    "start_time": "2022-01-23T06:51:01.501Z"
   },
   {
    "duration": 208,
    "start_time": "2022-01-23T06:51:02.245Z"
   },
   {
    "duration": 170,
    "start_time": "2022-01-23T06:51:02.457Z"
   },
   {
    "duration": 120,
    "start_time": "2022-01-23T06:51:02.631Z"
   },
   {
    "duration": 22,
    "start_time": "2022-01-23T06:51:02.754Z"
   },
   {
    "duration": 29,
    "start_time": "2022-01-23T06:51:02.779Z"
   },
   {
    "duration": 21,
    "start_time": "2022-01-23T06:51:02.811Z"
   },
   {
    "duration": 13,
    "start_time": "2022-01-23T06:51:02.835Z"
   },
   {
    "duration": 23,
    "start_time": "2022-01-23T06:51:02.853Z"
   },
   {
    "duration": 16,
    "start_time": "2022-01-23T06:51:02.880Z"
   },
   {
    "duration": 38,
    "start_time": "2022-01-23T06:51:02.899Z"
   },
   {
    "duration": 38,
    "start_time": "2022-01-23T06:51:02.940Z"
   },
   {
    "duration": 23,
    "start_time": "2022-01-23T06:51:02.981Z"
   },
   {
    "duration": 35,
    "start_time": "2022-01-23T06:51:03.007Z"
   },
   {
    "duration": 27,
    "start_time": "2022-01-23T06:51:03.045Z"
   },
   {
    "duration": 13,
    "start_time": "2022-01-23T06:51:03.075Z"
   },
   {
    "duration": 317,
    "start_time": "2022-01-23T06:51:03.090Z"
   },
   {
    "duration": 24,
    "start_time": "2022-01-23T06:51:03.410Z"
   },
   {
    "duration": 37,
    "start_time": "2022-01-23T06:51:03.437Z"
   },
   {
    "duration": 46,
    "start_time": "2022-01-23T06:51:03.477Z"
   },
   {
    "duration": 49,
    "start_time": "2022-01-23T06:51:03.526Z"
   },
   {
    "duration": 18,
    "start_time": "2022-01-23T06:51:03.577Z"
   },
   {
    "duration": 7,
    "start_time": "2022-01-23T06:51:03.624Z"
   },
   {
    "duration": 22,
    "start_time": "2022-01-23T06:51:03.634Z"
   },
   {
    "duration": 13,
    "start_time": "2022-01-23T06:51:03.659Z"
   },
   {
    "duration": 48,
    "start_time": "2022-01-23T06:51:03.675Z"
   },
   {
    "duration": 670,
    "start_time": "2022-01-23T06:51:53.439Z"
   },
   {
    "duration": 193,
    "start_time": "2022-01-23T06:51:54.112Z"
   },
   {
    "duration": 169,
    "start_time": "2022-01-23T06:51:54.308Z"
   },
   {
    "duration": 111,
    "start_time": "2022-01-23T06:51:54.480Z"
   },
   {
    "duration": 20,
    "start_time": "2022-01-23T06:51:54.593Z"
   },
   {
    "duration": 56,
    "start_time": "2022-01-23T06:51:54.615Z"
   },
   {
    "duration": 18,
    "start_time": "2022-01-23T06:51:54.674Z"
   },
   {
    "duration": 10,
    "start_time": "2022-01-23T06:51:54.695Z"
   },
   {
    "duration": 9,
    "start_time": "2022-01-23T06:51:54.709Z"
   },
   {
    "duration": 10,
    "start_time": "2022-01-23T06:51:54.723Z"
   },
   {
    "duration": 13,
    "start_time": "2022-01-23T06:51:54.735Z"
   },
   {
    "duration": 32,
    "start_time": "2022-01-23T06:51:54.751Z"
   },
   {
    "duration": 57,
    "start_time": "2022-01-23T06:51:54.785Z"
   },
   {
    "duration": 20,
    "start_time": "2022-01-23T06:51:54.844Z"
   },
   {
    "duration": 9,
    "start_time": "2022-01-23T06:51:54.866Z"
   },
   {
    "duration": 11,
    "start_time": "2022-01-23T06:51:54.877Z"
   },
   {
    "duration": 326,
    "start_time": "2022-01-23T06:51:54.890Z"
   },
   {
    "duration": 15,
    "start_time": "2022-01-23T06:51:55.222Z"
   },
   {
    "duration": 37,
    "start_time": "2022-01-23T06:51:55.240Z"
   },
   {
    "duration": 44,
    "start_time": "2022-01-23T06:51:55.279Z"
   },
   {
    "duration": 46,
    "start_time": "2022-01-23T06:51:55.325Z"
   },
   {
    "duration": 16,
    "start_time": "2022-01-23T06:51:55.374Z"
   },
   {
    "duration": 33,
    "start_time": "2022-01-23T06:51:55.392Z"
   },
   {
    "duration": 17,
    "start_time": "2022-01-23T06:51:55.427Z"
   },
   {
    "duration": 11,
    "start_time": "2022-01-23T06:51:55.447Z"
   },
   {
    "duration": 9,
    "start_time": "2022-01-23T06:51:55.460Z"
   },
   {
    "duration": 12,
    "start_time": "2022-01-23T06:53:17.100Z"
   },
   {
    "duration": 15,
    "start_time": "2022-01-23T06:53:58.073Z"
   },
   {
    "duration": 21,
    "start_time": "2022-01-23T06:55:11.430Z"
   },
   {
    "duration": 20,
    "start_time": "2022-01-23T06:55:44.505Z"
   },
   {
    "duration": 10,
    "start_time": "2022-01-23T06:55:57.517Z"
   },
   {
    "duration": 22,
    "start_time": "2022-01-23T06:55:58.661Z"
   },
   {
    "duration": 147,
    "start_time": "2022-01-23T06:56:13.278Z"
   },
   {
    "duration": 16,
    "start_time": "2022-01-23T06:56:20.957Z"
   },
   {
    "duration": 26,
    "start_time": "2022-01-23T06:57:25.392Z"
   },
   {
    "duration": 7,
    "start_time": "2022-01-23T06:57:28.209Z"
   },
   {
    "duration": 11,
    "start_time": "2022-01-23T06:57:59.179Z"
   },
   {
    "duration": 27,
    "start_time": "2022-01-23T06:58:02.561Z"
   },
   {
    "duration": 37,
    "start_time": "2022-01-23T06:59:06.260Z"
   },
   {
    "duration": 14,
    "start_time": "2022-01-23T06:59:58.363Z"
   },
   {
    "duration": 8,
    "start_time": "2022-01-23T06:59:59.961Z"
   },
   {
    "duration": 12,
    "start_time": "2022-01-23T07:09:46.159Z"
   },
   {
    "duration": 164,
    "start_time": "2022-01-23T07:09:48.208Z"
   },
   {
    "duration": 12,
    "start_time": "2022-01-23T07:10:30.273Z"
   },
   {
    "duration": 27,
    "start_time": "2022-01-23T07:10:32.277Z"
   },
   {
    "duration": 33,
    "start_time": "2022-01-23T07:11:18.971Z"
   },
   {
    "duration": 13,
    "start_time": "2022-01-23T07:11:42.022Z"
   },
   {
    "duration": 7,
    "start_time": "2022-01-23T07:11:46.478Z"
   },
   {
    "duration": 11,
    "start_time": "2022-01-23T07:12:16.102Z"
   },
   {
    "duration": 7,
    "start_time": "2022-01-23T07:12:48.334Z"
   },
   {
    "duration": 11,
    "start_time": "2022-01-23T07:13:42.542Z"
   },
   {
    "duration": 7,
    "start_time": "2022-01-23T07:13:52.151Z"
   },
   {
    "duration": 7,
    "start_time": "2022-01-23T07:14:12.503Z"
   },
   {
    "duration": 11,
    "start_time": "2022-01-23T07:14:14.678Z"
   },
   {
    "duration": 10,
    "start_time": "2022-01-23T07:14:32.244Z"
   },
   {
    "duration": 7,
    "start_time": "2022-01-23T07:14:40.795Z"
   },
   {
    "duration": 7,
    "start_time": "2022-01-23T07:14:59.780Z"
   },
   {
    "duration": 11,
    "start_time": "2022-01-23T07:15:07.350Z"
   },
   {
    "duration": 795,
    "start_time": "2022-01-23T07:16:57.710Z"
   },
   {
    "duration": 216,
    "start_time": "2022-01-23T07:16:58.509Z"
   },
   {
    "duration": 173,
    "start_time": "2022-01-23T07:16:58.730Z"
   },
   {
    "duration": 119,
    "start_time": "2022-01-23T07:16:58.905Z"
   },
   {
    "duration": 21,
    "start_time": "2022-01-23T07:16:59.026Z"
   },
   {
    "duration": 41,
    "start_time": "2022-01-23T07:16:59.049Z"
   },
   {
    "duration": 20,
    "start_time": "2022-01-23T07:16:59.093Z"
   },
   {
    "duration": 11,
    "start_time": "2022-01-23T07:16:59.116Z"
   },
   {
    "duration": 10,
    "start_time": "2022-01-23T07:16:59.129Z"
   },
   {
    "duration": 12,
    "start_time": "2022-01-23T07:16:59.142Z"
   },
   {
    "duration": 20,
    "start_time": "2022-01-23T07:16:59.158Z"
   },
   {
    "duration": 86,
    "start_time": "2022-01-23T07:16:59.182Z"
   },
   {
    "duration": 37,
    "start_time": "2022-01-23T07:16:59.271Z"
   },
   {
    "duration": 32,
    "start_time": "2022-01-23T07:16:59.324Z"
   },
   {
    "duration": 12,
    "start_time": "2022-01-23T07:16:59.359Z"
   },
   {
    "duration": 13,
    "start_time": "2022-01-23T07:16:59.374Z"
   },
   {
    "duration": 465,
    "start_time": "2022-01-23T07:16:59.424Z"
   },
   {
    "duration": 32,
    "start_time": "2022-01-23T07:16:59.892Z"
   },
   {
    "duration": 61,
    "start_time": "2022-01-23T07:16:59.927Z"
   },
   {
    "duration": 40,
    "start_time": "2022-01-23T07:16:59.991Z"
   },
   {
    "duration": 99,
    "start_time": "2022-01-23T07:17:00.034Z"
   },
   {
    "duration": 27,
    "start_time": "2022-01-23T07:17:00.143Z"
   },
   {
    "duration": 9,
    "start_time": "2022-01-23T07:17:00.175Z"
   },
   {
    "duration": 54,
    "start_time": "2022-01-23T07:17:00.187Z"
   },
   {
    "duration": 19,
    "start_time": "2022-01-23T07:17:00.244Z"
   },
   {
    "duration": 14,
    "start_time": "2022-01-23T07:17:00.266Z"
   },
   {
    "duration": 50,
    "start_time": "2022-01-23T07:17:00.283Z"
   },
   {
    "duration": 27,
    "start_time": "2022-01-23T07:17:00.336Z"
   },
   {
    "duration": 25,
    "start_time": "2022-01-23T07:17:00.366Z"
   },
   {
    "duration": 53,
    "start_time": "2022-01-23T07:17:00.394Z"
   },
   {
    "duration": 332,
    "start_time": "2022-01-23T07:17:00.450Z"
   },
   {
    "duration": 22,
    "start_time": "2022-01-23T07:17:00.786Z"
   },
   {
    "duration": 29,
    "start_time": "2022-01-23T07:17:00.823Z"
   },
   {
    "duration": 9,
    "start_time": "2022-01-23T07:17:00.856Z"
   },
   {
    "duration": 73,
    "start_time": "2022-01-23T07:17:00.868Z"
   },
   {
    "duration": 36,
    "start_time": "2022-01-23T07:17:00.944Z"
   },
   {
    "duration": 77,
    "start_time": "2022-01-23T07:17:00.983Z"
   },
   {
    "duration": 17,
    "start_time": "2022-01-23T07:17:01.063Z"
   },
   {
    "duration": 9,
    "start_time": "2022-01-23T07:17:01.083Z"
   },
   {
    "duration": 190,
    "start_time": "2022-01-23T07:17:01.094Z"
   },
   {
    "duration": 12,
    "start_time": "2022-01-23T07:17:01.286Z"
   },
   {
    "duration": 63,
    "start_time": "2022-01-23T07:17:01.301Z"
   },
   {
    "duration": 25,
    "start_time": "2022-01-23T07:17:01.367Z"
   },
   {
    "duration": 89,
    "start_time": "2022-01-23T07:17:01.395Z"
   },
   {
    "duration": 16,
    "start_time": "2022-01-23T07:17:01.487Z"
   },
   {
    "duration": 32,
    "start_time": "2022-01-23T07:17:01.506Z"
   },
   {
    "duration": 14,
    "start_time": "2022-01-23T07:17:01.542Z"
   },
   {
    "duration": 33,
    "start_time": "2022-01-23T07:17:01.558Z"
   },
   {
    "duration": 19,
    "start_time": "2022-01-23T07:17:01.593Z"
   },
   {
    "duration": 11,
    "start_time": "2022-01-23T07:17:01.614Z"
   },
   {
    "duration": 17,
    "start_time": "2022-01-23T07:17:01.628Z"
   },
   {
    "duration": 9,
    "start_time": "2022-01-23T07:17:01.647Z"
   },
   {
    "duration": 13,
    "start_time": "2022-01-23T07:17:01.659Z"
   },
   {
    "duration": 7,
    "start_time": "2022-01-23T07:17:01.675Z"
   },
   {
    "duration": 43,
    "start_time": "2022-01-23T07:17:01.685Z"
   },
   {
    "duration": 7,
    "start_time": "2022-01-23T07:17:01.730Z"
   },
   {
    "duration": 22,
    "start_time": "2022-01-23T07:17:01.739Z"
   },
   {
    "duration": 21,
    "start_time": "2022-01-23T07:17:01.764Z"
   },
   {
    "duration": 16,
    "start_time": "2022-01-23T07:17:01.787Z"
   },
   {
    "duration": 19,
    "start_time": "2022-01-23T07:17:01.806Z"
   },
   {
    "duration": 21,
    "start_time": "2022-01-23T07:17:01.828Z"
   },
   {
    "duration": 8,
    "start_time": "2022-01-23T07:17:01.852Z"
   },
   {
    "duration": 12,
    "start_time": "2022-01-23T07:17:01.863Z"
   },
   {
    "duration": 9177,
    "start_time": "2022-01-23T07:17:01.877Z"
   },
   {
    "duration": 7,
    "start_time": "2022-01-23T07:17:28.664Z"
   },
   {
    "duration": 10,
    "start_time": "2022-01-23T07:18:21.108Z"
   },
   {
    "duration": 7,
    "start_time": "2022-01-23T07:18:22.362Z"
   },
   {
    "duration": 10,
    "start_time": "2022-01-23T07:18:54.142Z"
   },
   {
    "duration": 7,
    "start_time": "2022-01-23T07:18:59.707Z"
   },
   {
    "duration": 16,
    "start_time": "2022-01-23T07:21:06.258Z"
   },
   {
    "duration": 10,
    "start_time": "2022-01-23T07:21:23.983Z"
   },
   {
    "duration": 7,
    "start_time": "2022-01-23T07:21:33.501Z"
   },
   {
    "duration": 10,
    "start_time": "2022-01-23T07:21:51.618Z"
   },
   {
    "duration": 7,
    "start_time": "2022-01-23T07:21:57.963Z"
   },
   {
    "duration": 6,
    "start_time": "2022-01-23T07:22:35.271Z"
   },
   {
    "duration": 11,
    "start_time": "2022-01-23T07:22:37.347Z"
   },
   {
    "duration": 11,
    "start_time": "2022-01-23T07:22:55.572Z"
   },
   {
    "duration": 8,
    "start_time": "2022-01-23T07:23:02.057Z"
   },
   {
    "duration": 14,
    "start_time": "2022-01-23T07:23:23.710Z"
   },
   {
    "duration": 8939,
    "start_time": "2022-01-23T07:23:51.845Z"
   },
   {
    "duration": 10,
    "start_time": "2022-01-23T07:24:06.513Z"
   },
   {
    "duration": 8,
    "start_time": "2022-01-23T07:24:07.759Z"
   },
   {
    "duration": 325,
    "start_time": "2022-01-23T07:32:12.636Z"
   },
   {
    "duration": 30,
    "start_time": "2022-01-23T07:32:34.651Z"
   },
   {
    "duration": 56,
    "start_time": "2022-01-23T07:32:57.271Z"
   },
   {
    "duration": 1327,
    "start_time": "2022-01-23T07:34:24.772Z"
   },
   {
    "duration": 101,
    "start_time": "2022-01-23T07:35:05.716Z"
   },
   {
    "duration": 439,
    "start_time": "2022-01-23T07:35:13.393Z"
   },
   {
    "duration": 4,
    "start_time": "2022-01-23T07:35:50.543Z"
   },
   {
    "duration": 6,
    "start_time": "2022-01-23T07:36:00.837Z"
   },
   {
    "duration": 26,
    "start_time": "2022-01-23T07:36:06.843Z"
   },
   {
    "duration": 33,
    "start_time": "2022-01-23T07:40:16.468Z"
   },
   {
    "duration": 44,
    "start_time": "2022-01-23T07:40:17.044Z"
   },
   {
    "duration": 103,
    "start_time": "2022-01-23T07:40:25.255Z"
   },
   {
    "duration": 29,
    "start_time": "2022-01-23T07:40:25.698Z"
   },
   {
    "duration": 85,
    "start_time": "2022-01-23T07:41:07.099Z"
   },
   {
    "duration": 31,
    "start_time": "2022-01-23T07:41:07.535Z"
   },
   {
    "duration": 6,
    "start_time": "2022-01-23T07:41:24.587Z"
   },
   {
    "duration": 29,
    "start_time": "2022-01-23T07:41:31.574Z"
   },
   {
    "duration": 58,
    "start_time": "2022-01-23T07:43:10.596Z"
   },
   {
    "duration": 499,
    "start_time": "2022-01-23T07:43:51.805Z"
   },
   {
    "duration": 376,
    "start_time": "2022-01-23T07:44:06.875Z"
   },
   {
    "duration": 41,
    "start_time": "2022-01-23T07:46:07.816Z"
   },
   {
    "duration": 48,
    "start_time": "2022-01-23T07:46:19.611Z"
   },
   {
    "duration": 329,
    "start_time": "2022-01-23T07:55:49.184Z"
   },
   {
    "duration": 89,
    "start_time": "2022-01-23T07:56:41.606Z"
   },
   {
    "duration": 8088,
    "start_time": "2022-01-23T07:58:24.817Z"
   },
   {
    "duration": 100,
    "start_time": "2022-01-23T07:58:42.613Z"
   },
   {
    "duration": 101,
    "start_time": "2022-01-23T07:58:54.362Z"
   },
   {
    "duration": 70,
    "start_time": "2022-01-23T07:59:20.512Z"
   },
   {
    "duration": 48,
    "start_time": "2022-01-23T07:59:21.290Z"
   },
   {
    "duration": 49,
    "start_time": "2022-01-23T07:59:23.678Z"
   },
   {
    "duration": 11,
    "start_time": "2022-01-23T08:00:54.799Z"
   },
   {
    "duration": 17,
    "start_time": "2022-01-23T08:01:00.563Z"
   },
   {
    "duration": 61,
    "start_time": "2022-01-23T08:02:42.182Z"
   },
   {
    "duration": 42,
    "start_time": "2022-01-23T08:02:43.068Z"
   },
   {
    "duration": 40,
    "start_time": "2022-01-23T08:02:45.353Z"
   },
   {
    "duration": 11,
    "start_time": "2022-01-23T08:02:49.567Z"
   },
   {
    "duration": 21,
    "start_time": "2022-01-23T08:02:50.217Z"
   },
   {
    "duration": 17,
    "start_time": "2022-01-23T08:03:33.762Z"
   },
   {
    "duration": 19,
    "start_time": "2022-01-23T08:03:34.796Z"
   },
   {
    "duration": 319,
    "start_time": "2022-01-23T08:07:21.588Z"
   },
   {
    "duration": 24,
    "start_time": "2022-01-23T08:07:22.008Z"
   },
   {
    "duration": 332,
    "start_time": "2022-01-23T08:07:32.967Z"
   },
   {
    "duration": 328,
    "start_time": "2022-01-23T08:07:55.208Z"
   },
   {
    "duration": 24,
    "start_time": "2022-01-23T08:08:56.540Z"
   },
   {
    "duration": 6,
    "start_time": "2022-01-23T08:09:06.960Z"
   },
   {
    "duration": 342,
    "start_time": "2022-01-23T08:09:12.816Z"
   },
   {
    "duration": 23,
    "start_time": "2022-01-23T08:09:28.842Z"
   },
   {
    "duration": 29,
    "start_time": "2022-01-23T08:09:47.858Z"
   },
   {
    "duration": 38,
    "start_time": "2022-01-23T08:09:48.425Z"
   },
   {
    "duration": 30,
    "start_time": "2022-01-23T08:10:18.881Z"
   },
   {
    "duration": 36,
    "start_time": "2022-01-23T08:10:19.464Z"
   },
   {
    "duration": 10,
    "start_time": "2022-01-23T08:10:44.825Z"
   },
   {
    "duration": 18,
    "start_time": "2022-01-23T08:16:35.229Z"
   },
   {
    "duration": 11,
    "start_time": "2022-01-23T08:17:04.458Z"
   },
   {
    "duration": 19,
    "start_time": "2022-01-23T08:17:14.639Z"
   },
   {
    "duration": 677,
    "start_time": "2022-01-23T08:17:58.778Z"
   },
   {
    "duration": 210,
    "start_time": "2022-01-23T08:18:00.039Z"
   },
   {
    "duration": 165,
    "start_time": "2022-01-23T08:18:06.391Z"
   },
   {
    "duration": 112,
    "start_time": "2022-01-23T08:18:09.767Z"
   },
   {
    "duration": 20,
    "start_time": "2022-01-23T08:18:15.181Z"
   },
   {
    "duration": 30,
    "start_time": "2022-01-23T08:18:18.548Z"
   },
   {
    "duration": 20,
    "start_time": "2022-01-23T08:18:19.350Z"
   },
   {
    "duration": 12,
    "start_time": "2022-01-23T08:18:21.100Z"
   },
   {
    "duration": 10,
    "start_time": "2022-01-23T08:18:22.097Z"
   },
   {
    "duration": 12,
    "start_time": "2022-01-23T08:18:22.810Z"
   },
   {
    "duration": 15,
    "start_time": "2022-01-23T08:18:23.352Z"
   },
   {
    "duration": 23,
    "start_time": "2022-01-23T08:18:34.939Z"
   },
   {
    "duration": 26,
    "start_time": "2022-01-23T08:18:36.389Z"
   },
   {
    "duration": 34,
    "start_time": "2022-01-23T08:19:26.416Z"
   },
   {
    "duration": 51,
    "start_time": "2022-01-23T08:19:27.704Z"
   },
   {
    "duration": 18,
    "start_time": "2022-01-23T08:21:11.027Z"
   },
   {
    "duration": 405,
    "start_time": "2022-01-23T08:21:13.064Z"
   },
   {
    "duration": 3,
    "start_time": "2022-01-23T08:21:33.626Z"
   },
   {
    "duration": 18,
    "start_time": "2022-01-23T08:21:55.057Z"
   },
   {
    "duration": 17,
    "start_time": "2022-01-23T08:27:08.805Z"
   },
   {
    "duration": 24,
    "start_time": "2022-01-23T08:27:11.103Z"
   },
   {
    "duration": 19,
    "start_time": "2022-01-23T08:27:58.927Z"
   },
   {
    "duration": 23,
    "start_time": "2022-01-23T08:28:00.336Z"
   },
   {
    "duration": 14,
    "start_time": "2022-01-23T08:28:11.640Z"
   },
   {
    "duration": 31,
    "start_time": "2022-01-23T08:28:44.413Z"
   },
   {
    "duration": 15,
    "start_time": "2022-01-23T08:29:33.420Z"
   },
   {
    "duration": 24,
    "start_time": "2022-01-23T08:30:42.616Z"
   },
   {
    "duration": 14,
    "start_time": "2022-01-23T08:30:48.555Z"
   },
   {
    "duration": 15,
    "start_time": "2022-01-23T08:30:49.500Z"
   },
   {
    "duration": 11,
    "start_time": "2022-01-23T08:30:50.996Z"
   },
   {
    "duration": 21,
    "start_time": "2022-01-23T08:30:53.431Z"
   },
   {
    "duration": 27,
    "start_time": "2022-01-23T08:31:53.838Z"
   },
   {
    "duration": 41,
    "start_time": "2022-01-23T08:31:55.037Z"
   },
   {
    "duration": 17,
    "start_time": "2022-01-23T08:32:16.130Z"
   },
   {
    "duration": 7,
    "start_time": "2022-01-23T08:33:24.535Z"
   },
   {
    "duration": 7,
    "start_time": "2022-01-23T08:34:21.316Z"
   },
   {
    "duration": 34,
    "start_time": "2022-01-23T08:34:55.719Z"
   },
   {
    "duration": 11,
    "start_time": "2022-01-23T08:34:56.435Z"
   },
   {
    "duration": 35,
    "start_time": "2022-01-23T08:34:57.078Z"
   },
   {
    "duration": 7,
    "start_time": "2022-01-23T08:34:58.450Z"
   },
   {
    "duration": 11,
    "start_time": "2022-01-23T08:35:03.543Z"
   },
   {
    "duration": 12,
    "start_time": "2022-01-23T08:35:49.657Z"
   },
   {
    "duration": 15,
    "start_time": "2022-01-23T08:35:54.039Z"
   },
   {
    "duration": 10,
    "start_time": "2022-01-23T08:36:23.091Z"
   },
   {
    "duration": 14,
    "start_time": "2022-01-23T08:36:23.577Z"
   },
   {
    "duration": 6,
    "start_time": "2022-01-23T08:36:51.204Z"
   },
   {
    "duration": 105,
    "start_time": "2022-01-23T08:36:54.754Z"
   },
   {
    "duration": 49,
    "start_time": "2022-01-23T08:36:56.746Z"
   },
   {
    "duration": 66,
    "start_time": "2022-01-23T08:36:57.414Z"
   },
   {
    "duration": 51,
    "start_time": "2022-01-23T08:37:00.934Z"
   },
   {
    "duration": 59,
    "start_time": "2022-01-23T08:37:01.436Z"
   },
   {
    "duration": 12,
    "start_time": "2022-01-23T08:37:03.476Z"
   },
   {
    "duration": 28,
    "start_time": "2022-01-23T08:51:11.448Z"
   },
   {
    "duration": 32,
    "start_time": "2022-01-23T08:51:11.969Z"
   },
   {
    "duration": 9,
    "start_time": "2022-01-23T08:51:13.260Z"
   },
   {
    "duration": 18,
    "start_time": "2022-01-23T08:52:18.447Z"
   },
   {
    "duration": 20,
    "start_time": "2022-01-23T08:52:19.087Z"
   },
   {
    "duration": 9,
    "start_time": "2022-01-23T08:52:19.915Z"
   },
   {
    "duration": 25,
    "start_time": "2022-01-23T08:54:30.058Z"
   },
   {
    "duration": 18,
    "start_time": "2022-01-23T08:54:30.588Z"
   },
   {
    "duration": 11,
    "start_time": "2022-01-23T08:54:31.898Z"
   },
   {
    "duration": 9,
    "start_time": "2022-01-23T08:54:32.726Z"
   },
   {
    "duration": 24,
    "start_time": "2022-01-23T08:55:10.244Z"
   },
   {
    "duration": 9,
    "start_time": "2022-01-23T08:55:13.483Z"
   },
   {
    "duration": 11,
    "start_time": "2022-01-23T08:55:41.299Z"
   },
   {
    "duration": 12,
    "start_time": "2022-01-23T08:55:41.769Z"
   },
   {
    "duration": 12,
    "start_time": "2022-01-23T08:55:42.473Z"
   },
   {
    "duration": 12,
    "start_time": "2022-01-23T08:55:43.259Z"
   },
   {
    "duration": 25,
    "start_time": "2022-01-23T08:55:44.589Z"
   },
   {
    "duration": 11,
    "start_time": "2022-01-23T08:55:49.521Z"
   },
   {
    "duration": 10,
    "start_time": "2022-01-23T08:57:11.732Z"
   },
   {
    "duration": 13,
    "start_time": "2022-01-23T08:57:12.237Z"
   },
   {
    "duration": 12,
    "start_time": "2022-01-23T08:57:53.998Z"
   },
   {
    "duration": 11,
    "start_time": "2022-01-23T08:57:54.449Z"
   },
   {
    "duration": 23,
    "start_time": "2022-01-23T08:57:55.285Z"
   },
   {
    "duration": 23,
    "start_time": "2022-01-23T08:58:30.575Z"
   },
   {
    "duration": 10,
    "start_time": "2022-01-23T08:58:53.292Z"
   },
   {
    "duration": 8374,
    "start_time": "2022-01-23T09:04:19.489Z"
   },
   {
    "duration": 8,
    "start_time": "2022-01-23T09:04:41.542Z"
   },
   {
    "duration": 15,
    "start_time": "2022-01-23T09:04:57.816Z"
   },
   {
    "duration": 691,
    "start_time": "2022-01-23T09:05:45.747Z"
   },
   {
    "duration": 200,
    "start_time": "2022-01-23T09:05:46.442Z"
   },
   {
    "duration": 172,
    "start_time": "2022-01-23T09:05:46.645Z"
   },
   {
    "duration": 112,
    "start_time": "2022-01-23T09:05:46.824Z"
   },
   {
    "duration": 20,
    "start_time": "2022-01-23T09:05:46.939Z"
   },
   {
    "duration": 31,
    "start_time": "2022-01-23T09:05:46.962Z"
   },
   {
    "duration": 28,
    "start_time": "2022-01-23T09:05:46.995Z"
   },
   {
    "duration": 11,
    "start_time": "2022-01-23T09:05:47.026Z"
   },
   {
    "duration": 9,
    "start_time": "2022-01-23T09:05:47.040Z"
   },
   {
    "duration": 12,
    "start_time": "2022-01-23T09:05:47.051Z"
   },
   {
    "duration": 13,
    "start_time": "2022-01-23T09:05:47.065Z"
   },
   {
    "duration": 67,
    "start_time": "2022-01-23T09:05:47.081Z"
   },
   {
    "duration": 34,
    "start_time": "2022-01-23T09:05:47.150Z"
   },
   {
    "duration": 52,
    "start_time": "2022-01-23T09:05:47.186Z"
   },
   {
    "duration": 51,
    "start_time": "2022-01-23T09:05:47.240Z"
   },
   {
    "duration": 38,
    "start_time": "2022-01-23T09:05:47.293Z"
   },
   {
    "duration": 19,
    "start_time": "2022-01-23T09:05:47.334Z"
   },
   {
    "duration": 11,
    "start_time": "2022-01-23T09:05:47.355Z"
   },
   {
    "duration": 19,
    "start_time": "2022-01-23T09:05:47.368Z"
   },
   {
    "duration": 41,
    "start_time": "2022-01-23T09:05:47.389Z"
   },
   {
    "duration": 20,
    "start_time": "2022-01-23T09:05:47.433Z"
   },
   {
    "duration": 26,
    "start_time": "2022-01-23T09:05:47.456Z"
   },
   {
    "duration": 42,
    "start_time": "2022-01-23T09:05:47.524Z"
   },
   {
    "duration": 16,
    "start_time": "2022-01-23T09:05:47.569Z"
   },
   {
    "duration": 45,
    "start_time": "2022-01-23T09:05:47.588Z"
   },
   {
    "duration": 10,
    "start_time": "2022-01-23T09:05:47.635Z"
   },
   {
    "duration": 35,
    "start_time": "2022-01-23T09:05:47.647Z"
   },
   {
    "duration": 7,
    "start_time": "2022-01-23T09:05:47.684Z"
   },
   {
    "duration": 7,
    "start_time": "2022-01-23T09:05:47.724Z"
   },
   {
    "duration": 11,
    "start_time": "2022-01-23T09:05:47.733Z"
   },
   {
    "duration": 15,
    "start_time": "2022-01-23T09:05:47.746Z"
   },
   {
    "duration": 10,
    "start_time": "2022-01-23T09:05:47.763Z"
   },
   {
    "duration": 50,
    "start_time": "2022-01-23T09:05:47.775Z"
   },
   {
    "duration": 8,
    "start_time": "2022-01-23T09:05:47.828Z"
   },
   {
    "duration": 30,
    "start_time": "2022-01-23T09:05:47.839Z"
   },
   {
    "duration": 60,
    "start_time": "2022-01-23T09:05:47.872Z"
   },
   {
    "duration": 9,
    "start_time": "2022-01-23T09:05:47.934Z"
   },
   {
    "duration": 20,
    "start_time": "2022-01-23T09:05:47.945Z"
   },
   {
    "duration": 23,
    "start_time": "2022-01-23T09:05:47.967Z"
   },
   {
    "duration": 33,
    "start_time": "2022-01-23T09:05:47.992Z"
   },
   {
    "duration": 24,
    "start_time": "2022-01-23T09:05:48.027Z"
   },
   {
    "duration": 20,
    "start_time": "2022-01-23T09:05:48.053Z"
   },
   {
    "duration": 10,
    "start_time": "2022-01-23T09:05:48.075Z"
   },
   {
    "duration": 36,
    "start_time": "2022-01-23T09:05:48.087Z"
   },
   {
    "duration": 11,
    "start_time": "2022-01-23T09:05:48.125Z"
   },
   {
    "duration": 12,
    "start_time": "2022-01-23T09:05:48.138Z"
   },
   {
    "duration": 11,
    "start_time": "2022-01-23T09:05:48.152Z"
   },
   {
    "duration": 13,
    "start_time": "2022-01-23T09:05:48.165Z"
   },
   {
    "duration": 65,
    "start_time": "2022-01-23T09:05:48.181Z"
   },
   {
    "duration": 11,
    "start_time": "2022-01-23T09:05:48.249Z"
   },
   {
    "duration": 7,
    "start_time": "2022-01-23T09:05:48.264Z"
   },
   {
    "duration": 52,
    "start_time": "2022-01-23T09:05:48.274Z"
   },
   {
    "duration": 688,
    "start_time": "2022-01-23T09:17:33.860Z"
   },
   {
    "duration": 206,
    "start_time": "2022-01-23T09:17:34.552Z"
   },
   {
    "duration": 170,
    "start_time": "2022-01-23T09:17:34.761Z"
   },
   {
    "duration": 214,
    "start_time": "2022-01-23T09:17:34.934Z"
   },
   {
    "duration": 19,
    "start_time": "2022-01-23T09:17:35.151Z"
   },
   {
    "duration": 32,
    "start_time": "2022-01-23T09:17:35.172Z"
   },
   {
    "duration": 19,
    "start_time": "2022-01-23T09:17:35.206Z"
   },
   {
    "duration": 12,
    "start_time": "2022-01-23T09:17:35.227Z"
   },
   {
    "duration": 9,
    "start_time": "2022-01-23T09:17:35.243Z"
   },
   {
    "duration": 11,
    "start_time": "2022-01-23T09:17:35.255Z"
   },
   {
    "duration": 14,
    "start_time": "2022-01-23T09:17:35.268Z"
   },
   {
    "duration": 21,
    "start_time": "2022-01-23T09:17:35.324Z"
   },
   {
    "duration": 38,
    "start_time": "2022-01-23T09:17:35.348Z"
   },
   {
    "duration": 56,
    "start_time": "2022-01-23T09:17:35.388Z"
   },
   {
    "duration": 50,
    "start_time": "2022-01-23T09:17:35.446Z"
   },
   {
    "duration": 37,
    "start_time": "2022-01-23T09:17:35.499Z"
   },
   {
    "duration": 19,
    "start_time": "2022-01-23T09:17:35.538Z"
   },
   {
    "duration": 11,
    "start_time": "2022-01-23T09:17:35.560Z"
   },
   {
    "duration": 50,
    "start_time": "2022-01-23T09:17:35.574Z"
   },
   {
    "duration": 9,
    "start_time": "2022-01-23T09:17:35.626Z"
   },
   {
    "duration": 27,
    "start_time": "2022-01-23T09:17:35.637Z"
   },
   {
    "duration": 27,
    "start_time": "2022-01-23T09:17:35.666Z"
   },
   {
    "duration": 64,
    "start_time": "2022-01-23T09:17:35.695Z"
   },
   {
    "duration": 22,
    "start_time": "2022-01-23T09:17:35.761Z"
   },
   {
    "duration": 47,
    "start_time": "2022-01-23T09:17:35.786Z"
   },
   {
    "duration": 11,
    "start_time": "2022-01-23T09:17:35.835Z"
   },
   {
    "duration": 32,
    "start_time": "2022-01-23T09:17:35.851Z"
   },
   {
    "duration": 8,
    "start_time": "2022-01-23T09:17:35.885Z"
   },
   {
    "duration": 7,
    "start_time": "2022-01-23T09:17:35.923Z"
   },
   {
    "duration": 13,
    "start_time": "2022-01-23T09:17:35.932Z"
   },
   {
    "duration": 15,
    "start_time": "2022-01-23T09:17:35.947Z"
   },
   {
    "duration": 10,
    "start_time": "2022-01-23T09:17:35.964Z"
   },
   {
    "duration": 54,
    "start_time": "2022-01-23T09:17:35.977Z"
   },
   {
    "duration": 9,
    "start_time": "2022-01-23T09:17:36.033Z"
   },
   {
    "duration": 33,
    "start_time": "2022-01-23T09:17:36.044Z"
   },
   {
    "duration": 57,
    "start_time": "2022-01-23T09:17:36.080Z"
   },
   {
    "duration": 10,
    "start_time": "2022-01-23T09:17:36.139Z"
   },
   {
    "duration": 25,
    "start_time": "2022-01-23T09:17:36.151Z"
   },
   {
    "duration": 51,
    "start_time": "2022-01-23T09:17:36.177Z"
   },
   {
    "duration": 10,
    "start_time": "2022-01-23T09:17:36.230Z"
   },
   {
    "duration": 23,
    "start_time": "2022-01-23T09:17:36.242Z"
   },
   {
    "duration": 20,
    "start_time": "2022-01-23T09:17:36.267Z"
   },
   {
    "duration": 34,
    "start_time": "2022-01-23T09:17:36.289Z"
   },
   {
    "duration": 9,
    "start_time": "2022-01-23T09:17:36.325Z"
   },
   {
    "duration": 12,
    "start_time": "2022-01-23T09:17:36.336Z"
   },
   {
    "duration": 11,
    "start_time": "2022-01-23T09:17:36.350Z"
   },
   {
    "duration": 10,
    "start_time": "2022-01-23T09:17:36.363Z"
   },
   {
    "duration": 47,
    "start_time": "2022-01-23T09:17:36.376Z"
   },
   {
    "duration": 23,
    "start_time": "2022-01-23T09:17:36.425Z"
   },
   {
    "duration": 15,
    "start_time": "2022-01-23T09:17:36.450Z"
   },
   {
    "duration": 6,
    "start_time": "2022-01-23T09:17:36.467Z"
   },
   {
    "duration": 16,
    "start_time": "2022-01-23T09:17:36.476Z"
   },
   {
    "duration": 5,
    "start_time": "2022-01-23T09:20:25.547Z"
   },
   {
    "duration": 9250,
    "start_time": "2022-01-23T09:20:50.875Z"
   },
   {
    "duration": 1538,
    "start_time": "2022-01-23T09:21:15.700Z"
   },
   {
    "duration": 197,
    "start_time": "2022-01-23T09:21:17.241Z"
   },
   {
    "duration": 167,
    "start_time": "2022-01-23T09:21:17.441Z"
   },
   {
    "duration": 115,
    "start_time": "2022-01-23T09:21:17.611Z"
   },
   {
    "duration": 20,
    "start_time": "2022-01-23T09:21:17.728Z"
   },
   {
    "duration": 30,
    "start_time": "2022-01-23T09:21:17.750Z"
   },
   {
    "duration": 21,
    "start_time": "2022-01-23T09:21:17.783Z"
   },
   {
    "duration": 22,
    "start_time": "2022-01-23T09:21:17.810Z"
   },
   {
    "duration": 10,
    "start_time": "2022-01-23T09:21:17.835Z"
   },
   {
    "duration": 13,
    "start_time": "2022-01-23T09:21:17.847Z"
   },
   {
    "duration": 15,
    "start_time": "2022-01-23T09:21:17.863Z"
   },
   {
    "duration": 60,
    "start_time": "2022-01-23T09:21:17.880Z"
   },
   {
    "duration": 37,
    "start_time": "2022-01-23T09:21:17.943Z"
   },
   {
    "duration": 61,
    "start_time": "2022-01-23T09:21:17.983Z"
   },
   {
    "duration": 54,
    "start_time": "2022-01-23T09:21:18.047Z"
   },
   {
    "duration": 18,
    "start_time": "2022-01-23T09:21:18.123Z"
   },
   {
    "duration": 20,
    "start_time": "2022-01-23T09:21:18.143Z"
   },
   {
    "duration": 12,
    "start_time": "2022-01-23T09:21:18.166Z"
   },
   {
    "duration": 51,
    "start_time": "2022-01-23T09:21:18.180Z"
   },
   {
    "duration": 9,
    "start_time": "2022-01-23T09:21:18.233Z"
   },
   {
    "duration": 22,
    "start_time": "2022-01-23T09:21:18.245Z"
   },
   {
    "duration": 26,
    "start_time": "2022-01-23T09:21:18.270Z"
   },
   {
    "duration": 39,
    "start_time": "2022-01-23T09:21:18.327Z"
   },
   {
    "duration": 16,
    "start_time": "2022-01-23T09:21:18.369Z"
   },
   {
    "duration": 47,
    "start_time": "2022-01-23T09:21:18.387Z"
   },
   {
    "duration": 10,
    "start_time": "2022-01-23T09:21:18.436Z"
   },
   {
    "duration": 30,
    "start_time": "2022-01-23T09:21:18.448Z"
   },
   {
    "duration": 6,
    "start_time": "2022-01-23T09:21:18.480Z"
   },
   {
    "duration": 6,
    "start_time": "2022-01-23T09:21:18.523Z"
   },
   {
    "duration": 9,
    "start_time": "2022-01-23T09:21:18.532Z"
   },
   {
    "duration": 14,
    "start_time": "2022-01-23T09:21:18.543Z"
   },
   {
    "duration": 10,
    "start_time": "2022-01-23T09:21:18.559Z"
   },
   {
    "duration": 54,
    "start_time": "2022-01-23T09:21:18.571Z"
   },
   {
    "duration": 11,
    "start_time": "2022-01-23T09:21:18.628Z"
   },
   {
    "duration": 29,
    "start_time": "2022-01-23T09:21:18.642Z"
   },
   {
    "duration": 60,
    "start_time": "2022-01-23T09:21:18.673Z"
   },
   {
    "duration": 9,
    "start_time": "2022-01-23T09:21:18.736Z"
   },
   {
    "duration": 32,
    "start_time": "2022-01-23T09:21:18.748Z"
   },
   {
    "duration": 24,
    "start_time": "2022-01-23T09:21:18.782Z"
   },
   {
    "duration": 16,
    "start_time": "2022-01-23T09:21:18.808Z"
   },
   {
    "duration": 32,
    "start_time": "2022-01-23T09:21:18.826Z"
   },
   {
    "duration": 21,
    "start_time": "2022-01-23T09:21:18.860Z"
   },
   {
    "duration": 10,
    "start_time": "2022-01-23T09:21:18.883Z"
   },
   {
    "duration": 35,
    "start_time": "2022-01-23T09:21:18.896Z"
   },
   {
    "duration": 13,
    "start_time": "2022-01-23T09:21:18.933Z"
   },
   {
    "duration": 12,
    "start_time": "2022-01-23T09:21:18.949Z"
   },
   {
    "duration": 20,
    "start_time": "2022-01-23T09:21:18.964Z"
   },
   {
    "duration": 51,
    "start_time": "2022-01-23T09:21:18.987Z"
   },
   {
    "duration": 8,
    "start_time": "2022-01-23T09:21:19.040Z"
   },
   {
    "duration": 8130,
    "start_time": "2022-01-23T09:21:19.050Z"
   },
   {
    "duration": -83,
    "start_time": "2022-01-23T09:21:27.267Z"
   },
   {
    "duration": -85,
    "start_time": "2022-01-23T09:21:27.270Z"
   },
   {
    "duration": -83,
    "start_time": "2022-01-23T09:21:27.271Z"
   },
   {
    "duration": 7,
    "start_time": "2022-01-23T09:21:30.929Z"
   },
   {
    "duration": 15,
    "start_time": "2022-01-23T09:21:31.944Z"
   },
   {
    "duration": 5,
    "start_time": "2022-01-23T09:21:33.114Z"
   },
   {
    "duration": 322,
    "start_time": "2022-01-23T09:21:33.878Z"
   },
   {
    "duration": 10,
    "start_time": "2022-01-23T09:22:25.067Z"
   },
   {
    "duration": 28,
    "start_time": "2022-01-23T09:22:47.697Z"
   },
   {
    "duration": 29,
    "start_time": "2022-01-23T09:23:32.734Z"
   },
   {
    "duration": 34,
    "start_time": "2022-01-23T09:23:54.440Z"
   },
   {
    "duration": 5,
    "start_time": "2022-01-23T09:46:25.952Z"
   },
   {
    "duration": 321,
    "start_time": "2022-01-23T09:46:28.512Z"
   },
   {
    "duration": 5,
    "start_time": "2022-01-23T09:46:29.603Z"
   },
   {
    "duration": 31,
    "start_time": "2022-01-23T09:46:30.735Z"
   },
   {
    "duration": 28,
    "start_time": "2022-01-23T09:46:31.770Z"
   },
   {
    "duration": 22,
    "start_time": "2022-01-23T09:48:00.932Z"
   },
   {
    "duration": 8,
    "start_time": "2022-01-23T09:48:25.258Z"
   },
   {
    "duration": 361,
    "start_time": "2022-01-23T09:49:09.537Z"
   },
   {
    "duration": 922,
    "start_time": "2022-01-23T09:49:15.314Z"
   },
   {
    "duration": 289,
    "start_time": "2022-01-23T09:49:21.659Z"
   },
   {
    "duration": 326,
    "start_time": "2022-01-23T09:49:34.481Z"
   },
   {
    "duration": 350,
    "start_time": "2022-01-23T09:49:40.742Z"
   },
   {
    "duration": 500,
    "start_time": "2022-01-23T09:49:47.049Z"
   },
   {
    "duration": 246,
    "start_time": "2022-01-23T09:50:03.651Z"
   },
   {
    "duration": 287,
    "start_time": "2022-01-23T09:50:20.488Z"
   },
   {
    "duration": 401,
    "start_time": "2022-01-23T09:50:31.292Z"
   },
   {
    "duration": 401,
    "start_time": "2022-01-23T09:50:42.938Z"
   },
   {
    "duration": 370,
    "start_time": "2022-01-23T09:50:49.395Z"
   },
   {
    "duration": 335,
    "start_time": "2022-01-23T09:50:56.946Z"
   },
   {
    "duration": 347,
    "start_time": "2022-01-23T09:51:26.421Z"
   },
   {
    "duration": 338,
    "start_time": "2022-01-23T09:51:37.159Z"
   },
   {
    "duration": 362,
    "start_time": "2022-01-23T09:51:45.233Z"
   },
   {
    "duration": 26,
    "start_time": "2022-01-23T09:56:59.356Z"
   },
   {
    "duration": 17,
    "start_time": "2022-01-23T09:58:48.050Z"
   },
   {
    "duration": 18,
    "start_time": "2022-01-23T09:58:59.317Z"
   },
   {
    "duration": 16,
    "start_time": "2022-01-23T09:59:12.386Z"
   },
   {
    "duration": 19,
    "start_time": "2022-01-23T09:59:17.604Z"
   },
   {
    "duration": 9,
    "start_time": "2022-01-23T10:00:50.832Z"
   },
   {
    "duration": 11,
    "start_time": "2022-01-23T10:01:28.044Z"
   },
   {
    "duration": 840,
    "start_time": "2022-01-23T10:03:00.211Z"
   },
   {
    "duration": 3,
    "start_time": "2022-01-23T10:03:38.008Z"
   },
   {
    "duration": 450,
    "start_time": "2022-01-23T10:03:42.452Z"
   },
   {
    "duration": 437,
    "start_time": "2022-01-23T10:03:50.903Z"
   },
   {
    "duration": 442,
    "start_time": "2022-01-23T10:03:58.412Z"
   },
   {
    "duration": 523,
    "start_time": "2022-01-23T10:04:42.305Z"
   },
   {
    "duration": 395,
    "start_time": "2022-01-23T10:04:54.171Z"
   },
   {
    "duration": 527,
    "start_time": "2022-01-23T10:05:05.149Z"
   },
   {
    "duration": 431,
    "start_time": "2022-01-23T10:05:17.334Z"
   },
   {
    "duration": 413,
    "start_time": "2022-01-23T10:05:24.669Z"
   },
   {
    "duration": 542,
    "start_time": "2022-01-23T10:14:44.517Z"
   },
   {
    "duration": 397,
    "start_time": "2022-01-23T10:14:56.477Z"
   },
   {
    "duration": 411,
    "start_time": "2022-01-23T10:15:13.195Z"
   },
   {
    "duration": 414,
    "start_time": "2022-01-23T10:15:27.991Z"
   },
   {
    "duration": 422,
    "start_time": "2022-01-23T10:15:37.961Z"
   },
   {
    "duration": 526,
    "start_time": "2022-01-23T10:15:55.825Z"
   },
   {
    "duration": 418,
    "start_time": "2022-01-23T10:16:04.105Z"
   },
   {
    "duration": 426,
    "start_time": "2022-01-23T10:16:25.018Z"
   },
   {
    "duration": 535,
    "start_time": "2022-01-23T10:16:33.030Z"
   },
   {
    "duration": 417,
    "start_time": "2022-01-23T10:16:41.268Z"
   },
   {
    "duration": 420,
    "start_time": "2022-01-23T10:16:49.090Z"
   },
   {
    "duration": 416,
    "start_time": "2022-01-23T10:17:09.984Z"
   },
   {
    "duration": 406,
    "start_time": "2022-01-23T10:17:21.500Z"
   },
   {
    "duration": 400,
    "start_time": "2022-01-23T10:17:33.693Z"
   },
   {
    "duration": 410,
    "start_time": "2022-01-23T10:17:47.551Z"
   },
   {
    "duration": 392,
    "start_time": "2022-01-23T10:17:57.279Z"
   },
   {
    "duration": 397,
    "start_time": "2022-01-23T10:18:05.969Z"
   },
   {
    "duration": 401,
    "start_time": "2022-01-23T10:18:19.537Z"
   },
   {
    "duration": 413,
    "start_time": "2022-01-23T10:18:29.285Z"
   },
   {
    "duration": 523,
    "start_time": "2022-01-23T10:18:41.992Z"
   },
   {
    "duration": 393,
    "start_time": "2022-01-23T10:18:51.353Z"
   },
   {
    "duration": 411,
    "start_time": "2022-01-23T10:21:03.778Z"
   },
   {
    "duration": 417,
    "start_time": "2022-01-23T10:21:13.325Z"
   },
   {
    "duration": 394,
    "start_time": "2022-01-23T10:21:37.949Z"
   },
   {
    "duration": 388,
    "start_time": "2022-01-23T10:21:53.347Z"
   },
   {
    "duration": 384,
    "start_time": "2022-01-23T10:21:59.683Z"
   },
   {
    "duration": 420,
    "start_time": "2022-01-23T10:22:07.923Z"
   },
   {
    "duration": 615,
    "start_time": "2022-01-23T10:22:19.028Z"
   },
   {
    "duration": 802,
    "start_time": "2022-01-23T10:22:28.649Z"
   },
   {
    "duration": 474,
    "start_time": "2022-01-23T10:22:42.928Z"
   },
   {
    "duration": 654,
    "start_time": "2022-01-23T10:22:56.727Z"
   },
   {
    "duration": 2999,
    "start_time": "2022-01-23T10:23:08.362Z"
   },
   {
    "duration": 407,
    "start_time": "2022-01-23T10:23:30.232Z"
   },
   {
    "duration": 401,
    "start_time": "2022-01-23T10:23:46.500Z"
   },
   {
    "duration": 1005,
    "start_time": "2022-01-23T10:23:51.725Z"
   },
   {
    "duration": 107,
    "start_time": "2022-01-23T10:29:11.339Z"
   },
   {
    "duration": 13,
    "start_time": "2022-01-23T10:29:18.603Z"
   },
   {
    "duration": 12,
    "start_time": "2022-01-23T10:29:20.995Z"
   },
   {
    "duration": 1478,
    "start_time": "2022-01-23T10:29:22.364Z"
   },
   {
    "duration": 15,
    "start_time": "2022-01-23T10:29:46.770Z"
   },
   {
    "duration": 9,
    "start_time": "2022-01-23T10:29:56.880Z"
   },
   {
    "duration": 1048,
    "start_time": "2022-01-23T10:29:58.081Z"
   },
   {
    "duration": 15,
    "start_time": "2022-01-23T10:30:15.934Z"
   },
   {
    "duration": 9,
    "start_time": "2022-01-23T10:30:18.912Z"
   },
   {
    "duration": 845,
    "start_time": "2022-01-23T10:30:19.556Z"
   },
   {
    "duration": 19,
    "start_time": "2022-01-23T10:30:48.828Z"
   },
   {
    "duration": 12,
    "start_time": "2022-01-23T10:30:49.671Z"
   },
   {
    "duration": 858,
    "start_time": "2022-01-23T10:30:54.224Z"
   },
   {
    "duration": 489,
    "start_time": "2022-01-23T10:37:45.932Z"
   },
   {
    "duration": 1033,
    "start_time": "2022-01-23T10:38:02.701Z"
   },
   {
    "duration": 30,
    "start_time": "2022-01-23T10:42:15.801Z"
   },
   {
    "duration": 25,
    "start_time": "2022-01-23T10:42:41.989Z"
   },
   {
    "duration": 17,
    "start_time": "2022-01-23T10:43:47.365Z"
   },
   {
    "duration": 24,
    "start_time": "2022-01-23T10:43:50.196Z"
   },
   {
    "duration": 710,
    "start_time": "2022-01-23T10:44:49.983Z"
   },
   {
    "duration": 46,
    "start_time": "2022-01-23T10:45:06.565Z"
   },
   {
    "duration": 19,
    "start_time": "2022-01-23T10:45:20.988Z"
   },
   {
    "duration": 515,
    "start_time": "2022-01-23T10:45:36.214Z"
   },
   {
    "duration": 330,
    "start_time": "2022-01-23T10:45:54.839Z"
   },
   {
    "duration": 48,
    "start_time": "2022-01-23T10:46:00.509Z"
   },
   {
    "duration": 478,
    "start_time": "2022-01-23T10:46:13.773Z"
   },
   {
    "duration": 27,
    "start_time": "2022-01-23T10:46:19.371Z"
   },
   {
    "duration": 19,
    "start_time": "2022-01-23T10:47:29.697Z"
   },
   {
    "duration": 1002,
    "start_time": "2022-01-23T10:50:42.109Z"
   },
   {
    "duration": 1035,
    "start_time": "2022-01-23T10:52:41.165Z"
   },
   {
    "duration": 328,
    "start_time": "2022-01-23T10:54:40.363Z"
   },
   {
    "duration": 16,
    "start_time": "2022-01-23T10:55:15.508Z"
   },
   {
    "duration": 24,
    "start_time": "2022-01-23T10:55:35.369Z"
   },
   {
    "duration": 20,
    "start_time": "2022-01-23T10:55:52.422Z"
   },
   {
    "duration": 29,
    "start_time": "2022-01-23T10:56:13.168Z"
   },
   {
    "duration": 26,
    "start_time": "2022-01-23T10:56:23.400Z"
   },
   {
    "duration": 18,
    "start_time": "2022-01-23T10:56:31.605Z"
   },
   {
    "duration": 8144,
    "start_time": "2022-01-23T10:56:50.155Z"
   },
   {
    "duration": 933,
    "start_time": "2022-01-23T10:57:04.261Z"
   },
   {
    "duration": 510,
    "start_time": "2022-01-23T10:57:14.486Z"
   },
   {
    "duration": 656,
    "start_time": "2022-01-23T10:57:27.043Z"
   },
   {
    "duration": 966,
    "start_time": "2022-01-23T10:57:33.537Z"
   },
   {
    "duration": 1092,
    "start_time": "2022-01-23T10:58:10.244Z"
   },
   {
    "duration": 895,
    "start_time": "2022-01-23T10:58:25.652Z"
   },
   {
    "duration": 434,
    "start_time": "2022-01-23T10:58:31.431Z"
   },
   {
    "duration": 881,
    "start_time": "2022-01-23T10:58:42.479Z"
   },
   {
    "duration": 29,
    "start_time": "2022-01-23T10:59:42.793Z"
   },
   {
    "duration": 19,
    "start_time": "2022-01-23T10:59:48.103Z"
   },
   {
    "duration": 23,
    "start_time": "2022-01-23T11:33:59.490Z"
   },
   {
    "duration": 41,
    "start_time": "2022-01-23T11:34:00.308Z"
   },
   {
    "duration": 22,
    "start_time": "2022-01-23T11:34:08.722Z"
   },
   {
    "duration": 26,
    "start_time": "2022-01-23T11:35:09.520Z"
   },
   {
    "duration": 1125,
    "start_time": "2022-01-23T11:35:28.008Z"
   },
   {
    "duration": 13,
    "start_time": "2022-01-23T11:59:04.353Z"
   },
   {
    "duration": 344,
    "start_time": "2022-01-23T12:00:06.157Z"
   },
   {
    "duration": 8,
    "start_time": "2022-01-23T12:00:12.344Z"
   },
   {
    "duration": 5,
    "start_time": "2022-01-23T12:00:18.011Z"
   },
   {
    "duration": 4,
    "start_time": "2022-01-23T12:10:26.600Z"
   },
   {
    "duration": 6,
    "start_time": "2022-01-23T12:10:31.961Z"
   },
   {
    "duration": 11,
    "start_time": "2022-01-23T12:11:41.032Z"
   },
   {
    "duration": 5,
    "start_time": "2022-01-23T12:11:45.618Z"
   },
   {
    "duration": 6,
    "start_time": "2022-01-23T12:11:46.512Z"
   },
   {
    "duration": 437,
    "start_time": "2022-01-23T12:13:44.091Z"
   },
   {
    "duration": 516,
    "start_time": "2022-01-23T12:14:41.729Z"
   },
   {
    "duration": 658,
    "start_time": "2022-01-23T12:14:46.039Z"
   },
   {
    "duration": 3400,
    "start_time": "2022-01-23T12:15:43.720Z"
   },
   {
    "duration": 3081,
    "start_time": "2022-01-23T12:16:23.264Z"
   },
   {
    "duration": 1345,
    "start_time": "2022-01-23T12:16:56.037Z"
   },
   {
    "duration": 16,
    "start_time": "2022-01-23T12:17:07.104Z"
   },
   {
    "duration": 9,
    "start_time": "2022-01-23T12:17:15.201Z"
   },
   {
    "duration": 7,
    "start_time": "2022-01-23T12:17:31.869Z"
   },
   {
    "duration": 4,
    "start_time": "2022-01-23T12:21:07.890Z"
   },
   {
    "duration": 5,
    "start_time": "2022-01-23T12:33:16.231Z"
   },
   {
    "duration": 6,
    "start_time": "2022-01-23T12:33:17.830Z"
   },
   {
    "duration": 12,
    "start_time": "2022-01-23T12:33:19.567Z"
   },
   {
    "duration": 7,
    "start_time": "2022-01-23T12:33:20.106Z"
   },
   {
    "duration": 8,
    "start_time": "2022-01-23T12:33:21.348Z"
   },
   {
    "duration": 5,
    "start_time": "2022-01-23T12:34:07.286Z"
   },
   {
    "duration": 5,
    "start_time": "2022-01-23T12:34:08.260Z"
   },
   {
    "duration": 7,
    "start_time": "2022-01-23T12:34:27.114Z"
   },
   {
    "duration": 5,
    "start_time": "2022-01-23T12:34:29.509Z"
   },
   {
    "duration": 10,
    "start_time": "2022-01-23T12:39:50.520Z"
   },
   {
    "duration": 8,
    "start_time": "2022-01-23T12:41:01.799Z"
   },
   {
    "duration": 7,
    "start_time": "2022-01-23T12:41:11.459Z"
   },
   {
    "duration": 5,
    "start_time": "2022-01-23T12:41:13.223Z"
   },
   {
    "duration": 11,
    "start_time": "2022-01-23T12:41:18.594Z"
   },
   {
    "duration": 7,
    "start_time": "2022-01-23T12:41:19.188Z"
   },
   {
    "duration": 4,
    "start_time": "2022-01-23T12:41:22.622Z"
   },
   {
    "duration": 6,
    "start_time": "2022-01-23T12:44:29.380Z"
   },
   {
    "duration": 5,
    "start_time": "2022-01-23T12:44:39.980Z"
   },
   {
    "duration": 7,
    "start_time": "2022-01-23T12:44:51.775Z"
   },
   {
    "duration": 6,
    "start_time": "2022-01-23T12:45:01.570Z"
   },
   {
    "duration": 28,
    "start_time": "2022-01-23T12:48:41.978Z"
   },
   {
    "duration": 13,
    "start_time": "2022-01-23T12:49:50.154Z"
   },
   {
    "duration": 15,
    "start_time": "2022-01-23T12:50:52.626Z"
   },
   {
    "duration": 6,
    "start_time": "2022-01-23T13:12:08.219Z"
   },
   {
    "duration": 5,
    "start_time": "2022-01-23T13:12:15.472Z"
   },
   {
    "duration": 4,
    "start_time": "2022-01-23T13:12:27.584Z"
   },
   {
    "duration": 12,
    "start_time": "2022-01-23T13:13:18.686Z"
   },
   {
    "duration": 360,
    "start_time": "2022-01-23T13:13:19.940Z"
   },
   {
    "duration": 14,
    "start_time": "2022-01-23T13:13:34.057Z"
   },
   {
    "duration": 329,
    "start_time": "2022-01-23T13:13:49.344Z"
   },
   {
    "duration": 24,
    "start_time": "2022-01-23T13:14:16.819Z"
   },
   {
    "duration": 14,
    "start_time": "2022-01-23T13:14:25.485Z"
   },
   {
    "duration": 344,
    "start_time": "2022-01-23T13:14:26.761Z"
   },
   {
    "duration": 12,
    "start_time": "2022-01-23T13:14:34.423Z"
   },
   {
    "duration": 8,
    "start_time": "2022-01-23T13:14:34.899Z"
   },
   {
    "duration": 11,
    "start_time": "2022-01-23T13:14:40.403Z"
   },
   {
    "duration": 6,
    "start_time": "2022-01-23T13:14:41.161Z"
   },
   {
    "duration": 5,
    "start_time": "2022-01-23T13:14:42.592Z"
   },
   {
    "duration": 6,
    "start_time": "2022-01-23T13:14:43.484Z"
   },
   {
    "duration": 335,
    "start_time": "2022-01-23T13:14:52.123Z"
   },
   {
    "duration": 510,
    "start_time": "2022-01-23T13:15:02.420Z"
   },
   {
    "duration": 373,
    "start_time": "2022-01-23T13:15:08.591Z"
   },
   {
    "duration": 500,
    "start_time": "2022-01-23T13:16:15.890Z"
   },
   {
    "duration": 11,
    "start_time": "2022-01-23T13:16:26.030Z"
   },
   {
    "duration": 13,
    "start_time": "2022-01-23T13:16:34.975Z"
   },
   {
    "duration": 373,
    "start_time": "2022-01-23T13:17:08.801Z"
   },
   {
    "duration": 5,
    "start_time": "2022-01-23T13:17:16.125Z"
   },
   {
    "duration": 6,
    "start_time": "2022-01-23T13:17:18.937Z"
   },
   {
    "duration": 6,
    "start_time": "2022-01-23T13:17:19.497Z"
   },
   {
    "duration": 6,
    "start_time": "2022-01-23T13:18:22.296Z"
   },
   {
    "duration": 5,
    "start_time": "2022-01-23T13:18:32.886Z"
   },
   {
    "duration": 25,
    "start_time": "2022-01-23T13:30:14.578Z"
   },
   {
    "duration": 57,
    "start_time": "2022-01-23T14:09:08.772Z"
   },
   {
    "duration": 44,
    "start_time": "2022-01-23T14:09:42.167Z"
   },
   {
    "duration": 45,
    "start_time": "2022-01-23T14:10:08.188Z"
   },
   {
    "duration": 56,
    "start_time": "2022-01-23T14:10:12.239Z"
   },
   {
    "duration": 48,
    "start_time": "2022-01-23T14:10:43.351Z"
   },
   {
    "duration": 68,
    "start_time": "2022-01-23T14:11:29.138Z"
   },
   {
    "duration": 28,
    "start_time": "2022-01-23T14:12:35.109Z"
   },
   {
    "duration": 34,
    "start_time": "2022-01-23T14:13:11.271Z"
   },
   {
    "duration": 19,
    "start_time": "2022-01-23T14:13:28.460Z"
   },
   {
    "duration": 27,
    "start_time": "2022-01-23T14:13:54.460Z"
   },
   {
    "duration": 8643,
    "start_time": "2022-01-23T14:14:03.493Z"
   },
   {
    "duration": 1463,
    "start_time": "2022-01-23T14:14:40.964Z"
   },
   {
    "duration": 1325,
    "start_time": "2022-01-23T14:15:03.580Z"
   },
   {
    "duration": 1358,
    "start_time": "2022-01-23T14:15:13.941Z"
   },
   {
    "duration": 1071,
    "start_time": "2022-01-23T14:15:22.414Z"
   },
   {
    "duration": 2747,
    "start_time": "2022-01-23T14:15:42.888Z"
   },
   {
    "duration": 1825,
    "start_time": "2022-01-23T14:16:09.257Z"
   },
   {
    "duration": 1422,
    "start_time": "2022-01-23T14:16:55.322Z"
   },
   {
    "duration": 1523,
    "start_time": "2022-01-23T14:17:14.279Z"
   },
   {
    "duration": 3541,
    "start_time": "2022-01-23T14:19:48.506Z"
   },
   {
    "duration": 3126,
    "start_time": "2022-01-23T14:20:15.239Z"
   },
   {
    "duration": -322,
    "start_time": "2022-01-23T14:23:17.393Z"
   },
   {
    "duration": -327,
    "start_time": "2022-01-23T14:23:17.400Z"
   },
   {
    "duration": 1643,
    "start_time": "2022-01-23T14:23:18.869Z"
   },
   {
    "duration": 32491,
    "start_time": "2022-01-23T14:23:23.523Z"
   },
   {
    "duration": 334,
    "start_time": "2022-01-23T14:26:21.493Z"
   },
   {
    "duration": 1404,
    "start_time": "2022-01-23T14:26:45.196Z"
   },
   {
    "duration": 456,
    "start_time": "2022-01-23T14:27:37.543Z"
   },
   {
    "duration": 1490,
    "start_time": "2022-01-23T14:27:51.357Z"
   },
   {
    "duration": 19877,
    "start_time": "2022-01-23T14:28:58.698Z"
   },
   {
    "duration": 382,
    "start_time": "2022-01-23T15:19:25.817Z"
   },
   {
    "duration": 37,
    "start_time": "2022-01-23T15:19:42.802Z"
   },
   {
    "duration": 505,
    "start_time": "2022-01-23T15:20:58.465Z"
   },
   {
    "duration": 81,
    "start_time": "2022-01-23T15:21:12.345Z"
   },
   {
    "duration": 3036,
    "start_time": "2022-01-23T15:21:23.237Z"
   },
   {
    "duration": 321,
    "start_time": "2022-01-23T15:23:59.708Z"
   },
   {
    "duration": 32,
    "start_time": "2022-01-23T15:24:32.693Z"
   },
   {
    "duration": 41,
    "start_time": "2022-01-23T15:24:40.673Z"
   },
   {
    "duration": 31,
    "start_time": "2022-01-23T15:24:50.627Z"
   },
   {
    "duration": 331,
    "start_time": "2022-01-23T15:25:06.463Z"
   },
   {
    "duration": 23,
    "start_time": "2022-01-23T15:25:20.626Z"
   },
   {
    "duration": 34,
    "start_time": "2022-01-23T15:25:58.229Z"
   },
   {
    "duration": 32,
    "start_time": "2022-01-23T15:27:01.563Z"
   },
   {
    "duration": 28,
    "start_time": "2022-01-23T15:27:05.383Z"
   },
   {
    "duration": 921,
    "start_time": "2022-01-23T15:27:10.890Z"
   },
   {
    "duration": 111,
    "start_time": "2022-01-23T15:27:50.917Z"
   },
   {
    "duration": 396,
    "start_time": "2022-01-23T15:28:12.892Z"
   },
   {
    "duration": 113,
    "start_time": "2022-01-23T15:28:22.110Z"
   },
   {
    "duration": 83,
    "start_time": "2022-01-23T15:28:53.159Z"
   },
   {
    "duration": 73,
    "start_time": "2022-01-23T15:28:54.591Z"
   },
   {
    "duration": 107,
    "start_time": "2022-01-23T15:29:30.992Z"
   },
   {
    "duration": 49,
    "start_time": "2022-01-23T15:29:47.460Z"
   },
   {
    "duration": 41,
    "start_time": "2022-01-23T15:30:38.716Z"
   },
   {
    "duration": 903,
    "start_time": "2022-01-23T15:30:53.185Z"
   },
   {
    "duration": 30,
    "start_time": "2022-01-23T15:31:44.563Z"
   },
   {
    "duration": 935,
    "start_time": "2022-01-23T15:32:07.097Z"
   },
   {
    "duration": 10699,
    "start_time": "2022-01-23T15:32:32.992Z"
   },
   {
    "duration": 378,
    "start_time": "2022-01-23T15:33:02.849Z"
   },
   {
    "duration": 29,
    "start_time": "2022-01-23T15:33:14.640Z"
   },
   {
    "duration": 8928,
    "start_time": "2022-01-23T15:33:16.125Z"
   },
   {
    "duration": 1858,
    "start_time": "2022-01-23T15:33:35.876Z"
   },
   {
    "duration": 76,
    "start_time": "2022-01-23T15:34:20.290Z"
   },
   {
    "duration": 70,
    "start_time": "2022-01-23T15:34:24.933Z"
   },
   {
    "duration": 149,
    "start_time": "2022-01-23T15:34:37.643Z"
   },
   {
    "duration": 59,
    "start_time": "2022-01-23T15:34:47.827Z"
   },
   {
    "duration": 32,
    "start_time": "2022-01-23T15:35:50.027Z"
   },
   {
    "duration": 29,
    "start_time": "2022-01-23T15:35:57.478Z"
   },
   {
    "duration": 8618,
    "start_time": "2022-01-23T15:36:05.964Z"
   },
   {
    "duration": 927,
    "start_time": "2022-01-23T15:36:32.428Z"
   },
   {
    "duration": 51,
    "start_time": "2022-01-23T15:38:14.697Z"
   },
   {
    "duration": 93,
    "start_time": "2022-01-23T15:38:27.137Z"
   },
   {
    "duration": 32,
    "start_time": "2022-01-23T15:38:57.974Z"
   },
   {
    "duration": 27,
    "start_time": "2022-01-23T15:39:22.714Z"
   },
   {
    "duration": 941,
    "start_time": "2022-01-23T15:39:33.342Z"
   },
   {
    "duration": 25,
    "start_time": "2022-01-23T15:39:54.316Z"
   },
   {
    "duration": 1041,
    "start_time": "2022-01-23T15:39:56.123Z"
   },
   {
    "duration": 28,
    "start_time": "2022-01-23T15:40:06.899Z"
   },
   {
    "duration": 1052,
    "start_time": "2022-01-23T15:40:12.786Z"
   },
   {
    "duration": 429,
    "start_time": "2022-01-23T15:40:27.186Z"
   },
   {
    "duration": 937,
    "start_time": "2022-01-23T15:40:58.458Z"
   },
   {
    "duration": 908,
    "start_time": "2022-01-23T15:41:39.515Z"
   },
   {
    "duration": 1585,
    "start_time": "2022-01-23T15:41:57.011Z"
   },
   {
    "duration": 47,
    "start_time": "2022-01-23T15:49:02.449Z"
   },
   {
    "duration": 70,
    "start_time": "2022-01-23T15:49:08.618Z"
   },
   {
    "duration": 24,
    "start_time": "2022-01-23T15:49:15.551Z"
   },
   {
    "duration": 880,
    "start_time": "2022-01-23T15:49:38.879Z"
   },
   {
    "duration": 28,
    "start_time": "2022-01-23T15:49:51.632Z"
   },
   {
    "duration": 968,
    "start_time": "2022-01-23T15:49:52.989Z"
   },
   {
    "duration": 432,
    "start_time": "2022-01-23T15:50:00.512Z"
   },
   {
    "duration": 418,
    "start_time": "2022-01-23T15:50:58.680Z"
   },
   {
    "duration": 887,
    "start_time": "2022-01-23T15:51:03.957Z"
   },
   {
    "duration": 671,
    "start_time": "2022-01-23T15:51:14.839Z"
   },
   {
    "duration": 673,
    "start_time": "2022-01-23T15:51:52.291Z"
   },
   {
    "duration": 388,
    "start_time": "2022-01-23T15:52:08.204Z"
   },
   {
    "duration": 423,
    "start_time": "2022-01-23T15:52:41.556Z"
   },
   {
    "duration": 335,
    "start_time": "2022-01-23T15:53:00.374Z"
   },
   {
    "duration": 380,
    "start_time": "2022-01-23T15:53:20.937Z"
   },
   {
    "duration": 419,
    "start_time": "2022-01-23T15:53:35.272Z"
   },
   {
    "duration": 416,
    "start_time": "2022-01-23T15:53:47.354Z"
   },
   {
    "duration": 442,
    "start_time": "2022-01-23T15:53:53.519Z"
   },
   {
    "duration": 413,
    "start_time": "2022-01-23T15:54:16.214Z"
   },
   {
    "duration": 413,
    "start_time": "2022-01-23T15:54:28.739Z"
   },
   {
    "duration": 463,
    "start_time": "2022-01-23T15:54:42.797Z"
   },
   {
    "duration": 104,
    "start_time": "2022-01-23T15:54:54.188Z"
   },
   {
    "duration": 425,
    "start_time": "2022-01-23T15:55:00.847Z"
   },
   {
    "duration": 592,
    "start_time": "2022-01-23T15:55:07.663Z"
   },
   {
    "duration": 101,
    "start_time": "2022-01-23T15:55:28.167Z"
   },
   {
    "duration": 451,
    "start_time": "2022-01-23T15:55:34.575Z"
   },
   {
    "duration": 944,
    "start_time": "2022-01-23T15:56:00.779Z"
   },
   {
    "duration": 1000,
    "start_time": "2022-01-23T15:56:29.756Z"
   },
   {
    "duration": 147,
    "start_time": "2022-01-23T15:56:48.840Z"
   },
   {
    "duration": 653,
    "start_time": "2022-01-23T15:57:02.056Z"
   },
   {
    "duration": 407,
    "start_time": "2022-01-23T15:57:09.312Z"
   },
   {
    "duration": 466,
    "start_time": "2022-01-23T15:57:15.703Z"
   },
   {
    "duration": 25,
    "start_time": "2022-01-23T15:57:35.093Z"
   },
   {
    "duration": 498,
    "start_time": "2022-01-23T15:57:36.582Z"
   },
   {
    "duration": 1240,
    "start_time": "2022-01-23T15:57:47.803Z"
   },
   {
    "duration": 103,
    "start_time": "2022-01-23T15:58:36.603Z"
   },
   {
    "duration": 109,
    "start_time": "2022-01-23T15:58:44.497Z"
   },
   {
    "duration": 129,
    "start_time": "2022-01-23T15:58:54.040Z"
   },
   {
    "duration": 337,
    "start_time": "2022-01-23T15:59:00.316Z"
   },
   {
    "duration": 339,
    "start_time": "2022-01-23T15:59:05.682Z"
   },
   {
    "duration": 331,
    "start_time": "2022-01-23T15:59:26.816Z"
   },
   {
    "duration": 27,
    "start_time": "2022-01-23T15:59:48.077Z"
   },
   {
    "duration": 478,
    "start_time": "2022-01-23T15:59:56.467Z"
   },
   {
    "duration": 24,
    "start_time": "2022-01-23T16:00:17.800Z"
   },
   {
    "duration": 27,
    "start_time": "2022-01-23T16:00:25.193Z"
   },
   {
    "duration": 367,
    "start_time": "2022-01-23T16:00:34.167Z"
   },
   {
    "duration": 64,
    "start_time": "2022-01-23T16:00:40.142Z"
   },
   {
    "duration": 439,
    "start_time": "2022-01-23T16:00:45.112Z"
   },
   {
    "duration": 22,
    "start_time": "2022-01-23T16:00:58.348Z"
   },
   {
    "duration": 535,
    "start_time": "2022-01-23T16:01:00.380Z"
   },
   {
    "duration": 27,
    "start_time": "2022-01-23T16:01:14.108Z"
   },
   {
    "duration": 430,
    "start_time": "2022-01-23T16:01:17.726Z"
   },
   {
    "duration": 1017,
    "start_time": "2022-01-23T16:01:29.024Z"
   },
   {
    "duration": 6711,
    "start_time": "2022-01-23T16:01:37.313Z"
   },
   {
    "duration": 894,
    "start_time": "2022-01-23T16:01:50.312Z"
   },
   {
    "duration": 882,
    "start_time": "2022-01-23T16:02:22.985Z"
   },
   {
    "duration": 912,
    "start_time": "2022-01-23T16:02:56.936Z"
   },
   {
    "duration": 877,
    "start_time": "2022-01-23T16:03:16.249Z"
   },
   {
    "duration": 50,
    "start_time": "2022-01-23T16:38:57.871Z"
   },
   {
    "duration": 4467,
    "start_time": "2022-01-23T16:40:49.968Z"
   },
   {
    "duration": 41,
    "start_time": "2022-01-23T16:41:28.205Z"
   },
   {
    "duration": 31,
    "start_time": "2022-01-23T16:41:58.754Z"
   },
   {
    "duration": 19,
    "start_time": "2022-01-23T16:42:41.774Z"
   },
   {
    "duration": 10642,
    "start_time": "2022-01-23T16:42:51.394Z"
   },
   {
    "duration": 6,
    "start_time": "2022-01-23T16:52:38.920Z"
   },
   {
    "duration": 7,
    "start_time": "2022-01-23T16:52:48.234Z"
   },
   {
    "duration": 3095,
    "start_time": "2022-01-23T16:54:46.646Z"
   },
   {
    "duration": 208,
    "start_time": "2022-01-23T16:54:49.745Z"
   },
   {
    "duration": 186,
    "start_time": "2022-01-23T16:54:49.956Z"
   },
   {
    "duration": 120,
    "start_time": "2022-01-23T16:54:50.144Z"
   },
   {
    "duration": 24,
    "start_time": "2022-01-23T16:54:50.266Z"
   },
   {
    "duration": 59,
    "start_time": "2022-01-23T16:54:50.293Z"
   },
   {
    "duration": 19,
    "start_time": "2022-01-23T16:54:50.355Z"
   },
   {
    "duration": 12,
    "start_time": "2022-01-23T16:54:50.378Z"
   },
   {
    "duration": 20,
    "start_time": "2022-01-23T16:54:50.393Z"
   },
   {
    "duration": 18,
    "start_time": "2022-01-23T16:54:50.423Z"
   },
   {
    "duration": 32,
    "start_time": "2022-01-23T16:54:50.444Z"
   },
   {
    "duration": 39,
    "start_time": "2022-01-23T16:54:50.478Z"
   },
   {
    "duration": 58,
    "start_time": "2022-01-23T16:54:50.520Z"
   },
   {
    "duration": 65,
    "start_time": "2022-01-23T16:54:50.581Z"
   },
   {
    "duration": 20,
    "start_time": "2022-01-23T16:54:50.649Z"
   },
   {
    "duration": 22,
    "start_time": "2022-01-23T16:54:50.672Z"
   },
   {
    "duration": 15,
    "start_time": "2022-01-23T16:54:50.725Z"
   },
   {
    "duration": 28,
    "start_time": "2022-01-23T16:54:50.742Z"
   },
   {
    "duration": 11,
    "start_time": "2022-01-23T16:54:50.773Z"
   },
   {
    "duration": 64,
    "start_time": "2022-01-23T16:54:50.788Z"
   },
   {
    "duration": 28,
    "start_time": "2022-01-23T16:54:50.855Z"
   },
   {
    "duration": 69,
    "start_time": "2022-01-23T16:54:50.885Z"
   },
   {
    "duration": 19,
    "start_time": "2022-01-23T16:54:50.961Z"
   },
   {
    "duration": 46,
    "start_time": "2022-01-23T16:54:50.984Z"
   },
   {
    "duration": 26,
    "start_time": "2022-01-23T16:54:51.032Z"
   },
   {
    "duration": 38,
    "start_time": "2022-01-23T16:54:51.060Z"
   },
   {
    "duration": 27,
    "start_time": "2022-01-23T16:54:51.100Z"
   },
   {
    "duration": 17,
    "start_time": "2022-01-23T16:54:51.130Z"
   },
   {
    "duration": 28,
    "start_time": "2022-01-23T16:54:51.149Z"
   },
   {
    "duration": 15,
    "start_time": "2022-01-23T16:54:51.179Z"
   },
   {
    "duration": 28,
    "start_time": "2022-01-23T16:54:51.197Z"
   },
   {
    "duration": 14,
    "start_time": "2022-01-23T16:54:51.227Z"
   },
   {
    "duration": 8,
    "start_time": "2022-01-23T16:54:51.243Z"
   },
   {
    "duration": 69,
    "start_time": "2022-01-23T16:54:51.254Z"
   },
   {
    "duration": 43,
    "start_time": "2022-01-23T16:54:51.326Z"
   },
   {
    "duration": 9,
    "start_time": "2022-01-23T16:54:51.371Z"
   },
   {
    "duration": 12,
    "start_time": "2022-01-23T16:54:51.383Z"
   },
   {
    "duration": 34,
    "start_time": "2022-01-23T16:54:51.397Z"
   },
   {
    "duration": 19,
    "start_time": "2022-01-23T16:54:51.433Z"
   },
   {
    "duration": 25,
    "start_time": "2022-01-23T16:54:51.454Z"
   },
   {
    "duration": 11,
    "start_time": "2022-01-23T16:54:51.481Z"
   },
   {
    "duration": 48,
    "start_time": "2022-01-23T16:54:51.495Z"
   },
   {
    "duration": 22,
    "start_time": "2022-01-23T16:54:51.545Z"
   },
   {
    "duration": 9,
    "start_time": "2022-01-23T16:54:51.569Z"
   },
   {
    "duration": 44,
    "start_time": "2022-01-23T16:54:51.580Z"
   },
   {
    "duration": 12,
    "start_time": "2022-01-23T16:54:51.626Z"
   },
   {
    "duration": 11,
    "start_time": "2022-01-23T16:54:51.640Z"
   },
   {
    "duration": 10,
    "start_time": "2022-01-23T16:54:51.653Z"
   },
   {
    "duration": 58,
    "start_time": "2022-01-23T16:54:51.665Z"
   },
   {
    "duration": 10,
    "start_time": "2022-01-23T16:54:51.725Z"
   },
   {
    "duration": 7,
    "start_time": "2022-01-23T16:54:51.737Z"
   },
   {
    "duration": 15,
    "start_time": "2022-01-23T16:54:51.746Z"
   },
   {
    "duration": 5,
    "start_time": "2022-01-23T16:54:51.763Z"
   },
   {
    "duration": 434,
    "start_time": "2022-01-23T16:54:51.770Z"
   },
   {
    "duration": 17,
    "start_time": "2022-01-23T16:54:52.206Z"
   },
   {
    "duration": 31,
    "start_time": "2022-01-23T16:54:52.225Z"
   },
   {
    "duration": 27,
    "start_time": "2022-01-23T16:54:52.258Z"
   },
   {
    "duration": 646,
    "start_time": "2022-01-23T16:54:52.287Z"
   },
   {
    "duration": 86,
    "start_time": "2022-01-23T16:54:52.937Z"
   },
   {
    "duration": 29,
    "start_time": "2022-01-23T16:54:53.026Z"
   },
   {
    "duration": 966,
    "start_time": "2022-01-23T16:54:53.057Z"
   },
   {
    "duration": 48,
    "start_time": "2022-01-23T16:54:54.025Z"
   },
   {
    "duration": 98,
    "start_time": "2022-01-23T16:54:54.076Z"
   },
   {
    "duration": 26,
    "start_time": "2022-01-23T16:54:54.176Z"
   },
   {
    "duration": 975,
    "start_time": "2022-01-23T16:54:54.205Z"
   },
   {
    "duration": 70,
    "start_time": "2022-01-23T16:54:55.183Z"
   },
   {
    "duration": 171,
    "start_time": "2022-01-23T16:54:55.256Z"
   },
   {
    "duration": 26,
    "start_time": "2022-01-23T16:54:55.434Z"
   },
   {
    "duration": 1123,
    "start_time": "2022-01-23T16:54:55.462Z"
   },
   {
    "duration": 11,
    "start_time": "2022-01-23T16:54:56.588Z"
   },
   {
    "duration": 22,
    "start_time": "2022-01-23T16:54:56.602Z"
   },
   {
    "duration": 4,
    "start_time": "2022-01-23T16:54:56.626Z"
   },
   {
    "duration": 7,
    "start_time": "2022-01-23T16:54:56.632Z"
   },
   {
    "duration": 7,
    "start_time": "2022-01-23T16:54:56.641Z"
   },
   {
    "duration": 9,
    "start_time": "2022-01-23T16:54:56.651Z"
   },
   {
    "duration": 6,
    "start_time": "2022-01-23T16:54:56.662Z"
   },
   {
    "duration": 58,
    "start_time": "2022-01-23T16:54:56.670Z"
   },
   {
    "duration": 7,
    "start_time": "2022-01-23T16:54:56.730Z"
   },
   {
    "duration": 5,
    "start_time": "2022-01-23T16:54:56.739Z"
   },
   {
    "duration": 6,
    "start_time": "2022-01-23T16:54:56.746Z"
   },
   {
    "duration": 6,
    "start_time": "2022-01-23T16:54:56.755Z"
   },
   {
    "duration": 7,
    "start_time": "2022-01-23T16:54:56.763Z"
   },
   {
    "duration": 6,
    "start_time": "2022-01-23T16:54:56.772Z"
   },
   {
    "duration": 417,
    "start_time": "2022-01-30T10:23:30.583Z"
   },
   {
    "duration": 1434,
    "start_time": "2022-01-30T10:23:38.508Z"
   },
   {
    "duration": 236,
    "start_time": "2022-01-30T10:23:39.945Z"
   },
   {
    "duration": 197,
    "start_time": "2022-01-30T10:23:40.184Z"
   },
   {
    "duration": 141,
    "start_time": "2022-01-30T10:23:40.383Z"
   },
   {
    "duration": 23,
    "start_time": "2022-01-30T10:23:40.526Z"
   },
   {
    "duration": 33,
    "start_time": "2022-01-30T10:23:40.552Z"
   },
   {
    "duration": 17,
    "start_time": "2022-01-30T10:23:40.588Z"
   },
   {
    "duration": 12,
    "start_time": "2022-01-30T10:23:40.609Z"
   },
   {
    "duration": 10,
    "start_time": "2022-01-30T10:23:40.625Z"
   },
   {
    "duration": 44,
    "start_time": "2022-01-30T10:23:40.637Z"
   },
   {
    "duration": 17,
    "start_time": "2022-01-30T10:23:40.684Z"
   },
   {
    "duration": 26,
    "start_time": "2022-01-30T10:23:40.703Z"
   },
   {
    "duration": 66,
    "start_time": "2022-01-30T10:23:40.731Z"
   },
   {
    "duration": 72,
    "start_time": "2022-01-30T10:23:40.799Z"
   },
   {
    "duration": 19,
    "start_time": "2022-01-30T10:23:40.874Z"
   },
   {
    "duration": 22,
    "start_time": "2022-01-30T10:23:40.896Z"
   },
   {
    "duration": 58,
    "start_time": "2022-01-30T10:23:40.921Z"
   },
   {
    "duration": 31,
    "start_time": "2022-01-30T10:23:40.982Z"
   },
   {
    "duration": 10,
    "start_time": "2022-01-30T10:23:41.015Z"
   },
   {
    "duration": 52,
    "start_time": "2022-01-30T10:23:41.028Z"
   },
   {
    "duration": 30,
    "start_time": "2022-01-30T10:23:41.083Z"
   },
   {
    "duration": 68,
    "start_time": "2022-01-30T10:23:41.116Z"
   },
   {
    "duration": 47,
    "start_time": "2022-01-30T10:23:44.714Z"
   },
   {
    "duration": 18,
    "start_time": "2022-01-30T10:27:11.476Z"
   },
   {
    "duration": 13,
    "start_time": "2022-01-30T10:28:00.052Z"
   },
   {
    "duration": 6,
    "start_time": "2022-01-30T10:28:30.285Z"
   },
   {
    "duration": 19,
    "start_time": "2022-01-30T10:28:43.547Z"
   },
   {
    "duration": 14,
    "start_time": "2022-01-30T10:28:54.212Z"
   },
   {
    "duration": 15,
    "start_time": "2022-01-30T10:29:16.954Z"
   },
   {
    "duration": 2494,
    "start_time": "2022-01-30T10:29:32.525Z"
   },
   {
    "duration": 5155,
    "start_time": "2022-01-30T10:29:39.277Z"
   },
   {
    "duration": 2102,
    "start_time": "2022-01-30T10:30:02.405Z"
   },
   {
    "duration": 15,
    "start_time": "2022-01-30T10:30:15.962Z"
   },
   {
    "duration": 10,
    "start_time": "2022-01-30T10:30:55.678Z"
   },
   {
    "duration": 8,
    "start_time": "2022-01-30T10:31:05.176Z"
   },
   {
    "duration": 7,
    "start_time": "2022-01-30T10:32:41.553Z"
   },
   {
    "duration": 27,
    "start_time": "2022-01-30T10:32:47.254Z"
   },
   {
    "duration": 314,
    "start_time": "2022-01-30T10:33:28.337Z"
   },
   {
    "duration": 306,
    "start_time": "2022-01-30T10:34:03.943Z"
   },
   {
    "duration": 30,
    "start_time": "2022-01-30T10:36:34.194Z"
   },
   {
    "duration": 23,
    "start_time": "2022-01-30T10:38:37.612Z"
   },
   {
    "duration": 48,
    "start_time": "2022-01-30T10:40:12.726Z"
   },
   {
    "duration": 46,
    "start_time": "2022-01-30T10:40:35.215Z"
   },
   {
    "duration": 44,
    "start_time": "2022-01-30T10:40:58.406Z"
   },
   {
    "duration": 54,
    "start_time": "2022-01-30T10:43:20.373Z"
   },
   {
    "duration": 58,
    "start_time": "2022-01-30T10:44:34.007Z"
   },
   {
    "duration": 34,
    "start_time": "2022-01-30T10:44:47.404Z"
   },
   {
    "duration": 10,
    "start_time": "2022-01-30T10:44:52.560Z"
   },
   {
    "duration": 38,
    "start_time": "2022-01-30T10:44:53.078Z"
   },
   {
    "duration": 58,
    "start_time": "2022-01-30T10:45:07.184Z"
   },
   {
    "duration": 50,
    "start_time": "2022-01-30T10:45:20.708Z"
   },
   {
    "duration": 34,
    "start_time": "2022-01-30T10:45:25.316Z"
   },
   {
    "duration": 50,
    "start_time": "2022-01-30T10:46:32.065Z"
   },
   {
    "duration": 34,
    "start_time": "2022-01-30T10:46:36.673Z"
   },
   {
    "duration": 11,
    "start_time": "2022-01-30T10:47:03.188Z"
   },
   {
    "duration": 28,
    "start_time": "2022-01-30T10:47:10.985Z"
   },
   {
    "duration": 27,
    "start_time": "2022-01-30T10:47:56.444Z"
   },
   {
    "duration": 29,
    "start_time": "2022-01-30T10:48:10.436Z"
   },
   {
    "duration": 28,
    "start_time": "2022-01-30T10:48:19.538Z"
   },
   {
    "duration": 1460,
    "start_time": "2022-01-30T10:48:34.500Z"
   },
   {
    "duration": 254,
    "start_time": "2022-01-30T10:48:35.963Z"
   },
   {
    "duration": 203,
    "start_time": "2022-01-30T10:48:36.220Z"
   },
   {
    "duration": 135,
    "start_time": "2022-01-30T10:48:36.426Z"
   },
   {
    "duration": 21,
    "start_time": "2022-01-30T10:48:36.564Z"
   },
   {
    "duration": 66,
    "start_time": "2022-01-30T10:48:36.588Z"
   },
   {
    "duration": 23,
    "start_time": "2022-01-30T10:48:36.657Z"
   },
   {
    "duration": 12,
    "start_time": "2022-01-30T10:48:36.684Z"
   },
   {
    "duration": 12,
    "start_time": "2022-01-30T10:48:36.700Z"
   },
   {
    "duration": 14,
    "start_time": "2022-01-30T10:48:36.715Z"
   },
   {
    "duration": 48,
    "start_time": "2022-01-30T10:48:36.732Z"
   },
   {
    "duration": 28,
    "start_time": "2022-01-30T10:48:36.782Z"
   },
   {
    "duration": 62,
    "start_time": "2022-01-30T10:48:36.813Z"
   },
   {
    "duration": 104,
    "start_time": "2022-01-30T10:48:36.879Z"
   },
   {
    "duration": 27,
    "start_time": "2022-01-30T10:48:36.986Z"
   },
   {
    "duration": 57,
    "start_time": "2022-01-30T10:48:37.016Z"
   },
   {
    "duration": 16,
    "start_time": "2022-01-30T10:48:37.076Z"
   },
   {
    "duration": 31,
    "start_time": "2022-01-30T10:48:37.095Z"
   },
   {
    "duration": 45,
    "start_time": "2022-01-30T10:48:37.129Z"
   },
   {
    "duration": 46,
    "start_time": "2022-01-30T10:48:37.177Z"
   },
   {
    "duration": 62,
    "start_time": "2022-01-30T10:48:37.226Z"
   },
   {
    "duration": 82,
    "start_time": "2022-01-30T10:48:37.291Z"
   },
   {
    "duration": 23,
    "start_time": "2022-01-30T10:48:37.380Z"
   },
   {
    "duration": 11,
    "start_time": "2022-01-30T10:48:37.407Z"
   },
   {
    "duration": 132,
    "start_time": "2022-01-30T10:48:37.421Z"
   },
   {
    "duration": 32,
    "start_time": "2022-01-30T10:48:37.556Z"
   },
   {
    "duration": 17,
    "start_time": "2022-01-30T10:48:44.151Z"
   },
   {
    "duration": 63,
    "start_time": "2022-01-30T10:57:14.668Z"
   },
   {
    "duration": 14,
    "start_time": "2022-01-30T10:57:25.036Z"
   },
   {
    "duration": 57,
    "start_time": "2022-01-30T10:57:25.815Z"
   },
   {
    "duration": 67,
    "start_time": "2022-01-30T11:01:55.587Z"
   },
   {
    "duration": 1939,
    "start_time": "2022-01-30T11:02:43.727Z"
   },
   {
    "duration": 361,
    "start_time": "2022-01-30T11:02:45.670Z"
   },
   {
    "duration": 297,
    "start_time": "2022-01-30T11:02:46.036Z"
   },
   {
    "duration": 306,
    "start_time": "2022-01-30T11:02:46.337Z"
   },
   {
    "duration": 25,
    "start_time": "2022-01-30T11:02:46.647Z"
   },
   {
    "duration": 44,
    "start_time": "2022-01-30T11:02:46.675Z"
   },
   {
    "duration": 19,
    "start_time": "2022-01-30T11:02:46.722Z"
   },
   {
    "duration": 24,
    "start_time": "2022-01-30T11:02:46.745Z"
   },
   {
    "duration": 14,
    "start_time": "2022-01-30T11:02:46.773Z"
   },
   {
    "duration": 17,
    "start_time": "2022-01-30T11:02:46.791Z"
   },
   {
    "duration": 23,
    "start_time": "2022-01-30T11:02:46.812Z"
   },
   {
    "duration": 27,
    "start_time": "2022-01-30T11:02:46.871Z"
   },
   {
    "duration": 39,
    "start_time": "2022-01-30T11:02:46.900Z"
   },
   {
    "duration": 84,
    "start_time": "2022-01-30T11:02:46.941Z"
   },
   {
    "duration": 43,
    "start_time": "2022-01-30T11:02:47.028Z"
   },
   {
    "duration": 26,
    "start_time": "2022-01-30T11:02:47.074Z"
   },
   {
    "duration": 14,
    "start_time": "2022-01-30T11:02:47.103Z"
   },
   {
    "duration": 58,
    "start_time": "2022-01-30T11:02:47.120Z"
   },
   {
    "duration": 10,
    "start_time": "2022-01-30T11:02:47.181Z"
   },
   {
    "duration": 28,
    "start_time": "2022-01-30T11:02:47.193Z"
   },
   {
    "duration": 55,
    "start_time": "2022-01-30T11:02:47.224Z"
   },
   {
    "duration": 46,
    "start_time": "2022-01-30T11:02:47.282Z"
   },
   {
    "duration": 46,
    "start_time": "2022-01-30T11:02:47.335Z"
   },
   {
    "duration": 9,
    "start_time": "2022-01-30T11:02:47.385Z"
   },
   {
    "duration": 25,
    "start_time": "2022-01-30T11:02:47.397Z"
   },
   {
    "duration": 104,
    "start_time": "2022-01-30T11:02:47.425Z"
   },
   {
    "duration": 17,
    "start_time": "2022-01-30T11:02:47.532Z"
   },
   {
    "duration": 40,
    "start_time": "2022-01-30T11:02:47.552Z"
   },
   {
    "duration": 13,
    "start_time": "2022-01-30T11:02:47.595Z"
   },
   {
    "duration": 69,
    "start_time": "2022-01-30T11:02:47.611Z"
   },
   {
    "duration": 9,
    "start_time": "2022-01-30T11:02:47.683Z"
   },
   {
    "duration": 9,
    "start_time": "2022-01-30T11:02:47.694Z"
   },
   {
    "duration": 12,
    "start_time": "2022-01-30T11:02:47.705Z"
   },
   {
    "duration": 56,
    "start_time": "2022-01-30T11:02:47.719Z"
   },
   {
    "duration": 12,
    "start_time": "2022-01-30T11:02:47.777Z"
   },
   {
    "duration": 14,
    "start_time": "2022-01-30T11:02:47.791Z"
   },
   {
    "duration": 6,
    "start_time": "2022-01-30T11:02:47.807Z"
   },
   {
    "duration": 80,
    "start_time": "2022-01-30T11:02:47.815Z"
   },
   {
    "duration": 48,
    "start_time": "2022-01-30T11:02:47.897Z"
   },
   {
    "duration": 26,
    "start_time": "2022-01-30T11:02:47.947Z"
   },
   {
    "duration": 11,
    "start_time": "2022-01-30T11:02:47.975Z"
   },
   {
    "duration": 10,
    "start_time": "2022-01-30T11:02:47.988Z"
   },
   {
    "duration": 68,
    "start_time": "2022-01-30T11:02:48.001Z"
   },
   {
    "duration": 26,
    "start_time": "2022-01-30T11:02:48.072Z"
   },
   {
    "duration": 9,
    "start_time": "2022-01-30T11:02:48.101Z"
   },
   {
    "duration": 59,
    "start_time": "2022-01-30T11:02:48.112Z"
   },
   {
    "duration": 25,
    "start_time": "2022-01-30T11:02:48.173Z"
   },
   {
    "duration": 9,
    "start_time": "2022-01-30T11:02:48.200Z"
   },
   {
    "duration": 19,
    "start_time": "2022-01-30T11:02:48.212Z"
   },
   {
    "duration": 44,
    "start_time": "2022-01-30T11:02:48.233Z"
   },
   {
    "duration": 12,
    "start_time": "2022-01-30T11:02:48.279Z"
   },
   {
    "duration": 11,
    "start_time": "2022-01-30T11:02:48.293Z"
   },
   {
    "duration": 75,
    "start_time": "2022-01-30T11:02:48.307Z"
   },
   {
    "duration": 13,
    "start_time": "2022-01-30T11:02:48.386Z"
   },
   {
    "duration": 10,
    "start_time": "2022-01-30T11:02:48.402Z"
   },
   {
    "duration": 54,
    "start_time": "2022-01-30T11:02:48.415Z"
   },
   {
    "duration": 7,
    "start_time": "2022-01-30T11:02:48.473Z"
   },
   {
    "duration": 388,
    "start_time": "2022-01-30T11:02:48.483Z"
   },
   {
    "duration": 5,
    "start_time": "2022-01-30T11:02:48.874Z"
   },
   {
    "duration": 37,
    "start_time": "2022-01-30T11:02:48.881Z"
   },
   {
    "duration": 52,
    "start_time": "2022-01-30T11:02:48.920Z"
   },
   {
    "duration": 809,
    "start_time": "2022-01-30T11:02:48.974Z"
   },
   {
    "duration": 92,
    "start_time": "2022-01-30T11:02:49.786Z"
   },
   {
    "duration": 32,
    "start_time": "2022-01-30T11:02:49.881Z"
   },
   {
    "duration": 1041,
    "start_time": "2022-01-30T11:02:49.916Z"
   },
   {
    "duration": 61,
    "start_time": "2022-01-30T11:02:50.959Z"
   },
   {
    "duration": 98,
    "start_time": "2022-01-30T11:02:51.022Z"
   },
   {
    "duration": 45,
    "start_time": "2022-01-30T11:02:51.131Z"
   },
   {
    "duration": 992,
    "start_time": "2022-01-30T11:02:51.180Z"
   },
   {
    "duration": 54,
    "start_time": "2022-01-30T11:02:52.176Z"
   },
   {
    "duration": 206,
    "start_time": "2022-01-30T11:02:52.233Z"
   },
   {
    "duration": 43,
    "start_time": "2022-01-30T11:02:52.442Z"
   },
   {
    "duration": 989,
    "start_time": "2022-01-30T11:02:52.487Z"
   },
   {
    "duration": 12,
    "start_time": "2022-01-30T11:02:53.479Z"
   },
   {
    "duration": 7,
    "start_time": "2022-01-30T11:02:53.493Z"
   },
   {
    "duration": 6,
    "start_time": "2022-01-30T11:02:53.502Z"
   },
   {
    "duration": 9,
    "start_time": "2022-01-30T11:02:53.510Z"
   },
   {
    "duration": 50,
    "start_time": "2022-01-30T11:02:53.521Z"
   },
   {
    "duration": 6,
    "start_time": "2022-01-30T11:02:53.574Z"
   },
   {
    "duration": 6,
    "start_time": "2022-01-30T11:02:53.582Z"
   },
   {
    "duration": 11,
    "start_time": "2022-01-30T11:02:53.590Z"
   },
   {
    "duration": 7,
    "start_time": "2022-01-30T11:02:53.603Z"
   },
   {
    "duration": 59,
    "start_time": "2022-01-30T11:02:53.613Z"
   },
   {
    "duration": 7,
    "start_time": "2022-01-30T11:02:53.674Z"
   },
   {
    "duration": 8,
    "start_time": "2022-01-30T11:02:53.684Z"
   },
   {
    "duration": 9,
    "start_time": "2022-01-30T11:02:53.694Z"
   },
   {
    "duration": 7,
    "start_time": "2022-01-30T11:02:53.705Z"
   },
   {
    "duration": 1080,
    "start_time": "2022-01-30T11:03:50.644Z"
   },
   {
    "duration": 686,
    "start_time": "2022-01-30T11:04:52.284Z"
   },
   {
    "duration": 435,
    "start_time": "2022-01-30T11:04:59.887Z"
   },
   {
    "duration": 442,
    "start_time": "2022-01-30T11:05:05.796Z"
   },
   {
    "duration": 2038,
    "start_time": "2022-01-30T11:05:12.131Z"
   },
   {
    "duration": 558,
    "start_time": "2022-01-30T11:05:19.815Z"
   },
   {
    "duration": 32,
    "start_time": "2022-01-30T11:06:33.389Z"
   },
   {
    "duration": 40,
    "start_time": "2022-01-30T11:06:41.740Z"
   },
   {
    "duration": 13,
    "start_time": "2022-01-30T11:06:55.002Z"
   },
   {
    "duration": 57,
    "start_time": "2022-01-30T11:07:16.893Z"
   },
   {
    "duration": 9,
    "start_time": "2022-01-30T11:08:38.157Z"
   },
   {
    "duration": 66,
    "start_time": "2022-01-30T11:09:35.494Z"
   },
   {
    "duration": 13,
    "start_time": "2022-01-30T11:10:03.966Z"
   },
   {
    "duration": 395,
    "start_time": "2022-01-30T11:12:43.570Z"
   },
   {
    "duration": 280,
    "start_time": "2022-01-30T11:12:59.089Z"
   },
   {
    "duration": 303,
    "start_time": "2022-01-30T11:13:08.010Z"
   },
   {
    "duration": 491,
    "start_time": "2022-01-30T11:13:18.766Z"
   },
   {
    "duration": 1867,
    "start_time": "2022-01-30T11:13:35.489Z"
   },
   {
    "duration": 770,
    "start_time": "2022-01-30T11:14:15.318Z"
   },
   {
    "duration": 713,
    "start_time": "2022-01-30T11:15:17.317Z"
   },
   {
    "duration": 470,
    "start_time": "2022-01-30T11:16:31.158Z"
   },
   {
    "duration": 720,
    "start_time": "2022-01-30T11:16:43.017Z"
   },
   {
    "duration": 315,
    "start_time": "2022-01-30T11:17:03.729Z"
   },
   {
    "duration": 575,
    "start_time": "2022-01-30T11:17:59.966Z"
   },
   {
    "duration": 543,
    "start_time": "2022-01-30T11:18:12.748Z"
   },
   {
    "duration": 885,
    "start_time": "2022-01-30T11:18:34.396Z"
   },
   {
    "duration": 516,
    "start_time": "2022-01-30T11:19:09.417Z"
   },
   {
    "duration": 746,
    "start_time": "2022-01-30T11:23:03.203Z"
   },
   {
    "duration": 77,
    "start_time": "2022-01-30T11:40:28.303Z"
   },
   {
    "duration": 11,
    "start_time": "2022-01-30T11:40:32.211Z"
   },
   {
    "duration": 726,
    "start_time": "2022-01-30T11:40:34.198Z"
   },
   {
    "duration": 493,
    "start_time": "2022-01-30T11:40:36.599Z"
   },
   {
    "duration": 87,
    "start_time": "2022-01-30T11:41:31.860Z"
   },
   {
    "duration": 195,
    "start_time": "2022-01-30T11:41:54.918Z"
   },
   {
    "duration": 12,
    "start_time": "2022-01-30T11:41:58.203Z"
   },
   {
    "duration": 647,
    "start_time": "2022-01-30T11:42:05.923Z"
   },
   {
    "duration": 551,
    "start_time": "2022-01-30T11:42:09.370Z"
   },
   {
    "duration": 72,
    "start_time": "2022-01-30T11:42:38.743Z"
   },
   {
    "duration": 11,
    "start_time": "2022-01-30T11:42:41.758Z"
   },
   {
    "duration": 891,
    "start_time": "2022-01-30T11:42:45.083Z"
   },
   {
    "duration": 555,
    "start_time": "2022-01-30T11:42:46.740Z"
   },
   {
    "duration": 6,
    "start_time": "2022-01-30T11:44:34.099Z"
   },
   {
    "duration": 391,
    "start_time": "2022-01-30T11:44:36.493Z"
   },
   {
    "duration": 5,
    "start_time": "2022-01-30T11:44:37.017Z"
   },
   {
    "duration": 33,
    "start_time": "2022-01-30T11:44:38.096Z"
   },
   {
    "duration": 33,
    "start_time": "2022-01-30T11:44:46.014Z"
   },
   {
    "duration": 19,
    "start_time": "2022-01-30T11:47:18.409Z"
   },
   {
    "duration": 7,
    "start_time": "2022-01-30T11:50:12.342Z"
   },
   {
    "duration": 315,
    "start_time": "2022-01-30T11:50:45.682Z"
   },
   {
    "duration": 36,
    "start_time": "2022-01-30T11:50:46.150Z"
   },
   {
    "duration": 8,
    "start_time": "2022-01-30T11:51:11.866Z"
   },
   {
    "duration": 36,
    "start_time": "2022-01-30T11:51:12.720Z"
   },
   {
    "duration": 351,
    "start_time": "2022-01-30T11:52:20.197Z"
   },
   {
    "duration": 373,
    "start_time": "2022-01-30T11:52:47.614Z"
   },
   {
    "duration": 34,
    "start_time": "2022-01-30T11:52:50.150Z"
   },
   {
    "duration": 1905,
    "start_time": "2022-01-30T11:53:17.447Z"
   },
   {
    "duration": 252,
    "start_time": "2022-01-30T11:53:19.355Z"
   },
   {
    "duration": 216,
    "start_time": "2022-01-30T11:53:19.611Z"
   },
   {
    "duration": 142,
    "start_time": "2022-01-30T11:53:19.829Z"
   },
   {
    "duration": 26,
    "start_time": "2022-01-30T11:53:19.975Z"
   },
   {
    "duration": 34,
    "start_time": "2022-01-30T11:53:20.004Z"
   },
   {
    "duration": 16,
    "start_time": "2022-01-30T11:53:20.040Z"
   },
   {
    "duration": 14,
    "start_time": "2022-01-30T11:53:20.070Z"
   },
   {
    "duration": 13,
    "start_time": "2022-01-30T11:53:20.087Z"
   },
   {
    "duration": 18,
    "start_time": "2022-01-30T11:53:20.103Z"
   },
   {
    "duration": 58,
    "start_time": "2022-01-30T11:53:20.124Z"
   },
   {
    "duration": 30,
    "start_time": "2022-01-30T11:53:20.184Z"
   },
   {
    "duration": 84,
    "start_time": "2022-01-30T11:53:20.217Z"
   },
   {
    "duration": 78,
    "start_time": "2022-01-30T11:53:20.303Z"
   },
   {
    "duration": 21,
    "start_time": "2022-01-30T11:53:20.384Z"
   },
   {
    "duration": 22,
    "start_time": "2022-01-30T11:53:20.407Z"
   },
   {
    "duration": 13,
    "start_time": "2022-01-30T11:53:20.469Z"
   },
   {
    "duration": 21,
    "start_time": "2022-01-30T11:53:20.484Z"
   },
   {
    "duration": 10,
    "start_time": "2022-01-30T11:53:20.507Z"
   },
   {
    "duration": 73,
    "start_time": "2022-01-30T11:53:20.519Z"
   },
   {
    "duration": 30,
    "start_time": "2022-01-30T11:53:20.594Z"
   },
   {
    "duration": 72,
    "start_time": "2022-01-30T11:53:20.626Z"
   },
   {
    "duration": 18,
    "start_time": "2022-01-30T11:53:20.704Z"
   },
   {
    "duration": 9,
    "start_time": "2022-01-30T11:53:20.725Z"
   },
   {
    "duration": 115,
    "start_time": "2022-01-30T11:53:20.770Z"
   },
   {
    "duration": 13,
    "start_time": "2022-01-30T11:53:20.888Z"
   },
   {
    "duration": 709,
    "start_time": "2022-01-30T11:53:20.904Z"
   },
   {
    "duration": 541,
    "start_time": "2022-01-30T11:53:21.616Z"
   },
   {
    "duration": 23,
    "start_time": "2022-01-30T11:53:22.159Z"
   },
   {
    "duration": 25,
    "start_time": "2022-01-30T11:53:22.185Z"
   },
   {
    "duration": 11,
    "start_time": "2022-01-30T11:53:22.213Z"
   },
   {
    "duration": 74,
    "start_time": "2022-01-30T11:53:22.227Z"
   },
   {
    "duration": 8,
    "start_time": "2022-01-30T11:53:22.303Z"
   },
   {
    "duration": 9,
    "start_time": "2022-01-30T11:53:22.313Z"
   },
   {
    "duration": 46,
    "start_time": "2022-01-30T11:53:22.324Z"
   },
   {
    "duration": 22,
    "start_time": "2022-01-30T11:53:22.373Z"
   },
   {
    "duration": 19,
    "start_time": "2022-01-30T11:53:22.397Z"
   },
   {
    "duration": 15,
    "start_time": "2022-01-30T11:53:22.419Z"
   },
   {
    "duration": 35,
    "start_time": "2022-01-30T11:53:22.436Z"
   },
   {
    "duration": 42,
    "start_time": "2022-01-30T11:53:22.474Z"
   },
   {
    "duration": 90,
    "start_time": "2022-01-30T11:53:22.519Z"
   },
   {
    "duration": 14,
    "start_time": "2022-01-30T11:53:22.612Z"
   },
   {
    "duration": 15,
    "start_time": "2022-01-30T11:53:22.629Z"
   },
   {
    "duration": 15,
    "start_time": "2022-01-30T11:53:22.671Z"
   },
   {
    "duration": 28,
    "start_time": "2022-01-30T11:53:22.689Z"
   },
   {
    "duration": 65,
    "start_time": "2022-01-30T11:53:22.720Z"
   },
   {
    "duration": 10,
    "start_time": "2022-01-30T11:53:22.787Z"
   },
   {
    "duration": 26,
    "start_time": "2022-01-30T11:53:22.800Z"
   },
   {
    "duration": 49,
    "start_time": "2022-01-30T11:53:22.829Z"
   },
   {
    "duration": 10,
    "start_time": "2022-01-30T11:53:22.880Z"
   },
   {
    "duration": 18,
    "start_time": "2022-01-30T11:53:22.892Z"
   },
   {
    "duration": 12,
    "start_time": "2022-01-30T11:53:22.913Z"
   },
   {
    "duration": 42,
    "start_time": "2022-01-30T11:53:22.928Z"
   },
   {
    "duration": 13,
    "start_time": "2022-01-30T11:53:22.972Z"
   },
   {
    "duration": 26,
    "start_time": "2022-01-30T11:53:22.987Z"
   },
   {
    "duration": 11,
    "start_time": "2022-01-30T11:53:23.015Z"
   },
   {
    "duration": 40,
    "start_time": "2022-01-30T11:53:23.029Z"
   },
   {
    "duration": 24,
    "start_time": "2022-01-30T11:53:23.072Z"
   },
   {
    "duration": 8,
    "start_time": "2022-01-30T11:53:23.098Z"
   },
   {
    "duration": 431,
    "start_time": "2022-01-30T11:53:23.109Z"
   },
   {
    "duration": 5,
    "start_time": "2022-01-30T11:53:23.542Z"
   },
   {
    "duration": 14,
    "start_time": "2022-01-30T11:53:35.402Z"
   },
   {
    "duration": 10,
    "start_time": "2022-01-30T11:53:37.352Z"
   },
   {
    "duration": 23,
    "start_time": "2022-01-30T11:53:38.609Z"
   },
   {
    "duration": 23,
    "start_time": "2022-01-30T11:53:44.876Z"
   },
   {
    "duration": 768,
    "start_time": "2022-01-30T11:55:43.579Z"
   },
   {
    "duration": 89,
    "start_time": "2022-01-30T11:55:44.539Z"
   },
   {
    "duration": 41,
    "start_time": "2022-01-30T11:55:48.652Z"
   },
   {
    "duration": 1003,
    "start_time": "2022-01-30T11:55:50.090Z"
   },
   {
    "duration": 1332,
    "start_time": "2022-01-30T11:56:24.468Z"
   },
   {
    "duration": 1241,
    "start_time": "2022-01-30T11:58:22.948Z"
   },
   {
    "duration": 1840,
    "start_time": "2022-01-30T11:58:45.199Z"
   },
   {
    "duration": 1637,
    "start_time": "2022-01-30T12:02:15.113Z"
   },
   {
    "duration": 27,
    "start_time": "2022-01-30T12:02:16.953Z"
   },
   {
    "duration": 72,
    "start_time": "2022-01-30T12:02:18.282Z"
   },
   {
    "duration": 1518,
    "start_time": "2022-01-30T12:06:58.820Z"
   },
   {
    "duration": 248,
    "start_time": "2022-01-30T12:07:00.342Z"
   },
   {
    "duration": 196,
    "start_time": "2022-01-30T12:07:00.593Z"
   },
   {
    "duration": 164,
    "start_time": "2022-01-30T12:07:00.793Z"
   },
   {
    "duration": 38,
    "start_time": "2022-01-30T12:07:00.960Z"
   },
   {
    "duration": 65,
    "start_time": "2022-01-30T12:07:01.001Z"
   },
   {
    "duration": 27,
    "start_time": "2022-01-30T12:07:01.069Z"
   },
   {
    "duration": 14,
    "start_time": "2022-01-30T12:07:01.102Z"
   },
   {
    "duration": 22,
    "start_time": "2022-01-30T12:07:01.121Z"
   },
   {
    "duration": 32,
    "start_time": "2022-01-30T12:07:01.146Z"
   },
   {
    "duration": 23,
    "start_time": "2022-01-30T12:07:01.180Z"
   },
   {
    "duration": 48,
    "start_time": "2022-01-30T12:07:01.205Z"
   },
   {
    "duration": 50,
    "start_time": "2022-01-30T12:07:01.257Z"
   },
   {
    "duration": 89,
    "start_time": "2022-01-30T12:07:01.310Z"
   },
   {
    "duration": 25,
    "start_time": "2022-01-30T12:07:01.402Z"
   },
   {
    "duration": 47,
    "start_time": "2022-01-30T12:07:01.430Z"
   },
   {
    "duration": 18,
    "start_time": "2022-01-30T12:07:01.480Z"
   },
   {
    "duration": 31,
    "start_time": "2022-01-30T12:07:01.501Z"
   },
   {
    "duration": 34,
    "start_time": "2022-01-30T12:07:01.535Z"
   },
   {
    "duration": 25,
    "start_time": "2022-01-30T12:07:01.572Z"
   },
   {
    "duration": 34,
    "start_time": "2022-01-30T12:07:01.600Z"
   },
   {
    "duration": 50,
    "start_time": "2022-01-30T12:07:01.669Z"
   },
   {
    "duration": 44,
    "start_time": "2022-01-30T12:07:01.726Z"
   },
   {
    "duration": 10,
    "start_time": "2022-01-30T12:07:01.774Z"
   },
   {
    "duration": 124,
    "start_time": "2022-01-30T12:07:01.786Z"
   },
   {
    "duration": 12,
    "start_time": "2022-01-30T12:07:01.912Z"
   },
   {
    "duration": 707,
    "start_time": "2022-01-30T12:07:01.926Z"
   },
   {
    "duration": 579,
    "start_time": "2022-01-30T12:07:02.635Z"
   },
   {
    "duration": 24,
    "start_time": "2022-01-30T12:07:03.217Z"
   },
   {
    "duration": 60,
    "start_time": "2022-01-30T12:07:03.243Z"
   },
   {
    "duration": 14,
    "start_time": "2022-01-30T12:07:03.306Z"
   },
   {
    "duration": 65,
    "start_time": "2022-01-30T12:07:03.322Z"
   },
   {
    "duration": 9,
    "start_time": "2022-01-30T12:07:03.390Z"
   },
   {
    "duration": 10,
    "start_time": "2022-01-30T12:07:03.401Z"
   },
   {
    "duration": 12,
    "start_time": "2022-01-30T12:07:03.414Z"
   },
   {
    "duration": 62,
    "start_time": "2022-01-30T12:07:03.429Z"
   },
   {
    "duration": 12,
    "start_time": "2022-01-30T12:07:03.493Z"
   },
   {
    "duration": 19,
    "start_time": "2022-01-30T12:07:03.507Z"
   },
   {
    "duration": 45,
    "start_time": "2022-01-30T12:07:03.528Z"
   },
   {
    "duration": 40,
    "start_time": "2022-01-30T12:07:03.577Z"
   },
   {
    "duration": 74,
    "start_time": "2022-01-30T12:07:03.619Z"
   },
   {
    "duration": 11,
    "start_time": "2022-01-30T12:07:03.696Z"
   },
   {
    "duration": 13,
    "start_time": "2022-01-30T12:07:03.710Z"
   },
   {
    "duration": 11,
    "start_time": "2022-01-30T12:07:03.725Z"
   },
   {
    "duration": 53,
    "start_time": "2022-01-30T12:07:03.738Z"
   },
   {
    "duration": 29,
    "start_time": "2022-01-30T12:07:03.793Z"
   },
   {
    "duration": 9,
    "start_time": "2022-01-30T12:07:03.825Z"
   },
   {
    "duration": 61,
    "start_time": "2022-01-30T12:07:03.836Z"
   },
   {
    "duration": 27,
    "start_time": "2022-01-30T12:07:03.900Z"
   },
   {
    "duration": 10,
    "start_time": "2022-01-30T12:07:03.929Z"
   },
   {
    "duration": 40,
    "start_time": "2022-01-30T12:07:03.941Z"
   },
   {
    "duration": 17,
    "start_time": "2022-01-30T12:07:03.985Z"
   },
   {
    "duration": 13,
    "start_time": "2022-01-30T12:07:04.004Z"
   },
   {
    "duration": 13,
    "start_time": "2022-01-30T12:07:04.019Z"
   },
   {
    "duration": 66,
    "start_time": "2022-01-30T12:07:04.035Z"
   },
   {
    "duration": 11,
    "start_time": "2022-01-30T12:07:04.104Z"
   },
   {
    "duration": 8,
    "start_time": "2022-01-30T12:07:04.119Z"
   },
   {
    "duration": 51,
    "start_time": "2022-01-30T12:07:04.130Z"
   },
   {
    "duration": 8,
    "start_time": "2022-01-30T12:07:04.185Z"
   },
   {
    "duration": 402,
    "start_time": "2022-01-30T12:07:04.195Z"
   },
   {
    "duration": 6,
    "start_time": "2022-01-30T12:07:04.600Z"
   },
   {
    "duration": 17,
    "start_time": "2022-01-30T12:07:04.610Z"
   },
   {
    "duration": 55,
    "start_time": "2022-01-30T12:07:04.630Z"
   },
   {
    "duration": 27,
    "start_time": "2022-01-30T12:07:04.688Z"
   },
   {
    "duration": 683,
    "start_time": "2022-01-30T12:07:04.718Z"
   },
   {
    "duration": 77,
    "start_time": "2022-01-30T12:07:05.405Z"
   },
   {
    "duration": 32,
    "start_time": "2022-01-30T12:07:05.485Z"
   },
   {
    "duration": 1202,
    "start_time": "2022-01-30T12:07:05.527Z"
   },
   {
    "duration": 93,
    "start_time": "2022-01-30T12:07:06.734Z"
   },
   {
    "duration": 259,
    "start_time": "2022-01-30T12:07:06.830Z"
   },
   {
    "duration": 29,
    "start_time": "2022-01-30T12:07:07.092Z"
   },
   {
    "duration": 1098,
    "start_time": "2022-01-30T12:07:07.136Z"
   },
   {
    "duration": 76,
    "start_time": "2022-01-30T12:07:08.236Z"
   },
   {
    "duration": 97,
    "start_time": "2022-01-30T12:07:08.315Z"
   },
   {
    "duration": 28,
    "start_time": "2022-01-30T12:07:08.414Z"
   },
   {
    "duration": 1231,
    "start_time": "2022-01-30T12:07:08.444Z"
   },
   {
    "duration": 12,
    "start_time": "2022-01-30T12:07:09.678Z"
   },
   {
    "duration": 9,
    "start_time": "2022-01-30T12:07:09.693Z"
   },
   {
    "duration": 7,
    "start_time": "2022-01-30T12:07:09.704Z"
   },
   {
    "duration": 20,
    "start_time": "2022-01-30T12:07:09.713Z"
   },
   {
    "duration": 35,
    "start_time": "2022-01-30T12:07:09.736Z"
   },
   {
    "duration": 6,
    "start_time": "2022-01-30T12:07:09.774Z"
   },
   {
    "duration": 8,
    "start_time": "2022-01-30T12:07:09.783Z"
   },
   {
    "duration": 16,
    "start_time": "2022-01-30T12:07:09.794Z"
   },
   {
    "duration": 8,
    "start_time": "2022-01-30T12:07:09.812Z"
   },
   {
    "duration": 49,
    "start_time": "2022-01-30T12:07:09.822Z"
   },
   {
    "duration": 7,
    "start_time": "2022-01-30T12:07:09.874Z"
   },
   {
    "duration": 6,
    "start_time": "2022-01-30T12:07:09.884Z"
   },
   {
    "duration": 5,
    "start_time": "2022-01-30T12:07:09.893Z"
   },
   {
    "duration": 6,
    "start_time": "2022-01-30T12:07:09.901Z"
   },
   {
    "duration": 1821,
    "start_time": "2022-01-30T12:08:12.166Z"
   },
   {
    "duration": 1500,
    "start_time": "2022-01-30T12:08:25.237Z"
   },
   {
    "duration": 243,
    "start_time": "2022-01-30T12:08:26.740Z"
   },
   {
    "duration": 209,
    "start_time": "2022-01-30T12:08:26.986Z"
   },
   {
    "duration": 181,
    "start_time": "2022-01-30T12:08:27.198Z"
   },
   {
    "duration": 27,
    "start_time": "2022-01-30T12:08:27.383Z"
   },
   {
    "duration": 56,
    "start_time": "2022-01-30T12:08:27.412Z"
   },
   {
    "duration": 17,
    "start_time": "2022-01-30T12:08:27.470Z"
   },
   {
    "duration": 19,
    "start_time": "2022-01-30T12:08:27.491Z"
   },
   {
    "duration": 12,
    "start_time": "2022-01-30T12:08:27.513Z"
   },
   {
    "duration": 12,
    "start_time": "2022-01-30T12:08:27.527Z"
   },
   {
    "duration": 15,
    "start_time": "2022-01-30T12:08:27.571Z"
   },
   {
    "duration": 28,
    "start_time": "2022-01-30T12:08:27.589Z"
   },
   {
    "duration": 79,
    "start_time": "2022-01-30T12:08:27.620Z"
   },
   {
    "duration": 58,
    "start_time": "2022-01-30T12:08:27.702Z"
   },
   {
    "duration": 24,
    "start_time": "2022-01-30T12:08:27.778Z"
   },
   {
    "duration": 23,
    "start_time": "2022-01-30T12:08:27.804Z"
   },
   {
    "duration": 44,
    "start_time": "2022-01-30T12:08:27.830Z"
   },
   {
    "duration": 21,
    "start_time": "2022-01-30T12:08:27.878Z"
   },
   {
    "duration": 9,
    "start_time": "2022-01-30T12:08:27.902Z"
   },
   {
    "duration": 22,
    "start_time": "2022-01-30T12:08:27.914Z"
   },
   {
    "duration": 69,
    "start_time": "2022-01-30T12:08:27.939Z"
   },
   {
    "duration": 77,
    "start_time": "2022-01-30T12:08:28.010Z"
   },
   {
    "duration": 17,
    "start_time": "2022-01-30T12:08:28.094Z"
   },
   {
    "duration": 9,
    "start_time": "2022-01-30T12:08:28.114Z"
   },
   {
    "duration": 134,
    "start_time": "2022-01-30T12:08:28.125Z"
   },
   {
    "duration": 18,
    "start_time": "2022-01-30T12:08:28.262Z"
   },
   {
    "duration": 735,
    "start_time": "2022-01-30T12:08:28.283Z"
   },
   {
    "duration": 568,
    "start_time": "2022-01-30T12:08:29.020Z"
   },
   {
    "duration": 21,
    "start_time": "2022-01-30T12:08:29.591Z"
   },
   {
    "duration": 211,
    "start_time": "2022-01-30T12:08:29.615Z"
   },
   {
    "duration": 151,
    "start_time": "2022-01-30T12:08:29.829Z"
   },
   {
    "duration": 190,
    "start_time": "2022-01-30T12:08:29.983Z"
   },
   {
    "duration": 44,
    "start_time": "2022-01-30T12:08:30.176Z"
   },
   {
    "duration": 54,
    "start_time": "2022-01-30T12:08:30.223Z"
   },
   {
    "duration": 52,
    "start_time": "2022-01-30T12:08:30.279Z"
   },
   {
    "duration": 64,
    "start_time": "2022-01-30T12:08:30.334Z"
   },
   {
    "duration": 62,
    "start_time": "2022-01-30T12:08:30.401Z"
   },
   {
    "duration": 78,
    "start_time": "2022-01-30T12:08:30.466Z"
   },
   {
    "duration": 75,
    "start_time": "2022-01-30T12:08:30.546Z"
   },
   {
    "duration": 43,
    "start_time": "2022-01-30T12:08:30.623Z"
   },
   {
    "duration": 50,
    "start_time": "2022-01-30T12:08:30.669Z"
   },
   {
    "duration": 11,
    "start_time": "2022-01-30T12:08:30.721Z"
   },
   {
    "duration": 38,
    "start_time": "2022-01-30T12:08:30.735Z"
   },
   {
    "duration": 42,
    "start_time": "2022-01-30T12:08:30.776Z"
   },
   {
    "duration": 40,
    "start_time": "2022-01-30T12:08:30.821Z"
   },
   {
    "duration": 30,
    "start_time": "2022-01-30T12:08:30.864Z"
   },
   {
    "duration": 10,
    "start_time": "2022-01-30T12:08:30.897Z"
   },
   {
    "duration": 35,
    "start_time": "2022-01-30T12:08:30.909Z"
   },
   {
    "duration": 43,
    "start_time": "2022-01-30T12:08:30.946Z"
   },
   {
    "duration": 11,
    "start_time": "2022-01-30T12:08:30.991Z"
   },
   {
    "duration": 16,
    "start_time": "2022-01-30T12:08:31.005Z"
   },
   {
    "duration": 47,
    "start_time": "2022-01-30T12:08:31.023Z"
   },
   {
    "duration": 18,
    "start_time": "2022-01-30T12:08:31.074Z"
   },
   {
    "duration": 38,
    "start_time": "2022-01-30T12:08:31.095Z"
   },
   {
    "duration": 47,
    "start_time": "2022-01-30T12:08:31.137Z"
   },
   {
    "duration": 11,
    "start_time": "2022-01-30T12:08:31.188Z"
   },
   {
    "duration": 48,
    "start_time": "2022-01-30T12:08:31.201Z"
   },
   {
    "duration": 26,
    "start_time": "2022-01-30T12:08:31.251Z"
   },
   {
    "duration": 6,
    "start_time": "2022-01-30T12:08:31.280Z"
   },
   {
    "duration": 714,
    "start_time": "2022-01-30T12:08:31.289Z"
   },
   {
    "duration": 7,
    "start_time": "2022-01-30T12:08:32.006Z"
   },
   {
    "duration": 89,
    "start_time": "2022-01-30T12:08:32.017Z"
   },
   {
    "duration": 63,
    "start_time": "2022-01-30T12:08:32.110Z"
   },
   {
    "duration": 33,
    "start_time": "2022-01-30T12:08:32.176Z"
   },
   {
    "duration": 919,
    "start_time": "2022-01-30T12:08:32.212Z"
   },
   {
    "duration": 106,
    "start_time": "2022-01-30T12:08:33.134Z"
   },
   {
    "duration": 53,
    "start_time": "2022-01-30T12:08:33.243Z"
   },
   {
    "duration": 1555,
    "start_time": "2022-01-30T12:08:33.305Z"
   },
   {
    "duration": 58,
    "start_time": "2022-01-30T12:08:34.868Z"
   },
   {
    "duration": 217,
    "start_time": "2022-01-30T12:08:34.928Z"
   },
   {
    "duration": 45,
    "start_time": "2022-01-30T12:08:35.147Z"
   },
   {
    "duration": 1132,
    "start_time": "2022-01-30T12:08:35.195Z"
   },
   {
    "duration": 80,
    "start_time": "2022-01-30T12:08:36.330Z"
   },
   {
    "duration": 164,
    "start_time": "2022-01-30T12:08:36.412Z"
   },
   {
    "duration": 38,
    "start_time": "2022-01-30T12:08:36.579Z"
   },
   {
    "duration": 1293,
    "start_time": "2022-01-30T12:08:36.620Z"
   },
   {
    "duration": 13,
    "start_time": "2022-01-30T12:08:37.916Z"
   },
   {
    "duration": 9,
    "start_time": "2022-01-30T12:08:37.932Z"
   },
   {
    "duration": 36,
    "start_time": "2022-01-30T12:08:37.944Z"
   },
   {
    "duration": 10,
    "start_time": "2022-01-30T12:08:37.984Z"
   },
   {
    "duration": 8,
    "start_time": "2022-01-30T12:08:37.997Z"
   },
   {
    "duration": 9,
    "start_time": "2022-01-30T12:08:38.007Z"
   },
   {
    "duration": 7,
    "start_time": "2022-01-30T12:08:38.018Z"
   },
   {
    "duration": 19,
    "start_time": "2022-01-30T12:08:38.074Z"
   },
   {
    "duration": 7,
    "start_time": "2022-01-30T12:08:38.096Z"
   },
   {
    "duration": 5,
    "start_time": "2022-01-30T12:08:38.105Z"
   },
   {
    "duration": 8,
    "start_time": "2022-01-30T12:08:38.113Z"
   },
   {
    "duration": 61,
    "start_time": "2022-01-30T12:08:38.124Z"
   },
   {
    "duration": 6,
    "start_time": "2022-01-30T12:08:38.188Z"
   },
   {
    "duration": 8,
    "start_time": "2022-01-30T12:08:38.196Z"
   },
   {
    "duration": 1135,
    "start_time": "2022-01-30T12:09:29.005Z"
   }
  ],
  "kernelspec": {
   "display_name": "Python 3",
   "language": "python",
   "name": "python3"
  },
  "language_info": {
   "codemirror_mode": {
    "name": "ipython",
    "version": 3
   },
   "file_extension": ".py",
   "mimetype": "text/x-python",
   "name": "python",
   "nbconvert_exporter": "python",
   "pygments_lexer": "ipython3",
   "version": "3.8.8"
  },
  "toc": {
   "base_numbering": 1,
   "nav_menu": {
    "height": "143px",
    "width": "250px"
   },
   "number_sections": true,
   "sideBar": true,
   "skip_h1_title": true,
   "title_cell": "Table of Contents",
   "title_sidebar": "Contents",
   "toc_cell": false,
   "toc_position": {
    "height": "calc(100% - 180px)",
    "left": "10px",
    "top": "150px",
    "width": "366.391px"
   },
   "toc_section_display": true,
   "toc_window_display": false
  }
 },
 "nbformat": 4,
 "nbformat_minor": 4
}
