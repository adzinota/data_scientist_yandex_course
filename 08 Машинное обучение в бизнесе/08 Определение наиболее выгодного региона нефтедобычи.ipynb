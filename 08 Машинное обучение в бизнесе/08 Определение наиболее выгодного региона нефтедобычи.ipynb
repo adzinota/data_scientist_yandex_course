{
 "cells": [
  {
   "cell_type": "markdown",
   "metadata": {},
   "source": [
    "# Выбор локации для скважины"
   ]
  },
  {
   "cell_type": "markdown",
   "metadata": {},
   "source": [
    "Допустим, вы работаете в добывающей компании «ГлавРосГосНефть». Нужно решить, где бурить новую скважину.\n",
    "\n",
    "Вам предоставлены пробы нефти в трёх регионах: в каждом 10 000 месторождений, где измерили качество нефти и объём её запасов. Постройте модель машинного обучения, которая поможет определить регион, где добыча принесёт наибольшую прибыль. Проанализируйте возможную прибыль и риски техникой *Bootstrap.*\n",
    "\n",
    "Шаги для выбора локации:\n",
    "\n",
    "- В избранном регионе ищут месторождения, для каждого определяют значения признаков;\n",
    "- Строят модель и оценивают объём запасов;\n",
    "- Выбирают месторождения с самым высокими оценками значений. Количество месторождений зависит от бюджета компании и стоимости разработки одной скважины;\n",
    "- Прибыль равна суммарной прибыли отобранных месторождений."
   ]
  },
  {
   "cell_type": "markdown",
   "metadata": {},
   "source": [
    "**Условия задачи:**\n",
    "\n",
    "* Для обучения модели подходит только линейная регрессия (остальные — недостаточно предсказуемые).\n",
    "* При разведке региона исследуют 500 точек, из которых с помощью машинного обучения выбирают 200 лучших для разработки.\n",
    "* Бюджет на разработку скважин в регионе — 10 млрд рублей.\n",
    "* При нынешних ценах один баррель сырья приносит 450 рублей дохода. Доход с каждой единицы продукта составляет 450 тыс. рублей, поскольку объём указан в тысячах баррелей.\n",
    "* После оценки рисков нужно оставить лишь те регионы, в которых вероятность убытков меньше 2.5%. Среди них выбирают регион с наибольшей средней прибылью.\n",
    "* Данные синтетические: детали контрактов и характеристики месторождений не разглашаются."
   ]
  },
  {
   "cell_type": "markdown",
   "metadata": {},
   "source": [
    "## Загрузка и подготовка данных"
   ]
  },
  {
   "cell_type": "markdown",
   "metadata": {},
   "source": [
    "Загрузите и подготовьте данные. Поясните порядок действий."
   ]
  },
  {
   "cell_type": "markdown",
   "metadata": {},
   "source": [
    "Импортируем необходимые библиотеки и прочитаем файлы в переменные"
   ]
  },
  {
   "cell_type": "code",
   "execution_count": 1,
   "metadata": {},
   "outputs": [],
   "source": [
    "import pandas as pd\n",
    "from sklearn.model_selection import train_test_split\n",
    "from sklearn.linear_model import LinearRegression\n",
    "from sklearn.metrics import mean_squared_error\n",
    "from math import sqrt\n",
    "import numpy as np"
   ]
  },
  {
   "cell_type": "markdown",
   "metadata": {},
   "source": [
    "Сохраним в константу количество представленных датафреймов"
   ]
  },
  {
   "cell_type": "code",
   "execution_count": 2,
   "metadata": {},
   "outputs": [],
   "source": [
    "N = 3 #количество датафреймов"
   ]
  },
  {
   "cell_type": "markdown",
   "metadata": {},
   "source": [
    "Создадим список и добавим в него каждый датафрейм как отдельный элемент"
   ]
  },
  {
   "cell_type": "code",
   "execution_count": 3,
   "metadata": {},
   "outputs": [],
   "source": [
    "df_list = []\n",
    "\n",
    "df = pd.DataFrame()\n",
    "\n",
    "for i in range(N):\n",
    "    df = pd.read_csv(f'/datasets/geo_data_{i}.csv')\n",
    "    df_list.append(df)"
   ]
  },
  {
   "cell_type": "markdown",
   "metadata": {},
   "source": [
    "Посмотрим общую информацию о данных"
   ]
  },
  {
   "cell_type": "code",
   "execution_count": 4,
   "metadata": {},
   "outputs": [
    {
     "name": "stdout",
     "output_type": "stream",
     "text": [
      "<class 'pandas.core.frame.DataFrame'>\n",
      "RangeIndex: 100000 entries, 0 to 99999\n",
      "Data columns (total 5 columns):\n",
      " #   Column   Non-Null Count   Dtype  \n",
      "---  ------   --------------   -----  \n",
      " 0   id       100000 non-null  object \n",
      " 1   f0       100000 non-null  float64\n",
      " 2   f1       100000 non-null  float64\n",
      " 3   f2       100000 non-null  float64\n",
      " 4   product  100000 non-null  float64\n",
      "dtypes: float64(4), object(1)\n",
      "memory usage: 3.8+ MB\n",
      "None \n",
      "\n",
      "<class 'pandas.core.frame.DataFrame'>\n",
      "RangeIndex: 100000 entries, 0 to 99999\n",
      "Data columns (total 5 columns):\n",
      " #   Column   Non-Null Count   Dtype  \n",
      "---  ------   --------------   -----  \n",
      " 0   id       100000 non-null  object \n",
      " 1   f0       100000 non-null  float64\n",
      " 2   f1       100000 non-null  float64\n",
      " 3   f2       100000 non-null  float64\n",
      " 4   product  100000 non-null  float64\n",
      "dtypes: float64(4), object(1)\n",
      "memory usage: 3.8+ MB\n",
      "None \n",
      "\n",
      "<class 'pandas.core.frame.DataFrame'>\n",
      "RangeIndex: 100000 entries, 0 to 99999\n",
      "Data columns (total 5 columns):\n",
      " #   Column   Non-Null Count   Dtype  \n",
      "---  ------   --------------   -----  \n",
      " 0   id       100000 non-null  object \n",
      " 1   f0       100000 non-null  float64\n",
      " 2   f1       100000 non-null  float64\n",
      " 3   f2       100000 non-null  float64\n",
      " 4   product  100000 non-null  float64\n",
      "dtypes: float64(4), object(1)\n",
      "memory usage: 3.8+ MB\n",
      "None \n",
      "\n"
     ]
    }
   ],
   "source": [
    "for df in df_list:\n",
    "    print(df.info(), '\\n')"
   ]
  },
  {
   "cell_type": "markdown",
   "metadata": {},
   "source": [
    "Посмотрим первые строки файлов"
   ]
  },
  {
   "cell_type": "code",
   "execution_count": 5,
   "metadata": {},
   "outputs": [
    {
     "data": {
      "text/html": [
       "<div>\n",
       "<style scoped>\n",
       "    .dataframe tbody tr th:only-of-type {\n",
       "        vertical-align: middle;\n",
       "    }\n",
       "\n",
       "    .dataframe tbody tr th {\n",
       "        vertical-align: top;\n",
       "    }\n",
       "\n",
       "    .dataframe thead th {\n",
       "        text-align: right;\n",
       "    }\n",
       "</style>\n",
       "<table border=\"1\" class=\"dataframe\">\n",
       "  <thead>\n",
       "    <tr style=\"text-align: right;\">\n",
       "      <th></th>\n",
       "      <th>id</th>\n",
       "      <th>f0</th>\n",
       "      <th>f1</th>\n",
       "      <th>f2</th>\n",
       "      <th>product</th>\n",
       "    </tr>\n",
       "  </thead>\n",
       "  <tbody>\n",
       "    <tr>\n",
       "      <th>0</th>\n",
       "      <td>txEyH</td>\n",
       "      <td>0.705745</td>\n",
       "      <td>-0.497823</td>\n",
       "      <td>1.221170</td>\n",
       "      <td>105.280062</td>\n",
       "    </tr>\n",
       "    <tr>\n",
       "      <th>1</th>\n",
       "      <td>2acmU</td>\n",
       "      <td>1.334711</td>\n",
       "      <td>-0.340164</td>\n",
       "      <td>4.365080</td>\n",
       "      <td>73.037750</td>\n",
       "    </tr>\n",
       "    <tr>\n",
       "      <th>2</th>\n",
       "      <td>409Wp</td>\n",
       "      <td>1.022732</td>\n",
       "      <td>0.151990</td>\n",
       "      <td>1.419926</td>\n",
       "      <td>85.265647</td>\n",
       "    </tr>\n",
       "    <tr>\n",
       "      <th>3</th>\n",
       "      <td>iJLyR</td>\n",
       "      <td>-0.032172</td>\n",
       "      <td>0.139033</td>\n",
       "      <td>2.978566</td>\n",
       "      <td>168.620776</td>\n",
       "    </tr>\n",
       "    <tr>\n",
       "      <th>4</th>\n",
       "      <td>Xdl7t</td>\n",
       "      <td>1.988431</td>\n",
       "      <td>0.155413</td>\n",
       "      <td>4.751769</td>\n",
       "      <td>154.036647</td>\n",
       "    </tr>\n",
       "  </tbody>\n",
       "</table>\n",
       "</div>"
      ],
      "text/plain": [
       "      id        f0        f1        f2     product\n",
       "0  txEyH  0.705745 -0.497823  1.221170  105.280062\n",
       "1  2acmU  1.334711 -0.340164  4.365080   73.037750\n",
       "2  409Wp  1.022732  0.151990  1.419926   85.265647\n",
       "3  iJLyR -0.032172  0.139033  2.978566  168.620776\n",
       "4  Xdl7t  1.988431  0.155413  4.751769  154.036647"
      ]
     },
     "execution_count": 5,
     "metadata": {},
     "output_type": "execute_result"
    }
   ],
   "source": [
    "df_list[0].head()"
   ]
  },
  {
   "cell_type": "code",
   "execution_count": 6,
   "metadata": {},
   "outputs": [
    {
     "data": {
      "text/html": [
       "<div>\n",
       "<style scoped>\n",
       "    .dataframe tbody tr th:only-of-type {\n",
       "        vertical-align: middle;\n",
       "    }\n",
       "\n",
       "    .dataframe tbody tr th {\n",
       "        vertical-align: top;\n",
       "    }\n",
       "\n",
       "    .dataframe thead th {\n",
       "        text-align: right;\n",
       "    }\n",
       "</style>\n",
       "<table border=\"1\" class=\"dataframe\">\n",
       "  <thead>\n",
       "    <tr style=\"text-align: right;\">\n",
       "      <th></th>\n",
       "      <th>id</th>\n",
       "      <th>f0</th>\n",
       "      <th>f1</th>\n",
       "      <th>f2</th>\n",
       "      <th>product</th>\n",
       "    </tr>\n",
       "  </thead>\n",
       "  <tbody>\n",
       "    <tr>\n",
       "      <th>0</th>\n",
       "      <td>kBEdx</td>\n",
       "      <td>-15.001348</td>\n",
       "      <td>-8.276000</td>\n",
       "      <td>-0.005876</td>\n",
       "      <td>3.179103</td>\n",
       "    </tr>\n",
       "    <tr>\n",
       "      <th>1</th>\n",
       "      <td>62mP7</td>\n",
       "      <td>14.272088</td>\n",
       "      <td>-3.475083</td>\n",
       "      <td>0.999183</td>\n",
       "      <td>26.953261</td>\n",
       "    </tr>\n",
       "    <tr>\n",
       "      <th>2</th>\n",
       "      <td>vyE1P</td>\n",
       "      <td>6.263187</td>\n",
       "      <td>-5.948386</td>\n",
       "      <td>5.001160</td>\n",
       "      <td>134.766305</td>\n",
       "    </tr>\n",
       "    <tr>\n",
       "      <th>3</th>\n",
       "      <td>KcrkZ</td>\n",
       "      <td>-13.081196</td>\n",
       "      <td>-11.506057</td>\n",
       "      <td>4.999415</td>\n",
       "      <td>137.945408</td>\n",
       "    </tr>\n",
       "    <tr>\n",
       "      <th>4</th>\n",
       "      <td>AHL4O</td>\n",
       "      <td>12.702195</td>\n",
       "      <td>-8.147433</td>\n",
       "      <td>5.004363</td>\n",
       "      <td>134.766305</td>\n",
       "    </tr>\n",
       "  </tbody>\n",
       "</table>\n",
       "</div>"
      ],
      "text/plain": [
       "      id         f0         f1        f2     product\n",
       "0  kBEdx -15.001348  -8.276000 -0.005876    3.179103\n",
       "1  62mP7  14.272088  -3.475083  0.999183   26.953261\n",
       "2  vyE1P   6.263187  -5.948386  5.001160  134.766305\n",
       "3  KcrkZ -13.081196 -11.506057  4.999415  137.945408\n",
       "4  AHL4O  12.702195  -8.147433  5.004363  134.766305"
      ]
     },
     "execution_count": 6,
     "metadata": {},
     "output_type": "execute_result"
    }
   ],
   "source": [
    "df_list[1].head()"
   ]
  },
  {
   "cell_type": "code",
   "execution_count": 7,
   "metadata": {},
   "outputs": [
    {
     "data": {
      "text/html": [
       "<div>\n",
       "<style scoped>\n",
       "    .dataframe tbody tr th:only-of-type {\n",
       "        vertical-align: middle;\n",
       "    }\n",
       "\n",
       "    .dataframe tbody tr th {\n",
       "        vertical-align: top;\n",
       "    }\n",
       "\n",
       "    .dataframe thead th {\n",
       "        text-align: right;\n",
       "    }\n",
       "</style>\n",
       "<table border=\"1\" class=\"dataframe\">\n",
       "  <thead>\n",
       "    <tr style=\"text-align: right;\">\n",
       "      <th></th>\n",
       "      <th>id</th>\n",
       "      <th>f0</th>\n",
       "      <th>f1</th>\n",
       "      <th>f2</th>\n",
       "      <th>product</th>\n",
       "    </tr>\n",
       "  </thead>\n",
       "  <tbody>\n",
       "    <tr>\n",
       "      <th>0</th>\n",
       "      <td>fwXo0</td>\n",
       "      <td>-1.146987</td>\n",
       "      <td>0.963328</td>\n",
       "      <td>-0.828965</td>\n",
       "      <td>27.758673</td>\n",
       "    </tr>\n",
       "    <tr>\n",
       "      <th>1</th>\n",
       "      <td>WJtFt</td>\n",
       "      <td>0.262778</td>\n",
       "      <td>0.269839</td>\n",
       "      <td>-2.530187</td>\n",
       "      <td>56.069697</td>\n",
       "    </tr>\n",
       "    <tr>\n",
       "      <th>2</th>\n",
       "      <td>ovLUW</td>\n",
       "      <td>0.194587</td>\n",
       "      <td>0.289035</td>\n",
       "      <td>-5.586433</td>\n",
       "      <td>62.871910</td>\n",
       "    </tr>\n",
       "    <tr>\n",
       "      <th>3</th>\n",
       "      <td>q6cA6</td>\n",
       "      <td>2.236060</td>\n",
       "      <td>-0.553760</td>\n",
       "      <td>0.930038</td>\n",
       "      <td>114.572842</td>\n",
       "    </tr>\n",
       "    <tr>\n",
       "      <th>4</th>\n",
       "      <td>WPMUX</td>\n",
       "      <td>-0.515993</td>\n",
       "      <td>1.716266</td>\n",
       "      <td>5.899011</td>\n",
       "      <td>149.600746</td>\n",
       "    </tr>\n",
       "  </tbody>\n",
       "</table>\n",
       "</div>"
      ],
      "text/plain": [
       "      id        f0        f1        f2     product\n",
       "0  fwXo0 -1.146987  0.963328 -0.828965   27.758673\n",
       "1  WJtFt  0.262778  0.269839 -2.530187   56.069697\n",
       "2  ovLUW  0.194587  0.289035 -5.586433   62.871910\n",
       "3  q6cA6  2.236060 -0.553760  0.930038  114.572842\n",
       "4  WPMUX -0.515993  1.716266  5.899011  149.600746"
      ]
     },
     "execution_count": 7,
     "metadata": {},
     "output_type": "execute_result"
    }
   ],
   "source": [
    "df_list[2].head()"
   ]
  },
  {
   "cell_type": "markdown",
   "metadata": {},
   "source": [
    "Ничего не понятно, но очень интересно"
   ]
  },
  {
   "cell_type": "markdown",
   "metadata": {},
   "source": [
    "Проверим пропуски и дубликаты в данных"
   ]
  },
  {
   "cell_type": "code",
   "execution_count": 8,
   "metadata": {},
   "outputs": [
    {
     "name": "stdout",
     "output_type": "stream",
     "text": [
      "id         0\n",
      "f0         0\n",
      "f1         0\n",
      "f2         0\n",
      "product    0\n",
      "dtype: int64 \n",
      "\n",
      "id         0\n",
      "f0         0\n",
      "f1         0\n",
      "f2         0\n",
      "product    0\n",
      "dtype: int64 \n",
      "\n",
      "id         0\n",
      "f0         0\n",
      "f1         0\n",
      "f2         0\n",
      "product    0\n",
      "dtype: int64 \n",
      "\n"
     ]
    }
   ],
   "source": [
    "for df in df_list:\n",
    "    print(df.isna().sum(), '\\n')"
   ]
  },
  {
   "cell_type": "code",
   "execution_count": 9,
   "metadata": {},
   "outputs": [
    {
     "name": "stdout",
     "output_type": "stream",
     "text": [
      "0 \n",
      "\n",
      "0 \n",
      "\n",
      "0 \n",
      "\n"
     ]
    }
   ],
   "source": [
    "for df in df_list:\n",
    "    print(df.duplicated().sum(), '\\n')"
   ]
  },
  {
   "cell_type": "markdown",
   "metadata": {},
   "source": [
    "Посмотрим на данные в целевом столбце"
   ]
  },
  {
   "cell_type": "code",
   "execution_count": 10,
   "metadata": {},
   "outputs": [
    {
     "name": "stdout",
     "output_type": "stream",
     "text": [
      "100000 \n",
      "\n",
      "12 \n",
      "\n",
      "100000 \n",
      "\n"
     ]
    }
   ],
   "source": [
    "for df in df_list:\n",
    "    print(df['product'].value_counts().count(), '\\n')"
   ]
  },
  {
   "cell_type": "markdown",
   "metadata": {},
   "source": [
    "Очень странно, во втором датафрейме всего 12 уникальный значений"
   ]
  },
  {
   "cell_type": "markdown",
   "metadata": {},
   "source": [
    "## Обучение и проверка модели"
   ]
  },
  {
   "cell_type": "markdown",
   "metadata": {},
   "source": [
    "Разбейте данные на обучающую и валидационную выборки в соотношении 75:25"
   ]
  },
  {
   "cell_type": "code",
   "execution_count": 11,
   "metadata": {},
   "outputs": [],
   "source": [
    "features_list = []\n",
    "target_list = []\n",
    "features_train_list = []\n",
    "features_valid_list = []\n",
    "target_train_list = []\n",
    "target_valid_list = []"
   ]
  },
  {
   "cell_type": "code",
   "execution_count": 12,
   "metadata": {},
   "outputs": [],
   "source": [
    "for df in df_list:\n",
    "    features = df.drop(['product', 'id'], axis=1) \n",
    "    target = df['product']\n",
    "\n",
    "    features_train, features_valid, target_train, target_valid = train_test_split(\n",
    "    features, target, train_size=0.75, random_state=12345)\n",
    "    \n",
    "    features_list.append(features)\n",
    "    target_list.append(target)\n",
    "    features_train_list.append(features_train)\n",
    "    target_train_list.append(target_train)\n",
    "    features_valid_list.append(features_valid)\n",
    "    target_valid_list.append(target_valid)"
   ]
  },
  {
   "cell_type": "markdown",
   "metadata": {},
   "source": [
    "Обучите модель и сделайте предсказания на валидационной выборке"
   ]
  },
  {
   "cell_type": "code",
   "execution_count": 13,
   "metadata": {},
   "outputs": [],
   "source": [
    "model_list = []\n",
    "\n",
    "for i in range(N):\n",
    "    model = LinearRegression().fit(features_train_list[i], target_train_list[i])\n",
    "    model_list.append(model)"
   ]
  },
  {
   "cell_type": "code",
   "execution_count": 14,
   "metadata": {},
   "outputs": [],
   "source": [
    "predictions_list = []\n",
    "\n",
    "for i in range(N):\n",
    "    predictions = model_list[i].predict(features_valid_list[i])\n",
    "    predictions_list.append(predictions)"
   ]
  },
  {
   "cell_type": "markdown",
   "metadata": {},
   "source": [
    "Сохраните предсказания и правильные ответы на валидационной выборке."
   ]
  },
  {
   "cell_type": "code",
   "execution_count": 15,
   "metadata": {},
   "outputs": [],
   "source": [
    "common_list = []\n",
    "\n",
    "for i in range (N):\n",
    "    common = pd.DataFrame()\n",
    "    common['predictions'] = pd.Series(predictions_list[i])\n",
    "    common['target'] = target_valid_list[i].reset_index(drop=True)\n",
    "    common_list.append(common)"
   ]
  },
  {
   "cell_type": "markdown",
   "metadata": {},
   "source": [
    "Напечатайте на экране средний запас предсказанного сырья и RMSE модели"
   ]
  },
  {
   "cell_type": "code",
   "execution_count": 16,
   "metadata": {},
   "outputs": [
    {
     "name": "stdout",
     "output_type": "stream",
     "text": [
      "predictions    92.592568\n",
      "target         92.078597\n",
      "dtype: float64 \n",
      "\n",
      "predictions    68.728547\n",
      "target         68.723136\n",
      "dtype: float64 \n",
      "\n",
      "predictions    94.965046\n",
      "target         94.884233\n",
      "dtype: float64 \n",
      "\n"
     ]
    }
   ],
   "source": [
    "for common in common_list:\n",
    "    print(common.mean(), '\\n')"
   ]
  },
  {
   "cell_type": "code",
   "execution_count": 17,
   "metadata": {},
   "outputs": [
    {
     "name": "stdout",
     "output_type": "stream",
     "text": [
      "37.5794217150813\n",
      "0.893099286775617\n",
      "40.02970873393434\n"
     ]
    }
   ],
   "source": [
    "for i in range(N):\n",
    "    print(sqrt(mean_squared_error(target_valid_list[i], predictions_list[i])))"
   ]
  },
  {
   "cell_type": "markdown",
   "metadata": {},
   "source": [
    "Проанализируйте результаты"
   ]
  },
  {
   "cell_type": "markdown",
   "metadata": {},
   "source": [
    "Модели 1 и 3 регионов имеют высокую среднеквадратичную ошибку, но у модели 2 региона она мала, при этом в исходном датафрейме у 2 региона всего 12 уникальных значений в целевом признаке  \n",
    "Средние значения предсказаний и целевого признака при этом близки  \n",
    "Средние значения запасов в регионах 1 и 3 выше, чем в регионе 2\n",
    "У 1 региона меньше среднеквадратичная ошибка, но средний запас тоже меньше, у 3 региона - наоборот"
   ]
  },
  {
   "cell_type": "markdown",
   "metadata": {},
   "source": [
    "## Подготовка к расчёту прибыли"
   ]
  },
  {
   "cell_type": "markdown",
   "metadata": {},
   "source": [
    "При разведке региона исследуют 500 точек, из которых с помощью машинного обучения выбирают 200 лучших для разработки.\n",
    "Бюджет на разработку скважин в регионе — 10 млрд рублей.  \n",
    "При нынешних ценах один баррель сырья приносит 450 рублей дохода. Доход с каждой единицы продукта составляет 450 тыс. рублей, поскольку объём указан в тысячах баррелей.  \n",
    "После оценки рисков нужно оставить лишь те регионы, в которых вероятность убытков меньше 2.5%. Среди них выбирают регион с наибольшей средней прибылью.  "
   ]
  },
  {
   "cell_type": "markdown",
   "metadata": {},
   "source": [
    "Все ключевые значения для расчётов сохраните в отдельных переменных"
   ]
  },
  {
   "cell_type": "code",
   "execution_count": 18,
   "metadata": {},
   "outputs": [],
   "source": [
    "BUDGET = 10e9\n",
    "TOTAL_OIL_WELLS = 500\n",
    "BEST_OIL_WELLS = 200\n",
    "BARREL_PROFIT = 450\n",
    "PRODUCT_PROFIT = BARREL_PROFIT * 1000"
   ]
  },
  {
   "cell_type": "markdown",
   "metadata": {},
   "source": [
    "Рассчитайте достаточный объём сырья для безубыточной разработки новой скважины. Сравните полученный объём сырья со средним запасом в каждом регионе."
   ]
  },
  {
   "cell_type": "markdown",
   "metadata": {},
   "source": [
    "Разработка может считать безубыточной, если выручка не меньше стоимости разработки"
   ]
  },
  {
   "cell_type": "code",
   "execution_count": 19,
   "metadata": {},
   "outputs": [
    {
     "data": {
      "text/plain": [
       "111.11111111111111"
      ]
     },
     "execution_count": 19,
     "metadata": {},
     "output_type": "execute_result"
    }
   ],
   "source": [
    "min_product = BUDGET / PRODUCT_PROFIT / BEST_OIL_WELLS\n",
    "min_product"
   ]
  },
  {
   "cell_type": "markdown",
   "metadata": {},
   "source": [
    "Получилось 111.1, что выше, чем средние значения в каждом из регионов  \n",
    "Таким образом, для покрытия расходов на разработку необходимы лучшие скважины"
   ]
  },
  {
   "cell_type": "markdown",
   "metadata": {},
   "source": [
    "## Расчёт прибыли и рисков "
   ]
  },
  {
   "cell_type": "markdown",
   "metadata": {},
   "source": [
    "1. Примените технику Bootstrap с 1000 выборок, чтобы найти распределение прибыли.\n",
    "2. Найдите среднюю прибыль, 95%-й доверительный интервал и риск убытков. Убыток — это отрицательная прибыль.\n",
    "3. Напишите выводы: предложите регион для разработки скважин и обоснуйте выбор."
   ]
  },
  {
   "cell_type": "markdown",
   "metadata": {},
   "source": [
    "Напишем фунцию для расчета прибыли"
   ]
  },
  {
   "cell_type": "code",
   "execution_count": 20,
   "metadata": {},
   "outputs": [],
   "source": [
    "def profit(target, predictions, best_oil_wells, product_profit, budget):\n",
    "    \n",
    "    predictions_sorted = predictions.sort_values(ascending=False)\n",
    "    \n",
    "    best_predictions = target[predictions_sorted.index][:best_oil_wells]\n",
    "    \n",
    "    return (product_profit * best_predictions.sum() - (budget))"
   ]
  },
  {
   "cell_type": "markdown",
   "metadata": {},
   "source": [
    "Создадим генератор случайных чисел"
   ]
  },
  {
   "cell_type": "code",
   "execution_count": 21,
   "metadata": {},
   "outputs": [],
   "source": [
    "state = np.random.RandomState(12345)"
   ]
  },
  {
   "cell_type": "markdown",
   "metadata": {},
   "source": [
    "Создадим функцию получения общей прибыли"
   ]
  },
  {
   "cell_type": "code",
   "execution_count": 22,
   "metadata": {},
   "outputs": [],
   "source": [
    "def get_total_profit(common):\n",
    "    total_profit = []\n",
    "    for i in range(1000):\n",
    "        subsample = common.sample(n=TOTAL_OIL_WELLS, replace=True, random_state=state)\n",
    "    \n",
    "        target_subsample = subsample['target']\n",
    "    \n",
    "        predictions_subsample = subsample['predictions'] \n",
    "    \n",
    "        total_profit.append(profit(target_subsample, predictions_subsample, BEST_OIL_WELLS, PRODUCT_PROFIT, BUDGET))\n",
    "    \n",
    "    return total_profit"
   ]
  },
  {
   "cell_type": "markdown",
   "metadata": {},
   "source": [
    "Создадим функцию получения значений средней прибыли, 95%-й доверительного интервал и риска убытков"
   ]
  },
  {
   "cell_type": "code",
   "execution_count": 23,
   "metadata": {},
   "outputs": [],
   "source": [
    "def get_values(total_profit):\n",
    "    lower = total_profit.quantile(0.025)\n",
    "    upper = total_profit.quantile(0.975)\n",
    "    mean = total_profit.mean()\n",
    "    risks = (total_profit < 0).mean() * 100\n",
    "    return {'lower':lower, 'upper':upper, 'mean':mean, 'risks':risks}"
   ]
  },
  {
   "cell_type": "markdown",
   "metadata": {},
   "source": [
    "Создадим функцию вывода полученных значений на экран"
   ]
  },
  {
   "cell_type": "code",
   "execution_count": 24,
   "metadata": {},
   "outputs": [],
   "source": [
    "def print_values(values):\n",
    "    print('Средняя прибыль:', values.get('mean'))\n",
    "    print('2.5%-квантиль', values.get('lower'))\n",
    "    print('95%-ый доверительный интервал:', values.get('lower'), ':', values.get('upper'))\n",
    "    print('Риски:', values.get('risks'), '\\n')"
   ]
  },
  {
   "cell_type": "markdown",
   "metadata": {},
   "source": [
    "Воспользуемся этими функциями для всех регионов"
   ]
  },
  {
   "cell_type": "code",
   "execution_count": 25,
   "metadata": {},
   "outputs": [
    {
     "name": "stdout",
     "output_type": "stream",
     "text": [
      "Средняя прибыль: 425938526.91059244\n",
      "2.5%-квантиль -102090094.83793654\n",
      "95%-ый доверительный интервал: -102090094.83793654 : 947976353.3583689\n",
      "Риски: 6.0 \n",
      "\n",
      "Средняя прибыль: 518259493.6973249\n",
      "2.5%-квантиль 128123231.43308444\n",
      "95%-ый доверительный интервал: 128123231.43308444 : 953612982.0669085\n",
      "Риски: 0.3 \n",
      "\n",
      "Средняя прибыль: 420194005.3440501\n",
      "2.5%-квантиль -115852609.16001143\n",
      "95%-ый доверительный интервал: -115852609.16001143 : 989629939.8445739\n",
      "Риски: 6.2 \n",
      "\n"
     ]
    }
   ],
   "source": [
    "for common in common_list:\n",
    "    total_profit = pd.Series(get_total_profit(common))\n",
    "    values = get_values(total_profit)\n",
    "    print_values(values)"
   ]
  },
  {
   "cell_type": "markdown",
   "metadata": {},
   "source": [
    "Лучший результаты показывает второй регион, но не могу не обратить внимание, что у этого региона всего 12 значений в target  \n",
    "* RMSE: 0.8931\n",
    "* Средняя прибыль: 518 259 493\n",
    "* 2.5%-квантиль 128 123 231\n",
    "* 95%-ый доверительный интервал: 128 123 231 : 953 612 982\n",
    "* Риски: 0.3\n",
    "\n",
    "Из двух оставшихся результат лучше у первого региона, но в любом случае результаты не очень удовлетворительные и высокая среднеквадратичная ошибка"
   ]
  }
 ],
 "metadata": {
  "ExecuteTimeLog": [
   {
    "duration": 410,
    "start_time": "2022-03-23T00:15:49.973Z"
   },
   {
    "duration": 469,
    "start_time": "2022-03-23T00:16:36.178Z"
   },
   {
    "duration": 15,
    "start_time": "2022-03-23T00:16:50.785Z"
   },
   {
    "duration": 17,
    "start_time": "2022-03-23T00:17:16.080Z"
   },
   {
    "duration": 63,
    "start_time": "2022-03-23T00:17:17.873Z"
   },
   {
    "duration": 345,
    "start_time": "2022-03-23T00:17:24.834Z"
   },
   {
    "duration": 16,
    "start_time": "2022-03-23T00:17:25.239Z"
   },
   {
    "duration": 16,
    "start_time": "2022-03-23T00:17:26.024Z"
   },
   {
    "duration": 17,
    "start_time": "2022-03-23T00:17:28.192Z"
   },
   {
    "duration": 16,
    "start_time": "2022-03-23T00:19:18.737Z"
   },
   {
    "duration": 9,
    "start_time": "2022-03-23T00:19:26.262Z"
   },
   {
    "duration": 9,
    "start_time": "2022-03-23T00:19:28.704Z"
   },
   {
    "duration": 8,
    "start_time": "2022-03-23T00:19:31.079Z"
   },
   {
    "duration": 9,
    "start_time": "2022-03-23T00:19:56.565Z"
   },
   {
    "duration": 11,
    "start_time": "2022-03-23T00:21:52.147Z"
   },
   {
    "duration": 45,
    "start_time": "2022-03-23T00:22:30.594Z"
   },
   {
    "duration": 10,
    "start_time": "2022-03-23T00:22:56.670Z"
   },
   {
    "duration": 40,
    "start_time": "2022-03-23T00:22:58.882Z"
   },
   {
    "duration": 12,
    "start_time": "2022-03-23T00:22:59.620Z"
   },
   {
    "duration": 46,
    "start_time": "2022-03-23T00:23:01.714Z"
   },
   {
    "duration": 687,
    "start_time": "2022-03-23T00:35:08.736Z"
   },
   {
    "duration": 808,
    "start_time": "2022-03-23T00:38:25.851Z"
   },
   {
    "duration": 38,
    "start_time": "2022-03-23T00:41:48.151Z"
   },
   {
    "duration": 15,
    "start_time": "2022-03-23T00:41:53.777Z"
   },
   {
    "duration": 2,
    "start_time": "2022-03-23T00:43:23.281Z"
   },
   {
    "duration": 351,
    "start_time": "2022-03-23T00:43:23.285Z"
   },
   {
    "duration": 14,
    "start_time": "2022-03-23T00:43:23.637Z"
   },
   {
    "duration": 14,
    "start_time": "2022-03-23T00:43:23.653Z"
   },
   {
    "duration": 39,
    "start_time": "2022-03-23T00:43:23.669Z"
   },
   {
    "duration": 8,
    "start_time": "2022-03-23T00:43:23.709Z"
   },
   {
    "duration": 9,
    "start_time": "2022-03-23T00:43:23.718Z"
   },
   {
    "duration": 9,
    "start_time": "2022-03-23T00:43:23.728Z"
   },
   {
    "duration": 13,
    "start_time": "2022-03-23T00:43:23.738Z"
   },
   {
    "duration": 70,
    "start_time": "2022-03-23T00:43:23.752Z"
   },
   {
    "duration": 9,
    "start_time": "2022-03-23T00:43:23.824Z"
   },
   {
    "duration": 39,
    "start_time": "2022-03-23T00:43:23.834Z"
   },
   {
    "duration": 27,
    "start_time": "2022-03-23T00:43:23.875Z"
   },
   {
    "duration": 42,
    "start_time": "2022-03-23T00:43:23.904Z"
   },
   {
    "duration": 3,
    "start_time": "2022-03-23T00:43:23.947Z"
   },
   {
    "duration": 16,
    "start_time": "2022-03-23T00:43:23.951Z"
   },
   {
    "duration": 9,
    "start_time": "2022-03-23T00:43:27.033Z"
   },
   {
    "duration": 8,
    "start_time": "2022-03-23T00:43:46.970Z"
   },
   {
    "duration": 16,
    "start_time": "2022-03-23T00:44:24.263Z"
   },
   {
    "duration": 15,
    "start_time": "2022-03-23T00:44:57.122Z"
   },
   {
    "duration": 15,
    "start_time": "2022-03-23T00:44:57.862Z"
   },
   {
    "duration": 8,
    "start_time": "2022-03-23T01:02:17.886Z"
   },
   {
    "duration": 21,
    "start_time": "2022-03-23T01:02:20.865Z"
   },
   {
    "duration": 11,
    "start_time": "2022-03-23T01:02:21.882Z"
   },
   {
    "duration": 2,
    "start_time": "2022-03-23T01:03:55.053Z"
   },
   {
    "duration": 5,
    "start_time": "2022-03-23T01:06:07.308Z"
   },
   {
    "duration": 3,
    "start_time": "2022-03-23T01:07:28.750Z"
   },
   {
    "duration": 9,
    "start_time": "2022-03-23T01:07:29.174Z"
   },
   {
    "duration": 6,
    "start_time": "2022-03-23T01:07:29.688Z"
   },
   {
    "duration": 10,
    "start_time": "2022-03-23T01:07:30.244Z"
   },
   {
    "duration": 3,
    "start_time": "2022-03-23T01:08:02.595Z"
   },
   {
    "duration": 7,
    "start_time": "2022-03-23T01:08:04.999Z"
   },
   {
    "duration": 4,
    "start_time": "2022-03-23T01:09:43.272Z"
   },
   {
    "duration": 4,
    "start_time": "2022-03-23T01:09:44.258Z"
   },
   {
    "duration": 8,
    "start_time": "2022-03-23T01:09:56.234Z"
   },
   {
    "duration": 3,
    "start_time": "2022-03-23T01:10:23.504Z"
   },
   {
    "duration": 8,
    "start_time": "2022-03-23T01:10:24.050Z"
   },
   {
    "duration": 5,
    "start_time": "2022-03-23T01:10:24.494Z"
   },
   {
    "duration": 4,
    "start_time": "2022-03-23T01:10:24.992Z"
   },
   {
    "duration": 4,
    "start_time": "2022-03-23T01:10:25.789Z"
   },
   {
    "duration": 3,
    "start_time": "2022-03-23T01:13:12.436Z"
   },
   {
    "duration": 8,
    "start_time": "2022-03-23T01:14:05.878Z"
   },
   {
    "duration": 9,
    "start_time": "2022-03-23T01:14:06.418Z"
   },
   {
    "duration": 7,
    "start_time": "2022-03-23T01:14:20.482Z"
   },
   {
    "duration": 7,
    "start_time": "2022-03-23T01:14:25.386Z"
   },
   {
    "duration": 8,
    "start_time": "2022-03-23T01:14:28.774Z"
   },
   {
    "duration": 6,
    "start_time": "2022-03-23T01:14:29.251Z"
   },
   {
    "duration": 4,
    "start_time": "2022-03-23T01:16:32.268Z"
   },
   {
    "duration": 4,
    "start_time": "2022-03-23T01:16:38.619Z"
   },
   {
    "duration": 4,
    "start_time": "2022-03-23T01:16:43.315Z"
   },
   {
    "duration": 4,
    "start_time": "2022-03-23T01:16:49.100Z"
   },
   {
    "duration": 4,
    "start_time": "2022-03-23T01:16:52.149Z"
   },
   {
    "duration": 3,
    "start_time": "2022-03-23T01:16:54.306Z"
   },
   {
    "duration": 8,
    "start_time": "2022-03-23T01:19:37.382Z"
   },
   {
    "duration": 7,
    "start_time": "2022-03-23T01:20:00.954Z"
   },
   {
    "duration": 10,
    "start_time": "2022-03-23T01:20:12.518Z"
   },
   {
    "duration": 10,
    "start_time": "2022-03-23T01:21:31.373Z"
   },
   {
    "duration": 11,
    "start_time": "2022-03-23T01:23:04.894Z"
   },
   {
    "duration": 12,
    "start_time": "2022-03-23T01:24:07.453Z"
   },
   {
    "duration": 5,
    "start_time": "2022-03-23T01:34:40.199Z"
   },
   {
    "duration": 4,
    "start_time": "2022-03-23T01:35:18.700Z"
   },
   {
    "duration": 5,
    "start_time": "2022-03-23T01:35:19.516Z"
   },
   {
    "duration": 5,
    "start_time": "2022-03-23T01:35:52.196Z"
   },
   {
    "duration": 4,
    "start_time": "2022-03-23T01:35:54.048Z"
   },
   {
    "duration": 5,
    "start_time": "2022-03-23T01:36:12.202Z"
   },
   {
    "duration": 5,
    "start_time": "2022-03-23T01:36:22.028Z"
   },
   {
    "duration": 4,
    "start_time": "2022-03-23T01:36:24.107Z"
   },
   {
    "duration": 6,
    "start_time": "2022-03-23T01:38:03.630Z"
   },
   {
    "duration": 6,
    "start_time": "2022-03-23T01:38:17.516Z"
   },
   {
    "duration": 5,
    "start_time": "2022-03-23T01:38:20.877Z"
   },
   {
    "duration": 8,
    "start_time": "2022-03-23T01:38:32.919Z"
   },
   {
    "duration": 5,
    "start_time": "2022-03-23T01:38:36.206Z"
   },
   {
    "duration": 7,
    "start_time": "2022-03-23T01:38:43.302Z"
   },
   {
    "duration": 5,
    "start_time": "2022-03-23T01:38:45.822Z"
   },
   {
    "duration": 274,
    "start_time": "2022-03-23T01:39:50.283Z"
   },
   {
    "duration": 13,
    "start_time": "2022-03-23T01:40:07.393Z"
   },
   {
    "duration": 8,
    "start_time": "2022-03-23T01:40:12.195Z"
   },
   {
    "duration": 6,
    "start_time": "2022-03-23T01:40:31.613Z"
   },
   {
    "duration": 7,
    "start_time": "2022-03-23T01:41:23.790Z"
   },
   {
    "duration": 14,
    "start_time": "2022-03-23T01:41:43.557Z"
   },
   {
    "duration": 6,
    "start_time": "2022-03-23T01:41:50.116Z"
   },
   {
    "duration": 13,
    "start_time": "2022-03-23T01:41:58.589Z"
   },
   {
    "duration": 13,
    "start_time": "2022-03-23T01:42:26.903Z"
   },
   {
    "duration": 7,
    "start_time": "2022-03-23T01:42:32.683Z"
   },
   {
    "duration": 13,
    "start_time": "2022-03-23T01:42:39.263Z"
   },
   {
    "duration": 163,
    "start_time": "2022-03-23T02:10:51.772Z"
   },
   {
    "duration": 2,
    "start_time": "2022-03-23T02:13:42.925Z"
   },
   {
    "duration": 3,
    "start_time": "2022-03-23T02:14:02.729Z"
   },
   {
    "duration": 4,
    "start_time": "2022-03-23T02:16:32.489Z"
   },
   {
    "duration": 4,
    "start_time": "2022-03-23T02:16:49.044Z"
   },
   {
    "duration": 3,
    "start_time": "2022-03-23T02:17:20.539Z"
   },
   {
    "duration": 13,
    "start_time": "2022-03-23T02:49:21.326Z"
   },
   {
    "duration": 11,
    "start_time": "2022-03-23T02:49:30.106Z"
   },
   {
    "duration": 13,
    "start_time": "2022-03-23T02:49:34.342Z"
   },
   {
    "duration": 12,
    "start_time": "2022-03-23T02:49:37.084Z"
   },
   {
    "duration": 8,
    "start_time": "2022-03-23T02:50:47.941Z"
   },
   {
    "duration": 3564,
    "start_time": "2022-03-23T02:50:55.081Z"
   },
   {
    "duration": 13,
    "start_time": "2022-03-23T02:52:39.867Z"
   },
   {
    "duration": 14,
    "start_time": "2022-03-23T05:58:29.133Z"
   },
   {
    "duration": 7,
    "start_time": "2022-03-23T05:58:50.564Z"
   },
   {
    "duration": 7,
    "start_time": "2022-03-23T05:59:02.132Z"
   },
   {
    "duration": 9,
    "start_time": "2022-03-23T13:12:45.778Z"
   },
   {
    "duration": 8,
    "start_time": "2022-03-23T13:13:21.202Z"
   },
   {
    "duration": 52,
    "start_time": "2022-03-24T11:22:14.802Z"
   },
   {
    "duration": 1143,
    "start_time": "2022-03-24T11:22:20.468Z"
   },
   {
    "duration": 374,
    "start_time": "2022-03-24T11:22:21.613Z"
   },
   {
    "duration": 16,
    "start_time": "2022-03-24T11:22:23.606Z"
   },
   {
    "duration": 15,
    "start_time": "2022-03-24T11:22:30.266Z"
   },
   {
    "duration": 14,
    "start_time": "2022-03-24T11:22:31.233Z"
   },
   {
    "duration": 17,
    "start_time": "2022-03-24T11:22:35.159Z"
   },
   {
    "duration": 9,
    "start_time": "2022-03-24T11:22:35.698Z"
   },
   {
    "duration": 10,
    "start_time": "2022-03-24T11:22:37.410Z"
   },
   {
    "duration": 12,
    "start_time": "2022-03-24T11:22:41.638Z"
   },
   {
    "duration": 51,
    "start_time": "2022-03-24T11:22:42.222Z"
   },
   {
    "duration": 11,
    "start_time": "2022-03-24T11:22:45.926Z"
   },
   {
    "duration": 44,
    "start_time": "2022-03-24T11:23:00.925Z"
   },
   {
    "duration": 11,
    "start_time": "2022-03-24T11:23:01.336Z"
   },
   {
    "duration": 54,
    "start_time": "2022-03-24T11:23:01.755Z"
   },
   {
    "duration": 13,
    "start_time": "2022-03-24T11:23:02.907Z"
   },
   {
    "duration": 6,
    "start_time": "2022-03-24T11:23:03.319Z"
   },
   {
    "duration": 13,
    "start_time": "2022-03-24T11:23:03.863Z"
   },
   {
    "duration": 81,
    "start_time": "2022-03-24T11:23:08.155Z"
   },
   {
    "duration": 26,
    "start_time": "2022-03-24T11:23:59.099Z"
   },
   {
    "duration": 26,
    "start_time": "2022-03-24T11:24:13.162Z"
   },
   {
    "duration": 27,
    "start_time": "2022-03-24T11:24:27.284Z"
   },
   {
    "duration": 25,
    "start_time": "2022-03-24T11:24:52.397Z"
   },
   {
    "duration": 39,
    "start_time": "2022-03-24T11:24:58.145Z"
   },
   {
    "duration": 35,
    "start_time": "2022-03-24T11:25:28.652Z"
   },
   {
    "duration": 24,
    "start_time": "2022-03-24T11:26:44.593Z"
   },
   {
    "duration": 36,
    "start_time": "2022-03-24T11:28:30.123Z"
   },
   {
    "duration": 28,
    "start_time": "2022-03-24T11:29:05.739Z"
   },
   {
    "duration": 12,
    "start_time": "2022-03-24T11:29:46.605Z"
   },
   {
    "duration": 28,
    "start_time": "2022-03-24T11:29:52.278Z"
   },
   {
    "duration": 30,
    "start_time": "2022-03-24T11:30:26.893Z"
   },
   {
    "duration": 12,
    "start_time": "2022-03-24T11:30:31.713Z"
   },
   {
    "duration": 1119,
    "start_time": "2022-03-24T11:30:50.381Z"
   },
   {
    "duration": 382,
    "start_time": "2022-03-24T11:30:51.502Z"
   },
   {
    "duration": 16,
    "start_time": "2022-03-24T11:30:51.886Z"
   },
   {
    "duration": 16,
    "start_time": "2022-03-24T11:30:51.903Z"
   },
   {
    "duration": 15,
    "start_time": "2022-03-24T11:30:51.933Z"
   },
   {
    "duration": 18,
    "start_time": "2022-03-24T11:30:51.950Z"
   },
   {
    "duration": 10,
    "start_time": "2022-03-24T11:30:51.970Z"
   },
   {
    "duration": 16,
    "start_time": "2022-03-24T11:30:51.981Z"
   },
   {
    "duration": 42,
    "start_time": "2022-03-24T11:30:51.998Z"
   },
   {
    "duration": 53,
    "start_time": "2022-03-24T11:30:52.042Z"
   },
   {
    "duration": 11,
    "start_time": "2022-03-24T11:30:52.097Z"
   },
   {
    "duration": 65,
    "start_time": "2022-03-24T11:30:52.109Z"
   },
   {
    "duration": 11,
    "start_time": "2022-03-24T11:30:52.177Z"
   },
   {
    "duration": 71,
    "start_time": "2022-03-24T11:30:52.192Z"
   },
   {
    "duration": 14,
    "start_time": "2022-03-24T11:30:52.266Z"
   },
   {
    "duration": 7,
    "start_time": "2022-03-24T11:30:52.282Z"
   },
   {
    "duration": 42,
    "start_time": "2022-03-24T11:30:52.291Z"
   },
   {
    "duration": 30,
    "start_time": "2022-03-24T11:30:52.334Z"
   },
   {
    "duration": 30,
    "start_time": "2022-03-24T11:30:52.365Z"
   },
   {
    "duration": 30,
    "start_time": "2022-03-24T12:19:11.193Z"
   },
   {
    "duration": 101,
    "start_time": "2022-03-24T12:19:15.108Z"
   },
   {
    "duration": 13,
    "start_time": "2022-03-24T12:19:27.606Z"
   },
   {
    "duration": 21,
    "start_time": "2022-03-24T12:19:39.206Z"
   },
   {
    "duration": 11,
    "start_time": "2022-03-24T12:19:56.100Z"
   },
   {
    "duration": 19,
    "start_time": "2022-03-24T12:19:56.688Z"
   },
   {
    "duration": 27,
    "start_time": "2022-03-24T12:21:05.329Z"
   },
   {
    "duration": 1160,
    "start_time": "2022-03-24T12:21:37.642Z"
   },
   {
    "duration": 383,
    "start_time": "2022-03-24T12:21:38.804Z"
   },
   {
    "duration": 18,
    "start_time": "2022-03-24T12:21:39.189Z"
   },
   {
    "duration": 32,
    "start_time": "2022-03-24T12:21:39.210Z"
   },
   {
    "duration": 15,
    "start_time": "2022-03-24T12:21:39.245Z"
   },
   {
    "duration": 24,
    "start_time": "2022-03-24T12:21:39.262Z"
   },
   {
    "duration": 9,
    "start_time": "2022-03-24T12:21:39.288Z"
   },
   {
    "duration": 52,
    "start_time": "2022-03-24T12:21:39.299Z"
   },
   {
    "duration": 11,
    "start_time": "2022-03-24T12:21:39.353Z"
   },
   {
    "duration": 51,
    "start_time": "2022-03-24T12:21:39.365Z"
   },
   {
    "duration": 20,
    "start_time": "2022-03-24T12:21:39.418Z"
   },
   {
    "duration": 46,
    "start_time": "2022-03-24T12:21:39.440Z"
   },
   {
    "duration": 10,
    "start_time": "2022-03-24T12:21:39.488Z"
   },
   {
    "duration": 75,
    "start_time": "2022-03-24T12:21:39.501Z"
   },
   {
    "duration": 13,
    "start_time": "2022-03-24T12:21:39.578Z"
   },
   {
    "duration": 6,
    "start_time": "2022-03-24T12:21:39.593Z"
   },
   {
    "duration": 39,
    "start_time": "2022-03-24T12:21:39.601Z"
   },
   {
    "duration": 31,
    "start_time": "2022-03-24T12:21:39.642Z"
   },
   {
    "duration": 57,
    "start_time": "2022-03-24T12:21:39.675Z"
   },
   {
    "duration": 146,
    "start_time": "2022-03-24T12:21:39.734Z"
   },
   {
    "duration": 30,
    "start_time": "2022-03-24T12:22:04.275Z"
   },
   {
    "duration": 11,
    "start_time": "2022-03-24T12:22:06.886Z"
   },
   {
    "duration": 6,
    "start_time": "2022-03-24T12:22:07.742Z"
   },
   {
    "duration": 10,
    "start_time": "2022-03-24T12:22:33.038Z"
   },
   {
    "duration": 6,
    "start_time": "2022-03-24T12:22:33.506Z"
   },
   {
    "duration": 10,
    "start_time": "2022-03-24T12:22:51.686Z"
   },
   {
    "duration": 9,
    "start_time": "2022-03-24T12:22:52.117Z"
   },
   {
    "duration": 5,
    "start_time": "2022-03-24T12:22:56.936Z"
   },
   {
    "duration": 15,
    "start_time": "2022-03-24T12:23:47.706Z"
   },
   {
    "duration": 4,
    "start_time": "2022-03-24T12:23:57.757Z"
   },
   {
    "duration": 8,
    "start_time": "2022-03-24T12:24:50.450Z"
   },
   {
    "duration": 5,
    "start_time": "2022-03-24T12:24:57.753Z"
   },
   {
    "duration": 2317,
    "start_time": "2022-03-24T12:25:18.316Z"
   },
   {
    "duration": 8,
    "start_time": "2022-03-24T12:25:29.866Z"
   },
   {
    "duration": 9,
    "start_time": "2022-03-24T12:25:41.622Z"
   },
   {
    "duration": 5,
    "start_time": "2022-03-24T12:25:48.481Z"
   },
   {
    "duration": 8,
    "start_time": "2022-03-24T12:26:04.057Z"
   },
   {
    "duration": 7,
    "start_time": "2022-03-24T12:26:23.636Z"
   },
   {
    "duration": 6,
    "start_time": "2022-03-24T12:26:24.099Z"
   },
   {
    "duration": 8,
    "start_time": "2022-03-24T12:26:25.507Z"
   },
   {
    "duration": 5,
    "start_time": "2022-03-24T12:26:27.739Z"
   },
   {
    "duration": 3,
    "start_time": "2022-03-24T12:27:46.816Z"
   },
   {
    "duration": 4,
    "start_time": "2022-03-24T12:27:49.189Z"
   },
   {
    "duration": 12,
    "start_time": "2022-03-24T12:37:36.827Z"
   },
   {
    "duration": 12,
    "start_time": "2022-03-24T12:38:11.366Z"
   },
   {
    "duration": 12,
    "start_time": "2022-03-24T12:38:20.756Z"
   },
   {
    "duration": 12,
    "start_time": "2022-03-24T12:39:51.936Z"
   },
   {
    "duration": 13,
    "start_time": "2022-03-24T12:39:58.706Z"
   },
   {
    "duration": 12,
    "start_time": "2022-03-24T12:53:18.728Z"
   },
   {
    "duration": 11,
    "start_time": "2022-03-24T12:59:37.566Z"
   },
   {
    "duration": 11,
    "start_time": "2022-03-24T12:59:46.712Z"
   },
   {
    "duration": 12,
    "start_time": "2022-03-24T13:01:09.011Z"
   },
   {
    "duration": 13,
    "start_time": "2022-03-24T13:01:18.384Z"
   },
   {
    "duration": 2816,
    "start_time": "2022-03-24T13:27:39.039Z"
   },
   {
    "duration": 22,
    "start_time": "2022-03-24T13:28:21.476Z"
   },
   {
    "duration": 14,
    "start_time": "2022-03-24T13:30:16.267Z"
   },
   {
    "duration": 14,
    "start_time": "2022-03-24T13:30:43.913Z"
   },
   {
    "duration": 14,
    "start_time": "2022-03-24T13:31:10.303Z"
   },
   {
    "duration": 10,
    "start_time": "2022-03-24T13:31:11.664Z"
   },
   {
    "duration": 5,
    "start_time": "2022-03-24T13:31:14.111Z"
   },
   {
    "duration": 10,
    "start_time": "2022-03-24T13:31:15.702Z"
   },
   {
    "duration": 6,
    "start_time": "2022-03-24T13:31:16.146Z"
   },
   {
    "duration": 10,
    "start_time": "2022-03-24T13:31:18.246Z"
   },
   {
    "duration": 5,
    "start_time": "2022-03-24T13:31:18.752Z"
   },
   {
    "duration": 5,
    "start_time": "2022-03-24T13:33:03.792Z"
   },
   {
    "duration": 4,
    "start_time": "2022-03-24T13:33:19.396Z"
   },
   {
    "duration": 4,
    "start_time": "2022-03-24T13:33:39.116Z"
   },
   {
    "duration": 6,
    "start_time": "2022-03-24T13:33:41.665Z"
   },
   {
    "duration": 5,
    "start_time": "2022-03-24T13:33:45.216Z"
   },
   {
    "duration": 5,
    "start_time": "2022-03-24T13:34:09.951Z"
   },
   {
    "duration": 5,
    "start_time": "2022-03-24T13:34:10.445Z"
   },
   {
    "duration": 5,
    "start_time": "2022-03-24T13:34:11.204Z"
   },
   {
    "duration": 5,
    "start_time": "2022-03-24T13:34:30.409Z"
   },
   {
    "duration": 4,
    "start_time": "2022-03-24T13:34:31.093Z"
   },
   {
    "duration": 6,
    "start_time": "2022-03-24T13:34:31.569Z"
   },
   {
    "duration": 12,
    "start_time": "2022-03-24T13:37:14.691Z"
   },
   {
    "duration": 12,
    "start_time": "2022-03-24T13:37:25.268Z"
   },
   {
    "duration": 13,
    "start_time": "2022-03-24T13:37:52.276Z"
   },
   {
    "duration": 13,
    "start_time": "2022-03-24T13:37:57.641Z"
   },
   {
    "duration": 21,
    "start_time": "2022-03-24T13:38:10.113Z"
   },
   {
    "duration": 26,
    "start_time": "2022-03-24T13:38:28.892Z"
   },
   {
    "duration": 27,
    "start_time": "2022-03-24T13:41:12.967Z"
   },
   {
    "duration": 6,
    "start_time": "2022-03-24T13:42:54.801Z"
   },
   {
    "duration": 5,
    "start_time": "2022-03-24T13:43:07.705Z"
   },
   {
    "duration": 10,
    "start_time": "2022-03-24T13:43:31.185Z"
   },
   {
    "duration": 7,
    "start_time": "2022-03-24T13:43:46.867Z"
   },
   {
    "duration": 1160,
    "start_time": "2022-03-24T13:44:09.260Z"
   },
   {
    "duration": 389,
    "start_time": "2022-03-24T13:44:10.422Z"
   },
   {
    "duration": 19,
    "start_time": "2022-03-24T13:44:10.812Z"
   },
   {
    "duration": 34,
    "start_time": "2022-03-24T13:44:10.833Z"
   },
   {
    "duration": 15,
    "start_time": "2022-03-24T13:44:10.870Z"
   },
   {
    "duration": 19,
    "start_time": "2022-03-24T13:44:10.886Z"
   },
   {
    "duration": 10,
    "start_time": "2022-03-24T13:44:10.907Z"
   },
   {
    "duration": 10,
    "start_time": "2022-03-24T13:44:10.932Z"
   },
   {
    "duration": 16,
    "start_time": "2022-03-24T13:44:10.943Z"
   },
   {
    "duration": 72,
    "start_time": "2022-03-24T13:44:10.962Z"
   },
   {
    "duration": 12,
    "start_time": "2022-03-24T13:44:11.037Z"
   },
   {
    "duration": 49,
    "start_time": "2022-03-24T13:44:11.051Z"
   },
   {
    "duration": 36,
    "start_time": "2022-03-24T13:44:11.102Z"
   },
   {
    "duration": 52,
    "start_time": "2022-03-24T13:44:11.142Z"
   },
   {
    "duration": 37,
    "start_time": "2022-03-24T13:44:11.195Z"
   },
   {
    "duration": 6,
    "start_time": "2022-03-24T13:44:11.234Z"
   },
   {
    "duration": 17,
    "start_time": "2022-03-24T13:44:11.241Z"
   },
   {
    "duration": 17,
    "start_time": "2022-03-24T13:44:11.259Z"
   },
   {
    "duration": 18,
    "start_time": "2022-03-24T13:44:11.277Z"
   },
   {
    "duration": 47,
    "start_time": "2022-03-24T13:44:11.296Z"
   },
   {
    "duration": 14,
    "start_time": "2022-03-24T13:44:11.344Z"
   },
   {
    "duration": 73,
    "start_time": "2022-03-24T13:44:11.360Z"
   },
   {
    "duration": 107,
    "start_time": "2022-03-24T13:44:11.435Z"
   },
   {
    "duration": 5,
    "start_time": "2022-03-24T13:44:11.544Z"
   },
   {
    "duration": 186,
    "start_time": "2022-03-24T13:44:11.551Z"
   },
   {
    "duration": 6,
    "start_time": "2022-03-24T13:44:11.739Z"
   },
   {
    "duration": 88,
    "start_time": "2022-03-24T13:44:11.748Z"
   },
   {
    "duration": 101,
    "start_time": "2022-03-24T13:44:11.841Z"
   },
   {
    "duration": 12,
    "start_time": "2022-03-24T13:44:11.943Z"
   },
   {
    "duration": 7,
    "start_time": "2022-03-24T13:44:11.957Z"
   },
   {
    "duration": 9,
    "start_time": "2022-03-24T13:44:11.965Z"
   },
   {
    "duration": 9,
    "start_time": "2022-03-24T13:44:11.975Z"
   },
   {
    "duration": 7,
    "start_time": "2022-03-24T13:44:11.985Z"
   },
   {
    "duration": 7,
    "start_time": "2022-03-24T13:44:11.993Z"
   },
   {
    "duration": 31,
    "start_time": "2022-03-24T13:44:12.001Z"
   },
   {
    "duration": 3,
    "start_time": "2022-03-24T13:44:12.035Z"
   },
   {
    "duration": 7,
    "start_time": "2022-03-24T13:44:12.040Z"
   },
   {
    "duration": 9,
    "start_time": "2022-03-24T13:44:12.049Z"
   },
   {
    "duration": 6,
    "start_time": "2022-03-24T13:44:26.974Z"
   },
   {
    "duration": 9,
    "start_time": "2022-03-24T13:44:52.114Z"
   },
   {
    "duration": 142,
    "start_time": "2022-03-24T13:45:08.311Z"
   },
   {
    "duration": 8,
    "start_time": "2022-03-24T13:45:19.852Z"
   },
   {
    "duration": 9,
    "start_time": "2022-03-24T13:45:26.666Z"
   },
   {
    "duration": 1140,
    "start_time": "2022-03-24T13:45:43.372Z"
   },
   {
    "duration": 391,
    "start_time": "2022-03-24T13:45:44.515Z"
   },
   {
    "duration": 23,
    "start_time": "2022-03-24T13:45:44.908Z"
   },
   {
    "duration": 15,
    "start_time": "2022-03-24T13:45:44.933Z"
   },
   {
    "duration": 14,
    "start_time": "2022-03-24T13:45:44.951Z"
   },
   {
    "duration": 17,
    "start_time": "2022-03-24T13:45:44.967Z"
   },
   {
    "duration": 47,
    "start_time": "2022-03-24T13:45:44.986Z"
   },
   {
    "duration": 14,
    "start_time": "2022-03-24T13:45:45.035Z"
   },
   {
    "duration": 14,
    "start_time": "2022-03-24T13:45:45.051Z"
   },
   {
    "duration": 73,
    "start_time": "2022-03-24T13:45:45.067Z"
   },
   {
    "duration": 11,
    "start_time": "2022-03-24T13:45:45.142Z"
   },
   {
    "duration": 48,
    "start_time": "2022-03-24T13:45:45.155Z"
   },
   {
    "duration": 36,
    "start_time": "2022-03-24T13:45:45.205Z"
   },
   {
    "duration": 55,
    "start_time": "2022-03-24T13:45:45.245Z"
   },
   {
    "duration": 39,
    "start_time": "2022-03-24T13:45:45.302Z"
   },
   {
    "duration": 6,
    "start_time": "2022-03-24T13:45:45.343Z"
   },
   {
    "duration": 14,
    "start_time": "2022-03-24T13:45:45.351Z"
   },
   {
    "duration": 15,
    "start_time": "2022-03-24T13:45:45.366Z"
   },
   {
    "duration": 49,
    "start_time": "2022-03-24T13:45:45.383Z"
   },
   {
    "duration": 17,
    "start_time": "2022-03-24T13:45:45.434Z"
   },
   {
    "duration": 14,
    "start_time": "2022-03-24T13:45:45.453Z"
   },
   {
    "duration": 7,
    "start_time": "2022-03-24T13:45:45.469Z"
   },
   {
    "duration": 110,
    "start_time": "2022-03-24T13:45:45.533Z"
   },
   {
    "duration": 8,
    "start_time": "2022-03-24T13:45:45.645Z"
   },
   {
    "duration": 178,
    "start_time": "2022-03-24T13:45:45.656Z"
   },
   {
    "duration": 12,
    "start_time": "2022-03-24T13:45:45.836Z"
   },
   {
    "duration": 200,
    "start_time": "2022-03-24T13:45:45.851Z"
   },
   {
    "duration": 15,
    "start_time": "2022-03-24T13:45:46.053Z"
   },
   {
    "duration": 36,
    "start_time": "2022-03-24T13:45:46.070Z"
   },
   {
    "duration": 29,
    "start_time": "2022-03-24T13:45:46.108Z"
   },
   {
    "duration": 32,
    "start_time": "2022-03-24T13:45:46.140Z"
   },
   {
    "duration": 26,
    "start_time": "2022-03-24T13:45:46.175Z"
   },
   {
    "duration": 16,
    "start_time": "2022-03-24T13:45:46.203Z"
   },
   {
    "duration": 15,
    "start_time": "2022-03-24T13:45:46.221Z"
   },
   {
    "duration": 31,
    "start_time": "2022-03-24T13:45:46.237Z"
   },
   {
    "duration": 7,
    "start_time": "2022-03-24T13:45:46.270Z"
   },
   {
    "duration": 40,
    "start_time": "2022-03-24T13:45:46.278Z"
   },
   {
    "duration": 26,
    "start_time": "2022-03-24T13:45:46.320Z"
   },
   {
    "duration": 9,
    "start_time": "2022-03-24T13:45:52.242Z"
   },
   {
    "duration": 1292,
    "start_time": "2022-03-24T13:46:16.516Z"
   },
   {
    "duration": 384,
    "start_time": "2022-03-24T13:46:17.810Z"
   },
   {
    "duration": 17,
    "start_time": "2022-03-24T13:46:18.195Z"
   },
   {
    "duration": 19,
    "start_time": "2022-03-24T13:46:18.214Z"
   },
   {
    "duration": 14,
    "start_time": "2022-03-24T13:46:18.236Z"
   },
   {
    "duration": 17,
    "start_time": "2022-03-24T13:46:18.252Z"
   },
   {
    "duration": 9,
    "start_time": "2022-03-24T13:46:18.270Z"
   },
   {
    "duration": 12,
    "start_time": "2022-03-24T13:46:18.281Z"
   },
   {
    "duration": 42,
    "start_time": "2022-03-24T13:46:18.295Z"
   },
   {
    "duration": 51,
    "start_time": "2022-03-24T13:46:18.339Z"
   },
   {
    "duration": 10,
    "start_time": "2022-03-24T13:46:18.392Z"
   },
   {
    "duration": 70,
    "start_time": "2022-03-24T13:46:18.403Z"
   },
   {
    "duration": 13,
    "start_time": "2022-03-24T13:46:18.475Z"
   },
   {
    "duration": 75,
    "start_time": "2022-03-24T13:46:18.491Z"
   },
   {
    "duration": 13,
    "start_time": "2022-03-24T13:46:18.567Z"
   },
   {
    "duration": 8,
    "start_time": "2022-03-24T13:46:18.581Z"
   },
   {
    "duration": 42,
    "start_time": "2022-03-24T13:46:18.591Z"
   },
   {
    "duration": 18,
    "start_time": "2022-03-24T13:46:18.635Z"
   },
   {
    "duration": 35,
    "start_time": "2022-03-24T13:46:18.655Z"
   },
   {
    "duration": 23,
    "start_time": "2022-03-24T13:46:18.692Z"
   },
   {
    "duration": 22,
    "start_time": "2022-03-24T13:46:18.717Z"
   },
   {
    "duration": 23,
    "start_time": "2022-03-24T13:46:18.741Z"
   },
   {
    "duration": 165,
    "start_time": "2022-03-24T13:46:18.767Z"
   },
   {
    "duration": 7,
    "start_time": "2022-03-24T13:46:18.934Z"
   },
   {
    "duration": 189,
    "start_time": "2022-03-24T13:46:18.944Z"
   },
   {
    "duration": 18,
    "start_time": "2022-03-24T13:46:19.135Z"
   },
   {
    "duration": 81,
    "start_time": "2022-03-24T13:46:19.156Z"
   },
   {
    "duration": 98,
    "start_time": "2022-03-24T13:46:19.239Z"
   },
   {
    "duration": 17,
    "start_time": "2022-03-24T13:46:19.339Z"
   },
   {
    "duration": 29,
    "start_time": "2022-03-24T13:46:19.357Z"
   },
   {
    "duration": 14,
    "start_time": "2022-03-24T13:46:19.388Z"
   },
   {
    "duration": 17,
    "start_time": "2022-03-24T13:46:19.403Z"
   },
   {
    "duration": 22,
    "start_time": "2022-03-24T13:46:19.421Z"
   },
   {
    "duration": 14,
    "start_time": "2022-03-24T13:46:19.444Z"
   },
   {
    "duration": 20,
    "start_time": "2022-03-24T13:46:19.459Z"
   },
   {
    "duration": 12,
    "start_time": "2022-03-24T13:46:19.480Z"
   },
   {
    "duration": 27,
    "start_time": "2022-03-24T13:46:19.494Z"
   },
   {
    "duration": 15,
    "start_time": "2022-03-24T13:46:19.523Z"
   },
   {
    "duration": 5,
    "start_time": "2022-03-24T13:46:28.212Z"
   },
   {
    "duration": 7,
    "start_time": "2022-03-24T13:47:36.432Z"
   },
   {
    "duration": 6,
    "start_time": "2022-03-24T13:47:52.156Z"
   },
   {
    "duration": 6,
    "start_time": "2022-03-24T13:47:55.297Z"
   },
   {
    "duration": 6,
    "start_time": "2022-03-24T13:48:07.854Z"
   },
   {
    "duration": 10,
    "start_time": "2022-03-24T13:48:19.098Z"
   },
   {
    "duration": 11,
    "start_time": "2022-03-24T13:48:29.810Z"
   },
   {
    "duration": 1197,
    "start_time": "2022-03-24T13:48:37.906Z"
   },
   {
    "duration": 394,
    "start_time": "2022-03-24T13:48:39.105Z"
   },
   {
    "duration": 17,
    "start_time": "2022-03-24T13:48:39.501Z"
   },
   {
    "duration": 19,
    "start_time": "2022-03-24T13:48:39.520Z"
   },
   {
    "duration": 15,
    "start_time": "2022-03-24T13:48:39.542Z"
   },
   {
    "duration": 17,
    "start_time": "2022-03-24T13:48:39.558Z"
   },
   {
    "duration": 9,
    "start_time": "2022-03-24T13:48:39.577Z"
   },
   {
    "duration": 13,
    "start_time": "2022-03-24T13:48:39.588Z"
   },
   {
    "duration": 45,
    "start_time": "2022-03-24T13:48:39.602Z"
   },
   {
    "duration": 51,
    "start_time": "2022-03-24T13:48:39.649Z"
   },
   {
    "duration": 10,
    "start_time": "2022-03-24T13:48:39.702Z"
   },
   {
    "duration": 64,
    "start_time": "2022-03-24T13:48:39.714Z"
   },
   {
    "duration": 11,
    "start_time": "2022-03-24T13:48:39.780Z"
   },
   {
    "duration": 77,
    "start_time": "2022-03-24T13:48:39.794Z"
   },
   {
    "duration": 14,
    "start_time": "2022-03-24T13:48:39.872Z"
   },
   {
    "duration": 8,
    "start_time": "2022-03-24T13:48:39.888Z"
   },
   {
    "duration": 41,
    "start_time": "2022-03-24T13:48:39.898Z"
   },
   {
    "duration": 16,
    "start_time": "2022-03-24T13:48:39.940Z"
   },
   {
    "duration": 18,
    "start_time": "2022-03-24T13:48:39.958Z"
   },
   {
    "duration": 17,
    "start_time": "2022-03-24T13:48:39.978Z"
   },
   {
    "duration": 39,
    "start_time": "2022-03-24T13:48:39.997Z"
   },
   {
    "duration": 6,
    "start_time": "2022-03-24T13:48:40.038Z"
   },
   {
    "duration": 192,
    "start_time": "2022-03-24T13:48:40.046Z"
   },
   {
    "duration": 5,
    "start_time": "2022-03-24T13:48:40.240Z"
   },
   {
    "duration": 188,
    "start_time": "2022-03-24T13:48:40.247Z"
   },
   {
    "duration": 8,
    "start_time": "2022-03-24T13:48:40.437Z"
   },
   {
    "duration": 89,
    "start_time": "2022-03-24T13:48:40.447Z"
   },
   {
    "duration": 101,
    "start_time": "2022-03-24T13:48:40.538Z"
   },
   {
    "duration": 8,
    "start_time": "2022-03-24T13:48:40.641Z"
   },
   {
    "duration": 6,
    "start_time": "2022-03-24T13:48:40.651Z"
   },
   {
    "duration": 10,
    "start_time": "2022-03-24T13:48:40.659Z"
   },
   {
    "duration": 11,
    "start_time": "2022-03-24T13:48:40.671Z"
   },
   {
    "duration": 6,
    "start_time": "2022-03-24T13:48:40.684Z"
   },
   {
    "duration": 8,
    "start_time": "2022-03-24T13:48:40.691Z"
   },
   {
    "duration": 6,
    "start_time": "2022-03-24T13:48:40.701Z"
   },
   {
    "duration": 3,
    "start_time": "2022-03-24T13:48:40.732Z"
   },
   {
    "duration": 10,
    "start_time": "2022-03-24T13:48:40.737Z"
   },
   {
    "duration": 7,
    "start_time": "2022-03-24T13:48:40.749Z"
   },
   {
    "duration": 4,
    "start_time": "2022-03-24T13:48:51.650Z"
   },
   {
    "duration": 460,
    "start_time": "2022-03-24T13:48:51.655Z"
   },
   {
    "duration": 22,
    "start_time": "2022-03-24T13:48:52.118Z"
   },
   {
    "duration": 16,
    "start_time": "2022-03-24T13:48:52.142Z"
   },
   {
    "duration": 17,
    "start_time": "2022-03-24T13:48:52.162Z"
   },
   {
    "duration": 14,
    "start_time": "2022-03-24T13:48:52.181Z"
   },
   {
    "duration": 50,
    "start_time": "2022-03-24T13:48:52.197Z"
   },
   {
    "duration": 19,
    "start_time": "2022-03-24T13:48:52.249Z"
   },
   {
    "duration": 14,
    "start_time": "2022-03-24T13:48:52.269Z"
   },
   {
    "duration": 65,
    "start_time": "2022-03-24T13:48:52.285Z"
   },
   {
    "duration": 11,
    "start_time": "2022-03-24T13:48:52.352Z"
   },
   {
    "duration": 68,
    "start_time": "2022-03-24T13:48:52.364Z"
   },
   {
    "duration": 11,
    "start_time": "2022-03-24T13:48:52.434Z"
   },
   {
    "duration": 55,
    "start_time": "2022-03-24T13:48:52.448Z"
   },
   {
    "duration": 30,
    "start_time": "2022-03-24T13:48:52.505Z"
   },
   {
    "duration": 12,
    "start_time": "2022-03-24T13:48:52.537Z"
   },
   {
    "duration": 23,
    "start_time": "2022-03-24T13:48:52.551Z"
   },
   {
    "duration": 14,
    "start_time": "2022-03-24T13:48:52.576Z"
   },
   {
    "duration": 39,
    "start_time": "2022-03-24T13:48:52.592Z"
   },
   {
    "duration": 19,
    "start_time": "2022-03-24T13:48:52.634Z"
   },
   {
    "duration": 13,
    "start_time": "2022-03-24T13:48:52.655Z"
   },
   {
    "duration": 6,
    "start_time": "2022-03-24T13:48:52.670Z"
   },
   {
    "duration": 154,
    "start_time": "2022-03-24T13:48:52.678Z"
   },
   {
    "duration": 10,
    "start_time": "2022-03-24T13:48:52.834Z"
   },
   {
    "duration": 185,
    "start_time": "2022-03-24T13:48:52.847Z"
   },
   {
    "duration": 8,
    "start_time": "2022-03-24T13:48:53.034Z"
   },
   {
    "duration": 189,
    "start_time": "2022-03-24T13:48:53.045Z"
   },
   {
    "duration": 9,
    "start_time": "2022-03-24T13:48:53.236Z"
   },
   {
    "duration": 10,
    "start_time": "2022-03-24T13:48:53.247Z"
   },
   {
    "duration": 10,
    "start_time": "2022-03-24T13:48:53.258Z"
   },
   {
    "duration": 7,
    "start_time": "2022-03-24T13:48:53.269Z"
   },
   {
    "duration": 8,
    "start_time": "2022-03-24T13:48:53.278Z"
   },
   {
    "duration": 8,
    "start_time": "2022-03-24T13:48:53.288Z"
   },
   {
    "duration": 34,
    "start_time": "2022-03-24T13:48:53.298Z"
   },
   {
    "duration": 7,
    "start_time": "2022-03-24T13:48:53.334Z"
   },
   {
    "duration": 8,
    "start_time": "2022-03-24T13:48:53.342Z"
   },
   {
    "duration": 10,
    "start_time": "2022-03-24T13:48:53.352Z"
   },
   {
    "duration": 6,
    "start_time": "2022-03-24T13:48:57.801Z"
   },
   {
    "duration": 6,
    "start_time": "2022-03-24T13:49:01.764Z"
   },
   {
    "duration": 4,
    "start_time": "2022-03-24T13:51:36.157Z"
   },
   {
    "duration": 119,
    "start_time": "2022-03-24T13:51:38.318Z"
   },
   {
    "duration": 6,
    "start_time": "2022-03-24T13:52:19.676Z"
   },
   {
    "duration": 5,
    "start_time": "2022-03-24T13:52:27.817Z"
   },
   {
    "duration": 10,
    "start_time": "2022-03-24T13:52:56.391Z"
   },
   {
    "duration": 13,
    "start_time": "2022-03-24T13:53:01.955Z"
   },
   {
    "duration": 5,
    "start_time": "2022-03-24T13:53:16.183Z"
   },
   {
    "duration": 5,
    "start_time": "2022-03-24T13:53:30.558Z"
   },
   {
    "duration": 13,
    "start_time": "2022-03-24T13:56:47.813Z"
   },
   {
    "duration": 17,
    "start_time": "2022-03-24T15:38:33.543Z"
   },
   {
    "duration": 8,
    "start_time": "2022-03-24T15:38:39.917Z"
   },
   {
    "duration": 7,
    "start_time": "2022-03-24T15:39:32.388Z"
   },
   {
    "duration": 8,
    "start_time": "2022-03-24T15:39:49.778Z"
   },
   {
    "duration": 7,
    "start_time": "2022-03-24T15:40:21.420Z"
   },
   {
    "duration": 8,
    "start_time": "2022-03-24T15:40:34.631Z"
   },
   {
    "duration": 8,
    "start_time": "2022-03-24T15:40:44.896Z"
   },
   {
    "duration": 4,
    "start_time": "2022-03-24T15:40:58.817Z"
   },
   {
    "duration": 13,
    "start_time": "2022-03-24T15:41:58.508Z"
   },
   {
    "duration": 2884,
    "start_time": "2022-03-24T15:42:09.533Z"
   },
   {
    "duration": 1575,
    "start_time": "2022-03-24T15:43:53.338Z"
   },
   {
    "duration": 1207,
    "start_time": "2022-03-24T15:44:33.064Z"
   },
   {
    "duration": 10,
    "start_time": "2022-03-24T15:44:49.343Z"
   },
   {
    "duration": 1029,
    "start_time": "2022-03-24T15:45:03.984Z"
   },
   {
    "duration": 968,
    "start_time": "2022-03-24T15:45:15.038Z"
   },
   {
    "duration": 989,
    "start_time": "2022-03-24T15:45:50.796Z"
   },
   {
    "duration": 1972,
    "start_time": "2022-03-24T15:46:11.928Z"
   },
   {
    "duration": 17,
    "start_time": "2022-03-24T15:54:05.892Z"
   },
   {
    "duration": 16,
    "start_time": "2022-03-24T15:54:35.437Z"
   },
   {
    "duration": 11,
    "start_time": "2022-03-24T15:55:31.212Z"
   },
   {
    "duration": 4,
    "start_time": "2022-03-24T15:55:35.087Z"
   },
   {
    "duration": 16,
    "start_time": "2022-03-24T15:55:37.377Z"
   },
   {
    "duration": 4,
    "start_time": "2022-03-24T15:56:19.797Z"
   },
   {
    "duration": 1165,
    "start_time": "2022-03-24T15:56:20.501Z"
   },
   {
    "duration": 10,
    "start_time": "2022-03-24T15:56:32.562Z"
   },
   {
    "duration": 3,
    "start_time": "2022-03-24T15:58:40.492Z"
   },
   {
    "duration": 1112,
    "start_time": "2022-03-24T15:58:41.689Z"
   },
   {
    "duration": 3,
    "start_time": "2022-03-24T15:58:48.554Z"
   },
   {
    "duration": 1217,
    "start_time": "2022-03-24T15:58:49.044Z"
   },
   {
    "duration": 12,
    "start_time": "2022-03-24T15:58:50.264Z"
   },
   {
    "duration": 15,
    "start_time": "2022-03-24T15:59:03.572Z"
   },
   {
    "duration": 11,
    "start_time": "2022-03-24T15:59:26.874Z"
   },
   {
    "duration": 7,
    "start_time": "2022-03-24T15:59:32.630Z"
   },
   {
    "duration": 4,
    "start_time": "2022-03-24T16:00:19.100Z"
   },
   {
    "duration": 1129,
    "start_time": "2022-03-24T16:00:20.241Z"
   },
   {
    "duration": 8,
    "start_time": "2022-03-24T16:00:21.372Z"
   },
   {
    "duration": 6,
    "start_time": "2022-03-24T16:01:32.974Z"
   },
   {
    "duration": 1144,
    "start_time": "2022-03-24T16:02:12.477Z"
   },
   {
    "duration": 406,
    "start_time": "2022-03-24T16:02:13.623Z"
   },
   {
    "duration": 17,
    "start_time": "2022-03-24T16:02:14.031Z"
   },
   {
    "duration": 15,
    "start_time": "2022-03-24T16:02:14.050Z"
   },
   {
    "duration": 16,
    "start_time": "2022-03-24T16:02:14.067Z"
   },
   {
    "duration": 47,
    "start_time": "2022-03-24T16:02:14.085Z"
   },
   {
    "duration": 10,
    "start_time": "2022-03-24T16:02:14.133Z"
   },
   {
    "duration": 16,
    "start_time": "2022-03-24T16:02:14.145Z"
   },
   {
    "duration": 16,
    "start_time": "2022-03-24T16:02:14.163Z"
   },
   {
    "duration": 76,
    "start_time": "2022-03-24T16:02:14.181Z"
   },
   {
    "duration": 10,
    "start_time": "2022-03-24T16:02:14.259Z"
   },
   {
    "duration": 67,
    "start_time": "2022-03-24T16:02:14.271Z"
   },
   {
    "duration": 10,
    "start_time": "2022-03-24T16:02:14.340Z"
   },
   {
    "duration": 80,
    "start_time": "2022-03-24T16:02:14.354Z"
   },
   {
    "duration": 13,
    "start_time": "2022-03-24T16:02:14.436Z"
   },
   {
    "duration": 33,
    "start_time": "2022-03-24T16:02:14.450Z"
   },
   {
    "duration": 47,
    "start_time": "2022-03-24T16:02:14.485Z"
   },
   {
    "duration": 22,
    "start_time": "2022-03-24T16:02:14.534Z"
   },
   {
    "duration": 48,
    "start_time": "2022-03-24T16:02:14.557Z"
   },
   {
    "duration": 18,
    "start_time": "2022-03-24T16:02:14.607Z"
   },
   {
    "duration": 65,
    "start_time": "2022-03-24T16:02:14.627Z"
   },
   {
    "duration": 32,
    "start_time": "2022-03-24T16:02:14.694Z"
   },
   {
    "duration": 208,
    "start_time": "2022-03-24T16:02:14.728Z"
   },
   {
    "duration": 16,
    "start_time": "2022-03-24T16:02:14.937Z"
   },
   {
    "duration": 187,
    "start_time": "2022-03-24T16:02:14.956Z"
   },
   {
    "duration": 23,
    "start_time": "2022-03-24T16:02:15.145Z"
   },
   {
    "duration": 161,
    "start_time": "2022-03-24T16:02:15.171Z"
   },
   {
    "duration": 15,
    "start_time": "2022-03-24T16:02:15.334Z"
   },
   {
    "duration": 16,
    "start_time": "2022-03-24T16:02:15.350Z"
   },
   {
    "duration": 12,
    "start_time": "2022-03-24T16:02:15.368Z"
   },
   {
    "duration": 6,
    "start_time": "2022-03-24T16:02:15.382Z"
   },
   {
    "duration": 8,
    "start_time": "2022-03-24T16:02:15.390Z"
   },
   {
    "duration": 8,
    "start_time": "2022-03-24T16:02:15.400Z"
   },
   {
    "duration": 26,
    "start_time": "2022-03-24T16:02:15.410Z"
   },
   {
    "duration": 5,
    "start_time": "2022-03-24T16:02:15.437Z"
   },
   {
    "duration": 6,
    "start_time": "2022-03-24T16:02:15.444Z"
   },
   {
    "duration": 12,
    "start_time": "2022-03-24T16:02:15.452Z"
   },
   {
    "duration": 4,
    "start_time": "2022-03-24T16:02:19.721Z"
   },
   {
    "duration": 1239,
    "start_time": "2022-03-24T16:02:21.179Z"
   },
   {
    "duration": 13,
    "start_time": "2022-03-24T16:02:22.420Z"
   },
   {
    "duration": 5,
    "start_time": "2022-03-24T16:02:25.737Z"
   },
   {
    "duration": 4,
    "start_time": "2022-03-24T16:40:32.798Z"
   },
   {
    "duration": 104,
    "start_time": "2022-03-24T16:40:33.304Z"
   },
   {
    "duration": 4,
    "start_time": "2022-03-24T16:41:02.064Z"
   },
   {
    "duration": 1357,
    "start_time": "2022-03-24T16:41:02.454Z"
   },
   {
    "duration": 7,
    "start_time": "2022-03-24T16:41:03.813Z"
   },
   {
    "duration": 5,
    "start_time": "2022-03-24T16:41:07.856Z"
   },
   {
    "duration": 11,
    "start_time": "2022-03-24T16:48:00.573Z"
   },
   {
    "duration": 4,
    "start_time": "2022-03-24T16:48:10.457Z"
   },
   {
    "duration": 13,
    "start_time": "2022-03-24T16:48:10.849Z"
   },
   {
    "duration": 4,
    "start_time": "2022-03-24T16:48:33.121Z"
   },
   {
    "duration": 1336,
    "start_time": "2022-03-24T16:48:33.467Z"
   },
   {
    "duration": 13,
    "start_time": "2022-03-24T16:48:35.351Z"
   },
   {
    "duration": 10,
    "start_time": "2022-03-24T16:48:51.669Z"
   },
   {
    "duration": 9,
    "start_time": "2022-03-24T16:49:05.036Z"
   },
   {
    "duration": 9,
    "start_time": "2022-03-24T16:49:11.077Z"
   },
   {
    "duration": 8,
    "start_time": "2022-03-24T16:49:49.734Z"
   },
   {
    "duration": 10,
    "start_time": "2022-03-24T16:50:57.818Z"
   },
   {
    "duration": 9,
    "start_time": "2022-03-24T16:51:06.065Z"
   },
   {
    "duration": 8,
    "start_time": "2022-03-24T16:51:14.820Z"
   },
   {
    "duration": 8,
    "start_time": "2022-03-24T16:51:41.041Z"
   },
   {
    "duration": 11,
    "start_time": "2022-03-24T16:53:16.950Z"
   },
   {
    "duration": 9,
    "start_time": "2022-03-24T16:53:39.016Z"
   },
   {
    "duration": 8,
    "start_time": "2022-03-24T16:54:21.101Z"
   },
   {
    "duration": 3,
    "start_time": "2022-03-24T16:56:27.849Z"
   },
   {
    "duration": 1372,
    "start_time": "2022-03-24T16:56:28.831Z"
   },
   {
    "duration": 6,
    "start_time": "2022-03-24T16:56:30.205Z"
   },
   {
    "duration": 5,
    "start_time": "2022-03-24T16:56:30.339Z"
   },
   {
    "duration": 3,
    "start_time": "2022-03-24T16:58:05.847Z"
   },
   {
    "duration": 1374,
    "start_time": "2022-03-24T16:58:08.091Z"
   },
   {
    "duration": 7,
    "start_time": "2022-03-24T16:58:09.467Z"
   },
   {
    "duration": 4,
    "start_time": "2022-03-24T16:58:11.557Z"
   },
   {
    "duration": 1350,
    "start_time": "2022-03-24T17:03:11.716Z"
   },
   {
    "duration": 6,
    "start_time": "2022-03-24T17:03:14.453Z"
   },
   {
    "duration": 5,
    "start_time": "2022-03-24T17:03:15.619Z"
   },
   {
    "duration": 1377,
    "start_time": "2022-03-24T17:05:45.114Z"
   },
   {
    "duration": 7,
    "start_time": "2022-03-24T17:05:48.038Z"
   },
   {
    "duration": 5,
    "start_time": "2022-03-24T17:05:48.833Z"
   },
   {
    "duration": 1129,
    "start_time": "2022-03-24T17:16:37.586Z"
   },
   {
    "duration": 484,
    "start_time": "2022-03-24T17:16:38.718Z"
   },
   {
    "duration": 18,
    "start_time": "2022-03-24T17:16:39.204Z"
   },
   {
    "duration": 16,
    "start_time": "2022-03-24T17:16:39.232Z"
   },
   {
    "duration": 16,
    "start_time": "2022-03-24T17:16:39.249Z"
   },
   {
    "duration": 17,
    "start_time": "2022-03-24T17:16:39.267Z"
   },
   {
    "duration": 11,
    "start_time": "2022-03-24T17:16:39.286Z"
   },
   {
    "duration": 36,
    "start_time": "2022-03-24T17:16:39.299Z"
   },
   {
    "duration": 16,
    "start_time": "2022-03-24T17:16:39.337Z"
   },
   {
    "duration": 53,
    "start_time": "2022-03-24T17:16:39.356Z"
   },
   {
    "duration": 28,
    "start_time": "2022-03-24T17:16:39.411Z"
   },
   {
    "duration": 50,
    "start_time": "2022-03-24T17:16:39.441Z"
   },
   {
    "duration": 11,
    "start_time": "2022-03-24T17:16:39.493Z"
   },
   {
    "duration": 52,
    "start_time": "2022-03-24T17:16:39.533Z"
   },
   {
    "duration": 13,
    "start_time": "2022-03-24T17:16:39.587Z"
   },
   {
    "duration": 32,
    "start_time": "2022-03-24T17:16:39.602Z"
   },
   {
    "duration": 15,
    "start_time": "2022-03-24T17:16:39.635Z"
   },
   {
    "duration": 16,
    "start_time": "2022-03-24T17:16:39.652Z"
   },
   {
    "duration": 18,
    "start_time": "2022-03-24T17:16:39.669Z"
   },
   {
    "duration": 51,
    "start_time": "2022-03-24T17:16:39.689Z"
   },
   {
    "duration": 13,
    "start_time": "2022-03-24T17:16:39.742Z"
   },
   {
    "duration": 7,
    "start_time": "2022-03-24T17:16:39.757Z"
   },
   {
    "duration": 103,
    "start_time": "2022-03-24T17:16:39.836Z"
   },
   {
    "duration": 92,
    "start_time": "2022-03-24T17:16:39.941Z"
   },
   {
    "duration": 102,
    "start_time": "2022-03-24T17:16:40.036Z"
   },
   {
    "duration": 5,
    "start_time": "2022-03-24T17:16:40.140Z"
   },
   {
    "duration": 92,
    "start_time": "2022-03-24T17:16:40.148Z"
   },
   {
    "duration": 8,
    "start_time": "2022-03-24T17:16:40.331Z"
   },
   {
    "duration": 11,
    "start_time": "2022-03-24T17:16:40.341Z"
   },
   {
    "duration": 9,
    "start_time": "2022-03-24T17:16:40.353Z"
   },
   {
    "duration": 5,
    "start_time": "2022-03-24T17:16:40.364Z"
   },
   {
    "duration": 8,
    "start_time": "2022-03-24T17:16:40.371Z"
   },
   {
    "duration": 7,
    "start_time": "2022-03-24T17:16:40.381Z"
   },
   {
    "duration": 45,
    "start_time": "2022-03-24T17:16:40.390Z"
   },
   {
    "duration": 5,
    "start_time": "2022-03-24T17:16:40.437Z"
   },
   {
    "duration": 8,
    "start_time": "2022-03-24T17:16:40.444Z"
   },
   {
    "duration": 8,
    "start_time": "2022-03-24T17:16:40.454Z"
   },
   {
    "duration": 6,
    "start_time": "2022-03-24T17:16:40.464Z"
   },
   {
    "duration": 5,
    "start_time": "2022-03-24T17:16:40.472Z"
   },
   {
    "duration": 1424,
    "start_time": "2022-03-24T17:16:40.479Z"
   },
   {
    "duration": 8,
    "start_time": "2022-03-24T17:16:41.905Z"
   },
   {
    "duration": 17,
    "start_time": "2022-03-24T17:16:41.915Z"
   },
   {
    "duration": 1371,
    "start_time": "2022-03-24T17:16:41.934Z"
   },
   {
    "duration": 6,
    "start_time": "2022-03-24T17:16:43.307Z"
   },
   {
    "duration": 7,
    "start_time": "2022-03-24T17:16:43.315Z"
   },
   {
    "duration": 1341,
    "start_time": "2022-03-24T17:16:43.333Z"
   },
   {
    "duration": 5,
    "start_time": "2022-03-24T17:16:44.676Z"
   },
   {
    "duration": 6,
    "start_time": "2022-03-24T17:16:44.683Z"
   },
   {
    "duration": 12,
    "start_time": "2022-03-25T06:04:44.785Z"
   },
   {
    "duration": 66,
    "start_time": "2022-03-25T06:07:56.309Z"
   },
   {
    "duration": 1531,
    "start_time": "2022-03-25T06:08:01.473Z"
   },
   {
    "duration": 4910,
    "start_time": "2022-03-25T06:08:03.946Z"
   },
   {
    "duration": 2811,
    "start_time": "2022-03-25T06:08:36.443Z"
   },
   {
    "duration": 10,
    "start_time": "2022-03-25T06:08:46.543Z"
   },
   {
    "duration": 426,
    "start_time": "2022-03-25T06:09:03.397Z"
   },
   {
    "duration": 23,
    "start_time": "2022-03-25T06:09:07.151Z"
   },
   {
    "duration": 433,
    "start_time": "2022-03-25T06:10:51.933Z"
   },
   {
    "duration": 48,
    "start_time": "2022-03-25T06:11:24.245Z"
   },
   {
    "duration": 3,
    "start_time": "2022-03-25T06:12:31.948Z"
   },
   {
    "duration": 22,
    "start_time": "2022-03-25T06:12:56.834Z"
   },
   {
    "duration": 14,
    "start_time": "2022-03-25T06:13:08.507Z"
   },
   {
    "duration": 17,
    "start_time": "2022-03-25T06:13:14.504Z"
   },
   {
    "duration": 24,
    "start_time": "2022-03-25T06:35:05.880Z"
   },
   {
    "duration": 50,
    "start_time": "2022-03-25T06:35:20.361Z"
   },
   {
    "duration": 47,
    "start_time": "2022-03-25T06:35:33.097Z"
   },
   {
    "duration": 29,
    "start_time": "2022-03-25T06:36:00.409Z"
   },
   {
    "duration": 48,
    "start_time": "2022-03-25T06:36:36.045Z"
   },
   {
    "duration": 27,
    "start_time": "2022-03-25T06:36:47.274Z"
   },
   {
    "duration": 205,
    "start_time": "2022-03-25T06:37:11.517Z"
   },
   {
    "duration": 28,
    "start_time": "2022-03-25T06:37:43.383Z"
   },
   {
    "duration": 28,
    "start_time": "2022-03-25T06:38:05.074Z"
   },
   {
    "duration": 4,
    "start_time": "2022-03-25T07:01:47.854Z"
   },
   {
    "duration": 4,
    "start_time": "2022-03-25T07:05:50.368Z"
   },
   {
    "duration": 38,
    "start_time": "2022-03-25T07:05:51.611Z"
   },
   {
    "duration": 30,
    "start_time": "2022-03-25T07:07:58.148Z"
   },
   {
    "duration": 14,
    "start_time": "2022-03-25T07:09:06.695Z"
   },
   {
    "duration": 17,
    "start_time": "2022-03-25T07:09:26.330Z"
   },
   {
    "duration": 13,
    "start_time": "2022-03-25T07:28:04.056Z"
   },
   {
    "duration": 12,
    "start_time": "2022-03-25T07:29:35.199Z"
   },
   {
    "duration": 5,
    "start_time": "2022-03-25T07:30:14.029Z"
   },
   {
    "duration": 33,
    "start_time": "2022-03-25T07:30:15.215Z"
   },
   {
    "duration": 9,
    "start_time": "2022-03-25T07:31:36.146Z"
   },
   {
    "duration": 9,
    "start_time": "2022-03-25T07:31:43.174Z"
   },
   {
    "duration": 11,
    "start_time": "2022-03-25T07:32:29.160Z"
   },
   {
    "duration": 11,
    "start_time": "2022-03-25T07:33:18.000Z"
   },
   {
    "duration": 11,
    "start_time": "2022-03-25T07:33:18.929Z"
   },
   {
    "duration": 7,
    "start_time": "2022-03-25T07:33:33.394Z"
   },
   {
    "duration": 6,
    "start_time": "2022-03-25T07:33:36.775Z"
   },
   {
    "duration": 7,
    "start_time": "2022-03-25T07:33:55.859Z"
   },
   {
    "duration": 7,
    "start_time": "2022-03-25T07:33:59.191Z"
   },
   {
    "duration": 28,
    "start_time": "2022-03-25T07:34:50.088Z"
   },
   {
    "duration": 6,
    "start_time": "2022-03-25T07:34:50.756Z"
   },
   {
    "duration": 6,
    "start_time": "2022-03-25T07:35:21.448Z"
   },
   {
    "duration": 11,
    "start_time": "2022-03-25T07:36:08.608Z"
   },
   {
    "duration": 18,
    "start_time": "2022-03-25T07:36:09.136Z"
   },
   {
    "duration": 19,
    "start_time": "2022-03-25T07:38:43.196Z"
   },
   {
    "duration": 16,
    "start_time": "2022-03-25T07:38:44.103Z"
   },
   {
    "duration": 12,
    "start_time": "2022-03-25T07:38:53.471Z"
   },
   {
    "duration": 13,
    "start_time": "2022-03-25T07:39:10.272Z"
   },
   {
    "duration": 9,
    "start_time": "2022-03-25T07:42:47.033Z"
   },
   {
    "duration": 27,
    "start_time": "2022-03-25T08:16:11.643Z"
   },
   {
    "duration": 13,
    "start_time": "2022-03-25T08:16:12.382Z"
   },
   {
    "duration": 6,
    "start_time": "2022-03-25T08:16:13.236Z"
   },
   {
    "duration": 20,
    "start_time": "2022-03-25T08:16:27.329Z"
   },
   {
    "duration": 14,
    "start_time": "2022-03-25T08:16:36.543Z"
   },
   {
    "duration": 9,
    "start_time": "2022-03-25T08:16:40.095Z"
   },
   {
    "duration": 4,
    "start_time": "2022-03-25T08:18:50.270Z"
   },
   {
    "duration": 5,
    "start_time": "2022-03-25T08:19:16.496Z"
   },
   {
    "duration": 6,
    "start_time": "2022-03-25T08:19:34.635Z"
   },
   {
    "duration": 5,
    "start_time": "2022-03-25T08:22:09.053Z"
   },
   {
    "duration": 8,
    "start_time": "2022-03-25T08:22:11.001Z"
   },
   {
    "duration": 3794,
    "start_time": "2022-03-25T08:22:12.738Z"
   },
   {
    "duration": 2687,
    "start_time": "2022-03-25T08:22:41.696Z"
   },
   {
    "duration": 2884,
    "start_time": "2022-03-25T08:45:41.415Z"
   },
   {
    "duration": 4,
    "start_time": "2022-03-25T08:46:54.049Z"
   },
   {
    "duration": 2756,
    "start_time": "2022-03-25T08:46:55.730Z"
   },
   {
    "duration": 1789,
    "start_time": "2022-03-25T08:47:59.054Z"
   },
   {
    "duration": 1747,
    "start_time": "2022-03-25T08:59:58.280Z"
   },
   {
    "duration": 48,
    "start_time": "2022-03-25T09:00:00.161Z"
   },
   {
    "duration": 7,
    "start_time": "2022-03-25T09:00:15.605Z"
   },
   {
    "duration": 6,
    "start_time": "2022-03-25T09:04:50.092Z"
   },
   {
    "duration": 5410,
    "start_time": "2022-03-25T09:04:50.637Z"
   },
   {
    "duration": 4,
    "start_time": "2022-03-25T09:11:19.415Z"
   },
   {
    "duration": 5343,
    "start_time": "2022-03-25T09:12:11.501Z"
   },
   {
    "duration": 1849,
    "start_time": "2022-03-25T09:13:34.539Z"
   },
   {
    "duration": 5934,
    "start_time": "2022-03-25T09:14:56.255Z"
   },
   {
    "duration": 5324,
    "start_time": "2022-03-25T09:15:52.211Z"
   },
   {
    "duration": 4,
    "start_time": "2022-03-25T09:16:23.619Z"
   },
   {
    "duration": 4,
    "start_time": "2022-03-25T09:16:24.101Z"
   },
   {
    "duration": 5762,
    "start_time": "2022-03-25T09:16:24.861Z"
   },
   {
    "duration": 5,
    "start_time": "2022-03-25T09:19:52.423Z"
   },
   {
    "duration": 5298,
    "start_time": "2022-03-25T09:21:00.456Z"
   },
   {
    "duration": 5,
    "start_time": "2022-03-25T09:23:25.957Z"
   },
   {
    "duration": 5,
    "start_time": "2022-03-25T09:23:26.874Z"
   },
   {
    "duration": 4,
    "start_time": "2022-03-25T09:23:27.808Z"
   },
   {
    "duration": 5338,
    "start_time": "2022-03-25T09:23:30.128Z"
   },
   {
    "duration": 1561,
    "start_time": "2022-03-25T09:24:45.003Z"
   },
   {
    "duration": 4,
    "start_time": "2022-03-25T09:24:46.567Z"
   },
   {
    "duration": 443,
    "start_time": "2022-03-25T09:24:46.573Z"
   },
   {
    "duration": 59,
    "start_time": "2022-03-25T09:24:47.019Z"
   },
   {
    "duration": 23,
    "start_time": "2022-03-25T09:24:47.080Z"
   },
   {
    "duration": 13,
    "start_time": "2022-03-25T09:24:47.105Z"
   },
   {
    "duration": 13,
    "start_time": "2022-03-25T09:24:47.143Z"
   },
   {
    "duration": 27,
    "start_time": "2022-03-25T09:24:47.158Z"
   },
   {
    "duration": 220,
    "start_time": "2022-03-25T09:24:47.187Z"
   },
   {
    "duration": 39,
    "start_time": "2022-03-25T09:24:47.410Z"
   },
   {
    "duration": 4,
    "start_time": "2022-03-25T09:24:47.451Z"
   },
   {
    "duration": 45,
    "start_time": "2022-03-25T09:24:47.457Z"
   },
   {
    "duration": 64,
    "start_time": "2022-03-25T09:24:47.504Z"
   },
   {
    "duration": 76,
    "start_time": "2022-03-25T09:24:47.570Z"
   },
   {
    "duration": 111,
    "start_time": "2022-03-25T09:24:47.649Z"
   },
   {
    "duration": 88,
    "start_time": "2022-03-25T09:24:47.762Z"
   },
   {
    "duration": 8,
    "start_time": "2022-03-25T09:24:47.852Z"
   },
   {
    "duration": 4,
    "start_time": "2022-03-25T09:24:47.863Z"
   },
   {
    "duration": 9,
    "start_time": "2022-03-25T09:24:47.869Z"
   },
   {
    "duration": 5,
    "start_time": "2022-03-25T09:24:47.880Z"
   },
   {
    "duration": 5,
    "start_time": "2022-03-25T09:24:47.887Z"
   },
   {
    "duration": 50,
    "start_time": "2022-03-25T09:24:47.894Z"
   },
   {
    "duration": 14,
    "start_time": "2022-03-25T09:24:47.947Z"
   },
   {
    "duration": 5,
    "start_time": "2022-03-25T09:24:47.964Z"
   },
   {
    "duration": 155,
    "start_time": "2022-03-25T09:24:47.971Z"
   },
   {
    "duration": 11,
    "start_time": "2022-03-25T09:35:40.086Z"
   },
   {
    "duration": 5,
    "start_time": "2022-03-25T09:35:48.102Z"
   },
   {
    "duration": 5438,
    "start_time": "2022-03-25T09:35:50.404Z"
   },
   {
    "duration": 1515,
    "start_time": "2022-03-25T10:04:24.467Z"
   },
   {
    "duration": 4,
    "start_time": "2022-03-25T10:04:25.984Z"
   },
   {
    "duration": 439,
    "start_time": "2022-03-25T10:04:25.990Z"
   },
   {
    "duration": 51,
    "start_time": "2022-03-25T10:04:26.432Z"
   },
   {
    "duration": 23,
    "start_time": "2022-03-25T10:04:26.486Z"
   },
   {
    "duration": 34,
    "start_time": "2022-03-25T10:04:26.512Z"
   },
   {
    "duration": 12,
    "start_time": "2022-03-25T10:04:26.548Z"
   },
   {
    "duration": 27,
    "start_time": "2022-03-25T10:04:26.563Z"
   },
   {
    "duration": 217,
    "start_time": "2022-03-25T10:04:26.592Z"
   },
   {
    "duration": 40,
    "start_time": "2022-03-25T10:04:26.813Z"
   },
   {
    "duration": 4,
    "start_time": "2022-03-25T10:04:26.855Z"
   },
   {
    "duration": 46,
    "start_time": "2022-03-25T10:04:26.861Z"
   },
   {
    "duration": 53,
    "start_time": "2022-03-25T10:04:26.910Z"
   },
   {
    "duration": 85,
    "start_time": "2022-03-25T10:04:26.966Z"
   },
   {
    "duration": 108,
    "start_time": "2022-03-25T10:04:27.153Z"
   },
   {
    "duration": 12,
    "start_time": "2022-03-25T10:04:27.263Z"
   },
   {
    "duration": 9,
    "start_time": "2022-03-25T10:04:27.277Z"
   },
   {
    "duration": 5,
    "start_time": "2022-03-25T10:04:27.288Z"
   },
   {
    "duration": 9,
    "start_time": "2022-03-25T10:04:27.296Z"
   },
   {
    "duration": 5,
    "start_time": "2022-03-25T10:04:27.342Z"
   },
   {
    "duration": 7,
    "start_time": "2022-03-25T10:04:27.349Z"
   },
   {
    "duration": 8,
    "start_time": "2022-03-25T10:04:27.358Z"
   },
   {
    "duration": 5,
    "start_time": "2022-03-25T10:04:27.369Z"
   },
   {
    "duration": 5,
    "start_time": "2022-03-25T10:04:27.376Z"
   },
   {
    "duration": 5374,
    "start_time": "2022-03-25T10:04:27.384Z"
   }
  ],
  "kernelspec": {
   "display_name": "Python 3",
   "language": "python",
   "name": "python3"
  },
  "language_info": {
   "codemirror_mode": {
    "name": "ipython",
    "version": 3
   },
   "file_extension": ".py",
   "mimetype": "text/x-python",
   "name": "python",
   "nbconvert_exporter": "python",
   "pygments_lexer": "ipython3",
   "version": "3.8.8"
  },
  "toc": {
   "base_numbering": 1,
   "nav_menu": {},
   "number_sections": true,
   "sideBar": true,
   "skip_h1_title": true,
   "title_cell": "Table of Contents",
   "title_sidebar": "Contents",
   "toc_cell": false,
   "toc_position": {},
   "toc_section_display": true,
   "toc_window_display": true
  }
 },
 "nbformat": 4,
 "nbformat_minor": 4
}
