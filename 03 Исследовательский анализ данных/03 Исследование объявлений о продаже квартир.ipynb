{
 "cells": [
  {
   "cell_type": "markdown",
   "metadata": {},
   "source": [
    "# Исследование объявлений о продаже квартир\n",
    "\n",
    "В вашем распоряжении данные сервиса Яндекс.Недвижимость — архив объявлений о продаже квартир в Санкт-Петербурге и соседних населённых пунктах за несколько лет. Нужно научиться определять рыночную стоимость объектов недвижимости. Ваша задача — установить параметры. Это позволит построить автоматизированную систему: она отследит аномалии и мошенническую деятельность. \n",
    "\n",
    "По каждой квартире на продажу доступны два вида данных. Первые вписаны пользователем, вторые получены автоматически на основе картографических данных. Например, расстояние до центра, аэропорта, ближайшего парка и водоёма."
   ]
  },
  {
   "cell_type": "markdown",
   "metadata": {},
   "source": [
    "## Изучение данных из файла"
   ]
  },
  {
   "cell_type": "markdown",
   "metadata": {},
   "source": [
    "### Получение общей информации о данных"
   ]
  },
  {
   "cell_type": "markdown",
   "metadata": {},
   "source": [
    "Прочитаем датафрейм из файла и посмотрим общую информацию, начало и конец датафрейма"
   ]
  },
  {
   "cell_type": "code",
   "execution_count": 1,
   "metadata": {},
   "outputs": [],
   "source": [
    "import pandas as pd\n",
    "from matplotlib import pyplot as plt"
   ]
  },
  {
   "cell_type": "code",
   "execution_count": 2,
   "metadata": {},
   "outputs": [],
   "source": [
    "df= pd.read_csv('/datasets/real_estate_data.csv', sep='\\t')"
   ]
  },
  {
   "cell_type": "code",
   "execution_count": 3,
   "metadata": {},
   "outputs": [
    {
     "name": "stdout",
     "output_type": "stream",
     "text": [
      "<class 'pandas.core.frame.DataFrame'>\n",
      "RangeIndex: 23699 entries, 0 to 23698\n",
      "Data columns (total 22 columns):\n",
      "total_images            23699 non-null int64\n",
      "last_price              23699 non-null float64\n",
      "total_area              23699 non-null float64\n",
      "first_day_exposition    23699 non-null object\n",
      "rooms                   23699 non-null int64\n",
      "ceiling_height          14504 non-null float64\n",
      "floors_total            23613 non-null float64\n",
      "living_area             21796 non-null float64\n",
      "floor                   23699 non-null int64\n",
      "is_apartment            2775 non-null object\n",
      "studio                  23699 non-null bool\n",
      "open_plan               23699 non-null bool\n",
      "kitchen_area            21421 non-null float64\n",
      "balcony                 12180 non-null float64\n",
      "locality_name           23650 non-null object\n",
      "airports_nearest        18157 non-null float64\n",
      "cityCenters_nearest     18180 non-null float64\n",
      "parks_around3000        18181 non-null float64\n",
      "parks_nearest           8079 non-null float64\n",
      "ponds_around3000        18181 non-null float64\n",
      "ponds_nearest           9110 non-null float64\n",
      "days_exposition         20518 non-null float64\n",
      "dtypes: bool(2), float64(14), int64(3), object(3)\n",
      "memory usage: 3.7+ MB\n"
     ]
    }
   ],
   "source": [
    "df.info()"
   ]
  },
  {
   "cell_type": "markdown",
   "metadata": {},
   "source": [
    "Таблица содержит 23699 строк и 22 столбца"
   ]
  },
  {
   "cell_type": "code",
   "execution_count": 4,
   "metadata": {},
   "outputs": [
    {
     "data": {
      "text/html": [
       "<div>\n",
       "<style scoped>\n",
       "    .dataframe tbody tr th:only-of-type {\n",
       "        vertical-align: middle;\n",
       "    }\n",
       "\n",
       "    .dataframe tbody tr th {\n",
       "        vertical-align: top;\n",
       "    }\n",
       "\n",
       "    .dataframe thead th {\n",
       "        text-align: right;\n",
       "    }\n",
       "</style>\n",
       "<table border=\"1\" class=\"dataframe\">\n",
       "  <thead>\n",
       "    <tr style=\"text-align: right;\">\n",
       "      <th></th>\n",
       "      <th>total_images</th>\n",
       "      <th>last_price</th>\n",
       "      <th>total_area</th>\n",
       "      <th>first_day_exposition</th>\n",
       "      <th>rooms</th>\n",
       "      <th>ceiling_height</th>\n",
       "      <th>floors_total</th>\n",
       "      <th>living_area</th>\n",
       "      <th>floor</th>\n",
       "      <th>is_apartment</th>\n",
       "      <th>...</th>\n",
       "      <th>kitchen_area</th>\n",
       "      <th>balcony</th>\n",
       "      <th>locality_name</th>\n",
       "      <th>airports_nearest</th>\n",
       "      <th>cityCenters_nearest</th>\n",
       "      <th>parks_around3000</th>\n",
       "      <th>parks_nearest</th>\n",
       "      <th>ponds_around3000</th>\n",
       "      <th>ponds_nearest</th>\n",
       "      <th>days_exposition</th>\n",
       "    </tr>\n",
       "  </thead>\n",
       "  <tbody>\n",
       "    <tr>\n",
       "      <td>0</td>\n",
       "      <td>20</td>\n",
       "      <td>13000000.0</td>\n",
       "      <td>108.0</td>\n",
       "      <td>2019-03-07T00:00:00</td>\n",
       "      <td>3</td>\n",
       "      <td>2.70</td>\n",
       "      <td>16.0</td>\n",
       "      <td>51.0</td>\n",
       "      <td>8</td>\n",
       "      <td>NaN</td>\n",
       "      <td>...</td>\n",
       "      <td>25.0</td>\n",
       "      <td>NaN</td>\n",
       "      <td>Санкт-Петербург</td>\n",
       "      <td>18863.0</td>\n",
       "      <td>16028.0</td>\n",
       "      <td>1.0</td>\n",
       "      <td>482.0</td>\n",
       "      <td>2.0</td>\n",
       "      <td>755.0</td>\n",
       "      <td>NaN</td>\n",
       "    </tr>\n",
       "    <tr>\n",
       "      <td>1</td>\n",
       "      <td>7</td>\n",
       "      <td>3350000.0</td>\n",
       "      <td>40.4</td>\n",
       "      <td>2018-12-04T00:00:00</td>\n",
       "      <td>1</td>\n",
       "      <td>NaN</td>\n",
       "      <td>11.0</td>\n",
       "      <td>18.6</td>\n",
       "      <td>1</td>\n",
       "      <td>NaN</td>\n",
       "      <td>...</td>\n",
       "      <td>11.0</td>\n",
       "      <td>2.0</td>\n",
       "      <td>посёлок Шушары</td>\n",
       "      <td>12817.0</td>\n",
       "      <td>18603.0</td>\n",
       "      <td>0.0</td>\n",
       "      <td>NaN</td>\n",
       "      <td>0.0</td>\n",
       "      <td>NaN</td>\n",
       "      <td>81.0</td>\n",
       "    </tr>\n",
       "    <tr>\n",
       "      <td>2</td>\n",
       "      <td>10</td>\n",
       "      <td>5196000.0</td>\n",
       "      <td>56.0</td>\n",
       "      <td>2015-08-20T00:00:00</td>\n",
       "      <td>2</td>\n",
       "      <td>NaN</td>\n",
       "      <td>5.0</td>\n",
       "      <td>34.3</td>\n",
       "      <td>4</td>\n",
       "      <td>NaN</td>\n",
       "      <td>...</td>\n",
       "      <td>8.3</td>\n",
       "      <td>0.0</td>\n",
       "      <td>Санкт-Петербург</td>\n",
       "      <td>21741.0</td>\n",
       "      <td>13933.0</td>\n",
       "      <td>1.0</td>\n",
       "      <td>90.0</td>\n",
       "      <td>2.0</td>\n",
       "      <td>574.0</td>\n",
       "      <td>558.0</td>\n",
       "    </tr>\n",
       "    <tr>\n",
       "      <td>3</td>\n",
       "      <td>0</td>\n",
       "      <td>64900000.0</td>\n",
       "      <td>159.0</td>\n",
       "      <td>2015-07-24T00:00:00</td>\n",
       "      <td>3</td>\n",
       "      <td>NaN</td>\n",
       "      <td>14.0</td>\n",
       "      <td>NaN</td>\n",
       "      <td>9</td>\n",
       "      <td>NaN</td>\n",
       "      <td>...</td>\n",
       "      <td>NaN</td>\n",
       "      <td>0.0</td>\n",
       "      <td>Санкт-Петербург</td>\n",
       "      <td>28098.0</td>\n",
       "      <td>6800.0</td>\n",
       "      <td>2.0</td>\n",
       "      <td>84.0</td>\n",
       "      <td>3.0</td>\n",
       "      <td>234.0</td>\n",
       "      <td>424.0</td>\n",
       "    </tr>\n",
       "    <tr>\n",
       "      <td>4</td>\n",
       "      <td>2</td>\n",
       "      <td>10000000.0</td>\n",
       "      <td>100.0</td>\n",
       "      <td>2018-06-19T00:00:00</td>\n",
       "      <td>2</td>\n",
       "      <td>3.03</td>\n",
       "      <td>14.0</td>\n",
       "      <td>32.0</td>\n",
       "      <td>13</td>\n",
       "      <td>NaN</td>\n",
       "      <td>...</td>\n",
       "      <td>41.0</td>\n",
       "      <td>NaN</td>\n",
       "      <td>Санкт-Петербург</td>\n",
       "      <td>31856.0</td>\n",
       "      <td>8098.0</td>\n",
       "      <td>2.0</td>\n",
       "      <td>112.0</td>\n",
       "      <td>1.0</td>\n",
       "      <td>48.0</td>\n",
       "      <td>121.0</td>\n",
       "    </tr>\n",
       "  </tbody>\n",
       "</table>\n",
       "<p>5 rows × 22 columns</p>\n",
       "</div>"
      ],
      "text/plain": [
       "   total_images  last_price  total_area first_day_exposition  rooms  \\\n",
       "0            20  13000000.0       108.0  2019-03-07T00:00:00      3   \n",
       "1             7   3350000.0        40.4  2018-12-04T00:00:00      1   \n",
       "2            10   5196000.0        56.0  2015-08-20T00:00:00      2   \n",
       "3             0  64900000.0       159.0  2015-07-24T00:00:00      3   \n",
       "4             2  10000000.0       100.0  2018-06-19T00:00:00      2   \n",
       "\n",
       "   ceiling_height  floors_total  living_area  floor is_apartment  ...  \\\n",
       "0            2.70          16.0         51.0      8          NaN  ...   \n",
       "1             NaN          11.0         18.6      1          NaN  ...   \n",
       "2             NaN           5.0         34.3      4          NaN  ...   \n",
       "3             NaN          14.0          NaN      9          NaN  ...   \n",
       "4            3.03          14.0         32.0     13          NaN  ...   \n",
       "\n",
       "   kitchen_area  balcony    locality_name  airports_nearest  \\\n",
       "0          25.0      NaN  Санкт-Петербург           18863.0   \n",
       "1          11.0      2.0   посёлок Шушары           12817.0   \n",
       "2           8.3      0.0  Санкт-Петербург           21741.0   \n",
       "3           NaN      0.0  Санкт-Петербург           28098.0   \n",
       "4          41.0      NaN  Санкт-Петербург           31856.0   \n",
       "\n",
       "  cityCenters_nearest  parks_around3000  parks_nearest  ponds_around3000  \\\n",
       "0             16028.0               1.0          482.0               2.0   \n",
       "1             18603.0               0.0            NaN               0.0   \n",
       "2             13933.0               1.0           90.0               2.0   \n",
       "3              6800.0               2.0           84.0               3.0   \n",
       "4              8098.0               2.0          112.0               1.0   \n",
       "\n",
       "   ponds_nearest  days_exposition  \n",
       "0          755.0              NaN  \n",
       "1            NaN             81.0  \n",
       "2          574.0            558.0  \n",
       "3          234.0            424.0  \n",
       "4           48.0            121.0  \n",
       "\n",
       "[5 rows x 22 columns]"
      ]
     },
     "execution_count": 4,
     "metadata": {},
     "output_type": "execute_result"
    }
   ],
   "source": [
    "df.head()"
   ]
  },
  {
   "cell_type": "code",
   "execution_count": 5,
   "metadata": {},
   "outputs": [
    {
     "data": {
      "text/html": [
       "<div>\n",
       "<style scoped>\n",
       "    .dataframe tbody tr th:only-of-type {\n",
       "        vertical-align: middle;\n",
       "    }\n",
       "\n",
       "    .dataframe tbody tr th {\n",
       "        vertical-align: top;\n",
       "    }\n",
       "\n",
       "    .dataframe thead th {\n",
       "        text-align: right;\n",
       "    }\n",
       "</style>\n",
       "<table border=\"1\" class=\"dataframe\">\n",
       "  <thead>\n",
       "    <tr style=\"text-align: right;\">\n",
       "      <th></th>\n",
       "      <th>total_images</th>\n",
       "      <th>last_price</th>\n",
       "      <th>total_area</th>\n",
       "      <th>first_day_exposition</th>\n",
       "      <th>rooms</th>\n",
       "      <th>ceiling_height</th>\n",
       "      <th>floors_total</th>\n",
       "      <th>living_area</th>\n",
       "      <th>floor</th>\n",
       "      <th>is_apartment</th>\n",
       "      <th>...</th>\n",
       "      <th>kitchen_area</th>\n",
       "      <th>balcony</th>\n",
       "      <th>locality_name</th>\n",
       "      <th>airports_nearest</th>\n",
       "      <th>cityCenters_nearest</th>\n",
       "      <th>parks_around3000</th>\n",
       "      <th>parks_nearest</th>\n",
       "      <th>ponds_around3000</th>\n",
       "      <th>ponds_nearest</th>\n",
       "      <th>days_exposition</th>\n",
       "    </tr>\n",
       "  </thead>\n",
       "  <tbody>\n",
       "    <tr>\n",
       "      <td>23694</td>\n",
       "      <td>9</td>\n",
       "      <td>9700000.0</td>\n",
       "      <td>133.81</td>\n",
       "      <td>2017-03-21T00:00:00</td>\n",
       "      <td>3</td>\n",
       "      <td>3.7</td>\n",
       "      <td>5.0</td>\n",
       "      <td>73.3</td>\n",
       "      <td>3</td>\n",
       "      <td>NaN</td>\n",
       "      <td>...</td>\n",
       "      <td>13.83</td>\n",
       "      <td>NaN</td>\n",
       "      <td>Санкт-Петербург</td>\n",
       "      <td>24665.0</td>\n",
       "      <td>4232.0</td>\n",
       "      <td>1.0</td>\n",
       "      <td>796.0</td>\n",
       "      <td>3.0</td>\n",
       "      <td>381.0</td>\n",
       "      <td>NaN</td>\n",
       "    </tr>\n",
       "    <tr>\n",
       "      <td>23695</td>\n",
       "      <td>14</td>\n",
       "      <td>3100000.0</td>\n",
       "      <td>59.00</td>\n",
       "      <td>2018-01-15T00:00:00</td>\n",
       "      <td>3</td>\n",
       "      <td>NaN</td>\n",
       "      <td>5.0</td>\n",
       "      <td>38.0</td>\n",
       "      <td>4</td>\n",
       "      <td>NaN</td>\n",
       "      <td>...</td>\n",
       "      <td>8.50</td>\n",
       "      <td>NaN</td>\n",
       "      <td>Тосно</td>\n",
       "      <td>NaN</td>\n",
       "      <td>NaN</td>\n",
       "      <td>NaN</td>\n",
       "      <td>NaN</td>\n",
       "      <td>NaN</td>\n",
       "      <td>NaN</td>\n",
       "      <td>45.0</td>\n",
       "    </tr>\n",
       "    <tr>\n",
       "      <td>23696</td>\n",
       "      <td>18</td>\n",
       "      <td>2500000.0</td>\n",
       "      <td>56.70</td>\n",
       "      <td>2018-02-11T00:00:00</td>\n",
       "      <td>2</td>\n",
       "      <td>NaN</td>\n",
       "      <td>3.0</td>\n",
       "      <td>29.7</td>\n",
       "      <td>1</td>\n",
       "      <td>NaN</td>\n",
       "      <td>...</td>\n",
       "      <td>NaN</td>\n",
       "      <td>NaN</td>\n",
       "      <td>село Рождествено</td>\n",
       "      <td>NaN</td>\n",
       "      <td>NaN</td>\n",
       "      <td>NaN</td>\n",
       "      <td>NaN</td>\n",
       "      <td>NaN</td>\n",
       "      <td>NaN</td>\n",
       "      <td>NaN</td>\n",
       "    </tr>\n",
       "    <tr>\n",
       "      <td>23697</td>\n",
       "      <td>13</td>\n",
       "      <td>11475000.0</td>\n",
       "      <td>76.75</td>\n",
       "      <td>2017-03-28T00:00:00</td>\n",
       "      <td>2</td>\n",
       "      <td>3.0</td>\n",
       "      <td>17.0</td>\n",
       "      <td>NaN</td>\n",
       "      <td>12</td>\n",
       "      <td>NaN</td>\n",
       "      <td>...</td>\n",
       "      <td>23.30</td>\n",
       "      <td>2.0</td>\n",
       "      <td>Санкт-Петербург</td>\n",
       "      <td>39140.0</td>\n",
       "      <td>10364.0</td>\n",
       "      <td>2.0</td>\n",
       "      <td>173.0</td>\n",
       "      <td>3.0</td>\n",
       "      <td>196.0</td>\n",
       "      <td>602.0</td>\n",
       "    </tr>\n",
       "    <tr>\n",
       "      <td>23698</td>\n",
       "      <td>4</td>\n",
       "      <td>1350000.0</td>\n",
       "      <td>32.30</td>\n",
       "      <td>2017-07-21T00:00:00</td>\n",
       "      <td>1</td>\n",
       "      <td>2.5</td>\n",
       "      <td>5.0</td>\n",
       "      <td>12.3</td>\n",
       "      <td>1</td>\n",
       "      <td>NaN</td>\n",
       "      <td>...</td>\n",
       "      <td>9.00</td>\n",
       "      <td>NaN</td>\n",
       "      <td>поселок Новый Учхоз</td>\n",
       "      <td>NaN</td>\n",
       "      <td>NaN</td>\n",
       "      <td>NaN</td>\n",
       "      <td>NaN</td>\n",
       "      <td>NaN</td>\n",
       "      <td>NaN</td>\n",
       "      <td>NaN</td>\n",
       "    </tr>\n",
       "  </tbody>\n",
       "</table>\n",
       "<p>5 rows × 22 columns</p>\n",
       "</div>"
      ],
      "text/plain": [
       "       total_images  last_price  total_area first_day_exposition  rooms  \\\n",
       "23694             9   9700000.0      133.81  2017-03-21T00:00:00      3   \n",
       "23695            14   3100000.0       59.00  2018-01-15T00:00:00      3   \n",
       "23696            18   2500000.0       56.70  2018-02-11T00:00:00      2   \n",
       "23697            13  11475000.0       76.75  2017-03-28T00:00:00      2   \n",
       "23698             4   1350000.0       32.30  2017-07-21T00:00:00      1   \n",
       "\n",
       "       ceiling_height  floors_total  living_area  floor is_apartment  ...  \\\n",
       "23694             3.7           5.0         73.3      3          NaN  ...   \n",
       "23695             NaN           5.0         38.0      4          NaN  ...   \n",
       "23696             NaN           3.0         29.7      1          NaN  ...   \n",
       "23697             3.0          17.0          NaN     12          NaN  ...   \n",
       "23698             2.5           5.0         12.3      1          NaN  ...   \n",
       "\n",
       "       kitchen_area  balcony        locality_name  airports_nearest  \\\n",
       "23694         13.83      NaN      Санкт-Петербург           24665.0   \n",
       "23695          8.50      NaN                Тосно               NaN   \n",
       "23696           NaN      NaN     село Рождествено               NaN   \n",
       "23697         23.30      2.0      Санкт-Петербург           39140.0   \n",
       "23698          9.00      NaN  поселок Новый Учхоз               NaN   \n",
       "\n",
       "      cityCenters_nearest  parks_around3000  parks_nearest  ponds_around3000  \\\n",
       "23694              4232.0               1.0          796.0               3.0   \n",
       "23695                 NaN               NaN            NaN               NaN   \n",
       "23696                 NaN               NaN            NaN               NaN   \n",
       "23697             10364.0               2.0          173.0               3.0   \n",
       "23698                 NaN               NaN            NaN               NaN   \n",
       "\n",
       "       ponds_nearest  days_exposition  \n",
       "23694          381.0              NaN  \n",
       "23695            NaN             45.0  \n",
       "23696            NaN              NaN  \n",
       "23697          196.0            602.0  \n",
       "23698            NaN              NaN  \n",
       "\n",
       "[5 rows x 22 columns]"
      ]
     },
     "execution_count": 5,
     "metadata": {},
     "output_type": "execute_result"
    }
   ],
   "source": [
    "df.tail()"
   ]
  },
  {
   "cell_type": "markdown",
   "metadata": {},
   "source": [
    "При первоначальном осмотре данных выявлены следующие проблемы:\n",
    "* Некоторые столбцы имеют некорректные названия (например, cityCenters_nearest)\n",
    "* Порядок столбцов неудобен для просмотра (например, столбцы с площадью разнесены далеко друг от друга)\n",
    "* Типы данных требуют изменения (например, столбцы first_day_exposition и is_apartment имеют тип object)\n",
    "* Встречаются пропущенные данные (например, в столбце is_apartment всего 2775 записей)\n",
    "* Возможно, встречаются дубликаты (вероятно, в столбце locality_name)"
   ]
  },
  {
   "cell_type": "markdown",
   "metadata": {},
   "source": [
    "### Изменение названий и порядка столбцов"
   ]
  },
  {
   "cell_type": "markdown",
   "metadata": {},
   "source": [
    "Некоторые колонки имеют некорректные названия, лучше их привести к \"змеиному регистру\""
   ]
  },
  {
   "cell_type": "code",
   "execution_count": 6,
   "metadata": {},
   "outputs": [],
   "source": [
    "df.rename(columns = \n",
    "          {'cityCenters_nearest' : 'city_centers_nearest', \n",
    "           'parks_around3000' : 'parks_around_3000', \n",
    "           'ponds_around3000' : 'ponds_around_3000'\n",
    "          }, inplace = True)"
   ]
  },
  {
   "cell_type": "markdown",
   "metadata": {},
   "source": [
    "Также имеет смысл поменять порядок столбцов для лучшего визуального восприятия информации"
   ]
  },
  {
   "cell_type": "code",
   "execution_count": 7,
   "metadata": {},
   "outputs": [],
   "source": [
    "df = df.reindex(columns=['locality_name', 'last_price', 'first_day_exposition', 'days_exposition', 'total_images',\n",
    "                         'rooms', 'floor', 'floors_total', 'total_area', 'living_area', 'kitchen_area', \n",
    "                         'studio', 'is_apartment', 'open_plan', 'ceiling_height', 'balcony', \n",
    "                         'airports_nearest', 'city_centers_nearest', 'parks_around_3000', 'parks_nearest', \n",
    "                         'ponds_around_3000', 'ponds_nearest'])"
   ]
  },
  {
   "cell_type": "code",
   "execution_count": 8,
   "metadata": {},
   "outputs": [
    {
     "data": {
      "text/html": [
       "<div>\n",
       "<style scoped>\n",
       "    .dataframe tbody tr th:only-of-type {\n",
       "        vertical-align: middle;\n",
       "    }\n",
       "\n",
       "    .dataframe tbody tr th {\n",
       "        vertical-align: top;\n",
       "    }\n",
       "\n",
       "    .dataframe thead th {\n",
       "        text-align: right;\n",
       "    }\n",
       "</style>\n",
       "<table border=\"1\" class=\"dataframe\">\n",
       "  <thead>\n",
       "    <tr style=\"text-align: right;\">\n",
       "      <th></th>\n",
       "      <th>locality_name</th>\n",
       "      <th>last_price</th>\n",
       "      <th>first_day_exposition</th>\n",
       "      <th>days_exposition</th>\n",
       "      <th>total_images</th>\n",
       "      <th>rooms</th>\n",
       "      <th>floor</th>\n",
       "      <th>floors_total</th>\n",
       "      <th>total_area</th>\n",
       "      <th>living_area</th>\n",
       "      <th>...</th>\n",
       "      <th>is_apartment</th>\n",
       "      <th>open_plan</th>\n",
       "      <th>ceiling_height</th>\n",
       "      <th>balcony</th>\n",
       "      <th>airports_nearest</th>\n",
       "      <th>city_centers_nearest</th>\n",
       "      <th>parks_around_3000</th>\n",
       "      <th>parks_nearest</th>\n",
       "      <th>ponds_around_3000</th>\n",
       "      <th>ponds_nearest</th>\n",
       "    </tr>\n",
       "  </thead>\n",
       "  <tbody>\n",
       "    <tr>\n",
       "      <td>0</td>\n",
       "      <td>Санкт-Петербург</td>\n",
       "      <td>13000000.0</td>\n",
       "      <td>2019-03-07T00:00:00</td>\n",
       "      <td>NaN</td>\n",
       "      <td>20</td>\n",
       "      <td>3</td>\n",
       "      <td>8</td>\n",
       "      <td>16.0</td>\n",
       "      <td>108.0</td>\n",
       "      <td>51.0</td>\n",
       "      <td>...</td>\n",
       "      <td>NaN</td>\n",
       "      <td>False</td>\n",
       "      <td>2.70</td>\n",
       "      <td>NaN</td>\n",
       "      <td>18863.0</td>\n",
       "      <td>16028.0</td>\n",
       "      <td>1.0</td>\n",
       "      <td>482.0</td>\n",
       "      <td>2.0</td>\n",
       "      <td>755.0</td>\n",
       "    </tr>\n",
       "    <tr>\n",
       "      <td>1</td>\n",
       "      <td>посёлок Шушары</td>\n",
       "      <td>3350000.0</td>\n",
       "      <td>2018-12-04T00:00:00</td>\n",
       "      <td>81.0</td>\n",
       "      <td>7</td>\n",
       "      <td>1</td>\n",
       "      <td>1</td>\n",
       "      <td>11.0</td>\n",
       "      <td>40.4</td>\n",
       "      <td>18.6</td>\n",
       "      <td>...</td>\n",
       "      <td>NaN</td>\n",
       "      <td>False</td>\n",
       "      <td>NaN</td>\n",
       "      <td>2.0</td>\n",
       "      <td>12817.0</td>\n",
       "      <td>18603.0</td>\n",
       "      <td>0.0</td>\n",
       "      <td>NaN</td>\n",
       "      <td>0.0</td>\n",
       "      <td>NaN</td>\n",
       "    </tr>\n",
       "    <tr>\n",
       "      <td>2</td>\n",
       "      <td>Санкт-Петербург</td>\n",
       "      <td>5196000.0</td>\n",
       "      <td>2015-08-20T00:00:00</td>\n",
       "      <td>558.0</td>\n",
       "      <td>10</td>\n",
       "      <td>2</td>\n",
       "      <td>4</td>\n",
       "      <td>5.0</td>\n",
       "      <td>56.0</td>\n",
       "      <td>34.3</td>\n",
       "      <td>...</td>\n",
       "      <td>NaN</td>\n",
       "      <td>False</td>\n",
       "      <td>NaN</td>\n",
       "      <td>0.0</td>\n",
       "      <td>21741.0</td>\n",
       "      <td>13933.0</td>\n",
       "      <td>1.0</td>\n",
       "      <td>90.0</td>\n",
       "      <td>2.0</td>\n",
       "      <td>574.0</td>\n",
       "    </tr>\n",
       "    <tr>\n",
       "      <td>3</td>\n",
       "      <td>Санкт-Петербург</td>\n",
       "      <td>64900000.0</td>\n",
       "      <td>2015-07-24T00:00:00</td>\n",
       "      <td>424.0</td>\n",
       "      <td>0</td>\n",
       "      <td>3</td>\n",
       "      <td>9</td>\n",
       "      <td>14.0</td>\n",
       "      <td>159.0</td>\n",
       "      <td>NaN</td>\n",
       "      <td>...</td>\n",
       "      <td>NaN</td>\n",
       "      <td>False</td>\n",
       "      <td>NaN</td>\n",
       "      <td>0.0</td>\n",
       "      <td>28098.0</td>\n",
       "      <td>6800.0</td>\n",
       "      <td>2.0</td>\n",
       "      <td>84.0</td>\n",
       "      <td>3.0</td>\n",
       "      <td>234.0</td>\n",
       "    </tr>\n",
       "    <tr>\n",
       "      <td>4</td>\n",
       "      <td>Санкт-Петербург</td>\n",
       "      <td>10000000.0</td>\n",
       "      <td>2018-06-19T00:00:00</td>\n",
       "      <td>121.0</td>\n",
       "      <td>2</td>\n",
       "      <td>2</td>\n",
       "      <td>13</td>\n",
       "      <td>14.0</td>\n",
       "      <td>100.0</td>\n",
       "      <td>32.0</td>\n",
       "      <td>...</td>\n",
       "      <td>NaN</td>\n",
       "      <td>False</td>\n",
       "      <td>3.03</td>\n",
       "      <td>NaN</td>\n",
       "      <td>31856.0</td>\n",
       "      <td>8098.0</td>\n",
       "      <td>2.0</td>\n",
       "      <td>112.0</td>\n",
       "      <td>1.0</td>\n",
       "      <td>48.0</td>\n",
       "    </tr>\n",
       "  </tbody>\n",
       "</table>\n",
       "<p>5 rows × 22 columns</p>\n",
       "</div>"
      ],
      "text/plain": [
       "     locality_name  last_price first_day_exposition  days_exposition  \\\n",
       "0  Санкт-Петербург  13000000.0  2019-03-07T00:00:00              NaN   \n",
       "1   посёлок Шушары   3350000.0  2018-12-04T00:00:00             81.0   \n",
       "2  Санкт-Петербург   5196000.0  2015-08-20T00:00:00            558.0   \n",
       "3  Санкт-Петербург  64900000.0  2015-07-24T00:00:00            424.0   \n",
       "4  Санкт-Петербург  10000000.0  2018-06-19T00:00:00            121.0   \n",
       "\n",
       "   total_images  rooms  floor  floors_total  total_area  living_area  ...  \\\n",
       "0            20      3      8          16.0       108.0         51.0  ...   \n",
       "1             7      1      1          11.0        40.4         18.6  ...   \n",
       "2            10      2      4           5.0        56.0         34.3  ...   \n",
       "3             0      3      9          14.0       159.0          NaN  ...   \n",
       "4             2      2     13          14.0       100.0         32.0  ...   \n",
       "\n",
       "   is_apartment  open_plan ceiling_height  balcony  airports_nearest  \\\n",
       "0           NaN      False           2.70      NaN           18863.0   \n",
       "1           NaN      False            NaN      2.0           12817.0   \n",
       "2           NaN      False            NaN      0.0           21741.0   \n",
       "3           NaN      False            NaN      0.0           28098.0   \n",
       "4           NaN      False           3.03      NaN           31856.0   \n",
       "\n",
       "   city_centers_nearest  parks_around_3000  parks_nearest  ponds_around_3000  \\\n",
       "0               16028.0                1.0          482.0                2.0   \n",
       "1               18603.0                0.0            NaN                0.0   \n",
       "2               13933.0                1.0           90.0                2.0   \n",
       "3                6800.0                2.0           84.0                3.0   \n",
       "4                8098.0                2.0          112.0                1.0   \n",
       "\n",
       "   ponds_nearest  \n",
       "0          755.0  \n",
       "1            NaN  \n",
       "2          574.0  \n",
       "3          234.0  \n",
       "4           48.0  \n",
       "\n",
       "[5 rows x 22 columns]"
      ]
     },
     "execution_count": 8,
     "metadata": {},
     "output_type": "execute_result"
    }
   ],
   "source": [
    "df.head()"
   ]
  },
  {
   "cell_type": "markdown",
   "metadata": {},
   "source": [
    "## Предобработка данных"
   ]
  },
  {
   "cell_type": "markdown",
   "metadata": {},
   "source": [
    "1. Определите и изучите пропущенные значения:\n",
    "  * Для некоторых пропущенных значений можно предположить логичную замену. Например, если человек не указал число балконов — скорее всего, их нет. Такие пропуски правильно заменить на 0. Для других типов данных нет подходящего значения на замену. В этом случае правильно оставить эти значения пустыми. Отсутствие значения — тоже важный сигнал, который не нужно прятать.\n",
    "  * Заполните пропуски, где это уместно. Опишите, почему вы решили заполнить пропуски именно в этих столбцах и как выбрали значения.\n",
    "  * Укажите причины, которые могли привести к пропускам в данных.\n",
    "2. Приведите данные к нужным типам:\n",
    "  * Поясните, в каких столбцах нужно изменить тип данных и почему."
   ]
  },
  {
   "cell_type": "markdown",
   "metadata": {},
   "source": [
    "Оценим процентное соотношение пропущенных данных в каждом столбце"
   ]
  },
  {
   "cell_type": "code",
   "execution_count": 9,
   "metadata": {},
   "outputs": [
    {
     "data": {
      "text/plain": [
       "last_price               0.00\n",
       "first_day_exposition     0.00\n",
       "open_plan                0.00\n",
       "total_images             0.00\n",
       "rooms                    0.00\n",
       "floor                    0.00\n",
       "total_area               0.00\n",
       "studio                   0.00\n",
       "locality_name            0.21\n",
       "floors_total             0.36\n",
       "living_area              8.03\n",
       "kitchen_area             9.61\n",
       "days_exposition         13.42\n",
       "parks_around_3000       23.28\n",
       "ponds_around_3000       23.28\n",
       "city_centers_nearest    23.29\n",
       "airports_nearest        23.38\n",
       "ceiling_height          38.80\n",
       "balcony                 48.61\n",
       "ponds_nearest           61.56\n",
       "parks_nearest           65.91\n",
       "is_apartment            88.29\n",
       "dtype: float64"
      ]
     },
     "execution_count": 9,
     "metadata": {},
     "output_type": "execute_result"
    }
   ],
   "source": [
    "(100 * df.isna().sum().sort_values() / df.shape[0]).round(2)"
   ]
  },
  {
   "cell_type": "markdown",
   "metadata": {},
   "source": [
    "Ряд столбцов вообще не имеет пропусков (нужно проверить, чтобы убедиться в этом)  \n",
    "У некоторых столбцов число пропусков более 50%, скорее всего, если данные не указаны, подразумевается отсутствие (балконов, парков и водоемов рядом, а также квартира не является апартаментами)"
   ]
  },
  {
   "cell_type": "markdown",
   "metadata": {},
   "source": [
    "### Обработка пропусков и преобразование типов данных"
   ]
  },
  {
   "cell_type": "markdown",
   "metadata": {},
   "source": [
    "Проверим каждый столбец, при необходимости обработаем явные пропуски и проверим неявные пропуски. Также преобразуем типы данные там, где это целесообразно."
   ]
  },
  {
   "cell_type": "markdown",
   "metadata": {},
   "source": [
    "#### Общая информация о лоте"
   ]
  },
  {
   "cell_type": "markdown",
   "metadata": {},
   "source": [
    "##### locality_name"
   ]
  },
  {
   "cell_type": "code",
   "execution_count": 10,
   "metadata": {},
   "outputs": [
    {
     "data": {
      "text/plain": [
       "count               23650\n",
       "unique                364\n",
       "top       Санкт-Петербург\n",
       "freq                15721\n",
       "Name: locality_name, dtype: object"
      ]
     },
     "execution_count": 10,
     "metadata": {},
     "output_type": "execute_result"
    }
   ],
   "source": [
    "df['locality_name'].describe()"
   ]
  },
  {
   "cell_type": "code",
   "execution_count": 11,
   "metadata": {
    "scrolled": true
   },
   "outputs": [
    {
     "data": {
      "text/plain": [
       "49"
      ]
     },
     "execution_count": 11,
     "metadata": {},
     "output_type": "execute_result"
    }
   ],
   "source": [
    "len(df[df['locality_name'].isna()])"
   ]
  },
  {
   "cell_type": "code",
   "execution_count": 12,
   "metadata": {},
   "outputs": [
    {
     "data": {
      "text/html": [
       "<div>\n",
       "<style scoped>\n",
       "    .dataframe tbody tr th:only-of-type {\n",
       "        vertical-align: middle;\n",
       "    }\n",
       "\n",
       "    .dataframe tbody tr th {\n",
       "        vertical-align: top;\n",
       "    }\n",
       "\n",
       "    .dataframe thead th {\n",
       "        text-align: right;\n",
       "    }\n",
       "</style>\n",
       "<table border=\"1\" class=\"dataframe\">\n",
       "  <thead>\n",
       "    <tr style=\"text-align: right;\">\n",
       "      <th></th>\n",
       "      <th>locality_name</th>\n",
       "      <th>last_price</th>\n",
       "      <th>first_day_exposition</th>\n",
       "      <th>days_exposition</th>\n",
       "      <th>total_images</th>\n",
       "      <th>rooms</th>\n",
       "      <th>floor</th>\n",
       "      <th>floors_total</th>\n",
       "      <th>total_area</th>\n",
       "      <th>living_area</th>\n",
       "      <th>...</th>\n",
       "      <th>is_apartment</th>\n",
       "      <th>open_plan</th>\n",
       "      <th>ceiling_height</th>\n",
       "      <th>balcony</th>\n",
       "      <th>airports_nearest</th>\n",
       "      <th>city_centers_nearest</th>\n",
       "      <th>parks_around_3000</th>\n",
       "      <th>parks_nearest</th>\n",
       "      <th>ponds_around_3000</th>\n",
       "      <th>ponds_nearest</th>\n",
       "    </tr>\n",
       "  </thead>\n",
       "  <tbody>\n",
       "    <tr>\n",
       "      <td>1097</td>\n",
       "      <td>NaN</td>\n",
       "      <td>8600000.0</td>\n",
       "      <td>2016-04-15T00:00:00</td>\n",
       "      <td>147.0</td>\n",
       "      <td>3</td>\n",
       "      <td>3</td>\n",
       "      <td>2</td>\n",
       "      <td>5.0</td>\n",
       "      <td>81.7</td>\n",
       "      <td>50.8</td>\n",
       "      <td>...</td>\n",
       "      <td>NaN</td>\n",
       "      <td>False</td>\n",
       "      <td>3.55</td>\n",
       "      <td>0.0</td>\n",
       "      <td>23478.0</td>\n",
       "      <td>4258.0</td>\n",
       "      <td>0.0</td>\n",
       "      <td>NaN</td>\n",
       "      <td>0.0</td>\n",
       "      <td>NaN</td>\n",
       "    </tr>\n",
       "    <tr>\n",
       "      <td>2033</td>\n",
       "      <td>NaN</td>\n",
       "      <td>5398000.0</td>\n",
       "      <td>2017-05-30T00:00:00</td>\n",
       "      <td>34.0</td>\n",
       "      <td>6</td>\n",
       "      <td>3</td>\n",
       "      <td>2</td>\n",
       "      <td>4.0</td>\n",
       "      <td>80.0</td>\n",
       "      <td>42.6</td>\n",
       "      <td>...</td>\n",
       "      <td>NaN</td>\n",
       "      <td>False</td>\n",
       "      <td>NaN</td>\n",
       "      <td>0.0</td>\n",
       "      <td>NaN</td>\n",
       "      <td>NaN</td>\n",
       "      <td>NaN</td>\n",
       "      <td>NaN</td>\n",
       "      <td>NaN</td>\n",
       "      <td>NaN</td>\n",
       "    </tr>\n",
       "    <tr>\n",
       "      <td>2603</td>\n",
       "      <td>NaN</td>\n",
       "      <td>3351765.0</td>\n",
       "      <td>2015-09-20T00:00:00</td>\n",
       "      <td>276.0</td>\n",
       "      <td>20</td>\n",
       "      <td>1</td>\n",
       "      <td>3</td>\n",
       "      <td>24.0</td>\n",
       "      <td>42.7</td>\n",
       "      <td>15.6</td>\n",
       "      <td>...</td>\n",
       "      <td>NaN</td>\n",
       "      <td>False</td>\n",
       "      <td>NaN</td>\n",
       "      <td>0.0</td>\n",
       "      <td>22041.0</td>\n",
       "      <td>17369.0</td>\n",
       "      <td>0.0</td>\n",
       "      <td>NaN</td>\n",
       "      <td>1.0</td>\n",
       "      <td>374.0</td>\n",
       "    </tr>\n",
       "    <tr>\n",
       "      <td>2632</td>\n",
       "      <td>NaN</td>\n",
       "      <td>5130593.0</td>\n",
       "      <td>2015-10-11T00:00:00</td>\n",
       "      <td>256.0</td>\n",
       "      <td>2</td>\n",
       "      <td>2</td>\n",
       "      <td>21</td>\n",
       "      <td>24.0</td>\n",
       "      <td>62.4</td>\n",
       "      <td>33.1</td>\n",
       "      <td>...</td>\n",
       "      <td>NaN</td>\n",
       "      <td>False</td>\n",
       "      <td>NaN</td>\n",
       "      <td>0.0</td>\n",
       "      <td>22041.0</td>\n",
       "      <td>17369.0</td>\n",
       "      <td>0.0</td>\n",
       "      <td>NaN</td>\n",
       "      <td>1.0</td>\n",
       "      <td>374.0</td>\n",
       "    </tr>\n",
       "    <tr>\n",
       "      <td>3574</td>\n",
       "      <td>NaN</td>\n",
       "      <td>4200000.0</td>\n",
       "      <td>2016-05-28T00:00:00</td>\n",
       "      <td>45.0</td>\n",
       "      <td>10</td>\n",
       "      <td>2</td>\n",
       "      <td>5</td>\n",
       "      <td>5.0</td>\n",
       "      <td>46.5</td>\n",
       "      <td>30.8</td>\n",
       "      <td>...</td>\n",
       "      <td>NaN</td>\n",
       "      <td>False</td>\n",
       "      <td>NaN</td>\n",
       "      <td>0.0</td>\n",
       "      <td>27419.0</td>\n",
       "      <td>8127.0</td>\n",
       "      <td>0.0</td>\n",
       "      <td>NaN</td>\n",
       "      <td>1.0</td>\n",
       "      <td>603.0</td>\n",
       "    </tr>\n",
       "  </tbody>\n",
       "</table>\n",
       "<p>5 rows × 22 columns</p>\n",
       "</div>"
      ],
      "text/plain": [
       "     locality_name  last_price first_day_exposition  days_exposition  \\\n",
       "1097           NaN   8600000.0  2016-04-15T00:00:00            147.0   \n",
       "2033           NaN   5398000.0  2017-05-30T00:00:00             34.0   \n",
       "2603           NaN   3351765.0  2015-09-20T00:00:00            276.0   \n",
       "2632           NaN   5130593.0  2015-10-11T00:00:00            256.0   \n",
       "3574           NaN   4200000.0  2016-05-28T00:00:00             45.0   \n",
       "\n",
       "      total_images  rooms  floor  floors_total  total_area  living_area  ...  \\\n",
       "1097             3      3      2           5.0        81.7         50.8  ...   \n",
       "2033             6      3      2           4.0        80.0         42.6  ...   \n",
       "2603            20      1      3          24.0        42.7         15.6  ...   \n",
       "2632             2      2     21          24.0        62.4         33.1  ...   \n",
       "3574            10      2      5           5.0        46.5         30.8  ...   \n",
       "\n",
       "      is_apartment  open_plan ceiling_height  balcony  airports_nearest  \\\n",
       "1097           NaN      False           3.55      0.0           23478.0   \n",
       "2033           NaN      False            NaN      0.0               NaN   \n",
       "2603           NaN      False            NaN      0.0           22041.0   \n",
       "2632           NaN      False            NaN      0.0           22041.0   \n",
       "3574           NaN      False            NaN      0.0           27419.0   \n",
       "\n",
       "      city_centers_nearest  parks_around_3000  parks_nearest  \\\n",
       "1097                4258.0                0.0            NaN   \n",
       "2033                   NaN                NaN            NaN   \n",
       "2603               17369.0                0.0            NaN   \n",
       "2632               17369.0                0.0            NaN   \n",
       "3574                8127.0                0.0            NaN   \n",
       "\n",
       "      ponds_around_3000  ponds_nearest  \n",
       "1097                0.0            NaN  \n",
       "2033                NaN            NaN  \n",
       "2603                1.0          374.0  \n",
       "2632                1.0          374.0  \n",
       "3574                1.0          603.0  \n",
       "\n",
       "[5 rows x 22 columns]"
      ]
     },
     "execution_count": 12,
     "metadata": {},
     "output_type": "execute_result"
    }
   ],
   "source": [
    "df[df['locality_name'].isna()].head()"
   ]
  },
  {
   "cell_type": "markdown",
   "metadata": {},
   "source": [
    "Так как нет возможности восстановить эти данные, но они могут мешать анализу, лучше их удалить"
   ]
  },
  {
   "cell_type": "code",
   "execution_count": 13,
   "metadata": {},
   "outputs": [
    {
     "data": {
      "text/plain": [
       "0"
      ]
     },
     "execution_count": 13,
     "metadata": {},
     "output_type": "execute_result"
    }
   ],
   "source": [
    "df = df.dropna(subset=['locality_name'])\n",
    "len(df[df['locality_name'].isna()])"
   ]
  },
  {
   "cell_type": "markdown",
   "metadata": {},
   "source": [
    "##### last_price"
   ]
  },
  {
   "cell_type": "code",
   "execution_count": 14,
   "metadata": {
    "scrolled": true
   },
   "outputs": [
    {
     "data": {
      "text/plain": [
       "0"
      ]
     },
     "execution_count": 14,
     "metadata": {},
     "output_type": "execute_result"
    }
   ],
   "source": [
    "len(df[df['last_price'].isna()])"
   ]
  },
  {
   "cell_type": "code",
   "execution_count": 15,
   "metadata": {},
   "outputs": [
    {
     "data": {
      "text/plain": [
       "count        23650.000000\n",
       "mean       6541126.897928\n",
       "std       10896399.175038\n",
       "min          12190.000000\n",
       "25%        3400000.000000\n",
       "50%        4650000.000000\n",
       "75%        6799000.000000\n",
       "max      763000000.000000\n",
       "Name: last_price, dtype: object"
      ]
     },
     "execution_count": 15,
     "metadata": {},
     "output_type": "execute_result"
    }
   ],
   "source": [
    "df['last_price'].describe().apply(lambda x: format(x, 'f'))"
   ]
  },
  {
   "cell_type": "markdown",
   "metadata": {},
   "source": [
    "Пропусков нет, но есть странное значение 12190  \n",
    "Посмотрим повнимательнее на эту квартиру"
   ]
  },
  {
   "cell_type": "code",
   "execution_count": 16,
   "metadata": {},
   "outputs": [
    {
     "data": {
      "text/html": [
       "<div>\n",
       "<style scoped>\n",
       "    .dataframe tbody tr th:only-of-type {\n",
       "        vertical-align: middle;\n",
       "    }\n",
       "\n",
       "    .dataframe tbody tr th {\n",
       "        vertical-align: top;\n",
       "    }\n",
       "\n",
       "    .dataframe thead th {\n",
       "        text-align: right;\n",
       "    }\n",
       "</style>\n",
       "<table border=\"1\" class=\"dataframe\">\n",
       "  <thead>\n",
       "    <tr style=\"text-align: right;\">\n",
       "      <th></th>\n",
       "      <th>locality_name</th>\n",
       "      <th>last_price</th>\n",
       "      <th>first_day_exposition</th>\n",
       "      <th>days_exposition</th>\n",
       "      <th>total_images</th>\n",
       "      <th>rooms</th>\n",
       "      <th>floor</th>\n",
       "      <th>floors_total</th>\n",
       "      <th>total_area</th>\n",
       "      <th>living_area</th>\n",
       "      <th>...</th>\n",
       "      <th>is_apartment</th>\n",
       "      <th>open_plan</th>\n",
       "      <th>ceiling_height</th>\n",
       "      <th>balcony</th>\n",
       "      <th>airports_nearest</th>\n",
       "      <th>city_centers_nearest</th>\n",
       "      <th>parks_around_3000</th>\n",
       "      <th>parks_nearest</th>\n",
       "      <th>ponds_around_3000</th>\n",
       "      <th>ponds_nearest</th>\n",
       "    </tr>\n",
       "  </thead>\n",
       "  <tbody>\n",
       "    <tr>\n",
       "      <td>8793</td>\n",
       "      <td>Санкт-Петербург</td>\n",
       "      <td>12190.0</td>\n",
       "      <td>2019-03-20T00:00:00</td>\n",
       "      <td>8.0</td>\n",
       "      <td>7</td>\n",
       "      <td>2</td>\n",
       "      <td>25</td>\n",
       "      <td>25.0</td>\n",
       "      <td>109.0</td>\n",
       "      <td>32.0</td>\n",
       "      <td>...</td>\n",
       "      <td>NaN</td>\n",
       "      <td>False</td>\n",
       "      <td>2.75</td>\n",
       "      <td>NaN</td>\n",
       "      <td>36421.0</td>\n",
       "      <td>9176.0</td>\n",
       "      <td>1.0</td>\n",
       "      <td>805.0</td>\n",
       "      <td>0.0</td>\n",
       "      <td>NaN</td>\n",
       "    </tr>\n",
       "  </tbody>\n",
       "</table>\n",
       "<p>1 rows × 22 columns</p>\n",
       "</div>"
      ],
      "text/plain": [
       "        locality_name  last_price first_day_exposition  days_exposition  \\\n",
       "8793  Санкт-Петербург     12190.0  2019-03-20T00:00:00              8.0   \n",
       "\n",
       "      total_images  rooms  floor  floors_total  total_area  living_area  ...  \\\n",
       "8793             7      2     25          25.0       109.0         32.0  ...   \n",
       "\n",
       "      is_apartment  open_plan ceiling_height  balcony  airports_nearest  \\\n",
       "8793           NaN      False           2.75      NaN           36421.0   \n",
       "\n",
       "      city_centers_nearest  parks_around_3000  parks_nearest  \\\n",
       "8793                9176.0                1.0          805.0   \n",
       "\n",
       "      ponds_around_3000  ponds_nearest  \n",
       "8793                0.0            NaN  \n",
       "\n",
       "[1 rows x 22 columns]"
      ]
     },
     "execution_count": 16,
     "metadata": {},
     "output_type": "execute_result"
    }
   ],
   "source": [
    "df[df['last_price'] == 12190 ]"
   ]
  },
  {
   "cell_type": "markdown",
   "metadata": {},
   "source": [
    "Кажется, это опечатка, подразумевалось 12 млн 190 тысяч"
   ]
  },
  {
   "cell_type": "code",
   "execution_count": 17,
   "metadata": {},
   "outputs": [
    {
     "data": {
      "text/plain": [
       "count        23650.000000\n",
       "mean       6541641.815899\n",
       "std       10896378.367916\n",
       "min         430000.000000\n",
       "25%        3400000.000000\n",
       "50%        4650000.000000\n",
       "75%        6799000.000000\n",
       "max      763000000.000000\n",
       "Name: last_price, dtype: object"
      ]
     },
     "execution_count": 17,
     "metadata": {},
     "output_type": "execute_result"
    }
   ],
   "source": [
    "df.loc[(df['last_price'] == 12190), 'last_price'] = df['last_price'] * 1000\n",
    "\n",
    "df['last_price'].describe().apply(lambda x: format(x, 'f'))"
   ]
  },
  {
   "cell_type": "markdown",
   "metadata": {},
   "source": [
    "Для удобства переведем цены в миллионы"
   ]
  },
  {
   "cell_type": "code",
   "execution_count": 18,
   "metadata": {},
   "outputs": [
    {
     "data": {
      "text/html": [
       "<div>\n",
       "<style scoped>\n",
       "    .dataframe tbody tr th:only-of-type {\n",
       "        vertical-align: middle;\n",
       "    }\n",
       "\n",
       "    .dataframe tbody tr th {\n",
       "        vertical-align: top;\n",
       "    }\n",
       "\n",
       "    .dataframe thead th {\n",
       "        text-align: right;\n",
       "    }\n",
       "</style>\n",
       "<table border=\"1\" class=\"dataframe\">\n",
       "  <thead>\n",
       "    <tr style=\"text-align: right;\">\n",
       "      <th></th>\n",
       "      <th>locality_name</th>\n",
       "      <th>last_price</th>\n",
       "      <th>first_day_exposition</th>\n",
       "      <th>days_exposition</th>\n",
       "      <th>total_images</th>\n",
       "      <th>rooms</th>\n",
       "      <th>floor</th>\n",
       "      <th>floors_total</th>\n",
       "      <th>total_area</th>\n",
       "      <th>living_area</th>\n",
       "      <th>...</th>\n",
       "      <th>is_apartment</th>\n",
       "      <th>open_plan</th>\n",
       "      <th>ceiling_height</th>\n",
       "      <th>balcony</th>\n",
       "      <th>airports_nearest</th>\n",
       "      <th>city_centers_nearest</th>\n",
       "      <th>parks_around_3000</th>\n",
       "      <th>parks_nearest</th>\n",
       "      <th>ponds_around_3000</th>\n",
       "      <th>ponds_nearest</th>\n",
       "    </tr>\n",
       "  </thead>\n",
       "  <tbody>\n",
       "    <tr>\n",
       "      <td>0</td>\n",
       "      <td>Санкт-Петербург</td>\n",
       "      <td>13.000</td>\n",
       "      <td>2019-03-07T00:00:00</td>\n",
       "      <td>NaN</td>\n",
       "      <td>20</td>\n",
       "      <td>3</td>\n",
       "      <td>8</td>\n",
       "      <td>16.0</td>\n",
       "      <td>108.0</td>\n",
       "      <td>51.0</td>\n",
       "      <td>...</td>\n",
       "      <td>NaN</td>\n",
       "      <td>False</td>\n",
       "      <td>2.70</td>\n",
       "      <td>NaN</td>\n",
       "      <td>18863.0</td>\n",
       "      <td>16028.0</td>\n",
       "      <td>1.0</td>\n",
       "      <td>482.0</td>\n",
       "      <td>2.0</td>\n",
       "      <td>755.0</td>\n",
       "    </tr>\n",
       "    <tr>\n",
       "      <td>1</td>\n",
       "      <td>посёлок Шушары</td>\n",
       "      <td>3.350</td>\n",
       "      <td>2018-12-04T00:00:00</td>\n",
       "      <td>81.0</td>\n",
       "      <td>7</td>\n",
       "      <td>1</td>\n",
       "      <td>1</td>\n",
       "      <td>11.0</td>\n",
       "      <td>40.4</td>\n",
       "      <td>18.6</td>\n",
       "      <td>...</td>\n",
       "      <td>NaN</td>\n",
       "      <td>False</td>\n",
       "      <td>NaN</td>\n",
       "      <td>2.0</td>\n",
       "      <td>12817.0</td>\n",
       "      <td>18603.0</td>\n",
       "      <td>0.0</td>\n",
       "      <td>NaN</td>\n",
       "      <td>0.0</td>\n",
       "      <td>NaN</td>\n",
       "    </tr>\n",
       "    <tr>\n",
       "      <td>2</td>\n",
       "      <td>Санкт-Петербург</td>\n",
       "      <td>5.196</td>\n",
       "      <td>2015-08-20T00:00:00</td>\n",
       "      <td>558.0</td>\n",
       "      <td>10</td>\n",
       "      <td>2</td>\n",
       "      <td>4</td>\n",
       "      <td>5.0</td>\n",
       "      <td>56.0</td>\n",
       "      <td>34.3</td>\n",
       "      <td>...</td>\n",
       "      <td>NaN</td>\n",
       "      <td>False</td>\n",
       "      <td>NaN</td>\n",
       "      <td>0.0</td>\n",
       "      <td>21741.0</td>\n",
       "      <td>13933.0</td>\n",
       "      <td>1.0</td>\n",
       "      <td>90.0</td>\n",
       "      <td>2.0</td>\n",
       "      <td>574.0</td>\n",
       "    </tr>\n",
       "    <tr>\n",
       "      <td>3</td>\n",
       "      <td>Санкт-Петербург</td>\n",
       "      <td>64.900</td>\n",
       "      <td>2015-07-24T00:00:00</td>\n",
       "      <td>424.0</td>\n",
       "      <td>0</td>\n",
       "      <td>3</td>\n",
       "      <td>9</td>\n",
       "      <td>14.0</td>\n",
       "      <td>159.0</td>\n",
       "      <td>NaN</td>\n",
       "      <td>...</td>\n",
       "      <td>NaN</td>\n",
       "      <td>False</td>\n",
       "      <td>NaN</td>\n",
       "      <td>0.0</td>\n",
       "      <td>28098.0</td>\n",
       "      <td>6800.0</td>\n",
       "      <td>2.0</td>\n",
       "      <td>84.0</td>\n",
       "      <td>3.0</td>\n",
       "      <td>234.0</td>\n",
       "    </tr>\n",
       "    <tr>\n",
       "      <td>4</td>\n",
       "      <td>Санкт-Петербург</td>\n",
       "      <td>10.000</td>\n",
       "      <td>2018-06-19T00:00:00</td>\n",
       "      <td>121.0</td>\n",
       "      <td>2</td>\n",
       "      <td>2</td>\n",
       "      <td>13</td>\n",
       "      <td>14.0</td>\n",
       "      <td>100.0</td>\n",
       "      <td>32.0</td>\n",
       "      <td>...</td>\n",
       "      <td>NaN</td>\n",
       "      <td>False</td>\n",
       "      <td>3.03</td>\n",
       "      <td>NaN</td>\n",
       "      <td>31856.0</td>\n",
       "      <td>8098.0</td>\n",
       "      <td>2.0</td>\n",
       "      <td>112.0</td>\n",
       "      <td>1.0</td>\n",
       "      <td>48.0</td>\n",
       "    </tr>\n",
       "  </tbody>\n",
       "</table>\n",
       "<p>5 rows × 22 columns</p>\n",
       "</div>"
      ],
      "text/plain": [
       "     locality_name  last_price first_day_exposition  days_exposition  \\\n",
       "0  Санкт-Петербург      13.000  2019-03-07T00:00:00              NaN   \n",
       "1   посёлок Шушары       3.350  2018-12-04T00:00:00             81.0   \n",
       "2  Санкт-Петербург       5.196  2015-08-20T00:00:00            558.0   \n",
       "3  Санкт-Петербург      64.900  2015-07-24T00:00:00            424.0   \n",
       "4  Санкт-Петербург      10.000  2018-06-19T00:00:00            121.0   \n",
       "\n",
       "   total_images  rooms  floor  floors_total  total_area  living_area  ...  \\\n",
       "0            20      3      8          16.0       108.0         51.0  ...   \n",
       "1             7      1      1          11.0        40.4         18.6  ...   \n",
       "2            10      2      4           5.0        56.0         34.3  ...   \n",
       "3             0      3      9          14.0       159.0          NaN  ...   \n",
       "4             2      2     13          14.0       100.0         32.0  ...   \n",
       "\n",
       "   is_apartment  open_plan ceiling_height  balcony  airports_nearest  \\\n",
       "0           NaN      False           2.70      NaN           18863.0   \n",
       "1           NaN      False            NaN      2.0           12817.0   \n",
       "2           NaN      False            NaN      0.0           21741.0   \n",
       "3           NaN      False            NaN      0.0           28098.0   \n",
       "4           NaN      False           3.03      NaN           31856.0   \n",
       "\n",
       "   city_centers_nearest  parks_around_3000  parks_nearest  ponds_around_3000  \\\n",
       "0               16028.0                1.0          482.0                2.0   \n",
       "1               18603.0                0.0            NaN                0.0   \n",
       "2               13933.0                1.0           90.0                2.0   \n",
       "3                6800.0                2.0           84.0                3.0   \n",
       "4                8098.0                2.0          112.0                1.0   \n",
       "\n",
       "   ponds_nearest  \n",
       "0          755.0  \n",
       "1            NaN  \n",
       "2          574.0  \n",
       "3          234.0  \n",
       "4           48.0  \n",
       "\n",
       "[5 rows x 22 columns]"
      ]
     },
     "execution_count": 18,
     "metadata": {},
     "output_type": "execute_result"
    }
   ],
   "source": [
    "df['last_price'] = df['last_price'] / 1000000\n",
    "df.head()"
   ]
  },
  {
   "cell_type": "markdown",
   "metadata": {},
   "source": [
    "##### first_day_exposition"
   ]
  },
  {
   "cell_type": "code",
   "execution_count": 19,
   "metadata": {
    "scrolled": true
   },
   "outputs": [
    {
     "data": {
      "text/plain": [
       "0"
      ]
     },
     "execution_count": 19,
     "metadata": {},
     "output_type": "execute_result"
    }
   ],
   "source": [
    "len(df[df['first_day_exposition'].isna()])"
   ]
  },
  {
   "cell_type": "code",
   "execution_count": 20,
   "metadata": {},
   "outputs": [
    {
     "data": {
      "text/plain": [
       "count                   23650\n",
       "unique                   1491\n",
       "top       2018-02-01T00:00:00\n",
       "freq                      368\n",
       "Name: first_day_exposition, dtype: object"
      ]
     },
     "execution_count": 20,
     "metadata": {},
     "output_type": "execute_result"
    }
   ],
   "source": [
    "df['first_day_exposition'].describe()"
   ]
  },
  {
   "cell_type": "markdown",
   "metadata": {},
   "source": [
    "Пропусков нет, но данные необходимо преобразовать в тип date_time"
   ]
  },
  {
   "cell_type": "code",
   "execution_count": 21,
   "metadata": {},
   "outputs": [
    {
     "data": {
      "text/plain": [
       "count                   23650\n",
       "unique                   1491\n",
       "top       2018-02-01 00:00:00\n",
       "freq                      368\n",
       "first     2014-11-27 00:00:00\n",
       "last      2019-05-03 00:00:00\n",
       "Name: first_day_exposition, dtype: object"
      ]
     },
     "execution_count": 21,
     "metadata": {},
     "output_type": "execute_result"
    }
   ],
   "source": [
    "df['first_day_exposition']=pd.to_datetime(df['first_day_exposition'], format=\"%Y-%m-%dT%H:%M:%S\")\n",
    "df['first_day_exposition'].describe()"
   ]
  },
  {
   "cell_type": "markdown",
   "metadata": {},
   "source": [
    "##### days_exposition"
   ]
  },
  {
   "cell_type": "code",
   "execution_count": 22,
   "metadata": {},
   "outputs": [
    {
     "data": {
      "text/plain": [
       "count    20470.000000\n",
       "mean       180.753200\n",
       "std        219.777916\n",
       "min          1.000000\n",
       "25%         45.000000\n",
       "50%         95.000000\n",
       "75%        231.000000\n",
       "max       1580.000000\n",
       "Name: days_exposition, dtype: float64"
      ]
     },
     "execution_count": 22,
     "metadata": {},
     "output_type": "execute_result"
    }
   ],
   "source": [
    "df['days_exposition'].describe()"
   ]
  },
  {
   "cell_type": "code",
   "execution_count": 23,
   "metadata": {
    "scrolled": true
   },
   "outputs": [
    {
     "data": {
      "text/plain": [
       "3180"
      ]
     },
     "execution_count": 23,
     "metadata": {},
     "output_type": "execute_result"
    }
   ],
   "source": [
    "len(df[df['days_exposition'].isna()])"
   ]
  },
  {
   "cell_type": "markdown",
   "metadata": {},
   "source": [
    "Т.к данные имеются до 3 мая 2019, возможно, значения NaN там, где объявление еще не снято с публикации  \n",
    "Если квартира еще не продана, лучше не трогать эти данные, т.к может произойти искажение"
   ]
  },
  {
   "cell_type": "markdown",
   "metadata": {},
   "source": [
    "##### total_images"
   ]
  },
  {
   "cell_type": "code",
   "execution_count": 24,
   "metadata": {
    "scrolled": true
   },
   "outputs": [
    {
     "data": {
      "text/plain": [
       "0"
      ]
     },
     "execution_count": 24,
     "metadata": {},
     "output_type": "execute_result"
    }
   ],
   "source": [
    "len(df[df['total_images'].isna()]) #вывод количества тех строк, где есть NaN"
   ]
  },
  {
   "cell_type": "code",
   "execution_count": 25,
   "metadata": {},
   "outputs": [
    {
     "data": {
      "text/plain": [
       "count    23650.000000\n",
       "mean         9.862326\n",
       "std          5.682278\n",
       "min          0.000000\n",
       "25%          6.000000\n",
       "50%          9.000000\n",
       "75%         14.000000\n",
       "max         50.000000\n",
       "Name: total_images, dtype: float64"
      ]
     },
     "execution_count": 25,
     "metadata": {},
     "output_type": "execute_result"
    }
   ],
   "source": [
    "df['total_images'].describe() #описание значений сводной статистикой"
   ]
  },
  {
   "cell_type": "markdown",
   "metadata": {},
   "source": [
    "Пропусков нет"
   ]
  },
  {
   "cell_type": "markdown",
   "metadata": {},
   "source": [
    "#### Основная информация о квартире"
   ]
  },
  {
   "cell_type": "markdown",
   "metadata": {},
   "source": [
    "##### rooms   "
   ]
  },
  {
   "cell_type": "code",
   "execution_count": 26,
   "metadata": {
    "scrolled": true
   },
   "outputs": [
    {
     "data": {
      "text/plain": [
       "count    23650.000000\n",
       "mean         2.070106\n",
       "std          1.078620\n",
       "min          0.000000\n",
       "25%          1.000000\n",
       "50%          2.000000\n",
       "75%          3.000000\n",
       "max         19.000000\n",
       "Name: rooms, dtype: float64"
      ]
     },
     "execution_count": 26,
     "metadata": {},
     "output_type": "execute_result"
    }
   ],
   "source": [
    "df['rooms'].describe()"
   ]
  },
  {
   "cell_type": "code",
   "execution_count": 27,
   "metadata": {
    "scrolled": true
   },
   "outputs": [
    {
     "data": {
      "text/plain": [
       "0"
      ]
     },
     "execution_count": 27,
     "metadata": {},
     "output_type": "execute_result"
    }
   ],
   "source": [
    "len(df[df['rooms'].isna()])"
   ]
  },
  {
   "cell_type": "markdown",
   "metadata": {},
   "source": [
    "Пропусков нет"
   ]
  },
  {
   "cell_type": "markdown",
   "metadata": {},
   "source": [
    "##### floor"
   ]
  },
  {
   "cell_type": "code",
   "execution_count": 28,
   "metadata": {},
   "outputs": [
    {
     "data": {
      "text/plain": [
       "count    23650.000000\n",
       "mean         5.893277\n",
       "std          4.883317\n",
       "min          1.000000\n",
       "25%          2.000000\n",
       "50%          4.000000\n",
       "75%          8.000000\n",
       "max         33.000000\n",
       "Name: floor, dtype: float64"
      ]
     },
     "execution_count": 28,
     "metadata": {},
     "output_type": "execute_result"
    }
   ],
   "source": [
    "df['floor'].describe()"
   ]
  },
  {
   "cell_type": "code",
   "execution_count": 29,
   "metadata": {
    "scrolled": true
   },
   "outputs": [
    {
     "data": {
      "text/plain": [
       "0"
      ]
     },
     "execution_count": 29,
     "metadata": {},
     "output_type": "execute_result"
    }
   ],
   "source": [
    "len(df[df['floor'].isna()])"
   ]
  },
  {
   "cell_type": "markdown",
   "metadata": {},
   "source": [
    "Пропусков нет"
   ]
  },
  {
   "cell_type": "markdown",
   "metadata": {},
   "source": [
    "##### floors_total"
   ]
  },
  {
   "cell_type": "code",
   "execution_count": 30,
   "metadata": {
    "scrolled": true
   },
   "outputs": [
    {
     "data": {
      "text/plain": [
       "85"
      ]
     },
     "execution_count": 30,
     "metadata": {},
     "output_type": "execute_result"
    }
   ],
   "source": [
    "len(df[df['floors_total'].isna()])"
   ]
  },
  {
   "cell_type": "code",
   "execution_count": 31,
   "metadata": {},
   "outputs": [
    {
     "data": {
      "text/plain": [
       "count    23565.000000\n",
       "mean        10.675875\n",
       "std          6.594823\n",
       "min          1.000000\n",
       "25%          5.000000\n",
       "50%          9.000000\n",
       "75%         16.000000\n",
       "max         60.000000\n",
       "Name: floors_total, dtype: float64"
      ]
     },
     "execution_count": 31,
     "metadata": {},
     "output_type": "execute_result"
    }
   ],
   "source": [
    "df['floors_total'].describe()"
   ]
  },
  {
   "cell_type": "markdown",
   "metadata": {},
   "source": [
    "Проверим пропуски"
   ]
  },
  {
   "cell_type": "code",
   "execution_count": 32,
   "metadata": {},
   "outputs": [
    {
     "data": {
      "text/html": [
       "<div>\n",
       "<style scoped>\n",
       "    .dataframe tbody tr th:only-of-type {\n",
       "        vertical-align: middle;\n",
       "    }\n",
       "\n",
       "    .dataframe tbody tr th {\n",
       "        vertical-align: top;\n",
       "    }\n",
       "\n",
       "    .dataframe thead th {\n",
       "        text-align: right;\n",
       "    }\n",
       "</style>\n",
       "<table border=\"1\" class=\"dataframe\">\n",
       "  <thead>\n",
       "    <tr style=\"text-align: right;\">\n",
       "      <th></th>\n",
       "      <th>locality_name</th>\n",
       "      <th>last_price</th>\n",
       "      <th>first_day_exposition</th>\n",
       "      <th>days_exposition</th>\n",
       "      <th>total_images</th>\n",
       "      <th>rooms</th>\n",
       "      <th>floor</th>\n",
       "      <th>floors_total</th>\n",
       "      <th>total_area</th>\n",
       "      <th>living_area</th>\n",
       "      <th>...</th>\n",
       "      <th>is_apartment</th>\n",
       "      <th>open_plan</th>\n",
       "      <th>ceiling_height</th>\n",
       "      <th>balcony</th>\n",
       "      <th>airports_nearest</th>\n",
       "      <th>city_centers_nearest</th>\n",
       "      <th>parks_around_3000</th>\n",
       "      <th>parks_nearest</th>\n",
       "      <th>ponds_around_3000</th>\n",
       "      <th>ponds_nearest</th>\n",
       "    </tr>\n",
       "  </thead>\n",
       "  <tbody>\n",
       "    <tr>\n",
       "      <td>186</td>\n",
       "      <td>Санкт-Петербург</td>\n",
       "      <td>11.640000</td>\n",
       "      <td>2018-10-02</td>\n",
       "      <td>49.0</td>\n",
       "      <td>12</td>\n",
       "      <td>2</td>\n",
       "      <td>4</td>\n",
       "      <td>NaN</td>\n",
       "      <td>65.2</td>\n",
       "      <td>30.80</td>\n",
       "      <td>...</td>\n",
       "      <td>NaN</td>\n",
       "      <td>False</td>\n",
       "      <td>NaN</td>\n",
       "      <td>NaN</td>\n",
       "      <td>39197.0</td>\n",
       "      <td>12373.0</td>\n",
       "      <td>1.0</td>\n",
       "      <td>123.0</td>\n",
       "      <td>0.0</td>\n",
       "      <td>NaN</td>\n",
       "    </tr>\n",
       "    <tr>\n",
       "      <td>237</td>\n",
       "      <td>Санкт-Петербург</td>\n",
       "      <td>2.438033</td>\n",
       "      <td>2016-11-23</td>\n",
       "      <td>251.0</td>\n",
       "      <td>4</td>\n",
       "      <td>1</td>\n",
       "      <td>1</td>\n",
       "      <td>NaN</td>\n",
       "      <td>28.1</td>\n",
       "      <td>20.75</td>\n",
       "      <td>...</td>\n",
       "      <td>NaN</td>\n",
       "      <td>False</td>\n",
       "      <td>NaN</td>\n",
       "      <td>0.0</td>\n",
       "      <td>22041.0</td>\n",
       "      <td>17369.0</td>\n",
       "      <td>0.0</td>\n",
       "      <td>NaN</td>\n",
       "      <td>1.0</td>\n",
       "      <td>374.0</td>\n",
       "    </tr>\n",
       "    <tr>\n",
       "      <td>457</td>\n",
       "      <td>Санкт-Петербург</td>\n",
       "      <td>9.788348</td>\n",
       "      <td>2015-08-01</td>\n",
       "      <td>727.0</td>\n",
       "      <td>4</td>\n",
       "      <td>2</td>\n",
       "      <td>12</td>\n",
       "      <td>NaN</td>\n",
       "      <td>70.8</td>\n",
       "      <td>38.40</td>\n",
       "      <td>...</td>\n",
       "      <td>NaN</td>\n",
       "      <td>False</td>\n",
       "      <td>NaN</td>\n",
       "      <td>0.0</td>\n",
       "      <td>37364.0</td>\n",
       "      <td>8322.0</td>\n",
       "      <td>2.0</td>\n",
       "      <td>309.0</td>\n",
       "      <td>2.0</td>\n",
       "      <td>706.0</td>\n",
       "    </tr>\n",
       "    <tr>\n",
       "      <td>671</td>\n",
       "      <td>Санкт-Петербург</td>\n",
       "      <td>6.051191</td>\n",
       "      <td>2017-04-06</td>\n",
       "      <td>123.0</td>\n",
       "      <td>4</td>\n",
       "      <td>3</td>\n",
       "      <td>8</td>\n",
       "      <td>NaN</td>\n",
       "      <td>93.6</td>\n",
       "      <td>47.10</td>\n",
       "      <td>...</td>\n",
       "      <td>NaN</td>\n",
       "      <td>False</td>\n",
       "      <td>NaN</td>\n",
       "      <td>0.0</td>\n",
       "      <td>22041.0</td>\n",
       "      <td>17369.0</td>\n",
       "      <td>0.0</td>\n",
       "      <td>NaN</td>\n",
       "      <td>1.0</td>\n",
       "      <td>374.0</td>\n",
       "    </tr>\n",
       "    <tr>\n",
       "      <td>1757</td>\n",
       "      <td>Санкт-Петербург</td>\n",
       "      <td>3.600000</td>\n",
       "      <td>2017-04-22</td>\n",
       "      <td>77.0</td>\n",
       "      <td>5</td>\n",
       "      <td>1</td>\n",
       "      <td>9</td>\n",
       "      <td>NaN</td>\n",
       "      <td>39.0</td>\n",
       "      <td>NaN</td>\n",
       "      <td>...</td>\n",
       "      <td>NaN</td>\n",
       "      <td>False</td>\n",
       "      <td>NaN</td>\n",
       "      <td>0.0</td>\n",
       "      <td>22735.0</td>\n",
       "      <td>11618.0</td>\n",
       "      <td>1.0</td>\n",
       "      <td>835.0</td>\n",
       "      <td>1.0</td>\n",
       "      <td>652.0</td>\n",
       "    </tr>\n",
       "  </tbody>\n",
       "</table>\n",
       "<p>5 rows × 22 columns</p>\n",
       "</div>"
      ],
      "text/plain": [
       "        locality_name  last_price first_day_exposition  days_exposition  \\\n",
       "186   Санкт-Петербург   11.640000           2018-10-02             49.0   \n",
       "237   Санкт-Петербург    2.438033           2016-11-23            251.0   \n",
       "457   Санкт-Петербург    9.788348           2015-08-01            727.0   \n",
       "671   Санкт-Петербург    6.051191           2017-04-06            123.0   \n",
       "1757  Санкт-Петербург    3.600000           2017-04-22             77.0   \n",
       "\n",
       "      total_images  rooms  floor  floors_total  total_area  living_area  ...  \\\n",
       "186             12      2      4           NaN        65.2        30.80  ...   \n",
       "237              4      1      1           NaN        28.1        20.75  ...   \n",
       "457              4      2     12           NaN        70.8        38.40  ...   \n",
       "671              4      3      8           NaN        93.6        47.10  ...   \n",
       "1757             5      1      9           NaN        39.0          NaN  ...   \n",
       "\n",
       "      is_apartment  open_plan ceiling_height  balcony  airports_nearest  \\\n",
       "186            NaN      False            NaN      NaN           39197.0   \n",
       "237            NaN      False            NaN      0.0           22041.0   \n",
       "457            NaN      False            NaN      0.0           37364.0   \n",
       "671            NaN      False            NaN      0.0           22041.0   \n",
       "1757           NaN      False            NaN      0.0           22735.0   \n",
       "\n",
       "      city_centers_nearest  parks_around_3000  parks_nearest  \\\n",
       "186                12373.0                1.0          123.0   \n",
       "237                17369.0                0.0            NaN   \n",
       "457                 8322.0                2.0          309.0   \n",
       "671                17369.0                0.0            NaN   \n",
       "1757               11618.0                1.0          835.0   \n",
       "\n",
       "      ponds_around_3000  ponds_nearest  \n",
       "186                 0.0            NaN  \n",
       "237                 1.0          374.0  \n",
       "457                 2.0          706.0  \n",
       "671                 1.0          374.0  \n",
       "1757                1.0          652.0  \n",
       "\n",
       "[5 rows x 22 columns]"
      ]
     },
     "execution_count": 32,
     "metadata": {},
     "output_type": "execute_result"
    }
   ],
   "source": [
    "df[df['floors_total'].isna()].head()"
   ]
  },
  {
   "cell_type": "markdown",
   "metadata": {},
   "source": [
    "Похоже, что там, где этаж не указан, он последний (или единственный)"
   ]
  },
  {
   "cell_type": "code",
   "execution_count": 33,
   "metadata": {},
   "outputs": [],
   "source": [
    "df['floors_total'] = df['floors_total'].fillna(0)\n",
    "\n",
    "df.loc[(df['floors_total'] == 0), 'floors_total'] = df['floor']"
   ]
  },
  {
   "cell_type": "code",
   "execution_count": 34,
   "metadata": {
    "scrolled": true
   },
   "outputs": [
    {
     "data": {
      "text/plain": [
       "3180"
      ]
     },
     "execution_count": 34,
     "metadata": {},
     "output_type": "execute_result"
    }
   ],
   "source": [
    "len(df[df['days_exposition'].isna()])"
   ]
  },
  {
   "cell_type": "markdown",
   "metadata": {},
   "source": [
    "Также заменим тип данных"
   ]
  },
  {
   "cell_type": "code",
   "execution_count": 35,
   "metadata": {},
   "outputs": [],
   "source": [
    "df['floors_total'] = df['floors_total'].astype(int)"
   ]
  },
  {
   "cell_type": "markdown",
   "metadata": {},
   "source": [
    "##### total_area"
   ]
  },
  {
   "cell_type": "code",
   "execution_count": 36,
   "metadata": {
    "scrolled": true
   },
   "outputs": [
    {
     "data": {
      "text/plain": [
       "0"
      ]
     },
     "execution_count": 36,
     "metadata": {},
     "output_type": "execute_result"
    }
   ],
   "source": [
    "len(df[df['total_area'].isna()])"
   ]
  },
  {
   "cell_type": "code",
   "execution_count": 37,
   "metadata": {},
   "outputs": [
    {
     "data": {
      "text/plain": [
       "count    23650.000000\n",
       "mean        60.329069\n",
       "std         35.661808\n",
       "min         12.000000\n",
       "25%         40.000000\n",
       "50%         52.000000\n",
       "75%         69.700000\n",
       "max        900.000000\n",
       "Name: total_area, dtype: float64"
      ]
     },
     "execution_count": 37,
     "metadata": {},
     "output_type": "execute_result"
    }
   ],
   "source": [
    "df['total_area'].describe()"
   ]
  },
  {
   "cell_type": "markdown",
   "metadata": {},
   "source": [
    "Пропусков нет"
   ]
  },
  {
   "cell_type": "markdown",
   "metadata": {},
   "source": [
    "##### living_area"
   ]
  },
  {
   "cell_type": "code",
   "execution_count": 38,
   "metadata": {},
   "outputs": [
    {
     "data": {
      "text/plain": [
       "count    21752.000000\n",
       "mean        34.448356\n",
       "std         22.037664\n",
       "min          2.000000\n",
       "25%         18.600000\n",
       "50%         30.000000\n",
       "75%         42.300000\n",
       "max        409.700000\n",
       "Name: living_area, dtype: float64"
      ]
     },
     "execution_count": 38,
     "metadata": {},
     "output_type": "execute_result"
    }
   ],
   "source": [
    "df['living_area'].describe()"
   ]
  },
  {
   "cell_type": "code",
   "execution_count": 39,
   "metadata": {
    "scrolled": true
   },
   "outputs": [
    {
     "data": {
      "text/plain": [
       "1898"
      ]
     },
     "execution_count": 39,
     "metadata": {},
     "output_type": "execute_result"
    }
   ],
   "source": [
    "len(df[df['living_area'].isna()])"
   ]
  },
  {
   "cell_type": "markdown",
   "metadata": {},
   "source": [
    "На рынке представлены как маленькие студии, так и огромные квартиры  \n",
    "Но заменять пропуски нельзя, т.к есть связь между общей площадью и жилой  \n",
    "Заменим пока нулем, т.к его в значениях нет"
   ]
  },
  {
   "cell_type": "code",
   "execution_count": 40,
   "metadata": {},
   "outputs": [],
   "source": [
    "df['living_area'] = df['living_area'].fillna(0)"
   ]
  },
  {
   "cell_type": "code",
   "execution_count": 41,
   "metadata": {},
   "outputs": [
    {
     "data": {
      "text/plain": [
       "0"
      ]
     },
     "execution_count": 41,
     "metadata": {},
     "output_type": "execute_result"
    }
   ],
   "source": [
    "len(df[df['living_area'].isna()])"
   ]
  },
  {
   "cell_type": "markdown",
   "metadata": {},
   "source": [
    "##### kitchen_area"
   ]
  },
  {
   "cell_type": "code",
   "execution_count": 42,
   "metadata": {},
   "outputs": [
    {
     "data": {
      "text/plain": [
       "count    21381.000000\n",
       "mean        10.566403\n",
       "std          5.901753\n",
       "min          1.300000\n",
       "25%          7.000000\n",
       "50%          9.100000\n",
       "75%         12.000000\n",
       "max        112.000000\n",
       "Name: kitchen_area, dtype: float64"
      ]
     },
     "execution_count": 42,
     "metadata": {},
     "output_type": "execute_result"
    }
   ],
   "source": [
    "df['kitchen_area'].describe()"
   ]
  },
  {
   "cell_type": "code",
   "execution_count": 43,
   "metadata": {
    "scrolled": true
   },
   "outputs": [
    {
     "data": {
      "text/plain": [
       "2269"
      ]
     },
     "execution_count": 43,
     "metadata": {},
     "output_type": "execute_result"
    }
   ],
   "source": [
    "len(df[df['kitchen_area'].isna()])"
   ]
  },
  {
   "cell_type": "markdown",
   "metadata": {},
   "source": [
    "Ситуация такая же, как с living_area  \n",
    "Заменим нулем"
   ]
  },
  {
   "cell_type": "code",
   "execution_count": 44,
   "metadata": {},
   "outputs": [],
   "source": [
    "df['kitchen_area'] = df['kitchen_area'].fillna(0)"
   ]
  },
  {
   "cell_type": "code",
   "execution_count": 45,
   "metadata": {},
   "outputs": [
    {
     "data": {
      "text/plain": [
       "0"
      ]
     },
     "execution_count": 45,
     "metadata": {},
     "output_type": "execute_result"
    }
   ],
   "source": [
    "len(df[df['kitchen_area'].isna()])"
   ]
  },
  {
   "cell_type": "markdown",
   "metadata": {},
   "source": [
    "#### Дополнительная информация о квартире"
   ]
  },
  {
   "cell_type": "markdown",
   "metadata": {},
   "source": [
    "##### studio"
   ]
  },
  {
   "cell_type": "code",
   "execution_count": 46,
   "metadata": {},
   "outputs": [
    {
     "data": {
      "text/plain": [
       "count     23650\n",
       "unique        2\n",
       "top       False\n",
       "freq      23501\n",
       "Name: studio, dtype: object"
      ]
     },
     "execution_count": 46,
     "metadata": {},
     "output_type": "execute_result"
    }
   ],
   "source": [
    "df['studio'].describe()"
   ]
  },
  {
   "cell_type": "code",
   "execution_count": 47,
   "metadata": {
    "scrolled": true
   },
   "outputs": [
    {
     "data": {
      "text/plain": [
       "0"
      ]
     },
     "execution_count": 47,
     "metadata": {},
     "output_type": "execute_result"
    }
   ],
   "source": [
    "len(df[df['studio'].isna()])"
   ]
  },
  {
   "cell_type": "markdown",
   "metadata": {},
   "source": [
    "Тут все хорошо"
   ]
  },
  {
   "cell_type": "markdown",
   "metadata": {},
   "source": [
    "##### is_apartment"
   ]
  },
  {
   "cell_type": "code",
   "execution_count": 48,
   "metadata": {},
   "outputs": [
    {
     "data": {
      "text/plain": [
       "count      2760\n",
       "unique        2\n",
       "top       False\n",
       "freq       2710\n",
       "Name: is_apartment, dtype: object"
      ]
     },
     "execution_count": 48,
     "metadata": {},
     "output_type": "execute_result"
    }
   ],
   "source": [
    "df['is_apartment'].describe()"
   ]
  },
  {
   "cell_type": "code",
   "execution_count": 49,
   "metadata": {
    "scrolled": true
   },
   "outputs": [
    {
     "data": {
      "text/plain": [
       "20890"
      ]
     },
     "execution_count": 49,
     "metadata": {},
     "output_type": "execute_result"
    }
   ],
   "source": [
    "len(df[df['is_apartment'].isna()])"
   ]
  },
  {
   "cell_type": "markdown",
   "metadata": {},
   "source": [
    "Очень много пропусков, скорее всего, отсутствующие значения нужно заменять на False (иначе бы владельцы четко указали, что это апартаменты)  \n",
    "При этом тип данных - object, т.е для преобразования в bool нужно заменить значения  \n",
    "Все 'False' и NaN заменим на 0, а 'True' на 1 "
   ]
  },
  {
   "cell_type": "code",
   "execution_count": 50,
   "metadata": {},
   "outputs": [],
   "source": [
    "df['is_apartment'] = df['is_apartment'].fillna(0)\n",
    "df.loc[(df['is_apartment'] == 'False'), 'is_apartment'] = 0\n",
    "df.loc[(df['is_apartment'] == 'True'), 'is_apartment'] = 1"
   ]
  },
  {
   "cell_type": "markdown",
   "metadata": {},
   "source": [
    "Преобразуем в числовой тип с проверкой ошибок и заменой на NaN, а также проверим количество NaN после преобразования"
   ]
  },
  {
   "cell_type": "code",
   "execution_count": 51,
   "metadata": {},
   "outputs": [
    {
     "data": {
      "text/plain": [
       "0"
      ]
     },
     "execution_count": 51,
     "metadata": {},
     "output_type": "execute_result"
    }
   ],
   "source": [
    "df['is_apartment'] = pd.to_numeric(df['is_apartment'], errors='coerce')\n",
    "len(df[df['is_apartment'].isna()])"
   ]
  },
  {
   "cell_type": "markdown",
   "metadata": {},
   "source": [
    "Теперь можно спокойно переводить в bool"
   ]
  },
  {
   "cell_type": "code",
   "execution_count": 52,
   "metadata": {},
   "outputs": [],
   "source": [
    "df['is_apartment'] = df['is_apartment'].astype(bool)"
   ]
  },
  {
   "cell_type": "markdown",
   "metadata": {},
   "source": [
    "##### open_plan"
   ]
  },
  {
   "cell_type": "code",
   "execution_count": 53,
   "metadata": {},
   "outputs": [
    {
     "data": {
      "text/plain": [
       "count     23650\n",
       "unique        2\n",
       "top       False\n",
       "freq      23583\n",
       "Name: open_plan, dtype: object"
      ]
     },
     "execution_count": 53,
     "metadata": {},
     "output_type": "execute_result"
    }
   ],
   "source": [
    "df['open_plan'].describe()"
   ]
  },
  {
   "cell_type": "code",
   "execution_count": 54,
   "metadata": {
    "scrolled": true
   },
   "outputs": [
    {
     "data": {
      "text/plain": [
       "0"
      ]
     },
     "execution_count": 54,
     "metadata": {},
     "output_type": "execute_result"
    }
   ],
   "source": [
    "len(df[df['open_plan'].isna()])"
   ]
  },
  {
   "cell_type": "markdown",
   "metadata": {},
   "source": [
    "Все ок"
   ]
  },
  {
   "cell_type": "markdown",
   "metadata": {},
   "source": [
    "##### ceiling_height"
   ]
  },
  {
   "cell_type": "code",
   "execution_count": 55,
   "metadata": {
    "scrolled": true
   },
   "outputs": [
    {
     "data": {
      "text/plain": [
       "9160"
      ]
     },
     "execution_count": 55,
     "metadata": {},
     "output_type": "execute_result"
    }
   ],
   "source": [
    "len(df[df['ceiling_height'].isna()])"
   ]
  },
  {
   "cell_type": "code",
   "execution_count": 56,
   "metadata": {},
   "outputs": [
    {
     "data": {
      "text/plain": [
       "count    14490.000000\n",
       "mean         2.771287\n",
       "std          1.261593\n",
       "min          1.000000\n",
       "25%          2.520000\n",
       "50%          2.650000\n",
       "75%          2.800000\n",
       "max        100.000000\n",
       "Name: ceiling_height, dtype: float64"
      ]
     },
     "execution_count": 56,
     "metadata": {},
     "output_type": "execute_result"
    }
   ],
   "source": [
    "df['ceiling_height'].describe()"
   ]
  },
  {
   "cell_type": "markdown",
   "metadata": {},
   "source": [
    "Очень много пропусков, при этом есть выбивающиеся значения (1 и 100 метров)"
   ]
  },
  {
   "cell_type": "code",
   "execution_count": 159,
   "metadata": {},
   "outputs": [
    {
     "data": {
      "image/png": "[encoded data removed]",
      "text/plain": [
       "<Figure size 1080x360 with 1 Axes>"
      ]
     },
     "metadata": {
      "needs_background": "light"
     },
     "output_type": "display_data"
    }
   ],
   "source": [
    "df['ceiling_height'].hist(bins=5, range=(0,5), figsize=(15,5))\n",
    "plt.title('Распределение высоты потолка')\n",
    "plt.xlabel('Высота потолка')\n",
    "plt.ylabel('Количество')\n",
    "plt.show()"
   ]
  },
  {
   "cell_type": "markdown",
   "metadata": {},
   "source": [
    "Подавляющее число потолков имеют высоту от 2 до 3 метров, также есть значительная доля потолков от 3 до 4 метров"
   ]
  },
  {
   "cell_type": "markdown",
   "metadata": {},
   "source": [
    "Оценим минимальные значения"
   ]
  },
  {
   "cell_type": "code",
   "execution_count": 58,
   "metadata": {},
   "outputs": [
    {
     "data": {
      "text/html": [
       "<div>\n",
       "<style scoped>\n",
       "    .dataframe tbody tr th:only-of-type {\n",
       "        vertical-align: middle;\n",
       "    }\n",
       "\n",
       "    .dataframe tbody tr th {\n",
       "        vertical-align: top;\n",
       "    }\n",
       "\n",
       "    .dataframe thead th {\n",
       "        text-align: right;\n",
       "    }\n",
       "</style>\n",
       "<table border=\"1\" class=\"dataframe\">\n",
       "  <thead>\n",
       "    <tr style=\"text-align: right;\">\n",
       "      <th></th>\n",
       "      <th>locality_name</th>\n",
       "      <th>last_price</th>\n",
       "      <th>first_day_exposition</th>\n",
       "      <th>days_exposition</th>\n",
       "      <th>total_images</th>\n",
       "      <th>rooms</th>\n",
       "      <th>floor</th>\n",
       "      <th>floors_total</th>\n",
       "      <th>total_area</th>\n",
       "      <th>living_area</th>\n",
       "      <th>...</th>\n",
       "      <th>is_apartment</th>\n",
       "      <th>open_plan</th>\n",
       "      <th>ceiling_height</th>\n",
       "      <th>balcony</th>\n",
       "      <th>airports_nearest</th>\n",
       "      <th>city_centers_nearest</th>\n",
       "      <th>parks_around_3000</th>\n",
       "      <th>parks_nearest</th>\n",
       "      <th>ponds_around_3000</th>\n",
       "      <th>ponds_nearest</th>\n",
       "    </tr>\n",
       "  </thead>\n",
       "  <tbody>\n",
       "    <tr>\n",
       "      <td>22590</td>\n",
       "      <td>Санкт-Петербург</td>\n",
       "      <td>6.0</td>\n",
       "      <td>2018-10-31</td>\n",
       "      <td>13.0</td>\n",
       "      <td>16</td>\n",
       "      <td>2</td>\n",
       "      <td>7</td>\n",
       "      <td>12</td>\n",
       "      <td>55.0</td>\n",
       "      <td>32.4</td>\n",
       "      <td>...</td>\n",
       "      <td>False</td>\n",
       "      <td>False</td>\n",
       "      <td>1.00</td>\n",
       "      <td>NaN</td>\n",
       "      <td>33053.0</td>\n",
       "      <td>14217.0</td>\n",
       "      <td>2.0</td>\n",
       "      <td>293.0</td>\n",
       "      <td>2.0</td>\n",
       "      <td>289.0</td>\n",
       "    </tr>\n",
       "    <tr>\n",
       "      <td>5712</td>\n",
       "      <td>городской посёлок Мга</td>\n",
       "      <td>1.5</td>\n",
       "      <td>2017-08-14</td>\n",
       "      <td>248.0</td>\n",
       "      <td>5</td>\n",
       "      <td>2</td>\n",
       "      <td>1</td>\n",
       "      <td>2</td>\n",
       "      <td>42.8</td>\n",
       "      <td>27.5</td>\n",
       "      <td>...</td>\n",
       "      <td>False</td>\n",
       "      <td>False</td>\n",
       "      <td>1.20</td>\n",
       "      <td>NaN</td>\n",
       "      <td>NaN</td>\n",
       "      <td>NaN</td>\n",
       "      <td>NaN</td>\n",
       "      <td>NaN</td>\n",
       "      <td>NaN</td>\n",
       "      <td>NaN</td>\n",
       "    </tr>\n",
       "    <tr>\n",
       "      <td>16934</td>\n",
       "      <td>Санкт-Петербург</td>\n",
       "      <td>4.1</td>\n",
       "      <td>2017-10-17</td>\n",
       "      <td>71.0</td>\n",
       "      <td>5</td>\n",
       "      <td>1</td>\n",
       "      <td>5</td>\n",
       "      <td>37</td>\n",
       "      <td>40.0</td>\n",
       "      <td>17.4</td>\n",
       "      <td>...</td>\n",
       "      <td>False</td>\n",
       "      <td>False</td>\n",
       "      <td>1.75</td>\n",
       "      <td>NaN</td>\n",
       "      <td>18732.0</td>\n",
       "      <td>20444.0</td>\n",
       "      <td>0.0</td>\n",
       "      <td>NaN</td>\n",
       "      <td>3.0</td>\n",
       "      <td>80.0</td>\n",
       "    </tr>\n",
       "    <tr>\n",
       "      <td>2572</td>\n",
       "      <td>Луга</td>\n",
       "      <td>2.4</td>\n",
       "      <td>2018-12-27</td>\n",
       "      <td>NaN</td>\n",
       "      <td>4</td>\n",
       "      <td>3</td>\n",
       "      <td>4</td>\n",
       "      <td>5</td>\n",
       "      <td>62.0</td>\n",
       "      <td>40.0</td>\n",
       "      <td>...</td>\n",
       "      <td>False</td>\n",
       "      <td>False</td>\n",
       "      <td>2.00</td>\n",
       "      <td>1.0</td>\n",
       "      <td>NaN</td>\n",
       "      <td>NaN</td>\n",
       "      <td>NaN</td>\n",
       "      <td>NaN</td>\n",
       "      <td>NaN</td>\n",
       "      <td>NaN</td>\n",
       "    </tr>\n",
       "    <tr>\n",
       "      <td>16884</td>\n",
       "      <td>Выборг</td>\n",
       "      <td>1.5</td>\n",
       "      <td>2018-10-03</td>\n",
       "      <td>6.0</td>\n",
       "      <td>0</td>\n",
       "      <td>1</td>\n",
       "      <td>5</td>\n",
       "      <td>5</td>\n",
       "      <td>33.0</td>\n",
       "      <td>20.0</td>\n",
       "      <td>...</td>\n",
       "      <td>False</td>\n",
       "      <td>False</td>\n",
       "      <td>2.00</td>\n",
       "      <td>NaN</td>\n",
       "      <td>NaN</td>\n",
       "      <td>NaN</td>\n",
       "      <td>NaN</td>\n",
       "      <td>NaN</td>\n",
       "      <td>NaN</td>\n",
       "      <td>NaN</td>\n",
       "    </tr>\n",
       "  </tbody>\n",
       "</table>\n",
       "<p>5 rows × 22 columns</p>\n",
       "</div>"
      ],
      "text/plain": [
       "               locality_name  last_price first_day_exposition  \\\n",
       "22590        Санкт-Петербург         6.0           2018-10-31   \n",
       "5712   городской посёлок Мга         1.5           2017-08-14   \n",
       "16934        Санкт-Петербург         4.1           2017-10-17   \n",
       "2572                    Луга         2.4           2018-12-27   \n",
       "16884                 Выборг         1.5           2018-10-03   \n",
       "\n",
       "       days_exposition  total_images  rooms  floor  floors_total  total_area  \\\n",
       "22590             13.0            16      2      7            12        55.0   \n",
       "5712             248.0             5      2      1             2        42.8   \n",
       "16934             71.0             5      1      5            37        40.0   \n",
       "2572               NaN             4      3      4             5        62.0   \n",
       "16884              6.0             0      1      5             5        33.0   \n",
       "\n",
       "       living_area  ...  is_apartment  open_plan  ceiling_height  balcony  \\\n",
       "22590         32.4  ...         False      False            1.00      NaN   \n",
       "5712          27.5  ...         False      False            1.20      NaN   \n",
       "16934         17.4  ...         False      False            1.75      NaN   \n",
       "2572          40.0  ...         False      False            2.00      1.0   \n",
       "16884         20.0  ...         False      False            2.00      NaN   \n",
       "\n",
       "       airports_nearest  city_centers_nearest  parks_around_3000  \\\n",
       "22590           33053.0               14217.0                2.0   \n",
       "5712                NaN                   NaN                NaN   \n",
       "16934           18732.0               20444.0                0.0   \n",
       "2572                NaN                   NaN                NaN   \n",
       "16884               NaN                   NaN                NaN   \n",
       "\n",
       "       parks_nearest  ponds_around_3000  ponds_nearest  \n",
       "22590          293.0                2.0          289.0  \n",
       "5712             NaN                NaN            NaN  \n",
       "16934            NaN                3.0           80.0  \n",
       "2572             NaN                NaN            NaN  \n",
       "16884            NaN                NaN            NaN  \n",
       "\n",
       "[5 rows x 22 columns]"
      ]
     },
     "execution_count": 58,
     "metadata": {},
     "output_type": "execute_result"
    }
   ],
   "source": [
    "df.sort_values(by='ceiling_height').head()"
   ]
  },
  {
   "cell_type": "code",
   "execution_count": 59,
   "metadata": {},
   "outputs": [
    {
     "data": {
      "text/html": [
       "<div>\n",
       "<style scoped>\n",
       "    .dataframe tbody tr th:only-of-type {\n",
       "        vertical-align: middle;\n",
       "    }\n",
       "\n",
       "    .dataframe tbody tr th {\n",
       "        vertical-align: top;\n",
       "    }\n",
       "\n",
       "    .dataframe thead th {\n",
       "        text-align: right;\n",
       "    }\n",
       "</style>\n",
       "<table border=\"1\" class=\"dataframe\">\n",
       "  <thead>\n",
       "    <tr style=\"text-align: right;\">\n",
       "      <th></th>\n",
       "      <th>locality_name</th>\n",
       "      <th>last_price</th>\n",
       "      <th>first_day_exposition</th>\n",
       "      <th>days_exposition</th>\n",
       "      <th>total_images</th>\n",
       "      <th>rooms</th>\n",
       "      <th>floor</th>\n",
       "      <th>floors_total</th>\n",
       "      <th>total_area</th>\n",
       "      <th>living_area</th>\n",
       "      <th>...</th>\n",
       "      <th>is_apartment</th>\n",
       "      <th>open_plan</th>\n",
       "      <th>ceiling_height</th>\n",
       "      <th>balcony</th>\n",
       "      <th>airports_nearest</th>\n",
       "      <th>city_centers_nearest</th>\n",
       "      <th>parks_around_3000</th>\n",
       "      <th>parks_nearest</th>\n",
       "      <th>ponds_around_3000</th>\n",
       "      <th>ponds_nearest</th>\n",
       "    </tr>\n",
       "  </thead>\n",
       "  <tbody>\n",
       "    <tr>\n",
       "      <td>22869</td>\n",
       "      <td>Санкт-Петербург</td>\n",
       "      <td>15.000</td>\n",
       "      <td>2018-07-25</td>\n",
       "      <td>19.0</td>\n",
       "      <td>0</td>\n",
       "      <td>1</td>\n",
       "      <td>5</td>\n",
       "      <td>5</td>\n",
       "      <td>25.0</td>\n",
       "      <td>14.0</td>\n",
       "      <td>...</td>\n",
       "      <td>True</td>\n",
       "      <td>False</td>\n",
       "      <td>100.0</td>\n",
       "      <td>5.0</td>\n",
       "      <td>34963.0</td>\n",
       "      <td>8283.0</td>\n",
       "      <td>1.0</td>\n",
       "      <td>223.0</td>\n",
       "      <td>3.0</td>\n",
       "      <td>30.0</td>\n",
       "    </tr>\n",
       "    <tr>\n",
       "      <td>3148</td>\n",
       "      <td>Волхов</td>\n",
       "      <td>2.900</td>\n",
       "      <td>2018-11-12</td>\n",
       "      <td>NaN</td>\n",
       "      <td>14</td>\n",
       "      <td>3</td>\n",
       "      <td>2</td>\n",
       "      <td>3</td>\n",
       "      <td>75.0</td>\n",
       "      <td>53.0</td>\n",
       "      <td>...</td>\n",
       "      <td>False</td>\n",
       "      <td>False</td>\n",
       "      <td>32.0</td>\n",
       "      <td>NaN</td>\n",
       "      <td>NaN</td>\n",
       "      <td>NaN</td>\n",
       "      <td>NaN</td>\n",
       "      <td>NaN</td>\n",
       "      <td>NaN</td>\n",
       "      <td>NaN</td>\n",
       "    </tr>\n",
       "    <tr>\n",
       "      <td>22336</td>\n",
       "      <td>Санкт-Петербург</td>\n",
       "      <td>9.999</td>\n",
       "      <td>2019-04-05</td>\n",
       "      <td>NaN</td>\n",
       "      <td>19</td>\n",
       "      <td>2</td>\n",
       "      <td>5</td>\n",
       "      <td>6</td>\n",
       "      <td>92.4</td>\n",
       "      <td>55.5</td>\n",
       "      <td>...</td>\n",
       "      <td>False</td>\n",
       "      <td>False</td>\n",
       "      <td>32.0</td>\n",
       "      <td>4.0</td>\n",
       "      <td>18838.0</td>\n",
       "      <td>3506.0</td>\n",
       "      <td>0.0</td>\n",
       "      <td>NaN</td>\n",
       "      <td>3.0</td>\n",
       "      <td>511.0</td>\n",
       "    </tr>\n",
       "    <tr>\n",
       "      <td>21377</td>\n",
       "      <td>Санкт-Петербург</td>\n",
       "      <td>4.900</td>\n",
       "      <td>2017-04-18</td>\n",
       "      <td>61.0</td>\n",
       "      <td>19</td>\n",
       "      <td>1</td>\n",
       "      <td>19</td>\n",
       "      <td>24</td>\n",
       "      <td>42.0</td>\n",
       "      <td>37.7</td>\n",
       "      <td>...</td>\n",
       "      <td>False</td>\n",
       "      <td>False</td>\n",
       "      <td>27.5</td>\n",
       "      <td>2.0</td>\n",
       "      <td>42742.0</td>\n",
       "      <td>9760.0</td>\n",
       "      <td>0.0</td>\n",
       "      <td>NaN</td>\n",
       "      <td>0.0</td>\n",
       "      <td>NaN</td>\n",
       "    </tr>\n",
       "    <tr>\n",
       "      <td>17857</td>\n",
       "      <td>Санкт-Петербург</td>\n",
       "      <td>3.900</td>\n",
       "      <td>2017-12-22</td>\n",
       "      <td>73.0</td>\n",
       "      <td>1</td>\n",
       "      <td>3</td>\n",
       "      <td>4</td>\n",
       "      <td>5</td>\n",
       "      <td>56.0</td>\n",
       "      <td>33.0</td>\n",
       "      <td>...</td>\n",
       "      <td>False</td>\n",
       "      <td>False</td>\n",
       "      <td>27.0</td>\n",
       "      <td>NaN</td>\n",
       "      <td>41030.0</td>\n",
       "      <td>15543.0</td>\n",
       "      <td>0.0</td>\n",
       "      <td>NaN</td>\n",
       "      <td>0.0</td>\n",
       "      <td>NaN</td>\n",
       "    </tr>\n",
       "  </tbody>\n",
       "</table>\n",
       "<p>5 rows × 22 columns</p>\n",
       "</div>"
      ],
      "text/plain": [
       "         locality_name  last_price first_day_exposition  days_exposition  \\\n",
       "22869  Санкт-Петербург      15.000           2018-07-25             19.0   \n",
       "3148            Волхов       2.900           2018-11-12              NaN   \n",
       "22336  Санкт-Петербург       9.999           2019-04-05              NaN   \n",
       "21377  Санкт-Петербург       4.900           2017-04-18             61.0   \n",
       "17857  Санкт-Петербург       3.900           2017-12-22             73.0   \n",
       "\n",
       "       total_images  rooms  floor  floors_total  total_area  living_area  ...  \\\n",
       "22869             0      1      5             5        25.0         14.0  ...   \n",
       "3148             14      3      2             3        75.0         53.0  ...   \n",
       "22336            19      2      5             6        92.4         55.5  ...   \n",
       "21377            19      1     19            24        42.0         37.7  ...   \n",
       "17857             1      3      4             5        56.0         33.0  ...   \n",
       "\n",
       "       is_apartment  open_plan  ceiling_height  balcony  airports_nearest  \\\n",
       "22869          True      False           100.0      5.0           34963.0   \n",
       "3148          False      False            32.0      NaN               NaN   \n",
       "22336         False      False            32.0      4.0           18838.0   \n",
       "21377         False      False            27.5      2.0           42742.0   \n",
       "17857         False      False            27.0      NaN           41030.0   \n",
       "\n",
       "       city_centers_nearest  parks_around_3000  parks_nearest  \\\n",
       "22869                8283.0                1.0          223.0   \n",
       "3148                    NaN                NaN            NaN   \n",
       "22336                3506.0                0.0            NaN   \n",
       "21377                9760.0                0.0            NaN   \n",
       "17857               15543.0                0.0            NaN   \n",
       "\n",
       "       ponds_around_3000  ponds_nearest  \n",
       "22869                3.0           30.0  \n",
       "3148                 NaN            NaN  \n",
       "22336                3.0          511.0  \n",
       "21377                0.0            NaN  \n",
       "17857                0.0            NaN  \n",
       "\n",
       "[5 rows x 22 columns]"
      ]
     },
     "execution_count": 59,
     "metadata": {},
     "output_type": "execute_result"
    }
   ],
   "source": [
    "df.sort_values(by='ceiling_height', ascending=False).head()"
   ]
  },
  {
   "cell_type": "markdown",
   "metadata": {},
   "source": [
    "Значения ниже двух метров и 100 метров следует заменить медианным значением как ошибочные"
   ]
  },
  {
   "cell_type": "code",
   "execution_count": 60,
   "metadata": {},
   "outputs": [],
   "source": [
    "median_h = df['ceiling_height'].median()\n",
    "\n",
    "df.loc[(df['ceiling_height'] < 2), 'ceiling_height'] = median_h\n",
    "df.loc[(df['ceiling_height'] == 100), 'ceiling_height'] = median_h"
   ]
  },
  {
   "cell_type": "code",
   "execution_count": 61,
   "metadata": {},
   "outputs": [
    {
     "data": {
      "text/plain": [
       "count    14490.000000\n",
       "mean         2.764845\n",
       "std          0.968848\n",
       "min          2.000000\n",
       "25%          2.520000\n",
       "50%          2.650000\n",
       "75%          2.800000\n",
       "max         32.000000\n",
       "Name: ceiling_height, dtype: float64"
      ]
     },
     "execution_count": 61,
     "metadata": {},
     "output_type": "execute_result"
    }
   ],
   "source": [
    "df['ceiling_height'].describe()"
   ]
  },
  {
   "cell_type": "markdown",
   "metadata": {},
   "source": [
    "Теперь минимальное значение 2 метра, максимальное 32"
   ]
  },
  {
   "cell_type": "code",
   "execution_count": 62,
   "metadata": {},
   "outputs": [
    {
     "data": {
      "text/plain": [
       "11"
      ]
     },
     "execution_count": 62,
     "metadata": {},
     "output_type": "execute_result"
    }
   ],
   "source": [
    "len(df.query('ceiling_height == 2'))"
   ]
  },
  {
   "cell_type": "markdown",
   "metadata": {},
   "source": [
    "Заменим значение 2 на медианное, видимо, это ошибка"
   ]
  },
  {
   "cell_type": "code",
   "execution_count": 63,
   "metadata": {},
   "outputs": [],
   "source": [
    "df.loc[(df['ceiling_height'] == 2), 'ceiling_height'] = median_h"
   ]
  },
  {
   "cell_type": "code",
   "execution_count": 64,
   "metadata": {},
   "outputs": [
    {
     "data": {
      "text/html": [
       "<div>\n",
       "<style scoped>\n",
       "    .dataframe tbody tr th:only-of-type {\n",
       "        vertical-align: middle;\n",
       "    }\n",
       "\n",
       "    .dataframe tbody tr th {\n",
       "        vertical-align: top;\n",
       "    }\n",
       "\n",
       "    .dataframe thead th {\n",
       "        text-align: right;\n",
       "    }\n",
       "</style>\n",
       "<table border=\"1\" class=\"dataframe\">\n",
       "  <thead>\n",
       "    <tr style=\"text-align: right;\">\n",
       "      <th></th>\n",
       "      <th>locality_name</th>\n",
       "      <th>last_price</th>\n",
       "      <th>first_day_exposition</th>\n",
       "      <th>days_exposition</th>\n",
       "      <th>total_images</th>\n",
       "      <th>rooms</th>\n",
       "      <th>floor</th>\n",
       "      <th>floors_total</th>\n",
       "      <th>total_area</th>\n",
       "      <th>living_area</th>\n",
       "      <th>...</th>\n",
       "      <th>is_apartment</th>\n",
       "      <th>open_plan</th>\n",
       "      <th>ceiling_height</th>\n",
       "      <th>balcony</th>\n",
       "      <th>airports_nearest</th>\n",
       "      <th>city_centers_nearest</th>\n",
       "      <th>parks_around_3000</th>\n",
       "      <th>parks_nearest</th>\n",
       "      <th>ponds_around_3000</th>\n",
       "      <th>ponds_nearest</th>\n",
       "    </tr>\n",
       "  </thead>\n",
       "  <tbody>\n",
       "    <tr>\n",
       "      <td>3148</td>\n",
       "      <td>Волхов</td>\n",
       "      <td>2.900</td>\n",
       "      <td>2018-11-12</td>\n",
       "      <td>NaN</td>\n",
       "      <td>14</td>\n",
       "      <td>3</td>\n",
       "      <td>2</td>\n",
       "      <td>3</td>\n",
       "      <td>75.0</td>\n",
       "      <td>53.0</td>\n",
       "      <td>...</td>\n",
       "      <td>False</td>\n",
       "      <td>False</td>\n",
       "      <td>32.0</td>\n",
       "      <td>NaN</td>\n",
       "      <td>NaN</td>\n",
       "      <td>NaN</td>\n",
       "      <td>NaN</td>\n",
       "      <td>NaN</td>\n",
       "      <td>NaN</td>\n",
       "      <td>NaN</td>\n",
       "    </tr>\n",
       "    <tr>\n",
       "      <td>22336</td>\n",
       "      <td>Санкт-Петербург</td>\n",
       "      <td>9.999</td>\n",
       "      <td>2019-04-05</td>\n",
       "      <td>NaN</td>\n",
       "      <td>19</td>\n",
       "      <td>2</td>\n",
       "      <td>5</td>\n",
       "      <td>6</td>\n",
       "      <td>92.4</td>\n",
       "      <td>55.5</td>\n",
       "      <td>...</td>\n",
       "      <td>False</td>\n",
       "      <td>False</td>\n",
       "      <td>32.0</td>\n",
       "      <td>4.0</td>\n",
       "      <td>18838.0</td>\n",
       "      <td>3506.0</td>\n",
       "      <td>0.0</td>\n",
       "      <td>NaN</td>\n",
       "      <td>3.0</td>\n",
       "      <td>511.0</td>\n",
       "    </tr>\n",
       "    <tr>\n",
       "      <td>21377</td>\n",
       "      <td>Санкт-Петербург</td>\n",
       "      <td>4.900</td>\n",
       "      <td>2017-04-18</td>\n",
       "      <td>61.0</td>\n",
       "      <td>19</td>\n",
       "      <td>1</td>\n",
       "      <td>19</td>\n",
       "      <td>24</td>\n",
       "      <td>42.0</td>\n",
       "      <td>37.7</td>\n",
       "      <td>...</td>\n",
       "      <td>False</td>\n",
       "      <td>False</td>\n",
       "      <td>27.5</td>\n",
       "      <td>2.0</td>\n",
       "      <td>42742.0</td>\n",
       "      <td>9760.0</td>\n",
       "      <td>0.0</td>\n",
       "      <td>NaN</td>\n",
       "      <td>0.0</td>\n",
       "      <td>NaN</td>\n",
       "    </tr>\n",
       "    <tr>\n",
       "      <td>20478</td>\n",
       "      <td>Санкт-Петербург</td>\n",
       "      <td>8.000</td>\n",
       "      <td>2017-07-18</td>\n",
       "      <td>429.0</td>\n",
       "      <td>11</td>\n",
       "      <td>1</td>\n",
       "      <td>2</td>\n",
       "      <td>4</td>\n",
       "      <td>45.0</td>\n",
       "      <td>22.0</td>\n",
       "      <td>...</td>\n",
       "      <td>False</td>\n",
       "      <td>False</td>\n",
       "      <td>27.0</td>\n",
       "      <td>1.0</td>\n",
       "      <td>18975.0</td>\n",
       "      <td>3246.0</td>\n",
       "      <td>0.0</td>\n",
       "      <td>NaN</td>\n",
       "      <td>3.0</td>\n",
       "      <td>449.0</td>\n",
       "    </tr>\n",
       "    <tr>\n",
       "      <td>21824</td>\n",
       "      <td>городской поселок Большая Ижора</td>\n",
       "      <td>2.450</td>\n",
       "      <td>2019-02-12</td>\n",
       "      <td>NaN</td>\n",
       "      <td>20</td>\n",
       "      <td>2</td>\n",
       "      <td>2</td>\n",
       "      <td>2</td>\n",
       "      <td>44.0</td>\n",
       "      <td>38.0</td>\n",
       "      <td>...</td>\n",
       "      <td>False</td>\n",
       "      <td>False</td>\n",
       "      <td>27.0</td>\n",
       "      <td>2.0</td>\n",
       "      <td>NaN</td>\n",
       "      <td>NaN</td>\n",
       "      <td>NaN</td>\n",
       "      <td>NaN</td>\n",
       "      <td>NaN</td>\n",
       "      <td>NaN</td>\n",
       "    </tr>\n",
       "  </tbody>\n",
       "</table>\n",
       "<p>5 rows × 22 columns</p>\n",
       "</div>"
      ],
      "text/plain": [
       "                         locality_name  last_price first_day_exposition  \\\n",
       "3148                            Волхов       2.900           2018-11-12   \n",
       "22336                  Санкт-Петербург       9.999           2019-04-05   \n",
       "21377                  Санкт-Петербург       4.900           2017-04-18   \n",
       "20478                  Санкт-Петербург       8.000           2017-07-18   \n",
       "21824  городской поселок Большая Ижора       2.450           2019-02-12   \n",
       "\n",
       "       days_exposition  total_images  rooms  floor  floors_total  total_area  \\\n",
       "3148               NaN            14      3      2             3        75.0   \n",
       "22336              NaN            19      2      5             6        92.4   \n",
       "21377             61.0            19      1     19            24        42.0   \n",
       "20478            429.0            11      1      2             4        45.0   \n",
       "21824              NaN            20      2      2             2        44.0   \n",
       "\n",
       "       living_area  ...  is_apartment  open_plan  ceiling_height  balcony  \\\n",
       "3148          53.0  ...         False      False            32.0      NaN   \n",
       "22336         55.5  ...         False      False            32.0      4.0   \n",
       "21377         37.7  ...         False      False            27.5      2.0   \n",
       "20478         22.0  ...         False      False            27.0      1.0   \n",
       "21824         38.0  ...         False      False            27.0      2.0   \n",
       "\n",
       "       airports_nearest  city_centers_nearest  parks_around_3000  \\\n",
       "3148                NaN                   NaN                NaN   \n",
       "22336           18838.0                3506.0                0.0   \n",
       "21377           42742.0                9760.0                0.0   \n",
       "20478           18975.0                3246.0                0.0   \n",
       "21824               NaN                   NaN                NaN   \n",
       "\n",
       "       parks_nearest  ponds_around_3000  ponds_nearest  \n",
       "3148             NaN                NaN            NaN  \n",
       "22336            NaN                3.0          511.0  \n",
       "21377            NaN                0.0            NaN  \n",
       "20478            NaN                3.0          449.0  \n",
       "21824            NaN                NaN            NaN  \n",
       "\n",
       "[5 rows x 22 columns]"
      ]
     },
     "execution_count": 64,
     "metadata": {},
     "output_type": "execute_result"
    }
   ],
   "source": [
    "df.sort_values(by='ceiling_height', ascending=False).head()"
   ]
  },
  {
   "cell_type": "markdown",
   "metadata": {},
   "source": [
    "Такие значения, как 32, 27.5, 27 похожи на опечатки, подразумевалось 3.2, 2.75, 2.7 итд  \n",
    "Уменьшим такие значения в 10 раз"
   ]
  },
  {
   "cell_type": "code",
   "execution_count": 65,
   "metadata": {},
   "outputs": [],
   "source": [
    "df.loc[(df['ceiling_height'] >= 25), 'ceiling_height'] = df['ceiling_height'] / 10"
   ]
  },
  {
   "cell_type": "markdown",
   "metadata": {},
   "source": [
    "Построим гистограмму"
   ]
  },
  {
   "cell_type": "code",
   "execution_count": 160,
   "metadata": {},
   "outputs": [
    {
     "data": {
      "image/png": "[encoded data removed]",
      "text/plain": [
       "<Figure size 1080x360 with 1 Axes>"
      ]
     },
     "metadata": {
      "needs_background": "light"
     },
     "output_type": "display_data"
    }
   ],
   "source": [
    "df['ceiling_height'].hist(bins=10, range=(0,10), figsize=(15,5))\n",
    "plt.title('Распределение высоты потолка')\n",
    "plt.xlabel('Высота потолка')\n",
    "plt.ylabel('Количество')\n",
    "plt.show()"
   ]
  },
  {
   "cell_type": "markdown",
   "metadata": {},
   "source": [
    "Посмотрим количество значений выше 5"
   ]
  },
  {
   "cell_type": "code",
   "execution_count": 67,
   "metadata": {},
   "outputs": [
    {
     "data": {
      "text/plain": [
       "16"
      ]
     },
     "execution_count": 67,
     "metadata": {},
     "output_type": "execute_result"
    }
   ],
   "source": [
    "len(df.query('ceiling_height > 5'))"
   ]
  },
  {
   "cell_type": "markdown",
   "metadata": {},
   "source": [
    "Можно заменить их так же медианой"
   ]
  },
  {
   "cell_type": "code",
   "execution_count": 68,
   "metadata": {},
   "outputs": [],
   "source": [
    "df.loc[(df['ceiling_height'] > 5), 'ceiling_height'] = median_h"
   ]
  },
  {
   "cell_type": "code",
   "execution_count": 69,
   "metadata": {},
   "outputs": [
    {
     "data": {
      "text/plain": [
       "count    14490.000000\n",
       "mean         2.725507\n",
       "std          0.270588\n",
       "min          2.200000\n",
       "25%          2.520000\n",
       "50%          2.650000\n",
       "75%          2.800000\n",
       "max          5.000000\n",
       "Name: ceiling_height, dtype: float64"
      ]
     },
     "execution_count": 69,
     "metadata": {},
     "output_type": "execute_result"
    }
   ],
   "source": [
    "df['ceiling_height'].describe()"
   ]
  },
  {
   "cell_type": "markdown",
   "metadata": {},
   "source": [
    "##### balcony"
   ]
  },
  {
   "cell_type": "code",
   "execution_count": 70,
   "metadata": {},
   "outputs": [
    {
     "data": {
      "text/plain": [
       "count    12137.000000\n",
       "mean         1.153003\n",
       "std          1.071169\n",
       "min          0.000000\n",
       "25%          0.000000\n",
       "50%          1.000000\n",
       "75%          2.000000\n",
       "max          5.000000\n",
       "Name: balcony, dtype: float64"
      ]
     },
     "execution_count": 70,
     "metadata": {},
     "output_type": "execute_result"
    }
   ],
   "source": [
    "df['balcony'].describe()"
   ]
  },
  {
   "cell_type": "code",
   "execution_count": 71,
   "metadata": {
    "scrolled": true
   },
   "outputs": [
    {
     "data": {
      "text/plain": [
       "11513"
      ]
     },
     "execution_count": 71,
     "metadata": {},
     "output_type": "execute_result"
    }
   ],
   "source": [
    "len(df[df['balcony'].isna()])"
   ]
  },
  {
   "cell_type": "markdown",
   "metadata": {},
   "source": [
    "Скорее всего, значения пропущены там, где балконов нет  \n",
    "Заменим нулем, а также преобразуем тип"
   ]
  },
  {
   "cell_type": "code",
   "execution_count": 72,
   "metadata": {},
   "outputs": [],
   "source": [
    "df['balcony'] = df['balcony'].fillna(0).astype(int)"
   ]
  },
  {
   "cell_type": "markdown",
   "metadata": {},
   "source": [
    "#### Расположение значимых объектов"
   ]
  },
  {
   "cell_type": "markdown",
   "metadata": {},
   "source": [
    "##### airports_nearest"
   ]
  },
  {
   "cell_type": "code",
   "execution_count": 73,
   "metadata": {},
   "outputs": [
    {
     "data": {
      "text/plain": [
       "count    18116.000000\n",
       "mean     28803.225878\n",
       "std      12637.314144\n",
       "min          0.000000\n",
       "25%      18575.750000\n",
       "50%      26756.500000\n",
       "75%      37294.000000\n",
       "max      84869.000000\n",
       "Name: airports_nearest, dtype: float64"
      ]
     },
     "execution_count": 73,
     "metadata": {},
     "output_type": "execute_result"
    }
   ],
   "source": [
    "df['airports_nearest'].describe()"
   ]
  },
  {
   "cell_type": "code",
   "execution_count": 74,
   "metadata": {
    "scrolled": true
   },
   "outputs": [
    {
     "data": {
      "text/plain": [
       "5534"
      ]
     },
     "execution_count": 74,
     "metadata": {},
     "output_type": "execute_result"
    }
   ],
   "source": [
    "len(df[df['airports_nearest'].isna()])"
   ]
  },
  {
   "cell_type": "code",
   "execution_count": 75,
   "metadata": {},
   "outputs": [
    {
     "data": {
      "text/html": [
       "<div>\n",
       "<style scoped>\n",
       "    .dataframe tbody tr th:only-of-type {\n",
       "        vertical-align: middle;\n",
       "    }\n",
       "\n",
       "    .dataframe tbody tr th {\n",
       "        vertical-align: top;\n",
       "    }\n",
       "\n",
       "    .dataframe thead th {\n",
       "        text-align: right;\n",
       "    }\n",
       "</style>\n",
       "<table border=\"1\" class=\"dataframe\">\n",
       "  <thead>\n",
       "    <tr style=\"text-align: right;\">\n",
       "      <th></th>\n",
       "      <th>locality_name</th>\n",
       "      <th>last_price</th>\n",
       "      <th>first_day_exposition</th>\n",
       "      <th>days_exposition</th>\n",
       "      <th>total_images</th>\n",
       "      <th>rooms</th>\n",
       "      <th>floor</th>\n",
       "      <th>floors_total</th>\n",
       "      <th>total_area</th>\n",
       "      <th>living_area</th>\n",
       "      <th>...</th>\n",
       "      <th>is_apartment</th>\n",
       "      <th>open_plan</th>\n",
       "      <th>ceiling_height</th>\n",
       "      <th>balcony</th>\n",
       "      <th>airports_nearest</th>\n",
       "      <th>city_centers_nearest</th>\n",
       "      <th>parks_around_3000</th>\n",
       "      <th>parks_nearest</th>\n",
       "      <th>ponds_around_3000</th>\n",
       "      <th>ponds_nearest</th>\n",
       "    </tr>\n",
       "  </thead>\n",
       "  <tbody>\n",
       "    <tr>\n",
       "      <td>21085</td>\n",
       "      <td>Санкт-Петербург</td>\n",
       "      <td>7.0</td>\n",
       "      <td>2018-09-23</td>\n",
       "      <td>60.0</td>\n",
       "      <td>0</td>\n",
       "      <td>1</td>\n",
       "      <td>3</td>\n",
       "      <td>9</td>\n",
       "      <td>34.7</td>\n",
       "      <td>19.8</td>\n",
       "      <td>...</td>\n",
       "      <td>False</td>\n",
       "      <td>False</td>\n",
       "      <td>2.7</td>\n",
       "      <td>2</td>\n",
       "      <td>0.0</td>\n",
       "      <td>22801.0</td>\n",
       "      <td>0.0</td>\n",
       "      <td>NaN</td>\n",
       "      <td>0.0</td>\n",
       "      <td>NaN</td>\n",
       "    </tr>\n",
       "  </tbody>\n",
       "</table>\n",
       "<p>1 rows × 22 columns</p>\n",
       "</div>"
      ],
      "text/plain": [
       "         locality_name  last_price first_day_exposition  days_exposition  \\\n",
       "21085  Санкт-Петербург         7.0           2018-09-23             60.0   \n",
       "\n",
       "       total_images  rooms  floor  floors_total  total_area  living_area  ...  \\\n",
       "21085             0      1      3             9        34.7         19.8  ...   \n",
       "\n",
       "       is_apartment  open_plan  ceiling_height  balcony  airports_nearest  \\\n",
       "21085         False      False             2.7        2               0.0   \n",
       "\n",
       "       city_centers_nearest  parks_around_3000  parks_nearest  \\\n",
       "21085               22801.0                0.0            NaN   \n",
       "\n",
       "       ponds_around_3000  ponds_nearest  \n",
       "21085                0.0            NaN  \n",
       "\n",
       "[1 rows x 22 columns]"
      ]
     },
     "execution_count": 75,
     "metadata": {},
     "output_type": "execute_result"
    }
   ],
   "source": [
    "df.query('airports_nearest == 0')"
   ]
  },
  {
   "cell_type": "markdown",
   "metadata": {},
   "source": [
    "Т.к неясно, где именно расположена квартира, восстановить значение не получится  \n",
    "Заменим медианным"
   ]
  },
  {
   "cell_type": "code",
   "execution_count": 76,
   "metadata": {},
   "outputs": [],
   "source": [
    "median_a = df['airports_nearest'].median()\n",
    "df.loc[(df['airports_nearest'] == 0), 'airports_nearest'] = median_a"
   ]
  },
  {
   "cell_type": "markdown",
   "metadata": {},
   "source": [
    "Пропущенные значения также не поддаются восстановлению, имеет смысл их оставить"
   ]
  },
  {
   "cell_type": "markdown",
   "metadata": {},
   "source": [
    "##### city_centers_nearest"
   ]
  },
  {
   "cell_type": "code",
   "execution_count": 77,
   "metadata": {},
   "outputs": [
    {
     "data": {
      "text/plain": [
       "count    18139.000000\n",
       "mean     14197.860742\n",
       "std       8606.830295\n",
       "min        181.000000\n",
       "25%       9241.000000\n",
       "50%      13105.000000\n",
       "75%      16293.000000\n",
       "max      65968.000000\n",
       "Name: city_centers_nearest, dtype: float64"
      ]
     },
     "execution_count": 77,
     "metadata": {},
     "output_type": "execute_result"
    }
   ],
   "source": [
    "df['city_centers_nearest'].describe()"
   ]
  },
  {
   "cell_type": "code",
   "execution_count": 78,
   "metadata": {
    "scrolled": true
   },
   "outputs": [
    {
     "data": {
      "text/plain": [
       "5511"
      ]
     },
     "execution_count": 78,
     "metadata": {},
     "output_type": "execute_result"
    }
   ],
   "source": [
    "len(df[df['city_centers_nearest'].isna()])"
   ]
  },
  {
   "cell_type": "code",
   "execution_count": 79,
   "metadata": {},
   "outputs": [
    {
     "data": {
      "text/plain": [
       "61"
      ]
     },
     "execution_count": 79,
     "metadata": {},
     "output_type": "execute_result"
    }
   ],
   "source": [
    "len(df.query('locality_name == \"Санкт-Петербург\" and city_centers_nearest.isna()'))"
   ]
  },
  {
   "cell_type": "markdown",
   "metadata": {},
   "source": [
    "В Петербурге всего 61 квартира, у которой не указано расстояние до центра  \n",
    "Имеет смысл не учитывать эти данные в анализе"
   ]
  },
  {
   "cell_type": "markdown",
   "metadata": {},
   "source": [
    "##### parks_around_3000"
   ]
  },
  {
   "cell_type": "code",
   "execution_count": 80,
   "metadata": {},
   "outputs": [
    {
     "data": {
      "text/plain": [
       "count    18140.000000\n",
       "mean         0.611577\n",
       "std          0.802003\n",
       "min          0.000000\n",
       "25%          0.000000\n",
       "50%          0.000000\n",
       "75%          1.000000\n",
       "max          3.000000\n",
       "Name: parks_around_3000, dtype: float64"
      ]
     },
     "execution_count": 80,
     "metadata": {},
     "output_type": "execute_result"
    }
   ],
   "source": [
    "df['parks_around_3000'].describe()"
   ]
  },
  {
   "cell_type": "code",
   "execution_count": 81,
   "metadata": {
    "tags": []
   },
   "outputs": [
    {
     "data": {
      "text/plain": [
       "5510"
      ]
     },
     "execution_count": 81,
     "metadata": {},
     "output_type": "execute_result"
    }
   ],
   "source": [
    "len(df[df['parks_around_3000'].isna()])"
   ]
  },
  {
   "cell_type": "markdown",
   "metadata": {},
   "source": [
    "От нуля до трех парков рядом  \n",
    "Заменим пропущенные значения нулем и преобразуем тип данных"
   ]
  },
  {
   "cell_type": "code",
   "execution_count": 82,
   "metadata": {},
   "outputs": [],
   "source": [
    "df['parks_around_3000'] = df['parks_around_3000'].fillna(0).astype(int)"
   ]
  },
  {
   "cell_type": "markdown",
   "metadata": {},
   "source": [
    "##### parks_nearest"
   ]
  },
  {
   "cell_type": "code",
   "execution_count": 83,
   "metadata": {},
   "outputs": [
    {
     "data": {
      "text/plain": [
       "count    8064.000000\n",
       "mean      490.830729\n",
       "std       342.554386\n",
       "min         1.000000\n",
       "25%       288.000000\n",
       "50%       454.500000\n",
       "75%       612.000000\n",
       "max      3190.000000\n",
       "Name: parks_nearest, dtype: float64"
      ]
     },
     "execution_count": 83,
     "metadata": {},
     "output_type": "execute_result"
    }
   ],
   "source": [
    "df['parks_nearest'].describe()"
   ]
  },
  {
   "cell_type": "code",
   "execution_count": 84,
   "metadata": {
    "tags": []
   },
   "outputs": [
    {
     "data": {
      "text/plain": [
       "15586"
      ]
     },
     "execution_count": 84,
     "metadata": {},
     "output_type": "execute_result"
    }
   ],
   "source": [
    "len(df[df['parks_nearest'].isna()])"
   ]
  },
  {
   "cell_type": "markdown",
   "metadata": {},
   "source": [
    "Значения от 1 до 3190, при этом много пропусков  \n",
    "Видимо, данные не указаны там, где до парков дальше 3 километров  \n",
    "Заменим пропуски на 4000 и рассмотрим минимальные значения"
   ]
  },
  {
   "cell_type": "code",
   "execution_count": 85,
   "metadata": {},
   "outputs": [],
   "source": [
    "df['parks_nearest'] = df['parks_nearest'].fillna(4000)"
   ]
  },
  {
   "cell_type": "markdown",
   "metadata": {},
   "source": [
    "##### ponds_around_3000"
   ]
  },
  {
   "cell_type": "code",
   "execution_count": 86,
   "metadata": {},
   "outputs": [
    {
     "data": {
      "text/plain": [
       "count    18140.000000\n",
       "mean         0.769680\n",
       "std          0.937948\n",
       "min          0.000000\n",
       "25%          0.000000\n",
       "50%          1.000000\n",
       "75%          1.000000\n",
       "max          3.000000\n",
       "Name: ponds_around_3000, dtype: float64"
      ]
     },
     "execution_count": 86,
     "metadata": {},
     "output_type": "execute_result"
    }
   ],
   "source": [
    "df['ponds_around_3000'].describe()"
   ]
  },
  {
   "cell_type": "code",
   "execution_count": 87,
   "metadata": {
    "scrolled": true
   },
   "outputs": [
    {
     "data": {
      "text/plain": [
       "5510"
      ]
     },
     "execution_count": 87,
     "metadata": {},
     "output_type": "execute_result"
    }
   ],
   "source": [
    "len(df[df['ponds_around_3000'].isna()])"
   ]
  },
  {
   "cell_type": "markdown",
   "metadata": {},
   "source": [
    "Ситуация как с парками  \n",
    "Заменим пропущенные значения нулем и преобразуем тип данных"
   ]
  },
  {
   "cell_type": "code",
   "execution_count": 88,
   "metadata": {},
   "outputs": [],
   "source": [
    "df['ponds_around_3000'] = df['ponds_around_3000'].fillna(0).astype(int)"
   ]
  },
  {
   "cell_type": "markdown",
   "metadata": {},
   "source": [
    "##### ponds_nearest"
   ]
  },
  {
   "cell_type": "code",
   "execution_count": 89,
   "metadata": {},
   "outputs": [
    {
     "data": {
      "text/plain": [
       "count    9085.000000\n",
       "mean      518.059879\n",
       "std       277.841733\n",
       "min        13.000000\n",
       "25%       293.000000\n",
       "50%       502.000000\n",
       "75%       730.000000\n",
       "max      1344.000000\n",
       "Name: ponds_nearest, dtype: float64"
      ]
     },
     "execution_count": 89,
     "metadata": {},
     "output_type": "execute_result"
    }
   ],
   "source": [
    "df['ponds_nearest'].describe()"
   ]
  },
  {
   "cell_type": "code",
   "execution_count": 90,
   "metadata": {
    "tags": []
   },
   "outputs": [
    {
     "data": {
      "text/plain": [
       "14565"
      ]
     },
     "execution_count": 90,
     "metadata": {},
     "output_type": "execute_result"
    }
   ],
   "source": [
    "len(df[df['ponds_nearest'].isna()])"
   ]
  },
  {
   "cell_type": "markdown",
   "metadata": {},
   "source": [
    "Значения от 13 до 1344, при этом много пропусков  \n",
    "Видимо, как и с парками, данные не указаны там, где до водоема слишком далеко  \n",
    "Заменим пропуски на 4000 и изменим тип данных"
   ]
  },
  {
   "cell_type": "code",
   "execution_count": 91,
   "metadata": {},
   "outputs": [],
   "source": [
    "df['ponds_nearest'] = df['ponds_nearest'].fillna(4000).astype(int)"
   ]
  },
  {
   "cell_type": "markdown",
   "metadata": {},
   "source": [
    "### Обработка дубликатов"
   ]
  },
  {
   "cell_type": "code",
   "execution_count": 92,
   "metadata": {
    "scrolled": true,
    "tags": []
   },
   "outputs": [
    {
     "data": {
      "text/plain": [
       "array(['Санкт-Петербург', 'посёлок Шушары', 'городской посёлок Янино-1',\n",
       "       'посёлок Парголово', 'посёлок Мурино', 'Ломоносов', 'Сертолово',\n",
       "       'Петергоф', 'Пушкин', 'деревня Кудрово', 'Коммунар', 'Колпино',\n",
       "       'поселок городского типа Красный Бор', 'Гатчина', 'поселок Мурино',\n",
       "       'деревня Фёдоровское', 'Выборг', 'Кронштадт', 'Кировск',\n",
       "       'деревня Новое Девяткино', 'посёлок Металлострой',\n",
       "       'посёлок городского типа Лебяжье',\n",
       "       'посёлок городского типа Сиверский', 'поселок Молодцово',\n",
       "       'поселок городского типа Кузьмоловский',\n",
       "       'садовое товарищество Новая Ропша', 'Павловск',\n",
       "       'деревня Пикколово', 'Всеволожск', 'Волхов', 'Кингисепп',\n",
       "       'Приозерск', 'Сестрорецк', 'деревня Куттузи', 'посёлок Аннино',\n",
       "       'поселок городского типа Ефимовский', 'посёлок Плодовое',\n",
       "       'деревня Заклинье', 'поселок Торковичи', 'поселок Первомайское',\n",
       "       'Красное Село', 'посёлок Понтонный', 'Сясьстрой', 'деревня Старая',\n",
       "       'деревня Лесколово', 'посёлок Новый Свет', 'Сланцы',\n",
       "       'село Путилово', 'Ивангород', 'Мурино', 'Шлиссельбург',\n",
       "       'Никольское', 'Зеленогорск', 'Сосновый Бор', 'поселок Новый Свет',\n",
       "       'деревня Оржицы', 'деревня Кальтино', 'Кудрово',\n",
       "       'поселок Романовка', 'посёлок Бугры', 'поселок Бугры',\n",
       "       'поселок городского типа Рощино', 'Кириши', 'Луга', 'Волосово',\n",
       "       'Отрадное', 'село Павлово', 'поселок Оредеж', 'село Копорье',\n",
       "       'посёлок городского типа Красный Бор', 'посёлок Молодёжное',\n",
       "       'Тихвин', 'посёлок Победа', 'деревня Нурма',\n",
       "       'поселок городского типа Синявино', 'Тосно',\n",
       "       'посёлок городского типа Кузьмоловский', 'посёлок Стрельна',\n",
       "       'Бокситогорск', 'посёлок Александровская', 'деревня Лопухинка',\n",
       "       'Пикалёво', 'поселок Терволово',\n",
       "       'поселок городского типа Советский', 'Подпорожье',\n",
       "       'посёлок Петровское', 'посёлок городского типа Токсово',\n",
       "       'поселок Сельцо', 'посёлок городского типа Вырица',\n",
       "       'деревня Кипень', 'деревня Келози', 'деревня Вартемяги',\n",
       "       'посёлок Тельмана', 'поселок Севастьяново',\n",
       "       'городской поселок Большая Ижора', 'городской посёлок Павлово',\n",
       "       'деревня Агалатово', 'посёлок Новогорелово',\n",
       "       'городской посёлок Лесогорский', 'деревня Лаголово',\n",
       "       'поселок Цвелодубово', 'поселок городского типа Рахья',\n",
       "       'поселок городского типа Вырица', 'деревня Белогорка',\n",
       "       'поселок Заводской', 'городской посёлок Новоселье',\n",
       "       'деревня Большие Колпаны', 'деревня Горбунки', 'деревня Батово',\n",
       "       'деревня Заневка', 'деревня Иссад', 'Приморск',\n",
       "       'городской посёлок Фёдоровское', 'деревня Мистолово',\n",
       "       'Новая Ладога', 'поселок Зимитицы', 'поселок Барышево',\n",
       "       'деревня Разметелево', 'поселок городского типа имени Свердлова',\n",
       "       'деревня Пеники', 'поселок Рябово', 'деревня Пудомяги',\n",
       "       'поселок станции Корнево', 'деревня Низино', 'деревня Бегуницы',\n",
       "       'посёлок Поляны', 'городской посёлок Мга', 'поселок Елизаветино',\n",
       "       'посёлок городского типа Кузнечное', 'деревня Колтуши',\n",
       "       'поселок Запорожское', 'посёлок городского типа Рощино',\n",
       "       'деревня Гостилицы', 'деревня Малое Карлино',\n",
       "       'посёлок Мичуринское', 'посёлок городского типа имени Морозова',\n",
       "       'посёлок Песочный', 'посёлок Сосново', 'деревня Аро',\n",
       "       'поселок Ильичёво', 'посёлок городского типа Тайцы',\n",
       "       'деревня Малое Верево', 'деревня Извара', 'поселок станции Вещево',\n",
       "       'село Паша', 'деревня Калитино',\n",
       "       'посёлок городского типа Ульяновка', 'деревня Чудской Бор',\n",
       "       'поселок городского типа Дубровка', 'деревня Мины',\n",
       "       'поселок Войсковицы', 'посёлок городского типа имени Свердлова',\n",
       "       'деревня Коркино', 'посёлок Ропша',\n",
       "       'поселок городского типа Приладожский', 'посёлок Щеглово',\n",
       "       'посёлок Гаврилово', 'Лодейное Поле', 'деревня Рабитицы',\n",
       "       'поселок городского типа Никольский', 'деревня Кузьмолово',\n",
       "       'деревня Малые Колпаны', 'поселок Тельмана',\n",
       "       'посёлок Петро-Славянка', 'городской посёлок Назия',\n",
       "       'посёлок Репино', 'посёлок Ильичёво', 'поселок Углово',\n",
       "       'поселок Старая Малукса', 'садовое товарищество Рахья',\n",
       "       'поселок Аннино', 'поселок Победа', 'деревня Меньково',\n",
       "       'деревня Старые Бегуницы', 'посёлок Сапёрный', 'поселок Семрино',\n",
       "       'поселок Гаврилово', 'поселок Глажево', 'поселок Кобринское',\n",
       "       'деревня Гарболово', 'деревня Юкки',\n",
       "       'поселок станции Приветнинское', 'деревня Мануйлово',\n",
       "       'деревня Пчева', 'поселок Поляны', 'поселок Цвылёво',\n",
       "       'поселок Мельниково', 'посёлок Пудость', 'посёлок Усть-Луга',\n",
       "       'Светогорск', 'Любань', 'поселок Селезнёво',\n",
       "       'поселок городского типа Рябово', 'Каменногорск', 'деревня Кривко',\n",
       "       'поселок Глебычево', 'деревня Парицы', 'поселок Жилпосёлок',\n",
       "       'посёлок городского типа Мга', 'городской поселок Янино-1',\n",
       "       'посёлок Войскорово', 'село Никольское', 'посёлок Терволово',\n",
       "       'поселок Стеклянный', 'посёлок городского типа Важины',\n",
       "       'посёлок Мыза-Ивановка', 'село Русско-Высоцкое',\n",
       "       'поселок городского типа Лебяжье',\n",
       "       'поселок городского типа Форносово', 'село Старая Ладога',\n",
       "       'поселок Житково', 'городской посёлок Виллози', 'деревня Лампово',\n",
       "       'деревня Шпаньково', 'деревня Лаврики', 'посёлок Сумино',\n",
       "       'посёлок Возрождение', 'деревня Старосиверская',\n",
       "       'посёлок Кикерино', 'поселок Возрождение',\n",
       "       'деревня Старое Хинколово', 'посёлок Пригородный',\n",
       "       'посёлок Торфяное', 'городской посёлок Будогощь',\n",
       "       'поселок Суходолье', 'поселок Красная Долина', 'деревня Хапо-Ое',\n",
       "       'поселок городского типа Дружная Горка', 'поселок Лисий Нос',\n",
       "       'деревня Яльгелево', 'посёлок Стеклянный', 'село Рождествено',\n",
       "       'деревня Старополье', 'посёлок Левашово', 'деревня Сяськелево',\n",
       "       'деревня Камышовка',\n",
       "       'садоводческое некоммерческое товарищество Лесная Поляна',\n",
       "       'деревня Хязельки', 'поселок Жилгородок',\n",
       "       'посёлок городского типа Павлово', 'деревня Ялгино',\n",
       "       'поселок Новый Учхоз', 'городской посёлок Рощино',\n",
       "       'поселок Гончарово', 'поселок Почап', 'посёлок Сапёрное',\n",
       "       'посёлок Платформа 69-й километр', 'поселок Каложицы',\n",
       "       'деревня Фалилеево', 'деревня Пельгора',\n",
       "       'поселок городского типа Лесогорский', 'деревня Торошковичи',\n",
       "       'посёлок Белоостров', 'посёлок Алексеевка', 'поселок Серебрянский',\n",
       "       'поселок Лукаши', 'поселок Петровское', 'деревня Щеглово',\n",
       "       'поселок Мичуринское', 'деревня Тарасово', 'поселок Кингисеппский',\n",
       "       'посёлок при железнодорожной станции Вещево', 'поселок Ушаки',\n",
       "       'деревня Котлы', 'деревня Сижно', 'деревня Торосово',\n",
       "       'посёлок Форт Красная Горка', 'поселок городского типа Токсово',\n",
       "       'деревня Новолисино', 'посёлок станции Громово', 'деревня Глинка',\n",
       "       'посёлок Мельниково', 'поселок городского типа Назия',\n",
       "       'деревня Старая Пустошь', 'поселок Коммунары', 'поселок Починок',\n",
       "       'посёлок городского типа Вознесенье', 'деревня Разбегаево',\n",
       "       'посёлок городского типа Рябово', 'поселок Гладкое',\n",
       "       'посёлок при железнодорожной станции Приветнинское',\n",
       "       'поселок Тёсово-4', 'посёлок Жилгородок', 'деревня Бор',\n",
       "       'посёлок Коробицыно', 'деревня Большая Вруда', 'деревня Курковицы',\n",
       "       'посёлок Лисий Нос', 'городской посёлок Советский',\n",
       "       'посёлок Кобралово', 'деревня Суоранда', 'поселок Кобралово',\n",
       "       'поселок городского типа Кондратьево',\n",
       "       'коттеджный поселок Счастье', 'поселок Любань', 'деревня Реброво',\n",
       "       'деревня Зимитицы', 'деревня Тойворово', 'поселок Семиозерье',\n",
       "       'поселок Лесное', 'поселок Совхозный', 'поселок Усть-Луга',\n",
       "       'посёлок Ленинское', 'посёлок Суйда',\n",
       "       'посёлок городского типа Форносово', 'деревня Нижние Осельки',\n",
       "       'посёлок станции Свирь', 'поселок Перово', 'Высоцк',\n",
       "       'поселок Гарболово', 'село Шум', 'поселок Котельский',\n",
       "       'поселок станции Лужайка', 'деревня Большая Пустомержа',\n",
       "       'поселок Красносельское', 'деревня Вахнова Кара', 'деревня Пижма',\n",
       "       'коттеджный поселок Кивеннапа Север', 'поселок Коробицыно',\n",
       "       'поселок Ромашки', 'посёлок Перово', 'деревня Каськово',\n",
       "       'деревня Куровицы', 'посёлок Плоское', 'поселок Сумино',\n",
       "       'поселок городского типа Большая Ижора', 'поселок Кирпичное',\n",
       "       'деревня Ям-Тесово', 'деревня Раздолье', 'деревня Терпилицы',\n",
       "       'посёлок Шугозеро', 'деревня Ваганово', 'поселок Пушное',\n",
       "       'садовое товарищество Садко', 'посёлок Усть-Ижора',\n",
       "       'деревня Выскатка', 'городской посёлок Свирьстрой',\n",
       "       'поселок Громово', 'деревня Кисельня', 'посёлок Старая Малукса',\n",
       "       'деревня Трубников Бор', 'поселок Калитино',\n",
       "       'посёлок Высокоключевой', 'садовое товарищество Приладожский',\n",
       "       'посёлок Пансионат Зелёный Бор', 'деревня Ненимяки',\n",
       "       'поселок Пансионат Зелёный Бор', 'деревня Снегирёвка',\n",
       "       'деревня Рапполово', 'деревня Пустынка', 'поселок Рабитицы',\n",
       "       'деревня Большой Сабск', 'деревня Русско', 'деревня Лупполово',\n",
       "       'деревня Большое Рейзино', 'деревня Малая Романовка',\n",
       "       'поселок Дружноселье', 'поселок Пчевжа', 'поселок Володарское',\n",
       "       'деревня Нижняя', 'коттеджный посёлок Лесное', 'деревня Тихковицы',\n",
       "       'деревня Борисова Грива', 'посёлок Дзержинского'], dtype=object)"
      ]
     },
     "execution_count": 92,
     "metadata": {},
     "output_type": "execute_result"
    }
   ],
   "source": [
    "df['locality_name'].unique()"
   ]
  },
  {
   "cell_type": "code",
   "execution_count": 93,
   "metadata": {},
   "outputs": [
    {
     "data": {
      "text/plain": [
       "364"
      ]
     },
     "execution_count": 93,
     "metadata": {},
     "output_type": "execute_result"
    }
   ],
   "source": [
    "len(df['locality_name'].unique())"
   ]
  },
  {
   "cell_type": "markdown",
   "metadata": {},
   "source": [
    "Вряд ли конкретные названия типов населенных пунктов важны, тем более, явно дублируются \"поселок\" и \"посёлок\""
   ]
  },
  {
   "cell_type": "code",
   "execution_count": 94,
   "metadata": {},
   "outputs": [],
   "source": [
    "df['locality_name'] = df['locality_name'].str.replace('ё', 'е')"
   ]
  },
  {
   "cell_type": "code",
   "execution_count": 95,
   "metadata": {
    "scrolled": true,
    "tags": []
   },
   "outputs": [
    {
     "data": {
      "text/plain": [
       "['Бокситогорск',\n",
       " 'Волосово',\n",
       " 'Волхов',\n",
       " 'Всеволожск',\n",
       " 'Выборг',\n",
       " 'Высоцк',\n",
       " 'Гатчина',\n",
       " 'Зеленогорск',\n",
       " 'Ивангород',\n",
       " 'Каменногорск',\n",
       " 'Кингисепп',\n",
       " 'Кириши',\n",
       " 'Кировск',\n",
       " 'Колпино',\n",
       " 'Коммунар',\n",
       " 'Красное Село',\n",
       " 'Кронштадт',\n",
       " 'Кудрово',\n",
       " 'Лодейное Поле',\n",
       " 'Ломоносов',\n",
       " 'Луга',\n",
       " 'Любань',\n",
       " 'Мурино',\n",
       " 'Никольское',\n",
       " 'Новая Ладога',\n",
       " 'Отрадное',\n",
       " 'Павловск',\n",
       " 'Петергоф',\n",
       " 'Пикалево',\n",
       " 'Подпорожье',\n",
       " 'Приморск',\n",
       " 'Приозерск',\n",
       " 'Пушкин',\n",
       " 'Санкт-Петербург',\n",
       " 'Светогорск',\n",
       " 'Сертолово',\n",
       " 'Сестрорецк',\n",
       " 'Сланцы',\n",
       " 'Сосновый Бор',\n",
       " 'Сясьстрой',\n",
       " 'Тихвин',\n",
       " 'Тосно',\n",
       " 'Шлиссельбург',\n",
       " 'городской поселок Большая Ижора',\n",
       " 'городской поселок Будогощь',\n",
       " 'городской поселок Виллози',\n",
       " 'городской поселок Лесогорский',\n",
       " 'городской поселок Мга',\n",
       " 'городской поселок Назия',\n",
       " 'городской поселок Новоселье',\n",
       " 'городской поселок Павлово',\n",
       " 'городской поселок Рощино',\n",
       " 'городской поселок Свирьстрой',\n",
       " 'городской поселок Советский',\n",
       " 'городской поселок Федоровское',\n",
       " 'городской поселок Янино-1',\n",
       " 'деревня Агалатово',\n",
       " 'деревня Аро',\n",
       " 'деревня Батово',\n",
       " 'деревня Бегуницы',\n",
       " 'деревня Белогорка',\n",
       " 'деревня Большая Вруда',\n",
       " 'деревня Большая Пустомержа',\n",
       " 'деревня Большие Колпаны',\n",
       " 'деревня Большое Рейзино',\n",
       " 'деревня Большой Сабск',\n",
       " 'деревня Бор',\n",
       " 'деревня Борисова Грива',\n",
       " 'деревня Ваганово',\n",
       " 'деревня Вартемяги',\n",
       " 'деревня Вахнова Кара',\n",
       " 'деревня Выскатка',\n",
       " 'деревня Гарболово',\n",
       " 'деревня Глинка',\n",
       " 'деревня Горбунки',\n",
       " 'деревня Гостилицы',\n",
       " 'деревня Заклинье',\n",
       " 'деревня Заневка',\n",
       " 'деревня Зимитицы',\n",
       " 'деревня Извара',\n",
       " 'деревня Иссад',\n",
       " 'деревня Калитино',\n",
       " 'деревня Кальтино',\n",
       " 'деревня Камышовка',\n",
       " 'деревня Каськово',\n",
       " 'деревня Келози',\n",
       " 'деревня Кипень',\n",
       " 'деревня Кисельня',\n",
       " 'деревня Колтуши',\n",
       " 'деревня Коркино',\n",
       " 'деревня Котлы',\n",
       " 'деревня Кривко',\n",
       " 'деревня Кудрово',\n",
       " 'деревня Кузьмолово',\n",
       " 'деревня Курковицы',\n",
       " 'деревня Куровицы',\n",
       " 'деревня Куттузи',\n",
       " 'деревня Лаврики',\n",
       " 'деревня Лаголово',\n",
       " 'деревня Лампово',\n",
       " 'деревня Лесколово',\n",
       " 'деревня Лопухинка',\n",
       " 'деревня Лупполово',\n",
       " 'деревня Малая Романовка',\n",
       " 'деревня Малое Верево',\n",
       " 'деревня Малое Карлино',\n",
       " 'деревня Малые Колпаны',\n",
       " 'деревня Мануйлово',\n",
       " 'деревня Меньково',\n",
       " 'деревня Мины',\n",
       " 'деревня Мистолово',\n",
       " 'деревня Ненимяки',\n",
       " 'деревня Нижние Осельки',\n",
       " 'деревня Нижняя',\n",
       " 'деревня Низино',\n",
       " 'деревня Новое Девяткино',\n",
       " 'деревня Новолисино',\n",
       " 'деревня Нурма',\n",
       " 'деревня Оржицы',\n",
       " 'деревня Парицы',\n",
       " 'деревня Пельгора',\n",
       " 'деревня Пеники',\n",
       " 'деревня Пижма',\n",
       " 'деревня Пикколово',\n",
       " 'деревня Пудомяги',\n",
       " 'деревня Пустынка',\n",
       " 'деревня Пчева',\n",
       " 'деревня Рабитицы',\n",
       " 'деревня Разбегаево',\n",
       " 'деревня Раздолье',\n",
       " 'деревня Разметелево',\n",
       " 'деревня Рапполово',\n",
       " 'деревня Реброво',\n",
       " 'деревня Русско',\n",
       " 'деревня Сижно',\n",
       " 'деревня Снегиревка',\n",
       " 'деревня Старая',\n",
       " 'деревня Старая Пустошь',\n",
       " 'деревня Старое Хинколово',\n",
       " 'деревня Старополье',\n",
       " 'деревня Старосиверская',\n",
       " 'деревня Старые Бегуницы',\n",
       " 'деревня Суоранда',\n",
       " 'деревня Сяськелево',\n",
       " 'деревня Тарасово',\n",
       " 'деревня Терпилицы',\n",
       " 'деревня Тихковицы',\n",
       " 'деревня Тойворово',\n",
       " 'деревня Торосово',\n",
       " 'деревня Торошковичи',\n",
       " 'деревня Трубников Бор',\n",
       " 'деревня Фалилеево',\n",
       " 'деревня Федоровское',\n",
       " 'деревня Хапо-Ое',\n",
       " 'деревня Хязельки',\n",
       " 'деревня Чудской Бор',\n",
       " 'деревня Шпаньково',\n",
       " 'деревня Щеглово',\n",
       " 'деревня Юкки',\n",
       " 'деревня Ялгино',\n",
       " 'деревня Яльгелево',\n",
       " 'деревня Ям-Тесово',\n",
       " 'коттеджный поселок Кивеннапа Север',\n",
       " 'коттеджный поселок Лесное',\n",
       " 'коттеджный поселок Счастье',\n",
       " 'поселок Александровская',\n",
       " 'поселок Алексеевка',\n",
       " 'поселок Аннино',\n",
       " 'поселок Барышево',\n",
       " 'поселок Белоостров',\n",
       " 'поселок Бугры',\n",
       " 'поселок Возрождение',\n",
       " 'поселок Войсковицы',\n",
       " 'поселок Войскорово',\n",
       " 'поселок Володарское',\n",
       " 'поселок Высокоключевой',\n",
       " 'поселок Гаврилово',\n",
       " 'поселок Гарболово',\n",
       " 'поселок Гладкое',\n",
       " 'поселок Глажево',\n",
       " 'поселок Глебычево',\n",
       " 'поселок Гончарово',\n",
       " 'поселок Громово',\n",
       " 'поселок Дзержинского',\n",
       " 'поселок Дружноселье',\n",
       " 'поселок Елизаветино',\n",
       " 'поселок Жилгородок',\n",
       " 'поселок Жилпоселок',\n",
       " 'поселок Житково',\n",
       " 'поселок Заводской',\n",
       " 'поселок Запорожское',\n",
       " 'поселок Зимитицы',\n",
       " 'поселок Ильичево',\n",
       " 'поселок Калитино',\n",
       " 'поселок Каложицы',\n",
       " 'поселок Кикерино',\n",
       " 'поселок Кингисеппский',\n",
       " 'поселок Кирпичное',\n",
       " 'поселок Кобралово',\n",
       " 'поселок Кобринское',\n",
       " 'поселок Коммунары',\n",
       " 'поселок Коробицыно',\n",
       " 'поселок Котельский',\n",
       " 'поселок Красная Долина',\n",
       " 'поселок Красносельское',\n",
       " 'поселок Левашово',\n",
       " 'поселок Ленинское',\n",
       " 'поселок Лесное',\n",
       " 'поселок Лисий Нос',\n",
       " 'поселок Лукаши',\n",
       " 'поселок Любань',\n",
       " 'поселок Мельниково',\n",
       " 'поселок Металлострой',\n",
       " 'поселок Мичуринское',\n",
       " 'поселок Молодежное',\n",
       " 'поселок Молодцово',\n",
       " 'поселок Мурино',\n",
       " 'поселок Мыза-Ивановка',\n",
       " 'поселок Новогорелово',\n",
       " 'поселок Новый Свет',\n",
       " 'поселок Новый Учхоз',\n",
       " 'поселок Оредеж',\n",
       " 'поселок Пансионат Зеленый Бор',\n",
       " 'поселок Парголово',\n",
       " 'поселок Первомайское',\n",
       " 'поселок Перово',\n",
       " 'поселок Песочный',\n",
       " 'поселок Петро-Славянка',\n",
       " 'поселок Петровское',\n",
       " 'поселок Платформа 69-й километр',\n",
       " 'поселок Плодовое',\n",
       " 'поселок Плоское',\n",
       " 'поселок Победа',\n",
       " 'поселок Поляны',\n",
       " 'поселок Понтонный',\n",
       " 'поселок Почап',\n",
       " 'поселок Починок',\n",
       " 'поселок Пригородный',\n",
       " 'поселок Пудость',\n",
       " 'поселок Пушное',\n",
       " 'поселок Пчевжа',\n",
       " 'поселок Рабитицы',\n",
       " 'поселок Репино',\n",
       " 'поселок Романовка',\n",
       " 'поселок Ромашки',\n",
       " 'поселок Ропша',\n",
       " 'поселок Рябово',\n",
       " 'поселок Саперное',\n",
       " 'поселок Саперный',\n",
       " 'поселок Севастьяново',\n",
       " 'поселок Селезнево',\n",
       " 'поселок Сельцо',\n",
       " 'поселок Семиозерье',\n",
       " 'поселок Семрино',\n",
       " 'поселок Серебрянский',\n",
       " 'поселок Совхозный',\n",
       " 'поселок Сосново',\n",
       " 'поселок Старая Малукса',\n",
       " 'поселок Стеклянный',\n",
       " 'поселок Стрельна',\n",
       " 'поселок Суйда',\n",
       " 'поселок Сумино',\n",
       " 'поселок Суходолье',\n",
       " 'поселок Тельмана',\n",
       " 'поселок Терволово',\n",
       " 'поселок Тесово-4',\n",
       " 'поселок Торковичи',\n",
       " 'поселок Торфяное',\n",
       " 'поселок Углово',\n",
       " 'поселок Усть-Ижора',\n",
       " 'поселок Усть-Луга',\n",
       " 'поселок Ушаки',\n",
       " 'поселок Форт Красная Горка',\n",
       " 'поселок Цвелодубово',\n",
       " 'поселок Цвылево',\n",
       " 'поселок Шугозеро',\n",
       " 'поселок Шушары',\n",
       " 'поселок Щеглово',\n",
       " 'поселок городского типа Большая Ижора',\n",
       " 'поселок городского типа Важины',\n",
       " 'поселок городского типа Вознесенье',\n",
       " 'поселок городского типа Вырица',\n",
       " 'поселок городского типа Дружная Горка',\n",
       " 'поселок городского типа Дубровка',\n",
       " 'поселок городского типа Ефимовский',\n",
       " 'поселок городского типа Кондратьево',\n",
       " 'поселок городского типа Красный Бор',\n",
       " 'поселок городского типа Кузнечное',\n",
       " 'поселок городского типа Кузьмоловский',\n",
       " 'поселок городского типа Лебяжье',\n",
       " 'поселок городского типа Лесогорский',\n",
       " 'поселок городского типа Мга',\n",
       " 'поселок городского типа Назия',\n",
       " 'поселок городского типа Никольский',\n",
       " 'поселок городского типа Павлово',\n",
       " 'поселок городского типа Приладожский',\n",
       " 'поселок городского типа Рахья',\n",
       " 'поселок городского типа Рощино',\n",
       " 'поселок городского типа Рябово',\n",
       " 'поселок городского типа Сиверский',\n",
       " 'поселок городского типа Синявино',\n",
       " 'поселок городского типа Советский',\n",
       " 'поселок городского типа Тайцы',\n",
       " 'поселок городского типа Токсово',\n",
       " 'поселок городского типа Ульяновка',\n",
       " 'поселок городского типа Форносово',\n",
       " 'поселок городского типа имени Морозова',\n",
       " 'поселок городского типа имени Свердлова',\n",
       " 'поселок при железнодорожной станции Вещево',\n",
       " 'поселок при железнодорожной станции Приветнинское',\n",
       " 'поселок станции Вещево',\n",
       " 'поселок станции Громово',\n",
       " 'поселок станции Корнево',\n",
       " 'поселок станции Лужайка',\n",
       " 'поселок станции Приветнинское',\n",
       " 'поселок станции Свирь',\n",
       " 'садоводческое некоммерческое товарищество Лесная Поляна',\n",
       " 'садовое товарищество Новая Ропша',\n",
       " 'садовое товарищество Приладожский',\n",
       " 'садовое товарищество Рахья',\n",
       " 'садовое товарищество Садко',\n",
       " 'село Копорье',\n",
       " 'село Никольское',\n",
       " 'село Павлово',\n",
       " 'село Паша',\n",
       " 'село Путилово',\n",
       " 'село Рождествено',\n",
       " 'село Русско-Высоцкое',\n",
       " 'село Старая Ладога',\n",
       " 'село Шум']"
      ]
     },
     "execution_count": 95,
     "metadata": {},
     "output_type": "execute_result"
    }
   ],
   "source": [
    "sorted(df['locality_name'].unique())"
   ]
  },
  {
   "cell_type": "code",
   "execution_count": 96,
   "metadata": {
    "tags": []
   },
   "outputs": [],
   "source": [
    "df['locality_name'] = df['locality_name'].str.replace('городской поселок ', '')\n",
    "df['locality_name'] = df['locality_name'].str.replace('деревня ', '')\n",
    "df['locality_name'] = df['locality_name'].str.replace('коттеджный поселок ', '')\n",
    "df['locality_name'] = df['locality_name'].str.replace('поселок ', '')\n",
    "df['locality_name'] = df['locality_name'].str.replace('поселок городского типа ', '')\n",
    "df['locality_name'] = df['locality_name'].str.replace('поселок при железнодорожной станции ', '')\n",
    "df['locality_name'] = df['locality_name'].str.replace('поселок станции ', '')\n",
    "df['locality_name'] = df['locality_name'].str.replace('садоводческое некоммерческое товарищество ', '')\n",
    "df['locality_name'] = df['locality_name'].str.replace('садовое товарищество ', '')\n",
    "df['locality_name'] = df['locality_name'].str.replace('село ', '')"
   ]
  },
  {
   "cell_type": "code",
   "execution_count": 97,
   "metadata": {
    "tags": []
   },
   "outputs": [
    {
     "data": {
      "text/plain": [
       "318"
      ]
     },
     "execution_count": 97,
     "metadata": {},
     "output_type": "execute_result"
    }
   ],
   "source": [
    "len(df['locality_name'].unique())"
   ]
  },
  {
   "cell_type": "markdown",
   "metadata": {},
   "source": [
    "Было 364 населенных пункта, осталось 318"
   ]
  },
  {
   "cell_type": "markdown",
   "metadata": {},
   "source": [
    "И на всякий случай проверим дубликаты по всему датафрейму"
   ]
  },
  {
   "cell_type": "code",
   "execution_count": 98,
   "metadata": {
    "tags": []
   },
   "outputs": [
    {
     "data": {
      "text/plain": [
       "0"
      ]
     },
     "execution_count": 98,
     "metadata": {},
     "output_type": "execute_result"
    }
   ],
   "source": [
    "df.duplicated().sum()"
   ]
  },
  {
   "cell_type": "markdown",
   "metadata": {},
   "source": [
    "## Расчёты и добавление результатов в таблицу"
   ]
  },
  {
   "cell_type": "markdown",
   "metadata": {},
   "source": [
    "Посчитайте и добавьте в таблицу\n",
    "* цену квадратного метра;\n",
    "* день недели, месяц и год публикации объявления;\n",
    "* этаж квартиры; варианты — первый, последний, другой;\n",
    "* соотношение жилой и общей площади, а также отношение площади кухни к общей."
   ]
  },
  {
   "cell_type": "markdown",
   "metadata": {},
   "source": [
    "### Цены"
   ]
  },
  {
   "cell_type": "markdown",
   "metadata": {},
   "source": [
    "Цена квадратного метра является отношением общей стоимости жилья к общей площади"
   ]
  },
  {
   "cell_type": "code",
   "execution_count": 99,
   "metadata": {
    "tags": []
   },
   "outputs": [],
   "source": [
    "df['square_meter_price'] = (1000000 * df['last_price'] / df['total_area']).astype(int)"
   ]
  },
  {
   "cell_type": "markdown",
   "metadata": {},
   "source": [
    "### Даты"
   ]
  },
  {
   "cell_type": "markdown",
   "metadata": {},
   "source": [
    "Так как ранее мы преобразовали день публикации в тип datetime, очень легко извлечь из него необходимые данные"
   ]
  },
  {
   "cell_type": "code",
   "execution_count": 100,
   "metadata": {
    "tags": []
   },
   "outputs": [],
   "source": [
    "df['day_of_week'] = df['first_day_exposition'].dt.dayofweek\n",
    "df['month'] = df['first_day_exposition'].dt.month\n",
    "df['year'] = df['first_day_exposition'].dt.year"
   ]
  },
  {
   "cell_type": "markdown",
   "metadata": {},
   "source": [
    "### Этажи"
   ]
  },
  {
   "cell_type": "markdown",
   "metadata": {},
   "source": [
    "В этом разделе проведем категоризацию данных  \n",
    "Первому этажу присвоим категорию 1, последнему 3, а другие этажи будут в категории 2"
   ]
  },
  {
   "cell_type": "code",
   "execution_count": 101,
   "metadata": {},
   "outputs": [],
   "source": [
    "def category(row): #функция, возвращающая значение категории\n",
    "    floor = row['floor']\n",
    "    last = row['floors_total']\n",
    "    \n",
    "    if floor == 1:\n",
    "        return 1\n",
    "    elif floor == last:\n",
    "        return 2\n",
    "    else:\n",
    "        return 3"
   ]
  },
  {
   "cell_type": "code",
   "execution_count": 102,
   "metadata": {},
   "outputs": [],
   "source": [
    "df['floor_type'] = df.apply(category, axis=1) "
   ]
  },
  {
   "cell_type": "code",
   "execution_count": 103,
   "metadata": {},
   "outputs": [
    {
     "data": {
      "text/plain": [
       "3    17326\n",
       "2     3412\n",
       "1     2912\n",
       "Name: floor_type, dtype: int64"
      ]
     },
     "execution_count": 103,
     "metadata": {},
     "output_type": "execute_result"
    }
   ],
   "source": [
    "df['floor_type'].value_counts()"
   ]
  },
  {
   "cell_type": "markdown",
   "metadata": {},
   "source": [
    "### Площади"
   ]
  },
  {
   "cell_type": "markdown",
   "metadata": {},
   "source": [
    "Соотношения площадей вычисляются легко, но выше были неизвестные значения площади кухни и жилой площади были заменены на нули  \n",
    "Т.к эти нули находятся в числителе, деление произойдет без ошибок, но в результате будет 0"
   ]
  },
  {
   "cell_type": "code",
   "execution_count": 104,
   "metadata": {},
   "outputs": [],
   "source": [
    "df['living_area_part'] = df['living_area'] / df['total_area']\n",
    "df['kitchen_area_part'] = df['kitchen_area'] / df['total_area']"
   ]
  },
  {
   "cell_type": "markdown",
   "metadata": {},
   "source": [
    "Оценим, сколько таких квартир"
   ]
  },
  {
   "cell_type": "code",
   "execution_count": 105,
   "metadata": {},
   "outputs": [
    {
     "data": {
      "text/plain": [
       "1898"
      ]
     },
     "execution_count": 105,
     "metadata": {},
     "output_type": "execute_result"
    }
   ],
   "source": [
    "len(df[df['living_area_part'] == 0]) #квартиры без указанной жилой площади"
   ]
  },
  {
   "cell_type": "code",
   "execution_count": 106,
   "metadata": {},
   "outputs": [
    {
     "data": {
      "text/plain": [
       "2269"
      ]
     },
     "execution_count": 106,
     "metadata": {},
     "output_type": "execute_result"
    }
   ],
   "source": [
    "len(df[df['kitchen_area_part'] == 0]) #квартиры без указанной площади квартиры"
   ]
  },
  {
   "cell_type": "code",
   "execution_count": 107,
   "metadata": {},
   "outputs": [
    {
     "data": {
      "text/plain": [
       "1460"
      ]
     },
     "execution_count": 107,
     "metadata": {},
     "output_type": "execute_result"
    }
   ],
   "source": [
    "len(df[(df['living_area_part'] == 0) & (df['kitchen_area_part'] == 0)])\n",
    " #квартиры без указанных жилой площади и площади квартиры"
   ]
  },
  {
   "cell_type": "markdown",
   "metadata": {},
   "source": [
    "Оценим общий результат"
   ]
  },
  {
   "cell_type": "code",
   "execution_count": 108,
   "metadata": {},
   "outputs": [
    {
     "data": {
      "text/html": [
       "<div>\n",
       "<style scoped>\n",
       "    .dataframe tbody tr th:only-of-type {\n",
       "        vertical-align: middle;\n",
       "    }\n",
       "\n",
       "    .dataframe tbody tr th {\n",
       "        vertical-align: top;\n",
       "    }\n",
       "\n",
       "    .dataframe thead th {\n",
       "        text-align: right;\n",
       "    }\n",
       "</style>\n",
       "<table border=\"1\" class=\"dataframe\">\n",
       "  <thead>\n",
       "    <tr style=\"text-align: right;\">\n",
       "      <th></th>\n",
       "      <th>locality_name</th>\n",
       "      <th>last_price</th>\n",
       "      <th>first_day_exposition</th>\n",
       "      <th>days_exposition</th>\n",
       "      <th>total_images</th>\n",
       "      <th>rooms</th>\n",
       "      <th>floor</th>\n",
       "      <th>floors_total</th>\n",
       "      <th>total_area</th>\n",
       "      <th>living_area</th>\n",
       "      <th>...</th>\n",
       "      <th>parks_nearest</th>\n",
       "      <th>ponds_around_3000</th>\n",
       "      <th>ponds_nearest</th>\n",
       "      <th>square_meter_price</th>\n",
       "      <th>day_of_week</th>\n",
       "      <th>month</th>\n",
       "      <th>year</th>\n",
       "      <th>floor_type</th>\n",
       "      <th>living_area_part</th>\n",
       "      <th>kitchen_area_part</th>\n",
       "    </tr>\n",
       "  </thead>\n",
       "  <tbody>\n",
       "    <tr>\n",
       "      <td>0</td>\n",
       "      <td>Санкт-Петербург</td>\n",
       "      <td>13.000</td>\n",
       "      <td>2019-03-07</td>\n",
       "      <td>NaN</td>\n",
       "      <td>20</td>\n",
       "      <td>3</td>\n",
       "      <td>8</td>\n",
       "      <td>16</td>\n",
       "      <td>108.0</td>\n",
       "      <td>51.0</td>\n",
       "      <td>...</td>\n",
       "      <td>482.0</td>\n",
       "      <td>2</td>\n",
       "      <td>755</td>\n",
       "      <td>120370</td>\n",
       "      <td>3</td>\n",
       "      <td>3</td>\n",
       "      <td>2019</td>\n",
       "      <td>3</td>\n",
       "      <td>0.472222</td>\n",
       "      <td>0.231481</td>\n",
       "    </tr>\n",
       "    <tr>\n",
       "      <td>1</td>\n",
       "      <td>Шушары</td>\n",
       "      <td>3.350</td>\n",
       "      <td>2018-12-04</td>\n",
       "      <td>81.0</td>\n",
       "      <td>7</td>\n",
       "      <td>1</td>\n",
       "      <td>1</td>\n",
       "      <td>11</td>\n",
       "      <td>40.4</td>\n",
       "      <td>18.6</td>\n",
       "      <td>...</td>\n",
       "      <td>4000.0</td>\n",
       "      <td>0</td>\n",
       "      <td>4000</td>\n",
       "      <td>82920</td>\n",
       "      <td>1</td>\n",
       "      <td>12</td>\n",
       "      <td>2018</td>\n",
       "      <td>1</td>\n",
       "      <td>0.460396</td>\n",
       "      <td>0.272277</td>\n",
       "    </tr>\n",
       "    <tr>\n",
       "      <td>2</td>\n",
       "      <td>Санкт-Петербург</td>\n",
       "      <td>5.196</td>\n",
       "      <td>2015-08-20</td>\n",
       "      <td>558.0</td>\n",
       "      <td>10</td>\n",
       "      <td>2</td>\n",
       "      <td>4</td>\n",
       "      <td>5</td>\n",
       "      <td>56.0</td>\n",
       "      <td>34.3</td>\n",
       "      <td>...</td>\n",
       "      <td>90.0</td>\n",
       "      <td>2</td>\n",
       "      <td>574</td>\n",
       "      <td>92785</td>\n",
       "      <td>3</td>\n",
       "      <td>8</td>\n",
       "      <td>2015</td>\n",
       "      <td>3</td>\n",
       "      <td>0.612500</td>\n",
       "      <td>0.148214</td>\n",
       "    </tr>\n",
       "    <tr>\n",
       "      <td>3</td>\n",
       "      <td>Санкт-Петербург</td>\n",
       "      <td>64.900</td>\n",
       "      <td>2015-07-24</td>\n",
       "      <td>424.0</td>\n",
       "      <td>0</td>\n",
       "      <td>3</td>\n",
       "      <td>9</td>\n",
       "      <td>14</td>\n",
       "      <td>159.0</td>\n",
       "      <td>0.0</td>\n",
       "      <td>...</td>\n",
       "      <td>84.0</td>\n",
       "      <td>3</td>\n",
       "      <td>234</td>\n",
       "      <td>408176</td>\n",
       "      <td>4</td>\n",
       "      <td>7</td>\n",
       "      <td>2015</td>\n",
       "      <td>3</td>\n",
       "      <td>0.000000</td>\n",
       "      <td>0.000000</td>\n",
       "    </tr>\n",
       "    <tr>\n",
       "      <td>4</td>\n",
       "      <td>Санкт-Петербург</td>\n",
       "      <td>10.000</td>\n",
       "      <td>2018-06-19</td>\n",
       "      <td>121.0</td>\n",
       "      <td>2</td>\n",
       "      <td>2</td>\n",
       "      <td>13</td>\n",
       "      <td>14</td>\n",
       "      <td>100.0</td>\n",
       "      <td>32.0</td>\n",
       "      <td>...</td>\n",
       "      <td>112.0</td>\n",
       "      <td>1</td>\n",
       "      <td>48</td>\n",
       "      <td>100000</td>\n",
       "      <td>1</td>\n",
       "      <td>6</td>\n",
       "      <td>2018</td>\n",
       "      <td>3</td>\n",
       "      <td>0.320000</td>\n",
       "      <td>0.410000</td>\n",
       "    </tr>\n",
       "  </tbody>\n",
       "</table>\n",
       "<p>5 rows × 29 columns</p>\n",
       "</div>"
      ],
      "text/plain": [
       "     locality_name  last_price first_day_exposition  days_exposition  \\\n",
       "0  Санкт-Петербург      13.000           2019-03-07              NaN   \n",
       "1           Шушары       3.350           2018-12-04             81.0   \n",
       "2  Санкт-Петербург       5.196           2015-08-20            558.0   \n",
       "3  Санкт-Петербург      64.900           2015-07-24            424.0   \n",
       "4  Санкт-Петербург      10.000           2018-06-19            121.0   \n",
       "\n",
       "   total_images  rooms  floor  floors_total  total_area  living_area  ...  \\\n",
       "0            20      3      8            16       108.0         51.0  ...   \n",
       "1             7      1      1            11        40.4         18.6  ...   \n",
       "2            10      2      4             5        56.0         34.3  ...   \n",
       "3             0      3      9            14       159.0          0.0  ...   \n",
       "4             2      2     13            14       100.0         32.0  ...   \n",
       "\n",
       "   parks_nearest  ponds_around_3000  ponds_nearest  square_meter_price  \\\n",
       "0          482.0                  2            755              120370   \n",
       "1         4000.0                  0           4000               82920   \n",
       "2           90.0                  2            574               92785   \n",
       "3           84.0                  3            234              408176   \n",
       "4          112.0                  1             48              100000   \n",
       "\n",
       "   day_of_week  month  year  floor_type  living_area_part  kitchen_area_part  \n",
       "0            3      3  2019           3          0.472222           0.231481  \n",
       "1            1     12  2018           1          0.460396           0.272277  \n",
       "2            3      8  2015           3          0.612500           0.148214  \n",
       "3            4      7  2015           3          0.000000           0.000000  \n",
       "4            1      6  2018           3          0.320000           0.410000  \n",
       "\n",
       "[5 rows x 29 columns]"
      ]
     },
     "execution_count": 108,
     "metadata": {},
     "output_type": "execute_result"
    }
   ],
   "source": [
    "df.head()"
   ]
  },
  {
   "cell_type": "markdown",
   "metadata": {},
   "source": [
    "## Исследовательский анализ данных"
   ]
  },
  {
   "cell_type": "markdown",
   "metadata": {},
   "source": [
    "### Изучение параметров: площадь, цена, число комнат, высота потолков"
   ]
  },
  {
   "cell_type": "markdown",
   "metadata": {},
   "source": [
    "Изучите следующие параметры: площадь, цена, число комнат, высота потолков. Постройте гистограммы для каждого параметра."
   ]
  },
  {
   "cell_type": "markdown",
   "metadata": {},
   "source": [
    "#### rooms"
   ]
  },
  {
   "cell_type": "markdown",
   "metadata": {},
   "source": [
    "Исследуем столбец rooms"
   ]
  },
  {
   "cell_type": "code",
   "execution_count": 109,
   "metadata": {},
   "outputs": [
    {
     "data": {
      "text/plain": [
       "count    23650.000000\n",
       "mean         2.070106\n",
       "std          1.078620\n",
       "min          0.000000\n",
       "25%          1.000000\n",
       "50%          2.000000\n",
       "75%          3.000000\n",
       "max         19.000000\n",
       "Name: rooms, dtype: float64"
      ]
     },
     "execution_count": 109,
     "metadata": {},
     "output_type": "execute_result"
    }
   ],
   "source": [
    "df['rooms'].describe()"
   ]
  },
  {
   "cell_type": "markdown",
   "metadata": {},
   "source": [
    "Построим гистограмму"
   ]
  },
  {
   "cell_type": "code",
   "execution_count": 157,
   "metadata": {},
   "outputs": [
    {
     "data": {
      "image/png": "[encoded data removed]",
      "text/plain": [
       "<Figure size 1080x360 with 1 Axes>"
      ]
     },
     "metadata": {
      "needs_background": "light"
     },
     "output_type": "display_data"
    }
   ],
   "source": [
    "df['rooms'].hist(bins=20, figsize=(15,5), range=(0,10))\n",
    "plt.title('Распределение числа комнат')\n",
    "plt.xlabel('Комнаты')\n",
    "plt.ylabel('Количество')\n",
    "plt.show()"
   ]
  },
  {
   "cell_type": "code",
   "execution_count": 111,
   "metadata": {},
   "outputs": [
    {
     "data": {
      "text/plain": [
       "521"
      ]
     },
     "execution_count": 111,
     "metadata": {},
     "output_type": "execute_result"
    }
   ],
   "source": [
    "len(df[df['rooms'] > 4])"
   ]
  },
  {
   "cell_type": "markdown",
   "metadata": {},
   "source": [
    "Количество комнат больше 4 можно считать выбросами"
   ]
  },
  {
   "cell_type": "markdown",
   "metadata": {},
   "source": [
    "#### total_area"
   ]
  },
  {
   "cell_type": "code",
   "execution_count": 112,
   "metadata": {},
   "outputs": [
    {
     "data": {
      "text/plain": [
       "count    23650.000000\n",
       "mean        60.329069\n",
       "std         35.661808\n",
       "min         12.000000\n",
       "25%         40.000000\n",
       "50%         52.000000\n",
       "75%         69.700000\n",
       "max        900.000000\n",
       "Name: total_area, dtype: float64"
      ]
     },
     "execution_count": 112,
     "metadata": {},
     "output_type": "execute_result"
    }
   ],
   "source": [
    "df['total_area'].describe()"
   ]
  },
  {
   "cell_type": "code",
   "execution_count": 161,
   "metadata": {},
   "outputs": [
    {
     "data": {
      "image/png": "[encoded data removed]",
      "text/plain": [
       "<Figure size 1080x360 with 1 Axes>"
      ]
     },
     "metadata": {
      "needs_background": "light"
     },
     "output_type": "display_data"
    }
   ],
   "source": [
    "df['total_area'].hist(bins=900,figsize=(15,5))\n",
    "plt.title('Распределение общей площади')\n",
    "plt.xlabel('Площадь квартиры')\n",
    "plt.ylabel('Количество')\n",
    "plt.show()"
   ]
  },
  {
   "cell_type": "code",
   "execution_count": 114,
   "metadata": {},
   "outputs": [
    {
     "data": {
      "text/plain": [
       "562"
      ]
     },
     "execution_count": 114,
     "metadata": {},
     "output_type": "execute_result"
    }
   ],
   "source": [
    "len(df[df['total_area'] > 150])"
   ]
  },
  {
   "cell_type": "markdown",
   "metadata": {},
   "source": [
    "Площадь квартиры больше 150 можно считать выбросами"
   ]
  },
  {
   "cell_type": "markdown",
   "metadata": {},
   "source": [
    "#### last_price"
   ]
  },
  {
   "cell_type": "code",
   "execution_count": 115,
   "metadata": {},
   "outputs": [
    {
     "data": {
      "text/plain": [
       "count    23650.000000\n",
       "mean         6.541642\n",
       "std         10.896378\n",
       "min          0.430000\n",
       "25%          3.400000\n",
       "50%          4.650000\n",
       "75%          6.799000\n",
       "max        763.000000\n",
       "Name: last_price, dtype: float64"
      ]
     },
     "execution_count": 115,
     "metadata": {},
     "output_type": "execute_result"
    }
   ],
   "source": [
    "df['last_price'].describe()"
   ]
  },
  {
   "cell_type": "code",
   "execution_count": 162,
   "metadata": {},
   "outputs": [
    {
     "data": {
      "image/png": "[encoded data removed]",
      "text/plain": [
       "<Figure size 1080x360 with 1 Axes>"
      ]
     },
     "metadata": {
      "needs_background": "light"
     },
     "output_type": "display_data"
    }
   ],
   "source": [
    "df['last_price'].hist(bins=200,figsize=(15,5), range=(0,200))\n",
    "plt.title('Распределение стоимости квартиры')\n",
    "plt.xlabel('Стоимость')\n",
    "plt.ylabel('Количество')\n",
    "plt.show()"
   ]
  },
  {
   "cell_type": "code",
   "execution_count": 117,
   "metadata": {},
   "outputs": [
    {
     "data": {
      "text/plain": [
       "464"
      ]
     },
     "execution_count": 117,
     "metadata": {},
     "output_type": "execute_result"
    }
   ],
   "source": [
    "len(df[df['last_price'] > 25])"
   ]
  },
  {
   "cell_type": "markdown",
   "metadata": {},
   "source": [
    "Стоимость квартиры больше 25 млн можно считать выбросами"
   ]
  },
  {
   "cell_type": "markdown",
   "metadata": {},
   "source": [
    "#### ceiling_height"
   ]
  },
  {
   "cell_type": "code",
   "execution_count": 118,
   "metadata": {},
   "outputs": [
    {
     "data": {
      "text/plain": [
       "count    14490.000000\n",
       "mean         2.725507\n",
       "std          0.270588\n",
       "min          2.200000\n",
       "25%          2.520000\n",
       "50%          2.650000\n",
       "75%          2.800000\n",
       "max          5.000000\n",
       "Name: ceiling_height, dtype: float64"
      ]
     },
     "execution_count": 118,
     "metadata": {},
     "output_type": "execute_result"
    }
   ],
   "source": [
    "df['ceiling_height'].describe()"
   ]
  },
  {
   "cell_type": "code",
   "execution_count": 119,
   "metadata": {},
   "outputs": [
    {
     "data": {
      "text/plain": [
       "<matplotlib.axes._subplots.AxesSubplot at 0x7f05a27ced10>"
      ]
     },
     "execution_count": 119,
     "metadata": {},
     "output_type": "execute_result"
    },
    {
     "data": {
      "image/png": "[encoded data removed]",
      "text/plain": [
       "<Figure size 1080x360 with 1 Axes>"
      ]
     },
     "metadata": {
      "needs_background": "light"
     },
     "output_type": "display_data"
    }
   ],
   "source": [
    "df['ceiling_height'].hist(bins=6,figsize=(15,5), range=(2,5))\n",
    "plt.title('Распределение высоты потолка')\n",
    "plt.xlabel('Высота потолка')\n",
    "plt.ylabel('Количество')\n",
    "plt.show()"
   ]
  },
  {
   "cell_type": "code",
   "execution_count": 120,
   "metadata": {},
   "outputs": [
    {
     "data": {
      "text/plain": [
       "266"
      ]
     },
     "execution_count": 120,
     "metadata": {},
     "output_type": "execute_result"
    }
   ],
   "source": [
    "len(df[df['ceiling_height'] > 3.5])"
   ]
  },
  {
   "cell_type": "code",
   "execution_count": 121,
   "metadata": {},
   "outputs": [
    {
     "data": {
      "text/plain": [
       "59"
      ]
     },
     "execution_count": 121,
     "metadata": {},
     "output_type": "execute_result"
    }
   ],
   "source": [
    "len(df[df['ceiling_height'] < 2.5])"
   ]
  },
  {
   "cell_type": "markdown",
   "metadata": {},
   "source": [
    "Высоту потолка ниже 2.5 и выше 3.5 можно считать выбросами"
   ]
  },
  {
   "cell_type": "markdown",
   "metadata": {},
   "source": [
    "### Изучение время продажи квартиры"
   ]
  },
  {
   "cell_type": "markdown",
   "metadata": {},
   "source": [
    "Изучите время продажи квартиры. Постройте гистограмму. Посчитайте среднее и медиану. Опишите, сколько обычно занимает продажа. Когда можно считать, что продажи прошли очень быстро, а когда необычно долго?"
   ]
  },
  {
   "cell_type": "code",
   "execution_count": 123,
   "metadata": {},
   "outputs": [
    {
     "data": {
      "text/plain": [
       "count    20470.000000\n",
       "mean       180.753200\n",
       "std        219.777916\n",
       "min          1.000000\n",
       "25%         45.000000\n",
       "50%         95.000000\n",
       "75%        231.000000\n",
       "max       1580.000000\n",
       "Name: days_exposition, dtype: float64"
      ]
     },
     "execution_count": 123,
     "metadata": {},
     "output_type": "execute_result"
    }
   ],
   "source": [
    "df['days_exposition'].describe()"
   ]
  },
  {
   "cell_type": "code",
   "execution_count": 163,
   "metadata": {},
   "outputs": [
    {
     "data": {
      "image/png": "[encoded data removed]",
      "text/plain": [
       "<Figure size 1080x360 with 1 Axes>"
      ]
     },
     "metadata": {
      "needs_background": "light"
     },
     "output_type": "display_data"
    }
   ],
   "source": [
    "df['days_exposition'].hist(bins=1618,figsize=(15,5))\n",
    "plt.title('Распределение времени продажи квартиры')\n",
    "plt.xlabel('Дни')\n",
    "plt.ylabel('Количество')\n",
    "plt.show()"
   ]
  },
  {
   "cell_type": "code",
   "execution_count": 164,
   "metadata": {},
   "outputs": [
    {
     "data": {
      "image/png": "[encoded data removed]",
      "text/plain": [
       "<Figure size 1080x360 with 1 Axes>"
      ]
     },
     "metadata": {
      "needs_background": "light"
     },
     "output_type": "display_data"
    }
   ],
   "source": [
    "df['days_exposition'].hist(bins=500,figsize=(15,5), range=(0,200))\n",
    "plt.title('Распределение времени продажи квартиры')\n",
    "plt.xlabel('Дни')\n",
    "plt.ylabel('Количество')\n",
    "plt.show()"
   ]
  },
  {
   "cell_type": "code",
   "execution_count": 126,
   "metadata": {},
   "outputs": [
    {
     "data": {
      "text/plain": [
       "12.900634249471459"
      ]
     },
     "execution_count": 126,
     "metadata": {},
     "output_type": "execute_result"
    }
   ],
   "source": [
    "100 * len(df[df['days_exposition'] > 365]) / len(df['days_exposition'])"
   ]
  },
  {
   "cell_type": "code",
   "execution_count": 127,
   "metadata": {},
   "outputs": [
    {
     "data": {
      "text/plain": [
       "3.171247357293869"
      ]
     },
     "execution_count": 127,
     "metadata": {},
     "output_type": "execute_result"
    }
   ],
   "source": [
    "100 * (len(df[df['days_exposition'] > 730]) / len(df['days_exposition']))"
   ]
  },
  {
   "cell_type": "markdown",
   "metadata": {},
   "source": [
    "* Среднее время продажи квартиры 186 дней (6 месяцев)\n",
    "* Медианное время продажи квартиры 94 дня (3 месяца)\n",
    "* Максимальное время продажи квартиры 1580 дней (больше 4 лет)\n",
    "* Есть два пика - около 1.5 и 2 месяцев\n",
    "* Также есть небольшие пики около недели, месяца и трех месяцев\n",
    "* Очень быстрой продажей можно считать срок меньше 1.5 месяцев\n",
    "* Больше года продается 12.9% квартир\n",
    "* Срок продажи более двух лет (3.17%) можно считать выбросами"
   ]
  },
  {
   "cell_type": "markdown",
   "metadata": {},
   "source": [
    "### Удаление редких и выбивающихся значений"
   ]
  },
  {
   "cell_type": "markdown",
   "metadata": {},
   "source": [
    "Уберите редкие и выбивающиеся значения. Опишите, какие особенности обнаружили."
   ]
  },
  {
   "cell_type": "markdown",
   "metadata": {},
   "source": [
    "Можно убрать выбросы, установленные в разделе 4.1"
   ]
  },
  {
   "cell_type": "code",
   "execution_count": 128,
   "metadata": {},
   "outputs": [
    {
     "data": {
      "text/plain": [
       "98.03805496828753"
      ]
     },
     "execution_count": 128,
     "metadata": {},
     "output_type": "execute_result"
    }
   ],
   "source": [
    "df_clean = df.query(   \n",
    "    ('ceiling_height <= 3.5' or 'ceiling_height >= 2.5') and\n",
    "    'rooms <= 4' and\n",
    "    'total_area <= 150' and\n",
    "    'last_price <= 25'\n",
    "                   )\n",
    "100 * len(df_clean.index) / len(df.index)"
   ]
  },
  {
   "cell_type": "markdown",
   "metadata": {},
   "source": [
    "Устранено 2% выбросов"
   ]
  },
  {
   "cell_type": "markdown",
   "metadata": {},
   "source": [
    "### Изучение факторов, влияющих на стоимость квартиры"
   ]
  },
  {
   "cell_type": "markdown",
   "metadata": {},
   "source": [
    "Какие факторы больше всего влияют на стоимость квартиры? Изучите, зависит ли цена от площади, числа комнат, удалённости от центра. Изучите зависимость цены от того, на каком этаже расположена квартира: первом, последнем или другом. Также изучите зависимость от даты размещения: дня недели, месяца и года."
   ]
  },
  {
   "cell_type": "markdown",
   "metadata": {},
   "source": [
    "#### Зависимость между ценой и площадью квартиры"
   ]
  },
  {
   "cell_type": "code",
   "execution_count": 129,
   "metadata": {},
   "outputs": [
    {
     "data": {
      "text/plain": [
       "0.7824903480019486"
      ]
     },
     "execution_count": 129,
     "metadata": {},
     "output_type": "execute_result"
    }
   ],
   "source": [
    "df_clean['last_price'].corr(df_clean['total_area'])"
   ]
  },
  {
   "cell_type": "code",
   "execution_count": 130,
   "metadata": {},
   "outputs": [
    {
     "data": {
      "text/plain": [
       "<matplotlib.axes._subplots.AxesSubplot at 0x7f05ac687ad0>"
      ]
     },
     "execution_count": 130,
     "metadata": {},
     "output_type": "execute_result"
    },
    {
     "data": {
      "image/png": "[encoded data removed]",
      "text/plain": [
       "<Figure size 360x360 with 1 Axes>"
      ]
     },
     "metadata": {
      "needs_background": "light"
     },
     "output_type": "display_data"
    }
   ],
   "source": [
    "df_clean.plot(x='last_price', y='total_area', kind='scatter', figsize=(5,5))"
   ]
  },
  {
   "cell_type": "markdown",
   "metadata": {},
   "source": [
    "Довольно сильная зависимость между ценой и площадью квартиры"
   ]
  },
  {
   "cell_type": "markdown",
   "metadata": {},
   "source": [
    "#### Зависимость между ценой и количеством комнат"
   ]
  },
  {
   "cell_type": "code",
   "execution_count": 131,
   "metadata": {},
   "outputs": [
    {
     "data": {
      "text/plain": [
       "0.5199342013301682"
      ]
     },
     "execution_count": 131,
     "metadata": {},
     "output_type": "execute_result"
    }
   ],
   "source": [
    "df_clean['last_price'].corr(df_clean['rooms'])"
   ]
  },
  {
   "cell_type": "code",
   "execution_count": 132,
   "metadata": {},
   "outputs": [
    {
     "data": {
      "text/plain": [
       "<matplotlib.axes._subplots.AxesSubplot at 0x7f05a0d1df10>"
      ]
     },
     "execution_count": 132,
     "metadata": {},
     "output_type": "execute_result"
    },
    {
     "data": {
      "image/png": "[encoded data removed]",
      "text/plain": [
       "<Figure size 360x360 with 1 Axes>"
      ]
     },
     "metadata": {
      "needs_background": "light"
     },
     "output_type": "display_data"
    }
   ],
   "source": [
    "df_clean.plot(x='last_price', y='rooms', kind='scatter', figsize=(5,5))"
   ]
  },
  {
   "cell_type": "markdown",
   "metadata": {},
   "source": [
    "Взаимосвязь есть, но не очень сильная"
   ]
  },
  {
   "cell_type": "markdown",
   "metadata": {},
   "source": [
    "#### Зависимость между ценой и расстоянием до центра"
   ]
  },
  {
   "cell_type": "code",
   "execution_count": 133,
   "metadata": {},
   "outputs": [
    {
     "data": {
      "text/plain": [
       "-0.35221766286652917"
      ]
     },
     "execution_count": 133,
     "metadata": {},
     "output_type": "execute_result"
    }
   ],
   "source": [
    "df_clean['last_price'].corr(df_clean['city_centers_nearest'])"
   ]
  },
  {
   "cell_type": "code",
   "execution_count": 134,
   "metadata": {},
   "outputs": [
    {
     "data": {
      "text/plain": [
       "<matplotlib.axes._subplots.AxesSubplot at 0x7f05a0ce4790>"
      ]
     },
     "execution_count": 134,
     "metadata": {},
     "output_type": "execute_result"
    },
    {
     "data": {
      "image/png": "[encoded data removed]",
      "text/plain": [
       "<Figure size 360x360 with 1 Axes>"
      ]
     },
     "metadata": {
      "needs_background": "light"
     },
     "output_type": "display_data"
    }
   ],
   "source": [
    "df_clean.plot(x='last_price', y='city_centers_nearest', kind='scatter', figsize=(5,5))"
   ]
  },
  {
   "cell_type": "markdown",
   "metadata": {},
   "source": [
    "Слабая обратная взаимосвязь"
   ]
  },
  {
   "cell_type": "markdown",
   "metadata": {},
   "source": [
    "#### Зависимость между ценой и днем недели публикации объявления"
   ]
  },
  {
   "cell_type": "code",
   "execution_count": 135,
   "metadata": {},
   "outputs": [
    {
     "data": {
      "text/plain": [
       "-0.015237717552728333"
      ]
     },
     "execution_count": 135,
     "metadata": {},
     "output_type": "execute_result"
    }
   ],
   "source": [
    "df_clean['last_price'].corr(df_clean['day_of_week'])"
   ]
  },
  {
   "cell_type": "code",
   "execution_count": 136,
   "metadata": {},
   "outputs": [
    {
     "data": {
      "text/plain": [
       "<matplotlib.axes._subplots.AxesSubplot at 0x7f05a0c57690>"
      ]
     },
     "execution_count": 136,
     "metadata": {},
     "output_type": "execute_result"
    },
    {
     "data": {
      "image/png": "[encoded data removed]",
      "text/plain": [
       "<Figure size 360x360 with 1 Axes>"
      ]
     },
     "metadata": {
      "needs_background": "light"
     },
     "output_type": "display_data"
    }
   ],
   "source": [
    "df_clean.plot(x='last_price', y='day_of_week', kind='scatter', figsize=(5,5))"
   ]
  },
  {
   "cell_type": "markdown",
   "metadata": {},
   "source": [
    "Связь отсутствует"
   ]
  },
  {
   "cell_type": "markdown",
   "metadata": {},
   "source": [
    "#### Зависимость между ценой и годом публикации объявления"
   ]
  },
  {
   "cell_type": "code",
   "execution_count": 137,
   "metadata": {},
   "outputs": [
    {
     "data": {
      "text/plain": [
       "-0.03308872603983384"
      ]
     },
     "execution_count": 137,
     "metadata": {},
     "output_type": "execute_result"
    }
   ],
   "source": [
    "df_clean['last_price'].corr(df_clean['year'])"
   ]
  },
  {
   "cell_type": "code",
   "execution_count": 138,
   "metadata": {},
   "outputs": [
    {
     "data": {
      "text/plain": [
       "<matplotlib.axes._subplots.AxesSubplot at 0x7f05a0bc6590>"
      ]
     },
     "execution_count": 138,
     "metadata": {},
     "output_type": "execute_result"
    },
    {
     "data": {
      "image/png": "[encoded data removed]",
      "text/plain": [
       "<Figure size 360x360 with 1 Axes>"
      ]
     },
     "metadata": {
      "needs_background": "light"
     },
     "output_type": "display_data"
    }
   ],
   "source": [
    "df_clean.plot(x='last_price', y='year', kind='scatter', figsize=(5,5))"
   ]
  },
  {
   "cell_type": "markdown",
   "metadata": {},
   "source": [
    "Связь отсутствует"
   ]
  },
  {
   "cell_type": "markdown",
   "metadata": {},
   "source": [
    "#### Зависимость между ценой и месяцем публикации объявления"
   ]
  },
  {
   "cell_type": "code",
   "execution_count": 139,
   "metadata": {},
   "outputs": [
    {
     "data": {
      "text/plain": [
       "-4.474919881560762e-05"
      ]
     },
     "execution_count": 139,
     "metadata": {},
     "output_type": "execute_result"
    }
   ],
   "source": [
    "df_clean['last_price'].corr(df_clean['month'])"
   ]
  },
  {
   "cell_type": "code",
   "execution_count": 140,
   "metadata": {},
   "outputs": [
    {
     "data": {
      "text/plain": [
       "<matplotlib.axes._subplots.AxesSubplot at 0x7f05a0bacfd0>"
      ]
     },
     "execution_count": 140,
     "metadata": {},
     "output_type": "execute_result"
    },
    {
     "data": {
      "image/png": "[encoded data removed]",
      "text/plain": [
       "<Figure size 1080x360 with 1 Axes>"
      ]
     },
     "metadata": {
      "needs_background": "light"
     },
     "output_type": "display_data"
    }
   ],
   "source": [
    "df_clean.plot(x='last_price', y='month', kind='scatter', figsize=(15,5))"
   ]
  },
  {
   "cell_type": "markdown",
   "metadata": {},
   "source": [
    "Связь отсутствует"
   ]
  },
  {
   "cell_type": "markdown",
   "metadata": {},
   "source": [
    "#### Зависимость между ценой и этажом"
   ]
  },
  {
   "cell_type": "code",
   "execution_count": 141,
   "metadata": {},
   "outputs": [
    {
     "data": {
      "text/plain": [
       "0.12068370580006295"
      ]
     },
     "execution_count": 141,
     "metadata": {},
     "output_type": "execute_result"
    }
   ],
   "source": [
    "df_clean['last_price'].corr(df_clean['floor_type'])"
   ]
  },
  {
   "cell_type": "code",
   "execution_count": 142,
   "metadata": {},
   "outputs": [
    {
     "data": {
      "text/plain": [
       "<matplotlib.axes._subplots.AxesSubplot at 0x7f05a0b0cdd0>"
      ]
     },
     "execution_count": 142,
     "metadata": {},
     "output_type": "execute_result"
    },
    {
     "data": {
      "image/png": "[encoded data removed]",
      "text/plain": [
       "<Figure size 360x360 with 1 Axes>"
      ]
     },
     "metadata": {
      "needs_background": "light"
     },
     "output_type": "display_data"
    }
   ],
   "source": [
    "df_clean.plot(x='last_price', y='floor_type', kind='scatter', figsize=(5,5))"
   ]
  },
  {
   "cell_type": "markdown",
   "metadata": {},
   "source": [
    "Связь практически отсутствует"
   ]
  },
  {
   "cell_type": "markdown",
   "metadata": {},
   "source": [
    "### Изучение населённых пунктов с наибольшим числом объявлений"
   ]
  },
  {
   "cell_type": "markdown",
   "metadata": {},
   "source": [
    "Выберите 10 населённых пунктов с наибольшим числом объявлений. Посчитайте среднюю цену квадратного метра в этих населённых пунктах. Выделите населённые пункты с самой высокой и низкой стоимостью жилья. Эти данные можно найти по имени в столбце locality_name."
   ]
  },
  {
   "cell_type": "code",
   "execution_count": 143,
   "metadata": {},
   "outputs": [
    {
     "data": {
      "text/plain": [
       "['Санкт-Петербург',\n",
       " 'Мурино',\n",
       " 'Кудрово',\n",
       " 'Шушары',\n",
       " 'Всеволожск',\n",
       " 'Пушкин',\n",
       " 'Колпино',\n",
       " 'Парголово',\n",
       " 'Гатчина',\n",
       " 'Выборг']"
      ]
     },
     "execution_count": 143,
     "metadata": {},
     "output_type": "execute_result"
    }
   ],
   "source": [
    "top_cities = df.groupby('locality_name')['square_meter_price'].count().sort_values(ascending=False).head(10).index.tolist()\n",
    "top_cities"
   ]
  },
  {
   "cell_type": "code",
   "execution_count": 144,
   "metadata": {},
   "outputs": [
    {
     "data": {
      "text/plain": [
       "locality_name\n",
       "Санкт-Петербург    109740.336172\n",
       "Пушкин             102151.113260\n",
       "Кудрово             95324.472458\n",
       "Парголово           90175.486239\n",
       "Мурино              86087.054237\n",
       "Шушары              78676.902273\n",
       "Колпино             75332.866469\n",
       "Гатчина             68745.690554\n",
       "Всеволожск          68654.007538\n",
       "Выборг              58141.489451\n",
       "Name: square_meter_price, dtype: float64"
      ]
     },
     "execution_count": 144,
     "metadata": {},
     "output_type": "execute_result"
    }
   ],
   "source": [
    "top_price = df_clean.query('locality_name in @top_cities').groupby('locality_name')['square_meter_price'].mean().sort_values(ascending=False)\n",
    "top_price"
   ]
  },
  {
   "cell_type": "code",
   "execution_count": 145,
   "metadata": {},
   "outputs": [
    {
     "data": {
      "text/plain": [
       "<matplotlib.axes._subplots.AxesSubplot at 0x7f05a0af4350>"
      ]
     },
     "execution_count": 145,
     "metadata": {},
     "output_type": "execute_result"
    },
    {
     "data": {
      "image/png": "[encoded data removed]",
      "text/plain": [
       "<Figure size 360x360 with 1 Axes>"
      ]
     },
     "metadata": {},
     "output_type": "display_data"
    }
   ],
   "source": [
    "top_price.plot(x='locality_name', y=top_price.index, kind='pie', figsize=(5,5), autopct='%1.1f%%')"
   ]
  },
  {
   "cell_type": "markdown",
   "metadata": {},
   "source": [
    "Ожидаемо, самая высокая стоимость метра в Санкт-Петербурге  \n",
    "На втором месте город Пушкин (крупный город, считается территорией Петербурга)  \n",
    "Потом идут ближайшие пригороды и крупные города недалеко от Петербурга  \n",
    "Самая низкая стоимость жилья в Выборге, городе \"с историей\", но далеко от метрополии"
   ]
  },
  {
   "cell_type": "markdown",
   "metadata": {},
   "source": [
    "###  Выделение квартир в Санкт-Петербурге и определение границ центра"
   ]
  },
  {
   "cell_type": "markdown",
   "metadata": {},
   "source": [
    "Изучите предложения квартир: для каждой квартиры есть информация о расстоянии до центра. Выделите квартиры в Санкт-Петербурге (locality_name). Ваша задача — выяснить, какая область входит в центр. Создайте столбец с расстоянием до центра в километрах: округлите до целых значений. После этого посчитайте среднюю цену для каждого километра. Постройте график: он должен показывать, как цена зависит от удалённости от центра. Определите границу, где график сильно меняется, — это и будет центральная зона."
   ]
  },
  {
   "cell_type": "code",
   "execution_count": 146,
   "metadata": {},
   "outputs": [
    {
     "data": {
      "text/html": [
       "<div>\n",
       "<style scoped>\n",
       "    .dataframe tbody tr th:only-of-type {\n",
       "        vertical-align: middle;\n",
       "    }\n",
       "\n",
       "    .dataframe tbody tr th {\n",
       "        vertical-align: top;\n",
       "    }\n",
       "\n",
       "    .dataframe thead th {\n",
       "        text-align: right;\n",
       "    }\n",
       "</style>\n",
       "<table border=\"1\" class=\"dataframe\">\n",
       "  <thead>\n",
       "    <tr style=\"text-align: right;\">\n",
       "      <th></th>\n",
       "      <th>locality_name</th>\n",
       "      <th>last_price</th>\n",
       "      <th>first_day_exposition</th>\n",
       "      <th>days_exposition</th>\n",
       "      <th>total_images</th>\n",
       "      <th>rooms</th>\n",
       "      <th>floor</th>\n",
       "      <th>floors_total</th>\n",
       "      <th>total_area</th>\n",
       "      <th>living_area</th>\n",
       "      <th>...</th>\n",
       "      <th>ponds_around_3000</th>\n",
       "      <th>ponds_nearest</th>\n",
       "      <th>square_meter_price</th>\n",
       "      <th>day_of_week</th>\n",
       "      <th>month</th>\n",
       "      <th>year</th>\n",
       "      <th>floor_type</th>\n",
       "      <th>living_area_part</th>\n",
       "      <th>kitchen_area_part</th>\n",
       "      <th>city_centers_km</th>\n",
       "    </tr>\n",
       "  </thead>\n",
       "  <tbody>\n",
       "    <tr>\n",
       "      <td>0</td>\n",
       "      <td>Санкт-Петербург</td>\n",
       "      <td>13.000</td>\n",
       "      <td>2019-03-07</td>\n",
       "      <td>NaN</td>\n",
       "      <td>20</td>\n",
       "      <td>3</td>\n",
       "      <td>8</td>\n",
       "      <td>16</td>\n",
       "      <td>108.0</td>\n",
       "      <td>51.0</td>\n",
       "      <td>...</td>\n",
       "      <td>2</td>\n",
       "      <td>755</td>\n",
       "      <td>120370</td>\n",
       "      <td>3</td>\n",
       "      <td>3</td>\n",
       "      <td>2019</td>\n",
       "      <td>3</td>\n",
       "      <td>0.472222</td>\n",
       "      <td>0.231481</td>\n",
       "      <td>16</td>\n",
       "    </tr>\n",
       "    <tr>\n",
       "      <td>2</td>\n",
       "      <td>Санкт-Петербург</td>\n",
       "      <td>5.196</td>\n",
       "      <td>2015-08-20</td>\n",
       "      <td>558.0</td>\n",
       "      <td>10</td>\n",
       "      <td>2</td>\n",
       "      <td>4</td>\n",
       "      <td>5</td>\n",
       "      <td>56.0</td>\n",
       "      <td>34.3</td>\n",
       "      <td>...</td>\n",
       "      <td>2</td>\n",
       "      <td>574</td>\n",
       "      <td>92785</td>\n",
       "      <td>3</td>\n",
       "      <td>8</td>\n",
       "      <td>2015</td>\n",
       "      <td>3</td>\n",
       "      <td>0.612500</td>\n",
       "      <td>0.148214</td>\n",
       "      <td>13</td>\n",
       "    </tr>\n",
       "    <tr>\n",
       "      <td>4</td>\n",
       "      <td>Санкт-Петербург</td>\n",
       "      <td>10.000</td>\n",
       "      <td>2018-06-19</td>\n",
       "      <td>121.0</td>\n",
       "      <td>2</td>\n",
       "      <td>2</td>\n",
       "      <td>13</td>\n",
       "      <td>14</td>\n",
       "      <td>100.0</td>\n",
       "      <td>32.0</td>\n",
       "      <td>...</td>\n",
       "      <td>1</td>\n",
       "      <td>48</td>\n",
       "      <td>100000</td>\n",
       "      <td>1</td>\n",
       "      <td>6</td>\n",
       "      <td>2018</td>\n",
       "      <td>3</td>\n",
       "      <td>0.320000</td>\n",
       "      <td>0.410000</td>\n",
       "      <td>8</td>\n",
       "    </tr>\n",
       "    <tr>\n",
       "      <td>7</td>\n",
       "      <td>Санкт-Петербург</td>\n",
       "      <td>7.915</td>\n",
       "      <td>2019-04-18</td>\n",
       "      <td>NaN</td>\n",
       "      <td>5</td>\n",
       "      <td>2</td>\n",
       "      <td>22</td>\n",
       "      <td>24</td>\n",
       "      <td>71.6</td>\n",
       "      <td>0.0</td>\n",
       "      <td>...</td>\n",
       "      <td>0</td>\n",
       "      <td>4000</td>\n",
       "      <td>110544</td>\n",
       "      <td>3</td>\n",
       "      <td>4</td>\n",
       "      <td>2019</td>\n",
       "      <td>3</td>\n",
       "      <td>0.000000</td>\n",
       "      <td>0.263966</td>\n",
       "      <td>11</td>\n",
       "    </tr>\n",
       "    <tr>\n",
       "      <td>9</td>\n",
       "      <td>Санкт-Петербург</td>\n",
       "      <td>5.400</td>\n",
       "      <td>2017-02-26</td>\n",
       "      <td>289.0</td>\n",
       "      <td>18</td>\n",
       "      <td>3</td>\n",
       "      <td>7</td>\n",
       "      <td>9</td>\n",
       "      <td>61.0</td>\n",
       "      <td>43.6</td>\n",
       "      <td>...</td>\n",
       "      <td>0</td>\n",
       "      <td>4000</td>\n",
       "      <td>88524</td>\n",
       "      <td>6</td>\n",
       "      <td>2</td>\n",
       "      <td>2017</td>\n",
       "      <td>3</td>\n",
       "      <td>0.714754</td>\n",
       "      <td>0.106557</td>\n",
       "      <td>15</td>\n",
       "    </tr>\n",
       "  </tbody>\n",
       "</table>\n",
       "<p>5 rows × 30 columns</p>\n",
       "</div>"
      ],
      "text/plain": [
       "     locality_name  last_price first_day_exposition  days_exposition  \\\n",
       "0  Санкт-Петербург      13.000           2019-03-07              NaN   \n",
       "2  Санкт-Петербург       5.196           2015-08-20            558.0   \n",
       "4  Санкт-Петербург      10.000           2018-06-19            121.0   \n",
       "7  Санкт-Петербург       7.915           2019-04-18              NaN   \n",
       "9  Санкт-Петербург       5.400           2017-02-26            289.0   \n",
       "\n",
       "   total_images  rooms  floor  floors_total  total_area  living_area  ...  \\\n",
       "0            20      3      8            16       108.0         51.0  ...   \n",
       "2            10      2      4             5        56.0         34.3  ...   \n",
       "4             2      2     13            14       100.0         32.0  ...   \n",
       "7             5      2     22            24        71.6          0.0  ...   \n",
       "9            18      3      7             9        61.0         43.6  ...   \n",
       "\n",
       "   ponds_around_3000  ponds_nearest  square_meter_price  day_of_week  month  \\\n",
       "0                  2            755              120370            3      3   \n",
       "2                  2            574               92785            3      8   \n",
       "4                  1             48              100000            1      6   \n",
       "7                  0           4000              110544            3      4   \n",
       "9                  0           4000               88524            6      2   \n",
       "\n",
       "   year  floor_type  living_area_part  kitchen_area_part  city_centers_km  \n",
       "0  2019           3          0.472222           0.231481               16  \n",
       "2  2015           3          0.612500           0.148214               13  \n",
       "4  2018           3          0.320000           0.410000                8  \n",
       "7  2019           3          0.000000           0.263966               11  \n",
       "9  2017           3          0.714754           0.106557               15  \n",
       "\n",
       "[5 rows x 30 columns]"
      ]
     },
     "execution_count": 146,
     "metadata": {},
     "output_type": "execute_result"
    }
   ],
   "source": [
    "df_spb = df_clean.query('locality_name == \"Санкт-Петербург\"').dropna(subset=['city_centers_nearest'])\n",
    "df_spb['city_centers_km'] = (df_spb['city_centers_nearest'] / 1000).astype(int)\n",
    "df_spb.head()"
   ]
  },
  {
   "cell_type": "code",
   "execution_count": 147,
   "metadata": {},
   "outputs": [
    {
     "data": {
      "text/plain": [
       "<matplotlib.axes._subplots.AxesSubplot at 0x7f05a0a23cd0>"
      ]
     },
     "execution_count": 147,
     "metadata": {},
     "output_type": "execute_result"
    },
    {
     "data": {
      "image/png": "[encoded data removed]",
      "text/plain": [
       "<Figure size 1080x360 with 1 Axes>"
      ]
     },
     "metadata": {
      "needs_background": "light"
     },
     "output_type": "display_data"
    }
   ],
   "source": [
    "df_spb.groupby('city_centers_km')['square_meter_price'].median().plot(\n",
    "    x='city_centers_km', y=df_spb.index, kind='line', figsize=(15,5), grid=True)"
   ]
  },
  {
   "cell_type": "markdown",
   "metadata": {},
   "source": [
    "График плавно идет вниз до точки 3 км, после этого \"скачет\" в разных точках, видимо, там стоимость кв.м. зависит от каких-то других параметров"
   ]
  },
  {
   "cell_type": "markdown",
   "metadata": {},
   "source": [
    "### Изучение квартир в центре Санкт-Петербурга"
   ]
  },
  {
   "cell_type": "markdown",
   "metadata": {},
   "source": [
    "Выделите сегмент квартир в центре. Проанализируйте эту территорию и изучите следующие параметры: площадь, цена, число комнат, высота потолков. Также выделите факторы, которые влияют на стоимость квартиры (число комнат, этаж, удалённость от центра, дата размещения объявления). Сделайте выводы. Отличаются ли они от общих выводов по всему городу?"
   ]
  },
  {
   "cell_type": "markdown",
   "metadata": {},
   "source": [
    "#### Выделим необходимые параметры в отдельные таблицы для центра Петербурга и зоны вне центра"
   ]
  },
  {
   "cell_type": "code",
   "execution_count": 169,
   "metadata": {},
   "outputs": [],
   "source": [
    "spb_center = df_spb.query('city_centers_km <= 3').loc[:, [\n",
    "    'total_area', 'last_price', 'square_meter_price', 'rooms', \n",
    "    'ceiling_height', 'year', 'floor', 'floor_type', 'city_centers_km']]\n",
    "\n",
    "spb = df_spb.query('city_centers_km > 3').loc[:, [\n",
    "    'total_area', 'last_price', 'square_meter_price', 'rooms', \n",
    "    'ceiling_height', 'year', 'floor', 'floor_type', 'city_centers_km']]"
   ]
  },
  {
   "cell_type": "code",
   "execution_count": 170,
   "metadata": {},
   "outputs": [
    {
     "data": {
      "text/html": [
       "<div>\n",
       "<style scoped>\n",
       "    .dataframe tbody tr th:only-of-type {\n",
       "        vertical-align: middle;\n",
       "    }\n",
       "\n",
       "    .dataframe tbody tr th {\n",
       "        vertical-align: top;\n",
       "    }\n",
       "\n",
       "    .dataframe thead th {\n",
       "        text-align: right;\n",
       "    }\n",
       "</style>\n",
       "<table border=\"1\" class=\"dataframe\">\n",
       "  <thead>\n",
       "    <tr style=\"text-align: right;\">\n",
       "      <th></th>\n",
       "      <th>total_area</th>\n",
       "      <th>last_price</th>\n",
       "      <th>square_meter_price</th>\n",
       "      <th>rooms</th>\n",
       "      <th>ceiling_height</th>\n",
       "      <th>year</th>\n",
       "      <th>floor</th>\n",
       "      <th>floor_type</th>\n",
       "      <th>city_centers_km</th>\n",
       "    </tr>\n",
       "  </thead>\n",
       "  <tbody>\n",
       "    <tr>\n",
       "      <td>24</td>\n",
       "      <td>97.2</td>\n",
       "      <td>6.5</td>\n",
       "      <td>66872</td>\n",
       "      <td>2</td>\n",
       "      <td>NaN</td>\n",
       "      <td>2015</td>\n",
       "      <td>1</td>\n",
       "      <td>1</td>\n",
       "      <td>2</td>\n",
       "    </tr>\n",
       "    <tr>\n",
       "      <td>35</td>\n",
       "      <td>149.0</td>\n",
       "      <td>15.5</td>\n",
       "      <td>104026</td>\n",
       "      <td>5</td>\n",
       "      <td>NaN</td>\n",
       "      <td>2017</td>\n",
       "      <td>4</td>\n",
       "      <td>3</td>\n",
       "      <td>3</td>\n",
       "    </tr>\n",
       "    <tr>\n",
       "      <td>99</td>\n",
       "      <td>90.0</td>\n",
       "      <td>9.6</td>\n",
       "      <td>106666</td>\n",
       "      <td>4</td>\n",
       "      <td>NaN</td>\n",
       "      <td>2017</td>\n",
       "      <td>2</td>\n",
       "      <td>3</td>\n",
       "      <td>2</td>\n",
       "    </tr>\n",
       "    <tr>\n",
       "      <td>136</td>\n",
       "      <td>51.8</td>\n",
       "      <td>6.5</td>\n",
       "      <td>125482</td>\n",
       "      <td>2</td>\n",
       "      <td>3.45</td>\n",
       "      <td>2018</td>\n",
       "      <td>2</td>\n",
       "      <td>3</td>\n",
       "      <td>3</td>\n",
       "    </tr>\n",
       "    <tr>\n",
       "      <td>138</td>\n",
       "      <td>40.0</td>\n",
       "      <td>4.8</td>\n",
       "      <td>120000</td>\n",
       "      <td>2</td>\n",
       "      <td>NaN</td>\n",
       "      <td>2017</td>\n",
       "      <td>2</td>\n",
       "      <td>3</td>\n",
       "      <td>2</td>\n",
       "    </tr>\n",
       "  </tbody>\n",
       "</table>\n",
       "</div>"
      ],
      "text/plain": [
       "     total_area  last_price  square_meter_price  rooms  ceiling_height  year  \\\n",
       "24         97.2         6.5               66872      2             NaN  2015   \n",
       "35        149.0        15.5              104026      5             NaN  2017   \n",
       "99         90.0         9.6              106666      4             NaN  2017   \n",
       "136        51.8         6.5              125482      2            3.45  2018   \n",
       "138        40.0         4.8              120000      2             NaN  2017   \n",
       "\n",
       "     floor  floor_type  city_centers_km  \n",
       "24       1           1                2  \n",
       "35       4           3                3  \n",
       "99       2           3                2  \n",
       "136      2           3                3  \n",
       "138      2           3                2  "
      ]
     },
     "execution_count": 170,
     "metadata": {},
     "output_type": "execute_result"
    }
   ],
   "source": [
    "spb_center.head()"
   ]
  },
  {
   "cell_type": "code",
   "execution_count": 167,
   "metadata": {},
   "outputs": [
    {
     "data": {
      "text/html": [
       "<div>\n",
       "<style scoped>\n",
       "    .dataframe tbody tr th:only-of-type {\n",
       "        vertical-align: middle;\n",
       "    }\n",
       "\n",
       "    .dataframe tbody tr th {\n",
       "        vertical-align: top;\n",
       "    }\n",
       "\n",
       "    .dataframe thead th {\n",
       "        text-align: right;\n",
       "    }\n",
       "</style>\n",
       "<table border=\"1\" class=\"dataframe\">\n",
       "  <thead>\n",
       "    <tr style=\"text-align: right;\">\n",
       "      <th></th>\n",
       "      <th>total_area</th>\n",
       "      <th>last_price</th>\n",
       "      <th>square_meter_price</th>\n",
       "      <th>rooms</th>\n",
       "      <th>ceiling_height</th>\n",
       "      <th>year</th>\n",
       "      <th>floor</th>\n",
       "      <th>floor_type</th>\n",
       "      <th>city_centers_km</th>\n",
       "    </tr>\n",
       "  </thead>\n",
       "  <tbody>\n",
       "    <tr>\n",
       "      <td>0</td>\n",
       "      <td>108.0</td>\n",
       "      <td>13.000</td>\n",
       "      <td>120370</td>\n",
       "      <td>3</td>\n",
       "      <td>2.70</td>\n",
       "      <td>2019</td>\n",
       "      <td>8</td>\n",
       "      <td>3</td>\n",
       "      <td>16</td>\n",
       "    </tr>\n",
       "    <tr>\n",
       "      <td>2</td>\n",
       "      <td>56.0</td>\n",
       "      <td>5.196</td>\n",
       "      <td>92785</td>\n",
       "      <td>2</td>\n",
       "      <td>NaN</td>\n",
       "      <td>2015</td>\n",
       "      <td>4</td>\n",
       "      <td>3</td>\n",
       "      <td>13</td>\n",
       "    </tr>\n",
       "    <tr>\n",
       "      <td>7</td>\n",
       "      <td>71.6</td>\n",
       "      <td>7.915</td>\n",
       "      <td>110544</td>\n",
       "      <td>2</td>\n",
       "      <td>NaN</td>\n",
       "      <td>2019</td>\n",
       "      <td>22</td>\n",
       "      <td>3</td>\n",
       "      <td>11</td>\n",
       "    </tr>\n",
       "    <tr>\n",
       "      <td>9</td>\n",
       "      <td>61.0</td>\n",
       "      <td>5.400</td>\n",
       "      <td>88524</td>\n",
       "      <td>3</td>\n",
       "      <td>2.50</td>\n",
       "      <td>2017</td>\n",
       "      <td>7</td>\n",
       "      <td>3</td>\n",
       "      <td>15</td>\n",
       "    </tr>\n",
       "    <tr>\n",
       "      <td>10</td>\n",
       "      <td>39.6</td>\n",
       "      <td>5.050</td>\n",
       "      <td>127525</td>\n",
       "      <td>1</td>\n",
       "      <td>2.67</td>\n",
       "      <td>2017</td>\n",
       "      <td>3</td>\n",
       "      <td>3</td>\n",
       "      <td>13</td>\n",
       "    </tr>\n",
       "  </tbody>\n",
       "</table>\n",
       "</div>"
      ],
      "text/plain": [
       "    total_area  last_price  square_meter_price  rooms  ceiling_height  year  \\\n",
       "0        108.0      13.000              120370      3            2.70  2019   \n",
       "2         56.0       5.196               92785      2             NaN  2015   \n",
       "7         71.6       7.915              110544      2             NaN  2019   \n",
       "9         61.0       5.400               88524      3            2.50  2017   \n",
       "10        39.6       5.050              127525      1            2.67  2017   \n",
       "\n",
       "    floor  floor_type  city_centers_km  \n",
       "0       8           3               16  \n",
       "2       4           3               13  \n",
       "7      22           3               11  \n",
       "9       7           3               15  \n",
       "10      3           3               13  "
      ]
     },
     "execution_count": 167,
     "metadata": {},
     "output_type": "execute_result"
    }
   ],
   "source": [
    "spb.head()"
   ]
  },
  {
   "cell_type": "markdown",
   "metadata": {},
   "source": [
    "#### Изучим следующие параметры: площадь, цена, число комнат, высота потолков"
   ]
  },
  {
   "cell_type": "code",
   "execution_count": 168,
   "metadata": {},
   "outputs": [
    {
     "data": {
      "text/html": [
       "<div>\n",
       "<style scoped>\n",
       "    .dataframe tbody tr th:only-of-type {\n",
       "        vertical-align: middle;\n",
       "    }\n",
       "\n",
       "    .dataframe tbody tr th {\n",
       "        vertical-align: top;\n",
       "    }\n",
       "\n",
       "    .dataframe thead th {\n",
       "        text-align: right;\n",
       "    }\n",
       "</style>\n",
       "<table border=\"1\" class=\"dataframe\">\n",
       "  <thead>\n",
       "    <tr style=\"text-align: right;\">\n",
       "      <th></th>\n",
       "      <th>total_area</th>\n",
       "      <th>last_price</th>\n",
       "      <th>square_meter_price</th>\n",
       "      <th>rooms</th>\n",
       "      <th>ceiling_height</th>\n",
       "      <th>year</th>\n",
       "      <th>floor</th>\n",
       "      <th>floor_type</th>\n",
       "      <th>city_centers_km</th>\n",
       "    </tr>\n",
       "  </thead>\n",
       "  <tbody>\n",
       "    <tr>\n",
       "      <td>count</td>\n",
       "      <td>3975.000000</td>\n",
       "      <td>3975.000000</td>\n",
       "      <td>3975.000000</td>\n",
       "      <td>3975.000000</td>\n",
       "      <td>2590.000000</td>\n",
       "      <td>3975.000000</td>\n",
       "      <td>3975.000000</td>\n",
       "      <td>3975.000000</td>\n",
       "      <td>3975.000000</td>\n",
       "    </tr>\n",
       "    <tr>\n",
       "      <td>mean</td>\n",
       "      <td>77.646008</td>\n",
       "      <td>9.442412</td>\n",
       "      <td>124760.305660</td>\n",
       "      <td>2.570314</td>\n",
       "      <td>3.013660</td>\n",
       "      <td>2017.220377</td>\n",
       "      <td>4.380881</td>\n",
       "      <td>2.608302</td>\n",
       "      <td>4.824654</td>\n",
       "    </tr>\n",
       "    <tr>\n",
       "      <td>std</td>\n",
       "      <td>36.553258</td>\n",
       "      <td>4.770048</td>\n",
       "      <td>39268.549525</td>\n",
       "      <td>1.244424</td>\n",
       "      <td>0.341658</td>\n",
       "      <td>1.107797</td>\n",
       "      <td>3.215751</td>\n",
       "      <td>0.681395</td>\n",
       "      <td>2.122612</td>\n",
       "    </tr>\n",
       "    <tr>\n",
       "      <td>min</td>\n",
       "      <td>12.000000</td>\n",
       "      <td>1.600000</td>\n",
       "      <td>15345.000000</td>\n",
       "      <td>0.000000</td>\n",
       "      <td>2.400000</td>\n",
       "      <td>2014.000000</td>\n",
       "      <td>1.000000</td>\n",
       "      <td>1.000000</td>\n",
       "      <td>0.000000</td>\n",
       "    </tr>\n",
       "    <tr>\n",
       "      <td>25%</td>\n",
       "      <td>50.950000</td>\n",
       "      <td>5.990000</td>\n",
       "      <td>97757.500000</td>\n",
       "      <td>2.000000</td>\n",
       "      <td>2.750000</td>\n",
       "      <td>2017.000000</td>\n",
       "      <td>2.000000</td>\n",
       "      <td>2.000000</td>\n",
       "      <td>3.000000</td>\n",
       "    </tr>\n",
       "    <tr>\n",
       "      <td>50%</td>\n",
       "      <td>70.800000</td>\n",
       "      <td>8.250000</td>\n",
       "      <td>117848.000000</td>\n",
       "      <td>2.000000</td>\n",
       "      <td>3.000000</td>\n",
       "      <td>2017.000000</td>\n",
       "      <td>4.000000</td>\n",
       "      <td>3.000000</td>\n",
       "      <td>5.000000</td>\n",
       "    </tr>\n",
       "    <tr>\n",
       "      <td>75%</td>\n",
       "      <td>95.000000</td>\n",
       "      <td>11.800000</td>\n",
       "      <td>142484.000000</td>\n",
       "      <td>3.000000</td>\n",
       "      <td>3.200000</td>\n",
       "      <td>2018.000000</td>\n",
       "      <td>5.000000</td>\n",
       "      <td>3.000000</td>\n",
       "      <td>7.000000</td>\n",
       "    </tr>\n",
       "    <tr>\n",
       "      <td>max</td>\n",
       "      <td>363.000000</td>\n",
       "      <td>25.000000</td>\n",
       "      <td>600000.000000</td>\n",
       "      <td>14.000000</td>\n",
       "      <td>4.800000</td>\n",
       "      <td>2019.000000</td>\n",
       "      <td>24.000000</td>\n",
       "      <td>3.000000</td>\n",
       "      <td>8.000000</td>\n",
       "    </tr>\n",
       "  </tbody>\n",
       "</table>\n",
       "</div>"
      ],
      "text/plain": [
       "        total_area   last_price  square_meter_price        rooms  \\\n",
       "count  3975.000000  3975.000000         3975.000000  3975.000000   \n",
       "mean     77.646008     9.442412       124760.305660     2.570314   \n",
       "std      36.553258     4.770048        39268.549525     1.244424   \n",
       "min      12.000000     1.600000        15345.000000     0.000000   \n",
       "25%      50.950000     5.990000        97757.500000     2.000000   \n",
       "50%      70.800000     8.250000       117848.000000     2.000000   \n",
       "75%      95.000000    11.800000       142484.000000     3.000000   \n",
       "max     363.000000    25.000000       600000.000000    14.000000   \n",
       "\n",
       "       ceiling_height         year        floor   floor_type  city_centers_km  \n",
       "count     2590.000000  3975.000000  3975.000000  3975.000000      3975.000000  \n",
       "mean         3.013660  2017.220377     4.380881     2.608302         4.824654  \n",
       "std          0.341658     1.107797     3.215751     0.681395         2.122612  \n",
       "min          2.400000  2014.000000     1.000000     1.000000         0.000000  \n",
       "25%          2.750000  2017.000000     2.000000     2.000000         3.000000  \n",
       "50%          3.000000  2017.000000     4.000000     3.000000         5.000000  \n",
       "75%          3.200000  2018.000000     5.000000     3.000000         7.000000  \n",
       "max          4.800000  2019.000000    24.000000     3.000000         8.000000  "
      ]
     },
     "execution_count": 168,
     "metadata": {},
     "output_type": "execute_result"
    }
   ],
   "source": [
    "spb_center.describe()"
   ]
  },
  {
   "cell_type": "code",
   "execution_count": 152,
   "metadata": {},
   "outputs": [
    {
     "data": {
      "text/html": [
       "<div>\n",
       "<style scoped>\n",
       "    .dataframe tbody tr th:only-of-type {\n",
       "        vertical-align: middle;\n",
       "    }\n",
       "\n",
       "    .dataframe tbody tr th {\n",
       "        vertical-align: top;\n",
       "    }\n",
       "\n",
       "    .dataframe thead th {\n",
       "        text-align: right;\n",
       "    }\n",
       "</style>\n",
       "<table border=\"1\" class=\"dataframe\">\n",
       "  <thead>\n",
       "    <tr style=\"text-align: right;\">\n",
       "      <th></th>\n",
       "      <th>total_area</th>\n",
       "      <th>last_price</th>\n",
       "      <th>square_meter_price</th>\n",
       "      <th>rooms</th>\n",
       "      <th>ceiling_height</th>\n",
       "      <th>year</th>\n",
       "      <th>floor</th>\n",
       "      <th>floor_type</th>\n",
       "      <th>city_centers_km</th>\n",
       "    </tr>\n",
       "  </thead>\n",
       "  <tbody>\n",
       "    <tr>\n",
       "      <td>count</td>\n",
       "      <td>14171.000000</td>\n",
       "      <td>14171.000000</td>\n",
       "      <td>14171.000000</td>\n",
       "      <td>14171.000000</td>\n",
       "      <td>9053.000000</td>\n",
       "      <td>14171.000000</td>\n",
       "      <td>14171.000000</td>\n",
       "      <td>14171.000000</td>\n",
       "      <td>14171.000000</td>\n",
       "    </tr>\n",
       "    <tr>\n",
       "      <td>mean</td>\n",
       "      <td>58.890296</td>\n",
       "      <td>6.437125</td>\n",
       "      <td>108797.885823</td>\n",
       "      <td>2.050596</td>\n",
       "      <td>2.713602</td>\n",
       "      <td>2017.370334</td>\n",
       "      <td>6.489521</td>\n",
       "      <td>2.685273</td>\n",
       "      <td>11.955896</td>\n",
       "    </tr>\n",
       "    <tr>\n",
       "      <td>std</td>\n",
       "      <td>27.202197</td>\n",
       "      <td>3.648398</td>\n",
       "      <td>28280.834165</td>\n",
       "      <td>1.008668</td>\n",
       "      <td>0.238879</td>\n",
       "      <td>1.042989</td>\n",
       "      <td>5.008118</td>\n",
       "      <td>0.644849</td>\n",
       "      <td>4.210980</td>\n",
       "    </tr>\n",
       "    <tr>\n",
       "      <td>min</td>\n",
       "      <td>13.000000</td>\n",
       "      <td>1.190000</td>\n",
       "      <td>15345.000000</td>\n",
       "      <td>0.000000</td>\n",
       "      <td>2.300000</td>\n",
       "      <td>2014.000000</td>\n",
       "      <td>1.000000</td>\n",
       "      <td>1.000000</td>\n",
       "      <td>4.000000</td>\n",
       "    </tr>\n",
       "    <tr>\n",
       "      <td>25%</td>\n",
       "      <td>41.000000</td>\n",
       "      <td>4.100000</td>\n",
       "      <td>90343.000000</td>\n",
       "      <td>1.000000</td>\n",
       "      <td>2.540000</td>\n",
       "      <td>2017.000000</td>\n",
       "      <td>3.000000</td>\n",
       "      <td>3.000000</td>\n",
       "      <td>9.000000</td>\n",
       "    </tr>\n",
       "    <tr>\n",
       "      <td>50%</td>\n",
       "      <td>52.000000</td>\n",
       "      <td>5.250000</td>\n",
       "      <td>103448.000000</td>\n",
       "      <td>2.000000</td>\n",
       "      <td>2.650000</td>\n",
       "      <td>2017.000000</td>\n",
       "      <td>5.000000</td>\n",
       "      <td>3.000000</td>\n",
       "      <td>12.000000</td>\n",
       "    </tr>\n",
       "    <tr>\n",
       "      <td>75%</td>\n",
       "      <td>69.800000</td>\n",
       "      <td>7.400000</td>\n",
       "      <td>121346.500000</td>\n",
       "      <td>3.000000</td>\n",
       "      <td>2.800000</td>\n",
       "      <td>2018.000000</td>\n",
       "      <td>9.000000</td>\n",
       "      <td>3.000000</td>\n",
       "      <td>15.000000</td>\n",
       "    </tr>\n",
       "    <tr>\n",
       "      <td>max</td>\n",
       "      <td>460.800000</td>\n",
       "      <td>25.000000</td>\n",
       "      <td>600000.000000</td>\n",
       "      <td>14.000000</td>\n",
       "      <td>4.700000</td>\n",
       "      <td>2019.000000</td>\n",
       "      <td>33.000000</td>\n",
       "      <td>3.000000</td>\n",
       "      <td>29.000000</td>\n",
       "    </tr>\n",
       "  </tbody>\n",
       "</table>\n",
       "</div>"
      ],
      "text/plain": [
       "         total_area    last_price  square_meter_price         rooms  \\\n",
       "count  14171.000000  14171.000000        14171.000000  14171.000000   \n",
       "mean      58.890296      6.437125       108797.885823      2.050596   \n",
       "std       27.202197      3.648398        28280.834165      1.008668   \n",
       "min       13.000000      1.190000        15345.000000      0.000000   \n",
       "25%       41.000000      4.100000        90343.000000      1.000000   \n",
       "50%       52.000000      5.250000       103448.000000      2.000000   \n",
       "75%       69.800000      7.400000       121346.500000      3.000000   \n",
       "max      460.800000     25.000000       600000.000000     14.000000   \n",
       "\n",
       "       ceiling_height          year         floor    floor_type  \\\n",
       "count     9053.000000  14171.000000  14171.000000  14171.000000   \n",
       "mean         2.713602   2017.370334      6.489521      2.685273   \n",
       "std          0.238879      1.042989      5.008118      0.644849   \n",
       "min          2.300000   2014.000000      1.000000      1.000000   \n",
       "25%          2.540000   2017.000000      3.000000      3.000000   \n",
       "50%          2.650000   2017.000000      5.000000      3.000000   \n",
       "75%          2.800000   2018.000000      9.000000      3.000000   \n",
       "max          4.700000   2019.000000     33.000000      3.000000   \n",
       "\n",
       "       city_centers_km  \n",
       "count     14171.000000  \n",
       "mean         11.955896  \n",
       "std           4.210980  \n",
       "min           4.000000  \n",
       "25%           9.000000  \n",
       "50%          12.000000  \n",
       "75%          15.000000  \n",
       "max          29.000000  "
      ]
     },
     "execution_count": 152,
     "metadata": {},
     "output_type": "execute_result"
    }
   ],
   "source": [
    "spb.describe()"
   ]
  },
  {
   "cell_type": "markdown",
   "metadata": {},
   "source": [
    "**Площади квартир**  \n",
    "Для минимальных значений различий почти нет, максимальная площадь значительно отличается в пользу периферии  \n",
    "При этом по остальным показателям квартиры в центре больше по площади\n",
    "\n",
    "|Значение    |Центр     |Периферия|\n",
    "|------------|----------|---------|\n",
    "|Среднее     |86.9      |58.9     |\n",
    "|Минимальное |12        |13       |\n",
    "|25% квартиль|60.2      |41       |\n",
    "|Медианное   |80        |52       |\n",
    "|75% квартиль|105       |69.8     |\n",
    "|Максимальное|281.1     |460.8    |\n",
    "\n"
   ]
  },
  {
   "cell_type": "markdown",
   "metadata": {},
   "source": [
    "**Стоимость квартир**  \n",
    "Ожидаемо, стоимость квартир в центре выше, чем на периферии (максимальное - после отбрасывания выбросов)\n",
    "\n",
    "|Значение    |Центр     |Периферия|\n",
    "|------------|----------|---------|\n",
    "|Среднее     |10.1      |6.4      |\n",
    "|Минимальное |2.1       |1.2      |\n",
    "|25% квартиль|6.8       |4.1      |\n",
    "|Медианное   |9         |5.3      |\n",
    "|75% квартиль|12.5      |7.4      |\n",
    "|Максимальное|25        |25       |\n",
    "\n"
   ]
  },
  {
   "cell_type": "markdown",
   "metadata": {},
   "source": [
    "**Стоимость квадратного метра**  \n",
    "Стоимость квадратного метра в центре выше, но значения в 25%-50%-75% квартилях не так уж сильно различаются\n",
    "\n",
    "|Значение    |Центр     |Периферия|\n",
    "|------------|----------|---------|\n",
    "|Среднее     |121 580   |108 797  |\n",
    "|Минимальное |29 919    |15 345   |\n",
    "|25% квартиль|93 564    |90 343   |\n",
    "|Медианное   |111 588   |103 448  |\n",
    "|75% квартиль|136 442   |121 364  |\n",
    "|Максимальное|387 096   |600 000  |\n",
    "\n"
   ]
  },
  {
   "cell_type": "markdown",
   "metadata": {},
   "source": [
    "**Число комнат**  \n",
    "Комнат в центре Петербурга продается на одну больше (странно, что максимальное 11 и 14, удаляли же эти значения)\n",
    "\n",
    "|Значение    |Центр     |Периферия|\n",
    "|------------|----------|---------|\n",
    "|Среднее     |3         |2        |\n",
    "|Минимальное |0         |0        |\n",
    "|25% квартиль|2         |1        |\n",
    "|Медианное   |3         |2        |\n",
    "|75% квартиль|4         |3        |\n",
    "|Максимальное|11        |14       |\n",
    "\n"
   ]
  },
  {
   "cell_type": "markdown",
   "metadata": {},
   "source": [
    "**Высота потолков**  \n",
    "Также квартиры в центре закономерно выше (старый фонд)\n",
    "\n",
    "|Значение    |Центр   |Периферия|\n",
    "|------------|--------|---------|\n",
    "|Среднее     |3.17    |2.71     |\n",
    "|Минимальное |2.45    |2.3      |\n",
    "|25% квартиль|3       |2.54     |\n",
    "|Медианное   |3.13    |2.65     |\n",
    "|75% квартиль|3.4     |2.8      |\n",
    "|Максимальное|4.8     |4.7      |\n",
    "\n"
   ]
  },
  {
   "cell_type": "markdown",
   "metadata": {},
   "source": [
    "#### Также выделите факторы, которые влияют на стоимость квартиры (число комнат, этаж, удалённость от центра, дата размещения объявления)"
   ]
  },
  {
   "cell_type": "code",
   "execution_count": 153,
   "metadata": {},
   "outputs": [
    {
     "data": {
      "text/html": [
       "<div>\n",
       "<style scoped>\n",
       "    .dataframe tbody tr th:only-of-type {\n",
       "        vertical-align: middle;\n",
       "    }\n",
       "\n",
       "    .dataframe tbody tr th {\n",
       "        vertical-align: top;\n",
       "    }\n",
       "\n",
       "    .dataframe thead th {\n",
       "        text-align: right;\n",
       "    }\n",
       "</style>\n",
       "<table border=\"1\" class=\"dataframe\">\n",
       "  <thead>\n",
       "    <tr style=\"text-align: right;\">\n",
       "      <th></th>\n",
       "      <th>total_area</th>\n",
       "      <th>last_price</th>\n",
       "      <th>square_meter_price</th>\n",
       "      <th>rooms</th>\n",
       "      <th>ceiling_height</th>\n",
       "      <th>year</th>\n",
       "      <th>floor</th>\n",
       "      <th>floor_type</th>\n",
       "      <th>city_centers_km</th>\n",
       "    </tr>\n",
       "  </thead>\n",
       "  <tbody>\n",
       "    <tr>\n",
       "      <td>total_area</td>\n",
       "      <td>1.000000</td>\n",
       "      <td>0.712248</td>\n",
       "      <td>-0.272044</td>\n",
       "      <td>0.805987</td>\n",
       "      <td>0.186717</td>\n",
       "      <td>-0.077303</td>\n",
       "      <td>0.159803</td>\n",
       "      <td>0.167738</td>\n",
       "      <td>-0.045839</td>\n",
       "    </tr>\n",
       "    <tr>\n",
       "      <td>last_price</td>\n",
       "      <td>0.712248</td>\n",
       "      <td>1.000000</td>\n",
       "      <td>0.418180</td>\n",
       "      <td>0.500609</td>\n",
       "      <td>0.214197</td>\n",
       "      <td>-0.016530</td>\n",
       "      <td>0.180775</td>\n",
       "      <td>0.185310</td>\n",
       "      <td>-0.117559</td>\n",
       "    </tr>\n",
       "    <tr>\n",
       "      <td>square_meter_price</td>\n",
       "      <td>-0.272044</td>\n",
       "      <td>0.418180</td>\n",
       "      <td>1.000000</td>\n",
       "      <td>-0.320448</td>\n",
       "      <td>0.080942</td>\n",
       "      <td>0.090386</td>\n",
       "      <td>0.045960</td>\n",
       "      <td>0.057425</td>\n",
       "      <td>-0.119693</td>\n",
       "    </tr>\n",
       "    <tr>\n",
       "      <td>rooms</td>\n",
       "      <td>0.805987</td>\n",
       "      <td>0.500609</td>\n",
       "      <td>-0.320448</td>\n",
       "      <td>1.000000</td>\n",
       "      <td>0.094601</td>\n",
       "      <td>-0.055523</td>\n",
       "      <td>0.107840</td>\n",
       "      <td>0.117098</td>\n",
       "      <td>-0.039945</td>\n",
       "    </tr>\n",
       "    <tr>\n",
       "      <td>ceiling_height</td>\n",
       "      <td>0.186717</td>\n",
       "      <td>0.214197</td>\n",
       "      <td>0.080942</td>\n",
       "      <td>0.094601</td>\n",
       "      <td>1.000000</td>\n",
       "      <td>-0.018599</td>\n",
       "      <td>-0.064768</td>\n",
       "      <td>0.178080</td>\n",
       "      <td>-0.090870</td>\n",
       "    </tr>\n",
       "    <tr>\n",
       "      <td>year</td>\n",
       "      <td>-0.077303</td>\n",
       "      <td>-0.016530</td>\n",
       "      <td>0.090386</td>\n",
       "      <td>-0.055523</td>\n",
       "      <td>-0.018599</td>\n",
       "      <td>1.000000</td>\n",
       "      <td>-0.001079</td>\n",
       "      <td>-0.023269</td>\n",
       "      <td>0.077998</td>\n",
       "    </tr>\n",
       "    <tr>\n",
       "      <td>floor</td>\n",
       "      <td>0.159803</td>\n",
       "      <td>0.180775</td>\n",
       "      <td>0.045960</td>\n",
       "      <td>0.107840</td>\n",
       "      <td>-0.064768</td>\n",
       "      <td>-0.001079</td>\n",
       "      <td>1.000000</td>\n",
       "      <td>0.263848</td>\n",
       "      <td>0.106760</td>\n",
       "    </tr>\n",
       "    <tr>\n",
       "      <td>floor_type</td>\n",
       "      <td>0.167738</td>\n",
       "      <td>0.185310</td>\n",
       "      <td>0.057425</td>\n",
       "      <td>0.117098</td>\n",
       "      <td>0.178080</td>\n",
       "      <td>-0.023269</td>\n",
       "      <td>0.263848</td>\n",
       "      <td>1.000000</td>\n",
       "      <td>0.039952</td>\n",
       "    </tr>\n",
       "    <tr>\n",
       "      <td>city_centers_km</td>\n",
       "      <td>-0.045839</td>\n",
       "      <td>-0.117559</td>\n",
       "      <td>-0.119693</td>\n",
       "      <td>-0.039945</td>\n",
       "      <td>-0.090870</td>\n",
       "      <td>0.077998</td>\n",
       "      <td>0.106760</td>\n",
       "      <td>0.039952</td>\n",
       "      <td>1.000000</td>\n",
       "    </tr>\n",
       "  </tbody>\n",
       "</table>\n",
       "</div>"
      ],
      "text/plain": [
       "                    total_area  last_price  square_meter_price     rooms  \\\n",
       "total_area            1.000000    0.712248           -0.272044  0.805987   \n",
       "last_price            0.712248    1.000000            0.418180  0.500609   \n",
       "square_meter_price   -0.272044    0.418180            1.000000 -0.320448   \n",
       "rooms                 0.805987    0.500609           -0.320448  1.000000   \n",
       "ceiling_height        0.186717    0.214197            0.080942  0.094601   \n",
       "year                 -0.077303   -0.016530            0.090386 -0.055523   \n",
       "floor                 0.159803    0.180775            0.045960  0.107840   \n",
       "floor_type            0.167738    0.185310            0.057425  0.117098   \n",
       "city_centers_km      -0.045839   -0.117559           -0.119693 -0.039945   \n",
       "\n",
       "                    ceiling_height      year     floor  floor_type  \\\n",
       "total_area                0.186717 -0.077303  0.159803    0.167738   \n",
       "last_price                0.214197 -0.016530  0.180775    0.185310   \n",
       "square_meter_price        0.080942  0.090386  0.045960    0.057425   \n",
       "rooms                     0.094601 -0.055523  0.107840    0.117098   \n",
       "ceiling_height            1.000000 -0.018599 -0.064768    0.178080   \n",
       "year                     -0.018599  1.000000 -0.001079   -0.023269   \n",
       "floor                    -0.064768 -0.001079  1.000000    0.263848   \n",
       "floor_type                0.178080 -0.023269  0.263848    1.000000   \n",
       "city_centers_km          -0.090870  0.077998  0.106760    0.039952   \n",
       "\n",
       "                    city_centers_km  \n",
       "total_area                -0.045839  \n",
       "last_price                -0.117559  \n",
       "square_meter_price        -0.119693  \n",
       "rooms                     -0.039945  \n",
       "ceiling_height            -0.090870  \n",
       "year                       0.077998  \n",
       "floor                      0.106760  \n",
       "floor_type                 0.039952  \n",
       "city_centers_km            1.000000  "
      ]
     },
     "execution_count": 153,
     "metadata": {},
     "output_type": "execute_result"
    }
   ],
   "source": [
    "spb_center.corr()"
   ]
  },
  {
   "cell_type": "code",
   "execution_count": 154,
   "metadata": {},
   "outputs": [
    {
     "data": {
      "text/html": [
       "<div>\n",
       "<style scoped>\n",
       "    .dataframe tbody tr th:only-of-type {\n",
       "        vertical-align: middle;\n",
       "    }\n",
       "\n",
       "    .dataframe tbody tr th {\n",
       "        vertical-align: top;\n",
       "    }\n",
       "\n",
       "    .dataframe thead th {\n",
       "        text-align: right;\n",
       "    }\n",
       "</style>\n",
       "<table border=\"1\" class=\"dataframe\">\n",
       "  <thead>\n",
       "    <tr style=\"text-align: right;\">\n",
       "      <th></th>\n",
       "      <th>total_area</th>\n",
       "      <th>last_price</th>\n",
       "      <th>square_meter_price</th>\n",
       "      <th>rooms</th>\n",
       "      <th>ceiling_height</th>\n",
       "      <th>year</th>\n",
       "      <th>floor</th>\n",
       "      <th>floor_type</th>\n",
       "      <th>city_centers_km</th>\n",
       "    </tr>\n",
       "  </thead>\n",
       "  <tbody>\n",
       "    <tr>\n",
       "      <td>total_area</td>\n",
       "      <td>1.000000</td>\n",
       "      <td>0.822243</td>\n",
       "      <td>0.038945</td>\n",
       "      <td>0.787499</td>\n",
       "      <td>0.442579</td>\n",
       "      <td>-0.079045</td>\n",
       "      <td>-0.004719</td>\n",
       "      <td>0.015697</td>\n",
       "      <td>-0.246540</td>\n",
       "    </tr>\n",
       "    <tr>\n",
       "      <td>last_price</td>\n",
       "      <td>0.822243</td>\n",
       "      <td>1.000000</td>\n",
       "      <td>0.550522</td>\n",
       "      <td>0.542014</td>\n",
       "      <td>0.495287</td>\n",
       "      <td>-0.017939</td>\n",
       "      <td>0.062200</td>\n",
       "      <td>0.086435</td>\n",
       "      <td>-0.362058</td>\n",
       "    </tr>\n",
       "    <tr>\n",
       "      <td>square_meter_price</td>\n",
       "      <td>0.038945</td>\n",
       "      <td>0.550522</td>\n",
       "      <td>1.000000</td>\n",
       "      <td>-0.190139</td>\n",
       "      <td>0.284046</td>\n",
       "      <td>0.108734</td>\n",
       "      <td>0.147667</td>\n",
       "      <td>0.156000</td>\n",
       "      <td>-0.336715</td>\n",
       "    </tr>\n",
       "    <tr>\n",
       "      <td>rooms</td>\n",
       "      <td>0.787499</td>\n",
       "      <td>0.542014</td>\n",
       "      <td>-0.190139</td>\n",
       "      <td>1.000000</td>\n",
       "      <td>0.229445</td>\n",
       "      <td>-0.043169</td>\n",
       "      <td>-0.149552</td>\n",
       "      <td>-0.070235</td>\n",
       "      <td>-0.187024</td>\n",
       "    </tr>\n",
       "    <tr>\n",
       "      <td>ceiling_height</td>\n",
       "      <td>0.442579</td>\n",
       "      <td>0.495287</td>\n",
       "      <td>0.284046</td>\n",
       "      <td>0.229445</td>\n",
       "      <td>1.000000</td>\n",
       "      <td>-0.107545</td>\n",
       "      <td>-0.028954</td>\n",
       "      <td>0.006565</td>\n",
       "      <td>-0.438345</td>\n",
       "    </tr>\n",
       "    <tr>\n",
       "      <td>year</td>\n",
       "      <td>-0.079045</td>\n",
       "      <td>-0.017939</td>\n",
       "      <td>0.108734</td>\n",
       "      <td>-0.043169</td>\n",
       "      <td>-0.107545</td>\n",
       "      <td>1.000000</td>\n",
       "      <td>0.003094</td>\n",
       "      <td>0.015287</td>\n",
       "      <td>0.063188</td>\n",
       "    </tr>\n",
       "    <tr>\n",
       "      <td>floor</td>\n",
       "      <td>-0.004719</td>\n",
       "      <td>0.062200</td>\n",
       "      <td>0.147667</td>\n",
       "      <td>-0.149552</td>\n",
       "      <td>-0.028954</td>\n",
       "      <td>0.003094</td>\n",
       "      <td>1.000000</td>\n",
       "      <td>0.259043</td>\n",
       "      <td>0.166776</td>\n",
       "    </tr>\n",
       "    <tr>\n",
       "      <td>floor_type</td>\n",
       "      <td>0.015697</td>\n",
       "      <td>0.086435</td>\n",
       "      <td>0.156000</td>\n",
       "      <td>-0.070235</td>\n",
       "      <td>0.006565</td>\n",
       "      <td>0.015287</td>\n",
       "      <td>0.259043</td>\n",
       "      <td>1.000000</td>\n",
       "      <td>0.016511</td>\n",
       "    </tr>\n",
       "    <tr>\n",
       "      <td>city_centers_km</td>\n",
       "      <td>-0.246540</td>\n",
       "      <td>-0.362058</td>\n",
       "      <td>-0.336715</td>\n",
       "      <td>-0.187024</td>\n",
       "      <td>-0.438345</td>\n",
       "      <td>0.063188</td>\n",
       "      <td>0.166776</td>\n",
       "      <td>0.016511</td>\n",
       "      <td>1.000000</td>\n",
       "    </tr>\n",
       "  </tbody>\n",
       "</table>\n",
       "</div>"
      ],
      "text/plain": [
       "                    total_area  last_price  square_meter_price     rooms  \\\n",
       "total_area            1.000000    0.822243            0.038945  0.787499   \n",
       "last_price            0.822243    1.000000            0.550522  0.542014   \n",
       "square_meter_price    0.038945    0.550522            1.000000 -0.190139   \n",
       "rooms                 0.787499    0.542014           -0.190139  1.000000   \n",
       "ceiling_height        0.442579    0.495287            0.284046  0.229445   \n",
       "year                 -0.079045   -0.017939            0.108734 -0.043169   \n",
       "floor                -0.004719    0.062200            0.147667 -0.149552   \n",
       "floor_type            0.015697    0.086435            0.156000 -0.070235   \n",
       "city_centers_km      -0.246540   -0.362058           -0.336715 -0.187024   \n",
       "\n",
       "                    ceiling_height      year     floor  floor_type  \\\n",
       "total_area                0.442579 -0.079045 -0.004719    0.015697   \n",
       "last_price                0.495287 -0.017939  0.062200    0.086435   \n",
       "square_meter_price        0.284046  0.108734  0.147667    0.156000   \n",
       "rooms                     0.229445 -0.043169 -0.149552   -0.070235   \n",
       "ceiling_height            1.000000 -0.107545 -0.028954    0.006565   \n",
       "year                     -0.107545  1.000000  0.003094    0.015287   \n",
       "floor                    -0.028954  0.003094  1.000000    0.259043   \n",
       "floor_type                0.006565  0.015287  0.259043    1.000000   \n",
       "city_centers_km          -0.438345  0.063188  0.166776    0.016511   \n",
       "\n",
       "                    city_centers_km  \n",
       "total_area                -0.246540  \n",
       "last_price                -0.362058  \n",
       "square_meter_price        -0.336715  \n",
       "rooms                     -0.187024  \n",
       "ceiling_height            -0.438345  \n",
       "year                       0.063188  \n",
       "floor                      0.166776  \n",
       "floor_type                 0.016511  \n",
       "city_centers_km            1.000000  "
      ]
     },
     "execution_count": 154,
     "metadata": {},
     "output_type": "execute_result"
    }
   ],
   "source": [
    "spb.corr()"
   ]
  },
  {
   "cell_type": "markdown",
   "metadata": {},
   "source": [
    "**Число комнат**  \n",
    "* Для центра города средняя корреляция для общей цены (0.5) и небольшая отрицательная (-0.32) для стоимости квадратного метра  \n",
    "* Для периферии ситуация аналогичная, разве что чуть выше корреляция для общей цены (0.54) и ниже - для кв.м. (-0.19)\n",
    "\n",
    "\n"
   ]
  },
  {
   "cell_type": "markdown",
   "metadata": {},
   "source": [
    "**Этаж**  \n",
    "* Для центра города незначительная корреляция для общей цены (0.18-0.19) и практически отсутствует (0.05-0.06) для стоимости квадратного метра  \n",
    "* Для периферии ситуация похожа, для общей цены 0.15-0.16 и для кв.м. 0.06-0.09\n",
    "\n",
    "\n"
   ]
  },
  {
   "cell_type": "markdown",
   "metadata": {},
   "source": [
    "**Расстояние до центра**  \n",
    "* Для центра города и для общей стоимости, и для стоимости кв.м. незначительная отрицательная корреляция -0.11\n",
    "* Для периферии небольшая отрицательная корреляция -0.35\n",
    "\n",
    "\n"
   ]
  },
  {
   "cell_type": "markdown",
   "metadata": {},
   "source": [
    "**Дата размещения**  \n",
    "* Для центра города связи между ценой и годом размещения, как ни странно, практически нет (-0.02 для общей цены и 0.09 для цены кв.м)  \n",
    "* Для периферии ситуация такая же, 0.02 для общей цены и 0.11 для цены кв.м"
   ]
  },
  {
   "cell_type": "markdown",
   "metadata": {},
   "source": [
    "## Общий вывод"
   ]
  },
  {
   "cell_type": "markdown",
   "metadata": {},
   "source": [
    "* Стоимость квартир в Санкт-Петербурге выше стоимости квартир в области, удаленность от города также влияет на цену\n",
    "* В центре города харатерны более высокие потолки и сами квартиры больше (как по площади, так и по комнатам)\n",
    "* Наблюдается довольно сильная зависимость между ценой и площадью квартиры, средняя - между ценой и количеством комнат\n",
    "* Среднее время продажи квартиры полгода, медианное - 3 месяца\n",
    "* Взаимосвязь между расстоянием до центра - небольшая обратная (т.е. чем ближе к центру, тем выше стоимость - что кажется логичным)\n",
    "* Как ни странно, взаимосвязь между годом публикации объявления и стоимостью практически отсутствует"
   ]
  }
 ],
 "metadata": {
  "ExecuteTimeLog": [
   {
    "duration": 560,
    "start_time": "2022-01-14T11:05:57.603Z"
   },
   {
    "duration": 306,
    "start_time": "2022-01-14T11:05:58.164Z"
   },
   {
    "duration": 56,
    "start_time": "2022-01-14T11:06:06.798Z"
   },
   {
    "duration": 11,
    "start_time": "2022-01-14T11:06:18.789Z"
   },
   {
    "duration": 8,
    "start_time": "2022-01-14T11:06:22.349Z"
   },
   {
    "duration": 7,
    "start_time": "2022-01-14T11:06:39.525Z"
   },
   {
    "duration": 3,
    "start_time": "2022-01-14T11:06:57.241Z"
   },
   {
    "duration": 62,
    "start_time": "2022-01-14T11:06:57.929Z"
   },
   {
    "duration": 10,
    "start_time": "2022-01-14T11:06:58.753Z"
   },
   {
    "duration": 22,
    "start_time": "2022-01-14T11:07:00.455Z"
   },
   {
    "duration": 6,
    "start_time": "2022-01-14T11:18:19.329Z"
   },
   {
    "duration": 226,
    "start_time": "2022-01-14T11:18:34.696Z"
   },
   {
    "duration": 220,
    "start_time": "2022-01-14T11:18:44.493Z"
   },
   {
    "duration": 7,
    "start_time": "2022-01-14T11:19:25.038Z"
   },
   {
    "duration": 5,
    "start_time": "2022-01-14T11:20:18.731Z"
   },
   {
    "duration": 5,
    "start_time": "2022-01-14T11:25:29.846Z"
   },
   {
    "duration": 9,
    "start_time": "2022-01-14T11:25:33.423Z"
   },
   {
    "duration": 5,
    "start_time": "2022-01-14T11:25:43.230Z"
   },
   {
    "duration": 7,
    "start_time": "2022-01-14T11:25:44.158Z"
   },
   {
    "duration": 8,
    "start_time": "2022-01-14T11:26:33.822Z"
   },
   {
    "duration": 5,
    "start_time": "2022-01-14T11:26:36.889Z"
   },
   {
    "duration": 11,
    "start_time": "2022-01-14T11:27:13.953Z"
   },
   {
    "duration": 7,
    "start_time": "2022-01-14T11:27:26.872Z"
   },
   {
    "duration": 9,
    "start_time": "2022-01-14T11:27:53.955Z"
   },
   {
    "duration": 5,
    "start_time": "2022-01-14T11:28:08.933Z"
   },
   {
    "duration": 7,
    "start_time": "2022-01-14T11:28:29.976Z"
   },
   {
    "duration": 10,
    "start_time": "2022-01-14T11:28:37.190Z"
   },
   {
    "duration": 8,
    "start_time": "2022-01-14T11:29:55.624Z"
   },
   {
    "duration": 8,
    "start_time": "2022-01-14T11:30:53.010Z"
   },
   {
    "duration": 6,
    "start_time": "2022-01-14T11:31:04.643Z"
   },
   {
    "duration": 9,
    "start_time": "2022-01-14T11:32:20.324Z"
   },
   {
    "duration": 6,
    "start_time": "2022-01-14T11:32:31.768Z"
   },
   {
    "duration": 5,
    "start_time": "2022-01-14T11:33:27.872Z"
   },
   {
    "duration": 8,
    "start_time": "2022-01-14T11:33:35.849Z"
   },
   {
    "duration": 9,
    "start_time": "2022-01-14T11:34:13.143Z"
   },
   {
    "duration": 212,
    "start_time": "2022-01-14T11:34:26.802Z"
   },
   {
    "duration": 7,
    "start_time": "2022-01-14T11:34:35.469Z"
   },
   {
    "duration": 8,
    "start_time": "2022-01-14T11:34:53.220Z"
   },
   {
    "duration": 8,
    "start_time": "2022-01-14T11:35:49.196Z"
   },
   {
    "duration": 5,
    "start_time": "2022-01-14T11:37:53.866Z"
   },
   {
    "duration": 5721,
    "start_time": "2022-01-14T11:38:27.864Z"
   },
   {
    "duration": 9,
    "start_time": "2022-01-14T11:38:45.830Z"
   },
   {
    "duration": 8,
    "start_time": "2022-01-14T11:38:56.300Z"
   },
   {
    "duration": 64,
    "start_time": "2022-01-14T11:39:14.837Z"
   },
   {
    "duration": 7,
    "start_time": "2022-01-14T11:47:19.326Z"
   },
   {
    "duration": 5,
    "start_time": "2022-01-14T11:47:29.730Z"
   },
   {
    "duration": 7,
    "start_time": "2022-01-14T11:47:51.443Z"
   },
   {
    "duration": 5,
    "start_time": "2022-01-14T11:48:05.280Z"
   },
   {
    "duration": 8,
    "start_time": "2022-01-14T11:48:49.214Z"
   },
   {
    "duration": 6,
    "start_time": "2022-01-14T11:48:57.945Z"
   },
   {
    "duration": 8,
    "start_time": "2022-01-14T11:49:30.664Z"
   },
   {
    "duration": 7,
    "start_time": "2022-01-14T11:49:39.969Z"
   },
   {
    "duration": 10,
    "start_time": "2022-01-14T11:50:12.657Z"
   },
   {
    "duration": 6,
    "start_time": "2022-01-14T11:50:17.672Z"
   },
   {
    "duration": 8,
    "start_time": "2022-01-14T11:50:41.114Z"
   },
   {
    "duration": 7,
    "start_time": "2022-01-14T11:50:45.909Z"
   },
   {
    "duration": 9,
    "start_time": "2022-01-14T11:52:57.144Z"
   },
   {
    "duration": 6,
    "start_time": "2022-01-14T11:53:45.568Z"
   },
   {
    "duration": 8,
    "start_time": "2022-01-14T11:53:48.062Z"
   },
   {
    "duration": 6,
    "start_time": "2022-01-14T11:54:19.906Z"
   },
   {
    "duration": 9,
    "start_time": "2022-01-14T11:54:22.574Z"
   },
   {
    "duration": 10,
    "start_time": "2022-01-14T11:55:06.656Z"
   },
   {
    "duration": 8,
    "start_time": "2022-01-14T11:55:31.190Z"
   },
   {
    "duration": 7,
    "start_time": "2022-01-14T11:55:50.371Z"
   },
   {
    "duration": 9,
    "start_time": "2022-01-14T11:55:52.612Z"
   },
   {
    "duration": 9,
    "start_time": "2022-01-14T12:07:52.406Z"
   },
   {
    "duration": 7,
    "start_time": "2022-01-14T12:08:01.381Z"
   },
   {
    "duration": 9,
    "start_time": "2022-01-14T12:08:24.103Z"
   },
   {
    "duration": 7,
    "start_time": "2022-01-14T12:08:34.850Z"
   },
   {
    "duration": 10,
    "start_time": "2022-01-14T12:08:52.392Z"
   },
   {
    "duration": 6,
    "start_time": "2022-01-14T12:08:59.538Z"
   },
   {
    "duration": 6,
    "start_time": "2022-01-14T12:09:37.590Z"
   },
   {
    "duration": 9,
    "start_time": "2022-01-14T12:09:39.172Z"
   },
   {
    "duration": 9,
    "start_time": "2022-01-14T12:12:19.167Z"
   },
   {
    "duration": 244,
    "start_time": "2022-01-14T12:13:20.646Z"
   },
   {
    "duration": 186,
    "start_time": "2022-01-14T12:13:36.165Z"
   },
   {
    "duration": 9,
    "start_time": "2022-01-14T12:13:40.407Z"
   },
   {
    "duration": 9,
    "start_time": "2022-01-14T12:15:49.469Z"
   },
   {
    "duration": 9,
    "start_time": "2022-01-14T12:16:09.467Z"
   },
   {
    "duration": 22,
    "start_time": "2022-01-14T12:18:28.564Z"
   },
   {
    "duration": 22,
    "start_time": "2022-01-14T12:19:46.143Z"
   },
   {
    "duration": 34,
    "start_time": "2022-01-14T12:20:43.826Z"
   },
   {
    "duration": 19,
    "start_time": "2022-01-14T12:21:14.742Z"
   },
   {
    "duration": 10,
    "start_time": "2022-01-14T12:26:23.188Z"
   },
   {
    "duration": 11,
    "start_time": "2022-01-14T12:26:28.082Z"
   },
   {
    "duration": 11,
    "start_time": "2022-01-14T12:26:56.503Z"
   },
   {
    "duration": 26,
    "start_time": "2022-01-14T12:28:35.124Z"
   },
   {
    "duration": 34,
    "start_time": "2022-01-14T12:32:59.454Z"
   },
   {
    "duration": 33,
    "start_time": "2022-01-14T12:33:34.495Z"
   },
   {
    "duration": 32,
    "start_time": "2022-01-14T12:34:05.346Z"
   },
   {
    "duration": 24,
    "start_time": "2022-01-14T12:34:20.116Z"
   },
   {
    "duration": 22,
    "start_time": "2022-01-14T12:34:29.166Z"
   },
   {
    "duration": 23,
    "start_time": "2022-01-14T12:34:54.132Z"
   },
   {
    "duration": 22,
    "start_time": "2022-01-14T12:35:58.514Z"
   },
   {
    "duration": 22,
    "start_time": "2022-01-14T12:36:42.948Z"
   },
   {
    "duration": 28,
    "start_time": "2022-01-14T12:37:47.301Z"
   },
   {
    "duration": 27,
    "start_time": "2022-01-14T12:39:46.510Z"
   },
   {
    "duration": 29,
    "start_time": "2022-01-14T12:40:42.540Z"
   },
   {
    "duration": 7,
    "start_time": "2022-01-14T12:41:27.183Z"
   },
   {
    "duration": 1507,
    "start_time": "2022-01-14T12:55:21.268Z"
   },
   {
    "duration": 1786,
    "start_time": "2022-01-14T12:57:43.975Z"
   },
   {
    "duration": 10,
    "start_time": "2022-01-14T12:57:50.724Z"
   },
   {
    "duration": 216,
    "start_time": "2022-01-14T12:58:54.438Z"
   },
   {
    "duration": 10,
    "start_time": "2022-01-14T12:59:39.787Z"
   },
   {
    "duration": 11,
    "start_time": "2022-01-14T12:59:51.946Z"
   },
   {
    "duration": 6,
    "start_time": "2022-01-14T13:00:07.944Z"
   },
   {
    "duration": 602,
    "start_time": "2022-01-14T13:00:30.193Z"
   },
   {
    "duration": 74,
    "start_time": "2022-01-14T13:00:31.327Z"
   },
   {
    "duration": 12,
    "start_time": "2022-01-14T13:00:32.063Z"
   },
   {
    "duration": 33,
    "start_time": "2022-01-14T13:00:32.905Z"
   },
   {
    "duration": 6,
    "start_time": "2022-01-14T13:00:37.408Z"
   },
   {
    "duration": 8,
    "start_time": "2022-01-14T13:00:38.053Z"
   },
   {
    "duration": 5,
    "start_time": "2022-01-14T13:00:39.262Z"
   },
   {
    "duration": 10,
    "start_time": "2022-01-14T13:00:39.783Z"
   },
   {
    "duration": 21,
    "start_time": "2022-01-14T13:00:40.960Z"
   },
   {
    "duration": 15,
    "start_time": "2022-01-14T13:00:41.806Z"
   },
   {
    "duration": 22,
    "start_time": "2022-01-14T13:00:42.642Z"
   },
   {
    "duration": 28,
    "start_time": "2022-01-14T13:00:44.345Z"
   },
   {
    "duration": 9,
    "start_time": "2022-01-14T13:00:46.265Z"
   },
   {
    "duration": 5,
    "start_time": "2022-01-14T13:00:47.268Z"
   },
   {
    "duration": 29,
    "start_time": "2022-01-14T13:00:48.892Z"
   },
   {
    "duration": 30,
    "start_time": "2022-01-14T13:00:50.565Z"
   },
   {
    "duration": 8,
    "start_time": "2022-01-14T13:00:53.002Z"
   },
   {
    "duration": 11,
    "start_time": "2022-01-14T13:00:55.425Z"
   },
   {
    "duration": 6,
    "start_time": "2022-01-14T13:00:57.273Z"
   },
   {
    "duration": 9,
    "start_time": "2022-01-14T13:01:03.199Z"
   },
   {
    "duration": 10,
    "start_time": "2022-01-14T13:01:04.155Z"
   },
   {
    "duration": 1669,
    "start_time": "2022-01-14T13:02:40.503Z"
   },
   {
    "duration": 9,
    "start_time": "2022-01-14T13:03:51.373Z"
   },
   {
    "duration": 6,
    "start_time": "2022-01-14T13:03:56.515Z"
   },
   {
    "duration": 8,
    "start_time": "2022-01-14T13:03:57.189Z"
   },
   {
    "duration": 604,
    "start_time": "2022-01-14T13:04:58.049Z"
   },
   {
    "duration": 70,
    "start_time": "2022-01-14T13:04:58.654Z"
   },
   {
    "duration": 11,
    "start_time": "2022-01-14T13:04:58.726Z"
   },
   {
    "duration": 27,
    "start_time": "2022-01-14T13:04:58.741Z"
   },
   {
    "duration": 5,
    "start_time": "2022-01-14T13:04:58.769Z"
   },
   {
    "duration": 12,
    "start_time": "2022-01-14T13:04:58.776Z"
   },
   {
    "duration": 5,
    "start_time": "2022-01-14T13:04:58.790Z"
   },
   {
    "duration": 11,
    "start_time": "2022-01-14T13:04:58.796Z"
   },
   {
    "duration": 49,
    "start_time": "2022-01-14T13:04:58.809Z"
   },
   {
    "duration": 13,
    "start_time": "2022-01-14T13:04:58.860Z"
   },
   {
    "duration": 23,
    "start_time": "2022-01-14T13:04:58.875Z"
   },
   {
    "duration": 54,
    "start_time": "2022-01-14T13:04:58.899Z"
   },
   {
    "duration": 9,
    "start_time": "2022-01-14T13:04:58.955Z"
   },
   {
    "duration": 5,
    "start_time": "2022-01-14T13:04:58.966Z"
   },
   {
    "duration": 26,
    "start_time": "2022-01-14T13:04:58.973Z"
   },
   {
    "duration": 64,
    "start_time": "2022-01-14T13:04:59.001Z"
   },
   {
    "duration": 6,
    "start_time": "2022-01-14T13:04:59.067Z"
   },
   {
    "duration": 13,
    "start_time": "2022-01-14T13:04:59.075Z"
   },
   {
    "duration": 9,
    "start_time": "2022-01-14T13:04:59.090Z"
   },
   {
    "duration": 13,
    "start_time": "2022-01-14T13:04:59.100Z"
   },
   {
    "duration": 5,
    "start_time": "2022-01-14T13:04:59.114Z"
   },
   {
    "duration": 27,
    "start_time": "2022-01-14T13:04:59.121Z"
   },
   {
    "duration": 15,
    "start_time": "2022-01-14T13:04:59.150Z"
   },
   {
    "duration": 10,
    "start_time": "2022-01-14T13:04:59.167Z"
   },
   {
    "duration": 23,
    "start_time": "2022-01-14T13:04:59.178Z"
   },
   {
    "duration": 19,
    "start_time": "2022-01-14T13:04:59.203Z"
   },
   {
    "duration": 10,
    "start_time": "2022-01-14T13:04:59.226Z"
   },
   {
    "duration": 12,
    "start_time": "2022-01-14T13:04:59.238Z"
   },
   {
    "duration": 14,
    "start_time": "2022-01-14T13:04:59.251Z"
   },
   {
    "duration": 10,
    "start_time": "2022-01-14T13:04:59.266Z"
   },
   {
    "duration": 13,
    "start_time": "2022-01-14T13:04:59.278Z"
   },
   {
    "duration": 14,
    "start_time": "2022-01-14T13:04:59.294Z"
   },
   {
    "duration": 14,
    "start_time": "2022-01-14T13:04:59.310Z"
   },
   {
    "duration": 6,
    "start_time": "2022-01-14T13:04:59.326Z"
   },
   {
    "duration": 8,
    "start_time": "2022-01-14T13:04:59.340Z"
   },
   {
    "duration": 6,
    "start_time": "2022-01-14T13:04:59.350Z"
   },
   {
    "duration": 12,
    "start_time": "2022-01-14T13:04:59.358Z"
   },
   {
    "duration": 7,
    "start_time": "2022-01-14T13:04:59.372Z"
   },
   {
    "duration": 12,
    "start_time": "2022-01-14T13:04:59.381Z"
   },
   {
    "duration": 21,
    "start_time": "2022-01-14T13:04:59.395Z"
   },
   {
    "duration": 28,
    "start_time": "2022-01-14T13:04:59.418Z"
   },
   {
    "duration": 14,
    "start_time": "2022-01-14T13:04:59.447Z"
   },
   {
    "duration": 22,
    "start_time": "2022-01-14T13:04:59.462Z"
   },
   {
    "duration": 6,
    "start_time": "2022-01-14T13:04:59.486Z"
   },
   {
    "duration": 10,
    "start_time": "2022-01-14T13:04:59.493Z"
   },
   {
    "duration": 8,
    "start_time": "2022-01-14T13:04:59.505Z"
   },
   {
    "duration": 28,
    "start_time": "2022-01-14T13:04:59.514Z"
   },
   {
    "duration": 9,
    "start_time": "2022-01-14T13:04:59.544Z"
   },
   {
    "duration": 5,
    "start_time": "2022-01-14T13:04:59.555Z"
   },
   {
    "duration": 15,
    "start_time": "2022-01-14T13:04:59.562Z"
   },
   {
    "duration": 7,
    "start_time": "2022-01-14T13:04:59.579Z"
   },
   {
    "duration": 10,
    "start_time": "2022-01-14T13:04:59.588Z"
   },
   {
    "duration": 6,
    "start_time": "2022-01-14T13:04:59.599Z"
   },
   {
    "duration": 40,
    "start_time": "2022-01-14T13:04:59.607Z"
   },
   {
    "duration": 6,
    "start_time": "2022-01-14T13:04:59.649Z"
   },
   {
    "duration": 10,
    "start_time": "2022-01-14T13:04:59.656Z"
   },
   {
    "duration": 6,
    "start_time": "2022-01-14T13:04:59.668Z"
   },
   {
    "duration": 10,
    "start_time": "2022-01-14T13:05:18.489Z"
   },
   {
    "duration": 27,
    "start_time": "2022-01-14T13:10:30.345Z"
   },
   {
    "duration": 26,
    "start_time": "2022-01-14T13:11:24.384Z"
   },
   {
    "duration": 26,
    "start_time": "2022-01-14T13:19:01.005Z"
   },
   {
    "duration": 34,
    "start_time": "2022-01-14T13:19:20.741Z"
   },
   {
    "duration": 30,
    "start_time": "2022-01-14T13:19:58.125Z"
   },
   {
    "duration": 31,
    "start_time": "2022-01-14T13:20:15.918Z"
   },
   {
    "duration": 28,
    "start_time": "2022-01-14T13:20:30.675Z"
   },
   {
    "duration": 25,
    "start_time": "2022-01-14T13:20:54.212Z"
   },
   {
    "duration": 98,
    "start_time": "2022-01-14T13:23:03.526Z"
   },
   {
    "duration": 60,
    "start_time": "2022-01-14T13:23:39.217Z"
   },
   {
    "duration": 5250,
    "start_time": "2022-01-14T13:23:45.534Z"
   },
   {
    "duration": 5566,
    "start_time": "2022-01-14T13:24:01.743Z"
   },
   {
    "duration": 28,
    "start_time": "2022-01-14T13:24:30.486Z"
   },
   {
    "duration": 31,
    "start_time": "2022-01-14T13:24:43.140Z"
   },
   {
    "duration": 30,
    "start_time": "2022-01-14T13:26:55.612Z"
   },
   {
    "duration": 26,
    "start_time": "2022-01-14T13:27:14.825Z"
   },
   {
    "duration": 32,
    "start_time": "2022-01-14T13:27:24.877Z"
   },
   {
    "duration": 31,
    "start_time": "2022-01-14T13:27:34.655Z"
   },
   {
    "duration": 25,
    "start_time": "2022-01-14T13:30:38.555Z"
   },
   {
    "duration": 6,
    "start_time": "2022-01-14T13:32:56.920Z"
   },
   {
    "duration": 29,
    "start_time": "2022-01-14T13:34:48.876Z"
   },
   {
    "duration": 5,
    "start_time": "2022-01-14T13:36:13.651Z"
   },
   {
    "duration": 26,
    "start_time": "2022-01-14T13:36:19.668Z"
   },
   {
    "duration": 5,
    "start_time": "2022-01-14T13:36:35.246Z"
   },
   {
    "duration": 8,
    "start_time": "2022-01-14T13:37:06.434Z"
   },
   {
    "duration": 11,
    "start_time": "2022-01-14T13:37:31.833Z"
   },
   {
    "duration": 26,
    "start_time": "2022-01-14T13:37:46.478Z"
   },
   {
    "duration": 9,
    "start_time": "2022-01-14T13:37:57.388Z"
   },
   {
    "duration": 26,
    "start_time": "2022-01-14T13:37:59.039Z"
   },
   {
    "duration": 50,
    "start_time": "2022-01-14T13:39:07.872Z"
   },
   {
    "duration": 34,
    "start_time": "2022-01-14T13:39:27.247Z"
   },
   {
    "duration": 601,
    "start_time": "2022-01-14T13:43:22.057Z"
   },
   {
    "duration": 70,
    "start_time": "2022-01-14T13:43:22.660Z"
   },
   {
    "duration": 10,
    "start_time": "2022-01-14T13:43:22.732Z"
   },
   {
    "duration": 52,
    "start_time": "2022-01-14T13:43:22.744Z"
   },
   {
    "duration": 19,
    "start_time": "2022-01-14T13:43:22.797Z"
   },
   {
    "duration": 44,
    "start_time": "2022-01-14T13:43:22.817Z"
   },
   {
    "duration": 43,
    "start_time": "2022-01-14T13:43:22.863Z"
   },
   {
    "duration": 38,
    "start_time": "2022-01-14T13:43:22.909Z"
   },
   {
    "duration": 44,
    "start_time": "2022-01-14T13:43:22.950Z"
   },
   {
    "duration": 29,
    "start_time": "2022-01-14T13:43:22.996Z"
   },
   {
    "duration": 43,
    "start_time": "2022-01-14T13:43:23.027Z"
   },
   {
    "duration": 39,
    "start_time": "2022-01-14T13:43:23.073Z"
   },
   {
    "duration": 5,
    "start_time": "2022-01-14T13:43:23.142Z"
   },
   {
    "duration": 39,
    "start_time": "2022-01-14T13:43:23.149Z"
   },
   {
    "duration": 38,
    "start_time": "2022-01-14T13:43:23.189Z"
   },
   {
    "duration": 27,
    "start_time": "2022-01-14T13:43:23.229Z"
   },
   {
    "duration": 6,
    "start_time": "2022-01-14T13:43:23.257Z"
   },
   {
    "duration": 21,
    "start_time": "2022-01-14T13:43:23.264Z"
   },
   {
    "duration": 37,
    "start_time": "2022-01-14T13:43:23.287Z"
   },
   {
    "duration": 19,
    "start_time": "2022-01-14T13:43:23.325Z"
   },
   {
    "duration": 40,
    "start_time": "2022-01-14T13:43:23.345Z"
   },
   {
    "duration": 53,
    "start_time": "2022-01-14T13:43:23.387Z"
   },
   {
    "duration": 28,
    "start_time": "2022-01-14T13:43:23.444Z"
   },
   {
    "duration": 11,
    "start_time": "2022-01-14T13:43:23.474Z"
   },
   {
    "duration": 17,
    "start_time": "2022-01-14T13:43:23.487Z"
   },
   {
    "duration": 52,
    "start_time": "2022-01-14T13:43:23.505Z"
   },
   {
    "duration": 5,
    "start_time": "2022-01-14T13:43:23.559Z"
   },
   {
    "duration": 50,
    "start_time": "2022-01-14T13:43:23.565Z"
   },
   {
    "duration": 14,
    "start_time": "2022-01-14T13:43:23.616Z"
   },
   {
    "duration": 31,
    "start_time": "2022-01-14T13:43:23.632Z"
   },
   {
    "duration": 19,
    "start_time": "2022-01-14T13:43:23.665Z"
   },
   {
    "duration": 13,
    "start_time": "2022-01-14T13:43:23.686Z"
   },
   {
    "duration": 10,
    "start_time": "2022-01-14T13:43:23.701Z"
   },
   {
    "duration": 29,
    "start_time": "2022-01-14T13:43:23.713Z"
   },
   {
    "duration": 29,
    "start_time": "2022-01-14T13:43:23.743Z"
   },
   {
    "duration": 33,
    "start_time": "2022-01-14T13:43:23.774Z"
   },
   {
    "duration": 21,
    "start_time": "2022-01-14T13:43:23.808Z"
   },
   {
    "duration": 46,
    "start_time": "2022-01-14T13:43:23.830Z"
   },
   {
    "duration": 11,
    "start_time": "2022-01-14T13:43:23.877Z"
   },
   {
    "duration": 29,
    "start_time": "2022-01-14T13:43:23.890Z"
   },
   {
    "duration": 28,
    "start_time": "2022-01-14T13:43:23.921Z"
   },
   {
    "duration": 25,
    "start_time": "2022-01-14T13:43:23.950Z"
   },
   {
    "duration": 29,
    "start_time": "2022-01-14T13:43:23.977Z"
   },
   {
    "duration": 14,
    "start_time": "2022-01-14T13:43:24.007Z"
   },
   {
    "duration": 19,
    "start_time": "2022-01-14T13:43:24.022Z"
   },
   {
    "duration": 42,
    "start_time": "2022-01-14T13:43:24.042Z"
   },
   {
    "duration": 22,
    "start_time": "2022-01-14T13:43:24.086Z"
   },
   {
    "duration": 46,
    "start_time": "2022-01-14T13:43:24.110Z"
   },
   {
    "duration": 26,
    "start_time": "2022-01-14T13:43:24.157Z"
   },
   {
    "duration": 15,
    "start_time": "2022-01-14T13:43:24.185Z"
   },
   {
    "duration": 40,
    "start_time": "2022-01-14T13:43:24.201Z"
   },
   {
    "duration": 19,
    "start_time": "2022-01-14T13:43:24.243Z"
   },
   {
    "duration": 44,
    "start_time": "2022-01-14T13:43:24.263Z"
   },
   {
    "duration": 34,
    "start_time": "2022-01-14T13:43:24.309Z"
   },
   {
    "duration": 18,
    "start_time": "2022-01-14T13:43:24.344Z"
   },
   {
    "duration": 26,
    "start_time": "2022-01-14T13:43:24.363Z"
   },
   {
    "duration": 22,
    "start_time": "2022-01-14T13:43:24.391Z"
   },
   {
    "duration": 39,
    "start_time": "2022-01-14T13:43:24.414Z"
   },
   {
    "duration": 32,
    "start_time": "2022-01-14T13:43:24.454Z"
   },
   {
    "duration": 22,
    "start_time": "2022-01-14T13:43:24.488Z"
   },
   {
    "duration": 52,
    "start_time": "2022-01-14T13:43:24.511Z"
   },
   {
    "duration": 19,
    "start_time": "2022-01-14T13:43:24.564Z"
   },
   {
    "duration": 27,
    "start_time": "2022-01-14T13:43:54.597Z"
   },
   {
    "duration": 595,
    "start_time": "2022-01-14T13:46:03.094Z"
   },
   {
    "duration": 79,
    "start_time": "2022-01-14T13:46:03.691Z"
   },
   {
    "duration": 11,
    "start_time": "2022-01-14T13:46:04.053Z"
   },
   {
    "duration": 33,
    "start_time": "2022-01-14T13:46:04.655Z"
   },
   {
    "duration": 8,
    "start_time": "2022-01-14T13:46:07.639Z"
   },
   {
    "duration": 12,
    "start_time": "2022-01-14T13:46:08.091Z"
   },
   {
    "duration": 804,
    "start_time": "2022-01-14T13:46:37.615Z"
   },
   {
    "duration": 102,
    "start_time": "2022-01-14T13:46:38.422Z"
   },
   {
    "duration": 25,
    "start_time": "2022-01-14T13:46:38.527Z"
   },
   {
    "duration": 28,
    "start_time": "2022-01-14T13:46:38.554Z"
   },
   {
    "duration": 5,
    "start_time": "2022-01-14T13:46:38.584Z"
   },
   {
    "duration": 12,
    "start_time": "2022-01-14T13:46:38.592Z"
   },
   {
    "duration": 5,
    "start_time": "2022-01-14T13:46:38.606Z"
   },
   {
    "duration": 10,
    "start_time": "2022-01-14T13:46:38.641Z"
   },
   {
    "duration": 25,
    "start_time": "2022-01-14T13:46:38.654Z"
   },
   {
    "duration": 16,
    "start_time": "2022-01-14T13:46:38.681Z"
   },
   {
    "duration": 55,
    "start_time": "2022-01-14T13:46:38.699Z"
   },
   {
    "duration": 45,
    "start_time": "2022-01-14T13:46:38.757Z"
   },
   {
    "duration": 7,
    "start_time": "2022-01-14T13:46:38.805Z"
   },
   {
    "duration": 35,
    "start_time": "2022-01-14T13:46:38.814Z"
   },
   {
    "duration": 44,
    "start_time": "2022-01-14T13:46:38.852Z"
   },
   {
    "duration": 58,
    "start_time": "2022-01-14T13:46:38.898Z"
   },
   {
    "duration": 9,
    "start_time": "2022-01-14T13:46:38.959Z"
   },
   {
    "duration": 16,
    "start_time": "2022-01-14T13:46:38.970Z"
   },
   {
    "duration": 22,
    "start_time": "2022-01-14T13:46:38.988Z"
   },
   {
    "duration": 32,
    "start_time": "2022-01-14T13:46:39.012Z"
   },
   {
    "duration": 11,
    "start_time": "2022-01-14T13:46:39.046Z"
   },
   {
    "duration": 43,
    "start_time": "2022-01-14T13:46:39.059Z"
   },
   {
    "duration": 67,
    "start_time": "2022-01-14T13:46:39.105Z"
   },
   {
    "duration": 9,
    "start_time": "2022-01-14T13:46:39.175Z"
   },
   {
    "duration": 28,
    "start_time": "2022-01-14T13:46:39.186Z"
   },
   {
    "duration": 52,
    "start_time": "2022-01-14T13:46:39.217Z"
   },
   {
    "duration": 8,
    "start_time": "2022-01-14T13:46:39.273Z"
   },
   {
    "duration": 59,
    "start_time": "2022-01-14T13:46:39.283Z"
   },
   {
    "duration": 17,
    "start_time": "2022-01-14T13:46:39.345Z"
   },
   {
    "duration": 4,
    "start_time": "2022-01-14T13:50:10.005Z"
   },
   {
    "duration": 10,
    "start_time": "2022-01-14T13:50:30.652Z"
   },
   {
    "duration": 5,
    "start_time": "2022-01-14T14:06:15.663Z"
   },
   {
    "duration": 536,
    "start_time": "2022-01-14T14:09:59.952Z"
   },
   {
    "duration": 64,
    "start_time": "2022-01-14T14:10:00.490Z"
   },
   {
    "duration": 11,
    "start_time": "2022-01-14T14:10:00.556Z"
   },
   {
    "duration": 32,
    "start_time": "2022-01-14T14:10:00.569Z"
   },
   {
    "duration": 14,
    "start_time": "2022-01-14T14:10:00.602Z"
   },
   {
    "duration": 17,
    "start_time": "2022-01-14T14:10:00.618Z"
   },
   {
    "duration": 21,
    "start_time": "2022-01-14T14:10:00.637Z"
   },
   {
    "duration": 22,
    "start_time": "2022-01-14T14:10:00.661Z"
   },
   {
    "duration": 36,
    "start_time": "2022-01-14T14:10:00.685Z"
   },
   {
    "duration": 13,
    "start_time": "2022-01-14T14:10:00.723Z"
   },
   {
    "duration": 34,
    "start_time": "2022-01-14T14:10:00.738Z"
   },
   {
    "duration": 38,
    "start_time": "2022-01-14T14:10:00.774Z"
   },
   {
    "duration": 5,
    "start_time": "2022-01-14T14:10:00.814Z"
   },
   {
    "duration": 37,
    "start_time": "2022-01-14T14:10:00.820Z"
   },
   {
    "duration": 29,
    "start_time": "2022-01-14T14:10:00.859Z"
   },
   {
    "duration": 27,
    "start_time": "2022-01-14T14:10:00.890Z"
   },
   {
    "duration": 5,
    "start_time": "2022-01-14T14:10:00.919Z"
   },
   {
    "duration": 38,
    "start_time": "2022-01-14T14:10:00.925Z"
   },
   {
    "duration": 34,
    "start_time": "2022-01-14T14:10:00.965Z"
   },
   {
    "duration": 10,
    "start_time": "2022-01-14T14:10:01.001Z"
   },
   {
    "duration": 38,
    "start_time": "2022-01-14T14:10:01.013Z"
   },
   {
    "duration": 31,
    "start_time": "2022-01-14T14:10:01.052Z"
   },
   {
    "duration": 24,
    "start_time": "2022-01-14T14:10:01.086Z"
   },
   {
    "duration": 6,
    "start_time": "2022-01-14T14:10:01.112Z"
   },
   {
    "duration": 11,
    "start_time": "2022-01-14T14:10:01.119Z"
   },
   {
    "duration": 4,
    "start_time": "2022-01-14T14:10:01.141Z"
   },
   {
    "duration": 33,
    "start_time": "2022-01-14T14:10:01.147Z"
   },
   {
    "duration": 5,
    "start_time": "2022-01-14T14:10:01.182Z"
   },
   {
    "duration": 298,
    "start_time": "2022-01-14T14:10:01.188Z"
   },
   {
    "duration": -24,
    "start_time": "2022-01-14T14:10:01.512Z"
   },
   {
    "duration": -25,
    "start_time": "2022-01-14T14:10:01.514Z"
   },
   {
    "duration": -27,
    "start_time": "2022-01-14T14:10:01.517Z"
   },
   {
    "duration": 6,
    "start_time": "2022-01-14T14:10:19.516Z"
   },
   {
    "duration": 26,
    "start_time": "2022-01-14T14:10:20.737Z"
   },
   {
    "duration": 221,
    "start_time": "2022-01-14T14:10:22.394Z"
   },
   {
    "duration": 10,
    "start_time": "2022-01-14T14:10:37.278Z"
   },
   {
    "duration": 9,
    "start_time": "2022-01-14T14:10:40.281Z"
   },
   {
    "duration": 9,
    "start_time": "2022-01-14T14:11:15.918Z"
   },
   {
    "duration": 10,
    "start_time": "2022-01-14T14:11:16.603Z"
   },
   {
    "duration": 5,
    "start_time": "2022-01-14T14:12:17.950Z"
   },
   {
    "duration": 7,
    "start_time": "2022-01-14T14:12:18.600Z"
   },
   {
    "duration": 5,
    "start_time": "2022-01-14T14:15:33.047Z"
   },
   {
    "duration": 6,
    "start_time": "2022-01-14T14:15:50.417Z"
   },
   {
    "duration": 5,
    "start_time": "2022-01-14T14:17:24.472Z"
   },
   {
    "duration": 6,
    "start_time": "2022-01-14T14:17:50.786Z"
   },
   {
    "duration": 9,
    "start_time": "2022-01-14T14:18:26.801Z"
   },
   {
    "duration": 6,
    "start_time": "2022-01-14T14:19:59.178Z"
   },
   {
    "duration": 9,
    "start_time": "2022-01-14T14:20:07.460Z"
   },
   {
    "duration": 10,
    "start_time": "2022-01-14T14:20:16.396Z"
   },
   {
    "duration": 5,
    "start_time": "2022-01-14T14:22:17.677Z"
   },
   {
    "duration": 26,
    "start_time": "2022-01-14T14:22:21.522Z"
   },
   {
    "duration": 28,
    "start_time": "2022-01-14T14:22:31.660Z"
   },
   {
    "duration": 6,
    "start_time": "2022-01-14T14:22:38.564Z"
   },
   {
    "duration": 568,
    "start_time": "2022-01-14T14:24:09.148Z"
   },
   {
    "duration": 70,
    "start_time": "2022-01-14T14:24:09.718Z"
   },
   {
    "duration": 11,
    "start_time": "2022-01-14T14:24:09.790Z"
   },
   {
    "duration": 44,
    "start_time": "2022-01-14T14:24:09.803Z"
   },
   {
    "duration": 5,
    "start_time": "2022-01-14T14:24:09.849Z"
   },
   {
    "duration": 10,
    "start_time": "2022-01-14T14:24:09.855Z"
   },
   {
    "duration": 4,
    "start_time": "2022-01-14T14:24:09.867Z"
   },
   {
    "duration": 4,
    "start_time": "2022-01-14T14:24:09.874Z"
   },
   {
    "duration": 11,
    "start_time": "2022-01-14T14:24:09.880Z"
   },
   {
    "duration": 52,
    "start_time": "2022-01-14T14:24:09.893Z"
   },
   {
    "duration": 14,
    "start_time": "2022-01-14T14:24:09.947Z"
   },
   {
    "duration": 22,
    "start_time": "2022-01-14T14:24:09.963Z"
   },
   {
    "duration": 28,
    "start_time": "2022-01-14T14:24:09.986Z"
   },
   {
    "duration": 30,
    "start_time": "2022-01-14T14:24:10.015Z"
   },
   {
    "duration": 12,
    "start_time": "2022-01-14T14:24:10.047Z"
   },
   {
    "duration": 34,
    "start_time": "2022-01-14T14:24:10.061Z"
   },
   {
    "duration": 46,
    "start_time": "2022-01-14T14:24:10.096Z"
   },
   {
    "duration": 5,
    "start_time": "2022-01-14T14:24:10.144Z"
   },
   {
    "duration": 11,
    "start_time": "2022-01-14T14:24:10.151Z"
   },
   {
    "duration": 13,
    "start_time": "2022-01-14T14:24:10.163Z"
   },
   {
    "duration": 4,
    "start_time": "2022-01-14T14:24:10.178Z"
   },
   {
    "duration": 11,
    "start_time": "2022-01-14T14:24:10.184Z"
   },
   {
    "duration": 8,
    "start_time": "2022-01-14T14:24:10.199Z"
   },
   {
    "duration": 57,
    "start_time": "2022-01-14T14:24:10.209Z"
   },
   {
    "duration": 27,
    "start_time": "2022-01-14T14:24:10.269Z"
   },
   {
    "duration": 6,
    "start_time": "2022-01-14T14:24:10.298Z"
   },
   {
    "duration": 37,
    "start_time": "2022-01-14T14:24:10.305Z"
   },
   {
    "duration": 5,
    "start_time": "2022-01-14T14:24:10.344Z"
   },
   {
    "duration": 34,
    "start_time": "2022-01-14T14:24:10.350Z"
   },
   {
    "duration": 5,
    "start_time": "2022-01-14T14:24:10.386Z"
   },
   {
    "duration": 7,
    "start_time": "2022-01-14T14:24:10.393Z"
   },
   {
    "duration": 51,
    "start_time": "2022-01-14T14:24:10.402Z"
   },
   {
    "duration": 10,
    "start_time": "2022-01-14T14:24:10.455Z"
   },
   {
    "duration": 8,
    "start_time": "2022-01-14T14:24:10.467Z"
   },
   {
    "duration": 6,
    "start_time": "2022-01-14T14:24:10.476Z"
   },
   {
    "duration": 14,
    "start_time": "2022-01-14T14:24:10.484Z"
   },
   {
    "duration": 262,
    "start_time": "2022-01-14T14:24:10.930Z"
   },
   {
    "duration": -485,
    "start_time": "2022-01-14T14:24:11.681Z"
   },
   {
    "duration": -489,
    "start_time": "2022-01-14T14:24:11.686Z"
   },
   {
    "duration": -498,
    "start_time": "2022-01-14T14:24:11.696Z"
   },
   {
    "duration": -502,
    "start_time": "2022-01-14T14:24:11.702Z"
   },
   {
    "duration": -507,
    "start_time": "2022-01-14T14:24:11.708Z"
   },
   {
    "duration": -511,
    "start_time": "2022-01-14T14:24:11.713Z"
   },
   {
    "duration": -516,
    "start_time": "2022-01-14T14:24:11.719Z"
   },
   {
    "duration": -519,
    "start_time": "2022-01-14T14:24:11.723Z"
   },
   {
    "duration": -521,
    "start_time": "2022-01-14T14:24:11.727Z"
   },
   {
    "duration": -525,
    "start_time": "2022-01-14T14:24:11.732Z"
   },
   {
    "duration": -529,
    "start_time": "2022-01-14T14:24:11.737Z"
   },
   {
    "duration": -531,
    "start_time": "2022-01-14T14:24:11.741Z"
   },
   {
    "duration": -534,
    "start_time": "2022-01-14T14:24:11.745Z"
   },
   {
    "duration": -538,
    "start_time": "2022-01-14T14:24:11.750Z"
   },
   {
    "duration": -540,
    "start_time": "2022-01-14T14:24:11.753Z"
   },
   {
    "duration": -544,
    "start_time": "2022-01-14T14:24:11.758Z"
   },
   {
    "duration": -554,
    "start_time": "2022-01-14T14:24:11.769Z"
   },
   {
    "duration": -556,
    "start_time": "2022-01-14T14:24:11.773Z"
   },
   {
    "duration": -557,
    "start_time": "2022-01-14T14:24:11.775Z"
   },
   {
    "duration": -570,
    "start_time": "2022-01-14T14:24:11.789Z"
   },
   {
    "duration": -572,
    "start_time": "2022-01-14T14:24:11.792Z"
   },
   {
    "duration": -574,
    "start_time": "2022-01-14T14:24:11.795Z"
   },
   {
    "duration": -577,
    "start_time": "2022-01-14T14:24:11.799Z"
   },
   {
    "duration": -580,
    "start_time": "2022-01-14T14:24:11.803Z"
   },
   {
    "duration": -580,
    "start_time": "2022-01-14T14:24:11.805Z"
   },
   {
    "duration": -582,
    "start_time": "2022-01-14T14:24:11.808Z"
   },
   {
    "duration": -584,
    "start_time": "2022-01-14T14:24:11.811Z"
   },
   {
    "duration": -585,
    "start_time": "2022-01-14T14:24:11.814Z"
   },
   {
    "duration": -586,
    "start_time": "2022-01-14T14:24:11.816Z"
   },
   {
    "duration": -590,
    "start_time": "2022-01-14T14:24:11.821Z"
   },
   {
    "duration": -591,
    "start_time": "2022-01-14T14:24:11.823Z"
   },
   {
    "duration": 8,
    "start_time": "2022-01-14T14:25:34.517Z"
   },
   {
    "duration": 11,
    "start_time": "2022-01-14T14:25:46.166Z"
   },
   {
    "duration": 6,
    "start_time": "2022-01-14T14:25:56.910Z"
   },
   {
    "duration": 57,
    "start_time": "2022-01-14T14:30:33.151Z"
   },
   {
    "duration": 88,
    "start_time": "2022-01-14T14:41:35.277Z"
   },
   {
    "duration": 60,
    "start_time": "2022-01-14T14:41:41.647Z"
   },
   {
    "duration": 211,
    "start_time": "2022-01-14T14:42:18.034Z"
   },
   {
    "duration": 5,
    "start_time": "2022-01-14T14:42:43.194Z"
   },
   {
    "duration": 6,
    "start_time": "2022-01-14T14:43:05.137Z"
   },
   {
    "duration": 197,
    "start_time": "2022-01-14T14:43:30.226Z"
   },
   {
    "duration": 212,
    "start_time": "2022-01-14T14:43:40.470Z"
   },
   {
    "duration": 410,
    "start_time": "2022-01-14T14:44:38.699Z"
   },
   {
    "duration": 213,
    "start_time": "2022-01-14T14:45:10.927Z"
   },
   {
    "duration": 13,
    "start_time": "2022-01-14T14:45:30.441Z"
   },
   {
    "duration": 11,
    "start_time": "2022-01-14T14:45:39.188Z"
   },
   {
    "duration": 14,
    "start_time": "2022-01-14T14:45:58.569Z"
   },
   {
    "duration": 10,
    "start_time": "2022-01-14T14:46:18.378Z"
   },
   {
    "duration": 8,
    "start_time": "2022-01-14T14:46:53.530Z"
   },
   {
    "duration": 10,
    "start_time": "2022-01-14T14:47:15.582Z"
   },
   {
    "duration": 6,
    "start_time": "2022-01-14T14:49:14.962Z"
   },
   {
    "duration": 6,
    "start_time": "2022-01-14T14:50:27.951Z"
   },
   {
    "duration": 14,
    "start_time": "2022-01-14T14:57:03.892Z"
   },
   {
    "duration": 13,
    "start_time": "2022-01-14T14:57:14.324Z"
   },
   {
    "duration": 6,
    "start_time": "2022-01-14T14:58:33.158Z"
   },
   {
    "duration": 6,
    "start_time": "2022-01-14T14:58:43.855Z"
   },
   {
    "duration": 6,
    "start_time": "2022-01-14T14:59:27.085Z"
   },
   {
    "duration": 6,
    "start_time": "2022-01-14T14:59:29.809Z"
   },
   {
    "duration": 6,
    "start_time": "2022-01-14T14:59:55.640Z"
   },
   {
    "duration": 6,
    "start_time": "2022-01-14T14:59:57.218Z"
   },
   {
    "duration": 538,
    "start_time": "2022-01-14T15:00:18.401Z"
   },
   {
    "duration": 69,
    "start_time": "2022-01-14T15:00:18.940Z"
   },
   {
    "duration": 10,
    "start_time": "2022-01-14T15:00:19.011Z"
   },
   {
    "duration": 35,
    "start_time": "2022-01-14T15:00:19.022Z"
   },
   {
    "duration": 4,
    "start_time": "2022-01-14T15:00:19.058Z"
   },
   {
    "duration": 10,
    "start_time": "2022-01-14T15:00:19.063Z"
   },
   {
    "duration": 4,
    "start_time": "2022-01-14T15:00:19.075Z"
   },
   {
    "duration": 12,
    "start_time": "2022-01-14T15:00:19.081Z"
   },
   {
    "duration": 12,
    "start_time": "2022-01-14T15:00:19.095Z"
   },
   {
    "duration": 33,
    "start_time": "2022-01-14T15:00:19.109Z"
   },
   {
    "duration": 11,
    "start_time": "2022-01-14T15:00:19.143Z"
   },
   {
    "duration": 20,
    "start_time": "2022-01-14T15:00:19.156Z"
   },
   {
    "duration": 28,
    "start_time": "2022-01-14T15:00:19.177Z"
   },
   {
    "duration": 4,
    "start_time": "2022-01-14T15:00:19.207Z"
   },
   {
    "duration": 32,
    "start_time": "2022-01-14T15:00:19.212Z"
   },
   {
    "duration": 26,
    "start_time": "2022-01-14T15:00:19.246Z"
   },
   {
    "duration": 25,
    "start_time": "2022-01-14T15:00:19.274Z"
   },
   {
    "duration": 5,
    "start_time": "2022-01-14T15:00:19.300Z"
   },
   {
    "duration": 11,
    "start_time": "2022-01-14T15:00:19.306Z"
   },
   {
    "duration": 12,
    "start_time": "2022-01-14T15:00:19.341Z"
   },
   {
    "duration": 4,
    "start_time": "2022-01-14T15:00:19.355Z"
   },
   {
    "duration": 10,
    "start_time": "2022-01-14T15:00:19.360Z"
   },
   {
    "duration": 5,
    "start_time": "2022-01-14T15:00:19.373Z"
   },
   {
    "duration": 33,
    "start_time": "2022-01-14T15:00:19.380Z"
   },
   {
    "duration": 44,
    "start_time": "2022-01-14T15:00:19.415Z"
   },
   {
    "duration": 6,
    "start_time": "2022-01-14T15:00:19.461Z"
   },
   {
    "duration": 12,
    "start_time": "2022-01-14T15:00:19.469Z"
   },
   {
    "duration": 4,
    "start_time": "2022-01-14T15:00:19.483Z"
   },
   {
    "duration": 28,
    "start_time": "2022-01-14T15:00:19.488Z"
   },
   {
    "duration": 25,
    "start_time": "2022-01-14T15:00:19.517Z"
   },
   {
    "duration": 9,
    "start_time": "2022-01-14T15:00:19.543Z"
   },
   {
    "duration": 29,
    "start_time": "2022-01-14T15:00:19.553Z"
   },
   {
    "duration": 8,
    "start_time": "2022-01-14T15:00:19.584Z"
   },
   {
    "duration": 24,
    "start_time": "2022-01-14T15:00:19.594Z"
   },
   {
    "duration": 20,
    "start_time": "2022-01-14T15:00:19.620Z"
   },
   {
    "duration": 42,
    "start_time": "2022-01-14T15:00:19.642Z"
   },
   {
    "duration": 21,
    "start_time": "2022-01-14T15:00:19.685Z"
   },
   {
    "duration": 37,
    "start_time": "2022-01-14T15:00:19.707Z"
   },
   {
    "duration": 23,
    "start_time": "2022-01-14T15:00:19.745Z"
   },
   {
    "duration": 44,
    "start_time": "2022-01-14T15:00:19.770Z"
   },
   {
    "duration": 18,
    "start_time": "2022-01-14T15:00:19.816Z"
   },
   {
    "duration": 26,
    "start_time": "2022-01-14T15:00:19.835Z"
   },
   {
    "duration": 43,
    "start_time": "2022-01-14T15:00:19.863Z"
   },
   {
    "duration": 26,
    "start_time": "2022-01-14T15:00:19.907Z"
   },
   {
    "duration": 28,
    "start_time": "2022-01-14T15:00:19.934Z"
   },
   {
    "duration": 34,
    "start_time": "2022-01-14T15:00:19.963Z"
   },
   {
    "duration": 20,
    "start_time": "2022-01-14T15:00:19.998Z"
   },
   {
    "duration": 29,
    "start_time": "2022-01-14T15:00:20.020Z"
   },
   {
    "duration": 28,
    "start_time": "2022-01-14T15:00:20.051Z"
   },
   {
    "duration": 18,
    "start_time": "2022-01-14T15:00:20.080Z"
   },
   {
    "duration": 18,
    "start_time": "2022-01-14T15:00:20.100Z"
   },
   {
    "duration": 14,
    "start_time": "2022-01-14T15:00:20.119Z"
   },
   {
    "duration": 13,
    "start_time": "2022-01-14T15:00:20.134Z"
   },
   {
    "duration": 21,
    "start_time": "2022-01-14T15:00:20.149Z"
   },
   {
    "duration": 19,
    "start_time": "2022-01-14T15:00:20.171Z"
   },
   {
    "duration": 21,
    "start_time": "2022-01-14T15:00:20.192Z"
   },
   {
    "duration": 30,
    "start_time": "2022-01-14T15:00:20.214Z"
   },
   {
    "duration": 13,
    "start_time": "2022-01-14T15:00:20.246Z"
   },
   {
    "duration": 27,
    "start_time": "2022-01-14T15:00:20.260Z"
   },
   {
    "duration": 12,
    "start_time": "2022-01-14T15:00:20.288Z"
   },
   {
    "duration": 21,
    "start_time": "2022-01-14T15:00:20.301Z"
   },
   {
    "duration": 26,
    "start_time": "2022-01-14T15:00:20.323Z"
   },
   {
    "duration": 13,
    "start_time": "2022-01-14T15:00:20.350Z"
   },
   {
    "duration": 17,
    "start_time": "2022-01-14T15:00:20.365Z"
   },
   {
    "duration": 12,
    "start_time": "2022-01-14T15:00:20.383Z"
   },
   {
    "duration": 12,
    "start_time": "2022-01-14T15:00:20.397Z"
   },
   {
    "duration": 27,
    "start_time": "2022-01-14T15:00:20.411Z"
   },
   {
    "duration": 17,
    "start_time": "2022-01-14T15:00:20.442Z"
   },
   {
    "duration": 18,
    "start_time": "2022-01-14T15:00:20.460Z"
   },
   {
    "duration": 17,
    "start_time": "2022-01-14T15:00:20.479Z"
   },
   {
    "duration": 15,
    "start_time": "2022-01-14T15:00:20.498Z"
   },
   {
    "duration": 62,
    "start_time": "2022-01-14T15:01:03.347Z"
   },
   {
    "duration": 66,
    "start_time": "2022-01-14T15:01:27.644Z"
   },
   {
    "duration": 7,
    "start_time": "2022-01-14T15:01:46.639Z"
   },
   {
    "duration": 14,
    "start_time": "2022-01-14T15:03:03.277Z"
   },
   {
    "duration": 13,
    "start_time": "2022-01-14T15:03:09.243Z"
   },
   {
    "duration": 10,
    "start_time": "2022-01-14T15:03:17.987Z"
   },
   {
    "duration": 4,
    "start_time": "2022-01-14T15:03:42.322Z"
   },
   {
    "duration": 7,
    "start_time": "2022-01-14T15:03:45.439Z"
   },
   {
    "duration": 9,
    "start_time": "2022-01-14T15:05:30.858Z"
   },
   {
    "duration": 6,
    "start_time": "2022-01-14T15:06:35.381Z"
   },
   {
    "duration": 9,
    "start_time": "2022-01-14T15:06:48.261Z"
   },
   {
    "duration": 8,
    "start_time": "2022-01-14T15:06:49.465Z"
   },
   {
    "duration": 8,
    "start_time": "2022-01-14T15:08:31.921Z"
   },
   {
    "duration": 9,
    "start_time": "2022-01-14T15:09:56.488Z"
   },
   {
    "duration": 9,
    "start_time": "2022-01-14T15:10:02.272Z"
   },
   {
    "duration": 8,
    "start_time": "2022-01-14T15:10:09.293Z"
   },
   {
    "duration": 9,
    "start_time": "2022-01-14T15:10:14.895Z"
   },
   {
    "duration": 5,
    "start_time": "2022-01-14T15:12:17.655Z"
   },
   {
    "duration": 7,
    "start_time": "2022-01-14T15:12:20.937Z"
   },
   {
    "duration": 11,
    "start_time": "2022-01-14T15:12:45.239Z"
   },
   {
    "duration": 6,
    "start_time": "2022-01-14T15:12:45.816Z"
   },
   {
    "duration": 7,
    "start_time": "2022-01-14T15:13:21.309Z"
   },
   {
    "duration": 7,
    "start_time": "2022-01-14T15:13:21.841Z"
   },
   {
    "duration": 9,
    "start_time": "2022-01-14T15:13:36.075Z"
   },
   {
    "duration": 7,
    "start_time": "2022-01-14T15:13:37.337Z"
   },
   {
    "duration": 374,
    "start_time": "2022-01-14T17:56:18.761Z"
   },
   {
    "duration": 942,
    "start_time": "2022-01-14T17:56:30.920Z"
   },
   {
    "duration": 89,
    "start_time": "2022-01-14T17:56:32.386Z"
   },
   {
    "duration": 18,
    "start_time": "2022-01-14T17:56:33.142Z"
   },
   {
    "duration": 802,
    "start_time": "2022-01-14T17:57:05.884Z"
   },
   {
    "duration": 93,
    "start_time": "2022-01-14T17:57:07.298Z"
   },
   {
    "duration": 16,
    "start_time": "2022-01-14T17:57:08.264Z"
   },
   {
    "duration": 44,
    "start_time": "2022-01-14T17:57:17.839Z"
   },
   {
    "duration": 344,
    "start_time": "2022-01-14T18:11:09.980Z"
   },
   {
    "duration": 732,
    "start_time": "2022-01-14T18:11:19.558Z"
   },
   {
    "duration": 88,
    "start_time": "2022-01-14T18:11:20.837Z"
   },
   {
    "duration": 16,
    "start_time": "2022-01-14T18:11:21.839Z"
   },
   {
    "duration": 44,
    "start_time": "2022-01-14T18:11:23.986Z"
   },
   {
    "duration": 7,
    "start_time": "2022-01-14T18:11:29.679Z"
   },
   {
    "duration": 13,
    "start_time": "2022-01-14T18:11:32.771Z"
   },
   {
    "duration": 334,
    "start_time": "2022-01-14T18:12:04.772Z"
   },
   {
    "duration": 18,
    "start_time": "2022-01-14T18:12:11.718Z"
   },
   {
    "duration": 10,
    "start_time": "2022-01-14T18:12:17.168Z"
   },
   {
    "duration": 11,
    "start_time": "2022-01-14T18:12:30.010Z"
   },
   {
    "duration": 9,
    "start_time": "2022-01-14T18:14:11.379Z"
   },
   {
    "duration": 7,
    "start_time": "2022-01-14T18:15:18.435Z"
   },
   {
    "duration": 11,
    "start_time": "2022-01-14T18:15:40.259Z"
   },
   {
    "duration": 4,
    "start_time": "2022-01-14T18:16:19.723Z"
   },
   {
    "duration": 9,
    "start_time": "2022-01-14T18:16:22.859Z"
   },
   {
    "duration": 10,
    "start_time": "2022-01-14T18:16:30.461Z"
   },
   {
    "duration": 7,
    "start_time": "2022-01-14T18:16:37.583Z"
   },
   {
    "duration": 10,
    "start_time": "2022-01-14T18:16:51.734Z"
   },
   {
    "duration": 785,
    "start_time": "2022-01-14T18:17:18.982Z"
   },
   {
    "duration": 88,
    "start_time": "2022-01-14T18:17:20.300Z"
   },
   {
    "duration": 18,
    "start_time": "2022-01-14T18:17:21.063Z"
   },
   {
    "duration": 45,
    "start_time": "2022-01-14T18:17:24.294Z"
   },
   {
    "duration": 7,
    "start_time": "2022-01-14T18:17:28.064Z"
   },
   {
    "duration": 11,
    "start_time": "2022-01-14T18:17:28.583Z"
   },
   {
    "duration": 7,
    "start_time": "2022-01-14T18:17:35.690Z"
   },
   {
    "duration": 12,
    "start_time": "2022-01-14T18:17:36.704Z"
   },
   {
    "duration": 33,
    "start_time": "2022-01-14T18:17:40.588Z"
   },
   {
    "duration": 27,
    "start_time": "2022-01-14T18:17:46.732Z"
   },
   {
    "duration": 36,
    "start_time": "2022-01-14T18:17:52.376Z"
   },
   {
    "duration": 42,
    "start_time": "2022-01-14T18:17:59.290Z"
   },
   {
    "duration": 7,
    "start_time": "2022-01-14T18:18:07.117Z"
   },
   {
    "duration": 12,
    "start_time": "2022-01-14T18:18:08.153Z"
   },
   {
    "duration": 44,
    "start_time": "2022-01-14T18:18:16.224Z"
   },
   {
    "duration": 43,
    "start_time": "2022-01-14T18:18:20.286Z"
   },
   {
    "duration": 7,
    "start_time": "2022-01-14T18:18:25.516Z"
   },
   {
    "duration": 12,
    "start_time": "2022-01-14T18:18:26.548Z"
   },
   {
    "duration": 117,
    "start_time": "2022-01-14T18:18:31.555Z"
   },
   {
    "duration": 10,
    "start_time": "2022-01-14T18:18:42.756Z"
   },
   {
    "duration": 6,
    "start_time": "2022-01-14T18:18:47.081Z"
   },
   {
    "duration": 14,
    "start_time": "2022-01-14T18:19:00.609Z"
   },
   {
    "duration": 7,
    "start_time": "2022-01-14T18:19:06.403Z"
   },
   {
    "duration": 11,
    "start_time": "2022-01-14T18:19:07.369Z"
   },
   {
    "duration": 40,
    "start_time": "2022-01-14T18:19:10.679Z"
   },
   {
    "duration": 40,
    "start_time": "2022-01-14T18:19:13.391Z"
   },
   {
    "duration": 10,
    "start_time": "2022-01-14T18:19:17.817Z"
   },
   {
    "duration": 11,
    "start_time": "2022-01-14T18:19:20.139Z"
   },
   {
    "duration": 6,
    "start_time": "2022-01-14T18:19:26.181Z"
   },
   {
    "duration": 44,
    "start_time": "2022-01-14T18:19:32.449Z"
   },
   {
    "duration": 9,
    "start_time": "2022-01-14T18:19:37.035Z"
   },
   {
    "duration": 8,
    "start_time": "2022-01-14T18:19:41.579Z"
   },
   {
    "duration": 42,
    "start_time": "2022-01-14T18:19:46.600Z"
   },
   {
    "duration": 14,
    "start_time": "2022-01-14T18:19:59.293Z"
   },
   {
    "duration": 12,
    "start_time": "2022-01-14T18:20:09.505Z"
   },
   {
    "duration": 7,
    "start_time": "2022-01-14T18:20:15.267Z"
   },
   {
    "duration": 11,
    "start_time": "2022-01-14T18:20:20.219Z"
   },
   {
    "duration": 8,
    "start_time": "2022-01-14T18:20:34.619Z"
   },
   {
    "duration": 12,
    "start_time": "2022-01-14T18:20:48.297Z"
   },
   {
    "duration": 10,
    "start_time": "2022-01-14T18:20:55.638Z"
   },
   {
    "duration": 5,
    "start_time": "2022-01-14T18:20:58.457Z"
   },
   {
    "duration": 7,
    "start_time": "2022-01-14T18:21:00.103Z"
   },
   {
    "duration": 11,
    "start_time": "2022-01-14T18:21:03.623Z"
   },
   {
    "duration": 8,
    "start_time": "2022-01-14T18:21:05.494Z"
   },
   {
    "duration": 13,
    "start_time": "2022-01-14T18:21:10.268Z"
   },
   {
    "duration": 9,
    "start_time": "2022-01-14T18:21:14.241Z"
   },
   {
    "duration": 8,
    "start_time": "2022-01-14T18:21:18.856Z"
   },
   {
    "duration": 8,
    "start_time": "2022-01-14T18:21:49.252Z"
   },
   {
    "duration": 9,
    "start_time": "2022-01-14T18:21:52.466Z"
   },
   {
    "duration": 7,
    "start_time": "2022-01-14T18:22:08.652Z"
   },
   {
    "duration": 734,
    "start_time": "2022-01-14T18:22:42.362Z"
   },
   {
    "duration": 86,
    "start_time": "2022-01-14T18:22:43.098Z"
   },
   {
    "duration": 16,
    "start_time": "2022-01-14T18:22:43.186Z"
   },
   {
    "duration": 51,
    "start_time": "2022-01-14T18:22:43.204Z"
   },
   {
    "duration": 7,
    "start_time": "2022-01-14T18:22:43.258Z"
   },
   {
    "duration": 11,
    "start_time": "2022-01-14T18:22:43.267Z"
   },
   {
    "duration": 40,
    "start_time": "2022-01-14T18:22:43.280Z"
   },
   {
    "duration": 12,
    "start_time": "2022-01-14T18:22:43.325Z"
   },
   {
    "duration": 34,
    "start_time": "2022-01-14T18:22:43.340Z"
   },
   {
    "duration": 49,
    "start_time": "2022-01-14T18:22:43.377Z"
   },
   {
    "duration": 39,
    "start_time": "2022-01-14T18:22:43.429Z"
   },
   {
    "duration": 73,
    "start_time": "2022-01-14T18:22:43.470Z"
   },
   {
    "duration": 6,
    "start_time": "2022-01-14T18:22:43.546Z"
   },
   {
    "duration": 12,
    "start_time": "2022-01-14T18:22:43.555Z"
   },
   {
    "duration": 74,
    "start_time": "2022-01-14T18:22:43.569Z"
   },
   {
    "duration": 45,
    "start_time": "2022-01-14T18:22:43.645Z"
   },
   {
    "duration": 26,
    "start_time": "2022-01-14T18:22:43.692Z"
   },
   {
    "duration": 14,
    "start_time": "2022-01-14T18:22:43.720Z"
   },
   {
    "duration": 19,
    "start_time": "2022-01-14T18:22:43.737Z"
   },
   {
    "duration": 7,
    "start_time": "2022-01-14T18:22:43.758Z"
   },
   {
    "duration": 51,
    "start_time": "2022-01-14T18:22:43.767Z"
   },
   {
    "duration": 41,
    "start_time": "2022-01-14T18:22:43.820Z"
   },
   {
    "duration": 61,
    "start_time": "2022-01-14T18:22:43.866Z"
   },
   {
    "duration": 9,
    "start_time": "2022-01-14T18:22:43.931Z"
   },
   {
    "duration": 16,
    "start_time": "2022-01-14T18:22:43.942Z"
   },
   {
    "duration": 5,
    "start_time": "2022-01-14T18:22:43.960Z"
   },
   {
    "duration": 74,
    "start_time": "2022-01-14T18:22:43.967Z"
   },
   {
    "duration": 7,
    "start_time": "2022-01-14T18:22:44.043Z"
   },
   {
    "duration": 9,
    "start_time": "2022-01-14T18:22:44.052Z"
   },
   {
    "duration": 63,
    "start_time": "2022-01-14T18:22:44.064Z"
   },
   {
    "duration": 13,
    "start_time": "2022-01-14T18:22:44.129Z"
   },
   {
    "duration": 10,
    "start_time": "2022-01-14T18:22:44.144Z"
   },
   {
    "duration": 6,
    "start_time": "2022-01-14T18:22:44.156Z"
   },
   {
    "duration": 15,
    "start_time": "2022-01-14T18:22:44.165Z"
   },
   {
    "duration": 8,
    "start_time": "2022-01-14T18:22:44.218Z"
   },
   {
    "duration": 12,
    "start_time": "2022-01-14T18:22:44.228Z"
   },
   {
    "duration": 9,
    "start_time": "2022-01-14T18:22:44.243Z"
   },
   {
    "duration": 4,
    "start_time": "2022-01-14T18:22:44.255Z"
   },
   {
    "duration": 9,
    "start_time": "2022-01-14T18:22:44.262Z"
   },
   {
    "duration": 11,
    "start_time": "2022-01-14T18:22:44.317Z"
   },
   {
    "duration": 7,
    "start_time": "2022-01-14T18:22:44.331Z"
   },
   {
    "duration": 14,
    "start_time": "2022-01-14T18:22:44.340Z"
   },
   {
    "duration": 9,
    "start_time": "2022-01-14T18:22:44.356Z"
   },
   {
    "duration": 55,
    "start_time": "2022-01-14T18:22:44.367Z"
   },
   {
    "duration": 7,
    "start_time": "2022-01-14T18:22:44.424Z"
   },
   {
    "duration": 12,
    "start_time": "2022-01-14T18:22:44.434Z"
   },
   {
    "duration": 9,
    "start_time": "2022-01-14T18:22:44.449Z"
   },
   {
    "duration": 11,
    "start_time": "2022-01-14T18:22:44.461Z"
   },
   {
    "duration": 7,
    "start_time": "2022-01-14T18:22:44.518Z"
   },
   {
    "duration": 13,
    "start_time": "2022-01-14T18:22:44.528Z"
   },
   {
    "duration": 8,
    "start_time": "2022-01-14T18:22:44.543Z"
   },
   {
    "duration": 13,
    "start_time": "2022-01-14T18:22:44.553Z"
   },
   {
    "duration": 50,
    "start_time": "2022-01-14T18:22:44.568Z"
   },
   {
    "duration": 13,
    "start_time": "2022-01-14T18:22:44.621Z"
   },
   {
    "duration": 12,
    "start_time": "2022-01-14T18:22:44.636Z"
   },
   {
    "duration": 17,
    "start_time": "2022-01-14T18:22:44.650Z"
   },
   {
    "duration": 13,
    "start_time": "2022-01-14T18:22:44.669Z"
   },
   {
    "duration": 38,
    "start_time": "2022-01-14T18:22:44.685Z"
   },
   {
    "duration": 13,
    "start_time": "2022-01-14T18:22:44.726Z"
   },
   {
    "duration": 9,
    "start_time": "2022-01-14T18:22:44.742Z"
   },
   {
    "duration": 15,
    "start_time": "2022-01-14T18:22:44.754Z"
   },
   {
    "duration": 9,
    "start_time": "2022-01-14T18:22:44.818Z"
   },
   {
    "duration": 19,
    "start_time": "2022-01-14T18:22:44.829Z"
   },
   {
    "duration": 10,
    "start_time": "2022-01-14T18:22:44.850Z"
   },
   {
    "duration": 13,
    "start_time": "2022-01-14T18:22:44.863Z"
   },
   {
    "duration": 45,
    "start_time": "2022-01-14T18:22:44.878Z"
   },
   {
    "duration": 12,
    "start_time": "2022-01-14T18:22:44.926Z"
   },
   {
    "duration": 10,
    "start_time": "2022-01-14T18:22:44.946Z"
   },
   {
    "duration": 11,
    "start_time": "2022-01-14T18:22:44.959Z"
   },
   {
    "duration": 8,
    "start_time": "2022-01-14T18:22:45.018Z"
   },
   {
    "duration": 757,
    "start_time": "2022-01-14T18:24:39.936Z"
   },
   {
    "duration": 88,
    "start_time": "2022-01-14T18:24:40.695Z"
   },
   {
    "duration": 18,
    "start_time": "2022-01-14T18:24:40.787Z"
   },
   {
    "duration": 46,
    "start_time": "2022-01-14T18:24:40.816Z"
   },
   {
    "duration": 6,
    "start_time": "2022-01-14T18:24:40.865Z"
   },
   {
    "duration": 15,
    "start_time": "2022-01-14T18:24:40.873Z"
   },
   {
    "duration": 7,
    "start_time": "2022-01-14T18:24:40.918Z"
   },
   {
    "duration": 13,
    "start_time": "2022-01-14T18:24:40.929Z"
   },
   {
    "duration": 34,
    "start_time": "2022-01-14T18:24:40.945Z"
   },
   {
    "duration": 53,
    "start_time": "2022-01-14T18:24:40.981Z"
   },
   {
    "duration": 35,
    "start_time": "2022-01-14T18:24:41.037Z"
   },
   {
    "duration": 67,
    "start_time": "2022-01-14T18:24:41.074Z"
   },
   {
    "duration": 7,
    "start_time": "2022-01-14T18:24:41.143Z"
   },
   {
    "duration": 13,
    "start_time": "2022-01-14T18:24:41.152Z"
   },
   {
    "duration": 71,
    "start_time": "2022-01-14T18:24:41.167Z"
   },
   {
    "duration": 46,
    "start_time": "2022-01-14T18:24:41.240Z"
   },
   {
    "duration": 7,
    "start_time": "2022-01-14T18:24:41.288Z"
   },
   {
    "duration": 14,
    "start_time": "2022-01-14T18:24:41.317Z"
   },
   {
    "duration": 17,
    "start_time": "2022-01-14T18:24:41.334Z"
   },
   {
    "duration": 7,
    "start_time": "2022-01-14T18:24:41.353Z"
   },
   {
    "duration": 19,
    "start_time": "2022-01-14T18:24:41.362Z"
   },
   {
    "duration": 75,
    "start_time": "2022-01-14T18:24:41.383Z"
   },
   {
    "duration": 58,
    "start_time": "2022-01-14T18:24:41.463Z"
   },
   {
    "duration": 10,
    "start_time": "2022-01-14T18:24:41.525Z"
   },
   {
    "duration": 27,
    "start_time": "2022-01-14T18:24:41.537Z"
   },
   {
    "duration": 5,
    "start_time": "2022-01-14T18:24:41.566Z"
   },
   {
    "duration": 65,
    "start_time": "2022-01-14T18:24:41.573Z"
   },
   {
    "duration": 7,
    "start_time": "2022-01-14T18:24:41.641Z"
   },
   {
    "duration": 14,
    "start_time": "2022-01-14T18:24:41.650Z"
   },
   {
    "duration": 67,
    "start_time": "2022-01-14T18:24:41.666Z"
   },
   {
    "duration": 14,
    "start_time": "2022-01-14T18:24:41.736Z"
   },
   {
    "duration": 12,
    "start_time": "2022-01-14T18:24:41.752Z"
   },
   {
    "duration": 8,
    "start_time": "2022-01-14T18:24:41.766Z"
   },
   {
    "duration": 13,
    "start_time": "2022-01-14T18:24:41.816Z"
   },
   {
    "duration": 9,
    "start_time": "2022-01-14T18:24:41.832Z"
   },
   {
    "duration": 12,
    "start_time": "2022-01-14T18:24:41.844Z"
   },
   {
    "duration": 14,
    "start_time": "2022-01-14T18:24:41.859Z"
   },
   {
    "duration": 5,
    "start_time": "2022-01-14T18:24:41.918Z"
   },
   {
    "duration": 8,
    "start_time": "2022-01-14T18:24:41.925Z"
   },
   {
    "duration": 15,
    "start_time": "2022-01-14T18:24:41.936Z"
   },
   {
    "duration": 8,
    "start_time": "2022-01-14T18:24:41.953Z"
   },
   {
    "duration": 59,
    "start_time": "2022-01-14T18:24:41.963Z"
   },
   {
    "duration": 14,
    "start_time": "2022-01-14T18:24:42.025Z"
   },
   {
    "duration": 9,
    "start_time": "2022-01-14T18:24:42.042Z"
   },
   {
    "duration": 12,
    "start_time": "2022-01-14T18:24:42.054Z"
   },
   {
    "duration": 49,
    "start_time": "2022-01-14T18:24:42.069Z"
   },
   {
    "duration": 7,
    "start_time": "2022-01-14T18:24:42.121Z"
   },
   {
    "duration": 14,
    "start_time": "2022-01-14T18:24:42.131Z"
   },
   {
    "duration": 7,
    "start_time": "2022-01-14T18:24:42.148Z"
   },
   {
    "duration": 13,
    "start_time": "2022-01-14T18:24:42.157Z"
   },
   {
    "duration": 51,
    "start_time": "2022-01-14T18:24:42.173Z"
   },
   {
    "duration": 22,
    "start_time": "2022-01-14T18:24:42.227Z"
   },
   {
    "duration": 13,
    "start_time": "2022-01-14T18:24:42.251Z"
   },
   {
    "duration": 17,
    "start_time": "2022-01-14T18:24:42.266Z"
   },
   {
    "duration": 40,
    "start_time": "2022-01-14T18:24:42.285Z"
   },
   {
    "duration": 14,
    "start_time": "2022-01-14T18:24:42.328Z"
   },
   {
    "duration": 10,
    "start_time": "2022-01-14T18:24:42.344Z"
   },
   {
    "duration": 12,
    "start_time": "2022-01-14T18:24:42.356Z"
   },
   {
    "duration": 55,
    "start_time": "2022-01-14T18:24:42.370Z"
   },
   {
    "duration": 8,
    "start_time": "2022-01-14T18:24:42.427Z"
   },
   {
    "duration": 21,
    "start_time": "2022-01-14T18:24:42.437Z"
   },
   {
    "duration": 8,
    "start_time": "2022-01-14T18:24:42.460Z"
   },
   {
    "duration": 48,
    "start_time": "2022-01-14T18:24:42.470Z"
   },
   {
    "duration": 9,
    "start_time": "2022-01-14T18:24:42.521Z"
   },
   {
    "duration": 10,
    "start_time": "2022-01-14T18:24:42.533Z"
   },
   {
    "duration": 7,
    "start_time": "2022-01-14T18:24:42.546Z"
   },
   {
    "duration": 12,
    "start_time": "2022-01-14T18:24:42.555Z"
   },
   {
    "duration": 49,
    "start_time": "2022-01-14T18:24:42.574Z"
   },
   {
    "duration": 12,
    "start_time": "2022-01-14T18:24:42.626Z"
   },
   {
    "duration": 7,
    "start_time": "2022-01-14T18:24:42.641Z"
   },
   {
    "duration": 9,
    "start_time": "2022-01-14T18:25:00.246Z"
   },
   {
    "duration": 20,
    "start_time": "2022-01-14T18:30:01.807Z"
   },
   {
    "duration": 18,
    "start_time": "2022-01-14T18:30:11.070Z"
   },
   {
    "duration": 7,
    "start_time": "2022-01-14T18:30:13.184Z"
   },
   {
    "duration": 815,
    "start_time": "2022-01-14T18:30:29.279Z"
   },
   {
    "duration": 89,
    "start_time": "2022-01-14T18:30:30.097Z"
   },
   {
    "duration": 16,
    "start_time": "2022-01-14T18:30:30.189Z"
   },
   {
    "duration": 45,
    "start_time": "2022-01-14T18:30:30.218Z"
   },
   {
    "duration": 7,
    "start_time": "2022-01-14T18:30:30.266Z"
   },
   {
    "duration": 15,
    "start_time": "2022-01-14T18:30:30.275Z"
   },
   {
    "duration": 6,
    "start_time": "2022-01-14T18:30:30.318Z"
   },
   {
    "duration": 15,
    "start_time": "2022-01-14T18:30:30.328Z"
   },
   {
    "duration": 33,
    "start_time": "2022-01-14T18:30:30.346Z"
   },
   {
    "duration": 51,
    "start_time": "2022-01-14T18:30:30.382Z"
   },
   {
    "duration": 38,
    "start_time": "2022-01-14T18:30:30.435Z"
   },
   {
    "duration": 65,
    "start_time": "2022-01-14T18:30:30.475Z"
   },
   {
    "duration": 6,
    "start_time": "2022-01-14T18:30:30.542Z"
   },
   {
    "duration": 14,
    "start_time": "2022-01-14T18:30:30.551Z"
   },
   {
    "duration": 75,
    "start_time": "2022-01-14T18:30:30.566Z"
   },
   {
    "duration": 44,
    "start_time": "2022-01-14T18:30:30.643Z"
   },
   {
    "duration": 8,
    "start_time": "2022-01-14T18:30:30.689Z"
   },
   {
    "duration": 31,
    "start_time": "2022-01-14T18:30:30.699Z"
   },
   {
    "duration": 25,
    "start_time": "2022-01-14T18:30:30.732Z"
   },
   {
    "duration": 16,
    "start_time": "2022-01-14T18:30:30.759Z"
   },
   {
    "duration": 27,
    "start_time": "2022-01-14T18:30:30.778Z"
   },
   {
    "duration": 42,
    "start_time": "2022-01-14T18:30:30.818Z"
   },
   {
    "duration": 64,
    "start_time": "2022-01-14T18:30:30.866Z"
   },
   {
    "duration": 11,
    "start_time": "2022-01-14T18:30:30.933Z"
   },
   {
    "duration": 17,
    "start_time": "2022-01-14T18:30:30.946Z"
   },
   {
    "duration": 24,
    "start_time": "2022-01-14T18:30:30.966Z"
   },
   {
    "duration": 61,
    "start_time": "2022-01-14T18:30:30.993Z"
   },
   {
    "duration": 8,
    "start_time": "2022-01-14T18:30:31.058Z"
   },
   {
    "duration": 21,
    "start_time": "2022-01-14T18:30:31.069Z"
   },
   {
    "duration": 69,
    "start_time": "2022-01-14T18:30:31.092Z"
   },
   {
    "duration": 16,
    "start_time": "2022-01-14T18:30:31.164Z"
   },
   {
    "duration": 14,
    "start_time": "2022-01-14T18:30:31.183Z"
   },
   {
    "duration": 8,
    "start_time": "2022-01-14T18:30:31.218Z"
   },
   {
    "duration": 26,
    "start_time": "2022-01-14T18:30:31.229Z"
   },
   {
    "duration": 14,
    "start_time": "2022-01-14T18:30:31.258Z"
   },
   {
    "duration": 26,
    "start_time": "2022-01-14T18:30:31.275Z"
   },
   {
    "duration": 24,
    "start_time": "2022-01-14T18:30:31.304Z"
   },
   {
    "duration": 14,
    "start_time": "2022-01-14T18:30:31.331Z"
   },
   {
    "duration": 22,
    "start_time": "2022-01-14T18:30:31.347Z"
   },
   {
    "duration": 24,
    "start_time": "2022-01-14T18:30:31.373Z"
   },
   {
    "duration": 17,
    "start_time": "2022-01-14T18:30:31.400Z"
   },
   {
    "duration": 15,
    "start_time": "2022-01-14T18:30:31.420Z"
   },
   {
    "duration": 18,
    "start_time": "2022-01-14T18:30:31.438Z"
   },
   {
    "duration": 23,
    "start_time": "2022-01-14T18:30:31.458Z"
   },
   {
    "duration": 37,
    "start_time": "2022-01-14T18:30:31.483Z"
   },
   {
    "duration": 19,
    "start_time": "2022-01-14T18:30:31.522Z"
   },
   {
    "duration": 7,
    "start_time": "2022-01-14T18:30:31.544Z"
   },
   {
    "duration": 14,
    "start_time": "2022-01-14T18:30:31.554Z"
   },
   {
    "duration": 8,
    "start_time": "2022-01-14T18:30:31.570Z"
   },
   {
    "duration": 46,
    "start_time": "2022-01-14T18:30:31.580Z"
   },
   {
    "duration": 16,
    "start_time": "2022-01-14T18:30:31.628Z"
   },
   {
    "duration": 15,
    "start_time": "2022-01-14T18:30:31.646Z"
   },
   {
    "duration": 11,
    "start_time": "2022-01-14T18:30:31.664Z"
   },
   {
    "duration": 45,
    "start_time": "2022-01-14T18:30:31.678Z"
   },
   {
    "duration": 15,
    "start_time": "2022-01-14T18:30:31.725Z"
   },
   {
    "duration": 12,
    "start_time": "2022-01-14T18:30:31.743Z"
   },
   {
    "duration": 8,
    "start_time": "2022-01-14T18:30:31.757Z"
   },
   {
    "duration": 13,
    "start_time": "2022-01-14T18:30:31.767Z"
   },
   {
    "duration": 43,
    "start_time": "2022-01-14T18:30:31.782Z"
   },
   {
    "duration": 7,
    "start_time": "2022-01-14T18:30:31.828Z"
   },
   {
    "duration": 14,
    "start_time": "2022-01-14T18:30:31.837Z"
   },
   {
    "duration": 7,
    "start_time": "2022-01-14T18:30:31.853Z"
   },
   {
    "duration": 55,
    "start_time": "2022-01-14T18:30:31.862Z"
   },
   {
    "duration": 9,
    "start_time": "2022-01-14T18:30:31.920Z"
   },
   {
    "duration": 13,
    "start_time": "2022-01-14T18:30:31.932Z"
   },
   {
    "duration": 9,
    "start_time": "2022-01-14T18:30:31.948Z"
   },
   {
    "duration": 59,
    "start_time": "2022-01-14T18:30:31.960Z"
   },
   {
    "duration": 11,
    "start_time": "2022-01-14T18:30:32.027Z"
   },
   {
    "duration": 14,
    "start_time": "2022-01-14T18:30:32.041Z"
   },
   {
    "duration": 10,
    "start_time": "2022-01-14T18:30:32.057Z"
   },
   {
    "duration": 390,
    "start_time": "2022-01-14T18:31:58.756Z"
   },
   {
    "duration": 31,
    "start_time": "2022-01-14T18:32:54.841Z"
   },
   {
    "duration": 24,
    "start_time": "2022-01-14T18:33:06.276Z"
   },
   {
    "duration": 23,
    "start_time": "2022-01-14T18:33:23.238Z"
   },
   {
    "duration": 23,
    "start_time": "2022-01-14T18:34:32.192Z"
   },
   {
    "duration": 843,
    "start_time": "2022-01-14T18:35:21.883Z"
   },
   {
    "duration": 132,
    "start_time": "2022-01-14T18:35:22.729Z"
   },
   {
    "duration": 17,
    "start_time": "2022-01-14T18:35:22.870Z"
   },
   {
    "duration": 71,
    "start_time": "2022-01-14T18:35:22.890Z"
   },
   {
    "duration": 9,
    "start_time": "2022-01-14T18:35:22.964Z"
   },
   {
    "duration": 43,
    "start_time": "2022-01-14T18:35:22.975Z"
   },
   {
    "duration": 7,
    "start_time": "2022-01-14T18:35:23.022Z"
   },
   {
    "duration": 14,
    "start_time": "2022-01-14T18:35:23.032Z"
   },
   {
    "duration": 67,
    "start_time": "2022-01-14T18:35:23.049Z"
   },
   {
    "duration": 23,
    "start_time": "2022-01-14T18:35:23.118Z"
   },
   {
    "duration": 36,
    "start_time": "2022-01-14T18:35:23.144Z"
   },
   {
    "duration": 75,
    "start_time": "2022-01-14T18:35:23.183Z"
   },
   {
    "duration": 7,
    "start_time": "2022-01-14T18:35:23.260Z"
   },
   {
    "duration": 15,
    "start_time": "2022-01-14T18:35:23.270Z"
   },
   {
    "duration": 66,
    "start_time": "2022-01-14T18:35:23.288Z"
   },
   {
    "duration": 43,
    "start_time": "2022-01-14T18:35:23.356Z"
   },
   {
    "duration": 8,
    "start_time": "2022-01-14T18:35:23.418Z"
   },
   {
    "duration": 17,
    "start_time": "2022-01-14T18:35:23.429Z"
   },
   {
    "duration": 21,
    "start_time": "2022-01-14T18:35:23.449Z"
   },
   {
    "duration": 47,
    "start_time": "2022-01-14T18:35:23.473Z"
   },
   {
    "duration": 12,
    "start_time": "2022-01-14T18:35:23.523Z"
   },
   {
    "duration": 42,
    "start_time": "2022-01-14T18:35:23.541Z"
   },
   {
    "duration": 41,
    "start_time": "2022-01-14T18:35:23.618Z"
   },
   {
    "duration": 9,
    "start_time": "2022-01-14T18:35:23.662Z"
   },
   {
    "duration": 43,
    "start_time": "2022-01-14T18:35:23.674Z"
   },
   {
    "duration": 6,
    "start_time": "2022-01-14T18:35:23.720Z"
   },
   {
    "duration": 50,
    "start_time": "2022-01-14T18:35:23.728Z"
   },
   {
    "duration": 7,
    "start_time": "2022-01-14T18:35:23.781Z"
   },
   {
    "duration": 8,
    "start_time": "2022-01-14T18:35:23.818Z"
   },
   {
    "duration": 46,
    "start_time": "2022-01-14T18:35:23.829Z"
   },
   {
    "duration": 45,
    "start_time": "2022-01-14T18:35:23.877Z"
   },
   {
    "duration": 13,
    "start_time": "2022-01-14T18:35:23.925Z"
   },
   {
    "duration": 8,
    "start_time": "2022-01-14T18:35:23.941Z"
   },
   {
    "duration": 12,
    "start_time": "2022-01-14T18:35:23.951Z"
   },
   {
    "duration": 55,
    "start_time": "2022-01-14T18:35:23.966Z"
   },
   {
    "duration": 16,
    "start_time": "2022-01-14T18:35:24.025Z"
   },
   {
    "duration": 10,
    "start_time": "2022-01-14T18:35:24.044Z"
   },
   {
    "duration": 5,
    "start_time": "2022-01-14T18:35:24.056Z"
   },
   {
    "duration": 9,
    "start_time": "2022-01-14T18:35:24.063Z"
   },
   {
    "duration": 11,
    "start_time": "2022-01-14T18:35:24.117Z"
   },
   {
    "duration": 6,
    "start_time": "2022-01-14T18:35:24.130Z"
   },
   {
    "duration": 12,
    "start_time": "2022-01-14T18:35:24.139Z"
   },
   {
    "duration": 12,
    "start_time": "2022-01-14T18:35:24.154Z"
   },
   {
    "duration": 78,
    "start_time": "2022-01-14T18:35:24.169Z"
   },
   {
    "duration": 7,
    "start_time": "2022-01-14T18:35:24.250Z"
   },
   {
    "duration": 14,
    "start_time": "2022-01-14T18:35:24.260Z"
   },
   {
    "duration": 13,
    "start_time": "2022-01-14T18:35:24.318Z"
   },
   {
    "duration": 13,
    "start_time": "2022-01-14T18:35:24.334Z"
   },
   {
    "duration": 9,
    "start_time": "2022-01-14T18:35:24.350Z"
   },
   {
    "duration": 16,
    "start_time": "2022-01-14T18:35:24.362Z"
   },
   {
    "duration": 8,
    "start_time": "2022-01-14T18:35:24.416Z"
   },
   {
    "duration": 17,
    "start_time": "2022-01-14T18:35:24.427Z"
   },
   {
    "duration": 11,
    "start_time": "2022-01-14T18:35:24.447Z"
   },
   {
    "duration": 61,
    "start_time": "2022-01-14T18:35:24.461Z"
   },
   {
    "duration": 12,
    "start_time": "2022-01-14T18:35:24.525Z"
   },
   {
    "duration": 17,
    "start_time": "2022-01-14T18:35:24.540Z"
   },
   {
    "duration": 11,
    "start_time": "2022-01-14T18:35:24.560Z"
   },
   {
    "duration": 50,
    "start_time": "2022-01-14T18:35:24.574Z"
   },
   {
    "duration": 14,
    "start_time": "2022-01-14T18:35:24.627Z"
   },
   {
    "duration": 9,
    "start_time": "2022-01-14T18:35:24.643Z"
   },
   {
    "duration": 18,
    "start_time": "2022-01-14T18:35:24.654Z"
   },
   {
    "duration": 50,
    "start_time": "2022-01-14T18:35:24.674Z"
   },
   {
    "duration": 12,
    "start_time": "2022-01-14T18:35:24.726Z"
   },
   {
    "duration": 11,
    "start_time": "2022-01-14T18:35:24.740Z"
   },
   {
    "duration": 13,
    "start_time": "2022-01-14T18:35:24.754Z"
   },
   {
    "duration": 53,
    "start_time": "2022-01-14T18:35:24.769Z"
   },
   {
    "duration": 11,
    "start_time": "2022-01-14T18:35:24.829Z"
   },
   {
    "duration": 8,
    "start_time": "2022-01-14T18:35:24.843Z"
   },
   {
    "duration": 12,
    "start_time": "2022-01-14T18:35:24.853Z"
   },
   {
    "duration": 51,
    "start_time": "2022-01-14T18:35:24.868Z"
   },
   {
    "duration": 18,
    "start_time": "2022-01-14T18:36:42.835Z"
   },
   {
    "duration": 727,
    "start_time": "2022-01-14T18:36:57.069Z"
   },
   {
    "duration": 89,
    "start_time": "2022-01-14T18:36:57.798Z"
   },
   {
    "duration": 15,
    "start_time": "2022-01-14T18:36:57.890Z"
   },
   {
    "duration": 50,
    "start_time": "2022-01-14T18:36:57.907Z"
   },
   {
    "duration": 6,
    "start_time": "2022-01-14T18:36:57.959Z"
   },
   {
    "duration": 11,
    "start_time": "2022-01-14T18:36:57.968Z"
   },
   {
    "duration": 41,
    "start_time": "2022-01-14T18:36:57.981Z"
   },
   {
    "duration": 13,
    "start_time": "2022-01-14T18:36:58.026Z"
   },
   {
    "duration": 33,
    "start_time": "2022-01-14T18:36:58.042Z"
   },
   {
    "duration": 52,
    "start_time": "2022-01-14T18:36:58.077Z"
   },
   {
    "duration": 37,
    "start_time": "2022-01-14T18:36:58.132Z"
   },
   {
    "duration": 74,
    "start_time": "2022-01-14T18:36:58.171Z"
   },
   {
    "duration": 7,
    "start_time": "2022-01-14T18:36:58.247Z"
   },
   {
    "duration": 13,
    "start_time": "2022-01-14T18:36:58.256Z"
   },
   {
    "duration": 68,
    "start_time": "2022-01-14T18:36:58.272Z"
   },
   {
    "duration": 48,
    "start_time": "2022-01-14T18:36:58.342Z"
   },
   {
    "duration": 27,
    "start_time": "2022-01-14T18:36:58.392Z"
   },
   {
    "duration": 14,
    "start_time": "2022-01-14T18:36:58.421Z"
   },
   {
    "duration": 19,
    "start_time": "2022-01-14T18:36:58.438Z"
   },
   {
    "duration": 8,
    "start_time": "2022-01-14T18:36:58.459Z"
   },
   {
    "duration": 49,
    "start_time": "2022-01-14T18:36:58.469Z"
   },
   {
    "duration": 40,
    "start_time": "2022-01-14T18:36:58.521Z"
   },
   {
    "duration": 70,
    "start_time": "2022-01-14T18:36:58.567Z"
   },
   {
    "duration": 9,
    "start_time": "2022-01-14T18:36:58.641Z"
   },
   {
    "duration": 12,
    "start_time": "2022-01-14T18:36:58.652Z"
   },
   {
    "duration": 6,
    "start_time": "2022-01-14T18:36:58.666Z"
   },
   {
    "duration": 76,
    "start_time": "2022-01-14T18:36:58.674Z"
   },
   {
    "duration": 8,
    "start_time": "2022-01-14T18:36:58.753Z"
   },
   {
    "duration": 11,
    "start_time": "2022-01-14T18:36:58.764Z"
   },
   {
    "duration": 69,
    "start_time": "2022-01-14T18:36:58.777Z"
   },
   {
    "duration": 13,
    "start_time": "2022-01-14T18:36:58.848Z"
   },
   {
    "duration": 17,
    "start_time": "2022-01-14T18:36:58.863Z"
   },
   {
    "duration": 7,
    "start_time": "2022-01-14T18:36:58.882Z"
   },
   {
    "duration": 12,
    "start_time": "2022-01-14T18:36:58.918Z"
   },
   {
    "duration": 14,
    "start_time": "2022-01-14T18:36:58.932Z"
   },
   {
    "duration": 16,
    "start_time": "2022-01-14T18:36:58.948Z"
   },
   {
    "duration": 30,
    "start_time": "2022-01-14T18:36:58.967Z"
   },
   {
    "duration": 17,
    "start_time": "2022-01-14T18:36:59.000Z"
   },
   {
    "duration": 9,
    "start_time": "2022-01-14T18:36:59.020Z"
   },
   {
    "duration": 13,
    "start_time": "2022-01-14T18:36:59.031Z"
   },
   {
    "duration": 7,
    "start_time": "2022-01-14T18:36:59.046Z"
   },
   {
    "duration": 14,
    "start_time": "2022-01-14T18:36:59.055Z"
   },
   {
    "duration": 55,
    "start_time": "2022-01-14T18:36:59.071Z"
   },
   {
    "duration": 30,
    "start_time": "2022-01-14T18:36:59.128Z"
   },
   {
    "duration": 15,
    "start_time": "2022-01-14T18:36:59.161Z"
   },
   {
    "duration": 40,
    "start_time": "2022-01-14T18:36:59.179Z"
   },
   {
    "duration": 11,
    "start_time": "2022-01-14T18:36:59.221Z"
   },
   {
    "duration": 8,
    "start_time": "2022-01-14T18:36:59.234Z"
   },
   {
    "duration": 10,
    "start_time": "2022-01-14T18:36:59.244Z"
   },
   {
    "duration": 7,
    "start_time": "2022-01-14T18:36:59.256Z"
   },
   {
    "duration": 59,
    "start_time": "2022-01-14T18:36:59.265Z"
   },
   {
    "duration": 8,
    "start_time": "2022-01-14T18:36:59.327Z"
   },
   {
    "duration": 27,
    "start_time": "2022-01-14T18:36:59.337Z"
   },
   {
    "duration": 11,
    "start_time": "2022-01-14T18:36:59.366Z"
   },
   {
    "duration": 40,
    "start_time": "2022-01-14T18:36:59.379Z"
   },
   {
    "duration": 11,
    "start_time": "2022-01-14T18:36:59.421Z"
   },
   {
    "duration": 14,
    "start_time": "2022-01-14T18:36:59.434Z"
   },
   {
    "duration": 8,
    "start_time": "2022-01-14T18:36:59.450Z"
   },
   {
    "duration": 17,
    "start_time": "2022-01-14T18:36:59.461Z"
   },
   {
    "duration": 45,
    "start_time": "2022-01-14T18:36:59.480Z"
   },
   {
    "duration": 8,
    "start_time": "2022-01-14T18:36:59.527Z"
   },
   {
    "duration": 24,
    "start_time": "2022-01-14T18:36:59.537Z"
   },
   {
    "duration": 14,
    "start_time": "2022-01-14T18:36:59.564Z"
   },
   {
    "duration": 41,
    "start_time": "2022-01-14T18:36:59.581Z"
   },
   {
    "duration": 10,
    "start_time": "2022-01-14T18:36:59.624Z"
   },
   {
    "duration": 17,
    "start_time": "2022-01-14T18:36:59.636Z"
   },
   {
    "duration": 9,
    "start_time": "2022-01-14T18:36:59.656Z"
   },
   {
    "duration": 46,
    "start_time": "2022-01-14T18:36:59.672Z"
   },
   {
    "duration": 9,
    "start_time": "2022-01-14T18:36:59.722Z"
   },
   {
    "duration": 15,
    "start_time": "2022-01-14T18:36:59.733Z"
   },
   {
    "duration": 10,
    "start_time": "2022-01-14T18:36:59.750Z"
   },
   {
    "duration": 14,
    "start_time": "2022-01-14T18:37:29.520Z"
   },
   {
    "duration": 12,
    "start_time": "2022-01-14T18:37:32.648Z"
   },
   {
    "duration": 9,
    "start_time": "2022-01-14T18:38:30.893Z"
   },
   {
    "duration": 7,
    "start_time": "2022-01-14T18:38:58.529Z"
   },
   {
    "duration": 8,
    "start_time": "2022-01-14T18:39:04.359Z"
   },
   {
    "duration": 5,
    "start_time": "2022-01-14T18:39:14.518Z"
   },
   {
    "duration": 13,
    "start_time": "2022-01-14T18:39:29.878Z"
   },
   {
    "duration": 4,
    "start_time": "2022-01-14T18:39:42.714Z"
   },
   {
    "duration": 11,
    "start_time": "2022-01-14T18:41:01.422Z"
   },
   {
    "duration": 5,
    "start_time": "2022-01-14T18:41:04.151Z"
   },
   {
    "duration": 8,
    "start_time": "2022-01-14T18:41:04.704Z"
   },
   {
    "duration": 12,
    "start_time": "2022-01-14T18:41:23.997Z"
   },
   {
    "duration": 9,
    "start_time": "2022-01-14T18:43:04.794Z"
   },
   {
    "duration": 6,
    "start_time": "2022-01-14T18:53:14.284Z"
   },
   {
    "duration": 100,
    "start_time": "2022-01-14T18:54:48.501Z"
   },
   {
    "duration": 70,
    "start_time": "2022-01-14T18:54:57.045Z"
   },
   {
    "duration": 7,
    "start_time": "2022-01-14T18:57:00.058Z"
   },
   {
    "duration": 388,
    "start_time": "2022-01-14T18:57:28.718Z"
   },
   {
    "duration": 12,
    "start_time": "2022-01-14T18:57:33.259Z"
   },
   {
    "duration": 6,
    "start_time": "2022-01-14T18:58:08.497Z"
   },
   {
    "duration": 12,
    "start_time": "2022-01-14T18:58:23.997Z"
   },
   {
    "duration": 8,
    "start_time": "2022-01-14T18:58:26.631Z"
   },
   {
    "duration": 8,
    "start_time": "2022-01-14T19:02:32.290Z"
   },
   {
    "duration": 11,
    "start_time": "2022-01-14T19:02:42.611Z"
   },
   {
    "duration": 999,
    "start_time": "2022-01-14T19:09:03.226Z"
   },
   {
    "duration": 126,
    "start_time": "2022-01-14T19:09:04.228Z"
   },
   {
    "duration": 24,
    "start_time": "2022-01-14T19:09:04.358Z"
   },
   {
    "duration": 83,
    "start_time": "2022-01-14T19:09:04.385Z"
   },
   {
    "duration": 115,
    "start_time": "2022-01-14T19:09:04.471Z"
   },
   {
    "duration": 10,
    "start_time": "2022-01-14T19:09:04.589Z"
   },
   {
    "duration": 16,
    "start_time": "2022-01-14T19:09:04.617Z"
   },
   {
    "duration": 7,
    "start_time": "2022-01-14T19:09:04.636Z"
   },
   {
    "duration": 12,
    "start_time": "2022-01-14T19:09:04.647Z"
   },
   {
    "duration": 72,
    "start_time": "2022-01-14T19:09:04.662Z"
   },
   {
    "duration": 18,
    "start_time": "2022-01-14T19:09:04.737Z"
   },
   {
    "duration": 60,
    "start_time": "2022-01-14T19:09:04.757Z"
   },
   {
    "duration": 42,
    "start_time": "2022-01-14T19:09:04.820Z"
   },
   {
    "duration": 7,
    "start_time": "2022-01-14T19:09:04.864Z"
   },
   {
    "duration": 49,
    "start_time": "2022-01-14T19:09:04.873Z"
   },
   {
    "duration": 44,
    "start_time": "2022-01-14T19:09:04.925Z"
   },
   {
    "duration": 86,
    "start_time": "2022-01-14T19:09:04.972Z"
   },
   {
    "duration": 8,
    "start_time": "2022-01-14T19:09:05.060Z"
   },
   {
    "duration": 46,
    "start_time": "2022-01-14T19:09:05.071Z"
   },
   {
    "duration": 21,
    "start_time": "2022-01-14T19:09:05.119Z"
   },
   {
    "duration": 7,
    "start_time": "2022-01-14T19:09:05.142Z"
   },
   {
    "duration": 16,
    "start_time": "2022-01-14T19:09:05.151Z"
   },
   {
    "duration": 79,
    "start_time": "2022-01-14T19:09:05.174Z"
   },
   {
    "duration": 68,
    "start_time": "2022-01-14T19:09:05.256Z"
   },
   {
    "duration": 12,
    "start_time": "2022-01-14T19:09:05.327Z"
   },
   {
    "duration": 12,
    "start_time": "2022-01-14T19:09:05.341Z"
   },
   {
    "duration": 7,
    "start_time": "2022-01-14T19:09:05.356Z"
   },
   {
    "duration": 88,
    "start_time": "2022-01-14T19:09:05.366Z"
   },
   {
    "duration": 9,
    "start_time": "2022-01-14T19:09:05.457Z"
   },
   {
    "duration": 9,
    "start_time": "2022-01-14T19:09:05.469Z"
   },
   {
    "duration": 87,
    "start_time": "2022-01-14T19:09:05.481Z"
   },
   {
    "duration": 15,
    "start_time": "2022-01-14T19:09:05.571Z"
   },
   {
    "duration": 15,
    "start_time": "2022-01-14T19:09:05.589Z"
   },
   {
    "duration": 17,
    "start_time": "2022-01-14T19:09:05.606Z"
   },
   {
    "duration": 13,
    "start_time": "2022-01-14T19:09:05.626Z"
   },
   {
    "duration": 9,
    "start_time": "2022-01-14T19:09:05.642Z"
   },
   {
    "duration": 13,
    "start_time": "2022-01-14T19:09:05.654Z"
   },
   {
    "duration": 54,
    "start_time": "2022-01-14T19:09:05.670Z"
   },
   {
    "duration": 6,
    "start_time": "2022-01-14T19:09:05.727Z"
   },
   {
    "duration": 9,
    "start_time": "2022-01-14T19:09:05.737Z"
   },
   {
    "duration": 16,
    "start_time": "2022-01-14T19:09:05.749Z"
   },
   {
    "duration": 7,
    "start_time": "2022-01-14T19:09:05.768Z"
   },
   {
    "duration": 14,
    "start_time": "2022-01-14T19:09:05.818Z"
   },
   {
    "duration": 24,
    "start_time": "2022-01-14T19:09:05.834Z"
   },
   {
    "duration": 50,
    "start_time": "2022-01-14T19:09:05.860Z"
   },
   {
    "duration": 15,
    "start_time": "2022-01-14T19:09:05.912Z"
   },
   {
    "duration": 6,
    "start_time": "2022-01-14T19:09:05.931Z"
   },
   {
    "duration": 13,
    "start_time": "2022-01-14T19:09:05.940Z"
   },
   {
    "duration": 13,
    "start_time": "2022-01-14T19:09:05.955Z"
   },
   {
    "duration": 58,
    "start_time": "2022-01-14T19:09:05.970Z"
   },
   {
    "duration": 9,
    "start_time": "2022-01-14T19:09:06.031Z"
   },
   {
    "duration": 14,
    "start_time": "2022-01-14T19:09:06.042Z"
   },
   {
    "duration": 8,
    "start_time": "2022-01-14T19:09:06.059Z"
   },
   {
    "duration": 48,
    "start_time": "2022-01-14T19:09:06.070Z"
   },
   {
    "duration": 17,
    "start_time": "2022-01-14T19:09:06.120Z"
   },
   {
    "duration": 17,
    "start_time": "2022-01-14T19:09:06.139Z"
   },
   {
    "duration": 11,
    "start_time": "2022-01-14T19:09:06.159Z"
   },
   {
    "duration": 46,
    "start_time": "2022-01-14T19:09:06.173Z"
   },
   {
    "duration": 19,
    "start_time": "2022-01-14T19:09:06.221Z"
   },
   {
    "duration": 14,
    "start_time": "2022-01-14T19:09:06.242Z"
   },
   {
    "duration": 7,
    "start_time": "2022-01-14T19:09:06.259Z"
   },
   {
    "duration": 48,
    "start_time": "2022-01-14T19:09:06.269Z"
   },
   {
    "duration": 9,
    "start_time": "2022-01-14T19:09:06.320Z"
   },
   {
    "duration": 14,
    "start_time": "2022-01-14T19:09:06.332Z"
   },
   {
    "duration": 25,
    "start_time": "2022-01-14T19:09:06.348Z"
   },
   {
    "duration": 7736,
    "start_time": "2022-01-14T19:09:06.376Z"
   },
   {
    "duration": -1150,
    "start_time": "2022-01-14T19:09:15.265Z"
   },
   {
    "duration": -1152,
    "start_time": "2022-01-14T19:09:15.268Z"
   },
   {
    "duration": -1154,
    "start_time": "2022-01-14T19:09:15.271Z"
   },
   {
    "duration": -1155,
    "start_time": "2022-01-14T19:09:15.274Z"
   },
   {
    "duration": -1156,
    "start_time": "2022-01-14T19:09:15.276Z"
   },
   {
    "duration": -1157,
    "start_time": "2022-01-14T19:09:15.278Z"
   },
   {
    "duration": -1157,
    "start_time": "2022-01-14T19:09:15.280Z"
   },
   {
    "duration": -1159,
    "start_time": "2022-01-14T19:09:15.283Z"
   },
   {
    "duration": -1165,
    "start_time": "2022-01-14T19:09:15.290Z"
   },
   {
    "duration": -1166,
    "start_time": "2022-01-14T19:09:15.293Z"
   },
   {
    "duration": -1168,
    "start_time": "2022-01-14T19:09:15.296Z"
   },
   {
    "duration": 8,
    "start_time": "2022-01-14T19:09:50.191Z"
   },
   {
    "duration": 11,
    "start_time": "2022-01-14T19:09:56.319Z"
   },
   {
    "duration": 8,
    "start_time": "2022-01-14T19:09:57.637Z"
   },
   {
    "duration": 7,
    "start_time": "2022-01-14T19:12:22.725Z"
   },
   {
    "duration": 10,
    "start_time": "2022-01-14T19:12:29.136Z"
   },
   {
    "duration": 7,
    "start_time": "2022-01-14T19:12:37.486Z"
   },
   {
    "duration": 12,
    "start_time": "2022-01-14T19:12:58.413Z"
   },
   {
    "duration": 9,
    "start_time": "2022-01-14T19:13:13.916Z"
   },
   {
    "duration": 7,
    "start_time": "2022-01-14T19:14:58.195Z"
   },
   {
    "duration": 11,
    "start_time": "2022-01-14T19:15:02.630Z"
   },
   {
    "duration": 9,
    "start_time": "2022-01-14T19:15:09.121Z"
   },
   {
    "duration": -1159,
    "start_time": "2022-01-14T19:36:53.423Z"
   },
   {
    "duration": 12,
    "start_time": "2022-01-14T19:36:54.906Z"
   },
   {
    "duration": 8,
    "start_time": "2022-01-14T19:36:55.506Z"
   },
   {
    "duration": 7236,
    "start_time": "2022-01-14T19:36:57.710Z"
   },
   {
    "duration": 921,
    "start_time": "2022-01-14T19:37:32.807Z"
   },
   {
    "duration": 567,
    "start_time": "2022-01-14T19:37:45.693Z"
   },
   {
    "duration": 7150,
    "start_time": "2022-01-14T19:38:17.257Z"
   },
   {
    "duration": 40,
    "start_time": "2022-01-14T19:38:26.469Z"
   },
   {
    "duration": 43,
    "start_time": "2022-01-14T19:38:53.306Z"
   },
   {
    "duration": 44,
    "start_time": "2022-01-14T19:39:40.780Z"
   },
   {
    "duration": 40,
    "start_time": "2022-01-14T19:43:08.131Z"
   },
   {
    "duration": 8,
    "start_time": "2022-01-14T19:43:55.958Z"
   },
   {
    "duration": 8,
    "start_time": "2022-01-14T19:44:22.372Z"
   },
   {
    "duration": 10,
    "start_time": "2022-01-14T19:44:50.324Z"
   },
   {
    "duration": 14,
    "start_time": "2022-01-14T19:45:05.750Z"
   },
   {
    "duration": 9,
    "start_time": "2022-01-14T19:45:32.028Z"
   },
   {
    "duration": 11,
    "start_time": "2022-01-14T19:45:41.706Z"
   },
   {
    "duration": 7,
    "start_time": "2022-01-14T19:45:46.589Z"
   },
   {
    "duration": 5,
    "start_time": "2022-01-14T19:47:02.981Z"
   },
   {
    "duration": 16,
    "start_time": "2022-01-14T19:47:06.185Z"
   },
   {
    "duration": 10,
    "start_time": "2022-01-14T19:47:09.806Z"
   },
   {
    "duration": 39,
    "start_time": "2022-01-14T19:49:06.862Z"
   },
   {
    "duration": 12,
    "start_time": "2022-01-14T19:50:12.963Z"
   },
   {
    "duration": 9,
    "start_time": "2022-01-14T19:50:52.814Z"
   },
   {
    "duration": 6,
    "start_time": "2022-01-15T07:48:10.775Z"
   },
   {
    "duration": 5,
    "start_time": "2022-01-15T07:48:18.875Z"
   },
   {
    "duration": 7,
    "start_time": "2022-01-15T07:48:31.459Z"
   },
   {
    "duration": 310,
    "start_time": "2022-01-15T07:48:52.196Z"
   },
   {
    "duration": 290,
    "start_time": "2022-01-15T07:49:25.861Z"
   },
   {
    "duration": 314,
    "start_time": "2022-01-15T07:49:31.052Z"
   },
   {
    "duration": 6,
    "start_time": "2022-01-15T07:49:38.686Z"
   },
   {
    "duration": 5,
    "start_time": "2022-01-15T07:50:53.267Z"
   },
   {
    "duration": 9,
    "start_time": "2022-01-15T07:51:02.708Z"
   },
   {
    "duration": 6,
    "start_time": "2022-01-15T07:51:20.193Z"
   },
   {
    "duration": 9,
    "start_time": "2022-01-15T07:51:27.081Z"
   },
   {
    "duration": 16,
    "start_time": "2022-01-15T07:51:53.693Z"
   },
   {
    "duration": 869,
    "start_time": "2022-01-15T08:15:19.517Z"
   },
   {
    "duration": 95,
    "start_time": "2022-01-15T08:15:20.389Z"
   },
   {
    "duration": 16,
    "start_time": "2022-01-15T08:15:20.490Z"
   },
   {
    "duration": 46,
    "start_time": "2022-01-15T08:15:20.518Z"
   },
   {
    "duration": 6,
    "start_time": "2022-01-15T08:15:20.566Z"
   },
   {
    "duration": 46,
    "start_time": "2022-01-15T08:15:20.575Z"
   },
   {
    "duration": 40,
    "start_time": "2022-01-15T08:15:20.626Z"
   },
   {
    "duration": 8,
    "start_time": "2022-01-15T08:15:20.671Z"
   },
   {
    "duration": 39,
    "start_time": "2022-01-15T08:15:20.682Z"
   },
   {
    "duration": 7,
    "start_time": "2022-01-15T08:15:20.724Z"
   },
   {
    "duration": 14,
    "start_time": "2022-01-15T08:15:20.733Z"
   },
   {
    "duration": 70,
    "start_time": "2022-01-15T08:15:20.749Z"
   },
   {
    "duration": 19,
    "start_time": "2022-01-15T08:15:20.821Z"
   },
   {
    "duration": 37,
    "start_time": "2022-01-15T08:15:20.843Z"
   },
   {
    "duration": 70,
    "start_time": "2022-01-15T08:15:20.882Z"
   },
   {
    "duration": 7,
    "start_time": "2022-01-15T08:15:20.955Z"
   },
   {
    "duration": 27,
    "start_time": "2022-01-15T08:15:20.964Z"
   },
   {
    "duration": 61,
    "start_time": "2022-01-15T08:15:20.995Z"
   },
   {
    "duration": 64,
    "start_time": "2022-01-15T08:15:21.059Z"
   },
   {
    "duration": 8,
    "start_time": "2022-01-15T08:15:21.126Z"
   },
   {
    "duration": 22,
    "start_time": "2022-01-15T08:15:21.137Z"
   },
   {
    "duration": 32,
    "start_time": "2022-01-15T08:15:21.165Z"
   },
   {
    "duration": 8,
    "start_time": "2022-01-15T08:15:21.219Z"
   },
   {
    "duration": 15,
    "start_time": "2022-01-15T08:15:21.229Z"
   },
   {
    "duration": 72,
    "start_time": "2022-01-15T08:15:21.246Z"
   },
   {
    "duration": 43,
    "start_time": "2022-01-15T08:15:21.321Z"
   },
   {
    "duration": 9,
    "start_time": "2022-01-15T08:15:21.367Z"
   },
   {
    "duration": 46,
    "start_time": "2022-01-15T08:15:21.379Z"
   },
   {
    "duration": 6,
    "start_time": "2022-01-15T08:15:21.427Z"
   },
   {
    "duration": 45,
    "start_time": "2022-01-15T08:15:21.436Z"
   },
   {
    "duration": 8,
    "start_time": "2022-01-15T08:15:21.483Z"
   },
   {
    "duration": 36,
    "start_time": "2022-01-15T08:15:21.493Z"
   },
   {
    "duration": 46,
    "start_time": "2022-01-15T08:15:21.532Z"
   },
   {
    "duration": 36,
    "start_time": "2022-01-15T08:15:21.581Z"
   },
   {
    "duration": 11,
    "start_time": "2022-01-15T08:15:21.620Z"
   },
   {
    "duration": 9,
    "start_time": "2022-01-15T08:15:21.633Z"
   },
   {
    "duration": 28,
    "start_time": "2022-01-15T08:15:21.645Z"
   },
   {
    "duration": 14,
    "start_time": "2022-01-15T08:15:21.675Z"
   },
   {
    "duration": 33,
    "start_time": "2022-01-15T08:15:21.691Z"
   },
   {
    "duration": 12,
    "start_time": "2022-01-15T08:15:21.727Z"
   },
   {
    "duration": 6,
    "start_time": "2022-01-15T08:15:21.742Z"
   },
   {
    "duration": 11,
    "start_time": "2022-01-15T08:15:21.751Z"
   },
   {
    "duration": 60,
    "start_time": "2022-01-15T08:15:21.765Z"
   },
   {
    "duration": 7,
    "start_time": "2022-01-15T08:15:21.827Z"
   },
   {
    "duration": 20,
    "start_time": "2022-01-15T08:15:21.837Z"
   },
   {
    "duration": 27,
    "start_time": "2022-01-15T08:15:21.860Z"
   },
   {
    "duration": 48,
    "start_time": "2022-01-15T08:15:21.889Z"
   },
   {
    "duration": 15,
    "start_time": "2022-01-15T08:15:21.939Z"
   },
   {
    "duration": 5,
    "start_time": "2022-01-15T08:15:21.956Z"
   },
   {
    "duration": 14,
    "start_time": "2022-01-15T08:15:21.964Z"
   },
   {
    "duration": 38,
    "start_time": "2022-01-15T08:15:21.980Z"
   },
   {
    "duration": 10,
    "start_time": "2022-01-15T08:15:22.021Z"
   },
   {
    "duration": 10,
    "start_time": "2022-01-15T08:15:22.034Z"
   },
   {
    "duration": 23,
    "start_time": "2022-01-15T08:15:22.047Z"
   },
   {
    "duration": 10,
    "start_time": "2022-01-15T08:15:22.073Z"
   },
   {
    "duration": 5,
    "start_time": "2022-01-15T08:15:22.118Z"
   },
   {
    "duration": 11,
    "start_time": "2022-01-15T08:15:22.125Z"
   },
   {
    "duration": 12,
    "start_time": "2022-01-15T08:15:22.138Z"
   },
   {
    "duration": 8,
    "start_time": "2022-01-15T08:15:22.152Z"
   },
   {
    "duration": 9,
    "start_time": "2022-01-15T08:15:22.162Z"
   },
   {
    "duration": 57,
    "start_time": "2022-01-15T08:15:22.173Z"
   },
   {
    "duration": 22,
    "start_time": "2022-01-15T08:15:22.233Z"
   },
   {
    "duration": 7,
    "start_time": "2022-01-15T08:15:22.257Z"
   },
   {
    "duration": 19,
    "start_time": "2022-01-15T08:15:22.266Z"
   },
   {
    "duration": 29,
    "start_time": "2022-01-15T08:15:22.287Z"
   },
   {
    "duration": 9,
    "start_time": "2022-01-15T08:15:22.319Z"
   },
   {
    "duration": 12,
    "start_time": "2022-01-15T08:15:22.336Z"
   },
   {
    "duration": 13,
    "start_time": "2022-01-15T08:15:22.350Z"
   },
   {
    "duration": 8,
    "start_time": "2022-01-15T08:15:22.365Z"
   },
   {
    "duration": 7,
    "start_time": "2022-01-15T08:15:22.418Z"
   },
   {
    "duration": 11,
    "start_time": "2022-01-15T08:15:22.434Z"
   },
   {
    "duration": 9,
    "start_time": "2022-01-15T08:15:22.447Z"
   },
   {
    "duration": 6,
    "start_time": "2022-01-15T08:15:22.460Z"
   },
   {
    "duration": 51,
    "start_time": "2022-01-15T08:15:22.468Z"
   },
   {
    "duration": 9,
    "start_time": "2022-01-15T08:15:22.522Z"
   },
   {
    "duration": 38,
    "start_time": "2022-01-15T08:15:22.534Z"
   },
   {
    "duration": 9,
    "start_time": "2022-01-15T08:15:22.575Z"
   },
   {
    "duration": 14,
    "start_time": "2022-01-15T08:15:22.618Z"
   },
   {
    "duration": 10,
    "start_time": "2022-01-15T08:15:22.634Z"
   },
   {
    "duration": 6,
    "start_time": "2022-01-15T08:15:22.647Z"
   },
   {
    "duration": 20,
    "start_time": "2022-01-15T08:15:22.656Z"
   },
   {
    "duration": 49,
    "start_time": "2022-01-15T08:15:22.680Z"
   },
   {
    "duration": 37,
    "start_time": "2022-01-15T08:15:22.731Z"
   },
   {
    "duration": 47,
    "start_time": "2022-01-15T08:15:22.770Z"
   },
   {
    "duration": 9,
    "start_time": "2022-01-15T08:15:22.819Z"
   },
   {
    "duration": 9,
    "start_time": "2022-01-15T08:15:22.830Z"
   },
   {
    "duration": 27,
    "start_time": "2022-01-15T08:15:22.842Z"
   },
   {
    "duration": 15,
    "start_time": "2022-01-15T08:18:55.746Z"
   },
   {
    "duration": 33,
    "start_time": "2022-01-15T08:19:56.729Z"
   },
   {
    "duration": 8,
    "start_time": "2022-01-15T08:23:52.624Z"
   },
   {
    "duration": 33,
    "start_time": "2022-01-15T08:23:54.254Z"
   },
   {
    "duration": 14,
    "start_time": "2022-01-15T08:24:01.971Z"
   },
   {
    "duration": 741,
    "start_time": "2022-01-15T08:39:57.863Z"
   },
   {
    "duration": 99,
    "start_time": "2022-01-15T08:39:58.607Z"
   },
   {
    "duration": 18,
    "start_time": "2022-01-15T08:39:58.709Z"
   },
   {
    "duration": 45,
    "start_time": "2022-01-15T08:39:58.729Z"
   },
   {
    "duration": 6,
    "start_time": "2022-01-15T08:39:58.776Z"
   },
   {
    "duration": 45,
    "start_time": "2022-01-15T08:39:58.785Z"
   },
   {
    "duration": 34,
    "start_time": "2022-01-15T08:39:58.833Z"
   },
   {
    "duration": 50,
    "start_time": "2022-01-15T08:39:58.871Z"
   },
   {
    "duration": 8,
    "start_time": "2022-01-15T08:39:58.924Z"
   },
   {
    "duration": 7,
    "start_time": "2022-01-15T08:39:58.934Z"
   },
   {
    "duration": 9,
    "start_time": "2022-01-15T08:39:58.943Z"
   },
   {
    "duration": 12,
    "start_time": "2022-01-15T08:39:58.954Z"
   },
   {
    "duration": 31,
    "start_time": "2022-01-15T08:39:58.968Z"
   },
   {
    "duration": 36,
    "start_time": "2022-01-15T08:39:59.001Z"
   },
   {
    "duration": 34,
    "start_time": "2022-01-15T08:39:59.039Z"
   },
   {
    "duration": 42,
    "start_time": "2022-01-15T08:39:59.076Z"
   },
   {
    "duration": 8,
    "start_time": "2022-01-15T08:39:59.121Z"
   },
   {
    "duration": 16,
    "start_time": "2022-01-15T08:39:59.131Z"
   },
   {
    "duration": 20,
    "start_time": "2022-01-15T08:39:59.150Z"
   },
   {
    "duration": 11,
    "start_time": "2022-01-15T08:39:59.173Z"
   },
   {
    "duration": 8,
    "start_time": "2022-01-15T08:39:59.186Z"
   },
   {
    "duration": 20,
    "start_time": "2022-01-15T08:39:59.197Z"
   },
   {
    "duration": 16,
    "start_time": "2022-01-15T08:39:59.223Z"
   },
   {
    "duration": 6,
    "start_time": "2022-01-15T08:39:59.243Z"
   },
   {
    "duration": 28,
    "start_time": "2022-01-15T08:39:59.251Z"
   },
   {
    "duration": 9,
    "start_time": "2022-01-15T08:39:59.281Z"
   },
   {
    "duration": 22,
    "start_time": "2022-01-15T08:39:59.293Z"
   },
   {
    "duration": 42,
    "start_time": "2022-01-15T08:39:59.317Z"
   },
   {
    "duration": 41,
    "start_time": "2022-01-15T08:39:59.362Z"
   },
   {
    "duration": 19,
    "start_time": "2022-01-15T08:39:59.405Z"
   },
   {
    "duration": 7,
    "start_time": "2022-01-15T08:39:59.426Z"
   },
   {
    "duration": 8,
    "start_time": "2022-01-15T08:39:59.435Z"
   },
   {
    "duration": 14,
    "start_time": "2022-01-15T08:39:59.446Z"
   },
   {
    "duration": 10,
    "start_time": "2022-01-15T08:39:59.463Z"
   },
   {
    "duration": 8,
    "start_time": "2022-01-15T08:39:59.476Z"
   },
   {
    "duration": 19,
    "start_time": "2022-01-15T08:39:59.486Z"
   },
   {
    "duration": 46,
    "start_time": "2022-01-15T08:39:59.507Z"
   },
   {
    "duration": 40,
    "start_time": "2022-01-15T08:39:59.555Z"
   },
   {
    "duration": 19,
    "start_time": "2022-01-15T08:39:59.598Z"
   },
   {
    "duration": 8,
    "start_time": "2022-01-15T08:39:59.619Z"
   },
   {
    "duration": 4,
    "start_time": "2022-01-15T08:39:59.629Z"
   },
   {
    "duration": 18,
    "start_time": "2022-01-15T08:39:59.635Z"
   },
   {
    "duration": 14,
    "start_time": "2022-01-15T08:39:59.655Z"
   },
   {
    "duration": 8,
    "start_time": "2022-01-15T08:39:59.671Z"
   },
   {
    "duration": 4,
    "start_time": "2022-01-15T08:39:59.681Z"
   },
   {
    "duration": 9,
    "start_time": "2022-01-15T08:39:59.687Z"
   },
   {
    "duration": 11,
    "start_time": "2022-01-15T08:39:59.698Z"
   },
   {
    "duration": 7,
    "start_time": "2022-01-15T08:39:59.711Z"
   },
   {
    "duration": 15,
    "start_time": "2022-01-15T08:39:59.720Z"
   },
   {
    "duration": 14,
    "start_time": "2022-01-15T08:39:59.737Z"
   },
   {
    "duration": 24,
    "start_time": "2022-01-15T08:39:59.753Z"
   },
   {
    "duration": 11,
    "start_time": "2022-01-15T08:39:59.780Z"
   },
   {
    "duration": 5,
    "start_time": "2022-01-15T08:39:59.818Z"
   },
   {
    "duration": 17,
    "start_time": "2022-01-15T08:39:59.825Z"
   },
   {
    "duration": 20,
    "start_time": "2022-01-15T08:39:59.844Z"
   },
   {
    "duration": 54,
    "start_time": "2022-01-15T08:39:59.866Z"
   },
   {
    "duration": 14,
    "start_time": "2022-01-15T08:39:59.922Z"
   },
   {
    "duration": 6,
    "start_time": "2022-01-15T08:39:59.938Z"
   },
   {
    "duration": 84,
    "start_time": "2022-01-15T08:39:59.946Z"
   },
   {
    "duration": 6,
    "start_time": "2022-01-15T08:40:00.033Z"
   },
   {
    "duration": 19,
    "start_time": "2022-01-15T08:40:00.041Z"
   },
   {
    "duration": 43,
    "start_time": "2022-01-15T08:40:00.062Z"
   },
   {
    "duration": 18,
    "start_time": "2022-01-15T08:40:00.107Z"
   },
   {
    "duration": 11,
    "start_time": "2022-01-15T08:40:00.128Z"
   },
   {
    "duration": 11,
    "start_time": "2022-01-15T08:40:00.142Z"
   },
   {
    "duration": 63,
    "start_time": "2022-01-15T08:40:00.156Z"
   },
   {
    "duration": 7,
    "start_time": "2022-01-15T08:40:00.221Z"
   },
   {
    "duration": 13,
    "start_time": "2022-01-15T08:40:00.235Z"
   },
   {
    "duration": 12,
    "start_time": "2022-01-15T08:40:00.252Z"
   },
   {
    "duration": 53,
    "start_time": "2022-01-15T08:40:00.267Z"
   },
   {
    "duration": 15,
    "start_time": "2022-01-15T08:40:00.323Z"
   },
   {
    "duration": 15,
    "start_time": "2022-01-15T08:40:00.342Z"
   },
   {
    "duration": 63,
    "start_time": "2022-01-15T08:40:00.360Z"
   },
   {
    "duration": 12,
    "start_time": "2022-01-15T08:40:00.426Z"
   },
   {
    "duration": 29,
    "start_time": "2022-01-15T08:40:00.441Z"
   },
   {
    "duration": 10,
    "start_time": "2022-01-15T08:40:00.517Z"
   },
   {
    "duration": 8,
    "start_time": "2022-01-15T08:40:00.529Z"
   },
   {
    "duration": 13,
    "start_time": "2022-01-15T08:40:00.540Z"
   },
   {
    "duration": 66,
    "start_time": "2022-01-15T08:40:00.555Z"
   },
   {
    "duration": 92,
    "start_time": "2022-01-15T08:40:00.624Z"
   },
   {
    "duration": 9,
    "start_time": "2022-01-15T08:40:00.719Z"
   },
   {
    "duration": 21,
    "start_time": "2022-01-15T08:40:00.731Z"
   },
   {
    "duration": 11,
    "start_time": "2022-01-15T08:40:00.754Z"
   },
   {
    "duration": 6,
    "start_time": "2022-01-15T08:40:00.818Z"
   },
   {
    "duration": 18,
    "start_time": "2022-01-15T08:40:00.826Z"
   },
   {
    "duration": 12,
    "start_time": "2022-01-15T08:40:00.846Z"
   },
   {
    "duration": 83,
    "start_time": "2022-01-15T08:40:00.860Z"
   },
   {
    "duration": 8,
    "start_time": "2022-01-15T08:51:54.847Z"
   },
   {
    "duration": 375,
    "start_time": "2022-01-15T08:52:12.947Z"
   },
   {
    "duration": 6,
    "start_time": "2022-01-15T08:52:18.310Z"
   },
   {
    "duration": 6,
    "start_time": "2022-01-15T08:52:21.718Z"
   },
   {
    "duration": 292,
    "start_time": "2022-01-15T08:52:27.603Z"
   },
   {
    "duration": 14,
    "start_time": "2022-01-15T08:53:49.900Z"
   },
   {
    "duration": 8,
    "start_time": "2022-01-15T08:55:25.678Z"
   },
   {
    "duration": 9,
    "start_time": "2022-01-15T08:55:50.437Z"
   },
   {
    "duration": 831,
    "start_time": "2022-01-15T08:56:31.670Z"
   },
   {
    "duration": 11,
    "start_time": "2022-01-15T08:58:03.545Z"
   },
   {
    "duration": 9,
    "start_time": "2022-01-15T08:58:22.291Z"
   },
   {
    "duration": 3746,
    "start_time": "2022-01-15T09:00:33.204Z"
   },
   {
    "duration": 43,
    "start_time": "2022-01-15T09:02:26.532Z"
   },
   {
    "duration": 7,
    "start_time": "2022-01-15T09:27:21.626Z"
   },
   {
    "duration": 18,
    "start_time": "2022-01-15T09:27:54.764Z"
   },
   {
    "duration": 8,
    "start_time": "2022-01-15T09:28:08.959Z"
   },
   {
    "duration": 7572,
    "start_time": "2022-01-15T09:29:40.012Z"
   },
   {
    "duration": 3907,
    "start_time": "2022-01-15T09:30:01.726Z"
   },
   {
    "duration": 3953,
    "start_time": "2022-01-15T09:30:28.495Z"
   },
   {
    "duration": 45,
    "start_time": "2022-01-15T09:31:03.408Z"
   },
   {
    "duration": 292,
    "start_time": "2022-01-15T09:32:24.681Z"
   },
   {
    "duration": 1648,
    "start_time": "2022-01-15T09:32:45.624Z"
   },
   {
    "duration": 89,
    "start_time": "2022-01-15T09:32:47.275Z"
   },
   {
    "duration": 15,
    "start_time": "2022-01-15T09:32:47.370Z"
   },
   {
    "duration": 63,
    "start_time": "2022-01-15T09:32:47.387Z"
   },
   {
    "duration": 10,
    "start_time": "2022-01-15T09:32:47.453Z"
   },
   {
    "duration": 12,
    "start_time": "2022-01-15T09:32:47.466Z"
   },
   {
    "duration": 78,
    "start_time": "2022-01-15T09:32:47.482Z"
   },
   {
    "duration": 20,
    "start_time": "2022-01-15T09:32:47.564Z"
   },
   {
    "duration": 38,
    "start_time": "2022-01-15T09:32:47.586Z"
   },
   {
    "duration": 8,
    "start_time": "2022-01-15T09:32:47.627Z"
   },
   {
    "duration": 10,
    "start_time": "2022-01-15T09:32:47.638Z"
   },
   {
    "duration": 16,
    "start_time": "2022-01-15T09:32:47.651Z"
   },
   {
    "duration": 83,
    "start_time": "2022-01-15T09:32:47.670Z"
   },
   {
    "duration": 27,
    "start_time": "2022-01-15T09:32:47.756Z"
   },
   {
    "duration": 75,
    "start_time": "2022-01-15T09:32:47.786Z"
   },
   {
    "duration": 76,
    "start_time": "2022-01-15T09:32:47.863Z"
   },
   {
    "duration": 9,
    "start_time": "2022-01-15T09:32:47.942Z"
   },
   {
    "duration": 19,
    "start_time": "2022-01-15T09:32:47.954Z"
   },
   {
    "duration": 55,
    "start_time": "2022-01-15T09:32:47.975Z"
   },
   {
    "duration": 16,
    "start_time": "2022-01-15T09:32:48.032Z"
   },
   {
    "duration": 10,
    "start_time": "2022-01-15T09:32:48.050Z"
   },
   {
    "duration": 10,
    "start_time": "2022-01-15T09:32:48.068Z"
   },
   {
    "duration": 17,
    "start_time": "2022-01-15T09:32:48.119Z"
   },
   {
    "duration": 7,
    "start_time": "2022-01-15T09:32:48.138Z"
   },
   {
    "duration": 11,
    "start_time": "2022-01-15T09:32:48.148Z"
   },
   {
    "duration": 8,
    "start_time": "2022-01-15T09:32:48.161Z"
   },
   {
    "duration": 60,
    "start_time": "2022-01-15T09:32:48.172Z"
   },
   {
    "duration": 55,
    "start_time": "2022-01-15T09:32:48.235Z"
   },
   {
    "duration": 63,
    "start_time": "2022-01-15T09:32:48.317Z"
   },
   {
    "duration": 35,
    "start_time": "2022-01-15T09:32:48.383Z"
   },
   {
    "duration": 9,
    "start_time": "2022-01-15T09:32:48.421Z"
   },
   {
    "duration": 9,
    "start_time": "2022-01-15T09:32:48.434Z"
   },
   {
    "duration": 15,
    "start_time": "2022-01-15T09:32:48.446Z"
   },
   {
    "duration": 12,
    "start_time": "2022-01-15T09:32:48.464Z"
   },
   {
    "duration": 12,
    "start_time": "2022-01-15T09:32:48.518Z"
   },
   {
    "duration": 16,
    "start_time": "2022-01-15T09:32:48.534Z"
   },
   {
    "duration": 67,
    "start_time": "2022-01-15T09:32:48.552Z"
   },
   {
    "duration": 43,
    "start_time": "2022-01-15T09:32:48.621Z"
   },
   {
    "duration": 14,
    "start_time": "2022-01-15T09:32:48.667Z"
   },
   {
    "duration": 40,
    "start_time": "2022-01-15T09:32:48.684Z"
   },
   {
    "duration": 8,
    "start_time": "2022-01-15T09:32:48.727Z"
   },
   {
    "duration": 9,
    "start_time": "2022-01-15T09:32:48.738Z"
   },
   {
    "duration": 14,
    "start_time": "2022-01-15T09:32:48.750Z"
   },
   {
    "duration": 8,
    "start_time": "2022-01-15T09:32:48.766Z"
   },
   {
    "duration": 4,
    "start_time": "2022-01-15T09:32:48.817Z"
   },
   {
    "duration": 8,
    "start_time": "2022-01-15T09:32:48.823Z"
   },
   {
    "duration": 11,
    "start_time": "2022-01-15T09:32:48.834Z"
   },
   {
    "duration": 7,
    "start_time": "2022-01-15T09:32:48.848Z"
   },
   {
    "duration": 63,
    "start_time": "2022-01-15T09:32:48.858Z"
   },
   {
    "duration": 23,
    "start_time": "2022-01-15T09:32:48.923Z"
   },
   {
    "duration": 27,
    "start_time": "2022-01-15T09:32:48.948Z"
   },
   {
    "duration": 13,
    "start_time": "2022-01-15T09:32:48.977Z"
   },
   {
    "duration": 26,
    "start_time": "2022-01-15T09:32:48.992Z"
   },
   {
    "duration": 13,
    "start_time": "2022-01-15T09:32:49.021Z"
   },
   {
    "duration": 10,
    "start_time": "2022-01-15T09:32:49.036Z"
   },
   {
    "duration": 11,
    "start_time": "2022-01-15T09:32:49.048Z"
   },
   {
    "duration": 64,
    "start_time": "2022-01-15T09:32:49.061Z"
   },
   {
    "duration": 7,
    "start_time": "2022-01-15T09:32:49.128Z"
   },
   {
    "duration": 37,
    "start_time": "2022-01-15T09:32:49.137Z"
   },
   {
    "duration": 7,
    "start_time": "2022-01-15T09:32:49.176Z"
   },
   {
    "duration": 8,
    "start_time": "2022-01-15T09:32:49.217Z"
   },
   {
    "duration": 40,
    "start_time": "2022-01-15T09:32:49.227Z"
   },
   {
    "duration": 54,
    "start_time": "2022-01-15T09:32:49.269Z"
   },
   {
    "duration": 15,
    "start_time": "2022-01-15T09:32:49.325Z"
   },
   {
    "duration": 16,
    "start_time": "2022-01-15T09:32:49.343Z"
   },
   {
    "duration": 10,
    "start_time": "2022-01-15T09:32:49.362Z"
   },
   {
    "duration": 41,
    "start_time": "2022-01-15T09:32:49.380Z"
   },
   {
    "duration": 12,
    "start_time": "2022-01-15T09:32:49.424Z"
   },
   {
    "duration": 10,
    "start_time": "2022-01-15T09:32:49.438Z"
   },
   {
    "duration": 9,
    "start_time": "2022-01-15T09:32:49.450Z"
   },
   {
    "duration": 59,
    "start_time": "2022-01-15T09:32:49.462Z"
   },
   {
    "duration": 18,
    "start_time": "2022-01-15T09:32:49.524Z"
   },
   {
    "duration": 10,
    "start_time": "2022-01-15T09:32:49.544Z"
   },
   {
    "duration": 6,
    "start_time": "2022-01-15T09:32:49.557Z"
   },
   {
    "duration": 53,
    "start_time": "2022-01-15T09:32:49.565Z"
   },
   {
    "duration": 10,
    "start_time": "2022-01-15T09:32:49.621Z"
   },
   {
    "duration": 5,
    "start_time": "2022-01-15T09:32:49.634Z"
   },
   {
    "duration": 11,
    "start_time": "2022-01-15T09:32:49.642Z"
   },
   {
    "duration": 9,
    "start_time": "2022-01-15T09:32:49.655Z"
   },
   {
    "duration": 93,
    "start_time": "2022-01-15T09:32:49.666Z"
   },
   {
    "duration": 10,
    "start_time": "2022-01-15T09:32:49.761Z"
   },
   {
    "duration": 12,
    "start_time": "2022-01-15T09:32:49.773Z"
   },
   {
    "duration": 34,
    "start_time": "2022-01-15T09:32:49.787Z"
   },
   {
    "duration": 5,
    "start_time": "2022-01-15T09:32:49.823Z"
   },
   {
    "duration": 13,
    "start_time": "2022-01-15T09:32:49.830Z"
   },
   {
    "duration": 9,
    "start_time": "2022-01-15T09:32:49.845Z"
   },
   {
    "duration": 80,
    "start_time": "2022-01-15T09:32:49.856Z"
   },
   {
    "duration": 6,
    "start_time": "2022-01-15T09:32:49.938Z"
   },
   {
    "duration": 18,
    "start_time": "2022-01-15T09:32:49.947Z"
   },
   {
    "duration": 7,
    "start_time": "2022-01-15T09:32:49.967Z"
   },
   {
    "duration": 4157,
    "start_time": "2022-01-15T09:32:49.976Z"
   },
   {
    "duration": 40,
    "start_time": "2022-01-15T09:32:54.136Z"
   },
   {
    "duration": 13,
    "start_time": "2022-01-15T09:32:54.179Z"
   },
   {
    "duration": 1537,
    "start_time": "2022-01-15T09:33:51.142Z"
   },
   {
    "duration": 89,
    "start_time": "2022-01-15T09:33:52.682Z"
   },
   {
    "duration": 17,
    "start_time": "2022-01-15T09:33:52.777Z"
   },
   {
    "duration": 64,
    "start_time": "2022-01-15T09:33:52.797Z"
   },
   {
    "duration": 7,
    "start_time": "2022-01-15T09:33:52.864Z"
   },
   {
    "duration": 10,
    "start_time": "2022-01-15T09:33:52.874Z"
   },
   {
    "duration": 81,
    "start_time": "2022-01-15T09:33:52.888Z"
   },
   {
    "duration": 16,
    "start_time": "2022-01-15T09:33:52.972Z"
   },
   {
    "duration": 11,
    "start_time": "2022-01-15T09:33:52.991Z"
   },
   {
    "duration": 17,
    "start_time": "2022-01-15T09:33:53.004Z"
   },
   {
    "duration": 15,
    "start_time": "2022-01-15T09:33:53.023Z"
   },
   {
    "duration": 17,
    "start_time": "2022-01-15T09:33:53.041Z"
   },
   {
    "duration": 59,
    "start_time": "2022-01-15T09:33:53.060Z"
   },
   {
    "duration": 17,
    "start_time": "2022-01-15T09:33:53.122Z"
   },
   {
    "duration": 35,
    "start_time": "2022-01-15T09:33:53.142Z"
   },
   {
    "duration": 70,
    "start_time": "2022-01-15T09:33:53.179Z"
   },
   {
    "duration": 8,
    "start_time": "2022-01-15T09:33:53.252Z"
   },
   {
    "duration": 15,
    "start_time": "2022-01-15T09:33:53.263Z"
   },
   {
    "duration": 51,
    "start_time": "2022-01-15T09:33:53.281Z"
   },
   {
    "duration": 13,
    "start_time": "2022-01-15T09:33:53.335Z"
   },
   {
    "duration": 8,
    "start_time": "2022-01-15T09:33:53.350Z"
   },
   {
    "duration": 8,
    "start_time": "2022-01-15T09:33:53.364Z"
   },
   {
    "duration": 52,
    "start_time": "2022-01-15T09:33:53.376Z"
   },
   {
    "duration": 7,
    "start_time": "2022-01-15T09:33:53.431Z"
   },
   {
    "duration": 12,
    "start_time": "2022-01-15T09:33:53.440Z"
   },
   {
    "duration": 7,
    "start_time": "2022-01-15T09:33:53.454Z"
   },
   {
    "duration": 54,
    "start_time": "2022-01-15T09:33:53.464Z"
   },
   {
    "duration": 40,
    "start_time": "2022-01-15T09:33:53.521Z"
   },
   {
    "duration": 65,
    "start_time": "2022-01-15T09:33:53.564Z"
   },
   {
    "duration": 11,
    "start_time": "2022-01-15T09:33:53.631Z"
   },
   {
    "duration": 9,
    "start_time": "2022-01-15T09:33:53.644Z"
   },
   {
    "duration": 11,
    "start_time": "2022-01-15T09:33:53.656Z"
   },
   {
    "duration": 14,
    "start_time": "2022-01-15T09:33:53.669Z"
   },
   {
    "duration": 38,
    "start_time": "2022-01-15T09:33:53.685Z"
   },
   {
    "duration": 8,
    "start_time": "2022-01-15T09:33:53.726Z"
   },
   {
    "duration": 11,
    "start_time": "2022-01-15T09:33:53.736Z"
   },
   {
    "duration": 76,
    "start_time": "2022-01-15T09:33:53.750Z"
   },
   {
    "duration": 41,
    "start_time": "2022-01-15T09:33:53.829Z"
   },
   {
    "duration": 12,
    "start_time": "2022-01-15T09:33:53.873Z"
   },
   {
    "duration": 34,
    "start_time": "2022-01-15T09:33:53.888Z"
   },
   {
    "duration": 8,
    "start_time": "2022-01-15T09:33:53.924Z"
   },
   {
    "duration": 10,
    "start_time": "2022-01-15T09:33:53.934Z"
   },
   {
    "duration": 13,
    "start_time": "2022-01-15T09:33:53.946Z"
   },
   {
    "duration": 8,
    "start_time": "2022-01-15T09:33:53.961Z"
   },
   {
    "duration": 48,
    "start_time": "2022-01-15T09:33:53.971Z"
   },
   {
    "duration": 12,
    "start_time": "2022-01-15T09:33:54.021Z"
   },
   {
    "duration": 11,
    "start_time": "2022-01-15T09:33:54.035Z"
   },
   {
    "duration": 7,
    "start_time": "2022-01-15T09:33:54.048Z"
   },
   {
    "duration": 22,
    "start_time": "2022-01-15T09:33:54.058Z"
   },
   {
    "duration": 43,
    "start_time": "2022-01-15T09:33:54.082Z"
   },
   {
    "duration": 44,
    "start_time": "2022-01-15T09:33:54.127Z"
   },
   {
    "duration": 14,
    "start_time": "2022-01-15T09:33:54.173Z"
   },
   {
    "duration": 14,
    "start_time": "2022-01-15T09:33:54.189Z"
   },
   {
    "duration": 19,
    "start_time": "2022-01-15T09:33:54.206Z"
   },
   {
    "duration": 10,
    "start_time": "2022-01-15T09:33:54.227Z"
   },
   {
    "duration": 12,
    "start_time": "2022-01-15T09:33:54.239Z"
   },
   {
    "duration": 25,
    "start_time": "2022-01-15T09:33:54.253Z"
   },
   {
    "duration": 26,
    "start_time": "2022-01-15T09:33:54.280Z"
   },
   {
    "duration": 44,
    "start_time": "2022-01-15T09:33:54.308Z"
   },
   {
    "duration": 7,
    "start_time": "2022-01-15T09:33:54.354Z"
   },
   {
    "duration": 19,
    "start_time": "2022-01-15T09:33:54.363Z"
   },
   {
    "duration": 71,
    "start_time": "2022-01-15T09:33:54.385Z"
   },
   {
    "duration": 14,
    "start_time": "2022-01-15T09:33:54.459Z"
   },
   {
    "duration": 12,
    "start_time": "2022-01-15T09:33:54.476Z"
   },
   {
    "duration": 35,
    "start_time": "2022-01-15T09:33:54.490Z"
   },
   {
    "duration": 12,
    "start_time": "2022-01-15T09:33:54.528Z"
   },
   {
    "duration": 7,
    "start_time": "2022-01-15T09:33:54.550Z"
   },
   {
    "duration": 18,
    "start_time": "2022-01-15T09:33:54.560Z"
   },
   {
    "duration": 12,
    "start_time": "2022-01-15T09:33:54.617Z"
   },
   {
    "duration": 9,
    "start_time": "2022-01-15T09:33:54.632Z"
   },
   {
    "duration": 15,
    "start_time": "2022-01-15T09:33:54.643Z"
   },
   {
    "duration": 15,
    "start_time": "2022-01-15T09:33:54.661Z"
   },
   {
    "duration": 11,
    "start_time": "2022-01-15T09:33:54.718Z"
   },
   {
    "duration": 9,
    "start_time": "2022-01-15T09:33:54.732Z"
   },
   {
    "duration": 13,
    "start_time": "2022-01-15T09:33:54.744Z"
   },
   {
    "duration": 58,
    "start_time": "2022-01-15T09:33:54.760Z"
   },
   {
    "duration": 7,
    "start_time": "2022-01-15T09:33:54.821Z"
   },
   {
    "duration": 18,
    "start_time": "2022-01-15T09:33:54.831Z"
   },
   {
    "duration": 11,
    "start_time": "2022-01-15T09:33:54.852Z"
   },
   {
    "duration": 74,
    "start_time": "2022-01-15T09:33:54.866Z"
   },
   {
    "duration": 9,
    "start_time": "2022-01-15T09:33:54.943Z"
   },
   {
    "duration": 14,
    "start_time": "2022-01-15T09:33:54.954Z"
   },
   {
    "duration": 9,
    "start_time": "2022-01-15T09:33:54.970Z"
   },
   {
    "duration": 38,
    "start_time": "2022-01-15T09:33:54.982Z"
   },
   {
    "duration": 13,
    "start_time": "2022-01-15T09:33:55.023Z"
   },
   {
    "duration": 11,
    "start_time": "2022-01-15T09:33:55.039Z"
   },
   {
    "duration": 72,
    "start_time": "2022-01-15T09:33:55.052Z"
   },
   {
    "duration": 10,
    "start_time": "2022-01-15T09:33:55.127Z"
   },
   {
    "duration": 28,
    "start_time": "2022-01-15T09:33:55.140Z"
   },
   {
    "duration": 37,
    "start_time": "2022-01-15T09:33:55.171Z"
   },
   {
    "duration": 4405,
    "start_time": "2022-01-15T09:33:55.216Z"
   },
   {
    "duration": 44,
    "start_time": "2022-01-15T09:33:59.623Z"
   },
   {
    "duration": 8,
    "start_time": "2022-01-15T09:33:59.669Z"
   },
   {
    "duration": 1583,
    "start_time": "2022-01-15T09:34:27.672Z"
   },
   {
    "duration": 88,
    "start_time": "2022-01-15T09:34:29.258Z"
   },
   {
    "duration": 16,
    "start_time": "2022-01-15T09:34:29.349Z"
   },
   {
    "duration": 62,
    "start_time": "2022-01-15T09:34:29.367Z"
   },
   {
    "duration": 9,
    "start_time": "2022-01-15T09:34:29.432Z"
   },
   {
    "duration": 11,
    "start_time": "2022-01-15T09:34:29.444Z"
   },
   {
    "duration": 62,
    "start_time": "2022-01-15T09:34:29.458Z"
   },
   {
    "duration": 13,
    "start_time": "2022-01-15T09:34:29.523Z"
   },
   {
    "duration": 8,
    "start_time": "2022-01-15T09:34:29.539Z"
   },
   {
    "duration": 6,
    "start_time": "2022-01-15T09:34:29.549Z"
   },
   {
    "duration": 12,
    "start_time": "2022-01-15T09:34:29.557Z"
   },
   {
    "duration": 54,
    "start_time": "2022-01-15T09:34:29.571Z"
   },
   {
    "duration": 32,
    "start_time": "2022-01-15T09:34:29.628Z"
   },
   {
    "duration": 19,
    "start_time": "2022-01-15T09:34:29.664Z"
   },
   {
    "duration": 66,
    "start_time": "2022-01-15T09:34:29.686Z"
   },
   {
    "duration": 68,
    "start_time": "2022-01-15T09:34:29.754Z"
   },
   {
    "duration": 8,
    "start_time": "2022-01-15T09:34:29.825Z"
   },
   {
    "duration": 15,
    "start_time": "2022-01-15T09:34:29.835Z"
   },
   {
    "duration": 19,
    "start_time": "2022-01-15T09:34:29.852Z"
   },
   {
    "duration": 58,
    "start_time": "2022-01-15T09:34:29.874Z"
   },
   {
    "duration": 12,
    "start_time": "2022-01-15T09:34:29.936Z"
   },
   {
    "duration": 9,
    "start_time": "2022-01-15T09:34:29.951Z"
   },
   {
    "duration": 57,
    "start_time": "2022-01-15T09:34:29.968Z"
   },
   {
    "duration": 8,
    "start_time": "2022-01-15T09:34:30.030Z"
   },
   {
    "duration": 13,
    "start_time": "2022-01-15T09:34:30.042Z"
   },
   {
    "duration": 6,
    "start_time": "2022-01-15T09:34:30.057Z"
   },
   {
    "duration": 18,
    "start_time": "2022-01-15T09:34:30.065Z"
   },
   {
    "duration": 53,
    "start_time": "2022-01-15T09:34:30.118Z"
   },
   {
    "duration": 73,
    "start_time": "2022-01-15T09:34:30.174Z"
   },
   {
    "duration": 14,
    "start_time": "2022-01-15T09:34:30.249Z"
   },
   {
    "duration": 12,
    "start_time": "2022-01-15T09:34:30.266Z"
   },
   {
    "duration": 36,
    "start_time": "2022-01-15T09:34:30.281Z"
   },
   {
    "duration": 20,
    "start_time": "2022-01-15T09:34:30.320Z"
   },
   {
    "duration": 18,
    "start_time": "2022-01-15T09:34:30.343Z"
   },
   {
    "duration": 40,
    "start_time": "2022-01-15T09:34:30.363Z"
   },
   {
    "duration": 24,
    "start_time": "2022-01-15T09:34:30.405Z"
   },
   {
    "duration": 41,
    "start_time": "2022-01-15T09:34:30.432Z"
   },
   {
    "duration": 56,
    "start_time": "2022-01-15T09:34:30.475Z"
   },
   {
    "duration": 11,
    "start_time": "2022-01-15T09:34:30.534Z"
   },
   {
    "duration": 8,
    "start_time": "2022-01-15T09:34:30.548Z"
   },
   {
    "duration": 12,
    "start_time": "2022-01-15T09:34:30.559Z"
   },
   {
    "duration": 11,
    "start_time": "2022-01-15T09:34:30.574Z"
   },
   {
    "duration": 41,
    "start_time": "2022-01-15T09:34:30.588Z"
   },
   {
    "duration": 9,
    "start_time": "2022-01-15T09:34:30.632Z"
   },
   {
    "duration": 7,
    "start_time": "2022-01-15T09:34:30.643Z"
   },
   {
    "duration": 12,
    "start_time": "2022-01-15T09:34:30.652Z"
   },
   {
    "duration": 12,
    "start_time": "2022-01-15T09:34:30.666Z"
   },
   {
    "duration": 40,
    "start_time": "2022-01-15T09:34:30.680Z"
   },
   {
    "duration": 16,
    "start_time": "2022-01-15T09:34:30.722Z"
   },
   {
    "duration": 19,
    "start_time": "2022-01-15T09:34:30.741Z"
   },
   {
    "duration": 54,
    "start_time": "2022-01-15T09:34:30.763Z"
   },
   {
    "duration": 20,
    "start_time": "2022-01-15T09:34:30.820Z"
   },
   {
    "duration": 7,
    "start_time": "2022-01-15T09:34:30.843Z"
   },
   {
    "duration": 19,
    "start_time": "2022-01-15T09:34:30.852Z"
   },
   {
    "duration": 10,
    "start_time": "2022-01-15T09:34:30.874Z"
   },
   {
    "duration": 46,
    "start_time": "2022-01-15T09:34:30.887Z"
   },
   {
    "duration": 35,
    "start_time": "2022-01-15T09:34:30.935Z"
   },
   {
    "duration": 24,
    "start_time": "2022-01-15T09:34:30.973Z"
   },
   {
    "duration": 69,
    "start_time": "2022-01-15T09:34:30.999Z"
   },
   {
    "duration": 8,
    "start_time": "2022-01-15T09:34:31.070Z"
   },
   {
    "duration": 15,
    "start_time": "2022-01-15T09:34:31.080Z"
   },
   {
    "duration": 62,
    "start_time": "2022-01-15T09:34:31.098Z"
   },
   {
    "duration": 16,
    "start_time": "2022-01-15T09:34:31.163Z"
   },
   {
    "duration": 16,
    "start_time": "2022-01-15T09:34:31.181Z"
   },
   {
    "duration": 26,
    "start_time": "2022-01-15T09:34:31.200Z"
   },
   {
    "duration": 14,
    "start_time": "2022-01-15T09:34:31.229Z"
   },
   {
    "duration": 7,
    "start_time": "2022-01-15T09:34:31.246Z"
   },
   {
    "duration": 15,
    "start_time": "2022-01-15T09:34:31.261Z"
   },
   {
    "duration": 43,
    "start_time": "2022-01-15T09:34:31.279Z"
   },
   {
    "duration": 20,
    "start_time": "2022-01-15T09:34:31.325Z"
   },
   {
    "duration": 24,
    "start_time": "2022-01-15T09:34:31.347Z"
   },
   {
    "duration": 28,
    "start_time": "2022-01-15T09:34:31.373Z"
   },
   {
    "duration": 14,
    "start_time": "2022-01-15T09:34:31.404Z"
   },
   {
    "duration": 22,
    "start_time": "2022-01-15T09:34:31.420Z"
   },
   {
    "duration": 36,
    "start_time": "2022-01-15T09:34:31.444Z"
   },
   {
    "duration": 46,
    "start_time": "2022-01-15T09:34:31.482Z"
   },
   {
    "duration": 13,
    "start_time": "2022-01-15T09:34:31.531Z"
   },
   {
    "duration": 18,
    "start_time": "2022-01-15T09:34:31.546Z"
   },
   {
    "duration": 11,
    "start_time": "2022-01-15T09:34:31.567Z"
   },
   {
    "duration": 62,
    "start_time": "2022-01-15T09:34:31.581Z"
   },
   {
    "duration": 9,
    "start_time": "2022-01-15T09:34:31.645Z"
   },
   {
    "duration": 16,
    "start_time": "2022-01-15T09:34:31.656Z"
   },
   {
    "duration": 13,
    "start_time": "2022-01-15T09:34:31.674Z"
   },
   {
    "duration": 31,
    "start_time": "2022-01-15T09:34:31.689Z"
   },
   {
    "duration": 18,
    "start_time": "2022-01-15T09:34:31.723Z"
   },
   {
    "duration": 9,
    "start_time": "2022-01-15T09:34:31.744Z"
   },
   {
    "duration": 63,
    "start_time": "2022-01-15T09:34:31.756Z"
   },
   {
    "duration": 7,
    "start_time": "2022-01-15T09:34:31.821Z"
   },
   {
    "duration": 34,
    "start_time": "2022-01-15T09:34:31.831Z"
   },
   {
    "duration": 16,
    "start_time": "2022-01-15T09:34:31.867Z"
   },
   {
    "duration": 4491,
    "start_time": "2022-01-15T09:34:31.886Z"
   },
   {
    "duration": 85,
    "start_time": "2022-01-15T09:34:36.381Z"
   },
   {
    "duration": 9,
    "start_time": "2022-01-15T09:34:36.469Z"
   },
   {
    "duration": 1556,
    "start_time": "2022-01-15T09:35:41.287Z"
   },
   {
    "duration": 88,
    "start_time": "2022-01-15T09:35:42.846Z"
   },
   {
    "duration": 15,
    "start_time": "2022-01-15T09:35:42.937Z"
   },
   {
    "duration": 67,
    "start_time": "2022-01-15T09:35:42.955Z"
   },
   {
    "duration": 7,
    "start_time": "2022-01-15T09:35:43.025Z"
   },
   {
    "duration": 11,
    "start_time": "2022-01-15T09:35:43.034Z"
   },
   {
    "duration": 71,
    "start_time": "2022-01-15T09:35:43.047Z"
   },
   {
    "duration": 14,
    "start_time": "2022-01-15T09:35:43.122Z"
   },
   {
    "duration": 10,
    "start_time": "2022-01-15T09:35:43.141Z"
   },
   {
    "duration": 8,
    "start_time": "2022-01-15T09:35:43.155Z"
   },
   {
    "duration": 51,
    "start_time": "2022-01-15T09:35:43.166Z"
   },
   {
    "duration": 17,
    "start_time": "2022-01-15T09:35:43.220Z"
   },
   {
    "duration": 49,
    "start_time": "2022-01-15T09:35:43.240Z"
   },
   {
    "duration": 19,
    "start_time": "2022-01-15T09:35:43.318Z"
   },
   {
    "duration": 36,
    "start_time": "2022-01-15T09:35:43.339Z"
   },
   {
    "duration": 82,
    "start_time": "2022-01-15T09:35:43.377Z"
   },
   {
    "duration": 12,
    "start_time": "2022-01-15T09:35:43.462Z"
   },
   {
    "duration": 42,
    "start_time": "2022-01-15T09:35:43.477Z"
   },
   {
    "duration": 23,
    "start_time": "2022-01-15T09:35:43.522Z"
   },
   {
    "duration": 13,
    "start_time": "2022-01-15T09:35:43.547Z"
   },
   {
    "duration": 11,
    "start_time": "2022-01-15T09:35:43.562Z"
   },
   {
    "duration": 47,
    "start_time": "2022-01-15T09:35:43.575Z"
   },
   {
    "duration": 19,
    "start_time": "2022-01-15T09:35:43.628Z"
   },
   {
    "duration": 10,
    "start_time": "2022-01-15T09:35:43.652Z"
   },
   {
    "duration": 57,
    "start_time": "2022-01-15T09:35:43.665Z"
   },
   {
    "duration": 7,
    "start_time": "2022-01-15T09:35:43.724Z"
   },
   {
    "duration": 15,
    "start_time": "2022-01-15T09:35:43.733Z"
   },
   {
    "duration": 90,
    "start_time": "2022-01-15T09:35:43.751Z"
   },
   {
    "duration": 75,
    "start_time": "2022-01-15T09:35:43.844Z"
   },
   {
    "duration": 16,
    "start_time": "2022-01-15T09:35:43.922Z"
   },
   {
    "duration": 9,
    "start_time": "2022-01-15T09:35:43.941Z"
   },
   {
    "duration": 8,
    "start_time": "2022-01-15T09:35:43.952Z"
   },
   {
    "duration": 57,
    "start_time": "2022-01-15T09:35:43.963Z"
   },
   {
    "duration": 11,
    "start_time": "2022-01-15T09:35:44.023Z"
   },
   {
    "duration": 11,
    "start_time": "2022-01-15T09:35:44.037Z"
   },
   {
    "duration": 12,
    "start_time": "2022-01-15T09:35:44.050Z"
   },
   {
    "duration": 87,
    "start_time": "2022-01-15T09:35:44.064Z"
   },
   {
    "duration": 76,
    "start_time": "2022-01-15T09:35:44.154Z"
   },
   {
    "duration": 17,
    "start_time": "2022-01-15T09:35:44.234Z"
   },
   {
    "duration": 9,
    "start_time": "2022-01-15T09:35:44.254Z"
   },
   {
    "duration": 5,
    "start_time": "2022-01-15T09:35:44.265Z"
   },
   {
    "duration": 8,
    "start_time": "2022-01-15T09:35:44.272Z"
   },
   {
    "duration": 52,
    "start_time": "2022-01-15T09:35:44.282Z"
   },
   {
    "duration": 10,
    "start_time": "2022-01-15T09:35:44.337Z"
   },
   {
    "duration": 6,
    "start_time": "2022-01-15T09:35:44.350Z"
   },
   {
    "duration": 9,
    "start_time": "2022-01-15T09:35:44.359Z"
   },
   {
    "duration": 10,
    "start_time": "2022-01-15T09:35:44.418Z"
   },
   {
    "duration": 17,
    "start_time": "2022-01-15T09:35:44.431Z"
   },
   {
    "duration": 30,
    "start_time": "2022-01-15T09:35:44.451Z"
   },
   {
    "duration": 44,
    "start_time": "2022-01-15T09:35:44.484Z"
   },
   {
    "duration": 35,
    "start_time": "2022-01-15T09:35:44.531Z"
   },
   {
    "duration": 14,
    "start_time": "2022-01-15T09:35:44.568Z"
   },
   {
    "duration": 32,
    "start_time": "2022-01-15T09:35:44.585Z"
   },
   {
    "duration": 11,
    "start_time": "2022-01-15T09:35:44.621Z"
   },
   {
    "duration": 8,
    "start_time": "2022-01-15T09:35:44.635Z"
   },
   {
    "duration": 10,
    "start_time": "2022-01-15T09:35:44.645Z"
   },
   {
    "duration": 59,
    "start_time": "2022-01-15T09:35:44.658Z"
   },
   {
    "duration": 6,
    "start_time": "2022-01-15T09:35:44.719Z"
   },
   {
    "duration": 36,
    "start_time": "2022-01-15T09:35:44.727Z"
   },
   {
    "duration": 7,
    "start_time": "2022-01-15T09:35:44.765Z"
   },
   {
    "duration": 61,
    "start_time": "2022-01-15T09:35:44.774Z"
   },
   {
    "duration": 38,
    "start_time": "2022-01-15T09:35:44.837Z"
   },
   {
    "duration": 14,
    "start_time": "2022-01-15T09:35:44.878Z"
   },
   {
    "duration": 16,
    "start_time": "2022-01-15T09:35:44.917Z"
   },
   {
    "duration": 16,
    "start_time": "2022-01-15T09:35:44.936Z"
   },
   {
    "duration": 9,
    "start_time": "2022-01-15T09:35:44.954Z"
   },
   {
    "duration": 55,
    "start_time": "2022-01-15T09:35:44.965Z"
   },
   {
    "duration": 16,
    "start_time": "2022-01-15T09:35:45.028Z"
   },
   {
    "duration": 11,
    "start_time": "2022-01-15T09:35:45.047Z"
   },
   {
    "duration": 11,
    "start_time": "2022-01-15T09:35:45.061Z"
   },
   {
    "duration": 50,
    "start_time": "2022-01-15T09:35:45.074Z"
   },
   {
    "duration": 11,
    "start_time": "2022-01-15T09:35:45.127Z"
   },
   {
    "duration": 10,
    "start_time": "2022-01-15T09:35:45.143Z"
   },
   {
    "duration": 7,
    "start_time": "2022-01-15T09:35:45.155Z"
   },
   {
    "duration": 12,
    "start_time": "2022-01-15T09:35:45.165Z"
   },
   {
    "duration": 11,
    "start_time": "2022-01-15T09:35:45.218Z"
   },
   {
    "duration": 12,
    "start_time": "2022-01-15T09:35:45.232Z"
   },
   {
    "duration": 14,
    "start_time": "2022-01-15T09:35:45.247Z"
   },
   {
    "duration": 53,
    "start_time": "2022-01-15T09:35:45.264Z"
   },
   {
    "duration": 58,
    "start_time": "2022-01-15T09:35:45.320Z"
   },
   {
    "duration": 37,
    "start_time": "2022-01-15T09:35:45.381Z"
   },
   {
    "duration": 12,
    "start_time": "2022-01-15T09:35:45.421Z"
   },
   {
    "duration": 12,
    "start_time": "2022-01-15T09:35:45.436Z"
   },
   {
    "duration": 7,
    "start_time": "2022-01-15T09:35:45.450Z"
   },
   {
    "duration": 14,
    "start_time": "2022-01-15T09:35:45.460Z"
   },
   {
    "duration": 13,
    "start_time": "2022-01-15T09:35:45.519Z"
   },
   {
    "duration": 37,
    "start_time": "2022-01-15T09:35:45.535Z"
   },
   {
    "duration": 46,
    "start_time": "2022-01-15T09:35:45.575Z"
   },
   {
    "duration": 28,
    "start_time": "2022-01-15T09:35:45.624Z"
   },
   {
    "duration": 16,
    "start_time": "2022-01-15T09:35:45.655Z"
   },
   {
    "duration": 6,
    "start_time": "2022-01-15T09:37:09.067Z"
   },
   {
    "duration": 14,
    "start_time": "2022-01-15T09:37:25.013Z"
   },
   {
    "duration": 11,
    "start_time": "2022-01-15T09:39:35.629Z"
   },
   {
    "duration": 8,
    "start_time": "2022-01-15T09:39:38.523Z"
   },
   {
    "duration": 174,
    "start_time": "2022-01-15T09:43:02.160Z"
   },
   {
    "duration": 11,
    "start_time": "2022-01-15T09:43:04.609Z"
   },
   {
    "duration": 34,
    "start_time": "2022-01-15T10:49:36.590Z"
   },
   {
    "duration": 824,
    "start_time": "2022-01-15T10:55:22.134Z"
   },
   {
    "duration": 89,
    "start_time": "2022-01-15T10:55:25.453Z"
   },
   {
    "duration": 16,
    "start_time": "2022-01-15T10:55:26.961Z"
   },
   {
    "duration": 44,
    "start_time": "2022-01-15T10:55:29.837Z"
   },
   {
    "duration": 6,
    "start_time": "2022-01-15T10:55:37.590Z"
   },
   {
    "duration": 10,
    "start_time": "2022-01-15T10:55:40.547Z"
   },
   {
    "duration": 34,
    "start_time": "2022-01-15T10:55:41.335Z"
   },
   {
    "duration": 15,
    "start_time": "2022-01-15T10:55:52.615Z"
   },
   {
    "duration": 8,
    "start_time": "2022-01-15T10:55:58.606Z"
   },
   {
    "duration": 6,
    "start_time": "2022-01-15T10:56:04.265Z"
   },
   {
    "duration": 6,
    "start_time": "2022-01-15T10:56:09.483Z"
   },
   {
    "duration": 12,
    "start_time": "2022-01-15T10:56:10.691Z"
   },
   {
    "duration": 33,
    "start_time": "2022-01-15T10:56:15.035Z"
   },
   {
    "duration": 41,
    "start_time": "2022-01-15T10:56:20.324Z"
   },
   {
    "duration": 36,
    "start_time": "2022-01-15T10:56:26.479Z"
   },
   {
    "duration": 40,
    "start_time": "2022-01-15T10:56:35.103Z"
   },
   {
    "duration": 9,
    "start_time": "2022-01-15T10:56:38.814Z"
   },
   {
    "duration": 14,
    "start_time": "2022-01-15T10:56:40.139Z"
   },
   {
    "duration": 20,
    "start_time": "2022-01-15T10:56:43.152Z"
   },
   {
    "duration": 14,
    "start_time": "2022-01-15T10:56:52.648Z"
   },
   {
    "duration": 8,
    "start_time": "2022-01-15T10:57:16.870Z"
   },
   {
    "duration": 460,
    "start_time": "2022-01-15T10:57:57.306Z"
   },
   {
    "duration": 52,
    "start_time": "2022-01-15T10:58:07.376Z"
   },
   {
    "duration": 1187,
    "start_time": "2022-01-15T10:59:43.685Z"
   },
   {
    "duration": 316,
    "start_time": "2022-01-15T11:00:34.471Z"
   },
   {
    "duration": 77,
    "start_time": "2022-01-15T11:00:49.346Z"
   },
   {
    "duration": 34,
    "start_time": "2022-01-15T11:01:16.245Z"
   },
   {
    "duration": 10,
    "start_time": "2022-01-15T11:03:22.370Z"
   },
   {
    "duration": 7,
    "start_time": "2022-01-15T11:06:12.026Z"
   },
   {
    "duration": 7,
    "start_time": "2022-01-15T11:06:33.603Z"
   },
   {
    "duration": 324,
    "start_time": "2022-01-15T11:07:11.067Z"
   },
   {
    "duration": 6,
    "start_time": "2022-01-15T11:07:15.984Z"
   },
   {
    "duration": 7,
    "start_time": "2022-01-15T11:07:33.971Z"
   },
   {
    "duration": 5,
    "start_time": "2022-01-15T11:07:50.043Z"
   },
   {
    "duration": 307,
    "start_time": "2022-01-15T11:08:08.488Z"
   },
   {
    "duration": 297,
    "start_time": "2022-01-15T11:08:24.870Z"
   },
   {
    "duration": 284,
    "start_time": "2022-01-15T11:08:36.200Z"
   },
   {
    "duration": 300,
    "start_time": "2022-01-15T11:17:31.114Z"
   },
   {
    "duration": 305,
    "start_time": "2022-01-15T11:17:43.145Z"
   },
   {
    "duration": 9,
    "start_time": "2022-01-15T11:18:21.653Z"
   },
   {
    "duration": 313,
    "start_time": "2022-01-15T11:18:28.329Z"
   },
   {
    "duration": 293,
    "start_time": "2022-01-15T11:18:34.612Z"
   },
   {
    "duration": 334,
    "start_time": "2022-01-15T11:19:03.199Z"
   },
   {
    "duration": 8,
    "start_time": "2022-01-15T11:19:48.639Z"
   },
   {
    "duration": 10,
    "start_time": "2022-01-15T11:19:58.408Z"
   },
   {
    "duration": 364,
    "start_time": "2022-01-15T11:28:22.143Z"
   },
   {
    "duration": 9,
    "start_time": "2022-01-15T11:29:07.552Z"
   },
   {
    "duration": 348,
    "start_time": "2022-01-15T11:29:42.848Z"
   },
   {
    "duration": 10,
    "start_time": "2022-01-15T11:30:40.249Z"
   },
   {
    "duration": 11,
    "start_time": "2022-01-15T11:30:59.505Z"
   },
   {
    "duration": 14,
    "start_time": "2022-01-15T11:31:19.059Z"
   },
   {
    "duration": 301,
    "start_time": "2022-01-15T11:31:32.981Z"
   },
   {
    "duration": 8,
    "start_time": "2022-01-15T11:31:43.042Z"
   },
   {
    "duration": 6,
    "start_time": "2022-01-15T11:31:53.075Z"
   },
   {
    "duration": 9,
    "start_time": "2022-01-15T11:32:08.170Z"
   },
   {
    "duration": 9,
    "start_time": "2022-01-15T11:32:19.574Z"
   },
   {
    "duration": 9,
    "start_time": "2022-01-15T11:32:39.655Z"
   },
   {
    "duration": 734,
    "start_time": "2022-01-15T11:32:51.841Z"
   },
   {
    "duration": 95,
    "start_time": "2022-01-15T11:32:52.577Z"
   },
   {
    "duration": 21,
    "start_time": "2022-01-15T11:32:52.676Z"
   },
   {
    "duration": 76,
    "start_time": "2022-01-15T11:32:52.701Z"
   },
   {
    "duration": 10,
    "start_time": "2022-01-15T11:32:52.780Z"
   },
   {
    "duration": 31,
    "start_time": "2022-01-15T11:32:52.793Z"
   },
   {
    "duration": 59,
    "start_time": "2022-01-15T11:32:52.826Z"
   },
   {
    "duration": 29,
    "start_time": "2022-01-15T11:32:52.889Z"
   },
   {
    "duration": 14,
    "start_time": "2022-01-15T11:32:52.921Z"
   },
   {
    "duration": 8,
    "start_time": "2022-01-15T11:32:52.937Z"
   },
   {
    "duration": 7,
    "start_time": "2022-01-15T11:32:52.947Z"
   },
   {
    "duration": 12,
    "start_time": "2022-01-15T11:32:52.957Z"
   },
   {
    "duration": 65,
    "start_time": "2022-01-15T11:32:52.971Z"
   },
   {
    "duration": 20,
    "start_time": "2022-01-15T11:32:53.038Z"
   },
   {
    "duration": 60,
    "start_time": "2022-01-15T11:32:53.061Z"
   },
   {
    "duration": 43,
    "start_time": "2022-01-15T11:32:53.123Z"
   },
   {
    "duration": 8,
    "start_time": "2022-01-15T11:32:53.168Z"
   },
   {
    "duration": 46,
    "start_time": "2022-01-15T11:32:53.178Z"
   },
   {
    "duration": 20,
    "start_time": "2022-01-15T11:32:53.227Z"
   },
   {
    "duration": 12,
    "start_time": "2022-01-15T11:32:56.454Z"
   },
   {
    "duration": 8,
    "start_time": "2022-01-15T11:33:00.710Z"
   },
   {
    "duration": 11,
    "start_time": "2022-01-15T11:33:04.795Z"
   },
   {
    "duration": 13,
    "start_time": "2022-01-15T11:36:08.006Z"
   },
   {
    "duration": 8,
    "start_time": "2022-01-15T11:36:09.411Z"
   },
   {
    "duration": 7,
    "start_time": "2022-01-15T11:36:13.623Z"
   },
   {
    "duration": 10,
    "start_time": "2022-01-15T11:36:15.663Z"
   },
   {
    "duration": 7,
    "start_time": "2022-01-15T11:36:36.460Z"
   },
   {
    "duration": 11,
    "start_time": "2022-01-15T11:36:37.331Z"
   },
   {
    "duration": 39,
    "start_time": "2022-01-15T11:36:39.249Z"
   },
   {
    "duration": 41,
    "start_time": "2022-01-15T11:36:51.839Z"
   },
   {
    "duration": 15,
    "start_time": "2022-01-15T11:37:04.747Z"
   },
   {
    "duration": 8,
    "start_time": "2022-01-15T11:37:05.646Z"
   },
   {
    "duration": 8,
    "start_time": "2022-01-15T11:37:18.718Z"
   },
   {
    "duration": 10,
    "start_time": "2022-01-15T12:07:05.467Z"
   },
   {
    "duration": 50,
    "start_time": "2022-01-15T12:08:22.797Z"
   },
   {
    "duration": 34,
    "start_time": "2022-01-15T12:08:46.315Z"
   },
   {
    "duration": 110,
    "start_time": "2022-01-15T12:11:40.576Z"
   },
   {
    "duration": 9,
    "start_time": "2022-01-15T12:11:46.419Z"
   },
   {
    "duration": 7,
    "start_time": "2022-01-15T12:11:48.760Z"
   },
   {
    "duration": 7,
    "start_time": "2022-01-15T12:12:16.453Z"
   },
   {
    "duration": 9,
    "start_time": "2022-01-15T12:12:21.169Z"
   },
   {
    "duration": 12,
    "start_time": "2022-01-15T12:12:22.013Z"
   },
   {
    "duration": 12,
    "start_time": "2022-01-15T12:12:35.781Z"
   },
   {
    "duration": 9,
    "start_time": "2022-01-15T12:12:59.648Z"
   },
   {
    "duration": 7,
    "start_time": "2022-01-15T12:13:02.334Z"
   },
   {
    "duration": 9,
    "start_time": "2022-01-15T12:13:03.222Z"
   },
   {
    "duration": 14,
    "start_time": "2022-01-15T12:13:08.949Z"
   },
   {
    "duration": 8,
    "start_time": "2022-01-15T12:13:10.744Z"
   },
   {
    "duration": 5,
    "start_time": "2022-01-15T12:13:14.210Z"
   },
   {
    "duration": 11,
    "start_time": "2022-01-15T12:13:15.099Z"
   },
   {
    "duration": 15,
    "start_time": "2022-01-15T12:13:19.050Z"
   },
   {
    "duration": 10,
    "start_time": "2022-01-15T12:13:22.129Z"
   },
   {
    "duration": 13,
    "start_time": "2022-01-15T12:13:27.052Z"
   },
   {
    "duration": 13,
    "start_time": "2022-01-15T12:13:32.492Z"
   },
   {
    "duration": 49,
    "start_time": "2022-01-15T12:13:43.471Z"
   },
   {
    "duration": 15,
    "start_time": "2022-01-15T12:13:47.514Z"
   },
   {
    "duration": 5,
    "start_time": "2022-01-15T12:13:54.870Z"
   },
   {
    "duration": 11,
    "start_time": "2022-01-15T12:14:02.343Z"
   },
   {
    "duration": 7,
    "start_time": "2022-01-15T12:14:04.392Z"
   },
   {
    "duration": 10,
    "start_time": "2022-01-15T12:14:13.797Z"
   },
   {
    "duration": 12,
    "start_time": "2022-01-15T12:14:18.881Z"
   },
   {
    "duration": 6,
    "start_time": "2022-01-15T12:14:25.753Z"
   },
   {
    "duration": 45,
    "start_time": "2022-01-15T12:14:38.502Z"
   },
   {
    "duration": 8,
    "start_time": "2022-01-15T12:14:54.615Z"
   },
   {
    "duration": 7,
    "start_time": "2022-01-15T12:14:58.137Z"
   },
   {
    "duration": 40,
    "start_time": "2022-01-15T12:14:59.463Z"
   },
   {
    "duration": 21,
    "start_time": "2022-01-15T12:15:09.616Z"
   },
   {
    "duration": 12,
    "start_time": "2022-01-15T12:15:21.739Z"
   },
   {
    "duration": 13,
    "start_time": "2022-01-15T12:15:27.250Z"
   },
   {
    "duration": 10,
    "start_time": "2022-01-15T12:15:28.621Z"
   },
   {
    "duration": 8,
    "start_time": "2022-01-15T12:15:32.236Z"
   },
   {
    "duration": 14,
    "start_time": "2022-01-15T12:15:34.338Z"
   },
   {
    "duration": 10,
    "start_time": "2022-01-15T12:15:38.177Z"
   },
   {
    "duration": 12,
    "start_time": "2022-01-15T12:16:05.433Z"
   },
   {
    "duration": 15,
    "start_time": "2022-01-15T12:16:05.976Z"
   },
   {
    "duration": 16,
    "start_time": "2022-01-15T12:16:07.293Z"
   },
   {
    "duration": 11,
    "start_time": "2022-01-15T12:16:07.696Z"
   },
   {
    "duration": 8,
    "start_time": "2022-01-15T12:16:12.476Z"
   },
   {
    "duration": 12,
    "start_time": "2022-01-15T12:16:14.874Z"
   },
   {
    "duration": 12,
    "start_time": "2022-01-15T12:16:18.084Z"
   },
   {
    "duration": 6,
    "start_time": "2022-01-15T12:16:19.933Z"
   },
   {
    "duration": 17,
    "start_time": "2022-01-15T12:16:21.576Z"
   },
   {
    "duration": 13,
    "start_time": "2022-01-15T12:16:23.704Z"
   },
   {
    "duration": 41,
    "start_time": "2022-01-15T12:16:26.554Z"
   },
   {
    "duration": 11,
    "start_time": "2022-01-15T12:16:29.047Z"
   },
   {
    "duration": 12,
    "start_time": "2022-01-15T12:16:31.271Z"
   },
   {
    "duration": 10,
    "start_time": "2022-01-15T12:16:31.635Z"
   },
   {
    "duration": 6,
    "start_time": "2022-01-15T12:16:32.516Z"
   },
   {
    "duration": 15,
    "start_time": "2022-01-15T12:16:34.590Z"
   },
   {
    "duration": 14,
    "start_time": "2022-01-15T12:16:35.092Z"
   },
   {
    "duration": 54,
    "start_time": "2022-01-15T12:16:36.432Z"
   },
   {
    "duration": 16,
    "start_time": "2022-01-15T12:16:39.861Z"
   },
   {
    "duration": 7,
    "start_time": "2022-01-15T12:16:50.156Z"
   },
   {
    "duration": 20,
    "start_time": "2022-01-15T12:17:48.385Z"
   },
   {
    "duration": 15,
    "start_time": "2022-01-15T12:17:50.939Z"
   },
   {
    "duration": 174,
    "start_time": "2022-01-15T12:18:00.132Z"
   },
   {
    "duration": 8,
    "start_time": "2022-01-15T12:18:00.570Z"
   },
   {
    "duration": 35,
    "start_time": "2022-01-15T12:18:03.898Z"
   },
   {
    "duration": 101,
    "start_time": "2022-01-15T12:19:13.411Z"
   },
   {
    "duration": 32,
    "start_time": "2022-01-15T12:19:20.532Z"
   },
   {
    "duration": 7742,
    "start_time": "2022-01-15T12:32:37.682Z"
   },
   {
    "duration": 6,
    "start_time": "2022-01-15T12:33:32.198Z"
   },
   {
    "duration": 8,
    "start_time": "2022-01-15T12:33:42.282Z"
   },
   {
    "duration": 305,
    "start_time": "2022-01-15T12:37:11.640Z"
   },
   {
    "duration": 8,
    "start_time": "2022-01-15T12:37:17.850Z"
   },
   {
    "duration": 17,
    "start_time": "2022-01-15T12:37:35.869Z"
   },
   {
    "duration": 16,
    "start_time": "2022-01-15T12:37:52.120Z"
   },
   {
    "duration": 63,
    "start_time": "2022-01-15T12:40:01.013Z"
   },
   {
    "duration": 18,
    "start_time": "2022-01-15T12:40:16.670Z"
   },
   {
    "duration": 5,
    "start_time": "2022-01-15T12:41:17.150Z"
   },
   {
    "duration": 20,
    "start_time": "2022-01-15T12:41:23.912Z"
   },
   {
    "duration": 26,
    "start_time": "2022-01-15T12:41:31.188Z"
   },
   {
    "duration": 5,
    "start_time": "2022-01-15T12:41:47.798Z"
   },
   {
    "duration": 16,
    "start_time": "2022-01-15T12:41:55.067Z"
   },
   {
    "duration": 45,
    "start_time": "2022-01-15T12:44:18.966Z"
   },
   {
    "duration": 106,
    "start_time": "2022-01-15T12:44:50.046Z"
   },
   {
    "duration": 7618,
    "start_time": "2022-01-15T12:44:54.157Z"
   },
   {
    "duration": 46,
    "start_time": "2022-01-15T12:45:08.765Z"
   },
   {
    "duration": 9,
    "start_time": "2022-01-15T12:45:35.333Z"
   },
   {
    "duration": 5,
    "start_time": "2022-01-15T13:13:31.308Z"
   },
   {
    "duration": 755,
    "start_time": "2022-01-15T13:13:32.304Z"
   },
   {
    "duration": 7375,
    "start_time": "2022-01-15T13:13:33.904Z"
   },
   {
    "duration": 10,
    "start_time": "2022-01-15T13:13:46.493Z"
   },
   {
    "duration": 4,
    "start_time": "2022-01-15T13:14:26.356Z"
   },
   {
    "duration": 752,
    "start_time": "2022-01-15T13:14:28.053Z"
   },
   {
    "duration": 10,
    "start_time": "2022-01-15T13:14:30.388Z"
   },
   {
    "duration": 762,
    "start_time": "2022-01-15T13:14:49.359Z"
   },
   {
    "duration": 93,
    "start_time": "2022-01-15T13:14:50.124Z"
   },
   {
    "duration": 18,
    "start_time": "2022-01-15T13:14:50.220Z"
   },
   {
    "duration": 48,
    "start_time": "2022-01-15T13:14:50.242Z"
   },
   {
    "duration": 6,
    "start_time": "2022-01-15T13:14:50.318Z"
   },
   {
    "duration": 10,
    "start_time": "2022-01-15T13:14:50.326Z"
   },
   {
    "duration": 44,
    "start_time": "2022-01-15T13:14:50.338Z"
   },
   {
    "duration": 37,
    "start_time": "2022-01-15T13:14:50.386Z"
   },
   {
    "duration": 8,
    "start_time": "2022-01-15T13:14:50.426Z"
   },
   {
    "duration": 11,
    "start_time": "2022-01-15T13:14:50.436Z"
   },
   {
    "duration": 10,
    "start_time": "2022-01-15T13:14:50.449Z"
   },
   {
    "duration": 13,
    "start_time": "2022-01-15T13:14:50.461Z"
   },
   {
    "duration": 67,
    "start_time": "2022-01-15T13:14:50.476Z"
   },
   {
    "duration": 25,
    "start_time": "2022-01-15T13:14:50.546Z"
   },
   {
    "duration": 55,
    "start_time": "2022-01-15T13:14:50.573Z"
   },
   {
    "duration": 39,
    "start_time": "2022-01-15T13:14:50.630Z"
   },
   {
    "duration": 8,
    "start_time": "2022-01-15T13:14:50.671Z"
   },
   {
    "duration": 42,
    "start_time": "2022-01-15T13:14:50.681Z"
   },
   {
    "duration": 22,
    "start_time": "2022-01-15T13:14:50.725Z"
   },
   {
    "duration": 11,
    "start_time": "2022-01-15T13:14:50.749Z"
   },
   {
    "duration": 9,
    "start_time": "2022-01-15T13:14:50.762Z"
   },
   {
    "duration": 48,
    "start_time": "2022-01-15T13:14:50.774Z"
   },
   {
    "duration": 13,
    "start_time": "2022-01-15T13:14:50.830Z"
   },
   {
    "duration": 7,
    "start_time": "2022-01-15T13:14:50.848Z"
   },
   {
    "duration": 10,
    "start_time": "2022-01-15T13:14:50.857Z"
   },
   {
    "duration": 12,
    "start_time": "2022-01-15T13:14:50.869Z"
   },
   {
    "duration": 10,
    "start_time": "2022-01-15T13:14:50.918Z"
   },
   {
    "duration": 6,
    "start_time": "2022-01-15T13:14:50.931Z"
   },
   {
    "duration": 13,
    "start_time": "2022-01-15T13:14:50.940Z"
   },
   {
    "duration": 10,
    "start_time": "2022-01-15T13:14:50.955Z"
   },
   {
    "duration": 50,
    "start_time": "2022-01-15T13:14:50.967Z"
   },
   {
    "duration": 11,
    "start_time": "2022-01-15T13:14:51.020Z"
   },
   {
    "duration": 44,
    "start_time": "2022-01-15T13:14:51.033Z"
   },
   {
    "duration": 10,
    "start_time": "2022-01-15T13:14:51.079Z"
   },
   {
    "duration": 27,
    "start_time": "2022-01-15T13:14:51.091Z"
   },
   {
    "duration": 13,
    "start_time": "2022-01-15T13:14:51.120Z"
   },
   {
    "duration": 8,
    "start_time": "2022-01-15T13:14:51.135Z"
   },
   {
    "duration": 17,
    "start_time": "2022-01-15T13:14:51.145Z"
   },
   {
    "duration": 11,
    "start_time": "2022-01-15T13:14:51.164Z"
   },
   {
    "duration": 45,
    "start_time": "2022-01-15T13:14:51.177Z"
   },
   {
    "duration": 10,
    "start_time": "2022-01-15T13:14:51.225Z"
   },
   {
    "duration": 9,
    "start_time": "2022-01-15T13:14:51.238Z"
   },
   {
    "duration": 12,
    "start_time": "2022-01-15T13:14:51.249Z"
   },
   {
    "duration": 8,
    "start_time": "2022-01-15T13:14:51.263Z"
   },
   {
    "duration": 44,
    "start_time": "2022-01-15T13:14:51.273Z"
   },
   {
    "duration": 10,
    "start_time": "2022-01-15T13:14:51.320Z"
   },
   {
    "duration": 19,
    "start_time": "2022-01-15T13:14:51.332Z"
   },
   {
    "duration": 12,
    "start_time": "2022-01-15T13:14:51.354Z"
   },
   {
    "duration": 18,
    "start_time": "2022-01-15T13:14:51.369Z"
   },
   {
    "duration": 36,
    "start_time": "2022-01-15T13:14:51.390Z"
   },
   {
    "duration": 25,
    "start_time": "2022-01-15T13:14:51.429Z"
   },
   {
    "duration": 16,
    "start_time": "2022-01-15T13:14:51.456Z"
   },
   {
    "duration": 5,
    "start_time": "2022-01-15T13:14:51.474Z"
   },
   {
    "duration": 40,
    "start_time": "2022-01-15T13:14:51.481Z"
   },
   {
    "duration": 12,
    "start_time": "2022-01-15T13:14:51.523Z"
   },
   {
    "duration": 9,
    "start_time": "2022-01-15T13:14:51.537Z"
   },
   {
    "duration": 14,
    "start_time": "2022-01-15T13:14:51.548Z"
   },
   {
    "duration": 6,
    "start_time": "2022-01-15T13:14:51.565Z"
   },
   {
    "duration": 78,
    "start_time": "2022-01-15T13:14:51.574Z"
   },
   {
    "duration": 7,
    "start_time": "2022-01-15T13:14:51.654Z"
   },
   {
    "duration": 12,
    "start_time": "2022-01-15T13:14:51.663Z"
   },
   {
    "duration": 66,
    "start_time": "2022-01-15T13:14:51.677Z"
   },
   {
    "duration": 13,
    "start_time": "2022-01-15T13:14:51.746Z"
   },
   {
    "duration": 10,
    "start_time": "2022-01-15T13:14:51.761Z"
   },
   {
    "duration": 14,
    "start_time": "2022-01-15T13:14:51.774Z"
   },
   {
    "duration": 10,
    "start_time": "2022-01-15T13:14:51.819Z"
   },
   {
    "duration": 10,
    "start_time": "2022-01-15T13:14:51.832Z"
   },
   {
    "duration": 13,
    "start_time": "2022-01-15T13:14:51.852Z"
   },
   {
    "duration": 54,
    "start_time": "2022-01-15T13:14:51.869Z"
   },
   {
    "duration": 13,
    "start_time": "2022-01-15T13:14:51.926Z"
   },
   {
    "duration": 14,
    "start_time": "2022-01-15T13:14:51.941Z"
   },
   {
    "duration": 13,
    "start_time": "2022-01-15T13:14:51.958Z"
   },
   {
    "duration": 8,
    "start_time": "2022-01-15T13:14:51.974Z"
   },
   {
    "duration": 11,
    "start_time": "2022-01-15T13:14:52.019Z"
   },
   {
    "duration": 17,
    "start_time": "2022-01-15T13:14:52.033Z"
   },
   {
    "duration": 17,
    "start_time": "2022-01-15T13:14:52.053Z"
   },
   {
    "duration": 46,
    "start_time": "2022-01-15T13:14:52.074Z"
   },
   {
    "duration": 14,
    "start_time": "2022-01-15T13:14:52.123Z"
   },
   {
    "duration": 11,
    "start_time": "2022-01-15T13:14:52.139Z"
   },
   {
    "duration": 74,
    "start_time": "2022-01-15T13:14:52.153Z"
   },
   {
    "duration": 10,
    "start_time": "2022-01-15T13:14:52.229Z"
   },
   {
    "duration": 12,
    "start_time": "2022-01-15T13:14:52.241Z"
   },
   {
    "duration": 9,
    "start_time": "2022-01-15T13:14:52.255Z"
   },
   {
    "duration": 6,
    "start_time": "2022-01-15T13:14:52.266Z"
   },
   {
    "duration": 51,
    "start_time": "2022-01-15T13:14:52.274Z"
   },
   {
    "duration": 9,
    "start_time": "2022-01-15T13:14:52.327Z"
   },
   {
    "duration": 36,
    "start_time": "2022-01-15T13:14:52.338Z"
   },
   {
    "duration": 4,
    "start_time": "2022-01-15T13:14:52.376Z"
   },
   {
    "duration": 51,
    "start_time": "2022-01-15T13:14:52.382Z"
   },
   {
    "duration": 7,
    "start_time": "2022-01-15T13:14:52.436Z"
   },
   {
    "duration": 20,
    "start_time": "2022-01-15T13:14:52.445Z"
   },
   {
    "duration": 14,
    "start_time": "2022-01-15T13:14:52.467Z"
   },
   {
    "duration": 249,
    "start_time": "2022-01-15T13:14:52.483Z"
   },
   {
    "duration": 8,
    "start_time": "2022-01-15T13:14:52.734Z"
   },
   {
    "duration": 32,
    "start_time": "2022-01-15T13:14:52.744Z"
   },
   {
    "duration": 5,
    "start_time": "2022-01-15T13:14:52.779Z"
   },
   {
    "duration": 49,
    "start_time": "2022-01-15T13:14:52.787Z"
   },
   {
    "duration": 12,
    "start_time": "2022-01-15T13:14:52.838Z"
   },
   {
    "duration": 8,
    "start_time": "2022-01-15T13:14:52.853Z"
   },
   {
    "duration": 803,
    "start_time": "2022-01-15T13:14:52.863Z"
   },
   {
    "duration": 10,
    "start_time": "2022-01-15T13:14:53.668Z"
   },
   {
    "duration": 8,
    "start_time": "2022-01-15T13:19:25.419Z"
   },
   {
    "duration": 32,
    "start_time": "2022-01-15T13:19:48.666Z"
   },
   {
    "duration": 12,
    "start_time": "2022-01-15T13:20:49.290Z"
   },
   {
    "duration": 8,
    "start_time": "2022-01-15T13:20:55.997Z"
   },
   {
    "duration": 9,
    "start_time": "2022-01-15T13:21:09.899Z"
   },
   {
    "duration": 10,
    "start_time": "2022-01-15T13:21:43.028Z"
   },
   {
    "duration": 10,
    "start_time": "2022-01-15T13:23:54.681Z"
   },
   {
    "duration": 30,
    "start_time": "2022-01-15T13:23:55.886Z"
   },
   {
    "duration": 807,
    "start_time": "2022-01-15T13:29:43.019Z"
   },
   {
    "duration": 89,
    "start_time": "2022-01-15T13:29:43.829Z"
   },
   {
    "duration": 16,
    "start_time": "2022-01-15T13:29:43.924Z"
   },
   {
    "duration": 50,
    "start_time": "2022-01-15T13:29:43.942Z"
   },
   {
    "duration": 27,
    "start_time": "2022-01-15T13:29:43.994Z"
   },
   {
    "duration": 10,
    "start_time": "2022-01-15T13:29:44.023Z"
   },
   {
    "duration": 45,
    "start_time": "2022-01-15T13:29:44.037Z"
   },
   {
    "duration": 33,
    "start_time": "2022-01-15T13:29:44.086Z"
   },
   {
    "duration": 13,
    "start_time": "2022-01-15T13:29:44.122Z"
   },
   {
    "duration": 8,
    "start_time": "2022-01-15T13:29:44.138Z"
   },
   {
    "duration": 18,
    "start_time": "2022-01-15T13:29:44.149Z"
   },
   {
    "duration": 14,
    "start_time": "2022-01-15T13:29:44.170Z"
   },
   {
    "duration": 35,
    "start_time": "2022-01-15T13:29:44.218Z"
   },
   {
    "duration": 20,
    "start_time": "2022-01-15T13:29:44.256Z"
   },
   {
    "duration": 70,
    "start_time": "2022-01-15T13:29:44.279Z"
   },
   {
    "duration": 65,
    "start_time": "2022-01-15T13:29:44.352Z"
   },
   {
    "duration": 9,
    "start_time": "2022-01-15T13:29:44.419Z"
   },
   {
    "duration": 21,
    "start_time": "2022-01-15T13:29:44.430Z"
   },
   {
    "duration": 27,
    "start_time": "2022-01-15T13:29:44.454Z"
   },
   {
    "duration": 35,
    "start_time": "2022-01-15T13:29:44.484Z"
   },
   {
    "duration": 9,
    "start_time": "2022-01-15T13:29:44.522Z"
   },
   {
    "duration": 23,
    "start_time": "2022-01-15T13:29:44.539Z"
   },
   {
    "duration": 21,
    "start_time": "2022-01-15T13:29:44.568Z"
   },
   {
    "duration": 27,
    "start_time": "2022-01-15T13:29:44.592Z"
   },
   {
    "duration": 15,
    "start_time": "2022-01-15T13:29:44.622Z"
   },
   {
    "duration": 13,
    "start_time": "2022-01-15T13:29:44.640Z"
   },
   {
    "duration": 13,
    "start_time": "2022-01-15T13:29:44.657Z"
   },
   {
    "duration": 17,
    "start_time": "2022-01-15T13:29:44.673Z"
   },
   {
    "duration": 15,
    "start_time": "2022-01-15T13:29:44.718Z"
   },
   {
    "duration": 20,
    "start_time": "2022-01-15T13:29:44.736Z"
   },
   {
    "duration": 18,
    "start_time": "2022-01-15T13:29:44.758Z"
   },
   {
    "duration": 18,
    "start_time": "2022-01-15T13:29:44.778Z"
   },
   {
    "duration": 50,
    "start_time": "2022-01-15T13:29:44.799Z"
   },
   {
    "duration": 9,
    "start_time": "2022-01-15T13:29:44.851Z"
   },
   {
    "duration": 27,
    "start_time": "2022-01-15T13:29:44.862Z"
   },
   {
    "duration": 14,
    "start_time": "2022-01-15T13:29:44.891Z"
   },
   {
    "duration": 16,
    "start_time": "2022-01-15T13:29:44.907Z"
   },
   {
    "duration": 12,
    "start_time": "2022-01-15T13:29:44.925Z"
   },
   {
    "duration": 14,
    "start_time": "2022-01-15T13:29:44.940Z"
   },
   {
    "duration": 9,
    "start_time": "2022-01-15T13:29:44.956Z"
   },
   {
    "duration": 50,
    "start_time": "2022-01-15T13:29:44.968Z"
   },
   {
    "duration": 19,
    "start_time": "2022-01-15T13:29:45.021Z"
   },
   {
    "duration": 13,
    "start_time": "2022-01-15T13:29:45.042Z"
   },
   {
    "duration": 15,
    "start_time": "2022-01-15T13:29:45.058Z"
   },
   {
    "duration": 13,
    "start_time": "2022-01-15T13:29:45.075Z"
   },
   {
    "duration": 17,
    "start_time": "2022-01-15T13:29:45.090Z"
   },
   {
    "duration": 11,
    "start_time": "2022-01-15T13:29:45.117Z"
   },
   {
    "duration": 7,
    "start_time": "2022-01-15T13:29:45.130Z"
   },
   {
    "duration": 16,
    "start_time": "2022-01-15T13:29:45.139Z"
   },
   {
    "duration": 20,
    "start_time": "2022-01-15T13:29:45.157Z"
   },
   {
    "duration": 96,
    "start_time": "2022-01-15T13:29:45.180Z"
   },
   {
    "duration": 15,
    "start_time": "2022-01-15T13:29:45.283Z"
   },
   {
    "duration": 4,
    "start_time": "2022-01-15T13:29:45.301Z"
   },
   {
    "duration": 12,
    "start_time": "2022-01-15T13:29:45.308Z"
   },
   {
    "duration": 8,
    "start_time": "2022-01-15T13:29:45.322Z"
   },
   {
    "duration": 8,
    "start_time": "2022-01-15T13:29:45.333Z"
   },
   {
    "duration": 15,
    "start_time": "2022-01-15T13:29:45.343Z"
   },
   {
    "duration": 7,
    "start_time": "2022-01-15T13:29:45.360Z"
   },
   {
    "duration": 83,
    "start_time": "2022-01-15T13:29:45.369Z"
   },
   {
    "duration": 8,
    "start_time": "2022-01-15T13:29:45.454Z"
   },
   {
    "duration": 8,
    "start_time": "2022-01-15T13:29:45.464Z"
   },
   {
    "duration": 73,
    "start_time": "2022-01-15T13:29:45.474Z"
   },
   {
    "duration": 13,
    "start_time": "2022-01-15T13:29:45.549Z"
   },
   {
    "duration": 11,
    "start_time": "2022-01-15T13:29:45.564Z"
   },
   {
    "duration": 41,
    "start_time": "2022-01-15T13:29:45.577Z"
   },
   {
    "duration": 9,
    "start_time": "2022-01-15T13:29:45.620Z"
   },
   {
    "duration": 6,
    "start_time": "2022-01-15T13:29:45.638Z"
   },
   {
    "duration": 11,
    "start_time": "2022-01-15T13:29:45.647Z"
   },
   {
    "duration": 11,
    "start_time": "2022-01-15T13:29:45.661Z"
   },
   {
    "duration": 11,
    "start_time": "2022-01-15T13:29:45.716Z"
   },
   {
    "duration": 14,
    "start_time": "2022-01-15T13:29:45.729Z"
   },
   {
    "duration": 13,
    "start_time": "2022-01-15T13:29:45.746Z"
   },
   {
    "duration": 56,
    "start_time": "2022-01-15T13:29:45.762Z"
   },
   {
    "duration": 9,
    "start_time": "2022-01-15T13:29:45.821Z"
   },
   {
    "duration": 13,
    "start_time": "2022-01-15T13:29:45.833Z"
   },
   {
    "duration": 8,
    "start_time": "2022-01-15T13:29:45.849Z"
   },
   {
    "duration": 5,
    "start_time": "2022-01-15T13:29:45.859Z"
   },
   {
    "duration": 59,
    "start_time": "2022-01-15T13:29:45.867Z"
   },
   {
    "duration": 9,
    "start_time": "2022-01-15T13:29:45.928Z"
   },
   {
    "duration": 37,
    "start_time": "2022-01-15T13:29:45.940Z"
   },
   {
    "duration": 41,
    "start_time": "2022-01-15T13:29:45.979Z"
   },
   {
    "duration": 12,
    "start_time": "2022-01-15T13:29:46.022Z"
   },
   {
    "duration": 9,
    "start_time": "2022-01-15T13:29:46.037Z"
   },
   {
    "duration": 6,
    "start_time": "2022-01-15T13:29:46.049Z"
   },
   {
    "duration": 12,
    "start_time": "2022-01-15T13:29:46.057Z"
   },
   {
    "duration": 52,
    "start_time": "2022-01-15T13:29:46.071Z"
   },
   {
    "duration": 35,
    "start_time": "2022-01-15T13:29:46.125Z"
   },
   {
    "duration": 5,
    "start_time": "2022-01-15T13:29:46.162Z"
   },
   {
    "duration": 11,
    "start_time": "2022-01-15T13:29:46.169Z"
   },
   {
    "duration": 40,
    "start_time": "2022-01-15T13:29:46.182Z"
   },
   {
    "duration": 18,
    "start_time": "2022-01-15T13:29:46.224Z"
   },
   {
    "duration": 20,
    "start_time": "2022-01-15T13:29:46.244Z"
   },
   {
    "duration": 205,
    "start_time": "2022-01-15T13:29:46.266Z"
   },
   {
    "duration": 7,
    "start_time": "2022-01-15T13:29:46.474Z"
   },
   {
    "duration": 52,
    "start_time": "2022-01-15T13:29:46.483Z"
   },
   {
    "duration": 5,
    "start_time": "2022-01-15T13:29:46.537Z"
   },
   {
    "duration": 19,
    "start_time": "2022-01-15T13:29:46.545Z"
   },
   {
    "duration": 13,
    "start_time": "2022-01-15T13:29:46.566Z"
   },
   {
    "duration": 5,
    "start_time": "2022-01-15T13:29:46.581Z"
   },
   {
    "duration": 777,
    "start_time": "2022-01-15T13:29:46.616Z"
   },
   {
    "duration": 21,
    "start_time": "2022-01-15T13:29:47.395Z"
   },
   {
    "duration": 7,
    "start_time": "2022-01-15T13:29:47.418Z"
   },
   {
    "duration": 11,
    "start_time": "2022-01-15T13:29:47.427Z"
   },
   {
    "duration": 9,
    "start_time": "2022-01-15T13:29:47.440Z"
   },
   {
    "duration": 9,
    "start_time": "2022-01-15T13:29:47.451Z"
   },
   {
    "duration": 71,
    "start_time": "2022-01-15T13:29:47.462Z"
   },
   {
    "duration": 763,
    "start_time": "2022-01-15T13:30:55.171Z"
   },
   {
    "duration": 90,
    "start_time": "2022-01-15T13:30:55.936Z"
   },
   {
    "duration": 16,
    "start_time": "2022-01-15T13:30:56.029Z"
   },
   {
    "duration": 45,
    "start_time": "2022-01-15T13:30:56.047Z"
   },
   {
    "duration": 28,
    "start_time": "2022-01-15T13:30:56.094Z"
   },
   {
    "duration": 12,
    "start_time": "2022-01-15T13:30:56.125Z"
   },
   {
    "duration": 43,
    "start_time": "2022-01-15T13:30:56.139Z"
   },
   {
    "duration": 35,
    "start_time": "2022-01-15T13:30:56.186Z"
   },
   {
    "duration": 13,
    "start_time": "2022-01-15T13:30:56.224Z"
   },
   {
    "duration": 9,
    "start_time": "2022-01-15T13:30:56.240Z"
   },
   {
    "duration": 18,
    "start_time": "2022-01-15T13:30:56.251Z"
   },
   {
    "duration": 16,
    "start_time": "2022-01-15T13:30:56.271Z"
   },
   {
    "duration": 52,
    "start_time": "2022-01-15T13:30:56.290Z"
   },
   {
    "duration": 21,
    "start_time": "2022-01-15T13:30:56.344Z"
   },
   {
    "duration": 55,
    "start_time": "2022-01-15T13:30:56.367Z"
   },
   {
    "duration": 42,
    "start_time": "2022-01-15T13:30:56.425Z"
   },
   {
    "duration": 8,
    "start_time": "2022-01-15T13:30:56.469Z"
   },
   {
    "duration": 44,
    "start_time": "2022-01-15T13:30:56.479Z"
   },
   {
    "duration": 19,
    "start_time": "2022-01-15T13:30:56.525Z"
   },
   {
    "duration": 12,
    "start_time": "2022-01-15T13:30:56.546Z"
   },
   {
    "duration": 7,
    "start_time": "2022-01-15T13:30:56.560Z"
   },
   {
    "duration": 48,
    "start_time": "2022-01-15T13:30:56.570Z"
   },
   {
    "duration": 12,
    "start_time": "2022-01-15T13:30:56.624Z"
   },
   {
    "duration": 7,
    "start_time": "2022-01-15T13:30:56.639Z"
   },
   {
    "duration": 15,
    "start_time": "2022-01-15T13:30:56.648Z"
   },
   {
    "duration": 13,
    "start_time": "2022-01-15T13:30:56.666Z"
   },
   {
    "duration": 44,
    "start_time": "2022-01-15T13:30:56.681Z"
   },
   {
    "duration": 9,
    "start_time": "2022-01-15T13:30:56.727Z"
   },
   {
    "duration": 21,
    "start_time": "2022-01-15T13:30:56.738Z"
   },
   {
    "duration": 8,
    "start_time": "2022-01-15T13:30:56.762Z"
   },
   {
    "duration": 13,
    "start_time": "2022-01-15T13:30:56.772Z"
   },
   {
    "duration": 40,
    "start_time": "2022-01-15T13:30:56.787Z"
   },
   {
    "duration": 35,
    "start_time": "2022-01-15T13:30:56.829Z"
   },
   {
    "duration": 10,
    "start_time": "2022-01-15T13:30:56.866Z"
   },
   {
    "duration": 7,
    "start_time": "2022-01-15T13:30:56.879Z"
   },
   {
    "duration": 7,
    "start_time": "2022-01-15T13:30:56.916Z"
   },
   {
    "duration": 15,
    "start_time": "2022-01-15T13:30:56.925Z"
   },
   {
    "duration": 19,
    "start_time": "2022-01-15T13:30:56.942Z"
   },
   {
    "duration": 12,
    "start_time": "2022-01-15T13:30:56.963Z"
   },
   {
    "duration": 12,
    "start_time": "2022-01-15T13:30:56.977Z"
   },
   {
    "duration": 7,
    "start_time": "2022-01-15T13:30:57.018Z"
   },
   {
    "duration": 19,
    "start_time": "2022-01-15T13:30:57.028Z"
   },
   {
    "duration": 18,
    "start_time": "2022-01-15T13:30:57.050Z"
   },
   {
    "duration": 7,
    "start_time": "2022-01-15T13:30:57.070Z"
   },
   {
    "duration": 9,
    "start_time": "2022-01-15T13:30:57.079Z"
   },
   {
    "duration": 40,
    "start_time": "2022-01-15T13:30:57.090Z"
   },
   {
    "duration": 17,
    "start_time": "2022-01-15T13:30:57.133Z"
   },
   {
    "duration": 6,
    "start_time": "2022-01-15T13:30:57.153Z"
   },
   {
    "duration": 14,
    "start_time": "2022-01-15T13:30:57.161Z"
   },
   {
    "duration": 12,
    "start_time": "2022-01-15T13:30:57.178Z"
   },
   {
    "duration": 27,
    "start_time": "2022-01-15T13:30:57.218Z"
   },
   {
    "duration": 22,
    "start_time": "2022-01-15T13:30:57.248Z"
   },
   {
    "duration": 15,
    "start_time": "2022-01-15T13:30:57.273Z"
   },
   {
    "duration": 30,
    "start_time": "2022-01-15T13:30:57.291Z"
   },
   {
    "duration": 9,
    "start_time": "2022-01-15T13:30:57.324Z"
   },
   {
    "duration": 10,
    "start_time": "2022-01-15T13:30:57.336Z"
   },
   {
    "duration": 26,
    "start_time": "2022-01-15T13:30:57.348Z"
   },
   {
    "duration": 28,
    "start_time": "2022-01-15T13:30:57.376Z"
   },
   {
    "duration": 49,
    "start_time": "2022-01-15T13:30:57.406Z"
   },
   {
    "duration": 7,
    "start_time": "2022-01-15T13:30:57.458Z"
   },
   {
    "duration": 10,
    "start_time": "2022-01-15T13:30:57.467Z"
   },
   {
    "duration": 63,
    "start_time": "2022-01-15T13:30:57.479Z"
   },
   {
    "duration": 13,
    "start_time": "2022-01-15T13:30:57.545Z"
   },
   {
    "duration": 19,
    "start_time": "2022-01-15T13:30:57.560Z"
   },
   {
    "duration": 15,
    "start_time": "2022-01-15T13:30:57.582Z"
   },
   {
    "duration": 9,
    "start_time": "2022-01-15T13:30:57.617Z"
   },
   {
    "duration": 16,
    "start_time": "2022-01-15T13:30:57.628Z"
   },
   {
    "duration": 14,
    "start_time": "2022-01-15T13:30:57.653Z"
   },
   {
    "duration": 11,
    "start_time": "2022-01-15T13:30:57.670Z"
   },
   {
    "duration": 35,
    "start_time": "2022-01-15T13:30:57.683Z"
   },
   {
    "duration": 11,
    "start_time": "2022-01-15T13:30:57.721Z"
   },
   {
    "duration": 11,
    "start_time": "2022-01-15T13:30:57.734Z"
   },
   {
    "duration": 7,
    "start_time": "2022-01-15T13:30:57.747Z"
   },
   {
    "duration": 8,
    "start_time": "2022-01-15T13:30:57.756Z"
   },
   {
    "duration": 56,
    "start_time": "2022-01-15T13:30:57.766Z"
   },
   {
    "duration": 8,
    "start_time": "2022-01-15T13:30:57.824Z"
   },
   {
    "duration": 14,
    "start_time": "2022-01-15T13:30:57.835Z"
   },
   {
    "duration": 17,
    "start_time": "2022-01-15T13:30:57.851Z"
   },
   {
    "duration": 11,
    "start_time": "2022-01-15T13:30:57.870Z"
   },
   {
    "duration": 64,
    "start_time": "2022-01-15T13:30:57.883Z"
   },
   {
    "duration": 11,
    "start_time": "2022-01-15T13:30:57.950Z"
   },
   {
    "duration": 28,
    "start_time": "2022-01-15T13:30:57.963Z"
   },
   {
    "duration": 29,
    "start_time": "2022-01-15T13:30:57.994Z"
   },
   {
    "duration": 6,
    "start_time": "2022-01-15T13:30:58.025Z"
   },
   {
    "duration": 13,
    "start_time": "2022-01-15T13:30:58.033Z"
   },
   {
    "duration": 10,
    "start_time": "2022-01-15T13:30:58.048Z"
   },
   {
    "duration": 68,
    "start_time": "2022-01-15T13:30:58.060Z"
   },
   {
    "duration": 6,
    "start_time": "2022-01-15T13:30:58.131Z"
   },
   {
    "duration": 26,
    "start_time": "2022-01-15T13:30:58.139Z"
   },
   {
    "duration": 20,
    "start_time": "2022-01-15T13:30:58.167Z"
   },
   {
    "duration": 28,
    "start_time": "2022-01-15T13:30:58.189Z"
   },
   {
    "duration": 29,
    "start_time": "2022-01-15T13:30:58.219Z"
   },
   {
    "duration": 178,
    "start_time": "2022-01-15T13:30:58.250Z"
   },
   {
    "duration": 7,
    "start_time": "2022-01-15T13:30:58.430Z"
   },
   {
    "duration": 38,
    "start_time": "2022-01-15T13:30:58.440Z"
   },
   {
    "duration": 6,
    "start_time": "2022-01-15T13:30:58.480Z"
   },
   {
    "duration": 47,
    "start_time": "2022-01-15T13:30:58.488Z"
   },
   {
    "duration": 14,
    "start_time": "2022-01-15T13:30:58.537Z"
   },
   {
    "duration": 4,
    "start_time": "2022-01-15T13:30:58.553Z"
   },
   {
    "duration": 790,
    "start_time": "2022-01-15T13:30:58.560Z"
   },
   {
    "duration": 10,
    "start_time": "2022-01-15T13:30:59.352Z"
   },
   {
    "duration": 11,
    "start_time": "2022-01-15T13:30:59.364Z"
   },
   {
    "duration": 14,
    "start_time": "2022-01-15T13:30:59.377Z"
   },
   {
    "duration": 29,
    "start_time": "2022-01-15T13:30:59.393Z"
   },
   {
    "duration": 12,
    "start_time": "2022-01-15T13:30:59.425Z"
   },
   {
    "duration": 43,
    "start_time": "2022-01-15T13:30:59.439Z"
   },
   {
    "duration": 382,
    "start_time": "2022-01-15T13:55:46.742Z"
   },
   {
    "duration": 125,
    "start_time": "2022-01-15T13:56:03.626Z"
   },
   {
    "duration": 20,
    "start_time": "2022-01-15T13:56:12.758Z"
   },
   {
    "duration": 120,
    "start_time": "2022-01-15T13:57:08.729Z"
   },
   {
    "duration": 22,
    "start_time": "2022-01-15T13:57:14.215Z"
   },
   {
    "duration": 22,
    "start_time": "2022-01-15T13:57:49.227Z"
   },
   {
    "duration": 24,
    "start_time": "2022-01-15T13:57:54.607Z"
   },
   {
    "duration": 29,
    "start_time": "2022-01-15T13:58:28.652Z"
   },
   {
    "duration": 29,
    "start_time": "2022-01-15T14:00:00.140Z"
   },
   {
    "duration": 501,
    "start_time": "2022-01-15T14:00:43.093Z"
   },
   {
    "duration": 377,
    "start_time": "2022-01-15T14:02:04.565Z"
   },
   {
    "duration": 466,
    "start_time": "2022-01-15T14:02:11.502Z"
   },
   {
    "duration": 623,
    "start_time": "2022-01-15T14:02:26.173Z"
   },
   {
    "duration": 113,
    "start_time": "2022-01-15T14:02:36.014Z"
   },
   {
    "duration": 454,
    "start_time": "2022-01-15T14:02:40.481Z"
   },
   {
    "duration": 547,
    "start_time": "2022-01-15T14:02:47.673Z"
   },
   {
    "duration": 371,
    "start_time": "2022-01-15T14:02:54.930Z"
   },
   {
    "duration": 415,
    "start_time": "2022-01-15T14:02:59.231Z"
   },
   {
    "duration": 418,
    "start_time": "2022-01-15T14:03:37.783Z"
   },
   {
    "duration": 354,
    "start_time": "2022-01-15T14:03:45.973Z"
   },
   {
    "duration": 2777,
    "start_time": "2022-01-15T14:04:08.471Z"
   },
   {
    "duration": 12,
    "start_time": "2022-01-15T14:04:38.550Z"
   },
   {
    "duration": 460,
    "start_time": "2022-01-15T14:04:49.047Z"
   },
   {
    "duration": 862,
    "start_time": "2022-01-15T14:04:55.368Z"
   },
   {
    "duration": 363,
    "start_time": "2022-01-15T14:04:59.871Z"
   },
   {
    "duration": 1177,
    "start_time": "2022-01-15T14:05:06.408Z"
   },
   {
    "duration": 1000,
    "start_time": "2022-01-15T14:07:53.346Z"
   },
   {
    "duration": 400,
    "start_time": "2022-01-15T14:08:02.917Z"
   },
   {
    "duration": 362,
    "start_time": "2022-01-15T14:08:48.385Z"
   },
   {
    "duration": 418,
    "start_time": "2022-01-15T14:08:54.509Z"
   },
   {
    "duration": 424,
    "start_time": "2022-01-15T14:09:05.296Z"
   },
   {
    "duration": 461,
    "start_time": "2022-01-15T14:09:12.013Z"
   },
   {
    "duration": 488,
    "start_time": "2022-01-15T14:09:20.120Z"
   },
   {
    "duration": 6878,
    "start_time": "2022-01-15T14:09:35.913Z"
   },
   {
    "duration": 2923,
    "start_time": "2022-01-15T14:09:48.773Z"
   },
   {
    "duration": 419,
    "start_time": "2022-01-15T14:10:03.766Z"
   },
   {
    "duration": 13,
    "start_time": "2022-01-15T14:10:23.472Z"
   },
   {
    "duration": 14,
    "start_time": "2022-01-15T14:11:56.288Z"
   },
   {
    "duration": 1462,
    "start_time": "2022-01-15T14:12:07.114Z"
   },
   {
    "duration": 12,
    "start_time": "2022-01-15T14:12:37.310Z"
   },
   {
    "duration": 2959,
    "start_time": "2022-01-15T14:13:08.006Z"
   },
   {
    "duration": 1448,
    "start_time": "2022-01-15T14:13:16.561Z"
   },
   {
    "duration": 14,
    "start_time": "2022-01-15T14:13:22.609Z"
   },
   {
    "duration": 664,
    "start_time": "2022-01-15T14:13:31.618Z"
   },
   {
    "duration": 12,
    "start_time": "2022-01-15T14:13:45.297Z"
   },
   {
    "duration": 2741,
    "start_time": "2022-01-15T14:15:28.040Z"
   },
   {
    "duration": 675,
    "start_time": "2022-01-15T14:15:54.960Z"
   },
   {
    "duration": 668,
    "start_time": "2022-01-15T14:16:02.100Z"
   },
   {
    "duration": 92,
    "start_time": "2022-01-15T14:16:17.752Z"
   },
   {
    "duration": 687,
    "start_time": "2022-01-15T14:16:22.091Z"
   },
   {
    "duration": 2723,
    "start_time": "2022-01-15T14:16:47.337Z"
   },
   {
    "duration": 406,
    "start_time": "2022-01-15T14:17:03.015Z"
   },
   {
    "duration": 2488,
    "start_time": "2022-01-15T14:17:19.830Z"
   },
   {
    "duration": 11,
    "start_time": "2022-01-15T14:18:00.870Z"
   },
   {
    "duration": 366,
    "start_time": "2022-01-15T14:18:14.782Z"
   },
   {
    "duration": 764,
    "start_time": "2022-01-15T14:18:20.155Z"
   },
   {
    "duration": 3969,
    "start_time": "2022-01-15T14:18:24.858Z"
   },
   {
    "duration": 839,
    "start_time": "2022-01-15T14:18:38.042Z"
   },
   {
    "duration": 407,
    "start_time": "2022-01-15T15:02:00.224Z"
   },
   {
    "duration": 377,
    "start_time": "2022-01-15T15:02:10.591Z"
   },
   {
    "duration": 376,
    "start_time": "2022-01-15T15:02:26.279Z"
   },
   {
    "duration": 393,
    "start_time": "2022-01-15T15:02:59.955Z"
   },
   {
    "duration": 374,
    "start_time": "2022-01-15T15:03:07.144Z"
   },
   {
    "duration": 434,
    "start_time": "2022-01-15T15:03:52.198Z"
   },
   {
    "duration": 368,
    "start_time": "2022-01-15T15:04:13.163Z"
   },
   {
    "duration": 434,
    "start_time": "2022-01-15T15:04:21.525Z"
   },
   {
    "duration": 494,
    "start_time": "2022-01-15T15:04:45.681Z"
   },
   {
    "duration": 474,
    "start_time": "2022-01-15T15:04:52.477Z"
   },
   {
    "duration": 384,
    "start_time": "2022-01-15T15:04:58.241Z"
   },
   {
    "duration": 381,
    "start_time": "2022-01-15T15:05:07.045Z"
   },
   {
    "duration": 368,
    "start_time": "2022-01-15T15:05:12.794Z"
   },
   {
    "duration": 453,
    "start_time": "2022-01-15T15:05:19.409Z"
   },
   {
    "duration": 385,
    "start_time": "2022-01-15T15:05:23.413Z"
   },
   {
    "duration": 2713,
    "start_time": "2022-01-15T15:14:33.912Z"
   },
   {
    "duration": 1863,
    "start_time": "2022-01-15T15:14:41.915Z"
   },
   {
    "duration": 654,
    "start_time": "2022-01-15T15:14:51.206Z"
   },
   {
    "duration": 2391,
    "start_time": "2022-01-15T15:15:04.063Z"
   },
   {
    "duration": 394,
    "start_time": "2022-01-15T15:22:24.087Z"
   },
   {
    "duration": 557,
    "start_time": "2022-01-15T15:22:29.785Z"
   },
   {
    "duration": 2304,
    "start_time": "2022-01-15T15:22:34.920Z"
   },
   {
    "duration": 2976,
    "start_time": "2022-01-15T15:22:45.418Z"
   },
   {
    "duration": 526,
    "start_time": "2022-01-15T15:22:52.588Z"
   },
   {
    "duration": -336,
    "start_time": "2022-01-15T15:25:22.514Z"
   },
   {
    "duration": 12,
    "start_time": "2022-01-15T15:25:24.438Z"
   },
   {
    "duration": 4842,
    "start_time": "2022-01-15T15:26:05.988Z"
   },
   {
    "duration": 862,
    "start_time": "2022-01-15T15:27:24.298Z"
   },
   {
    "duration": 90,
    "start_time": "2022-01-15T15:27:25.163Z"
   },
   {
    "duration": 16,
    "start_time": "2022-01-15T15:27:25.257Z"
   },
   {
    "duration": 60,
    "start_time": "2022-01-15T15:27:25.277Z"
   },
   {
    "duration": 6,
    "start_time": "2022-01-15T15:27:25.339Z"
   },
   {
    "duration": 12,
    "start_time": "2022-01-15T15:27:25.348Z"
   },
   {
    "duration": 61,
    "start_time": "2022-01-15T15:27:25.363Z"
   },
   {
    "duration": 17,
    "start_time": "2022-01-15T15:27:25.428Z"
   },
   {
    "duration": 9,
    "start_time": "2022-01-15T15:27:25.448Z"
   },
   {
    "duration": 15,
    "start_time": "2022-01-15T15:27:25.459Z"
   },
   {
    "duration": 44,
    "start_time": "2022-01-15T15:27:25.477Z"
   },
   {
    "duration": 13,
    "start_time": "2022-01-15T15:27:25.524Z"
   },
   {
    "duration": 35,
    "start_time": "2022-01-15T15:27:25.539Z"
   },
   {
    "duration": 58,
    "start_time": "2022-01-15T15:27:25.577Z"
   },
   {
    "duration": 35,
    "start_time": "2022-01-15T15:27:25.637Z"
   },
   {
    "duration": 65,
    "start_time": "2022-01-15T15:27:25.675Z"
   },
   {
    "duration": 9,
    "start_time": "2022-01-15T15:27:25.743Z"
   },
   {
    "duration": 21,
    "start_time": "2022-01-15T15:27:25.755Z"
   },
   {
    "duration": 50,
    "start_time": "2022-01-15T15:27:25.778Z"
   },
   {
    "duration": 12,
    "start_time": "2022-01-15T15:27:25.830Z"
   },
   {
    "duration": 8,
    "start_time": "2022-01-15T15:27:25.844Z"
   },
   {
    "duration": 10,
    "start_time": "2022-01-15T15:27:25.854Z"
   },
   {
    "duration": 4,
    "start_time": "2022-01-15T15:27:25.870Z"
   },
   {
    "duration": 41,
    "start_time": "2022-01-15T15:27:25.878Z"
   },
   {
    "duration": 10,
    "start_time": "2022-01-15T15:27:25.921Z"
   },
   {
    "duration": 11,
    "start_time": "2022-01-15T15:27:25.933Z"
   },
   {
    "duration": 11,
    "start_time": "2022-01-15T15:27:25.946Z"
   },
   {
    "duration": 7,
    "start_time": "2022-01-15T15:27:25.959Z"
   },
   {
    "duration": 57,
    "start_time": "2022-01-15T15:27:25.968Z"
   },
   {
    "duration": 7,
    "start_time": "2022-01-15T15:27:26.027Z"
   },
   {
    "duration": 9,
    "start_time": "2022-01-15T15:27:26.036Z"
   },
   {
    "duration": 15,
    "start_time": "2022-01-15T15:27:26.047Z"
   },
   {
    "duration": 72,
    "start_time": "2022-01-15T15:27:26.064Z"
   },
   {
    "duration": 9,
    "start_time": "2022-01-15T15:27:26.138Z"
   },
   {
    "duration": 10,
    "start_time": "2022-01-15T15:27:26.149Z"
   },
   {
    "duration": 12,
    "start_time": "2022-01-15T15:27:26.161Z"
   },
   {
    "duration": 43,
    "start_time": "2022-01-15T15:27:26.176Z"
   },
   {
    "duration": 12,
    "start_time": "2022-01-15T15:27:26.221Z"
   },
   {
    "duration": 12,
    "start_time": "2022-01-15T15:27:26.235Z"
   },
   {
    "duration": 8,
    "start_time": "2022-01-15T15:27:26.249Z"
   },
   {
    "duration": 5,
    "start_time": "2022-01-15T15:27:26.259Z"
   },
   {
    "duration": 53,
    "start_time": "2022-01-15T15:27:26.266Z"
   },
   {
    "duration": 13,
    "start_time": "2022-01-15T15:27:26.321Z"
   },
   {
    "duration": 8,
    "start_time": "2022-01-15T15:27:26.336Z"
   },
   {
    "duration": 5,
    "start_time": "2022-01-15T15:27:26.347Z"
   },
   {
    "duration": 11,
    "start_time": "2022-01-15T15:27:26.354Z"
   },
   {
    "duration": 52,
    "start_time": "2022-01-15T15:27:26.368Z"
   },
   {
    "duration": 10,
    "start_time": "2022-01-15T15:27:26.423Z"
   },
   {
    "duration": 14,
    "start_time": "2022-01-15T15:27:26.436Z"
   },
   {
    "duration": 15,
    "start_time": "2022-01-15T15:27:26.453Z"
   },
   {
    "duration": 72,
    "start_time": "2022-01-15T15:27:26.470Z"
   },
   {
    "duration": 22,
    "start_time": "2022-01-15T15:27:26.545Z"
   },
   {
    "duration": 8,
    "start_time": "2022-01-15T15:27:26.569Z"
   },
   {
    "duration": 12,
    "start_time": "2022-01-15T15:27:26.579Z"
   },
   {
    "duration": 10,
    "start_time": "2022-01-15T15:27:26.617Z"
   },
   {
    "duration": 9,
    "start_time": "2022-01-15T15:27:26.629Z"
   },
   {
    "duration": 16,
    "start_time": "2022-01-15T15:27:26.640Z"
   },
   {
    "duration": 5,
    "start_time": "2022-01-15T15:27:26.658Z"
   },
   {
    "duration": 76,
    "start_time": "2022-01-15T15:27:26.666Z"
   },
   {
    "duration": 6,
    "start_time": "2022-01-15T15:27:26.745Z"
   },
   {
    "duration": 16,
    "start_time": "2022-01-15T15:27:26.753Z"
   },
   {
    "duration": 58,
    "start_time": "2022-01-15T15:27:26.772Z"
   },
   {
    "duration": 14,
    "start_time": "2022-01-15T15:27:26.832Z"
   },
   {
    "duration": 10,
    "start_time": "2022-01-15T15:27:26.849Z"
   },
   {
    "duration": 25,
    "start_time": "2022-01-15T15:27:26.862Z"
   },
   {
    "duration": 28,
    "start_time": "2022-01-15T15:27:26.889Z"
   },
   {
    "duration": 9,
    "start_time": "2022-01-15T15:27:26.919Z"
   },
   {
    "duration": 13,
    "start_time": "2022-01-15T15:27:26.937Z"
   },
   {
    "duration": 9,
    "start_time": "2022-01-15T15:27:26.954Z"
   },
   {
    "duration": 54,
    "start_time": "2022-01-15T15:27:26.966Z"
   },
   {
    "duration": 12,
    "start_time": "2022-01-15T15:27:27.023Z"
   },
   {
    "duration": 12,
    "start_time": "2022-01-15T15:27:27.038Z"
   },
   {
    "duration": 8,
    "start_time": "2022-01-15T15:27:27.052Z"
   },
   {
    "duration": 8,
    "start_time": "2022-01-15T15:27:27.062Z"
   },
   {
    "duration": 52,
    "start_time": "2022-01-15T15:27:27.073Z"
   },
   {
    "duration": 10,
    "start_time": "2022-01-15T15:27:27.128Z"
   },
   {
    "duration": 5,
    "start_time": "2022-01-15T15:27:27.140Z"
   },
   {
    "duration": 15,
    "start_time": "2022-01-15T15:27:27.147Z"
   },
   {
    "duration": 15,
    "start_time": "2022-01-15T15:27:27.164Z"
   },
   {
    "duration": 36,
    "start_time": "2022-01-15T15:27:27.218Z"
   },
   {
    "duration": 9,
    "start_time": "2022-01-15T15:27:27.256Z"
   },
   {
    "duration": 18,
    "start_time": "2022-01-15T15:27:27.267Z"
   },
   {
    "duration": 34,
    "start_time": "2022-01-15T15:27:27.287Z"
   },
   {
    "duration": 5,
    "start_time": "2022-01-15T15:27:27.323Z"
   },
   {
    "duration": 13,
    "start_time": "2022-01-15T15:27:27.330Z"
   },
   {
    "duration": 10,
    "start_time": "2022-01-15T15:27:27.345Z"
   },
   {
    "duration": 75,
    "start_time": "2022-01-15T15:27:27.357Z"
   },
   {
    "duration": 5,
    "start_time": "2022-01-15T15:27:27.434Z"
   },
   {
    "duration": 17,
    "start_time": "2022-01-15T15:27:27.441Z"
   },
   {
    "duration": 7,
    "start_time": "2022-01-15T15:27:27.460Z"
   },
   {
    "duration": 51,
    "start_time": "2022-01-15T15:27:27.469Z"
   },
   {
    "duration": 17,
    "start_time": "2022-01-15T15:27:27.522Z"
   },
   {
    "duration": 192,
    "start_time": "2022-01-15T15:27:27.542Z"
   },
   {
    "duration": 9,
    "start_time": "2022-01-15T15:27:27.737Z"
   },
   {
    "duration": 49,
    "start_time": "2022-01-15T15:27:27.749Z"
   },
   {
    "duration": 8,
    "start_time": "2022-01-15T15:27:27.818Z"
   },
   {
    "duration": 23,
    "start_time": "2022-01-15T15:27:27.829Z"
   },
   {
    "duration": 17,
    "start_time": "2022-01-15T15:27:27.855Z"
   },
   {
    "duration": 43,
    "start_time": "2022-01-15T15:27:27.875Z"
   },
   {
    "duration": 1058,
    "start_time": "2022-01-15T15:27:27.921Z"
   },
   {
    "duration": 11,
    "start_time": "2022-01-15T15:27:28.982Z"
   },
   {
    "duration": 25,
    "start_time": "2022-01-15T15:27:28.995Z"
   },
   {
    "duration": 21,
    "start_time": "2022-01-15T15:27:29.023Z"
   },
   {
    "duration": 9,
    "start_time": "2022-01-15T15:27:29.047Z"
   },
   {
    "duration": 14,
    "start_time": "2022-01-15T15:27:29.058Z"
   },
   {
    "duration": 68,
    "start_time": "2022-01-15T15:27:29.074Z"
   },
   {
    "duration": 42,
    "start_time": "2022-01-15T15:27:29.146Z"
   },
   {
    "duration": 29,
    "start_time": "2022-01-15T15:27:29.192Z"
   },
   {
    "duration": 583,
    "start_time": "2022-01-15T15:27:29.223Z"
   },
   {
    "duration": 12,
    "start_time": "2022-01-15T15:27:29.816Z"
   },
   {
    "duration": 2890,
    "start_time": "2022-01-15T15:27:29.830Z"
   },
   {
    "duration": 11,
    "start_time": "2022-01-15T15:27:32.722Z"
   },
   {
    "duration": 1636,
    "start_time": "2022-01-15T15:27:32.736Z"
   },
   {
    "duration": 11,
    "start_time": "2022-01-15T15:27:34.375Z"
   },
   {
    "duration": 664,
    "start_time": "2022-01-15T15:27:34.388Z"
   },
   {
    "duration": 12,
    "start_time": "2022-01-15T15:27:35.055Z"
   },
   {
    "duration": 2516,
    "start_time": "2022-01-15T15:27:35.070Z"
   },
   {
    "duration": 28,
    "start_time": "2022-01-15T15:27:37.589Z"
   },
   {
    "duration": 520,
    "start_time": "2022-01-15T15:27:37.619Z"
   },
   {
    "duration": 12,
    "start_time": "2022-01-15T15:27:38.141Z"
   },
   {
    "duration": 5131,
    "start_time": "2022-01-15T15:27:38.155Z"
   },
   {
    "duration": 284,
    "start_time": "2022-01-15T15:29:25.077Z"
   },
   {
    "duration": 476,
    "start_time": "2022-01-15T15:29:43.228Z"
   },
   {
    "duration": 338,
    "start_time": "2022-01-15T15:29:52.484Z"
   },
   {
    "duration": 315,
    "start_time": "2022-01-15T15:30:06.986Z"
   },
   {
    "duration": 334,
    "start_time": "2022-01-15T15:30:21.614Z"
   },
   {
    "duration": 7748,
    "start_time": "2022-01-15T15:31:47.145Z"
   },
   {
    "duration": 1499,
    "start_time": "2022-01-15T15:33:32.469Z"
   },
   {
    "duration": 314,
    "start_time": "2022-01-15T15:33:49.351Z"
   },
   {
    "duration": 1541,
    "start_time": "2022-01-15T15:34:57.994Z"
   },
   {
    "duration": 285,
    "start_time": "2022-01-15T15:35:33.260Z"
   },
   {
    "duration": 228,
    "start_time": "2022-01-15T15:35:46.289Z"
   },
   {
    "duration": 729,
    "start_time": "2022-01-15T15:37:58.300Z"
   },
   {
    "duration": 237,
    "start_time": "2022-01-15T15:38:14.456Z"
   },
   {
    "duration": 312,
    "start_time": "2022-01-15T15:38:27.952Z"
   },
   {
    "duration": 223,
    "start_time": "2022-01-15T17:19:10.978Z"
   },
   {
    "duration": 213,
    "start_time": "2022-01-15T17:19:20.047Z"
   },
   {
    "duration": 195,
    "start_time": "2022-01-15T17:19:25.539Z"
   },
   {
    "duration": 213,
    "start_time": "2022-01-15T17:19:30.173Z"
   },
   {
    "duration": 5,
    "start_time": "2022-01-15T17:19:49.789Z"
   },
   {
    "duration": 124,
    "start_time": "2022-01-15T17:21:11.907Z"
   },
   {
    "duration": 292,
    "start_time": "2022-01-15T17:21:36.896Z"
   },
   {
    "duration": 333,
    "start_time": "2022-01-15T17:21:54.207Z"
   },
   {
    "duration": 8,
    "start_time": "2022-01-15T17:22:08.903Z"
   },
   {
    "duration": 7,
    "start_time": "2022-01-15T17:23:52.960Z"
   },
   {
    "duration": 7,
    "start_time": "2022-01-15T17:24:05.524Z"
   },
   {
    "duration": 911,
    "start_time": "2022-01-15T17:25:52.130Z"
   },
   {
    "duration": 88,
    "start_time": "2022-01-15T17:25:53.044Z"
   },
   {
    "duration": 16,
    "start_time": "2022-01-15T17:25:53.135Z"
   },
   {
    "duration": 42,
    "start_time": "2022-01-15T17:25:53.154Z"
   },
   {
    "duration": 22,
    "start_time": "2022-01-15T17:25:53.198Z"
   },
   {
    "duration": 10,
    "start_time": "2022-01-15T17:25:53.223Z"
   },
   {
    "duration": 36,
    "start_time": "2022-01-15T17:25:53.235Z"
   },
   {
    "duration": 44,
    "start_time": "2022-01-15T17:25:53.274Z"
   },
   {
    "duration": 9,
    "start_time": "2022-01-15T17:25:53.321Z"
   },
   {
    "duration": 8,
    "start_time": "2022-01-15T17:25:53.332Z"
   },
   {
    "duration": 9,
    "start_time": "2022-01-15T17:25:53.342Z"
   },
   {
    "duration": 12,
    "start_time": "2022-01-15T17:25:53.354Z"
   },
   {
    "duration": 72,
    "start_time": "2022-01-15T17:25:53.369Z"
   },
   {
    "duration": 16,
    "start_time": "2022-01-15T17:25:53.443Z"
   },
   {
    "duration": 58,
    "start_time": "2022-01-15T17:25:53.461Z"
   },
   {
    "duration": 39,
    "start_time": "2022-01-15T17:25:53.522Z"
   },
   {
    "duration": 7,
    "start_time": "2022-01-15T17:25:53.563Z"
   },
   {
    "duration": 21,
    "start_time": "2022-01-15T17:25:53.572Z"
   },
   {
    "duration": 19,
    "start_time": "2022-01-15T17:25:53.618Z"
   },
   {
    "duration": 11,
    "start_time": "2022-01-15T17:25:53.640Z"
   },
   {
    "duration": 7,
    "start_time": "2022-01-15T17:25:53.653Z"
   },
   {
    "duration": 3,
    "start_time": "2022-01-15T17:25:53.663Z"
   },
   {
    "duration": 3,
    "start_time": "2022-01-15T17:25:53.716Z"
   },
   {
    "duration": 6,
    "start_time": "2022-01-15T17:25:53.723Z"
   },
   {
    "duration": 10,
    "start_time": "2022-01-15T17:25:53.731Z"
   },
   {
    "duration": 11,
    "start_time": "2022-01-15T17:25:53.744Z"
   },
   {
    "duration": 11,
    "start_time": "2022-01-15T17:25:53.757Z"
   },
   {
    "duration": 47,
    "start_time": "2022-01-15T17:25:53.770Z"
   },
   {
    "duration": 11,
    "start_time": "2022-01-15T17:25:53.820Z"
   },
   {
    "duration": 7,
    "start_time": "2022-01-15T17:25:53.833Z"
   },
   {
    "duration": 10,
    "start_time": "2022-01-15T17:25:53.843Z"
   },
   {
    "duration": 21,
    "start_time": "2022-01-15T17:25:53.855Z"
   },
   {
    "duration": 69,
    "start_time": "2022-01-15T17:25:53.878Z"
   },
   {
    "duration": 8,
    "start_time": "2022-01-15T17:25:53.950Z"
   },
   {
    "duration": 8,
    "start_time": "2022-01-15T17:25:53.960Z"
   },
   {
    "duration": 9,
    "start_time": "2022-01-15T17:25:53.970Z"
   },
   {
    "duration": 8,
    "start_time": "2022-01-15T17:25:54.018Z"
   },
   {
    "duration": 11,
    "start_time": "2022-01-15T17:25:54.029Z"
   },
   {
    "duration": 11,
    "start_time": "2022-01-15T17:25:54.043Z"
   },
   {
    "duration": 8,
    "start_time": "2022-01-15T17:25:54.056Z"
   },
   {
    "duration": 53,
    "start_time": "2022-01-15T17:25:54.067Z"
   },
   {
    "duration": 9,
    "start_time": "2022-01-15T17:25:54.122Z"
   },
   {
    "duration": 15,
    "start_time": "2022-01-15T17:25:54.133Z"
   },
   {
    "duration": 8,
    "start_time": "2022-01-15T17:25:54.150Z"
   },
   {
    "duration": 9,
    "start_time": "2022-01-15T17:25:54.160Z"
   },
   {
    "duration": 8,
    "start_time": "2022-01-15T17:25:54.171Z"
   },
   {
    "duration": 10,
    "start_time": "2022-01-15T17:25:54.218Z"
   },
   {
    "duration": 8,
    "start_time": "2022-01-15T17:25:54.230Z"
   },
   {
    "duration": 15,
    "start_time": "2022-01-15T17:25:54.241Z"
   },
   {
    "duration": 61,
    "start_time": "2022-01-15T17:25:54.258Z"
   },
   {
    "duration": 27,
    "start_time": "2022-01-15T17:25:54.321Z"
   },
   {
    "duration": 15,
    "start_time": "2022-01-15T17:25:54.351Z"
   },
   {
    "duration": 5,
    "start_time": "2022-01-15T17:25:54.368Z"
   },
   {
    "duration": 43,
    "start_time": "2022-01-15T17:25:54.375Z"
   },
   {
    "duration": 8,
    "start_time": "2022-01-15T17:25:54.420Z"
   },
   {
    "duration": 11,
    "start_time": "2022-01-15T17:25:54.431Z"
   },
   {
    "duration": 12,
    "start_time": "2022-01-15T17:25:54.445Z"
   },
   {
    "duration": 6,
    "start_time": "2022-01-15T17:25:54.459Z"
   },
   {
    "duration": 83,
    "start_time": "2022-01-15T17:25:54.467Z"
   },
   {
    "duration": 7,
    "start_time": "2022-01-15T17:25:54.553Z"
   },
   {
    "duration": 9,
    "start_time": "2022-01-15T17:25:54.563Z"
   },
   {
    "duration": 79,
    "start_time": "2022-01-15T17:25:54.574Z"
   },
   {
    "duration": 16,
    "start_time": "2022-01-15T17:25:54.656Z"
   },
   {
    "duration": 12,
    "start_time": "2022-01-15T17:25:54.675Z"
   },
   {
    "duration": 37,
    "start_time": "2022-01-15T17:25:54.689Z"
   },
   {
    "duration": 8,
    "start_time": "2022-01-15T17:25:54.729Z"
   },
   {
    "duration": 8,
    "start_time": "2022-01-15T17:25:54.740Z"
   },
   {
    "duration": 12,
    "start_time": "2022-01-15T17:25:54.758Z"
   },
   {
    "duration": 52,
    "start_time": "2022-01-15T17:25:54.774Z"
   },
   {
    "duration": 11,
    "start_time": "2022-01-15T17:25:54.829Z"
   },
   {
    "duration": 11,
    "start_time": "2022-01-15T17:25:54.843Z"
   },
   {
    "duration": 10,
    "start_time": "2022-01-15T17:25:54.856Z"
   },
   {
    "duration": 51,
    "start_time": "2022-01-15T17:25:54.869Z"
   },
   {
    "duration": 11,
    "start_time": "2022-01-15T17:25:54.922Z"
   },
   {
    "duration": 15,
    "start_time": "2022-01-15T17:25:54.935Z"
   },
   {
    "duration": 9,
    "start_time": "2022-01-15T17:25:54.952Z"
   },
   {
    "duration": 5,
    "start_time": "2022-01-15T17:25:54.964Z"
   },
   {
    "duration": 54,
    "start_time": "2022-01-15T17:25:54.970Z"
   },
   {
    "duration": 10,
    "start_time": "2022-01-15T17:25:55.026Z"
   },
   {
    "duration": 46,
    "start_time": "2022-01-15T17:25:55.038Z"
   },
   {
    "duration": 36,
    "start_time": "2022-01-15T17:25:55.086Z"
   },
   {
    "duration": 15,
    "start_time": "2022-01-15T17:25:55.125Z"
   },
   {
    "duration": 8,
    "start_time": "2022-01-15T17:25:55.143Z"
   },
   {
    "duration": 6,
    "start_time": "2022-01-15T17:25:55.154Z"
   },
   {
    "duration": 57,
    "start_time": "2022-01-15T17:25:55.162Z"
   },
   {
    "duration": 10,
    "start_time": "2022-01-15T17:25:55.221Z"
   },
   {
    "duration": 43,
    "start_time": "2022-01-15T17:25:55.234Z"
   },
   {
    "duration": 35,
    "start_time": "2022-01-15T17:25:55.282Z"
   },
   {
    "duration": 10,
    "start_time": "2022-01-15T17:25:55.320Z"
   },
   {
    "duration": 6,
    "start_time": "2022-01-15T17:25:55.333Z"
   },
   {
    "duration": 21,
    "start_time": "2022-01-15T17:25:55.342Z"
   },
   {
    "duration": 53,
    "start_time": "2022-01-15T17:25:55.365Z"
   },
   {
    "duration": 193,
    "start_time": "2022-01-15T17:25:55.421Z"
   },
   {
    "duration": 8,
    "start_time": "2022-01-15T17:25:55.617Z"
   },
   {
    "duration": 39,
    "start_time": "2022-01-15T17:25:55.628Z"
   },
   {
    "duration": 8,
    "start_time": "2022-01-15T17:25:55.671Z"
   },
   {
    "duration": 46,
    "start_time": "2022-01-15T17:25:55.682Z"
   },
   {
    "duration": 13,
    "start_time": "2022-01-15T17:25:55.731Z"
   },
   {
    "duration": 4,
    "start_time": "2022-01-15T17:25:55.748Z"
   },
   {
    "duration": 909,
    "start_time": "2022-01-15T17:25:55.754Z"
   },
   {
    "duration": 9,
    "start_time": "2022-01-15T17:25:56.666Z"
   },
   {
    "duration": 7,
    "start_time": "2022-01-15T17:25:56.678Z"
   },
   {
    "duration": 31,
    "start_time": "2022-01-15T17:25:56.687Z"
   },
   {
    "duration": 9,
    "start_time": "2022-01-15T17:25:56.721Z"
   },
   {
    "duration": 10,
    "start_time": "2022-01-15T17:25:56.732Z"
   },
   {
    "duration": 28,
    "start_time": "2022-01-15T17:25:56.745Z"
   },
   {
    "duration": 61,
    "start_time": "2022-01-15T17:25:56.776Z"
   },
   {
    "duration": 11,
    "start_time": "2022-01-15T17:25:56.839Z"
   },
   {
    "duration": 602,
    "start_time": "2022-01-15T17:25:56.852Z"
   },
   {
    "duration": 11,
    "start_time": "2022-01-15T17:25:57.456Z"
   },
   {
    "duration": 3265,
    "start_time": "2022-01-15T17:25:57.469Z"
   },
   {
    "duration": 11,
    "start_time": "2022-01-15T17:26:00.737Z"
   },
   {
    "duration": 1575,
    "start_time": "2022-01-15T17:26:00.750Z"
   },
   {
    "duration": 12,
    "start_time": "2022-01-15T17:26:02.327Z"
   },
   {
    "duration": 699,
    "start_time": "2022-01-15T17:26:02.342Z"
   },
   {
    "duration": 11,
    "start_time": "2022-01-15T17:26:03.043Z"
   },
   {
    "duration": 2896,
    "start_time": "2022-01-15T17:26:03.056Z"
   },
   {
    "duration": 12,
    "start_time": "2022-01-15T17:26:05.955Z"
   },
   {
    "duration": 550,
    "start_time": "2022-01-15T17:26:05.969Z"
   },
   {
    "duration": 11,
    "start_time": "2022-01-15T17:26:06.521Z"
   },
   {
    "duration": 5001,
    "start_time": "2022-01-15T17:26:06.535Z"
   },
   {
    "duration": 229,
    "start_time": "2022-01-15T17:26:11.538Z"
   },
   {
    "duration": 13,
    "start_time": "2022-01-15T17:36:10.563Z"
   },
   {
    "duration": 10,
    "start_time": "2022-01-15T17:36:18.449Z"
   },
   {
    "duration": 12,
    "start_time": "2022-01-15T17:36:27.417Z"
   },
   {
    "duration": 921,
    "start_time": "2022-01-15T17:36:56.314Z"
   },
   {
    "duration": 10,
    "start_time": "2022-01-15T18:50:37.750Z"
   },
   {
    "duration": 9,
    "start_time": "2022-01-15T18:50:42.776Z"
   },
   {
    "duration": 10,
    "start_time": "2022-01-15T18:50:49.777Z"
   },
   {
    "duration": 10,
    "start_time": "2022-01-15T18:51:13.411Z"
   },
   {
    "duration": 10,
    "start_time": "2022-01-15T18:51:19.295Z"
   },
   {
    "duration": 10,
    "start_time": "2022-01-15T18:51:23.941Z"
   },
   {
    "duration": 12,
    "start_time": "2022-01-15T18:51:32.047Z"
   },
   {
    "duration": 9,
    "start_time": "2022-01-15T18:51:36.989Z"
   },
   {
    "duration": 11,
    "start_time": "2022-01-15T18:51:43.651Z"
   },
   {
    "duration": 16,
    "start_time": "2022-01-15T18:52:06.616Z"
   },
   {
    "duration": 11,
    "start_time": "2022-01-15T18:52:21.688Z"
   },
   {
    "duration": 10,
    "start_time": "2022-01-15T18:52:29.058Z"
   },
   {
    "duration": 9,
    "start_time": "2022-01-15T18:52:33.188Z"
   },
   {
    "duration": 10,
    "start_time": "2022-01-15T18:52:37.810Z"
   },
   {
    "duration": 10,
    "start_time": "2022-01-15T18:52:41.641Z"
   },
   {
    "duration": 11,
    "start_time": "2022-01-15T18:52:46.634Z"
   },
   {
    "duration": 11,
    "start_time": "2022-01-15T18:52:51.228Z"
   },
   {
    "duration": 11,
    "start_time": "2022-01-15T18:52:57.438Z"
   },
   {
    "duration": 10,
    "start_time": "2022-01-15T18:53:01.396Z"
   },
   {
    "duration": 112,
    "start_time": "2022-01-15T18:53:12.026Z"
   },
   {
    "duration": 10,
    "start_time": "2022-01-15T18:53:16.706Z"
   },
   {
    "duration": 12,
    "start_time": "2022-01-15T18:53:22.625Z"
   },
   {
    "duration": 10,
    "start_time": "2022-01-15T18:53:28.256Z"
   },
   {
    "duration": 9,
    "start_time": "2022-01-15T18:53:34.934Z"
   },
   {
    "duration": 9,
    "start_time": "2022-01-15T18:53:40.547Z"
   },
   {
    "duration": 9,
    "start_time": "2022-01-15T18:53:45.223Z"
   },
   {
    "duration": 9,
    "start_time": "2022-01-15T18:53:50.964Z"
   },
   {
    "duration": 9,
    "start_time": "2022-01-15T18:56:32.631Z"
   },
   {
    "duration": 15,
    "start_time": "2022-01-15T18:58:07.864Z"
   },
   {
    "duration": 5,
    "start_time": "2022-01-15T18:58:21.918Z"
   },
   {
    "duration": 384,
    "start_time": "2022-01-15T18:58:27.920Z"
   },
   {
    "duration": 5,
    "start_time": "2022-01-15T18:58:32.597Z"
   },
   {
    "duration": 7,
    "start_time": "2022-01-15T18:58:38.571Z"
   },
   {
    "duration": 9,
    "start_time": "2022-01-15T18:58:56.250Z"
   },
   {
    "duration": 13,
    "start_time": "2022-01-15T18:59:05.589Z"
   },
   {
    "duration": 14,
    "start_time": "2022-01-15T19:01:16.902Z"
   },
   {
    "duration": 93,
    "start_time": "2022-01-15T19:02:28.335Z"
   },
   {
    "duration": 15,
    "start_time": "2022-01-15T19:02:37.034Z"
   },
   {
    "duration": 15,
    "start_time": "2022-01-15T19:04:00.610Z"
   },
   {
    "duration": 5,
    "start_time": "2022-01-15T19:04:15.910Z"
   },
   {
    "duration": 10,
    "start_time": "2022-01-15T19:04:16.463Z"
   },
   {
    "duration": 10,
    "start_time": "2022-01-15T19:04:17.568Z"
   },
   {
    "duration": 10,
    "start_time": "2022-01-15T19:04:18.694Z"
   },
   {
    "duration": 10,
    "start_time": "2022-01-15T19:04:20.975Z"
   },
   {
    "duration": 13,
    "start_time": "2022-01-15T19:04:21.702Z"
   },
   {
    "duration": 13,
    "start_time": "2022-01-15T19:04:40.160Z"
   },
   {
    "duration": 14,
    "start_time": "2022-01-15T19:04:54.154Z"
   },
   {
    "duration": 13,
    "start_time": "2022-01-15T19:04:56.647Z"
   },
   {
    "duration": 310,
    "start_time": "2022-01-15T19:05:12.611Z"
   },
   {
    "duration": 7,
    "start_time": "2022-01-15T19:06:15.097Z"
   },
   {
    "duration": 13,
    "start_time": "2022-01-15T19:06:34.691Z"
   },
   {
    "duration": 5,
    "start_time": "2022-01-15T19:06:56.877Z"
   },
   {
    "duration": 10,
    "start_time": "2022-01-15T19:07:48.050Z"
   },
   {
    "duration": 10,
    "start_time": "2022-01-15T19:07:54.061Z"
   },
   {
    "duration": 15,
    "start_time": "2022-01-15T19:07:58.015Z"
   },
   {
    "duration": 6,
    "start_time": "2022-01-15T19:08:00.188Z"
   },
   {
    "duration": 11,
    "start_time": "2022-01-15T19:08:07.853Z"
   },
   {
    "duration": 9,
    "start_time": "2022-01-15T19:08:13.157Z"
   },
   {
    "duration": 9,
    "start_time": "2022-01-15T19:08:16.145Z"
   },
   {
    "duration": 11,
    "start_time": "2022-01-15T19:08:21.169Z"
   },
   {
    "duration": 13,
    "start_time": "2022-01-15T19:08:37.783Z"
   },
   {
    "duration": 5,
    "start_time": "2022-01-15T19:08:41.402Z"
   },
   {
    "duration": 10,
    "start_time": "2022-01-15T19:08:49.459Z"
   },
   {
    "duration": 13,
    "start_time": "2022-01-15T19:08:50.730Z"
   },
   {
    "duration": 13,
    "start_time": "2022-01-15T19:08:59.096Z"
   },
   {
    "duration": 6,
    "start_time": "2022-01-15T19:08:59.977Z"
   },
   {
    "duration": 10,
    "start_time": "2022-01-15T19:10:59.277Z"
   },
   {
    "duration": 10,
    "start_time": "2022-01-15T19:11:24.481Z"
   },
   {
    "duration": 10,
    "start_time": "2022-01-15T19:11:37.954Z"
   },
   {
    "duration": 12,
    "start_time": "2022-01-15T19:12:03.294Z"
   },
   {
    "duration": 9,
    "start_time": "2022-01-15T19:12:36.900Z"
   },
   {
    "duration": 9,
    "start_time": "2022-01-15T19:12:42.002Z"
   },
   {
    "duration": 10,
    "start_time": "2022-01-15T19:12:47.622Z"
   },
   {
    "duration": 11,
    "start_time": "2022-01-15T19:13:18.866Z"
   },
   {
    "duration": 11,
    "start_time": "2022-01-15T19:13:27.247Z"
   },
   {
    "duration": 10,
    "start_time": "2022-01-15T19:13:32.061Z"
   },
   {
    "duration": 9,
    "start_time": "2022-01-15T19:13:39.684Z"
   },
   {
    "duration": 9,
    "start_time": "2022-01-15T19:13:45.127Z"
   },
   {
    "duration": 11,
    "start_time": "2022-01-15T19:14:05.879Z"
   },
   {
    "duration": 10,
    "start_time": "2022-01-15T19:14:13.025Z"
   },
   {
    "duration": 10,
    "start_time": "2022-01-15T19:14:19.052Z"
   },
   {
    "duration": 10,
    "start_time": "2022-01-15T19:14:24.906Z"
   },
   {
    "duration": 10,
    "start_time": "2022-01-15T19:14:29.080Z"
   },
   {
    "duration": 10,
    "start_time": "2022-01-15T19:14:34.029Z"
   },
   {
    "duration": 9,
    "start_time": "2022-01-15T19:14:47.137Z"
   },
   {
    "duration": 10,
    "start_time": "2022-01-15T19:15:16.654Z"
   },
   {
    "duration": 10,
    "start_time": "2022-01-15T19:15:22.715Z"
   },
   {
    "duration": 9,
    "start_time": "2022-01-15T19:15:27.759Z"
   },
   {
    "duration": 10,
    "start_time": "2022-01-15T19:15:30.354Z"
   },
   {
    "duration": 10,
    "start_time": "2022-01-15T19:15:32.434Z"
   },
   {
    "duration": 11,
    "start_time": "2022-01-15T19:15:37.875Z"
   },
   {
    "duration": 10,
    "start_time": "2022-01-15T19:15:45.303Z"
   },
   {
    "duration": 9,
    "start_time": "2022-01-15T19:16:15.024Z"
   },
   {
    "duration": 10,
    "start_time": "2022-01-15T19:16:57.281Z"
   },
   {
    "duration": 9,
    "start_time": "2022-01-15T19:17:06.187Z"
   },
   {
    "duration": 9,
    "start_time": "2022-01-15T19:17:16.216Z"
   },
   {
    "duration": 10,
    "start_time": "2022-01-15T19:18:16.524Z"
   },
   {
    "duration": 9,
    "start_time": "2022-01-15T19:19:51.499Z"
   },
   {
    "duration": 116,
    "start_time": "2022-01-15T19:20:16.639Z"
   },
   {
    "duration": 12,
    "start_time": "2022-01-15T19:20:20.855Z"
   },
   {
    "duration": 13,
    "start_time": "2022-01-15T19:20:24.846Z"
   },
   {
    "duration": 11,
    "start_time": "2022-01-15T19:20:28.994Z"
   },
   {
    "duration": 11,
    "start_time": "2022-01-15T19:20:34.528Z"
   },
   {
    "duration": 10,
    "start_time": "2022-01-15T19:20:50.731Z"
   },
   {
    "duration": 11,
    "start_time": "2022-01-15T19:21:01.765Z"
   },
   {
    "duration": 11,
    "start_time": "2022-01-15T19:21:06.508Z"
   },
   {
    "duration": 9,
    "start_time": "2022-01-15T19:21:12.370Z"
   },
   {
    "duration": 5,
    "start_time": "2022-01-15T19:21:56.090Z"
   },
   {
    "duration": 11,
    "start_time": "2022-01-15T19:23:31.915Z"
   },
   {
    "duration": 5,
    "start_time": "2022-01-15T19:23:33.326Z"
   },
   {
    "duration": 4,
    "start_time": "2022-01-15T19:23:37.083Z"
   },
   {
    "duration": 14,
    "start_time": "2022-01-15T19:23:37.560Z"
   },
   {
    "duration": 6,
    "start_time": "2022-01-15T19:23:38.824Z"
   },
   {
    "duration": 19,
    "start_time": "2022-01-15T19:23:51.333Z"
   },
   {
    "duration": 7,
    "start_time": "2022-01-15T19:23:52.604Z"
   },
   {
    "duration": 12,
    "start_time": "2022-01-15T19:24:01.163Z"
   },
   {
    "duration": 6,
    "start_time": "2022-01-15T19:24:02.550Z"
   },
   {
    "duration": 838,
    "start_time": "2022-01-15T19:24:27.045Z"
   },
   {
    "duration": 90,
    "start_time": "2022-01-15T19:24:27.886Z"
   },
   {
    "duration": 16,
    "start_time": "2022-01-15T19:24:27.982Z"
   },
   {
    "duration": 57,
    "start_time": "2022-01-15T19:24:28.001Z"
   },
   {
    "duration": 6,
    "start_time": "2022-01-15T19:24:28.060Z"
   },
   {
    "duration": 10,
    "start_time": "2022-01-15T19:24:28.069Z"
   },
   {
    "duration": 64,
    "start_time": "2022-01-15T19:24:28.082Z"
   },
   {
    "duration": 14,
    "start_time": "2022-01-15T19:24:28.149Z"
   },
   {
    "duration": 8,
    "start_time": "2022-01-15T19:24:28.166Z"
   },
   {
    "duration": 10,
    "start_time": "2022-01-15T19:24:28.177Z"
   },
   {
    "duration": 8,
    "start_time": "2022-01-15T19:24:28.217Z"
   },
   {
    "duration": 14,
    "start_time": "2022-01-15T19:24:28.227Z"
   },
   {
    "duration": 31,
    "start_time": "2022-01-15T19:24:28.243Z"
   },
   {
    "duration": 52,
    "start_time": "2022-01-15T19:24:28.276Z"
   },
   {
    "duration": 33,
    "start_time": "2022-01-15T19:24:28.331Z"
   },
   {
    "duration": 67,
    "start_time": "2022-01-15T19:24:28.366Z"
   },
   {
    "duration": 7,
    "start_time": "2022-01-15T19:24:28.435Z"
   },
   {
    "duration": 17,
    "start_time": "2022-01-15T19:24:28.445Z"
   },
   {
    "duration": 26,
    "start_time": "2022-01-15T19:24:28.464Z"
   },
   {
    "duration": 33,
    "start_time": "2022-01-15T19:24:28.493Z"
   },
   {
    "duration": 8,
    "start_time": "2022-01-15T19:24:28.528Z"
   },
   {
    "duration": 3,
    "start_time": "2022-01-15T19:24:28.543Z"
   },
   {
    "duration": 11,
    "start_time": "2022-01-15T19:24:28.549Z"
   },
   {
    "duration": 7,
    "start_time": "2022-01-15T19:24:28.562Z"
   },
   {
    "duration": 45,
    "start_time": "2022-01-15T19:24:28.571Z"
   },
   {
    "duration": 13,
    "start_time": "2022-01-15T19:24:28.620Z"
   },
   {
    "duration": 11,
    "start_time": "2022-01-15T19:24:28.635Z"
   },
   {
    "duration": 12,
    "start_time": "2022-01-15T19:24:28.648Z"
   },
   {
    "duration": 11,
    "start_time": "2022-01-15T19:24:28.663Z"
   },
   {
    "duration": 43,
    "start_time": "2022-01-15T19:24:28.677Z"
   },
   {
    "duration": 11,
    "start_time": "2022-01-15T19:24:28.722Z"
   },
   {
    "duration": 10,
    "start_time": "2022-01-15T19:24:28.736Z"
   },
   {
    "duration": 34,
    "start_time": "2022-01-15T19:24:28.748Z"
   },
   {
    "duration": 11,
    "start_time": "2022-01-15T19:24:28.817Z"
   },
   {
    "duration": 10,
    "start_time": "2022-01-15T19:24:28.830Z"
   },
   {
    "duration": 8,
    "start_time": "2022-01-15T19:24:28.843Z"
   },
   {
    "duration": 10,
    "start_time": "2022-01-15T19:24:28.854Z"
   },
   {
    "duration": 60,
    "start_time": "2022-01-15T19:24:28.867Z"
   },
   {
    "duration": 13,
    "start_time": "2022-01-15T19:24:28.930Z"
   },
   {
    "duration": 9,
    "start_time": "2022-01-15T19:24:28.946Z"
   },
   {
    "duration": 4,
    "start_time": "2022-01-15T19:24:28.958Z"
   },
   {
    "duration": 55,
    "start_time": "2022-01-15T19:24:28.964Z"
   },
   {
    "duration": 14,
    "start_time": "2022-01-15T19:24:29.021Z"
   },
   {
    "duration": 7,
    "start_time": "2022-01-15T19:24:29.037Z"
   },
   {
    "duration": 5,
    "start_time": "2022-01-15T19:24:29.046Z"
   },
   {
    "duration": 8,
    "start_time": "2022-01-15T19:24:29.053Z"
   },
   {
    "duration": 54,
    "start_time": "2022-01-15T19:24:29.063Z"
   },
   {
    "duration": 7,
    "start_time": "2022-01-15T19:24:29.119Z"
   },
   {
    "duration": 13,
    "start_time": "2022-01-15T19:24:29.128Z"
   },
   {
    "duration": 14,
    "start_time": "2022-01-15T19:24:29.143Z"
   },
   {
    "duration": 59,
    "start_time": "2022-01-15T19:24:29.159Z"
   },
   {
    "duration": 11,
    "start_time": "2022-01-15T19:24:29.220Z"
   },
   {
    "duration": 4,
    "start_time": "2022-01-15T19:24:29.234Z"
   },
   {
    "duration": 11,
    "start_time": "2022-01-15T19:24:29.240Z"
   },
   {
    "duration": 8,
    "start_time": "2022-01-15T19:24:29.253Z"
   },
   {
    "duration": 57,
    "start_time": "2022-01-15T19:24:29.263Z"
   },
   {
    "duration": 11,
    "start_time": "2022-01-15T19:24:29.323Z"
   },
   {
    "duration": 6,
    "start_time": "2022-01-15T19:24:29.336Z"
   },
   {
    "duration": 38,
    "start_time": "2022-01-15T19:24:29.344Z"
   },
   {
    "duration": 37,
    "start_time": "2022-01-15T19:24:29.384Z"
   },
   {
    "duration": 6,
    "start_time": "2022-01-15T19:24:29.424Z"
   },
   {
    "duration": 39,
    "start_time": "2022-01-15T19:24:29.432Z"
   },
   {
    "duration": 43,
    "start_time": "2022-01-15T19:24:29.474Z"
   },
   {
    "duration": 11,
    "start_time": "2022-01-15T19:24:29.520Z"
   },
   {
    "duration": 11,
    "start_time": "2022-01-15T19:24:29.534Z"
   },
   {
    "duration": 9,
    "start_time": "2022-01-15T19:24:29.548Z"
   },
   {
    "duration": 52,
    "start_time": "2022-01-15T19:24:29.567Z"
   },
   {
    "duration": 11,
    "start_time": "2022-01-15T19:24:29.624Z"
   },
   {
    "duration": 9,
    "start_time": "2022-01-15T19:24:29.638Z"
   },
   {
    "duration": 9,
    "start_time": "2022-01-15T19:24:29.649Z"
   },
   {
    "duration": 10,
    "start_time": "2022-01-15T19:24:29.661Z"
   },
   {
    "duration": 51,
    "start_time": "2022-01-15T19:24:29.674Z"
   },
   {
    "duration": 8,
    "start_time": "2022-01-15T19:24:29.728Z"
   },
   {
    "duration": 14,
    "start_time": "2022-01-15T19:24:29.739Z"
   },
   {
    "duration": 15,
    "start_time": "2022-01-15T19:24:29.755Z"
   },
   {
    "duration": 46,
    "start_time": "2022-01-15T19:24:29.773Z"
   },
   {
    "duration": 7,
    "start_time": "2022-01-15T19:24:29.822Z"
   },
   {
    "duration": 14,
    "start_time": "2022-01-15T19:24:29.832Z"
   },
   {
    "duration": 10,
    "start_time": "2022-01-15T19:24:29.848Z"
   },
   {
    "duration": 73,
    "start_time": "2022-01-15T19:24:29.861Z"
   },
   {
    "duration": 9,
    "start_time": "2022-01-15T19:24:29.936Z"
   },
   {
    "duration": 15,
    "start_time": "2022-01-15T19:24:29.947Z"
   },
   {
    "duration": 9,
    "start_time": "2022-01-15T19:24:29.964Z"
   },
   {
    "duration": 41,
    "start_time": "2022-01-15T19:24:29.976Z"
   },
   {
    "duration": 12,
    "start_time": "2022-01-15T19:24:30.019Z"
   },
   {
    "duration": 10,
    "start_time": "2022-01-15T19:24:30.034Z"
   },
   {
    "duration": 37,
    "start_time": "2022-01-15T19:24:30.047Z"
   },
   {
    "duration": 5,
    "start_time": "2022-01-15T19:24:30.118Z"
   },
   {
    "duration": 25,
    "start_time": "2022-01-15T19:24:30.125Z"
   },
   {
    "duration": 22,
    "start_time": "2022-01-15T19:24:30.152Z"
   },
   {
    "duration": 21,
    "start_time": "2022-01-15T19:24:30.176Z"
   },
   {
    "duration": 28,
    "start_time": "2022-01-15T19:24:30.200Z"
   },
   {
    "duration": 201,
    "start_time": "2022-01-15T19:24:30.231Z"
   },
   {
    "duration": 10,
    "start_time": "2022-01-15T19:24:30.435Z"
   },
   {
    "duration": 37,
    "start_time": "2022-01-15T19:24:30.448Z"
   },
   {
    "duration": 34,
    "start_time": "2022-01-15T19:24:30.487Z"
   },
   {
    "duration": 30,
    "start_time": "2022-01-15T19:24:30.524Z"
   },
   {
    "duration": 14,
    "start_time": "2022-01-15T19:24:30.556Z"
   },
   {
    "duration": 5,
    "start_time": "2022-01-15T19:24:30.572Z"
   },
   {
    "duration": 804,
    "start_time": "2022-01-15T19:24:30.579Z"
   },
   {
    "duration": 9,
    "start_time": "2022-01-15T19:24:31.385Z"
   },
   {
    "duration": 28,
    "start_time": "2022-01-15T19:24:31.397Z"
   },
   {
    "duration": 21,
    "start_time": "2022-01-15T19:24:31.427Z"
   },
   {
    "duration": 9,
    "start_time": "2022-01-15T19:24:31.451Z"
   },
   {
    "duration": 21,
    "start_time": "2022-01-15T19:24:31.462Z"
   },
   {
    "duration": 43,
    "start_time": "2022-01-15T19:24:31.485Z"
   },
   {
    "duration": 29,
    "start_time": "2022-01-15T19:24:31.530Z"
   },
   {
    "duration": 10,
    "start_time": "2022-01-15T19:24:31.561Z"
   },
   {
    "duration": 602,
    "start_time": "2022-01-15T19:24:31.573Z"
   },
   {
    "duration": 12,
    "start_time": "2022-01-15T19:24:32.177Z"
   },
   {
    "duration": 2817,
    "start_time": "2022-01-15T19:24:32.192Z"
   },
   {
    "duration": 17,
    "start_time": "2022-01-15T19:24:35.011Z"
   },
   {
    "duration": 1531,
    "start_time": "2022-01-15T19:24:35.030Z"
   },
   {
    "duration": 13,
    "start_time": "2022-01-15T19:24:36.564Z"
   },
   {
    "duration": 691,
    "start_time": "2022-01-15T19:24:36.580Z"
   },
   {
    "duration": 13,
    "start_time": "2022-01-15T19:24:37.274Z"
   },
   {
    "duration": 2481,
    "start_time": "2022-01-15T19:24:37.290Z"
   },
   {
    "duration": 12,
    "start_time": "2022-01-15T19:24:39.775Z"
   },
   {
    "duration": 637,
    "start_time": "2022-01-15T19:24:39.789Z"
   },
   {
    "duration": 12,
    "start_time": "2022-01-15T19:24:40.428Z"
   },
   {
    "duration": 4883,
    "start_time": "2022-01-15T19:24:40.442Z"
   },
   {
    "duration": 229,
    "start_time": "2022-01-15T19:24:45.328Z"
   },
   {
    "duration": 10,
    "start_time": "2022-01-15T19:24:45.560Z"
   },
   {
    "duration": 11,
    "start_time": "2022-01-15T19:24:45.572Z"
   },
   {
    "duration": 216,
    "start_time": "2022-01-15T19:24:45.585Z"
   },
   {
    "duration": 19,
    "start_time": "2022-01-15T19:24:45.804Z"
   },
   {
    "duration": 18,
    "start_time": "2022-01-15T19:24:45.825Z"
   },
   {
    "duration": 10,
    "start_time": "2022-01-15T19:24:45.845Z"
   },
   {
    "duration": 12,
    "start_time": "2022-01-15T19:24:45.858Z"
   },
   {
    "duration": 51,
    "start_time": "2022-01-15T19:24:45.873Z"
   },
   {
    "duration": 11,
    "start_time": "2022-01-15T19:24:45.927Z"
   },
   {
    "duration": 11,
    "start_time": "2022-01-15T19:24:45.941Z"
   },
   {
    "duration": 11,
    "start_time": "2022-01-15T19:24:45.955Z"
   },
   {
    "duration": 55,
    "start_time": "2022-01-15T19:24:45.969Z"
   },
   {
    "duration": 5,
    "start_time": "2022-01-15T19:24:46.027Z"
   },
   {
    "duration": 15,
    "start_time": "2022-01-15T19:24:46.034Z"
   },
   {
    "duration": 5,
    "start_time": "2022-01-15T19:24:46.051Z"
   },
   {
    "duration": 13,
    "start_time": "2022-01-15T20:06:35.452Z"
   },
   {
    "duration": 5,
    "start_time": "2022-01-15T20:06:37.139Z"
   },
   {
    "duration": 11,
    "start_time": "2022-01-15T20:06:41.956Z"
   },
   {
    "duration": 13,
    "start_time": "2022-01-15T20:06:46.161Z"
   },
   {
    "duration": 13,
    "start_time": "2022-01-15T20:06:53.466Z"
   },
   {
    "duration": 11,
    "start_time": "2022-01-15T20:07:27.236Z"
   },
   {
    "duration": 10,
    "start_time": "2022-01-15T20:07:33.010Z"
   },
   {
    "duration": 10,
    "start_time": "2022-01-15T20:07:37.049Z"
   },
   {
    "duration": 11,
    "start_time": "2022-01-15T20:07:48.713Z"
   },
   {
    "duration": 6,
    "start_time": "2022-01-15T20:07:49.714Z"
   },
   {
    "duration": 10,
    "start_time": "2022-01-15T20:08:00.220Z"
   },
   {
    "duration": 12,
    "start_time": "2022-01-15T20:08:06.375Z"
   },
   {
    "duration": 6,
    "start_time": "2022-01-15T20:08:07.585Z"
   },
   {
    "duration": 17,
    "start_time": "2022-01-15T20:08:42.524Z"
   },
   {
    "duration": 5,
    "start_time": "2022-01-15T20:08:43.474Z"
   },
   {
    "duration": 19,
    "start_time": "2022-01-15T20:08:55.069Z"
   },
   {
    "duration": 18,
    "start_time": "2022-01-15T20:08:57.850Z"
   },
   {
    "duration": 6,
    "start_time": "2022-01-15T20:08:58.430Z"
   },
   {
    "duration": 10,
    "start_time": "2022-01-15T20:09:01.499Z"
   },
   {
    "duration": 18,
    "start_time": "2022-01-15T20:09:02.036Z"
   },
   {
    "duration": 6,
    "start_time": "2022-01-15T20:09:03.161Z"
   },
   {
    "duration": 19,
    "start_time": "2022-01-15T20:09:14.524Z"
   },
   {
    "duration": 9,
    "start_time": "2022-01-15T20:09:16.022Z"
   },
   {
    "duration": 19,
    "start_time": "2022-01-15T20:09:21.377Z"
   },
   {
    "duration": 5,
    "start_time": "2022-01-15T20:09:22.146Z"
   },
   {
    "duration": 18,
    "start_time": "2022-01-15T20:09:27.159Z"
   },
   {
    "duration": 5,
    "start_time": "2022-01-15T20:09:27.702Z"
   },
   {
    "duration": 836,
    "start_time": "2022-01-15T20:10:10.316Z"
   },
   {
    "duration": 90,
    "start_time": "2022-01-15T20:10:11.155Z"
   },
   {
    "duration": 17,
    "start_time": "2022-01-15T20:10:11.253Z"
   },
   {
    "duration": 73,
    "start_time": "2022-01-15T20:10:11.273Z"
   },
   {
    "duration": 10,
    "start_time": "2022-01-15T20:10:11.349Z"
   },
   {
    "duration": 13,
    "start_time": "2022-01-15T20:10:11.361Z"
   },
   {
    "duration": 66,
    "start_time": "2022-01-15T20:10:11.379Z"
   },
   {
    "duration": 13,
    "start_time": "2022-01-15T20:10:11.448Z"
   },
   {
    "duration": 10,
    "start_time": "2022-01-15T20:10:11.463Z"
   },
   {
    "duration": 6,
    "start_time": "2022-01-15T20:10:11.475Z"
   },
   {
    "duration": 39,
    "start_time": "2022-01-15T20:10:11.483Z"
   },
   {
    "duration": 13,
    "start_time": "2022-01-15T20:10:11.524Z"
   },
   {
    "duration": 31,
    "start_time": "2022-01-15T20:10:11.539Z"
   },
   {
    "duration": 53,
    "start_time": "2022-01-15T20:10:11.572Z"
   },
   {
    "duration": 33,
    "start_time": "2022-01-15T20:10:11.627Z"
   },
   {
    "duration": 63,
    "start_time": "2022-01-15T20:10:11.662Z"
   },
   {
    "duration": 10,
    "start_time": "2022-01-15T20:10:11.728Z"
   },
   {
    "duration": 15,
    "start_time": "2022-01-15T20:10:11.740Z"
   },
   {
    "duration": 18,
    "start_time": "2022-01-15T20:10:11.757Z"
   },
   {
    "duration": 48,
    "start_time": "2022-01-15T20:10:11.777Z"
   },
   {
    "duration": 9,
    "start_time": "2022-01-15T20:10:11.827Z"
   },
   {
    "duration": 10,
    "start_time": "2022-01-15T20:10:11.842Z"
   },
   {
    "duration": 11,
    "start_time": "2022-01-15T20:10:11.856Z"
   },
   {
    "duration": 6,
    "start_time": "2022-01-15T20:10:11.869Z"
   },
   {
    "duration": 8,
    "start_time": "2022-01-15T20:10:11.918Z"
   },
   {
    "duration": 38,
    "start_time": "2022-01-15T20:10:11.928Z"
   },
   {
    "duration": 10,
    "start_time": "2022-01-15T20:10:11.969Z"
   },
   {
    "duration": 6,
    "start_time": "2022-01-15T20:10:11.982Z"
   },
   {
    "duration": 35,
    "start_time": "2022-01-15T20:10:11.991Z"
   },
   {
    "duration": 8,
    "start_time": "2022-01-15T20:10:12.028Z"
   },
   {
    "duration": 17,
    "start_time": "2022-01-15T20:10:12.039Z"
   },
   {
    "duration": 20,
    "start_time": "2022-01-15T20:10:12.059Z"
   },
   {
    "duration": 66,
    "start_time": "2022-01-15T20:10:12.082Z"
   },
   {
    "duration": 10,
    "start_time": "2022-01-15T20:10:12.151Z"
   },
   {
    "duration": 10,
    "start_time": "2022-01-15T20:10:12.163Z"
   },
   {
    "duration": 45,
    "start_time": "2022-01-15T20:10:12.175Z"
   },
   {
    "duration": 9,
    "start_time": "2022-01-15T20:10:12.222Z"
   },
   {
    "duration": 10,
    "start_time": "2022-01-15T20:10:12.233Z"
   },
   {
    "duration": 12,
    "start_time": "2022-01-15T20:10:12.245Z"
   },
   {
    "duration": 7,
    "start_time": "2022-01-15T20:10:12.259Z"
   },
   {
    "duration": 7,
    "start_time": "2022-01-15T20:10:12.268Z"
   },
   {
    "duration": 45,
    "start_time": "2022-01-15T20:10:12.277Z"
   },
   {
    "duration": 13,
    "start_time": "2022-01-15T20:10:12.324Z"
   },
   {
    "duration": 8,
    "start_time": "2022-01-15T20:10:12.339Z"
   },
   {
    "duration": 4,
    "start_time": "2022-01-15T20:10:12.350Z"
   },
   {
    "duration": 9,
    "start_time": "2022-01-15T20:10:12.356Z"
   },
   {
    "duration": 55,
    "start_time": "2022-01-15T20:10:12.367Z"
   },
   {
    "duration": 7,
    "start_time": "2022-01-15T20:10:12.424Z"
   },
   {
    "duration": 13,
    "start_time": "2022-01-15T20:10:12.433Z"
   },
   {
    "duration": 12,
    "start_time": "2022-01-15T20:10:12.448Z"
   },
   {
    "duration": 62,
    "start_time": "2022-01-15T20:10:12.462Z"
   },
   {
    "duration": 20,
    "start_time": "2022-01-15T20:10:12.526Z"
   },
   {
    "duration": 8,
    "start_time": "2022-01-15T20:10:12.548Z"
   },
   {
    "duration": 13,
    "start_time": "2022-01-15T20:10:12.558Z"
   },
   {
    "duration": 8,
    "start_time": "2022-01-15T20:10:12.573Z"
   },
   {
    "duration": 39,
    "start_time": "2022-01-15T20:10:12.584Z"
   },
   {
    "duration": 13,
    "start_time": "2022-01-15T20:10:12.626Z"
   },
   {
    "duration": 7,
    "start_time": "2022-01-15T20:10:12.642Z"
   },
   {
    "duration": 79,
    "start_time": "2022-01-15T20:10:12.652Z"
   },
   {
    "duration": 8,
    "start_time": "2022-01-15T20:10:12.734Z"
   },
   {
    "duration": 9,
    "start_time": "2022-01-15T20:10:12.745Z"
   },
   {
    "duration": 77,
    "start_time": "2022-01-15T20:10:12.757Z"
   },
   {
    "duration": 15,
    "start_time": "2022-01-15T20:10:12.837Z"
   },
   {
    "duration": 13,
    "start_time": "2022-01-15T20:10:12.855Z"
   },
   {
    "duration": 49,
    "start_time": "2022-01-15T20:10:12.870Z"
   },
   {
    "duration": 11,
    "start_time": "2022-01-15T20:10:12.921Z"
   },
   {
    "duration": 8,
    "start_time": "2022-01-15T20:10:12.944Z"
   },
   {
    "duration": 12,
    "start_time": "2022-01-15T20:10:12.958Z"
   },
   {
    "duration": 50,
    "start_time": "2022-01-15T20:10:12.973Z"
   },
   {
    "duration": 8,
    "start_time": "2022-01-15T20:10:13.025Z"
   },
   {
    "duration": 12,
    "start_time": "2022-01-15T20:10:13.035Z"
   },
   {
    "duration": 10,
    "start_time": "2022-01-15T20:10:13.049Z"
   },
   {
    "duration": 8,
    "start_time": "2022-01-15T20:10:13.062Z"
   },
   {
    "duration": 7,
    "start_time": "2022-01-15T20:10:13.118Z"
   },
   {
    "duration": 12,
    "start_time": "2022-01-15T20:10:13.128Z"
   },
   {
    "duration": 9,
    "start_time": "2022-01-15T20:10:13.142Z"
   },
   {
    "duration": 6,
    "start_time": "2022-01-15T20:10:13.154Z"
   },
   {
    "duration": 55,
    "start_time": "2022-01-15T20:10:13.163Z"
   },
   {
    "duration": 10,
    "start_time": "2022-01-15T20:10:13.221Z"
   },
   {
    "duration": 36,
    "start_time": "2022-01-15T20:10:13.233Z"
   },
   {
    "duration": 10,
    "start_time": "2022-01-15T20:10:13.272Z"
   },
   {
    "duration": 42,
    "start_time": "2022-01-15T20:10:13.284Z"
   },
   {
    "duration": 9,
    "start_time": "2022-01-15T20:10:13.329Z"
   },
   {
    "duration": 6,
    "start_time": "2022-01-15T20:10:13.341Z"
   },
   {
    "duration": 12,
    "start_time": "2022-01-15T20:10:13.349Z"
   },
   {
    "duration": 9,
    "start_time": "2022-01-15T20:10:13.363Z"
   },
   {
    "duration": 36,
    "start_time": "2022-01-15T20:10:13.418Z"
   },
   {
    "duration": 5,
    "start_time": "2022-01-15T20:10:13.457Z"
   },
   {
    "duration": 10,
    "start_time": "2022-01-15T20:10:13.464Z"
   },
   {
    "duration": 41,
    "start_time": "2022-01-15T20:10:13.477Z"
   },
   {
    "duration": 17,
    "start_time": "2022-01-15T20:10:13.521Z"
   },
   {
    "duration": 17,
    "start_time": "2022-01-15T20:10:13.541Z"
   },
   {
    "duration": 206,
    "start_time": "2022-01-15T20:10:13.560Z"
   },
   {
    "duration": 8,
    "start_time": "2022-01-15T20:10:13.768Z"
   },
   {
    "duration": 55,
    "start_time": "2022-01-15T20:10:13.779Z"
   },
   {
    "duration": 7,
    "start_time": "2022-01-15T20:10:13.837Z"
   },
   {
    "duration": 19,
    "start_time": "2022-01-15T20:10:13.846Z"
   },
   {
    "duration": 14,
    "start_time": "2022-01-15T20:10:13.867Z"
   },
   {
    "duration": 35,
    "start_time": "2022-01-15T20:10:13.883Z"
   },
   {
    "duration": 759,
    "start_time": "2022-01-15T20:10:13.920Z"
   },
   {
    "duration": 9,
    "start_time": "2022-01-15T20:10:14.682Z"
   },
   {
    "duration": 24,
    "start_time": "2022-01-15T20:10:14.693Z"
   },
   {
    "duration": 10,
    "start_time": "2022-01-15T20:10:14.719Z"
   },
   {
    "duration": 9,
    "start_time": "2022-01-15T20:10:14.731Z"
   },
   {
    "duration": 11,
    "start_time": "2022-01-15T20:10:14.742Z"
   },
   {
    "duration": 64,
    "start_time": "2022-01-15T20:10:14.755Z"
   },
   {
    "duration": 36,
    "start_time": "2022-01-15T20:10:14.822Z"
   },
   {
    "duration": 12,
    "start_time": "2022-01-15T20:10:14.861Z"
   },
   {
    "duration": 635,
    "start_time": "2022-01-15T20:10:14.876Z"
   },
   {
    "duration": 12,
    "start_time": "2022-01-15T20:10:15.517Z"
   },
   {
    "duration": 3006,
    "start_time": "2022-01-15T20:10:15.531Z"
   },
   {
    "duration": 13,
    "start_time": "2022-01-15T20:10:18.539Z"
   },
   {
    "duration": 1655,
    "start_time": "2022-01-15T20:10:18.556Z"
   },
   {
    "duration": 12,
    "start_time": "2022-01-15T20:10:20.213Z"
   },
   {
    "duration": 667,
    "start_time": "2022-01-15T20:10:20.227Z"
   },
   {
    "duration": 21,
    "start_time": "2022-01-15T20:10:20.897Z"
   },
   {
    "duration": 2581,
    "start_time": "2022-01-15T20:10:20.921Z"
   },
   {
    "duration": 20,
    "start_time": "2022-01-15T20:10:23.504Z"
   },
   {
    "duration": 740,
    "start_time": "2022-01-15T20:10:23.526Z"
   },
   {
    "duration": 12,
    "start_time": "2022-01-15T20:10:24.269Z"
   },
   {
    "duration": 5429,
    "start_time": "2022-01-15T20:10:24.283Z"
   },
   {
    "duration": 230,
    "start_time": "2022-01-15T20:10:29.717Z"
   },
   {
    "duration": 12,
    "start_time": "2022-01-15T20:10:29.950Z"
   },
   {
    "duration": 15,
    "start_time": "2022-01-15T20:10:29.964Z"
   },
   {
    "duration": 224,
    "start_time": "2022-01-15T20:10:29.981Z"
   },
   {
    "duration": 15,
    "start_time": "2022-01-15T20:10:30.207Z"
   },
   {
    "duration": 8,
    "start_time": "2022-01-15T20:10:30.225Z"
   },
   {
    "duration": 13,
    "start_time": "2022-01-15T20:10:30.235Z"
   },
   {
    "duration": 9,
    "start_time": "2022-01-15T20:10:30.251Z"
   },
   {
    "duration": 9,
    "start_time": "2022-01-15T20:10:30.262Z"
   },
   {
    "duration": 47,
    "start_time": "2022-01-15T20:10:30.274Z"
   },
   {
    "duration": 10,
    "start_time": "2022-01-15T20:10:30.323Z"
   },
   {
    "duration": 12,
    "start_time": "2022-01-15T20:10:30.335Z"
   },
   {
    "duration": 9,
    "start_time": "2022-01-15T20:10:30.350Z"
   },
   {
    "duration": 16,
    "start_time": "2022-01-15T20:10:30.362Z"
   },
   {
    "duration": 23,
    "start_time": "2022-01-15T20:10:30.418Z"
   },
   {
    "duration": 5,
    "start_time": "2022-01-15T20:10:30.444Z"
   },
   {
    "duration": 18,
    "start_time": "2022-01-15T20:10:43.828Z"
   },
   {
    "duration": 6,
    "start_time": "2022-01-15T20:10:45.083Z"
   },
   {
    "duration": 19,
    "start_time": "2022-01-15T20:10:51.902Z"
   },
   {
    "duration": 6,
    "start_time": "2022-01-15T20:10:52.938Z"
   },
   {
    "duration": 19,
    "start_time": "2022-01-15T20:10:57.058Z"
   },
   {
    "duration": 5,
    "start_time": "2022-01-15T20:10:57.926Z"
   },
   {
    "duration": 19,
    "start_time": "2022-01-15T20:11:04.542Z"
   },
   {
    "duration": 7,
    "start_time": "2022-01-15T20:11:05.082Z"
   },
   {
    "duration": 19,
    "start_time": "2022-01-15T20:11:09.054Z"
   },
   {
    "duration": 5,
    "start_time": "2022-01-15T20:11:09.460Z"
   },
   {
    "duration": 13,
    "start_time": "2022-01-15T20:11:23.049Z"
   },
   {
    "duration": 6,
    "start_time": "2022-01-15T20:11:24.076Z"
   },
   {
    "duration": 12,
    "start_time": "2022-01-15T20:11:30.826Z"
   },
   {
    "duration": 6,
    "start_time": "2022-01-15T20:11:31.720Z"
   },
   {
    "duration": 19,
    "start_time": "2022-01-15T20:11:50.682Z"
   },
   {
    "duration": 6,
    "start_time": "2022-01-15T20:11:51.694Z"
   },
   {
    "duration": 22,
    "start_time": "2022-01-15T20:12:00.277Z"
   },
   {
    "duration": 5,
    "start_time": "2022-01-15T20:12:01.114Z"
   },
   {
    "duration": 18,
    "start_time": "2022-01-15T20:12:16.937Z"
   },
   {
    "duration": 6,
    "start_time": "2022-01-15T20:12:17.819Z"
   },
   {
    "duration": 20,
    "start_time": "2022-01-15T20:12:20.749Z"
   },
   {
    "duration": 6,
    "start_time": "2022-01-15T20:12:21.963Z"
   },
   {
    "duration": 21,
    "start_time": "2022-01-15T20:12:27.935Z"
   },
   {
    "duration": 6,
    "start_time": "2022-01-15T20:12:28.633Z"
   },
   {
    "duration": 19,
    "start_time": "2022-01-15T20:12:32.751Z"
   },
   {
    "duration": 5,
    "start_time": "2022-01-15T20:12:33.495Z"
   },
   {
    "duration": 18,
    "start_time": "2022-01-15T20:12:51.787Z"
   },
   {
    "duration": 6,
    "start_time": "2022-01-15T20:12:52.450Z"
   },
   {
    "duration": 15,
    "start_time": "2022-01-15T20:12:59.940Z"
   },
   {
    "duration": 6,
    "start_time": "2022-01-15T20:13:00.623Z"
   },
   {
    "duration": 8194,
    "start_time": "2022-01-15T20:13:46.375Z"
   },
   {
    "duration": 7,
    "start_time": "2022-01-15T20:14:11.520Z"
   },
   {
    "duration": 6,
    "start_time": "2022-01-15T20:14:33.442Z"
   },
   {
    "duration": 7,
    "start_time": "2022-01-15T20:14:56.763Z"
   },
   {
    "duration": 1157,
    "start_time": "2022-01-15T20:15:16.669Z"
   },
   {
    "duration": 7651,
    "start_time": "2022-01-15T20:17:10.631Z"
   },
   {
    "duration": 7,
    "start_time": "2022-01-15T20:17:34.921Z"
   },
   {
    "duration": 7,
    "start_time": "2022-01-15T20:17:42.502Z"
   },
   {
    "duration": 7,
    "start_time": "2022-01-15T20:17:49.587Z"
   },
   {
    "duration": 1230,
    "start_time": "2022-01-15T20:18:32.239Z"
   },
   {
    "duration": 1187,
    "start_time": "2022-01-15T20:18:51.089Z"
   },
   {
    "duration": 4,
    "start_time": "2022-01-15T20:19:41.761Z"
   },
   {
    "duration": 764,
    "start_time": "2022-01-15T20:19:42.579Z"
   },
   {
    "duration": 10,
    "start_time": "2022-01-15T20:19:43.566Z"
   },
   {
    "duration": 8,
    "start_time": "2022-01-15T20:20:00.964Z"
   },
   {
    "duration": 40,
    "start_time": "2022-01-15T20:20:59.245Z"
   },
   {
    "duration": 34,
    "start_time": "2022-01-15T20:21:14.610Z"
   },
   {
    "duration": 12,
    "start_time": "2022-01-15T20:23:34.158Z"
   },
   {
    "duration": 12,
    "start_time": "2022-01-15T20:23:56.176Z"
   },
   {
    "duration": 11,
    "start_time": "2022-01-15T20:24:10.577Z"
   },
   {
    "duration": 10,
    "start_time": "2022-01-15T20:24:46.063Z"
   },
   {
    "duration": 13,
    "start_time": "2022-01-15T20:25:02.222Z"
   },
   {
    "duration": 310,
    "start_time": "2022-01-15T20:25:32.841Z"
   },
   {
    "duration": 11,
    "start_time": "2022-01-15T20:25:42.092Z"
   },
   {
    "duration": 13,
    "start_time": "2022-01-15T20:25:51.051Z"
   },
   {
    "duration": 13,
    "start_time": "2022-01-15T20:26:00.044Z"
   },
   {
    "duration": 13,
    "start_time": "2022-01-15T20:26:09.372Z"
   },
   {
    "duration": 415,
    "start_time": "2022-01-15T20:27:19.757Z"
   },
   {
    "duration": 12,
    "start_time": "2022-01-15T20:27:28.983Z"
   },
   {
    "duration": 4,
    "start_time": "2022-01-15T20:29:33.367Z"
   },
   {
    "duration": 11,
    "start_time": "2022-01-15T20:30:28.808Z"
   },
   {
    "duration": 9,
    "start_time": "2022-01-15T20:30:48.714Z"
   },
   {
    "duration": 11,
    "start_time": "2022-01-15T20:31:34.972Z"
   },
   {
    "duration": 13,
    "start_time": "2022-01-15T20:36:05.884Z"
   },
   {
    "duration": 19,
    "start_time": "2022-01-15T20:36:40.039Z"
   },
   {
    "duration": 23,
    "start_time": "2022-01-15T20:37:00.734Z"
   },
   {
    "duration": 100,
    "start_time": "2022-01-15T20:37:22.756Z"
   },
   {
    "duration": 17,
    "start_time": "2022-01-15T20:37:27.361Z"
   },
   {
    "duration": 7,
    "start_time": "2022-01-16T12:41:05.942Z"
   },
   {
    "duration": 7,
    "start_time": "2022-01-16T12:41:41.105Z"
   },
   {
    "duration": 7,
    "start_time": "2022-01-16T12:41:56.433Z"
   },
   {
    "duration": 6,
    "start_time": "2022-01-16T12:42:40.987Z"
   },
   {
    "duration": 7,
    "start_time": "2022-01-16T12:44:36.185Z"
   },
   {
    "duration": 10,
    "start_time": "2022-01-16T12:44:49.686Z"
   },
   {
    "duration": 7,
    "start_time": "2022-01-16T12:44:57.318Z"
   },
   {
    "duration": 7,
    "start_time": "2022-01-16T12:45:03.332Z"
   },
   {
    "duration": 7,
    "start_time": "2022-01-16T12:45:13.730Z"
   },
   {
    "duration": 8,
    "start_time": "2022-01-16T12:45:25.955Z"
   },
   {
    "duration": 8,
    "start_time": "2022-01-16T12:45:45.516Z"
   },
   {
    "duration": 7,
    "start_time": "2022-01-16T12:46:02.626Z"
   },
   {
    "duration": 1244,
    "start_time": "2022-01-16T12:46:09.171Z"
   },
   {
    "duration": 811,
    "start_time": "2022-01-16T12:46:29.049Z"
   },
   {
    "duration": 88,
    "start_time": "2022-01-16T12:46:29.862Z"
   },
   {
    "duration": 15,
    "start_time": "2022-01-16T12:46:29.953Z"
   },
   {
    "duration": 56,
    "start_time": "2022-01-16T12:46:29.971Z"
   },
   {
    "duration": 7,
    "start_time": "2022-01-16T12:46:30.029Z"
   },
   {
    "duration": 28,
    "start_time": "2022-01-16T12:46:30.039Z"
   },
   {
    "duration": 43,
    "start_time": "2022-01-16T12:46:30.069Z"
   },
   {
    "duration": 13,
    "start_time": "2022-01-16T12:46:30.119Z"
   },
   {
    "duration": 19,
    "start_time": "2022-01-16T12:46:30.135Z"
   },
   {
    "duration": 10,
    "start_time": "2022-01-16T12:46:30.157Z"
   },
   {
    "duration": 19,
    "start_time": "2022-01-16T12:46:30.170Z"
   },
   {
    "duration": 32,
    "start_time": "2022-01-16T12:46:30.191Z"
   },
   {
    "duration": 31,
    "start_time": "2022-01-16T12:46:30.226Z"
   },
   {
    "duration": 27,
    "start_time": "2022-01-16T12:46:30.260Z"
   },
   {
    "duration": 55,
    "start_time": "2022-01-16T12:46:30.290Z"
   },
   {
    "duration": 46,
    "start_time": "2022-01-16T12:46:30.347Z"
   },
   {
    "duration": 25,
    "start_time": "2022-01-16T12:46:30.395Z"
   },
   {
    "duration": 26,
    "start_time": "2022-01-16T12:46:30.422Z"
   },
   {
    "duration": 18,
    "start_time": "2022-01-16T12:46:30.451Z"
   },
   {
    "duration": 14,
    "start_time": "2022-01-16T12:46:30.472Z"
   },
   {
    "duration": 30,
    "start_time": "2022-01-16T12:46:30.489Z"
   },
   {
    "duration": 11,
    "start_time": "2022-01-16T12:46:30.522Z"
   },
   {
    "duration": 12,
    "start_time": "2022-01-16T12:46:30.541Z"
   },
   {
    "duration": 8,
    "start_time": "2022-01-16T12:46:30.558Z"
   },
   {
    "duration": 55,
    "start_time": "2022-01-16T12:46:30.568Z"
   },
   {
    "duration": 13,
    "start_time": "2022-01-16T12:46:30.625Z"
   },
   {
    "duration": 11,
    "start_time": "2022-01-16T12:46:30.641Z"
   },
   {
    "duration": 7,
    "start_time": "2022-01-16T12:46:30.655Z"
   },
   {
    "duration": 63,
    "start_time": "2022-01-16T12:46:30.665Z"
   },
   {
    "duration": 9,
    "start_time": "2022-01-16T12:46:30.730Z"
   },
   {
    "duration": 9,
    "start_time": "2022-01-16T12:46:30.742Z"
   },
   {
    "duration": 12,
    "start_time": "2022-01-16T12:46:30.754Z"
   },
   {
    "duration": 77,
    "start_time": "2022-01-16T12:46:30.768Z"
   },
   {
    "duration": 9,
    "start_time": "2022-01-16T12:46:30.848Z"
   },
   {
    "duration": 13,
    "start_time": "2022-01-16T12:46:30.860Z"
   },
   {
    "duration": 12,
    "start_time": "2022-01-16T12:46:30.876Z"
   },
   {
    "duration": 32,
    "start_time": "2022-01-16T12:46:30.890Z"
   },
   {
    "duration": 22,
    "start_time": "2022-01-16T12:46:30.925Z"
   },
   {
    "duration": 12,
    "start_time": "2022-01-16T12:46:30.949Z"
   },
   {
    "duration": 10,
    "start_time": "2022-01-16T12:46:30.964Z"
   },
   {
    "duration": 11,
    "start_time": "2022-01-16T12:46:30.976Z"
   },
   {
    "duration": 33,
    "start_time": "2022-01-16T12:46:30.989Z"
   },
   {
    "duration": 22,
    "start_time": "2022-01-16T12:46:31.024Z"
   },
   {
    "duration": 13,
    "start_time": "2022-01-16T12:46:31.048Z"
   },
   {
    "duration": 16,
    "start_time": "2022-01-16T12:46:31.064Z"
   },
   {
    "duration": 14,
    "start_time": "2022-01-16T12:46:31.082Z"
   },
   {
    "duration": 24,
    "start_time": "2022-01-16T12:46:31.098Z"
   },
   {
    "duration": 8,
    "start_time": "2022-01-16T12:46:31.125Z"
   },
   {
    "duration": 17,
    "start_time": "2022-01-16T12:46:31.135Z"
   },
   {
    "duration": 24,
    "start_time": "2022-01-16T12:46:31.154Z"
   },
   {
    "duration": 58,
    "start_time": "2022-01-16T12:46:31.181Z"
   },
   {
    "duration": 24,
    "start_time": "2022-01-16T12:46:31.241Z"
   },
   {
    "duration": 7,
    "start_time": "2022-01-16T12:46:31.267Z"
   },
   {
    "duration": 21,
    "start_time": "2022-01-16T12:46:31.276Z"
   },
   {
    "duration": 22,
    "start_time": "2022-01-16T12:46:31.299Z"
   },
   {
    "duration": 8,
    "start_time": "2022-01-16T12:46:31.324Z"
   },
   {
    "duration": 13,
    "start_time": "2022-01-16T12:46:31.334Z"
   },
   {
    "duration": 6,
    "start_time": "2022-01-16T12:46:31.349Z"
   },
   {
    "duration": 75,
    "start_time": "2022-01-16T12:46:31.357Z"
   },
   {
    "duration": 8,
    "start_time": "2022-01-16T12:46:31.435Z"
   },
   {
    "duration": 17,
    "start_time": "2022-01-16T12:46:31.446Z"
   },
   {
    "duration": 58,
    "start_time": "2022-01-16T12:46:31.466Z"
   },
   {
    "duration": 16,
    "start_time": "2022-01-16T12:46:31.527Z"
   },
   {
    "duration": 33,
    "start_time": "2022-01-16T12:46:31.546Z"
   },
   {
    "duration": 13,
    "start_time": "2022-01-16T12:46:31.582Z"
   },
   {
    "duration": 30,
    "start_time": "2022-01-16T12:46:31.597Z"
   },
   {
    "duration": 9,
    "start_time": "2022-01-16T12:46:31.630Z"
   },
   {
    "duration": 14,
    "start_time": "2022-01-16T12:46:31.650Z"
   },
   {
    "duration": 53,
    "start_time": "2022-01-16T12:46:31.669Z"
   },
   {
    "duration": 12,
    "start_time": "2022-01-16T12:46:31.724Z"
   },
   {
    "duration": 11,
    "start_time": "2022-01-16T12:46:31.738Z"
   },
   {
    "duration": 12,
    "start_time": "2022-01-16T12:46:31.751Z"
   },
   {
    "duration": 9,
    "start_time": "2022-01-16T12:46:31.765Z"
   },
   {
    "duration": 8,
    "start_time": "2022-01-16T12:46:31.817Z"
   },
   {
    "duration": 11,
    "start_time": "2022-01-16T12:46:31.827Z"
   },
   {
    "duration": 9,
    "start_time": "2022-01-16T12:46:31.840Z"
   },
   {
    "duration": 8,
    "start_time": "2022-01-16T12:46:31.852Z"
   },
   {
    "duration": 15,
    "start_time": "2022-01-16T12:46:31.863Z"
   },
   {
    "duration": 9,
    "start_time": "2022-01-16T12:46:31.918Z"
   },
   {
    "duration": 38,
    "start_time": "2022-01-16T12:46:31.930Z"
   },
   {
    "duration": 47,
    "start_time": "2022-01-16T12:46:31.971Z"
   },
   {
    "duration": 12,
    "start_time": "2022-01-16T12:46:32.021Z"
   },
   {
    "duration": 10,
    "start_time": "2022-01-16T12:46:32.035Z"
   },
   {
    "duration": 6,
    "start_time": "2022-01-16T12:46:32.047Z"
   },
   {
    "duration": 27,
    "start_time": "2022-01-16T12:46:32.055Z"
   },
   {
    "duration": 39,
    "start_time": "2022-01-16T12:46:32.084Z"
   },
   {
    "duration": 35,
    "start_time": "2022-01-16T12:46:32.125Z"
   },
   {
    "duration": 5,
    "start_time": "2022-01-16T12:46:32.162Z"
   },
   {
    "duration": 12,
    "start_time": "2022-01-16T12:46:32.169Z"
   },
   {
    "duration": 7,
    "start_time": "2022-01-16T12:46:32.216Z"
   },
   {
    "duration": 18,
    "start_time": "2022-01-16T12:46:32.226Z"
   },
   {
    "duration": 14,
    "start_time": "2022-01-16T12:46:32.246Z"
   },
   {
    "duration": 210,
    "start_time": "2022-01-16T12:46:32.263Z"
   },
   {
    "duration": 8,
    "start_time": "2022-01-16T12:46:32.475Z"
   },
   {
    "duration": 53,
    "start_time": "2022-01-16T12:46:32.486Z"
   },
   {
    "duration": 7,
    "start_time": "2022-01-16T12:46:32.542Z"
   },
   {
    "duration": 18,
    "start_time": "2022-01-16T12:46:32.552Z"
   },
   {
    "duration": 48,
    "start_time": "2022-01-16T12:46:32.572Z"
   },
   {
    "duration": 5,
    "start_time": "2022-01-16T12:46:32.623Z"
   },
   {
    "duration": 794,
    "start_time": "2022-01-16T12:46:32.631Z"
   },
   {
    "duration": 10,
    "start_time": "2022-01-16T12:46:33.427Z"
   },
   {
    "duration": 11,
    "start_time": "2022-01-16T12:46:33.440Z"
   },
   {
    "duration": 17,
    "start_time": "2022-01-16T12:46:33.454Z"
   },
   {
    "duration": 45,
    "start_time": "2022-01-16T12:46:33.473Z"
   },
   {
    "duration": 9,
    "start_time": "2022-01-16T12:46:33.520Z"
   },
   {
    "duration": 28,
    "start_time": "2022-01-16T12:46:33.532Z"
   },
   {
    "duration": 59,
    "start_time": "2022-01-16T12:46:33.563Z"
   },
   {
    "duration": 11,
    "start_time": "2022-01-16T12:46:33.624Z"
   },
   {
    "duration": 615,
    "start_time": "2022-01-16T12:46:33.637Z"
   },
   {
    "duration": 12,
    "start_time": "2022-01-16T12:46:34.254Z"
   },
   {
    "duration": 3127,
    "start_time": "2022-01-16T12:46:34.269Z"
   },
   {
    "duration": 24,
    "start_time": "2022-01-16T12:46:37.398Z"
   },
   {
    "duration": 1596,
    "start_time": "2022-01-16T12:46:37.425Z"
   },
   {
    "duration": 12,
    "start_time": "2022-01-16T12:46:39.024Z"
   },
   {
    "duration": 675,
    "start_time": "2022-01-16T12:46:39.039Z"
   },
   {
    "duration": 12,
    "start_time": "2022-01-16T12:46:39.717Z"
   },
   {
    "duration": 2743,
    "start_time": "2022-01-16T12:46:39.732Z"
   },
   {
    "duration": 12,
    "start_time": "2022-01-16T12:46:42.477Z"
   },
   {
    "duration": 657,
    "start_time": "2022-01-16T12:46:42.491Z"
   },
   {
    "duration": 12,
    "start_time": "2022-01-16T12:46:43.150Z"
   },
   {
    "duration": 5321,
    "start_time": "2022-01-16T12:46:43.165Z"
   },
   {
    "duration": 235,
    "start_time": "2022-01-16T12:46:48.489Z"
   },
   {
    "duration": 10,
    "start_time": "2022-01-16T12:46:48.727Z"
   },
   {
    "duration": 8,
    "start_time": "2022-01-16T12:46:48.740Z"
   },
   {
    "duration": 228,
    "start_time": "2022-01-16T12:46:48.751Z"
   },
   {
    "duration": 10,
    "start_time": "2022-01-16T12:46:48.981Z"
   },
   {
    "duration": 28,
    "start_time": "2022-01-16T12:46:48.994Z"
   },
   {
    "duration": 19,
    "start_time": "2022-01-16T12:46:49.025Z"
   },
   {
    "duration": 9,
    "start_time": "2022-01-16T12:46:49.047Z"
   },
   {
    "duration": 10,
    "start_time": "2022-01-16T12:46:49.059Z"
   },
   {
    "duration": 10,
    "start_time": "2022-01-16T12:46:49.071Z"
   },
   {
    "duration": 9,
    "start_time": "2022-01-16T12:46:49.117Z"
   },
   {
    "duration": 10,
    "start_time": "2022-01-16T12:46:49.128Z"
   },
   {
    "duration": 12,
    "start_time": "2022-01-16T12:46:49.141Z"
   },
   {
    "duration": 10,
    "start_time": "2022-01-16T12:46:49.156Z"
   },
   {
    "duration": 59,
    "start_time": "2022-01-16T12:46:49.169Z"
   },
   {
    "duration": 8,
    "start_time": "2022-01-16T12:46:49.231Z"
   },
   {
    "duration": 9,
    "start_time": "2022-01-16T12:46:49.241Z"
   },
   {
    "duration": 8,
    "start_time": "2022-01-16T12:46:49.252Z"
   },
   {
    "duration": 7,
    "start_time": "2022-01-16T12:46:49.262Z"
   },
   {
    "duration": 47,
    "start_time": "2022-01-16T12:46:49.271Z"
   },
   {
    "duration": 6,
    "start_time": "2022-01-16T12:46:49.321Z"
   },
   {
    "duration": 7,
    "start_time": "2022-01-16T12:46:49.329Z"
   },
   {
    "duration": 6,
    "start_time": "2022-01-16T12:46:49.338Z"
   },
   {
    "duration": 10,
    "start_time": "2022-01-16T12:46:49.347Z"
   },
   {
    "duration": 66,
    "start_time": "2022-01-16T12:46:49.360Z"
   },
   {
    "duration": 6,
    "start_time": "2022-01-16T12:46:49.429Z"
   },
   {
    "duration": 56,
    "start_time": "2022-01-16T12:48:02.775Z"
   },
   {
    "duration": 35,
    "start_time": "2022-01-16T12:48:24.901Z"
   },
   {
    "duration": 54,
    "start_time": "2022-01-16T12:53:48.345Z"
   },
   {
    "duration": 14,
    "start_time": "2022-01-16T12:54:04.821Z"
   },
   {
    "duration": 42,
    "start_time": "2022-01-16T12:54:19.485Z"
   },
   {
    "duration": 11,
    "start_time": "2022-01-16T13:00:34.309Z"
   },
   {
    "duration": 352,
    "start_time": "2022-01-16T13:10:04.784Z"
   },
   {
    "duration": 63,
    "start_time": "2022-01-16T13:11:47.488Z"
   },
   {
    "duration": 572,
    "start_time": "2022-01-16T13:11:52.951Z"
   },
   {
    "duration": 12,
    "start_time": "2022-01-16T13:13:02.249Z"
   },
   {
    "duration": 881,
    "start_time": "2022-01-16T13:13:38.309Z"
   },
   {
    "duration": 94,
    "start_time": "2022-01-16T13:13:39.193Z"
   },
   {
    "duration": 24,
    "start_time": "2022-01-16T13:13:39.293Z"
   },
   {
    "duration": 51,
    "start_time": "2022-01-16T13:13:39.320Z"
   },
   {
    "duration": 7,
    "start_time": "2022-01-16T13:13:39.374Z"
   },
   {
    "duration": 42,
    "start_time": "2022-01-16T13:13:39.384Z"
   },
   {
    "duration": 34,
    "start_time": "2022-01-16T13:13:39.430Z"
   },
   {
    "duration": 15,
    "start_time": "2022-01-16T13:13:39.467Z"
   },
   {
    "duration": 37,
    "start_time": "2022-01-16T13:13:39.484Z"
   },
   {
    "duration": 6,
    "start_time": "2022-01-16T13:13:39.523Z"
   },
   {
    "duration": 9,
    "start_time": "2022-01-16T13:13:39.531Z"
   },
   {
    "duration": 19,
    "start_time": "2022-01-16T13:13:39.542Z"
   },
   {
    "duration": 69,
    "start_time": "2022-01-16T13:13:39.563Z"
   },
   {
    "duration": 22,
    "start_time": "2022-01-16T13:13:39.634Z"
   },
   {
    "duration": 59,
    "start_time": "2022-01-16T13:13:39.658Z"
   },
   {
    "duration": 42,
    "start_time": "2022-01-16T13:13:39.720Z"
   },
   {
    "duration": 8,
    "start_time": "2022-01-16T13:13:39.764Z"
   },
   {
    "duration": 42,
    "start_time": "2022-01-16T13:13:39.774Z"
   },
   {
    "duration": 20,
    "start_time": "2022-01-16T13:13:39.819Z"
   },
   {
    "duration": 12,
    "start_time": "2022-01-16T13:13:39.841Z"
   },
   {
    "duration": 8,
    "start_time": "2022-01-16T13:13:39.856Z"
   },
   {
    "duration": 50,
    "start_time": "2022-01-16T13:13:39.870Z"
   },
   {
    "duration": 12,
    "start_time": "2022-01-16T13:13:39.923Z"
   },
   {
    "duration": 6,
    "start_time": "2022-01-16T13:13:39.937Z"
   },
   {
    "duration": 10,
    "start_time": "2022-01-16T13:13:39.946Z"
   },
   {
    "duration": 12,
    "start_time": "2022-01-16T13:13:39.959Z"
   },
   {
    "duration": 13,
    "start_time": "2022-01-16T13:13:40.018Z"
   },
   {
    "duration": 9,
    "start_time": "2022-01-16T13:13:40.034Z"
   },
   {
    "duration": 16,
    "start_time": "2022-01-16T13:13:40.045Z"
   },
   {
    "duration": 7,
    "start_time": "2022-01-16T13:13:40.064Z"
   },
   {
    "duration": 7,
    "start_time": "2022-01-16T13:13:40.117Z"
   },
   {
    "duration": 14,
    "start_time": "2022-01-16T13:13:40.126Z"
   },
   {
    "duration": 35,
    "start_time": "2022-01-16T13:13:40.142Z"
   },
   {
    "duration": 46,
    "start_time": "2022-01-16T13:13:40.180Z"
   },
   {
    "duration": 10,
    "start_time": "2022-01-16T13:13:40.228Z"
   },
   {
    "duration": 20,
    "start_time": "2022-01-16T13:13:40.240Z"
   },
   {
    "duration": 9,
    "start_time": "2022-01-16T13:13:40.263Z"
   },
   {
    "duration": 14,
    "start_time": "2022-01-16T13:13:40.274Z"
   },
   {
    "duration": 11,
    "start_time": "2022-01-16T13:13:40.318Z"
   },
   {
    "duration": 9,
    "start_time": "2022-01-16T13:13:40.332Z"
   },
   {
    "duration": 6,
    "start_time": "2022-01-16T13:13:40.344Z"
   },
   {
    "duration": 10,
    "start_time": "2022-01-16T13:13:40.352Z"
   },
   {
    "duration": 55,
    "start_time": "2022-01-16T13:13:40.364Z"
   },
   {
    "duration": 8,
    "start_time": "2022-01-16T13:13:40.421Z"
   },
   {
    "duration": 5,
    "start_time": "2022-01-16T13:13:40.431Z"
   },
   {
    "duration": 9,
    "start_time": "2022-01-16T13:13:40.438Z"
   },
   {
    "duration": 14,
    "start_time": "2022-01-16T13:13:40.449Z"
   },
   {
    "duration": 7,
    "start_time": "2022-01-16T13:13:40.465Z"
   },
   {
    "duration": 53,
    "start_time": "2022-01-16T13:13:40.474Z"
   },
   {
    "duration": 13,
    "start_time": "2022-01-16T13:13:40.529Z"
   },
   {
    "duration": 25,
    "start_time": "2022-01-16T13:13:40.544Z"
   },
   {
    "duration": 14,
    "start_time": "2022-01-16T13:13:40.571Z"
   },
   {
    "duration": 4,
    "start_time": "2022-01-16T13:13:40.618Z"
   },
   {
    "duration": 12,
    "start_time": "2022-01-16T13:13:40.624Z"
   },
   {
    "duration": 8,
    "start_time": "2022-01-16T13:13:40.638Z"
   },
   {
    "duration": 8,
    "start_time": "2022-01-16T13:13:40.648Z"
   },
   {
    "duration": 12,
    "start_time": "2022-01-16T13:13:40.658Z"
   },
   {
    "duration": 7,
    "start_time": "2022-01-16T13:13:40.717Z"
   },
   {
    "duration": 47,
    "start_time": "2022-01-16T13:13:40.726Z"
   },
   {
    "duration": 8,
    "start_time": "2022-01-16T13:13:40.775Z"
   },
   {
    "duration": 33,
    "start_time": "2022-01-16T13:13:40.785Z"
   },
   {
    "duration": 40,
    "start_time": "2022-01-16T13:13:40.821Z"
   },
   {
    "duration": 14,
    "start_time": "2022-01-16T13:13:40.863Z"
   },
   {
    "duration": 40,
    "start_time": "2022-01-16T13:13:40.879Z"
   },
   {
    "duration": 14,
    "start_time": "2022-01-16T13:13:40.921Z"
   },
   {
    "duration": 12,
    "start_time": "2022-01-16T13:13:40.938Z"
   },
   {
    "duration": 8,
    "start_time": "2022-01-16T13:13:40.962Z"
   },
   {
    "duration": 53,
    "start_time": "2022-01-16T13:13:40.974Z"
   },
   {
    "duration": 8,
    "start_time": "2022-01-16T13:13:41.029Z"
   },
   {
    "duration": 8,
    "start_time": "2022-01-16T13:13:41.040Z"
   },
   {
    "duration": 11,
    "start_time": "2022-01-16T13:13:41.051Z"
   },
   {
    "duration": 56,
    "start_time": "2022-01-16T13:13:41.065Z"
   },
   {
    "duration": 9,
    "start_time": "2022-01-16T13:13:41.123Z"
   },
   {
    "duration": 6,
    "start_time": "2022-01-16T13:13:41.135Z"
   },
   {
    "duration": 14,
    "start_time": "2022-01-16T13:13:41.143Z"
   },
   {
    "duration": 10,
    "start_time": "2022-01-16T13:13:41.159Z"
   },
   {
    "duration": 9,
    "start_time": "2022-01-16T13:13:41.216Z"
   },
   {
    "duration": 14,
    "start_time": "2022-01-16T13:13:41.227Z"
   },
   {
    "duration": 12,
    "start_time": "2022-01-16T13:13:41.243Z"
   },
   {
    "duration": 81,
    "start_time": "2022-01-16T13:13:41.257Z"
   },
   {
    "duration": 10,
    "start_time": "2022-01-16T13:13:41.341Z"
   },
   {
    "duration": 13,
    "start_time": "2022-01-16T13:13:41.353Z"
   },
   {
    "duration": 9,
    "start_time": "2022-01-16T13:13:41.369Z"
   },
   {
    "duration": 6,
    "start_time": "2022-01-16T13:13:41.416Z"
   },
   {
    "duration": 13,
    "start_time": "2022-01-16T13:13:41.425Z"
   },
   {
    "duration": 9,
    "start_time": "2022-01-16T13:13:41.440Z"
   },
   {
    "duration": 72,
    "start_time": "2022-01-16T13:13:41.452Z"
   },
   {
    "duration": 4,
    "start_time": "2022-01-16T13:13:41.527Z"
   },
   {
    "duration": 11,
    "start_time": "2022-01-16T13:13:41.533Z"
   },
   {
    "duration": 6,
    "start_time": "2022-01-16T13:13:41.547Z"
   },
   {
    "duration": 20,
    "start_time": "2022-01-16T13:13:41.556Z"
   },
   {
    "duration": 51,
    "start_time": "2022-01-16T13:13:41.578Z"
   },
   {
    "duration": 197,
    "start_time": "2022-01-16T13:13:41.631Z"
   },
   {
    "duration": 7,
    "start_time": "2022-01-16T13:13:41.831Z"
   },
   {
    "duration": 35,
    "start_time": "2022-01-16T13:13:41.840Z"
   },
   {
    "duration": 6,
    "start_time": "2022-01-16T13:13:41.878Z"
   },
   {
    "duration": 43,
    "start_time": "2022-01-16T13:13:41.886Z"
   },
   {
    "duration": 11,
    "start_time": "2022-01-16T13:13:41.931Z"
   },
   {
    "duration": 5,
    "start_time": "2022-01-16T13:13:41.944Z"
   },
   {
    "duration": 809,
    "start_time": "2022-01-16T13:13:41.951Z"
   },
   {
    "duration": 8,
    "start_time": "2022-01-16T13:13:42.763Z"
   },
   {
    "duration": 7,
    "start_time": "2022-01-16T13:13:42.773Z"
   },
   {
    "duration": 36,
    "start_time": "2022-01-16T13:13:42.782Z"
   },
   {
    "duration": 10,
    "start_time": "2022-01-16T13:13:42.821Z"
   },
   {
    "duration": 20,
    "start_time": "2022-01-16T13:13:42.834Z"
   },
   {
    "duration": 29,
    "start_time": "2022-01-16T13:13:42.857Z"
   },
   {
    "duration": 55,
    "start_time": "2022-01-16T13:13:42.889Z"
   },
   {
    "duration": 10,
    "start_time": "2022-01-16T13:13:42.947Z"
   },
   {
    "duration": 596,
    "start_time": "2022-01-16T13:13:42.960Z"
   },
   {
    "duration": 12,
    "start_time": "2022-01-16T13:13:43.558Z"
   },
   {
    "duration": 2891,
    "start_time": "2022-01-16T13:13:43.572Z"
   },
   {
    "duration": 12,
    "start_time": "2022-01-16T13:13:46.466Z"
   },
   {
    "duration": 1805,
    "start_time": "2022-01-16T13:13:46.480Z"
   },
   {
    "duration": 12,
    "start_time": "2022-01-16T13:13:48.288Z"
   },
   {
    "duration": 685,
    "start_time": "2022-01-16T13:13:48.317Z"
   },
   {
    "duration": 20,
    "start_time": "2022-01-16T13:13:49.005Z"
   },
   {
    "duration": 2678,
    "start_time": "2022-01-16T13:13:49.027Z"
   },
   {
    "duration": 17,
    "start_time": "2022-01-16T13:13:51.708Z"
   },
   {
    "duration": 650,
    "start_time": "2022-01-16T13:13:51.728Z"
   },
   {
    "duration": 12,
    "start_time": "2022-01-16T13:13:52.380Z"
   },
   {
    "duration": 5908,
    "start_time": "2022-01-16T13:13:52.395Z"
   },
   {
    "duration": 221,
    "start_time": "2022-01-16T13:13:58.305Z"
   },
   {
    "duration": 11,
    "start_time": "2022-01-16T13:13:58.529Z"
   },
   {
    "duration": 8,
    "start_time": "2022-01-16T13:13:58.542Z"
   },
   {
    "duration": 265,
    "start_time": "2022-01-16T13:13:58.553Z"
   },
   {
    "duration": 9,
    "start_time": "2022-01-16T13:13:58.821Z"
   },
   {
    "duration": 8,
    "start_time": "2022-01-16T13:13:58.832Z"
   },
   {
    "duration": 8,
    "start_time": "2022-01-16T13:13:58.842Z"
   },
   {
    "duration": 8,
    "start_time": "2022-01-16T13:13:58.852Z"
   },
   {
    "duration": 9,
    "start_time": "2022-01-16T13:13:58.918Z"
   },
   {
    "duration": 9,
    "start_time": "2022-01-16T13:13:58.929Z"
   },
   {
    "duration": 8,
    "start_time": "2022-01-16T13:13:58.941Z"
   },
   {
    "duration": 9,
    "start_time": "2022-01-16T13:13:58.952Z"
   },
   {
    "duration": 62,
    "start_time": "2022-01-16T13:13:58.963Z"
   },
   {
    "duration": 9,
    "start_time": "2022-01-16T13:13:59.028Z"
   },
   {
    "duration": 13,
    "start_time": "2022-01-16T13:13:59.040Z"
   },
   {
    "duration": 5,
    "start_time": "2022-01-16T13:13:59.055Z"
   },
   {
    "duration": 7,
    "start_time": "2022-01-16T13:13:59.118Z"
   },
   {
    "duration": 7,
    "start_time": "2022-01-16T13:13:59.128Z"
   },
   {
    "duration": 10,
    "start_time": "2022-01-16T13:13:59.137Z"
   },
   {
    "duration": 7,
    "start_time": "2022-01-16T13:13:59.149Z"
   },
   {
    "duration": 62,
    "start_time": "2022-01-16T13:13:59.159Z"
   },
   {
    "duration": 7,
    "start_time": "2022-01-16T13:13:59.224Z"
   },
   {
    "duration": 7,
    "start_time": "2022-01-16T13:13:59.234Z"
   },
   {
    "duration": 13,
    "start_time": "2022-01-16T13:13:59.243Z"
   },
   {
    "duration": 66,
    "start_time": "2022-01-16T13:13:59.259Z"
   },
   {
    "duration": 414,
    "start_time": "2022-01-16T13:13:59.327Z"
   },
   {
    "duration": -288,
    "start_time": "2022-01-16T13:14:00.031Z"
   },
   {
    "duration": 44,
    "start_time": "2022-01-16T13:14:14.640Z"
   },
   {
    "duration": 13,
    "start_time": "2022-01-16T13:14:21.139Z"
   },
   {
    "duration": 305,
    "start_time": "2022-01-16T13:14:30.915Z"
   },
   {
    "duration": 196,
    "start_time": "2022-01-16T13:15:12.163Z"
   },
   {
    "duration": 28,
    "start_time": "2022-01-16T13:15:19.321Z"
   },
   {
    "duration": 27,
    "start_time": "2022-01-16T13:15:28.403Z"
   },
   {
    "duration": 28,
    "start_time": "2022-01-16T13:15:36.363Z"
   },
   {
    "duration": 29,
    "start_time": "2022-01-16T13:15:39.981Z"
   },
   {
    "duration": 28,
    "start_time": "2022-01-16T13:15:45.426Z"
   },
   {
    "duration": 27,
    "start_time": "2022-01-16T13:15:51.031Z"
   },
   {
    "duration": 41,
    "start_time": "2022-01-16T13:16:05.561Z"
   },
   {
    "duration": 39,
    "start_time": "2022-01-16T13:16:41.013Z"
   },
   {
    "duration": 45,
    "start_time": "2022-01-16T13:17:18.987Z"
   },
   {
    "duration": 307,
    "start_time": "2022-01-16T13:17:25.614Z"
   },
   {
    "duration": 49,
    "start_time": "2022-01-16T13:21:23.232Z"
   },
   {
    "duration": 271,
    "start_time": "2022-01-16T13:21:34.346Z"
   },
   {
    "duration": 12,
    "start_time": "2022-01-16T13:22:11.534Z"
   },
   {
    "duration": 44,
    "start_time": "2022-01-16T13:32:15.785Z"
   },
   {
    "duration": 12,
    "start_time": "2022-01-16T13:32:16.604Z"
   },
   {
    "duration": 8050,
    "start_time": "2022-01-16T13:32:59.212Z"
   },
   {
    "duration": 8972,
    "start_time": "2022-01-16T13:33:20.222Z"
   },
   {
    "duration": 32,
    "start_time": "2022-01-16T13:34:09.647Z"
   },
   {
    "duration": 336,
    "start_time": "2022-01-16T13:38:10.357Z"
   },
   {
    "duration": 7,
    "start_time": "2022-01-16T13:38:15.402Z"
   },
   {
    "duration": 319,
    "start_time": "2022-01-16T13:38:18.594Z"
   },
   {
    "duration": 287,
    "start_time": "2022-01-16T13:38:31.138Z"
   },
   {
    "duration": 420,
    "start_time": "2022-01-16T13:38:48.422Z"
   },
   {
    "duration": 399,
    "start_time": "2022-01-16T13:39:18.209Z"
   },
   {
    "duration": 386,
    "start_time": "2022-01-16T13:39:27.239Z"
   },
   {
    "duration": 409,
    "start_time": "2022-01-16T13:39:38.243Z"
   },
   {
    "duration": 371,
    "start_time": "2022-01-16T13:39:52.087Z"
   },
   {
    "duration": 399,
    "start_time": "2022-01-16T13:39:59.518Z"
   },
   {
    "duration": 381,
    "start_time": "2022-01-16T13:40:51.632Z"
   },
   {
    "duration": 626,
    "start_time": "2022-01-16T13:42:23.025Z"
   },
   {
    "duration": 385,
    "start_time": "2022-01-16T13:42:43.161Z"
   },
   {
    "duration": 391,
    "start_time": "2022-01-16T13:43:06.290Z"
   },
   {
    "duration": 384,
    "start_time": "2022-01-16T13:43:27.394Z"
   },
   {
    "duration": 418,
    "start_time": "2022-01-16T13:44:27.035Z"
   },
   {
    "duration": 423,
    "start_time": "2022-01-16T13:44:37.611Z"
   },
   {
    "duration": 49,
    "start_time": "2022-01-16T13:46:12.415Z"
   },
   {
    "duration": 304,
    "start_time": "2022-01-16T13:46:23.702Z"
   },
   {
    "duration": 79,
    "start_time": "2022-01-16T13:47:13.487Z"
   },
   {
    "duration": 11,
    "start_time": "2022-01-16T14:28:56.792Z"
   },
   {
    "duration": 11,
    "start_time": "2022-01-16T14:29:06.860Z"
   },
   {
    "duration": 11,
    "start_time": "2022-01-16T14:29:32.168Z"
   },
   {
    "duration": 16,
    "start_time": "2022-01-16T14:29:46.127Z"
   },
   {
    "duration": 11,
    "start_time": "2022-01-16T14:30:16.742Z"
   },
   {
    "duration": 132,
    "start_time": "2022-01-16T14:35:05.962Z"
   },
   {
    "duration": 131,
    "start_time": "2022-01-16T14:36:32.441Z"
   },
   {
    "duration": 12,
    "start_time": "2022-01-16T14:36:34.531Z"
   },
   {
    "duration": 579,
    "start_time": "2022-01-16T14:37:23.148Z"
   },
   {
    "duration": 133,
    "start_time": "2022-01-16T14:37:29.166Z"
   },
   {
    "duration": 14,
    "start_time": "2022-01-16T14:37:32.715Z"
   },
   {
    "duration": 12,
    "start_time": "2022-01-16T14:38:42.557Z"
   },
   {
    "duration": 10,
    "start_time": "2022-01-16T14:38:53.663Z"
   },
   {
    "duration": 10,
    "start_time": "2022-01-16T14:39:00.629Z"
   },
   {
    "duration": 12,
    "start_time": "2022-01-16T14:39:36.350Z"
   },
   {
    "duration": 12,
    "start_time": "2022-01-16T14:39:47.788Z"
   },
   {
    "duration": 383,
    "start_time": "2022-01-16T14:39:57.388Z"
   },
   {
    "duration": 9432,
    "start_time": "2022-01-16T14:40:16.762Z"
   },
   {
    "duration": 22,
    "start_time": "2022-01-16T14:40:58.478Z"
   },
   {
    "duration": 329,
    "start_time": "2022-01-16T14:41:17.097Z"
   },
   {
    "duration": 10,
    "start_time": "2022-01-16T14:41:34.267Z"
   },
   {
    "duration": 14,
    "start_time": "2022-01-16T14:41:53.634Z"
   },
   {
    "duration": 11,
    "start_time": "2022-01-16T14:42:10.011Z"
   },
   {
    "duration": 10,
    "start_time": "2022-01-16T14:42:33.682Z"
   },
   {
    "duration": 5,
    "start_time": "2022-01-16T16:38:37.694Z"
   },
   {
    "duration": 90,
    "start_time": "2022-01-16T16:38:38.812Z"
   },
   {
    "duration": 19,
    "start_time": "2022-01-16T16:38:40.524Z"
   },
   {
    "duration": 38,
    "start_time": "2022-01-16T16:38:49.665Z"
   },
   {
    "duration": 61,
    "start_time": "2022-01-16T16:39:04.033Z"
   },
   {
    "duration": 36,
    "start_time": "2022-01-16T16:39:17.014Z"
   },
   {
    "duration": 36,
    "start_time": "2022-01-16T16:39:24.427Z"
   },
   {
    "duration": 818,
    "start_time": "2022-01-16T16:40:37.285Z"
   },
   {
    "duration": 97,
    "start_time": "2022-01-16T16:40:39.473Z"
   },
   {
    "duration": 18,
    "start_time": "2022-01-16T16:40:40.458Z"
   },
   {
    "duration": 46,
    "start_time": "2022-01-16T16:40:47.263Z"
   },
   {
    "duration": 34,
    "start_time": "2022-01-16T16:40:48.709Z"
   },
   {
    "duration": 7,
    "start_time": "2022-01-16T16:48:36.580Z"
   },
   {
    "duration": 13,
    "start_time": "2022-01-16T16:48:43.307Z"
   },
   {
    "duration": 33,
    "start_time": "2022-01-16T16:48:43.864Z"
   },
   {
    "duration": 26,
    "start_time": "2022-01-16T16:49:50.570Z"
   },
   {
    "duration": 14,
    "start_time": "2022-01-16T16:53:47.266Z"
   },
   {
    "duration": 14,
    "start_time": "2022-01-16T16:53:53.012Z"
   },
   {
    "duration": 13,
    "start_time": "2022-01-16T16:54:02.110Z"
   },
   {
    "duration": 14,
    "start_time": "2022-01-16T16:54:40.342Z"
   },
   {
    "duration": 15,
    "start_time": "2022-01-16T16:55:23.449Z"
   },
   {
    "duration": 21,
    "start_time": "2022-01-16T17:03:34.630Z"
   },
   {
    "duration": 22,
    "start_time": "2022-01-16T17:03:59.481Z"
   },
   {
    "duration": 9,
    "start_time": "2022-01-16T17:04:02.866Z"
   },
   {
    "duration": 121,
    "start_time": "2022-01-16T17:04:31.384Z"
   },
   {
    "duration": 102,
    "start_time": "2022-01-16T17:04:40.955Z"
   },
   {
    "duration": 56,
    "start_time": "2022-01-16T17:04:51.085Z"
   },
   {
    "duration": 18,
    "start_time": "2022-01-16T17:14:11.524Z"
   },
   {
    "duration": 25,
    "start_time": "2022-01-16T17:14:16.150Z"
   },
   {
    "duration": 7,
    "start_time": "2022-01-16T17:36:29.381Z"
   },
   {
    "duration": 14,
    "start_time": "2022-01-16T17:36:31.207Z"
   },
   {
    "duration": 32,
    "start_time": "2022-01-16T17:36:52.733Z"
   },
   {
    "duration": 19,
    "start_time": "2022-01-16T17:37:54.509Z"
   },
   {
    "duration": 11,
    "start_time": "2022-01-16T17:38:25.200Z"
   },
   {
    "duration": 21,
    "start_time": "2022-01-16T17:38:26.258Z"
   },
   {
    "duration": 22,
    "start_time": "2022-01-16T17:38:28.898Z"
   },
   {
    "duration": 13,
    "start_time": "2022-01-16T17:38:41.641Z"
   },
   {
    "duration": 10,
    "start_time": "2022-01-16T17:38:43.973Z"
   },
   {
    "duration": 12,
    "start_time": "2022-01-16T17:38:47.959Z"
   },
   {
    "duration": 12,
    "start_time": "2022-01-16T17:39:36.491Z"
   },
   {
    "duration": 7,
    "start_time": "2022-01-16T17:39:37.056Z"
   },
   {
    "duration": 7,
    "start_time": "2022-01-16T17:39:42.054Z"
   },
   {
    "duration": 13,
    "start_time": "2022-01-16T17:39:42.891Z"
   },
   {
    "duration": 14,
    "start_time": "2022-01-16T17:39:57.216Z"
   },
   {
    "duration": 8,
    "start_time": "2022-01-16T17:39:59.006Z"
   },
   {
    "duration": 12,
    "start_time": "2022-01-16T17:40:02.580Z"
   },
   {
    "duration": 7,
    "start_time": "2022-01-16T17:40:03.016Z"
   },
   {
    "duration": 7,
    "start_time": "2022-01-16T17:40:07.252Z"
   },
   {
    "duration": 13,
    "start_time": "2022-01-16T17:40:07.894Z"
   },
   {
    "duration": 49,
    "start_time": "2022-01-16T17:40:48.410Z"
   },
   {
    "duration": 11,
    "start_time": "2022-01-16T17:40:56.805Z"
   },
   {
    "duration": 9,
    "start_time": "2022-01-16T17:40:59.978Z"
   },
   {
    "duration": 9,
    "start_time": "2022-01-16T17:41:00.982Z"
   },
   {
    "duration": 9,
    "start_time": "2022-01-16T17:51:36.985Z"
   },
   {
    "duration": 16,
    "start_time": "2022-01-16T17:51:37.687Z"
   },
   {
    "duration": 14,
    "start_time": "2022-01-16T17:51:40.845Z"
   },
   {
    "duration": 9,
    "start_time": "2022-01-16T17:51:46.825Z"
   },
   {
    "duration": 5,
    "start_time": "2022-01-16T17:52:32.203Z"
   },
   {
    "duration": 7,
    "start_time": "2022-01-16T17:52:32.977Z"
   },
   {
    "duration": 14,
    "start_time": "2022-01-16T17:52:37.285Z"
   },
   {
    "duration": 9,
    "start_time": "2022-01-16T17:52:38.694Z"
   },
   {
    "duration": 5,
    "start_time": "2022-01-16T17:52:41.716Z"
   },
   {
    "duration": 7,
    "start_time": "2022-01-16T17:52:43.292Z"
   },
   {
    "duration": 10,
    "start_time": "2022-01-16T17:52:47.041Z"
   },
   {
    "duration": 7,
    "start_time": "2022-01-16T17:52:50.876Z"
   },
   {
    "duration": 14,
    "start_time": "2022-01-16T17:52:55.458Z"
   },
   {
    "duration": 12,
    "start_time": "2022-01-16T17:52:57.126Z"
   },
   {
    "duration": 30,
    "start_time": "2022-01-16T17:53:07.026Z"
   },
   {
    "duration": 13,
    "start_time": "2022-01-16T17:53:08.832Z"
   },
   {
    "duration": 5,
    "start_time": "2022-01-16T17:53:11.296Z"
   },
   {
    "duration": 11,
    "start_time": "2022-01-16T17:53:25.800Z"
   },
   {
    "duration": 10,
    "start_time": "2022-01-16T17:53:26.486Z"
   },
   {
    "duration": 9,
    "start_time": "2022-01-16T17:54:28.785Z"
   },
   {
    "duration": 15,
    "start_time": "2022-01-16T17:54:30.264Z"
   },
   {
    "duration": 391,
    "start_time": "2022-01-16T18:03:18.944Z"
   },
   {
    "duration": 43,
    "start_time": "2022-01-16T18:03:49.351Z"
   },
   {
    "duration": 330,
    "start_time": "2022-01-16T18:05:14.844Z"
   },
   {
    "duration": 377,
    "start_time": "2022-01-16T18:05:27.493Z"
   },
   {
    "duration": 528,
    "start_time": "2022-01-16T18:07:05.007Z"
   },
   {
    "duration": 297,
    "start_time": "2022-01-16T18:07:21.041Z"
   },
   {
    "duration": 381,
    "start_time": "2022-01-16T18:07:25.899Z"
   },
   {
    "duration": 39,
    "start_time": "2022-01-16T18:08:41.356Z"
   },
   {
    "duration": 44,
    "start_time": "2022-01-16T18:09:29.957Z"
   },
   {
    "duration": 11,
    "start_time": "2022-01-16T18:15:17.446Z"
   },
   {
    "duration": 13,
    "start_time": "2022-01-16T18:15:40.266Z"
   },
   {
    "duration": 38,
    "start_time": "2022-01-16T18:16:36.412Z"
   },
   {
    "duration": 42,
    "start_time": "2022-01-16T18:17:25.926Z"
   },
   {
    "duration": 12,
    "start_time": "2022-01-16T18:17:35.831Z"
   },
   {
    "duration": 9,
    "start_time": "2022-01-16T18:17:49.395Z"
   },
   {
    "duration": 9,
    "start_time": "2022-01-16T18:18:03.309Z"
   },
   {
    "duration": 12,
    "start_time": "2022-01-16T18:26:01.305Z"
   },
   {
    "duration": 10,
    "start_time": "2022-01-16T18:26:06.820Z"
   },
   {
    "duration": 7,
    "start_time": "2022-01-16T18:27:23.389Z"
   },
   {
    "duration": 39,
    "start_time": "2022-01-16T18:27:32.001Z"
   },
   {
    "duration": 8,
    "start_time": "2022-01-16T18:29:24.355Z"
   },
   {
    "duration": 368,
    "start_time": "2022-01-16T18:30:18.017Z"
   },
   {
    "duration": 358,
    "start_time": "2022-01-16T18:30:40.463Z"
   },
   {
    "duration": 357,
    "start_time": "2022-01-16T18:30:51.648Z"
   },
   {
    "duration": 411,
    "start_time": "2022-01-16T18:31:08.324Z"
   },
   {
    "duration": 382,
    "start_time": "2022-01-16T18:31:37.847Z"
   },
   {
    "duration": 10,
    "start_time": "2022-01-16T18:32:36.356Z"
   },
   {
    "duration": 8,
    "start_time": "2022-01-16T18:34:20.997Z"
   },
   {
    "duration": 12,
    "start_time": "2022-01-16T18:34:38.572Z"
   },
   {
    "duration": 12,
    "start_time": "2022-01-16T18:34:51.432Z"
   },
   {
    "duration": 9,
    "start_time": "2022-01-16T18:34:52.442Z"
   },
   {
    "duration": 8,
    "start_time": "2022-01-16T18:34:55.182Z"
   },
   {
    "duration": 12,
    "start_time": "2022-01-16T18:35:19.116Z"
   },
   {
    "duration": 8,
    "start_time": "2022-01-16T18:35:27.865Z"
   },
   {
    "duration": 10,
    "start_time": "2022-01-16T18:36:45.043Z"
   },
   {
    "duration": 33,
    "start_time": "2022-01-16T18:36:49.965Z"
   },
   {
    "duration": 5,
    "start_time": "2022-01-16T18:40:13.278Z"
   },
   {
    "duration": 8,
    "start_time": "2022-01-16T18:40:27.821Z"
   },
   {
    "duration": 12,
    "start_time": "2022-01-16T18:42:12.623Z"
   },
   {
    "duration": 9,
    "start_time": "2022-01-16T18:42:18.286Z"
   },
   {
    "duration": 7372,
    "start_time": "2022-01-16T18:43:05.235Z"
   },
   {
    "duration": 92,
    "start_time": "2022-01-16T18:44:18.937Z"
   },
   {
    "duration": 373,
    "start_time": "2022-01-16T18:45:29.631Z"
   },
   {
    "duration": 15,
    "start_time": "2022-01-16T18:45:45.769Z"
   },
   {
    "duration": 13,
    "start_time": "2022-01-16T18:45:53.228Z"
   },
   {
    "duration": 18,
    "start_time": "2022-01-16T18:46:38.773Z"
   },
   {
    "duration": 86,
    "start_time": "2022-01-16T18:47:00.121Z"
   },
   {
    "duration": 37,
    "start_time": "2022-01-16T18:47:14.150Z"
   },
   {
    "duration": 16,
    "start_time": "2022-01-16T18:47:32.054Z"
   },
   {
    "duration": 12,
    "start_time": "2022-01-16T19:11:54.652Z"
   },
   {
    "duration": 9,
    "start_time": "2022-01-16T19:12:00.486Z"
   },
   {
    "duration": 11,
    "start_time": "2022-01-16T19:12:07.207Z"
   },
   {
    "duration": 11,
    "start_time": "2022-01-16T19:12:08.352Z"
   },
   {
    "duration": 5,
    "start_time": "2022-01-16T19:12:32.769Z"
   },
   {
    "duration": 13,
    "start_time": "2022-01-16T19:12:42.066Z"
   },
   {
    "duration": 9,
    "start_time": "2022-01-16T19:12:42.946Z"
   },
   {
    "duration": 7,
    "start_time": "2022-01-16T19:12:52.872Z"
   },
   {
    "duration": 13,
    "start_time": "2022-01-16T19:12:55.137Z"
   },
   {
    "duration": 10,
    "start_time": "2022-01-16T19:13:01.821Z"
   },
   {
    "duration": 7,
    "start_time": "2022-01-16T19:13:49.093Z"
   },
   {
    "duration": 9,
    "start_time": "2022-01-16T19:13:53.807Z"
   },
   {
    "duration": 8,
    "start_time": "2022-01-16T19:13:59.094Z"
   },
   {
    "duration": 17,
    "start_time": "2022-01-16T19:14:09.821Z"
   },
   {
    "duration": 13,
    "start_time": "2022-01-16T19:14:11.172Z"
   },
   {
    "duration": 178,
    "start_time": "2022-01-16T19:14:36.656Z"
   },
   {
    "duration": 8,
    "start_time": "2022-01-16T19:14:40.986Z"
   },
   {
    "duration": 33,
    "start_time": "2022-01-16T19:14:44.252Z"
   },
   {
    "duration": 5,
    "start_time": "2022-01-16T19:14:56.105Z"
   },
   {
    "duration": 18,
    "start_time": "2022-01-16T19:14:59.000Z"
   },
   {
    "duration": 10,
    "start_time": "2022-01-16T19:15:16.608Z"
   },
   {
    "duration": 5,
    "start_time": "2022-01-16T19:16:17.868Z"
   },
   {
    "duration": 832,
    "start_time": "2022-01-16T19:16:18.552Z"
   },
   {
    "duration": 9,
    "start_time": "2022-01-16T19:16:19.561Z"
   },
   {
    "duration": 9,
    "start_time": "2022-01-16T19:16:28.633Z"
   },
   {
    "duration": 21,
    "start_time": "2022-01-16T19:16:30.094Z"
   },
   {
    "duration": 12,
    "start_time": "2022-01-16T19:16:31.354Z"
   },
   {
    "duration": 16,
    "start_time": "2022-01-16T19:16:32.309Z"
   },
   {
    "duration": 36,
    "start_time": "2022-01-16T19:16:35.047Z"
   },
   {
    "duration": 5,
    "start_time": "2022-01-16T19:18:20.948Z"
   },
   {
    "duration": 31,
    "start_time": "2022-01-16T19:18:39.804Z"
   },
   {
    "duration": 33,
    "start_time": "2022-01-16T19:18:55.838Z"
   },
   {
    "duration": 708,
    "start_time": "2022-01-16T19:19:47.164Z"
   },
   {
    "duration": 91,
    "start_time": "2022-01-16T19:19:47.875Z"
   },
   {
    "duration": 19,
    "start_time": "2022-01-16T19:19:47.969Z"
   },
   {
    "duration": 60,
    "start_time": "2022-01-16T19:19:47.991Z"
   },
   {
    "duration": 34,
    "start_time": "2022-01-16T19:19:48.053Z"
   },
   {
    "duration": 7,
    "start_time": "2022-01-16T19:19:48.117Z"
   },
   {
    "duration": 9,
    "start_time": "2022-01-16T19:19:48.127Z"
   },
   {
    "duration": 32,
    "start_time": "2022-01-16T19:19:48.140Z"
   },
   {
    "duration": 51,
    "start_time": "2022-01-16T19:19:48.175Z"
   },
   {
    "duration": 13,
    "start_time": "2022-01-16T19:19:48.229Z"
   },
   {
    "duration": 8,
    "start_time": "2022-01-16T19:19:48.245Z"
   },
   {
    "duration": 61,
    "start_time": "2022-01-16T19:19:48.256Z"
   },
   {
    "duration": 19,
    "start_time": "2022-01-16T19:19:48.319Z"
   },
   {
    "duration": 7,
    "start_time": "2022-01-16T19:19:48.340Z"
   },
   {
    "duration": 12,
    "start_time": "2022-01-16T19:19:48.349Z"
   },
   {
    "duration": 69,
    "start_time": "2022-01-16T19:19:48.363Z"
   },
   {
    "duration": 17,
    "start_time": "2022-01-16T19:19:48.434Z"
   },
   {
    "duration": 35,
    "start_time": "2022-01-16T19:19:51.227Z"
   },
   {
    "duration": 8,
    "start_time": "2022-01-16T19:20:27.036Z"
   },
   {
    "duration": 13,
    "start_time": "2022-01-16T19:20:27.609Z"
   },
   {
    "duration": 20,
    "start_time": "2022-01-16T19:20:28.626Z"
   },
   {
    "duration": 11,
    "start_time": "2022-01-16T19:20:29.016Z"
   },
   {
    "duration": 8,
    "start_time": "2022-01-16T19:20:29.223Z"
   },
   {
    "duration": 11,
    "start_time": "2022-01-16T19:20:29.734Z"
   },
   {
    "duration": 11,
    "start_time": "2022-01-16T19:20:30.215Z"
   },
   {
    "duration": 8,
    "start_time": "2022-01-16T19:20:30.412Z"
   },
   {
    "duration": 8,
    "start_time": "2022-01-16T19:20:31.228Z"
   },
   {
    "duration": 11,
    "start_time": "2022-01-16T19:20:31.470Z"
   },
   {
    "duration": 11,
    "start_time": "2022-01-16T19:20:32.265Z"
   },
   {
    "duration": 8,
    "start_time": "2022-01-16T19:20:32.458Z"
   },
   {
    "duration": 11,
    "start_time": "2022-01-16T19:20:33.086Z"
   },
   {
    "duration": 8,
    "start_time": "2022-01-16T19:20:33.310Z"
   },
   {
    "duration": 8,
    "start_time": "2022-01-16T19:20:36.168Z"
   },
   {
    "duration": 12,
    "start_time": "2022-01-16T19:20:36.330Z"
   },
   {
    "duration": 35,
    "start_time": "2022-01-16T19:20:36.663Z"
   },
   {
    "duration": 9,
    "start_time": "2022-01-16T19:20:36.968Z"
   },
   {
    "duration": 7,
    "start_time": "2022-01-16T19:20:37.132Z"
   },
   {
    "duration": 7,
    "start_time": "2022-01-16T19:20:37.462Z"
   },
   {
    "duration": 11,
    "start_time": "2022-01-16T19:20:37.799Z"
   },
   {
    "duration": 14,
    "start_time": "2022-01-16T19:20:37.968Z"
   },
   {
    "duration": 12,
    "start_time": "2022-01-16T19:20:38.486Z"
   },
   {
    "duration": 9,
    "start_time": "2022-01-16T19:20:38.658Z"
   },
   {
    "duration": 4,
    "start_time": "2022-01-16T19:20:39.025Z"
   },
   {
    "duration": 8,
    "start_time": "2022-01-16T19:20:39.206Z"
   },
   {
    "duration": 13,
    "start_time": "2022-01-16T19:20:39.600Z"
   },
   {
    "duration": 9,
    "start_time": "2022-01-16T19:20:39.799Z"
   },
   {
    "duration": 5,
    "start_time": "2022-01-16T19:20:40.248Z"
   },
   {
    "duration": 7,
    "start_time": "2022-01-16T19:20:40.524Z"
   },
   {
    "duration": 11,
    "start_time": "2022-01-16T19:20:41.490Z"
   },
   {
    "duration": 7,
    "start_time": "2022-01-16T19:20:41.935Z"
   },
   {
    "duration": 12,
    "start_time": "2022-01-16T19:20:43.568Z"
   },
   {
    "duration": 12,
    "start_time": "2022-01-16T19:20:43.737Z"
   },
   {
    "duration": 25,
    "start_time": "2022-01-16T19:20:44.136Z"
   },
   {
    "duration": 11,
    "start_time": "2022-01-16T19:20:44.552Z"
   },
   {
    "duration": 5,
    "start_time": "2022-01-16T19:20:45.008Z"
   },
   {
    "duration": 10,
    "start_time": "2022-01-16T19:20:45.510Z"
   },
   {
    "duration": 8,
    "start_time": "2022-01-16T19:20:45.770Z"
   },
   {
    "duration": 8,
    "start_time": "2022-01-16T19:20:46.366Z"
   },
   {
    "duration": 13,
    "start_time": "2022-01-16T19:20:46.542Z"
   },
   {
    "duration": 468,
    "start_time": "2022-01-16T19:20:46.884Z"
   },
   {
    "duration": 41,
    "start_time": "2022-01-16T19:20:47.488Z"
   },
   {
    "duration": 41,
    "start_time": "2022-01-16T19:20:47.712Z"
   },
   {
    "duration": 11,
    "start_time": "2022-01-16T19:20:48.220Z"
   },
   {
    "duration": 12,
    "start_time": "2022-01-16T19:20:48.704Z"
   },
   {
    "duration": 11,
    "start_time": "2022-01-16T19:20:49.268Z"
   },
   {
    "duration": 7,
    "start_time": "2022-01-16T19:20:49.638Z"
   },
   {
    "duration": 39,
    "start_time": "2022-01-16T19:20:49.842Z"
   },
   {
    "duration": 8,
    "start_time": "2022-01-16T19:20:50.214Z"
   },
   {
    "duration": 379,
    "start_time": "2022-01-16T19:20:50.683Z"
   },
   {
    "duration": 10,
    "start_time": "2022-01-16T19:20:51.325Z"
   },
   {
    "duration": 8,
    "start_time": "2022-01-16T19:20:52.077Z"
   },
   {
    "duration": 13,
    "start_time": "2022-01-16T19:20:52.328Z"
   },
   {
    "duration": 12,
    "start_time": "2022-01-16T19:20:53.193Z"
   },
   {
    "duration": 9,
    "start_time": "2022-01-16T19:20:53.578Z"
   },
   {
    "duration": 8,
    "start_time": "2022-01-16T19:20:54.396Z"
   },
   {
    "duration": 13,
    "start_time": "2022-01-16T19:20:56.228Z"
   },
   {
    "duration": 9,
    "start_time": "2022-01-16T19:20:56.537Z"
   },
   {
    "duration": 34,
    "start_time": "2022-01-16T19:20:56.798Z"
   },
   {
    "duration": 8,
    "start_time": "2022-01-16T19:20:57.206Z"
   },
   {
    "duration": 14,
    "start_time": "2022-01-16T19:20:57.946Z"
   },
   {
    "duration": 8,
    "start_time": "2022-01-16T19:20:58.210Z"
   },
   {
    "duration": 13,
    "start_time": "2022-01-16T19:20:58.710Z"
   },
   {
    "duration": 12,
    "start_time": "2022-01-16T19:20:59.950Z"
   },
   {
    "duration": 8,
    "start_time": "2022-01-16T19:21:00.320Z"
   },
   {
    "duration": 8,
    "start_time": "2022-01-16T19:21:01.371Z"
   },
   {
    "duration": 13,
    "start_time": "2022-01-16T19:21:02.790Z"
   },
   {
    "duration": 10,
    "start_time": "2022-01-16T19:21:02.962Z"
   },
   {
    "duration": 5,
    "start_time": "2022-01-16T19:21:03.312Z"
   },
   {
    "duration": 11,
    "start_time": "2022-01-16T19:21:03.650Z"
   },
   {
    "duration": 8,
    "start_time": "2022-01-16T19:21:03.814Z"
   },
   {
    "duration": 6,
    "start_time": "2022-01-16T19:21:04.156Z"
   },
   {
    "duration": 12,
    "start_time": "2022-01-16T19:21:04.570Z"
   },
   {
    "duration": 10,
    "start_time": "2022-01-16T19:21:04.798Z"
   },
   {
    "duration": 6,
    "start_time": "2022-01-16T19:21:05.234Z"
   },
   {
    "duration": 9,
    "start_time": "2022-01-16T19:21:05.630Z"
   },
   {
    "duration": 7,
    "start_time": "2022-01-16T19:21:05.827Z"
   },
   {
    "duration": 17,
    "start_time": "2022-01-16T19:21:07.010Z"
   },
   {
    "duration": 15,
    "start_time": "2022-01-16T19:21:07.644Z"
   },
   {
    "duration": 180,
    "start_time": "2022-01-16T19:21:08.166Z"
   },
   {
    "duration": 8,
    "start_time": "2022-01-16T19:21:08.730Z"
   },
   {
    "duration": 33,
    "start_time": "2022-01-16T19:21:10.154Z"
   },
   {
    "duration": 6,
    "start_time": "2022-01-16T19:21:32.804Z"
   },
   {
    "duration": 9,
    "start_time": "2022-01-16T19:21:49.542Z"
   },
   {
    "duration": 17,
    "start_time": "2022-01-16T19:21:51.620Z"
   },
   {
    "duration": 5,
    "start_time": "2022-01-16T19:21:54.402Z"
   },
   {
    "duration": 793,
    "start_time": "2022-01-16T19:21:54.991Z"
   },
   {
    "duration": 8,
    "start_time": "2022-01-16T19:21:55.787Z"
   },
   {
    "duration": 7,
    "start_time": "2022-01-16T19:21:59.188Z"
   },
   {
    "duration": 12,
    "start_time": "2022-01-16T19:22:00.760Z"
   },
   {
    "duration": 8,
    "start_time": "2022-01-16T19:22:01.274Z"
   },
   {
    "duration": 9,
    "start_time": "2022-01-16T19:22:01.806Z"
   },
   {
    "duration": 31,
    "start_time": "2022-01-16T19:22:03.142Z"
   },
   {
    "duration": 42,
    "start_time": "2022-01-16T19:22:41.147Z"
   },
   {
    "duration": 10,
    "start_time": "2022-01-16T19:23:36.549Z"
   },
   {
    "duration": 441,
    "start_time": "2022-01-16T19:23:38.799Z"
   },
   {
    "duration": 420,
    "start_time": "2022-01-16T19:24:13.134Z"
   },
   {
    "duration": 409,
    "start_time": "2022-01-16T19:24:18.282Z"
   },
   {
    "duration": 623,
    "start_time": "2022-01-16T19:24:48.416Z"
   },
   {
    "duration": 378,
    "start_time": "2022-01-16T19:25:03.868Z"
   },
   {
    "duration": 482,
    "start_time": "2022-01-16T19:25:28.566Z"
   },
   {
    "duration": 426,
    "start_time": "2022-01-16T19:25:43.368Z"
   },
   {
    "duration": 434,
    "start_time": "2022-01-16T19:25:50.630Z"
   },
   {
    "duration": 13,
    "start_time": "2022-01-16T19:26:39.407Z"
   },
   {
    "duration": 2960,
    "start_time": "2022-01-16T19:26:40.749Z"
   },
   {
    "duration": 8204,
    "start_time": "2022-01-16T19:31:59.368Z"
   },
   {
    "duration": 369,
    "start_time": "2022-01-16T19:32:14.817Z"
   },
   {
    "duration": 9,
    "start_time": "2022-01-16T19:33:05.400Z"
   },
   {
    "duration": 8,
    "start_time": "2022-01-16T19:33:11.374Z"
   },
   {
    "duration": 8,
    "start_time": "2022-01-16T19:33:17.810Z"
   },
   {
    "duration": 3358,
    "start_time": "2022-01-16T19:33:27.859Z"
   },
   {
    "duration": 8,
    "start_time": "2022-01-16T19:34:06.773Z"
   },
   {
    "duration": 11,
    "start_time": "2022-01-16T19:34:15.845Z"
   },
   {
    "duration": 10,
    "start_time": "2022-01-16T19:34:22.697Z"
   },
   {
    "duration": 8,
    "start_time": "2022-01-16T19:34:27.256Z"
   },
   {
    "duration": 12,
    "start_time": "2022-01-16T19:35:22.872Z"
   },
   {
    "duration": 2566,
    "start_time": "2022-01-16T19:35:25.505Z"
   },
   {
    "duration": 550,
    "start_time": "2022-01-16T19:35:33.808Z"
   },
   {
    "duration": 592,
    "start_time": "2022-01-16T19:35:43.732Z"
   },
   {
    "duration": 719,
    "start_time": "2022-01-16T19:36:07.468Z"
   },
   {
    "duration": 1081,
    "start_time": "2022-01-16T19:36:18.701Z"
   },
   {
    "duration": 8,
    "start_time": "2022-01-16T19:36:59.545Z"
   },
   {
    "duration": 8,
    "start_time": "2022-01-16T19:37:09.981Z"
   },
   {
    "duration": 9,
    "start_time": "2022-01-16T19:37:15.045Z"
   },
   {
    "duration": 8,
    "start_time": "2022-01-16T19:37:25.567Z"
   },
   {
    "duration": 12,
    "start_time": "2022-01-16T19:37:54.686Z"
   },
   {
    "duration": 752,
    "start_time": "2022-01-16T19:37:56.953Z"
   },
   {
    "duration": 357,
    "start_time": "2022-01-16T19:38:14.362Z"
   },
   {
    "duration": 8,
    "start_time": "2022-01-16T19:38:28.946Z"
   },
   {
    "duration": 570,
    "start_time": "2022-01-16T19:38:48.158Z"
   },
   {
    "duration": 570,
    "start_time": "2022-01-16T19:38:58.363Z"
   },
   {
    "duration": 611,
    "start_time": "2022-01-16T19:39:16.332Z"
   },
   {
    "duration": 370,
    "start_time": "2022-01-16T19:39:26.394Z"
   },
   {
    "duration": 386,
    "start_time": "2022-01-16T19:39:54.914Z"
   },
   {
    "duration": 8,
    "start_time": "2022-01-16T19:40:05.156Z"
   },
   {
    "duration": 11,
    "start_time": "2022-01-16T19:40:36.728Z"
   },
   {
    "duration": 5075,
    "start_time": "2022-01-16T19:41:19.163Z"
   },
   {
    "duration": 5394,
    "start_time": "2022-01-16T19:42:22.687Z"
   },
   {
    "duration": 2853,
    "start_time": "2022-01-16T19:42:35.415Z"
   },
   {
    "duration": 3081,
    "start_time": "2022-01-16T19:43:48.447Z"
   },
   {
    "duration": 945,
    "start_time": "2022-01-16T19:43:59.201Z"
   },
   {
    "duration": 1459,
    "start_time": "2022-01-16T19:44:05.521Z"
   },
   {
    "duration": 212,
    "start_time": "2022-01-16T19:44:33.890Z"
   },
   {
    "duration": 8,
    "start_time": "2022-01-16T19:47:49.830Z"
   },
   {
    "duration": 8,
    "start_time": "2022-01-16T19:47:54.944Z"
   },
   {
    "duration": 9,
    "start_time": "2022-01-16T19:47:59.184Z"
   },
   {
    "duration": 874,
    "start_time": "2022-01-16T19:49:18.478Z"
   },
   {
    "duration": 101,
    "start_time": "2022-01-16T19:49:19.355Z"
   },
   {
    "duration": 19,
    "start_time": "2022-01-16T19:49:19.459Z"
   },
   {
    "duration": 73,
    "start_time": "2022-01-16T19:49:19.482Z"
   },
   {
    "duration": 37,
    "start_time": "2022-01-16T19:49:19.558Z"
   },
   {
    "duration": 8,
    "start_time": "2022-01-16T19:49:19.618Z"
   },
   {
    "duration": 15,
    "start_time": "2022-01-16T19:49:19.629Z"
   },
   {
    "duration": 81,
    "start_time": "2022-01-16T19:49:19.652Z"
   },
   {
    "duration": 30,
    "start_time": "2022-01-16T19:49:19.735Z"
   },
   {
    "duration": 16,
    "start_time": "2022-01-16T19:49:19.767Z"
   },
   {
    "duration": 35,
    "start_time": "2022-01-16T19:49:19.786Z"
   },
   {
    "duration": 57,
    "start_time": "2022-01-16T19:49:19.829Z"
   },
   {
    "duration": 53,
    "start_time": "2022-01-16T19:49:19.889Z"
   },
   {
    "duration": 11,
    "start_time": "2022-01-16T19:49:19.945Z"
   },
   {
    "duration": 23,
    "start_time": "2022-01-16T19:49:19.960Z"
   },
   {
    "duration": 47,
    "start_time": "2022-01-16T19:49:20.016Z"
   },
   {
    "duration": 50,
    "start_time": "2022-01-16T19:49:20.067Z"
   },
   {
    "duration": 45,
    "start_time": "2022-01-16T19:49:20.120Z"
   },
   {
    "duration": 9,
    "start_time": "2022-01-16T19:49:20.168Z"
   },
   {
    "duration": 51,
    "start_time": "2022-01-16T19:49:20.181Z"
   },
   {
    "duration": 34,
    "start_time": "2022-01-16T19:49:20.235Z"
   },
   {
    "duration": 53,
    "start_time": "2022-01-16T19:49:20.272Z"
   },
   {
    "duration": 12,
    "start_time": "2022-01-16T19:49:20.335Z"
   },
   {
    "duration": 12,
    "start_time": "2022-01-16T19:49:20.351Z"
   },
   {
    "duration": 15,
    "start_time": "2022-01-16T19:49:20.366Z"
   },
   {
    "duration": 44,
    "start_time": "2022-01-16T19:49:20.384Z"
   },
   {
    "duration": 9,
    "start_time": "2022-01-16T19:49:20.432Z"
   },
   {
    "duration": 15,
    "start_time": "2022-01-16T19:49:20.445Z"
   },
   {
    "duration": 8,
    "start_time": "2022-01-16T19:49:20.463Z"
   },
   {
    "duration": 11,
    "start_time": "2022-01-16T19:49:20.519Z"
   },
   {
    "duration": 17,
    "start_time": "2022-01-16T19:49:20.532Z"
   },
   {
    "duration": 80,
    "start_time": "2022-01-16T19:49:20.552Z"
   },
   {
    "duration": 10,
    "start_time": "2022-01-16T19:49:20.635Z"
   },
   {
    "duration": 15,
    "start_time": "2022-01-16T19:49:20.648Z"
   },
   {
    "duration": 7,
    "start_time": "2022-01-16T19:49:20.668Z"
   },
   {
    "duration": 42,
    "start_time": "2022-01-16T19:49:20.678Z"
   },
   {
    "duration": 20,
    "start_time": "2022-01-16T19:49:20.724Z"
   },
   {
    "duration": 16,
    "start_time": "2022-01-16T19:49:20.747Z"
   },
   {
    "duration": 51,
    "start_time": "2022-01-16T19:49:20.765Z"
   },
   {
    "duration": 5,
    "start_time": "2022-01-16T19:49:20.819Z"
   },
   {
    "duration": 17,
    "start_time": "2022-01-16T19:49:20.826Z"
   },
   {
    "duration": 16,
    "start_time": "2022-01-16T19:49:20.846Z"
   },
   {
    "duration": 10,
    "start_time": "2022-01-16T19:49:20.865Z"
   },
   {
    "duration": 45,
    "start_time": "2022-01-16T19:49:20.877Z"
   },
   {
    "duration": 9,
    "start_time": "2022-01-16T19:49:20.925Z"
   },
   {
    "duration": 18,
    "start_time": "2022-01-16T19:49:20.938Z"
   },
   {
    "duration": 7,
    "start_time": "2022-01-16T19:49:20.959Z"
   },
   {
    "duration": 56,
    "start_time": "2022-01-16T19:49:20.969Z"
   },
   {
    "duration": 14,
    "start_time": "2022-01-16T19:49:21.027Z"
   },
   {
    "duration": 32,
    "start_time": "2022-01-16T19:49:21.044Z"
   },
   {
    "duration": 38,
    "start_time": "2022-01-16T19:49:21.079Z"
   },
   {
    "duration": 5,
    "start_time": "2022-01-16T19:49:21.120Z"
   },
   {
    "duration": 15,
    "start_time": "2022-01-16T19:49:21.128Z"
   },
   {
    "duration": 10,
    "start_time": "2022-01-16T19:49:21.146Z"
   },
   {
    "duration": 11,
    "start_time": "2022-01-16T19:49:21.159Z"
   },
   {
    "duration": 56,
    "start_time": "2022-01-16T19:49:21.173Z"
   },
   {
    "duration": 674,
    "start_time": "2022-01-16T19:49:21.232Z"
   },
   {
    "duration": 45,
    "start_time": "2022-01-16T19:49:21.909Z"
   },
   {
    "duration": 39,
    "start_time": "2022-01-16T19:49:21.956Z"
   },
   {
    "duration": 28,
    "start_time": "2022-01-16T19:49:21.997Z"
   },
   {
    "duration": 13,
    "start_time": "2022-01-16T19:49:22.028Z"
   },
   {
    "duration": 11,
    "start_time": "2022-01-16T19:49:22.043Z"
   },
   {
    "duration": 11,
    "start_time": "2022-01-16T19:49:22.056Z"
   },
   {
    "duration": 81,
    "start_time": "2022-01-16T19:49:22.070Z"
   },
   {
    "duration": 8,
    "start_time": "2022-01-16T19:49:22.153Z"
   },
   {
    "duration": 398,
    "start_time": "2022-01-16T19:49:22.164Z"
   },
   {
    "duration": 10,
    "start_time": "2022-01-16T19:49:22.565Z"
   },
   {
    "duration": 7,
    "start_time": "2022-01-16T19:49:22.587Z"
   },
   {
    "duration": 14,
    "start_time": "2022-01-16T19:49:22.620Z"
   },
   {
    "duration": 14,
    "start_time": "2022-01-16T19:49:22.637Z"
   },
   {
    "duration": 9,
    "start_time": "2022-01-16T19:49:22.654Z"
   },
   {
    "duration": 56,
    "start_time": "2022-01-16T19:49:22.665Z"
   },
   {
    "duration": 13,
    "start_time": "2022-01-16T19:49:22.724Z"
   },
   {
    "duration": 11,
    "start_time": "2022-01-16T19:49:22.740Z"
   },
   {
    "duration": 79,
    "start_time": "2022-01-16T19:49:22.753Z"
   },
   {
    "duration": 9,
    "start_time": "2022-01-16T19:49:22.834Z"
   },
   {
    "duration": 18,
    "start_time": "2022-01-16T19:49:22.846Z"
   },
   {
    "duration": 11,
    "start_time": "2022-01-16T19:49:22.867Z"
   },
   {
    "duration": 47,
    "start_time": "2022-01-16T19:49:22.881Z"
   },
   {
    "duration": 11,
    "start_time": "2022-01-16T19:49:22.930Z"
   },
   {
    "duration": 8,
    "start_time": "2022-01-16T19:49:22.943Z"
   },
   {
    "duration": 7,
    "start_time": "2022-01-16T19:49:22.954Z"
   },
   {
    "duration": 56,
    "start_time": "2022-01-16T19:49:22.963Z"
   },
   {
    "duration": 12,
    "start_time": "2022-01-16T19:49:23.022Z"
   },
   {
    "duration": 6,
    "start_time": "2022-01-16T19:49:23.037Z"
   },
   {
    "duration": 17,
    "start_time": "2022-01-16T19:49:23.046Z"
   },
   {
    "duration": 50,
    "start_time": "2022-01-16T19:49:23.067Z"
   },
   {
    "duration": 7,
    "start_time": "2022-01-16T19:49:23.121Z"
   },
   {
    "duration": 16,
    "start_time": "2022-01-16T19:49:23.131Z"
   },
   {
    "duration": 14,
    "start_time": "2022-01-16T19:49:23.150Z"
   },
   {
    "duration": 50,
    "start_time": "2022-01-16T19:49:23.166Z"
   },
   {
    "duration": 13,
    "start_time": "2022-01-16T19:49:23.220Z"
   },
   {
    "duration": 9,
    "start_time": "2022-01-16T19:49:23.236Z"
   },
   {
    "duration": 28,
    "start_time": "2022-01-16T19:49:23.248Z"
   },
   {
    "duration": 51,
    "start_time": "2022-01-16T19:49:23.279Z"
   },
   {
    "duration": 311,
    "start_time": "2022-01-16T19:49:23.333Z"
   },
   {
    "duration": 10,
    "start_time": "2022-01-16T19:49:23.647Z"
   },
   {
    "duration": 34,
    "start_time": "2022-01-16T19:49:23.660Z"
   },
   {
    "duration": 24,
    "start_time": "2022-01-16T19:49:23.696Z"
   },
   {
    "duration": 21,
    "start_time": "2022-01-16T19:49:23.722Z"
   },
   {
    "duration": 4,
    "start_time": "2022-01-16T19:49:23.746Z"
   },
   {
    "duration": 955,
    "start_time": "2022-01-16T19:49:23.752Z"
   },
   {
    "duration": 9,
    "start_time": "2022-01-16T19:49:24.709Z"
   },
   {
    "duration": 7,
    "start_time": "2022-01-16T19:49:24.721Z"
   },
   {
    "duration": 16,
    "start_time": "2022-01-16T19:49:24.730Z"
   },
   {
    "duration": 10,
    "start_time": "2022-01-16T19:49:24.749Z"
   },
   {
    "duration": 57,
    "start_time": "2022-01-16T19:49:24.762Z"
   },
   {
    "duration": 31,
    "start_time": "2022-01-16T19:49:24.821Z"
   },
   {
    "duration": 11,
    "start_time": "2022-01-16T19:49:24.855Z"
   },
   {
    "duration": 455,
    "start_time": "2022-01-16T19:49:24.868Z"
   },
   {
    "duration": 8,
    "start_time": "2022-01-16T19:49:25.325Z"
   },
   {
    "duration": 17,
    "start_time": "2022-01-16T19:49:25.336Z"
   },
   {
    "duration": 4501,
    "start_time": "2022-01-16T19:49:25.356Z"
   },
   {
    "duration": 9,
    "start_time": "2022-01-16T19:49:29.860Z"
   },
   {
    "duration": 14,
    "start_time": "2022-01-16T19:49:29.872Z"
   },
   {
    "duration": 937,
    "start_time": "2022-01-16T19:49:29.889Z"
   },
   {
    "duration": 9,
    "start_time": "2022-01-16T19:49:30.828Z"
   },
   {
    "duration": 13,
    "start_time": "2022-01-16T19:49:30.839Z"
   },
   {
    "duration": 398,
    "start_time": "2022-01-16T19:49:30.855Z"
   },
   {
    "duration": 8,
    "start_time": "2022-01-16T19:49:31.255Z"
   },
   {
    "duration": 13,
    "start_time": "2022-01-16T19:49:31.266Z"
   },
   {
    "duration": 12,
    "start_time": "2022-01-16T19:49:35.783Z"
   },
   {
    "duration": 4851,
    "start_time": "2022-01-16T19:49:37.309Z"
   },
   {
    "duration": 1567,
    "start_time": "2022-01-16T19:49:48.191Z"
   },
   {
    "duration": 8,
    "start_time": "2022-01-16T19:49:49.760Z"
   },
   {
    "duration": 8,
    "start_time": "2022-01-16T19:50:06.812Z"
   },
   {
    "duration": 8,
    "start_time": "2022-01-16T19:50:11.494Z"
   },
   {
    "duration": 8,
    "start_time": "2022-01-16T19:50:20.313Z"
   },
   {
    "duration": 9,
    "start_time": "2022-01-16T19:50:48.333Z"
   },
   {
    "duration": 426,
    "start_time": "2022-01-16T19:51:07.320Z"
   },
   {
    "duration": 303,
    "start_time": "2022-01-16T19:53:38.231Z"
   },
   {
    "duration": 296,
    "start_time": "2022-01-16T19:53:50.809Z"
   },
   {
    "duration": 10,
    "start_time": "2022-01-16T19:53:54.521Z"
   },
   {
    "duration": 9,
    "start_time": "2022-01-16T19:54:08.440Z"
   },
   {
    "duration": 9,
    "start_time": "2022-01-16T19:54:12.465Z"
   },
   {
    "duration": 9,
    "start_time": "2022-01-16T19:54:16.539Z"
   },
   {
    "duration": 1130,
    "start_time": "2022-01-16T19:55:25.705Z"
   },
   {
    "duration": 1575,
    "start_time": "2022-01-16T19:56:10.057Z"
   },
   {
    "duration": 1710,
    "start_time": "2022-01-16T19:56:15.514Z"
   },
   {
    "duration": 9,
    "start_time": "2022-01-16T20:04:11.881Z"
   },
   {
    "duration": 9,
    "start_time": "2022-01-16T20:04:19.654Z"
   },
   {
    "duration": 12,
    "start_time": "2022-01-16T20:05:12.386Z"
   },
   {
    "duration": 10,
    "start_time": "2022-01-16T20:05:29.094Z"
   },
   {
    "duration": 9,
    "start_time": "2022-01-16T20:05:33.981Z"
   },
   {
    "duration": 9,
    "start_time": "2022-01-16T20:05:40.238Z"
   },
   {
    "duration": 8,
    "start_time": "2022-01-16T20:05:49.196Z"
   },
   {
    "duration": 8,
    "start_time": "2022-01-16T20:06:13.749Z"
   },
   {
    "duration": 9,
    "start_time": "2022-01-16T20:06:23.720Z"
   },
   {
    "duration": 8,
    "start_time": "2022-01-16T20:06:31.611Z"
   },
   {
    "duration": 9,
    "start_time": "2022-01-16T20:06:42.584Z"
   },
   {
    "duration": 7,
    "start_time": "2022-01-16T20:09:45.177Z"
   },
   {
    "duration": 7,
    "start_time": "2022-01-16T20:09:56.560Z"
   },
   {
    "duration": 8,
    "start_time": "2022-01-16T20:10:00.956Z"
   },
   {
    "duration": 9,
    "start_time": "2022-01-16T20:11:01.318Z"
   },
   {
    "duration": 8,
    "start_time": "2022-01-16T20:11:09.598Z"
   },
   {
    "duration": 8,
    "start_time": "2022-01-16T20:11:23.619Z"
   },
   {
    "duration": 10,
    "start_time": "2022-01-16T20:11:41.031Z"
   },
   {
    "duration": 9,
    "start_time": "2022-01-16T20:11:41.537Z"
   },
   {
    "duration": 8,
    "start_time": "2022-01-16T20:11:58.960Z"
   },
   {
    "duration": 8,
    "start_time": "2022-01-16T20:12:03.741Z"
   },
   {
    "duration": 9,
    "start_time": "2022-01-16T20:12:54.284Z"
   },
   {
    "duration": 10,
    "start_time": "2022-01-16T20:13:09.954Z"
   },
   {
    "duration": 8,
    "start_time": "2022-01-16T20:13:40.082Z"
   },
   {
    "duration": 130,
    "start_time": "2022-01-16T20:14:30.744Z"
   },
   {
    "duration": 10,
    "start_time": "2022-01-16T20:15:02.495Z"
   },
   {
    "duration": 11,
    "start_time": "2022-01-16T20:17:10.442Z"
   },
   {
    "duration": 5,
    "start_time": "2022-01-16T20:17:14.011Z"
   },
   {
    "duration": 14,
    "start_time": "2022-01-16T20:17:22.857Z"
   },
   {
    "duration": 5,
    "start_time": "2022-01-16T20:17:23.873Z"
   },
   {
    "duration": 14,
    "start_time": "2022-01-16T20:17:54.395Z"
   },
   {
    "duration": 13,
    "start_time": "2022-01-16T20:18:08.831Z"
   },
   {
    "duration": 7,
    "start_time": "2022-01-16T20:18:40.356Z"
   },
   {
    "duration": 719,
    "start_time": "2022-01-16T20:39:29.407Z"
   },
   {
    "duration": 779,
    "start_time": "2022-01-16T20:39:59.354Z"
   },
   {
    "duration": 909,
    "start_time": "2022-01-16T20:40:24.877Z"
   },
   {
    "duration": 816,
    "start_time": "2022-01-16T20:41:02.111Z"
   },
   {
    "duration": 670,
    "start_time": "2022-01-16T20:42:00.517Z"
   },
   {
    "duration": 1098,
    "start_time": "2022-01-16T20:42:07.328Z"
   },
   {
    "duration": 605,
    "start_time": "2022-01-16T20:42:15.625Z"
   },
   {
    "duration": 636,
    "start_time": "2022-01-16T20:42:24.832Z"
   },
   {
    "duration": 603,
    "start_time": "2022-01-16T20:42:31.227Z"
   },
   {
    "duration": 615,
    "start_time": "2022-01-16T20:42:37.640Z"
   },
   {
    "duration": 611,
    "start_time": "2022-01-16T20:42:44.316Z"
   },
   {
    "duration": 8,
    "start_time": "2022-01-16T20:46:01.994Z"
   },
   {
    "duration": 6,
    "start_time": "2022-01-16T20:46:03.901Z"
   },
   {
    "duration": 7,
    "start_time": "2022-01-16T20:46:19.042Z"
   },
   {
    "duration": 635,
    "start_time": "2022-01-16T20:47:22.196Z"
   },
   {
    "duration": 577,
    "start_time": "2022-01-16T20:48:02.840Z"
   },
   {
    "duration": 789,
    "start_time": "2022-01-16T20:48:13.309Z"
   },
   {
    "duration": 788,
    "start_time": "2022-01-16T20:48:32.339Z"
   },
   {
    "duration": 745,
    "start_time": "2022-01-16T20:49:45.243Z"
   },
   {
    "duration": 742,
    "start_time": "2022-01-16T20:49:52.180Z"
   },
   {
    "duration": 777,
    "start_time": "2022-01-16T20:49:59.271Z"
   },
   {
    "duration": 1054,
    "start_time": "2022-01-16T20:50:03.584Z"
   },
   {
    "duration": 821,
    "start_time": "2022-01-16T20:50:14.671Z"
   },
   {
    "duration": 698,
    "start_time": "2022-01-16T20:50:20.844Z"
   },
   {
    "duration": 802,
    "start_time": "2022-01-16T20:50:34.915Z"
   },
   {
    "duration": 813,
    "start_time": "2022-01-16T20:50:52.167Z"
   },
   {
    "duration": 7,
    "start_time": "2022-01-16T20:50:55.788Z"
   },
   {
    "duration": 714,
    "start_time": "2022-01-16T20:51:07.369Z"
   },
   {
    "duration": 896,
    "start_time": "2022-01-16T20:51:14.942Z"
   },
   {
    "duration": 678,
    "start_time": "2022-01-16T20:51:39.849Z"
   },
   {
    "duration": 777,
    "start_time": "2022-01-16T20:52:06.848Z"
   },
   {
    "duration": 682,
    "start_time": "2022-01-16T20:52:45.998Z"
   },
   {
    "duration": 697,
    "start_time": "2022-01-16T20:52:56.956Z"
   },
   {
    "duration": 7,
    "start_time": "2022-01-16T20:53:44.832Z"
   },
   {
    "duration": 730,
    "start_time": "2022-01-16T20:53:45.435Z"
   },
   {
    "duration": 7,
    "start_time": "2022-01-16T20:54:18.735Z"
   },
   {
    "duration": 797,
    "start_time": "2022-01-16T20:54:27.208Z"
   },
   {
    "duration": 308,
    "start_time": "2022-01-16T20:54:59.312Z"
   },
   {
    "duration": 7,
    "start_time": "2022-01-16T20:55:02.500Z"
   },
   {
    "duration": 728,
    "start_time": "2022-01-16T20:55:24.749Z"
   },
   {
    "duration": 11,
    "start_time": "2022-01-16T20:56:05.148Z"
   },
   {
    "duration": 25,
    "start_time": "2022-01-16T20:56:07.693Z"
   },
   {
    "duration": 41,
    "start_time": "2022-01-16T21:02:35.414Z"
   },
   {
    "duration": 307,
    "start_time": "2022-01-16T21:02:39.867Z"
   },
   {
    "duration": 305,
    "start_time": "2022-01-16T21:03:54.704Z"
   },
   {
    "duration": 99877,
    "start_time": "2022-01-16T21:18:52.868Z"
   },
   {
    "duration": -580,
    "start_time": "2022-01-16T21:20:33.334Z"
   },
   {
    "duration": 440,
    "start_time": "2022-01-16T21:20:35.497Z"
   },
   {
    "duration": 353,
    "start_time": "2022-01-16T21:20:41.302Z"
   },
   {
    "duration": 19,
    "start_time": "2022-01-16T21:20:45.432Z"
   },
   {
    "duration": 175,
    "start_time": "2022-01-16T21:21:20.311Z"
   },
   {
    "duration": 181,
    "start_time": "2022-01-16T21:21:39.577Z"
   },
   {
    "duration": 372,
    "start_time": "2022-01-16T21:24:23.807Z"
   },
   {
    "duration": 42,
    "start_time": "2022-01-16T21:25:35.985Z"
   },
   {
    "duration": 426,
    "start_time": "2022-01-16T21:25:37.669Z"
   },
   {
    "duration": 16,
    "start_time": "2022-01-16T21:25:59.050Z"
   },
   {
    "duration": 16,
    "start_time": "2022-01-16T21:26:12.974Z"
   },
   {
    "duration": 14,
    "start_time": "2022-01-16T21:31:34.896Z"
   },
   {
    "duration": 11,
    "start_time": "2022-01-16T21:31:35.776Z"
   },
   {
    "duration": 7547,
    "start_time": "2022-01-16T21:33:27.061Z"
   },
   {
    "duration": 16,
    "start_time": "2022-01-16T21:33:55.640Z"
   },
   {
    "duration": 15,
    "start_time": "2022-01-16T21:33:58.796Z"
   },
   {
    "duration": 24,
    "start_time": "2022-01-16T21:42:31.417Z"
   },
   {
    "duration": 16,
    "start_time": "2022-01-16T21:43:14.389Z"
   },
   {
    "duration": 11,
    "start_time": "2022-01-16T21:49:43.173Z"
   },
   {
    "duration": 281,
    "start_time": "2022-01-16T21:49:59.652Z"
   },
   {
    "duration": 2563,
    "start_time": "2022-01-16T21:51:04.223Z"
   },
   {
    "duration": 2382,
    "start_time": "2022-01-16T21:51:29.907Z"
   },
   {
    "duration": 2227,
    "start_time": "2022-01-16T21:51:40.685Z"
   },
   {
    "duration": 5748,
    "start_time": "2022-01-16T21:52:14.540Z"
   },
   {
    "duration": 1844,
    "start_time": "2022-01-16T21:52:25.702Z"
   },
   {
    "duration": 2277,
    "start_time": "2022-01-16T21:52:35.967Z"
   },
   {
    "duration": 5830,
    "start_time": "2022-01-16T21:52:46.256Z"
   },
   {
    "duration": 13,
    "start_time": "2022-01-16T21:54:58.790Z"
   },
   {
    "duration": 13,
    "start_time": "2022-01-16T21:55:24.825Z"
   },
   {
    "duration": 31,
    "start_time": "2022-01-16T21:59:28.055Z"
   },
   {
    "duration": 31,
    "start_time": "2022-01-16T21:59:49.025Z"
   },
   {
    "duration": 11,
    "start_time": "2022-01-16T22:00:10.097Z"
   },
   {
    "duration": 32,
    "start_time": "2022-01-16T22:00:10.797Z"
   },
   {
    "duration": 32,
    "start_time": "2022-01-16T22:00:13.587Z"
   },
   {
    "duration": 14,
    "start_time": "2022-01-16T22:02:58.306Z"
   },
   {
    "duration": 36,
    "start_time": "2022-01-16T22:02:59.262Z"
   },
   {
    "duration": 35,
    "start_time": "2022-01-16T22:03:17.109Z"
   },
   {
    "duration": 12,
    "start_time": "2022-01-16T22:03:59.362Z"
   },
   {
    "duration": 39,
    "start_time": "2022-01-16T22:03:59.918Z"
   },
   {
    "duration": 40,
    "start_time": "2022-01-16T22:04:04.178Z"
   },
   {
    "duration": 18,
    "start_time": "2022-01-16T22:05:14.772Z"
   },
   {
    "duration": 38,
    "start_time": "2022-01-16T22:05:15.620Z"
   },
   {
    "duration": 39,
    "start_time": "2022-01-16T22:05:16.530Z"
   },
   {
    "duration": 14,
    "start_time": "2022-01-16T22:39:22.782Z"
   },
   {
    "duration": 37,
    "start_time": "2022-01-16T22:43:53.843Z"
   },
   {
    "duration": 40,
    "start_time": "2022-01-16T22:43:55.124Z"
   },
   {
    "duration": 14,
    "start_time": "2022-01-16T22:46:09.433Z"
   },
   {
    "duration": 15,
    "start_time": "2022-01-16T22:46:19.466Z"
   },
   {
    "duration": 14,
    "start_time": "2022-01-16T22:48:02.497Z"
   },
   {
    "duration": 16,
    "start_time": "2022-01-16T22:48:03.573Z"
   },
   {
    "duration": 18,
    "start_time": "2022-01-16T23:32:07.078Z"
   },
   {
    "duration": 13,
    "start_time": "2022-01-16T23:32:13.285Z"
   },
   {
    "duration": 13,
    "start_time": "2022-01-16T23:32:14.849Z"
   },
   {
    "duration": 36,
    "start_time": "2022-01-16T23:32:18.529Z"
   },
   {
    "duration": 39,
    "start_time": "2022-01-16T23:32:20.702Z"
   },
   {
    "duration": 15,
    "start_time": "2022-01-16T23:32:30.098Z"
   },
   {
    "duration": 17,
    "start_time": "2022-01-16T23:33:26.204Z"
   },
   {
    "duration": 14,
    "start_time": "2022-01-16T23:33:26.904Z"
   },
   {
    "duration": 14,
    "start_time": "2022-01-16T23:33:28.978Z"
   },
   {
    "duration": 43,
    "start_time": "2022-01-16T23:33:30.576Z"
   },
   {
    "duration": 44,
    "start_time": "2022-01-16T23:33:34.212Z"
   },
   {
    "duration": 16,
    "start_time": "2022-01-16T23:39:56.945Z"
   },
   {
    "duration": 18,
    "start_time": "2022-01-16T23:44:59.781Z"
   },
   {
    "duration": 19,
    "start_time": "2022-01-16T23:54:07.630Z"
   },
   {
    "duration": 14,
    "start_time": "2022-01-16T23:54:09.081Z"
   },
   {
    "duration": 16,
    "start_time": "2022-01-17T00:03:36.304Z"
   },
   {
    "duration": 14,
    "start_time": "2022-01-17T00:03:36.976Z"
   },
   {
    "duration": 13,
    "start_time": "2022-01-17T00:03:40.561Z"
   },
   {
    "duration": 17,
    "start_time": "2022-01-17T00:04:59.535Z"
   },
   {
    "duration": 15,
    "start_time": "2022-01-17T00:05:15.653Z"
   },
   {
    "duration": 14,
    "start_time": "2022-01-17T00:05:18.281Z"
   },
   {
    "duration": 17,
    "start_time": "2022-01-17T00:07:26.157Z"
   },
   {
    "duration": 13,
    "start_time": "2022-01-17T00:07:26.800Z"
   },
   {
    "duration": 14,
    "start_time": "2022-01-17T00:07:28.889Z"
   },
   {
    "duration": 44,
    "start_time": "2022-01-17T00:07:32.593Z"
   },
   {
    "duration": 48,
    "start_time": "2022-01-17T00:07:34.347Z"
   },
   {
    "duration": 17,
    "start_time": "2022-01-17T00:07:48.081Z"
   },
   {
    "duration": 20,
    "start_time": "2022-01-17T00:07:51.261Z"
   },
   {
    "duration": 18,
    "start_time": "2022-01-17T00:08:39.138Z"
   },
   {
    "duration": 17,
    "start_time": "2022-01-17T00:09:09.265Z"
   },
   {
    "duration": 14,
    "start_time": "2022-01-17T00:09:09.285Z"
   },
   {
    "duration": 15,
    "start_time": "2022-01-17T00:09:10.319Z"
   },
   {
    "duration": 49,
    "start_time": "2022-01-17T00:09:13.031Z"
   },
   {
    "duration": 51,
    "start_time": "2022-01-17T00:09:15.699Z"
   },
   {
    "duration": 18,
    "start_time": "2022-01-17T00:09:19.464Z"
   },
   {
    "duration": 22,
    "start_time": "2022-01-17T00:09:21.856Z"
   },
   {
    "duration": 19,
    "start_time": "2022-01-17T00:13:31.466Z"
   },
   {
    "duration": 14,
    "start_time": "2022-01-17T00:13:33.035Z"
   },
   {
    "duration": 18,
    "start_time": "2022-01-17T00:13:33.488Z"
   },
   {
    "duration": 17,
    "start_time": "2022-01-17T00:14:02.994Z"
   },
   {
    "duration": 15,
    "start_time": "2022-01-17T00:14:03.450Z"
   },
   {
    "duration": 15,
    "start_time": "2022-01-17T00:14:04.042Z"
   },
   {
    "duration": 51,
    "start_time": "2022-01-17T00:14:07.014Z"
   },
   {
    "duration": 54,
    "start_time": "2022-01-17T00:14:08.500Z"
   },
   {
    "duration": 17,
    "start_time": "2022-01-17T00:14:12.400Z"
   },
   {
    "duration": 21,
    "start_time": "2022-01-17T00:14:12.960Z"
   },
   {
    "duration": 974,
    "start_time": "2022-01-17T00:37:56.015Z"
   },
   {
    "duration": 87,
    "start_time": "2022-01-17T00:37:56.992Z"
   },
   {
    "duration": 18,
    "start_time": "2022-01-17T00:37:57.082Z"
   },
   {
    "duration": 49,
    "start_time": "2022-01-17T00:37:57.103Z"
   },
   {
    "duration": 33,
    "start_time": "2022-01-17T00:37:57.154Z"
   },
   {
    "duration": 7,
    "start_time": "2022-01-17T00:37:57.217Z"
   },
   {
    "duration": 10,
    "start_time": "2022-01-17T00:37:57.226Z"
   },
   {
    "duration": 35,
    "start_time": "2022-01-17T00:37:57.239Z"
   },
   {
    "duration": 44,
    "start_time": "2022-01-17T00:37:57.277Z"
   },
   {
    "duration": 13,
    "start_time": "2022-01-17T00:37:57.324Z"
   },
   {
    "duration": 8,
    "start_time": "2022-01-17T00:37:57.340Z"
   },
   {
    "duration": 66,
    "start_time": "2022-01-17T00:37:57.350Z"
   },
   {
    "duration": 16,
    "start_time": "2022-01-17T00:37:57.419Z"
   },
   {
    "duration": 7,
    "start_time": "2022-01-17T00:37:57.437Z"
   },
   {
    "duration": 12,
    "start_time": "2022-01-17T00:37:57.446Z"
   },
   {
    "duration": 70,
    "start_time": "2022-01-17T00:37:57.460Z"
   },
   {
    "duration": 17,
    "start_time": "2022-01-17T00:37:57.532Z"
   },
   {
    "duration": 34,
    "start_time": "2022-01-17T00:37:57.552Z"
   },
   {
    "duration": 8,
    "start_time": "2022-01-17T00:37:57.617Z"
   },
   {
    "duration": 14,
    "start_time": "2022-01-17T00:37:57.627Z"
   },
   {
    "duration": 19,
    "start_time": "2022-01-17T00:37:57.643Z"
   },
   {
    "duration": 11,
    "start_time": "2022-01-17T00:37:57.665Z"
   },
   {
    "duration": 8,
    "start_time": "2022-01-17T00:37:57.718Z"
   },
   {
    "duration": 7,
    "start_time": "2022-01-17T00:37:57.730Z"
   },
   {
    "duration": 11,
    "start_time": "2022-01-17T00:37:57.739Z"
   },
   {
    "duration": 10,
    "start_time": "2022-01-17T00:37:57.752Z"
   },
   {
    "duration": 56,
    "start_time": "2022-01-17T00:37:57.765Z"
   },
   {
    "duration": 11,
    "start_time": "2022-01-17T00:37:57.824Z"
   },
   {
    "duration": 7,
    "start_time": "2022-01-17T00:37:57.837Z"
   },
   {
    "duration": 8,
    "start_time": "2022-01-17T00:37:57.846Z"
   },
   {
    "duration": 68,
    "start_time": "2022-01-17T00:37:57.856Z"
   },
   {
    "duration": 35,
    "start_time": "2022-01-17T00:37:57.926Z"
   },
   {
    "duration": 9,
    "start_time": "2022-01-17T00:37:57.963Z"
   },
   {
    "duration": 7,
    "start_time": "2022-01-17T00:37:57.975Z"
   },
   {
    "duration": 7,
    "start_time": "2022-01-17T00:37:58.017Z"
   },
   {
    "duration": 8,
    "start_time": "2022-01-17T00:37:58.027Z"
   },
   {
    "duration": 12,
    "start_time": "2022-01-17T00:37:58.038Z"
   },
   {
    "duration": 11,
    "start_time": "2022-01-17T00:37:58.052Z"
   },
   {
    "duration": 53,
    "start_time": "2022-01-17T00:37:58.066Z"
   },
   {
    "duration": 5,
    "start_time": "2022-01-17T00:37:58.121Z"
   },
   {
    "duration": 7,
    "start_time": "2022-01-17T00:37:58.128Z"
   },
   {
    "duration": 12,
    "start_time": "2022-01-17T00:37:58.137Z"
   },
   {
    "duration": 8,
    "start_time": "2022-01-17T00:37:58.152Z"
   },
   {
    "duration": 6,
    "start_time": "2022-01-17T00:37:58.162Z"
   },
   {
    "duration": 52,
    "start_time": "2022-01-17T00:37:58.170Z"
   },
   {
    "duration": 11,
    "start_time": "2022-01-17T00:37:58.224Z"
   },
   {
    "duration": 7,
    "start_time": "2022-01-17T00:37:58.237Z"
   },
   {
    "duration": 13,
    "start_time": "2022-01-17T00:37:58.247Z"
   },
   {
    "duration": 56,
    "start_time": "2022-01-17T00:37:58.262Z"
   },
   {
    "duration": 25,
    "start_time": "2022-01-17T00:37:58.321Z"
   },
   {
    "duration": 16,
    "start_time": "2022-01-17T00:37:58.349Z"
   },
   {
    "duration": 5,
    "start_time": "2022-01-17T00:37:58.367Z"
   },
   {
    "duration": 12,
    "start_time": "2022-01-17T00:37:58.374Z"
   },
   {
    "duration": 8,
    "start_time": "2022-01-17T00:37:58.417Z"
   },
   {
    "duration": 7,
    "start_time": "2022-01-17T00:37:58.428Z"
   },
   {
    "duration": 12,
    "start_time": "2022-01-17T00:37:58.437Z"
   },
   {
    "duration": 392,
    "start_time": "2022-01-17T00:37:58.451Z"
   },
   {
    "duration": 38,
    "start_time": "2022-01-17T00:37:58.845Z"
   },
   {
    "duration": 66,
    "start_time": "2022-01-17T00:37:58.886Z"
   },
   {
    "duration": 12,
    "start_time": "2022-01-17T00:37:58.955Z"
   },
   {
    "duration": 13,
    "start_time": "2022-01-17T00:37:58.969Z"
   },
   {
    "duration": 37,
    "start_time": "2022-01-17T00:37:58.984Z"
   },
   {
    "duration": 7,
    "start_time": "2022-01-17T00:37:59.023Z"
   },
   {
    "duration": 39,
    "start_time": "2022-01-17T00:37:59.032Z"
   },
   {
    "duration": 7,
    "start_time": "2022-01-17T00:37:59.074Z"
   },
   {
    "duration": 393,
    "start_time": "2022-01-17T00:37:59.083Z"
   },
   {
    "duration": 9,
    "start_time": "2022-01-17T00:37:59.479Z"
   },
   {
    "duration": 22,
    "start_time": "2022-01-17T00:37:59.499Z"
   },
   {
    "duration": 12,
    "start_time": "2022-01-17T00:37:59.525Z"
   },
   {
    "duration": 11,
    "start_time": "2022-01-17T00:37:59.539Z"
   },
   {
    "duration": 7,
    "start_time": "2022-01-17T00:37:59.552Z"
   },
   {
    "duration": 7,
    "start_time": "2022-01-17T00:37:59.562Z"
   },
   {
    "duration": 54,
    "start_time": "2022-01-17T00:37:59.572Z"
   },
   {
    "duration": 8,
    "start_time": "2022-01-17T00:37:59.629Z"
   },
   {
    "duration": 33,
    "start_time": "2022-01-17T00:37:59.640Z"
   },
   {
    "duration": 44,
    "start_time": "2022-01-17T00:37:59.675Z"
   },
   {
    "duration": 11,
    "start_time": "2022-01-17T00:37:59.722Z"
   },
   {
    "duration": 7,
    "start_time": "2022-01-17T00:37:59.735Z"
   },
   {
    "duration": 14,
    "start_time": "2022-01-17T00:37:59.744Z"
   },
   {
    "duration": 10,
    "start_time": "2022-01-17T00:37:59.761Z"
   },
   {
    "duration": 50,
    "start_time": "2022-01-17T00:37:59.773Z"
   },
   {
    "duration": 9,
    "start_time": "2022-01-17T00:37:59.825Z"
   },
   {
    "duration": 11,
    "start_time": "2022-01-17T00:37:59.837Z"
   },
   {
    "duration": 10,
    "start_time": "2022-01-17T00:37:59.851Z"
   },
   {
    "duration": 5,
    "start_time": "2022-01-17T00:37:59.863Z"
   },
   {
    "duration": 55,
    "start_time": "2022-01-17T00:37:59.870Z"
   },
   {
    "duration": 8,
    "start_time": "2022-01-17T00:37:59.927Z"
   },
   {
    "duration": 9,
    "start_time": "2022-01-17T00:37:59.938Z"
   },
   {
    "duration": 11,
    "start_time": "2022-01-17T00:37:59.949Z"
   },
   {
    "duration": 10,
    "start_time": "2022-01-17T00:37:59.962Z"
   },
   {
    "duration": 46,
    "start_time": "2022-01-17T00:37:59.974Z"
   },
   {
    "duration": 13,
    "start_time": "2022-01-17T00:38:00.022Z"
   },
   {
    "duration": 6,
    "start_time": "2022-01-17T00:38:00.037Z"
   },
   {
    "duration": 17,
    "start_time": "2022-01-17T00:38:00.046Z"
   },
   {
    "duration": 54,
    "start_time": "2022-01-17T00:38:00.065Z"
   },
   {
    "duration": 187,
    "start_time": "2022-01-17T00:38:00.121Z"
   },
   {
    "duration": 12,
    "start_time": "2022-01-17T00:38:00.310Z"
   },
   {
    "duration": 46,
    "start_time": "2022-01-17T00:38:00.324Z"
   },
   {
    "duration": 7,
    "start_time": "2022-01-17T00:38:00.372Z"
   },
   {
    "duration": 38,
    "start_time": "2022-01-17T00:38:00.381Z"
   },
   {
    "duration": 4,
    "start_time": "2022-01-17T00:38:00.422Z"
   },
   {
    "duration": 838,
    "start_time": "2022-01-17T00:38:00.429Z"
   },
   {
    "duration": 9,
    "start_time": "2022-01-17T00:38:01.269Z"
   },
   {
    "duration": 37,
    "start_time": "2022-01-17T00:38:01.280Z"
   },
   {
    "duration": 25,
    "start_time": "2022-01-17T00:38:01.320Z"
   },
   {
    "duration": 9,
    "start_time": "2022-01-17T00:38:01.347Z"
   },
   {
    "duration": 14,
    "start_time": "2022-01-17T00:38:01.358Z"
   },
   {
    "duration": 55,
    "start_time": "2022-01-17T00:38:01.375Z"
   },
   {
    "duration": 15,
    "start_time": "2022-01-17T00:38:01.433Z"
   },
   {
    "duration": 443,
    "start_time": "2022-01-17T00:38:01.451Z"
   },
   {
    "duration": 21,
    "start_time": "2022-01-17T00:38:01.897Z"
   },
   {
    "duration": 21,
    "start_time": "2022-01-17T00:38:01.921Z"
   },
   {
    "duration": 2774,
    "start_time": "2022-01-17T00:38:01.944Z"
   },
   {
    "duration": 8,
    "start_time": "2022-01-17T00:38:04.721Z"
   },
   {
    "duration": 22,
    "start_time": "2022-01-17T00:38:04.732Z"
   },
   {
    "duration": 904,
    "start_time": "2022-01-17T00:38:04.756Z"
   },
   {
    "duration": 8,
    "start_time": "2022-01-17T00:38:05.662Z"
   },
   {
    "duration": 13,
    "start_time": "2022-01-17T00:38:05.673Z"
   },
   {
    "duration": 394,
    "start_time": "2022-01-17T00:38:05.688Z"
   },
   {
    "duration": 8,
    "start_time": "2022-01-17T00:38:06.085Z"
   },
   {
    "duration": 25,
    "start_time": "2022-01-17T00:38:06.095Z"
   },
   {
    "duration": 16,
    "start_time": "2022-01-17T00:38:06.123Z"
   },
   {
    "duration": 4898,
    "start_time": "2022-01-17T00:38:06.142Z"
   },
   {
    "duration": 1916,
    "start_time": "2022-01-17T00:38:11.043Z"
   },
   {
    "duration": 9,
    "start_time": "2022-01-17T00:38:12.962Z"
   },
   {
    "duration": 8,
    "start_time": "2022-01-17T00:38:12.973Z"
   },
   {
    "duration": 43,
    "start_time": "2022-01-17T00:38:12.984Z"
   },
   {
    "duration": 6,
    "start_time": "2022-01-17T00:38:13.030Z"
   },
   {
    "duration": 715,
    "start_time": "2022-01-17T00:38:13.038Z"
   },
   {
    "duration": 7,
    "start_time": "2022-01-17T00:38:13.755Z"
   },
   {
    "duration": 721,
    "start_time": "2022-01-17T00:38:13.764Z"
   },
   {
    "duration": 8,
    "start_time": "2022-01-17T00:38:14.487Z"
   },
   {
    "duration": 822,
    "start_time": "2022-01-17T00:38:14.497Z"
   },
   {
    "duration": 7,
    "start_time": "2022-01-17T00:38:15.322Z"
   },
   {
    "duration": 704,
    "start_time": "2022-01-17T00:38:15.332Z"
   },
   {
    "duration": 7,
    "start_time": "2022-01-17T00:38:16.038Z"
   },
   {
    "duration": 707,
    "start_time": "2022-01-17T00:38:16.047Z"
   },
   {
    "duration": 7,
    "start_time": "2022-01-17T00:38:16.756Z"
   },
   {
    "duration": 808,
    "start_time": "2022-01-17T00:38:16.765Z"
   },
   {
    "duration": 7,
    "start_time": "2022-01-17T00:38:17.575Z"
   },
   {
    "duration": 742,
    "start_time": "2022-01-17T00:38:17.584Z"
   },
   {
    "duration": 10,
    "start_time": "2022-01-17T00:38:18.328Z"
   },
   {
    "duration": 19,
    "start_time": "2022-01-17T00:38:18.341Z"
   },
   {
    "duration": 225,
    "start_time": "2022-01-17T00:38:18.362Z"
   },
   {
    "duration": 56,
    "start_time": "2022-01-17T00:38:18.589Z"
   },
   {
    "duration": 373,
    "start_time": "2022-01-17T00:38:18.647Z"
   },
   {
    "duration": 18,
    "start_time": "2022-01-17T00:38:19.022Z"
   },
   {
    "duration": 14,
    "start_time": "2022-01-17T00:38:19.043Z"
   },
   {
    "duration": 18,
    "start_time": "2022-01-17T00:38:19.059Z"
   },
   {
    "duration": 86,
    "start_time": "2022-01-17T00:38:19.079Z"
   },
   {
    "duration": 77,
    "start_time": "2022-01-17T00:38:19.168Z"
   },
   {
    "duration": 18,
    "start_time": "2022-01-17T00:38:19.247Z"
   },
   {
    "duration": 26,
    "start_time": "2022-01-17T00:38:19.268Z"
   },
   {
    "duration": 390,
    "start_time": "2022-01-20T10:21:01.231Z"
   },
   {
    "duration": 1326,
    "start_time": "2022-01-20T10:21:33.007Z"
   },
   {
    "duration": 971,
    "start_time": "2022-01-20T10:22:10.109Z"
   },
   {
    "duration": 112,
    "start_time": "2022-01-20T10:22:11.083Z"
   },
   {
    "duration": 28,
    "start_time": "2022-01-20T10:22:11.199Z"
   },
   {
    "duration": 39,
    "start_time": "2022-01-20T10:22:11.230Z"
   },
   {
    "duration": 68,
    "start_time": "2022-01-20T10:22:11.271Z"
   },
   {
    "duration": 14,
    "start_time": "2022-01-20T10:22:11.342Z"
   },
   {
    "duration": 14,
    "start_time": "2022-01-20T10:22:11.359Z"
   },
   {
    "duration": 67,
    "start_time": "2022-01-20T10:22:11.377Z"
   },
   {
    "duration": 31,
    "start_time": "2022-01-20T10:22:11.447Z"
   },
   {
    "duration": 15,
    "start_time": "2022-01-20T10:22:11.480Z"
   },
   {
    "duration": 30,
    "start_time": "2022-01-20T10:22:11.498Z"
   },
   {
    "duration": 33,
    "start_time": "2022-01-20T10:22:11.531Z"
   },
   {
    "duration": 56,
    "start_time": "2022-01-20T10:22:11.567Z"
   },
   {
    "duration": 7,
    "start_time": "2022-01-20T10:22:11.626Z"
   },
   {
    "duration": 15,
    "start_time": "2022-01-20T10:22:11.635Z"
   },
   {
    "duration": 29,
    "start_time": "2022-01-20T10:22:11.653Z"
   },
   {
    "duration": 17,
    "start_time": "2022-01-20T10:22:11.722Z"
   },
   {
    "duration": 34,
    "start_time": "2022-01-20T10:22:11.741Z"
   },
   {
    "duration": 48,
    "start_time": "2022-01-20T10:22:11.777Z"
   },
   {
    "duration": 14,
    "start_time": "2022-01-20T10:22:11.827Z"
   },
   {
    "duration": 85,
    "start_time": "2022-01-20T10:22:11.844Z"
   },
   {
    "duration": 11,
    "start_time": "2022-01-20T10:22:11.932Z"
   },
   {
    "duration": 8,
    "start_time": "2022-01-20T10:22:11.949Z"
   },
   {
    "duration": 62,
    "start_time": "2022-01-20T10:22:11.962Z"
   },
   {
    "duration": 17,
    "start_time": "2022-01-20T10:22:12.027Z"
   },
   {
    "duration": 12,
    "start_time": "2022-01-20T10:22:12.047Z"
   },
   {
    "duration": 15,
    "start_time": "2022-01-20T10:22:12.062Z"
   },
   {
    "duration": 47,
    "start_time": "2022-01-20T10:22:12.080Z"
   },
   {
    "duration": 6,
    "start_time": "2022-01-20T10:22:12.130Z"
   },
   {
    "duration": 25,
    "start_time": "2022-01-20T10:22:12.139Z"
   },
   {
    "duration": 13,
    "start_time": "2022-01-20T10:22:12.167Z"
   },
   {
    "duration": 52,
    "start_time": "2022-01-20T10:22:12.224Z"
   },
   {
    "duration": 11,
    "start_time": "2022-01-20T10:22:12.279Z"
   },
   {
    "duration": 38,
    "start_time": "2022-01-20T10:22:12.292Z"
   },
   {
    "duration": 7,
    "start_time": "2022-01-20T10:22:12.333Z"
   },
   {
    "duration": 11,
    "start_time": "2022-01-20T10:22:12.342Z"
   },
   {
    "duration": 11,
    "start_time": "2022-01-20T10:22:12.355Z"
   },
   {
    "duration": 60,
    "start_time": "2022-01-20T10:22:12.369Z"
   },
   {
    "duration": 10,
    "start_time": "2022-01-20T10:22:12.431Z"
   },
   {
    "duration": 12,
    "start_time": "2022-01-20T10:22:12.443Z"
   },
   {
    "duration": 11,
    "start_time": "2022-01-20T10:22:12.458Z"
   },
   {
    "duration": 52,
    "start_time": "2022-01-20T10:22:12.471Z"
   },
   {
    "duration": 9,
    "start_time": "2022-01-20T10:22:12.525Z"
   },
   {
    "duration": 5,
    "start_time": "2022-01-20T10:22:12.537Z"
   },
   {
    "duration": 11,
    "start_time": "2022-01-20T10:22:12.545Z"
   },
   {
    "duration": 10,
    "start_time": "2022-01-20T10:22:12.558Z"
   },
   {
    "duration": 56,
    "start_time": "2022-01-20T10:22:12.570Z"
   },
   {
    "duration": 17,
    "start_time": "2022-01-20T10:22:12.629Z"
   },
   {
    "duration": 15,
    "start_time": "2022-01-20T10:22:12.650Z"
   },
   {
    "duration": 27,
    "start_time": "2022-01-20T10:22:12.723Z"
   },
   {
    "duration": 15,
    "start_time": "2022-01-20T10:22:12.752Z"
   },
   {
    "duration": 6,
    "start_time": "2022-01-20T10:22:12.770Z"
   },
   {
    "duration": 50,
    "start_time": "2022-01-20T10:22:12.779Z"
   },
   {
    "duration": 10,
    "start_time": "2022-01-20T10:22:12.832Z"
   },
   {
    "duration": 10,
    "start_time": "2022-01-20T10:22:12.845Z"
   },
   {
    "duration": 66,
    "start_time": "2022-01-20T10:22:12.858Z"
   },
   {
    "duration": 503,
    "start_time": "2022-01-20T10:22:12.927Z"
   },
   {
    "duration": 50,
    "start_time": "2022-01-20T10:22:13.433Z"
   },
   {
    "duration": 84,
    "start_time": "2022-01-20T10:22:13.486Z"
   },
   {
    "duration": 13,
    "start_time": "2022-01-20T10:22:13.573Z"
   },
   {
    "duration": 38,
    "start_time": "2022-01-20T10:22:13.589Z"
   },
   {
    "duration": 9,
    "start_time": "2022-01-20T10:22:13.630Z"
   },
   {
    "duration": 12,
    "start_time": "2022-01-20T10:22:13.642Z"
   },
   {
    "duration": 73,
    "start_time": "2022-01-20T10:22:13.656Z"
   },
   {
    "duration": 8,
    "start_time": "2022-01-20T10:22:13.731Z"
   },
   {
    "duration": 392,
    "start_time": "2022-01-20T10:22:13.741Z"
   },
   {
    "duration": 13,
    "start_time": "2022-01-20T10:22:14.135Z"
   },
   {
    "duration": 6,
    "start_time": "2022-01-20T10:22:14.163Z"
   },
   {
    "duration": 53,
    "start_time": "2022-01-20T10:22:14.174Z"
   },
   {
    "duration": 12,
    "start_time": "2022-01-20T10:22:14.231Z"
   },
   {
    "duration": 10,
    "start_time": "2022-01-20T10:22:14.245Z"
   },
   {
    "duration": 7,
    "start_time": "2022-01-20T10:22:14.257Z"
   },
   {
    "duration": 65,
    "start_time": "2022-01-20T10:22:14.267Z"
   },
   {
    "duration": 9,
    "start_time": "2022-01-20T10:22:14.335Z"
   },
   {
    "duration": 84,
    "start_time": "2022-01-20T10:22:14.346Z"
   },
   {
    "duration": 11,
    "start_time": "2022-01-20T10:22:14.433Z"
   },
   {
    "duration": 38,
    "start_time": "2022-01-20T10:22:14.447Z"
   },
   {
    "duration": 11,
    "start_time": "2022-01-20T10:22:14.488Z"
   },
   {
    "duration": 38,
    "start_time": "2022-01-20T10:22:14.502Z"
   },
   {
    "duration": 15,
    "start_time": "2022-01-20T10:22:14.542Z"
   },
   {
    "duration": 10,
    "start_time": "2022-01-20T10:22:14.560Z"
   },
   {
    "duration": 7,
    "start_time": "2022-01-20T10:22:14.573Z"
   },
   {
    "duration": 12,
    "start_time": "2022-01-20T10:22:14.623Z"
   },
   {
    "duration": 10,
    "start_time": "2022-01-20T10:22:14.638Z"
   },
   {
    "duration": 4,
    "start_time": "2022-01-20T10:22:14.651Z"
   },
   {
    "duration": 14,
    "start_time": "2022-01-20T10:22:14.657Z"
   },
   {
    "duration": 8,
    "start_time": "2022-01-20T10:22:14.724Z"
   },
   {
    "duration": 7,
    "start_time": "2022-01-20T10:22:14.736Z"
   },
   {
    "duration": 16,
    "start_time": "2022-01-20T10:22:14.746Z"
   },
   {
    "duration": 63,
    "start_time": "2022-01-20T10:22:14.765Z"
   },
   {
    "duration": 6,
    "start_time": "2022-01-20T10:22:14.830Z"
   },
   {
    "duration": 18,
    "start_time": "2022-01-20T10:22:14.839Z"
   },
   {
    "duration": 12,
    "start_time": "2022-01-20T10:22:14.860Z"
   },
   {
    "duration": 73,
    "start_time": "2022-01-20T10:22:14.874Z"
   },
   {
    "duration": 44,
    "start_time": "2022-01-20T10:22:14.950Z"
   },
   {
    "duration": 194,
    "start_time": "2022-01-20T10:22:14.997Z"
   },
   {
    "duration": 8,
    "start_time": "2022-01-20T10:22:15.193Z"
   },
   {
    "duration": 55,
    "start_time": "2022-01-20T10:22:15.204Z"
   },
   {
    "duration": 7,
    "start_time": "2022-01-20T10:22:15.262Z"
   },
   {
    "duration": 61,
    "start_time": "2022-01-20T10:22:15.273Z"
   },
   {
    "duration": 5,
    "start_time": "2022-01-20T10:22:15.337Z"
   },
   {
    "duration": 871,
    "start_time": "2022-01-20T10:22:15.345Z"
   },
   {
    "duration": 11,
    "start_time": "2022-01-20T10:22:16.219Z"
   },
   {
    "duration": 9,
    "start_time": "2022-01-20T10:22:16.232Z"
   },
   {
    "duration": 16,
    "start_time": "2022-01-20T10:22:16.243Z"
   },
   {
    "duration": 8,
    "start_time": "2022-01-20T10:22:16.262Z"
   },
   {
    "duration": 55,
    "start_time": "2022-01-20T10:22:16.273Z"
   },
   {
    "duration": 30,
    "start_time": "2022-01-20T10:22:16.331Z"
   },
   {
    "duration": 11,
    "start_time": "2022-01-20T10:22:16.364Z"
   },
   {
    "duration": 462,
    "start_time": "2022-01-20T10:22:16.377Z"
   },
   {
    "duration": 8,
    "start_time": "2022-01-20T10:22:16.842Z"
   },
   {
    "duration": 17,
    "start_time": "2022-01-20T10:22:16.853Z"
   },
   {
    "duration": 2904,
    "start_time": "2022-01-20T10:22:16.873Z"
   },
   {
    "duration": 8,
    "start_time": "2022-01-20T10:22:19.780Z"
   },
   {
    "duration": 38,
    "start_time": "2022-01-20T10:22:19.790Z"
   },
   {
    "duration": 1233,
    "start_time": "2022-01-20T10:22:19.830Z"
   },
   {
    "duration": 9,
    "start_time": "2022-01-20T10:22:21.066Z"
   },
   {
    "duration": 48,
    "start_time": "2022-01-20T10:22:21.078Z"
   },
   {
    "duration": 389,
    "start_time": "2022-01-20T10:22:21.128Z"
   },
   {
    "duration": 9,
    "start_time": "2022-01-20T10:22:21.519Z"
   },
   {
    "duration": 14,
    "start_time": "2022-01-20T10:22:21.531Z"
   },
   {
    "duration": 9,
    "start_time": "2022-01-20T10:22:21.547Z"
   },
   {
    "duration": 19,
    "start_time": "2022-01-20T10:22:21.558Z"
   },
   {
    "duration": 4891,
    "start_time": "2022-01-20T10:22:21.623Z"
   },
   {
    "duration": 1881,
    "start_time": "2022-01-20T10:22:26.524Z"
   },
   {
    "duration": 22,
    "start_time": "2022-01-20T10:22:28.408Z"
   },
   {
    "duration": 10,
    "start_time": "2022-01-20T10:22:28.433Z"
   },
   {
    "duration": 14,
    "start_time": "2022-01-20T10:22:28.446Z"
   },
   {
    "duration": 7,
    "start_time": "2022-01-20T10:22:28.462Z"
   },
   {
    "duration": 724,
    "start_time": "2022-01-20T10:22:28.524Z"
   },
   {
    "duration": 8,
    "start_time": "2022-01-20T10:22:29.250Z"
   },
   {
    "duration": 734,
    "start_time": "2022-01-20T10:22:29.261Z"
   },
   {
    "duration": 8,
    "start_time": "2022-01-20T10:22:29.998Z"
   },
   {
    "duration": 721,
    "start_time": "2022-01-20T10:22:30.025Z"
   },
   {
    "duration": 7,
    "start_time": "2022-01-20T10:22:30.748Z"
   },
   {
    "duration": 733,
    "start_time": "2022-01-20T10:22:30.757Z"
   },
   {
    "duration": 9,
    "start_time": "2022-01-20T10:22:31.493Z"
   },
   {
    "duration": 1049,
    "start_time": "2022-01-20T10:22:31.523Z"
   },
   {
    "duration": 6,
    "start_time": "2022-01-20T10:22:32.575Z"
   },
   {
    "duration": 932,
    "start_time": "2022-01-20T10:22:32.584Z"
   },
   {
    "duration": 7,
    "start_time": "2022-01-20T10:22:33.523Z"
   },
   {
    "duration": 745,
    "start_time": "2022-01-20T10:22:33.533Z"
   },
   {
    "duration": 11,
    "start_time": "2022-01-20T10:22:34.280Z"
   },
   {
    "duration": 46,
    "start_time": "2022-01-20T10:22:34.294Z"
   },
   {
    "duration": 236,
    "start_time": "2022-01-20T10:22:34.342Z"
   },
   {
    "duration": 65,
    "start_time": "2022-01-20T10:22:34.580Z"
   },
   {
    "duration": 408,
    "start_time": "2022-01-20T10:22:34.648Z"
   },
   {
    "duration": 18,
    "start_time": "2022-01-20T10:22:35.058Z"
   },
   {
    "duration": 52,
    "start_time": "2022-01-20T10:22:35.078Z"
   },
   {
    "duration": 21,
    "start_time": "2022-01-20T10:22:35.132Z"
   },
   {
    "duration": 84,
    "start_time": "2022-01-20T10:22:35.155Z"
   },
   {
    "duration": 53,
    "start_time": "2022-01-20T10:22:35.242Z"
   },
   {
    "duration": 40,
    "start_time": "2022-01-20T10:22:35.297Z"
   },
   {
    "duration": 23,
    "start_time": "2022-01-20T10:22:35.339Z"
   },
   {
    "duration": 435,
    "start_time": "2022-01-20T10:24:16.880Z"
   },
   {
    "duration": 506,
    "start_time": "2022-01-20T11:28:10.678Z"
   },
   {
    "duration": 448,
    "start_time": "2022-01-20T11:29:04.728Z"
   },
   {
    "duration": 368,
    "start_time": "2022-01-20T11:29:47.764Z"
   },
   {
    "duration": 555,
    "start_time": "2022-01-20T11:31:12.452Z"
   },
   {
    "duration": 384,
    "start_time": "2022-01-20T11:32:02.930Z"
   },
   {
    "duration": 2787,
    "start_time": "2022-01-20T11:32:35.507Z"
   },
   {
    "duration": 1142,
    "start_time": "2022-01-20T11:33:17.134Z"
   },
   {
    "duration": 5011,
    "start_time": "2022-01-20T11:34:13.540Z"
   },
   {
    "duration": 1746,
    "start_time": "2022-01-20T11:34:26.880Z"
   },
   {
    "duration": 17,
    "start_time": "2022-01-20T11:42:05.503Z"
   },
   {
    "duration": 16,
    "start_time": "2022-01-20T11:42:07.432Z"
   },
   {
    "duration": 15,
    "start_time": "2022-01-20T11:42:10.772Z"
   },
   {
    "duration": 353,
    "start_time": "2022-01-20T11:42:18.043Z"
   },
   {
    "duration": 21,
    "start_time": "2022-01-20T11:42:32.915Z"
   },
   {
    "duration": 18,
    "start_time": "2022-01-20T11:42:33.991Z"
   }
  ],
  "kernelspec": {
   "display_name": "Python 3",
   "language": "python",
   "name": "python3"
  },
  "language_info": {
   "codemirror_mode": {
    "name": "ipython",
    "version": 3
   },
   "file_extension": ".py",
   "mimetype": "text/x-python",
   "name": "python",
   "nbconvert_exporter": "python",
   "pygments_lexer": "ipython3",
   "version": "3.8.8"
  },
  "toc": {
   "base_numbering": 1,
   "nav_menu": {},
   "number_sections": true,
   "sideBar": true,
   "skip_h1_title": true,
   "title_cell": "Содержание",
   "title_sidebar": "Contents",
   "toc_cell": true,
   "toc_position": {
    "height": "calc(100% - 180px)",
    "left": "10px",
    "top": "150px",
    "width": "270.391px"
   },
   "toc_section_display": true,
   "toc_window_display": true
  }
 },
 "nbformat": 4,
 "nbformat_minor": 4
}
