{
 "cells": [
  {
   "cell_type": "markdown",
   "metadata": {},
   "source": [
    "# Проект для «Викишоп»"
   ]
  },
  {
   "cell_type": "markdown",
   "metadata": {},
   "source": [
    "Интернет-магазин «Викишоп» запускает новый сервис. Теперь пользователи могут редактировать и дополнять описания товаров, как в вики-сообществах. То есть клиенты предлагают свои правки и комментируют изменения других. Магазину нужен инструмент, который будет искать токсичные комментарии и отправлять их на модерацию. \n",
    "\n",
    "Обучите модель классифицировать комментарии на позитивные и негативные. В вашем распоряжении набор данных с разметкой о токсичности правок.\n",
    "\n",
    "Постройте модель со значением метрики качества *F1* не меньше 0.75. \n",
    "\n",
    "**Инструкция по выполнению проекта**\n",
    "\n",
    "1. Загрузите и подготовьте данные.\n",
    "2. Обучите разные модели. \n",
    "3. Сделайте выводы."
   ]
  },
  {
   "cell_type": "markdown",
   "metadata": {},
   "source": [
    "## Подготовка"
   ]
  },
  {
   "cell_type": "markdown",
   "metadata": {},
   "source": [
    "### Импорт библиотек"
   ]
  },
  {
   "cell_type": "code",
   "execution_count": 1,
   "metadata": {},
   "outputs": [
    {
     "name": "stdout",
     "output_type": "stream",
     "text": [
      "Requirement already satisfied: wordcloud in /opt/conda/lib/python3.9/site-packages (1.8.1)\n",
      "Requirement already satisfied: matplotlib in /opt/conda/lib/python3.9/site-packages (from wordcloud) (3.3.4)\n",
      "Requirement already satisfied: pillow in /opt/conda/lib/python3.9/site-packages (from wordcloud) (8.4.0)\n",
      "Requirement already satisfied: numpy>=1.6.1 in /opt/conda/lib/python3.9/site-packages (from wordcloud) (1.22.3)\n",
      "Requirement already satisfied: cycler>=0.10 in /opt/conda/lib/python3.9/site-packages (from matplotlib->wordcloud) (0.11.0)\n",
      "Requirement already satisfied: python-dateutil>=2.1 in /opt/conda/lib/python3.9/site-packages (from matplotlib->wordcloud) (2.8.2)\n",
      "Requirement already satisfied: kiwisolver>=1.0.1 in /opt/conda/lib/python3.9/site-packages (from matplotlib->wordcloud) (1.4.2)\n",
      "Requirement already satisfied: pyparsing!=2.0.4,!=2.1.2,!=2.1.6,>=2.0.3 in /opt/conda/lib/python3.9/site-packages (from matplotlib->wordcloud) (3.0.6)\n",
      "Requirement already satisfied: six>=1.5 in /opt/conda/lib/python3.9/site-packages (from python-dateutil>=2.1->matplotlib->wordcloud) (1.16.0)\n"
     ]
    }
   ],
   "source": [
    "import pandas as pd\n",
    "import matplotlib.pyplot as plt\n",
    "import seaborn as sns\n",
    "\n",
    "import re\n",
    "from nltk.corpus import stopwords\n",
    "from nltk.stem.wordnet import WordNetLemmatizer\n",
    "\n",
    "from sklearn.model_selection import train_test_split\n",
    "from sklearn.feature_extraction.text import TfidfVectorizer \n",
    "\n",
    "from sklearn.linear_model import LogisticRegression\n",
    "from sklearn.tree import DecisionTreeClassifier\n",
    "from sklearn.ensemble import RandomForestClassifier\n",
    "\n",
    "import time\n",
    "\n",
    "from sklearn.metrics import f1_score\n",
    "\n",
    "from sklearn.model_selection import GridSearchCV\n",
    "\n",
    "import warnings\n",
    "warnings.filterwarnings('ignore')\n",
    "\n",
    "pd.set_option('display.max_colwidth', 100)\n",
    "sns.set(rc={'figure.figsize':(15,4)}, style='white')\n",
    "\n",
    "!pip install wordcloud\n",
    "from wordcloud import WordCloud, STOPWORDS , ImageColorGenerator"
   ]
  },
  {
   "cell_type": "markdown",
   "metadata": {},
   "source": [
    "### Датафрейм"
   ]
  },
  {
   "cell_type": "markdown",
   "metadata": {},
   "source": [
    "Прочитаем датафрейм с комментариями в файл"
   ]
  },
  {
   "cell_type": "code",
   "execution_count": 2,
   "metadata": {},
   "outputs": [],
   "source": [
    "df = pd.read_csv('/datasets/toxic_comments.csv')"
   ]
  },
  {
   "cell_type": "markdown",
   "metadata": {},
   "source": [
    "Посмотрим информацию о файле"
   ]
  },
  {
   "cell_type": "code",
   "execution_count": 3,
   "metadata": {},
   "outputs": [
    {
     "name": "stdout",
     "output_type": "stream",
     "text": [
      "<class 'pandas.core.frame.DataFrame'>\n",
      "RangeIndex: 159571 entries, 0 to 159570\n",
      "Data columns (total 2 columns):\n",
      " #   Column  Non-Null Count   Dtype \n",
      "---  ------  --------------   ----- \n",
      " 0   text    159571 non-null  object\n",
      " 1   toxic   159571 non-null  int64 \n",
      "dtypes: int64(1), object(1)\n",
      "memory usage: 2.4+ MB\n"
     ]
    }
   ],
   "source": [
    "df.info()"
   ]
  },
  {
   "cell_type": "markdown",
   "metadata": {},
   "source": [
    "Посмотрим первые пять строк файла"
   ]
  },
  {
   "cell_type": "code",
   "execution_count": 4,
   "metadata": {},
   "outputs": [
    {
     "data": {
      "text/html": [
       "<div>\n",
       "<style scoped>\n",
       "    .dataframe tbody tr th:only-of-type {\n",
       "        vertical-align: middle;\n",
       "    }\n",
       "\n",
       "    .dataframe tbody tr th {\n",
       "        vertical-align: top;\n",
       "    }\n",
       "\n",
       "    .dataframe thead th {\n",
       "        text-align: right;\n",
       "    }\n",
       "</style>\n",
       "<table border=\"1\" class=\"dataframe\">\n",
       "  <thead>\n",
       "    <tr style=\"text-align: right;\">\n",
       "      <th></th>\n",
       "      <th>text</th>\n",
       "      <th>toxic</th>\n",
       "    </tr>\n",
       "  </thead>\n",
       "  <tbody>\n",
       "    <tr>\n",
       "      <th>0</th>\n",
       "      <td>Explanation\\nWhy the edits made under my username Hardcore Metallica Fan were reverted? They wer...</td>\n",
       "      <td>0</td>\n",
       "    </tr>\n",
       "    <tr>\n",
       "      <th>1</th>\n",
       "      <td>D'aww! He matches this background colour I'm seemingly stuck with. Thanks.  (talk) 21:51, Januar...</td>\n",
       "      <td>0</td>\n",
       "    </tr>\n",
       "    <tr>\n",
       "      <th>2</th>\n",
       "      <td>Hey man, I'm really not trying to edit war. It's just that this guy is constantly removing relev...</td>\n",
       "      <td>0</td>\n",
       "    </tr>\n",
       "    <tr>\n",
       "      <th>3</th>\n",
       "      <td>\"\\nMore\\nI can't make any real suggestions on improvement - I wondered if the section statistics...</td>\n",
       "      <td>0</td>\n",
       "    </tr>\n",
       "    <tr>\n",
       "      <th>4</th>\n",
       "      <td>You, sir, are my hero. Any chance you remember what page that's on?</td>\n",
       "      <td>0</td>\n",
       "    </tr>\n",
       "  </tbody>\n",
       "</table>\n",
       "</div>"
      ],
      "text/plain": [
       "                                                                                                  text  \\\n",
       "0  Explanation\\nWhy the edits made under my username Hardcore Metallica Fan were reverted? They wer...   \n",
       "1  D'aww! He matches this background colour I'm seemingly stuck with. Thanks.  (talk) 21:51, Januar...   \n",
       "2  Hey man, I'm really not trying to edit war. It's just that this guy is constantly removing relev...   \n",
       "3  \"\\nMore\\nI can't make any real suggestions on improvement - I wondered if the section statistics...   \n",
       "4                                  You, sir, are my hero. Any chance you remember what page that's on?   \n",
       "\n",
       "   toxic  \n",
       "0      0  \n",
       "1      0  \n",
       "2      0  \n",
       "3      0  \n",
       "4      0  "
      ]
     },
     "execution_count": 4,
     "metadata": {},
     "output_type": "execute_result"
    }
   ],
   "source": [
    "df.head()"
   ]
  },
  {
   "cell_type": "markdown",
   "metadata": {},
   "source": [
    "Посмотрим, какие комментарии отмечены как токсичные"
   ]
  },
  {
   "cell_type": "code",
   "execution_count": 5,
   "metadata": {},
   "outputs": [
    {
     "data": {
      "text/html": [
       "<div>\n",
       "<style scoped>\n",
       "    .dataframe tbody tr th:only-of-type {\n",
       "        vertical-align: middle;\n",
       "    }\n",
       "\n",
       "    .dataframe tbody tr th {\n",
       "        vertical-align: top;\n",
       "    }\n",
       "\n",
       "    .dataframe thead th {\n",
       "        text-align: right;\n",
       "    }\n",
       "</style>\n",
       "<table border=\"1\" class=\"dataframe\">\n",
       "  <thead>\n",
       "    <tr style=\"text-align: right;\">\n",
       "      <th></th>\n",
       "      <th>text</th>\n",
       "      <th>toxic</th>\n",
       "    </tr>\n",
       "  </thead>\n",
       "  <tbody>\n",
       "    <tr>\n",
       "      <th>6</th>\n",
       "      <td>COCKSUCKER BEFORE YOU PISS AROUND ON MY WORK</td>\n",
       "      <td>1</td>\n",
       "    </tr>\n",
       "    <tr>\n",
       "      <th>12</th>\n",
       "      <td>Hey... what is it..\\n@ | talk .\\nWhat is it... an exclusive group of some WP TALIBANS...who are ...</td>\n",
       "      <td>1</td>\n",
       "    </tr>\n",
       "    <tr>\n",
       "      <th>16</th>\n",
       "      <td>Bye! \\n\\nDon't look, come or think of comming back! Tosser.</td>\n",
       "      <td>1</td>\n",
       "    </tr>\n",
       "    <tr>\n",
       "      <th>42</th>\n",
       "      <td>You are gay or antisemmitian? \\n\\nArchangel WHite Tiger\\n\\nMeow! Greetingshhh!\\n\\nUh, there are ...</td>\n",
       "      <td>1</td>\n",
       "    </tr>\n",
       "    <tr>\n",
       "      <th>43</th>\n",
       "      <td>FUCK YOUR FILTHY MOTHER IN THE ASS, DRY!</td>\n",
       "      <td>1</td>\n",
       "    </tr>\n",
       "  </tbody>\n",
       "</table>\n",
       "</div>"
      ],
      "text/plain": [
       "                                                                                                   text  \\\n",
       "6                                                          COCKSUCKER BEFORE YOU PISS AROUND ON MY WORK   \n",
       "12  Hey... what is it..\\n@ | talk .\\nWhat is it... an exclusive group of some WP TALIBANS...who are ...   \n",
       "16                                          Bye! \\n\\nDon't look, come or think of comming back! Tosser.   \n",
       "42  You are gay or antisemmitian? \\n\\nArchangel WHite Tiger\\n\\nMeow! Greetingshhh!\\n\\nUh, there are ...   \n",
       "43                                                             FUCK YOUR FILTHY MOTHER IN THE ASS, DRY!   \n",
       "\n",
       "    toxic  \n",
       "6       1  \n",
       "12      1  \n",
       "16      1  \n",
       "42      1  \n",
       "43      1  "
      ]
     },
     "execution_count": 5,
     "metadata": {},
     "output_type": "execute_result"
    }
   ],
   "source": [
    "df.query('toxic == 1').head()"
   ]
  },
  {
   "cell_type": "markdown",
   "metadata": {},
   "source": [
    "### Облако слов"
   ]
  },
  {
   "cell_type": "markdown",
   "metadata": {},
   "source": [
    "Воспользуемся библиотекой wordcloud для построения облака слов"
   ]
  },
  {
   "cell_type": "code",
   "execution_count": 6,
   "metadata": {},
   "outputs": [],
   "source": [
    "normal_words = df[df.toxic==0]\n",
    "toxic_words = df[df.toxic==1]"
   ]
  },
  {
   "cell_type": "code",
   "execution_count": 7,
   "metadata": {},
   "outputs": [],
   "source": [
    "all_words = \" \".join(review for review in df.text)\n",
    "normal_words = \" \".join(review for review in normal_words.text)\n",
    "toxic_words = \" \".join(review for review in toxic_words.text)"
   ]
  },
  {
   "cell_type": "code",
   "execution_count": 8,
   "metadata": {},
   "outputs": [],
   "source": [
    "wordcloud_all = WordCloud(max_font_size=50, max_words=100, background_color=\"black\").generate(all_words)\n",
    "wordcloud_normal = WordCloud(max_font_size=50, max_words=100, background_color=\"black\").generate(normal_words)\n",
    "wordcloud_toxic = WordCloud(max_font_size=50, max_words=100, background_color=\"black\").generate(toxic_words)"
   ]
  },
  {
   "cell_type": "code",
   "execution_count": 9,
   "metadata": {},
   "outputs": [
    {
     "data": {
      "text/plain": [
       "<matplotlib.image.AxesImage at 0x7f72f564a460>"
      ]
     },
     "execution_count": 9,
     "metadata": {},
     "output_type": "execute_result"
    },
    {
     "data": {
      "image/png": "[encoded data removed]",
      "text/plain": [
       "<Figure size 1080x288 with 1 Axes>"
      ]
     },
     "metadata": {},
     "output_type": "display_data"
    }
   ],
   "source": [
    "plt.title('Все комментарии')\n",
    "plt.imshow(wordcloud_all, interpolation='bilinear')"
   ]
  },
  {
   "cell_type": "code",
   "execution_count": 10,
   "metadata": {},
   "outputs": [
    {
     "data": {
      "text/plain": [
       "<matplotlib.image.AxesImage at 0x7f72a4d0e970>"
      ]
     },
     "execution_count": 10,
     "metadata": {},
     "output_type": "execute_result"
    },
    {
     "data": {
      "image/png": "[encoded data removed]",
      "text/plain": [
       "<Figure size 1080x288 with 1 Axes>"
      ]
     },
     "metadata": {},
     "output_type": "display_data"
    }
   ],
   "source": [
    "plt.title('Обычные комментарии')\n",
    "plt.imshow(wordcloud_normal, interpolation='bilinear')"
   ]
  },
  {
   "cell_type": "code",
   "execution_count": 11,
   "metadata": {},
   "outputs": [
    {
     "data": {
      "text/plain": [
       "<matplotlib.image.AxesImage at 0x7f7276ab0610>"
      ]
     },
     "execution_count": 11,
     "metadata": {},
     "output_type": "execute_result"
    },
    {
     "data": {
      "image/png": "[encoded data removed]",
      "text/plain": [
       "<Figure size 1080x288 with 1 Axes>"
      ]
     },
     "metadata": {},
     "output_type": "display_data"
    }
   ],
   "source": [
    "plt.title('Токсичные комментарии')\n",
    "plt.imshow(wordcloud_toxic, interpolation='bilinear')"
   ]
  },
  {
   "cell_type": "markdown",
   "metadata": {},
   "source": [
    "### Подготовка текста"
   ]
  },
  {
   "cell_type": "markdown",
   "metadata": {},
   "source": [
    "Скопируем тексты в другой столбец"
   ]
  },
  {
   "cell_type": "code",
   "execution_count": 12,
   "metadata": {},
   "outputs": [],
   "source": [
    "df['original'] = df['text'].copy()\n",
    "df = df.reindex(columns=['toxic', 'original', 'text'])"
   ]
  },
  {
   "cell_type": "markdown",
   "metadata": {},
   "source": [
    "Проведем предобработку текста - удалим из текстов символы и числа, и приведем к нижнему регистру, а также проведем токенизацию (разбиение текста на токены)"
   ]
  },
  {
   "cell_type": "code",
   "execution_count": 13,
   "metadata": {},
   "outputs": [],
   "source": [
    "def remove_symbols(text):\n",
    "    return re.sub(r'[\\W\\d]\\s*', ' ', text).lower()"
   ]
  },
  {
   "cell_type": "code",
   "execution_count": 14,
   "metadata": {},
   "outputs": [],
   "source": [
    "df.text = df.text.apply(remove_symbols)"
   ]
  },
  {
   "cell_type": "code",
   "execution_count": 15,
   "metadata": {},
   "outputs": [],
   "source": [
    "def tokenize(text):\n",
    "    return re.split(' ', text)"
   ]
  },
  {
   "cell_type": "code",
   "execution_count": 16,
   "metadata": {},
   "outputs": [],
   "source": [
    "df.text = df.text.apply(tokenize)"
   ]
  },
  {
   "cell_type": "markdown",
   "metadata": {},
   "source": [
    "Удалим образовавшиеся после токенизации пустые строки"
   ]
  },
  {
   "cell_type": "code",
   "execution_count": 17,
   "metadata": {},
   "outputs": [],
   "source": [
    "def remove_empty(text):\n",
    "    return [word for word in text if word!='']"
   ]
  },
  {
   "cell_type": "code",
   "execution_count": 18,
   "metadata": {},
   "outputs": [],
   "source": [
    "df.text = df.text.apply(remove_empty)"
   ]
  },
  {
   "cell_type": "markdown",
   "metadata": {},
   "source": [
    "Удалим из текстов стоп-слова (слова, не несущие значения)"
   ]
  },
  {
   "cell_type": "code",
   "execution_count": 19,
   "metadata": {},
   "outputs": [],
   "source": [
    "stopwords_list = stopwords.words('english')\n",
    "def remove_stopwords(text):\n",
    "    return [word for word in text if word not in stopwords_list]"
   ]
  },
  {
   "cell_type": "code",
   "execution_count": 20,
   "metadata": {},
   "outputs": [],
   "source": [
    "df.text = df.text.apply(remove_stopwords)"
   ]
  },
  {
   "cell_type": "markdown",
   "metadata": {},
   "source": [
    "Лемматизируем тексты (приведем словоформы к первоначальной форме - лемме)"
   ]
  },
  {
   "cell_type": "code",
   "execution_count": 21,
   "metadata": {},
   "outputs": [],
   "source": [
    "lemmatizer = WordNetLemmatizer()\n",
    "\n",
    "def lemmatize(text):\n",
    "    return [lemmatizer.lemmatize(word) for word in text]"
   ]
  },
  {
   "cell_type": "code",
   "execution_count": 22,
   "metadata": {},
   "outputs": [],
   "source": [
    "df.text = df.text.apply(lemmatize)"
   ]
  },
  {
   "cell_type": "markdown",
   "metadata": {},
   "source": [
    "Посмотрим получившийся результат"
   ]
  },
  {
   "cell_type": "code",
   "execution_count": 23,
   "metadata": {},
   "outputs": [
    {
     "data": {
      "text/html": [
       "<div>\n",
       "<style scoped>\n",
       "    .dataframe tbody tr th:only-of-type {\n",
       "        vertical-align: middle;\n",
       "    }\n",
       "\n",
       "    .dataframe tbody tr th {\n",
       "        vertical-align: top;\n",
       "    }\n",
       "\n",
       "    .dataframe thead th {\n",
       "        text-align: right;\n",
       "    }\n",
       "</style>\n",
       "<table border=\"1\" class=\"dataframe\">\n",
       "  <thead>\n",
       "    <tr style=\"text-align: right;\">\n",
       "      <th></th>\n",
       "      <th>toxic</th>\n",
       "      <th>original</th>\n",
       "      <th>text</th>\n",
       "    </tr>\n",
       "  </thead>\n",
       "  <tbody>\n",
       "    <tr>\n",
       "      <th>0</th>\n",
       "      <td>0</td>\n",
       "      <td>Explanation\\nWhy the edits made under my username Hardcore Metallica Fan were reverted? They wer...</td>\n",
       "      <td>[explanation, edits, made, username, hardcore, metallica, fan, reverted, vandalism, closure, gas...</td>\n",
       "    </tr>\n",
       "    <tr>\n",
       "      <th>1</th>\n",
       "      <td>0</td>\n",
       "      <td>D'aww! He matches this background colour I'm seemingly stuck with. Thanks.  (talk) 21:51, Januar...</td>\n",
       "      <td>[aww, match, background, colour, seemingly, stuck, thanks, talk, january, utc]</td>\n",
       "    </tr>\n",
       "    <tr>\n",
       "      <th>2</th>\n",
       "      <td>0</td>\n",
       "      <td>Hey man, I'm really not trying to edit war. It's just that this guy is constantly removing relev...</td>\n",
       "      <td>[hey, man, really, trying, edit, war, guy, constantly, removing, relevant, information, talking,...</td>\n",
       "    </tr>\n",
       "    <tr>\n",
       "      <th>3</th>\n",
       "      <td>0</td>\n",
       "      <td>\"\\nMore\\nI can't make any real suggestions on improvement - I wondered if the section statistics...</td>\n",
       "      <td>[make, real, suggestion, improvement, wondered, section, statistic, later, subsection, type, acc...</td>\n",
       "    </tr>\n",
       "    <tr>\n",
       "      <th>4</th>\n",
       "      <td>0</td>\n",
       "      <td>You, sir, are my hero. Any chance you remember what page that's on?</td>\n",
       "      <td>[sir, hero, chance, remember, page]</td>\n",
       "    </tr>\n",
       "  </tbody>\n",
       "</table>\n",
       "</div>"
      ],
      "text/plain": [
       "   toxic  \\\n",
       "0      0   \n",
       "1      0   \n",
       "2      0   \n",
       "3      0   \n",
       "4      0   \n",
       "\n",
       "                                                                                              original  \\\n",
       "0  Explanation\\nWhy the edits made under my username Hardcore Metallica Fan were reverted? They wer...   \n",
       "1  D'aww! He matches this background colour I'm seemingly stuck with. Thanks.  (talk) 21:51, Januar...   \n",
       "2  Hey man, I'm really not trying to edit war. It's just that this guy is constantly removing relev...   \n",
       "3  \"\\nMore\\nI can't make any real suggestions on improvement - I wondered if the section statistics...   \n",
       "4                                  You, sir, are my hero. Any chance you remember what page that's on?   \n",
       "\n",
       "                                                                                                  text  \n",
       "0  [explanation, edits, made, username, hardcore, metallica, fan, reverted, vandalism, closure, gas...  \n",
       "1                       [aww, match, background, colour, seemingly, stuck, thanks, talk, january, utc]  \n",
       "2  [hey, man, really, trying, edit, war, guy, constantly, removing, relevant, information, talking,...  \n",
       "3  [make, real, suggestion, improvement, wondered, section, statistic, later, subsection, type, acc...  \n",
       "4                                                                  [sir, hero, chance, remember, page]  "
      ]
     },
     "execution_count": 23,
     "metadata": {},
     "output_type": "execute_result"
    }
   ],
   "source": [
    "df.head()"
   ]
  },
  {
   "cell_type": "markdown",
   "metadata": {},
   "source": [
    "## Обучение"
   ]
  },
  {
   "cell_type": "markdown",
   "metadata": {},
   "source": [
    "### Подготовка признаков"
   ]
  },
  {
   "cell_type": "markdown",
   "metadata": {},
   "source": [
    "Разделим датафрейм на обучающую и тестовую выборки в соотношении 70:30"
   ]
  },
  {
   "cell_type": "code",
   "execution_count": 24,
   "metadata": {},
   "outputs": [],
   "source": [
    "train, test = train_test_split(df, test_size=0.3, random_state=12345)"
   ]
  },
  {
   "cell_type": "markdown",
   "metadata": {},
   "source": [
    "Создадим счетчик TF-IDF"
   ]
  },
  {
   "cell_type": "code",
   "execution_count": 25,
   "metadata": {},
   "outputs": [],
   "source": [
    "count_tf_idf = TfidfVectorizer()"
   ]
  },
  {
   "cell_type": "markdown",
   "metadata": {},
   "source": [
    "Разделим признаки в выборках"
   ]
  },
  {
   "cell_type": "code",
   "execution_count": 26,
   "metadata": {},
   "outputs": [],
   "source": [
    "features_train = train['text'].astype('U')\n",
    "target_train = train['toxic']\n",
    "    \n",
    "features_test = test['text'].astype('U')\n",
    "target_test = test['toxic']"
   ]
  },
  {
   "cell_type": "markdown",
   "metadata": {},
   "source": [
    "Применим на признаках TF-IDF"
   ]
  },
  {
   "cell_type": "code",
   "execution_count": 27,
   "metadata": {},
   "outputs": [],
   "source": [
    "features_train = count_tf_idf.fit_transform(features_train)\n",
    "features_test = count_tf_idf.transform(features_test)"
   ]
  },
  {
   "cell_type": "markdown",
   "metadata": {},
   "source": [
    "### Функции для обучения"
   ]
  },
  {
   "cell_type": "markdown",
   "metadata": {},
   "source": [
    "Определим функции, которые будем использовать при обучении"
   ]
  },
  {
   "cell_type": "markdown",
   "metadata": {},
   "source": [
    "Обучение модели и расчет времени"
   ]
  },
  {
   "cell_type": "code",
   "execution_count": 28,
   "metadata": {},
   "outputs": [],
   "source": [
    "def fit_model(model, features, target):\n",
    "    start = time.time()\n",
    "    \n",
    "    try:\n",
    "        model.fit(features, target, verbose=False)\n",
    "    except:\n",
    "        model.fit(features, target)\n",
    "        \n",
    "    end = time.time()\n",
    "    \n",
    "    return {'model':model, 'fit_time':(end-start)}"
   ]
  },
  {
   "cell_type": "markdown",
   "metadata": {},
   "source": [
    "Предсказание целевого признака и расчет времени"
   ]
  },
  {
   "cell_type": "code",
   "execution_count": 29,
   "metadata": {},
   "outputs": [],
   "source": [
    "def predict_values(model, features):\n",
    "    start = time.time()\n",
    "    \n",
    "    predictions = model.predict(features)\n",
    "    end = time.time()\n",
    "    \n",
    "    return {'predictions':predictions, 'prediction_time':(end-start)}"
   ]
  },
  {
   "cell_type": "markdown",
   "metadata": {},
   "source": [
    "Вывод метрик"
   ]
  },
  {
   "cell_type": "code",
   "execution_count": 30,
   "metadata": {},
   "outputs": [],
   "source": [
    "def display_metrics(fit_time, prediction_time, f1_score):\n",
    "    print('Время обучения модели:', fit_time)\n",
    "    print('Время предсказания:', prediction_time)\n",
    "    print('F1 Score:', f1_score)"
   ]
  },
  {
   "cell_type": "markdown",
   "metadata": {},
   "source": [
    "Обработка модели"
   ]
  },
  {
   "cell_type": "code",
   "execution_count": 31,
   "metadata": {},
   "outputs": [],
   "source": [
    "def process_model(model, features_train, target_train, features_test, target_test):\n",
    "    fit = fit_model(model, features_train, target_train)\n",
    "    predict = predict_values(fit.get('model'), features_test)\n",
    "    f1 = f1_score(target_test, predict.get('predictions'))\n",
    "    display_metrics(fit.get('fit_time'), predict.get('prediction_time'), f1)\n",
    "    return [fit.get('model'), fit.get('fit_time'), predict.get('prediction_time'), f1]"
   ]
  },
  {
   "cell_type": "markdown",
   "metadata": {},
   "source": [
    "### Обучение моделей"
   ]
  },
  {
   "cell_type": "markdown",
   "metadata": {},
   "source": [
    "Обучим классификаторы и логистическую регрессию без подбора гиперпараметров, сравним результаты и выберем лучшую модель"
   ]
  },
  {
   "cell_type": "code",
   "execution_count": 32,
   "metadata": {},
   "outputs": [],
   "source": [
    "models = []"
   ]
  },
  {
   "cell_type": "markdown",
   "metadata": {},
   "source": [
    "LogisticRegression"
   ]
  },
  {
   "cell_type": "code",
   "execution_count": 33,
   "metadata": {},
   "outputs": [
    {
     "name": "stdout",
     "output_type": "stream",
     "text": [
      "Время обучения модели: 46.47535967826843\n",
      "Время предсказания: 0.004828691482543945\n",
      "F1 Score: 0.7453096259963213\n"
     ]
    }
   ],
   "source": [
    "model = LogisticRegression()\n",
    "models.append(process_model(model, features_train, target_train, features_test, target_test))"
   ]
  },
  {
   "cell_type": "markdown",
   "metadata": {},
   "source": [
    "DecisionTreeClassifier"
   ]
  },
  {
   "cell_type": "code",
   "execution_count": 34,
   "metadata": {},
   "outputs": [
    {
     "name": "stdout",
     "output_type": "stream",
     "text": [
      "Время обучения модели: 320.39359736442566\n",
      "Время предсказания: 0.14385390281677246\n",
      "F1 Score: 0.7107183228856233\n"
     ]
    }
   ],
   "source": [
    "model = DecisionTreeClassifier()\n",
    "models.append(process_model(model, features_train, target_train, features_test, target_test))"
   ]
  },
  {
   "cell_type": "markdown",
   "metadata": {},
   "source": [
    "RandomForestClassifier"
   ]
  },
  {
   "cell_type": "code",
   "execution_count": 35,
   "metadata": {},
   "outputs": [
    {
     "name": "stdout",
     "output_type": "stream",
     "text": [
      "Время обучения модели: 422.2914969921112\n",
      "Время предсказания: 7.2004148960113525\n",
      "F1 Score: 0.7255999005346264\n"
     ]
    }
   ],
   "source": [
    "model = RandomForestClassifier()\n",
    "models.append(process_model(model, features_train, target_train, features_test, target_test))"
   ]
  },
  {
   "cell_type": "markdown",
   "metadata": {},
   "source": [
    "Результаты"
   ]
  },
  {
   "cell_type": "code",
   "execution_count": 36,
   "metadata": {},
   "outputs": [],
   "source": [
    "result = pd.DataFrame(models, columns=['model','fit_time','prediction_time','f1_score'])"
   ]
  },
  {
   "cell_type": "code",
   "execution_count": 37,
   "metadata": {},
   "outputs": [
    {
     "data": {
      "text/html": [
       "<style  type=\"text/css\" >\n",
       "#T_65b04_row0_col1,#T_65b04_row0_col2,#T_65b04_row1_col3{\n",
       "            background-color:  #ffffd9;\n",
       "            color:  #000000;\n",
       "        }#T_65b04_row0_col3,#T_65b04_row2_col1,#T_65b04_row2_col2{\n",
       "            background-color:  #081d58;\n",
       "            color:  #f1f1f1;\n",
       "        }#T_65b04_row1_col1{\n",
       "            background-color:  #2166ac;\n",
       "            color:  #f1f1f1;\n",
       "        }#T_65b04_row1_col2{\n",
       "            background-color:  #fdfed4;\n",
       "            color:  #000000;\n",
       "        }#T_65b04_row2_col3{\n",
       "            background-color:  #63c3bf;\n",
       "            color:  #000000;\n",
       "        }</style><table id=\"T_65b04_\" ><thead>    <tr>        <th class=\"blank level0\" ></th>        <th class=\"col_heading level0 col0\" >model</th>        <th class=\"col_heading level0 col1\" >fit_time</th>        <th class=\"col_heading level0 col2\" >prediction_time</th>        <th class=\"col_heading level0 col3\" >f1_score</th>    </tr></thead><tbody>\n",
       "                <tr>\n",
       "                        <th id=\"T_65b04_level0_row0\" class=\"row_heading level0 row0\" >0</th>\n",
       "                        <td id=\"T_65b04_row0_col0\" class=\"data row0 col0\" >LogisticRegression()</td>\n",
       "                        <td id=\"T_65b04_row0_col1\" class=\"data row0 col1\" >46.475360</td>\n",
       "                        <td id=\"T_65b04_row0_col2\" class=\"data row0 col2\" >0.004829</td>\n",
       "                        <td id=\"T_65b04_row0_col3\" class=\"data row0 col3\" >0.745310</td>\n",
       "            </tr>\n",
       "            <tr>\n",
       "                        <th id=\"T_65b04_level0_row1\" class=\"row_heading level0 row1\" >1</th>\n",
       "                        <td id=\"T_65b04_row1_col0\" class=\"data row1 col0\" >DecisionTreeClassifier()</td>\n",
       "                        <td id=\"T_65b04_row1_col1\" class=\"data row1 col1\" >320.393597</td>\n",
       "                        <td id=\"T_65b04_row1_col2\" class=\"data row1 col2\" >0.143854</td>\n",
       "                        <td id=\"T_65b04_row1_col3\" class=\"data row1 col3\" >0.710718</td>\n",
       "            </tr>\n",
       "            <tr>\n",
       "                        <th id=\"T_65b04_level0_row2\" class=\"row_heading level0 row2\" >2</th>\n",
       "                        <td id=\"T_65b04_row2_col0\" class=\"data row2 col0\" >RandomForestClassifier()</td>\n",
       "                        <td id=\"T_65b04_row2_col1\" class=\"data row2 col1\" >422.291497</td>\n",
       "                        <td id=\"T_65b04_row2_col2\" class=\"data row2 col2\" >7.200415</td>\n",
       "                        <td id=\"T_65b04_row2_col3\" class=\"data row2 col3\" >0.725600</td>\n",
       "            </tr>\n",
       "    </tbody></table>"
      ],
      "text/plain": [
       "<pandas.io.formats.style.Styler at 0x7f726d43c850>"
      ]
     },
     "execution_count": 37,
     "metadata": {},
     "output_type": "execute_result"
    }
   ],
   "source": [
    "result.style.background_gradient(cmap='YlGnBu')"
   ]
  },
  {
   "cell_type": "markdown",
   "metadata": {},
   "source": [
    "Лучший результат демонстрирует логистическая регрессия, у дерева и леса результаты неплохие, но очень долгое время обучения, у байесовского классификатора результат посредственный\n",
    "\n",
    "Попробуем улучшить результаты"
   ]
  },
  {
   "cell_type": "markdown",
   "metadata": {},
   "source": [
    "Посмотрим соотношение комментариев"
   ]
  },
  {
   "cell_type": "code",
   "execution_count": 38,
   "metadata": {},
   "outputs": [],
   "source": [
    "data = df.toxic.value_counts()\n",
    "labels = data.index"
   ]
  },
  {
   "cell_type": "code",
   "execution_count": 39,
   "metadata": {},
   "outputs": [
    {
     "data": {
      "image/png": "[encoded data removed]",
      "text/plain": [
       "<Figure size 1080x288 with 1 Axes>"
      ]
     },
     "metadata": {},
     "output_type": "display_data"
    }
   ],
   "source": [
    "plt.pie(data, labels=labels, autopct='%.1f%%')\n",
    "plt.title('Соотношение токсичных и обычных комментариев')\n",
    "plt.show()"
   ]
  },
  {
   "cell_type": "markdown",
   "metadata": {},
   "source": [
    "Налицо дисбаланс классов, нужно переобучить модели с учетом дисбаланса, а также попробовать уменьшить глубину для деревьев, чтобы снизить время обучения. Для модели логистической регрессии имеет смысл увеличить гиперпараметр C (по умолчанию 1.0)"
   ]
  },
  {
   "cell_type": "markdown",
   "metadata": {},
   "source": [
    "LogisticRegression"
   ]
  },
  {
   "cell_type": "code",
   "execution_count": 40,
   "metadata": {},
   "outputs": [
    {
     "name": "stdout",
     "output_type": "stream",
     "text": [
      "Время обучения модели: 46.91940093040466\n",
      "Время предсказания: 0.005694389343261719\n",
      "F1 Score: 0.7674718790337451\n"
     ]
    }
   ],
   "source": [
    "model = LogisticRegression(class_weight='balanced', C=2)\n",
    "models.append(process_model(model, features_train, target_train, features_test, target_test))"
   ]
  },
  {
   "cell_type": "markdown",
   "metadata": {},
   "source": [
    "DecisionTreeClassifier"
   ]
  },
  {
   "cell_type": "code",
   "execution_count": 41,
   "metadata": {},
   "outputs": [
    {
     "name": "stdout",
     "output_type": "stream",
     "text": [
      "Время обучения модели: 5.565413951873779\n",
      "Время предсказания: 0.010372638702392578\n",
      "F1 Score: 0.5766031660853234\n"
     ]
    }
   ],
   "source": [
    "model = DecisionTreeClassifier(class_weight='balanced', max_depth=10)\n",
    "models.append(process_model(model, features_train, target_train, features_test, target_test))"
   ]
  },
  {
   "cell_type": "markdown",
   "metadata": {},
   "source": [
    "RandomForestClassifier"
   ]
  },
  {
   "cell_type": "code",
   "execution_count": 42,
   "metadata": {},
   "outputs": [
    {
     "name": "stdout",
     "output_type": "stream",
     "text": [
      "Время обучения модели: 3.4750802516937256\n",
      "Время предсказания: 0.6442663669586182\n",
      "F1 Score: 0.3571091166745395\n"
     ]
    }
   ],
   "source": [
    "model = RandomForestClassifier(class_weight='balanced', max_depth=10)\n",
    "models.append(process_model(model, features_train, target_train, features_test, target_test))"
   ]
  },
  {
   "cell_type": "markdown",
   "metadata": {},
   "source": [
    "## Выводы"
   ]
  },
  {
   "cell_type": "markdown",
   "metadata": {},
   "source": [
    "Представленный датафрейм содержит текстовые комментарии и оценку, является ли комментарий токсичным\n",
    "\n",
    "Проведена предобработка текста:\n",
    "1. Удалены символы и числа\n",
    "2. Тексты приведены к нижнему регистру\n",
    "3. Применена токенизация\n",
    "4. Удалены стоп-слова\n",
    "5. Применена лемматизация\n",
    "\n",
    "После предобработки датафрейм был разделен на обучающую и тестовую выборки в соотношении 70:30, после чего к текстам была применена векторизация TF-IDF\n",
    "\n",
    "Так как задача сводилась к классификации 0-1, выбраны следующие модели машинного обучения:\n",
    "1. Логистическая регрессия\n",
    "2. Классификатор \"дерево решений\"\n",
    "3. Классификатор \"случайный лес\"\n",
    "\n",
    "После обучения получены следующие результаты:\n",
    "1. Самой перспективной представляется логистическая регрессия - самая высокая метрика F1 при быстром обучении\n",
    "2. Дерево решений и случайный лес имеют неплохую F1, но крайне медленно обучаются\n",
    "\n",
    "После этого был проверен баланс классов и выявлен дисбаланс\n",
    "\n",
    "Модели были переобучены с учетом дисбаланса, а у моделей случайного леса и дерева решений глубина была ограничена 10, также у логистической модели был увеличен параметр C\n",
    "\n",
    "После переобучения следующие результаты:\n",
    "1. Дерево и лес обучились значительно быстрее, но метрика F1 упала до неприемлемых значений\n",
    "2. Логистическая регрессия получила F1=0.767 при незначительном увеличении времени обучения"
   ]
  }
 ],
 "metadata": {
  "ExecuteTimeLog": [
   {
    "duration": 1608,
    "start_time": "2022-05-31T10:03:56.447Z"
   },
   {
    "duration": 2446,
    "start_time": "2022-05-31T10:04:26.374Z"
   },
   {
    "duration": 8,
    "start_time": "2022-05-31T10:04:41.084Z"
   },
   {
    "duration": 9,
    "start_time": "2022-05-31T10:04:50.655Z"
   },
   {
    "duration": 118,
    "start_time": "2022-05-31T10:05:22.256Z"
   },
   {
    "duration": 144,
    "start_time": "2022-05-31T10:05:27.371Z"
   },
   {
    "duration": 18,
    "start_time": "2022-05-31T10:05:43.399Z"
   },
   {
    "duration": 13,
    "start_time": "2022-05-31T10:05:49.303Z"
   },
   {
    "duration": 9,
    "start_time": "2022-05-31T10:06:26.864Z"
   },
   {
    "duration": 5,
    "start_time": "2022-05-31T10:06:35.841Z"
   },
   {
    "duration": 3,
    "start_time": "2022-06-04T13:14:47.544Z"
   },
   {
    "duration": 863,
    "start_time": "2022-06-04T13:14:48.581Z"
   },
   {
    "duration": 4,
    "start_time": "2022-06-04T13:14:50.043Z"
   },
   {
    "duration": 9,
    "start_time": "2022-06-04T13:14:50.733Z"
   },
   {
    "duration": 13,
    "start_time": "2022-06-04T13:14:55.137Z"
   },
   {
    "duration": 4,
    "start_time": "2022-06-04T13:14:55.921Z"
   },
   {
    "duration": 5,
    "start_time": "2022-06-04T13:15:50.997Z"
   },
   {
    "duration": 4,
    "start_time": "2022-06-04T13:16:08.785Z"
   },
   {
    "duration": 1130,
    "start_time": "2022-06-04T17:22:19.801Z"
   },
   {
    "duration": 2331,
    "start_time": "2022-06-04T17:22:20.933Z"
   },
   {
    "duration": 5,
    "start_time": "2022-06-04T17:22:26.205Z"
   },
   {
    "duration": 9,
    "start_time": "2022-06-04T17:22:27.164Z"
   },
   {
    "duration": 4,
    "start_time": "2022-06-04T17:22:35.309Z"
   },
   {
    "duration": 815,
    "start_time": "2022-06-04T17:22:35.659Z"
   },
   {
    "duration": 3,
    "start_time": "2022-06-04T17:22:36.476Z"
   },
   {
    "duration": 6,
    "start_time": "2022-06-04T17:22:36.527Z"
   },
   {
    "duration": 14,
    "start_time": "2022-06-04T17:22:42.263Z"
   },
   {
    "duration": 5,
    "start_time": "2022-06-04T17:22:45.703Z"
   },
   {
    "duration": 6,
    "start_time": "2022-06-04T17:22:54.906Z"
   },
   {
    "duration": 117,
    "start_time": "2022-06-04T17:23:09.529Z"
   },
   {
    "duration": 3017,
    "start_time": "2022-06-04T17:23:36.516Z"
   },
   {
    "duration": 66,
    "start_time": "2022-06-04T17:23:44.521Z"
   },
   {
    "duration": 25,
    "start_time": "2022-06-04T17:24:09.306Z"
   },
   {
    "duration": 18,
    "start_time": "2022-06-04T17:24:29.301Z"
   },
   {
    "duration": 14,
    "start_time": "2022-06-04T17:24:38.617Z"
   },
   {
    "duration": 57730,
    "start_time": "2022-06-04T17:24:54.121Z"
   },
   {
    "duration": 31,
    "start_time": "2022-06-04T17:33:24.939Z"
   },
   {
    "duration": 1167,
    "start_time": "2022-06-04T17:37:37.393Z"
   },
   {
    "duration": 4,
    "start_time": "2022-06-04T17:37:41.696Z"
   },
   {
    "duration": 923,
    "start_time": "2022-06-04T17:37:43.396Z"
   },
   {
    "duration": 41,
    "start_time": "2022-06-04T17:37:46.531Z"
   },
   {
    "duration": 5,
    "start_time": "2022-06-04T17:37:47.429Z"
   },
   {
    "duration": 11,
    "start_time": "2022-06-04T17:37:53.432Z"
   },
   {
    "duration": 20,
    "start_time": "2022-06-04T17:37:56.637Z"
   },
   {
    "duration": 1246,
    "start_time": "2022-06-04T17:39:40.851Z"
   },
   {
    "duration": 943,
    "start_time": "2022-06-04T17:39:44.536Z"
   },
   {
    "duration": 0,
    "start_time": "2022-06-04T17:42:24.738Z"
   },
   {
    "duration": 209,
    "start_time": "2022-06-04T17:42:50.211Z"
   },
   {
    "duration": 0,
    "start_time": "2022-06-04T17:44:29.096Z"
   },
   {
    "duration": 9,
    "start_time": "2022-06-04T17:48:57.708Z"
   },
   {
    "duration": 66,
    "start_time": "2022-06-04T17:49:13.831Z"
   },
   {
    "duration": 73,
    "start_time": "2022-06-04T17:49:48.700Z"
   },
   {
    "duration": 5,
    "start_time": "2022-06-04T17:50:38.327Z"
   },
   {
    "duration": 73,
    "start_time": "2022-06-04T17:50:39.504Z"
   },
   {
    "duration": 88,
    "start_time": "2022-06-04T17:51:36.555Z"
   },
   {
    "duration": 74,
    "start_time": "2022-06-04T17:51:45.612Z"
   },
   {
    "duration": 80,
    "start_time": "2022-06-04T17:52:00.737Z"
   },
   {
    "duration": 4,
    "start_time": "2022-06-04T17:54:00.936Z"
   },
   {
    "duration": 810,
    "start_time": "2022-06-04T17:54:02.543Z"
   },
   {
    "duration": 32,
    "start_time": "2022-06-04T17:54:04.824Z"
   },
   {
    "duration": 9,
    "start_time": "2022-06-04T17:54:08.333Z"
   },
   {
    "duration": 13,
    "start_time": "2022-06-04T17:54:10.707Z"
   },
   {
    "duration": 5,
    "start_time": "2022-06-04T17:54:15.448Z"
   },
   {
    "duration": 92,
    "start_time": "2022-06-04T17:54:16.104Z"
   },
   {
    "duration": 30,
    "start_time": "2022-06-04T17:57:02.098Z"
   },
   {
    "duration": 2336,
    "start_time": "2022-06-04T17:57:17.354Z"
   },
   {
    "duration": 813,
    "start_time": "2022-06-04T17:57:26.111Z"
   },
   {
    "duration": 33,
    "start_time": "2022-06-04T17:57:27.763Z"
   },
   {
    "duration": 9,
    "start_time": "2022-06-04T17:57:32.898Z"
   },
   {
    "duration": 17,
    "start_time": "2022-06-04T17:57:35.012Z"
   },
   {
    "duration": 6,
    "start_time": "2022-06-04T17:57:37.424Z"
   },
   {
    "duration": 83,
    "start_time": "2022-06-04T17:57:37.990Z"
   },
   {
    "duration": 24,
    "start_time": "2022-06-04T17:59:10.501Z"
   },
   {
    "duration": 17,
    "start_time": "2022-06-04T17:59:55.053Z"
   },
   {
    "duration": 15,
    "start_time": "2022-06-04T18:01:50.296Z"
   },
   {
    "duration": 427,
    "start_time": "2022-06-04T18:01:50.700Z"
   },
   {
    "duration": 57448,
    "start_time": "2022-06-04T18:02:58.958Z"
   },
   {
    "duration": 248,
    "start_time": "2022-06-04T18:04:12.987Z"
   },
   {
    "duration": 207,
    "start_time": "2022-06-04T18:04:29.201Z"
   },
   {
    "duration": 143,
    "start_time": "2022-06-04T18:24:48.899Z"
   },
   {
    "duration": 217,
    "start_time": "2022-06-04T18:25:27.529Z"
   },
   {
    "duration": 198,
    "start_time": "2022-06-04T18:25:41.531Z"
   },
   {
    "duration": 204,
    "start_time": "2022-06-04T18:26:21.186Z"
   },
   {
    "duration": 2920,
    "start_time": "2022-06-04T18:27:39.704Z"
   },
   {
    "duration": 82,
    "start_time": "2022-06-04T18:27:46.325Z"
   },
   {
    "duration": 257,
    "start_time": "2022-06-04T18:27:51.383Z"
   },
   {
    "duration": 2263,
    "start_time": "2022-06-04T18:28:43.808Z"
   },
   {
    "duration": 84,
    "start_time": "2022-06-04T18:28:48.738Z"
   },
   {
    "duration": 267,
    "start_time": "2022-06-04T18:28:51.754Z"
   },
   {
    "duration": 2311,
    "start_time": "2022-06-04T18:29:19.795Z"
   },
   {
    "duration": 82,
    "start_time": "2022-06-04T18:29:24.005Z"
   },
   {
    "duration": 257,
    "start_time": "2022-06-04T18:29:27.397Z"
   },
   {
    "duration": 264,
    "start_time": "2022-06-04T18:29:59.043Z"
   },
   {
    "duration": 270,
    "start_time": "2022-06-04T18:30:20.011Z"
   },
   {
    "duration": 6,
    "start_time": "2022-06-04T18:32:29.840Z"
   },
   {
    "duration": 3,
    "start_time": "2022-06-04T18:32:37.420Z"
   },
   {
    "duration": 3,
    "start_time": "2022-06-04T18:32:47.795Z"
   },
   {
    "duration": 5,
    "start_time": "2022-06-04T18:32:54.879Z"
   },
   {
    "duration": 3,
    "start_time": "2022-06-04T18:33:00.945Z"
   },
   {
    "duration": 4,
    "start_time": "2022-06-04T18:33:01.389Z"
   },
   {
    "duration": 2,
    "start_time": "2022-06-04T18:33:28.239Z"
   },
   {
    "duration": 2,
    "start_time": "2022-06-04T18:33:28.714Z"
   },
   {
    "duration": 2242,
    "start_time": "2022-06-04T18:35:04.177Z"
   },
   {
    "duration": 3,
    "start_time": "2022-06-04T18:35:26.537Z"
   },
   {
    "duration": 3457,
    "start_time": "2022-06-04T18:35:38.038Z"
   },
   {
    "duration": 5,
    "start_time": "2022-06-04T18:35:47.748Z"
   },
   {
    "duration": 2325,
    "start_time": "2022-06-04T19:48:14.682Z"
   },
   {
    "duration": 942,
    "start_time": "2022-06-04T19:48:17.009Z"
   },
   {
    "duration": 29,
    "start_time": "2022-06-04T19:48:17.953Z"
   },
   {
    "duration": 8,
    "start_time": "2022-06-04T19:48:17.983Z"
   },
   {
    "duration": 18,
    "start_time": "2022-06-04T19:48:17.993Z"
   },
   {
    "duration": 4,
    "start_time": "2022-06-04T19:48:18.012Z"
   },
   {
    "duration": 116,
    "start_time": "2022-06-04T19:48:18.018Z"
   },
   {
    "duration": 32,
    "start_time": "2022-06-04T19:48:18.136Z"
   },
   {
    "duration": 441,
    "start_time": "2022-06-04T19:48:18.170Z"
   },
   {
    "duration": 25414,
    "start_time": "2022-06-04T19:48:18.613Z"
   },
   {
    "duration": 0,
    "start_time": "2022-06-04T19:48:44.029Z"
   },
   {
    "duration": 0,
    "start_time": "2022-06-04T19:48:44.031Z"
   },
   {
    "duration": 0,
    "start_time": "2022-06-04T19:48:44.032Z"
   },
   {
    "duration": 0,
    "start_time": "2022-06-04T19:48:44.033Z"
   },
   {
    "duration": 0,
    "start_time": "2022-06-04T19:48:44.034Z"
   },
   {
    "duration": 3,
    "start_time": "2022-06-04T19:48:49.502Z"
   },
   {
    "duration": 3,
    "start_time": "2022-06-04T19:48:49.961Z"
   },
   {
    "duration": 3,
    "start_time": "2022-06-04T19:48:51.216Z"
   },
   {
    "duration": 1744,
    "start_time": "2022-06-04T19:48:51.927Z"
   },
   {
    "duration": 5,
    "start_time": "2022-06-04T19:48:54.512Z"
   },
   {
    "duration": 4,
    "start_time": "2022-06-04T19:49:16.410Z"
   },
   {
    "duration": 2,
    "start_time": "2022-06-04T19:49:19.149Z"
   },
   {
    "duration": 2,
    "start_time": "2022-06-04T19:49:19.615Z"
   },
   {
    "duration": 4,
    "start_time": "2022-06-04T19:49:20.427Z"
   },
   {
    "duration": 1698,
    "start_time": "2022-06-04T19:49:20.845Z"
   },
   {
    "duration": 4,
    "start_time": "2022-06-04T19:49:22.545Z"
   },
   {
    "duration": 2,
    "start_time": "2022-06-04T19:49:33.194Z"
   },
   {
    "duration": 2,
    "start_time": "2022-06-04T19:49:33.506Z"
   },
   {
    "duration": 2,
    "start_time": "2022-06-04T19:49:34.306Z"
   },
   {
    "duration": 1719,
    "start_time": "2022-06-04T19:49:34.827Z"
   },
   {
    "duration": 5,
    "start_time": "2022-06-04T19:49:36.730Z"
   },
   {
    "duration": 3,
    "start_time": "2022-06-04T19:50:21.226Z"
   },
   {
    "duration": 3,
    "start_time": "2022-06-04T19:50:21.654Z"
   },
   {
    "duration": 4,
    "start_time": "2022-06-04T19:50:22.492Z"
   },
   {
    "duration": 3715,
    "start_time": "2022-06-04T19:50:23.120Z"
   },
   {
    "duration": 5,
    "start_time": "2022-06-04T19:50:26.837Z"
   },
   {
    "duration": 3,
    "start_time": "2022-06-04T19:51:45.273Z"
   },
   {
    "duration": 3,
    "start_time": "2022-06-04T19:51:45.777Z"
   },
   {
    "duration": 3,
    "start_time": "2022-06-04T19:51:46.876Z"
   },
   {
    "duration": 2107,
    "start_time": "2022-06-04T19:51:47.755Z"
   },
   {
    "duration": 6,
    "start_time": "2022-06-04T19:51:50.610Z"
   },
   {
    "duration": 3,
    "start_time": "2022-06-04T19:52:10.394Z"
   },
   {
    "duration": 3,
    "start_time": "2022-06-04T19:52:10.741Z"
   },
   {
    "duration": 3,
    "start_time": "2022-06-04T19:52:11.510Z"
   },
   {
    "duration": 3915,
    "start_time": "2022-06-04T19:52:11.938Z"
   },
   {
    "duration": 5,
    "start_time": "2022-06-04T19:52:16.884Z"
   },
   {
    "duration": 3,
    "start_time": "2022-06-04T20:08:57.342Z"
   },
   {
    "duration": 4410,
    "start_time": "2022-06-04T20:09:46.895Z"
   },
   {
    "duration": 9,
    "start_time": "2022-06-04T20:35:25.489Z"
   },
   {
    "duration": 4781,
    "start_time": "2022-06-04T20:35:58.664Z"
   },
   {
    "duration": 39,
    "start_time": "2022-06-04T20:36:11.694Z"
   },
   {
    "duration": 20572,
    "start_time": "2022-06-04T20:36:26.613Z"
   },
   {
    "duration": 2350,
    "start_time": "2022-06-04T20:37:15.446Z"
   },
   {
    "duration": 10,
    "start_time": "2022-06-04T20:38:12.665Z"
   },
   {
    "duration": 7,
    "start_time": "2022-06-04T20:38:31.437Z"
   },
   {
    "duration": 5,
    "start_time": "2022-06-04T20:39:42.267Z"
   },
   {
    "duration": 3,
    "start_time": "2022-06-04T20:40:07.293Z"
   },
   {
    "duration": 4,
    "start_time": "2022-06-04T20:40:22.549Z"
   },
   {
    "duration": 2,
    "start_time": "2022-06-04T20:42:58.290Z"
   },
   {
    "duration": 22,
    "start_time": "2022-06-04T20:42:58.715Z"
   },
   {
    "duration": 3,
    "start_time": "2022-06-04T20:43:13.255Z"
   },
   {
    "duration": 14,
    "start_time": "2022-06-04T20:43:14.192Z"
   },
   {
    "duration": 38,
    "start_time": "2022-06-04T20:45:05.379Z"
   },
   {
    "duration": 19,
    "start_time": "2022-06-04T20:45:12.485Z"
   },
   {
    "duration": 4,
    "start_time": "2022-06-04T20:45:29.056Z"
   },
   {
    "duration": 15,
    "start_time": "2022-06-04T20:45:30.355Z"
   },
   {
    "duration": 3,
    "start_time": "2022-06-04T20:45:39.980Z"
   },
   {
    "duration": 15,
    "start_time": "2022-06-04T20:45:40.550Z"
   },
   {
    "duration": 4,
    "start_time": "2022-06-04T20:47:38.375Z"
   },
   {
    "duration": 5,
    "start_time": "2022-06-04T20:47:41.722Z"
   },
   {
    "duration": 2,
    "start_time": "2022-06-04T20:48:37.641Z"
   },
   {
    "duration": 14,
    "start_time": "2022-06-04T20:48:38.112Z"
   },
   {
    "duration": 3,
    "start_time": "2022-06-04T20:48:59.978Z"
   },
   {
    "duration": 17,
    "start_time": "2022-06-04T20:49:00.402Z"
   },
   {
    "duration": 3,
    "start_time": "2022-06-04T20:50:16.886Z"
   },
   {
    "duration": 182498,
    "start_time": "2022-06-04T20:50:19.295Z"
   },
   {
    "duration": 4,
    "start_time": "2022-06-04T20:53:49.430Z"
   },
   {
    "duration": 15467,
    "start_time": "2022-06-04T20:53:52.574Z"
   },
   {
    "duration": 3,
    "start_time": "2022-06-04T20:54:42.091Z"
   },
   {
    "duration": 1662,
    "start_time": "2022-06-04T20:54:46.883Z"
   },
   {
    "duration": 4,
    "start_time": "2022-06-04T21:04:31.488Z"
   },
   {
    "duration": 102,
    "start_time": "2022-06-04T21:04:37.955Z"
   },
   {
    "duration": 3797,
    "start_time": "2022-06-04T21:04:57.153Z"
   },
   {
    "duration": 2258,
    "start_time": "2022-06-04T21:05:03.479Z"
   },
   {
    "duration": 3,
    "start_time": "2022-06-04T21:05:11.174Z"
   },
   {
    "duration": 3,
    "start_time": "2022-06-04T21:05:12.670Z"
   },
   {
    "duration": 3,
    "start_time": "2022-06-04T21:05:18.753Z"
   },
   {
    "duration": 3611,
    "start_time": "2022-06-04T21:05:20.987Z"
   },
   {
    "duration": 7,
    "start_time": "2022-06-04T21:05:25.355Z"
   },
   {
    "duration": 5,
    "start_time": "2022-06-04T21:05:30.486Z"
   },
   {
    "duration": 3,
    "start_time": "2022-06-04T21:05:37.887Z"
   },
   {
    "duration": 2367,
    "start_time": "2022-06-04T21:05:43.291Z"
   },
   {
    "duration": 3,
    "start_time": "2022-06-04T21:06:46.571Z"
   },
   {
    "duration": 1472,
    "start_time": "2022-06-04T21:07:00.931Z"
   },
   {
    "duration": 5,
    "start_time": "2022-06-04T21:07:30.345Z"
   },
   {
    "duration": 16105,
    "start_time": "2022-06-04T21:07:32.443Z"
   },
   {
    "duration": 134,
    "start_time": "2022-06-04T21:10:24.680Z"
   },
   {
    "duration": 11,
    "start_time": "2022-06-04T21:11:24.419Z"
   },
   {
    "duration": 55325,
    "start_time": "2022-06-04T21:11:32.397Z"
   },
   {
    "duration": 3,
    "start_time": "2022-06-04T21:14:13.374Z"
   },
   {
    "duration": 52607,
    "start_time": "2022-06-04T21:14:19.155Z"
   },
   {
    "duration": 22,
    "start_time": "2022-06-04T21:18:09.597Z"
   },
   {
    "duration": 23,
    "start_time": "2022-06-04T21:19:10.336Z"
   },
   {
    "duration": 2599,
    "start_time": "2022-06-04T21:19:15.658Z"
   },
   {
    "duration": 4,
    "start_time": "2022-06-04T21:19:49.316Z"
   },
   {
    "duration": 18557,
    "start_time": "2022-06-04T21:20:10.290Z"
   },
   {
    "duration": 15478,
    "start_time": "2022-06-04T21:20:36.485Z"
   },
   {
    "duration": 3,
    "start_time": "2022-06-04T21:21:10.201Z"
   },
   {
    "duration": 3,
    "start_time": "2022-06-04T21:21:10.823Z"
   },
   {
    "duration": 3,
    "start_time": "2022-06-04T21:21:12.285Z"
   },
   {
    "duration": 4283,
    "start_time": "2022-06-04T21:21:13.881Z"
   },
   {
    "duration": 5,
    "start_time": "2022-06-04T21:21:18.167Z"
   },
   {
    "duration": 3,
    "start_time": "2022-06-04T21:21:22.102Z"
   },
   {
    "duration": 3286,
    "start_time": "2022-06-04T21:21:22.704Z"
   },
   {
    "duration": 3,
    "start_time": "2022-06-04T21:21:26.916Z"
   },
   {
    "duration": 1053,
    "start_time": "2022-06-04T21:21:28.514Z"
   },
   {
    "duration": 4,
    "start_time": "2022-06-04T21:21:33.028Z"
   },
   {
    "duration": 18778,
    "start_time": "2022-06-04T21:21:34.433Z"
   },
   {
    "duration": 6,
    "start_time": "2022-06-04T21:21:58.386Z"
   },
   {
    "duration": 17998,
    "start_time": "2022-06-04T21:22:00.616Z"
   },
   {
    "duration": 32,
    "start_time": "2022-06-04T21:24:46.947Z"
   },
   {
    "duration": 970,
    "start_time": "2022-06-04T21:25:16.656Z"
   },
   {
    "duration": 33,
    "start_time": "2022-06-04T21:25:19.085Z"
   },
   {
    "duration": 3,
    "start_time": "2022-06-04T21:25:26.643Z"
   },
   {
    "duration": 2,
    "start_time": "2022-06-04T21:25:46.385Z"
   },
   {
    "duration": 3763,
    "start_time": "2022-06-04T21:25:47.384Z"
   },
   {
    "duration": 4,
    "start_time": "2022-06-04T21:26:05.286Z"
   },
   {
    "duration": 5947,
    "start_time": "2022-06-04T21:26:46.737Z"
   },
   {
    "duration": 2690,
    "start_time": "2022-06-04T21:26:56.506Z"
   },
   {
    "duration": 3,
    "start_time": "2022-06-04T21:27:01.581Z"
   },
   {
    "duration": 3808,
    "start_time": "2022-06-04T21:27:04.195Z"
   },
   {
    "duration": 2,
    "start_time": "2022-06-04T21:27:11.884Z"
   },
   {
    "duration": 2472,
    "start_time": "2022-06-04T21:27:14.486Z"
   },
   {
    "duration": 2,
    "start_time": "2022-06-04T21:27:27.274Z"
   },
   {
    "duration": 1594,
    "start_time": "2022-06-04T21:27:41.983Z"
   },
   {
    "duration": 7,
    "start_time": "2022-06-04T21:27:48.542Z"
   },
   {
    "duration": 17696,
    "start_time": "2022-06-04T21:28:01.785Z"
   },
   {
    "duration": 4,
    "start_time": "2022-06-04T21:29:27.488Z"
   },
   {
    "duration": 19737,
    "start_time": "2022-06-04T21:29:28.783Z"
   },
   {
    "duration": 3,
    "start_time": "2022-06-04T21:30:27.746Z"
   },
   {
    "duration": 54751,
    "start_time": "2022-06-04T21:30:28.533Z"
   },
   {
    "duration": 128,
    "start_time": "2022-06-04T21:48:12.487Z"
   },
   {
    "duration": 2287,
    "start_time": "2022-06-04T21:48:28.314Z"
   },
   {
    "duration": 149,
    "start_time": "2022-06-04T21:48:34.872Z"
   },
   {
    "duration": 19,
    "start_time": "2022-06-04T22:55:08.851Z"
   },
   {
    "duration": 2268,
    "start_time": "2022-06-04T22:55:38.083Z"
   },
   {
    "duration": 3,
    "start_time": "2022-06-04T22:55:44.839Z"
   },
   {
    "duration": 16,
    "start_time": "2022-06-04T22:56:10.217Z"
   },
   {
    "duration": 2304,
    "start_time": "2022-06-04T22:56:53.336Z"
   },
   {
    "duration": 4,
    "start_time": "2022-06-04T22:57:13.820Z"
   },
   {
    "duration": 44,
    "start_time": "2022-06-04T22:57:32.711Z"
   },
   {
    "duration": 5928,
    "start_time": "2022-06-04T22:58:07.126Z"
   },
   {
    "duration": 6150,
    "start_time": "2022-06-04T22:58:53.787Z"
   },
   {
    "duration": 4,
    "start_time": "2022-06-04T22:59:14.706Z"
   },
   {
    "duration": 5934,
    "start_time": "2022-06-04T22:59:22.915Z"
   },
   {
    "duration": 5,
    "start_time": "2022-06-04T23:00:00.310Z"
   },
   {
    "duration": 915251,
    "start_time": "2022-06-04T23:00:02.182Z"
   },
   {
    "duration": 6,
    "start_time": "2022-06-04T23:15:17.435Z"
   },
   {
    "duration": 84,
    "start_time": "2022-06-04T23:15:17.442Z"
   },
   {
    "duration": 3,
    "start_time": "2022-06-04T23:15:37.190Z"
   },
   {
    "duration": 13144,
    "start_time": "2022-06-04T23:16:33.762Z"
   },
   {
    "duration": 5861,
    "start_time": "2022-06-04T23:16:51.388Z"
   },
   {
    "duration": 3,
    "start_time": "2022-06-04T23:17:04.524Z"
   },
   {
    "duration": 6067,
    "start_time": "2022-06-04T23:17:05.806Z"
   },
   {
    "duration": 30661,
    "start_time": "2022-06-04T23:17:25.606Z"
   },
   {
    "duration": 24,
    "start_time": "2022-06-04T23:18:46.591Z"
   },
   {
    "duration": 15,
    "start_time": "2022-06-04T23:19:19.508Z"
   },
   {
    "duration": 2267,
    "start_time": "2022-06-04T23:19:40.936Z"
   },
   {
    "duration": 25,
    "start_time": "2022-06-04T23:19:47.490Z"
   },
   {
    "duration": 154,
    "start_time": "2022-06-04T23:21:53.289Z"
   },
   {
    "duration": 26,
    "start_time": "2022-06-04T23:21:56.541Z"
   },
   {
    "duration": 45,
    "start_time": "2022-06-04T23:22:02.658Z"
   },
   {
    "duration": 2,
    "start_time": "2022-06-04T23:22:03.919Z"
   },
   {
    "duration": 15,
    "start_time": "2022-06-04T23:22:28.731Z"
   },
   {
    "duration": 5935,
    "start_time": "2022-06-04T23:22:39.683Z"
   },
   {
    "duration": 30445,
    "start_time": "2022-06-04T23:22:45.620Z"
   },
   {
    "duration": 108,
    "start_time": "2022-06-04T23:23:16.075Z"
   },
   {
    "duration": 3764,
    "start_time": "2022-06-04T23:31:29.535Z"
   },
   {
    "duration": 805,
    "start_time": "2022-06-04T23:31:34.786Z"
   },
   {
    "duration": 33,
    "start_time": "2022-06-04T23:31:38.518Z"
   },
   {
    "duration": 11,
    "start_time": "2022-06-04T23:31:39.996Z"
   },
   {
    "duration": 14,
    "start_time": "2022-06-04T23:31:42.998Z"
   },
   {
    "duration": 5,
    "start_time": "2022-06-04T23:31:44.199Z"
   },
   {
    "duration": 119,
    "start_time": "2022-06-04T23:31:46.178Z"
   },
   {
    "duration": 16,
    "start_time": "2022-06-04T23:32:09.625Z"
   },
   {
    "duration": 480,
    "start_time": "2022-06-04T23:32:11.562Z"
   },
   {
    "duration": 56357,
    "start_time": "2022-06-04T23:32:13.062Z"
   },
   {
    "duration": 282,
    "start_time": "2022-06-04T23:33:09.421Z"
   },
   {
    "duration": 251,
    "start_time": "2022-06-04T23:33:09.704Z"
   },
   {
    "duration": 372,
    "start_time": "2022-06-04T23:33:09.957Z"
   },
   {
    "duration": 3,
    "start_time": "2022-06-04T23:36:36.275Z"
   },
   {
    "duration": 3701,
    "start_time": "2022-06-04T23:36:37.903Z"
   },
   {
    "duration": 3,
    "start_time": "2022-06-04T23:36:56.005Z"
   },
   {
    "duration": 2133,
    "start_time": "2022-06-04T23:36:58.240Z"
   },
   {
    "duration": 2366,
    "start_time": "2022-06-04T23:37:15.876Z"
   },
   {
    "duration": 3,
    "start_time": "2022-06-04T23:37:29.350Z"
   },
   {
    "duration": 3562,
    "start_time": "2022-06-04T23:37:30.987Z"
   },
   {
    "duration": 3,
    "start_time": "2022-06-04T23:37:55.074Z"
   },
   {
    "duration": 2451,
    "start_time": "2022-06-04T23:37:55.574Z"
   },
   {
    "duration": 3,
    "start_time": "2022-06-04T23:38:22.524Z"
   },
   {
    "duration": 4603,
    "start_time": "2022-06-04T23:38:23.039Z"
   },
   {
    "duration": 5,
    "start_time": "2022-06-04T23:38:38.827Z"
   },
   {
    "duration": 97401,
    "start_time": "2022-06-04T23:38:55.805Z"
   },
   {
    "duration": 4,
    "start_time": "2022-06-04T23:40:33.208Z"
   },
   {
    "duration": 158356,
    "start_time": "2022-06-04T23:40:33.213Z"
   },
   {
    "duration": 4,
    "start_time": "2022-06-04T23:43:11.571Z"
   },
   {
    "duration": 81,
    "start_time": "2022-06-04T23:43:45.301Z"
   },
   {
    "duration": 5383,
    "start_time": "2022-06-04T23:43:51.985Z"
   },
   {
    "duration": 2974,
    "start_time": "2022-06-04T23:43:57.372Z"
   },
   {
    "duration": 4,
    "start_time": "2022-06-04T23:44:03.396Z"
   },
   {
    "duration": 3873,
    "start_time": "2022-06-04T23:44:04.004Z"
   },
   {
    "duration": 3,
    "start_time": "2022-06-04T23:44:07.879Z"
   },
   {
    "duration": 2704,
    "start_time": "2022-06-04T23:44:07.883Z"
   },
   {
    "duration": 4,
    "start_time": "2022-06-04T23:44:10.589Z"
   },
   {
    "duration": 4967,
    "start_time": "2022-06-04T23:44:10.595Z"
   },
   {
    "duration": 8,
    "start_time": "2022-06-04T23:44:15.566Z"
   },
   {
    "duration": 99000,
    "start_time": "2022-06-04T23:44:15.576Z"
   },
   {
    "duration": 3,
    "start_time": "2022-06-04T23:45:54.579Z"
   },
   {
    "duration": 163337,
    "start_time": "2022-06-04T23:45:54.584Z"
   },
   {
    "duration": 3,
    "start_time": "2022-06-04T23:48:37.923Z"
   },
   {
    "duration": 56,
    "start_time": "2022-06-04T23:50:18.490Z"
   },
   {
    "duration": 5285,
    "start_time": "2022-06-04T23:50:29.921Z"
   },
   {
    "duration": 2668,
    "start_time": "2022-06-04T23:50:35.731Z"
   },
   {
    "duration": 3,
    "start_time": "2022-06-04T23:50:40.087Z"
   },
   {
    "duration": 3653,
    "start_time": "2022-06-04T23:50:41.112Z"
   },
   {
    "duration": 3642,
    "start_time": "2022-06-05T00:01:32.692Z"
   },
   {
    "duration": 803,
    "start_time": "2022-06-05T00:01:36.337Z"
   },
   {
    "duration": 4,
    "start_time": "2022-06-05T00:02:07.570Z"
   },
   {
    "duration": 3742,
    "start_time": "2022-06-05T00:02:08.387Z"
   },
   {
    "duration": 3,
    "start_time": "2022-06-05T00:02:13.495Z"
   },
   {
    "duration": 2433,
    "start_time": "2022-06-05T00:02:18.343Z"
   },
   {
    "duration": 4,
    "start_time": "2022-06-05T00:05:17.553Z"
   },
   {
    "duration": 1521,
    "start_time": "2022-06-05T00:05:19.970Z"
   },
   {
    "duration": 2690,
    "start_time": "2022-06-05T00:05:35.275Z"
   },
   {
    "duration": 937,
    "start_time": "2022-06-05T00:08:15.685Z"
   },
   {
    "duration": 13,
    "start_time": "2022-06-05T00:08:19.843Z"
   },
   {
    "duration": 8,
    "start_time": "2022-06-05T00:08:28.279Z"
   },
   {
    "duration": 786,
    "start_time": "2022-06-05T00:09:02.571Z"
   },
   {
    "duration": 15,
    "start_time": "2022-06-05T00:09:06.976Z"
   },
   {
    "duration": 7,
    "start_time": "2022-06-05T00:09:07.539Z"
   },
   {
    "duration": 786,
    "start_time": "2022-06-05T00:09:32.679Z"
   },
   {
    "duration": 12,
    "start_time": "2022-06-05T00:09:36.196Z"
   },
   {
    "duration": 2,
    "start_time": "2022-06-05T00:09:39.446Z"
   },
   {
    "duration": 3719,
    "start_time": "2022-06-05T00:09:42.009Z"
   },
   {
    "duration": 3,
    "start_time": "2022-06-05T00:09:49.722Z"
   },
   {
    "duration": 1969,
    "start_time": "2022-06-05T00:09:52.154Z"
   },
   {
    "duration": 3,
    "start_time": "2022-06-05T00:10:00.279Z"
   },
   {
    "duration": 2817,
    "start_time": "2022-06-05T00:10:01.255Z"
   },
   {
    "duration": 13,
    "start_time": "2022-06-05T00:28:27.793Z"
   },
   {
    "duration": 17181,
    "start_time": "2022-06-05T00:28:28.804Z"
   },
   {
    "duration": 805,
    "start_time": "2022-06-05T00:30:01.619Z"
   },
   {
    "duration": 38,
    "start_time": "2022-06-05T00:30:11.080Z"
   },
   {
    "duration": 792,
    "start_time": "2022-06-05T00:30:29.648Z"
   },
   {
    "duration": 147,
    "start_time": "2022-06-05T00:30:33.919Z"
   },
   {
    "duration": 36,
    "start_time": "2022-06-05T00:30:43.845Z"
   },
   {
    "duration": 2,
    "start_time": "2022-06-05T00:30:46.309Z"
   },
   {
    "duration": 3573,
    "start_time": "2022-06-05T00:30:47.293Z"
   },
   {
    "duration": 2,
    "start_time": "2022-06-05T00:30:56.049Z"
   },
   {
    "duration": 3096,
    "start_time": "2022-06-05T00:30:57.038Z"
   },
   {
    "duration": 3,
    "start_time": "2022-06-05T00:31:03.540Z"
   },
   {
    "duration": 1066,
    "start_time": "2022-06-05T00:31:04.922Z"
   },
   {
    "duration": 5,
    "start_time": "2022-06-05T00:31:10.178Z"
   },
   {
    "duration": 17454,
    "start_time": "2022-06-05T00:31:11.370Z"
   },
   {
    "duration": 3,
    "start_time": "2022-06-05T00:32:46.837Z"
   },
   {
    "duration": 4,
    "start_time": "2022-06-05T00:32:51.655Z"
   },
   {
    "duration": 51127,
    "start_time": "2022-06-05T00:34:12.677Z"
   },
   {
    "duration": 6538,
    "start_time": "2022-06-05T00:36:36.877Z"
   },
   {
    "duration": 2420,
    "start_time": "2022-06-05T00:36:43.418Z"
   },
   {
    "duration": 52,
    "start_time": "2022-06-05T00:36:45.840Z"
   },
   {
    "duration": 3,
    "start_time": "2022-06-05T00:36:45.895Z"
   },
   {
    "duration": 3884,
    "start_time": "2022-06-05T00:36:45.899Z"
   },
   {
    "duration": 2,
    "start_time": "2022-06-05T00:36:49.785Z"
   },
   {
    "duration": 2424,
    "start_time": "2022-06-05T00:36:49.789Z"
   },
   {
    "duration": 3,
    "start_time": "2022-06-05T00:36:56.023Z"
   },
   {
    "duration": 1633,
    "start_time": "2022-06-05T00:36:58.122Z"
   },
   {
    "duration": 8,
    "start_time": "2022-06-05T00:37:04.835Z"
   },
   {
    "duration": 3,
    "start_time": "2022-06-05T00:37:09.380Z"
   },
   {
    "duration": 3,
    "start_time": "2022-06-05T00:37:10.308Z"
   },
   {
    "duration": 12228,
    "start_time": "2022-06-05T00:37:15.317Z"
   },
   {
    "duration": 16505,
    "start_time": "2022-06-05T00:37:42.951Z"
   },
   {
    "duration": 49737,
    "start_time": "2022-06-05T00:37:59.458Z"
   },
   {
    "duration": 138679,
    "start_time": "2022-06-05T00:38:49.197Z"
   },
   {
    "duration": 21,
    "start_time": "2022-06-05T00:42:31.557Z"
   },
   {
    "duration": 3696,
    "start_time": "2022-06-05T00:42:57.756Z"
   },
   {
    "duration": 1539,
    "start_time": "2022-06-05T00:43:01.454Z"
   },
   {
    "duration": 43,
    "start_time": "2022-06-05T00:43:04.168Z"
   },
   {
    "duration": 3,
    "start_time": "2022-06-05T00:43:05.426Z"
   },
   {
    "duration": 3706,
    "start_time": "2022-06-05T00:43:06.142Z"
   },
   {
    "duration": 3,
    "start_time": "2022-06-05T00:43:09.850Z"
   },
   {
    "duration": 2389,
    "start_time": "2022-06-05T00:43:09.854Z"
   },
   {
    "duration": 3,
    "start_time": "2022-06-05T00:43:12.246Z"
   },
   {
    "duration": 1643,
    "start_time": "2022-06-05T00:43:12.251Z"
   },
   {
    "duration": 4,
    "start_time": "2022-06-05T00:43:13.897Z"
   },
   {
    "duration": 3,
    "start_time": "2022-06-05T00:43:13.971Z"
   },
   {
    "duration": 3,
    "start_time": "2022-06-05T00:43:16.468Z"
   },
   {
    "duration": 17104,
    "start_time": "2022-06-05T00:43:17.693Z"
   },
   {
    "duration": 34189,
    "start_time": "2022-06-05T00:43:48.879Z"
   },
   {
    "duration": 16547,
    "start_time": "2022-06-05T00:44:23.070Z"
   },
   {
    "duration": 83850,
    "start_time": "2022-06-05T00:44:42.583Z"
   },
   {
    "duration": 56587,
    "start_time": "2022-06-05T00:46:06.435Z"
   },
   {
    "duration": 25,
    "start_time": "2022-06-05T00:47:03.024Z"
   },
   {
    "duration": 239,
    "start_time": "2022-06-05T00:47:03.051Z"
   },
   {
    "duration": 3,
    "start_time": "2022-06-05T00:53:24.798Z"
   },
   {
    "duration": 4570,
    "start_time": "2022-06-05T11:32:41.099Z"
   },
   {
    "duration": 2867,
    "start_time": "2022-06-05T11:32:49.100Z"
   },
   {
    "duration": 37,
    "start_time": "2022-06-05T11:32:56.791Z"
   },
   {
    "duration": 3,
    "start_time": "2022-06-05T11:32:58.361Z"
   },
   {
    "duration": 3659,
    "start_time": "2022-06-05T11:33:00.404Z"
   },
   {
    "duration": 2,
    "start_time": "2022-06-05T11:33:07.196Z"
   },
   {
    "duration": 2203,
    "start_time": "2022-06-05T11:33:11.640Z"
   },
   {
    "duration": 3,
    "start_time": "2022-06-05T11:33:23.799Z"
   },
   {
    "duration": 1380,
    "start_time": "2022-06-05T11:33:24.691Z"
   },
   {
    "duration": 5,
    "start_time": "2022-06-05T11:34:33.295Z"
   },
   {
    "duration": 17069,
    "start_time": "2022-06-05T11:34:34.304Z"
   },
   {
    "duration": 16,
    "start_time": "2022-06-05T11:34:51.374Z"
   },
   {
    "duration": 3,
    "start_time": "2022-06-05T11:36:56.391Z"
   },
   {
    "duration": 10,
    "start_time": "2022-06-05T11:37:00.096Z"
   },
   {
    "duration": 3445,
    "start_time": "2022-06-05T11:37:41.454Z"
   },
   {
    "duration": 717,
    "start_time": "2022-06-05T11:37:44.901Z"
   },
   {
    "duration": 35,
    "start_time": "2022-06-05T11:37:50.795Z"
   },
   {
    "duration": 2,
    "start_time": "2022-06-05T11:37:52.095Z"
   },
   {
    "duration": 3653,
    "start_time": "2022-06-05T11:37:53.134Z"
   },
   {
    "duration": 2,
    "start_time": "2022-06-05T11:37:58.855Z"
   },
   {
    "duration": 2086,
    "start_time": "2022-06-05T11:37:59.593Z"
   },
   {
    "duration": 3,
    "start_time": "2022-06-05T11:38:01.681Z"
   },
   {
    "duration": 1424,
    "start_time": "2022-06-05T11:38:03.636Z"
   },
   {
    "duration": 5,
    "start_time": "2022-06-05T11:38:06.109Z"
   },
   {
    "duration": 16900,
    "start_time": "2022-06-05T11:38:06.935Z"
   },
   {
    "duration": 12,
    "start_time": "2022-06-05T11:38:23.837Z"
   },
   {
    "duration": 3,
    "start_time": "2022-06-05T11:38:30.960Z"
   },
   {
    "duration": 3,
    "start_time": "2022-06-05T11:38:32.250Z"
   },
   {
    "duration": 19240,
    "start_time": "2022-06-05T11:38:51.562Z"
   },
   {
    "duration": 53980,
    "start_time": "2022-06-05T11:39:15.196Z"
   },
   {
    "duration": 13,
    "start_time": "2022-06-05T11:40:16.399Z"
   },
   {
    "duration": 110,
    "start_time": "2022-06-05T11:40:25.226Z"
   },
   {
    "duration": 2,
    "start_time": "2022-06-05T11:40:37.144Z"
   },
   {
    "duration": 4,
    "start_time": "2022-06-05T11:41:43.355Z"
   },
   {
    "duration": 4,
    "start_time": "2022-06-05T11:41:49.497Z"
   },
   {
    "duration": 4,
    "start_time": "2022-06-05T11:43:34.748Z"
   },
   {
    "duration": 266333,
    "start_time": "2022-06-05T11:43:39.496Z"
   },
   {
    "duration": 5,
    "start_time": "2022-06-05T11:48:05.831Z"
   },
   {
    "duration": 86,
    "start_time": "2022-06-05T11:48:05.839Z"
   },
   {
    "duration": 3,
    "start_time": "2022-06-05T11:48:30.095Z"
   },
   {
    "duration": 4,
    "start_time": "2022-06-05T11:50:40.499Z"
   },
   {
    "duration": 48216,
    "start_time": "2022-06-05T11:51:03.663Z"
   },
   {
    "duration": 3,
    "start_time": "2022-06-05T11:52:34.298Z"
   },
   {
    "duration": 4,
    "start_time": "2022-06-05T11:52:38.648Z"
   },
   {
    "duration": 236439,
    "start_time": "2022-06-05T11:52:45.198Z"
   },
   {
    "duration": 3,
    "start_time": "2022-06-05T11:56:41.639Z"
   },
   {
    "duration": 39,
    "start_time": "2022-06-05T11:56:41.643Z"
   },
   {
    "duration": 4,
    "start_time": "2022-06-05T12:04:08.212Z"
   },
   {
    "duration": 5,
    "start_time": "2022-06-05T12:04:12.603Z"
   },
   {
    "duration": 1310247,
    "start_time": "2022-06-05T12:04:25.014Z"
   },
   {
    "duration": 4,
    "start_time": "2022-06-05T12:26:15.263Z"
   },
   {
    "duration": 20,
    "start_time": "2022-06-05T12:26:15.268Z"
   },
   {
    "duration": 2173,
    "start_time": "2022-06-05T12:36:57.042Z"
   },
   {
    "duration": 3,
    "start_time": "2022-06-05T12:38:02.447Z"
   },
   {
    "duration": 4,
    "start_time": "2022-06-05T12:43:31.278Z"
   },
   {
    "duration": 3,
    "start_time": "2022-06-05T12:47:20.948Z"
   },
   {
    "duration": 284,
    "start_time": "2022-06-05T12:48:36.875Z"
   },
   {
    "duration": 20,
    "start_time": "2022-06-05T12:48:38.095Z"
   },
   {
    "duration": 23,
    "start_time": "2022-06-05T12:48:38.794Z"
   },
   {
    "duration": 3,
    "start_time": "2022-06-05T12:48:39.975Z"
   },
   {
    "duration": 4,
    "start_time": "2022-06-05T12:48:43.155Z"
   },
   {
    "duration": 30,
    "start_time": "2022-06-05T12:48:57.181Z"
   },
   {
    "duration": 14,
    "start_time": "2022-06-05T12:49:22.450Z"
   },
   {
    "duration": 17,
    "start_time": "2022-06-05T12:50:29.574Z"
   },
   {
    "duration": 83,
    "start_time": "2022-06-05T12:51:44.169Z"
   },
   {
    "duration": 2,
    "start_time": "2022-06-05T12:51:45.077Z"
   },
   {
    "duration": 2,
    "start_time": "2022-06-05T12:51:46.422Z"
   },
   {
    "duration": 3,
    "start_time": "2022-06-05T12:51:47.385Z"
   },
   {
    "duration": 19,
    "start_time": "2022-06-05T12:51:49.569Z"
   },
   {
    "duration": 17,
    "start_time": "2022-06-05T12:52:06.614Z"
   },
   {
    "duration": 77,
    "start_time": "2022-06-05T12:52:19.094Z"
   },
   {
    "duration": 3,
    "start_time": "2022-06-05T12:52:20.299Z"
   },
   {
    "duration": 3,
    "start_time": "2022-06-05T12:52:21.978Z"
   },
   {
    "duration": 90,
    "start_time": "2022-06-05T12:56:07.845Z"
   },
   {
    "duration": 3,
    "start_time": "2022-06-05T12:56:08.740Z"
   },
   {
    "duration": 3,
    "start_time": "2022-06-05T12:56:10.043Z"
   },
   {
    "duration": 3,
    "start_time": "2022-06-05T12:56:10.972Z"
   },
   {
    "duration": 16,
    "start_time": "2022-06-05T12:56:11.943Z"
   },
   {
    "duration": 57085,
    "start_time": "2022-06-05T13:07:05.971Z"
   },
   {
    "duration": 0,
    "start_time": "2022-06-05T13:08:03.129Z"
   },
   {
    "duration": 0,
    "start_time": "2022-06-05T13:08:03.130Z"
   },
   {
    "duration": 79,
    "start_time": "2022-06-05T13:08:45.694Z"
   },
   {
    "duration": 3,
    "start_time": "2022-06-05T13:08:46.585Z"
   },
   {
    "duration": 3,
    "start_time": "2022-06-05T13:08:47.849Z"
   },
   {
    "duration": 95,
    "start_time": "2022-06-05T13:09:13.005Z"
   },
   {
    "duration": 3,
    "start_time": "2022-06-05T13:09:14.199Z"
   },
   {
    "duration": 2,
    "start_time": "2022-06-05T13:09:15.744Z"
   },
   {
    "duration": 4,
    "start_time": "2022-06-05T13:09:19.270Z"
   },
   {
    "duration": 834,
    "start_time": "2022-06-05T13:09:20.610Z"
   },
   {
    "duration": 6511,
    "start_time": "2022-06-05T13:09:31.368Z"
   },
   {
    "duration": 20377,
    "start_time": "2022-06-05T13:09:44.485Z"
   },
   {
    "duration": 102,
    "start_time": "2022-06-05T13:10:40.072Z"
   },
   {
    "duration": 17,
    "start_time": "2022-06-05T13:10:40.894Z"
   },
   {
    "duration": 3,
    "start_time": "2022-06-05T13:10:41.945Z"
   },
   {
    "duration": 3,
    "start_time": "2022-06-05T13:10:42.582Z"
   },
   {
    "duration": 828,
    "start_time": "2022-06-05T13:10:44.080Z"
   },
   {
    "duration": 5410,
    "start_time": "2022-06-05T13:10:48.081Z"
   },
   {
    "duration": 47465,
    "start_time": "2022-06-05T13:10:57.279Z"
   },
   {
    "duration": 50889,
    "start_time": "2022-06-05T13:13:36.845Z"
   },
   {
    "duration": 0,
    "start_time": "2022-06-05T13:14:27.737Z"
   },
   {
    "duration": 0,
    "start_time": "2022-06-05T13:14:27.742Z"
   },
   {
    "duration": 47056,
    "start_time": "2022-06-05T13:15:02.475Z"
   },
   {
    "duration": 109,
    "start_time": "2022-06-05T13:15:49.533Z"
   },
   {
    "duration": 789,
    "start_time": "2022-06-05T13:16:18.085Z"
   },
   {
    "duration": 5499,
    "start_time": "2022-06-05T13:16:22.510Z"
   },
   {
    "duration": 44658,
    "start_time": "2022-06-05T13:16:31.092Z"
   },
   {
    "duration": 16,
    "start_time": "2022-06-05T13:17:15.755Z"
   },
   {
    "duration": 44,
    "start_time": "2022-06-05T13:18:38.530Z"
   },
   {
    "duration": 2,
    "start_time": "2022-06-05T13:18:43.006Z"
   },
   {
    "duration": 5,
    "start_time": "2022-06-05T13:18:44.349Z"
   },
   {
    "duration": 769,
    "start_time": "2022-06-05T13:18:47.277Z"
   },
   {
    "duration": 5420,
    "start_time": "2022-06-05T13:18:50.216Z"
   },
   {
    "duration": 80051,
    "start_time": "2022-06-05T13:18:58.027Z"
   },
   {
    "duration": 0,
    "start_time": "2022-06-05T13:20:18.080Z"
   },
   {
    "duration": 0,
    "start_time": "2022-06-05T13:20:18.083Z"
   },
   {
    "duration": 0,
    "start_time": "2022-06-05T13:20:18.085Z"
   },
   {
    "duration": 105,
    "start_time": "2022-06-05T13:20:23.541Z"
   },
   {
    "duration": 16,
    "start_time": "2022-06-05T13:20:24.642Z"
   },
   {
    "duration": 3,
    "start_time": "2022-06-05T13:20:25.965Z"
   },
   {
    "duration": 3,
    "start_time": "2022-06-05T13:20:26.952Z"
   },
   {
    "duration": 5,
    "start_time": "2022-06-05T13:20:33.680Z"
   },
   {
    "duration": 751,
    "start_time": "2022-06-05T13:20:34.840Z"
   },
   {
    "duration": 5458,
    "start_time": "2022-06-05T13:20:36.389Z"
   },
   {
    "duration": 432386,
    "start_time": "2022-06-05T13:20:43.151Z"
   },
   {
    "duration": 23,
    "start_time": "2022-06-05T13:27:55.540Z"
   },
   {
    "duration": 3,
    "start_time": "2022-06-05T13:45:28.698Z"
   },
   {
    "duration": 4,
    "start_time": "2022-06-05T13:45:29.277Z"
   },
   {
    "duration": 863,
    "start_time": "2022-06-05T13:45:31.314Z"
   },
   {
    "duration": 5933,
    "start_time": "2022-06-05T13:45:34.255Z"
   },
   {
    "duration": 178619,
    "start_time": "2022-06-05T13:45:42.472Z"
   },
   {
    "duration": 0,
    "start_time": "2022-06-05T13:48:41.092Z"
   },
   {
    "duration": 3,
    "start_time": "2022-06-05T13:48:58.280Z"
   },
   {
    "duration": 100,
    "start_time": "2022-06-05T13:50:03.886Z"
   },
   {
    "duration": 13,
    "start_time": "2022-06-05T13:50:04.905Z"
   },
   {
    "duration": 3,
    "start_time": "2022-06-05T13:50:07.868Z"
   },
   {
    "duration": 3,
    "start_time": "2022-06-05T13:50:16.222Z"
   },
   {
    "duration": 2868,
    "start_time": "2022-06-05T13:51:13.175Z"
   },
   {
    "duration": 9,
    "start_time": "2022-06-05T13:51:29.551Z"
   },
   {
    "duration": 3,
    "start_time": "2022-06-05T13:51:32.016Z"
   },
   {
    "duration": 3,
    "start_time": "2022-06-05T13:52:23.796Z"
   },
   {
    "duration": 2,
    "start_time": "2022-06-05T13:53:13.387Z"
   },
   {
    "duration": 4,
    "start_time": "2022-06-05T13:53:13.886Z"
   },
   {
    "duration": 3,
    "start_time": "2022-06-05T13:53:14.643Z"
   },
   {
    "duration": 3,
    "start_time": "2022-06-05T13:53:16.574Z"
   },
   {
    "duration": 4,
    "start_time": "2022-06-05T13:53:17.116Z"
   },
   {
    "duration": 4,
    "start_time": "2022-06-05T14:28:03.948Z"
   },
   {
    "duration": 3,
    "start_time": "2022-06-05T14:28:35.513Z"
   },
   {
    "duration": 2,
    "start_time": "2022-06-05T15:36:31.735Z"
   },
   {
    "duration": 3,
    "start_time": "2022-06-05T15:36:34.408Z"
   },
   {
    "duration": 4094,
    "start_time": "2022-06-05T15:38:28.498Z"
   },
   {
    "duration": 3161,
    "start_time": "2022-06-05T15:38:34.266Z"
   },
   {
    "duration": 46,
    "start_time": "2022-06-05T15:38:37.612Z"
   },
   {
    "duration": 3,
    "start_time": "2022-06-05T15:38:38.498Z"
   },
   {
    "duration": 3590,
    "start_time": "2022-06-05T15:38:38.886Z"
   },
   {
    "duration": 2,
    "start_time": "2022-06-05T15:38:42.478Z"
   },
   {
    "duration": 2443,
    "start_time": "2022-06-05T15:38:42.481Z"
   },
   {
    "duration": 3,
    "start_time": "2022-06-05T15:38:44.926Z"
   },
   {
    "duration": 1550,
    "start_time": "2022-06-05T15:38:44.931Z"
   },
   {
    "duration": 4,
    "start_time": "2022-06-05T15:38:46.483Z"
   },
   {
    "duration": 18755,
    "start_time": "2022-06-05T15:38:46.488Z"
   },
   {
    "duration": 14,
    "start_time": "2022-06-05T15:39:05.246Z"
   },
   {
    "duration": 4,
    "start_time": "2022-06-05T15:39:54.585Z"
   },
   {
    "duration": 5,
    "start_time": "2022-06-05T15:39:57.461Z"
   },
   {
    "duration": 23252,
    "start_time": "2022-06-05T15:39:58.927Z"
   },
   {
    "duration": 22,
    "start_time": "2022-06-05T15:40:25.234Z"
   },
   {
    "duration": 102,
    "start_time": "2022-06-05T15:40:28.380Z"
   },
   {
    "duration": 2,
    "start_time": "2022-06-05T15:40:29.263Z"
   },
   {
    "duration": 4,
    "start_time": "2022-06-05T15:40:31.453Z"
   },
   {
    "duration": 3,
    "start_time": "2022-06-05T15:40:33.958Z"
   },
   {
    "duration": 4,
    "start_time": "2022-06-05T15:40:35.726Z"
   },
   {
    "duration": 4,
    "start_time": "2022-06-05T15:40:37.949Z"
   },
   {
    "duration": 2,
    "start_time": "2022-06-05T15:40:39.395Z"
   },
   {
    "duration": 6947,
    "start_time": "2022-06-05T15:40:42.104Z"
   },
   {
    "duration": 7201,
    "start_time": "2022-06-05T15:41:08.249Z"
   },
   {
    "duration": 7248,
    "start_time": "2022-06-05T15:41:29.955Z"
   },
   {
    "duration": 6694,
    "start_time": "2022-06-05T15:41:50.210Z"
   },
   {
    "duration": 498,
    "start_time": "2022-06-05T15:52:12.795Z"
   },
   {
    "duration": 467,
    "start_time": "2022-06-05T15:55:28.891Z"
   },
   {
    "duration": 13,
    "start_time": "2022-06-05T15:57:42.489Z"
   },
   {
    "duration": 26,
    "start_time": "2022-06-05T15:57:48.861Z"
   },
   {
    "duration": 34,
    "start_time": "2022-06-05T15:58:14.991Z"
   },
   {
    "duration": 55,
    "start_time": "2022-06-05T15:58:46.185Z"
   },
   {
    "duration": 883,
    "start_time": "2022-06-05T15:59:07.114Z"
   },
   {
    "duration": 43,
    "start_time": "2022-06-05T15:59:16.396Z"
   },
   {
    "duration": 2,
    "start_time": "2022-06-05T15:59:17.519Z"
   },
   {
    "duration": 4128,
    "start_time": "2022-06-05T15:59:18.184Z"
   },
   {
    "duration": 3,
    "start_time": "2022-06-05T15:59:22.900Z"
   },
   {
    "duration": 2637,
    "start_time": "2022-06-05T15:59:23.588Z"
   },
   {
    "duration": 7,
    "start_time": "2022-06-05T15:59:26.232Z"
   },
   {
    "duration": 2462,
    "start_time": "2022-06-05T15:59:26.452Z"
   },
   {
    "duration": 4,
    "start_time": "2022-06-05T15:59:30.692Z"
   },
   {
    "duration": 18042,
    "start_time": "2022-06-05T15:59:31.780Z"
   },
   {
    "duration": 9,
    "start_time": "2022-06-05T16:00:10.001Z"
   },
   {
    "duration": 3,
    "start_time": "2022-06-05T16:00:13.589Z"
   },
   {
    "duration": 3,
    "start_time": "2022-06-05T16:00:15.098Z"
   },
   {
    "duration": 20836,
    "start_time": "2022-06-05T16:00:16.124Z"
   },
   {
    "duration": 67194,
    "start_time": "2022-06-05T16:00:36.963Z"
   },
   {
    "duration": 12,
    "start_time": "2022-06-05T16:01:44.159Z"
   },
   {
    "duration": 150,
    "start_time": "2022-06-05T16:06:36.252Z"
   },
   {
    "duration": 12,
    "start_time": "2022-06-05T16:06:37.390Z"
   },
   {
    "duration": 75,
    "start_time": "2022-06-05T16:06:39.895Z"
   },
   {
    "duration": 870,
    "start_time": "2022-06-05T16:11:16.346Z"
   },
   {
    "duration": 2505,
    "start_time": "2022-06-05T16:11:26.610Z"
   },
   {
    "duration": 915,
    "start_time": "2022-06-05T16:11:29.117Z"
   },
   {
    "duration": 36,
    "start_time": "2022-06-05T16:11:38.976Z"
   },
   {
    "duration": 13,
    "start_time": "2022-06-05T16:11:40.732Z"
   },
   {
    "duration": 4306,
    "start_time": "2022-06-05T16:11:41.385Z"
   },
   {
    "duration": 2,
    "start_time": "2022-06-05T16:11:45.693Z"
   },
   {
    "duration": 1895,
    "start_time": "2022-06-05T16:11:45.696Z"
   },
   {
    "duration": 4,
    "start_time": "2022-06-05T16:11:47.594Z"
   },
   {
    "duration": 3435,
    "start_time": "2022-06-05T16:11:47.600Z"
   },
   {
    "duration": 6,
    "start_time": "2022-06-05T16:11:51.049Z"
   },
   {
    "duration": 18334,
    "start_time": "2022-06-05T16:11:51.056Z"
   },
   {
    "duration": 3,
    "start_time": "2022-06-05T16:12:09.392Z"
   },
   {
    "duration": 19022,
    "start_time": "2022-06-05T16:12:09.396Z"
   },
   {
    "duration": 23,
    "start_time": "2022-06-05T16:12:28.420Z"
   },
   {
    "duration": 82,
    "start_time": "2022-06-05T16:12:53.965Z"
   },
   {
    "duration": 3,
    "start_time": "2022-06-05T16:13:00.184Z"
   },
   {
    "duration": 866,
    "start_time": "2022-06-05T16:14:55.849Z"
   },
   {
    "duration": 6453,
    "start_time": "2022-06-05T16:15:29.357Z"
   },
   {
    "duration": 4,
    "start_time": "2022-06-05T16:16:18.878Z"
   },
   {
    "duration": 3,
    "start_time": "2022-06-05T16:18:15.678Z"
   },
   {
    "duration": 49528,
    "start_time": "2022-06-05T16:18:33.912Z"
   },
   {
    "duration": 9,
    "start_time": "2022-06-05T16:20:25.120Z"
   },
   {
    "duration": 5,
    "start_time": "2022-06-05T16:20:32.678Z"
   },
   {
    "duration": 18,
    "start_time": "2022-06-05T16:21:06.179Z"
   },
   {
    "duration": 14,
    "start_time": "2022-06-05T16:21:27.794Z"
   },
   {
    "duration": 4,
    "start_time": "2022-06-05T16:21:46.157Z"
   },
   {
    "duration": 11,
    "start_time": "2022-06-05T16:22:59.552Z"
   },
   {
    "duration": 2,
    "start_time": "2022-06-05T16:23:05.099Z"
   },
   {
    "duration": 3575,
    "start_time": "2022-06-05T16:28:15.879Z"
   },
   {
    "duration": 831,
    "start_time": "2022-06-05T16:28:19.457Z"
   },
   {
    "duration": 28,
    "start_time": "2022-06-05T16:28:20.290Z"
   },
   {
    "duration": 17,
    "start_time": "2022-06-05T16:28:20.328Z"
   },
   {
    "duration": 16,
    "start_time": "2022-06-05T16:28:20.347Z"
   },
   {
    "duration": 3,
    "start_time": "2022-06-05T16:28:20.365Z"
   },
   {
    "duration": 101,
    "start_time": "2022-06-05T16:28:20.370Z"
   },
   {
    "duration": 15,
    "start_time": "2022-06-05T16:28:20.473Z"
   },
   {
    "duration": 497,
    "start_time": "2022-06-05T16:28:20.490Z"
   },
   {
    "duration": 59779,
    "start_time": "2022-06-05T16:28:20.989Z"
   },
   {
    "duration": 292,
    "start_time": "2022-06-05T16:29:20.770Z"
   },
   {
    "duration": 249,
    "start_time": "2022-06-05T16:29:21.064Z"
   },
   {
    "duration": 295,
    "start_time": "2022-06-05T16:29:21.315Z"
   },
   {
    "duration": 50,
    "start_time": "2022-06-05T16:29:21.613Z"
   },
   {
    "duration": 3,
    "start_time": "2022-06-05T16:29:21.664Z"
   },
   {
    "duration": 4162,
    "start_time": "2022-06-05T16:29:21.668Z"
   },
   {
    "duration": 2,
    "start_time": "2022-06-05T16:29:25.832Z"
   },
   {
    "duration": 2282,
    "start_time": "2022-06-05T16:29:25.835Z"
   },
   {
    "duration": 3,
    "start_time": "2022-06-05T16:29:28.119Z"
   },
   {
    "duration": 2220,
    "start_time": "2022-06-05T16:29:28.129Z"
   },
   {
    "duration": 6,
    "start_time": "2022-06-05T16:29:30.350Z"
   },
   {
    "duration": 18644,
    "start_time": "2022-06-05T16:29:30.358Z"
   },
   {
    "duration": 2,
    "start_time": "2022-06-05T16:29:49.004Z"
   },
   {
    "duration": 22829,
    "start_time": "2022-06-05T16:29:49.008Z"
   },
   {
    "duration": 13,
    "start_time": "2022-06-05T16:30:11.847Z"
   },
   {
    "duration": 35,
    "start_time": "2022-06-05T16:34:49.783Z"
   },
   {
    "duration": 4,
    "start_time": "2022-06-05T16:34:53.251Z"
   },
   {
    "duration": 867,
    "start_time": "2022-06-05T16:34:54.915Z"
   },
   {
    "duration": 6174,
    "start_time": "2022-06-05T16:34:56.803Z"
   },
   {
    "duration": 6,
    "start_time": "2022-06-05T16:35:14.400Z"
   },
   {
    "duration": 145,
    "start_time": "2022-06-05T16:35:24.786Z"
   },
   {
    "duration": 38,
    "start_time": "2022-06-05T16:35:35.462Z"
   },
   {
    "duration": 4,
    "start_time": "2022-06-05T16:36:02.399Z"
   },
   {
    "duration": 3,
    "start_time": "2022-06-05T16:36:10.695Z"
   },
   {
    "duration": 5,
    "start_time": "2022-06-05T16:36:12.258Z"
   },
   {
    "duration": 4,
    "start_time": "2022-06-05T16:36:13.364Z"
   },
   {
    "duration": 54524,
    "start_time": "2022-06-05T16:36:14.216Z"
   },
   {
    "duration": 13,
    "start_time": "2022-06-05T16:37:08.748Z"
   },
   {
    "duration": 18,
    "start_time": "2022-06-05T16:37:08.763Z"
   },
   {
    "duration": 4,
    "start_time": "2022-06-05T16:37:08.783Z"
   },
   {
    "duration": 6,
    "start_time": "2022-06-05T16:37:08.789Z"
   },
   {
    "duration": 556752,
    "start_time": "2022-06-05T16:37:08.796Z"
   },
   {
    "duration": 4105,
    "start_time": "2022-06-05T16:46:25.550Z"
   },
   {
    "duration": 10,
    "start_time": "2022-06-05T16:46:29.657Z"
   },
   {
    "duration": 0,
    "start_time": "2022-06-05T16:46:29.669Z"
   },
   {
    "duration": 83,
    "start_time": "2022-06-05T17:05:06.034Z"
   },
   {
    "duration": 28,
    "start_time": "2022-06-05T17:05:06.879Z"
   },
   {
    "duration": 950,
    "start_time": "2022-06-05T17:05:07.806Z"
   },
   {
    "duration": 6439,
    "start_time": "2022-06-05T17:05:09.239Z"
   },
   {
    "duration": 4,
    "start_time": "2022-06-05T17:05:18.272Z"
   },
   {
    "duration": 5,
    "start_time": "2022-06-05T17:05:18.992Z"
   },
   {
    "duration": 5,
    "start_time": "2022-06-05T17:05:24.508Z"
   },
   {
    "duration": 3,
    "start_time": "2022-06-05T17:05:25.418Z"
   },
   {
    "duration": 30588,
    "start_time": "2022-06-05T17:05:31.547Z"
   },
   {
    "duration": 94,
    "start_time": "2022-06-05T17:06:02.137Z"
   },
   {
    "duration": 21,
    "start_time": "2022-06-05T17:06:02.236Z"
   },
   {
    "duration": 5979,
    "start_time": "2022-06-05T17:06:28.139Z"
   },
   {
    "duration": 845,
    "start_time": "2022-06-05T17:06:34.645Z"
   },
   {
    "duration": 48,
    "start_time": "2022-06-05T17:06:38.882Z"
   },
   {
    "duration": 3,
    "start_time": "2022-06-05T17:06:39.773Z"
   },
   {
    "duration": 3770,
    "start_time": "2022-06-05T17:06:40.171Z"
   },
   {
    "duration": 3,
    "start_time": "2022-06-05T17:06:43.943Z"
   },
   {
    "duration": 2585,
    "start_time": "2022-06-05T17:06:43.948Z"
   },
   {
    "duration": 3,
    "start_time": "2022-06-05T17:06:46.536Z"
   },
   {
    "duration": 1698,
    "start_time": "2022-06-05T17:06:46.549Z"
   },
   {
    "duration": 5,
    "start_time": "2022-06-05T17:06:48.248Z"
   },
   {
    "duration": 18816,
    "start_time": "2022-06-05T17:06:48.255Z"
   },
   {
    "duration": 3,
    "start_time": "2022-06-05T17:07:07.072Z"
   },
   {
    "duration": 22227,
    "start_time": "2022-06-05T17:07:07.077Z"
   },
   {
    "duration": 36,
    "start_time": "2022-06-05T17:07:29.305Z"
   },
   {
    "duration": 39,
    "start_time": "2022-06-05T17:07:44.745Z"
   },
   {
    "duration": 3,
    "start_time": "2022-06-05T17:07:50.012Z"
   },
   {
    "duration": 858,
    "start_time": "2022-06-05T17:07:52.148Z"
   },
   {
    "duration": 6056,
    "start_time": "2022-06-05T17:07:53.816Z"
   },
   {
    "duration": 5,
    "start_time": "2022-06-05T17:08:06.848Z"
   },
   {
    "duration": 3,
    "start_time": "2022-06-05T17:08:07.587Z"
   },
   {
    "duration": 5,
    "start_time": "2022-06-05T17:08:09.692Z"
   },
   {
    "duration": 4,
    "start_time": "2022-06-05T17:08:12.079Z"
   },
   {
    "duration": 28913,
    "start_time": "2022-06-05T17:08:15.446Z"
   },
   {
    "duration": 14,
    "start_time": "2022-06-05T17:08:58.942Z"
   },
   {
    "duration": 31,
    "start_time": "2022-06-05T17:09:04.262Z"
   },
   {
    "duration": 5,
    "start_time": "2022-06-05T17:09:06.503Z"
   },
   {
    "duration": 3,
    "start_time": "2022-06-05T17:09:15.181Z"
   },
   {
    "duration": 894366,
    "start_time": "2022-06-05T17:09:24.275Z"
   },
   {
    "duration": 1824,
    "start_time": "2022-06-05T17:24:18.643Z"
   },
   {
    "duration": 153,
    "start_time": "2022-06-05T17:35:03.170Z"
   },
   {
    "duration": 22,
    "start_time": "2022-06-05T18:00:08.877Z"
   },
   {
    "duration": 2,
    "start_time": "2022-06-05T18:00:15.656Z"
   },
   {
    "duration": 107155,
    "start_time": "2022-06-05T18:00:18.342Z"
   },
   {
    "duration": 5,
    "start_time": "2022-06-05T18:02:14.649Z"
   },
   {
    "duration": 2,
    "start_time": "2022-06-05T18:02:19.898Z"
   },
   {
    "duration": 126623,
    "start_time": "2022-06-05T18:02:21.328Z"
   },
   {
    "duration": 0,
    "start_time": "2022-06-05T18:04:27.953Z"
   },
   {
    "duration": 1,
    "start_time": "2022-06-05T18:04:27.954Z"
   },
   {
    "duration": 3559,
    "start_time": "2022-06-05T18:06:15.004Z"
   },
   {
    "duration": 796,
    "start_time": "2022-06-05T18:06:22.471Z"
   },
   {
    "duration": 46,
    "start_time": "2022-06-05T18:07:02.807Z"
   },
   {
    "duration": 2,
    "start_time": "2022-06-05T18:07:04.786Z"
   },
   {
    "duration": 3555,
    "start_time": "2022-06-05T18:07:05.322Z"
   },
   {
    "duration": 2,
    "start_time": "2022-06-05T18:07:08.880Z"
   },
   {
    "duration": 2390,
    "start_time": "2022-06-05T18:07:09.455Z"
   },
   {
    "duration": 3,
    "start_time": "2022-06-05T18:07:11.847Z"
   },
   {
    "duration": 1579,
    "start_time": "2022-06-05T18:07:11.851Z"
   },
   {
    "duration": 4,
    "start_time": "2022-06-05T18:07:16.519Z"
   },
   {
    "duration": 16528,
    "start_time": "2022-06-05T18:07:19.676Z"
   },
   {
    "duration": 3,
    "start_time": "2022-06-05T18:07:36.206Z"
   },
   {
    "duration": 18955,
    "start_time": "2022-06-05T18:07:36.211Z"
   },
   {
    "duration": 13,
    "start_time": "2022-06-05T18:07:55.168Z"
   },
   {
    "duration": 39,
    "start_time": "2022-06-05T18:08:06.275Z"
   },
   {
    "duration": 2,
    "start_time": "2022-06-05T18:08:07.065Z"
   },
   {
    "duration": 811,
    "start_time": "2022-06-05T18:08:08.018Z"
   },
   {
    "duration": 5627,
    "start_time": "2022-06-05T18:08:09.463Z"
   },
   {
    "duration": 4,
    "start_time": "2022-06-05T18:08:20.485Z"
   },
   {
    "duration": 4,
    "start_time": "2022-06-05T18:08:22.591Z"
   },
   {
    "duration": 4,
    "start_time": "2022-06-05T18:08:23.295Z"
   },
   {
    "duration": 2,
    "start_time": "2022-06-05T18:08:33.947Z"
   },
   {
    "duration": 4610,
    "start_time": "2022-06-05T18:15:44.433Z"
   },
   {
    "duration": 1264,
    "start_time": "2022-06-05T18:15:49.052Z"
   },
   {
    "duration": 65,
    "start_time": "2022-06-05T18:15:50.318Z"
   },
   {
    "duration": 3,
    "start_time": "2022-06-05T18:15:51.677Z"
   },
   {
    "duration": 4106,
    "start_time": "2022-06-05T18:15:52.251Z"
   },
   {
    "duration": 3,
    "start_time": "2022-06-05T18:15:56.359Z"
   },
   {
    "duration": 2689,
    "start_time": "2022-06-05T18:15:56.364Z"
   },
   {
    "duration": 3,
    "start_time": "2022-06-05T18:15:59.056Z"
   },
   {
    "duration": 1802,
    "start_time": "2022-06-05T18:15:59.060Z"
   },
   {
    "duration": 5,
    "start_time": "2022-06-05T18:16:00.863Z"
   },
   {
    "duration": 20128,
    "start_time": "2022-06-05T18:16:00.870Z"
   },
   {
    "duration": 3,
    "start_time": "2022-06-05T18:16:20.999Z"
   },
   {
    "duration": 21921,
    "start_time": "2022-06-05T18:16:21.004Z"
   },
   {
    "duration": 18,
    "start_time": "2022-06-05T18:16:42.931Z"
   },
   {
    "duration": 43,
    "start_time": "2022-06-05T18:16:46.901Z"
   },
   {
    "duration": 3,
    "start_time": "2022-06-05T18:16:50.276Z"
   },
   {
    "duration": 833,
    "start_time": "2022-06-05T18:16:52.080Z"
   },
   {
    "duration": 5131,
    "start_time": "2022-06-05T18:16:53.678Z"
   },
   {
    "duration": 4,
    "start_time": "2022-06-05T18:16:58.811Z"
   },
   {
    "duration": 11,
    "start_time": "2022-06-05T18:16:58.816Z"
   },
   {
    "duration": 3,
    "start_time": "2022-06-05T18:17:00.711Z"
   },
   {
    "duration": 3,
    "start_time": "2022-06-05T18:17:06.662Z"
   },
   {
    "duration": 320800,
    "start_time": "2022-06-05T18:17:08.440Z"
   },
   {
    "duration": 1871,
    "start_time": "2022-06-05T18:23:20.700Z"
   },
   {
    "duration": 54,
    "start_time": "2022-06-05T18:23:25.594Z"
   },
   {
    "duration": 4,
    "start_time": "2022-06-05T18:23:26.848Z"
   },
   {
    "duration": 3,
    "start_time": "2022-06-05T18:26:15.228Z"
   },
   {
    "duration": 8815,
    "start_time": "2022-06-05T18:26:18.716Z"
   },
   {
    "duration": 21,
    "start_time": "2022-06-05T18:26:30.314Z"
   },
   {
    "duration": 148,
    "start_time": "2022-06-05T18:26:32.658Z"
   },
   {
    "duration": 3932,
    "start_time": "2022-06-05T18:27:16.986Z"
   },
   {
    "duration": 899,
    "start_time": "2022-06-05T18:27:20.920Z"
   },
   {
    "duration": 62,
    "start_time": "2022-06-05T18:27:24.025Z"
   },
   {
    "duration": 3,
    "start_time": "2022-06-05T18:27:24.683Z"
   },
   {
    "duration": 4475,
    "start_time": "2022-06-05T18:27:24.901Z"
   },
   {
    "duration": 2,
    "start_time": "2022-06-05T18:27:29.379Z"
   },
   {
    "duration": 2799,
    "start_time": "2022-06-05T18:27:29.383Z"
   },
   {
    "duration": 3,
    "start_time": "2022-06-05T18:27:32.184Z"
   },
   {
    "duration": 1875,
    "start_time": "2022-06-05T18:27:32.189Z"
   },
   {
    "duration": 6,
    "start_time": "2022-06-05T18:27:34.066Z"
   },
   {
    "duration": 21620,
    "start_time": "2022-06-05T18:27:34.074Z"
   },
   {
    "duration": 3,
    "start_time": "2022-06-05T18:27:55.696Z"
   },
   {
    "duration": 23654,
    "start_time": "2022-06-05T18:27:55.701Z"
   },
   {
    "duration": 14,
    "start_time": "2022-06-05T18:28:19.358Z"
   },
   {
    "duration": 34,
    "start_time": "2022-06-05T18:28:19.374Z"
   },
   {
    "duration": 23,
    "start_time": "2022-06-05T18:28:19.410Z"
   },
   {
    "duration": 876,
    "start_time": "2022-06-05T18:28:19.436Z"
   },
   {
    "duration": 5836,
    "start_time": "2022-06-05T18:28:20.314Z"
   },
   {
    "duration": 10,
    "start_time": "2022-06-05T18:28:26.151Z"
   },
   {
    "duration": 11,
    "start_time": "2022-06-05T18:28:26.163Z"
   },
   {
    "duration": 11,
    "start_time": "2022-06-05T18:28:26.176Z"
   },
   {
    "duration": 13,
    "start_time": "2022-06-05T18:28:26.189Z"
   },
   {
    "duration": 178,
    "start_time": "2022-06-05T18:28:29.527Z"
   },
   {
    "duration": 3907,
    "start_time": "2022-06-05T18:29:40.754Z"
   },
   {
    "duration": 4277,
    "start_time": "2022-06-05T18:29:47.486Z"
   },
   {
    "duration": 58,
    "start_time": "2022-06-05T18:29:57.352Z"
   },
   {
    "duration": 4,
    "start_time": "2022-06-05T18:29:57.673Z"
   },
   {
    "duration": 3960,
    "start_time": "2022-06-05T18:29:57.830Z"
   },
   {
    "duration": 3,
    "start_time": "2022-06-05T18:30:01.792Z"
   },
   {
    "duration": 2618,
    "start_time": "2022-06-05T18:30:01.797Z"
   },
   {
    "duration": 3,
    "start_time": "2022-06-05T18:30:04.418Z"
   },
   {
    "duration": 1758,
    "start_time": "2022-06-05T18:30:04.423Z"
   },
   {
    "duration": 5,
    "start_time": "2022-06-05T18:30:06.182Z"
   },
   {
    "duration": 20020,
    "start_time": "2022-06-05T18:30:06.188Z"
   },
   {
    "duration": 3,
    "start_time": "2022-06-05T18:30:26.209Z"
   },
   {
    "duration": 23530,
    "start_time": "2022-06-05T18:30:26.214Z"
   },
   {
    "duration": 18,
    "start_time": "2022-06-05T18:30:49.748Z"
   },
   {
    "duration": 55,
    "start_time": "2022-06-05T18:30:49.768Z"
   },
   {
    "duration": 8,
    "start_time": "2022-06-05T18:30:49.825Z"
   },
   {
    "duration": 1015,
    "start_time": "2022-06-05T18:30:49.836Z"
   },
   {
    "duration": 6352,
    "start_time": "2022-06-05T18:30:50.853Z"
   },
   {
    "duration": 3,
    "start_time": "2022-06-05T18:30:57.207Z"
   },
   {
    "duration": 9,
    "start_time": "2022-06-05T18:30:57.212Z"
   },
   {
    "duration": 17,
    "start_time": "2022-06-05T18:30:57.230Z"
   },
   {
    "duration": 8,
    "start_time": "2022-06-05T18:30:57.261Z"
   },
   {
    "duration": 15,
    "start_time": "2022-06-05T18:31:04.807Z"
   },
   {
    "duration": 69,
    "start_time": "2022-06-05T18:31:08.656Z"
   },
   {
    "duration": 65,
    "start_time": "2022-06-05T18:31:11.228Z"
   },
   {
    "duration": 4,
    "start_time": "2022-06-05T18:31:12.262Z"
   },
   {
    "duration": 54,
    "start_time": "2022-06-05T18:31:28.494Z"
   },
   {
    "duration": 7,
    "start_time": "2022-06-05T18:31:29.362Z"
   },
   {
    "duration": 939,
    "start_time": "2022-06-05T18:31:30.326Z"
   },
   {
    "duration": 6236,
    "start_time": "2022-06-05T18:31:33.323Z"
   },
   {
    "duration": 3,
    "start_time": "2022-06-05T18:31:43.406Z"
   },
   {
    "duration": 85,
    "start_time": "2022-06-05T18:31:43.913Z"
   },
   {
    "duration": 35,
    "start_time": "2022-06-05T18:31:45.707Z"
   },
   {
    "duration": 139,
    "start_time": "2022-06-05T18:31:47.170Z"
   },
   {
    "duration": 4,
    "start_time": "2022-06-05T18:31:50.151Z"
   },
   {
    "duration": 12,
    "start_time": "2022-06-05T18:32:01.442Z"
   },
   {
    "duration": 3916,
    "start_time": "2022-06-05T18:32:14.540Z"
   },
   {
    "duration": 1631,
    "start_time": "2022-06-05T18:32:18.459Z"
   },
   {
    "duration": 64,
    "start_time": "2022-06-05T18:32:20.092Z"
   },
   {
    "duration": 3,
    "start_time": "2022-06-05T18:32:20.157Z"
   },
   {
    "duration": 4108,
    "start_time": "2022-06-05T18:32:20.273Z"
   },
   {
    "duration": 4,
    "start_time": "2022-06-05T18:32:24.383Z"
   },
   {
    "duration": 2760,
    "start_time": "2022-06-05T18:32:24.389Z"
   },
   {
    "duration": 4,
    "start_time": "2022-06-05T18:32:27.152Z"
   },
   {
    "duration": 1768,
    "start_time": "2022-06-05T18:32:27.158Z"
   },
   {
    "duration": 11,
    "start_time": "2022-06-05T18:32:28.928Z"
   },
   {
    "duration": 20097,
    "start_time": "2022-06-05T18:32:28.940Z"
   },
   {
    "duration": 5,
    "start_time": "2022-06-05T18:32:49.039Z"
   },
   {
    "duration": 9854,
    "start_time": "2022-06-05T18:32:49.047Z"
   },
   {
    "duration": 0,
    "start_time": "2022-06-05T18:32:58.905Z"
   },
   {
    "duration": 0,
    "start_time": "2022-06-05T18:32:58.906Z"
   },
   {
    "duration": 0,
    "start_time": "2022-06-05T18:32:58.907Z"
   },
   {
    "duration": 0,
    "start_time": "2022-06-05T18:32:58.909Z"
   },
   {
    "duration": 0,
    "start_time": "2022-06-05T18:32:58.910Z"
   },
   {
    "duration": 0,
    "start_time": "2022-06-05T18:32:58.912Z"
   },
   {
    "duration": 0,
    "start_time": "2022-06-05T18:32:58.913Z"
   },
   {
    "duration": 4304,
    "start_time": "2022-06-05T18:43:42.414Z"
   },
   {
    "duration": 941,
    "start_time": "2022-06-05T18:43:46.720Z"
   },
   {
    "duration": 70,
    "start_time": "2022-06-05T18:43:49.861Z"
   },
   {
    "duration": 3,
    "start_time": "2022-06-05T18:43:50.706Z"
   },
   {
    "duration": 5123,
    "start_time": "2022-06-05T18:43:51.176Z"
   },
   {
    "duration": 3,
    "start_time": "2022-06-05T18:43:56.301Z"
   },
   {
    "duration": 2913,
    "start_time": "2022-06-05T18:43:56.305Z"
   },
   {
    "duration": 14,
    "start_time": "2022-06-05T18:43:59.221Z"
   },
   {
    "duration": 2021,
    "start_time": "2022-06-05T18:43:59.237Z"
   },
   {
    "duration": 14,
    "start_time": "2022-06-05T18:44:01.260Z"
   },
   {
    "duration": 23532,
    "start_time": "2022-06-05T18:44:01.276Z"
   },
   {
    "duration": 4,
    "start_time": "2022-06-05T18:44:24.810Z"
   },
   {
    "duration": 25497,
    "start_time": "2022-06-05T18:44:24.816Z"
   },
   {
    "duration": 20,
    "start_time": "2022-06-05T18:44:50.315Z"
   },
   {
    "duration": 48,
    "start_time": "2022-06-05T18:44:50.337Z"
   },
   {
    "duration": 3,
    "start_time": "2022-06-05T18:44:50.386Z"
   },
   {
    "duration": 984,
    "start_time": "2022-06-05T18:44:50.390Z"
   },
   {
    "duration": 6950,
    "start_time": "2022-06-05T18:44:51.375Z"
   },
   {
    "duration": 7,
    "start_time": "2022-06-05T18:44:58.328Z"
   },
   {
    "duration": 41,
    "start_time": "2022-06-05T18:44:58.339Z"
   },
   {
    "duration": 4,
    "start_time": "2022-06-05T18:44:58.382Z"
   },
   {
    "duration": 4,
    "start_time": "2022-06-05T18:44:58.388Z"
   },
   {
    "duration": 91,
    "start_time": "2022-06-05T18:45:01.710Z"
   },
   {
    "duration": 30,
    "start_time": "2022-06-05T18:45:04.985Z"
   },
   {
    "duration": 16,
    "start_time": "2022-06-05T18:45:08.775Z"
   },
   {
    "duration": 4,
    "start_time": "2022-06-05T18:45:09.459Z"
   },
   {
    "duration": 3,
    "start_time": "2022-06-05T18:45:42.998Z"
   },
   {
    "duration": 53122,
    "start_time": "2022-06-05T18:45:44.263Z"
   },
   {
    "duration": 14,
    "start_time": "2022-06-05T18:46:40.550Z"
   },
   {
    "duration": 158,
    "start_time": "2022-06-05T18:46:42.109Z"
   },
   {
    "duration": 12,
    "start_time": "2022-06-05T18:47:01.711Z"
   },
   {
    "duration": 4436,
    "start_time": "2022-06-05T18:48:04.409Z"
   },
   {
    "duration": 1041,
    "start_time": "2022-06-05T18:48:08.849Z"
   },
   {
    "duration": 59,
    "start_time": "2022-06-05T18:48:09.892Z"
   },
   {
    "duration": 15,
    "start_time": "2022-06-05T18:48:09.954Z"
   },
   {
    "duration": 25,
    "start_time": "2022-06-05T18:48:09.980Z"
   },
   {
    "duration": 5,
    "start_time": "2022-06-05T18:48:10.007Z"
   },
   {
    "duration": 122,
    "start_time": "2022-06-05T18:48:10.014Z"
   },
   {
    "duration": 7,
    "start_time": "2022-06-05T18:48:10.138Z"
   },
   {
    "duration": 33,
    "start_time": "2022-06-05T18:48:10.147Z"
   },
   {
    "duration": 7,
    "start_time": "2022-06-05T18:48:10.182Z"
   },
   {
    "duration": 9,
    "start_time": "2022-06-05T18:48:10.190Z"
   },
   {
    "duration": 14,
    "start_time": "2022-06-05T18:48:10.201Z"
   },
   {
    "duration": 6,
    "start_time": "2022-06-05T18:48:10.217Z"
   },
   {
    "duration": 95,
    "start_time": "2022-06-05T18:48:10.226Z"
   },
   {
    "duration": 4,
    "start_time": "2022-06-05T18:48:10.322Z"
   },
   {
    "duration": 5103,
    "start_time": "2022-06-05T18:48:10.327Z"
   },
   {
    "duration": 3,
    "start_time": "2022-06-05T18:48:15.431Z"
   },
   {
    "duration": 3208,
    "start_time": "2022-06-05T18:48:15.436Z"
   },
   {
    "duration": 6,
    "start_time": "2022-06-05T18:48:18.650Z"
   },
   {
    "duration": 2200,
    "start_time": "2022-06-05T18:48:18.663Z"
   },
   {
    "duration": 9,
    "start_time": "2022-06-05T18:48:20.867Z"
   },
   {
    "duration": 22901,
    "start_time": "2022-06-05T18:48:20.882Z"
   },
   {
    "duration": 7,
    "start_time": "2022-06-05T18:48:43.790Z"
   },
   {
    "duration": 29193,
    "start_time": "2022-06-05T18:48:43.799Z"
   },
   {
    "duration": 10,
    "start_time": "2022-06-05T18:49:12.994Z"
   },
   {
    "duration": 62,
    "start_time": "2022-06-05T18:49:13.006Z"
   },
   {
    "duration": 6,
    "start_time": "2022-06-05T18:49:13.074Z"
   },
   {
    "duration": 1049,
    "start_time": "2022-06-05T18:49:13.081Z"
   },
   {
    "duration": 7947,
    "start_time": "2022-06-05T18:49:14.134Z"
   },
   {
    "duration": 6,
    "start_time": "2022-06-05T18:49:22.082Z"
   },
   {
    "duration": 27,
    "start_time": "2022-06-05T18:49:22.091Z"
   },
   {
    "duration": 54,
    "start_time": "2022-06-05T18:49:22.120Z"
   },
   {
    "duration": 26,
    "start_time": "2022-06-05T18:49:22.176Z"
   },
   {
    "duration": 51030,
    "start_time": "2022-06-05T18:49:22.204Z"
   },
   {
    "duration": 29,
    "start_time": "2022-06-05T18:50:13.236Z"
   },
   {
    "duration": 36,
    "start_time": "2022-06-05T18:50:13.267Z"
   },
   {
    "duration": 176,
    "start_time": "2022-06-05T18:50:13.305Z"
   },
   {
    "duration": 0,
    "start_time": "2022-06-05T18:50:13.482Z"
   },
   {
    "duration": 0,
    "start_time": "2022-06-05T18:50:13.483Z"
   },
   {
    "duration": 0,
    "start_time": "2022-06-05T18:50:13.484Z"
   },
   {
    "duration": 0,
    "start_time": "2022-06-05T18:50:13.485Z"
   },
   {
    "duration": 0,
    "start_time": "2022-06-05T18:50:13.486Z"
   },
   {
    "duration": 21,
    "start_time": "2022-06-05T18:52:51.559Z"
   },
   {
    "duration": 3948,
    "start_time": "2022-06-05T18:53:15.163Z"
   },
   {
    "duration": 1009,
    "start_time": "2022-06-05T18:53:19.113Z"
   },
   {
    "duration": 49,
    "start_time": "2022-06-05T18:53:20.123Z"
   },
   {
    "duration": 19,
    "start_time": "2022-06-05T18:53:20.173Z"
   },
   {
    "duration": 15,
    "start_time": "2022-06-05T18:53:20.195Z"
   },
   {
    "duration": 20,
    "start_time": "2022-06-05T18:53:20.211Z"
   },
   {
    "duration": 155,
    "start_time": "2022-06-05T18:53:20.233Z"
   },
   {
    "duration": 2,
    "start_time": "2022-06-05T18:53:20.390Z"
   },
   {
    "duration": 7,
    "start_time": "2022-06-05T18:53:20.394Z"
   },
   {
    "duration": 4,
    "start_time": "2022-06-05T18:53:20.403Z"
   },
   {
    "duration": 7,
    "start_time": "2022-06-05T18:53:20.409Z"
   },
   {
    "duration": 29,
    "start_time": "2022-06-05T18:53:20.418Z"
   },
   {
    "duration": 23,
    "start_time": "2022-06-05T18:53:20.451Z"
   },
   {
    "duration": 54,
    "start_time": "2022-06-05T18:53:20.478Z"
   },
   {
    "duration": 3,
    "start_time": "2022-06-05T18:53:20.534Z"
   },
   {
    "duration": 4982,
    "start_time": "2022-06-05T18:53:20.540Z"
   },
   {
    "duration": 6,
    "start_time": "2022-06-05T18:53:25.523Z"
   },
   {
    "duration": 2620,
    "start_time": "2022-06-05T18:53:25.534Z"
   },
   {
    "duration": 9,
    "start_time": "2022-06-05T18:53:28.160Z"
   },
   {
    "duration": 1777,
    "start_time": "2022-06-05T18:53:28.170Z"
   },
   {
    "duration": 7,
    "start_time": "2022-06-05T18:53:29.954Z"
   },
   {
    "duration": 20722,
    "start_time": "2022-06-05T18:53:29.963Z"
   },
   {
    "duration": 3,
    "start_time": "2022-06-05T18:53:50.686Z"
   },
   {
    "duration": 23784,
    "start_time": "2022-06-05T18:53:50.690Z"
   },
   {
    "duration": 16,
    "start_time": "2022-06-05T18:54:14.479Z"
   },
   {
    "duration": 69,
    "start_time": "2022-06-05T18:54:14.497Z"
   },
   {
    "duration": 5,
    "start_time": "2022-06-05T18:54:14.572Z"
   },
   {
    "duration": 957,
    "start_time": "2022-06-05T18:54:14.590Z"
   },
   {
    "duration": 7056,
    "start_time": "2022-06-05T18:54:15.549Z"
   },
   {
    "duration": 4,
    "start_time": "2022-06-05T18:54:22.607Z"
   },
   {
    "duration": 20,
    "start_time": "2022-06-05T18:54:22.612Z"
   },
   {
    "duration": 34,
    "start_time": "2022-06-05T18:54:22.633Z"
   },
   {
    "duration": 6,
    "start_time": "2022-06-05T18:54:22.669Z"
   },
   {
    "duration": 58692,
    "start_time": "2022-06-05T18:54:22.677Z"
   },
   {
    "duration": 30,
    "start_time": "2022-06-05T18:55:21.371Z"
   },
   {
    "duration": 26,
    "start_time": "2022-06-05T18:55:21.403Z"
   },
   {
    "duration": 5,
    "start_time": "2022-06-05T18:55:21.431Z"
   },
   {
    "duration": 45,
    "start_time": "2022-06-05T18:55:21.439Z"
   },
   {
    "duration": 100,
    "start_time": "2022-06-05T18:55:21.486Z"
   },
   {
    "duration": 48,
    "start_time": "2022-06-05T18:55:21.588Z"
   },
   {
    "duration": 26,
    "start_time": "2022-06-05T18:55:21.640Z"
   },
   {
    "duration": 16,
    "start_time": "2022-06-05T18:55:21.668Z"
   },
   {
    "duration": 2831,
    "start_time": "2022-06-05T19:07:58.750Z"
   },
   {
    "duration": 3,
    "start_time": "2022-06-05T19:10:25.276Z"
   },
   {
    "duration": 4228,
    "start_time": "2022-06-05T19:12:58.090Z"
   },
   {
    "duration": 1201,
    "start_time": "2022-06-05T19:13:02.320Z"
   },
   {
    "duration": 45,
    "start_time": "2022-06-05T19:13:03.522Z"
   },
   {
    "duration": 43,
    "start_time": "2022-06-05T19:13:03.569Z"
   },
   {
    "duration": 36,
    "start_time": "2022-06-05T19:13:03.615Z"
   },
   {
    "duration": 56,
    "start_time": "2022-06-05T19:13:03.652Z"
   },
   {
    "duration": 183,
    "start_time": "2022-06-05T19:13:03.710Z"
   },
   {
    "duration": 2,
    "start_time": "2022-06-05T19:13:03.895Z"
   },
   {
    "duration": 5,
    "start_time": "2022-06-05T19:13:03.898Z"
   },
   {
    "duration": 4,
    "start_time": "2022-06-05T19:13:03.905Z"
   },
   {
    "duration": 6,
    "start_time": "2022-06-05T19:13:03.911Z"
   },
   {
    "duration": 8,
    "start_time": "2022-06-05T19:13:03.918Z"
   },
   {
    "duration": 58,
    "start_time": "2022-06-05T19:13:03.927Z"
   },
   {
    "duration": 70,
    "start_time": "2022-06-05T19:13:03.988Z"
   },
   {
    "duration": 4,
    "start_time": "2022-06-05T19:13:04.060Z"
   },
   {
    "duration": 5342,
    "start_time": "2022-06-05T19:13:04.066Z"
   },
   {
    "duration": 3,
    "start_time": "2022-06-05T19:13:09.410Z"
   },
   {
    "duration": 2824,
    "start_time": "2022-06-05T19:13:09.415Z"
   },
   {
    "duration": 3,
    "start_time": "2022-06-05T19:13:12.243Z"
   },
   {
    "duration": 2091,
    "start_time": "2022-06-05T19:13:12.248Z"
   },
   {
    "duration": 5,
    "start_time": "2022-06-05T19:13:14.341Z"
   },
   {
    "duration": 22995,
    "start_time": "2022-06-05T19:13:14.347Z"
   },
   {
    "duration": 3,
    "start_time": "2022-06-05T19:13:37.344Z"
   },
   {
    "duration": 26349,
    "start_time": "2022-06-05T19:13:37.349Z"
   },
   {
    "duration": 11,
    "start_time": "2022-06-05T19:14:03.700Z"
   },
   {
    "duration": 48,
    "start_time": "2022-06-05T19:14:07.305Z"
   },
   {
    "duration": 3,
    "start_time": "2022-06-05T19:14:08.200Z"
   },
   {
    "duration": 973,
    "start_time": "2022-06-05T19:14:09.426Z"
   },
   {
    "duration": 6880,
    "start_time": "2022-06-05T19:14:10.693Z"
   },
   {
    "duration": 3,
    "start_time": "2022-06-05T19:14:22.886Z"
   },
   {
    "duration": 5,
    "start_time": "2022-06-05T19:14:23.459Z"
   },
   {
    "duration": 3,
    "start_time": "2022-06-05T19:14:24.187Z"
   },
   {
    "duration": 2,
    "start_time": "2022-06-05T19:14:27.710Z"
   },
   {
    "duration": 13924,
    "start_time": "2022-06-05T19:14:28.517Z"
   },
   {
    "duration": 13,
    "start_time": "2022-06-05T19:14:45.490Z"
   },
   {
    "duration": 51,
    "start_time": "2022-06-05T19:14:46.891Z"
   },
   {
    "duration": 3,
    "start_time": "2022-06-05T19:14:47.784Z"
   },
   {
    "duration": 3,
    "start_time": "2022-06-05T19:14:51.204Z"
   },
   {
    "duration": 14,
    "start_time": "2022-06-05T19:15:08.788Z"
   },
   {
    "duration": 75,
    "start_time": "2022-06-05T19:15:09.786Z"
   },
   {
    "duration": 51,
    "start_time": "2022-06-05T19:15:11.099Z"
   },
   {
    "duration": 10,
    "start_time": "2022-06-05T19:15:12.855Z"
   },
   {
    "duration": 5,
    "start_time": "2022-06-05T19:15:16.063Z"
   },
   {
    "duration": 17391,
    "start_time": "2022-06-05T19:15:18.456Z"
   },
   {
    "duration": 249,
    "start_time": "2022-06-05T19:15:38.558Z"
   },
   {
    "duration": 41,
    "start_time": "2022-06-05T19:15:39.086Z"
   },
   {
    "duration": 3,
    "start_time": "2022-06-05T19:15:40.088Z"
   },
   {
    "duration": 3,
    "start_time": "2022-06-05T19:15:45.660Z"
   },
   {
    "duration": 4065,
    "start_time": "2022-06-05T19:22:01.996Z"
   },
   {
    "duration": 1684,
    "start_time": "2022-06-05T19:22:06.066Z"
   },
   {
    "duration": 85,
    "start_time": "2022-06-05T19:22:07.752Z"
   },
   {
    "duration": 39,
    "start_time": "2022-06-05T19:22:07.839Z"
   },
   {
    "duration": 21,
    "start_time": "2022-06-05T19:22:07.880Z"
   },
   {
    "duration": 14,
    "start_time": "2022-06-05T19:22:07.931Z"
   },
   {
    "duration": 224,
    "start_time": "2022-06-05T19:22:07.946Z"
   },
   {
    "duration": 6,
    "start_time": "2022-06-05T19:22:08.172Z"
   },
   {
    "duration": 5,
    "start_time": "2022-06-05T19:22:08.230Z"
   },
   {
    "duration": 40,
    "start_time": "2022-06-05T19:22:08.238Z"
   },
   {
    "duration": 5,
    "start_time": "2022-06-05T19:22:08.280Z"
   },
   {
    "duration": 5,
    "start_time": "2022-06-05T19:22:08.287Z"
   },
   {
    "duration": 6,
    "start_time": "2022-06-05T19:22:08.294Z"
   },
   {
    "duration": 61,
    "start_time": "2022-06-05T19:22:08.302Z"
   },
   {
    "duration": 4,
    "start_time": "2022-06-05T19:22:08.371Z"
   },
   {
    "duration": 6574,
    "start_time": "2022-06-05T19:22:08.377Z"
   },
   {
    "duration": 10,
    "start_time": "2022-06-05T19:22:14.955Z"
   },
   {
    "duration": 2542,
    "start_time": "2022-06-05T19:22:14.966Z"
   },
   {
    "duration": 4,
    "start_time": "2022-06-05T19:22:17.510Z"
   },
   {
    "duration": 1842,
    "start_time": "2022-06-05T19:22:17.516Z"
   },
   {
    "duration": 5,
    "start_time": "2022-06-05T19:22:19.359Z"
   },
   {
    "duration": 22643,
    "start_time": "2022-06-05T19:22:19.366Z"
   },
   {
    "duration": 2,
    "start_time": "2022-06-05T19:22:42.011Z"
   },
   {
    "duration": 26332,
    "start_time": "2022-06-05T19:22:42.014Z"
   },
   {
    "duration": 17,
    "start_time": "2022-06-05T19:23:08.353Z"
   },
   {
    "duration": 44,
    "start_time": "2022-06-05T19:23:08.374Z"
   },
   {
    "duration": 3,
    "start_time": "2022-06-05T19:23:08.420Z"
   },
   {
    "duration": 999,
    "start_time": "2022-06-05T19:23:08.427Z"
   },
   {
    "duration": 6607,
    "start_time": "2022-06-05T19:23:09.431Z"
   },
   {
    "duration": 9,
    "start_time": "2022-06-05T19:23:16.045Z"
   },
   {
    "duration": 18,
    "start_time": "2022-06-05T19:23:16.067Z"
   },
   {
    "duration": 8,
    "start_time": "2022-06-05T19:23:16.087Z"
   },
   {
    "duration": 6,
    "start_time": "2022-06-05T19:23:16.096Z"
   },
   {
    "duration": 4061,
    "start_time": "2022-06-05T19:32:11.760Z"
   },
   {
    "duration": 856,
    "start_time": "2022-06-05T19:32:15.824Z"
   },
   {
    "duration": 27,
    "start_time": "2022-06-05T19:32:16.682Z"
   },
   {
    "duration": 31,
    "start_time": "2022-06-05T19:32:16.711Z"
   },
   {
    "duration": 30,
    "start_time": "2022-06-05T19:32:16.744Z"
   },
   {
    "duration": 5,
    "start_time": "2022-06-05T19:32:16.776Z"
   },
   {
    "duration": 111,
    "start_time": "2022-06-05T19:32:16.782Z"
   },
   {
    "duration": 2,
    "start_time": "2022-06-05T19:32:16.894Z"
   },
   {
    "duration": 6,
    "start_time": "2022-06-05T19:32:16.898Z"
   },
   {
    "duration": 8,
    "start_time": "2022-06-05T19:32:16.906Z"
   },
   {
    "duration": 7,
    "start_time": "2022-06-05T19:32:16.916Z"
   },
   {
    "duration": 32,
    "start_time": "2022-06-05T19:32:16.924Z"
   },
   {
    "duration": 12,
    "start_time": "2022-06-05T19:32:16.958Z"
   },
   {
    "duration": 47,
    "start_time": "2022-06-05T19:32:16.971Z"
   },
   {
    "duration": 3,
    "start_time": "2022-06-05T19:32:17.020Z"
   },
   {
    "duration": 5599,
    "start_time": "2022-06-05T19:32:17.024Z"
   },
   {
    "duration": 4,
    "start_time": "2022-06-05T19:32:22.624Z"
   },
   {
    "duration": 2627,
    "start_time": "2022-06-05T19:32:22.630Z"
   },
   {
    "duration": 9,
    "start_time": "2022-06-05T19:32:25.262Z"
   },
   {
    "duration": 1783,
    "start_time": "2022-06-05T19:32:25.272Z"
   },
   {
    "duration": 5,
    "start_time": "2022-06-05T19:32:27.059Z"
   },
   {
    "duration": 20100,
    "start_time": "2022-06-05T19:32:27.066Z"
   },
   {
    "duration": 3,
    "start_time": "2022-06-05T19:32:47.168Z"
   },
   {
    "duration": 26830,
    "start_time": "2022-06-05T19:32:47.173Z"
   },
   {
    "duration": 10,
    "start_time": "2022-06-05T19:33:14.005Z"
   },
   {
    "duration": 76,
    "start_time": "2022-06-05T19:33:14.016Z"
   },
   {
    "duration": 3,
    "start_time": "2022-06-05T19:33:14.094Z"
   },
   {
    "duration": 982,
    "start_time": "2022-06-05T19:33:14.100Z"
   },
   {
    "duration": 5486,
    "start_time": "2022-06-05T19:33:15.084Z"
   },
   {
    "duration": 4,
    "start_time": "2022-06-05T19:33:20.572Z"
   },
   {
    "duration": 11,
    "start_time": "2022-06-05T19:33:20.578Z"
   },
   {
    "duration": 5,
    "start_time": "2022-06-05T19:33:20.590Z"
   },
   {
    "duration": 9,
    "start_time": "2022-06-05T19:33:20.598Z"
   },
   {
    "duration": 170914,
    "start_time": "2022-06-05T19:33:28.613Z"
   },
   {
    "duration": 3,
    "start_time": "2022-06-05T19:36:57.276Z"
   },
   {
    "duration": 24078,
    "start_time": "2022-06-05T19:36:58.395Z"
   },
   {
    "duration": 118,
    "start_time": "2022-06-05T19:37:27.657Z"
   },
   {
    "duration": 36,
    "start_time": "2022-06-05T19:37:28.655Z"
   },
   {
    "duration": 4,
    "start_time": "2022-06-05T19:37:29.172Z"
   },
   {
    "duration": 3,
    "start_time": "2022-06-05T19:38:24.487Z"
   },
   {
    "duration": 833,
    "start_time": "2022-06-05T19:38:25.835Z"
   },
   {
    "duration": 2,
    "start_time": "2022-06-05T19:38:42.107Z"
   },
   {
    "duration": 44716,
    "start_time": "2022-06-05T19:38:42.711Z"
   },
   {
    "duration": 578,
    "start_time": "2022-06-05T19:39:27.444Z"
   },
   {
    "duration": 50,
    "start_time": "2022-06-05T19:39:28.024Z"
   },
   {
    "duration": 3,
    "start_time": "2022-06-05T19:39:28.076Z"
   },
   {
    "duration": 2,
    "start_time": "2022-06-05T19:45:31.078Z"
   },
   {
    "duration": 3,
    "start_time": "2022-06-05T19:46:51.296Z"
   },
   {
    "duration": 5,
    "start_time": "2022-06-05T19:46:52.462Z"
   },
   {
    "duration": 14,
    "start_time": "2022-06-05T19:47:12.802Z"
   },
   {
    "duration": 5,
    "start_time": "2022-06-05T19:47:18.151Z"
   },
   {
    "duration": 10,
    "start_time": "2022-06-05T19:47:34.059Z"
   },
   {
    "duration": 3,
    "start_time": "2022-06-05T19:49:20.851Z"
   },
   {
    "duration": 3,
    "start_time": "2022-06-05T19:49:26.855Z"
   },
   {
    "duration": 4,
    "start_time": "2022-06-05T19:49:27.700Z"
   },
   {
    "duration": 4,
    "start_time": "2022-06-05T19:49:30.616Z"
   },
   {
    "duration": 3,
    "start_time": "2022-06-05T19:50:23.054Z"
   },
   {
    "duration": 13,
    "start_time": "2022-06-05T19:50:23.625Z"
   },
   {
    "duration": 3641,
    "start_time": "2022-06-05T19:52:20.754Z"
   },
   {
    "duration": 894,
    "start_time": "2022-06-05T19:52:24.398Z"
   },
   {
    "duration": 38,
    "start_time": "2022-06-05T19:52:25.294Z"
   },
   {
    "duration": 22,
    "start_time": "2022-06-05T19:52:25.339Z"
   },
   {
    "duration": 15,
    "start_time": "2022-06-05T19:52:25.363Z"
   },
   {
    "duration": 4,
    "start_time": "2022-06-05T19:52:25.379Z"
   },
   {
    "duration": 96,
    "start_time": "2022-06-05T19:52:25.385Z"
   },
   {
    "duration": 2,
    "start_time": "2022-06-05T19:52:25.483Z"
   },
   {
    "duration": 7,
    "start_time": "2022-06-05T19:52:25.486Z"
   },
   {
    "duration": 5,
    "start_time": "2022-06-05T19:52:25.495Z"
   },
   {
    "duration": 5,
    "start_time": "2022-06-05T19:52:25.501Z"
   },
   {
    "duration": 10,
    "start_time": "2022-06-05T19:52:25.507Z"
   },
   {
    "duration": 21,
    "start_time": "2022-06-05T19:52:25.518Z"
   },
   {
    "duration": 59,
    "start_time": "2022-06-05T19:52:25.540Z"
   },
   {
    "duration": 2,
    "start_time": "2022-06-05T19:52:25.601Z"
   },
   {
    "duration": 4018,
    "start_time": "2022-06-05T19:52:25.605Z"
   },
   {
    "duration": 7,
    "start_time": "2022-06-05T19:52:29.624Z"
   },
   {
    "duration": 2486,
    "start_time": "2022-06-05T19:52:29.634Z"
   },
   {
    "duration": 10,
    "start_time": "2022-06-05T19:52:32.121Z"
   },
   {
    "duration": 1682,
    "start_time": "2022-06-05T19:52:32.132Z"
   },
   {
    "duration": 5,
    "start_time": "2022-06-05T19:52:33.815Z"
   },
   {
    "duration": 18757,
    "start_time": "2022-06-05T19:52:33.829Z"
   },
   {
    "duration": 3,
    "start_time": "2022-06-05T19:52:52.588Z"
   },
   {
    "duration": 21851,
    "start_time": "2022-06-05T19:52:52.592Z"
   },
   {
    "duration": 13,
    "start_time": "2022-06-05T19:53:14.450Z"
   },
   {
    "duration": 49,
    "start_time": "2022-06-05T19:53:14.464Z"
   },
   {
    "duration": 3,
    "start_time": "2022-06-05T19:53:14.516Z"
   },
   {
    "duration": 945,
    "start_time": "2022-06-05T19:53:14.524Z"
   },
   {
    "duration": 5439,
    "start_time": "2022-06-05T19:53:15.471Z"
   },
   {
    "duration": 4,
    "start_time": "2022-06-05T19:53:20.911Z"
   },
   {
    "duration": 19,
    "start_time": "2022-06-05T19:53:20.916Z"
   },
   {
    "duration": 25,
    "start_time": "2022-06-05T19:53:20.936Z"
   },
   {
    "duration": 5,
    "start_time": "2022-06-05T19:53:20.962Z"
   },
   {
    "duration": 4,
    "start_time": "2022-06-05T19:53:20.969Z"
   },
   {
    "duration": 13469,
    "start_time": "2022-06-05T19:53:20.975Z"
   },
   {
    "duration": 17,
    "start_time": "2022-06-05T19:53:34.449Z"
   },
   {
    "duration": 46,
    "start_time": "2022-06-05T19:53:34.468Z"
   },
   {
    "duration": 5,
    "start_time": "2022-06-05T19:53:34.516Z"
   },
   {
    "duration": 34,
    "start_time": "2022-06-05T19:53:34.536Z"
   },
   {
    "duration": 30,
    "start_time": "2022-06-05T19:53:34.573Z"
   },
   {
    "duration": 48,
    "start_time": "2022-06-05T19:53:34.605Z"
   },
   {
    "duration": 86,
    "start_time": "2022-06-05T19:53:34.659Z"
   },
   {
    "duration": 49,
    "start_time": "2022-06-05T19:53:34.751Z"
   },
   {
    "duration": 6,
    "start_time": "2022-06-05T19:53:34.802Z"
   },
   {
    "duration": 8,
    "start_time": "2022-06-05T19:53:34.809Z"
   },
   {
    "duration": 7,
    "start_time": "2022-06-05T19:53:34.819Z"
   },
   {
    "duration": 14432,
    "start_time": "2022-06-05T19:53:34.828Z"
   },
   {
    "duration": 206,
    "start_time": "2022-06-05T19:53:49.262Z"
   },
   {
    "duration": 38,
    "start_time": "2022-06-05T19:53:49.470Z"
   },
   {
    "duration": 4,
    "start_time": "2022-06-05T19:53:49.510Z"
   },
   {
    "duration": 7,
    "start_time": "2022-06-05T19:53:49.528Z"
   },
   {
    "duration": 13,
    "start_time": "2022-06-05T19:53:49.544Z"
   },
   {
    "duration": 25924,
    "start_time": "2022-06-05T19:53:49.560Z"
   },
   {
    "duration": 128,
    "start_time": "2022-06-05T19:54:15.531Z"
   },
   {
    "duration": 100,
    "start_time": "2022-06-05T19:54:15.662Z"
   },
   {
    "duration": 3,
    "start_time": "2022-06-05T19:54:15.764Z"
   },
   {
    "duration": 5,
    "start_time": "2022-06-05T19:54:15.769Z"
   },
   {
    "duration": 6,
    "start_time": "2022-06-05T19:54:15.776Z"
   },
   {
    "duration": 44887,
    "start_time": "2022-06-05T19:54:15.783Z"
   },
   {
    "duration": 561,
    "start_time": "2022-06-05T19:55:00.672Z"
   },
   {
    "duration": 42,
    "start_time": "2022-06-05T19:55:01.244Z"
   },
   {
    "duration": 4,
    "start_time": "2022-06-05T19:55:01.288Z"
   },
   {
    "duration": 10,
    "start_time": "2022-06-05T19:55:01.294Z"
   },
   {
    "duration": 17,
    "start_time": "2022-06-05T19:55:01.306Z"
   },
   {
    "duration": 37,
    "start_time": "2022-06-05T19:55:01.325Z"
   },
   {
    "duration": 26,
    "start_time": "2022-06-05T19:55:01.363Z"
   },
   {
    "duration": 75,
    "start_time": "2022-06-05T19:55:01.390Z"
   },
   {
    "duration": 3737,
    "start_time": "2022-06-05T20:02:25.415Z"
   },
   {
    "duration": 821,
    "start_time": "2022-06-05T20:02:29.154Z"
   },
   {
    "duration": 31,
    "start_time": "2022-06-05T20:02:29.977Z"
   },
   {
    "duration": 38,
    "start_time": "2022-06-05T20:02:30.009Z"
   },
   {
    "duration": 51,
    "start_time": "2022-06-05T20:02:30.048Z"
   },
   {
    "duration": 7,
    "start_time": "2022-06-05T20:02:30.101Z"
   },
   {
    "duration": 136,
    "start_time": "2022-06-05T20:02:30.109Z"
   },
   {
    "duration": 2,
    "start_time": "2022-06-05T20:02:30.247Z"
   },
   {
    "duration": 27,
    "start_time": "2022-06-05T20:02:30.250Z"
   },
   {
    "duration": 19,
    "start_time": "2022-06-05T20:02:30.279Z"
   },
   {
    "duration": 17,
    "start_time": "2022-06-05T20:02:30.300Z"
   },
   {
    "duration": 43,
    "start_time": "2022-06-05T20:02:30.319Z"
   },
   {
    "duration": 8,
    "start_time": "2022-06-05T20:02:30.365Z"
   },
   {
    "duration": 73,
    "start_time": "2022-06-05T20:02:30.375Z"
   },
   {
    "duration": 3,
    "start_time": "2022-06-05T20:02:30.450Z"
   },
   {
    "duration": 4292,
    "start_time": "2022-06-05T20:02:30.455Z"
   },
   {
    "duration": 7,
    "start_time": "2022-06-05T20:02:34.750Z"
   },
   {
    "duration": 2488,
    "start_time": "2022-06-05T20:02:34.758Z"
   },
   {
    "duration": 3,
    "start_time": "2022-06-05T20:02:37.248Z"
   },
   {
    "duration": 1692,
    "start_time": "2022-06-05T20:02:37.253Z"
   },
   {
    "duration": 10,
    "start_time": "2022-06-05T20:02:38.947Z"
   },
   {
    "duration": 19011,
    "start_time": "2022-06-05T20:02:38.959Z"
   },
   {
    "duration": 3,
    "start_time": "2022-06-05T20:02:57.972Z"
   },
   {
    "duration": 23691,
    "start_time": "2022-06-05T20:02:57.976Z"
   },
   {
    "duration": 9,
    "start_time": "2022-06-05T20:03:21.668Z"
   },
   {
    "duration": 37,
    "start_time": "2022-06-05T20:03:21.679Z"
   },
   {
    "duration": 7,
    "start_time": "2022-06-05T20:03:21.729Z"
   },
   {
    "duration": 884,
    "start_time": "2022-06-05T20:03:21.740Z"
   },
   {
    "duration": 6570,
    "start_time": "2022-06-05T20:03:22.640Z"
   },
   {
    "duration": 4,
    "start_time": "2022-06-05T20:03:29.211Z"
   },
   {
    "duration": 14,
    "start_time": "2022-06-05T20:03:29.216Z"
   },
   {
    "duration": 22,
    "start_time": "2022-06-05T20:03:29.236Z"
   },
   {
    "duration": 20,
    "start_time": "2022-06-05T20:03:29.260Z"
   },
   {
    "duration": 8,
    "start_time": "2022-06-05T20:03:29.282Z"
   },
   {
    "duration": 51343,
    "start_time": "2022-06-05T20:03:29.292Z"
   },
   {
    "duration": 21,
    "start_time": "2022-06-05T20:04:20.638Z"
   },
   {
    "duration": 26,
    "start_time": "2022-06-05T20:04:20.664Z"
   },
   {
    "duration": 4,
    "start_time": "2022-06-05T20:04:20.692Z"
   },
   {
    "duration": 7,
    "start_time": "2022-06-05T20:04:20.697Z"
   },
   {
    "duration": 6,
    "start_time": "2022-06-05T20:04:20.706Z"
   },
   {
    "duration": 85,
    "start_time": "2022-06-05T20:04:20.713Z"
   },
   {
    "duration": 34,
    "start_time": "2022-06-05T20:04:20.799Z"
   },
   {
    "duration": 26,
    "start_time": "2022-06-05T20:04:20.834Z"
   },
   {
    "duration": 6,
    "start_time": "2022-06-05T20:04:20.862Z"
   },
   {
    "duration": 7,
    "start_time": "2022-06-05T20:04:20.869Z"
   },
   {
    "duration": 5,
    "start_time": "2022-06-05T20:04:20.877Z"
   },
   {
    "duration": 320478,
    "start_time": "2022-06-05T20:04:20.884Z"
   },
   {
    "duration": 153,
    "start_time": "2022-06-05T20:09:41.363Z"
   },
   {
    "duration": 29,
    "start_time": "2022-06-05T20:09:41.518Z"
   },
   {
    "duration": 4,
    "start_time": "2022-06-05T20:09:41.550Z"
   },
   {
    "duration": 8,
    "start_time": "2022-06-05T20:09:41.556Z"
   },
   {
    "duration": 5,
    "start_time": "2022-06-05T20:09:41.565Z"
   },
   {
    "duration": 674590,
    "start_time": "2022-06-05T20:09:41.572Z"
   },
   {
    "duration": 3704,
    "start_time": "2022-06-05T20:20:56.163Z"
   },
   {
    "duration": 14,
    "start_time": "2022-06-05T20:20:59.868Z"
   },
   {
    "duration": 3,
    "start_time": "2022-06-05T20:20:59.884Z"
   },
   {
    "duration": 5,
    "start_time": "2022-06-05T20:20:59.889Z"
   },
   {
    "duration": 37,
    "start_time": "2022-06-05T20:20:59.895Z"
   },
   {
    "duration": 4004,
    "start_time": "2022-06-05T20:38:56.574Z"
   },
   {
    "duration": 941,
    "start_time": "2022-06-05T20:39:00.581Z"
   },
   {
    "duration": 42,
    "start_time": "2022-06-05T20:39:01.524Z"
   },
   {
    "duration": 11,
    "start_time": "2022-06-05T20:39:01.569Z"
   },
   {
    "duration": 25,
    "start_time": "2022-06-05T20:39:01.582Z"
   },
   {
    "duration": 4,
    "start_time": "2022-06-05T20:39:01.609Z"
   },
   {
    "duration": 136,
    "start_time": "2022-06-05T20:39:01.628Z"
   },
   {
    "duration": 2,
    "start_time": "2022-06-05T20:39:01.766Z"
   },
   {
    "duration": 13,
    "start_time": "2022-06-05T20:39:01.769Z"
   },
   {
    "duration": 27,
    "start_time": "2022-06-05T20:39:01.785Z"
   },
   {
    "duration": 40,
    "start_time": "2022-06-05T20:39:01.814Z"
   },
   {
    "duration": 3,
    "start_time": "2022-06-05T20:39:01.857Z"
   },
   {
    "duration": 25,
    "start_time": "2022-06-05T20:39:01.862Z"
   },
   {
    "duration": 73,
    "start_time": "2022-06-05T20:39:01.890Z"
   },
   {
    "duration": 3,
    "start_time": "2022-06-05T20:39:01.965Z"
   },
   {
    "duration": 4534,
    "start_time": "2022-06-05T20:39:01.970Z"
   },
   {
    "duration": 3,
    "start_time": "2022-06-05T20:39:06.506Z"
   },
   {
    "duration": 2597,
    "start_time": "2022-06-05T20:39:06.510Z"
   },
   {
    "duration": 4,
    "start_time": "2022-06-05T20:39:09.109Z"
   },
   {
    "duration": 1793,
    "start_time": "2022-06-05T20:39:09.115Z"
   },
   {
    "duration": 5,
    "start_time": "2022-06-05T20:39:10.909Z"
   },
   {
    "duration": 23379,
    "start_time": "2022-06-05T20:39:10.916Z"
   },
   {
    "duration": 9,
    "start_time": "2022-06-05T20:39:34.297Z"
   },
   {
    "duration": 26579,
    "start_time": "2022-06-05T20:39:34.308Z"
   },
   {
    "duration": 10,
    "start_time": "2022-06-05T20:40:00.889Z"
   },
   {
    "duration": 62,
    "start_time": "2022-06-05T20:40:00.900Z"
   },
   {
    "duration": 5,
    "start_time": "2022-06-05T20:40:00.964Z"
   },
   {
    "duration": 1019,
    "start_time": "2022-06-05T20:40:00.973Z"
   },
   {
    "duration": 7572,
    "start_time": "2022-06-05T20:40:01.994Z"
   },
   {
    "duration": 4,
    "start_time": "2022-06-05T20:40:09.568Z"
   },
   {
    "duration": 11,
    "start_time": "2022-06-05T20:40:09.574Z"
   },
   {
    "duration": 5,
    "start_time": "2022-06-05T20:40:09.587Z"
   },
   {
    "duration": 6,
    "start_time": "2022-06-05T20:40:09.594Z"
   },
   {
    "duration": 5,
    "start_time": "2022-06-05T20:40:09.602Z"
   },
   {
    "duration": 51633,
    "start_time": "2022-06-05T20:40:09.610Z"
   },
   {
    "duration": 23,
    "start_time": "2022-06-05T20:41:01.248Z"
   },
   {
    "duration": 37,
    "start_time": "2022-06-05T20:41:01.273Z"
   },
   {
    "duration": 8,
    "start_time": "2022-06-05T20:41:01.330Z"
   },
   {
    "duration": 31,
    "start_time": "2022-06-05T20:41:01.344Z"
   },
   {
    "duration": 27,
    "start_time": "2022-06-05T20:41:01.377Z"
   },
   {
    "duration": 104,
    "start_time": "2022-06-05T20:41:01.406Z"
   },
   {
    "duration": 41,
    "start_time": "2022-06-05T20:41:01.512Z"
   },
   {
    "duration": 20,
    "start_time": "2022-06-05T20:41:01.555Z"
   },
   {
    "duration": 5,
    "start_time": "2022-06-05T20:41:01.576Z"
   },
   {
    "duration": 11,
    "start_time": "2022-06-05T20:41:01.582Z"
   },
   {
    "duration": 8,
    "start_time": "2022-06-05T20:41:01.594Z"
   },
   {
    "duration": 4461,
    "start_time": "2022-06-05T20:44:07.601Z"
   },
   {
    "duration": 971,
    "start_time": "2022-06-05T20:44:12.065Z"
   },
   {
    "duration": 52,
    "start_time": "2022-06-05T20:44:13.045Z"
   },
   {
    "duration": 14,
    "start_time": "2022-06-05T20:44:13.100Z"
   },
   {
    "duration": 39,
    "start_time": "2022-06-05T20:44:13.116Z"
   },
   {
    "duration": 54,
    "start_time": "2022-06-05T20:44:13.156Z"
   },
   {
    "duration": 133,
    "start_time": "2022-06-05T20:44:13.212Z"
   },
   {
    "duration": 6,
    "start_time": "2022-06-05T20:44:13.347Z"
   },
   {
    "duration": 49,
    "start_time": "2022-06-05T20:44:13.358Z"
   },
   {
    "duration": 24,
    "start_time": "2022-06-05T20:44:13.410Z"
   },
   {
    "duration": 48,
    "start_time": "2022-06-05T20:44:13.436Z"
   },
   {
    "duration": 21,
    "start_time": "2022-06-05T20:44:13.487Z"
   },
   {
    "duration": 11,
    "start_time": "2022-06-05T20:44:13.511Z"
   },
   {
    "duration": 127,
    "start_time": "2022-06-05T20:44:13.524Z"
   },
   {
    "duration": 3,
    "start_time": "2022-06-05T20:44:13.654Z"
   },
   {
    "duration": 4948,
    "start_time": "2022-06-05T20:44:13.659Z"
   },
   {
    "duration": 3,
    "start_time": "2022-06-05T20:44:18.609Z"
   },
   {
    "duration": 2509,
    "start_time": "2022-06-05T20:44:18.613Z"
   },
   {
    "duration": 7,
    "start_time": "2022-06-05T20:44:21.123Z"
   },
   {
    "duration": 1742,
    "start_time": "2022-06-05T20:44:21.140Z"
   },
   {
    "duration": 6,
    "start_time": "2022-06-05T20:44:22.884Z"
   },
   {
    "duration": 20688,
    "start_time": "2022-06-05T20:44:22.891Z"
   },
   {
    "duration": 4,
    "start_time": "2022-06-05T20:44:43.580Z"
   },
   {
    "duration": 26031,
    "start_time": "2022-06-05T20:44:43.585Z"
   },
   {
    "duration": 10,
    "start_time": "2022-06-05T20:45:09.618Z"
   },
   {
    "duration": 83,
    "start_time": "2022-06-05T20:45:09.629Z"
   },
   {
    "duration": 4,
    "start_time": "2022-06-05T20:45:09.714Z"
   },
   {
    "duration": 1024,
    "start_time": "2022-06-05T20:45:09.722Z"
   },
   {
    "duration": 7430,
    "start_time": "2022-06-05T20:45:10.748Z"
   },
   {
    "duration": 5,
    "start_time": "2022-06-05T20:45:18.180Z"
   },
   {
    "duration": 20,
    "start_time": "2022-06-05T20:45:18.186Z"
   },
   {
    "duration": 12,
    "start_time": "2022-06-05T20:45:18.208Z"
   },
   {
    "duration": 7,
    "start_time": "2022-06-05T20:45:25.660Z"
   },
   {
    "duration": 3,
    "start_time": "2022-06-05T20:45:27.312Z"
   },
   {
    "duration": 50607,
    "start_time": "2022-06-05T20:45:29.055Z"
   },
   {
    "duration": 4864,
    "start_time": "2022-06-05T20:49:03.581Z"
   },
   {
    "duration": 1171,
    "start_time": "2022-06-05T20:49:08.452Z"
   },
   {
    "duration": 44,
    "start_time": "2022-06-05T20:49:09.625Z"
   },
   {
    "duration": 38,
    "start_time": "2022-06-05T20:49:09.671Z"
   },
   {
    "duration": 15,
    "start_time": "2022-06-05T20:49:09.711Z"
   },
   {
    "duration": 7,
    "start_time": "2022-06-05T20:49:09.728Z"
   },
   {
    "duration": 172,
    "start_time": "2022-06-05T20:49:09.736Z"
   },
   {
    "duration": 2,
    "start_time": "2022-06-05T20:49:09.911Z"
   },
   {
    "duration": 5,
    "start_time": "2022-06-05T20:49:09.915Z"
   },
   {
    "duration": 7,
    "start_time": "2022-06-05T20:49:09.922Z"
   },
   {
    "duration": 66,
    "start_time": "2022-06-05T20:49:09.930Z"
   },
   {
    "duration": 5,
    "start_time": "2022-06-05T20:49:09.998Z"
   },
   {
    "duration": 8,
    "start_time": "2022-06-05T20:49:10.005Z"
   },
   {
    "duration": 98,
    "start_time": "2022-06-05T20:49:10.015Z"
   },
   {
    "duration": 4,
    "start_time": "2022-06-05T20:49:10.115Z"
   },
   {
    "duration": 6771,
    "start_time": "2022-06-05T20:49:10.121Z"
   },
   {
    "duration": 4,
    "start_time": "2022-06-05T20:49:16.893Z"
   },
   {
    "duration": 3177,
    "start_time": "2022-06-05T20:49:16.898Z"
   },
   {
    "duration": 3,
    "start_time": "2022-06-05T20:49:20.077Z"
   },
   {
    "duration": 2657,
    "start_time": "2022-06-05T20:49:20.082Z"
   },
   {
    "duration": 17,
    "start_time": "2022-06-05T20:49:22.744Z"
   },
   {
    "duration": 26651,
    "start_time": "2022-06-05T20:49:22.770Z"
   },
   {
    "duration": 3,
    "start_time": "2022-06-05T20:49:49.423Z"
   },
   {
    "duration": 28894,
    "start_time": "2022-06-05T20:49:49.428Z"
   },
   {
    "duration": 17,
    "start_time": "2022-06-05T20:50:18.324Z"
   },
   {
    "duration": 80,
    "start_time": "2022-06-05T20:50:18.344Z"
   },
   {
    "duration": 7,
    "start_time": "2022-06-05T20:50:18.427Z"
   },
   {
    "duration": 987,
    "start_time": "2022-06-05T20:50:18.436Z"
   },
   {
    "duration": 7051,
    "start_time": "2022-06-05T20:50:19.424Z"
   },
   {
    "duration": 4,
    "start_time": "2022-06-05T20:50:26.477Z"
   },
   {
    "duration": 12,
    "start_time": "2022-06-05T20:50:26.482Z"
   },
   {
    "duration": 8,
    "start_time": "2022-06-05T20:50:26.495Z"
   },
   {
    "duration": 8,
    "start_time": "2022-06-05T20:50:26.504Z"
   },
   {
    "duration": 44,
    "start_time": "2022-06-05T20:50:26.514Z"
   },
   {
    "duration": 50799,
    "start_time": "2022-06-05T20:50:32.572Z"
   },
   {
    "duration": 3,
    "start_time": "2022-06-05T20:53:24.665Z"
   },
   {
    "duration": 4866,
    "start_time": "2022-06-05T20:59:19.182Z"
   },
   {
    "duration": 971,
    "start_time": "2022-06-05T20:59:24.050Z"
   },
   {
    "duration": 44,
    "start_time": "2022-06-05T20:59:25.023Z"
   },
   {
    "duration": 20,
    "start_time": "2022-06-05T20:59:25.069Z"
   },
   {
    "duration": 20,
    "start_time": "2022-06-05T20:59:25.090Z"
   },
   {
    "duration": 4,
    "start_time": "2022-06-05T20:59:25.112Z"
   },
   {
    "duration": 140,
    "start_time": "2022-06-05T20:59:25.117Z"
   },
   {
    "duration": 21,
    "start_time": "2022-06-05T20:59:25.261Z"
   },
   {
    "duration": 4,
    "start_time": "2022-06-05T20:59:25.286Z"
   },
   {
    "duration": 5,
    "start_time": "2022-06-05T20:59:25.294Z"
   },
   {
    "duration": 8,
    "start_time": "2022-06-05T20:59:25.301Z"
   },
   {
    "duration": 5,
    "start_time": "2022-06-05T20:59:25.311Z"
   },
   {
    "duration": 9,
    "start_time": "2022-06-05T20:59:25.318Z"
   },
   {
    "duration": 88,
    "start_time": "2022-06-05T20:59:25.332Z"
   },
   {
    "duration": 3,
    "start_time": "2022-06-05T20:59:25.422Z"
   },
   {
    "duration": 4621,
    "start_time": "2022-06-05T20:59:25.427Z"
   },
   {
    "duration": 6,
    "start_time": "2022-06-05T20:59:30.052Z"
   },
   {
    "duration": 2702,
    "start_time": "2022-06-05T20:59:30.068Z"
   },
   {
    "duration": 4,
    "start_time": "2022-06-05T20:59:32.772Z"
   },
   {
    "duration": 1957,
    "start_time": "2022-06-05T20:59:32.779Z"
   },
   {
    "duration": 7,
    "start_time": "2022-06-05T20:59:34.743Z"
   },
   {
    "duration": 21458,
    "start_time": "2022-06-05T20:59:34.751Z"
   },
   {
    "duration": 3,
    "start_time": "2022-06-05T20:59:56.210Z"
   },
   {
    "duration": 26065,
    "start_time": "2022-06-05T20:59:56.215Z"
   },
   {
    "duration": 10,
    "start_time": "2022-06-05T21:00:22.281Z"
   },
   {
    "duration": 63,
    "start_time": "2022-06-05T21:00:22.293Z"
   },
   {
    "duration": 4,
    "start_time": "2022-06-05T21:00:22.358Z"
   },
   {
    "duration": 974,
    "start_time": "2022-06-05T21:00:22.366Z"
   },
   {
    "duration": 7450,
    "start_time": "2022-06-05T21:00:23.341Z"
   },
   {
    "duration": 4,
    "start_time": "2022-06-05T21:00:30.793Z"
   },
   {
    "duration": 19,
    "start_time": "2022-06-05T21:00:30.798Z"
   },
   {
    "duration": 45,
    "start_time": "2022-06-05T21:00:30.819Z"
   },
   {
    "duration": 23,
    "start_time": "2022-06-05T21:00:30.866Z"
   },
   {
    "duration": 17,
    "start_time": "2022-06-05T21:00:30.891Z"
   },
   {
    "duration": 50769,
    "start_time": "2022-06-05T21:00:30.910Z"
   },
   {
    "duration": 164,
    "start_time": "2022-06-05T21:01:21.737Z"
   },
   {
    "duration": 5527,
    "start_time": "2022-06-05T21:01:21.904Z"
   },
   {
    "duration": 4442,
    "start_time": "2022-06-05T21:01:27.435Z"
   },
   {
    "duration": 4320,
    "start_time": "2022-06-05T21:09:26.179Z"
   },
   {
    "duration": 1000,
    "start_time": "2022-06-05T21:09:30.501Z"
   },
   {
    "duration": 35,
    "start_time": "2022-06-05T21:09:31.504Z"
   },
   {
    "duration": 37,
    "start_time": "2022-06-05T21:09:31.541Z"
   },
   {
    "duration": 27,
    "start_time": "2022-06-05T21:09:31.586Z"
   },
   {
    "duration": 5,
    "start_time": "2022-06-05T21:09:31.616Z"
   },
   {
    "duration": 158,
    "start_time": "2022-06-05T21:09:31.624Z"
   },
   {
    "duration": 3,
    "start_time": "2022-06-05T21:09:31.784Z"
   },
   {
    "duration": 22,
    "start_time": "2022-06-05T21:09:31.788Z"
   },
   {
    "duration": 6,
    "start_time": "2022-06-05T21:09:31.812Z"
   },
   {
    "duration": 4,
    "start_time": "2022-06-05T21:09:31.820Z"
   },
   {
    "duration": 46,
    "start_time": "2022-06-05T21:09:31.826Z"
   },
   {
    "duration": 16,
    "start_time": "2022-06-05T21:09:31.876Z"
   },
   {
    "duration": 69,
    "start_time": "2022-06-05T21:09:31.896Z"
   },
   {
    "duration": 7,
    "start_time": "2022-06-05T21:09:31.967Z"
   },
   {
    "duration": 4923,
    "start_time": "2022-06-05T21:09:31.983Z"
   },
   {
    "duration": 3,
    "start_time": "2022-06-05T21:09:36.908Z"
   },
   {
    "duration": 3063,
    "start_time": "2022-06-05T21:09:36.912Z"
   },
   {
    "duration": 3,
    "start_time": "2022-06-05T21:09:39.977Z"
   },
   {
    "duration": 1887,
    "start_time": "2022-06-05T21:09:39.983Z"
   },
   {
    "duration": 8,
    "start_time": "2022-06-05T21:09:41.874Z"
   },
   {
    "duration": 21325,
    "start_time": "2022-06-05T21:09:41.884Z"
   },
   {
    "duration": 3,
    "start_time": "2022-06-05T21:10:03.211Z"
   },
   {
    "duration": 26660,
    "start_time": "2022-06-05T21:10:03.216Z"
   },
   {
    "duration": 22,
    "start_time": "2022-06-05T21:10:29.879Z"
   },
   {
    "duration": 66,
    "start_time": "2022-06-05T21:10:29.902Z"
   },
   {
    "duration": 3,
    "start_time": "2022-06-05T21:10:29.978Z"
   },
   {
    "duration": 960,
    "start_time": "2022-06-05T21:10:29.984Z"
   },
   {
    "duration": 8721,
    "start_time": "2022-06-05T21:10:30.950Z"
   },
   {
    "duration": 4,
    "start_time": "2022-06-05T21:10:39.672Z"
   },
   {
    "duration": 41,
    "start_time": "2022-06-05T21:10:39.677Z"
   },
   {
    "duration": 49,
    "start_time": "2022-06-05T21:10:39.720Z"
   },
   {
    "duration": 17,
    "start_time": "2022-06-05T21:10:39.770Z"
   },
   {
    "duration": 13,
    "start_time": "2022-06-05T21:10:39.789Z"
   },
   {
    "duration": 50255,
    "start_time": "2022-06-05T21:10:39.804Z"
   },
   {
    "duration": 119,
    "start_time": "2022-06-05T21:11:30.062Z"
   },
   {
    "duration": 5378,
    "start_time": "2022-06-05T21:11:30.183Z"
   },
   {
    "duration": 4170,
    "start_time": "2022-06-05T21:11:35.563Z"
   },
   {
    "duration": 11,
    "start_time": "2022-06-05T21:11:39.743Z"
   },
   {
    "duration": 292,
    "start_time": "2022-06-05T21:11:47.606Z"
   },
   {
    "duration": 4,
    "start_time": "2022-06-05T21:12:33.202Z"
   },
   {
    "duration": 3,
    "start_time": "2022-06-05T21:12:34.853Z"
   },
   {
    "duration": 48411,
    "start_time": "2022-06-05T21:12:35.948Z"
   },
   {
    "duration": 133,
    "start_time": "2022-06-05T21:13:24.364Z"
   },
   {
    "duration": 4757,
    "start_time": "2022-06-05T21:13:24.500Z"
   },
   {
    "duration": 3815,
    "start_time": "2022-06-05T21:13:29.260Z"
   },
   {
    "duration": 5,
    "start_time": "2022-06-05T21:13:33.076Z"
   },
   {
    "duration": 9,
    "start_time": "2022-06-05T21:13:33.082Z"
   },
   {
    "duration": 95,
    "start_time": "2022-06-05T21:13:33.092Z"
   },
   {
    "duration": 333298,
    "start_time": "2022-06-05T21:14:34.652Z"
   },
   {
    "duration": 470322,
    "start_time": "2022-06-05T21:20:07.953Z"
   },
   {
    "duration": 5,
    "start_time": "2022-06-05T21:27:58.277Z"
   },
   {
    "duration": 4,
    "start_time": "2022-06-05T21:28:21.614Z"
   },
   {
    "duration": 89,
    "start_time": "2022-06-05T21:28:22.375Z"
   },
   {
    "duration": 4,
    "start_time": "2022-06-05T21:30:04.454Z"
   },
   {
    "duration": 189062,
    "start_time": "2022-06-05T21:30:25.446Z"
   },
   {
    "duration": 5,
    "start_time": "2022-06-05T21:33:53.124Z"
   },
   {
    "duration": 85,
    "start_time": "2022-06-05T21:33:53.750Z"
   },
   {
    "duration": 3,
    "start_time": "2022-06-05T21:41:19.448Z"
   },
   {
    "duration": 4,
    "start_time": "2022-06-05T21:45:59.410Z"
   },
   {
    "duration": 10,
    "start_time": "2022-06-05T21:47:19.550Z"
   },
   {
    "duration": 40,
    "start_time": "2022-06-05T21:47:37.629Z"
   },
   {
    "duration": 4,
    "start_time": "2022-06-05T21:47:40.026Z"
   },
   {
    "duration": 33,
    "start_time": "2022-06-05T21:47:41.012Z"
   },
   {
    "duration": 2,
    "start_time": "2022-06-05T21:48:04.042Z"
   },
   {
    "duration": 3,
    "start_time": "2022-06-05T21:48:04.608Z"
   },
   {
    "duration": 3,
    "start_time": "2022-06-05T21:48:05.771Z"
   },
   {
    "duration": 1196712,
    "start_time": "2022-06-05T21:48:06.447Z"
   },
   {
    "duration": 46343,
    "start_time": "2022-06-05T22:08:48.388Z"
   },
   {
    "duration": 45080,
    "start_time": "2022-06-05T22:10:00.771Z"
   },
   {
    "duration": 40561,
    "start_time": "2022-06-05T22:12:27.612Z"
   },
   {
    "duration": 3518,
    "start_time": "2022-06-05T22:14:48.096Z"
   },
   {
    "duration": 765,
    "start_time": "2022-06-05T22:14:51.616Z"
   },
   {
    "duration": 26,
    "start_time": "2022-06-05T22:14:52.382Z"
   },
   {
    "duration": 22,
    "start_time": "2022-06-05T22:14:52.410Z"
   },
   {
    "duration": 13,
    "start_time": "2022-06-05T22:14:52.433Z"
   },
   {
    "duration": 2,
    "start_time": "2022-06-05T22:14:52.447Z"
   },
   {
    "duration": 10,
    "start_time": "2022-06-05T22:14:52.450Z"
   },
   {
    "duration": 6,
    "start_time": "2022-06-05T22:14:52.461Z"
   },
   {
    "duration": 9,
    "start_time": "2022-06-05T22:14:52.468Z"
   },
   {
    "duration": 9,
    "start_time": "2022-06-05T22:14:52.479Z"
   },
   {
    "duration": 6,
    "start_time": "2022-06-05T22:14:52.489Z"
   },
   {
    "duration": 45,
    "start_time": "2022-06-05T22:14:52.496Z"
   },
   {
    "duration": 2,
    "start_time": "2022-06-05T22:14:52.543Z"
   },
   {
    "duration": 3552,
    "start_time": "2022-06-05T22:14:52.547Z"
   },
   {
    "duration": 3,
    "start_time": "2022-06-05T22:14:56.100Z"
   },
   {
    "duration": 2320,
    "start_time": "2022-06-05T22:14:56.104Z"
   },
   {
    "duration": 2,
    "start_time": "2022-06-05T22:14:58.428Z"
   },
   {
    "duration": 1521,
    "start_time": "2022-06-05T22:14:58.432Z"
   },
   {
    "duration": 5,
    "start_time": "2022-06-05T22:14:59.954Z"
   },
   {
    "duration": 17899,
    "start_time": "2022-06-05T22:14:59.960Z"
   },
   {
    "duration": 3,
    "start_time": "2022-06-05T22:15:17.861Z"
   },
   {
    "duration": 20534,
    "start_time": "2022-06-05T22:15:17.865Z"
   },
   {
    "duration": 9,
    "start_time": "2022-06-05T22:15:38.401Z"
   },
   {
    "duration": 52,
    "start_time": "2022-06-05T22:15:38.411Z"
   },
   {
    "duration": 3,
    "start_time": "2022-06-05T22:15:38.464Z"
   },
   {
    "duration": 817,
    "start_time": "2022-06-05T22:15:38.468Z"
   },
   {
    "duration": 5763,
    "start_time": "2022-06-05T22:15:39.287Z"
   },
   {
    "duration": 3,
    "start_time": "2022-06-05T22:15:45.053Z"
   },
   {
    "duration": 23,
    "start_time": "2022-06-05T22:15:45.058Z"
   },
   {
    "duration": 9,
    "start_time": "2022-06-05T22:15:45.083Z"
   },
   {
    "duration": 13,
    "start_time": "2022-06-05T22:15:45.094Z"
   },
   {
    "duration": 9,
    "start_time": "2022-06-05T22:15:45.108Z"
   },
   {
    "duration": 48544,
    "start_time": "2022-06-05T22:15:45.118Z"
   },
   {
    "duration": 111,
    "start_time": "2022-06-05T22:16:33.728Z"
   },
   {
    "duration": 308373,
    "start_time": "2022-06-05T22:16:33.841Z"
   },
   {
    "duration": 440889,
    "start_time": "2022-06-05T22:21:42.216Z"
   },
   {
    "duration": 3,
    "start_time": "2022-06-05T22:29:03.107Z"
   },
   {
    "duration": 45,
    "start_time": "2022-06-05T22:29:03.112Z"
   },
   {
    "duration": 4,
    "start_time": "2022-06-05T22:31:00.981Z"
   },
   {
    "duration": 39,
    "start_time": "2022-06-05T22:31:03.720Z"
   },
   {
    "duration": 47,
    "start_time": "2022-06-05T22:31:09.244Z"
   },
   {
    "duration": 12,
    "start_time": "2022-06-05T22:32:52.706Z"
   },
   {
    "duration": 12,
    "start_time": "2022-06-05T22:33:11.745Z"
   },
   {
    "duration": 17,
    "start_time": "2022-06-05T22:33:21.863Z"
   },
   {
    "duration": 18,
    "start_time": "2022-06-05T22:33:25.969Z"
   },
   {
    "duration": 17,
    "start_time": "2022-06-05T22:33:29.688Z"
   },
   {
    "duration": 13,
    "start_time": "2022-06-05T22:33:39.979Z"
   },
   {
    "duration": 12,
    "start_time": "2022-06-05T22:34:15.745Z"
   },
   {
    "duration": 13,
    "start_time": "2022-06-05T22:34:21.083Z"
   },
   {
    "duration": 15,
    "start_time": "2022-06-05T22:34:53.765Z"
   },
   {
    "duration": 39,
    "start_time": "2022-06-05T22:35:05.771Z"
   },
   {
    "duration": 12,
    "start_time": "2022-06-05T22:35:31.955Z"
   },
   {
    "duration": 13,
    "start_time": "2022-06-05T22:35:43.583Z"
   },
   {
    "duration": 126,
    "start_time": "2022-06-05T22:36:19.907Z"
   },
   {
    "duration": 11,
    "start_time": "2022-06-05T22:36:37.562Z"
   },
   {
    "duration": 11,
    "start_time": "2022-06-05T22:36:51.803Z"
   },
   {
    "duration": 13,
    "start_time": "2022-06-05T22:37:09.972Z"
   },
   {
    "duration": 5,
    "start_time": "2022-06-05T22:38:18.099Z"
   },
   {
    "duration": 16,
    "start_time": "2022-06-05T22:38:22.917Z"
   },
   {
    "duration": 14,
    "start_time": "2022-06-05T22:38:39.385Z"
   },
   {
    "duration": 14,
    "start_time": "2022-06-05T22:39:45.164Z"
   },
   {
    "duration": 16,
    "start_time": "2022-06-05T22:39:59.121Z"
   },
   {
    "duration": 14,
    "start_time": "2022-06-05T22:40:43.955Z"
   },
   {
    "duration": 14,
    "start_time": "2022-06-05T22:41:09.028Z"
   },
   {
    "duration": 5,
    "start_time": "2022-06-05T22:42:17.840Z"
   },
   {
    "duration": 79,
    "start_time": "2022-06-05T22:42:18.640Z"
   },
   {
    "duration": 47192,
    "start_time": "2022-06-05T22:45:08.241Z"
   },
   {
    "duration": 5183,
    "start_time": "2022-06-05T22:45:55.435Z"
   },
   {
    "duration": 3589,
    "start_time": "2022-06-05T22:46:00.620Z"
   },
   {
    "duration": 51819,
    "start_time": "2022-06-05T22:47:24.157Z"
   },
   {
    "duration": 3796,
    "start_time": "2022-06-05T22:48:19.902Z"
   },
   {
    "duration": 51161,
    "start_time": "2022-06-05T22:50:11.175Z"
   },
   {
    "duration": 3404,
    "start_time": "2022-06-05T23:11:15.521Z"
   },
   {
    "duration": 747,
    "start_time": "2022-06-05T23:11:18.927Z"
   },
   {
    "duration": 26,
    "start_time": "2022-06-05T23:11:19.676Z"
   },
   {
    "duration": 10,
    "start_time": "2022-06-05T23:11:19.704Z"
   },
   {
    "duration": 12,
    "start_time": "2022-06-05T23:11:19.729Z"
   },
   {
    "duration": 14,
    "start_time": "2022-06-05T23:11:19.743Z"
   },
   {
    "duration": 465,
    "start_time": "2022-06-05T23:11:19.759Z"
   },
   {
    "duration": 53394,
    "start_time": "2022-06-05T23:11:20.226Z"
   },
   {
    "duration": 293,
    "start_time": "2022-06-05T23:12:13.622Z"
   },
   {
    "duration": 280,
    "start_time": "2022-06-05T23:12:13.917Z"
   },
   {
    "duration": 305,
    "start_time": "2022-06-05T23:12:14.199Z"
   },
   {
    "duration": 44,
    "start_time": "2022-06-05T23:12:14.505Z"
   },
   {
    "duration": 2,
    "start_time": "2022-06-05T23:12:14.551Z"
   },
   {
    "duration": 3497,
    "start_time": "2022-06-05T23:12:14.555Z"
   },
   {
    "duration": 3,
    "start_time": "2022-06-05T23:12:18.053Z"
   },
   {
    "duration": 2179,
    "start_time": "2022-06-05T23:12:18.058Z"
   },
   {
    "duration": 2,
    "start_time": "2022-06-05T23:12:20.239Z"
   },
   {
    "duration": 2117,
    "start_time": "2022-06-05T23:12:20.243Z"
   },
   {
    "duration": 4,
    "start_time": "2022-06-05T23:12:22.362Z"
   },
   {
    "duration": 16044,
    "start_time": "2022-06-05T23:12:22.369Z"
   },
   {
    "duration": 2,
    "start_time": "2022-06-05T23:12:38.415Z"
   },
   {
    "duration": 18918,
    "start_time": "2022-06-05T23:12:38.419Z"
   },
   {
    "duration": 8,
    "start_time": "2022-06-05T23:12:57.339Z"
   },
   {
    "duration": 37,
    "start_time": "2022-06-05T23:12:57.349Z"
   },
   {
    "duration": 2,
    "start_time": "2022-06-05T23:12:57.388Z"
   },
   {
    "duration": 794,
    "start_time": "2022-06-05T23:12:57.392Z"
   },
   {
    "duration": 5526,
    "start_time": "2022-06-05T23:12:58.188Z"
   },
   {
    "duration": 4,
    "start_time": "2022-06-05T23:13:03.717Z"
   },
   {
    "duration": 25,
    "start_time": "2022-06-05T23:13:03.722Z"
   },
   {
    "duration": 5,
    "start_time": "2022-06-05T23:13:03.749Z"
   },
   {
    "duration": 4,
    "start_time": "2022-06-05T23:13:03.756Z"
   },
   {
    "duration": 10,
    "start_time": "2022-06-05T23:13:03.761Z"
   },
   {
    "duration": 46499,
    "start_time": "2022-06-05T23:13:03.772Z"
   },
   {
    "duration": 320552,
    "start_time": "2022-06-05T23:13:50.273Z"
   },
   {
    "duration": 429514,
    "start_time": "2022-06-05T23:19:10.828Z"
   },
   {
    "duration": 4,
    "start_time": "2022-06-05T23:26:20.343Z"
   },
   {
    "duration": 51,
    "start_time": "2022-06-05T23:26:20.348Z"
   },
   {
    "duration": 5,
    "start_time": "2022-06-05T23:26:20.401Z"
   },
   {
    "duration": 99,
    "start_time": "2022-06-05T23:26:20.408Z"
   },
   {
    "duration": 46945,
    "start_time": "2022-06-05T23:26:20.508Z"
   },
   {
    "duration": 5596,
    "start_time": "2022-06-05T23:27:07.454Z"
   },
   {
    "duration": 4137,
    "start_time": "2022-06-05T23:27:13.052Z"
   }
  ],
  "kernelspec": {
   "display_name": "Python 3",
   "language": "python",
   "name": "python3"
  },
  "language_info": {
   "codemirror_mode": {
    "name": "ipython",
    "version": 3
   },
   "file_extension": ".py",
   "mimetype": "text/x-python",
   "name": "python",
   "nbconvert_exporter": "python",
   "pygments_lexer": "ipython3",
   "version": "3.8.8"
  },
  "toc": {
   "base_numbering": 1,
   "nav_menu": {},
   "number_sections": true,
   "sideBar": true,
   "skip_h1_title": true,
   "title_cell": "Содержание",
   "title_sidebar": "Contents",
   "toc_cell": true,
   "toc_position": {
    "height": "calc(100% - 180px)",
    "left": "10px",
    "top": "150px",
    "width": "302.391px"
   },
   "toc_section_display": true,
   "toc_window_display": false
  }
 },
 "nbformat": 4,
 "nbformat_minor": 4
}
