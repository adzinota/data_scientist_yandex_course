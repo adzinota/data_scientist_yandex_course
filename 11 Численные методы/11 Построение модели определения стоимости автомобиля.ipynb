{
 "cells": [
  {
   "cell_type": "markdown",
   "metadata": {},
   "source": [
    "# Определение стоимости автомобилей"
   ]
  },
  {
   "cell_type": "markdown",
   "metadata": {},
   "source": [
    "Сервис по продаже автомобилей с пробегом «Не бит, не крашен» разрабатывает приложение для привлечения новых клиентов. В нём можно быстро узнать рыночную стоимость своего автомобиля. В вашем распоряжении исторические данные: технические характеристики, комплектации и цены автомобилей. Вам нужно построить модель для определения стоимости. \n",
    "\n",
    "Заказчику важны:\n",
    "\n",
    "- качество предсказания;\n",
    "- скорость предсказания;\n",
    "- время обучения.\n",
    "\n",
    "**Инструкция по выполнению проекта**\n",
    "\n",
    "Чтобы усилить исследование, не ограничивайтесь градиентным бустингом. Попробуйте более простые модели — иногда они работают лучше. Это редкие случаи, которые легко пропустить, если всегда применять только бустинг. Поэкспериментируйте и сравните характеристики моделей: скорость работы, точность результата.\n",
    "1. Загрузите и подготовьте данные.\n",
    "2. Обучите разные модели. Для каждой попробуйте различные гипепараметеры.\n",
    "3. Проанализируйте скорость работы и качество моделей."
   ]
  },
  {
   "cell_type": "markdown",
   "metadata": {},
   "source": [
    "## Подготовка данных"
   ]
  },
  {
   "cell_type": "code",
   "execution_count": 3,
   "metadata": {},
   "outputs": [],
   "source": [
    "import pandas as pd\n",
    "import seaborn as sns\n",
    "import numpy as np\n",
    "from matplotlib import pyplot as plt\n",
    "from sklearn.model_selection import train_test_split\n",
    "from sklearn.metrics import mean_squared_error\n",
    "from catboost import CatBoostRegressor\n",
    "import lightgbm as lgb\n",
    "from sklearn.linear_model import LinearRegression\n",
    "from sklearn.preprocessing import StandardScaler\n",
    "import time\n",
    "import warnings\n",
    "warnings.filterwarnings('ignore')\n",
    "\n",
    "pip install phik\n",
    "import phik"
   ]
  },
  {
   "cell_type": "code",
   "execution_count": 4,
   "metadata": {},
   "outputs": [],
   "source": [
    "df = pd.read_csv('/datasets/autos.csv')"
   ]
  },
  {
   "cell_type": "code",
   "execution_count": 5,
   "metadata": {},
   "outputs": [
    {
     "name": "stdout",
     "output_type": "stream",
     "text": [
      "<class 'pandas.core.frame.DataFrame'>\n",
      "RangeIndex: 354369 entries, 0 to 354368\n",
      "Data columns (total 16 columns):\n",
      " #   Column             Non-Null Count   Dtype \n",
      "---  ------             --------------   ----- \n",
      " 0   DateCrawled        354369 non-null  object\n",
      " 1   Price              354369 non-null  int64 \n",
      " 2   VehicleType        316879 non-null  object\n",
      " 3   RegistrationYear   354369 non-null  int64 \n",
      " 4   Gearbox            334536 non-null  object\n",
      " 5   Power              354369 non-null  int64 \n",
      " 6   Model              334664 non-null  object\n",
      " 7   Kilometer          354369 non-null  int64 \n",
      " 8   RegistrationMonth  354369 non-null  int64 \n",
      " 9   FuelType           321474 non-null  object\n",
      " 10  Brand              354369 non-null  object\n",
      " 11  NotRepaired        283215 non-null  object\n",
      " 12  DateCreated        354369 non-null  object\n",
      " 13  NumberOfPictures   354369 non-null  int64 \n",
      " 14  PostalCode         354369 non-null  int64 \n",
      " 15  LastSeen           354369 non-null  object\n",
      "dtypes: int64(7), object(9)\n",
      "memory usage: 43.3+ MB\n"
     ]
    }
   ],
   "source": [
    "df.info()"
   ]
  },
  {
   "cell_type": "markdown",
   "metadata": {},
   "source": [
    "### Обработка столбцов"
   ]
  },
  {
   "cell_type": "markdown",
   "metadata": {},
   "source": [
    "Удалим те столбцы, которые не потребуются при анализе:\n",
    "* DateCrawled\n",
    "* RegistrationMonth\n",
    "* DateCreated\n",
    "* NumberOfPictures\n",
    "* PostalCode\n",
    "* LastSeen"
   ]
  },
  {
   "cell_type": "code",
   "execution_count": 6,
   "metadata": {},
   "outputs": [],
   "source": [
    "df.drop(['DateCrawled', 'RegistrationMonth', 'DateCreated', \n",
    "         'NumberOfPictures', 'PostalCode', 'LastSeen'], axis=1, inplace=True)"
   ]
  },
  {
   "cell_type": "markdown",
   "metadata": {},
   "source": [
    "Приведем названия столбцов к змеиному_регистру и поменяем порядок столбцов"
   ]
  },
  {
   "cell_type": "code",
   "execution_count": 7,
   "metadata": {},
   "outputs": [
    {
     "data": {
      "text/plain": [
       "Index(['price', 'vehicletype', 'registrationyear', 'gearbox', 'power', 'model',\n",
       "       'kilometer', 'fueltype', 'brand', 'notrepaired'],\n",
       "      dtype='object')"
      ]
     },
     "execution_count": 7,
     "metadata": {},
     "output_type": "execute_result"
    }
   ],
   "source": [
    "df.columns = df.columns.str.lower()\n",
    "df.columns"
   ]
  },
  {
   "cell_type": "code",
   "execution_count": 8,
   "metadata": {},
   "outputs": [],
   "source": [
    "columns = ['registrationyear', 'brand', 'model', 'vehicletype', 'gearbox', \n",
    "           'fueltype', 'power', 'kilometer', 'notrepaired', 'price']\n",
    "\n",
    "df = df.reindex(columns=columns)"
   ]
  },
  {
   "cell_type": "code",
   "execution_count": 9,
   "metadata": {},
   "outputs": [],
   "source": [
    "columns = {'registrationyear':'year', \n",
    "           'vehicletype':'vehicle_type', \n",
    "           'fueltype':'fuel_type', \n",
    "           'notrepaired':'not_repaired'}\n",
    "\n",
    "df.rename(columns=columns, inplace=True)"
   ]
  },
  {
   "cell_type": "code",
   "execution_count": 10,
   "metadata": {},
   "outputs": [
    {
     "data": {
      "text/html": [
       "<div>\n",
       "<style scoped>\n",
       "    .dataframe tbody tr th:only-of-type {\n",
       "        vertical-align: middle;\n",
       "    }\n",
       "\n",
       "    .dataframe tbody tr th {\n",
       "        vertical-align: top;\n",
       "    }\n",
       "\n",
       "    .dataframe thead th {\n",
       "        text-align: right;\n",
       "    }\n",
       "</style>\n",
       "<table border=\"1\" class=\"dataframe\">\n",
       "  <thead>\n",
       "    <tr style=\"text-align: right;\">\n",
       "      <th></th>\n",
       "      <th>year</th>\n",
       "      <th>brand</th>\n",
       "      <th>model</th>\n",
       "      <th>vehicle_type</th>\n",
       "      <th>gearbox</th>\n",
       "      <th>fuel_type</th>\n",
       "      <th>power</th>\n",
       "      <th>kilometer</th>\n",
       "      <th>not_repaired</th>\n",
       "      <th>price</th>\n",
       "    </tr>\n",
       "  </thead>\n",
       "  <tbody>\n",
       "    <tr>\n",
       "      <th>0</th>\n",
       "      <td>1993</td>\n",
       "      <td>volkswagen</td>\n",
       "      <td>golf</td>\n",
       "      <td>NaN</td>\n",
       "      <td>manual</td>\n",
       "      <td>petrol</td>\n",
       "      <td>0</td>\n",
       "      <td>150000</td>\n",
       "      <td>NaN</td>\n",
       "      <td>480</td>\n",
       "    </tr>\n",
       "    <tr>\n",
       "      <th>1</th>\n",
       "      <td>2011</td>\n",
       "      <td>audi</td>\n",
       "      <td>NaN</td>\n",
       "      <td>coupe</td>\n",
       "      <td>manual</td>\n",
       "      <td>gasoline</td>\n",
       "      <td>190</td>\n",
       "      <td>125000</td>\n",
       "      <td>yes</td>\n",
       "      <td>18300</td>\n",
       "    </tr>\n",
       "    <tr>\n",
       "      <th>2</th>\n",
       "      <td>2004</td>\n",
       "      <td>jeep</td>\n",
       "      <td>grand</td>\n",
       "      <td>suv</td>\n",
       "      <td>auto</td>\n",
       "      <td>gasoline</td>\n",
       "      <td>163</td>\n",
       "      <td>125000</td>\n",
       "      <td>NaN</td>\n",
       "      <td>9800</td>\n",
       "    </tr>\n",
       "    <tr>\n",
       "      <th>3</th>\n",
       "      <td>2001</td>\n",
       "      <td>volkswagen</td>\n",
       "      <td>golf</td>\n",
       "      <td>small</td>\n",
       "      <td>manual</td>\n",
       "      <td>petrol</td>\n",
       "      <td>75</td>\n",
       "      <td>150000</td>\n",
       "      <td>no</td>\n",
       "      <td>1500</td>\n",
       "    </tr>\n",
       "    <tr>\n",
       "      <th>4</th>\n",
       "      <td>2008</td>\n",
       "      <td>skoda</td>\n",
       "      <td>fabia</td>\n",
       "      <td>small</td>\n",
       "      <td>manual</td>\n",
       "      <td>gasoline</td>\n",
       "      <td>69</td>\n",
       "      <td>90000</td>\n",
       "      <td>no</td>\n",
       "      <td>3600</td>\n",
       "    </tr>\n",
       "  </tbody>\n",
       "</table>\n",
       "</div>"
      ],
      "text/plain": [
       "   year       brand  model vehicle_type gearbox fuel_type  power  kilometer  \\\n",
       "0  1993  volkswagen   golf          NaN  manual    petrol      0     150000   \n",
       "1  2011        audi    NaN        coupe  manual  gasoline    190     125000   \n",
       "2  2004        jeep  grand          suv    auto  gasoline    163     125000   \n",
       "3  2001  volkswagen   golf        small  manual    petrol     75     150000   \n",
       "4  2008       skoda  fabia        small  manual  gasoline     69      90000   \n",
       "\n",
       "  not_repaired  price  \n",
       "0          NaN    480  \n",
       "1          yes  18300  \n",
       "2          NaN   9800  \n",
       "3           no   1500  \n",
       "4           no   3600  "
      ]
     },
     "execution_count": 10,
     "metadata": {},
     "output_type": "execute_result"
    }
   ],
   "source": [
    "df.head()"
   ]
  },
  {
   "cell_type": "markdown",
   "metadata": {},
   "source": [
    "### Обработка пропусков"
   ]
  },
  {
   "cell_type": "code",
   "execution_count": 11,
   "metadata": {},
   "outputs": [
    {
     "data": {
      "text/plain": [
       "year                0\n",
       "brand               0\n",
       "model           19705\n",
       "vehicle_type    37490\n",
       "gearbox         19833\n",
       "fuel_type       32895\n",
       "power               0\n",
       "kilometer           0\n",
       "not_repaired    71154\n",
       "price               0\n",
       "dtype: int64"
      ]
     },
     "execution_count": 11,
     "metadata": {},
     "output_type": "execute_result"
    }
   ],
   "source": [
    "df.isna().sum()"
   ]
  },
  {
   "cell_type": "markdown",
   "metadata": {},
   "source": [
    "Заполним пропуски"
   ]
  },
  {
   "cell_type": "code",
   "execution_count": 12,
   "metadata": {},
   "outputs": [],
   "source": [
    "df['model'] = df['model'].fillna('unknown')\n",
    "df['vehicle_type'] = df['vehicle_type'].fillna('unknown')\n",
    "df['gearbox'] = df['gearbox'].fillna('unknown')\n",
    "df['fuel_type'] = df['fuel_type'].fillna('unknown')"
   ]
  },
  {
   "cell_type": "code",
   "execution_count": 13,
   "metadata": {},
   "outputs": [
    {
     "data": {
      "text/plain": [
       "no     247161\n",
       "yes     36054\n",
       "Name: not_repaired, dtype: int64"
      ]
     },
     "execution_count": 13,
     "metadata": {},
     "output_type": "execute_result"
    }
   ],
   "source": [
    "df['not_repaired'].value_counts()"
   ]
  },
  {
   "cell_type": "markdown",
   "metadata": {},
   "source": [
    "Скорее всего, пропуски в столбце not_repaired означают отсутствие ремонта (т.е. yes)\n",
    "\n",
    "Также в этом столбце имеет смысл привести значения к типу bool"
   ]
  },
  {
   "cell_type": "code",
   "execution_count": 14,
   "metadata": {},
   "outputs": [
    {
     "data": {
      "text/plain": [
       "False    247161\n",
       "True     107208\n",
       "Name: not_repaired, dtype: int64"
      ]
     },
     "execution_count": 14,
     "metadata": {},
     "output_type": "execute_result"
    }
   ],
   "source": [
    "df.loc[(df['not_repaired'] == 'yes'), 'not_repaired'] = 1\n",
    "df.loc[(df['not_repaired'] == 'no'), 'not_repaired'] = 0\n",
    "\n",
    "df['not_repaired'] = df['not_repaired'].fillna(1).astype(bool)\n",
    "\n",
    "df['not_repaired'].value_counts()"
   ]
  },
  {
   "cell_type": "markdown",
   "metadata": {},
   "source": [
    "### Обработка значений"
   ]
  },
  {
   "cell_type": "markdown",
   "metadata": {},
   "source": [
    "Определим функцию для построения диаграммы \"ящик с усами\""
   ]
  },
  {
   "cell_type": "code",
   "execution_count": 15,
   "metadata": {},
   "outputs": [],
   "source": [
    "sns.set(rc={'figure.figsize':(10,5)})\n",
    "\n",
    "def display_boxplot(data, title):\n",
    "    sns.boxplot(x=data)\n",
    "    plt.title(title)\n",
    "    plt.show()"
   ]
  },
  {
   "cell_type": "code",
   "execution_count": 16,
   "metadata": {},
   "outputs": [],
   "source": [
    "def display_histplot(data, bins, title):\n",
    "    sns.histplot(data=data, bins=bins)\n",
    "    plt.title(title)\n",
    "    plt.show()"
   ]
  },
  {
   "cell_type": "markdown",
   "metadata": {},
   "source": [
    "#### Столбец year"
   ]
  },
  {
   "cell_type": "code",
   "execution_count": 17,
   "metadata": {},
   "outputs": [
    {
     "data": {
      "text/plain": [
       "count    354369.000000\n",
       "mean       2004.234448\n",
       "std          90.227958\n",
       "min        1000.000000\n",
       "25%        1999.000000\n",
       "50%        2003.000000\n",
       "75%        2008.000000\n",
       "max        9999.000000\n",
       "Name: year, dtype: float64"
      ]
     },
     "execution_count": 17,
     "metadata": {},
     "output_type": "execute_result"
    }
   ],
   "source": [
    "df.year.describe()"
   ]
  },
  {
   "cell_type": "markdown",
   "metadata": {},
   "source": [
    "Построим \"ящик с усами\""
   ]
  },
  {
   "cell_type": "code",
   "execution_count": 18,
   "metadata": {},
   "outputs": [
    {
     "data": {
      "image/png": "[encoded data removed]",
      "text/plain": [
       "<Figure size 720x360 with 1 Axes>"
      ]
     },
     "metadata": {},
     "output_type": "display_data"
    }
   ],
   "source": [
    "display_boxplot(df.year, 'Год регистрации')"
   ]
  },
  {
   "cell_type": "markdown",
   "metadata": {},
   "source": [
    "Для начала посмотрим на гостей из будущего (данные выгружены в 2016 году)"
   ]
  },
  {
   "cell_type": "code",
   "execution_count": 19,
   "metadata": {},
   "outputs": [
    {
     "data": {
      "text/plain": [
       "14530"
      ]
     },
     "execution_count": 19,
     "metadata": {},
     "output_type": "execute_result"
    }
   ],
   "source": [
    "df.query('year>2016').shape[0]"
   ]
  },
  {
   "cell_type": "markdown",
   "metadata": {},
   "source": [
    "Очень много\n",
    "\n",
    "Интересно посмотреть \"критическую точку\" - 2017 и 2016 годы"
   ]
  },
  {
   "cell_type": "code",
   "execution_count": 20,
   "metadata": {},
   "outputs": [
    {
     "data": {
      "text/plain": [
       "10441"
      ]
     },
     "execution_count": 20,
     "metadata": {},
     "output_type": "execute_result"
    }
   ],
   "source": [
    "df.query('year==2017').shape[0]"
   ]
  },
  {
   "cell_type": "code",
   "execution_count": 21,
   "metadata": {},
   "outputs": [
    {
     "data": {
      "text/plain": [
       "9599"
      ]
     },
     "execution_count": 21,
     "metadata": {},
     "output_type": "execute_result"
    }
   ],
   "source": [
    "df.query('year==2016').shape[0]"
   ]
  },
  {
   "cell_type": "markdown",
   "metadata": {},
   "source": [
    "Да уж, 2017 даже больше, чем 2016\n",
    "\n",
    "Наверняка это не ошибка, а имеющие смысл данные, например, как в 2021 году продают литературу с датой издания 2022\n",
    "\n",
    "Удалим данные от 2018 и выше"
   ]
  },
  {
   "cell_type": "code",
   "execution_count": 22,
   "metadata": {},
   "outputs": [],
   "source": [
    "df.drop(df.loc[df['year']>2017].index, inplace=True)"
   ]
  },
  {
   "cell_type": "code",
   "execution_count": 23,
   "metadata": {},
   "outputs": [
    {
     "data": {
      "image/png": "[encoded data removed]",
      "text/plain": [
       "<Figure size 720x360 with 1 Axes>"
      ]
     },
     "metadata": {},
     "output_type": "display_data"
    }
   ],
   "source": [
    "display_boxplot(df.year, 'Год регистрации')"
   ]
  },
  {
   "cell_type": "markdown",
   "metadata": {},
   "source": [
    "Первый автомобиль создан в 1886 году, удалим неисторичные выбросы и еще раз посмотрим нижние значения"
   ]
  },
  {
   "cell_type": "code",
   "execution_count": 24,
   "metadata": {},
   "outputs": [],
   "source": [
    "df.drop(df.loc[df['year']<1886].index, inplace=True)"
   ]
  },
  {
   "cell_type": "code",
   "execution_count": 25,
   "metadata": {},
   "outputs": [
    {
     "data": {
      "image/png": "[encoded data removed]",
      "text/plain": [
       "<Figure size 720x360 with 1 Axes>"
      ]
     },
     "metadata": {},
     "output_type": "display_data"
    }
   ],
   "source": [
    "display_boxplot(df.year, 'Год регистрации')"
   ]
  },
  {
   "cell_type": "code",
   "execution_count": 26,
   "metadata": {},
   "outputs": [
    {
     "data": {
      "text/plain": [
       "5382"
      ]
     },
     "execution_count": 26,
     "metadata": {},
     "output_type": "execute_result"
    }
   ],
   "source": [
    "df.query('year<1985').shape[0]"
   ]
  },
  {
   "cell_type": "markdown",
   "metadata": {},
   "source": [
    "Возьмем 1985 год как минимальный"
   ]
  },
  {
   "cell_type": "code",
   "execution_count": 27,
   "metadata": {},
   "outputs": [],
   "source": [
    "df.drop(df.loc[df['year']<1985].index, inplace=True)"
   ]
  },
  {
   "cell_type": "code",
   "execution_count": 28,
   "metadata": {},
   "outputs": [
    {
     "data": {
      "image/png": "[encoded data removed]",
      "text/plain": [
       "<Figure size 720x360 with 1 Axes>"
      ]
     },
     "metadata": {},
     "output_type": "display_data"
    }
   ],
   "source": [
    "display_boxplot(df.year, 'Год регистрации')"
   ]
  },
  {
   "cell_type": "code",
   "execution_count": 29,
   "metadata": {},
   "outputs": [
    {
     "data": {
      "image/png": "[encoded data removed]",
      "text/plain": [
       "<Figure size 720x360 with 1 Axes>"
      ]
     },
     "metadata": {},
     "output_type": "display_data"
    }
   ],
   "source": [
    "display_histplot(df.year, 10, 'Годы')"
   ]
  },
  {
   "cell_type": "code",
   "execution_count": 30,
   "metadata": {},
   "outputs": [
    {
     "data": {
      "text/plain": [
       "count    344832.000000\n",
       "mean       2003.379150\n",
       "std           6.269945\n",
       "min        1985.000000\n",
       "25%        1999.000000\n",
       "50%        2003.000000\n",
       "75%        2007.000000\n",
       "max        2017.000000\n",
       "Name: year, dtype: float64"
      ]
     },
     "execution_count": 30,
     "metadata": {},
     "output_type": "execute_result"
    }
   ],
   "source": [
    "df.year.describe()"
   ]
  },
  {
   "cell_type": "markdown",
   "metadata": {},
   "source": [
    "#### Столбец brand"
   ]
  },
  {
   "cell_type": "code",
   "execution_count": 31,
   "metadata": {},
   "outputs": [
    {
     "data": {
      "text/plain": [
       "array(['alfa_romeo', 'audi', 'bmw', 'chevrolet', 'chrysler', 'citroen',\n",
       "       'dacia', 'daewoo', 'daihatsu', 'fiat', 'ford', 'honda', 'hyundai',\n",
       "       'jaguar', 'jeep', 'kia', 'lada', 'lancia', 'land_rover', 'mazda',\n",
       "       'mercedes_benz', 'mini', 'mitsubishi', 'nissan', 'opel', 'peugeot',\n",
       "       'porsche', 'renault', 'rover', 'saab', 'seat', 'skoda', 'smart',\n",
       "       'sonstige_autos', 'subaru', 'suzuki', 'toyota', 'trabant',\n",
       "       'volkswagen', 'volvo'], dtype=object)"
      ]
     },
     "execution_count": 31,
     "metadata": {},
     "output_type": "execute_result"
    }
   ],
   "source": [
    "df.brand.sort_values().unique()"
   ]
  },
  {
   "cell_type": "code",
   "execution_count": 32,
   "metadata": {},
   "outputs": [
    {
     "data": {
      "text/plain": [
       "count         344832\n",
       "unique            40\n",
       "top       volkswagen\n",
       "freq           74893\n",
       "Name: brand, dtype: object"
      ]
     },
     "execution_count": 32,
     "metadata": {},
     "output_type": "execute_result"
    }
   ],
   "source": [
    "df.brand.describe()"
   ]
  },
  {
   "cell_type": "markdown",
   "metadata": {},
   "source": [
    "#### Столбец model"
   ]
  },
  {
   "cell_type": "code",
   "execution_count": 33,
   "metadata": {},
   "outputs": [
    {
     "data": {
      "text/plain": [
       "count     344832\n",
       "unique       248\n",
       "top         golf\n",
       "freq       28598\n",
       "Name: model, dtype: object"
      ]
     },
     "execution_count": 33,
     "metadata": {},
     "output_type": "execute_result"
    }
   ],
   "source": [
    "df.model.describe()"
   ]
  },
  {
   "cell_type": "markdown",
   "metadata": {},
   "source": [
    "Очень много моделей, нужно уменьшить количество, т.к это категориальный признак"
   ]
  },
  {
   "cell_type": "code",
   "execution_count": 34,
   "metadata": {},
   "outputs": [
    {
     "data": {
      "text/plain": [
       "golf                  28598\n",
       "other                 22070\n",
       "3er                   19547\n",
       "unknown               17884\n",
       "polo                  12840\n",
       "                      ...  \n",
       "elefantino               11\n",
       "i3                        8\n",
       "kalina                    6\n",
       "rangerover                4\n",
       "range_rover_evoque        2\n",
       "Name: model, Length: 248, dtype: int64"
      ]
     },
     "execution_count": 34,
     "metadata": {},
     "output_type": "execute_result"
    }
   ],
   "source": [
    "df.model.value_counts()"
   ]
  },
  {
   "cell_type": "code",
   "execution_count": 35,
   "metadata": {},
   "outputs": [
    {
     "data": {
      "text/plain": [
       "array(['100', '145', '147', '156', '159', '1_reihe', '1er', '200',\n",
       "       '2_reihe', '300c', '3_reihe', '3er', '4_reihe', '500', '5_reihe',\n",
       "       '5er', '601', '6_reihe', '6er', '7er', '80', '850', '90', '900',\n",
       "       '9000', '911', 'a1', 'a2', 'a3', 'a4', 'a5', 'a6', 'a8',\n",
       "       'a_klasse', 'accord', 'agila', 'alhambra', 'almera', 'altea',\n",
       "       'amarok', 'antara', 'arosa', 'astra', 'auris', 'avensis', 'aveo',\n",
       "       'aygo', 'b_klasse', 'b_max', 'beetle', 'berlingo', 'bora',\n",
       "       'boxster', 'bravo', 'c1', 'c2', 'c3', 'c4', 'c5', 'c_klasse',\n",
       "       'c_max', 'c_reihe', 'caddy', 'calibra', 'captiva', 'carisma',\n",
       "       'carnival', 'cayenne', 'cc', 'ceed', 'charade', 'cherokee',\n",
       "       'citigo', 'civic', 'cl', 'clio', 'clk', 'clubman', 'colt', 'combo',\n",
       "       'cooper', 'cordoba', 'corolla', 'corsa', 'cr_reihe', 'croma',\n",
       "       'crossfire', 'cuore', 'cx_reihe', 'defender', 'delta', 'discovery',\n",
       "       'doblo', 'ducato', 'duster', 'e_klasse', 'elefantino', 'eos',\n",
       "       'escort', 'espace', 'exeo', 'fabia', 'fiesta', 'focus', 'forester',\n",
       "       'forfour', 'fortwo', 'fox', 'freelander', 'fusion', 'g_klasse',\n",
       "       'galant', 'galaxy', 'getz', 'gl', 'glk', 'golf', 'grand', 'i3',\n",
       "       'i_reihe', 'ibiza', 'impreza', 'insignia', 'jazz', 'jetta',\n",
       "       'jimny', 'juke', 'justy', 'ka', 'kadett', 'kaefer', 'kalina',\n",
       "       'kalos', 'kangoo', 'kappa', 'kuga', 'laguna', 'lancer', 'lanos',\n",
       "       'legacy', 'leon', 'lodgy', 'logan', 'lupo', 'lybra', 'm_klasse',\n",
       "       'm_reihe', 'materia', 'matiz', 'megane', 'meriva', 'micra', 'mii',\n",
       "       'modus', 'mondeo', 'move', 'musa', 'mustang', 'mx_reihe', 'navara',\n",
       "       'niva', 'note', 'nubira', 'octavia', 'omega', 'one', 'other',\n",
       "       'outlander', 'pajero', 'panda', 'passat', 'phaeton', 'picanto',\n",
       "       'polo', 'primera', 'ptcruiser', 'punto', 'q3', 'q5', 'q7',\n",
       "       'qashqai', 'r19', 'range_rover', 'range_rover_evoque',\n",
       "       'range_rover_sport', 'rangerover', 'rav', 'rio', 'roadster',\n",
       "       'roomster', 'rx_reihe', 's60', 's_klasse', 's_max', 's_type',\n",
       "       'samara', 'sandero', 'santa', 'scenic', 'scirocco', 'seicento',\n",
       "       'sharan', 'signum', 'sirion', 'sl', 'slk', 'sorento', 'spark',\n",
       "       'spider', 'sportage', 'sprinter', 'stilo', 'superb', 'swift',\n",
       "       'terios', 'tigra', 'tiguan', 'toledo', 'touareg', 'touran',\n",
       "       'transit', 'transporter', 'tt', 'tucson', 'twingo', 'unknown',\n",
       "       'up', 'v40', 'v50', 'v60', 'v70', 'v_klasse', 'vectra', 'verso',\n",
       "       'viano', 'vito', 'vivaro', 'voyager', 'wrangler', 'x_reihe',\n",
       "       'x_trail', 'x_type', 'xc_reihe', 'yaris', 'yeti', 'ypsilon',\n",
       "       'z_reihe', 'zafira'], dtype=object)"
      ]
     },
     "execution_count": 35,
     "metadata": {},
     "output_type": "execute_result"
    }
   ],
   "source": [
    "df.model.sort_values().unique()"
   ]
  },
  {
   "cell_type": "markdown",
   "metadata": {},
   "source": [
    "Мы видим, что каких-то моделей десятки тысяч, а каких-то всего несколько штук, при этом самих моделей очень много\n",
    "\n",
    "Есть значение other и unknown (которым мы заменили NaN), их можно объединить, в данном случае они имеют один смысл\n",
    "\n",
    "Такие значения, как 'range_rover', 'range_rover_evoque', 'range_rover_sport', 'rangerover', можно заменить одним"
   ]
  },
  {
   "cell_type": "code",
   "execution_count": 36,
   "metadata": {},
   "outputs": [],
   "source": [
    "df.loc[((df['model'] == 'range_rover_evoque') | \n",
    "        (df['model'] == 'range_rover_sport') | \n",
    "        (df['model'] == 'rangerover')), \n",
    "       'model'] = 'range_rover'"
   ]
  },
  {
   "cell_type": "markdown",
   "metadata": {},
   "source": [
    "Посмотрим, сколько категорий имеют меньше 300 единиц на рынке и сколько всего это автомобилей"
   ]
  },
  {
   "cell_type": "code",
   "execution_count": 37,
   "metadata": {},
   "outputs": [
    {
     "data": {
      "text/plain": [
       "189"
      ]
     },
     "execution_count": 37,
     "metadata": {},
     "output_type": "execute_result"
    }
   ],
   "source": [
    "df.model.value_counts().to_frame().loc[df.model.value_counts().to_frame()['model']<1000].shape[0]"
   ]
  },
  {
   "cell_type": "code",
   "execution_count": 38,
   "metadata": {},
   "outputs": [
    {
     "data": {
      "text/plain": [
       "model    61015\n",
       "dtype: int64"
      ]
     },
     "execution_count": 38,
     "metadata": {},
     "output_type": "execute_result"
    }
   ],
   "source": [
    "df.model.value_counts().to_frame().loc[df.model.value_counts().to_frame()['model']<1000].sum()"
   ]
  },
  {
   "cell_type": "markdown",
   "metadata": {},
   "source": [
    "Попробуем сократить число таких моделей, а также объединить категории other и unknown - имеют один смысл"
   ]
  },
  {
   "cell_type": "code",
   "execution_count": 39,
   "metadata": {},
   "outputs": [],
   "source": [
    "models = df.model.value_counts().to_frame().loc[df.model.value_counts().to_frame()['model']<1000].index\n",
    "\n",
    "for model in models:\n",
    "    df.loc[df['model'] == model, 'model'] = 'other'\n",
    "    \n",
    "df.loc[df['model'] == 'unknown', 'model'] = 'other'"
   ]
  },
  {
   "cell_type": "code",
   "execution_count": 40,
   "metadata": {},
   "outputs": [
    {
     "data": {
      "text/plain": [
       "100969"
      ]
     },
     "execution_count": 40,
     "metadata": {},
     "output_type": "execute_result"
    }
   ],
   "source": [
    "df[df['model']=='other'].shape[0]"
   ]
  },
  {
   "cell_type": "code",
   "execution_count": 41,
   "metadata": {},
   "outputs": [
    {
     "data": {
      "text/plain": [
       "55"
      ]
     },
     "execution_count": 41,
     "metadata": {},
     "output_type": "execute_result"
    }
   ],
   "source": [
    "df.model.value_counts().count()"
   ]
  },
  {
   "cell_type": "markdown",
   "metadata": {},
   "source": [
    "#### Столбец vehicle_type"
   ]
  },
  {
   "cell_type": "code",
   "execution_count": 42,
   "metadata": {},
   "outputs": [
    {
     "data": {
      "text/plain": [
       "sedan          89710\n",
       "small          79360\n",
       "wagon          64962\n",
       "unknown        32637\n",
       "bus            28549\n",
       "convertible    19580\n",
       "coupe          15270\n",
       "suv            11715\n",
       "other           3049\n",
       "Name: vehicle_type, dtype: int64"
      ]
     },
     "execution_count": 42,
     "metadata": {},
     "output_type": "execute_result"
    }
   ],
   "source": [
    "df.vehicle_type.value_counts()"
   ]
  },
  {
   "cell_type": "markdown",
   "metadata": {},
   "source": [
    "#### Столбец gearbox"
   ]
  },
  {
   "cell_type": "code",
   "execution_count": 43,
   "metadata": {},
   "outputs": [
    {
     "data": {
      "text/plain": [
       "manual     262003\n",
       "auto        64699\n",
       "unknown     18130\n",
       "Name: gearbox, dtype: int64"
      ]
     },
     "execution_count": 43,
     "metadata": {},
     "output_type": "execute_result"
    }
   ],
   "source": [
    "df.gearbox.value_counts()"
   ]
  },
  {
   "cell_type": "markdown",
   "metadata": {},
   "source": [
    "#### Столбец fuel_type"
   ]
  },
  {
   "cell_type": "code",
   "execution_count": 44,
   "metadata": {},
   "outputs": [
    {
     "data": {
      "text/plain": [
       "petrol      210760\n",
       "gasoline     97721\n",
       "unknown      30096\n",
       "lpg           5223\n",
       "cng            556\n",
       "hybrid         230\n",
       "other          158\n",
       "electric        88\n",
       "Name: fuel_type, dtype: int64"
      ]
     },
     "execution_count": 44,
     "metadata": {},
     "output_type": "execute_result"
    }
   ],
   "source": [
    "df.fuel_type.value_counts()"
   ]
  },
  {
   "cell_type": "markdown",
   "metadata": {},
   "source": [
    "#### Столбец power"
   ]
  },
  {
   "cell_type": "code",
   "execution_count": 45,
   "metadata": {},
   "outputs": [
    {
     "data": {
      "text/plain": [
       "count    344832.000000\n",
       "mean        110.867054\n",
       "std         187.100003\n",
       "min           0.000000\n",
       "25%          69.000000\n",
       "50%         105.000000\n",
       "75%         143.000000\n",
       "max       20000.000000\n",
       "Name: power, dtype: float64"
      ]
     },
     "execution_count": 45,
     "metadata": {},
     "output_type": "execute_result"
    }
   ],
   "source": [
    "df.power.describe()"
   ]
  },
  {
   "cell_type": "markdown",
   "metadata": {},
   "source": [
    "Мы видим, что в этом столбце есть аномальные значений, исследуем данные"
   ]
  },
  {
   "cell_type": "markdown",
   "metadata": {},
   "source": [
    "*По информации с профильных ресурсов, автомобили 1930-х имели приблизительно от 40 л.с. (ГАЗ-4) до 115 л.с. (Bentley 3.5 Litre)*\n",
    "\n",
    "*Самые мощные современные автомобили имеют 1750-2000 л.с. (и вряд ли такие продаются на обычных сайтах)*\n",
    "\n",
    "*Средний современный автомобиль 100-250 л.с.*"
   ]
  },
  {
   "cell_type": "markdown",
   "metadata": {},
   "source": [
    "Построим диаграмму \"ящик с усами\""
   ]
  },
  {
   "cell_type": "code",
   "execution_count": 46,
   "metadata": {},
   "outputs": [
    {
     "data": {
      "image/png": "[encoded data removed]",
      "text/plain": [
       "<Figure size 720x360 with 1 Axes>"
      ]
     },
     "metadata": {},
     "output_type": "display_data"
    }
   ],
   "source": [
    "display_boxplot(df.power, 'Мощность двигателя, л.с.')"
   ]
  },
  {
   "cell_type": "markdown",
   "metadata": {},
   "source": [
    "Так много выбросов, что кроме них практически ничего не видно\n",
    "\n",
    "Сначала избавимся от слишком больших величин\n",
    "\n",
    "Значения выше 10000 могут быть опечаткой, попробуем разделить их на 100"
   ]
  },
  {
   "cell_type": "code",
   "execution_count": 47,
   "metadata": {},
   "outputs": [],
   "source": [
    "df.loc[(df.power >= 10000), 'power'] = df.power / 100"
   ]
  },
  {
   "cell_type": "code",
   "execution_count": 48,
   "metadata": {},
   "outputs": [
    {
     "data": {
      "image/png": "[encoded data removed]",
      "text/plain": [
       "<Figure size 720x360 with 1 Axes>"
      ]
     },
     "metadata": {},
     "output_type": "display_data"
    }
   ],
   "source": [
    "display_boxplot(df.power, 'Мощность двигателя, л.с.')"
   ]
  },
  {
   "cell_type": "markdown",
   "metadata": {},
   "source": [
    "Приличная диаграмма постепенно вырисовывается\n",
    "\n",
    "Посмотрим описательные статистики"
   ]
  },
  {
   "cell_type": "code",
   "execution_count": 49,
   "metadata": {},
   "outputs": [
    {
     "data": {
      "text/plain": [
       "count    344832.000000\n",
       "mean        109.190702\n",
       "std         106.142539\n",
       "min           0.000000\n",
       "25%          69.000000\n",
       "50%         105.000000\n",
       "75%         143.000000\n",
       "max        9710.000000\n",
       "Name: power, dtype: float64"
      ]
     },
     "execution_count": 49,
     "metadata": {},
     "output_type": "execute_result"
    }
   ],
   "source": [
    "df.power.describe()"
   ]
  },
  {
   "cell_type": "markdown",
   "metadata": {},
   "source": [
    "Медиана 105, заменим данные выше 2000 этим значением"
   ]
  },
  {
   "cell_type": "code",
   "execution_count": 50,
   "metadata": {},
   "outputs": [],
   "source": [
    "df.loc[(df.power >= 2000), 'power'] = df.power.median()"
   ]
  },
  {
   "cell_type": "code",
   "execution_count": 51,
   "metadata": {},
   "outputs": [
    {
     "data": {
      "image/png": "[encoded data removed]",
      "text/plain": [
       "<Figure size 720x360 with 1 Axes>"
      ]
     },
     "metadata": {},
     "output_type": "display_data"
    }
   ],
   "source": [
    "display_boxplot(df.power, 'Мощность двигателя, л.с.')"
   ]
  },
  {
   "cell_type": "markdown",
   "metadata": {},
   "source": [
    "Значения от 250 также заменим медианой"
   ]
  },
  {
   "cell_type": "code",
   "execution_count": 52,
   "metadata": {},
   "outputs": [],
   "source": [
    "df.loc[(df.power >= 250), 'power'] = df.power.median()"
   ]
  },
  {
   "cell_type": "code",
   "execution_count": 53,
   "metadata": {},
   "outputs": [
    {
     "data": {
      "image/png": "[encoded data removed]",
      "text/plain": [
       "<Figure size 720x360 with 1 Axes>"
      ]
     },
     "metadata": {},
     "output_type": "display_data"
    }
   ],
   "source": [
    "display_boxplot(df.power, 'Мощность двигателя, л.с.')"
   ]
  },
  {
   "cell_type": "markdown",
   "metadata": {},
   "source": [
    "Как мы помним, автомобили выше 40 л.с. уже были в 1930-е годы. Также заменим медианой"
   ]
  },
  {
   "cell_type": "code",
   "execution_count": 54,
   "metadata": {},
   "outputs": [],
   "source": [
    "df.loc[(df.power < 40), 'power'] = df.power.median()"
   ]
  },
  {
   "cell_type": "code",
   "execution_count": 55,
   "metadata": {},
   "outputs": [
    {
     "data": {
      "image/png": "[encoded data removed]",
      "text/plain": [
       "<Figure size 720x360 with 1 Axes>"
      ]
     },
     "metadata": {},
     "output_type": "display_data"
    }
   ],
   "source": [
    "display_boxplot(df.power, 'Мощность двигателя, л.с.')"
   ]
  },
  {
   "cell_type": "code",
   "execution_count": 56,
   "metadata": {},
   "outputs": [
    {
     "data": {
      "text/plain": [
       "count    344832.000000\n",
       "mean        114.644734\n",
       "std          41.924730\n",
       "min          40.000000\n",
       "25%          86.000000\n",
       "50%         105.000000\n",
       "75%         140.000000\n",
       "max         249.000000\n",
       "Name: power, dtype: float64"
      ]
     },
     "execution_count": 56,
     "metadata": {},
     "output_type": "execute_result"
    }
   ],
   "source": [
    "df.power.describe()"
   ]
  },
  {
   "cell_type": "markdown",
   "metadata": {},
   "source": [
    "Посмотрим уникальные значения после обработки"
   ]
  },
  {
   "cell_type": "code",
   "execution_count": 57,
   "metadata": {},
   "outputs": [
    {
     "data": {
      "text/plain": [
       "105.00    56578\n",
       "75.00     23506\n",
       "60.00     15533\n",
       "150.00    14418\n",
       "101.00    13117\n",
       "          ...  \n",
       "116.35        1\n",
       "110.25        1\n",
       "179.32        1\n",
       "111.11        1\n",
       "193.12        1\n",
       "Name: power, Length: 246, dtype: int64"
      ]
     },
     "execution_count": 57,
     "metadata": {},
     "output_type": "execute_result"
    }
   ],
   "source": [
    "df.power.value_counts()"
   ]
  },
  {
   "cell_type": "markdown",
   "metadata": {},
   "source": [
    "Очень много значений и встречаются какие-то дробные\n",
    "\n",
    "Построим гистограмму"
   ]
  },
  {
   "cell_type": "code",
   "execution_count": 58,
   "metadata": {},
   "outputs": [
    {
     "data": {
      "image/png": "[encoded data removed]",
      "text/plain": [
       "<Figure size 720x360 with 1 Axes>"
      ]
     },
     "metadata": {},
     "output_type": "display_data"
    }
   ],
   "source": [
    "display_histplot(df.power, 10, 'Распределение мощности двигателей')"
   ]
  },
  {
   "cell_type": "markdown",
   "metadata": {},
   "source": [
    "Попробуем разделить данные на категории"
   ]
  },
  {
   "cell_type": "code",
   "execution_count": 59,
   "metadata": {},
   "outputs": [
    {
     "data": {
      "text/html": [
       "<div>\n",
       "<style scoped>\n",
       "    .dataframe tbody tr th:only-of-type {\n",
       "        vertical-align: middle;\n",
       "    }\n",
       "\n",
       "    .dataframe tbody tr th {\n",
       "        vertical-align: top;\n",
       "    }\n",
       "\n",
       "    .dataframe thead th {\n",
       "        text-align: right;\n",
       "    }\n",
       "</style>\n",
       "<table border=\"1\" class=\"dataframe\">\n",
       "  <thead>\n",
       "    <tr style=\"text-align: right;\">\n",
       "      <th></th>\n",
       "      <th>year</th>\n",
       "      <th>brand</th>\n",
       "      <th>model</th>\n",
       "      <th>vehicle_type</th>\n",
       "      <th>gearbox</th>\n",
       "      <th>fuel_type</th>\n",
       "      <th>power</th>\n",
       "      <th>kilometer</th>\n",
       "      <th>not_repaired</th>\n",
       "      <th>price</th>\n",
       "    </tr>\n",
       "  </thead>\n",
       "  <tbody>\n",
       "    <tr>\n",
       "      <th>0</th>\n",
       "      <td>1993</td>\n",
       "      <td>volkswagen</td>\n",
       "      <td>golf</td>\n",
       "      <td>unknown</td>\n",
       "      <td>manual</td>\n",
       "      <td>petrol</td>\n",
       "      <td>(99, 109]</td>\n",
       "      <td>150000</td>\n",
       "      <td>True</td>\n",
       "      <td>480</td>\n",
       "    </tr>\n",
       "    <tr>\n",
       "      <th>1</th>\n",
       "      <td>2011</td>\n",
       "      <td>audi</td>\n",
       "      <td>other</td>\n",
       "      <td>coupe</td>\n",
       "      <td>manual</td>\n",
       "      <td>gasoline</td>\n",
       "      <td>(189, 199]</td>\n",
       "      <td>125000</td>\n",
       "      <td>True</td>\n",
       "      <td>18300</td>\n",
       "    </tr>\n",
       "    <tr>\n",
       "      <th>2</th>\n",
       "      <td>2004</td>\n",
       "      <td>jeep</td>\n",
       "      <td>other</td>\n",
       "      <td>suv</td>\n",
       "      <td>auto</td>\n",
       "      <td>gasoline</td>\n",
       "      <td>(159, 169]</td>\n",
       "      <td>125000</td>\n",
       "      <td>True</td>\n",
       "      <td>9800</td>\n",
       "    </tr>\n",
       "    <tr>\n",
       "      <th>3</th>\n",
       "      <td>2001</td>\n",
       "      <td>volkswagen</td>\n",
       "      <td>golf</td>\n",
       "      <td>small</td>\n",
       "      <td>manual</td>\n",
       "      <td>petrol</td>\n",
       "      <td>(69, 79]</td>\n",
       "      <td>150000</td>\n",
       "      <td>False</td>\n",
       "      <td>1500</td>\n",
       "    </tr>\n",
       "    <tr>\n",
       "      <th>4</th>\n",
       "      <td>2008</td>\n",
       "      <td>skoda</td>\n",
       "      <td>fabia</td>\n",
       "      <td>small</td>\n",
       "      <td>manual</td>\n",
       "      <td>gasoline</td>\n",
       "      <td>(59, 69]</td>\n",
       "      <td>90000</td>\n",
       "      <td>False</td>\n",
       "      <td>3600</td>\n",
       "    </tr>\n",
       "  </tbody>\n",
       "</table>\n",
       "</div>"
      ],
      "text/plain": [
       "   year       brand  model vehicle_type gearbox fuel_type       power  \\\n",
       "0  1993  volkswagen   golf      unknown  manual    petrol   (99, 109]   \n",
       "1  2011        audi  other        coupe  manual  gasoline  (189, 199]   \n",
       "2  2004        jeep  other          suv    auto  gasoline  (159, 169]   \n",
       "3  2001  volkswagen   golf        small  manual    petrol    (69, 79]   \n",
       "4  2008       skoda  fabia        small  manual  gasoline    (59, 69]   \n",
       "\n",
       "   kilometer  not_repaired  price  \n",
       "0     150000          True    480  \n",
       "1     125000          True  18300  \n",
       "2     125000          True   9800  \n",
       "3     150000         False   1500  \n",
       "4      90000         False   3600  "
      ]
     },
     "execution_count": 59,
     "metadata": {},
     "output_type": "execute_result"
    }
   ],
   "source": [
    "interval_range = pd.interval_range(start=39,\n",
    "                                   freq=10,\n",
    "                                   end=260)\n",
    "\n",
    "df.power = pd.cut(df.power, bins=interval_range).astype(str)\n",
    "\n",
    "df.head()"
   ]
  },
  {
   "cell_type": "code",
   "execution_count": 60,
   "metadata": {},
   "outputs": [
    {
     "data": {
      "text/plain": [
       "(99, 109]     85221\n",
       "(69, 79]      28940\n",
       "(59, 69]      27574\n",
       "(109, 119]    23676\n",
       "(139, 149]    21910\n",
       "(119, 129]    18736\n",
       "(89, 99]      18593\n",
       "(169, 179]    17603\n",
       "(49, 59]      16915\n",
       "(149, 159]    16797\n",
       "(129, 139]    14942\n",
       "(79, 89]      13215\n",
       "(159, 169]     9901\n",
       "(189, 199]     6997\n",
       "(229, 239]     4507\n",
       "(199, 209]     4493\n",
       "(39, 49]       4283\n",
       "(209, 219]     3465\n",
       "(179, 189]     3127\n",
       "(219, 229]     3103\n",
       "(239, 249]      834\n",
       "Name: power, dtype: int64"
      ]
     },
     "execution_count": 60,
     "metadata": {},
     "output_type": "execute_result"
    }
   ],
   "source": [
    "df.power.value_counts()"
   ]
  },
  {
   "cell_type": "markdown",
   "metadata": {},
   "source": [
    "Прекрасно - избавились от выбросов и получили категории мощности двигателя"
   ]
  },
  {
   "cell_type": "markdown",
   "metadata": {},
   "source": [
    "#### Столбец kilometer"
   ]
  },
  {
   "cell_type": "code",
   "execution_count": 61,
   "metadata": {},
   "outputs": [
    {
     "data": {
      "text/plain": [
       "10000       1054\n",
       "20000       3764\n",
       "30000       4253\n",
       "40000       4722\n",
       "5000        5527\n",
       "50000       5962\n",
       "60000       7182\n",
       "70000       8267\n",
       "80000       9669\n",
       "90000      11186\n",
       "100000     14145\n",
       "125000     35601\n",
       "150000    233500\n",
       "Name: kilometer, dtype: int64"
      ]
     },
     "execution_count": 61,
     "metadata": {},
     "output_type": "execute_result"
    }
   ],
   "source": [
    "df.kilometer.value_counts().sort_values()"
   ]
  },
  {
   "cell_type": "markdown",
   "metadata": {},
   "source": [
    "Эти значения можно считать категориальными"
   ]
  },
  {
   "cell_type": "markdown",
   "metadata": {},
   "source": [
    "#### Столбец price (целевой признак)"
   ]
  },
  {
   "cell_type": "code",
   "execution_count": 62,
   "metadata": {},
   "outputs": [
    {
     "data": {
      "text/plain": [
       "count    344832.000000\n",
       "mean       4403.281734\n",
       "std        4504.460267\n",
       "min           0.000000\n",
       "25%        1050.000000\n",
       "50%        2700.000000\n",
       "75%        6380.000000\n",
       "max       20000.000000\n",
       "Name: price, dtype: float64"
      ]
     },
     "execution_count": 62,
     "metadata": {},
     "output_type": "execute_result"
    }
   ],
   "source": [
    "df.price.describe()"
   ]
  },
  {
   "cell_type": "code",
   "execution_count": 63,
   "metadata": {},
   "outputs": [
    {
     "data": {
      "image/png": "[encoded data removed]",
      "text/plain": [
       "<Figure size 720x360 with 1 Axes>"
      ]
     },
     "metadata": {},
     "output_type": "display_data"
    }
   ],
   "source": [
    "display_boxplot(df.price, 'Цена')"
   ]
  },
  {
   "cell_type": "code",
   "execution_count": 64,
   "metadata": {},
   "outputs": [
    {
     "data": {
      "image/png": "[encoded data removed]",
      "text/plain": [
       "<Figure size 720x360 with 1 Axes>"
      ]
     },
     "metadata": {},
     "output_type": "display_data"
    }
   ],
   "source": [
    "display_histplot(df.price, 100, 'Цена')"
   ]
  },
  {
   "cell_type": "code",
   "execution_count": 65,
   "metadata": {},
   "outputs": [
    {
     "data": {
      "text/plain": [
       "10109"
      ]
     },
     "execution_count": 65,
     "metadata": {},
     "output_type": "execute_result"
    }
   ],
   "source": [
    "df.query('price==0').shape[0]"
   ]
  },
  {
   "cell_type": "markdown",
   "metadata": {},
   "source": [
    "Нулевые значения мы восстановить не можем, т.к. это может быть например ситуация, когда владелец снял авто с продажи\n",
    "\n",
    "Так как это целевой признак, удалим эти значения, чтобы они не путали модели"
   ]
  },
  {
   "cell_type": "code",
   "execution_count": 66,
   "metadata": {},
   "outputs": [],
   "source": [
    "df.drop(df.loc[df['price']==0].index, inplace=True)"
   ]
  },
  {
   "cell_type": "code",
   "execution_count": 67,
   "metadata": {},
   "outputs": [
    {
     "data": {
      "text/plain": [
       "count    334723.000000\n",
       "mean       4536.265650\n",
       "std        4505.518506\n",
       "min           1.000000\n",
       "25%        1200.000000\n",
       "50%        2850.000000\n",
       "75%        6500.000000\n",
       "max       20000.000000\n",
       "Name: price, dtype: float64"
      ]
     },
     "execution_count": 67,
     "metadata": {},
     "output_type": "execute_result"
    }
   ],
   "source": [
    "df.price.describe()"
   ]
  },
  {
   "cell_type": "markdown",
   "metadata": {},
   "source": [
    "Все равно остались аномально низкие значения\n",
    "\n",
    "Установим границу в 250 евро"
   ]
  },
  {
   "cell_type": "code",
   "execution_count": 68,
   "metadata": {},
   "outputs": [
    {
     "data": {
      "text/plain": [
       "8965"
      ]
     },
     "execution_count": 68,
     "metadata": {},
     "output_type": "execute_result"
    }
   ],
   "source": [
    "df.query('price<250').shape[0]"
   ]
  },
  {
   "cell_type": "code",
   "execution_count": 69,
   "metadata": {},
   "outputs": [],
   "source": [
    "df.drop(df.loc[df['price']<250].index, inplace=True)"
   ]
  },
  {
   "cell_type": "code",
   "execution_count": 70,
   "metadata": {},
   "outputs": [
    {
     "data": {
      "text/plain": [
       "count    325758.000000\n",
       "mean       4657.533844\n",
       "std        4506.566334\n",
       "min         250.000000\n",
       "25%        1290.000000\n",
       "50%        2990.000000\n",
       "75%        6666.000000\n",
       "max       20000.000000\n",
       "Name: price, dtype: float64"
      ]
     },
     "execution_count": 70,
     "metadata": {},
     "output_type": "execute_result"
    }
   ],
   "source": [
    "df.price.describe()"
   ]
  },
  {
   "cell_type": "markdown",
   "metadata": {},
   "source": [
    "### Обработка дубликатов"
   ]
  },
  {
   "cell_type": "code",
   "execution_count": 71,
   "metadata": {},
   "outputs": [
    {
     "data": {
      "text/plain": [
       "48058"
      ]
     },
     "execution_count": 71,
     "metadata": {},
     "output_type": "execute_result"
    }
   ],
   "source": [
    "df.duplicated().sum()"
   ]
  },
  {
   "cell_type": "code",
   "execution_count": 72,
   "metadata": {},
   "outputs": [],
   "source": [
    "df.drop_duplicates(inplace=True)"
   ]
  },
  {
   "cell_type": "markdown",
   "metadata": {},
   "source": [
    "### Корреляция"
   ]
  },
  {
   "cell_type": "code",
   "execution_count": 73,
   "metadata": {},
   "outputs": [
    {
     "data": {
      "text/plain": [
       "<AxesSubplot:>"
      ]
     },
     "execution_count": 73,
     "metadata": {},
     "output_type": "execute_result"
    },
    {
     "data": {
      "image/png": "[encoded data removed]",
      "text/plain": [
       "<Figure size 720x360 with 2 Axes>"
      ]
     },
     "metadata": {},
     "output_type": "display_data"
    }
   ],
   "source": [
    "sns.heatmap(df.corr(), xticklabels=df.corr().columns, yticklabels=df.corr().columns, cmap='RdYlGn', center=0,\n",
    "                    annot=True)"
   ]
  },
  {
   "cell_type": "markdown",
   "metadata": {},
   "source": [
    "Наблюдается довольно высокая корреляция между стоимостью автомобиля и годом регистрации"
   ]
  },
  {
   "cell_type": "markdown",
   "metadata": {},
   "source": [
    "Попробуем другой метод визуализации"
   ]
  },
  {
   "cell_type": "code",
   "execution_count": 84,
   "metadata": {},
   "outputs": [
    {
     "name": "stdout",
     "output_type": "stream",
     "text": [
      "interval columns not set, guessing: ['year', 'kilometer', 'price']\n"
     ]
    },
    {
     "data": {
      "text/plain": [
       "<AxesSubplot:>"
      ]
     },
     "execution_count": 84,
     "metadata": {},
     "output_type": "execute_result"
    },
    {
     "data": {
      "image/png": "[encoded data removed]",
      "text/plain": [
       "<Figure size 720x360 with 2 Axes>"
      ]
     },
     "metadata": {},
     "output_type": "display_data"
    }
   ],
   "source": [
    "sns.heatmap(df.phik_matrix(), xticklabels=df.corr().columns, yticklabels=df.corr().columns, cmap='RdYlGn', center=0,\n",
    "                    annot=True)"
   ]
  },
  {
   "cell_type": "markdown",
   "metadata": {},
   "source": [
    "## Обучение моделей"
   ]
  },
  {
   "cell_type": "markdown",
   "metadata": {},
   "source": [
    "### Подготовка данных"
   ]
  },
  {
   "cell_type": "markdown",
   "metadata": {},
   "source": [
    "Разделим данные на обучающую и тестовую выборки"
   ]
  },
  {
   "cell_type": "code",
   "execution_count": 72,
   "metadata": {},
   "outputs": [],
   "source": [
    "features = df.drop(['price'], axis=1)\n",
    "target = df['price']\n",
    "\n",
    "features_train, features_test, target_train, target_test = train_test_split(\n",
    "    features, target, test_size=0.3, random_state=17)"
   ]
  },
  {
   "cell_type": "markdown",
   "metadata": {},
   "source": [
    "Модели CatBoost и LightGBM поддерживают работу с категориальными данными, поэтому скопируем features для работы с линейной регрессией"
   ]
  },
  {
   "cell_type": "code",
   "execution_count": 73,
   "metadata": {},
   "outputs": [],
   "source": [
    "features_train_lr = features_train.copy()\n",
    "features_test_lr = features_test.copy()"
   ]
  },
  {
   "cell_type": "markdown",
   "metadata": {},
   "source": [
    "Приведем признаки к формату category"
   ]
  },
  {
   "cell_type": "code",
   "execution_count": 74,
   "metadata": {},
   "outputs": [],
   "source": [
    "categorical = ['brand', 'model', 'vehicle_type', 'gearbox', 'fuel_type', 'power', 'kilometer']"
   ]
  },
  {
   "cell_type": "code",
   "execution_count": 75,
   "metadata": {},
   "outputs": [],
   "source": [
    "features_train[categorical] = features_train[categorical].astype('category')\n",
    "features_test[categorical] = features_test[categorical].astype('category')"
   ]
  },
  {
   "cell_type": "markdown",
   "metadata": {},
   "source": [
    "### Функции для работы с моделями"
   ]
  },
  {
   "cell_type": "markdown",
   "metadata": {},
   "source": [
    "Опишем функции, производящие обучение, предсказания и расчет времени и метрик"
   ]
  },
  {
   "cell_type": "code",
   "execution_count": 76,
   "metadata": {},
   "outputs": [],
   "source": [
    "def fit_model(model, features, target):\n",
    "    start = time.time()\n",
    "    \n",
    "    try:\n",
    "        model.fit(features, target, verbose=False)\n",
    "    except:\n",
    "        model.fit(features, target)\n",
    "        \n",
    "    end = time.time()\n",
    "    \n",
    "    return {'model':model, 'fit_time':(end-start)}"
   ]
  },
  {
   "cell_type": "code",
   "execution_count": 77,
   "metadata": {},
   "outputs": [],
   "source": [
    "def predict_values(model, features):\n",
    "    start = time.time()\n",
    "    \n",
    "    predictions = model.predict(features)\n",
    "    end = time.time()\n",
    "    \n",
    "    return {'predictions':predictions, 'prediction_time':(end-start)}"
   ]
  },
  {
   "cell_type": "code",
   "execution_count": 78,
   "metadata": {},
   "outputs": [],
   "source": [
    "def display_metrics(fit_time, prediction_time, rmse):\n",
    "    print('Время обучения модели:', fit_time)\n",
    "    print('Время предсказания:', prediction_time)\n",
    "    print('RMSE =', rmse)"
   ]
  },
  {
   "cell_type": "markdown",
   "metadata": {},
   "source": [
    "### CatBoost"
   ]
  },
  {
   "cell_type": "code",
   "execution_count": 79,
   "metadata": {},
   "outputs": [],
   "source": [
    "model = CatBoostRegressor(cat_features=categorical)"
   ]
  },
  {
   "cell_type": "code",
   "execution_count": 80,
   "metadata": {
    "scrolled": true
   },
   "outputs": [],
   "source": [
    "fit = fit_model(model, features_train, target_train)"
   ]
  },
  {
   "cell_type": "code",
   "execution_count": 81,
   "metadata": {},
   "outputs": [],
   "source": [
    "predict = predict_values(model, features_test)"
   ]
  },
  {
   "cell_type": "code",
   "execution_count": 82,
   "metadata": {},
   "outputs": [],
   "source": [
    "rmse = mean_squared_error(target_test, predict.get('predictions'), squared=False)"
   ]
  },
  {
   "cell_type": "code",
   "execution_count": 83,
   "metadata": {},
   "outputs": [
    {
     "name": "stdout",
     "output_type": "stream",
     "text": [
      "Время обучения модели: 211.00607228279114\n",
      "Время предсказания: 0.5098991394042969\n",
      "RMSE = 1725.079289083904\n"
     ]
    }
   ],
   "source": [
    "display_metrics(fit.get('fit_time'), predict.get('prediction_time'), rmse)"
   ]
  },
  {
   "cell_type": "markdown",
   "metadata": {},
   "source": [
    "### LightGBM"
   ]
  },
  {
   "cell_type": "code",
   "execution_count": 84,
   "metadata": {},
   "outputs": [],
   "source": [
    "model = lgb.LGBMRegressor(cat_feature=categorical)"
   ]
  },
  {
   "cell_type": "code",
   "execution_count": 85,
   "metadata": {},
   "outputs": [],
   "source": [
    "fit = fit_model(model, features_train, target_train)"
   ]
  },
  {
   "cell_type": "code",
   "execution_count": 86,
   "metadata": {},
   "outputs": [],
   "source": [
    "predict = predict_values(model, features_test)"
   ]
  },
  {
   "cell_type": "code",
   "execution_count": 87,
   "metadata": {},
   "outputs": [],
   "source": [
    "rmse = mean_squared_error(target_test, predict.get('predictions'), squared=False)"
   ]
  },
  {
   "cell_type": "code",
   "execution_count": 88,
   "metadata": {
    "tags": []
   },
   "outputs": [
    {
     "name": "stdout",
     "output_type": "stream",
     "text": [
      "Время обучения модели: 4.705664396286011\n",
      "Время предсказания: 0.9822878837585449\n",
      "RMSE = 1759.41360924848\n"
     ]
    }
   ],
   "source": [
    "display_metrics(fit.get('fit_time'), predict.get('prediction_time'), rmse)"
   ]
  },
  {
   "cell_type": "markdown",
   "metadata": {},
   "source": [
    "### LinearRegression"
   ]
  },
  {
   "cell_type": "markdown",
   "metadata": {},
   "source": [
    "Для линейной регрессии нам понадобится обработка исходных (не категоризированных) данных"
   ]
  },
  {
   "cell_type": "code",
   "execution_count": 89,
   "metadata": {},
   "outputs": [],
   "source": [
    "features_train_lr = pd.get_dummies(features_train_lr)\n",
    "\n",
    "features_test_lr = pd.get_dummies(features_test_lr)"
   ]
  },
  {
   "cell_type": "code",
   "execution_count": 90,
   "metadata": {},
   "outputs": [],
   "source": [
    "scaler = StandardScaler()\n",
    "\n",
    "scaler.fit(features_train_lr)\n",
    "\n",
    "features_train_lr = scaler.transform(features_train_lr)\n",
    "features_test_lr = scaler.transform(features_test_lr)"
   ]
  },
  {
   "cell_type": "code",
   "execution_count": 91,
   "metadata": {},
   "outputs": [],
   "source": [
    "model = LinearRegression()"
   ]
  },
  {
   "cell_type": "code",
   "execution_count": 92,
   "metadata": {
    "scrolled": true
   },
   "outputs": [],
   "source": [
    "fit = fit_model(model, features_train_lr, target_train)"
   ]
  },
  {
   "cell_type": "code",
   "execution_count": 93,
   "metadata": {},
   "outputs": [],
   "source": [
    "predict = predict_values(model, features_test_lr)"
   ]
  },
  {
   "cell_type": "code",
   "execution_count": 94,
   "metadata": {},
   "outputs": [],
   "source": [
    "rmse = mean_squared_error(target_test, predict.get('predictions'), squared=False)"
   ]
  },
  {
   "cell_type": "code",
   "execution_count": 95,
   "metadata": {},
   "outputs": [
    {
     "name": "stdout",
     "output_type": "stream",
     "text": [
      "Время обучения модели: 7.972502946853638\n",
      "Время предсказания: 0.10559892654418945\n",
      "RMSE = 2648.850764362111\n"
     ]
    }
   ],
   "source": [
    "display_metrics(fit.get('fit_time'), predict.get('prediction_time'), rmse)"
   ]
  },
  {
   "cell_type": "markdown",
   "metadata": {},
   "source": [
    "Получили следующие данные:\n",
    "\n",
    "CatBoost\n",
    "* Время обучения модели: 215.59553503990173\n",
    "* Время предсказания: 0.7028753757476807\n",
    "* RMSE = 1725.079289083904\n",
    "\n",
    "LightGBM\n",
    "* Время обучения модели: 162.39148950576782\n",
    "* Время предсказания: 0.9207465648651123\n",
    "* RMSE = 1759.41360924848\n",
    "\n",
    "LinearRegression\n",
    "* Время обучения модели: 9.764194011688232\n",
    "* Время предсказания: 0.07627344131469727\n",
    "* RMSE = 2648.850764362111\n",
    "\n",
    "У CatBoost и LightGBM долгая скорость обучения, но хороший RMSE (CatBoost - скорость чуть ниже, но RMSE чуть лучше, LightGBM наоборот)\n",
    "\n",
    "Линейная регрессия обучается быстро, но RMSE оставляет желать лучшего"
   ]
  },
  {
   "cell_type": "markdown",
   "metadata": {},
   "source": [
    "## Анализ моделей"
   ]
  },
  {
   "cell_type": "markdown",
   "metadata": {},
   "source": [
    "Попробуем ускорить CatBoost и LightGBM"
   ]
  },
  {
   "cell_type": "markdown",
   "metadata": {},
   "source": [
    "### CatBoost"
   ]
  },
  {
   "cell_type": "code",
   "execution_count": 96,
   "metadata": {},
   "outputs": [],
   "source": [
    "model = CatBoostRegressor(cat_features=categorical, \n",
    "                          iterations=150, \n",
    "                          max_depth=10,\n",
    "                          random_seed=1)"
   ]
  },
  {
   "cell_type": "code",
   "execution_count": 97,
   "metadata": {
    "scrolled": true
   },
   "outputs": [],
   "source": [
    "fit = fit_model(model, features_train, target_train)"
   ]
  },
  {
   "cell_type": "code",
   "execution_count": 98,
   "metadata": {},
   "outputs": [],
   "source": [
    "predict = predict_values(model, features_test)"
   ]
  },
  {
   "cell_type": "code",
   "execution_count": 99,
   "metadata": {},
   "outputs": [],
   "source": [
    "rmse = mean_squared_error(target_test, predict.get('predictions'), squared=False)"
   ]
  },
  {
   "cell_type": "code",
   "execution_count": 100,
   "metadata": {},
   "outputs": [
    {
     "name": "stdout",
     "output_type": "stream",
     "text": [
      "Время обучения модели: 18.629794597625732\n",
      "Время предсказания: 0.12775063514709473\n",
      "RMSE = 1751.5377927257268\n"
     ]
    }
   ],
   "source": [
    "display_metrics(fit.get('fit_time'), predict.get('prediction_time'), rmse)"
   ]
  },
  {
   "cell_type": "markdown",
   "metadata": {},
   "source": [
    "### LightGBM"
   ]
  },
  {
   "cell_type": "code",
   "execution_count": 101,
   "metadata": {},
   "outputs": [],
   "source": [
    "model = lgb.LGBMRegressor(cat_feature=categorical,\n",
    "                         n_estimators=50,\n",
    "                         max_depth=10)"
   ]
  },
  {
   "cell_type": "code",
   "execution_count": 102,
   "metadata": {},
   "outputs": [],
   "source": [
    "fit = fit_model(model, features_train, target_train)"
   ]
  },
  {
   "cell_type": "code",
   "execution_count": 103,
   "metadata": {},
   "outputs": [],
   "source": [
    "predict = predict_values(model, features_test)"
   ]
  },
  {
   "cell_type": "code",
   "execution_count": 104,
   "metadata": {},
   "outputs": [],
   "source": [
    "rmse = mean_squared_error(target_test, predict.get('predictions'), squared=False)"
   ]
  },
  {
   "cell_type": "code",
   "execution_count": 105,
   "metadata": {
    "tags": []
   },
   "outputs": [
    {
     "name": "stdout",
     "output_type": "stream",
     "text": [
      "Время обучения модели: 3.971212387084961\n",
      "Время предсказания: 0.49655938148498535\n",
      "RMSE = 1824.9206531962855\n"
     ]
    }
   ],
   "source": [
    "display_metrics(fit.get('fit_time'), predict.get('prediction_time'), rmse)"
   ]
  },
  {
   "cell_type": "markdown",
   "metadata": {},
   "source": [
    "Подбором гиперпараметров удалось добиться значительного уменьшения скорости обучения моделей, при этом незначительно потеряв в качестве (RMSE CatBoost 1725 -> 1751, LightGBM 1759 -> 1824)"
   ]
  }
 ],
 "metadata": {
  "ExecuteTimeLog": [
   {
    "duration": 1472,
    "start_time": "2022-05-19T20:46:54.426Z"
   },
   {
    "duration": 1023,
    "start_time": "2022-05-19T20:46:56.628Z"
   },
   {
    "duration": 125,
    "start_time": "2022-05-19T20:46:58.226Z"
   },
   {
    "duration": 58,
    "start_time": "2022-05-19T20:47:02.497Z"
   },
   {
    "duration": 7,
    "start_time": "2022-05-19T20:47:03.778Z"
   },
   {
    "duration": 28,
    "start_time": "2022-05-19T20:47:07.171Z"
   },
   {
    "duration": 3,
    "start_time": "2022-05-19T20:47:08.213Z"
   },
   {
    "duration": 14,
    "start_time": "2022-05-19T20:47:09.064Z"
   },
   {
    "duration": 75,
    "start_time": "2022-05-19T20:47:18.818Z"
   },
   {
    "duration": 69,
    "start_time": "2022-05-19T20:47:38.092Z"
   },
   {
    "duration": 32,
    "start_time": "2022-05-19T20:47:45.686Z"
   },
   {
    "duration": 135,
    "start_time": "2022-05-19T20:48:06.784Z"
   },
   {
    "duration": 11,
    "start_time": "2022-05-19T20:48:33.219Z"
   },
   {
    "duration": 11,
    "start_time": "2022-05-19T20:49:32.843Z"
   },
   {
    "duration": 122,
    "start_time": "2022-05-19T20:49:40.144Z"
   },
   {
    "duration": 48,
    "start_time": "2022-05-19T20:50:08.982Z"
   },
   {
    "duration": 288,
    "start_time": "2022-05-19T20:50:57.552Z"
   },
   {
    "duration": 39,
    "start_time": "2022-05-19T20:51:28.722Z"
   },
   {
    "duration": 39,
    "start_time": "2022-05-19T20:56:58.667Z"
   },
   {
    "duration": 309,
    "start_time": "2022-05-19T20:57:06.096Z"
   },
   {
    "duration": 62,
    "start_time": "2022-05-19T20:57:37.456Z"
   },
   {
    "duration": 65,
    "start_time": "2022-05-19T20:58:50.951Z"
   },
   {
    "duration": 84,
    "start_time": "2022-05-19T20:59:02.557Z"
   },
   {
    "duration": 68,
    "start_time": "2022-05-19T20:59:09.856Z"
   },
   {
    "duration": 63,
    "start_time": "2022-05-19T20:59:16.680Z"
   },
   {
    "duration": 62,
    "start_time": "2022-05-19T20:59:21.768Z"
   },
   {
    "duration": 70,
    "start_time": "2022-05-19T20:59:29.326Z"
   },
   {
    "duration": 31,
    "start_time": "2022-05-19T20:59:37.257Z"
   },
   {
    "duration": 26,
    "start_time": "2022-05-19T20:59:39.117Z"
   },
   {
    "duration": 3144,
    "start_time": "2022-05-19T20:59:48.756Z"
   },
   {
    "duration": 29,
    "start_time": "2022-05-19T21:00:04.283Z"
   },
   {
    "duration": 34,
    "start_time": "2022-05-19T21:01:05.574Z"
   },
   {
    "duration": 53,
    "start_time": "2022-05-19T21:01:44.676Z"
   },
   {
    "duration": 33,
    "start_time": "2022-05-19T21:02:00.042Z"
   },
   {
    "duration": 4,
    "start_time": "2022-05-19T21:02:28.379Z"
   },
   {
    "duration": 872,
    "start_time": "2022-05-19T21:02:28.385Z"
   },
   {
    "duration": 136,
    "start_time": "2022-05-19T21:02:29.259Z"
   },
   {
    "duration": 55,
    "start_time": "2022-05-19T21:02:29.396Z"
   },
   {
    "duration": 5,
    "start_time": "2022-05-19T21:02:29.454Z"
   },
   {
    "duration": 33,
    "start_time": "2022-05-19T21:02:29.461Z"
   },
   {
    "duration": 10,
    "start_time": "2022-05-19T21:02:29.496Z"
   },
   {
    "duration": 22,
    "start_time": "2022-05-19T21:02:29.507Z"
   },
   {
    "duration": 93,
    "start_time": "2022-05-19T21:02:29.531Z"
   },
   {
    "duration": 69,
    "start_time": "2022-05-19T21:02:29.626Z"
   },
   {
    "duration": 43,
    "start_time": "2022-05-19T21:02:29.696Z"
   },
   {
    "duration": 139,
    "start_time": "2022-05-19T21:02:29.741Z"
   },
   {
    "duration": 8,
    "start_time": "2022-05-19T21:02:29.881Z"
   },
   {
    "duration": 8,
    "start_time": "2022-05-19T21:02:29.892Z"
   },
   {
    "duration": 60,
    "start_time": "2022-05-19T21:02:29.901Z"
   },
   {
    "duration": 300,
    "start_time": "2022-05-19T21:02:29.964Z"
   },
   {
    "duration": 45,
    "start_time": "2022-05-19T21:02:30.266Z"
   },
   {
    "duration": 33,
    "start_time": "2022-05-19T21:02:30.323Z"
   },
   {
    "duration": 295,
    "start_time": "2022-05-19T21:02:30.358Z"
   },
   {
    "duration": 69,
    "start_time": "2022-05-19T21:02:30.654Z"
   },
   {
    "duration": 86,
    "start_time": "2022-05-19T21:02:33.933Z"
   },
   {
    "duration": 70,
    "start_time": "2022-05-19T21:02:39.147Z"
   },
   {
    "duration": 114,
    "start_time": "2022-05-19T21:03:52.669Z"
   },
   {
    "duration": 77,
    "start_time": "2022-05-19T21:03:53.647Z"
   },
   {
    "duration": 69,
    "start_time": "2022-05-19T21:03:58.644Z"
   },
   {
    "duration": 30,
    "start_time": "2022-05-19T21:04:08.873Z"
   },
   {
    "duration": 39,
    "start_time": "2022-05-19T21:04:12.682Z"
   },
   {
    "duration": 71,
    "start_time": "2022-05-19T21:05:14.456Z"
   },
   {
    "duration": 77,
    "start_time": "2022-05-19T21:05:15.805Z"
   },
   {
    "duration": 86,
    "start_time": "2022-05-19T21:05:25.594Z"
   },
   {
    "duration": 70,
    "start_time": "2022-05-19T21:05:26.640Z"
   },
   {
    "duration": 2231,
    "start_time": "2022-05-19T21:05:32.933Z"
   },
   {
    "duration": 29,
    "start_time": "2022-05-19T21:05:35.166Z"
   },
   {
    "duration": 57,
    "start_time": "2022-05-19T21:06:00.519Z"
   },
   {
    "duration": 10,
    "start_time": "2022-05-19T21:06:31.256Z"
   },
   {
    "duration": 38,
    "start_time": "2022-05-19T21:06:45.940Z"
   },
   {
    "duration": 126,
    "start_time": "2022-05-19T21:07:30.251Z"
   },
   {
    "duration": 17,
    "start_time": "2022-05-19T21:07:49.195Z"
   },
   {
    "duration": 13,
    "start_time": "2022-05-19T21:08:11.405Z"
   },
   {
    "duration": 18,
    "start_time": "2022-05-19T21:08:32.549Z"
   },
   {
    "duration": 18,
    "start_time": "2022-05-19T21:10:20.542Z"
   },
   {
    "duration": 15,
    "start_time": "2022-05-19T21:10:46.432Z"
   },
   {
    "duration": 317,
    "start_time": "2022-05-19T21:16:42.869Z"
   },
   {
    "duration": 4,
    "start_time": "2022-05-19T21:17:21.999Z"
   },
   {
    "duration": 116,
    "start_time": "2022-05-19T21:17:27.051Z"
   },
   {
    "duration": 183,
    "start_time": "2022-05-19T21:18:20.295Z"
   },
   {
    "duration": 192,
    "start_time": "2022-05-19T21:18:40.484Z"
   },
   {
    "duration": 197,
    "start_time": "2022-05-19T21:18:51.618Z"
   },
   {
    "duration": 189,
    "start_time": "2022-05-19T21:19:05.453Z"
   },
   {
    "duration": 216,
    "start_time": "2022-05-19T21:19:09.689Z"
   },
   {
    "duration": 215,
    "start_time": "2022-05-19T21:22:46.551Z"
   },
   {
    "duration": 280,
    "start_time": "2022-05-19T21:22:57.719Z"
   },
   {
    "duration": 5,
    "start_time": "2022-05-19T21:24:50.566Z"
   },
   {
    "duration": 293,
    "start_time": "2022-05-19T21:25:08.614Z"
   },
   {
    "duration": 5,
    "start_time": "2022-05-19T21:26:26.545Z"
   },
   {
    "duration": 306,
    "start_time": "2022-05-19T21:26:27.307Z"
   },
   {
    "duration": 225,
    "start_time": "2022-05-19T21:29:16.001Z"
   },
   {
    "duration": 251,
    "start_time": "2022-05-19T21:29:27.771Z"
   },
   {
    "duration": 835,
    "start_time": "2022-05-19T21:29:39.446Z"
   },
   {
    "duration": 16163,
    "start_time": "2022-05-19T21:30:37.893Z"
   },
   {
    "duration": 41,
    "start_time": "2022-05-19T21:32:27.685Z"
   },
   {
    "duration": 198,
    "start_time": "2022-05-19T21:32:34.472Z"
   },
   {
    "duration": 3,
    "start_time": "2022-05-19T21:33:20.413Z"
   },
   {
    "duration": 854,
    "start_time": "2022-05-19T21:33:20.419Z"
   },
   {
    "duration": 148,
    "start_time": "2022-05-19T21:33:21.275Z"
   },
   {
    "duration": 47,
    "start_time": "2022-05-19T21:33:21.425Z"
   },
   {
    "duration": 6,
    "start_time": "2022-05-19T21:33:21.475Z"
   },
   {
    "duration": 52,
    "start_time": "2022-05-19T21:33:21.483Z"
   },
   {
    "duration": 5,
    "start_time": "2022-05-19T21:33:21.537Z"
   },
   {
    "duration": 16,
    "start_time": "2022-05-19T21:33:21.543Z"
   },
   {
    "duration": 97,
    "start_time": "2022-05-19T21:33:21.561Z"
   },
   {
    "duration": 97,
    "start_time": "2022-05-19T21:33:21.661Z"
   },
   {
    "duration": 31,
    "start_time": "2022-05-19T21:33:21.760Z"
   },
   {
    "duration": 137,
    "start_time": "2022-05-19T21:33:21.792Z"
   },
   {
    "duration": 8,
    "start_time": "2022-05-19T21:33:21.931Z"
   },
   {
    "duration": 11,
    "start_time": "2022-05-19T21:33:21.946Z"
   },
   {
    "duration": 83,
    "start_time": "2022-05-19T21:33:21.959Z"
   },
   {
    "duration": 347,
    "start_time": "2022-05-19T21:33:22.044Z"
   },
   {
    "duration": 76,
    "start_time": "2022-05-19T21:33:22.394Z"
   },
   {
    "duration": 58,
    "start_time": "2022-05-19T21:33:22.471Z"
   },
   {
    "duration": 434,
    "start_time": "2022-05-19T21:33:22.531Z"
   },
   {
    "duration": 84,
    "start_time": "2022-05-19T21:33:22.968Z"
   },
   {
    "duration": 79,
    "start_time": "2022-05-19T21:33:23.054Z"
   },
   {
    "duration": 93,
    "start_time": "2022-05-19T21:33:23.135Z"
   },
   {
    "duration": 2327,
    "start_time": "2022-05-19T21:33:23.229Z"
   },
   {
    "duration": 30,
    "start_time": "2022-05-19T21:33:25.558Z"
   },
   {
    "duration": 50,
    "start_time": "2022-05-19T21:33:25.590Z"
   },
   {
    "duration": 54,
    "start_time": "2022-05-19T21:33:25.642Z"
   },
   {
    "duration": 53,
    "start_time": "2022-05-19T21:33:25.698Z"
   },
   {
    "duration": 15,
    "start_time": "2022-05-19T21:33:25.753Z"
   },
   {
    "duration": 11,
    "start_time": "2022-05-19T21:33:25.769Z"
   },
   {
    "duration": 4,
    "start_time": "2022-05-19T21:33:25.781Z"
   },
   {
    "duration": 226,
    "start_time": "2022-05-19T21:33:25.787Z"
   },
   {
    "duration": 23,
    "start_time": "2022-05-19T21:33:29.691Z"
   },
   {
    "duration": 187,
    "start_time": "2022-05-19T21:33:31.245Z"
   },
   {
    "duration": 34,
    "start_time": "2022-05-19T21:34:52.566Z"
   },
   {
    "duration": 28,
    "start_time": "2022-05-19T21:42:21.465Z"
   },
   {
    "duration": 12,
    "start_time": "2022-05-19T21:43:17.522Z"
   },
   {
    "duration": 5,
    "start_time": "2022-05-19T21:43:25.764Z"
   },
   {
    "duration": 658,
    "start_time": "2022-05-19T21:43:26.392Z"
   },
   {
    "duration": 4,
    "start_time": "2022-05-19T21:43:56.080Z"
   },
   {
    "duration": 168,
    "start_time": "2022-05-19T21:43:56.553Z"
   },
   {
    "duration": 4,
    "start_time": "2022-05-19T21:44:04.067Z"
   },
   {
    "duration": 839,
    "start_time": "2022-05-19T21:44:04.073Z"
   },
   {
    "duration": 133,
    "start_time": "2022-05-19T21:44:04.914Z"
   },
   {
    "duration": 45,
    "start_time": "2022-05-19T21:44:05.049Z"
   },
   {
    "duration": 6,
    "start_time": "2022-05-19T21:44:05.097Z"
   },
   {
    "duration": 31,
    "start_time": "2022-05-19T21:44:05.124Z"
   },
   {
    "duration": 4,
    "start_time": "2022-05-19T21:44:05.157Z"
   },
   {
    "duration": 21,
    "start_time": "2022-05-19T21:44:05.163Z"
   },
   {
    "duration": 94,
    "start_time": "2022-05-19T21:44:05.185Z"
   },
   {
    "duration": 81,
    "start_time": "2022-05-19T21:44:05.281Z"
   },
   {
    "duration": 32,
    "start_time": "2022-05-19T21:44:05.364Z"
   },
   {
    "duration": 149,
    "start_time": "2022-05-19T21:44:05.399Z"
   },
   {
    "duration": 8,
    "start_time": "2022-05-19T21:44:05.550Z"
   },
   {
    "duration": 10,
    "start_time": "2022-05-19T21:44:05.562Z"
   },
   {
    "duration": 71,
    "start_time": "2022-05-19T21:44:05.574Z"
   },
   {
    "duration": 350,
    "start_time": "2022-05-19T21:44:05.647Z"
   },
   {
    "duration": 51,
    "start_time": "2022-05-19T21:44:05.999Z"
   },
   {
    "duration": 38,
    "start_time": "2022-05-19T21:44:06.051Z"
   },
   {
    "duration": 333,
    "start_time": "2022-05-19T21:44:06.091Z"
   },
   {
    "duration": 76,
    "start_time": "2022-05-19T21:44:06.425Z"
   },
   {
    "duration": 90,
    "start_time": "2022-05-19T21:44:06.503Z"
   },
   {
    "duration": 73,
    "start_time": "2022-05-19T21:44:06.594Z"
   },
   {
    "duration": 2339,
    "start_time": "2022-05-19T21:44:06.669Z"
   },
   {
    "duration": 33,
    "start_time": "2022-05-19T21:44:09.010Z"
   },
   {
    "duration": 57,
    "start_time": "2022-05-19T21:44:09.045Z"
   },
   {
    "duration": 34,
    "start_time": "2022-05-19T21:44:09.124Z"
   },
   {
    "duration": 35,
    "start_time": "2022-05-19T21:44:09.160Z"
   },
   {
    "duration": 36,
    "start_time": "2022-05-19T21:44:09.197Z"
   },
   {
    "duration": 17,
    "start_time": "2022-05-19T21:44:09.235Z"
   },
   {
    "duration": 5,
    "start_time": "2022-05-19T21:44:17.026Z"
   },
   {
    "duration": 181,
    "start_time": "2022-05-19T21:44:17.828Z"
   },
   {
    "duration": 19,
    "start_time": "2022-05-19T21:44:23.714Z"
   },
   {
    "duration": 6,
    "start_time": "2022-05-19T21:44:38.228Z"
   },
   {
    "duration": 167,
    "start_time": "2022-05-19T21:44:38.836Z"
   },
   {
    "duration": 29,
    "start_time": "2022-05-19T21:44:43.693Z"
   },
   {
    "duration": 14,
    "start_time": "2022-05-19T21:44:46.932Z"
   },
   {
    "duration": 183,
    "start_time": "2022-05-19T21:45:08.021Z"
   },
   {
    "duration": 26,
    "start_time": "2022-05-19T21:45:16.565Z"
   },
   {
    "duration": 11,
    "start_time": "2022-05-19T21:46:21.752Z"
   },
   {
    "duration": 189,
    "start_time": "2022-05-19T21:46:22.555Z"
   },
   {
    "duration": 21,
    "start_time": "2022-05-19T21:46:46.320Z"
   },
   {
    "duration": 14,
    "start_time": "2022-05-19T21:50:45.495Z"
   },
   {
    "duration": 172,
    "start_time": "2022-05-19T21:50:51.893Z"
   },
   {
    "duration": 23,
    "start_time": "2022-05-19T21:51:06.135Z"
   },
   {
    "duration": 23,
    "start_time": "2022-05-19T21:51:51.149Z"
   },
   {
    "duration": 18,
    "start_time": "2022-05-19T21:53:08.073Z"
   },
   {
    "duration": 74,
    "start_time": "2022-05-19T21:53:35.448Z"
   },
   {
    "duration": 5,
    "start_time": "2022-05-19T21:54:32.753Z"
   },
   {
    "duration": 8,
    "start_time": "2022-05-19T21:54:34.822Z"
   },
   {
    "duration": 8,
    "start_time": "2022-05-19T21:54:51.848Z"
   },
   {
    "duration": 441,
    "start_time": "2022-05-19T21:58:46.424Z"
   },
   {
    "duration": 327,
    "start_time": "2022-05-19T21:58:55.291Z"
   },
   {
    "duration": 296,
    "start_time": "2022-05-19T21:59:05.266Z"
   },
   {
    "duration": 325,
    "start_time": "2022-05-19T21:59:14.713Z"
   },
   {
    "duration": 293,
    "start_time": "2022-05-19T21:59:29.377Z"
   },
   {
    "duration": 307,
    "start_time": "2022-05-19T22:00:12.954Z"
   },
   {
    "duration": 12,
    "start_time": "2022-05-19T22:04:20.743Z"
   },
   {
    "duration": 224,
    "start_time": "2022-05-19T22:04:54.777Z"
   },
   {
    "duration": 14,
    "start_time": "2022-05-19T22:05:08.003Z"
   },
   {
    "duration": 17,
    "start_time": "2022-05-19T22:05:17.666Z"
   },
   {
    "duration": 17,
    "start_time": "2022-05-19T22:05:25.514Z"
   },
   {
    "duration": 16,
    "start_time": "2022-05-19T22:05:29.876Z"
   },
   {
    "duration": 17,
    "start_time": "2022-05-19T22:05:33.117Z"
   },
   {
    "duration": 17,
    "start_time": "2022-05-19T22:05:56.710Z"
   },
   {
    "duration": 4,
    "start_time": "2022-05-19T22:06:08.100Z"
   },
   {
    "duration": 887,
    "start_time": "2022-05-19T22:06:08.107Z"
   },
   {
    "duration": 141,
    "start_time": "2022-05-19T22:06:08.995Z"
   },
   {
    "duration": 46,
    "start_time": "2022-05-19T22:06:09.138Z"
   },
   {
    "duration": 6,
    "start_time": "2022-05-19T22:06:09.186Z"
   },
   {
    "duration": 58,
    "start_time": "2022-05-19T22:06:09.194Z"
   },
   {
    "duration": 6,
    "start_time": "2022-05-19T22:06:09.255Z"
   },
   {
    "duration": 19,
    "start_time": "2022-05-19T22:06:09.262Z"
   },
   {
    "duration": 101,
    "start_time": "2022-05-19T22:06:09.284Z"
   },
   {
    "duration": 82,
    "start_time": "2022-05-19T22:06:09.387Z"
   },
   {
    "duration": 32,
    "start_time": "2022-05-19T22:06:09.472Z"
   },
   {
    "duration": 147,
    "start_time": "2022-05-19T22:06:09.506Z"
   },
   {
    "duration": 7,
    "start_time": "2022-05-19T22:06:09.655Z"
   },
   {
    "duration": 10,
    "start_time": "2022-05-19T22:06:09.663Z"
   },
   {
    "duration": 58,
    "start_time": "2022-05-19T22:06:09.674Z"
   },
   {
    "duration": 320,
    "start_time": "2022-05-19T22:06:09.733Z"
   },
   {
    "duration": 38,
    "start_time": "2022-05-19T22:06:10.054Z"
   },
   {
    "duration": 48,
    "start_time": "2022-05-19T22:06:10.094Z"
   },
   {
    "duration": 299,
    "start_time": "2022-05-19T22:06:10.144Z"
   },
   {
    "duration": 62,
    "start_time": "2022-05-19T22:06:10.445Z"
   },
   {
    "duration": 118,
    "start_time": "2022-05-19T22:06:10.509Z"
   },
   {
    "duration": 84,
    "start_time": "2022-05-19T22:06:10.629Z"
   },
   {
    "duration": 2269,
    "start_time": "2022-05-19T22:06:10.724Z"
   },
   {
    "duration": 37,
    "start_time": "2022-05-19T22:06:12.997Z"
   },
   {
    "duration": 35,
    "start_time": "2022-05-19T22:06:13.036Z"
   },
   {
    "duration": 53,
    "start_time": "2022-05-19T22:06:13.073Z"
   },
   {
    "duration": 37,
    "start_time": "2022-05-19T22:06:13.128Z"
   },
   {
    "duration": 14,
    "start_time": "2022-05-19T22:06:13.167Z"
   },
   {
    "duration": 11,
    "start_time": "2022-05-19T22:06:13.182Z"
   },
   {
    "duration": 4,
    "start_time": "2022-05-19T22:06:13.224Z"
   },
   {
    "duration": 180,
    "start_time": "2022-05-19T22:06:13.230Z"
   },
   {
    "duration": 25,
    "start_time": "2022-05-19T22:06:13.411Z"
   },
   {
    "duration": 167,
    "start_time": "2022-05-19T22:06:13.438Z"
   },
   {
    "duration": 32,
    "start_time": "2022-05-19T22:06:13.607Z"
   },
   {
    "duration": 12,
    "start_time": "2022-05-19T22:06:13.640Z"
   },
   {
    "duration": 178,
    "start_time": "2022-05-19T22:06:13.654Z"
   },
   {
    "duration": 13,
    "start_time": "2022-05-19T22:06:13.834Z"
   },
   {
    "duration": 151,
    "start_time": "2022-05-19T22:06:13.848Z"
   },
   {
    "duration": 23,
    "start_time": "2022-05-19T22:06:14.001Z"
   },
   {
    "duration": 169,
    "start_time": "2022-05-19T22:06:14.025Z"
   },
   {
    "duration": 20,
    "start_time": "2022-05-19T22:06:14.196Z"
   },
   {
    "duration": 11,
    "start_time": "2022-05-19T22:06:14.218Z"
   },
   {
    "duration": 5,
    "start_time": "2022-05-19T22:06:14.230Z"
   },
   {
    "duration": 10,
    "start_time": "2022-05-19T22:06:14.237Z"
   },
   {
    "duration": 313,
    "start_time": "2022-05-19T22:06:14.248Z"
   },
   {
    "duration": 251,
    "start_time": "2022-05-19T22:06:17.479Z"
   },
   {
    "duration": 11,
    "start_time": "2022-05-19T22:06:59.533Z"
   },
   {
    "duration": 4,
    "start_time": "2022-05-19T22:07:27.889Z"
   },
   {
    "duration": 875,
    "start_time": "2022-05-19T22:07:27.895Z"
   },
   {
    "duration": 129,
    "start_time": "2022-05-19T22:07:28.772Z"
   },
   {
    "duration": 60,
    "start_time": "2022-05-19T22:07:28.903Z"
   },
   {
    "duration": 5,
    "start_time": "2022-05-19T22:07:28.965Z"
   },
   {
    "duration": 36,
    "start_time": "2022-05-19T22:07:28.972Z"
   },
   {
    "duration": 5,
    "start_time": "2022-05-19T22:07:29.022Z"
   },
   {
    "duration": 14,
    "start_time": "2022-05-19T22:07:29.029Z"
   },
   {
    "duration": 89,
    "start_time": "2022-05-19T22:07:29.045Z"
   },
   {
    "duration": 65,
    "start_time": "2022-05-19T22:07:29.136Z"
   },
   {
    "duration": 44,
    "start_time": "2022-05-19T22:07:29.203Z"
   },
   {
    "duration": 146,
    "start_time": "2022-05-19T22:07:29.248Z"
   },
   {
    "duration": 9,
    "start_time": "2022-05-19T22:07:29.396Z"
   },
   {
    "duration": 11,
    "start_time": "2022-05-19T22:07:29.422Z"
   },
   {
    "duration": 38,
    "start_time": "2022-05-19T22:07:29.435Z"
   },
   {
    "duration": 298,
    "start_time": "2022-05-19T22:07:29.475Z"
   },
   {
    "duration": 49,
    "start_time": "2022-05-19T22:07:29.775Z"
   },
   {
    "duration": 32,
    "start_time": "2022-05-19T22:07:29.825Z"
   },
   {
    "duration": 302,
    "start_time": "2022-05-19T22:07:29.858Z"
   },
   {
    "duration": 61,
    "start_time": "2022-05-19T22:07:30.162Z"
   },
   {
    "duration": 61,
    "start_time": "2022-05-19T22:07:30.225Z"
   },
   {
    "duration": 68,
    "start_time": "2022-05-19T22:07:30.287Z"
   },
   {
    "duration": 2113,
    "start_time": "2022-05-19T22:07:30.356Z"
   },
   {
    "duration": 27,
    "start_time": "2022-05-19T22:07:32.470Z"
   },
   {
    "duration": 52,
    "start_time": "2022-05-19T22:07:32.499Z"
   },
   {
    "duration": 53,
    "start_time": "2022-05-19T22:07:32.553Z"
   },
   {
    "duration": 48,
    "start_time": "2022-05-19T22:07:32.609Z"
   },
   {
    "duration": 23,
    "start_time": "2022-05-19T22:07:32.659Z"
   },
   {
    "duration": 16,
    "start_time": "2022-05-19T22:07:32.683Z"
   },
   {
    "duration": 4,
    "start_time": "2022-05-19T22:07:32.700Z"
   },
   {
    "duration": 182,
    "start_time": "2022-05-19T22:07:32.705Z"
   },
   {
    "duration": 19,
    "start_time": "2022-05-19T22:07:32.888Z"
   },
   {
    "duration": 165,
    "start_time": "2022-05-19T22:07:32.908Z"
   },
   {
    "duration": 21,
    "start_time": "2022-05-19T22:07:33.075Z"
   },
   {
    "duration": 31,
    "start_time": "2022-05-19T22:07:33.098Z"
   },
   {
    "duration": 159,
    "start_time": "2022-05-19T22:07:33.131Z"
   },
   {
    "duration": 11,
    "start_time": "2022-05-19T22:07:33.292Z"
   },
   {
    "duration": 140,
    "start_time": "2022-05-19T22:07:33.304Z"
   },
   {
    "duration": 12,
    "start_time": "2022-05-19T22:07:33.445Z"
   },
   {
    "duration": 155,
    "start_time": "2022-05-19T22:07:33.459Z"
   },
   {
    "duration": 21,
    "start_time": "2022-05-19T22:07:33.624Z"
   },
   {
    "duration": 11,
    "start_time": "2022-05-19T22:07:33.647Z"
   },
   {
    "duration": 4,
    "start_time": "2022-05-19T22:07:33.659Z"
   },
   {
    "duration": 9,
    "start_time": "2022-05-19T22:07:33.665Z"
   },
   {
    "duration": 288,
    "start_time": "2022-05-19T22:07:33.676Z"
   },
   {
    "duration": 230,
    "start_time": "2022-05-19T22:07:40.796Z"
   },
   {
    "duration": 9,
    "start_time": "2022-05-19T22:07:43.870Z"
   },
   {
    "duration": 4,
    "start_time": "2022-05-19T22:08:30.443Z"
   },
   {
    "duration": 806,
    "start_time": "2022-05-19T22:08:30.449Z"
   },
   {
    "duration": 123,
    "start_time": "2022-05-19T22:08:31.256Z"
   },
   {
    "duration": 56,
    "start_time": "2022-05-19T22:08:31.380Z"
   },
   {
    "duration": 5,
    "start_time": "2022-05-19T22:08:31.438Z"
   },
   {
    "duration": 32,
    "start_time": "2022-05-19T22:08:31.444Z"
   },
   {
    "duration": 4,
    "start_time": "2022-05-19T22:08:31.477Z"
   },
   {
    "duration": 13,
    "start_time": "2022-05-19T22:08:31.483Z"
   },
   {
    "duration": 94,
    "start_time": "2022-05-19T22:08:31.498Z"
   },
   {
    "duration": 75,
    "start_time": "2022-05-19T22:08:31.594Z"
   },
   {
    "duration": 34,
    "start_time": "2022-05-19T22:08:31.671Z"
   },
   {
    "duration": 139,
    "start_time": "2022-05-19T22:08:31.707Z"
   },
   {
    "duration": 10,
    "start_time": "2022-05-19T22:08:31.849Z"
   },
   {
    "duration": 9,
    "start_time": "2022-05-19T22:08:31.861Z"
   },
   {
    "duration": 60,
    "start_time": "2022-05-19T22:08:31.871Z"
   },
   {
    "duration": 280,
    "start_time": "2022-05-19T22:08:31.933Z"
   },
   {
    "duration": 41,
    "start_time": "2022-05-19T22:08:32.215Z"
   },
   {
    "duration": 32,
    "start_time": "2022-05-19T22:08:32.257Z"
   },
   {
    "duration": 323,
    "start_time": "2022-05-19T22:08:32.291Z"
   },
   {
    "duration": 72,
    "start_time": "2022-05-19T22:08:32.616Z"
   },
   {
    "duration": 73,
    "start_time": "2022-05-19T22:08:32.690Z"
   },
   {
    "duration": 77,
    "start_time": "2022-05-19T22:08:32.765Z"
   },
   {
    "duration": 2071,
    "start_time": "2022-05-19T22:08:32.844Z"
   },
   {
    "duration": 32,
    "start_time": "2022-05-19T22:08:34.917Z"
   },
   {
    "duration": 33,
    "start_time": "2022-05-19T22:08:34.950Z"
   },
   {
    "duration": 49,
    "start_time": "2022-05-19T22:08:34.985Z"
   },
   {
    "duration": 33,
    "start_time": "2022-05-19T22:08:35.036Z"
   },
   {
    "duration": 13,
    "start_time": "2022-05-19T22:08:35.070Z"
   },
   {
    "duration": 11,
    "start_time": "2022-05-19T22:08:35.085Z"
   },
   {
    "duration": 26,
    "start_time": "2022-05-19T22:08:35.098Z"
   },
   {
    "duration": 177,
    "start_time": "2022-05-19T22:08:35.126Z"
   },
   {
    "duration": 29,
    "start_time": "2022-05-19T22:08:35.305Z"
   },
   {
    "duration": 148,
    "start_time": "2022-05-19T22:08:35.336Z"
   },
   {
    "duration": 22,
    "start_time": "2022-05-19T22:08:35.486Z"
   },
   {
    "duration": 12,
    "start_time": "2022-05-19T22:08:35.522Z"
   },
   {
    "duration": 173,
    "start_time": "2022-05-19T22:08:35.536Z"
   },
   {
    "duration": 15,
    "start_time": "2022-05-19T22:08:35.712Z"
   },
   {
    "duration": 137,
    "start_time": "2022-05-19T22:08:35.729Z"
   },
   {
    "duration": 13,
    "start_time": "2022-05-19T22:08:35.867Z"
   },
   {
    "duration": 168,
    "start_time": "2022-05-19T22:08:35.882Z"
   },
   {
    "duration": 20,
    "start_time": "2022-05-19T22:08:36.051Z"
   },
   {
    "duration": 10,
    "start_time": "2022-05-19T22:08:36.073Z"
   },
   {
    "duration": 6,
    "start_time": "2022-05-19T22:08:36.084Z"
   },
   {
    "duration": 32,
    "start_time": "2022-05-19T22:08:36.091Z"
   },
   {
    "duration": 288,
    "start_time": "2022-05-19T22:08:36.125Z"
   },
   {
    "duration": 227,
    "start_time": "2022-05-19T22:08:40.828Z"
   },
   {
    "duration": 9,
    "start_time": "2022-05-19T22:08:44.370Z"
   },
   {
    "duration": 8,
    "start_time": "2022-05-19T22:10:35.165Z"
   },
   {
    "duration": 73,
    "start_time": "2022-05-19T22:11:34.138Z"
   },
   {
    "duration": 76,
    "start_time": "2022-05-19T22:12:38.049Z"
   },
   {
    "duration": 134,
    "start_time": "2022-05-19T22:13:24.627Z"
   },
   {
    "duration": 146,
    "start_time": "2022-05-19T22:13:39.540Z"
   },
   {
    "duration": 302,
    "start_time": "2022-05-19T22:13:52.608Z"
   },
   {
    "duration": 55,
    "start_time": "2022-05-19T22:14:36.980Z"
   },
   {
    "duration": 272,
    "start_time": "2022-05-19T22:14:37.659Z"
   },
   {
    "duration": 75,
    "start_time": "2022-05-19T22:14:50.151Z"
   },
   {
    "duration": 280,
    "start_time": "2022-05-19T22:15:58.220Z"
   },
   {
    "duration": 126,
    "start_time": "2022-05-19T22:18:57.376Z"
   },
   {
    "duration": 39,
    "start_time": "2022-05-19T22:20:14.132Z"
   },
   {
    "duration": 96,
    "start_time": "2022-05-19T22:21:05.596Z"
   },
   {
    "duration": 187,
    "start_time": "2022-05-19T22:22:04.739Z"
   },
   {
    "duration": 12,
    "start_time": "2022-05-19T22:22:15.567Z"
   },
   {
    "duration": 135,
    "start_time": "2022-05-19T22:23:38.009Z"
   },
   {
    "duration": 2,
    "start_time": "2022-05-19T22:23:41.141Z"
   },
   {
    "duration": 266374,
    "start_time": "2022-05-19T22:24:02.364Z"
   },
   {
    "duration": 894,
    "start_time": "2022-05-19T22:28:28.741Z"
   },
   {
    "duration": 6,
    "start_time": "2022-05-19T22:28:29.636Z"
   },
   {
    "duration": 3,
    "start_time": "2022-05-19T22:30:00.737Z"
   },
   {
    "duration": 7178,
    "start_time": "2022-05-19T22:30:18.347Z"
   },
   {
    "duration": 862,
    "start_time": "2022-05-19T22:31:02.377Z"
   },
   {
    "duration": 5,
    "start_time": "2022-05-19T22:31:03.459Z"
   },
   {
    "duration": 440,
    "start_time": "2022-05-19T22:31:48.771Z"
   },
   {
    "duration": 3,
    "start_time": "2022-05-19T22:32:12.250Z"
   },
   {
    "duration": 1423,
    "start_time": "2022-05-19T22:33:08.643Z"
   },
   {
    "duration": 1076,
    "start_time": "2022-05-19T22:33:10.068Z"
   },
   {
    "duration": 123,
    "start_time": "2022-05-19T22:33:11.145Z"
   },
   {
    "duration": 54,
    "start_time": "2022-05-19T22:33:11.269Z"
   },
   {
    "duration": 6,
    "start_time": "2022-05-19T22:33:11.325Z"
   },
   {
    "duration": 28,
    "start_time": "2022-05-19T22:33:11.333Z"
   },
   {
    "duration": 3,
    "start_time": "2022-05-19T22:33:11.363Z"
   },
   {
    "duration": 15,
    "start_time": "2022-05-19T22:33:11.368Z"
   },
   {
    "duration": 90,
    "start_time": "2022-05-19T22:33:11.384Z"
   },
   {
    "duration": 82,
    "start_time": "2022-05-19T22:33:11.475Z"
   },
   {
    "duration": 32,
    "start_time": "2022-05-19T22:33:11.559Z"
   },
   {
    "duration": 140,
    "start_time": "2022-05-19T22:33:11.592Z"
   },
   {
    "duration": 8,
    "start_time": "2022-05-19T22:33:11.734Z"
   },
   {
    "duration": 10,
    "start_time": "2022-05-19T22:33:11.745Z"
   },
   {
    "duration": 66,
    "start_time": "2022-05-19T22:33:11.757Z"
   },
   {
    "duration": 290,
    "start_time": "2022-05-19T22:33:11.825Z"
   },
   {
    "duration": 39,
    "start_time": "2022-05-19T22:33:12.122Z"
   },
   {
    "duration": 36,
    "start_time": "2022-05-19T22:33:12.163Z"
   },
   {
    "duration": 318,
    "start_time": "2022-05-19T22:33:12.200Z"
   },
   {
    "duration": 76,
    "start_time": "2022-05-19T22:33:12.526Z"
   },
   {
    "duration": 88,
    "start_time": "2022-05-19T22:33:12.604Z"
   },
   {
    "duration": 72,
    "start_time": "2022-05-19T22:33:12.694Z"
   },
   {
    "duration": 2227,
    "start_time": "2022-05-19T22:33:12.768Z"
   },
   {
    "duration": 32,
    "start_time": "2022-05-19T22:33:14.997Z"
   },
   {
    "duration": 36,
    "start_time": "2022-05-19T22:33:15.031Z"
   },
   {
    "duration": 36,
    "start_time": "2022-05-19T22:33:15.069Z"
   },
   {
    "duration": 46,
    "start_time": "2022-05-19T22:33:15.107Z"
   },
   {
    "duration": 15,
    "start_time": "2022-05-19T22:33:15.155Z"
   },
   {
    "duration": 11,
    "start_time": "2022-05-19T22:33:15.171Z"
   },
   {
    "duration": 3,
    "start_time": "2022-05-19T22:33:15.184Z"
   },
   {
    "duration": 208,
    "start_time": "2022-05-19T22:33:15.189Z"
   },
   {
    "duration": 29,
    "start_time": "2022-05-19T22:33:15.399Z"
   },
   {
    "duration": 160,
    "start_time": "2022-05-19T22:33:15.429Z"
   },
   {
    "duration": 33,
    "start_time": "2022-05-19T22:33:15.591Z"
   },
   {
    "duration": 12,
    "start_time": "2022-05-19T22:33:15.626Z"
   },
   {
    "duration": 187,
    "start_time": "2022-05-19T22:33:15.640Z"
   },
   {
    "duration": 13,
    "start_time": "2022-05-19T22:33:15.828Z"
   },
   {
    "duration": 161,
    "start_time": "2022-05-19T22:33:15.843Z"
   },
   {
    "duration": 23,
    "start_time": "2022-05-19T22:33:16.006Z"
   },
   {
    "duration": 169,
    "start_time": "2022-05-19T22:33:16.031Z"
   },
   {
    "duration": 31,
    "start_time": "2022-05-19T22:33:16.203Z"
   },
   {
    "duration": 13,
    "start_time": "2022-05-19T22:33:16.236Z"
   },
   {
    "duration": 5,
    "start_time": "2022-05-19T22:33:16.251Z"
   },
   {
    "duration": 10,
    "start_time": "2022-05-19T22:33:16.258Z"
   },
   {
    "duration": 321,
    "start_time": "2022-05-19T22:33:16.270Z"
   },
   {
    "duration": 243,
    "start_time": "2022-05-19T22:33:16.593Z"
   },
   {
    "duration": 8,
    "start_time": "2022-05-19T22:33:16.838Z"
   },
   {
    "duration": 8,
    "start_time": "2022-05-19T22:33:16.847Z"
   },
   {
    "duration": 161,
    "start_time": "2022-05-19T22:33:16.856Z"
   },
   {
    "duration": 162,
    "start_time": "2022-05-19T22:33:17.022Z"
   },
   {
    "duration": 66,
    "start_time": "2022-05-19T22:33:17.185Z"
   },
   {
    "duration": 282,
    "start_time": "2022-05-19T22:33:17.252Z"
   },
   {
    "duration": 72,
    "start_time": "2022-05-19T22:33:17.536Z"
   },
   {
    "duration": 91,
    "start_time": "2022-05-19T22:33:17.610Z"
   },
   {
    "duration": 153,
    "start_time": "2022-05-19T22:33:17.703Z"
   },
   {
    "duration": 3,
    "start_time": "2022-05-19T22:33:17.858Z"
   },
   {
    "duration": 260,
    "start_time": "2022-05-19T22:33:17.863Z"
   },
   {
    "duration": 13,
    "start_time": "2022-05-19T22:33:18.124Z"
   },
   {
    "duration": 0,
    "start_time": "2022-05-19T22:33:18.138Z"
   },
   {
    "duration": 0,
    "start_time": "2022-05-19T22:33:18.139Z"
   },
   {
    "duration": 0,
    "start_time": "2022-05-19T22:33:18.140Z"
   },
   {
    "duration": 0,
    "start_time": "2022-05-19T22:33:18.141Z"
   },
   {
    "duration": 0,
    "start_time": "2022-05-19T22:33:18.142Z"
   },
   {
    "duration": 1334,
    "start_time": "2022-05-19T22:33:56.682Z"
   },
   {
    "duration": 813,
    "start_time": "2022-05-19T22:33:58.018Z"
   },
   {
    "duration": 130,
    "start_time": "2022-05-19T22:33:58.833Z"
   },
   {
    "duration": 58,
    "start_time": "2022-05-19T22:33:58.965Z"
   },
   {
    "duration": 8,
    "start_time": "2022-05-19T22:33:59.026Z"
   },
   {
    "duration": 31,
    "start_time": "2022-05-19T22:33:59.035Z"
   },
   {
    "duration": 3,
    "start_time": "2022-05-19T22:33:59.068Z"
   },
   {
    "duration": 18,
    "start_time": "2022-05-19T22:33:59.073Z"
   },
   {
    "duration": 93,
    "start_time": "2022-05-19T22:33:59.092Z"
   },
   {
    "duration": 83,
    "start_time": "2022-05-19T22:33:59.187Z"
   },
   {
    "duration": 37,
    "start_time": "2022-05-19T22:33:59.272Z"
   },
   {
    "duration": 155,
    "start_time": "2022-05-19T22:33:59.311Z"
   },
   {
    "duration": 8,
    "start_time": "2022-05-19T22:33:59.468Z"
   },
   {
    "duration": 10,
    "start_time": "2022-05-19T22:33:59.479Z"
   },
   {
    "duration": 64,
    "start_time": "2022-05-19T22:33:59.491Z"
   },
   {
    "duration": 288,
    "start_time": "2022-05-19T22:33:59.557Z"
   },
   {
    "duration": 36,
    "start_time": "2022-05-19T22:33:59.846Z"
   },
   {
    "duration": 46,
    "start_time": "2022-05-19T22:33:59.883Z"
   },
   {
    "duration": 308,
    "start_time": "2022-05-19T22:33:59.931Z"
   },
   {
    "duration": 58,
    "start_time": "2022-05-19T22:34:00.241Z"
   },
   {
    "duration": 69,
    "start_time": "2022-05-19T22:34:00.300Z"
   },
   {
    "duration": 75,
    "start_time": "2022-05-19T22:34:00.371Z"
   },
   {
    "duration": 2210,
    "start_time": "2022-05-19T22:34:00.448Z"
   },
   {
    "duration": 29,
    "start_time": "2022-05-19T22:34:02.660Z"
   },
   {
    "duration": 46,
    "start_time": "2022-05-19T22:34:02.691Z"
   },
   {
    "duration": 30,
    "start_time": "2022-05-19T22:34:02.739Z"
   },
   {
    "duration": 39,
    "start_time": "2022-05-19T22:34:02.771Z"
   },
   {
    "duration": 20,
    "start_time": "2022-05-19T22:34:02.812Z"
   },
   {
    "duration": 10,
    "start_time": "2022-05-19T22:34:02.834Z"
   },
   {
    "duration": 4,
    "start_time": "2022-05-19T22:34:02.845Z"
   },
   {
    "duration": 201,
    "start_time": "2022-05-19T22:34:02.850Z"
   },
   {
    "duration": 22,
    "start_time": "2022-05-19T22:34:03.052Z"
   },
   {
    "duration": 164,
    "start_time": "2022-05-19T22:34:03.076Z"
   },
   {
    "duration": 23,
    "start_time": "2022-05-19T22:34:03.241Z"
   },
   {
    "duration": 12,
    "start_time": "2022-05-19T22:34:03.266Z"
   },
   {
    "duration": 191,
    "start_time": "2022-05-19T22:34:03.280Z"
   },
   {
    "duration": 13,
    "start_time": "2022-05-19T22:34:03.472Z"
   },
   {
    "duration": 147,
    "start_time": "2022-05-19T22:34:03.486Z"
   },
   {
    "duration": 12,
    "start_time": "2022-05-19T22:34:03.635Z"
   },
   {
    "duration": 155,
    "start_time": "2022-05-19T22:34:03.648Z"
   },
   {
    "duration": 25,
    "start_time": "2022-05-19T22:34:03.807Z"
   },
   {
    "duration": 10,
    "start_time": "2022-05-19T22:34:03.833Z"
   },
   {
    "duration": 4,
    "start_time": "2022-05-19T22:34:03.844Z"
   },
   {
    "duration": 10,
    "start_time": "2022-05-19T22:34:03.849Z"
   },
   {
    "duration": 330,
    "start_time": "2022-05-19T22:34:03.860Z"
   },
   {
    "duration": 246,
    "start_time": "2022-05-19T22:34:04.192Z"
   },
   {
    "duration": 10,
    "start_time": "2022-05-19T22:34:04.440Z"
   },
   {
    "duration": 7,
    "start_time": "2022-05-19T22:34:04.452Z"
   },
   {
    "duration": 175,
    "start_time": "2022-05-19T22:34:04.461Z"
   },
   {
    "duration": 150,
    "start_time": "2022-05-19T22:34:04.637Z"
   },
   {
    "duration": 69,
    "start_time": "2022-05-19T22:34:04.789Z"
   },
   {
    "duration": 313,
    "start_time": "2022-05-19T22:34:04.860Z"
   },
   {
    "duration": 71,
    "start_time": "2022-05-19T22:34:14.186Z"
   },
   {
    "duration": 86,
    "start_time": "2022-05-19T22:34:15.722Z"
   },
   {
    "duration": 126,
    "start_time": "2022-05-19T22:34:17.959Z"
   },
   {
    "duration": 13,
    "start_time": "2022-05-19T22:34:23.066Z"
   },
   {
    "duration": 3,
    "start_time": "2022-05-19T22:34:25.054Z"
   },
   {
    "duration": 218,
    "start_time": "2022-05-19T22:34:27.128Z"
   },
   {
    "duration": 3,
    "start_time": "2022-05-19T22:34:42.379Z"
   },
   {
    "duration": 97,
    "start_time": "2022-05-19T22:34:43.068Z"
   },
   {
    "duration": 11,
    "start_time": "2022-05-19T22:35:13.606Z"
   },
   {
    "duration": 3,
    "start_time": "2022-05-19T22:35:14.489Z"
   },
   {
    "duration": 443,
    "start_time": "2022-05-19T22:35:15.117Z"
   },
   {
    "duration": 3,
    "start_time": "2022-05-19T22:36:10.118Z"
   },
   {
    "duration": 509,
    "start_time": "2022-05-19T22:36:11.479Z"
   },
   {
    "duration": 3,
    "start_time": "2022-05-19T22:37:26.645Z"
   },
   {
    "duration": 40,
    "start_time": "2022-05-19T22:37:30.610Z"
   },
   {
    "duration": 1292,
    "start_time": "2022-05-19T22:38:33.605Z"
   },
   {
    "duration": 782,
    "start_time": "2022-05-19T22:38:34.899Z"
   },
   {
    "duration": 122,
    "start_time": "2022-05-19T22:38:35.683Z"
   },
   {
    "duration": 51,
    "start_time": "2022-05-19T22:38:35.807Z"
   },
   {
    "duration": 11,
    "start_time": "2022-05-19T22:38:35.860Z"
   },
   {
    "duration": 34,
    "start_time": "2022-05-19T22:38:35.872Z"
   },
   {
    "duration": 15,
    "start_time": "2022-05-19T22:38:35.908Z"
   },
   {
    "duration": 13,
    "start_time": "2022-05-19T22:38:35.924Z"
   },
   {
    "duration": 91,
    "start_time": "2022-05-19T22:38:35.939Z"
   },
   {
    "duration": 65,
    "start_time": "2022-05-19T22:38:36.033Z"
   },
   {
    "duration": 42,
    "start_time": "2022-05-19T22:38:36.099Z"
   },
   {
    "duration": 138,
    "start_time": "2022-05-19T22:38:36.143Z"
   },
   {
    "duration": 8,
    "start_time": "2022-05-19T22:38:36.283Z"
   },
   {
    "duration": 10,
    "start_time": "2022-05-19T22:38:36.292Z"
   },
   {
    "duration": 61,
    "start_time": "2022-05-19T22:38:36.304Z"
   },
   {
    "duration": 283,
    "start_time": "2022-05-19T22:38:36.366Z"
   },
   {
    "duration": 35,
    "start_time": "2022-05-19T22:38:36.651Z"
   },
   {
    "duration": 46,
    "start_time": "2022-05-19T22:38:36.688Z"
   },
   {
    "duration": 299,
    "start_time": "2022-05-19T22:38:36.736Z"
   },
   {
    "duration": 58,
    "start_time": "2022-05-19T22:38:37.037Z"
   },
   {
    "duration": 73,
    "start_time": "2022-05-19T22:38:37.096Z"
   },
   {
    "duration": 79,
    "start_time": "2022-05-19T22:38:37.170Z"
   },
   {
    "duration": 2199,
    "start_time": "2022-05-19T22:38:37.250Z"
   },
   {
    "duration": 27,
    "start_time": "2022-05-19T22:38:39.451Z"
   },
   {
    "duration": 46,
    "start_time": "2022-05-19T22:38:39.480Z"
   },
   {
    "duration": 33,
    "start_time": "2022-05-19T22:38:39.528Z"
   },
   {
    "duration": 34,
    "start_time": "2022-05-19T22:38:39.562Z"
   },
   {
    "duration": 26,
    "start_time": "2022-05-19T22:38:39.599Z"
   },
   {
    "duration": 11,
    "start_time": "2022-05-19T22:38:39.626Z"
   },
   {
    "duration": 3,
    "start_time": "2022-05-19T22:38:39.639Z"
   },
   {
    "duration": 194,
    "start_time": "2022-05-19T22:38:39.643Z"
   },
   {
    "duration": 23,
    "start_time": "2022-05-19T22:38:39.838Z"
   },
   {
    "duration": 167,
    "start_time": "2022-05-19T22:38:39.862Z"
   },
   {
    "duration": 22,
    "start_time": "2022-05-19T22:38:40.031Z"
   },
   {
    "duration": 11,
    "start_time": "2022-05-19T22:38:40.054Z"
   },
   {
    "duration": 177,
    "start_time": "2022-05-19T22:38:40.066Z"
   },
   {
    "duration": 13,
    "start_time": "2022-05-19T22:38:40.245Z"
   },
   {
    "duration": 153,
    "start_time": "2022-05-19T22:38:40.259Z"
   },
   {
    "duration": 18,
    "start_time": "2022-05-19T22:38:40.414Z"
   },
   {
    "duration": 159,
    "start_time": "2022-05-19T22:38:40.434Z"
   },
   {
    "duration": 36,
    "start_time": "2022-05-19T22:38:40.595Z"
   },
   {
    "duration": 12,
    "start_time": "2022-05-19T22:38:40.633Z"
   },
   {
    "duration": 5,
    "start_time": "2022-05-19T22:38:40.647Z"
   },
   {
    "duration": 11,
    "start_time": "2022-05-19T22:38:40.654Z"
   },
   {
    "duration": 303,
    "start_time": "2022-05-19T22:38:40.667Z"
   },
   {
    "duration": 243,
    "start_time": "2022-05-19T22:38:40.972Z"
   },
   {
    "duration": 12,
    "start_time": "2022-05-19T22:38:41.216Z"
   },
   {
    "duration": 6,
    "start_time": "2022-05-19T22:38:41.230Z"
   },
   {
    "duration": 157,
    "start_time": "2022-05-19T22:38:41.238Z"
   },
   {
    "duration": 153,
    "start_time": "2022-05-19T22:38:41.396Z"
   },
   {
    "duration": 78,
    "start_time": "2022-05-19T22:38:41.551Z"
   },
   {
    "duration": 277,
    "start_time": "2022-05-19T22:38:41.631Z"
   },
   {
    "duration": 84,
    "start_time": "2022-05-19T22:38:41.909Z"
   },
   {
    "duration": 93,
    "start_time": "2022-05-19T22:38:41.995Z"
   },
   {
    "duration": 3,
    "start_time": "2022-05-19T22:38:42.090Z"
   },
   {
    "duration": 137,
    "start_time": "2022-05-19T22:38:42.094Z"
   },
   {
    "duration": 3,
    "start_time": "2022-05-19T22:38:46.600Z"
   },
   {
    "duration": 225,
    "start_time": "2022-05-19T22:38:47.432Z"
   },
   {
    "duration": 1359,
    "start_time": "2022-05-19T22:40:00.512Z"
   },
   {
    "duration": 882,
    "start_time": "2022-05-19T22:40:01.873Z"
   },
   {
    "duration": 128,
    "start_time": "2022-05-19T22:40:02.757Z"
   },
   {
    "duration": 56,
    "start_time": "2022-05-19T22:40:02.887Z"
   },
   {
    "duration": 9,
    "start_time": "2022-05-19T22:40:02.945Z"
   },
   {
    "duration": 31,
    "start_time": "2022-05-19T22:40:02.956Z"
   },
   {
    "duration": 4,
    "start_time": "2022-05-19T22:40:02.989Z"
   },
   {
    "duration": 34,
    "start_time": "2022-05-19T22:40:02.995Z"
   },
   {
    "duration": 77,
    "start_time": "2022-05-19T22:40:03.030Z"
   },
   {
    "duration": 79,
    "start_time": "2022-05-19T22:40:03.109Z"
   },
   {
    "duration": 39,
    "start_time": "2022-05-19T22:40:03.190Z"
   },
   {
    "duration": 164,
    "start_time": "2022-05-19T22:40:03.230Z"
   },
   {
    "duration": 8,
    "start_time": "2022-05-19T22:40:03.396Z"
   },
   {
    "duration": 22,
    "start_time": "2022-05-19T22:40:03.407Z"
   },
   {
    "duration": 43,
    "start_time": "2022-05-19T22:40:03.431Z"
   },
   {
    "duration": 279,
    "start_time": "2022-05-19T22:40:03.476Z"
   },
   {
    "duration": 37,
    "start_time": "2022-05-19T22:40:03.757Z"
   },
   {
    "duration": 46,
    "start_time": "2022-05-19T22:40:03.795Z"
   },
   {
    "duration": 307,
    "start_time": "2022-05-19T22:40:03.842Z"
   },
   {
    "duration": 55,
    "start_time": "2022-05-19T22:40:04.151Z"
   },
   {
    "duration": 71,
    "start_time": "2022-05-19T22:40:04.208Z"
   },
   {
    "duration": 77,
    "start_time": "2022-05-19T22:40:04.281Z"
   },
   {
    "duration": 2130,
    "start_time": "2022-05-19T22:40:04.359Z"
   },
   {
    "duration": 38,
    "start_time": "2022-05-19T22:40:06.491Z"
   },
   {
    "duration": 33,
    "start_time": "2022-05-19T22:40:06.531Z"
   },
   {
    "duration": 34,
    "start_time": "2022-05-19T22:40:06.565Z"
   },
   {
    "duration": 51,
    "start_time": "2022-05-19T22:40:06.601Z"
   },
   {
    "duration": 13,
    "start_time": "2022-05-19T22:40:06.654Z"
   },
   {
    "duration": 11,
    "start_time": "2022-05-19T22:40:06.669Z"
   },
   {
    "duration": 4,
    "start_time": "2022-05-19T22:40:06.681Z"
   },
   {
    "duration": 206,
    "start_time": "2022-05-19T22:40:06.687Z"
   },
   {
    "duration": 31,
    "start_time": "2022-05-19T22:40:06.894Z"
   },
   {
    "duration": 153,
    "start_time": "2022-05-19T22:40:06.927Z"
   },
   {
    "duration": 22,
    "start_time": "2022-05-19T22:40:07.082Z"
   },
   {
    "duration": 24,
    "start_time": "2022-05-19T22:40:07.106Z"
   },
   {
    "duration": 176,
    "start_time": "2022-05-19T22:40:07.132Z"
   },
   {
    "duration": 20,
    "start_time": "2022-05-19T22:40:07.310Z"
   },
   {
    "duration": 140,
    "start_time": "2022-05-19T22:40:07.332Z"
   },
   {
    "duration": 13,
    "start_time": "2022-05-19T22:40:07.473Z"
   },
   {
    "duration": 165,
    "start_time": "2022-05-19T22:40:07.488Z"
   },
   {
    "duration": 21,
    "start_time": "2022-05-19T22:40:07.656Z"
   },
   {
    "duration": 10,
    "start_time": "2022-05-19T22:40:07.679Z"
   },
   {
    "duration": 5,
    "start_time": "2022-05-19T22:40:07.691Z"
   },
   {
    "duration": 31,
    "start_time": "2022-05-19T22:40:07.698Z"
   },
   {
    "duration": 304,
    "start_time": "2022-05-19T22:40:07.731Z"
   },
   {
    "duration": 244,
    "start_time": "2022-05-19T22:40:08.037Z"
   },
   {
    "duration": 8,
    "start_time": "2022-05-19T22:40:08.282Z"
   },
   {
    "duration": 8,
    "start_time": "2022-05-19T22:40:08.292Z"
   },
   {
    "duration": 168,
    "start_time": "2022-05-19T22:40:08.301Z"
   },
   {
    "duration": 160,
    "start_time": "2022-05-19T22:40:08.470Z"
   },
   {
    "duration": 67,
    "start_time": "2022-05-19T22:40:08.631Z"
   },
   {
    "duration": 296,
    "start_time": "2022-05-19T22:40:08.699Z"
   },
   {
    "duration": 96,
    "start_time": "2022-05-19T22:40:08.997Z"
   },
   {
    "duration": 25,
    "start_time": "2022-05-19T22:40:11.574Z"
   },
   {
    "duration": 2,
    "start_time": "2022-05-19T22:40:13.010Z"
   },
   {
    "duration": 133,
    "start_time": "2022-05-19T22:40:13.785Z"
   },
   {
    "duration": 3,
    "start_time": "2022-05-19T22:40:18.576Z"
   },
   {
    "duration": 216,
    "start_time": "2022-05-19T22:40:19.398Z"
   },
   {
    "duration": 3,
    "start_time": "2022-05-19T22:40:50.595Z"
   },
   {
    "duration": 9211,
    "start_time": "2022-05-19T22:40:52.868Z"
   },
   {
    "duration": 11,
    "start_time": "2022-05-19T22:41:05.648Z"
   },
   {
    "duration": 12,
    "start_time": "2022-05-19T22:41:09.266Z"
   },
   {
    "duration": 342,
    "start_time": "2022-05-19T22:41:25.769Z"
   },
   {
    "duration": 9816,
    "start_time": "2022-05-19T22:41:27.621Z"
   },
   {
    "duration": 3,
    "start_time": "2022-05-19T22:41:39.351Z"
   },
   {
    "duration": 11,
    "start_time": "2022-05-19T22:42:05.334Z"
   },
   {
    "duration": 37,
    "start_time": "2022-05-19T22:44:23.474Z"
   },
   {
    "duration": 1333,
    "start_time": "2022-05-19T22:46:50.176Z"
   },
   {
    "duration": 806,
    "start_time": "2022-05-19T22:46:51.511Z"
   },
   {
    "duration": 126,
    "start_time": "2022-05-19T22:46:52.319Z"
   },
   {
    "duration": 48,
    "start_time": "2022-05-19T22:46:52.447Z"
   },
   {
    "duration": 7,
    "start_time": "2022-05-19T22:46:52.497Z"
   },
   {
    "duration": 55,
    "start_time": "2022-05-19T22:46:52.505Z"
   },
   {
    "duration": 13,
    "start_time": "2022-05-19T22:46:52.562Z"
   },
   {
    "duration": 25,
    "start_time": "2022-05-19T22:46:52.577Z"
   },
   {
    "duration": 111,
    "start_time": "2022-05-19T22:46:52.604Z"
   },
   {
    "duration": 70,
    "start_time": "2022-05-19T22:46:52.723Z"
   },
   {
    "duration": 41,
    "start_time": "2022-05-19T22:46:52.795Z"
   },
   {
    "duration": 138,
    "start_time": "2022-05-19T22:46:52.837Z"
   },
   {
    "duration": 8,
    "start_time": "2022-05-19T22:46:52.977Z"
   },
   {
    "duration": 11,
    "start_time": "2022-05-19T22:46:52.987Z"
   },
   {
    "duration": 60,
    "start_time": "2022-05-19T22:46:52.999Z"
   },
   {
    "duration": 277,
    "start_time": "2022-05-19T22:46:53.061Z"
   },
   {
    "duration": 38,
    "start_time": "2022-05-19T22:46:53.340Z"
   },
   {
    "duration": 46,
    "start_time": "2022-05-19T22:46:53.380Z"
   },
   {
    "duration": 289,
    "start_time": "2022-05-19T22:46:53.427Z"
   },
   {
    "duration": 53,
    "start_time": "2022-05-19T22:46:53.717Z"
   },
   {
    "duration": 76,
    "start_time": "2022-05-19T22:46:53.772Z"
   },
   {
    "duration": 65,
    "start_time": "2022-05-19T22:46:53.850Z"
   },
   {
    "duration": 2110,
    "start_time": "2022-05-19T22:46:53.923Z"
   },
   {
    "duration": 28,
    "start_time": "2022-05-19T22:46:56.035Z"
   },
   {
    "duration": 32,
    "start_time": "2022-05-19T22:46:56.064Z"
   },
   {
    "duration": 51,
    "start_time": "2022-05-19T22:46:56.097Z"
   },
   {
    "duration": 34,
    "start_time": "2022-05-19T22:46:56.149Z"
   },
   {
    "duration": 12,
    "start_time": "2022-05-19T22:46:56.186Z"
   },
   {
    "duration": 24,
    "start_time": "2022-05-19T22:46:56.200Z"
   },
   {
    "duration": 8,
    "start_time": "2022-05-19T22:46:56.226Z"
   },
   {
    "duration": 183,
    "start_time": "2022-05-19T22:46:56.235Z"
   },
   {
    "duration": 23,
    "start_time": "2022-05-19T22:46:56.422Z"
   },
   {
    "duration": 152,
    "start_time": "2022-05-19T22:46:56.446Z"
   },
   {
    "duration": 29,
    "start_time": "2022-05-19T22:46:56.600Z"
   },
   {
    "duration": 11,
    "start_time": "2022-05-19T22:46:56.631Z"
   },
   {
    "duration": 179,
    "start_time": "2022-05-19T22:46:56.644Z"
   },
   {
    "duration": 11,
    "start_time": "2022-05-19T22:46:56.825Z"
   },
   {
    "duration": 144,
    "start_time": "2022-05-19T22:46:56.838Z"
   },
   {
    "duration": 13,
    "start_time": "2022-05-19T22:46:56.984Z"
   },
   {
    "duration": 156,
    "start_time": "2022-05-19T22:46:56.999Z"
   },
   {
    "duration": 20,
    "start_time": "2022-05-19T22:46:57.157Z"
   },
   {
    "duration": 9,
    "start_time": "2022-05-19T22:46:57.179Z"
   },
   {
    "duration": 5,
    "start_time": "2022-05-19T22:46:57.190Z"
   },
   {
    "duration": 36,
    "start_time": "2022-05-19T22:46:57.196Z"
   },
   {
    "duration": 294,
    "start_time": "2022-05-19T22:46:57.234Z"
   },
   {
    "duration": 243,
    "start_time": "2022-05-19T22:46:57.530Z"
   },
   {
    "duration": 8,
    "start_time": "2022-05-19T22:46:57.774Z"
   },
   {
    "duration": 8,
    "start_time": "2022-05-19T22:46:57.783Z"
   },
   {
    "duration": 175,
    "start_time": "2022-05-19T22:46:57.792Z"
   },
   {
    "duration": 163,
    "start_time": "2022-05-19T22:46:57.969Z"
   },
   {
    "duration": 68,
    "start_time": "2022-05-19T22:46:58.134Z"
   },
   {
    "duration": 302,
    "start_time": "2022-05-19T22:46:58.204Z"
   },
   {
    "duration": 73,
    "start_time": "2022-05-19T22:47:02.998Z"
   },
   {
    "duration": 24,
    "start_time": "2022-05-19T22:47:04.407Z"
   },
   {
    "duration": 2,
    "start_time": "2022-05-19T22:47:06.983Z"
   },
   {
    "duration": 136,
    "start_time": "2022-05-19T22:47:07.742Z"
   },
   {
    "duration": 3,
    "start_time": "2022-05-19T22:47:10.228Z"
   },
   {
    "duration": 917,
    "start_time": "2022-05-19T22:47:10.803Z"
   },
   {
    "duration": 9602,
    "start_time": "2022-05-19T22:55:12.626Z"
   },
   {
    "duration": 9293,
    "start_time": "2022-05-19T22:55:22.233Z"
   },
   {
    "duration": 1106,
    "start_time": "2022-05-19T22:55:31.535Z"
   },
   {
    "duration": 301,
    "start_time": "2022-05-19T22:55:32.729Z"
   },
   {
    "duration": 91,
    "start_time": "2022-05-19T22:55:33.036Z"
   },
   {
    "duration": 389,
    "start_time": "2022-05-19T22:55:33.137Z"
   },
   {
    "duration": 98,
    "start_time": "2022-05-19T22:55:33.530Z"
   },
   {
    "duration": 197,
    "start_time": "2022-05-19T22:55:33.631Z"
   },
   {
    "duration": 1008,
    "start_time": "2022-05-19T22:55:33.831Z"
   },
   {
    "duration": 794,
    "start_time": "2022-05-19T22:55:34.840Z"
   },
   {
    "duration": 306,
    "start_time": "2022-05-19T22:55:35.724Z"
   },
   {
    "duration": 1506,
    "start_time": "2022-05-19T22:55:36.124Z"
   },
   {
    "duration": 96,
    "start_time": "2022-05-19T22:55:37.632Z"
   },
   {
    "duration": 107,
    "start_time": "2022-05-19T22:55:37.825Z"
   },
   {
    "duration": 497,
    "start_time": "2022-05-19T22:55:37.934Z"
   },
   {
    "duration": 3404,
    "start_time": "2022-05-19T22:55:38.526Z"
   },
   {
    "duration": 496,
    "start_time": "2022-05-19T22:55:41.931Z"
   },
   {
    "duration": 391,
    "start_time": "2022-05-19T22:55:42.431Z"
   },
   {
    "duration": 4002,
    "start_time": "2022-05-19T22:55:42.826Z"
   },
   {
    "duration": 799,
    "start_time": "2022-05-19T22:55:46.832Z"
   },
   {
    "duration": 886,
    "start_time": "2022-05-19T22:55:47.638Z"
   },
   {
    "duration": 698,
    "start_time": "2022-05-19T22:55:48.526Z"
   },
   {
    "duration": 25500,
    "start_time": "2022-05-19T22:55:49.226Z"
   },
   {
    "duration": 395,
    "start_time": "2022-05-19T22:56:14.728Z"
   },
   {
    "duration": 404,
    "start_time": "2022-05-19T22:56:15.125Z"
   },
   {
    "duration": 795,
    "start_time": "2022-05-19T22:56:15.531Z"
   },
   {
    "duration": 498,
    "start_time": "2022-05-19T22:56:16.330Z"
   },
   {
    "duration": 193,
    "start_time": "2022-05-19T22:56:16.832Z"
   },
   {
    "duration": 111,
    "start_time": "2022-05-19T22:56:17.026Z"
   },
   {
    "duration": 107,
    "start_time": "2022-05-19T22:56:17.223Z"
   },
   {
    "duration": 1901,
    "start_time": "2022-05-19T22:56:17.332Z"
   },
   {
    "duration": 198,
    "start_time": "2022-05-19T22:56:19.324Z"
   },
   {
    "duration": 1401,
    "start_time": "2022-05-19T22:56:19.525Z"
   },
   {
    "duration": 198,
    "start_time": "2022-05-19T22:56:20.928Z"
   },
   {
    "duration": 102,
    "start_time": "2022-05-19T22:56:21.128Z"
   },
   {
    "duration": 2099,
    "start_time": "2022-05-19T22:56:21.232Z"
   },
   {
    "duration": 190,
    "start_time": "2022-05-19T22:56:23.333Z"
   },
   {
    "duration": 1294,
    "start_time": "2022-05-19T22:56:23.530Z"
   },
   {
    "duration": 108,
    "start_time": "2022-05-19T22:56:24.924Z"
   },
   {
    "duration": 1307,
    "start_time": "2022-05-19T22:56:25.123Z"
   },
   {
    "duration": 196,
    "start_time": "2022-05-19T22:56:26.434Z"
   },
   {
    "duration": 390,
    "start_time": "2022-05-19T22:56:26.632Z"
   },
   {
    "duration": 99,
    "start_time": "2022-05-19T22:56:27.025Z"
   },
   {
    "duration": 107,
    "start_time": "2022-05-19T22:56:27.127Z"
   },
   {
    "duration": 3306,
    "start_time": "2022-05-19T22:56:27.324Z"
   },
   {
    "duration": 2690,
    "start_time": "2022-05-19T22:56:30.637Z"
   },
   {
    "duration": 94,
    "start_time": "2022-05-19T22:56:33.330Z"
   },
   {
    "duration": 302,
    "start_time": "2022-05-19T22:56:33.522Z"
   },
   {
    "duration": 1906,
    "start_time": "2022-05-19T22:56:33.826Z"
   },
   {
    "duration": 1496,
    "start_time": "2022-05-19T22:56:35.835Z"
   },
   {
    "duration": 803,
    "start_time": "2022-05-19T22:56:37.333Z"
   },
   {
    "duration": 2794,
    "start_time": "2022-05-19T22:56:38.138Z"
   },
   {
    "duration": 78,
    "start_time": "2022-05-19T22:57:05.910Z"
   },
   {
    "duration": 25,
    "start_time": "2022-05-19T22:57:08.143Z"
   },
   {
    "duration": 3,
    "start_time": "2022-05-19T22:57:10.199Z"
   },
   {
    "duration": 145,
    "start_time": "2022-05-19T22:57:10.861Z"
   },
   {
    "duration": 3,
    "start_time": "2022-05-19T22:57:13.470Z"
   },
   {
    "duration": 608,
    "start_time": "2022-05-19T22:57:14.461Z"
   },
   {
    "duration": 3,
    "start_time": "2022-05-19T22:57:45.813Z"
   },
   {
    "duration": 825,
    "start_time": "2022-05-19T22:57:45.818Z"
   },
   {
    "duration": 124,
    "start_time": "2022-05-19T22:57:46.645Z"
   },
   {
    "duration": 57,
    "start_time": "2022-05-19T22:57:46.771Z"
   },
   {
    "duration": 5,
    "start_time": "2022-05-19T22:57:46.830Z"
   },
   {
    "duration": 34,
    "start_time": "2022-05-19T22:57:46.836Z"
   },
   {
    "duration": 6,
    "start_time": "2022-05-19T22:57:46.872Z"
   },
   {
    "duration": 13,
    "start_time": "2022-05-19T22:57:46.879Z"
   },
   {
    "duration": 89,
    "start_time": "2022-05-19T22:57:46.893Z"
   },
   {
    "duration": 81,
    "start_time": "2022-05-19T22:57:46.984Z"
   },
   {
    "duration": 32,
    "start_time": "2022-05-19T22:57:47.066Z"
   },
   {
    "duration": 137,
    "start_time": "2022-05-19T22:57:47.099Z"
   },
   {
    "duration": 8,
    "start_time": "2022-05-19T22:57:47.239Z"
   },
   {
    "duration": 9,
    "start_time": "2022-05-19T22:57:47.249Z"
   },
   {
    "duration": 39,
    "start_time": "2022-05-19T22:57:47.259Z"
   },
   {
    "duration": 287,
    "start_time": "2022-05-19T22:57:47.323Z"
   },
   {
    "duration": 40,
    "start_time": "2022-05-19T22:57:47.611Z"
   },
   {
    "duration": 32,
    "start_time": "2022-05-19T22:57:47.652Z"
   },
   {
    "duration": 288,
    "start_time": "2022-05-19T22:57:47.686Z"
   },
   {
    "duration": 67,
    "start_time": "2022-05-19T22:57:47.976Z"
   },
   {
    "duration": 63,
    "start_time": "2022-05-19T22:57:48.045Z"
   },
   {
    "duration": 63,
    "start_time": "2022-05-19T22:57:48.122Z"
   },
   {
    "duration": 2113,
    "start_time": "2022-05-19T22:57:48.187Z"
   },
   {
    "duration": 30,
    "start_time": "2022-05-19T22:57:50.302Z"
   },
   {
    "duration": 32,
    "start_time": "2022-05-19T22:57:50.333Z"
   },
   {
    "duration": 32,
    "start_time": "2022-05-19T22:57:50.367Z"
   },
   {
    "duration": 49,
    "start_time": "2022-05-19T22:57:50.401Z"
   },
   {
    "duration": 28,
    "start_time": "2022-05-19T22:57:50.452Z"
   },
   {
    "duration": 12,
    "start_time": "2022-05-19T22:57:50.481Z"
   },
   {
    "duration": 4,
    "start_time": "2022-05-19T22:57:50.494Z"
   },
   {
    "duration": 184,
    "start_time": "2022-05-19T22:57:50.500Z"
   },
   {
    "duration": 20,
    "start_time": "2022-05-19T22:57:50.685Z"
   },
   {
    "duration": 162,
    "start_time": "2022-05-19T22:57:50.707Z"
   },
   {
    "duration": 21,
    "start_time": "2022-05-19T22:57:50.871Z"
   },
   {
    "duration": 30,
    "start_time": "2022-05-19T22:57:50.893Z"
   },
   {
    "duration": 272,
    "start_time": "2022-05-19T22:57:50.924Z"
   },
   {
    "duration": 12,
    "start_time": "2022-05-19T22:57:51.199Z"
   },
   {
    "duration": 154,
    "start_time": "2022-05-19T22:57:51.212Z"
   },
   {
    "duration": 13,
    "start_time": "2022-05-19T22:57:51.367Z"
   },
   {
    "duration": 166,
    "start_time": "2022-05-19T22:57:51.382Z"
   },
   {
    "duration": 22,
    "start_time": "2022-05-19T22:57:51.550Z"
   },
   {
    "duration": 11,
    "start_time": "2022-05-19T22:57:51.573Z"
   },
   {
    "duration": 5,
    "start_time": "2022-05-19T22:57:51.586Z"
   },
   {
    "duration": 34,
    "start_time": "2022-05-19T22:57:51.593Z"
   },
   {
    "duration": 287,
    "start_time": "2022-05-19T22:57:51.629Z"
   },
   {
    "duration": 8,
    "start_time": "2022-05-19T22:57:59.033Z"
   },
   {
    "duration": 150,
    "start_time": "2022-05-19T22:58:01.345Z"
   },
   {
    "duration": 169,
    "start_time": "2022-05-19T22:58:01.740Z"
   },
   {
    "duration": 62,
    "start_time": "2022-05-19T22:58:04.170Z"
   },
   {
    "duration": 329,
    "start_time": "2022-05-19T22:58:05.728Z"
   },
   {
    "duration": 68,
    "start_time": "2022-05-19T22:58:09.303Z"
   },
   {
    "duration": 12,
    "start_time": "2022-05-19T22:58:11.242Z"
   },
   {
    "duration": 3,
    "start_time": "2022-05-19T22:58:12.498Z"
   },
   {
    "duration": 134,
    "start_time": "2022-05-19T22:58:13.856Z"
   },
   {
    "duration": 3,
    "start_time": "2022-05-19T22:58:16.468Z"
   },
   {
    "duration": 279867,
    "start_time": "2022-05-19T22:58:17.232Z"
   },
   {
    "duration": 966,
    "start_time": "2022-05-19T23:02:57.101Z"
   },
   {
    "duration": 5,
    "start_time": "2022-05-19T23:02:58.069Z"
   },
   {
    "duration": 3,
    "start_time": "2022-05-19T23:03:59.620Z"
   },
   {
    "duration": 6908,
    "start_time": "2022-05-19T23:04:01.023Z"
   },
   {
    "duration": 929,
    "start_time": "2022-05-19T23:04:11.909Z"
   },
   {
    "duration": 6,
    "start_time": "2022-05-19T23:04:13.855Z"
   },
   {
    "duration": 350,
    "start_time": "2022-05-19T23:04:16.948Z"
   },
   {
    "duration": 9534,
    "start_time": "2022-05-19T23:04:19.324Z"
   },
   {
    "duration": 3,
    "start_time": "2022-05-19T23:04:31.210Z"
   },
   {
    "duration": 100,
    "start_time": "2022-05-19T23:04:32.932Z"
   },
   {
    "duration": 12420,
    "start_time": "2022-05-19T23:04:58.504Z"
   },
   {
    "duration": 21,
    "start_time": "2022-05-19T23:05:13.374Z"
   },
   {
    "duration": 6,
    "start_time": "2022-05-19T23:05:16.532Z"
   },
   {
    "duration": 220,
    "start_time": "2022-05-19T23:05:53.543Z"
   },
   {
    "duration": 9,
    "start_time": "2022-05-19T23:06:06.601Z"
   },
   {
    "duration": 63,
    "start_time": "2022-05-19T23:06:12.756Z"
   },
   {
    "duration": 57,
    "start_time": "2022-05-19T23:06:23.075Z"
   },
   {
    "duration": 3,
    "start_time": "2022-05-19T23:06:25.259Z"
   },
   {
    "duration": 119,
    "start_time": "2022-05-19T23:06:27.292Z"
   },
   {
    "duration": 4,
    "start_time": "2022-05-19T23:06:29.672Z"
   },
   {
    "duration": 1181,
    "start_time": "2022-05-19T23:06:30.299Z"
   },
   {
    "duration": 3,
    "start_time": "2022-05-19T23:07:17.194Z"
   },
   {
    "duration": 756,
    "start_time": "2022-05-19T23:07:17.199Z"
   },
   {
    "duration": 128,
    "start_time": "2022-05-19T23:07:17.957Z"
   },
   {
    "duration": 52,
    "start_time": "2022-05-19T23:07:18.087Z"
   },
   {
    "duration": 5,
    "start_time": "2022-05-19T23:07:18.141Z"
   },
   {
    "duration": 22,
    "start_time": "2022-05-19T23:07:18.147Z"
   },
   {
    "duration": 3,
    "start_time": "2022-05-19T23:07:18.171Z"
   },
   {
    "duration": 14,
    "start_time": "2022-05-19T23:07:18.175Z"
   },
   {
    "duration": 97,
    "start_time": "2022-05-19T23:07:18.192Z"
   },
   {
    "duration": 74,
    "start_time": "2022-05-19T23:07:18.291Z"
   },
   {
    "duration": 32,
    "start_time": "2022-05-19T23:07:18.367Z"
   },
   {
    "duration": 135,
    "start_time": "2022-05-19T23:07:18.400Z"
   },
   {
    "duration": 7,
    "start_time": "2022-05-19T23:07:18.536Z"
   },
   {
    "duration": 9,
    "start_time": "2022-05-19T23:07:18.545Z"
   },
   {
    "duration": 30,
    "start_time": "2022-05-19T23:07:18.556Z"
   },
   {
    "duration": 293,
    "start_time": "2022-05-19T23:07:18.588Z"
   },
   {
    "duration": 51,
    "start_time": "2022-05-19T23:07:18.883Z"
   },
   {
    "duration": 35,
    "start_time": "2022-05-19T23:07:18.936Z"
   },
   {
    "duration": 306,
    "start_time": "2022-05-19T23:07:18.973Z"
   },
   {
    "duration": 68,
    "start_time": "2022-05-19T23:07:19.282Z"
   },
   {
    "duration": 72,
    "start_time": "2022-05-19T23:07:19.352Z"
   },
   {
    "duration": 61,
    "start_time": "2022-05-19T23:07:19.426Z"
   },
   {
    "duration": 2067,
    "start_time": "2022-05-19T23:07:19.489Z"
   },
   {
    "duration": 29,
    "start_time": "2022-05-19T23:07:21.559Z"
   },
   {
    "duration": 41,
    "start_time": "2022-05-19T23:07:21.589Z"
   },
   {
    "duration": 36,
    "start_time": "2022-05-19T23:07:21.631Z"
   },
   {
    "duration": 35,
    "start_time": "2022-05-19T23:07:21.668Z"
   },
   {
    "duration": 27,
    "start_time": "2022-05-19T23:07:21.704Z"
   },
   {
    "duration": 10,
    "start_time": "2022-05-19T23:07:21.732Z"
   },
   {
    "duration": 3,
    "start_time": "2022-05-19T23:07:21.744Z"
   },
   {
    "duration": 182,
    "start_time": "2022-05-19T23:07:21.748Z"
   },
   {
    "duration": 21,
    "start_time": "2022-05-19T23:07:21.932Z"
   },
   {
    "duration": 164,
    "start_time": "2022-05-19T23:07:21.955Z"
   },
   {
    "duration": 23,
    "start_time": "2022-05-19T23:07:22.123Z"
   },
   {
    "duration": 11,
    "start_time": "2022-05-19T23:07:22.148Z"
   },
   {
    "duration": 190,
    "start_time": "2022-05-19T23:07:22.161Z"
   },
   {
    "duration": 12,
    "start_time": "2022-05-19T23:07:22.353Z"
   },
   {
    "duration": 153,
    "start_time": "2022-05-19T23:07:22.367Z"
   },
   {
    "duration": 14,
    "start_time": "2022-05-19T23:07:22.526Z"
   },
   {
    "duration": 181,
    "start_time": "2022-05-19T23:07:22.542Z"
   },
   {
    "duration": 19,
    "start_time": "2022-05-19T23:07:22.724Z"
   },
   {
    "duration": 9,
    "start_time": "2022-05-19T23:07:22.745Z"
   },
   {
    "duration": 6,
    "start_time": "2022-05-19T23:07:22.756Z"
   },
   {
    "duration": 10,
    "start_time": "2022-05-19T23:07:22.764Z"
   },
   {
    "duration": 304,
    "start_time": "2022-05-19T23:07:22.776Z"
   },
   {
    "duration": 290,
    "start_time": "2022-05-19T23:07:26.653Z"
   },
   {
    "duration": 42,
    "start_time": "2022-05-19T23:07:30.920Z"
   },
   {
    "duration": 8,
    "start_time": "2022-05-19T23:07:36.307Z"
   },
   {
    "duration": 155,
    "start_time": "2022-05-19T23:07:44.940Z"
   },
   {
    "duration": 199,
    "start_time": "2022-05-19T23:07:46.167Z"
   },
   {
    "duration": 68,
    "start_time": "2022-05-19T23:07:49.112Z"
   },
   {
    "duration": 270,
    "start_time": "2022-05-19T23:07:55.115Z"
   },
   {
    "duration": 105,
    "start_time": "2022-05-19T23:07:58.984Z"
   },
   {
    "duration": 27,
    "start_time": "2022-05-19T23:08:05.147Z"
   },
   {
    "duration": 3,
    "start_time": "2022-05-19T23:08:11.590Z"
   },
   {
    "duration": 304,
    "start_time": "2022-05-19T23:08:12.867Z"
   },
   {
    "duration": 3,
    "start_time": "2022-05-19T23:08:16.293Z"
   },
   {
    "duration": 263485,
    "start_time": "2022-05-19T23:08:17.488Z"
   },
   {
    "duration": 833,
    "start_time": "2022-05-19T23:12:40.975Z"
   },
   {
    "duration": 13,
    "start_time": "2022-05-19T23:12:41.810Z"
   },
   {
    "duration": 2,
    "start_time": "2022-05-19T23:14:03.575Z"
   },
   {
    "duration": 6884,
    "start_time": "2022-05-19T23:14:04.456Z"
   },
   {
    "duration": 904,
    "start_time": "2022-05-19T23:14:15.725Z"
   },
   {
    "duration": 5,
    "start_time": "2022-05-19T23:14:16.631Z"
   },
   {
    "duration": 463,
    "start_time": "2022-05-19T23:15:01.969Z"
   },
   {
    "duration": 9812,
    "start_time": "2022-05-19T23:15:03.537Z"
   },
   {
    "duration": 2,
    "start_time": "2022-05-19T23:15:15.077Z"
   },
   {
    "duration": 13686,
    "start_time": "2022-05-19T23:15:18.145Z"
   },
   {
    "duration": 189,
    "start_time": "2022-05-19T23:15:31.834Z"
   },
   {
    "duration": 8,
    "start_time": "2022-05-19T23:15:32.026Z"
   },
   {
    "duration": 3,
    "start_time": "2022-05-19T23:16:08.770Z"
   },
   {
    "duration": 851,
    "start_time": "2022-05-19T23:16:08.775Z"
   },
   {
    "duration": 131,
    "start_time": "2022-05-19T23:16:09.628Z"
   },
   {
    "duration": 45,
    "start_time": "2022-05-19T23:16:09.761Z"
   },
   {
    "duration": 19,
    "start_time": "2022-05-19T23:16:09.808Z"
   },
   {
    "duration": 33,
    "start_time": "2022-05-19T23:16:09.829Z"
   },
   {
    "duration": 4,
    "start_time": "2022-05-19T23:16:09.864Z"
   },
   {
    "duration": 15,
    "start_time": "2022-05-19T23:16:09.869Z"
   },
   {
    "duration": 104,
    "start_time": "2022-05-19T23:16:09.886Z"
   },
   {
    "duration": 81,
    "start_time": "2022-05-19T23:16:09.993Z"
   },
   {
    "duration": 33,
    "start_time": "2022-05-19T23:16:10.076Z"
   },
   {
    "duration": 166,
    "start_time": "2022-05-19T23:16:10.111Z"
   },
   {
    "duration": 8,
    "start_time": "2022-05-19T23:16:10.279Z"
   },
   {
    "duration": 9,
    "start_time": "2022-05-19T23:16:10.289Z"
   },
   {
    "duration": 56,
    "start_time": "2022-05-19T23:16:10.299Z"
   },
   {
    "duration": 293,
    "start_time": "2022-05-19T23:16:10.356Z"
   },
   {
    "duration": 38,
    "start_time": "2022-05-19T23:16:10.651Z"
   },
   {
    "duration": 48,
    "start_time": "2022-05-19T23:16:10.691Z"
   },
   {
    "duration": 298,
    "start_time": "2022-05-19T23:16:10.741Z"
   },
   {
    "duration": 58,
    "start_time": "2022-05-19T23:16:11.041Z"
   },
   {
    "duration": 61,
    "start_time": "2022-05-19T23:16:14.002Z"
   },
   {
    "duration": 61,
    "start_time": "2022-05-19T23:16:14.897Z"
   },
   {
    "duration": 4102,
    "start_time": "2022-05-19T23:16:27.764Z"
   },
   {
    "duration": 35,
    "start_time": "2022-05-19T23:16:31.868Z"
   },
   {
    "duration": 31,
    "start_time": "2022-05-19T23:16:35.165Z"
   },
   {
    "duration": 36,
    "start_time": "2022-05-19T23:16:35.928Z"
   },
   {
    "duration": 31,
    "start_time": "2022-05-19T23:16:38.247Z"
   },
   {
    "duration": 12,
    "start_time": "2022-05-19T23:16:39.485Z"
   },
   {
    "duration": 11,
    "start_time": "2022-05-19T23:16:43.413Z"
   },
   {
    "duration": 9,
    "start_time": "2022-05-19T23:17:16.602Z"
   },
   {
    "duration": 4,
    "start_time": "2022-05-19T23:17:42.140Z"
   },
   {
    "duration": 164,
    "start_time": "2022-05-19T23:17:43.527Z"
   },
   {
    "duration": 18,
    "start_time": "2022-05-19T23:17:47.219Z"
   },
   {
    "duration": 269,
    "start_time": "2022-05-19T23:17:47.885Z"
   },
   {
    "duration": 22,
    "start_time": "2022-05-19T23:17:51.096Z"
   },
   {
    "duration": 11,
    "start_time": "2022-05-19T23:17:55.326Z"
   },
   {
    "duration": 158,
    "start_time": "2022-05-19T23:17:56.284Z"
   },
   {
    "duration": 11,
    "start_time": "2022-05-19T23:17:59.897Z"
   },
   {
    "duration": 138,
    "start_time": "2022-05-19T23:18:00.617Z"
   },
   {
    "duration": 13,
    "start_time": "2022-05-19T23:18:04.526Z"
   },
   {
    "duration": 140,
    "start_time": "2022-05-19T23:18:07.140Z"
   },
   {
    "duration": 21,
    "start_time": "2022-05-19T23:18:10.053Z"
   },
   {
    "duration": 11,
    "start_time": "2022-05-19T23:18:14.992Z"
   },
   {
    "duration": 5,
    "start_time": "2022-05-19T23:18:20.111Z"
   },
   {
    "duration": 10,
    "start_time": "2022-05-19T23:18:28.222Z"
   },
   {
    "duration": 4,
    "start_time": "2022-05-19T23:18:39.579Z"
   },
   {
    "duration": 826,
    "start_time": "2022-05-19T23:18:39.585Z"
   },
   {
    "duration": 129,
    "start_time": "2022-05-19T23:18:40.413Z"
   },
   {
    "duration": 50,
    "start_time": "2022-05-19T23:18:40.544Z"
   },
   {
    "duration": 6,
    "start_time": "2022-05-19T23:18:40.596Z"
   },
   {
    "duration": 30,
    "start_time": "2022-05-19T23:18:40.624Z"
   },
   {
    "duration": 24,
    "start_time": "2022-05-19T23:18:40.657Z"
   },
   {
    "duration": 21,
    "start_time": "2022-05-19T23:18:40.683Z"
   },
   {
    "duration": 90,
    "start_time": "2022-05-19T23:18:40.706Z"
   },
   {
    "duration": 75,
    "start_time": "2022-05-19T23:18:40.799Z"
   },
   {
    "duration": 31,
    "start_time": "2022-05-19T23:18:40.877Z"
   },
   {
    "duration": 154,
    "start_time": "2022-05-19T23:18:40.910Z"
   },
   {
    "duration": 8,
    "start_time": "2022-05-19T23:18:41.065Z"
   },
   {
    "duration": 20,
    "start_time": "2022-05-19T23:18:41.075Z"
   },
   {
    "duration": 38,
    "start_time": "2022-05-19T23:18:41.097Z"
   },
   {
    "duration": 287,
    "start_time": "2022-05-19T23:18:41.137Z"
   },
   {
    "duration": 39,
    "start_time": "2022-05-19T23:18:41.426Z"
   },
   {
    "duration": 33,
    "start_time": "2022-05-19T23:18:41.467Z"
   },
   {
    "duration": 305,
    "start_time": "2022-05-19T23:18:41.502Z"
   },
   {
    "duration": 60,
    "start_time": "2022-05-19T23:18:41.809Z"
   },
   {
    "duration": 72,
    "start_time": "2022-05-19T23:18:41.871Z"
   },
   {
    "duration": 83,
    "start_time": "2022-05-19T23:18:41.944Z"
   },
   {
    "duration": 4087,
    "start_time": "2022-05-19T23:18:42.029Z"
   },
   {
    "duration": 30,
    "start_time": "2022-05-19T23:18:46.118Z"
   },
   {
    "duration": 36,
    "start_time": "2022-05-19T23:18:46.149Z"
   },
   {
    "duration": 44,
    "start_time": "2022-05-19T23:18:46.187Z"
   },
   {
    "duration": 49,
    "start_time": "2022-05-19T23:18:46.233Z"
   },
   {
    "duration": 13,
    "start_time": "2022-05-19T23:18:46.284Z"
   },
   {
    "duration": 3,
    "start_time": "2022-05-19T23:18:46.301Z"
   },
   {
    "duration": 180,
    "start_time": "2022-05-19T23:18:46.306Z"
   },
   {
    "duration": 15,
    "start_time": "2022-05-19T23:18:46.488Z"
   },
   {
    "duration": 158,
    "start_time": "2022-05-19T23:18:46.505Z"
   },
   {
    "duration": 21,
    "start_time": "2022-05-19T23:18:46.664Z"
   },
   {
    "duration": 10,
    "start_time": "2022-05-19T23:18:46.687Z"
   },
   {
    "duration": 183,
    "start_time": "2022-05-19T23:18:46.698Z"
   },
   {
    "duration": 12,
    "start_time": "2022-05-19T23:18:46.882Z"
   },
   {
    "duration": 145,
    "start_time": "2022-05-19T23:18:46.896Z"
   },
   {
    "duration": 12,
    "start_time": "2022-05-19T23:18:47.043Z"
   },
   {
    "duration": 155,
    "start_time": "2022-05-19T23:18:47.056Z"
   },
   {
    "duration": 24,
    "start_time": "2022-05-19T23:18:47.213Z"
   },
   {
    "duration": 10,
    "start_time": "2022-05-19T23:18:47.239Z"
   },
   {
    "duration": 272,
    "start_time": "2022-05-19T23:18:57.669Z"
   },
   {
    "duration": 305,
    "start_time": "2022-05-19T23:19:04.691Z"
   },
   {
    "duration": 44,
    "start_time": "2022-05-19T23:19:08.375Z"
   },
   {
    "duration": 32,
    "start_time": "2022-05-19T23:19:48.239Z"
   },
   {
    "duration": 7,
    "start_time": "2022-05-19T23:19:53.711Z"
   },
   {
    "duration": 155,
    "start_time": "2022-05-19T23:19:57.125Z"
   },
   {
    "duration": 192,
    "start_time": "2022-05-19T23:19:57.421Z"
   },
   {
    "duration": 69,
    "start_time": "2022-05-19T23:19:58.416Z"
   },
   {
    "duration": 270,
    "start_time": "2022-05-19T23:20:00.680Z"
   },
   {
    "duration": 26,
    "start_time": "2022-05-19T23:20:10.825Z"
   },
   {
    "duration": 68,
    "start_time": "2022-05-19T23:20:21.319Z"
   },
   {
    "duration": 106,
    "start_time": "2022-05-19T23:20:29.862Z"
   },
   {
    "duration": 19,
    "start_time": "2022-05-19T23:20:31.391Z"
   },
   {
    "duration": 14,
    "start_time": "2022-05-19T23:21:00.997Z"
   },
   {
    "duration": 30,
    "start_time": "2022-05-19T23:21:07.366Z"
   },
   {
    "duration": 28,
    "start_time": "2022-05-19T23:21:31.247Z"
   },
   {
    "duration": 124,
    "start_time": "2022-05-19T23:21:42.252Z"
   },
   {
    "duration": 25,
    "start_time": "2022-05-19T23:21:43.179Z"
   },
   {
    "duration": 3,
    "start_time": "2022-05-19T23:21:44.342Z"
   },
   {
    "duration": 312,
    "start_time": "2022-05-19T23:21:45.868Z"
   },
   {
    "duration": 4,
    "start_time": "2022-05-19T23:21:47.968Z"
   },
   {
    "duration": 260318,
    "start_time": "2022-05-19T23:21:48.670Z"
   },
   {
    "duration": 748,
    "start_time": "2022-05-19T23:26:08.991Z"
   },
   {
    "duration": 5,
    "start_time": "2022-05-19T23:26:09.741Z"
   },
   {
    "duration": 4,
    "start_time": "2022-05-19T23:26:09.749Z"
   },
   {
    "duration": 6570,
    "start_time": "2022-05-19T23:26:09.754Z"
   },
   {
    "duration": 909,
    "start_time": "2022-05-19T23:26:16.326Z"
   },
   {
    "duration": 90,
    "start_time": "2022-05-19T23:26:17.237Z"
   },
   {
    "duration": 320,
    "start_time": "2022-05-19T23:26:17.329Z"
   },
   {
    "duration": 5788,
    "start_time": "2022-05-19T23:26:17.651Z"
   },
   {
    "duration": 2,
    "start_time": "2022-05-19T23:26:23.441Z"
   },
   {
    "duration": 7085,
    "start_time": "2022-05-19T23:26:23.445Z"
   },
   {
    "duration": 100,
    "start_time": "2022-05-19T23:26:30.534Z"
   },
   {
    "duration": 189,
    "start_time": "2022-05-19T23:26:30.638Z"
   },
   {
    "duration": 422,
    "start_time": "2022-05-19T23:32:35.573Z"
   },
   {
    "duration": 11,
    "start_time": "2022-05-19T23:34:30.660Z"
   },
   {
    "duration": 3,
    "start_time": "2022-05-19T23:34:44.765Z"
   },
   {
    "duration": 3,
    "start_time": "2022-05-19T23:34:45.193Z"
   },
   {
    "duration": 3,
    "start_time": "2022-05-19T23:35:44.951Z"
   },
   {
    "duration": 364,
    "start_time": "2022-05-19T23:36:41.494Z"
   },
   {
    "duration": 242,
    "start_time": "2022-05-19T23:36:51.510Z"
   },
   {
    "duration": 3,
    "start_time": "2022-05-19T23:38:02.520Z"
   },
   {
    "duration": 313,
    "start_time": "2022-05-19T23:38:03.194Z"
   },
   {
    "duration": 3,
    "start_time": "2022-05-19T23:38:15.645Z"
   },
   {
    "duration": 278,
    "start_time": "2022-05-19T23:38:16.507Z"
   },
   {
    "duration": 4,
    "start_time": "2022-05-19T23:38:37.428Z"
   },
   {
    "duration": 255,
    "start_time": "2022-05-19T23:38:40.317Z"
   },
   {
    "duration": 3,
    "start_time": "2022-05-19T23:39:02.064Z"
   },
   {
    "duration": 407,
    "start_time": "2022-05-19T23:39:03.956Z"
   },
   {
    "duration": 3,
    "start_time": "2022-05-19T23:39:34.952Z"
   },
   {
    "duration": 281,
    "start_time": "2022-05-19T23:39:35.755Z"
   },
   {
    "duration": 2,
    "start_time": "2022-05-19T23:40:16.630Z"
   },
   {
    "duration": 154024,
    "start_time": "2022-05-19T23:40:26.742Z"
   },
   {
    "duration": 84,
    "start_time": "2022-05-19T23:43:00.769Z"
   },
   {
    "duration": 0,
    "start_time": "2022-05-19T23:43:00.856Z"
   },
   {
    "duration": 1352,
    "start_time": "2022-05-19T23:47:14.352Z"
   },
   {
    "duration": 885,
    "start_time": "2022-05-19T23:47:15.706Z"
   },
   {
    "duration": 134,
    "start_time": "2022-05-19T23:47:16.593Z"
   },
   {
    "duration": 52,
    "start_time": "2022-05-19T23:47:16.729Z"
   },
   {
    "duration": 12,
    "start_time": "2022-05-19T23:47:16.784Z"
   },
   {
    "duration": 52,
    "start_time": "2022-05-19T23:47:16.798Z"
   },
   {
    "duration": 3,
    "start_time": "2022-05-19T23:47:16.853Z"
   },
   {
    "duration": 19,
    "start_time": "2022-05-19T23:47:16.858Z"
   },
   {
    "duration": 89,
    "start_time": "2022-05-19T23:47:16.878Z"
   },
   {
    "duration": 90,
    "start_time": "2022-05-19T23:47:16.969Z"
   },
   {
    "duration": 35,
    "start_time": "2022-05-19T23:47:17.061Z"
   },
   {
    "duration": 163,
    "start_time": "2022-05-19T23:47:17.098Z"
   },
   {
    "duration": 8,
    "start_time": "2022-05-19T23:47:17.263Z"
   },
   {
    "duration": 11,
    "start_time": "2022-05-19T23:47:17.274Z"
   },
   {
    "duration": 69,
    "start_time": "2022-05-19T23:47:17.286Z"
   },
   {
    "duration": 285,
    "start_time": "2022-05-19T23:47:17.356Z"
   },
   {
    "duration": 37,
    "start_time": "2022-05-19T23:47:17.642Z"
   },
   {
    "duration": 46,
    "start_time": "2022-05-19T23:47:17.681Z"
   },
   {
    "duration": 297,
    "start_time": "2022-05-19T23:47:17.728Z"
   },
   {
    "duration": 58,
    "start_time": "2022-05-19T23:47:18.027Z"
   },
   {
    "duration": 77,
    "start_time": "2022-05-19T23:47:18.088Z"
   },
   {
    "duration": 71,
    "start_time": "2022-05-19T23:47:18.167Z"
   },
   {
    "duration": 4099,
    "start_time": "2022-05-19T23:47:18.240Z"
   },
   {
    "duration": 33,
    "start_time": "2022-05-19T23:47:22.341Z"
   },
   {
    "duration": 53,
    "start_time": "2022-05-19T23:47:22.375Z"
   },
   {
    "duration": 35,
    "start_time": "2022-05-19T23:47:22.430Z"
   },
   {
    "duration": 36,
    "start_time": "2022-05-19T23:47:22.467Z"
   },
   {
    "duration": 60,
    "start_time": "2022-05-19T23:47:22.505Z"
   },
   {
    "duration": 20,
    "start_time": "2022-05-19T23:47:22.567Z"
   },
   {
    "duration": 13,
    "start_time": "2022-05-19T23:47:22.589Z"
   },
   {
    "duration": 192,
    "start_time": "2022-05-19T23:47:22.603Z"
   },
   {
    "duration": 30,
    "start_time": "2022-05-19T23:47:22.797Z"
   },
   {
    "duration": 156,
    "start_time": "2022-05-19T23:47:22.829Z"
   },
   {
    "duration": 22,
    "start_time": "2022-05-19T23:47:22.987Z"
   },
   {
    "duration": 22,
    "start_time": "2022-05-19T23:47:23.011Z"
   },
   {
    "duration": 178,
    "start_time": "2022-05-19T23:47:23.034Z"
   },
   {
    "duration": 17,
    "start_time": "2022-05-19T23:47:23.213Z"
   },
   {
    "duration": 144,
    "start_time": "2022-05-19T23:47:23.232Z"
   },
   {
    "duration": 13,
    "start_time": "2022-05-19T23:47:23.378Z"
   },
   {
    "duration": 164,
    "start_time": "2022-05-19T23:47:23.393Z"
   },
   {
    "duration": 22,
    "start_time": "2022-05-19T23:47:23.561Z"
   },
   {
    "duration": 10,
    "start_time": "2022-05-19T23:47:23.584Z"
   },
   {
    "duration": 323,
    "start_time": "2022-05-19T23:47:23.596Z"
   },
   {
    "duration": 329,
    "start_time": "2022-05-19T23:47:23.922Z"
   },
   {
    "duration": 44,
    "start_time": "2022-05-19T23:47:24.252Z"
   },
   {
    "duration": 10,
    "start_time": "2022-05-19T23:47:24.298Z"
   },
   {
    "duration": 168,
    "start_time": "2022-05-19T23:47:24.309Z"
   },
   {
    "duration": 210,
    "start_time": "2022-05-19T23:47:24.479Z"
   },
   {
    "duration": 273,
    "start_time": "2022-05-19T23:47:24.691Z"
   },
   {
    "duration": 104,
    "start_time": "2022-05-19T23:47:31.626Z"
   },
   {
    "duration": 36,
    "start_time": "2022-05-19T23:47:32.818Z"
   },
   {
    "duration": 2,
    "start_time": "2022-05-19T23:47:34.848Z"
   },
   {
    "duration": 306,
    "start_time": "2022-05-19T23:47:35.693Z"
   },
   {
    "duration": 3,
    "start_time": "2022-05-19T23:47:42.097Z"
   },
   {
    "duration": 147,
    "start_time": "2022-05-19T23:48:31.668Z"
   },
   {
    "duration": 3,
    "start_time": "2022-05-19T23:48:58.076Z"
   },
   {
    "duration": 264500,
    "start_time": "2022-05-19T23:49:04.858Z"
   },
   {
    "duration": 722,
    "start_time": "2022-05-19T23:53:29.360Z"
   },
   {
    "duration": 4,
    "start_time": "2022-05-19T23:53:30.084Z"
   },
   {
    "duration": 6,
    "start_time": "2022-05-19T23:53:30.090Z"
   },
   {
    "duration": 6629,
    "start_time": "2022-05-19T23:53:30.097Z"
   },
   {
    "duration": 996,
    "start_time": "2022-05-19T23:53:36.727Z"
   },
   {
    "duration": 5,
    "start_time": "2022-05-19T23:53:37.725Z"
   },
   {
    "duration": 355,
    "start_time": "2022-05-19T23:53:37.732Z"
   },
   {
    "duration": 5902,
    "start_time": "2022-05-19T23:53:38.089Z"
   },
   {
    "duration": 2,
    "start_time": "2022-05-19T23:53:43.994Z"
   },
   {
    "duration": 7225,
    "start_time": "2022-05-19T23:53:43.998Z"
   },
   {
    "duration": 102,
    "start_time": "2022-05-19T23:53:51.226Z"
   },
   {
    "duration": 193,
    "start_time": "2022-05-19T23:53:51.331Z"
   },
   {
    "duration": 1301,
    "start_time": "2022-05-20T00:01:40.018Z"
   },
   {
    "duration": 811,
    "start_time": "2022-05-20T00:01:41.321Z"
   },
   {
    "duration": 132,
    "start_time": "2022-05-20T00:01:42.134Z"
   },
   {
    "duration": 63,
    "start_time": "2022-05-20T00:01:42.268Z"
   },
   {
    "duration": 9,
    "start_time": "2022-05-20T00:01:42.333Z"
   },
   {
    "duration": 31,
    "start_time": "2022-05-20T00:01:42.344Z"
   },
   {
    "duration": 6,
    "start_time": "2022-05-20T00:01:42.376Z"
   },
   {
    "duration": 41,
    "start_time": "2022-05-20T00:01:42.383Z"
   },
   {
    "duration": 78,
    "start_time": "2022-05-20T00:01:42.426Z"
   },
   {
    "duration": 120,
    "start_time": "2022-05-20T00:01:42.507Z"
   },
   {
    "duration": 31,
    "start_time": "2022-05-20T00:01:42.629Z"
   },
   {
    "duration": 145,
    "start_time": "2022-05-20T00:01:42.662Z"
   },
   {
    "duration": 15,
    "start_time": "2022-05-20T00:01:42.809Z"
   },
   {
    "duration": 11,
    "start_time": "2022-05-20T00:01:42.825Z"
   },
   {
    "duration": 46,
    "start_time": "2022-05-20T00:01:42.838Z"
   },
   {
    "duration": 311,
    "start_time": "2022-05-20T00:01:42.886Z"
   },
   {
    "duration": 47,
    "start_time": "2022-05-20T00:01:43.199Z"
   },
   {
    "duration": 36,
    "start_time": "2022-05-20T00:01:43.247Z"
   },
   {
    "duration": 315,
    "start_time": "2022-05-20T00:01:43.284Z"
   },
   {
    "duration": 67,
    "start_time": "2022-05-20T00:01:43.601Z"
   },
   {
    "duration": 76,
    "start_time": "2022-05-20T00:01:43.670Z"
   },
   {
    "duration": 78,
    "start_time": "2022-05-20T00:01:43.748Z"
   },
   {
    "duration": 4019,
    "start_time": "2022-05-20T00:01:43.828Z"
   },
   {
    "duration": 31,
    "start_time": "2022-05-20T00:01:47.849Z"
   },
   {
    "duration": 46,
    "start_time": "2022-05-20T00:01:47.881Z"
   },
   {
    "duration": 36,
    "start_time": "2022-05-20T00:01:47.929Z"
   },
   {
    "duration": 57,
    "start_time": "2022-05-20T00:01:47.967Z"
   },
   {
    "duration": 36,
    "start_time": "2022-05-20T00:01:48.027Z"
   },
   {
    "duration": 10,
    "start_time": "2022-05-20T00:01:48.065Z"
   },
   {
    "duration": 4,
    "start_time": "2022-05-20T00:01:48.077Z"
   },
   {
    "duration": 212,
    "start_time": "2022-05-20T00:01:48.082Z"
   },
   {
    "duration": 30,
    "start_time": "2022-05-20T00:01:48.295Z"
   },
   {
    "duration": 158,
    "start_time": "2022-05-20T00:01:48.327Z"
   },
   {
    "duration": 23,
    "start_time": "2022-05-20T00:01:48.487Z"
   },
   {
    "duration": 13,
    "start_time": "2022-05-20T00:01:48.522Z"
   },
   {
    "duration": 189,
    "start_time": "2022-05-20T00:01:48.536Z"
   },
   {
    "duration": 13,
    "start_time": "2022-05-20T00:01:48.727Z"
   },
   {
    "duration": 170,
    "start_time": "2022-05-20T00:01:48.742Z"
   },
   {
    "duration": 13,
    "start_time": "2022-05-20T00:01:48.922Z"
   },
   {
    "duration": 167,
    "start_time": "2022-05-20T00:01:48.937Z"
   },
   {
    "duration": 31,
    "start_time": "2022-05-20T00:01:49.106Z"
   },
   {
    "duration": 10,
    "start_time": "2022-05-20T00:01:49.139Z"
   },
   {
    "duration": 351,
    "start_time": "2022-05-20T00:01:49.150Z"
   },
   {
    "duration": 311,
    "start_time": "2022-05-20T00:01:49.503Z"
   },
   {
    "duration": 43,
    "start_time": "2022-05-20T00:01:49.823Z"
   },
   {
    "duration": 9,
    "start_time": "2022-05-20T00:01:49.868Z"
   },
   {
    "duration": 190,
    "start_time": "2022-05-20T00:01:49.879Z"
   },
   {
    "duration": 219,
    "start_time": "2022-05-20T00:01:50.071Z"
   },
   {
    "duration": 286,
    "start_time": "2022-05-20T00:01:50.292Z"
   },
   {
    "duration": 122,
    "start_time": "2022-05-20T00:01:50.579Z"
   },
   {
    "duration": 41,
    "start_time": "2022-05-20T00:01:50.702Z"
   },
   {
    "duration": 2,
    "start_time": "2022-05-20T00:01:50.745Z"
   },
   {
    "duration": 321,
    "start_time": "2022-05-20T00:01:50.749Z"
   },
   {
    "duration": 4,
    "start_time": "2022-05-20T00:02:42.312Z"
   },
   {
    "duration": 3,
    "start_time": "2022-05-20T00:03:49.375Z"
   },
   {
    "duration": 262484,
    "start_time": "2022-05-20T00:03:56.631Z"
   },
   {
    "duration": 1,
    "start_time": "2022-05-20T00:08:19.116Z"
   },
   {
    "duration": 0,
    "start_time": "2022-05-20T00:08:19.118Z"
   },
   {
    "duration": 4,
    "start_time": "2022-05-20T00:10:27.571Z"
   },
   {
    "duration": 3,
    "start_time": "2022-05-20T00:10:43.938Z"
   },
   {
    "duration": 726,
    "start_time": "2022-05-20T00:10:45.292Z"
   },
   {
    "duration": 5,
    "start_time": "2022-05-20T00:10:47.797Z"
   },
   {
    "duration": 693,
    "start_time": "2022-05-20T00:11:04.101Z"
   },
   {
    "duration": 6,
    "start_time": "2022-05-20T00:11:04.891Z"
   },
   {
    "duration": 721,
    "start_time": "2022-05-20T00:11:13.720Z"
   },
   {
    "duration": 5,
    "start_time": "2022-05-20T00:11:14.519Z"
   },
   {
    "duration": 313,
    "start_time": "2022-05-20T00:13:28.235Z"
   },
   {
    "duration": 5809,
    "start_time": "2022-05-20T00:13:29.227Z"
   },
   {
    "duration": 3,
    "start_time": "2022-05-20T00:13:36.115Z"
   },
   {
    "duration": 7135,
    "start_time": "2022-05-20T00:13:37.089Z"
   },
   {
    "duration": 101,
    "start_time": "2022-05-20T00:13:44.231Z"
   },
   {
    "duration": 99,
    "start_time": "2022-05-20T00:13:44.425Z"
   },
   {
    "duration": 2,
    "start_time": "2022-05-20T00:14:20.847Z"
   },
   {
    "duration": 7089,
    "start_time": "2022-05-20T00:14:21.340Z"
   },
   {
    "duration": 4,
    "start_time": "2022-05-20T00:16:38.793Z"
   },
   {
    "duration": 2,
    "start_time": "2022-05-20T00:17:23.230Z"
   },
   {
    "duration": 261822,
    "start_time": "2022-05-20T00:17:26.714Z"
   },
   {
    "duration": 1030,
    "start_time": "2022-05-20T00:21:48.538Z"
   },
   {
    "duration": 5,
    "start_time": "2022-05-20T00:21:49.570Z"
   },
   {
    "duration": 6,
    "start_time": "2022-05-20T00:21:49.577Z"
   },
   {
    "duration": 6642,
    "start_time": "2022-05-20T00:21:49.584Z"
   },
   {
    "duration": 907,
    "start_time": "2022-05-20T00:21:56.228Z"
   },
   {
    "duration": 5,
    "start_time": "2022-05-20T00:21:57.223Z"
   },
   {
    "duration": 0,
    "start_time": "2022-05-20T00:21:57.258Z"
   },
   {
    "duration": 0,
    "start_time": "2022-05-20T00:21:57.260Z"
   },
   {
    "duration": 0,
    "start_time": "2022-05-20T00:21:57.260Z"
   },
   {
    "duration": 0,
    "start_time": "2022-05-20T00:21:57.261Z"
   },
   {
    "duration": 0,
    "start_time": "2022-05-20T00:21:57.263Z"
   },
   {
    "duration": 0,
    "start_time": "2022-05-20T00:21:57.264Z"
   },
   {
    "duration": 5,
    "start_time": "2022-05-20T00:23:03.790Z"
   },
   {
    "duration": 6565,
    "start_time": "2022-05-20T00:23:04.559Z"
   },
   {
    "duration": 920,
    "start_time": "2022-05-20T00:23:18.606Z"
   },
   {
    "duration": 5,
    "start_time": "2022-05-20T00:23:19.528Z"
   },
   {
    "duration": 12,
    "start_time": "2022-05-20T00:23:34.790Z"
   },
   {
    "duration": 718,
    "start_time": "2022-05-20T00:23:43.665Z"
   },
   {
    "duration": 3,
    "start_time": "2022-05-20T00:23:45.379Z"
   },
   {
    "duration": 7205,
    "start_time": "2022-05-20T00:23:48.518Z"
   },
   {
    "duration": 101,
    "start_time": "2022-05-20T00:23:55.726Z"
   },
   {
    "duration": 5,
    "start_time": "2022-05-20T00:23:56.193Z"
   },
   {
    "duration": 58,
    "start_time": "2022-05-20T00:25:08.236Z"
   },
   {
    "duration": 1288,
    "start_time": "2022-05-20T00:25:13.469Z"
   },
   {
    "duration": 856,
    "start_time": "2022-05-20T00:25:14.760Z"
   },
   {
    "duration": 131,
    "start_time": "2022-05-20T00:25:15.618Z"
   },
   {
    "duration": 53,
    "start_time": "2022-05-20T00:25:15.751Z"
   },
   {
    "duration": 7,
    "start_time": "2022-05-20T00:25:15.823Z"
   },
   {
    "duration": 36,
    "start_time": "2022-05-20T00:25:15.832Z"
   },
   {
    "duration": 5,
    "start_time": "2022-05-20T00:25:15.870Z"
   },
   {
    "duration": 16,
    "start_time": "2022-05-20T00:25:15.876Z"
   },
   {
    "duration": 109,
    "start_time": "2022-05-20T00:25:15.894Z"
   },
   {
    "duration": 82,
    "start_time": "2022-05-20T00:25:16.005Z"
   },
   {
    "duration": 44,
    "start_time": "2022-05-20T00:25:16.089Z"
   },
   {
    "duration": 155,
    "start_time": "2022-05-20T00:25:16.135Z"
   },
   {
    "duration": 9,
    "start_time": "2022-05-20T00:25:16.293Z"
   },
   {
    "duration": 13,
    "start_time": "2022-05-20T00:25:16.322Z"
   },
   {
    "duration": 50,
    "start_time": "2022-05-20T00:25:16.337Z"
   },
   {
    "duration": 300,
    "start_time": "2022-05-20T00:25:16.389Z"
   },
   {
    "duration": 45,
    "start_time": "2022-05-20T00:25:16.691Z"
   },
   {
    "duration": 35,
    "start_time": "2022-05-20T00:25:16.739Z"
   },
   {
    "duration": 305,
    "start_time": "2022-05-20T00:25:16.776Z"
   },
   {
    "duration": 67,
    "start_time": "2022-05-20T00:25:17.084Z"
   },
   {
    "duration": 72,
    "start_time": "2022-05-20T00:25:17.153Z"
   },
   {
    "duration": 69,
    "start_time": "2022-05-20T00:25:17.226Z"
   },
   {
    "duration": 4243,
    "start_time": "2022-05-20T00:25:17.297Z"
   },
   {
    "duration": 31,
    "start_time": "2022-05-20T00:25:21.542Z"
   },
   {
    "duration": 32,
    "start_time": "2022-05-20T00:25:21.575Z"
   },
   {
    "duration": 32,
    "start_time": "2022-05-20T00:25:21.622Z"
   },
   {
    "duration": 33,
    "start_time": "2022-05-20T00:25:21.655Z"
   },
   {
    "duration": 50,
    "start_time": "2022-05-20T00:25:21.690Z"
   },
   {
    "duration": 10,
    "start_time": "2022-05-20T00:25:21.741Z"
   },
   {
    "duration": 3,
    "start_time": "2022-05-20T00:25:21.753Z"
   },
   {
    "duration": 191,
    "start_time": "2022-05-20T00:25:21.757Z"
   },
   {
    "duration": 21,
    "start_time": "2022-05-20T00:25:21.950Z"
   },
   {
    "duration": 159,
    "start_time": "2022-05-20T00:25:21.973Z"
   },
   {
    "duration": 23,
    "start_time": "2022-05-20T00:25:22.133Z"
   },
   {
    "duration": 11,
    "start_time": "2022-05-20T00:25:22.158Z"
   },
   {
    "duration": 193,
    "start_time": "2022-05-20T00:25:22.171Z"
   },
   {
    "duration": 11,
    "start_time": "2022-05-20T00:25:22.366Z"
   },
   {
    "duration": 165,
    "start_time": "2022-05-20T00:25:22.379Z"
   },
   {
    "duration": 14,
    "start_time": "2022-05-20T00:25:22.546Z"
   },
   {
    "duration": 169,
    "start_time": "2022-05-20T00:25:22.563Z"
   },
   {
    "duration": 20,
    "start_time": "2022-05-20T00:25:22.736Z"
   },
   {
    "duration": 11,
    "start_time": "2022-05-20T00:25:22.758Z"
   },
   {
    "duration": 326,
    "start_time": "2022-05-20T00:25:22.771Z"
   },
   {
    "duration": 312,
    "start_time": "2022-05-20T00:25:23.099Z"
   },
   {
    "duration": 51,
    "start_time": "2022-05-20T00:25:23.413Z"
   },
   {
    "duration": 13,
    "start_time": "2022-05-20T00:25:23.466Z"
   },
   {
    "duration": 165,
    "start_time": "2022-05-20T00:25:23.481Z"
   },
   {
    "duration": 209,
    "start_time": "2022-05-20T00:25:23.648Z"
   },
   {
    "duration": 288,
    "start_time": "2022-05-20T00:25:23.858Z"
   },
   {
    "duration": 103,
    "start_time": "2022-05-20T00:25:24.147Z"
   },
   {
    "duration": 37,
    "start_time": "2022-05-20T00:25:24.252Z"
   },
   {
    "duration": 3,
    "start_time": "2022-05-20T00:25:24.290Z"
   },
   {
    "duration": 311,
    "start_time": "2022-05-20T00:25:24.294Z"
   },
   {
    "duration": 3,
    "start_time": "2022-05-20T00:25:27.875Z"
   },
   {
    "duration": 74578,
    "start_time": "2022-05-20T00:25:29.362Z"
   },
   {
    "duration": 0,
    "start_time": "2022-05-20T00:26:43.941Z"
   },
   {
    "duration": 3,
    "start_time": "2022-05-20T00:26:57.929Z"
   },
   {
    "duration": 3,
    "start_time": "2022-05-20T00:26:58.515Z"
   },
   {
    "duration": 7377,
    "start_time": "2022-05-20T00:27:05.211Z"
   },
   {
    "duration": 3,
    "start_time": "2022-05-20T00:27:14.096Z"
   },
   {
    "duration": 20269,
    "start_time": "2022-05-20T00:27:22.660Z"
   },
   {
    "duration": 3,
    "start_time": "2022-05-20T00:27:49.033Z"
   },
   {
    "duration": 118173,
    "start_time": "2022-05-20T00:27:49.362Z"
   },
   {
    "duration": 0,
    "start_time": "2022-05-20T00:29:47.537Z"
   },
   {
    "duration": 0,
    "start_time": "2022-05-20T00:29:47.538Z"
   },
   {
    "duration": 0,
    "start_time": "2022-05-20T00:29:47.539Z"
   },
   {
    "duration": 0,
    "start_time": "2022-05-20T00:29:47.540Z"
   },
   {
    "duration": 0,
    "start_time": "2022-05-20T00:29:47.541Z"
   },
   {
    "duration": 0,
    "start_time": "2022-05-20T00:29:47.542Z"
   },
   {
    "duration": 0,
    "start_time": "2022-05-20T00:29:47.543Z"
   },
   {
    "duration": 0,
    "start_time": "2022-05-20T00:29:47.544Z"
   },
   {
    "duration": 0,
    "start_time": "2022-05-20T00:29:47.546Z"
   },
   {
    "duration": 0,
    "start_time": "2022-05-20T00:29:47.547Z"
   },
   {
    "duration": 0,
    "start_time": "2022-05-20T00:29:47.548Z"
   },
   {
    "duration": 0,
    "start_time": "2022-05-20T00:29:47.549Z"
   },
   {
    "duration": 1423,
    "start_time": "2022-05-20T00:31:45.905Z"
   },
   {
    "duration": 818,
    "start_time": "2022-05-20T00:31:47.330Z"
   },
   {
    "duration": 119,
    "start_time": "2022-05-20T00:31:48.150Z"
   },
   {
    "duration": 56,
    "start_time": "2022-05-20T00:31:48.271Z"
   },
   {
    "duration": 10,
    "start_time": "2022-05-20T00:31:48.329Z"
   },
   {
    "duration": 33,
    "start_time": "2022-05-20T00:31:48.340Z"
   },
   {
    "duration": 3,
    "start_time": "2022-05-20T00:31:48.374Z"
   },
   {
    "duration": 18,
    "start_time": "2022-05-20T00:31:48.379Z"
   },
   {
    "duration": 92,
    "start_time": "2022-05-20T00:31:48.398Z"
   },
   {
    "duration": 78,
    "start_time": "2022-05-20T00:31:48.491Z"
   },
   {
    "duration": 31,
    "start_time": "2022-05-20T00:31:48.571Z"
   },
   {
    "duration": 131,
    "start_time": "2022-05-20T00:31:48.603Z"
   },
   {
    "duration": 7,
    "start_time": "2022-05-20T00:31:48.736Z"
   },
   {
    "duration": 9,
    "start_time": "2022-05-20T00:31:48.746Z"
   },
   {
    "duration": 67,
    "start_time": "2022-05-20T00:31:48.756Z"
   },
   {
    "duration": 290,
    "start_time": "2022-05-20T00:31:48.825Z"
   },
   {
    "duration": 40,
    "start_time": "2022-05-20T00:31:49.117Z"
   },
   {
    "duration": 32,
    "start_time": "2022-05-20T00:31:49.159Z"
   },
   {
    "duration": 310,
    "start_time": "2022-05-20T00:31:49.192Z"
   },
   {
    "duration": 60,
    "start_time": "2022-05-20T00:31:49.504Z"
   },
   {
    "duration": 68,
    "start_time": "2022-05-20T00:31:49.565Z"
   },
   {
    "duration": 62,
    "start_time": "2022-05-20T00:31:49.634Z"
   },
   {
    "duration": 3986,
    "start_time": "2022-05-20T00:31:49.698Z"
   },
   {
    "duration": 38,
    "start_time": "2022-05-20T00:31:53.686Z"
   },
   {
    "duration": 31,
    "start_time": "2022-05-20T00:31:53.725Z"
   },
   {
    "duration": 38,
    "start_time": "2022-05-20T00:31:53.757Z"
   },
   {
    "duration": 48,
    "start_time": "2022-05-20T00:31:53.796Z"
   },
   {
    "duration": 35,
    "start_time": "2022-05-20T00:31:53.846Z"
   },
   {
    "duration": 11,
    "start_time": "2022-05-20T00:31:53.883Z"
   },
   {
    "duration": 3,
    "start_time": "2022-05-20T00:31:53.896Z"
   },
   {
    "duration": 203,
    "start_time": "2022-05-20T00:31:53.901Z"
   },
   {
    "duration": 36,
    "start_time": "2022-05-20T00:31:54.106Z"
   },
   {
    "duration": 153,
    "start_time": "2022-05-20T00:31:54.144Z"
   },
   {
    "duration": 25,
    "start_time": "2022-05-20T00:31:54.299Z"
   },
   {
    "duration": 11,
    "start_time": "2022-05-20T00:31:54.326Z"
   },
   {
    "duration": 182,
    "start_time": "2022-05-20T00:31:54.341Z"
   },
   {
    "duration": 13,
    "start_time": "2022-05-20T00:31:54.525Z"
   },
   {
    "duration": 147,
    "start_time": "2022-05-20T00:31:54.539Z"
   },
   {
    "duration": 13,
    "start_time": "2022-05-20T00:31:54.687Z"
   },
   {
    "duration": 160,
    "start_time": "2022-05-20T00:31:54.702Z"
   },
   {
    "duration": 21,
    "start_time": "2022-05-20T00:31:54.866Z"
   },
   {
    "duration": 10,
    "start_time": "2022-05-20T00:31:54.889Z"
   },
   {
    "duration": 315,
    "start_time": "2022-05-20T00:31:54.900Z"
   },
   {
    "duration": 316,
    "start_time": "2022-05-20T00:31:55.216Z"
   },
   {
    "duration": 45,
    "start_time": "2022-05-20T00:31:55.534Z"
   },
   {
    "duration": 10,
    "start_time": "2022-05-20T00:31:55.581Z"
   },
   {
    "duration": 184,
    "start_time": "2022-05-20T00:31:55.593Z"
   },
   {
    "duration": 223,
    "start_time": "2022-05-20T00:31:55.779Z"
   },
   {
    "duration": 280,
    "start_time": "2022-05-20T00:31:56.003Z"
   },
   {
    "duration": 110,
    "start_time": "2022-05-20T00:31:56.285Z"
   },
   {
    "duration": 41,
    "start_time": "2022-05-20T00:31:56.397Z"
   },
   {
    "duration": 3,
    "start_time": "2022-05-20T00:31:56.440Z"
   },
   {
    "duration": 317,
    "start_time": "2022-05-20T00:31:56.445Z"
   },
   {
    "duration": 3,
    "start_time": "2022-05-20T00:31:56.764Z"
   },
   {
    "duration": 264014,
    "start_time": "2022-05-20T00:31:56.769Z"
   },
   {
    "duration": 120,
    "start_time": "2022-05-20T00:36:20.785Z"
   },
   {
    "duration": 0,
    "start_time": "2022-05-20T00:36:20.906Z"
   },
   {
    "duration": 0,
    "start_time": "2022-05-20T00:36:20.907Z"
   },
   {
    "duration": 0,
    "start_time": "2022-05-20T00:36:20.909Z"
   },
   {
    "duration": 0,
    "start_time": "2022-05-20T00:36:20.910Z"
   },
   {
    "duration": 0,
    "start_time": "2022-05-20T00:36:20.911Z"
   },
   {
    "duration": 0,
    "start_time": "2022-05-20T00:36:20.912Z"
   },
   {
    "duration": 0,
    "start_time": "2022-05-20T00:36:20.923Z"
   },
   {
    "duration": 0,
    "start_time": "2022-05-20T00:36:20.924Z"
   },
   {
    "duration": 0,
    "start_time": "2022-05-20T00:36:20.925Z"
   },
   {
    "duration": 0,
    "start_time": "2022-05-20T00:36:20.926Z"
   },
   {
    "duration": 0,
    "start_time": "2022-05-20T00:36:20.927Z"
   },
   {
    "duration": 716,
    "start_time": "2022-05-20T00:39:36.414Z"
   },
   {
    "duration": 5,
    "start_time": "2022-05-20T00:39:41.320Z"
   },
   {
    "duration": 5,
    "start_time": "2022-05-20T00:40:01.610Z"
   },
   {
    "duration": 6848,
    "start_time": "2022-05-20T00:40:02.486Z"
   },
   {
    "duration": 12,
    "start_time": "2022-05-20T00:40:17.142Z"
   },
   {
    "duration": 10,
    "start_time": "2022-05-20T00:40:22.266Z"
   },
   {
    "duration": 882,
    "start_time": "2022-05-20T00:40:28.354Z"
   },
   {
    "duration": 5,
    "start_time": "2022-05-20T00:40:30.089Z"
   },
   {
    "duration": 322,
    "start_time": "2022-05-20T00:40:42.846Z"
   },
   {
    "duration": 5722,
    "start_time": "2022-05-20T00:40:44.349Z"
   },
   {
    "duration": 3,
    "start_time": "2022-05-20T00:40:50.073Z"
   },
   {
    "duration": 7056,
    "start_time": "2022-05-20T00:40:50.077Z"
   },
   {
    "duration": 103,
    "start_time": "2022-05-20T00:40:57.225Z"
   },
   {
    "duration": 0,
    "start_time": "2022-05-20T00:40:57.329Z"
   },
   {
    "duration": 16,
    "start_time": "2022-05-20T00:41:03.497Z"
   },
   {
    "duration": 4,
    "start_time": "2022-05-20T00:41:05.571Z"
   },
   {
    "duration": 3,
    "start_time": "2022-05-20T00:49:33.893Z"
   },
   {
    "duration": 12802,
    "start_time": "2022-05-20T00:49:35.245Z"
   },
   {
    "duration": 110,
    "start_time": "2022-05-20T00:49:48.049Z"
   },
   {
    "duration": 5,
    "start_time": "2022-05-20T00:49:48.160Z"
   },
   {
    "duration": 4,
    "start_time": "2022-05-20T00:55:19.198Z"
   },
   {
    "duration": 13054,
    "start_time": "2022-05-20T00:55:20.054Z"
   },
   {
    "duration": 117,
    "start_time": "2022-05-20T00:55:33.110Z"
   },
   {
    "duration": 6,
    "start_time": "2022-05-20T00:55:33.229Z"
   },
   {
    "duration": 4,
    "start_time": "2022-05-20T00:56:10.707Z"
   },
   {
    "duration": 12657,
    "start_time": "2022-05-20T00:56:12.279Z"
   },
   {
    "duration": 116,
    "start_time": "2022-05-20T00:56:24.938Z"
   },
   {
    "duration": 5,
    "start_time": "2022-05-20T00:56:25.055Z"
   },
   {
    "duration": 4,
    "start_time": "2022-05-20T00:56:59.200Z"
   },
   {
    "duration": 19827,
    "start_time": "2022-05-20T00:56:59.671Z"
   },
   {
    "duration": 142,
    "start_time": "2022-05-20T00:57:19.499Z"
   },
   {
    "duration": 6,
    "start_time": "2022-05-20T00:57:19.642Z"
   },
   {
    "duration": 3,
    "start_time": "2022-05-20T00:57:36.502Z"
   },
   {
    "duration": 12769,
    "start_time": "2022-05-20T00:57:37.007Z"
   },
   {
    "duration": 110,
    "start_time": "2022-05-20T00:57:49.778Z"
   },
   {
    "duration": 5,
    "start_time": "2022-05-20T00:57:49.890Z"
   },
   {
    "duration": 3,
    "start_time": "2022-05-20T00:58:01.739Z"
   },
   {
    "duration": 22491,
    "start_time": "2022-05-20T00:58:02.186Z"
   },
   {
    "duration": 141,
    "start_time": "2022-05-20T00:58:24.679Z"
   },
   {
    "duration": 5,
    "start_time": "2022-05-20T00:58:24.822Z"
   },
   {
    "duration": 3,
    "start_time": "2022-05-20T00:58:55.832Z"
   },
   {
    "duration": 196795,
    "start_time": "2022-05-20T00:58:57.397Z"
   },
   {
    "duration": 0,
    "start_time": "2022-05-20T01:02:14.194Z"
   },
   {
    "duration": 0,
    "start_time": "2022-05-20T01:02:14.196Z"
   },
   {
    "duration": 3,
    "start_time": "2022-05-20T01:02:16.018Z"
   },
   {
    "duration": 22710,
    "start_time": "2022-05-20T01:02:16.801Z"
   },
   {
    "duration": 140,
    "start_time": "2022-05-20T01:02:39.513Z"
   },
   {
    "duration": 5,
    "start_time": "2022-05-20T01:02:39.655Z"
   },
   {
    "duration": 5518,
    "start_time": "2022-05-20T01:02:39.661Z"
   },
   {
    "duration": 433,
    "start_time": "2022-05-20T01:03:08.143Z"
   },
   {
    "duration": 2,
    "start_time": "2022-05-20T01:03:20.902Z"
   },
   {
    "duration": 5,
    "start_time": "2022-05-20T01:05:50.096Z"
   },
   {
    "duration": 23020,
    "start_time": "2022-05-20T01:05:50.606Z"
   },
   {
    "duration": 150,
    "start_time": "2022-05-20T01:06:13.628Z"
   },
   {
    "duration": 6,
    "start_time": "2022-05-20T01:06:13.779Z"
   },
   {
    "duration": 3,
    "start_time": "2022-05-20T01:06:25.819Z"
   },
   {
    "duration": 22675,
    "start_time": "2022-05-20T01:06:26.641Z"
   },
   {
    "duration": 151,
    "start_time": "2022-05-20T01:06:49.318Z"
   },
   {
    "duration": 6,
    "start_time": "2022-05-20T01:06:49.470Z"
   },
   {
    "duration": 4,
    "start_time": "2022-05-20T01:07:02.047Z"
   },
   {
    "duration": 22952,
    "start_time": "2022-05-20T01:07:02.594Z"
   },
   {
    "duration": 148,
    "start_time": "2022-05-20T01:07:25.549Z"
   },
   {
    "duration": 6,
    "start_time": "2022-05-20T01:07:25.698Z"
   },
   {
    "duration": 4,
    "start_time": "2022-05-20T01:08:39.125Z"
   },
   {
    "duration": 19746,
    "start_time": "2022-05-20T01:08:40.063Z"
   },
   {
    "duration": 143,
    "start_time": "2022-05-20T01:08:59.811Z"
   },
   {
    "duration": 5,
    "start_time": "2022-05-20T01:08:59.955Z"
   },
   {
    "duration": 36,
    "start_time": "2022-05-20T01:11:44.436Z"
   },
   {
    "duration": 37,
    "start_time": "2022-05-20T01:11:57.293Z"
   },
   {
    "duration": 21,
    "start_time": "2022-05-20T01:12:28.238Z"
   },
   {
    "duration": 18,
    "start_time": "2022-05-20T01:12:43.759Z"
   },
   {
    "duration": 11,
    "start_time": "2022-05-20T01:13:38.166Z"
   },
   {
    "duration": 23,
    "start_time": "2022-05-20T01:14:10.249Z"
   },
   {
    "duration": 6,
    "start_time": "2022-05-20T01:14:35.144Z"
   },
   {
    "duration": 19,
    "start_time": "2022-05-20T01:15:06.347Z"
   },
   {
    "duration": 16,
    "start_time": "2022-05-20T01:15:23.145Z"
   },
   {
    "duration": 41912,
    "start_time": "2022-05-20T01:16:57.322Z"
   },
   {
    "duration": 0,
    "start_time": "2022-05-20T01:17:39.236Z"
   },
   {
    "duration": 20,
    "start_time": "2022-05-20T01:17:59.947Z"
   },
   {
    "duration": 7870,
    "start_time": "2022-05-20T01:18:23.568Z"
   },
   {
    "duration": 1066032,
    "start_time": "2022-05-20T01:18:35.394Z"
   },
   {
    "duration": 0,
    "start_time": "2022-05-20T01:36:21.428Z"
   },
   {
    "duration": 3,
    "start_time": "2022-05-20T01:38:31.317Z"
   },
   {
    "duration": 6219,
    "start_time": "2022-05-20T01:38:32.111Z"
   },
   {
    "duration": 904,
    "start_time": "2022-05-20T01:38:39.230Z"
   },
   {
    "duration": 5,
    "start_time": "2022-05-20T01:38:54.510Z"
   },
   {
    "duration": 3,
    "start_time": "2022-05-20T01:39:27.534Z"
   },
   {
    "duration": 6582,
    "start_time": "2022-05-20T01:39:29.650Z"
   },
   {
    "duration": 908,
    "start_time": "2022-05-20T01:39:37.928Z"
   },
   {
    "duration": 6,
    "start_time": "2022-05-20T01:39:51.337Z"
   },
   {
    "duration": 2,
    "start_time": "2022-05-20T01:40:10.728Z"
   },
   {
    "duration": 4365,
    "start_time": "2022-05-20T01:40:12.258Z"
   },
   {
    "duration": 883,
    "start_time": "2022-05-20T01:40:17.955Z"
   },
   {
    "duration": 5,
    "start_time": "2022-05-20T01:40:24.861Z"
   },
   {
    "duration": 3,
    "start_time": "2022-05-20T01:42:29.880Z"
   },
   {
    "duration": 3,
    "start_time": "2022-05-20T01:42:55.166Z"
   },
   {
    "duration": 4481,
    "start_time": "2022-05-20T01:42:56.644Z"
   },
   {
    "duration": 909,
    "start_time": "2022-05-20T01:43:08.630Z"
   },
   {
    "duration": 3,
    "start_time": "2022-05-20T01:43:25.417Z"
   },
   {
    "duration": 4283,
    "start_time": "2022-05-20T01:43:27.044Z"
   },
   {
    "duration": 927,
    "start_time": "2022-05-20T01:43:34.011Z"
   },
   {
    "duration": 5,
    "start_time": "2022-05-20T01:43:36.322Z"
   },
   {
    "duration": 3,
    "start_time": "2022-05-20T01:44:39.669Z"
   },
   {
    "duration": 3,
    "start_time": "2022-05-20T01:45:17.066Z"
   },
   {
    "duration": 6870,
    "start_time": "2022-05-20T01:45:18.710Z"
   },
   {
    "duration": 3,
    "start_time": "2022-05-20T01:45:38.446Z"
   },
   {
    "duration": 5377,
    "start_time": "2022-05-20T01:45:38.955Z"
   },
   {
    "duration": 6,
    "start_time": "2022-05-20T01:45:45.962Z"
   },
   {
    "duration": 3,
    "start_time": "2022-05-20T01:46:05.354Z"
   },
   {
    "duration": 52001,
    "start_time": "2022-05-20T01:46:06.155Z"
   },
   {
    "duration": 0,
    "start_time": "2022-05-20T01:46:58.157Z"
   },
   {
    "duration": 4,
    "start_time": "2022-05-20T01:47:07.887Z"
   },
   {
    "duration": 9339,
    "start_time": "2022-05-20T01:47:16.395Z"
   },
   {
    "duration": 5,
    "start_time": "2022-05-20T01:47:25.736Z"
   },
   {
    "duration": 1323,
    "start_time": "2022-05-20T01:48:39.812Z"
   },
   {
    "duration": 834,
    "start_time": "2022-05-20T01:48:41.136Z"
   },
   {
    "duration": 136,
    "start_time": "2022-05-20T01:48:41.972Z"
   },
   {
    "duration": 53,
    "start_time": "2022-05-20T01:48:42.122Z"
   },
   {
    "duration": 8,
    "start_time": "2022-05-20T01:48:42.178Z"
   },
   {
    "duration": 42,
    "start_time": "2022-05-20T01:48:42.188Z"
   },
   {
    "duration": 6,
    "start_time": "2022-05-20T01:48:42.232Z"
   },
   {
    "duration": 15,
    "start_time": "2022-05-20T01:48:42.240Z"
   },
   {
    "duration": 93,
    "start_time": "2022-05-20T01:48:42.256Z"
   },
   {
    "duration": 83,
    "start_time": "2022-05-20T01:48:42.352Z"
   },
   {
    "duration": 30,
    "start_time": "2022-05-20T01:48:42.437Z"
   },
   {
    "duration": 168,
    "start_time": "2022-05-20T01:48:42.469Z"
   },
   {
    "duration": 8,
    "start_time": "2022-05-20T01:48:42.638Z"
   },
   {
    "duration": 10,
    "start_time": "2022-05-20T01:48:42.647Z"
   },
   {
    "duration": 64,
    "start_time": "2022-05-20T01:48:42.659Z"
   },
   {
    "duration": 285,
    "start_time": "2022-05-20T01:48:42.725Z"
   },
   {
    "duration": 42,
    "start_time": "2022-05-20T01:48:43.011Z"
   },
   {
    "duration": 33,
    "start_time": "2022-05-20T01:48:43.055Z"
   },
   {
    "duration": 296,
    "start_time": "2022-05-20T01:48:43.090Z"
   },
   {
    "duration": 61,
    "start_time": "2022-05-20T01:48:43.387Z"
   },
   {
    "duration": 75,
    "start_time": "2022-05-20T01:48:43.449Z"
   },
   {
    "duration": 63,
    "start_time": "2022-05-20T01:48:43.525Z"
   },
   {
    "duration": 3906,
    "start_time": "2022-05-20T01:48:43.590Z"
   },
   {
    "duration": 35,
    "start_time": "2022-05-20T01:48:47.498Z"
   },
   {
    "duration": 33,
    "start_time": "2022-05-20T01:48:47.535Z"
   },
   {
    "duration": 32,
    "start_time": "2022-05-20T01:48:47.570Z"
   },
   {
    "duration": 48,
    "start_time": "2022-05-20T01:48:47.604Z"
   },
   {
    "duration": 32,
    "start_time": "2022-05-20T01:48:47.656Z"
   },
   {
    "duration": 9,
    "start_time": "2022-05-20T01:48:47.690Z"
   },
   {
    "duration": 22,
    "start_time": "2022-05-20T01:48:47.701Z"
   },
   {
    "duration": 181,
    "start_time": "2022-05-20T01:48:47.725Z"
   },
   {
    "duration": 33,
    "start_time": "2022-05-20T01:48:47.908Z"
   },
   {
    "duration": 157,
    "start_time": "2022-05-20T01:48:47.947Z"
   },
   {
    "duration": 31,
    "start_time": "2022-05-20T01:48:48.106Z"
   },
   {
    "duration": 11,
    "start_time": "2022-05-20T01:48:48.139Z"
   },
   {
    "duration": 175,
    "start_time": "2022-05-20T01:48:48.152Z"
   },
   {
    "duration": 12,
    "start_time": "2022-05-20T01:48:48.328Z"
   },
   {
    "duration": 151,
    "start_time": "2022-05-20T01:48:48.342Z"
   },
   {
    "duration": 13,
    "start_time": "2022-05-20T01:48:48.495Z"
   },
   {
    "duration": 157,
    "start_time": "2022-05-20T01:48:48.510Z"
   },
   {
    "duration": 20,
    "start_time": "2022-05-20T01:48:48.669Z"
   },
   {
    "duration": 10,
    "start_time": "2022-05-20T01:48:48.691Z"
   },
   {
    "duration": 331,
    "start_time": "2022-05-20T01:48:48.703Z"
   },
   {
    "duration": 312,
    "start_time": "2022-05-20T01:48:49.036Z"
   },
   {
    "duration": 43,
    "start_time": "2022-05-20T01:48:49.350Z"
   },
   {
    "duration": 10,
    "start_time": "2022-05-20T01:48:49.394Z"
   },
   {
    "duration": 153,
    "start_time": "2022-05-20T01:48:49.422Z"
   },
   {
    "duration": 205,
    "start_time": "2022-05-20T01:48:49.576Z"
   },
   {
    "duration": 282,
    "start_time": "2022-05-20T01:48:49.783Z"
   },
   {
    "duration": 112,
    "start_time": "2022-05-20T01:48:50.067Z"
   },
   {
    "duration": 45,
    "start_time": "2022-05-20T01:48:50.181Z"
   },
   {
    "duration": 3,
    "start_time": "2022-05-20T01:48:50.228Z"
   },
   {
    "duration": 312,
    "start_time": "2022-05-20T01:48:50.232Z"
   },
   {
    "duration": 3,
    "start_time": "2022-05-20T01:48:50.546Z"
   },
   {
    "duration": 3,
    "start_time": "2022-05-20T01:48:53.902Z"
   },
   {
    "duration": 5389,
    "start_time": "2022-05-20T01:48:55.846Z"
   },
   {
    "duration": 124,
    "start_time": "2022-05-20T01:49:03.148Z"
   },
   {
    "duration": 26,
    "start_time": "2022-05-20T01:49:46.910Z"
   },
   {
    "duration": 1283,
    "start_time": "2022-05-20T01:50:37.633Z"
   },
   {
    "duration": 825,
    "start_time": "2022-05-20T01:50:38.918Z"
   },
   {
    "duration": 123,
    "start_time": "2022-05-20T01:50:39.744Z"
   },
   {
    "duration": 55,
    "start_time": "2022-05-20T01:50:39.869Z"
   },
   {
    "duration": 11,
    "start_time": "2022-05-20T01:50:39.926Z"
   },
   {
    "duration": 36,
    "start_time": "2022-05-20T01:50:39.938Z"
   },
   {
    "duration": 5,
    "start_time": "2022-05-20T01:50:39.976Z"
   },
   {
    "duration": 22,
    "start_time": "2022-05-20T01:50:39.982Z"
   },
   {
    "duration": 87,
    "start_time": "2022-05-20T01:50:40.006Z"
   },
   {
    "duration": 79,
    "start_time": "2022-05-20T01:50:40.096Z"
   },
   {
    "duration": 32,
    "start_time": "2022-05-20T01:50:40.177Z"
   },
   {
    "duration": 144,
    "start_time": "2022-05-20T01:50:40.211Z"
   },
   {
    "duration": 8,
    "start_time": "2022-05-20T01:50:40.357Z"
   },
   {
    "duration": 11,
    "start_time": "2022-05-20T01:50:40.366Z"
   },
   {
    "duration": 70,
    "start_time": "2022-05-20T01:50:40.379Z"
   },
   {
    "duration": 279,
    "start_time": "2022-05-20T01:50:40.451Z"
   },
   {
    "duration": 36,
    "start_time": "2022-05-20T01:50:40.731Z"
   },
   {
    "duration": 34,
    "start_time": "2022-05-20T01:50:40.769Z"
   },
   {
    "duration": 293,
    "start_time": "2022-05-20T01:50:40.805Z"
   },
   {
    "duration": 61,
    "start_time": "2022-05-20T01:50:41.100Z"
   },
   {
    "duration": 75,
    "start_time": "2022-05-20T01:50:41.163Z"
   },
   {
    "duration": 64,
    "start_time": "2022-05-20T01:50:41.240Z"
   },
   {
    "duration": 3993,
    "start_time": "2022-05-20T01:50:41.306Z"
   },
   {
    "duration": 33,
    "start_time": "2022-05-20T01:50:45.300Z"
   },
   {
    "duration": 31,
    "start_time": "2022-05-20T01:50:45.334Z"
   },
   {
    "duration": 32,
    "start_time": "2022-05-20T01:50:45.367Z"
   },
   {
    "duration": 48,
    "start_time": "2022-05-20T01:50:45.400Z"
   },
   {
    "duration": 32,
    "start_time": "2022-05-20T01:50:45.451Z"
   },
   {
    "duration": 11,
    "start_time": "2022-05-20T01:50:45.485Z"
   },
   {
    "duration": 4,
    "start_time": "2022-05-20T01:50:45.497Z"
   },
   {
    "duration": 206,
    "start_time": "2022-05-20T01:50:45.502Z"
   },
   {
    "duration": 30,
    "start_time": "2022-05-20T01:50:45.710Z"
   },
   {
    "duration": 157,
    "start_time": "2022-05-20T01:50:45.742Z"
   },
   {
    "duration": 26,
    "start_time": "2022-05-20T01:50:45.900Z"
   },
   {
    "duration": 12,
    "start_time": "2022-05-20T01:50:45.928Z"
   },
   {
    "duration": 178,
    "start_time": "2022-05-20T01:50:45.941Z"
   },
   {
    "duration": 12,
    "start_time": "2022-05-20T01:50:46.123Z"
   },
   {
    "duration": 146,
    "start_time": "2022-05-20T01:50:46.136Z"
   },
   {
    "duration": 13,
    "start_time": "2022-05-20T01:50:46.283Z"
   },
   {
    "duration": 157,
    "start_time": "2022-05-20T01:50:46.297Z"
   },
   {
    "duration": 22,
    "start_time": "2022-05-20T01:50:46.456Z"
   },
   {
    "duration": 11,
    "start_time": "2022-05-20T01:50:46.480Z"
   },
   {
    "duration": 315,
    "start_time": "2022-05-20T01:50:46.493Z"
   },
   {
    "duration": 301,
    "start_time": "2022-05-20T01:50:46.810Z"
   },
   {
    "duration": 53,
    "start_time": "2022-05-20T01:50:47.112Z"
   },
   {
    "duration": 9,
    "start_time": "2022-05-20T01:50:47.167Z"
   },
   {
    "duration": 171,
    "start_time": "2022-05-20T01:50:47.178Z"
   },
   {
    "duration": 211,
    "start_time": "2022-05-20T01:50:47.351Z"
   },
   {
    "duration": 284,
    "start_time": "2022-05-20T01:50:47.564Z"
   },
   {
    "duration": 106,
    "start_time": "2022-05-20T01:50:47.850Z"
   },
   {
    "duration": 38,
    "start_time": "2022-05-20T01:50:47.958Z"
   },
   {
    "duration": 3,
    "start_time": "2022-05-20T01:50:47.997Z"
   },
   {
    "duration": 318,
    "start_time": "2022-05-20T01:50:48.002Z"
   },
   {
    "duration": 3,
    "start_time": "2022-05-20T01:50:52.947Z"
   },
   {
    "duration": 4420,
    "start_time": "2022-05-20T01:50:53.548Z"
   },
   {
    "duration": 0,
    "start_time": "2022-05-20T01:50:57.969Z"
   },
   {
    "duration": 0,
    "start_time": "2022-05-20T01:50:57.971Z"
   },
   {
    "duration": 3,
    "start_time": "2022-05-20T01:51:21.114Z"
   },
   {
    "duration": 4178,
    "start_time": "2022-05-20T01:51:21.653Z"
   },
   {
    "duration": 1005,
    "start_time": "2022-05-20T01:51:25.833Z"
   },
   {
    "duration": 6,
    "start_time": "2022-05-20T01:51:27.481Z"
   },
   {
    "duration": 3,
    "start_time": "2022-05-20T01:51:51.197Z"
   },
   {
    "duration": 4400,
    "start_time": "2022-05-20T01:51:52.127Z"
   },
   {
    "duration": 1003,
    "start_time": "2022-05-20T01:51:56.529Z"
   },
   {
    "duration": 5,
    "start_time": "2022-05-20T01:51:58.595Z"
   },
   {
    "duration": 3,
    "start_time": "2022-05-20T01:52:25.704Z"
   },
   {
    "duration": 28,
    "start_time": "2022-05-20T01:52:26.392Z"
   },
   {
    "duration": 3,
    "start_time": "2022-05-20T01:52:44.528Z"
   },
   {
    "duration": 4265,
    "start_time": "2022-05-20T01:52:45.164Z"
   },
   {
    "duration": 899,
    "start_time": "2022-05-20T01:52:51.236Z"
   },
   {
    "duration": 6,
    "start_time": "2022-05-20T01:52:53.973Z"
   },
   {
    "duration": 3,
    "start_time": "2022-05-20T01:53:24.882Z"
   },
   {
    "duration": 4248,
    "start_time": "2022-05-20T01:53:26.880Z"
   },
   {
    "duration": 890,
    "start_time": "2022-05-20T01:53:31.344Z"
   },
   {
    "duration": 5,
    "start_time": "2022-05-20T01:53:38.347Z"
   },
   {
    "duration": 2235,
    "start_time": "2022-05-20T01:53:50.993Z"
   },
   {
    "duration": 6,
    "start_time": "2022-05-20T01:53:59.490Z"
   },
   {
    "duration": 17,
    "start_time": "2022-05-20T01:54:14.735Z"
   },
   {
    "duration": 3,
    "start_time": "2022-05-20T01:54:31.275Z"
   },
   {
    "duration": 4283,
    "start_time": "2022-05-20T01:54:31.847Z"
   },
   {
    "duration": 994,
    "start_time": "2022-05-20T01:54:36.132Z"
   },
   {
    "duration": 5,
    "start_time": "2022-05-20T01:54:37.128Z"
   },
   {
    "duration": 308,
    "start_time": "2022-05-20T01:54:57.341Z"
   },
   {
    "duration": 6013,
    "start_time": "2022-05-20T01:54:58.797Z"
   },
   {
    "duration": 2,
    "start_time": "2022-05-20T01:55:04.813Z"
   },
   {
    "duration": 7201,
    "start_time": "2022-05-20T01:55:04.823Z"
   },
   {
    "duration": 113,
    "start_time": "2022-05-20T01:55:12.027Z"
   },
   {
    "duration": 84,
    "start_time": "2022-05-20T01:55:12.143Z"
   },
   {
    "duration": 3,
    "start_time": "2022-05-20T01:55:26.164Z"
   },
   {
    "duration": 230702,
    "start_time": "2022-05-20T01:55:27.472Z"
   },
   {
    "duration": 709,
    "start_time": "2022-05-20T01:59:18.176Z"
   },
   {
    "duration": 6,
    "start_time": "2022-05-20T01:59:18.886Z"
   },
   {
    "duration": 186820,
    "start_time": "2022-05-20T08:33:54.602Z"
   },
   {
    "duration": 0,
    "start_time": "2022-05-20T08:37:01.427Z"
   },
   {
    "duration": 187286,
    "start_time": "2022-05-20T08:38:04.091Z"
   },
   {
    "duration": 0,
    "start_time": "2022-05-20T08:41:11.379Z"
   },
   {
    "duration": 85934,
    "start_time": "2022-05-20T08:41:19.599Z"
   },
   {
    "duration": 4,
    "start_time": "2022-05-20T08:52:55.847Z"
   },
   {
    "duration": 4,
    "start_time": "2022-05-20T08:53:29.218Z"
   },
   {
    "duration": 4,
    "start_time": "2022-05-20T08:53:36.625Z"
   },
   {
    "duration": 9352,
    "start_time": "2022-05-20T08:53:38.136Z"
   },
   {
    "duration": 116,
    "start_time": "2022-05-20T08:53:47.491Z"
   },
   {
    "duration": 5,
    "start_time": "2022-05-20T08:53:47.609Z"
   },
   {
    "duration": 3,
    "start_time": "2022-05-20T08:54:02.986Z"
   },
   {
    "duration": 2368,
    "start_time": "2022-05-20T08:54:04.208Z"
   },
   {
    "duration": 3,
    "start_time": "2022-05-20T08:54:09.809Z"
   },
   {
    "duration": 10992,
    "start_time": "2022-05-20T08:54:10.458Z"
   },
   {
    "duration": 193,
    "start_time": "2022-05-20T08:54:21.452Z"
   },
   {
    "duration": 9,
    "start_time": "2022-05-20T08:54:21.647Z"
   },
   {
    "duration": 3,
    "start_time": "2022-05-20T08:57:17.350Z"
   },
   {
    "duration": 62139,
    "start_time": "2022-05-20T08:57:18.457Z"
   },
   {
    "duration": 334,
    "start_time": "2022-05-20T08:58:20.599Z"
   },
   {
    "duration": 5,
    "start_time": "2022-05-20T08:58:20.935Z"
   },
   {
    "duration": 3,
    "start_time": "2022-05-20T08:58:44.388Z"
   },
   {
    "duration": 14806,
    "start_time": "2022-05-20T08:58:44.842Z"
   },
   {
    "duration": 126,
    "start_time": "2022-05-20T08:58:59.650Z"
   },
   {
    "duration": 7,
    "start_time": "2022-05-20T08:58:59.778Z"
   },
   {
    "duration": 3,
    "start_time": "2022-05-20T08:59:23.746Z"
   },
   {
    "duration": 12586,
    "start_time": "2022-05-20T08:59:24.660Z"
   },
   {
    "duration": 143,
    "start_time": "2022-05-20T08:59:37.248Z"
   },
   {
    "duration": 6,
    "start_time": "2022-05-20T08:59:37.393Z"
   },
   {
    "duration": 6,
    "start_time": "2022-05-20T08:59:55.926Z"
   },
   {
    "duration": 11229,
    "start_time": "2022-05-20T08:59:56.800Z"
   },
   {
    "duration": 127,
    "start_time": "2022-05-20T09:00:08.035Z"
   },
   {
    "duration": 6,
    "start_time": "2022-05-20T09:00:08.164Z"
   },
   {
    "duration": 4,
    "start_time": "2022-05-20T09:00:18.043Z"
   },
   {
    "duration": 16365,
    "start_time": "2022-05-20T09:00:18.667Z"
   },
   {
    "duration": 133,
    "start_time": "2022-05-20T09:00:35.039Z"
   },
   {
    "duration": 6,
    "start_time": "2022-05-20T09:00:35.174Z"
   },
   {
    "duration": 3,
    "start_time": "2022-05-20T09:01:09.540Z"
   },
   {
    "duration": 24988,
    "start_time": "2022-05-20T09:01:10.572Z"
   },
   {
    "duration": 166,
    "start_time": "2022-05-20T09:01:35.562Z"
   },
   {
    "duration": 6,
    "start_time": "2022-05-20T09:01:35.740Z"
   },
   {
    "duration": 6,
    "start_time": "2022-05-20T09:02:14.221Z"
   },
   {
    "duration": 26545,
    "start_time": "2022-05-20T09:02:14.850Z"
   },
   {
    "duration": 186,
    "start_time": "2022-05-20T09:02:41.398Z"
   },
   {
    "duration": 5,
    "start_time": "2022-05-20T09:02:41.586Z"
   },
   {
    "duration": 3,
    "start_time": "2022-05-20T09:03:53.864Z"
   },
   {
    "duration": 25645,
    "start_time": "2022-05-20T09:03:54.605Z"
   },
   {
    "duration": 163,
    "start_time": "2022-05-20T09:04:20.255Z"
   },
   {
    "duration": 6,
    "start_time": "2022-05-20T09:04:20.419Z"
   },
   {
    "duration": 4,
    "start_time": "2022-05-20T09:05:40.172Z"
   },
   {
    "duration": 22539,
    "start_time": "2022-05-20T09:05:41.540Z"
   },
   {
    "duration": 166,
    "start_time": "2022-05-20T09:06:04.081Z"
   },
   {
    "duration": 5,
    "start_time": "2022-05-20T09:06:04.249Z"
   },
   {
    "duration": 4,
    "start_time": "2022-05-20T09:06:16.813Z"
   },
   {
    "duration": 24822,
    "start_time": "2022-05-20T09:06:17.331Z"
   },
   {
    "duration": 164,
    "start_time": "2022-05-20T09:06:42.155Z"
   },
   {
    "duration": 16,
    "start_time": "2022-05-20T09:06:42.321Z"
   },
   {
    "duration": 4,
    "start_time": "2022-05-20T09:07:23.585Z"
   },
   {
    "duration": 22258,
    "start_time": "2022-05-20T09:07:28.409Z"
   },
   {
    "duration": 165,
    "start_time": "2022-05-20T09:07:50.669Z"
   },
   {
    "duration": 5,
    "start_time": "2022-05-20T09:07:50.837Z"
   },
   {
    "duration": 3,
    "start_time": "2022-05-20T09:07:58.194Z"
   },
   {
    "duration": 28428,
    "start_time": "2022-05-20T09:07:58.923Z"
   },
   {
    "duration": 162,
    "start_time": "2022-05-20T09:08:27.353Z"
   },
   {
    "duration": 17,
    "start_time": "2022-05-20T09:08:27.517Z"
   },
   {
    "duration": 4,
    "start_time": "2022-05-20T09:08:37.840Z"
   },
   {
    "duration": 36502,
    "start_time": "2022-05-20T09:08:39.006Z"
   },
   {
    "duration": 167,
    "start_time": "2022-05-20T09:09:15.510Z"
   },
   {
    "duration": 6,
    "start_time": "2022-05-20T09:09:15.679Z"
   },
   {
    "duration": 4,
    "start_time": "2022-05-20T09:10:02.667Z"
   },
   {
    "duration": 23048,
    "start_time": "2022-05-20T09:10:03.547Z"
   },
   {
    "duration": 155,
    "start_time": "2022-05-20T09:10:26.597Z"
   },
   {
    "duration": 6,
    "start_time": "2022-05-20T09:10:26.754Z"
   },
   {
    "duration": 3,
    "start_time": "2022-05-20T09:11:45.670Z"
   },
   {
    "duration": 24027,
    "start_time": "2022-05-20T09:11:46.255Z"
   },
   {
    "duration": 169,
    "start_time": "2022-05-20T09:12:10.285Z"
   },
   {
    "duration": 8,
    "start_time": "2022-05-20T09:12:10.456Z"
   },
   {
    "duration": 4,
    "start_time": "2022-05-20T09:12:19.541Z"
   },
   {
    "duration": 23959,
    "start_time": "2022-05-20T09:12:20.044Z"
   },
   {
    "duration": 166,
    "start_time": "2022-05-20T09:12:44.005Z"
   },
   {
    "duration": 5,
    "start_time": "2022-05-20T09:12:44.173Z"
   },
   {
    "duration": 4,
    "start_time": "2022-05-20T09:13:09.164Z"
   },
   {
    "duration": 22937,
    "start_time": "2022-05-20T09:13:09.655Z"
   },
   {
    "duration": 200,
    "start_time": "2022-05-20T09:13:32.595Z"
   },
   {
    "duration": 7,
    "start_time": "2022-05-20T09:13:32.798Z"
   },
   {
    "duration": 4,
    "start_time": "2022-05-20T09:13:44.878Z"
   },
   {
    "duration": 22405,
    "start_time": "2022-05-20T09:13:45.631Z"
   },
   {
    "duration": 154,
    "start_time": "2022-05-20T09:14:08.039Z"
   },
   {
    "duration": 5,
    "start_time": "2022-05-20T09:14:08.194Z"
   },
   {
    "duration": 4,
    "start_time": "2022-05-20T09:14:22.203Z"
   },
   {
    "duration": 21584,
    "start_time": "2022-05-20T09:14:22.779Z"
   },
   {
    "duration": 164,
    "start_time": "2022-05-20T09:14:44.366Z"
   },
   {
    "duration": 11,
    "start_time": "2022-05-20T09:14:44.537Z"
   },
   {
    "duration": 7,
    "start_time": "2022-05-20T09:14:54.229Z"
   },
   {
    "duration": 19018,
    "start_time": "2022-05-20T09:14:55.041Z"
   },
   {
    "duration": 135,
    "start_time": "2022-05-20T09:15:14.062Z"
   },
   {
    "duration": 6,
    "start_time": "2022-05-20T09:15:14.199Z"
   },
   {
    "duration": 4,
    "start_time": "2022-05-20T09:15:20.363Z"
   },
   {
    "duration": 28826,
    "start_time": "2022-05-20T09:15:20.992Z"
   },
   {
    "duration": 186,
    "start_time": "2022-05-20T09:15:49.820Z"
   },
   {
    "duration": 9,
    "start_time": "2022-05-20T09:15:50.008Z"
   },
   {
    "duration": 4,
    "start_time": "2022-05-20T09:15:56.355Z"
   },
   {
    "duration": 24100,
    "start_time": "2022-05-20T09:15:56.987Z"
   },
   {
    "duration": 172,
    "start_time": "2022-05-20T09:16:21.090Z"
   },
   {
    "duration": 6,
    "start_time": "2022-05-20T09:16:21.264Z"
   },
   {
    "duration": 3,
    "start_time": "2022-05-20T09:16:36.221Z"
   },
   {
    "duration": 23346,
    "start_time": "2022-05-20T09:16:37.196Z"
   },
   {
    "duration": 3,
    "start_time": "2022-05-20T09:17:29.599Z"
   },
   {
    "duration": 22047,
    "start_time": "2022-05-20T09:17:30.602Z"
   },
   {
    "duration": 224,
    "start_time": "2022-05-20T09:17:52.651Z"
   },
   {
    "duration": 9,
    "start_time": "2022-05-20T09:17:52.879Z"
   },
   {
    "duration": 4,
    "start_time": "2022-05-20T09:17:59.581Z"
   },
   {
    "duration": 22295,
    "start_time": "2022-05-20T09:18:00.238Z"
   },
   {
    "duration": 202,
    "start_time": "2022-05-20T09:18:22.551Z"
   },
   {
    "duration": 7,
    "start_time": "2022-05-20T09:18:22.755Z"
   },
   {
    "duration": 3,
    "start_time": "2022-05-20T09:19:55.106Z"
   },
   {
    "duration": 21088,
    "start_time": "2022-05-20T09:19:55.795Z"
   },
   {
    "duration": 152,
    "start_time": "2022-05-20T09:20:16.885Z"
   },
   {
    "duration": 6,
    "start_time": "2022-05-20T09:20:17.045Z"
   },
   {
    "duration": 4,
    "start_time": "2022-05-20T09:20:38.402Z"
   },
   {
    "duration": 21110,
    "start_time": "2022-05-20T09:20:39.788Z"
   },
   {
    "duration": 152,
    "start_time": "2022-05-20T09:21:00.900Z"
   },
   {
    "duration": 5,
    "start_time": "2022-05-20T09:21:01.054Z"
   },
   {
    "duration": 4,
    "start_time": "2022-05-20T09:21:09.348Z"
   },
   {
    "duration": 21585,
    "start_time": "2022-05-20T09:21:09.802Z"
   },
   {
    "duration": 162,
    "start_time": "2022-05-20T09:21:31.389Z"
   },
   {
    "duration": 5,
    "start_time": "2022-05-20T09:21:31.552Z"
   },
   {
    "duration": 3,
    "start_time": "2022-05-20T09:21:56.901Z"
   },
   {
    "duration": 22552,
    "start_time": "2022-05-20T09:21:57.353Z"
   },
   {
    "duration": 171,
    "start_time": "2022-05-20T09:22:19.907Z"
   },
   {
    "duration": 5,
    "start_time": "2022-05-20T09:22:20.079Z"
   },
   {
    "duration": 4,
    "start_time": "2022-05-20T09:23:45.229Z"
   },
   {
    "duration": 22056,
    "start_time": "2022-05-20T09:23:45.777Z"
   },
   {
    "duration": 166,
    "start_time": "2022-05-20T09:24:07.837Z"
   },
   {
    "duration": 6,
    "start_time": "2022-05-20T09:24:08.005Z"
   },
   {
    "duration": 3,
    "start_time": "2022-05-20T09:24:23.294Z"
   },
   {
    "duration": 21983,
    "start_time": "2022-05-20T09:24:24.045Z"
   },
   {
    "duration": 156,
    "start_time": "2022-05-20T09:24:46.030Z"
   },
   {
    "duration": 6,
    "start_time": "2022-05-20T09:24:46.188Z"
   },
   {
    "duration": 4,
    "start_time": "2022-05-20T09:27:22.830Z"
   },
   {
    "duration": 207,
    "start_time": "2022-05-20T09:27:23.341Z"
   },
   {
    "duration": 5,
    "start_time": "2022-05-20T09:28:05.227Z"
   },
   {
    "duration": 21692,
    "start_time": "2022-05-20T09:28:07.104Z"
   },
   {
    "duration": 165,
    "start_time": "2022-05-20T09:28:28.799Z"
   },
   {
    "duration": 6,
    "start_time": "2022-05-20T09:28:28.965Z"
   },
   {
    "duration": 3,
    "start_time": "2022-05-20T09:28:50.207Z"
   },
   {
    "duration": 33423,
    "start_time": "2022-05-20T09:28:50.963Z"
   },
   {
    "duration": 515,
    "start_time": "2022-05-20T09:29:24.388Z"
   },
   {
    "duration": 5,
    "start_time": "2022-05-20T09:29:24.904Z"
   },
   {
    "duration": 4,
    "start_time": "2022-05-20T09:29:32.255Z"
   },
   {
    "duration": 25752,
    "start_time": "2022-05-20T09:29:32.955Z"
   },
   {
    "duration": 415,
    "start_time": "2022-05-20T09:29:58.710Z"
   },
   {
    "duration": 7,
    "start_time": "2022-05-20T09:29:59.127Z"
   },
   {
    "duration": 4,
    "start_time": "2022-05-20T09:33:26.288Z"
   },
   {
    "duration": 3,
    "start_time": "2022-05-20T09:33:27.786Z"
   },
   {
    "duration": 3,
    "start_time": "2022-05-20T09:35:30.513Z"
   },
   {
    "duration": 4,
    "start_time": "2022-05-20T09:35:31.095Z"
   },
   {
    "duration": 3,
    "start_time": "2022-05-20T09:35:32.110Z"
   },
   {
    "duration": 4,
    "start_time": "2022-05-20T09:36:52.624Z"
   },
   {
    "duration": 21506,
    "start_time": "2022-05-20T09:37:52.383Z"
   },
   {
    "duration": 3,
    "start_time": "2022-05-20T09:38:34.443Z"
   },
   {
    "duration": 159,
    "start_time": "2022-05-20T09:39:20.185Z"
   },
   {
    "duration": 16,
    "start_time": "2022-05-20T09:41:04.785Z"
   },
   {
    "duration": 5,
    "start_time": "2022-05-20T09:41:24.235Z"
   },
   {
    "duration": 4,
    "start_time": "2022-05-20T09:41:24.936Z"
   },
   {
    "duration": 3,
    "start_time": "2022-05-20T09:41:25.778Z"
   },
   {
    "duration": 22029,
    "start_time": "2022-05-20T09:41:26.456Z"
   },
   {
    "duration": 174,
    "start_time": "2022-05-20T09:41:48.487Z"
   },
   {
    "duration": 21,
    "start_time": "2022-05-20T09:41:50.939Z"
   },
   {
    "duration": 4,
    "start_time": "2022-05-20T09:42:33.403Z"
   },
   {
    "duration": 3,
    "start_time": "2022-05-20T09:42:33.903Z"
   },
   {
    "duration": 3,
    "start_time": "2022-05-20T09:42:34.714Z"
   },
   {
    "duration": 21546,
    "start_time": "2022-05-20T09:42:35.425Z"
   },
   {
    "duration": 147,
    "start_time": "2022-05-20T09:42:56.973Z"
   },
   {
    "duration": 4,
    "start_time": "2022-05-20T09:42:57.122Z"
   },
   {
    "duration": 21,
    "start_time": "2022-05-20T09:42:57.135Z"
   },
   {
    "duration": 4,
    "start_time": "2022-05-20T09:52:39.861Z"
   },
   {
    "duration": 5,
    "start_time": "2022-05-20T09:52:41.378Z"
   },
   {
    "duration": 3,
    "start_time": "2022-05-20T09:52:43.079Z"
   },
   {
    "duration": 4,
    "start_time": "2022-05-20T09:52:45.318Z"
   },
   {
    "duration": 249704,
    "start_time": "2022-05-20T09:52:46.804Z"
   },
   {
    "duration": 771,
    "start_time": "2022-05-20T09:56:56.510Z"
   },
   {
    "duration": 4,
    "start_time": "2022-05-20T09:56:57.283Z"
   },
   {
    "duration": 6,
    "start_time": "2022-05-20T09:56:57.289Z"
   },
   {
    "duration": 4,
    "start_time": "2022-05-20T09:58:02.238Z"
   },
   {
    "duration": 299208,
    "start_time": "2022-05-20T09:58:03.245Z"
   },
   {
    "duration": 0,
    "start_time": "2022-05-20T10:03:02.525Z"
   },
   {
    "duration": 0,
    "start_time": "2022-05-20T10:03:02.528Z"
   },
   {
    "duration": 0,
    "start_time": "2022-05-20T10:03:02.530Z"
   },
   {
    "duration": 4,
    "start_time": "2022-05-20T10:05:06.336Z"
   },
   {
    "duration": 1504,
    "start_time": "2022-05-20T10:05:06.343Z"
   },
   {
    "duration": 149,
    "start_time": "2022-05-20T10:05:07.848Z"
   },
   {
    "duration": 60,
    "start_time": "2022-05-20T10:05:08.001Z"
   },
   {
    "duration": 6,
    "start_time": "2022-05-20T10:05:08.064Z"
   },
   {
    "duration": 40,
    "start_time": "2022-05-20T10:05:08.072Z"
   },
   {
    "duration": 9,
    "start_time": "2022-05-20T10:05:08.114Z"
   },
   {
    "duration": 13,
    "start_time": "2022-05-20T10:05:08.124Z"
   },
   {
    "duration": 101,
    "start_time": "2022-05-20T10:05:08.139Z"
   },
   {
    "duration": 69,
    "start_time": "2022-05-20T10:05:08.243Z"
   },
   {
    "duration": 32,
    "start_time": "2022-05-20T10:05:08.324Z"
   },
   {
    "duration": 159,
    "start_time": "2022-05-20T10:05:08.358Z"
   },
   {
    "duration": 8,
    "start_time": "2022-05-20T10:05:08.519Z"
   },
   {
    "duration": 13,
    "start_time": "2022-05-20T10:05:08.529Z"
   },
   {
    "duration": 39,
    "start_time": "2022-05-20T10:05:08.543Z"
   },
   {
    "duration": 292,
    "start_time": "2022-05-20T10:05:08.583Z"
   },
   {
    "duration": 48,
    "start_time": "2022-05-20T10:05:08.876Z"
   },
   {
    "duration": 37,
    "start_time": "2022-05-20T10:05:08.926Z"
   },
   {
    "duration": 315,
    "start_time": "2022-05-20T10:05:08.965Z"
   },
   {
    "duration": 72,
    "start_time": "2022-05-20T10:05:09.281Z"
   },
   {
    "duration": 85,
    "start_time": "2022-05-20T10:05:09.355Z"
   },
   {
    "duration": 66,
    "start_time": "2022-05-20T10:05:09.442Z"
   },
   {
    "duration": 4370,
    "start_time": "2022-05-20T10:05:09.510Z"
   },
   {
    "duration": 31,
    "start_time": "2022-05-20T10:05:13.881Z"
   },
   {
    "duration": 40,
    "start_time": "2022-05-20T10:05:13.914Z"
   },
   {
    "duration": 45,
    "start_time": "2022-05-20T10:05:13.955Z"
   },
   {
    "duration": 54,
    "start_time": "2022-05-20T10:05:14.002Z"
   },
   {
    "duration": 66,
    "start_time": "2022-05-20T10:05:14.060Z"
   },
   {
    "duration": 12,
    "start_time": "2022-05-20T10:05:14.128Z"
   },
   {
    "duration": 4,
    "start_time": "2022-05-20T10:05:14.142Z"
   },
   {
    "duration": 209,
    "start_time": "2022-05-20T10:05:14.147Z"
   },
   {
    "duration": 17,
    "start_time": "2022-05-20T10:05:14.358Z"
   },
   {
    "duration": 273,
    "start_time": "2022-05-20T10:05:14.377Z"
   },
   {
    "duration": 21,
    "start_time": "2022-05-20T10:05:14.652Z"
   },
   {
    "duration": 10,
    "start_time": "2022-05-20T10:05:14.674Z"
   },
   {
    "duration": 194,
    "start_time": "2022-05-20T10:05:14.686Z"
   },
   {
    "duration": 12,
    "start_time": "2022-05-20T10:05:14.882Z"
   },
   {
    "duration": 160,
    "start_time": "2022-05-20T10:05:14.895Z"
   },
   {
    "duration": 12,
    "start_time": "2022-05-20T10:05:15.057Z"
   },
   {
    "duration": 171,
    "start_time": "2022-05-20T10:05:15.071Z"
   },
   {
    "duration": 20,
    "start_time": "2022-05-20T10:05:15.243Z"
   },
   {
    "duration": 9,
    "start_time": "2022-05-20T10:05:15.265Z"
   },
   {
    "duration": 323,
    "start_time": "2022-05-20T10:05:15.276Z"
   },
   {
    "duration": 327,
    "start_time": "2022-05-20T10:05:15.601Z"
   },
   {
    "duration": 50,
    "start_time": "2022-05-20T10:05:15.931Z"
   },
   {
    "duration": 17,
    "start_time": "2022-05-20T10:05:15.983Z"
   },
   {
    "duration": 170,
    "start_time": "2022-05-20T10:05:16.002Z"
   },
   {
    "duration": 255,
    "start_time": "2022-05-20T10:05:16.174Z"
   },
   {
    "duration": 294,
    "start_time": "2022-05-20T10:05:16.431Z"
   },
   {
    "duration": 110,
    "start_time": "2022-05-20T10:05:16.726Z"
   },
   {
    "duration": 20,
    "start_time": "2022-05-20T10:05:16.837Z"
   },
   {
    "duration": 3,
    "start_time": "2022-05-20T10:05:16.859Z"
   },
   {
    "duration": 339,
    "start_time": "2022-05-20T10:05:16.864Z"
   },
   {
    "duration": 4,
    "start_time": "2022-05-20T10:05:17.204Z"
   },
   {
    "duration": 13,
    "start_time": "2022-05-20T10:05:17.210Z"
   },
   {
    "duration": 8,
    "start_time": "2022-05-20T10:05:17.224Z"
   },
   {
    "duration": 3,
    "start_time": "2022-05-20T10:05:23.630Z"
   },
   {
    "duration": 16744,
    "start_time": "2022-05-20T10:05:24.500Z"
   },
   {
    "duration": 25084,
    "start_time": "2022-05-20T10:05:45.352Z"
   },
   {
    "duration": 0,
    "start_time": "2022-05-20T10:06:10.438Z"
   },
   {
    "duration": 0,
    "start_time": "2022-05-20T10:06:10.439Z"
   },
   {
    "duration": 1727,
    "start_time": "2022-05-20T10:08:16.201Z"
   },
   {
    "duration": 870,
    "start_time": "2022-05-20T10:08:17.930Z"
   },
   {
    "duration": 134,
    "start_time": "2022-05-20T10:08:18.802Z"
   },
   {
    "duration": 50,
    "start_time": "2022-05-20T10:08:18.939Z"
   },
   {
    "duration": 8,
    "start_time": "2022-05-20T10:08:18.991Z"
   },
   {
    "duration": 49,
    "start_time": "2022-05-20T10:08:19.001Z"
   },
   {
    "duration": 9,
    "start_time": "2022-05-20T10:08:19.051Z"
   },
   {
    "duration": 17,
    "start_time": "2022-05-20T10:08:19.061Z"
   },
   {
    "duration": 103,
    "start_time": "2022-05-20T10:08:19.080Z"
   },
   {
    "duration": 89,
    "start_time": "2022-05-20T10:08:19.186Z"
   },
   {
    "duration": 50,
    "start_time": "2022-05-20T10:08:19.276Z"
   },
   {
    "duration": 141,
    "start_time": "2022-05-20T10:08:19.328Z"
   },
   {
    "duration": 8,
    "start_time": "2022-05-20T10:08:19.470Z"
   },
   {
    "duration": 11,
    "start_time": "2022-05-20T10:08:19.479Z"
   },
   {
    "duration": 64,
    "start_time": "2022-05-20T10:08:19.491Z"
   },
   {
    "duration": 285,
    "start_time": "2022-05-20T10:08:19.558Z"
   },
   {
    "duration": 38,
    "start_time": "2022-05-20T10:08:19.844Z"
   },
   {
    "duration": 46,
    "start_time": "2022-05-20T10:08:19.884Z"
   },
   {
    "duration": 332,
    "start_time": "2022-05-20T10:08:19.932Z"
   },
   {
    "duration": 69,
    "start_time": "2022-05-20T10:08:20.265Z"
   },
   {
    "duration": 70,
    "start_time": "2022-05-20T10:08:20.336Z"
   },
   {
    "duration": 70,
    "start_time": "2022-05-20T10:08:20.408Z"
   },
   {
    "duration": 4471,
    "start_time": "2022-05-20T10:08:20.480Z"
   },
   {
    "duration": 31,
    "start_time": "2022-05-20T10:08:24.953Z"
   },
   {
    "duration": 46,
    "start_time": "2022-05-20T10:08:24.985Z"
   },
   {
    "duration": 49,
    "start_time": "2022-05-20T10:08:25.033Z"
   },
   {
    "duration": 35,
    "start_time": "2022-05-20T10:08:25.084Z"
   },
   {
    "duration": 39,
    "start_time": "2022-05-20T10:08:25.124Z"
   },
   {
    "duration": 11,
    "start_time": "2022-05-20T10:08:25.165Z"
   },
   {
    "duration": 4,
    "start_time": "2022-05-20T10:08:25.178Z"
   },
   {
    "duration": 212,
    "start_time": "2022-05-20T10:08:25.184Z"
   },
   {
    "duration": 30,
    "start_time": "2022-05-20T10:08:25.398Z"
   },
   {
    "duration": 173,
    "start_time": "2022-05-20T10:08:25.430Z"
   },
   {
    "duration": 36,
    "start_time": "2022-05-20T10:08:25.605Z"
   },
   {
    "duration": 12,
    "start_time": "2022-05-20T10:08:25.643Z"
   },
   {
    "duration": 192,
    "start_time": "2022-05-20T10:08:25.656Z"
   },
   {
    "duration": 12,
    "start_time": "2022-05-20T10:08:25.850Z"
   },
   {
    "duration": 177,
    "start_time": "2022-05-20T10:08:25.863Z"
   },
   {
    "duration": 14,
    "start_time": "2022-05-20T10:08:26.042Z"
   },
   {
    "duration": 177,
    "start_time": "2022-05-20T10:08:26.057Z"
   },
   {
    "duration": 23,
    "start_time": "2022-05-20T10:08:26.236Z"
   },
   {
    "duration": 12,
    "start_time": "2022-05-20T10:08:26.261Z"
   },
   {
    "duration": 348,
    "start_time": "2022-05-20T10:08:26.275Z"
   },
   {
    "duration": 330,
    "start_time": "2022-05-20T10:08:26.624Z"
   },
   {
    "duration": 47,
    "start_time": "2022-05-20T10:08:26.956Z"
   },
   {
    "duration": 21,
    "start_time": "2022-05-20T10:08:27.005Z"
   },
   {
    "duration": 171,
    "start_time": "2022-05-20T10:08:27.028Z"
   },
   {
    "duration": 227,
    "start_time": "2022-05-20T10:08:27.201Z"
   },
   {
    "duration": 312,
    "start_time": "2022-05-20T10:08:27.430Z"
   },
   {
    "duration": 114,
    "start_time": "2022-05-20T10:08:27.744Z"
   },
   {
    "duration": 37,
    "start_time": "2022-05-20T10:08:27.860Z"
   },
   {
    "duration": 3,
    "start_time": "2022-05-20T10:08:27.899Z"
   },
   {
    "duration": 365,
    "start_time": "2022-05-20T10:08:27.923Z"
   },
   {
    "duration": 4,
    "start_time": "2022-05-20T10:08:30.981Z"
   },
   {
    "duration": 4,
    "start_time": "2022-05-20T10:08:32.185Z"
   },
   {
    "duration": 3,
    "start_time": "2022-05-20T10:08:34.104Z"
   },
   {
    "duration": 3,
    "start_time": "2022-05-20T10:08:46.490Z"
   },
   {
    "duration": 18769,
    "start_time": "2022-05-20T10:08:48.436Z"
   },
   {
    "duration": 0,
    "start_time": "2022-05-20T10:09:07.207Z"
   },
   {
    "duration": 6170,
    "start_time": "2022-05-20T10:09:24.653Z"
   },
   {
    "duration": 888,
    "start_time": "2022-05-20T10:09:34.663Z"
   },
   {
    "duration": 5,
    "start_time": "2022-05-20T10:09:42.137Z"
   },
   {
    "duration": 3,
    "start_time": "2022-05-20T10:09:51.420Z"
   },
   {
    "duration": 3,
    "start_time": "2022-05-20T10:09:59.621Z"
   },
   {
    "duration": 3,
    "start_time": "2022-05-20T10:10:00.181Z"
   },
   {
    "duration": 4,
    "start_time": "2022-05-20T10:10:02.132Z"
   },
   {
    "duration": 3,
    "start_time": "2022-05-20T10:10:03.012Z"
   },
   {
    "duration": 244561,
    "start_time": "2022-05-20T10:10:03.966Z"
   },
   {
    "duration": 768,
    "start_time": "2022-05-20T10:14:08.529Z"
   },
   {
    "duration": 5,
    "start_time": "2022-05-20T10:14:09.299Z"
   },
   {
    "duration": 6,
    "start_time": "2022-05-20T10:14:09.306Z"
   },
   {
    "duration": 12,
    "start_time": "2022-05-20T10:14:09.314Z"
   },
   {
    "duration": 4699,
    "start_time": "2022-05-20T10:14:09.328Z"
   },
   {
    "duration": 1002,
    "start_time": "2022-05-20T10:14:14.028Z"
   },
   {
    "duration": 5,
    "start_time": "2022-05-20T10:14:15.032Z"
   },
   {
    "duration": 10,
    "start_time": "2022-05-20T10:14:15.038Z"
   },
   {
    "duration": 4,
    "start_time": "2022-05-20T10:16:27.478Z"
   },
   {
    "duration": 4,
    "start_time": "2022-05-20T10:16:28.970Z"
   },
   {
    "duration": 3,
    "start_time": "2022-05-20T10:16:34.818Z"
   },
   {
    "duration": 12,
    "start_time": "2022-05-20T10:18:15.513Z"
   },
   {
    "duration": 329,
    "start_time": "2022-05-20T10:18:22.107Z"
   },
   {
    "duration": 16,
    "start_time": "2022-05-20T10:18:26.914Z"
   },
   {
    "duration": 5849,
    "start_time": "2022-05-20T10:19:25.894Z"
   },
   {
    "duration": 10,
    "start_time": "2022-05-20T10:19:34.056Z"
   },
   {
    "duration": 5,
    "start_time": "2022-05-20T10:19:42.422Z"
   },
   {
    "duration": 4,
    "start_time": "2022-05-20T10:24:37.017Z"
   },
   {
    "duration": 785,
    "start_time": "2022-05-20T10:24:37.023Z"
   },
   {
    "duration": 132,
    "start_time": "2022-05-20T10:24:37.810Z"
   },
   {
    "duration": 40,
    "start_time": "2022-05-20T10:24:37.945Z"
   },
   {
    "duration": 6,
    "start_time": "2022-05-20T10:24:37.987Z"
   },
   {
    "duration": 44,
    "start_time": "2022-05-20T10:24:37.995Z"
   },
   {
    "duration": 4,
    "start_time": "2022-05-20T10:24:38.041Z"
   },
   {
    "duration": 18,
    "start_time": "2022-05-20T10:24:38.046Z"
   },
   {
    "duration": 91,
    "start_time": "2022-05-20T10:24:38.067Z"
   },
   {
    "duration": 80,
    "start_time": "2022-05-20T10:24:38.159Z"
   },
   {
    "duration": 30,
    "start_time": "2022-05-20T10:24:38.241Z"
   },
   {
    "duration": 136,
    "start_time": "2022-05-20T10:24:38.272Z"
   },
   {
    "duration": 4,
    "start_time": "2022-05-20T10:24:40.514Z"
   },
   {
    "duration": 3,
    "start_time": "2022-05-20T10:24:41.527Z"
   },
   {
    "duration": 336,
    "start_time": "2022-05-20T10:26:15.061Z"
   },
   {
    "duration": 322,
    "start_time": "2022-05-20T10:29:48.297Z"
   },
   {
    "duration": 3,
    "start_time": "2022-05-20T10:33:38.651Z"
   },
   {
    "duration": 444,
    "start_time": "2022-05-20T10:33:44.955Z"
   },
   {
    "duration": 423,
    "start_time": "2022-05-20T10:34:05.459Z"
   },
   {
    "duration": 1631,
    "start_time": "2022-05-20T10:34:13.883Z"
   },
   {
    "duration": 329,
    "start_time": "2022-05-20T10:34:24.969Z"
   },
   {
    "duration": 4,
    "start_time": "2022-05-20T10:35:02.343Z"
   },
   {
    "duration": 9,
    "start_time": "2022-05-20T10:35:09.349Z"
   },
   {
    "duration": 10,
    "start_time": "2022-05-20T10:35:59.053Z"
   },
   {
    "duration": 176,
    "start_time": "2022-05-20T10:36:30.716Z"
   },
   {
    "duration": 194,
    "start_time": "2022-05-20T10:36:37.250Z"
   },
   {
    "duration": 182,
    "start_time": "2022-05-20T10:36:41.120Z"
   },
   {
    "duration": 168,
    "start_time": "2022-05-20T10:36:45.108Z"
   },
   {
    "duration": 144,
    "start_time": "2022-05-20T10:37:19.571Z"
   },
   {
    "duration": 334,
    "start_time": "2022-05-20T10:37:59.291Z"
   },
   {
    "duration": 1654,
    "start_time": "2022-05-20T10:38:05.884Z"
   },
   {
    "duration": 288,
    "start_time": "2022-05-20T10:38:28.475Z"
   },
   {
    "duration": 37,
    "start_time": "2022-05-20T10:40:17.239Z"
   },
   {
    "duration": 152,
    "start_time": "2022-05-20T10:40:25.412Z"
   },
   {
    "duration": 45,
    "start_time": "2022-05-20T10:42:41.560Z"
   },
   {
    "duration": 147,
    "start_time": "2022-05-20T10:42:51.405Z"
   },
   {
    "duration": 7,
    "start_time": "2022-05-20T10:43:39.586Z"
   },
   {
    "duration": 11,
    "start_time": "2022-05-20T10:43:48.993Z"
   },
   {
    "duration": 8,
    "start_time": "2022-05-20T10:44:03.307Z"
   },
   {
    "duration": 8,
    "start_time": "2022-05-20T10:44:07.763Z"
   },
   {
    "duration": 12,
    "start_time": "2022-05-20T10:44:14.612Z"
   },
   {
    "duration": 8,
    "start_time": "2022-05-20T10:44:20.732Z"
   },
   {
    "duration": 10,
    "start_time": "2022-05-20T10:44:33.202Z"
   },
   {
    "duration": 8,
    "start_time": "2022-05-20T10:44:40.613Z"
   },
   {
    "duration": 9,
    "start_time": "2022-05-20T10:44:47.267Z"
   },
   {
    "duration": 9,
    "start_time": "2022-05-20T10:44:53.394Z"
   },
   {
    "duration": 11,
    "start_time": "2022-05-20T10:44:57.315Z"
   },
   {
    "duration": 9,
    "start_time": "2022-05-20T10:45:31.411Z"
   },
   {
    "duration": 8,
    "start_time": "2022-05-20T10:45:36.186Z"
   },
   {
    "duration": 9,
    "start_time": "2022-05-20T10:45:40.205Z"
   },
   {
    "duration": 9,
    "start_time": "2022-05-20T10:45:47.401Z"
   },
   {
    "duration": 6,
    "start_time": "2022-05-20T10:50:43.020Z"
   },
   {
    "duration": 4,
    "start_time": "2022-05-20T10:50:52.291Z"
   },
   {
    "duration": 861,
    "start_time": "2022-05-20T10:50:52.297Z"
   },
   {
    "duration": 131,
    "start_time": "2022-05-20T10:50:53.160Z"
   },
   {
    "duration": 48,
    "start_time": "2022-05-20T10:50:53.293Z"
   },
   {
    "duration": 5,
    "start_time": "2022-05-20T10:50:53.343Z"
   },
   {
    "duration": 35,
    "start_time": "2022-05-20T10:50:53.350Z"
   },
   {
    "duration": 6,
    "start_time": "2022-05-20T10:50:53.387Z"
   },
   {
    "duration": 28,
    "start_time": "2022-05-20T10:50:53.395Z"
   },
   {
    "duration": 81,
    "start_time": "2022-05-20T10:50:53.425Z"
   },
   {
    "duration": 83,
    "start_time": "2022-05-20T10:50:53.507Z"
   },
   {
    "duration": 37,
    "start_time": "2022-05-20T10:50:53.591Z"
   },
   {
    "duration": 145,
    "start_time": "2022-05-20T10:50:53.630Z"
   },
   {
    "duration": 5,
    "start_time": "2022-05-20T10:50:53.777Z"
   },
   {
    "duration": 20,
    "start_time": "2022-05-20T10:50:53.783Z"
   },
   {
    "duration": 20,
    "start_time": "2022-05-20T10:50:53.805Z"
   },
   {
    "duration": 159,
    "start_time": "2022-05-20T10:50:53.826Z"
   },
   {
    "duration": 10,
    "start_time": "2022-05-20T10:50:57.979Z"
   },
   {
    "duration": 9,
    "start_time": "2022-05-20T10:51:51.334Z"
   },
   {
    "duration": 10,
    "start_time": "2022-05-20T10:52:04.143Z"
   },
   {
    "duration": 12,
    "start_time": "2022-05-20T10:53:07.220Z"
   },
   {
    "duration": 4,
    "start_time": "2022-05-20T10:53:28.656Z"
   },
   {
    "duration": 10,
    "start_time": "2022-05-20T10:53:45.794Z"
   },
   {
    "duration": 9,
    "start_time": "2022-05-20T10:53:56.704Z"
   },
   {
    "duration": 7,
    "start_time": "2022-05-20T10:54:04.880Z"
   },
   {
    "duration": 10,
    "start_time": "2022-05-20T10:54:43.991Z"
   },
   {
    "duration": 12,
    "start_time": "2022-05-20T10:54:49.233Z"
   },
   {
    "duration": 343,
    "start_time": "2022-05-20T10:58:32.460Z"
   },
   {
    "duration": 237,
    "start_time": "2022-05-20T10:58:44.043Z"
   },
   {
    "duration": 19,
    "start_time": "2022-05-20T11:00:15.068Z"
   },
   {
    "duration": 19,
    "start_time": "2022-05-20T11:00:25.583Z"
   },
   {
    "duration": 13,
    "start_time": "2022-05-20T11:00:42.657Z"
   },
   {
    "duration": 27,
    "start_time": "2022-05-20T11:00:50.967Z"
   },
   {
    "duration": 20,
    "start_time": "2022-05-20T11:01:48.278Z"
   },
   {
    "duration": 24,
    "start_time": "2022-05-20T11:01:55.884Z"
   },
   {
    "duration": 19,
    "start_time": "2022-05-20T11:02:46.542Z"
   },
   {
    "duration": 26,
    "start_time": "2022-05-20T11:03:06.803Z"
   },
   {
    "duration": 24,
    "start_time": "2022-05-20T11:03:40.148Z"
   },
   {
    "duration": 25,
    "start_time": "2022-05-20T11:06:49.997Z"
   },
   {
    "duration": 22,
    "start_time": "2022-05-20T11:07:48.560Z"
   },
   {
    "duration": 26,
    "start_time": "2022-05-20T11:08:00.405Z"
   },
   {
    "duration": 13,
    "start_time": "2022-05-20T11:08:14.599Z"
   },
   {
    "duration": 26,
    "start_time": "2022-05-20T11:08:25.849Z"
   },
   {
    "duration": 24,
    "start_time": "2022-05-20T11:08:30.417Z"
   },
   {
    "duration": 26,
    "start_time": "2022-05-20T11:08:36.995Z"
   },
   {
    "duration": 17,
    "start_time": "2022-05-20T11:08:50.983Z"
   },
   {
    "duration": 21,
    "start_time": "2022-05-20T11:08:57.744Z"
   },
   {
    "duration": 27,
    "start_time": "2022-05-20T11:09:02.014Z"
   },
   {
    "duration": 15,
    "start_time": "2022-05-20T11:09:07.746Z"
   },
   {
    "duration": 17,
    "start_time": "2022-05-20T11:10:38.713Z"
   },
   {
    "duration": 14,
    "start_time": "2022-05-20T11:10:53.264Z"
   },
   {
    "duration": 13,
    "start_time": "2022-05-20T11:11:06.467Z"
   },
   {
    "duration": 45,
    "start_time": "2022-05-20T11:14:23.730Z"
   },
   {
    "duration": 147,
    "start_time": "2022-05-20T11:14:30.093Z"
   },
   {
    "duration": 45,
    "start_time": "2022-05-20T11:14:49.050Z"
   },
   {
    "duration": 158,
    "start_time": "2022-05-20T11:14:49.618Z"
   },
   {
    "duration": 9,
    "start_time": "2022-05-20T11:15:20.394Z"
   },
   {
    "duration": 49,
    "start_time": "2022-05-20T11:15:21.944Z"
   },
   {
    "duration": 215,
    "start_time": "2022-05-20T11:15:22.612Z"
   },
   {
    "duration": 1641,
    "start_time": "2022-05-20T11:15:40.861Z"
   },
   {
    "duration": 315,
    "start_time": "2022-05-20T11:15:48.893Z"
   },
   {
    "duration": 8,
    "start_time": "2022-05-20T11:16:42.018Z"
   },
   {
    "duration": 4,
    "start_time": "2022-05-20T11:19:20.096Z"
   },
   {
    "duration": 793,
    "start_time": "2022-05-20T11:19:20.103Z"
   },
   {
    "duration": 129,
    "start_time": "2022-05-20T11:19:20.898Z"
   },
   {
    "duration": 37,
    "start_time": "2022-05-20T11:19:21.029Z"
   },
   {
    "duration": 6,
    "start_time": "2022-05-20T11:19:21.068Z"
   },
   {
    "duration": 48,
    "start_time": "2022-05-20T11:19:21.075Z"
   },
   {
    "duration": 3,
    "start_time": "2022-05-20T11:19:21.125Z"
   },
   {
    "duration": 13,
    "start_time": "2022-05-20T11:19:21.130Z"
   },
   {
    "duration": 88,
    "start_time": "2022-05-20T11:19:21.145Z"
   },
   {
    "duration": 67,
    "start_time": "2022-05-20T11:19:21.234Z"
   },
   {
    "duration": 44,
    "start_time": "2022-05-20T11:19:21.303Z"
   },
   {
    "duration": 135,
    "start_time": "2022-05-20T11:19:21.349Z"
   },
   {
    "duration": 4,
    "start_time": "2022-05-20T11:19:21.486Z"
   },
   {
    "duration": 8,
    "start_time": "2022-05-20T11:19:21.491Z"
   },
   {
    "duration": 10,
    "start_time": "2022-05-20T11:19:21.501Z"
   },
   {
    "duration": 154,
    "start_time": "2022-05-20T11:19:21.513Z"
   },
   {
    "duration": 15,
    "start_time": "2022-05-20T11:19:29.597Z"
   },
   {
    "duration": 13,
    "start_time": "2022-05-20T11:19:34.895Z"
   },
   {
    "duration": 14,
    "start_time": "2022-05-20T11:19:41.559Z"
   },
   {
    "duration": 14,
    "start_time": "2022-05-20T11:19:47.065Z"
   },
   {
    "duration": 14,
    "start_time": "2022-05-20T11:19:53.213Z"
   },
   {
    "duration": 15,
    "start_time": "2022-05-20T11:19:58.954Z"
   },
   {
    "duration": 14,
    "start_time": "2022-05-20T11:20:04.393Z"
   },
   {
    "duration": 14,
    "start_time": "2022-05-20T11:20:08.485Z"
   },
   {
    "duration": 14,
    "start_time": "2022-05-20T11:20:12.955Z"
   },
   {
    "duration": 12,
    "start_time": "2022-05-20T11:21:36.410Z"
   },
   {
    "duration": 11,
    "start_time": "2022-05-20T11:21:45.941Z"
   },
   {
    "duration": 12,
    "start_time": "2022-05-20T11:21:56.727Z"
   },
   {
    "duration": 21,
    "start_time": "2022-05-20T11:22:06.211Z"
   },
   {
    "duration": 21,
    "start_time": "2022-05-20T11:24:25.078Z"
   },
   {
    "duration": 5,
    "start_time": "2022-05-20T11:45:56.228Z"
   },
   {
    "duration": 813,
    "start_time": "2022-05-20T11:45:56.235Z"
   },
   {
    "duration": 128,
    "start_time": "2022-05-20T11:45:57.050Z"
   },
   {
    "duration": 58,
    "start_time": "2022-05-20T11:45:57.180Z"
   },
   {
    "duration": 5,
    "start_time": "2022-05-20T11:45:57.240Z"
   },
   {
    "duration": 35,
    "start_time": "2022-05-20T11:45:57.246Z"
   },
   {
    "duration": 8,
    "start_time": "2022-05-20T11:45:57.282Z"
   },
   {
    "duration": 14,
    "start_time": "2022-05-20T11:45:57.291Z"
   },
   {
    "duration": 81,
    "start_time": "2022-05-20T11:45:57.324Z"
   },
   {
    "duration": 74,
    "start_time": "2022-05-20T11:45:57.407Z"
   },
   {
    "duration": 41,
    "start_time": "2022-05-20T11:45:57.483Z"
   },
   {
    "duration": 140,
    "start_time": "2022-05-20T11:45:57.526Z"
   },
   {
    "duration": 4,
    "start_time": "2022-05-20T11:45:57.668Z"
   },
   {
    "duration": 6,
    "start_time": "2022-05-20T11:45:57.673Z"
   },
   {
    "duration": 8,
    "start_time": "2022-05-20T11:46:01.249Z"
   },
   {
    "duration": 158,
    "start_time": "2022-05-20T11:46:02.780Z"
   },
   {
    "duration": 12,
    "start_time": "2022-05-20T11:46:41.063Z"
   },
   {
    "duration": 12,
    "start_time": "2022-05-20T11:47:43.577Z"
   },
   {
    "duration": 12,
    "start_time": "2022-05-20T11:48:08.943Z"
   },
   {
    "duration": 12,
    "start_time": "2022-05-20T11:48:09.425Z"
   },
   {
    "duration": 36,
    "start_time": "2022-05-20T11:50:22.435Z"
   },
   {
    "duration": 308,
    "start_time": "2022-05-20T11:50:36.443Z"
   },
   {
    "duration": 45,
    "start_time": "2022-05-20T11:52:39.854Z"
   },
   {
    "duration": 158,
    "start_time": "2022-05-20T11:52:40.307Z"
   },
   {
    "duration": 11,
    "start_time": "2022-05-20T11:57:20.510Z"
   },
   {
    "duration": 10,
    "start_time": "2022-05-20T11:57:25.352Z"
   },
   {
    "duration": 12,
    "start_time": "2022-05-20T11:57:37.720Z"
   },
   {
    "duration": 9,
    "start_time": "2022-05-20T11:57:44.650Z"
   },
   {
    "duration": 11,
    "start_time": "2022-05-20T11:57:55.905Z"
   },
   {
    "duration": 11,
    "start_time": "2022-05-20T11:58:18.642Z"
   },
   {
    "duration": 43,
    "start_time": "2022-05-20T11:58:50.375Z"
   },
   {
    "duration": 165,
    "start_time": "2022-05-20T11:58:57.387Z"
   },
   {
    "duration": 305,
    "start_time": "2022-05-20T11:59:15.418Z"
   },
   {
    "duration": 325,
    "start_time": "2022-05-20T11:59:39.124Z"
   },
   {
    "duration": 313,
    "start_time": "2022-05-20T11:59:45.887Z"
   },
   {
    "duration": 325,
    "start_time": "2022-05-20T11:59:50.825Z"
   },
   {
    "duration": 320,
    "start_time": "2022-05-20T11:59:55.241Z"
   },
   {
    "duration": 352,
    "start_time": "2022-05-20T12:00:07.741Z"
   },
   {
    "duration": 337,
    "start_time": "2022-05-20T12:00:13.320Z"
   },
   {
    "duration": 334,
    "start_time": "2022-05-20T12:00:19.888Z"
   },
   {
    "duration": 311,
    "start_time": "2022-05-20T12:00:32.025Z"
   },
   {
    "duration": 312,
    "start_time": "2022-05-20T12:00:44.294Z"
   },
   {
    "duration": 306,
    "start_time": "2022-05-20T12:01:46.488Z"
   },
   {
    "duration": 445,
    "start_time": "2022-05-20T12:01:56.207Z"
   },
   {
    "duration": 329,
    "start_time": "2022-05-20T12:02:04.513Z"
   },
   {
    "duration": 338,
    "start_time": "2022-05-20T12:02:10.213Z"
   },
   {
    "duration": 328,
    "start_time": "2022-05-20T12:02:20.163Z"
   },
   {
    "duration": 318,
    "start_time": "2022-05-20T12:02:24.616Z"
   },
   {
    "duration": 323,
    "start_time": "2022-05-20T12:02:34.016Z"
   },
   {
    "duration": 336,
    "start_time": "2022-05-20T12:02:38.600Z"
   },
   {
    "duration": 317,
    "start_time": "2022-05-20T12:02:45.644Z"
   },
   {
    "duration": 307,
    "start_time": "2022-05-20T12:02:50.234Z"
   },
   {
    "duration": 302,
    "start_time": "2022-05-20T12:02:55.028Z"
   },
   {
    "duration": 304,
    "start_time": "2022-05-20T12:03:04.512Z"
   },
   {
    "duration": 4,
    "start_time": "2022-05-20T12:03:21.579Z"
   },
   {
    "duration": 843,
    "start_time": "2022-05-20T12:03:21.584Z"
   },
   {
    "duration": 145,
    "start_time": "2022-05-20T12:03:22.429Z"
   },
   {
    "duration": 72,
    "start_time": "2022-05-20T12:03:22.577Z"
   },
   {
    "duration": 6,
    "start_time": "2022-05-20T12:03:22.651Z"
   },
   {
    "duration": 46,
    "start_time": "2022-05-20T12:03:22.659Z"
   },
   {
    "duration": 5,
    "start_time": "2022-05-20T12:03:22.707Z"
   },
   {
    "duration": 22,
    "start_time": "2022-05-20T12:03:22.722Z"
   },
   {
    "duration": 93,
    "start_time": "2022-05-20T12:03:22.748Z"
   },
   {
    "duration": 87,
    "start_time": "2022-05-20T12:03:22.843Z"
   },
   {
    "duration": 34,
    "start_time": "2022-05-20T12:03:22.932Z"
   },
   {
    "duration": 150,
    "start_time": "2022-05-20T12:03:22.967Z"
   },
   {
    "duration": 4,
    "start_time": "2022-05-20T12:03:23.119Z"
   },
   {
    "duration": 8,
    "start_time": "2022-05-20T12:03:23.124Z"
   },
   {
    "duration": 12,
    "start_time": "2022-05-20T12:03:23.133Z"
   },
   {
    "duration": 166,
    "start_time": "2022-05-20T12:03:23.147Z"
   },
   {
    "duration": 17,
    "start_time": "2022-05-20T12:03:23.315Z"
   },
   {
    "duration": 11,
    "start_time": "2022-05-20T12:03:23.334Z"
   },
   {
    "duration": 10,
    "start_time": "2022-05-20T12:03:23.347Z"
   },
   {
    "duration": 37,
    "start_time": "2022-05-20T12:03:23.359Z"
   },
   {
    "duration": 279,
    "start_time": "2022-05-20T12:03:23.424Z"
   },
   {
    "duration": 53,
    "start_time": "2022-05-20T12:03:23.704Z"
   },
   {
    "duration": 163,
    "start_time": "2022-05-20T12:03:23.758Z"
   },
   {
    "duration": 10,
    "start_time": "2022-05-20T12:03:23.924Z"
   },
   {
    "duration": 46,
    "start_time": "2022-05-20T12:03:25.901Z"
   },
   {
    "duration": 147,
    "start_time": "2022-05-20T12:03:26.524Z"
   },
   {
    "duration": 310,
    "start_time": "2022-05-20T12:03:34.354Z"
   },
   {
    "duration": 323,
    "start_time": "2022-05-20T12:03:45.112Z"
   },
   {
    "duration": 328,
    "start_time": "2022-05-20T12:03:49.168Z"
   },
   {
    "duration": 325,
    "start_time": "2022-05-20T12:03:54.288Z"
   },
   {
    "duration": 323,
    "start_time": "2022-05-20T12:04:05.847Z"
   },
   {
    "duration": 18,
    "start_time": "2022-05-20T12:04:33.887Z"
   },
   {
    "duration": 3,
    "start_time": "2022-05-20T12:04:39.052Z"
   },
   {
    "duration": 769,
    "start_time": "2022-05-20T12:04:39.057Z"
   },
   {
    "duration": 137,
    "start_time": "2022-05-20T12:04:39.829Z"
   },
   {
    "duration": 58,
    "start_time": "2022-05-20T12:04:39.968Z"
   },
   {
    "duration": 5,
    "start_time": "2022-05-20T12:04:40.028Z"
   },
   {
    "duration": 31,
    "start_time": "2022-05-20T12:04:40.035Z"
   },
   {
    "duration": 12,
    "start_time": "2022-05-20T12:04:40.068Z"
   },
   {
    "duration": 20,
    "start_time": "2022-05-20T12:04:40.082Z"
   },
   {
    "duration": 82,
    "start_time": "2022-05-20T12:04:40.104Z"
   },
   {
    "duration": 73,
    "start_time": "2022-05-20T12:04:40.187Z"
   },
   {
    "duration": 32,
    "start_time": "2022-05-20T12:04:40.262Z"
   },
   {
    "duration": 133,
    "start_time": "2022-05-20T12:04:40.295Z"
   },
   {
    "duration": 3,
    "start_time": "2022-05-20T12:04:40.430Z"
   },
   {
    "duration": 12,
    "start_time": "2022-05-20T12:04:40.435Z"
   },
   {
    "duration": 22,
    "start_time": "2022-05-20T12:04:42.849Z"
   },
   {
    "duration": 153,
    "start_time": "2022-05-20T12:05:11.848Z"
   },
   {
    "duration": 137,
    "start_time": "2022-05-20T12:05:18.784Z"
   },
   {
    "duration": 13,
    "start_time": "2022-05-20T12:05:21.256Z"
   },
   {
    "duration": 12,
    "start_time": "2022-05-20T12:05:26.358Z"
   },
   {
    "duration": 12,
    "start_time": "2022-05-20T12:05:27.454Z"
   },
   {
    "duration": 38,
    "start_time": "2022-05-20T12:05:30.968Z"
   },
   {
    "duration": 162,
    "start_time": "2022-05-20T12:05:32.966Z"
   },
   {
    "duration": 1355,
    "start_time": "2022-05-20T12:05:54.605Z"
   },
   {
    "duration": 825,
    "start_time": "2022-05-20T12:05:55.963Z"
   },
   {
    "duration": 136,
    "start_time": "2022-05-20T12:05:56.790Z"
   },
   {
    "duration": 52,
    "start_time": "2022-05-20T12:05:56.928Z"
   },
   {
    "duration": 10,
    "start_time": "2022-05-20T12:05:56.982Z"
   },
   {
    "duration": 45,
    "start_time": "2022-05-20T12:05:56.994Z"
   },
   {
    "duration": 5,
    "start_time": "2022-05-20T12:05:57.041Z"
   },
   {
    "duration": 15,
    "start_time": "2022-05-20T12:05:57.048Z"
   },
   {
    "duration": 95,
    "start_time": "2022-05-20T12:05:57.064Z"
   },
   {
    "duration": 84,
    "start_time": "2022-05-20T12:05:57.161Z"
   },
   {
    "duration": 32,
    "start_time": "2022-05-20T12:05:57.247Z"
   },
   {
    "duration": 153,
    "start_time": "2022-05-20T12:05:57.280Z"
   },
   {
    "duration": 4,
    "start_time": "2022-05-20T12:05:57.435Z"
   },
   {
    "duration": 7,
    "start_time": "2022-05-20T12:05:57.440Z"
   },
   {
    "duration": 19,
    "start_time": "2022-05-20T12:05:59.370Z"
   },
   {
    "duration": 155,
    "start_time": "2022-05-20T12:06:00.565Z"
   },
   {
    "duration": 16,
    "start_time": "2022-05-20T12:06:03.277Z"
   },
   {
    "duration": 12,
    "start_time": "2022-05-20T12:06:05.367Z"
   },
   {
    "duration": 12,
    "start_time": "2022-05-20T12:06:06.029Z"
   },
   {
    "duration": 44,
    "start_time": "2022-05-20T12:06:08.563Z"
   },
   {
    "duration": 154,
    "start_time": "2022-05-20T12:06:09.454Z"
   },
   {
    "duration": 49,
    "start_time": "2022-05-20T12:06:17.096Z"
   },
   {
    "duration": 148,
    "start_time": "2022-05-20T12:06:17.624Z"
   },
   {
    "duration": 13,
    "start_time": "2022-05-20T12:06:35.280Z"
   },
   {
    "duration": 12,
    "start_time": "2022-05-20T12:06:39.349Z"
   },
   {
    "duration": 10,
    "start_time": "2022-05-20T12:06:46.232Z"
   },
   {
    "duration": 10,
    "start_time": "2022-05-20T12:06:51.134Z"
   },
   {
    "duration": 45,
    "start_time": "2022-05-20T12:06:59.879Z"
   },
   {
    "duration": 155,
    "start_time": "2022-05-20T12:07:00.698Z"
   },
   {
    "duration": 345,
    "start_time": "2022-05-20T12:07:04.523Z"
   },
   {
    "duration": 318,
    "start_time": "2022-05-20T12:07:10.592Z"
   },
   {
    "duration": 18,
    "start_time": "2022-05-20T12:07:28.328Z"
   },
   {
    "duration": 302,
    "start_time": "2022-05-20T12:07:57.498Z"
   },
   {
    "duration": 50,
    "start_time": "2022-05-20T12:08:13.520Z"
   },
   {
    "duration": 47,
    "start_time": "2022-05-20T12:08:53.114Z"
   },
   {
    "duration": 37,
    "start_time": "2022-05-20T12:09:18.616Z"
   },
   {
    "duration": 24,
    "start_time": "2022-05-20T12:09:25.165Z"
   },
   {
    "duration": 35,
    "start_time": "2022-05-20T12:10:31.366Z"
   },
   {
    "duration": 299,
    "start_time": "2022-05-20T12:10:32.283Z"
   },
   {
    "duration": 57,
    "start_time": "2022-05-20T12:10:35.589Z"
   },
   {
    "duration": 64,
    "start_time": "2022-05-20T12:10:37.483Z"
   },
   {
    "duration": 62,
    "start_time": "2022-05-20T12:10:38.373Z"
   },
   {
    "duration": 4097,
    "start_time": "2022-05-20T12:10:45.082Z"
   },
   {
    "duration": 33,
    "start_time": "2022-05-20T12:10:49.181Z"
   },
   {
    "duration": 41,
    "start_time": "2022-05-20T12:10:49.223Z"
   },
   {
    "duration": 39,
    "start_time": "2022-05-20T12:10:49.267Z"
   },
   {
    "duration": 32,
    "start_time": "2022-05-20T12:10:59.562Z"
   },
   {
    "duration": 38,
    "start_time": "2022-05-20T12:11:01.996Z"
   },
   {
    "duration": 9,
    "start_time": "2022-05-20T12:11:16.102Z"
   },
   {
    "duration": 20,
    "start_time": "2022-05-20T12:11:28.609Z"
   },
   {
    "duration": 168,
    "start_time": "2022-05-20T12:11:39.308Z"
   },
   {
    "duration": 20,
    "start_time": "2022-05-20T12:11:48.418Z"
   },
   {
    "duration": 153,
    "start_time": "2022-05-20T12:11:53.893Z"
   },
   {
    "duration": 22,
    "start_time": "2022-05-20T12:12:04.805Z"
   },
   {
    "duration": 22,
    "start_time": "2022-05-20T12:12:27.069Z"
   },
   {
    "duration": 12,
    "start_time": "2022-05-20T12:12:29.351Z"
   },
   {
    "duration": 240,
    "start_time": "2022-05-20T12:12:31.803Z"
   },
   {
    "duration": 11,
    "start_time": "2022-05-20T12:12:36.092Z"
   },
   {
    "duration": 150,
    "start_time": "2022-05-20T12:12:37.797Z"
   },
   {
    "duration": 12,
    "start_time": "2022-05-20T12:12:51.342Z"
   },
   {
    "duration": 281,
    "start_time": "2022-05-20T12:12:52.534Z"
   },
   {
    "duration": 23,
    "start_time": "2022-05-20T12:12:56.942Z"
   },
   {
    "duration": 11,
    "start_time": "2022-05-20T12:12:59.654Z"
   },
   {
    "duration": 304,
    "start_time": "2022-05-20T12:13:03.880Z"
   },
   {
    "duration": 310,
    "start_time": "2022-05-20T12:13:07.178Z"
   },
   {
    "duration": 45,
    "start_time": "2022-05-20T12:13:11.658Z"
   },
   {
    "duration": 3,
    "start_time": "2022-05-20T12:13:21.646Z"
   },
   {
    "duration": 858,
    "start_time": "2022-05-20T12:13:21.651Z"
   },
   {
    "duration": 179,
    "start_time": "2022-05-20T12:13:22.511Z"
   },
   {
    "duration": 61,
    "start_time": "2022-05-20T12:13:22.693Z"
   },
   {
    "duration": 6,
    "start_time": "2022-05-20T12:13:22.757Z"
   },
   {
    "duration": 43,
    "start_time": "2022-05-20T12:13:22.765Z"
   },
   {
    "duration": 13,
    "start_time": "2022-05-20T12:13:22.810Z"
   },
   {
    "duration": 13,
    "start_time": "2022-05-20T12:13:22.825Z"
   },
   {
    "duration": 93,
    "start_time": "2022-05-20T12:13:22.840Z"
   },
   {
    "duration": 71,
    "start_time": "2022-05-20T12:13:22.935Z"
   },
   {
    "duration": 46,
    "start_time": "2022-05-20T12:13:23.007Z"
   },
   {
    "duration": 147,
    "start_time": "2022-05-20T12:13:23.055Z"
   },
   {
    "duration": 3,
    "start_time": "2022-05-20T12:13:23.204Z"
   },
   {
    "duration": 6,
    "start_time": "2022-05-20T12:13:23.209Z"
   },
   {
    "duration": 18,
    "start_time": "2022-05-20T12:13:23.223Z"
   },
   {
    "duration": 163,
    "start_time": "2022-05-20T12:13:23.242Z"
   },
   {
    "duration": 21,
    "start_time": "2022-05-20T12:13:23.408Z"
   },
   {
    "duration": 11,
    "start_time": "2022-05-20T12:13:23.431Z"
   },
   {
    "duration": 11,
    "start_time": "2022-05-20T12:13:23.443Z"
   },
   {
    "duration": 39,
    "start_time": "2022-05-20T12:13:23.455Z"
   },
   {
    "duration": 179,
    "start_time": "2022-05-20T12:13:23.495Z"
   },
   {
    "duration": 49,
    "start_time": "2022-05-20T12:13:23.676Z"
   },
   {
    "duration": 173,
    "start_time": "2022-05-20T12:13:23.727Z"
   },
   {
    "duration": 21,
    "start_time": "2022-05-20T12:13:23.903Z"
   },
   {
    "duration": 49,
    "start_time": "2022-05-20T12:13:23.926Z"
   },
   {
    "duration": 186,
    "start_time": "2022-05-20T12:13:23.977Z"
   },
   {
    "duration": 399,
    "start_time": "2022-05-20T12:13:24.165Z"
   },
   {
    "duration": 17,
    "start_time": "2022-05-20T12:13:24.566Z"
   },
   {
    "duration": 294,
    "start_time": "2022-05-20T12:13:24.585Z"
   },
   {
    "duration": 52,
    "start_time": "2022-05-20T12:13:24.881Z"
   },
   {
    "duration": 47,
    "start_time": "2022-05-20T12:13:24.935Z"
   },
   {
    "duration": 54,
    "start_time": "2022-05-20T12:13:24.984Z"
   },
   {
    "duration": 284,
    "start_time": "2022-05-20T12:13:25.040Z"
   },
   {
    "duration": 57,
    "start_time": "2022-05-20T12:13:25.325Z"
   },
   {
    "duration": 82,
    "start_time": "2022-05-20T12:13:25.384Z"
   },
   {
    "duration": 90,
    "start_time": "2022-05-20T12:13:25.467Z"
   },
   {
    "duration": 4170,
    "start_time": "2022-05-20T12:13:25.558Z"
   },
   {
    "duration": 31,
    "start_time": "2022-05-20T12:13:29.729Z"
   },
   {
    "duration": 34,
    "start_time": "2022-05-20T12:13:29.762Z"
   },
   {
    "duration": 56,
    "start_time": "2022-05-20T12:13:29.798Z"
   },
   {
    "duration": 34,
    "start_time": "2022-05-20T12:13:29.856Z"
   },
   {
    "duration": 45,
    "start_time": "2022-05-20T12:13:29.892Z"
   },
   {
    "duration": 18,
    "start_time": "2022-05-20T12:13:29.940Z"
   },
   {
    "duration": 202,
    "start_time": "2022-05-20T12:13:29.960Z"
   },
   {
    "duration": 19,
    "start_time": "2022-05-20T12:13:30.164Z"
   },
   {
    "duration": 163,
    "start_time": "2022-05-20T12:13:30.184Z"
   },
   {
    "duration": 21,
    "start_time": "2022-05-20T12:13:30.349Z"
   },
   {
    "duration": 11,
    "start_time": "2022-05-20T12:13:30.371Z"
   },
   {
    "duration": 192,
    "start_time": "2022-05-20T12:13:30.383Z"
   },
   {
    "duration": 12,
    "start_time": "2022-05-20T12:13:30.577Z"
   },
   {
    "duration": 159,
    "start_time": "2022-05-20T12:13:30.591Z"
   },
   {
    "duration": 13,
    "start_time": "2022-05-20T12:13:30.752Z"
   },
   {
    "duration": 162,
    "start_time": "2022-05-20T12:13:30.767Z"
   },
   {
    "duration": 21,
    "start_time": "2022-05-20T12:13:30.931Z"
   },
   {
    "duration": 11,
    "start_time": "2022-05-20T12:13:30.954Z"
   },
   {
    "duration": 319,
    "start_time": "2022-05-20T12:13:30.967Z"
   },
   {
    "duration": 315,
    "start_time": "2022-05-20T12:13:35.937Z"
   },
   {
    "duration": 43,
    "start_time": "2022-05-20T12:13:38.302Z"
   },
   {
    "duration": 8,
    "start_time": "2022-05-20T12:13:48.148Z"
   },
   {
    "duration": 150,
    "start_time": "2022-05-20T12:13:51.610Z"
   },
   {
    "duration": 223,
    "start_time": "2022-05-20T12:13:52.422Z"
   },
   {
    "duration": 297,
    "start_time": "2022-05-20T12:13:56.241Z"
   },
   {
    "duration": 18,
    "start_time": "2022-05-20T12:15:22.380Z"
   },
   {
    "duration": 18,
    "start_time": "2022-05-20T12:16:53.032Z"
   },
   {
    "duration": 14,
    "start_time": "2022-05-20T12:17:01.786Z"
   },
   {
    "duration": 44,
    "start_time": "2022-05-20T12:52:43.159Z"
   },
   {
    "duration": 17,
    "start_time": "2022-05-20T12:52:50.124Z"
   },
   {
    "duration": 304,
    "start_time": "2022-05-20T12:54:49.153Z"
   },
   {
    "duration": 306,
    "start_time": "2022-05-20T12:54:55.933Z"
   },
   {
    "duration": 425,
    "start_time": "2022-05-20T12:55:05.776Z"
   },
   {
    "duration": 1734,
    "start_time": "2022-05-20T12:55:11.869Z"
   },
   {
    "duration": 899,
    "start_time": "2022-05-20T12:55:20.107Z"
   },
   {
    "duration": 646,
    "start_time": "2022-05-20T12:55:28.323Z"
   },
   {
    "duration": 11,
    "start_time": "2022-05-20T12:55:50.131Z"
   },
   {
    "duration": 12,
    "start_time": "2022-05-20T12:55:54.755Z"
   },
   {
    "duration": 17,
    "start_time": "2022-05-20T12:56:56.482Z"
   },
   {
    "duration": 11,
    "start_time": "2022-05-20T12:57:02.356Z"
   },
   {
    "duration": 11,
    "start_time": "2022-05-20T12:57:15.899Z"
   },
   {
    "duration": 15,
    "start_time": "2022-05-20T12:57:22.859Z"
   },
   {
    "duration": 10,
    "start_time": "2022-05-20T12:57:27.077Z"
   },
   {
    "duration": 11,
    "start_time": "2022-05-20T12:57:31.428Z"
   },
   {
    "duration": 93,
    "start_time": "2022-05-20T12:58:04.799Z"
   },
   {
    "duration": 105,
    "start_time": "2022-05-20T12:58:09.466Z"
   },
   {
    "duration": 8,
    "start_time": "2022-05-20T12:59:16.544Z"
   },
   {
    "duration": 4,
    "start_time": "2022-05-20T12:59:25.583Z"
   },
   {
    "duration": 821,
    "start_time": "2022-05-20T12:59:25.589Z"
   },
   {
    "duration": 123,
    "start_time": "2022-05-20T12:59:26.412Z"
   },
   {
    "duration": 41,
    "start_time": "2022-05-20T12:59:26.538Z"
   },
   {
    "duration": 6,
    "start_time": "2022-05-20T12:59:26.580Z"
   },
   {
    "duration": 56,
    "start_time": "2022-05-20T12:59:26.587Z"
   },
   {
    "duration": 6,
    "start_time": "2022-05-20T12:59:26.645Z"
   },
   {
    "duration": 13,
    "start_time": "2022-05-20T12:59:26.653Z"
   },
   {
    "duration": 92,
    "start_time": "2022-05-20T12:59:26.668Z"
   },
   {
    "duration": 81,
    "start_time": "2022-05-20T12:59:26.761Z"
   },
   {
    "duration": 32,
    "start_time": "2022-05-20T12:59:26.844Z"
   },
   {
    "duration": 147,
    "start_time": "2022-05-20T12:59:26.877Z"
   },
   {
    "duration": 4,
    "start_time": "2022-05-20T12:59:27.026Z"
   },
   {
    "duration": 6,
    "start_time": "2022-05-20T12:59:27.032Z"
   },
   {
    "duration": 21,
    "start_time": "2022-05-20T12:59:27.039Z"
   },
   {
    "duration": 168,
    "start_time": "2022-05-20T12:59:27.062Z"
   },
   {
    "duration": 13,
    "start_time": "2022-05-20T12:59:27.232Z"
   },
   {
    "duration": 12,
    "start_time": "2022-05-20T12:59:27.246Z"
   },
   {
    "duration": 11,
    "start_time": "2022-05-20T12:59:27.259Z"
   },
   {
    "duration": 72,
    "start_time": "2022-05-20T12:59:27.272Z"
   },
   {
    "duration": 171,
    "start_time": "2022-05-20T12:59:27.345Z"
   },
   {
    "duration": 44,
    "start_time": "2022-05-20T12:59:27.522Z"
   },
   {
    "duration": 177,
    "start_time": "2022-05-20T12:59:27.568Z"
   },
   {
    "duration": 12,
    "start_time": "2022-05-20T12:59:27.749Z"
   },
   {
    "duration": 41,
    "start_time": "2022-05-20T12:59:27.763Z"
   },
   {
    "duration": 176,
    "start_time": "2022-05-20T12:59:27.824Z"
   },
   {
    "duration": 344,
    "start_time": "2022-05-20T12:59:28.002Z"
   },
   {
    "duration": 19,
    "start_time": "2022-05-20T12:59:28.347Z"
   },
   {
    "duration": 305,
    "start_time": "2022-05-20T12:59:28.367Z"
   },
   {
    "duration": 54,
    "start_time": "2022-05-20T12:59:28.674Z"
   },
   {
    "duration": 49,
    "start_time": "2022-05-20T12:59:28.730Z"
   },
   {
    "duration": 55,
    "start_time": "2022-05-20T12:59:28.781Z"
   },
   {
    "duration": 314,
    "start_time": "2022-05-20T12:59:28.838Z"
   },
   {
    "duration": 60,
    "start_time": "2022-05-20T12:59:29.153Z"
   },
   {
    "duration": 91,
    "start_time": "2022-05-20T12:59:29.223Z"
   },
   {
    "duration": 69,
    "start_time": "2022-05-20T12:59:29.324Z"
   },
   {
    "duration": 4147,
    "start_time": "2022-05-20T12:59:29.395Z"
   },
   {
    "duration": 31,
    "start_time": "2022-05-20T12:59:33.544Z"
   },
   {
    "duration": 47,
    "start_time": "2022-05-20T12:59:33.577Z"
   },
   {
    "duration": 45,
    "start_time": "2022-05-20T12:59:33.626Z"
   },
   {
    "duration": 37,
    "start_time": "2022-05-20T12:59:33.673Z"
   },
   {
    "duration": 38,
    "start_time": "2022-05-20T12:59:33.711Z"
   },
   {
    "duration": 18,
    "start_time": "2022-05-20T12:59:33.751Z"
   },
   {
    "duration": 204,
    "start_time": "2022-05-20T12:59:33.771Z"
   },
   {
    "duration": 21,
    "start_time": "2022-05-20T12:59:33.976Z"
   },
   {
    "duration": 173,
    "start_time": "2022-05-20T12:59:33.999Z"
   },
   {
    "duration": 22,
    "start_time": "2022-05-20T12:59:34.174Z"
   },
   {
    "duration": 25,
    "start_time": "2022-05-20T12:59:34.198Z"
   },
   {
    "duration": 171,
    "start_time": "2022-05-20T12:59:34.225Z"
   },
   {
    "duration": 25,
    "start_time": "2022-05-20T12:59:34.398Z"
   },
   {
    "duration": 144,
    "start_time": "2022-05-20T12:59:34.425Z"
   },
   {
    "duration": 13,
    "start_time": "2022-05-20T12:59:34.571Z"
   },
   {
    "duration": 170,
    "start_time": "2022-05-20T12:59:34.586Z"
   },
   {
    "duration": 20,
    "start_time": "2022-05-20T12:59:34.758Z"
   },
   {
    "duration": 10,
    "start_time": "2022-05-20T12:59:34.780Z"
   },
   {
    "duration": 426,
    "start_time": "2022-05-20T12:59:34.792Z"
   },
   {
    "duration": 285,
    "start_time": "2022-05-20T12:59:35.219Z"
   },
   {
    "duration": 58,
    "start_time": "2022-05-20T12:59:35.506Z"
   },
   {
    "duration": 7,
    "start_time": "2022-05-20T12:59:35.566Z"
   },
   {
    "duration": 18,
    "start_time": "2022-05-20T12:59:35.575Z"
   },
   {
    "duration": 216,
    "start_time": "2022-05-20T12:59:35.595Z"
   },
   {
    "duration": 468,
    "start_time": "2022-05-20T12:59:35.813Z"
   },
   {
    "duration": 62,
    "start_time": "2022-05-20T12:59:36.283Z"
   },
   {
    "duration": 16,
    "start_time": "2022-05-20T13:00:32.812Z"
   },
   {
    "duration": 14,
    "start_time": "2022-05-20T13:00:52.150Z"
   },
   {
    "duration": 15,
    "start_time": "2022-05-20T13:01:03.609Z"
   },
   {
    "duration": 14,
    "start_time": "2022-05-20T13:01:32.354Z"
   },
   {
    "duration": 48,
    "start_time": "2022-05-20T13:01:35.300Z"
   },
   {
    "duration": 12,
    "start_time": "2022-05-20T13:01:36.003Z"
   },
   {
    "duration": 22,
    "start_time": "2022-05-20T13:01:48.069Z"
   },
   {
    "duration": 29,
    "start_time": "2022-05-20T13:02:51.933Z"
   },
   {
    "duration": 154,
    "start_time": "2022-05-20T13:02:58.003Z"
   },
   {
    "duration": 47,
    "start_time": "2022-05-20T13:03:24.393Z"
   },
   {
    "duration": 132,
    "start_time": "2022-05-20T13:03:32.874Z"
   },
   {
    "duration": 119,
    "start_time": "2022-05-20T13:03:50.879Z"
   },
   {
    "duration": 36,
    "start_time": "2022-05-20T13:04:00.209Z"
   },
   {
    "duration": 22,
    "start_time": "2022-05-20T13:04:50.165Z"
   },
   {
    "duration": 18,
    "start_time": "2022-05-20T13:04:56.077Z"
   },
   {
    "duration": 12,
    "start_time": "2022-05-20T13:05:04.390Z"
   },
   {
    "duration": 14,
    "start_time": "2022-05-20T13:05:12.564Z"
   },
   {
    "duration": 19,
    "start_time": "2022-05-20T13:05:34.806Z"
   },
   {
    "duration": 19,
    "start_time": "2022-05-20T13:05:39.081Z"
   },
   {
    "duration": 17,
    "start_time": "2022-05-20T13:05:45.172Z"
   },
   {
    "duration": 15,
    "start_time": "2022-05-20T13:06:03.084Z"
   },
   {
    "duration": 15,
    "start_time": "2022-05-20T13:06:24.904Z"
   },
   {
    "duration": 12,
    "start_time": "2022-05-20T13:06:28.448Z"
   },
   {
    "duration": 14,
    "start_time": "2022-05-20T13:06:32.032Z"
   },
   {
    "duration": 18,
    "start_time": "2022-05-20T13:06:42.865Z"
   },
   {
    "duration": 61,
    "start_time": "2022-05-20T13:07:11.203Z"
   },
   {
    "duration": 17,
    "start_time": "2022-05-20T13:07:11.716Z"
   },
   {
    "duration": 162,
    "start_time": "2022-05-20T13:07:21.746Z"
   },
   {
    "duration": 163,
    "start_time": "2022-05-20T13:07:24.148Z"
   },
   {
    "duration": 302,
    "start_time": "2022-05-20T13:07:29.991Z"
   },
   {
    "duration": 89,
    "start_time": "2022-05-20T13:07:47.432Z"
   },
   {
    "duration": 25,
    "start_time": "2022-05-20T13:07:49.633Z"
   },
   {
    "duration": 3,
    "start_time": "2022-05-20T13:07:53.642Z"
   },
   {
    "duration": 285,
    "start_time": "2022-05-20T13:07:55.009Z"
   },
   {
    "duration": 4,
    "start_time": "2022-05-20T13:08:09.079Z"
   },
   {
    "duration": 4,
    "start_time": "2022-05-20T13:08:10.788Z"
   },
   {
    "duration": 4,
    "start_time": "2022-05-20T13:08:12.124Z"
   },
   {
    "duration": 3,
    "start_time": "2022-05-20T13:08:18.908Z"
   },
   {
    "duration": 88329,
    "start_time": "2022-05-20T13:08:20.436Z"
   },
   {
    "duration": 0,
    "start_time": "2022-05-20T13:09:48.767Z"
   },
   {
    "duration": 0,
    "start_time": "2022-05-20T13:09:48.768Z"
   },
   {
    "duration": 0,
    "start_time": "2022-05-20T13:09:48.770Z"
   },
   {
    "duration": 0,
    "start_time": "2022-05-20T13:09:48.772Z"
   },
   {
    "duration": 0,
    "start_time": "2022-05-20T13:09:48.773Z"
   },
   {
    "duration": 312,
    "start_time": "2022-05-20T13:09:56.524Z"
   },
   {
    "duration": 17,
    "start_time": "2022-05-20T13:09:57.495Z"
   },
   {
    "duration": 5960,
    "start_time": "2022-05-20T13:10:03.916Z"
   },
   {
    "duration": 2,
    "start_time": "2022-05-20T13:10:17.704Z"
   },
   {
    "duration": 65,
    "start_time": "2022-05-20T13:10:33.930Z"
   },
   {
    "duration": 5,
    "start_time": "2022-05-20T13:11:47.185Z"
   },
   {
    "duration": 4,
    "start_time": "2022-05-20T13:11:48.044Z"
   },
   {
    "duration": 4,
    "start_time": "2022-05-20T13:11:49.018Z"
   },
   {
    "duration": 3,
    "start_time": "2022-05-20T13:12:00.063Z"
   },
   {
    "duration": 118496,
    "start_time": "2022-05-20T13:12:00.753Z"
   },
   {
    "duration": 3,
    "start_time": "2022-05-20T13:14:24.091Z"
   },
   {
    "duration": 4,
    "start_time": "2022-05-20T13:14:25.945Z"
   },
   {
    "duration": 5,
    "start_time": "2022-05-20T13:14:26.442Z"
   },
   {
    "duration": 3,
    "start_time": "2022-05-20T13:14:30.595Z"
   },
   {
    "duration": 23491,
    "start_time": "2022-05-20T13:14:33.149Z"
   },
   {
    "duration": 4,
    "start_time": "2022-05-20T13:15:07.465Z"
   },
   {
    "duration": 87040,
    "start_time": "2022-05-20T13:15:07.997Z"
   },
   {
    "duration": 5,
    "start_time": "2022-05-20T13:16:42.819Z"
   },
   {
    "duration": 890,
    "start_time": "2022-05-20T13:16:42.828Z"
   },
   {
    "duration": 152,
    "start_time": "2022-05-20T13:16:43.720Z"
   },
   {
    "duration": 60,
    "start_time": "2022-05-20T13:16:43.875Z"
   },
   {
    "duration": 9,
    "start_time": "2022-05-20T13:16:43.939Z"
   },
   {
    "duration": 32,
    "start_time": "2022-05-20T13:16:43.950Z"
   },
   {
    "duration": 3,
    "start_time": "2022-05-20T13:16:43.984Z"
   },
   {
    "duration": 21,
    "start_time": "2022-05-20T13:16:43.989Z"
   },
   {
    "duration": 101,
    "start_time": "2022-05-20T13:16:44.012Z"
   },
   {
    "duration": 85,
    "start_time": "2022-05-20T13:16:44.124Z"
   },
   {
    "duration": 45,
    "start_time": "2022-05-20T13:16:44.210Z"
   },
   {
    "duration": 162,
    "start_time": "2022-05-20T13:16:44.257Z"
   },
   {
    "duration": 14,
    "start_time": "2022-05-20T13:16:44.421Z"
   },
   {
    "duration": 18,
    "start_time": "2022-05-20T13:16:44.437Z"
   },
   {
    "duration": 25,
    "start_time": "2022-05-20T13:16:44.457Z"
   },
   {
    "duration": 162,
    "start_time": "2022-05-20T13:16:44.484Z"
   },
   {
    "duration": 13,
    "start_time": "2022-05-20T13:16:44.648Z"
   },
   {
    "duration": 12,
    "start_time": "2022-05-20T13:16:44.663Z"
   },
   {
    "duration": 11,
    "start_time": "2022-05-20T13:16:44.677Z"
   },
   {
    "duration": 69,
    "start_time": "2022-05-20T13:16:44.689Z"
   },
   {
    "duration": 176,
    "start_time": "2022-05-20T13:16:44.760Z"
   },
   {
    "duration": 45,
    "start_time": "2022-05-20T13:16:44.938Z"
   },
   {
    "duration": 172,
    "start_time": "2022-05-20T13:16:44.985Z"
   },
   {
    "duration": 12,
    "start_time": "2022-05-20T13:16:45.159Z"
   },
   {
    "duration": 61,
    "start_time": "2022-05-20T13:16:45.173Z"
   },
   {
    "duration": 171,
    "start_time": "2022-05-20T13:16:45.237Z"
   },
   {
    "duration": 358,
    "start_time": "2022-05-20T13:16:45.410Z"
   },
   {
    "duration": 18,
    "start_time": "2022-05-20T13:16:45.772Z"
   },
   {
    "duration": 330,
    "start_time": "2022-05-20T13:16:45.792Z"
   },
   {
    "duration": 51,
    "start_time": "2022-05-20T13:16:46.130Z"
   },
   {
    "duration": 64,
    "start_time": "2022-05-20T13:16:46.183Z"
   },
   {
    "duration": 34,
    "start_time": "2022-05-20T13:16:46.249Z"
   },
   {
    "duration": 322,
    "start_time": "2022-05-20T13:16:46.285Z"
   },
   {
    "duration": 71,
    "start_time": "2022-05-20T13:16:46.609Z"
   },
   {
    "duration": 78,
    "start_time": "2022-05-20T13:16:46.682Z"
   },
   {
    "duration": 75,
    "start_time": "2022-05-20T13:16:46.762Z"
   },
   {
    "duration": 4200,
    "start_time": "2022-05-20T13:16:46.839Z"
   },
   {
    "duration": 33,
    "start_time": "2022-05-20T13:16:51.041Z"
   },
   {
    "duration": 38,
    "start_time": "2022-05-20T13:16:51.076Z"
   },
   {
    "duration": 37,
    "start_time": "2022-05-20T13:16:51.129Z"
   },
   {
    "duration": 36,
    "start_time": "2022-05-20T13:16:51.167Z"
   },
   {
    "duration": 47,
    "start_time": "2022-05-20T13:16:51.204Z"
   },
   {
    "duration": 21,
    "start_time": "2022-05-20T13:16:51.252Z"
   },
   {
    "duration": 180,
    "start_time": "2022-05-20T13:16:51.275Z"
   },
   {
    "duration": 17,
    "start_time": "2022-05-20T13:16:51.456Z"
   },
   {
    "duration": 283,
    "start_time": "2022-05-20T13:16:51.474Z"
   },
   {
    "duration": 22,
    "start_time": "2022-05-20T13:16:51.759Z"
   },
   {
    "duration": 11,
    "start_time": "2022-05-20T13:16:51.782Z"
   },
   {
    "duration": 205,
    "start_time": "2022-05-20T13:16:51.794Z"
   },
   {
    "duration": 11,
    "start_time": "2022-05-20T13:16:52.001Z"
   },
   {
    "duration": 162,
    "start_time": "2022-05-20T13:16:52.015Z"
   },
   {
    "duration": 12,
    "start_time": "2022-05-20T13:16:52.179Z"
   },
   {
    "duration": 172,
    "start_time": "2022-05-20T13:16:52.193Z"
   },
   {
    "duration": 22,
    "start_time": "2022-05-20T13:16:52.367Z"
   },
   {
    "duration": 11,
    "start_time": "2022-05-20T13:16:52.391Z"
   },
   {
    "duration": 394,
    "start_time": "2022-05-20T13:16:52.404Z"
   },
   {
    "duration": 336,
    "start_time": "2022-05-20T13:16:52.800Z"
   },
   {
    "duration": 44,
    "start_time": "2022-05-20T13:16:53.138Z"
   },
   {
    "duration": 20,
    "start_time": "2022-05-20T13:16:53.184Z"
   },
   {
    "duration": 31,
    "start_time": "2022-05-20T13:16:53.205Z"
   },
   {
    "duration": 202,
    "start_time": "2022-05-20T13:16:53.237Z"
   },
   {
    "duration": 493,
    "start_time": "2022-05-20T13:16:53.443Z"
   },
   {
    "duration": 46,
    "start_time": "2022-05-20T13:16:53.938Z"
   },
   {
    "duration": 71,
    "start_time": "2022-05-20T13:16:53.986Z"
   },
   {
    "duration": 17,
    "start_time": "2022-05-20T13:16:54.059Z"
   },
   {
    "duration": 13,
    "start_time": "2022-05-20T13:16:54.078Z"
   },
   {
    "duration": 73,
    "start_time": "2022-05-20T13:16:54.092Z"
   },
   {
    "duration": 18,
    "start_time": "2022-05-20T13:16:54.167Z"
   },
   {
    "duration": 181,
    "start_time": "2022-05-20T13:16:54.187Z"
   },
   {
    "duration": 195,
    "start_time": "2022-05-20T13:16:54.369Z"
   },
   {
    "duration": 301,
    "start_time": "2022-05-20T13:16:54.566Z"
   },
   {
    "duration": 106,
    "start_time": "2022-05-20T13:16:54.868Z"
   },
   {
    "duration": 18,
    "start_time": "2022-05-20T13:16:54.976Z"
   },
   {
    "duration": 4,
    "start_time": "2022-05-20T13:16:54.996Z"
   },
   {
    "duration": 327,
    "start_time": "2022-05-20T13:16:55.001Z"
   },
   {
    "duration": 1500,
    "start_time": "2022-05-20T13:17:07.636Z"
   },
   {
    "duration": 1024,
    "start_time": "2022-05-20T13:17:09.140Z"
   },
   {
    "duration": 173,
    "start_time": "2022-05-20T13:17:10.166Z"
   },
   {
    "duration": 79,
    "start_time": "2022-05-20T13:17:10.348Z"
   },
   {
    "duration": 23,
    "start_time": "2022-05-20T13:17:10.429Z"
   },
   {
    "duration": 32,
    "start_time": "2022-05-20T13:17:10.454Z"
   },
   {
    "duration": 7,
    "start_time": "2022-05-20T13:17:10.488Z"
   },
   {
    "duration": 18,
    "start_time": "2022-05-20T13:17:10.497Z"
   },
   {
    "duration": 90,
    "start_time": "2022-05-20T13:17:10.516Z"
   },
   {
    "duration": 86,
    "start_time": "2022-05-20T13:17:10.609Z"
   },
   {
    "duration": 69,
    "start_time": "2022-05-20T13:17:10.697Z"
   },
   {
    "duration": 170,
    "start_time": "2022-05-20T13:17:10.768Z"
   },
   {
    "duration": 6,
    "start_time": "2022-05-20T13:17:10.940Z"
   },
   {
    "duration": 7,
    "start_time": "2022-05-20T13:17:10.947Z"
   },
   {
    "duration": 22,
    "start_time": "2022-05-20T13:17:10.955Z"
   },
   {
    "duration": 182,
    "start_time": "2022-05-20T13:17:10.979Z"
   },
   {
    "duration": 17,
    "start_time": "2022-05-20T13:17:11.163Z"
   },
   {
    "duration": 14,
    "start_time": "2022-05-20T13:17:11.182Z"
   },
   {
    "duration": 42,
    "start_time": "2022-05-20T13:17:11.198Z"
   },
   {
    "duration": 49,
    "start_time": "2022-05-20T13:17:11.241Z"
   },
   {
    "duration": 186,
    "start_time": "2022-05-20T13:17:11.292Z"
   },
   {
    "duration": 66,
    "start_time": "2022-05-20T13:17:11.480Z"
   },
   {
    "duration": 205,
    "start_time": "2022-05-20T13:17:11.548Z"
   },
   {
    "duration": 18,
    "start_time": "2022-05-20T13:17:11.756Z"
   },
   {
    "duration": 64,
    "start_time": "2022-05-20T13:17:11.776Z"
   },
   {
    "duration": 261,
    "start_time": "2022-05-20T13:17:11.843Z"
   },
   {
    "duration": 449,
    "start_time": "2022-05-20T13:17:12.106Z"
   },
   {
    "duration": 24,
    "start_time": "2022-05-20T13:17:12.561Z"
   },
   {
    "duration": 411,
    "start_time": "2022-05-20T13:17:12.588Z"
   },
   {
    "duration": 81,
    "start_time": "2022-05-20T13:17:13.000Z"
   },
   {
    "duration": 63,
    "start_time": "2022-05-20T13:17:13.083Z"
   },
   {
    "duration": 35,
    "start_time": "2022-05-20T13:17:13.148Z"
   },
   {
    "duration": 370,
    "start_time": "2022-05-20T13:17:13.185Z"
   },
   {
    "duration": 93,
    "start_time": "2022-05-20T13:17:13.558Z"
   },
   {
    "duration": 80,
    "start_time": "2022-05-20T13:17:13.653Z"
   },
   {
    "duration": 87,
    "start_time": "2022-05-20T13:17:13.739Z"
   },
   {
    "duration": 4627,
    "start_time": "2022-05-20T13:17:13.831Z"
   },
   {
    "duration": 31,
    "start_time": "2022-05-20T13:17:18.460Z"
   },
   {
    "duration": 54,
    "start_time": "2022-05-20T13:17:18.493Z"
   },
   {
    "duration": 37,
    "start_time": "2022-05-20T13:17:18.549Z"
   },
   {
    "duration": 57,
    "start_time": "2022-05-20T13:17:18.588Z"
   },
   {
    "duration": 48,
    "start_time": "2022-05-20T13:17:18.647Z"
   },
   {
    "duration": 29,
    "start_time": "2022-05-20T13:17:18.697Z"
   },
   {
    "duration": 195,
    "start_time": "2022-05-20T13:17:18.728Z"
   },
   {
    "duration": 21,
    "start_time": "2022-05-20T13:17:18.924Z"
   },
   {
    "duration": 184,
    "start_time": "2022-05-20T13:17:18.949Z"
   },
   {
    "duration": 22,
    "start_time": "2022-05-20T13:17:19.138Z"
   },
   {
    "duration": 11,
    "start_time": "2022-05-20T13:17:19.162Z"
   },
   {
    "duration": 208,
    "start_time": "2022-05-20T13:17:19.175Z"
   },
   {
    "duration": 11,
    "start_time": "2022-05-20T13:17:19.385Z"
   },
   {
    "duration": 162,
    "start_time": "2022-05-20T13:17:19.399Z"
   },
   {
    "duration": 12,
    "start_time": "2022-05-20T13:17:19.563Z"
   },
   {
    "duration": 269,
    "start_time": "2022-05-20T13:17:19.576Z"
   },
   {
    "duration": 20,
    "start_time": "2022-05-20T13:17:19.847Z"
   },
   {
    "duration": 11,
    "start_time": "2022-05-20T13:17:19.869Z"
   },
   {
    "duration": 361,
    "start_time": "2022-05-20T13:17:19.882Z"
   },
   {
    "duration": 343,
    "start_time": "2022-05-20T13:17:20.245Z"
   },
   {
    "duration": 61,
    "start_time": "2022-05-20T13:17:20.590Z"
   },
   {
    "duration": 13,
    "start_time": "2022-05-20T13:17:20.653Z"
   },
   {
    "duration": 20,
    "start_time": "2022-05-20T13:17:20.668Z"
   },
   {
    "duration": 202,
    "start_time": "2022-05-20T13:17:20.689Z"
   },
   {
    "duration": 503,
    "start_time": "2022-05-20T13:17:20.893Z"
   },
   {
    "duration": 58,
    "start_time": "2022-05-20T13:17:21.398Z"
   },
   {
    "duration": 81,
    "start_time": "2022-05-20T13:17:21.458Z"
   },
   {
    "duration": 25,
    "start_time": "2022-05-20T13:17:21.541Z"
   },
   {
    "duration": 14,
    "start_time": "2022-05-20T13:17:21.568Z"
   },
   {
    "duration": 77,
    "start_time": "2022-05-20T13:17:21.584Z"
   },
   {
    "duration": 18,
    "start_time": "2022-05-20T13:17:21.663Z"
   },
   {
    "duration": 176,
    "start_time": "2022-05-20T13:17:21.683Z"
   },
   {
    "duration": 195,
    "start_time": "2022-05-20T13:17:21.861Z"
   },
   {
    "duration": 348,
    "start_time": "2022-05-20T13:17:22.057Z"
   },
   {
    "duration": 159,
    "start_time": "2022-05-20T13:17:22.408Z"
   },
   {
    "duration": 37,
    "start_time": "2022-05-20T13:17:22.570Z"
   },
   {
    "duration": 17,
    "start_time": "2022-05-20T13:17:22.609Z"
   },
   {
    "duration": 406,
    "start_time": "2022-05-20T13:17:22.630Z"
   },
   {
    "duration": 4,
    "start_time": "2022-05-20T13:17:31.997Z"
   },
   {
    "duration": 65609,
    "start_time": "2022-05-20T13:17:38.221Z"
   },
   {
    "duration": 126,
    "start_time": "2022-05-20T13:24:45.155Z"
   },
   {
    "duration": 3,
    "start_time": "2022-05-20T13:25:07.554Z"
   },
   {
    "duration": 3,
    "start_time": "2022-05-20T13:25:08.351Z"
   },
   {
    "duration": 4,
    "start_time": "2022-05-20T13:25:09.297Z"
   },
   {
    "duration": 3,
    "start_time": "2022-05-20T13:25:12.136Z"
   },
   {
    "duration": 203160,
    "start_time": "2022-05-20T13:25:16.874Z"
   },
   {
    "duration": 904,
    "start_time": "2022-05-20T13:28:40.124Z"
   },
   {
    "duration": 4,
    "start_time": "2022-05-20T13:28:41.030Z"
   },
   {
    "duration": 6,
    "start_time": "2022-05-20T13:28:41.036Z"
   },
   {
    "duration": 3,
    "start_time": "2022-05-20T13:30:45.390Z"
   },
   {
    "duration": 10,
    "start_time": "2022-05-20T13:30:46.266Z"
   },
   {
    "duration": 214603,
    "start_time": "2022-05-20T13:31:03.451Z"
   },
   {
    "duration": 554,
    "start_time": "2022-05-20T13:34:38.056Z"
   },
   {
    "duration": 4,
    "start_time": "2022-05-20T13:34:38.612Z"
   },
   {
    "duration": 7,
    "start_time": "2022-05-20T13:34:38.622Z"
   },
   {
    "duration": 75,
    "start_time": "2022-05-20T13:36:27.213Z"
   },
   {
    "duration": 339,
    "start_time": "2022-05-20T13:38:21.056Z"
   },
   {
    "duration": 14,
    "start_time": "2022-05-20T13:38:23.508Z"
   },
   {
    "duration": 5945,
    "start_time": "2022-05-20T13:39:03.982Z"
   },
   {
    "duration": 4,
    "start_time": "2022-05-20T13:39:11.933Z"
   },
   {
    "duration": 9,
    "start_time": "2022-05-20T13:39:13.151Z"
   },
   {
    "duration": 11728,
    "start_time": "2022-05-20T13:39:21.500Z"
   },
   {
    "duration": 123,
    "start_time": "2022-05-20T13:39:33.231Z"
   },
   {
    "duration": 0,
    "start_time": "2022-05-20T13:39:33.356Z"
   },
   {
    "duration": 0,
    "start_time": "2022-05-20T13:39:33.358Z"
   },
   {
    "duration": 79,
    "start_time": "2022-05-20T13:42:16.447Z"
   },
   {
    "duration": 6,
    "start_time": "2022-05-20T13:42:18.549Z"
   },
   {
    "duration": 5,
    "start_time": "2022-05-20T13:42:19.661Z"
   },
   {
    "duration": 5,
    "start_time": "2022-05-20T13:45:08.019Z"
   },
   {
    "duration": 3,
    "start_time": "2022-05-20T13:45:09.515Z"
   },
   {
    "duration": 3,
    "start_time": "2022-05-20T13:45:10.904Z"
   },
   {
    "duration": 3,
    "start_time": "2022-05-20T13:45:15.566Z"
   },
   {
    "duration": 14,
    "start_time": "2022-05-20T13:45:16.084Z"
   },
   {
    "duration": 4,
    "start_time": "2022-05-20T13:47:12.175Z"
   },
   {
    "duration": 3,
    "start_time": "2022-05-20T13:47:17.101Z"
   },
   {
    "duration": 9340,
    "start_time": "2022-05-20T13:47:17.688Z"
   },
   {
    "duration": 100,
    "start_time": "2022-05-20T13:47:27.036Z"
   },
   {
    "duration": 82,
    "start_time": "2022-05-20T13:47:27.142Z"
   },
   {
    "duration": 10,
    "start_time": "2022-05-20T13:47:27.227Z"
   },
   {
    "duration": 3,
    "start_time": "2022-05-20T13:47:46.163Z"
   },
   {
    "duration": 222924,
    "start_time": "2022-05-20T13:47:47.189Z"
   },
   {
    "duration": 573,
    "start_time": "2022-05-20T13:51:30.115Z"
   },
   {
    "duration": 4,
    "start_time": "2022-05-20T13:51:30.690Z"
   },
   {
    "duration": 27,
    "start_time": "2022-05-20T13:51:30.696Z"
   },
   {
    "duration": 16,
    "start_time": "2022-05-20T13:51:30.725Z"
   },
   {
    "duration": 50991,
    "start_time": "2022-05-20T13:51:30.743Z"
   },
   {
    "duration": 906,
    "start_time": "2022-05-20T13:52:21.824Z"
   },
   {
    "duration": 5,
    "start_time": "2022-05-20T13:52:22.733Z"
   },
   {
    "duration": 21,
    "start_time": "2022-05-20T13:52:22.740Z"
   },
   {
    "duration": 61,
    "start_time": "2022-05-20T13:52:22.764Z"
   },
   {
    "duration": 0,
    "start_time": "2022-05-20T13:52:22.828Z"
   },
   {
    "duration": 0,
    "start_time": "2022-05-20T13:52:22.830Z"
   },
   {
    "duration": 0,
    "start_time": "2022-05-20T13:52:22.831Z"
   },
   {
    "duration": 0,
    "start_time": "2022-05-20T13:52:22.832Z"
   },
   {
    "duration": 0,
    "start_time": "2022-05-20T13:52:22.833Z"
   },
   {
    "duration": 0,
    "start_time": "2022-05-20T13:52:22.834Z"
   },
   {
    "duration": 13,
    "start_time": "2022-05-20T13:52:39.453Z"
   },
   {
    "duration": 13,
    "start_time": "2022-05-20T13:54:00.835Z"
   },
   {
    "duration": 1508,
    "start_time": "2022-05-20T13:57:03.619Z"
   },
   {
    "duration": 841,
    "start_time": "2022-05-20T13:57:05.129Z"
   },
   {
    "duration": 175,
    "start_time": "2022-05-20T13:57:05.972Z"
   },
   {
    "duration": 55,
    "start_time": "2022-05-20T13:57:06.149Z"
   },
   {
    "duration": 13,
    "start_time": "2022-05-20T13:57:06.222Z"
   },
   {
    "duration": 35,
    "start_time": "2022-05-20T13:57:06.237Z"
   },
   {
    "duration": 10,
    "start_time": "2022-05-20T13:57:06.274Z"
   },
   {
    "duration": 20,
    "start_time": "2022-05-20T13:57:06.285Z"
   },
   {
    "duration": 97,
    "start_time": "2022-05-20T13:57:06.307Z"
   },
   {
    "duration": 78,
    "start_time": "2022-05-20T13:57:06.408Z"
   },
   {
    "duration": 43,
    "start_time": "2022-05-20T13:57:06.488Z"
   },
   {
    "duration": 156,
    "start_time": "2022-05-20T13:57:06.532Z"
   },
   {
    "duration": 4,
    "start_time": "2022-05-20T13:57:06.690Z"
   },
   {
    "duration": 12,
    "start_time": "2022-05-20T13:57:06.695Z"
   },
   {
    "duration": 30,
    "start_time": "2022-05-20T13:57:06.709Z"
   },
   {
    "duration": 153,
    "start_time": "2022-05-20T13:57:06.740Z"
   },
   {
    "duration": 13,
    "start_time": "2022-05-20T13:57:06.895Z"
   },
   {
    "duration": 11,
    "start_time": "2022-05-20T13:57:06.923Z"
   },
   {
    "duration": 11,
    "start_time": "2022-05-20T13:57:06.935Z"
   },
   {
    "duration": 43,
    "start_time": "2022-05-20T13:57:06.947Z"
   },
   {
    "duration": 181,
    "start_time": "2022-05-20T13:57:06.992Z"
   },
   {
    "duration": 57,
    "start_time": "2022-05-20T13:57:07.175Z"
   },
   {
    "duration": 167,
    "start_time": "2022-05-20T13:57:07.234Z"
   },
   {
    "duration": 11,
    "start_time": "2022-05-20T13:57:07.403Z"
   },
   {
    "duration": 42,
    "start_time": "2022-05-20T13:57:07.423Z"
   },
   {
    "duration": 177,
    "start_time": "2022-05-20T13:57:07.469Z"
   },
   {
    "duration": 337,
    "start_time": "2022-05-20T13:57:07.648Z"
   },
   {
    "duration": 20,
    "start_time": "2022-05-20T13:57:07.991Z"
   },
   {
    "duration": 276,
    "start_time": "2022-05-20T13:57:08.024Z"
   },
   {
    "duration": 47,
    "start_time": "2022-05-20T13:57:08.302Z"
   },
   {
    "duration": 49,
    "start_time": "2022-05-20T13:57:08.351Z"
   },
   {
    "duration": 57,
    "start_time": "2022-05-20T13:57:08.401Z"
   },
   {
    "duration": 305,
    "start_time": "2022-05-20T13:57:08.459Z"
   },
   {
    "duration": 75,
    "start_time": "2022-05-20T13:57:08.766Z"
   },
   {
    "duration": 63,
    "start_time": "2022-05-20T13:57:08.843Z"
   },
   {
    "duration": 79,
    "start_time": "2022-05-20T13:57:08.908Z"
   },
   {
    "duration": 4302,
    "start_time": "2022-05-20T13:57:08.989Z"
   },
   {
    "duration": 36,
    "start_time": "2022-05-20T13:57:13.293Z"
   },
   {
    "duration": 34,
    "start_time": "2022-05-20T13:57:13.331Z"
   },
   {
    "duration": 39,
    "start_time": "2022-05-20T13:57:13.367Z"
   },
   {
    "duration": 48,
    "start_time": "2022-05-20T13:57:13.422Z"
   },
   {
    "duration": 50,
    "start_time": "2022-05-20T13:57:13.472Z"
   },
   {
    "duration": 32,
    "start_time": "2022-05-20T13:57:13.523Z"
   },
   {
    "duration": 230,
    "start_time": "2022-05-20T13:57:13.557Z"
   },
   {
    "duration": 19,
    "start_time": "2022-05-20T13:57:13.789Z"
   },
   {
    "duration": 205,
    "start_time": "2022-05-20T13:57:13.810Z"
   },
   {
    "duration": 23,
    "start_time": "2022-05-20T13:57:14.017Z"
   },
   {
    "duration": 13,
    "start_time": "2022-05-20T13:57:14.042Z"
   },
   {
    "duration": 214,
    "start_time": "2022-05-20T13:57:14.057Z"
   },
   {
    "duration": 13,
    "start_time": "2022-05-20T13:57:14.274Z"
   },
   {
    "duration": 167,
    "start_time": "2022-05-20T13:57:14.289Z"
   },
   {
    "duration": 13,
    "start_time": "2022-05-20T13:57:14.458Z"
   },
   {
    "duration": 265,
    "start_time": "2022-05-20T13:57:14.473Z"
   },
   {
    "duration": 21,
    "start_time": "2022-05-20T13:57:14.740Z"
   },
   {
    "duration": 11,
    "start_time": "2022-05-20T13:57:14.762Z"
   },
   {
    "duration": 352,
    "start_time": "2022-05-20T13:57:14.774Z"
   },
   {
    "duration": 334,
    "start_time": "2022-05-20T13:57:15.128Z"
   },
   {
    "duration": 44,
    "start_time": "2022-05-20T13:57:15.464Z"
   },
   {
    "duration": 22,
    "start_time": "2022-05-20T13:57:15.509Z"
   },
   {
    "duration": 20,
    "start_time": "2022-05-20T13:57:15.532Z"
   },
   {
    "duration": 244,
    "start_time": "2022-05-20T13:57:15.554Z"
   },
   {
    "duration": 525,
    "start_time": "2022-05-20T13:57:15.800Z"
   },
   {
    "duration": 49,
    "start_time": "2022-05-20T13:57:16.328Z"
   },
   {
    "duration": 79,
    "start_time": "2022-05-20T13:57:16.379Z"
   },
   {
    "duration": 22,
    "start_time": "2022-05-20T13:57:16.460Z"
   },
   {
    "duration": 13,
    "start_time": "2022-05-20T13:57:16.485Z"
   },
   {
    "duration": 64,
    "start_time": "2022-05-20T13:57:16.523Z"
   },
   {
    "duration": 18,
    "start_time": "2022-05-20T13:57:16.589Z"
   },
   {
    "duration": 163,
    "start_time": "2022-05-20T13:57:16.610Z"
   },
   {
    "duration": 179,
    "start_time": "2022-05-20T13:57:16.776Z"
   },
   {
    "duration": 320,
    "start_time": "2022-05-20T13:57:16.957Z"
   },
   {
    "duration": 113,
    "start_time": "2022-05-20T13:57:17.279Z"
   },
   {
    "duration": 42,
    "start_time": "2022-05-20T13:57:17.394Z"
   },
   {
    "duration": 3,
    "start_time": "2022-05-20T13:57:17.438Z"
   },
   {
    "duration": 298,
    "start_time": "2022-05-20T13:57:17.442Z"
   },
   {
    "duration": 4,
    "start_time": "2022-05-20T13:57:17.741Z"
   },
   {
    "duration": 8,
    "start_time": "2022-05-20T13:57:17.747Z"
   },
   {
    "duration": 8,
    "start_time": "2022-05-20T13:57:17.757Z"
   },
   {
    "duration": 8,
    "start_time": "2022-05-20T13:57:17.767Z"
   },
   {
    "duration": 215603,
    "start_time": "2022-05-20T13:57:17.777Z"
   },
   {
    "duration": 706,
    "start_time": "2022-05-20T14:00:53.383Z"
   },
   {
    "duration": 5,
    "start_time": "2022-05-20T14:00:54.095Z"
   },
   {
    "duration": 6,
    "start_time": "2022-05-20T14:00:54.102Z"
   },
   {
    "duration": 5,
    "start_time": "2022-05-20T14:00:54.123Z"
   },
   {
    "duration": 162401,
    "start_time": "2022-05-20T14:00:54.130Z"
   },
   {
    "duration": 925,
    "start_time": "2022-05-20T14:03:36.532Z"
   },
   {
    "duration": 64,
    "start_time": "2022-05-20T14:03:37.459Z"
   },
   {
    "duration": 4,
    "start_time": "2022-05-20T14:03:37.525Z"
   },
   {
    "duration": 332,
    "start_time": "2022-05-20T14:04:00.351Z"
   },
   {
    "duration": 6025,
    "start_time": "2022-05-20T14:04:02.651Z"
   },
   {
    "duration": 3,
    "start_time": "2022-05-20T14:04:13.831Z"
   },
   {
    "duration": 9770,
    "start_time": "2022-05-20T14:04:15.868Z"
   },
   {
    "duration": 85,
    "start_time": "2022-05-20T14:04:33.455Z"
   },
   {
    "duration": 4,
    "start_time": "2022-05-20T14:04:34.890Z"
   },
   {
    "duration": 4,
    "start_time": "2022-05-20T14:04:37.334Z"
   },
   {
    "duration": 4,
    "start_time": "2022-05-20T14:10:25.020Z"
   },
   {
    "duration": 19898,
    "start_time": "2022-05-20T14:10:25.834Z"
   },
   {
    "duration": 141,
    "start_time": "2022-05-20T14:10:45.734Z"
   },
   {
    "duration": 4,
    "start_time": "2022-05-20T14:10:45.877Z"
   },
   {
    "duration": 15,
    "start_time": "2022-05-20T14:10:45.883Z"
   },
   {
    "duration": 2,
    "start_time": "2022-05-20T14:13:34.865Z"
   },
   {
    "duration": 41186,
    "start_time": "2022-05-20T14:13:36.346Z"
   },
   {
    "duration": 194,
    "start_time": "2022-05-20T14:14:17.535Z"
   },
   {
    "duration": 5,
    "start_time": "2022-05-20T14:14:17.731Z"
   },
   {
    "duration": 6,
    "start_time": "2022-05-20T14:14:17.738Z"
   },
   {
    "duration": 3,
    "start_time": "2022-05-20T14:14:46.974Z"
   },
   {
    "duration": 62725,
    "start_time": "2022-05-20T14:14:47.603Z"
   },
   {
    "duration": 498,
    "start_time": "2022-05-20T14:15:50.331Z"
   },
   {
    "duration": 10,
    "start_time": "2022-05-20T14:15:50.831Z"
   },
   {
    "duration": 10,
    "start_time": "2022-05-20T14:15:50.843Z"
   },
   {
    "duration": 3,
    "start_time": "2022-05-20T14:16:21.673Z"
   },
   {
    "duration": 22737,
    "start_time": "2022-05-20T14:16:22.990Z"
   },
   {
    "duration": 614,
    "start_time": "2022-05-20T14:16:45.730Z"
   },
   {
    "duration": 4,
    "start_time": "2022-05-20T14:16:46.346Z"
   },
   {
    "duration": 11,
    "start_time": "2022-05-20T14:16:46.352Z"
   },
   {
    "duration": 3,
    "start_time": "2022-05-20T14:17:48.531Z"
   },
   {
    "duration": 187685,
    "start_time": "2022-05-20T14:17:49.943Z"
   },
   {
    "duration": 517,
    "start_time": "2022-05-20T14:20:57.631Z"
   },
   {
    "duration": 6,
    "start_time": "2022-05-20T14:20:58.224Z"
   },
   {
    "duration": 7,
    "start_time": "2022-05-20T14:20:58.233Z"
   },
   {
    "duration": 4,
    "start_time": "2022-05-20T14:21:52.709Z"
   },
   {
    "duration": 2752,
    "start_time": "2022-05-20T14:21:53.280Z"
   },
   {
    "duration": 597,
    "start_time": "2022-05-20T14:21:56.035Z"
   },
   {
    "duration": 4,
    "start_time": "2022-05-20T14:21:56.634Z"
   },
   {
    "duration": 11,
    "start_time": "2022-05-20T14:21:56.640Z"
   },
   {
    "duration": 3,
    "start_time": "2022-05-20T14:22:50.556Z"
   },
   {
    "duration": 3604,
    "start_time": "2022-05-20T14:22:51.026Z"
   },
   {
    "duration": 503,
    "start_time": "2022-05-20T14:22:54.633Z"
   },
   {
    "duration": 4,
    "start_time": "2022-05-20T14:22:55.224Z"
   },
   {
    "duration": 4,
    "start_time": "2022-05-20T14:22:56.747Z"
   },
   {
    "duration": 3,
    "start_time": "2022-05-20T14:23:02.834Z"
   },
   {
    "duration": 2539,
    "start_time": "2022-05-20T14:23:03.491Z"
   },
   {
    "duration": 593,
    "start_time": "2022-05-20T14:23:06.032Z"
   },
   {
    "duration": 4,
    "start_time": "2022-05-20T14:23:06.627Z"
   },
   {
    "duration": 9,
    "start_time": "2022-05-20T14:23:06.633Z"
   },
   {
    "duration": 3,
    "start_time": "2022-05-20T14:23:22.686Z"
   },
   {
    "duration": 2514,
    "start_time": "2022-05-20T14:23:23.520Z"
   },
   {
    "duration": 502,
    "start_time": "2022-05-20T14:23:26.924Z"
   },
   {
    "duration": 4,
    "start_time": "2022-05-20T14:23:28.296Z"
   },
   {
    "duration": 2,
    "start_time": "2022-05-20T14:23:33.819Z"
   },
   {
    "duration": 2951,
    "start_time": "2022-05-20T14:23:34.377Z"
   },
   {
    "duration": 500,
    "start_time": "2022-05-20T14:23:37.330Z"
   },
   {
    "duration": 4,
    "start_time": "2022-05-20T14:23:37.832Z"
   },
   {
    "duration": 4,
    "start_time": "2022-05-20T14:23:37.924Z"
   },
   {
    "duration": 3,
    "start_time": "2022-05-20T14:23:47.968Z"
   },
   {
    "duration": 2710,
    "start_time": "2022-05-20T14:23:48.523Z"
   },
   {
    "duration": 415,
    "start_time": "2022-05-20T14:23:51.324Z"
   },
   {
    "duration": 5,
    "start_time": "2022-05-20T14:23:51.823Z"
   },
   {
    "duration": 5,
    "start_time": "2022-05-20T14:23:52.745Z"
   },
   {
    "duration": 1385,
    "start_time": "2022-05-20T14:42:33.200Z"
   },
   {
    "duration": 819,
    "start_time": "2022-05-20T14:42:34.588Z"
   },
   {
    "duration": 125,
    "start_time": "2022-05-20T14:42:35.409Z"
   },
   {
    "duration": 50,
    "start_time": "2022-05-20T14:42:35.536Z"
   },
   {
    "duration": 8,
    "start_time": "2022-05-20T14:42:35.588Z"
   },
   {
    "duration": 48,
    "start_time": "2022-05-20T14:42:35.597Z"
   },
   {
    "duration": 3,
    "start_time": "2022-05-20T14:42:35.647Z"
   },
   {
    "duration": 16,
    "start_time": "2022-05-20T14:42:35.652Z"
   },
   {
    "duration": 90,
    "start_time": "2022-05-20T14:42:35.669Z"
   },
   {
    "duration": 77,
    "start_time": "2022-05-20T14:42:35.762Z"
   },
   {
    "duration": 30,
    "start_time": "2022-05-20T14:42:35.840Z"
   },
   {
    "duration": 167,
    "start_time": "2022-05-20T14:42:35.872Z"
   },
   {
    "duration": 4,
    "start_time": "2022-05-20T14:42:36.041Z"
   },
   {
    "duration": 6,
    "start_time": "2022-05-20T14:42:36.046Z"
   },
   {
    "duration": 20,
    "start_time": "2022-05-20T14:42:36.053Z"
   },
   {
    "duration": 165,
    "start_time": "2022-05-20T14:42:36.074Z"
   },
   {
    "duration": 15,
    "start_time": "2022-05-20T14:42:36.241Z"
   },
   {
    "duration": 13,
    "start_time": "2022-05-20T14:42:36.257Z"
   },
   {
    "duration": 12,
    "start_time": "2022-05-20T14:42:36.271Z"
   },
   {
    "duration": 78,
    "start_time": "2022-05-20T14:42:36.284Z"
   },
   {
    "duration": 159,
    "start_time": "2022-05-20T14:42:36.364Z"
   },
   {
    "duration": 50,
    "start_time": "2022-05-20T14:42:36.525Z"
   },
   {
    "duration": 162,
    "start_time": "2022-05-20T14:42:36.577Z"
   },
   {
    "duration": 12,
    "start_time": "2022-05-20T14:42:36.741Z"
   },
   {
    "duration": 43,
    "start_time": "2022-05-20T14:42:36.755Z"
   },
   {
    "duration": 181,
    "start_time": "2022-05-20T14:42:36.800Z"
   },
   {
    "duration": 339,
    "start_time": "2022-05-20T14:42:36.984Z"
   },
   {
    "duration": 18,
    "start_time": "2022-05-20T14:42:37.327Z"
   },
   {
    "duration": 291,
    "start_time": "2022-05-20T14:42:37.347Z"
   },
   {
    "duration": 44,
    "start_time": "2022-05-20T14:42:37.640Z"
   },
   {
    "duration": 57,
    "start_time": "2022-05-20T14:42:37.686Z"
   },
   {
    "duration": 33,
    "start_time": "2022-05-20T14:42:37.745Z"
   },
   {
    "duration": 291,
    "start_time": "2022-05-20T14:42:37.780Z"
   },
   {
    "duration": 66,
    "start_time": "2022-05-20T14:42:38.073Z"
   },
   {
    "duration": 61,
    "start_time": "2022-05-20T14:42:38.141Z"
   },
   {
    "duration": 74,
    "start_time": "2022-05-20T14:42:38.204Z"
   },
   {
    "duration": 3862,
    "start_time": "2022-05-20T14:42:38.279Z"
   },
   {
    "duration": 31,
    "start_time": "2022-05-20T14:42:42.143Z"
   },
   {
    "duration": 47,
    "start_time": "2022-05-20T14:42:42.176Z"
   },
   {
    "duration": 37,
    "start_time": "2022-05-20T14:42:42.225Z"
   },
   {
    "duration": 39,
    "start_time": "2022-05-20T14:42:42.264Z"
   },
   {
    "duration": 58,
    "start_time": "2022-05-20T14:42:42.304Z"
   },
   {
    "duration": 20,
    "start_time": "2022-05-20T14:42:42.365Z"
   },
   {
    "duration": 208,
    "start_time": "2022-05-20T14:42:42.387Z"
   },
   {
    "duration": 31,
    "start_time": "2022-05-20T14:42:42.597Z"
   },
   {
    "duration": 199,
    "start_time": "2022-05-20T14:42:42.630Z"
   },
   {
    "duration": 21,
    "start_time": "2022-05-20T14:42:42.831Z"
   },
   {
    "duration": 13,
    "start_time": "2022-05-20T14:42:42.854Z"
   },
   {
    "duration": 196,
    "start_time": "2022-05-20T14:42:42.869Z"
   },
   {
    "duration": 13,
    "start_time": "2022-05-20T14:42:43.067Z"
   },
   {
    "duration": 157,
    "start_time": "2022-05-20T14:42:43.082Z"
   },
   {
    "duration": 14,
    "start_time": "2022-05-20T14:42:43.241Z"
   },
   {
    "duration": 275,
    "start_time": "2022-05-20T14:42:43.256Z"
   },
   {
    "duration": 24,
    "start_time": "2022-05-20T14:42:43.533Z"
   },
   {
    "duration": 12,
    "start_time": "2022-05-20T14:42:43.559Z"
   },
   {
    "duration": 332,
    "start_time": "2022-05-20T14:42:43.573Z"
   },
   {
    "duration": 317,
    "start_time": "2022-05-20T14:42:43.907Z"
   },
   {
    "duration": 46,
    "start_time": "2022-05-20T14:42:44.226Z"
   },
   {
    "duration": 15,
    "start_time": "2022-05-20T14:42:44.274Z"
   },
   {
    "duration": 38,
    "start_time": "2022-05-20T14:42:44.291Z"
   },
   {
    "duration": 198,
    "start_time": "2022-05-20T14:42:44.331Z"
   },
   {
    "duration": 475,
    "start_time": "2022-05-20T14:42:44.531Z"
   },
   {
    "duration": 53,
    "start_time": "2022-05-20T14:42:45.008Z"
   },
   {
    "duration": 48,
    "start_time": "2022-05-20T14:42:45.063Z"
   },
   {
    "duration": 18,
    "start_time": "2022-05-20T14:42:45.123Z"
   },
   {
    "duration": 12,
    "start_time": "2022-05-20T14:42:45.143Z"
   },
   {
    "duration": 70,
    "start_time": "2022-05-20T14:42:45.157Z"
   },
   {
    "duration": 17,
    "start_time": "2022-05-20T14:42:45.230Z"
   },
   {
    "duration": 155,
    "start_time": "2022-05-20T14:42:45.250Z"
   },
   {
    "duration": 178,
    "start_time": "2022-05-20T14:42:45.407Z"
   },
   {
    "duration": 291,
    "start_time": "2022-05-20T14:42:45.587Z"
   },
   {
    "duration": 112,
    "start_time": "2022-05-20T14:42:45.879Z"
   },
   {
    "duration": 43,
    "start_time": "2022-05-20T14:42:45.993Z"
   },
   {
    "duration": 3,
    "start_time": "2022-05-20T14:42:46.038Z"
   },
   {
    "duration": 286,
    "start_time": "2022-05-20T14:42:46.042Z"
   },
   {
    "duration": 3,
    "start_time": "2022-05-20T14:42:46.330Z"
   },
   {
    "duration": 8,
    "start_time": "2022-05-20T14:42:46.334Z"
   },
   {
    "duration": 6,
    "start_time": "2022-05-20T14:42:46.343Z"
   },
   {
    "duration": 6,
    "start_time": "2022-05-20T14:42:46.350Z"
   },
   {
    "duration": 211014,
    "start_time": "2022-05-20T14:42:46.358Z"
   },
   {
    "duration": 512,
    "start_time": "2022-05-20T14:46:17.375Z"
   },
   {
    "duration": 4,
    "start_time": "2022-05-20T14:46:17.892Z"
   },
   {
    "duration": 8,
    "start_time": "2022-05-20T14:46:17.897Z"
   },
   {
    "duration": 17,
    "start_time": "2022-05-20T14:46:17.907Z"
   },
   {
    "duration": 4714,
    "start_time": "2022-05-20T14:46:17.925Z"
   },
   {
    "duration": 985,
    "start_time": "2022-05-20T14:46:22.641Z"
   },
   {
    "duration": 3,
    "start_time": "2022-05-20T14:46:23.629Z"
   },
   {
    "duration": 7,
    "start_time": "2022-05-20T14:46:23.634Z"
   },
   {
    "duration": 325,
    "start_time": "2022-05-20T14:46:23.642Z"
   },
   {
    "duration": 5675,
    "start_time": "2022-05-20T14:46:23.969Z"
   },
   {
    "duration": 3,
    "start_time": "2022-05-20T14:46:29.646Z"
   },
   {
    "duration": 7981,
    "start_time": "2022-05-20T14:46:29.650Z"
   },
   {
    "duration": 191,
    "start_time": "2022-05-20T14:46:37.633Z"
   },
   {
    "duration": 99,
    "start_time": "2022-05-20T14:46:37.826Z"
   },
   {
    "duration": 3,
    "start_time": "2022-05-20T14:46:37.927Z"
   },
   {
    "duration": 8,
    "start_time": "2022-05-20T14:46:37.932Z"
   },
   {
    "duration": 18636,
    "start_time": "2022-05-20T14:46:37.942Z"
   },
   {
    "duration": 130,
    "start_time": "2022-05-20T14:46:56.580Z"
   },
   {
    "duration": 11,
    "start_time": "2022-05-20T14:46:56.712Z"
   },
   {
    "duration": 8,
    "start_time": "2022-05-20T14:46:56.725Z"
   },
   {
    "duration": 17,
    "start_time": "2022-05-20T14:46:56.734Z"
   },
   {
    "duration": 3981,
    "start_time": "2022-05-20T14:46:56.752Z"
   },
   {
    "duration": 499,
    "start_time": "2022-05-20T14:47:00.735Z"
   },
   {
    "duration": 4,
    "start_time": "2022-05-20T14:47:01.324Z"
   },
   {
    "duration": 25,
    "start_time": "2022-05-20T14:47:01.329Z"
   },
   {
    "duration": 301,
    "start_time": "2022-05-21T08:26:53.390Z"
   },
   {
    "duration": 3201,
    "start_time": "2022-05-21T08:27:12.616Z"
   },
   {
    "duration": 1629,
    "start_time": "2022-05-21T08:27:28.860Z"
   },
   {
    "duration": 3113,
    "start_time": "2022-05-21T08:27:30.492Z"
   },
   {
    "duration": 143,
    "start_time": "2022-05-21T08:27:33.607Z"
   },
   {
    "duration": 51,
    "start_time": "2022-05-21T08:27:33.756Z"
   },
   {
    "duration": 7,
    "start_time": "2022-05-21T08:27:33.809Z"
   },
   {
    "duration": 57,
    "start_time": "2022-05-21T08:27:33.818Z"
   },
   {
    "duration": 5,
    "start_time": "2022-05-21T08:27:33.877Z"
   },
   {
    "duration": 15,
    "start_time": "2022-05-21T08:27:33.884Z"
   },
   {
    "duration": 107,
    "start_time": "2022-05-21T08:27:33.900Z"
   },
   {
    "duration": 77,
    "start_time": "2022-05-21T08:27:34.009Z"
   },
   {
    "duration": 32,
    "start_time": "2022-05-21T08:27:34.088Z"
   },
   {
    "duration": 161,
    "start_time": "2022-05-21T08:27:34.122Z"
   },
   {
    "duration": 5,
    "start_time": "2022-05-21T08:27:34.285Z"
   },
   {
    "duration": 5,
    "start_time": "2022-05-21T08:27:34.293Z"
   },
   {
    "duration": 21,
    "start_time": "2022-05-21T08:27:34.299Z"
   },
   {
    "duration": 182,
    "start_time": "2022-05-21T08:27:34.323Z"
   },
   {
    "duration": 15,
    "start_time": "2022-05-21T08:27:34.507Z"
   },
   {
    "duration": 32,
    "start_time": "2022-05-21T08:27:34.524Z"
   },
   {
    "duration": 13,
    "start_time": "2022-05-21T08:27:34.558Z"
   },
   {
    "duration": 43,
    "start_time": "2022-05-21T08:27:34.573Z"
   },
   {
    "duration": 201,
    "start_time": "2022-05-21T08:27:34.618Z"
   },
   {
    "duration": 59,
    "start_time": "2022-05-21T08:27:34.821Z"
   },
   {
    "duration": 182,
    "start_time": "2022-05-21T08:27:34.882Z"
   },
   {
    "duration": 11,
    "start_time": "2022-05-21T08:27:35.065Z"
   },
   {
    "duration": 41,
    "start_time": "2022-05-21T08:27:35.077Z"
   },
   {
    "duration": 174,
    "start_time": "2022-05-21T08:27:35.120Z"
   },
   {
    "duration": 337,
    "start_time": "2022-05-21T08:27:35.295Z"
   },
   {
    "duration": 22,
    "start_time": "2022-05-21T08:27:35.634Z"
   },
   {
    "duration": 311,
    "start_time": "2022-05-21T08:27:35.658Z"
   },
   {
    "duration": 46,
    "start_time": "2022-05-21T08:27:35.971Z"
   },
   {
    "duration": 66,
    "start_time": "2022-05-21T08:27:36.018Z"
   },
   {
    "duration": 33,
    "start_time": "2022-05-21T08:27:36.085Z"
   },
   {
    "duration": 335,
    "start_time": "2022-05-21T08:27:36.119Z"
   },
   {
    "duration": 64,
    "start_time": "2022-05-21T08:27:36.456Z"
   },
   {
    "duration": 71,
    "start_time": "2022-05-21T08:27:36.522Z"
   },
   {
    "duration": 81,
    "start_time": "2022-05-21T08:27:36.594Z"
   },
   {
    "duration": 4583,
    "start_time": "2022-05-21T08:27:36.677Z"
   },
   {
    "duration": 31,
    "start_time": "2022-05-21T08:27:41.261Z"
   },
   {
    "duration": 32,
    "start_time": "2022-05-21T08:27:41.293Z"
   },
   {
    "duration": 51,
    "start_time": "2022-05-21T08:27:41.327Z"
   },
   {
    "duration": 31,
    "start_time": "2022-05-21T08:27:41.382Z"
   },
   {
    "duration": 51,
    "start_time": "2022-05-21T08:27:41.414Z"
   },
   {
    "duration": 18,
    "start_time": "2022-05-21T08:27:41.467Z"
   },
   {
    "duration": 189,
    "start_time": "2022-05-21T08:27:41.487Z"
   },
   {
    "duration": 19,
    "start_time": "2022-05-21T08:27:41.677Z"
   },
   {
    "duration": 174,
    "start_time": "2022-05-21T08:27:41.698Z"
   },
   {
    "duration": 21,
    "start_time": "2022-05-21T08:27:41.873Z"
   },
   {
    "duration": 12,
    "start_time": "2022-05-21T08:27:41.895Z"
   },
   {
    "duration": 197,
    "start_time": "2022-05-21T08:27:41.909Z"
   },
   {
    "duration": 12,
    "start_time": "2022-05-21T08:27:42.109Z"
   },
   {
    "duration": 178,
    "start_time": "2022-05-21T08:27:42.123Z"
   },
   {
    "duration": 13,
    "start_time": "2022-05-21T08:27:42.303Z"
   },
   {
    "duration": 171,
    "start_time": "2022-05-21T08:27:42.318Z"
   },
   {
    "duration": 21,
    "start_time": "2022-05-21T08:27:42.490Z"
   },
   {
    "duration": 11,
    "start_time": "2022-05-21T08:27:42.513Z"
   },
   {
    "duration": 480,
    "start_time": "2022-05-21T08:27:42.525Z"
   },
   {
    "duration": 372,
    "start_time": "2022-05-21T08:27:43.007Z"
   },
   {
    "duration": 44,
    "start_time": "2022-05-21T08:27:43.381Z"
   },
   {
    "duration": 34,
    "start_time": "2022-05-21T08:27:43.426Z"
   },
   {
    "duration": 18,
    "start_time": "2022-05-21T08:27:43.461Z"
   },
   {
    "duration": 220,
    "start_time": "2022-05-21T08:27:43.480Z"
   },
   {
    "duration": 493,
    "start_time": "2022-05-21T08:27:43.701Z"
   },
   {
    "duration": 59,
    "start_time": "2022-05-21T08:27:44.196Z"
   },
   {
    "duration": 45,
    "start_time": "2022-05-21T08:27:44.256Z"
   },
   {
    "duration": 16,
    "start_time": "2022-05-21T08:27:44.303Z"
   },
   {
    "duration": 33,
    "start_time": "2022-05-21T08:27:44.321Z"
   },
   {
    "duration": 51,
    "start_time": "2022-05-21T08:27:44.356Z"
   },
   {
    "duration": 17,
    "start_time": "2022-05-21T08:27:44.409Z"
   },
   {
    "duration": 170,
    "start_time": "2022-05-21T08:27:44.427Z"
   },
   {
    "duration": 177,
    "start_time": "2022-05-21T08:27:44.598Z"
   },
   {
    "duration": 301,
    "start_time": "2022-05-21T08:27:44.777Z"
   },
   {
    "duration": 2438,
    "start_time": "2022-05-21T08:28:03.477Z"
   },
   {
    "duration": 31,
    "start_time": "2022-05-21T08:28:18.422Z"
   },
   {
    "duration": 41,
    "start_time": "2022-05-21T08:28:31.019Z"
   },
   {
    "duration": 3563,
    "start_time": "2022-05-21T08:28:38.935Z"
   },
   {
    "duration": 3596,
    "start_time": "2022-05-21T08:28:59.413Z"
   },
   {
    "duration": 35086,
    "start_time": "2022-05-21T08:29:17.422Z"
   },
   {
    "duration": 4418,
    "start_time": "2022-05-21T08:31:27.374Z"
   },
   {
    "duration": 3810,
    "start_time": "2022-05-21T08:33:04.460Z"
   },
   {
    "duration": 35167,
    "start_time": "2022-05-21T08:33:29.029Z"
   },
   {
    "duration": 4011,
    "start_time": "2022-05-21T08:45:06.101Z"
   },
   {
    "duration": 3750,
    "start_time": "2022-05-21T08:45:32.104Z"
   }
  ],
  "kernelspec": {
   "display_name": "Python 3",
   "language": "python",
   "name": "python3"
  },
  "language_info": {
   "codemirror_mode": {
    "name": "ipython",
    "version": 3
   },
   "file_extension": ".py",
   "mimetype": "text/x-python",
   "name": "python",
   "nbconvert_exporter": "python",
   "pygments_lexer": "ipython3",
   "version": "3.8.8"
  },
  "toc": {
   "base_numbering": 1,
   "nav_menu": {},
   "number_sections": true,
   "sideBar": true,
   "skip_h1_title": true,
   "title_cell": "Table of Contents",
   "title_sidebar": "Contents",
   "toc_cell": false,
   "toc_position": {
    "height": "calc(100% - 180px)",
    "left": "10px",
    "top": "150px",
    "width": "289.6px"
   },
   "toc_section_display": true,
   "toc_window_display": true
  }
 },
 "nbformat": 4,
 "nbformat_minor": 4
}
