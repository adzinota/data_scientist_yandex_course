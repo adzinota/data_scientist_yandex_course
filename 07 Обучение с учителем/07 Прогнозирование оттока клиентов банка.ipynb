{
 "cells": [
  {
   "cell_type": "markdown",
   "metadata": {},
   "source": [
    "# Отток клиентов"
   ]
  },
  {
   "cell_type": "markdown",
   "metadata": {},
   "source": [
    "Из «Бета-Банка» стали уходить клиенты. Каждый месяц. Немного, но заметно. Банковские маркетологи посчитали: сохранять текущих клиентов дешевле, чем привлекать новых.\n",
    "\n",
    "Нужно спрогнозировать, уйдёт клиент из банка в ближайшее время или нет. Вам предоставлены исторические данные о поведении клиентов и расторжении договоров с банком. \n",
    "\n",
    "Постройте модель с предельно большим значением *F1*-меры. Чтобы сдать проект успешно, нужно довести метрику до 0.59. Проверьте *F1*-меру на тестовой выборке самостоятельно.\n",
    "\n",
    "Дополнительно измеряйте *AUC-ROC*, сравнивайте её значение с *F1*-мерой."
   ]
  },
  {
   "cell_type": "markdown",
   "metadata": {},
   "source": [
    "## Подготовка данных"
   ]
  },
  {
   "cell_type": "markdown",
   "metadata": {},
   "source": [
    "Импортируем необходимые библиотеки и прочитаем файл в переменную"
   ]
  },
  {
   "cell_type": "code",
   "execution_count": 1,
   "metadata": {},
   "outputs": [],
   "source": [
    "import pandas as pd\n",
    "import seaborn as sns\n",
    "import matplotlib.pyplot as plt\n",
    "\n",
    "from sklearn.preprocessing import StandardScaler\n",
    "from sklearn.model_selection import train_test_split\n",
    "\n",
    "from sklearn.tree import DecisionTreeClassifier\n",
    "from sklearn.ensemble import RandomForestClassifier\n",
    "from sklearn.linear_model import LogisticRegression\n",
    "\n",
    "from sklearn.metrics import f1_score\n",
    "from sklearn.utils import shuffle\n",
    "\n",
    "from sklearn.metrics import roc_curve\n",
    "from sklearn.metrics import roc_auc_score"
   ]
  },
  {
   "cell_type": "code",
   "execution_count": 2,
   "metadata": {},
   "outputs": [],
   "source": [
    "df = pd.read_csv('/datasets/Churn.csv')"
   ]
  },
  {
   "cell_type": "markdown",
   "metadata": {},
   "source": [
    "Посмотрим общую информацию о файле"
   ]
  },
  {
   "cell_type": "code",
   "execution_count": 3,
   "metadata": {},
   "outputs": [
    {
     "name": "stdout",
     "output_type": "stream",
     "text": [
      "<class 'pandas.core.frame.DataFrame'>\n",
      "RangeIndex: 10000 entries, 0 to 9999\n",
      "Data columns (total 14 columns):\n",
      " #   Column           Non-Null Count  Dtype  \n",
      "---  ------           --------------  -----  \n",
      " 0   RowNumber        10000 non-null  int64  \n",
      " 1   CustomerId       10000 non-null  int64  \n",
      " 2   Surname          10000 non-null  object \n",
      " 3   CreditScore      10000 non-null  int64  \n",
      " 4   Geography        10000 non-null  object \n",
      " 5   Gender           10000 non-null  object \n",
      " 6   Age              10000 non-null  int64  \n",
      " 7   Tenure           9091 non-null   float64\n",
      " 8   Balance          10000 non-null  float64\n",
      " 9   NumOfProducts    10000 non-null  int64  \n",
      " 10  HasCrCard        10000 non-null  int64  \n",
      " 11  IsActiveMember   10000 non-null  int64  \n",
      " 12  EstimatedSalary  10000 non-null  float64\n",
      " 13  Exited           10000 non-null  int64  \n",
      "dtypes: float64(3), int64(8), object(3)\n",
      "memory usage: 1.1+ MB\n"
     ]
    }
   ],
   "source": [
    "df.info()"
   ]
  },
  {
   "cell_type": "markdown",
   "metadata": {},
   "source": [
    "Посмотрим первые и последние строки файла"
   ]
  },
  {
   "cell_type": "code",
   "execution_count": 4,
   "metadata": {},
   "outputs": [
    {
     "data": {
      "text/html": [
       "<div>\n",
       "<style scoped>\n",
       "    .dataframe tbody tr th:only-of-type {\n",
       "        vertical-align: middle;\n",
       "    }\n",
       "\n",
       "    .dataframe tbody tr th {\n",
       "        vertical-align: top;\n",
       "    }\n",
       "\n",
       "    .dataframe thead th {\n",
       "        text-align: right;\n",
       "    }\n",
       "</style>\n",
       "<table border=\"1\" class=\"dataframe\">\n",
       "  <thead>\n",
       "    <tr style=\"text-align: right;\">\n",
       "      <th></th>\n",
       "      <th>RowNumber</th>\n",
       "      <th>CustomerId</th>\n",
       "      <th>Surname</th>\n",
       "      <th>CreditScore</th>\n",
       "      <th>Geography</th>\n",
       "      <th>Gender</th>\n",
       "      <th>Age</th>\n",
       "      <th>Tenure</th>\n",
       "      <th>Balance</th>\n",
       "      <th>NumOfProducts</th>\n",
       "      <th>HasCrCard</th>\n",
       "      <th>IsActiveMember</th>\n",
       "      <th>EstimatedSalary</th>\n",
       "      <th>Exited</th>\n",
       "    </tr>\n",
       "  </thead>\n",
       "  <tbody>\n",
       "    <tr>\n",
       "      <th>0</th>\n",
       "      <td>1</td>\n",
       "      <td>15634602</td>\n",
       "      <td>Hargrave</td>\n",
       "      <td>619</td>\n",
       "      <td>France</td>\n",
       "      <td>Female</td>\n",
       "      <td>42</td>\n",
       "      <td>2.0</td>\n",
       "      <td>0.00</td>\n",
       "      <td>1</td>\n",
       "      <td>1</td>\n",
       "      <td>1</td>\n",
       "      <td>101348.88</td>\n",
       "      <td>1</td>\n",
       "    </tr>\n",
       "    <tr>\n",
       "      <th>1</th>\n",
       "      <td>2</td>\n",
       "      <td>15647311</td>\n",
       "      <td>Hill</td>\n",
       "      <td>608</td>\n",
       "      <td>Spain</td>\n",
       "      <td>Female</td>\n",
       "      <td>41</td>\n",
       "      <td>1.0</td>\n",
       "      <td>83807.86</td>\n",
       "      <td>1</td>\n",
       "      <td>0</td>\n",
       "      <td>1</td>\n",
       "      <td>112542.58</td>\n",
       "      <td>0</td>\n",
       "    </tr>\n",
       "    <tr>\n",
       "      <th>2</th>\n",
       "      <td>3</td>\n",
       "      <td>15619304</td>\n",
       "      <td>Onio</td>\n",
       "      <td>502</td>\n",
       "      <td>France</td>\n",
       "      <td>Female</td>\n",
       "      <td>42</td>\n",
       "      <td>8.0</td>\n",
       "      <td>159660.80</td>\n",
       "      <td>3</td>\n",
       "      <td>1</td>\n",
       "      <td>0</td>\n",
       "      <td>113931.57</td>\n",
       "      <td>1</td>\n",
       "    </tr>\n",
       "    <tr>\n",
       "      <th>3</th>\n",
       "      <td>4</td>\n",
       "      <td>15701354</td>\n",
       "      <td>Boni</td>\n",
       "      <td>699</td>\n",
       "      <td>France</td>\n",
       "      <td>Female</td>\n",
       "      <td>39</td>\n",
       "      <td>1.0</td>\n",
       "      <td>0.00</td>\n",
       "      <td>2</td>\n",
       "      <td>0</td>\n",
       "      <td>0</td>\n",
       "      <td>93826.63</td>\n",
       "      <td>0</td>\n",
       "    </tr>\n",
       "    <tr>\n",
       "      <th>4</th>\n",
       "      <td>5</td>\n",
       "      <td>15737888</td>\n",
       "      <td>Mitchell</td>\n",
       "      <td>850</td>\n",
       "      <td>Spain</td>\n",
       "      <td>Female</td>\n",
       "      <td>43</td>\n",
       "      <td>2.0</td>\n",
       "      <td>125510.82</td>\n",
       "      <td>1</td>\n",
       "      <td>1</td>\n",
       "      <td>1</td>\n",
       "      <td>79084.10</td>\n",
       "      <td>0</td>\n",
       "    </tr>\n",
       "  </tbody>\n",
       "</table>\n",
       "</div>"
      ],
      "text/plain": [
       "   RowNumber  CustomerId   Surname  CreditScore Geography  Gender  Age  \\\n",
       "0          1    15634602  Hargrave          619    France  Female   42   \n",
       "1          2    15647311      Hill          608     Spain  Female   41   \n",
       "2          3    15619304      Onio          502    France  Female   42   \n",
       "3          4    15701354      Boni          699    France  Female   39   \n",
       "4          5    15737888  Mitchell          850     Spain  Female   43   \n",
       "\n",
       "   Tenure    Balance  NumOfProducts  HasCrCard  IsActiveMember  \\\n",
       "0     2.0       0.00              1          1               1   \n",
       "1     1.0   83807.86              1          0               1   \n",
       "2     8.0  159660.80              3          1               0   \n",
       "3     1.0       0.00              2          0               0   \n",
       "4     2.0  125510.82              1          1               1   \n",
       "\n",
       "   EstimatedSalary  Exited  \n",
       "0        101348.88       1  \n",
       "1        112542.58       0  \n",
       "2        113931.57       1  \n",
       "3         93826.63       0  \n",
       "4         79084.10       0  "
      ]
     },
     "execution_count": 4,
     "metadata": {},
     "output_type": "execute_result"
    }
   ],
   "source": [
    "df.head()"
   ]
  },
  {
   "cell_type": "code",
   "execution_count": 5,
   "metadata": {},
   "outputs": [
    {
     "data": {
      "text/html": [
       "<div>\n",
       "<style scoped>\n",
       "    .dataframe tbody tr th:only-of-type {\n",
       "        vertical-align: middle;\n",
       "    }\n",
       "\n",
       "    .dataframe tbody tr th {\n",
       "        vertical-align: top;\n",
       "    }\n",
       "\n",
       "    .dataframe thead th {\n",
       "        text-align: right;\n",
       "    }\n",
       "</style>\n",
       "<table border=\"1\" class=\"dataframe\">\n",
       "  <thead>\n",
       "    <tr style=\"text-align: right;\">\n",
       "      <th></th>\n",
       "      <th>RowNumber</th>\n",
       "      <th>CustomerId</th>\n",
       "      <th>Surname</th>\n",
       "      <th>CreditScore</th>\n",
       "      <th>Geography</th>\n",
       "      <th>Gender</th>\n",
       "      <th>Age</th>\n",
       "      <th>Tenure</th>\n",
       "      <th>Balance</th>\n",
       "      <th>NumOfProducts</th>\n",
       "      <th>HasCrCard</th>\n",
       "      <th>IsActiveMember</th>\n",
       "      <th>EstimatedSalary</th>\n",
       "      <th>Exited</th>\n",
       "    </tr>\n",
       "  </thead>\n",
       "  <tbody>\n",
       "    <tr>\n",
       "      <th>9995</th>\n",
       "      <td>9996</td>\n",
       "      <td>15606229</td>\n",
       "      <td>Obijiaku</td>\n",
       "      <td>771</td>\n",
       "      <td>France</td>\n",
       "      <td>Male</td>\n",
       "      <td>39</td>\n",
       "      <td>5.0</td>\n",
       "      <td>0.00</td>\n",
       "      <td>2</td>\n",
       "      <td>1</td>\n",
       "      <td>0</td>\n",
       "      <td>96270.64</td>\n",
       "      <td>0</td>\n",
       "    </tr>\n",
       "    <tr>\n",
       "      <th>9996</th>\n",
       "      <td>9997</td>\n",
       "      <td>15569892</td>\n",
       "      <td>Johnstone</td>\n",
       "      <td>516</td>\n",
       "      <td>France</td>\n",
       "      <td>Male</td>\n",
       "      <td>35</td>\n",
       "      <td>10.0</td>\n",
       "      <td>57369.61</td>\n",
       "      <td>1</td>\n",
       "      <td>1</td>\n",
       "      <td>1</td>\n",
       "      <td>101699.77</td>\n",
       "      <td>0</td>\n",
       "    </tr>\n",
       "    <tr>\n",
       "      <th>9997</th>\n",
       "      <td>9998</td>\n",
       "      <td>15584532</td>\n",
       "      <td>Liu</td>\n",
       "      <td>709</td>\n",
       "      <td>France</td>\n",
       "      <td>Female</td>\n",
       "      <td>36</td>\n",
       "      <td>7.0</td>\n",
       "      <td>0.00</td>\n",
       "      <td>1</td>\n",
       "      <td>0</td>\n",
       "      <td>1</td>\n",
       "      <td>42085.58</td>\n",
       "      <td>1</td>\n",
       "    </tr>\n",
       "    <tr>\n",
       "      <th>9998</th>\n",
       "      <td>9999</td>\n",
       "      <td>15682355</td>\n",
       "      <td>Sabbatini</td>\n",
       "      <td>772</td>\n",
       "      <td>Germany</td>\n",
       "      <td>Male</td>\n",
       "      <td>42</td>\n",
       "      <td>3.0</td>\n",
       "      <td>75075.31</td>\n",
       "      <td>2</td>\n",
       "      <td>1</td>\n",
       "      <td>0</td>\n",
       "      <td>92888.52</td>\n",
       "      <td>1</td>\n",
       "    </tr>\n",
       "    <tr>\n",
       "      <th>9999</th>\n",
       "      <td>10000</td>\n",
       "      <td>15628319</td>\n",
       "      <td>Walker</td>\n",
       "      <td>792</td>\n",
       "      <td>France</td>\n",
       "      <td>Female</td>\n",
       "      <td>28</td>\n",
       "      <td>NaN</td>\n",
       "      <td>130142.79</td>\n",
       "      <td>1</td>\n",
       "      <td>1</td>\n",
       "      <td>0</td>\n",
       "      <td>38190.78</td>\n",
       "      <td>0</td>\n",
       "    </tr>\n",
       "  </tbody>\n",
       "</table>\n",
       "</div>"
      ],
      "text/plain": [
       "      RowNumber  CustomerId    Surname  CreditScore Geography  Gender  Age  \\\n",
       "9995       9996    15606229   Obijiaku          771    France    Male   39   \n",
       "9996       9997    15569892  Johnstone          516    France    Male   35   \n",
       "9997       9998    15584532        Liu          709    France  Female   36   \n",
       "9998       9999    15682355  Sabbatini          772   Germany    Male   42   \n",
       "9999      10000    15628319     Walker          792    France  Female   28   \n",
       "\n",
       "      Tenure    Balance  NumOfProducts  HasCrCard  IsActiveMember  \\\n",
       "9995     5.0       0.00              2          1               0   \n",
       "9996    10.0   57369.61              1          1               1   \n",
       "9997     7.0       0.00              1          0               1   \n",
       "9998     3.0   75075.31              2          1               0   \n",
       "9999     NaN  130142.79              1          1               0   \n",
       "\n",
       "      EstimatedSalary  Exited  \n",
       "9995         96270.64       0  \n",
       "9996        101699.77       0  \n",
       "9997         42085.58       1  \n",
       "9998         92888.52       1  \n",
       "9999         38190.78       0  "
      ]
     },
     "execution_count": 5,
     "metadata": {},
     "output_type": "execute_result"
    }
   ],
   "source": [
    "df.tail()"
   ]
  },
  {
   "cell_type": "markdown",
   "metadata": {},
   "source": [
    "При начальном просмотре выявлены следующие проблемы:\n",
    "* Столбец RowNumber дублирует номера строк, можно удалить\n",
    "* Столбцы CustomerId и Surname не играют роли в исследовании, можно удалить\n",
    "* Названия столбцов необходимо привести к верблюжьему регистру\n",
    "* Вероятно, не все типы столбцов имеют правильный тип"
   ]
  },
  {
   "cell_type": "markdown",
   "metadata": {},
   "source": [
    "### Названия столбцов"
   ]
  },
  {
   "cell_type": "markdown",
   "metadata": {},
   "source": [
    "Получим список с названиями столбцов"
   ]
  },
  {
   "cell_type": "code",
   "execution_count": 6,
   "metadata": {},
   "outputs": [
    {
     "data": {
      "text/plain": [
       "Index(['RowNumber', 'CustomerId', 'Surname', 'CreditScore', 'Geography',\n",
       "       'Gender', 'Age', 'Tenure', 'Balance', 'NumOfProducts', 'HasCrCard',\n",
       "       'IsActiveMember', 'EstimatedSalary', 'Exited'],\n",
       "      dtype='object')"
      ]
     },
     "execution_count": 6,
     "metadata": {},
     "output_type": "execute_result"
    }
   ],
   "source": [
    "df.columns"
   ]
  },
  {
   "cell_type": "markdown",
   "metadata": {},
   "source": [
    "Удалим ненужные столбцы и приведем остальные названия к нижнему регистру"
   ]
  },
  {
   "cell_type": "code",
   "execution_count": 7,
   "metadata": {},
   "outputs": [
    {
     "data": {
      "text/plain": [
       "Index(['creditscore', 'geography', 'gender', 'age', 'tenure', 'balance',\n",
       "       'numofproducts', 'hascrcard', 'isactivemember', 'estimatedsalary',\n",
       "       'exited'],\n",
       "      dtype='object')"
      ]
     },
     "execution_count": 7,
     "metadata": {},
     "output_type": "execute_result"
    }
   ],
   "source": [
    "df.drop(columns=['RowNumber', 'CustomerId', 'Surname'], axis=1, inplace=True)\n",
    "df.columns = df.columns.str.lower()\n",
    "df.columns"
   ]
  },
  {
   "cell_type": "markdown",
   "metadata": {},
   "source": [
    "Добавим нижнее подчеркивание там, где это необходимо"
   ]
  },
  {
   "cell_type": "code",
   "execution_count": 8,
   "metadata": {},
   "outputs": [
    {
     "data": {
      "text/plain": [
       "Index(['credit_score', 'geography', 'gender', 'age', 'tenure', 'balance',\n",
       "       'num_of_products', 'has_cr_card', 'is_active', 'estimated_salary',\n",
       "       'exited'],\n",
       "      dtype='object')"
      ]
     },
     "execution_count": 8,
     "metadata": {},
     "output_type": "execute_result"
    }
   ],
   "source": [
    "columns_rename = {'creditscore':'credit_score', 'numofproducts':'num_of_products', 'hascrcard':'has_cr_card', \n",
    "                  'isactivemember':'is_active', 'estimatedsalary':'estimated_salary'}\n",
    "df = df.rename(columns=columns_rename)\n",
    "df.columns"
   ]
  },
  {
   "cell_type": "markdown",
   "metadata": {},
   "source": [
    "### Пропуски"
   ]
  },
  {
   "cell_type": "markdown",
   "metadata": {},
   "source": [
    "Проверим пропуски в данных"
   ]
  },
  {
   "cell_type": "code",
   "execution_count": 9,
   "metadata": {},
   "outputs": [
    {
     "data": {
      "text/plain": [
       "credit_score          0\n",
       "geography             0\n",
       "gender                0\n",
       "age                   0\n",
       "tenure              909\n",
       "balance               0\n",
       "num_of_products       0\n",
       "has_cr_card           0\n",
       "is_active             0\n",
       "estimated_salary      0\n",
       "exited                0\n",
       "dtype: int64"
      ]
     },
     "execution_count": 9,
     "metadata": {},
     "output_type": "execute_result"
    }
   ],
   "source": [
    "df.isna().sum()"
   ]
  },
  {
   "cell_type": "markdown",
   "metadata": {},
   "source": [
    "#### Явные пропуски"
   ]
  },
  {
   "cell_type": "markdown",
   "metadata": {},
   "source": [
    "Явные пропуски только в столбце tenure - сколько лет человек является клиентом банка  \n",
    "Посмотрим внимательнее на этот столбец"
   ]
  },
  {
   "cell_type": "code",
   "execution_count": 10,
   "metadata": {},
   "outputs": [
    {
     "data": {
      "text/plain": [
       "count    9091.000000\n",
       "mean        4.997690\n",
       "std         2.894723\n",
       "min         0.000000\n",
       "25%         2.000000\n",
       "50%         5.000000\n",
       "75%         7.000000\n",
       "max        10.000000\n",
       "Name: tenure, dtype: float64"
      ]
     },
     "execution_count": 10,
     "metadata": {},
     "output_type": "execute_result"
    }
   ],
   "source": [
    "df['tenure'].describe()"
   ]
  },
  {
   "cell_type": "code",
   "execution_count": 11,
   "metadata": {},
   "outputs": [
    {
     "data": {
      "text/plain": [
       "9.09"
      ]
     },
     "execution_count": 11,
     "metadata": {},
     "output_type": "execute_result"
    }
   ],
   "source": [
    "100 * len(df[df['tenure'].isna()]) / df.shape[0]"
   ]
  },
  {
   "cell_type": "markdown",
   "metadata": {},
   "source": [
    "Пропуски в 9% данных, это достаточно много, удалять нельзя, посмотрим внимательнее на данные с пропусками"
   ]
  },
  {
   "cell_type": "code",
   "execution_count": 12,
   "metadata": {},
   "outputs": [
    {
     "data": {
      "text/html": [
       "<div>\n",
       "<style scoped>\n",
       "    .dataframe tbody tr th:only-of-type {\n",
       "        vertical-align: middle;\n",
       "    }\n",
       "\n",
       "    .dataframe tbody tr th {\n",
       "        vertical-align: top;\n",
       "    }\n",
       "\n",
       "    .dataframe thead th {\n",
       "        text-align: right;\n",
       "    }\n",
       "</style>\n",
       "<table border=\"1\" class=\"dataframe\">\n",
       "  <thead>\n",
       "    <tr style=\"text-align: right;\">\n",
       "      <th></th>\n",
       "      <th>credit_score</th>\n",
       "      <th>geography</th>\n",
       "      <th>gender</th>\n",
       "      <th>age</th>\n",
       "      <th>tenure</th>\n",
       "      <th>balance</th>\n",
       "      <th>num_of_products</th>\n",
       "      <th>has_cr_card</th>\n",
       "      <th>is_active</th>\n",
       "      <th>estimated_salary</th>\n",
       "      <th>exited</th>\n",
       "    </tr>\n",
       "  </thead>\n",
       "  <tbody>\n",
       "    <tr>\n",
       "      <th>30</th>\n",
       "      <td>591</td>\n",
       "      <td>Spain</td>\n",
       "      <td>Female</td>\n",
       "      <td>39</td>\n",
       "      <td>NaN</td>\n",
       "      <td>0.00</td>\n",
       "      <td>3</td>\n",
       "      <td>1</td>\n",
       "      <td>0</td>\n",
       "      <td>140469.38</td>\n",
       "      <td>1</td>\n",
       "    </tr>\n",
       "    <tr>\n",
       "      <th>48</th>\n",
       "      <td>550</td>\n",
       "      <td>Germany</td>\n",
       "      <td>Male</td>\n",
       "      <td>38</td>\n",
       "      <td>NaN</td>\n",
       "      <td>103391.38</td>\n",
       "      <td>1</td>\n",
       "      <td>0</td>\n",
       "      <td>1</td>\n",
       "      <td>90878.13</td>\n",
       "      <td>0</td>\n",
       "    </tr>\n",
       "    <tr>\n",
       "      <th>51</th>\n",
       "      <td>585</td>\n",
       "      <td>Germany</td>\n",
       "      <td>Male</td>\n",
       "      <td>36</td>\n",
       "      <td>NaN</td>\n",
       "      <td>146050.97</td>\n",
       "      <td>2</td>\n",
       "      <td>0</td>\n",
       "      <td>0</td>\n",
       "      <td>86424.57</td>\n",
       "      <td>0</td>\n",
       "    </tr>\n",
       "    <tr>\n",
       "      <th>53</th>\n",
       "      <td>655</td>\n",
       "      <td>Germany</td>\n",
       "      <td>Male</td>\n",
       "      <td>41</td>\n",
       "      <td>NaN</td>\n",
       "      <td>125561.97</td>\n",
       "      <td>1</td>\n",
       "      <td>0</td>\n",
       "      <td>0</td>\n",
       "      <td>164040.94</td>\n",
       "      <td>1</td>\n",
       "    </tr>\n",
       "    <tr>\n",
       "      <th>60</th>\n",
       "      <td>742</td>\n",
       "      <td>Germany</td>\n",
       "      <td>Male</td>\n",
       "      <td>35</td>\n",
       "      <td>NaN</td>\n",
       "      <td>136857.00</td>\n",
       "      <td>1</td>\n",
       "      <td>0</td>\n",
       "      <td>0</td>\n",
       "      <td>84509.57</td>\n",
       "      <td>0</td>\n",
       "    </tr>\n",
       "  </tbody>\n",
       "</table>\n",
       "</div>"
      ],
      "text/plain": [
       "    credit_score geography  gender  age  tenure    balance  num_of_products  \\\n",
       "30           591     Spain  Female   39     NaN       0.00                3   \n",
       "48           550   Germany    Male   38     NaN  103391.38                1   \n",
       "51           585   Germany    Male   36     NaN  146050.97                2   \n",
       "53           655   Germany    Male   41     NaN  125561.97                1   \n",
       "60           742   Germany    Male   35     NaN  136857.00                1   \n",
       "\n",
       "    has_cr_card  is_active  estimated_salary  exited  \n",
       "30            1          0         140469.38       1  \n",
       "48            0          1          90878.13       0  \n",
       "51            0          0          86424.57       0  \n",
       "53            0          0         164040.94       1  \n",
       "60            0          0          84509.57       0  "
      ]
     },
     "execution_count": 12,
     "metadata": {},
     "output_type": "execute_result"
    }
   ],
   "source": [
    "df[df['tenure'].isna()].head()"
   ]
  },
  {
   "cell_type": "markdown",
   "metadata": {},
   "source": [
    "Восстановить часть данных из другой информации не представляется возможным, попробуем заменить случайными значениями от 0 до 10 (по min и max)"
   ]
  },
  {
   "cell_type": "code",
   "execution_count": 14,
   "metadata": {},
   "outputs": [],
   "source": [
    "df['tenure'] = df['tenure'].fillna(-1)\n",
    "\n",
    "\n",
    "import random\n",
    "df.loc[(df['tenure'] == -1), 'tenure'] = df['tenure'].apply(lambda v: int(random.random() * 10))"
   ]
  },
  {
   "cell_type": "code",
   "execution_count": 15,
   "metadata": {},
   "outputs": [
    {
     "data": {
      "text/plain": [
       "count    10000.000000\n",
       "mean         4.952000\n",
       "std          2.901954\n",
       "min          0.000000\n",
       "25%          2.000000\n",
       "50%          5.000000\n",
       "75%          7.000000\n",
       "max         10.000000\n",
       "Name: tenure, dtype: float64"
      ]
     },
     "execution_count": 15,
     "metadata": {},
     "output_type": "execute_result"
    }
   ],
   "source": [
    "df['tenure'].describe()"
   ]
  },
  {
   "cell_type": "markdown",
   "metadata": {},
   "source": [
    "#### Неявные пропуски"
   ]
  },
  {
   "cell_type": "markdown",
   "metadata": {},
   "source": [
    "Попробуем оценить неявные пропуски в данных"
   ]
  },
  {
   "cell_type": "code",
   "execution_count": 16,
   "metadata": {},
   "outputs": [
    {
     "data": {
      "text/plain": [
       "count    10000.000000\n",
       "mean       650.528800\n",
       "std         96.653299\n",
       "min        350.000000\n",
       "25%        584.000000\n",
       "50%        652.000000\n",
       "75%        718.000000\n",
       "max        850.000000\n",
       "Name: credit_score, dtype: float64"
      ]
     },
     "execution_count": 16,
     "metadata": {},
     "output_type": "execute_result"
    }
   ],
   "source": [
    "df['credit_score'].describe()"
   ]
  },
  {
   "cell_type": "markdown",
   "metadata": {},
   "source": [
    "Значения от 350 до 850"
   ]
  },
  {
   "cell_type": "code",
   "execution_count": 17,
   "metadata": {},
   "outputs": [
    {
     "data": {
      "text/plain": [
       "France     5014\n",
       "Germany    2509\n",
       "Spain      2477\n",
       "Name: geography, dtype: int64"
      ]
     },
     "execution_count": 17,
     "metadata": {},
     "output_type": "execute_result"
    }
   ],
   "source": [
    "df['geography'].value_counts()"
   ]
  },
  {
   "cell_type": "markdown",
   "metadata": {},
   "source": [
    "Клиенты из трех стран, все ок"
   ]
  },
  {
   "cell_type": "code",
   "execution_count": 18,
   "metadata": {},
   "outputs": [
    {
     "data": {
      "text/plain": [
       "Male      5457\n",
       "Female    4543\n",
       "Name: gender, dtype: int64"
      ]
     },
     "execution_count": 18,
     "metadata": {},
     "output_type": "execute_result"
    }
   ],
   "source": [
    "df['gender'].value_counts()"
   ]
  },
  {
   "cell_type": "markdown",
   "metadata": {},
   "source": [
    "Неопределенных данных нет, столбец можно привести к типу bool"
   ]
  },
  {
   "cell_type": "code",
   "execution_count": 19,
   "metadata": {},
   "outputs": [
    {
     "data": {
      "text/plain": [
       "count    10000.000000\n",
       "mean        38.921800\n",
       "std         10.487806\n",
       "min         18.000000\n",
       "25%         32.000000\n",
       "50%         37.000000\n",
       "75%         44.000000\n",
       "max         92.000000\n",
       "Name: age, dtype: float64"
      ]
     },
     "execution_count": 19,
     "metadata": {},
     "output_type": "execute_result"
    }
   ],
   "source": [
    "df['age'].describe()"
   ]
  },
  {
   "cell_type": "markdown",
   "metadata": {},
   "source": [
    "От 18 до 92, ок"
   ]
  },
  {
   "cell_type": "code",
   "execution_count": 20,
   "metadata": {},
   "outputs": [
    {
     "data": {
      "text/plain": [
       "count     10000.000000\n",
       "mean      76485.889288\n",
       "std       62397.405202\n",
       "min           0.000000\n",
       "25%           0.000000\n",
       "50%       97198.540000\n",
       "75%      127644.240000\n",
       "max      250898.090000\n",
       "Name: balance, dtype: float64"
      ]
     },
     "execution_count": 20,
     "metadata": {},
     "output_type": "execute_result"
    }
   ],
   "source": [
    "df['balance'].describe()"
   ]
  },
  {
   "cell_type": "markdown",
   "metadata": {},
   "source": [
    "Ок"
   ]
  },
  {
   "cell_type": "code",
   "execution_count": 21,
   "metadata": {},
   "outputs": [
    {
     "data": {
      "text/plain": [
       "count    10000.000000\n",
       "mean         1.530200\n",
       "std          0.581654\n",
       "min          1.000000\n",
       "25%          1.000000\n",
       "50%          1.000000\n",
       "75%          2.000000\n",
       "max          4.000000\n",
       "Name: num_of_products, dtype: float64"
      ]
     },
     "execution_count": 21,
     "metadata": {},
     "output_type": "execute_result"
    }
   ],
   "source": [
    "df['num_of_products'].describe()"
   ]
  },
  {
   "cell_type": "markdown",
   "metadata": {},
   "source": [
    "Ок"
   ]
  },
  {
   "cell_type": "code",
   "execution_count": 22,
   "metadata": {
    "tags": []
   },
   "outputs": [
    {
     "data": {
      "text/plain": [
       "1    7055\n",
       "0    2945\n",
       "Name: has_cr_card, dtype: int64"
      ]
     },
     "execution_count": 22,
     "metadata": {},
     "output_type": "execute_result"
    }
   ],
   "source": [
    "df['has_cr_card'].value_counts()"
   ]
  },
  {
   "cell_type": "markdown",
   "metadata": {},
   "source": [
    "Два значения - к типу bool"
   ]
  },
  {
   "cell_type": "code",
   "execution_count": 23,
   "metadata": {},
   "outputs": [
    {
     "data": {
      "text/plain": [
       "1    5151\n",
       "0    4849\n",
       "Name: is_active, dtype: int64"
      ]
     },
     "execution_count": 23,
     "metadata": {},
     "output_type": "execute_result"
    }
   ],
   "source": [
    "df['is_active'].value_counts()"
   ]
  },
  {
   "cell_type": "markdown",
   "metadata": {},
   "source": [
    "Два значения - к типу bool"
   ]
  },
  {
   "cell_type": "code",
   "execution_count": 24,
   "metadata": {
    "tags": []
   },
   "outputs": [
    {
     "data": {
      "text/plain": [
       "count     10000.000000\n",
       "mean     100090.239881\n",
       "std       57510.492818\n",
       "min          11.580000\n",
       "25%       51002.110000\n",
       "50%      100193.915000\n",
       "75%      149388.247500\n",
       "max      199992.480000\n",
       "Name: estimated_salary, dtype: float64"
      ]
     },
     "execution_count": 24,
     "metadata": {},
     "output_type": "execute_result"
    }
   ],
   "source": [
    "df['estimated_salary'].describe()"
   ]
  },
  {
   "cell_type": "markdown",
   "metadata": {},
   "source": [
    "Не очень понятные данные, оставим как есть"
   ]
  },
  {
   "cell_type": "code",
   "execution_count": 25,
   "metadata": {},
   "outputs": [
    {
     "data": {
      "text/plain": [
       "0    7963\n",
       "1    2037\n",
       "Name: exited, dtype: int64"
      ]
     },
     "execution_count": 25,
     "metadata": {},
     "output_type": "execute_result"
    }
   ],
   "source": [
    "df['exited'].value_counts()"
   ]
  },
  {
   "cell_type": "markdown",
   "metadata": {},
   "source": [
    "Два значения - к типу bool"
   ]
  },
  {
   "cell_type": "markdown",
   "metadata": {},
   "source": [
    "### Типы данных"
   ]
  },
  {
   "cell_type": "markdown",
   "metadata": {},
   "source": [
    "Преобразуем типы данных описанных выше столбцов"
   ]
  },
  {
   "cell_type": "code",
   "execution_count": 26,
   "metadata": {},
   "outputs": [
    {
     "data": {
      "text/plain": [
       "True     5457\n",
       "False    4543\n",
       "Name: gender, dtype: int64"
      ]
     },
     "execution_count": 26,
     "metadata": {},
     "output_type": "execute_result"
    }
   ],
   "source": [
    "df.loc[(df['gender'] == 'Female'), 'gender'] = 0\n",
    "df.loc[(df['gender'] == 'Male'), 'gender'] = 1\n",
    "df['gender'] = df['gender'].astype(bool)\n",
    "df['gender'].value_counts()"
   ]
  },
  {
   "cell_type": "code",
   "execution_count": 27,
   "metadata": {
    "tags": []
   },
   "outputs": [
    {
     "data": {
      "text/plain": [
       "True     7055\n",
       "False    2945\n",
       "Name: has_cr_card, dtype: int64"
      ]
     },
     "execution_count": 27,
     "metadata": {},
     "output_type": "execute_result"
    }
   ],
   "source": [
    "df['has_cr_card'] = df['has_cr_card'].astype(bool)\n",
    "df['has_cr_card'].value_counts()"
   ]
  },
  {
   "cell_type": "code",
   "execution_count": 28,
   "metadata": {},
   "outputs": [
    {
     "data": {
      "text/plain": [
       "True     5151\n",
       "False    4849\n",
       "Name: is_active, dtype: int64"
      ]
     },
     "execution_count": 28,
     "metadata": {},
     "output_type": "execute_result"
    }
   ],
   "source": [
    "df['is_active'] = df['is_active'].astype(bool)\n",
    "df['is_active'].value_counts()"
   ]
  },
  {
   "cell_type": "code",
   "execution_count": 29,
   "metadata": {},
   "outputs": [
    {
     "data": {
      "text/plain": [
       "False    7963\n",
       "True     2037\n",
       "Name: exited, dtype: int64"
      ]
     },
     "execution_count": 29,
     "metadata": {},
     "output_type": "execute_result"
    }
   ],
   "source": [
    "df['exited'] = df['exited'].astype(bool)\n",
    "df['exited'].value_counts()"
   ]
  },
  {
   "cell_type": "markdown",
   "metadata": {},
   "source": [
    "Проверим данные на дубликаты"
   ]
  },
  {
   "cell_type": "code",
   "execution_count": 30,
   "metadata": {},
   "outputs": [
    {
     "data": {
      "text/plain": [
       "0"
      ]
     },
     "execution_count": 30,
     "metadata": {},
     "output_type": "execute_result"
    }
   ],
   "source": [
    "df.duplicated().sum()"
   ]
  },
  {
   "cell_type": "markdown",
   "metadata": {},
   "source": [
    "## Исследование задачи"
   ]
  },
  {
   "cell_type": "markdown",
   "metadata": {},
   "source": [
    "### Подготовка к машинному обучению"
   ]
  },
  {
   "cell_type": "markdown",
   "metadata": {},
   "source": [
    "Построим матрицу корреляции признаков"
   ]
  },
  {
   "cell_type": "code",
   "execution_count": 31,
   "metadata": {},
   "outputs": [
    {
     "data": {
      "image/png": "[encoded data removed]",
      "text/plain": [
       "<Figure size 864x648 with 2 Axes>"
      ]
     },
     "metadata": {},
     "output_type": "display_data"
    }
   ],
   "source": [
    "sns.set(rc = {'figure.figsize':(12,9)})\n",
    "sns.heatmap(df.corr(), annot = True, fmt='.1g',  cmap='coolwarm')\n",
    "\n",
    "plt.title(\"Матрица корреляции признаков\")\n",
    "\n",
    "plt.show()"
   ]
  },
  {
   "cell_type": "markdown",
   "metadata": {},
   "source": [
    "Проведем кодирование OHE - One-Hot Encoding, избегая дамми-ловушку"
   ]
  },
  {
   "cell_type": "code",
   "execution_count": 32,
   "metadata": {},
   "outputs": [
    {
     "data": {
      "text/html": [
       "<div>\n",
       "<style scoped>\n",
       "    .dataframe tbody tr th:only-of-type {\n",
       "        vertical-align: middle;\n",
       "    }\n",
       "\n",
       "    .dataframe tbody tr th {\n",
       "        vertical-align: top;\n",
       "    }\n",
       "\n",
       "    .dataframe thead th {\n",
       "        text-align: right;\n",
       "    }\n",
       "</style>\n",
       "<table border=\"1\" class=\"dataframe\">\n",
       "  <thead>\n",
       "    <tr style=\"text-align: right;\">\n",
       "      <th></th>\n",
       "      <th>credit_score</th>\n",
       "      <th>gender</th>\n",
       "      <th>age</th>\n",
       "      <th>tenure</th>\n",
       "      <th>balance</th>\n",
       "      <th>num_of_products</th>\n",
       "      <th>has_cr_card</th>\n",
       "      <th>is_active</th>\n",
       "      <th>estimated_salary</th>\n",
       "      <th>exited</th>\n",
       "      <th>geography_Germany</th>\n",
       "      <th>geography_Spain</th>\n",
       "    </tr>\n",
       "  </thead>\n",
       "  <tbody>\n",
       "    <tr>\n",
       "      <th>0</th>\n",
       "      <td>619</td>\n",
       "      <td>False</td>\n",
       "      <td>42</td>\n",
       "      <td>2.0</td>\n",
       "      <td>0.00</td>\n",
       "      <td>1</td>\n",
       "      <td>True</td>\n",
       "      <td>True</td>\n",
       "      <td>101348.88</td>\n",
       "      <td>True</td>\n",
       "      <td>0</td>\n",
       "      <td>0</td>\n",
       "    </tr>\n",
       "    <tr>\n",
       "      <th>1</th>\n",
       "      <td>608</td>\n",
       "      <td>False</td>\n",
       "      <td>41</td>\n",
       "      <td>1.0</td>\n",
       "      <td>83807.86</td>\n",
       "      <td>1</td>\n",
       "      <td>False</td>\n",
       "      <td>True</td>\n",
       "      <td>112542.58</td>\n",
       "      <td>False</td>\n",
       "      <td>0</td>\n",
       "      <td>1</td>\n",
       "    </tr>\n",
       "    <tr>\n",
       "      <th>2</th>\n",
       "      <td>502</td>\n",
       "      <td>False</td>\n",
       "      <td>42</td>\n",
       "      <td>8.0</td>\n",
       "      <td>159660.80</td>\n",
       "      <td>3</td>\n",
       "      <td>True</td>\n",
       "      <td>False</td>\n",
       "      <td>113931.57</td>\n",
       "      <td>True</td>\n",
       "      <td>0</td>\n",
       "      <td>0</td>\n",
       "    </tr>\n",
       "    <tr>\n",
       "      <th>3</th>\n",
       "      <td>699</td>\n",
       "      <td>False</td>\n",
       "      <td>39</td>\n",
       "      <td>1.0</td>\n",
       "      <td>0.00</td>\n",
       "      <td>2</td>\n",
       "      <td>False</td>\n",
       "      <td>False</td>\n",
       "      <td>93826.63</td>\n",
       "      <td>False</td>\n",
       "      <td>0</td>\n",
       "      <td>0</td>\n",
       "    </tr>\n",
       "    <tr>\n",
       "      <th>4</th>\n",
       "      <td>850</td>\n",
       "      <td>False</td>\n",
       "      <td>43</td>\n",
       "      <td>2.0</td>\n",
       "      <td>125510.82</td>\n",
       "      <td>1</td>\n",
       "      <td>True</td>\n",
       "      <td>True</td>\n",
       "      <td>79084.10</td>\n",
       "      <td>False</td>\n",
       "      <td>0</td>\n",
       "      <td>1</td>\n",
       "    </tr>\n",
       "  </tbody>\n",
       "</table>\n",
       "</div>"
      ],
      "text/plain": [
       "   credit_score  gender  age  tenure    balance  num_of_products  has_cr_card  \\\n",
       "0           619   False   42     2.0       0.00                1         True   \n",
       "1           608   False   41     1.0   83807.86                1        False   \n",
       "2           502   False   42     8.0  159660.80                3         True   \n",
       "3           699   False   39     1.0       0.00                2        False   \n",
       "4           850   False   43     2.0  125510.82                1         True   \n",
       "\n",
       "   is_active  estimated_salary  exited  geography_Germany  geography_Spain  \n",
       "0       True         101348.88    True                  0                0  \n",
       "1       True         112542.58   False                  0                1  \n",
       "2      False         113931.57    True                  0                0  \n",
       "3      False          93826.63   False                  0                0  \n",
       "4       True          79084.10   False                  0                1  "
      ]
     },
     "execution_count": 32,
     "metadata": {},
     "output_type": "execute_result"
    }
   ],
   "source": [
    "df = pd.get_dummies(df, drop_first=True)\n",
    "df.head()"
   ]
  },
  {
   "cell_type": "markdown",
   "metadata": {},
   "source": [
    "Масштабируем данные методом стандартизации данных с использованием StandardScaler"
   ]
  },
  {
   "cell_type": "code",
   "execution_count": 33,
   "metadata": {},
   "outputs": [
    {
     "data": {
      "text/html": [
       "<div>\n",
       "<style scoped>\n",
       "    .dataframe tbody tr th:only-of-type {\n",
       "        vertical-align: middle;\n",
       "    }\n",
       "\n",
       "    .dataframe tbody tr th {\n",
       "        vertical-align: top;\n",
       "    }\n",
       "\n",
       "    .dataframe thead th {\n",
       "        text-align: right;\n",
       "    }\n",
       "</style>\n",
       "<table border=\"1\" class=\"dataframe\">\n",
       "  <thead>\n",
       "    <tr style=\"text-align: right;\">\n",
       "      <th></th>\n",
       "      <th>credit_score</th>\n",
       "      <th>gender</th>\n",
       "      <th>age</th>\n",
       "      <th>tenure</th>\n",
       "      <th>balance</th>\n",
       "      <th>num_of_products</th>\n",
       "      <th>has_cr_card</th>\n",
       "      <th>is_active</th>\n",
       "      <th>estimated_salary</th>\n",
       "      <th>exited</th>\n",
       "      <th>geography_Germany</th>\n",
       "      <th>geography_Spain</th>\n",
       "    </tr>\n",
       "  </thead>\n",
       "  <tbody>\n",
       "    <tr>\n",
       "      <th>0</th>\n",
       "      <td>-0.326221</td>\n",
       "      <td>False</td>\n",
       "      <td>0.293517</td>\n",
       "      <td>-1.017296</td>\n",
       "      <td>-1.225848</td>\n",
       "      <td>-0.911583</td>\n",
       "      <td>True</td>\n",
       "      <td>True</td>\n",
       "      <td>0.021886</td>\n",
       "      <td>True</td>\n",
       "      <td>0</td>\n",
       "      <td>0</td>\n",
       "    </tr>\n",
       "    <tr>\n",
       "      <th>1</th>\n",
       "      <td>-0.440036</td>\n",
       "      <td>False</td>\n",
       "      <td>0.198164</td>\n",
       "      <td>-1.361909</td>\n",
       "      <td>0.117350</td>\n",
       "      <td>-0.911583</td>\n",
       "      <td>False</td>\n",
       "      <td>True</td>\n",
       "      <td>0.216534</td>\n",
       "      <td>False</td>\n",
       "      <td>0</td>\n",
       "      <td>1</td>\n",
       "    </tr>\n",
       "    <tr>\n",
       "      <th>2</th>\n",
       "      <td>-1.536794</td>\n",
       "      <td>False</td>\n",
       "      <td>0.293517</td>\n",
       "      <td>1.050379</td>\n",
       "      <td>1.333053</td>\n",
       "      <td>2.527057</td>\n",
       "      <td>True</td>\n",
       "      <td>False</td>\n",
       "      <td>0.240687</td>\n",
       "      <td>True</td>\n",
       "      <td>0</td>\n",
       "      <td>0</td>\n",
       "    </tr>\n",
       "    <tr>\n",
       "      <th>3</th>\n",
       "      <td>0.501521</td>\n",
       "      <td>False</td>\n",
       "      <td>0.007457</td>\n",
       "      <td>-1.361909</td>\n",
       "      <td>-1.225848</td>\n",
       "      <td>0.807737</td>\n",
       "      <td>False</td>\n",
       "      <td>False</td>\n",
       "      <td>-0.108918</td>\n",
       "      <td>False</td>\n",
       "      <td>0</td>\n",
       "      <td>0</td>\n",
       "    </tr>\n",
       "    <tr>\n",
       "      <th>4</th>\n",
       "      <td>2.063884</td>\n",
       "      <td>False</td>\n",
       "      <td>0.388871</td>\n",
       "      <td>-1.017296</td>\n",
       "      <td>0.785728</td>\n",
       "      <td>-0.911583</td>\n",
       "      <td>True</td>\n",
       "      <td>True</td>\n",
       "      <td>-0.365276</td>\n",
       "      <td>False</td>\n",
       "      <td>0</td>\n",
       "      <td>1</td>\n",
       "    </tr>\n",
       "  </tbody>\n",
       "</table>\n",
       "</div>"
      ],
      "text/plain": [
       "   credit_score  gender       age    tenure   balance  num_of_products  \\\n",
       "0     -0.326221   False  0.293517 -1.017296 -1.225848        -0.911583   \n",
       "1     -0.440036   False  0.198164 -1.361909  0.117350        -0.911583   \n",
       "2     -1.536794   False  0.293517  1.050379  1.333053         2.527057   \n",
       "3      0.501521   False  0.007457 -1.361909 -1.225848         0.807737   \n",
       "4      2.063884   False  0.388871 -1.017296  0.785728        -0.911583   \n",
       "\n",
       "   has_cr_card  is_active  estimated_salary  exited  geography_Germany  \\\n",
       "0         True       True          0.021886    True                  0   \n",
       "1        False       True          0.216534   False                  0   \n",
       "2         True      False          0.240687    True                  0   \n",
       "3        False      False         -0.108918   False                  0   \n",
       "4         True       True         -0.365276   False                  0   \n",
       "\n",
       "   geography_Spain  \n",
       "0                0  \n",
       "1                1  \n",
       "2                0  \n",
       "3                0  \n",
       "4                1  "
      ]
     },
     "execution_count": 33,
     "metadata": {},
     "output_type": "execute_result"
    }
   ],
   "source": [
    "pd.options.mode.chained_assignment = None #выдавало алерт о том, что работаем с \"отрезом\" данных\n",
    "\n",
    "scaler = StandardScaler()\n",
    "data = ['credit_score', 'age', 'tenure', 'balance', 'num_of_products', 'estimated_salary']\n",
    "scaler.fit(df[data])\n",
    "df[data] = scaler.transform(df[data])\n",
    "df.head()"
   ]
  },
  {
   "cell_type": "markdown",
   "metadata": {},
   "source": [
    "Разделим датасет на три выборки в соотношении 3:1:1\n",
    "* train - обучение модели\n",
    "* valid - выбор лучшего алгоритма и гиперпараметров\n",
    "* test - финальный тест лучшей модели"
   ]
  },
  {
   "cell_type": "code",
   "execution_count": 34,
   "metadata": {},
   "outputs": [],
   "source": [
    "features = df.drop(['exited'], axis=1)\n",
    "target = df['exited']\n",
    "\n",
    "features_train, features_x, target_train, target_x = train_test_split(\n",
    "    features, target, train_size=0.6, test_size=0.4, random_state=12345)\n",
    "features_test, features_valid, target_test, target_valid = train_test_split(\n",
    "    features_x, target_x, test_size=0.5, random_state=12345)"
   ]
  },
  {
   "cell_type": "markdown",
   "metadata": {},
   "source": [
    "Масштабируем данные методом стандартизации данных с использованием StandardScaler"
   ]
  },
  {
   "cell_type": "markdown",
   "metadata": {},
   "source": [
    "### Машинное обучение"
   ]
  },
  {
   "cell_type": "markdown",
   "metadata": {},
   "source": [
    "#### DecisionTreeClassifier"
   ]
  },
  {
   "cell_type": "markdown",
   "metadata": {},
   "source": [
    "Исследуем модель \"дерево решений\", проверим глубину дерева от 1 до 20"
   ]
  },
  {
   "cell_type": "code",
   "execution_count": 36,
   "metadata": {},
   "outputs": [],
   "source": [
    "best_model = None\n",
    "best_f1 = 0\n",
    "best_roc = 0\n",
    "best_depth = 0"
   ]
  },
  {
   "cell_type": "code",
   "execution_count": 37,
   "metadata": {},
   "outputs": [],
   "source": [
    "for depth in range(1, 21):\n",
    "    model = DecisionTreeClassifier(random_state=12345, max_depth=depth)\n",
    "    \n",
    "    model.fit(features_train, target_train)\n",
    "    \n",
    "    predictions_valid = model.predict(features_valid)\n",
    "    \n",
    "    f1_valid = f1_score(target_valid, predictions_valid)\n",
    "    \n",
    "    if f1_valid > best_f1:\n",
    "        best_model = model\n",
    "        best_f1 = f1_valid\n",
    "        best_roc = roc_auc_score(target_valid, model.predict_proba(features_valid)[:,1])\n",
    "        best_depth = depth"
   ]
  },
  {
   "cell_type": "code",
   "execution_count": 38,
   "metadata": {},
   "outputs": [
    {
     "name": "stdout",
     "output_type": "stream",
     "text": [
      "F1 лучшей модели 0.5261538461538461 \n",
      "ROC лучшей модели 0.8363195222097799 \n",
      "Глубина дерева: 6\n"
     ]
    }
   ],
   "source": [
    "print(\"F1 лучшей модели\", best_f1, \"\\nROC лучшей модели\", best_roc, \"\\nГлубина дерева:\", best_depth)"
   ]
  },
  {
   "cell_type": "markdown",
   "metadata": {},
   "source": [
    "#### RandomForestClassifier"
   ]
  },
  {
   "cell_type": "markdown",
   "metadata": {},
   "source": [
    "Исследуем модель \"случайный лес\", проверим количество деревьев и глубину дерева от 1 до 20"
   ]
  },
  {
   "cell_type": "code",
   "execution_count": 39,
   "metadata": {},
   "outputs": [],
   "source": [
    "best_model = None\n",
    "best_f1 = 0\n",
    "best_roc = 0\n",
    "best_depth=0\n",
    "best_est = 0"
   ]
  },
  {
   "cell_type": "code",
   "execution_count": 40,
   "metadata": {},
   "outputs": [],
   "source": [
    "for est in range(1, 21):\n",
    "    for depth in range (1, 21):\n",
    "        model = RandomForestClassifier(random_state=12345, n_estimators=est, max_depth=depth)\n",
    "        \n",
    "        model.fit(features_train, target_train)\n",
    "        \n",
    "        predictions_valid = model.predict(features_valid) \n",
    "        \n",
    "        f1_valid = f1_score(target_valid, predictions_valid)\n",
    "        \n",
    "        if f1_valid > best_f1:\n",
    "            best_model = model\n",
    "            best_f1 = f1_valid\n",
    "            best_roc = roc_auc_score(target_valid, model.predict_proba(features_valid)[:,1])\n",
    "            best_depth = depth\n",
    "            best_est = est"
   ]
  },
  {
   "cell_type": "code",
   "execution_count": 41,
   "metadata": {},
   "outputs": [
    {
     "name": "stdout",
     "output_type": "stream",
     "text": [
      "F1 лучшей модели 0.5557163531114326 \n",
      "ROC лучшей модели 0.824117672631549 \n",
      "Глубина дерева: 13 \n",
      "Количество деревьев: 9\n"
     ]
    }
   ],
   "source": [
    "print(\"F1 лучшей модели\", best_f1, \"\\nROC лучшей модели\", best_roc, \n",
    "      \"\\nГлубина дерева:\", best_depth, \"\\nКоличество деревьев:\", best_est)"
   ]
  },
  {
   "cell_type": "markdown",
   "metadata": {},
   "source": [
    "#### LogisticRegression"
   ]
  },
  {
   "cell_type": "markdown",
   "metadata": {},
   "source": [
    "Исследуем модель \"логистическая регрессия\""
   ]
  },
  {
   "cell_type": "code",
   "execution_count": 42,
   "metadata": {},
   "outputs": [],
   "source": [
    "model = LogisticRegression(random_state=12345, solver='liblinear')\n",
    "\n",
    "model.fit(features_train, target_train)\n",
    "\n",
    "predictions_valid = model.predict(features_valid) \n",
    "\n",
    "f1_valid = f1_score(target_valid, predictions_valid)\n",
    "roc_valid = roc_auc_score(target_valid, model.predict_proba(features_valid)[:,1])"
   ]
  },
  {
   "cell_type": "code",
   "execution_count": 43,
   "metadata": {},
   "outputs": [
    {
     "name": "stdout",
     "output_type": "stream",
     "text": [
      "F1 модели 0.2743055555555555 \n",
      "ROC модели 0.7387444514901711\n"
     ]
    }
   ],
   "source": [
    "print(\"F1 модели\", f1_valid, \"\\nROC модели\", roc_valid)"
   ]
  },
  {
   "cell_type": "markdown",
   "metadata": {},
   "source": [
    "Лучший результат дает модель RandomForestClassifier:\n",
    "* F1 лучшей модели 0.56071964017991 \n",
    "* ROC лучшей модели 0.8474105455041516 \n",
    "* Глубина дерева: 12 \n",
    "* Количество деревьев: 18"
   ]
  },
  {
   "cell_type": "markdown",
   "metadata": {},
   "source": [
    "## Борьба с дисбалансом"
   ]
  },
  {
   "cell_type": "markdown",
   "metadata": {},
   "source": [
    "Проверим баланс классов"
   ]
  },
  {
   "cell_type": "code",
   "execution_count": 44,
   "metadata": {},
   "outputs": [
    {
     "data": {
      "text/plain": [
       "False    0.800667\n",
       "True     0.199333\n",
       "Name: exited, dtype: float64"
      ]
     },
     "execution_count": 44,
     "metadata": {},
     "output_type": "execute_result"
    }
   ],
   "source": [
    "target_train.value_counts(normalize = 1)"
   ]
  },
  {
   "cell_type": "code",
   "execution_count": 45,
   "metadata": {},
   "outputs": [
    {
     "data": {
      "text/plain": [
       "False    0.7885\n",
       "True     0.2115\n",
       "Name: exited, dtype: float64"
      ]
     },
     "execution_count": 45,
     "metadata": {},
     "output_type": "execute_result"
    }
   ],
   "source": [
    "target_valid.value_counts(normalize = 1)"
   ]
  },
  {
   "cell_type": "code",
   "execution_count": 46,
   "metadata": {},
   "outputs": [
    {
     "data": {
      "text/plain": [
       "False    0.791\n",
       "True     0.209\n",
       "Name: exited, dtype: float64"
      ]
     },
     "execution_count": 46,
     "metadata": {},
     "output_type": "execute_result"
    }
   ],
   "source": [
    "target_test.value_counts(normalize = 1)"
   ]
  },
  {
   "cell_type": "markdown",
   "metadata": {},
   "source": [
    "У выборок наблюдается значительный дисбаланс классов: 80% ответы False и 20% ответы True\n",
    "\n",
    "Попробуем улучшить модель различными способами борьбы с дисбалансом"
   ]
  },
  {
   "cell_type": "markdown",
   "metadata": {},
   "source": [
    "### Взвешивание классов"
   ]
  },
  {
   "cell_type": "code",
   "execution_count": 47,
   "metadata": {},
   "outputs": [],
   "source": [
    "best_model = None\n",
    "best_f1 = 0\n",
    "best_roc = 0\n",
    "best_depth=0\n",
    "best_est = 0"
   ]
  },
  {
   "cell_type": "code",
   "execution_count": 48,
   "metadata": {},
   "outputs": [],
   "source": [
    "for est in range(1, 21):\n",
    "    for depth in range (1, 21):\n",
    "        model = RandomForestClassifier(random_state=12345, n_estimators=est, max_depth=depth, class_weight='balanced')\n",
    "        \n",
    "        model.fit(features_train, target_train)\n",
    "        \n",
    "        predictions_valid = model.predict(features_valid) \n",
    "        \n",
    "        f1_valid = f1_score(target_valid, predictions_valid)\n",
    "\n",
    "        if f1_valid > best_f1:\n",
    "            best_model = model\n",
    "            best_f1 = f1_valid\n",
    "            best_roc = roc_auc_score(target_valid, model.predict_proba(features_valid)[:,1])\n",
    "            best_depth = depth\n",
    "            best_est = est"
   ]
  },
  {
   "cell_type": "code",
   "execution_count": 49,
   "metadata": {},
   "outputs": [
    {
     "name": "stdout",
     "output_type": "stream",
     "text": [
      "F1 лучшей модели 0.6128680479825517 \n",
      "ROC лучшей модели 0.8457053297175263 \n",
      "Глубина дерева: 8 \n",
      "Количество деревьев: 19\n"
     ]
    }
   ],
   "source": [
    "print(\"F1 лучшей модели\", best_f1, \"\\nROC лучшей модели\", best_roc,\n",
    "      \"\\nГлубина дерева:\", best_depth, \"\\nКоличество деревьев:\", best_est)"
   ]
  },
  {
   "cell_type": "markdown",
   "metadata": {},
   "source": [
    "Удалось добиться улучшения модели"
   ]
  },
  {
   "cell_type": "markdown",
   "metadata": {},
   "source": [
    "### Увеличение выборки"
   ]
  },
  {
   "cell_type": "markdown",
   "metadata": {},
   "source": [
    "Попробуем улучшить модель методом увеличения выборки"
   ]
  },
  {
   "cell_type": "code",
   "execution_count": 50,
   "metadata": {},
   "outputs": [],
   "source": [
    "def upsample(features, target, repeat):\n",
    "    features_zeros = features[target == 0]\n",
    "    features_ones = features[target == 1]\n",
    "    target_zeros = target[target == 0]\n",
    "    target_ones = target[target == 1]\n",
    "\n",
    "    features_upsampled = pd.concat([features_zeros] + [features_ones] * repeat)\n",
    "    target_upsampled = pd.concat([target_zeros] + [target_ones] * repeat)\n",
    "    \n",
    "    features_upsampled, target_upsampled = shuffle(\n",
    "        features_upsampled, target_upsampled, random_state=12345)\n",
    "    \n",
    "    return features_upsampled, target_upsampled"
   ]
  },
  {
   "cell_type": "code",
   "execution_count": 51,
   "metadata": {},
   "outputs": [],
   "source": [
    "features_upsampled, target_upsampled = upsample(features_train, target_train, 4)"
   ]
  },
  {
   "cell_type": "code",
   "execution_count": 52,
   "metadata": {},
   "outputs": [],
   "source": [
    "best_model = None\n",
    "best_f1 = 0\n",
    "best_roc = 0\n",
    "best_depth=0\n",
    "best_est = 0"
   ]
  },
  {
   "cell_type": "code",
   "execution_count": 53,
   "metadata": {},
   "outputs": [],
   "source": [
    "for est in range(1, 21):\n",
    "    for depth in range (1, 21):\n",
    "        model = RandomForestClassifier(random_state=12345, n_estimators=est, max_depth=depth)\n",
    "        \n",
    "        model.fit(features_upsampled, target_upsampled)\n",
    "        \n",
    "        predictions_valid = model.predict(features_valid) \n",
    "        \n",
    "        f1_valid = f1_score(target_valid, predictions_valid)\n",
    "        \n",
    "        if f1_valid > best_f1:\n",
    "            best_model = model\n",
    "            best_f1 = f1_valid\n",
    "            best_roc = roc_auc_score(target_valid, model.predict_proba(features_valid)[:,1])\n",
    "            best_depth = depth\n",
    "            best_est = est"
   ]
  },
  {
   "cell_type": "code",
   "execution_count": 54,
   "metadata": {},
   "outputs": [
    {
     "name": "stdout",
     "output_type": "stream",
     "text": [
      "F1 лучшей модели 0.6107226107226107 \n",
      "ROC лучшей модели 0.8444063675380881 \n",
      "Глубина дерева: 12 \n",
      "Количество деревьев: 16\n"
     ]
    }
   ],
   "source": [
    "print(\"F1 лучшей модели\", best_f1, \"\\nROC лучшей модели\", best_roc,\n",
    "      \"\\nГлубина дерева:\", best_depth, \"\\nКоличество деревьев:\", best_est)"
   ]
  },
  {
   "cell_type": "markdown",
   "metadata": {},
   "source": [
    "Также удалось добиться улучшения модели, но у балансировки классов результат немного выше"
   ]
  },
  {
   "cell_type": "markdown",
   "metadata": {},
   "source": [
    "### Уменьшение выборки"
   ]
  },
  {
   "cell_type": "code",
   "execution_count": 55,
   "metadata": {},
   "outputs": [],
   "source": [
    "def downsample(features, target, fraction):\n",
    "    features_zeros = features[target == 0]\n",
    "    features_ones = features[target == 1]\n",
    "    target_zeros = target[target == 0]\n",
    "    target_ones = target[target == 1]\n",
    "\n",
    "    features_downsampled = pd.concat(\n",
    "        [features_zeros.sample(frac=fraction, random_state=12345)] + [features_ones])\n",
    "    target_downsampled = pd.concat(\n",
    "        [target_zeros.sample(frac=fraction, random_state=12345)] + [target_ones])\n",
    "    \n",
    "    features_downsampled, target_downsampled = shuffle(\n",
    "        features_downsampled, target_downsampled, random_state=12345)\n",
    "    \n",
    "    return features_downsampled, target_downsampled"
   ]
  },
  {
   "cell_type": "code",
   "execution_count": 56,
   "metadata": {},
   "outputs": [],
   "source": [
    "features_upsampled, target_upsampled = downsample(features_train, target_train, 0.1)"
   ]
  },
  {
   "cell_type": "code",
   "execution_count": 57,
   "metadata": {},
   "outputs": [],
   "source": [
    "best_model = None\n",
    "best_f1 = 0\n",
    "best_roc = 0\n",
    "best_depth=0\n",
    "best_est = 0"
   ]
  },
  {
   "cell_type": "code",
   "execution_count": 58,
   "metadata": {},
   "outputs": [],
   "source": [
    "for est in range(1, 21):\n",
    "    for depth in range (1, 21):\n",
    "        model = RandomForestClassifier(random_state=12345, n_estimators=est, max_depth=depth)\n",
    "        \n",
    "        model.fit(features_upsampled, target_upsampled)\n",
    "        \n",
    "        predictions_valid = model.predict(features_valid) \n",
    "        \n",
    "        f1_valid = f1_score(target_valid, predictions_valid)\n",
    "        \n",
    "        if f1_valid > best_f1:\n",
    "            best_model = model\n",
    "            best_f1 = f1_valid\n",
    "            best_roc = roc_auc_score(target_valid, model.predict_proba(features_valid)[:,1])\n",
    "            best_depth = depth\n",
    "            best_est = est"
   ]
  },
  {
   "cell_type": "code",
   "execution_count": 59,
   "metadata": {},
   "outputs": [
    {
     "name": "stdout",
     "output_type": "stream",
     "text": [
      "F1 лучшей модели 0.5125208681135226 \n",
      "ROC лучшей модели 0.7352358294694268 \n",
      "Глубина дерева: 14 \n",
      "Количество деревьев: 2\n"
     ]
    }
   ],
   "source": [
    "print(\"F1 лучшей модели\", best_f1, \"\\nROC лучшей модели\", best_roc,\n",
    "      \"\\nГлубина дерева:\", best_depth, \"\\nКоличество деревьев:\", best_est)"
   ]
  },
  {
   "cell_type": "markdown",
   "metadata": {},
   "source": [
    "При использовании этого способа модель ухудшилась"
   ]
  },
  {
   "cell_type": "markdown",
   "metadata": {},
   "source": [
    "Таким образом, лучший результат (F1=0.6095, ROC=0.8485) дает случайное дерево с балансировкой классов и следующими гиперпараметрами:\n",
    "* Глубина дерева: 9 \n",
    "* Количество деревьев: 19"
   ]
  },
  {
   "cell_type": "markdown",
   "metadata": {},
   "source": [
    "## Тестирование модели"
   ]
  },
  {
   "cell_type": "markdown",
   "metadata": {},
   "source": [
    "Проведем тестирование модели с установленными параметрами"
   ]
  },
  {
   "cell_type": "code",
   "execution_count": 60,
   "metadata": {},
   "outputs": [
    {
     "name": "stdout",
     "output_type": "stream",
     "text": [
      "F1 модели 0.6157354618015963 \n",
      "ROC модели 0.8493851281461899\n"
     ]
    }
   ],
   "source": [
    "model = RandomForestClassifier(random_state=12345, n_estimators=19, max_depth=9, class_weight='balanced')\n",
    "        \n",
    "model.fit(features_train, target_train)\n",
    "        \n",
    "predictions_test = model.predict(features_test) \n",
    "\n",
    "roc_auc_test = roc_auc_score(target_test, model.predict_proba(features_test)[:,1])\n",
    "f1_test = f1_score(target_test, predictions_test)\n",
    "\n",
    "print(\"F1 модели\", f1_test, \"\\nROC модели\", roc_auc_test)"
   ]
  },
  {
   "cell_type": "markdown",
   "metadata": {},
   "source": [
    "Построим ROC-кривую"
   ]
  },
  {
   "cell_type": "code",
   "execution_count": 61,
   "metadata": {},
   "outputs": [],
   "source": [
    "probabilities_test = model.predict_proba(features_test)\n",
    "\n",
    "fpr, tpr, thresholds = roc_curve(target_test, probabilities_test[:, 1]) "
   ]
  },
  {
   "cell_type": "code",
   "execution_count": 62,
   "metadata": {},
   "outputs": [
    {
     "data": {
      "image/png": "[encoded data removed]",
      "text/plain": [
       "<Figure size 864x648 with 1 Axes>"
      ]
     },
     "metadata": {},
     "output_type": "display_data"
    }
   ],
   "source": [
    "plt.figure()\n",
    "plt.plot([0, 1], [0, 1], linestyle='--')\n",
    "plt.plot(fpr, tpr)\n",
    "plt.xlim([0.0, 1.0])\n",
    "plt.ylim([0.0, 1.0])\n",
    "plt.xlabel('False Positive Rate')\n",
    "plt.ylabel('True Positive Rate')\n",
    "plt.title('ROC-кривая')\n",
    "plt.show() "
   ]
  },
  {
   "cell_type": "code",
   "execution_count": 63,
   "metadata": {},
   "outputs": [
    {
     "data": {
      "text/html": [
       "<div>\n",
       "<style scoped>\n",
       "    .dataframe tbody tr th:only-of-type {\n",
       "        vertical-align: middle;\n",
       "    }\n",
       "\n",
       "    .dataframe tbody tr th {\n",
       "        vertical-align: top;\n",
       "    }\n",
       "\n",
       "    .dataframe thead th {\n",
       "        text-align: right;\n",
       "    }\n",
       "</style>\n",
       "<table border=\"1\" class=\"dataframe\">\n",
       "  <thead>\n",
       "    <tr style=\"text-align: right;\">\n",
       "      <th></th>\n",
       "      <th>feature</th>\n",
       "      <th>importance</th>\n",
       "    </tr>\n",
       "  </thead>\n",
       "  <tbody>\n",
       "    <tr>\n",
       "      <th>0</th>\n",
       "      <td>age</td>\n",
       "      <td>0.342077</td>\n",
       "    </tr>\n",
       "    <tr>\n",
       "      <th>1</th>\n",
       "      <td>num_of_products</td>\n",
       "      <td>0.187529</td>\n",
       "    </tr>\n",
       "    <tr>\n",
       "      <th>2</th>\n",
       "      <td>balance</td>\n",
       "      <td>0.110331</td>\n",
       "    </tr>\n",
       "    <tr>\n",
       "      <th>3</th>\n",
       "      <td>credit_score</td>\n",
       "      <td>0.077301</td>\n",
       "    </tr>\n",
       "    <tr>\n",
       "      <th>4</th>\n",
       "      <td>estimated_salary</td>\n",
       "      <td>0.074222</td>\n",
       "    </tr>\n",
       "    <tr>\n",
       "      <th>5</th>\n",
       "      <td>is_active</td>\n",
       "      <td>0.063345</td>\n",
       "    </tr>\n",
       "    <tr>\n",
       "      <th>6</th>\n",
       "      <td>geography_Germany</td>\n",
       "      <td>0.053018</td>\n",
       "    </tr>\n",
       "    <tr>\n",
       "      <th>7</th>\n",
       "      <td>tenure</td>\n",
       "      <td>0.043245</td>\n",
       "    </tr>\n",
       "    <tr>\n",
       "      <th>8</th>\n",
       "      <td>gender</td>\n",
       "      <td>0.027971</td>\n",
       "    </tr>\n",
       "    <tr>\n",
       "      <th>9</th>\n",
       "      <td>has_cr_card</td>\n",
       "      <td>0.012357</td>\n",
       "    </tr>\n",
       "    <tr>\n",
       "      <th>10</th>\n",
       "      <td>geography_Spain</td>\n",
       "      <td>0.008604</td>\n",
       "    </tr>\n",
       "  </tbody>\n",
       "</table>\n",
       "</div>"
      ],
      "text/plain": [
       "              feature  importance\n",
       "0                 age    0.342077\n",
       "1     num_of_products    0.187529\n",
       "2             balance    0.110331\n",
       "3        credit_score    0.077301\n",
       "4    estimated_salary    0.074222\n",
       "5           is_active    0.063345\n",
       "6   geography_Germany    0.053018\n",
       "7              tenure    0.043245\n",
       "8              gender    0.027971\n",
       "9         has_cr_card    0.012357\n",
       "10    geography_Spain    0.008604"
      ]
     },
     "execution_count": 63,
     "metadata": {},
     "output_type": "execute_result"
    }
   ],
   "source": [
    "feature_results = pd.DataFrame({'feature': list(features_test.columns), \n",
    "                                'importance': model.feature_importances_})\n",
    "\n",
    "feature_results = feature_results.sort_values('importance', ascending = False).reset_index(drop=True)\n",
    "\n",
    "feature_results"
   ]
  },
  {
   "cell_type": "code",
   "execution_count": 64,
   "metadata": {},
   "outputs": [
    {
     "data": {
      "text/plain": [
       "Text(0.5, 1.0, 'Feature Importances from Random Forest')"
      ]
     },
     "execution_count": 64,
     "metadata": {},
     "output_type": "execute_result"
    },
    {
     "data": {
      "image/png": "[encoded data removed]",
      "text/plain": [
       "<Figure size 864x648 with 1 Axes>"
      ]
     },
     "metadata": {},
     "output_type": "display_data"
    }
   ],
   "source": [
    "feature_results.plot(x = 'feature', y = 'importance', edgecolor = 'k', kind='barh', color = 'blue')\n",
    "\n",
    "plt.xlabel('Relative Importance')\n",
    "\n",
    "plt.title('Feature Importances from Random Forest')"
   ]
  },
  {
   "cell_type": "markdown",
   "metadata": {},
   "source": [
    "**Вывод**  \n",
    "\n",
    "При выполнении задачи были изучены и подготовлены данные (устранение пропусков, приведение к подходящим типам данных,  кодирование и масштабирование), исследованы три модели машинного обучения - решающее дерево, случайное дерево и логистическая регрессия\n",
    "\n",
    "Лучшей моделью признано случайное дерево с балансировкой классов, установлены наилучшие гиперпараметры: глубина дерева 9, количество деревьев 19\n",
    "\n",
    "На валидационной выборке при использовании этой модели удалось достичь значений метрик F1=0.6095 и ROC=0.8485\n",
    "\n",
    "На тестовой выборке удалось достичь значений метрик F1=0.6186 и ROC=0.8452"
   ]
  }
 ],
 "metadata": {
  "ExecuteTimeLog": [
   {
    "duration": 416,
    "start_time": "2022-03-18T07:32:47.238Z"
   },
   {
    "duration": 41,
    "start_time": "2022-03-18T07:32:48.300Z"
   },
   {
    "duration": 15,
    "start_time": "2022-03-18T07:32:57.742Z"
   },
   {
    "duration": 20,
    "start_time": "2022-03-18T07:33:23.410Z"
   },
   {
    "duration": 76,
    "start_time": "2022-03-18T07:34:45.009Z"
   },
   {
    "duration": 8,
    "start_time": "2022-03-18T07:34:49.674Z"
   },
   {
    "duration": 6,
    "start_time": "2022-03-18T07:34:52.968Z"
   },
   {
    "duration": 4,
    "start_time": "2022-03-18T07:41:41.700Z"
   },
   {
    "duration": 5,
    "start_time": "2022-03-18T07:43:44.400Z"
   },
   {
    "duration": 5,
    "start_time": "2022-03-18T07:51:17.487Z"
   },
   {
    "duration": 5,
    "start_time": "2022-03-18T07:52:28.644Z"
   },
   {
    "duration": 8,
    "start_time": "2022-03-18T07:54:58.220Z"
   },
   {
    "duration": 12,
    "start_time": "2022-03-18T07:59:27.487Z"
   },
   {
    "duration": 121,
    "start_time": "2022-03-18T07:59:41.980Z"
   },
   {
    "duration": 5,
    "start_time": "2022-03-18T08:06:54.147Z"
   },
   {
    "duration": 6,
    "start_time": "2022-03-18T08:07:16.398Z"
   },
   {
    "duration": 6,
    "start_time": "2022-03-18T08:07:49.612Z"
   },
   {
    "duration": 5,
    "start_time": "2022-03-18T08:08:02.118Z"
   },
   {
    "duration": 7,
    "start_time": "2022-03-18T08:08:15.270Z"
   },
   {
    "duration": 5,
    "start_time": "2022-03-18T08:08:25.448Z"
   },
   {
    "duration": 6,
    "start_time": "2022-03-18T08:08:36.974Z"
   },
   {
    "duration": 6,
    "start_time": "2022-03-18T08:08:45.042Z"
   },
   {
    "duration": 6,
    "start_time": "2022-03-18T08:08:54.662Z"
   },
   {
    "duration": 5,
    "start_time": "2022-03-18T08:09:07.772Z"
   },
   {
    "duration": 12,
    "start_time": "2022-03-18T08:10:03.370Z"
   },
   {
    "duration": 10,
    "start_time": "2022-03-18T08:10:10.876Z"
   },
   {
    "duration": 12,
    "start_time": "2022-03-18T08:10:55.220Z"
   },
   {
    "duration": 15,
    "start_time": "2022-03-18T08:12:29.366Z"
   },
   {
    "duration": 3,
    "start_time": "2022-03-18T08:12:36.312Z"
   },
   {
    "duration": 32,
    "start_time": "2022-03-18T08:12:36.744Z"
   },
   {
    "duration": 16,
    "start_time": "2022-03-18T08:12:37.276Z"
   },
   {
    "duration": 14,
    "start_time": "2022-03-18T08:12:37.990Z"
   },
   {
    "duration": 4,
    "start_time": "2022-03-18T08:12:39.470Z"
   },
   {
    "duration": 13,
    "start_time": "2022-03-18T08:12:40.870Z"
   },
   {
    "duration": 12,
    "start_time": "2022-03-18T08:12:53.824Z"
   },
   {
    "duration": 13,
    "start_time": "2022-03-18T08:13:35.246Z"
   },
   {
    "duration": 5,
    "start_time": "2022-03-18T08:13:39.803Z"
   },
   {
    "duration": 2,
    "start_time": "2022-03-18T08:13:55.186Z"
   },
   {
    "duration": 31,
    "start_time": "2022-03-18T08:13:55.544Z"
   },
   {
    "duration": 14,
    "start_time": "2022-03-18T08:13:55.925Z"
   },
   {
    "duration": 13,
    "start_time": "2022-03-18T08:13:56.532Z"
   },
   {
    "duration": 5,
    "start_time": "2022-03-18T08:13:59.035Z"
   },
   {
    "duration": 8,
    "start_time": "2022-03-18T08:14:00.015Z"
   },
   {
    "duration": 5,
    "start_time": "2022-03-18T08:14:20.821Z"
   },
   {
    "duration": 12,
    "start_time": "2022-03-18T08:14:22.251Z"
   },
   {
    "duration": 3,
    "start_time": "2022-03-18T08:14:25.815Z"
   },
   {
    "duration": 32,
    "start_time": "2022-03-18T08:14:26.151Z"
   },
   {
    "duration": 14,
    "start_time": "2022-03-18T08:14:26.521Z"
   },
   {
    "duration": 13,
    "start_time": "2022-03-18T08:14:28.931Z"
   },
   {
    "duration": 4,
    "start_time": "2022-03-18T08:14:31.269Z"
   },
   {
    "duration": 7,
    "start_time": "2022-03-18T08:14:33.101Z"
   },
   {
    "duration": 6,
    "start_time": "2022-03-18T08:14:38.252Z"
   },
   {
    "duration": 4,
    "start_time": "2022-03-18T08:14:43.830Z"
   },
   {
    "duration": 10,
    "start_time": "2022-03-18T08:14:47.798Z"
   },
   {
    "duration": 7,
    "start_time": "2022-03-18T08:15:14.119Z"
   },
   {
    "duration": 8,
    "start_time": "2022-03-18T08:16:12.770Z"
   },
   {
    "duration": 6,
    "start_time": "2022-03-18T08:16:28.412Z"
   },
   {
    "duration": 8,
    "start_time": "2022-03-18T08:17:00.790Z"
   },
   {
    "duration": 8,
    "start_time": "2022-03-18T08:17:14.795Z"
   },
   {
    "duration": 9,
    "start_time": "2022-03-18T08:17:46.954Z"
   },
   {
    "duration": 6,
    "start_time": "2022-03-18T08:17:58.312Z"
   },
   {
    "duration": 7,
    "start_time": "2022-03-18T08:18:14.578Z"
   },
   {
    "duration": 9,
    "start_time": "2022-03-18T08:18:21.653Z"
   },
   {
    "duration": 9,
    "start_time": "2022-03-18T08:18:43.611Z"
   },
   {
    "duration": 8,
    "start_time": "2022-03-18T08:19:50.116Z"
   },
   {
    "duration": 8,
    "start_time": "2022-03-18T08:20:23.204Z"
   },
   {
    "duration": 5,
    "start_time": "2022-03-18T08:20:39.556Z"
   },
   {
    "duration": 6,
    "start_time": "2022-03-18T08:20:59.259Z"
   },
   {
    "duration": 8,
    "start_time": "2022-03-18T08:21:21.525Z"
   },
   {
    "duration": 5,
    "start_time": "2022-03-18T08:21:57.901Z"
   },
   {
    "duration": 152,
    "start_time": "2022-03-18T09:22:02.548Z"
   },
   {
    "duration": 15,
    "start_time": "2022-03-18T09:23:04.036Z"
   },
   {
    "duration": 3,
    "start_time": "2022-03-18T09:23:07.761Z"
   },
   {
    "duration": 31,
    "start_time": "2022-03-18T09:23:08.142Z"
   },
   {
    "duration": 14,
    "start_time": "2022-03-18T09:23:08.974Z"
   },
   {
    "duration": 13,
    "start_time": "2022-03-18T09:23:11.602Z"
   },
   {
    "duration": 13,
    "start_time": "2022-03-18T09:23:12.546Z"
   },
   {
    "duration": 6,
    "start_time": "2022-03-18T09:24:48.500Z"
   },
   {
    "duration": 8,
    "start_time": "2022-03-18T09:25:47.530Z"
   },
   {
    "duration": 4,
    "start_time": "2022-03-18T09:26:10.089Z"
   },
   {
    "duration": 30,
    "start_time": "2022-03-18T09:26:26.954Z"
   },
   {
    "duration": 14,
    "start_time": "2022-03-18T09:26:27.702Z"
   },
   {
    "duration": 13,
    "start_time": "2022-03-18T09:26:28.683Z"
   },
   {
    "duration": 14,
    "start_time": "2022-03-18T09:26:29.085Z"
   },
   {
    "duration": 5,
    "start_time": "2022-03-18T09:26:30.833Z"
   },
   {
    "duration": 7,
    "start_time": "2022-03-18T09:26:31.845Z"
   },
   {
    "duration": 6,
    "start_time": "2022-03-18T09:26:35.380Z"
   },
   {
    "duration": 8,
    "start_time": "2022-03-18T09:28:04.053Z"
   },
   {
    "duration": 6,
    "start_time": "2022-03-18T09:30:09.084Z"
   },
   {
    "duration": 8,
    "start_time": "2022-03-18T09:30:09.844Z"
   },
   {
    "duration": 5,
    "start_time": "2022-03-18T09:30:45.530Z"
   },
   {
    "duration": 7,
    "start_time": "2022-03-18T09:30:53.535Z"
   },
   {
    "duration": 13,
    "start_time": "2022-03-18T09:31:54.178Z"
   },
   {
    "duration": 8,
    "start_time": "2022-03-18T09:33:25.115Z"
   },
   {
    "duration": 5,
    "start_time": "2022-03-18T09:33:27.362Z"
   },
   {
    "duration": 17,
    "start_time": "2022-03-18T09:33:46.267Z"
   },
   {
    "duration": 7,
    "start_time": "2022-03-18T09:37:50.399Z"
   },
   {
    "duration": 7,
    "start_time": "2022-03-18T09:38:14.787Z"
   },
   {
    "duration": 8,
    "start_time": "2022-03-18T09:39:31.473Z"
   },
   {
    "duration": 8,
    "start_time": "2022-03-18T09:40:59.932Z"
   },
   {
    "duration": 9,
    "start_time": "2022-03-18T09:41:53.660Z"
   },
   {
    "duration": 6,
    "start_time": "2022-03-18T09:42:13.756Z"
   },
   {
    "duration": 5,
    "start_time": "2022-03-18T09:42:37.399Z"
   },
   {
    "duration": 11,
    "start_time": "2022-03-18T09:42:52.128Z"
   },
   {
    "duration": 16,
    "start_time": "2022-03-18T09:43:43.125Z"
   },
   {
    "duration": 18,
    "start_time": "2022-03-18T09:43:54.277Z"
   },
   {
    "duration": 25,
    "start_time": "2022-03-18T09:44:15.175Z"
   },
   {
    "duration": 30,
    "start_time": "2022-03-18T09:44:28.944Z"
   },
   {
    "duration": 16,
    "start_time": "2022-03-18T09:44:58.164Z"
   },
   {
    "duration": 7,
    "start_time": "2022-03-18T09:58:20.282Z"
   },
   {
    "duration": 13,
    "start_time": "2022-03-18T09:59:21.480Z"
   },
   {
    "duration": 10,
    "start_time": "2022-03-18T09:59:36.790Z"
   },
   {
    "duration": 8,
    "start_time": "2022-03-18T10:00:25.883Z"
   },
   {
    "duration": 7,
    "start_time": "2022-03-18T10:01:09.608Z"
   },
   {
    "duration": 8,
    "start_time": "2022-03-18T10:01:27.948Z"
   },
   {
    "duration": 50,
    "start_time": "2022-03-18T12:01:10.165Z"
   },
   {
    "duration": 448,
    "start_time": "2022-03-18T12:01:21.456Z"
   },
   {
    "duration": 372,
    "start_time": "2022-03-18T12:01:30.689Z"
   },
   {
    "duration": 25,
    "start_time": "2022-03-18T12:01:31.657Z"
   },
   {
    "duration": 13,
    "start_time": "2022-03-18T12:01:32.909Z"
   },
   {
    "duration": 19,
    "start_time": "2022-03-18T12:01:35.531Z"
   },
   {
    "duration": 13,
    "start_time": "2022-03-18T12:01:36.833Z"
   },
   {
    "duration": 4,
    "start_time": "2022-03-18T12:01:48.253Z"
   },
   {
    "duration": 6,
    "start_time": "2022-03-18T12:01:50.927Z"
   },
   {
    "duration": 6,
    "start_time": "2022-03-18T12:01:52.221Z"
   },
   {
    "duration": 7,
    "start_time": "2022-03-18T12:01:53.958Z"
   },
   {
    "duration": 8,
    "start_time": "2022-03-18T12:01:57.300Z"
   },
   {
    "duration": 6,
    "start_time": "2022-03-18T12:01:59.253Z"
   },
   {
    "duration": 13,
    "start_time": "2022-03-18T12:02:00.344Z"
   },
   {
    "duration": 192,
    "start_time": "2022-03-18T13:24:48.935Z"
   },
   {
    "duration": 23,
    "start_time": "2022-03-18T13:24:59.791Z"
   },
   {
    "duration": 2,
    "start_time": "2022-03-18T13:26:40.861Z"
   },
   {
    "duration": 24,
    "start_time": "2022-03-18T13:26:41.287Z"
   },
   {
    "duration": 12,
    "start_time": "2022-03-18T13:26:42.533Z"
   },
   {
    "duration": 12,
    "start_time": "2022-03-18T13:26:45.124Z"
   },
   {
    "duration": 11,
    "start_time": "2022-03-18T13:26:46.392Z"
   },
   {
    "duration": 4,
    "start_time": "2022-03-18T13:26:49.814Z"
   },
   {
    "duration": 7,
    "start_time": "2022-03-18T13:27:18.242Z"
   },
   {
    "duration": 6,
    "start_time": "2022-03-18T13:27:44.612Z"
   },
   {
    "duration": 8,
    "start_time": "2022-03-18T13:27:47.692Z"
   },
   {
    "duration": 9,
    "start_time": "2022-03-18T13:27:51.234Z"
   },
   {
    "duration": 6,
    "start_time": "2022-03-18T13:27:53.432Z"
   },
   {
    "duration": 12,
    "start_time": "2022-03-18T13:27:54.708Z"
   },
   {
    "duration": 9,
    "start_time": "2022-03-18T13:28:02.537Z"
   },
   {
    "duration": 6,
    "start_time": "2022-03-18T13:28:06.401Z"
   },
   {
    "duration": 6,
    "start_time": "2022-03-18T13:28:07.503Z"
   },
   {
    "duration": 9,
    "start_time": "2022-03-18T13:28:08.343Z"
   },
   {
    "duration": 9,
    "start_time": "2022-03-18T13:28:10.665Z"
   },
   {
    "duration": 8,
    "start_time": "2022-03-18T13:28:11.849Z"
   },
   {
    "duration": 6,
    "start_time": "2022-03-18T13:28:14.093Z"
   },
   {
    "duration": 7,
    "start_time": "2022-03-18T13:28:14.865Z"
   },
   {
    "duration": 9,
    "start_time": "2022-03-18T13:28:17.165Z"
   },
   {
    "duration": 6,
    "start_time": "2022-03-18T13:28:18.211Z"
   },
   {
    "duration": 11,
    "start_time": "2022-03-18T13:28:21.915Z"
   },
   {
    "duration": 6,
    "start_time": "2022-03-18T13:28:23.587Z"
   },
   {
    "duration": 6,
    "start_time": "2022-03-18T13:28:24.050Z"
   },
   {
    "duration": 7,
    "start_time": "2022-03-18T13:28:25.781Z"
   },
   {
    "duration": 9,
    "start_time": "2022-03-18T13:28:26.362Z"
   },
   {
    "duration": 9,
    "start_time": "2022-03-18T13:28:27.699Z"
   },
   {
    "duration": 21,
    "start_time": "2022-03-18T13:28:39.514Z"
   },
   {
    "duration": 1275,
    "start_time": "2022-03-18T18:15:27.204Z"
   },
   {
    "duration": 29,
    "start_time": "2022-03-18T18:15:28.481Z"
   },
   {
    "duration": 15,
    "start_time": "2022-03-18T18:15:29.659Z"
   },
   {
    "duration": 21,
    "start_time": "2022-03-18T18:15:32.085Z"
   },
   {
    "duration": 15,
    "start_time": "2022-03-18T18:15:32.755Z"
   },
   {
    "duration": 4,
    "start_time": "2022-03-18T18:15:35.790Z"
   },
   {
    "duration": 8,
    "start_time": "2022-03-18T18:15:37.015Z"
   },
   {
    "duration": 7,
    "start_time": "2022-03-18T18:15:39.442Z"
   },
   {
    "duration": 8,
    "start_time": "2022-03-18T18:15:42.741Z"
   },
   {
    "duration": 10,
    "start_time": "2022-03-18T18:15:45.239Z"
   },
   {
    "duration": 6,
    "start_time": "2022-03-18T18:15:45.903Z"
   },
   {
    "duration": 14,
    "start_time": "2022-03-18T18:15:48.128Z"
   },
   {
    "duration": 9,
    "start_time": "2022-03-18T18:15:51.479Z"
   },
   {
    "duration": 7,
    "start_time": "2022-03-18T18:15:53.675Z"
   },
   {
    "duration": 7,
    "start_time": "2022-03-18T18:15:54.882Z"
   },
   {
    "duration": 9,
    "start_time": "2022-03-18T18:15:57.436Z"
   },
   {
    "duration": 9,
    "start_time": "2022-03-18T18:15:59.713Z"
   },
   {
    "duration": 9,
    "start_time": "2022-03-18T18:16:02.405Z"
   },
   {
    "duration": 6,
    "start_time": "2022-03-18T18:16:03.527Z"
   },
   {
    "duration": 6,
    "start_time": "2022-03-18T18:16:04.402Z"
   },
   {
    "duration": 10,
    "start_time": "2022-03-18T18:16:05.269Z"
   },
   {
    "duration": 6,
    "start_time": "2022-03-18T18:16:07.885Z"
   },
   {
    "duration": 11,
    "start_time": "2022-03-18T18:16:11.861Z"
   },
   {
    "duration": 7,
    "start_time": "2022-03-18T18:16:14.953Z"
   },
   {
    "duration": 7,
    "start_time": "2022-03-18T18:16:17.217Z"
   },
   {
    "duration": 7,
    "start_time": "2022-03-18T18:16:18.451Z"
   },
   {
    "duration": 10,
    "start_time": "2022-03-18T18:16:45.510Z"
   },
   {
    "duration": 21,
    "start_time": "2022-03-18T18:18:09.387Z"
   },
   {
    "duration": 104,
    "start_time": "2022-03-18T19:30:01.219Z"
   },
   {
    "duration": 14,
    "start_time": "2022-03-18T19:30:13.832Z"
   },
   {
    "duration": 31,
    "start_time": "2022-03-18T19:30:21.974Z"
   },
   {
    "duration": 538,
    "start_time": "2022-03-18T19:31:56.281Z"
   },
   {
    "duration": 1248,
    "start_time": "2022-03-18T19:32:10.414Z"
   },
   {
    "duration": 3,
    "start_time": "2022-03-18T19:32:45.414Z"
   },
   {
    "duration": 1126,
    "start_time": "2022-03-18T19:32:48.582Z"
   },
   {
    "duration": 5,
    "start_time": "2022-03-18T19:33:02.265Z"
   },
   {
    "duration": 33,
    "start_time": "2022-03-18T19:33:02.568Z"
   },
   {
    "duration": 21,
    "start_time": "2022-03-18T19:33:03.328Z"
   },
   {
    "duration": 115,
    "start_time": "2022-03-18T19:33:04.237Z"
   },
   {
    "duration": 19,
    "start_time": "2022-03-18T19:33:04.526Z"
   },
   {
    "duration": 1592,
    "start_time": "2022-03-18T19:33:21.026Z"
   },
   {
    "duration": 28,
    "start_time": "2022-03-18T19:33:22.620Z"
   },
   {
    "duration": 15,
    "start_time": "2022-03-18T19:33:22.650Z"
   },
   {
    "duration": 29,
    "start_time": "2022-03-18T19:33:22.667Z"
   },
   {
    "duration": 22,
    "start_time": "2022-03-18T19:33:22.700Z"
   },
   {
    "duration": 10,
    "start_time": "2022-03-18T19:33:22.724Z"
   },
   {
    "duration": 10,
    "start_time": "2022-03-18T19:33:22.737Z"
   },
   {
    "duration": 18,
    "start_time": "2022-03-18T19:33:22.750Z"
   },
   {
    "duration": 9,
    "start_time": "2022-03-18T19:33:22.770Z"
   },
   {
    "duration": 27,
    "start_time": "2022-03-18T19:33:22.781Z"
   },
   {
    "duration": 10,
    "start_time": "2022-03-18T19:33:22.810Z"
   },
   {
    "duration": 19,
    "start_time": "2022-03-18T19:33:22.822Z"
   },
   {
    "duration": 15,
    "start_time": "2022-03-18T19:33:22.843Z"
   },
   {
    "duration": 10,
    "start_time": "2022-03-18T19:33:22.861Z"
   },
   {
    "duration": 32,
    "start_time": "2022-03-18T19:33:22.873Z"
   },
   {
    "duration": 11,
    "start_time": "2022-03-18T19:33:22.907Z"
   },
   {
    "duration": 9,
    "start_time": "2022-03-18T19:33:22.919Z"
   },
   {
    "duration": 9,
    "start_time": "2022-03-18T19:33:22.929Z"
   },
   {
    "duration": 6,
    "start_time": "2022-03-18T19:33:22.940Z"
   },
   {
    "duration": 11,
    "start_time": "2022-03-18T19:33:22.948Z"
   },
   {
    "duration": 47,
    "start_time": "2022-03-18T19:33:22.960Z"
   },
   {
    "duration": 9,
    "start_time": "2022-03-18T19:33:23.009Z"
   },
   {
    "duration": 16,
    "start_time": "2022-03-18T19:33:23.020Z"
   },
   {
    "duration": 8,
    "start_time": "2022-03-18T19:33:23.038Z"
   },
   {
    "duration": 8,
    "start_time": "2022-03-18T19:33:23.048Z"
   },
   {
    "duration": 9,
    "start_time": "2022-03-18T19:33:23.058Z"
   },
   {
    "duration": 49,
    "start_time": "2022-03-18T19:33:23.069Z"
   },
   {
    "duration": 910,
    "start_time": "2022-03-18T19:33:27.234Z"
   },
   {
    "duration": 1024,
    "start_time": "2022-03-18T19:35:45.570Z"
   },
   {
    "duration": 956,
    "start_time": "2022-03-18T19:36:00.987Z"
   },
   {
    "duration": 1081,
    "start_time": "2022-03-18T19:36:12.990Z"
   },
   {
    "duration": 962,
    "start_time": "2022-03-18T19:36:35.673Z"
   },
   {
    "duration": 955,
    "start_time": "2022-03-18T19:36:44.383Z"
   },
   {
    "duration": 925,
    "start_time": "2022-03-18T19:36:56.835Z"
   },
   {
    "duration": 114,
    "start_time": "2022-03-18T19:40:11.567Z"
   },
   {
    "duration": 891,
    "start_time": "2022-03-18T19:41:08.136Z"
   },
   {
    "duration": 1016,
    "start_time": "2022-03-18T19:41:18.530Z"
   },
   {
    "duration": 21,
    "start_time": "2022-03-18T19:43:14.980Z"
   },
   {
    "duration": 31,
    "start_time": "2022-03-18T19:43:31.430Z"
   },
   {
    "duration": 105,
    "start_time": "2022-03-20T12:55:43.505Z"
   },
   {
    "duration": 2245,
    "start_time": "2022-03-20T16:07:56.125Z"
   },
   {
    "duration": 5,
    "start_time": "2022-03-20T16:08:07.767Z"
   },
   {
    "duration": 126,
    "start_time": "2022-03-20T16:09:37.434Z"
   },
   {
    "duration": 16,
    "start_time": "2022-03-20T16:10:10.669Z"
   },
   {
    "duration": 21,
    "start_time": "2022-03-20T16:10:55.299Z"
   },
   {
    "duration": 13,
    "start_time": "2022-03-20T16:11:00.898Z"
   },
   {
    "duration": 3,
    "start_time": "2022-03-20T16:34:50.774Z"
   },
   {
    "duration": 16,
    "start_time": "2022-03-20T16:34:57.362Z"
   },
   {
    "duration": 50,
    "start_time": "2022-03-20T16:35:17.013Z"
   },
   {
    "duration": 3,
    "start_time": "2022-03-20T16:35:20.320Z"
   },
   {
    "duration": 29,
    "start_time": "2022-03-20T16:35:21.848Z"
   },
   {
    "duration": 16,
    "start_time": "2022-03-20T16:36:19.330Z"
   },
   {
    "duration": 8,
    "start_time": "2022-03-20T16:36:29.632Z"
   },
   {
    "duration": 4,
    "start_time": "2022-03-20T16:36:41.047Z"
   },
   {
    "duration": 11,
    "start_time": "2022-03-20T16:36:43.532Z"
   },
   {
    "duration": 2039,
    "start_time": "2022-03-20T16:36:44.088Z"
   },
   {
    "duration": 4,
    "start_time": "2022-03-20T16:36:50.060Z"
   },
   {
    "duration": 28,
    "start_time": "2022-03-20T16:36:50.426Z"
   },
   {
    "duration": 14,
    "start_time": "2022-03-20T16:36:51.242Z"
   },
   {
    "duration": 16,
    "start_time": "2022-03-20T16:36:52.035Z"
   },
   {
    "duration": 22,
    "start_time": "2022-03-20T16:36:52.329Z"
   },
   {
    "duration": 5,
    "start_time": "2022-03-20T16:36:53.903Z"
   },
   {
    "duration": 8,
    "start_time": "2022-03-20T16:36:54.640Z"
   },
   {
    "duration": 7,
    "start_time": "2022-03-20T16:36:55.123Z"
   },
   {
    "duration": 11,
    "start_time": "2022-03-20T16:36:55.785Z"
   },
   {
    "duration": 11,
    "start_time": "2022-03-20T16:36:56.377Z"
   },
   {
    "duration": 8,
    "start_time": "2022-03-20T16:36:56.660Z"
   },
   {
    "duration": 16,
    "start_time": "2022-03-20T16:36:57.258Z"
   },
   {
    "duration": 6,
    "start_time": "2022-03-20T16:36:57.546Z"
   },
   {
    "duration": 11,
    "start_time": "2022-03-20T16:36:58.522Z"
   },
   {
    "duration": 8,
    "start_time": "2022-03-20T16:36:59.232Z"
   },
   {
    "duration": 1805,
    "start_time": "2022-03-20T16:37:21.311Z"
   },
   {
    "duration": 30,
    "start_time": "2022-03-20T16:37:23.119Z"
   },
   {
    "duration": 24,
    "start_time": "2022-03-20T16:37:23.150Z"
   },
   {
    "duration": 43,
    "start_time": "2022-03-20T16:37:23.176Z"
   },
   {
    "duration": 20,
    "start_time": "2022-03-20T16:37:23.223Z"
   },
   {
    "duration": 19,
    "start_time": "2022-03-20T16:37:23.246Z"
   },
   {
    "duration": 26,
    "start_time": "2022-03-20T16:37:23.268Z"
   },
   {
    "duration": 17,
    "start_time": "2022-03-20T16:37:23.296Z"
   },
   {
    "duration": 18,
    "start_time": "2022-03-20T16:37:23.315Z"
   },
   {
    "duration": 16,
    "start_time": "2022-03-20T16:37:23.335Z"
   },
   {
    "duration": 18,
    "start_time": "2022-03-20T16:37:23.353Z"
   },
   {
    "duration": 33,
    "start_time": "2022-03-20T16:37:23.373Z"
   },
   {
    "duration": 4,
    "start_time": "2022-03-20T16:37:23.408Z"
   },
   {
    "duration": 18,
    "start_time": "2022-03-20T16:37:23.417Z"
   },
   {
    "duration": 23,
    "start_time": "2022-03-20T16:37:23.437Z"
   },
   {
    "duration": 25,
    "start_time": "2022-03-20T16:37:23.462Z"
   },
   {
    "duration": 26,
    "start_time": "2022-03-20T16:37:23.489Z"
   },
   {
    "duration": 22,
    "start_time": "2022-03-20T16:37:23.517Z"
   },
   {
    "duration": 15,
    "start_time": "2022-03-20T16:37:23.542Z"
   },
   {
    "duration": 19,
    "start_time": "2022-03-20T16:37:23.560Z"
   },
   {
    "duration": 19,
    "start_time": "2022-03-20T16:37:23.582Z"
   },
   {
    "duration": 23,
    "start_time": "2022-03-20T16:37:23.604Z"
   },
   {
    "duration": 17,
    "start_time": "2022-03-20T16:37:23.629Z"
   },
   {
    "duration": 39,
    "start_time": "2022-03-20T16:37:23.649Z"
   },
   {
    "duration": 23,
    "start_time": "2022-03-20T16:37:23.690Z"
   },
   {
    "duration": 29,
    "start_time": "2022-03-20T16:37:23.715Z"
   },
   {
    "duration": 23,
    "start_time": "2022-03-20T16:37:23.746Z"
   },
   {
    "duration": 23,
    "start_time": "2022-03-20T16:37:23.771Z"
   },
   {
    "duration": 992,
    "start_time": "2022-03-20T16:37:23.797Z"
   },
   {
    "duration": 27,
    "start_time": "2022-03-20T16:37:24.791Z"
   },
   {
    "duration": 50,
    "start_time": "2022-03-20T16:37:24.821Z"
   },
   {
    "duration": 35,
    "start_time": "2022-03-20T16:37:24.874Z"
   },
   {
    "duration": 3,
    "start_time": "2022-03-20T16:37:28.534Z"
   },
   {
    "duration": 198,
    "start_time": "2022-03-20T16:37:29.464Z"
   },
   {
    "duration": 4,
    "start_time": "2022-03-20T16:38:23.437Z"
   },
   {
    "duration": 233,
    "start_time": "2022-03-20T16:39:07.641Z"
   },
   {
    "duration": 4,
    "start_time": "2022-03-20T16:39:09.372Z"
   },
   {
    "duration": 4,
    "start_time": "2022-03-20T17:39:00.966Z"
   },
   {
    "duration": 238,
    "start_time": "2022-03-20T17:41:32.382Z"
   },
   {
    "duration": 5,
    "start_time": "2022-03-20T17:41:34.999Z"
   },
   {
    "duration": 244,
    "start_time": "2022-03-20T17:41:43.637Z"
   },
   {
    "duration": 4,
    "start_time": "2022-03-20T17:41:44.574Z"
   },
   {
    "duration": 4,
    "start_time": "2022-03-20T17:42:31.671Z"
   },
   {
    "duration": 321,
    "start_time": "2022-03-20T17:42:37.274Z"
   },
   {
    "duration": 326,
    "start_time": "2022-03-20T17:42:57.897Z"
   },
   {
    "duration": 5,
    "start_time": "2022-03-20T17:43:00.223Z"
   },
   {
    "duration": 4,
    "start_time": "2022-03-20T17:43:02.501Z"
   },
   {
    "duration": 247,
    "start_time": "2022-03-20T17:43:02.869Z"
   },
   {
    "duration": 227,
    "start_time": "2022-03-20T17:43:39.518Z"
   },
   {
    "duration": 4,
    "start_time": "2022-03-20T17:44:16.794Z"
   },
   {
    "duration": 4,
    "start_time": "2022-03-20T17:44:29.440Z"
   },
   {
    "duration": 4,
    "start_time": "2022-03-20T17:44:37.010Z"
   },
   {
    "duration": 3,
    "start_time": "2022-03-20T17:44:41.438Z"
   },
   {
    "duration": 224,
    "start_time": "2022-03-20T17:44:41.894Z"
   },
   {
    "duration": 4,
    "start_time": "2022-03-20T17:44:42.297Z"
   },
   {
    "duration": 223,
    "start_time": "2022-03-20T17:44:59.540Z"
   },
   {
    "duration": 3,
    "start_time": "2022-03-20T17:45:01.486Z"
   },
   {
    "duration": 235,
    "start_time": "2022-03-20T17:45:01.901Z"
   },
   {
    "duration": 4,
    "start_time": "2022-03-20T17:45:02.370Z"
   },
   {
    "duration": 3,
    "start_time": "2022-03-20T17:46:44.034Z"
   },
   {
    "duration": 3,
    "start_time": "2022-03-20T17:48:14.791Z"
   },
   {
    "duration": 3310,
    "start_time": "2022-03-20T17:48:15.141Z"
   },
   {
    "duration": 4,
    "start_time": "2022-03-20T17:48:48.557Z"
   },
   {
    "duration": 4,
    "start_time": "2022-03-20T17:51:01.058Z"
   },
   {
    "duration": 32,
    "start_time": "2022-03-20T17:51:09.598Z"
   },
   {
    "duration": 4,
    "start_time": "2022-03-20T17:51:10.377Z"
   },
   {
    "duration": 3,
    "start_time": "2022-03-20T17:58:06.683Z"
   },
   {
    "duration": 3344,
    "start_time": "2022-03-20T17:58:07.212Z"
   },
   {
    "duration": 4,
    "start_time": "2022-03-20T17:58:10.559Z"
   },
   {
    "duration": 7,
    "start_time": "2022-03-20T17:58:50.906Z"
   },
   {
    "duration": 4572,
    "start_time": "2022-03-20T17:58:50.915Z"
   },
   {
    "duration": 15,
    "start_time": "2022-03-20T17:58:55.489Z"
   },
   {
    "duration": 3,
    "start_time": "2022-03-20T18:00:26.436Z"
   },
   {
    "duration": 260443,
    "start_time": "2022-03-20T18:00:26.961Z"
   },
   {
    "duration": 5,
    "start_time": "2022-03-20T18:04:47.406Z"
   },
   {
    "duration": 3,
    "start_time": "2022-03-20T18:06:57.813Z"
   },
   {
    "duration": 1842,
    "start_time": "2022-03-20T19:00:02.314Z"
   },
   {
    "duration": 29,
    "start_time": "2022-03-20T19:00:04.158Z"
   },
   {
    "duration": 174,
    "start_time": "2022-03-20T19:00:04.189Z"
   },
   {
    "duration": 37,
    "start_time": "2022-03-20T19:00:04.366Z"
   },
   {
    "duration": 51,
    "start_time": "2022-03-20T19:00:04.407Z"
   },
   {
    "duration": 21,
    "start_time": "2022-03-20T19:00:04.460Z"
   },
   {
    "duration": 30,
    "start_time": "2022-03-20T19:00:04.483Z"
   },
   {
    "duration": 26,
    "start_time": "2022-03-20T19:00:04.515Z"
   },
   {
    "duration": 25,
    "start_time": "2022-03-20T19:00:04.544Z"
   },
   {
    "duration": 14,
    "start_time": "2022-03-20T19:00:04.571Z"
   },
   {
    "duration": 29,
    "start_time": "2022-03-20T19:00:04.587Z"
   },
   {
    "duration": 37,
    "start_time": "2022-03-20T19:00:04.618Z"
   },
   {
    "duration": 4,
    "start_time": "2022-03-20T19:00:04.658Z"
   },
   {
    "duration": 22,
    "start_time": "2022-03-20T19:00:04.667Z"
   },
   {
    "duration": 7,
    "start_time": "2022-03-20T19:00:04.691Z"
   },
   {
    "duration": 34,
    "start_time": "2022-03-20T19:00:04.700Z"
   },
   {
    "duration": 24,
    "start_time": "2022-03-20T19:00:04.737Z"
   },
   {
    "duration": 46,
    "start_time": "2022-03-20T19:00:04.763Z"
   },
   {
    "duration": 12,
    "start_time": "2022-03-20T19:00:04.811Z"
   },
   {
    "duration": 13,
    "start_time": "2022-03-20T19:00:04.825Z"
   },
   {
    "duration": 64,
    "start_time": "2022-03-20T19:00:04.841Z"
   },
   {
    "duration": 30,
    "start_time": "2022-03-20T19:00:04.907Z"
   },
   {
    "duration": 20,
    "start_time": "2022-03-20T19:00:04.939Z"
   },
   {
    "duration": 14,
    "start_time": "2022-03-20T19:00:05.000Z"
   },
   {
    "duration": 24,
    "start_time": "2022-03-20T19:00:05.016Z"
   },
   {
    "duration": 64,
    "start_time": "2022-03-20T19:00:05.042Z"
   },
   {
    "duration": 26,
    "start_time": "2022-03-20T19:00:05.108Z"
   },
   {
    "duration": 65,
    "start_time": "2022-03-20T19:00:05.136Z"
   },
   {
    "duration": 1618,
    "start_time": "2022-03-20T19:00:05.204Z"
   },
   {
    "duration": 25,
    "start_time": "2022-03-20T19:00:06.823Z"
   },
   {
    "duration": 51,
    "start_time": "2022-03-20T19:00:06.850Z"
   },
   {
    "duration": 10,
    "start_time": "2022-03-20T19:00:06.903Z"
   },
   {
    "duration": 12,
    "start_time": "2022-03-20T19:00:06.915Z"
   },
   {
    "duration": 244,
    "start_time": "2022-03-20T19:00:06.929Z"
   },
   {
    "duration": 6,
    "start_time": "2022-03-20T19:00:07.175Z"
   },
   {
    "duration": 21,
    "start_time": "2022-03-20T19:00:07.182Z"
   },
   {
    "duration": 5075,
    "start_time": "2022-03-20T19:00:07.205Z"
   },
   {
    "duration": 6,
    "start_time": "2022-03-20T19:00:12.283Z"
   },
   {
    "duration": 38,
    "start_time": "2022-03-20T19:00:12.291Z"
   },
   {
    "duration": 4,
    "start_time": "2022-03-20T19:00:12.402Z"
   },
   {
    "duration": 91,
    "start_time": "2022-03-20T19:00:12.411Z"
   },
   {
    "duration": 3727,
    "start_time": "2022-03-20T19:00:12.504Z"
   },
   {
    "duration": 6,
    "start_time": "2022-03-20T19:00:16.233Z"
   },
   {
    "duration": 4,
    "start_time": "2022-03-20T19:06:03.646Z"
   },
   {
    "duration": 119,
    "start_time": "2022-03-20T19:06:34.017Z"
   },
   {
    "duration": 4,
    "start_time": "2022-03-20T19:07:02.033Z"
   },
   {
    "duration": 4,
    "start_time": "2022-03-20T19:07:06.994Z"
   },
   {
    "duration": 32,
    "start_time": "2022-03-20T19:07:07.547Z"
   },
   {
    "duration": 11,
    "start_time": "2022-03-20T19:10:21.232Z"
   },
   {
    "duration": 3,
    "start_time": "2022-03-20T19:11:10.756Z"
   },
   {
    "duration": 6468,
    "start_time": "2022-03-20T19:12:21.377Z"
   },
   {
    "duration": 5,
    "start_time": "2022-03-20T19:12:34.441Z"
   },
   {
    "duration": 4,
    "start_time": "2022-03-20T19:13:07.627Z"
   },
   {
    "duration": 5,
    "start_time": "2022-03-20T19:18:57.366Z"
   },
   {
    "duration": 4,
    "start_time": "2022-03-20T19:20:22.353Z"
   },
   {
    "duration": 13,
    "start_time": "2022-03-20T19:20:23.266Z"
   },
   {
    "duration": 3,
    "start_time": "2022-03-20T19:20:24.184Z"
   },
   {
    "duration": 4559,
    "start_time": "2022-03-20T19:20:24.842Z"
   },
   {
    "duration": 5,
    "start_time": "2022-03-20T19:20:29.403Z"
   },
   {
    "duration": 3,
    "start_time": "2022-03-20T19:20:42.590Z"
   },
   {
    "duration": 3355,
    "start_time": "2022-03-20T19:20:43.094Z"
   },
   {
    "duration": 4,
    "start_time": "2022-03-20T19:20:46.752Z"
   },
   {
    "duration": 5,
    "start_time": "2022-03-20T19:21:34.396Z"
   },
   {
    "duration": 12,
    "start_time": "2022-03-20T19:21:35.052Z"
   },
   {
    "duration": 3,
    "start_time": "2022-03-20T19:21:35.927Z"
   },
   {
    "duration": 2007,
    "start_time": "2022-03-20T19:21:39.020Z"
   },
   {
    "duration": 4,
    "start_time": "2022-03-20T19:21:41.029Z"
   },
   {
    "duration": 59,
    "start_time": "2022-03-20T19:26:30.888Z"
   },
   {
    "duration": 63,
    "start_time": "2022-03-20T19:26:48.721Z"
   },
   {
    "duration": 66,
    "start_time": "2022-03-20T19:27:07.109Z"
   },
   {
    "duration": 65,
    "start_time": "2022-03-20T19:27:17.189Z"
   },
   {
    "duration": 66,
    "start_time": "2022-03-20T19:27:20.923Z"
   },
   {
    "duration": 1608,
    "start_time": "2022-03-20T19:28:21.436Z"
   },
   {
    "duration": 26,
    "start_time": "2022-03-20T19:28:23.046Z"
   },
   {
    "duration": 14,
    "start_time": "2022-03-20T19:28:23.074Z"
   },
   {
    "duration": 26,
    "start_time": "2022-03-20T19:28:23.090Z"
   },
   {
    "duration": 13,
    "start_time": "2022-03-20T19:28:23.117Z"
   },
   {
    "duration": 7,
    "start_time": "2022-03-20T19:28:23.132Z"
   },
   {
    "duration": 11,
    "start_time": "2022-03-20T19:28:23.141Z"
   },
   {
    "duration": 13,
    "start_time": "2022-03-20T19:28:23.154Z"
   },
   {
    "duration": 36,
    "start_time": "2022-03-20T19:28:23.169Z"
   },
   {
    "duration": 12,
    "start_time": "2022-03-20T19:28:23.208Z"
   },
   {
    "duration": 6,
    "start_time": "2022-03-20T19:28:23.222Z"
   },
   {
    "duration": 16,
    "start_time": "2022-03-20T19:28:23.230Z"
   },
   {
    "duration": 5,
    "start_time": "2022-03-20T19:28:23.247Z"
   },
   {
    "duration": 14,
    "start_time": "2022-03-20T19:28:23.254Z"
   },
   {
    "duration": 36,
    "start_time": "2022-03-20T19:28:23.270Z"
   },
   {
    "duration": 10,
    "start_time": "2022-03-20T19:28:23.309Z"
   },
   {
    "duration": 10,
    "start_time": "2022-03-20T19:28:23.322Z"
   },
   {
    "duration": 15,
    "start_time": "2022-03-20T19:28:23.333Z"
   },
   {
    "duration": 8,
    "start_time": "2022-03-20T19:28:23.350Z"
   },
   {
    "duration": 41,
    "start_time": "2022-03-20T19:28:23.360Z"
   },
   {
    "duration": 7,
    "start_time": "2022-03-20T19:28:23.403Z"
   },
   {
    "duration": 11,
    "start_time": "2022-03-20T19:28:23.412Z"
   },
   {
    "duration": 6,
    "start_time": "2022-03-20T19:28:23.425Z"
   },
   {
    "duration": 16,
    "start_time": "2022-03-20T19:28:23.432Z"
   },
   {
    "duration": 7,
    "start_time": "2022-03-20T19:28:23.450Z"
   },
   {
    "duration": 44,
    "start_time": "2022-03-20T19:28:23.458Z"
   },
   {
    "duration": 7,
    "start_time": "2022-03-20T19:28:23.504Z"
   },
   {
    "duration": 18,
    "start_time": "2022-03-20T19:28:23.516Z"
   },
   {
    "duration": 939,
    "start_time": "2022-03-20T19:28:23.536Z"
   },
   {
    "duration": 31,
    "start_time": "2022-03-20T19:28:24.477Z"
   },
   {
    "duration": 34,
    "start_time": "2022-03-20T19:28:24.510Z"
   },
   {
    "duration": 11,
    "start_time": "2022-03-20T19:28:24.546Z"
   },
   {
    "duration": 3,
    "start_time": "2022-03-20T19:28:24.559Z"
   },
   {
    "duration": 148,
    "start_time": "2022-03-20T19:28:24.564Z"
   },
   {
    "duration": 0,
    "start_time": "2022-03-20T19:28:24.714Z"
   },
   {
    "duration": 0,
    "start_time": "2022-03-20T19:28:24.715Z"
   },
   {
    "duration": 0,
    "start_time": "2022-03-20T19:28:24.717Z"
   },
   {
    "duration": 0,
    "start_time": "2022-03-20T19:28:24.719Z"
   },
   {
    "duration": 0,
    "start_time": "2022-03-20T19:28:24.720Z"
   },
   {
    "duration": 1,
    "start_time": "2022-03-20T19:28:24.721Z"
   },
   {
    "duration": 0,
    "start_time": "2022-03-20T19:28:24.723Z"
   },
   {
    "duration": 0,
    "start_time": "2022-03-20T19:28:24.724Z"
   },
   {
    "duration": 0,
    "start_time": "2022-03-20T19:28:24.727Z"
   },
   {
    "duration": 0,
    "start_time": "2022-03-20T19:28:24.728Z"
   },
   {
    "duration": 0,
    "start_time": "2022-03-20T19:28:24.730Z"
   },
   {
    "duration": 0,
    "start_time": "2022-03-20T19:28:24.731Z"
   },
   {
    "duration": 0,
    "start_time": "2022-03-20T19:28:24.732Z"
   },
   {
    "duration": 0,
    "start_time": "2022-03-20T19:28:24.734Z"
   },
   {
    "duration": 0,
    "start_time": "2022-03-20T19:28:24.736Z"
   },
   {
    "duration": 0,
    "start_time": "2022-03-20T19:28:24.737Z"
   },
   {
    "duration": 0,
    "start_time": "2022-03-20T19:28:24.739Z"
   },
   {
    "duration": 0,
    "start_time": "2022-03-20T19:28:24.740Z"
   },
   {
    "duration": 0,
    "start_time": "2022-03-20T19:28:24.741Z"
   },
   {
    "duration": 0,
    "start_time": "2022-03-20T19:28:24.743Z"
   },
   {
    "duration": 5,
    "start_time": "2022-03-20T19:30:10.230Z"
   },
   {
    "duration": 1677,
    "start_time": "2022-03-20T19:30:31.391Z"
   },
   {
    "duration": 28,
    "start_time": "2022-03-20T19:30:33.070Z"
   },
   {
    "duration": 15,
    "start_time": "2022-03-20T19:30:33.100Z"
   },
   {
    "duration": 19,
    "start_time": "2022-03-20T19:30:33.117Z"
   },
   {
    "duration": 14,
    "start_time": "2022-03-20T19:30:33.138Z"
   },
   {
    "duration": 6,
    "start_time": "2022-03-20T19:30:33.154Z"
   },
   {
    "duration": 40,
    "start_time": "2022-03-20T19:30:33.162Z"
   },
   {
    "duration": 7,
    "start_time": "2022-03-20T19:30:33.204Z"
   },
   {
    "duration": 9,
    "start_time": "2022-03-20T19:30:33.213Z"
   },
   {
    "duration": 15,
    "start_time": "2022-03-20T19:30:33.225Z"
   },
   {
    "duration": 9,
    "start_time": "2022-03-20T19:30:33.243Z"
   },
   {
    "duration": 22,
    "start_time": "2022-03-20T19:30:33.254Z"
   },
   {
    "duration": 4,
    "start_time": "2022-03-20T19:30:33.301Z"
   },
   {
    "duration": 17,
    "start_time": "2022-03-20T19:30:33.307Z"
   },
   {
    "duration": 9,
    "start_time": "2022-03-20T19:30:33.327Z"
   },
   {
    "duration": 12,
    "start_time": "2022-03-20T19:30:33.337Z"
   },
   {
    "duration": 13,
    "start_time": "2022-03-20T19:30:33.351Z"
   },
   {
    "duration": 15,
    "start_time": "2022-03-20T19:30:33.366Z"
   },
   {
    "duration": 9,
    "start_time": "2022-03-20T19:30:33.403Z"
   },
   {
    "duration": 9,
    "start_time": "2022-03-20T19:30:33.414Z"
   },
   {
    "duration": 25,
    "start_time": "2022-03-20T19:30:33.425Z"
   },
   {
    "duration": 21,
    "start_time": "2022-03-20T19:30:33.452Z"
   },
   {
    "duration": 8,
    "start_time": "2022-03-20T19:30:33.475Z"
   },
   {
    "duration": 19,
    "start_time": "2022-03-20T19:30:33.484Z"
   },
   {
    "duration": 13,
    "start_time": "2022-03-20T19:30:33.505Z"
   },
   {
    "duration": 12,
    "start_time": "2022-03-20T19:30:33.520Z"
   },
   {
    "duration": 11,
    "start_time": "2022-03-20T19:30:33.534Z"
   },
   {
    "duration": 12,
    "start_time": "2022-03-20T19:30:33.549Z"
   },
   {
    "duration": 950,
    "start_time": "2022-03-20T19:30:33.563Z"
   },
   {
    "duration": 23,
    "start_time": "2022-03-20T19:30:34.515Z"
   },
   {
    "duration": 33,
    "start_time": "2022-03-20T19:30:34.540Z"
   },
   {
    "duration": 36,
    "start_time": "2022-03-20T19:30:34.575Z"
   },
   {
    "duration": 4,
    "start_time": "2022-03-20T19:30:34.613Z"
   },
   {
    "duration": 245,
    "start_time": "2022-03-20T19:30:34.619Z"
   },
   {
    "duration": 5,
    "start_time": "2022-03-20T19:30:34.866Z"
   },
   {
    "duration": 5,
    "start_time": "2022-03-20T19:30:34.873Z"
   },
   {
    "duration": 3354,
    "start_time": "2022-03-20T19:30:34.881Z"
   },
   {
    "duration": 4,
    "start_time": "2022-03-20T19:30:38.237Z"
   },
   {
    "duration": 62,
    "start_time": "2022-03-20T19:30:38.243Z"
   },
   {
    "duration": 4,
    "start_time": "2022-03-20T19:30:44.042Z"
   },
   {
    "duration": 62,
    "start_time": "2022-03-20T19:31:59.510Z"
   },
   {
    "duration": 70,
    "start_time": "2022-03-20T19:32:18.226Z"
   },
   {
    "duration": 75,
    "start_time": "2022-03-20T19:32:47.797Z"
   },
   {
    "duration": 32,
    "start_time": "2022-03-20T19:32:51.998Z"
   },
   {
    "duration": 30,
    "start_time": "2022-03-20T19:32:56.290Z"
   },
   {
    "duration": 83,
    "start_time": "2022-03-20T19:32:59.274Z"
   },
   {
    "duration": 92,
    "start_time": "2022-03-20T19:33:02.547Z"
   },
   {
    "duration": 582,
    "start_time": "2022-03-20T19:33:06.600Z"
   },
   {
    "duration": 4,
    "start_time": "2022-03-20T20:05:00.200Z"
   },
   {
    "duration": 3443,
    "start_time": "2022-03-20T20:05:01.140Z"
   },
   {
    "duration": 5,
    "start_time": "2022-03-20T20:05:04.585Z"
   },
   {
    "duration": 4,
    "start_time": "2022-03-20T20:05:46.533Z"
   },
   {
    "duration": 3608,
    "start_time": "2022-03-20T20:05:47.424Z"
   },
   {
    "duration": 5,
    "start_time": "2022-03-20T20:05:51.034Z"
   },
   {
    "duration": 8,
    "start_time": "2022-03-20T20:06:42.549Z"
   },
   {
    "duration": 27447,
    "start_time": "2022-03-20T20:06:42.560Z"
   },
   {
    "duration": 4,
    "start_time": "2022-03-20T20:07:10.009Z"
   },
   {
    "duration": 3,
    "start_time": "2022-03-20T20:07:40.876Z"
   },
   {
    "duration": 611,
    "start_time": "2022-03-20T20:07:41.576Z"
   },
   {
    "duration": 5,
    "start_time": "2022-03-20T20:07:43.145Z"
   },
   {
    "duration": 3,
    "start_time": "2022-03-20T20:07:59.950Z"
   },
   {
    "duration": 28443,
    "start_time": "2022-03-20T20:08:00.524Z"
   },
   {
    "duration": 4,
    "start_time": "2022-03-20T20:08:28.969Z"
   },
   {
    "duration": 3,
    "start_time": "2022-03-20T20:10:18.462Z"
   },
   {
    "duration": 27661,
    "start_time": "2022-03-20T20:10:21.353Z"
   },
   {
    "duration": 4,
    "start_time": "2022-03-20T20:10:49.016Z"
   },
   {
    "duration": 5,
    "start_time": "2022-03-20T20:17:38.331Z"
   },
   {
    "duration": 15,
    "start_time": "2022-03-20T20:17:39.262Z"
   },
   {
    "duration": 3,
    "start_time": "2022-03-20T20:17:39.961Z"
   },
   {
    "duration": 38951,
    "start_time": "2022-03-20T20:17:40.750Z"
   },
   {
    "duration": 5,
    "start_time": "2022-03-20T20:18:19.703Z"
   },
   {
    "duration": 4,
    "start_time": "2022-03-20T20:20:01.069Z"
   },
   {
    "duration": 14,
    "start_time": "2022-03-20T20:20:01.744Z"
   },
   {
    "duration": 3,
    "start_time": "2022-03-20T20:20:02.416Z"
   },
   {
    "duration": 37195,
    "start_time": "2022-03-20T20:20:03.014Z"
   },
   {
    "duration": 3,
    "start_time": "2022-03-20T20:20:40.211Z"
   },
   {
    "duration": 5,
    "start_time": "2022-03-20T20:21:20.729Z"
   },
   {
    "duration": 12,
    "start_time": "2022-03-20T20:21:21.433Z"
   },
   {
    "duration": 3,
    "start_time": "2022-03-20T20:21:22.041Z"
   },
   {
    "duration": 13608,
    "start_time": "2022-03-20T20:21:25.120Z"
   },
   {
    "duration": 5,
    "start_time": "2022-03-20T20:21:38.730Z"
   },
   {
    "duration": 4,
    "start_time": "2022-03-20T20:21:49.839Z"
   },
   {
    "duration": 12,
    "start_time": "2022-03-20T20:21:50.281Z"
   },
   {
    "duration": 3,
    "start_time": "2022-03-20T20:21:50.951Z"
   },
   {
    "duration": 13270,
    "start_time": "2022-03-20T20:21:51.979Z"
   },
   {
    "duration": 4,
    "start_time": "2022-03-20T20:22:05.252Z"
   },
   {
    "duration": 81,
    "start_time": "2022-03-20T20:25:16.982Z"
   },
   {
    "duration": 113,
    "start_time": "2022-03-20T20:25:24.202Z"
   },
   {
    "duration": 4,
    "start_time": "2022-03-20T20:28:33.631Z"
   },
   {
    "duration": 105,
    "start_time": "2022-03-20T20:49:55.218Z"
   },
   {
    "duration": 4,
    "start_time": "2022-03-20T20:50:11.586Z"
   },
   {
    "duration": 185,
    "start_time": "2022-03-20T20:50:34.788Z"
   },
   {
    "duration": 10,
    "start_time": "2022-03-20T20:50:49.988Z"
   },
   {
    "duration": 13,
    "start_time": "2022-03-20T20:52:08.187Z"
   },
   {
    "duration": 181,
    "start_time": "2022-03-20T20:52:09.116Z"
   },
   {
    "duration": 10,
    "start_time": "2022-03-20T20:52:59.242Z"
   },
   {
    "duration": 19,
    "start_time": "2022-03-20T20:53:12.469Z"
   },
   {
    "duration": 299,
    "start_time": "2022-03-20T20:53:13.236Z"
   },
   {
    "duration": 9,
    "start_time": "2022-03-20T20:53:15.633Z"
   },
   {
    "duration": 3,
    "start_time": "2022-03-21T08:21:02.513Z"
   },
   {
    "duration": 695,
    "start_time": "2022-03-21T08:21:03.590Z"
   },
   {
    "duration": 4,
    "start_time": "2022-03-21T08:21:04.288Z"
   },
   {
    "duration": 7,
    "start_time": "2022-03-21T08:21:06.487Z"
   },
   {
    "duration": 3,
    "start_time": "2022-03-21T08:21:29.582Z"
   },
   {
    "duration": 27569,
    "start_time": "2022-03-21T08:21:30.048Z"
   },
   {
    "duration": 4,
    "start_time": "2022-03-21T08:21:57.619Z"
   },
   {
    "duration": 10,
    "start_time": "2022-03-21T08:21:57.625Z"
   },
   {
    "duration": 25,
    "start_time": "2022-03-21T08:24:27.404Z"
   },
   {
    "duration": 4,
    "start_time": "2022-03-21T08:24:27.853Z"
   },
   {
    "duration": 7,
    "start_time": "2022-03-21T08:24:28.596Z"
   },
   {
    "duration": 4,
    "start_time": "2022-03-21T08:24:36.402Z"
   },
   {
    "duration": 28515,
    "start_time": "2022-03-21T08:24:37.917Z"
   },
   {
    "duration": 5,
    "start_time": "2022-03-21T08:25:06.434Z"
   },
   {
    "duration": 15,
    "start_time": "2022-03-21T08:25:06.440Z"
   },
   {
    "duration": 5,
    "start_time": "2022-03-21T08:26:10.678Z"
   },
   {
    "duration": 13,
    "start_time": "2022-03-21T08:26:11.471Z"
   },
   {
    "duration": 4,
    "start_time": "2022-03-21T08:26:12.197Z"
   },
   {
    "duration": 37643,
    "start_time": "2022-03-21T08:26:14.347Z"
   },
   {
    "duration": 9,
    "start_time": "2022-03-21T08:26:51.993Z"
   },
   {
    "duration": 7,
    "start_time": "2022-03-21T08:26:52.004Z"
   },
   {
    "duration": 5,
    "start_time": "2022-03-21T08:27:35.814Z"
   },
   {
    "duration": 11,
    "start_time": "2022-03-21T08:27:37.114Z"
   },
   {
    "duration": 3,
    "start_time": "2022-03-21T08:27:38.038Z"
   },
   {
    "duration": 13418,
    "start_time": "2022-03-21T08:27:40.823Z"
   },
   {
    "duration": 4,
    "start_time": "2022-03-21T08:27:54.243Z"
   },
   {
    "duration": 12,
    "start_time": "2022-03-21T08:27:54.249Z"
   },
   {
    "duration": 105,
    "start_time": "2022-03-21T08:29:17.406Z"
   },
   {
    "duration": 7,
    "start_time": "2022-03-21T08:29:20.537Z"
   },
   {
    "duration": 7,
    "start_time": "2022-03-21T08:29:43.559Z"
   },
   {
    "duration": 113,
    "start_time": "2022-03-21T08:29:45.924Z"
   },
   {
    "duration": 6,
    "start_time": "2022-03-21T08:29:52.590Z"
   },
   {
    "duration": 14,
    "start_time": "2022-03-21T08:30:26.357Z"
   },
   {
    "duration": 234,
    "start_time": "2022-03-21T08:30:27.481Z"
   },
   {
    "duration": 20,
    "start_time": "2022-03-21T08:30:37.358Z"
   },
   {
    "duration": 16,
    "start_time": "2022-03-21T08:31:10.600Z"
   },
   {
    "duration": 202,
    "start_time": "2022-03-21T08:31:11.230Z"
   },
   {
    "duration": 3,
    "start_time": "2022-03-21T09:25:17.785Z"
   },
   {
    "duration": 583,
    "start_time": "2022-03-21T09:25:18.452Z"
   },
   {
    "duration": 4,
    "start_time": "2022-03-21T09:25:19.038Z"
   },
   {
    "duration": 4,
    "start_time": "2022-03-21T09:25:27.096Z"
   },
   {
    "duration": 3,
    "start_time": "2022-03-21T09:25:36.576Z"
   },
   {
    "duration": 583,
    "start_time": "2022-03-21T09:25:37.020Z"
   },
   {
    "duration": 5,
    "start_time": "2022-03-21T09:25:37.868Z"
   },
   {
    "duration": 3,
    "start_time": "2022-03-21T09:26:02.184Z"
   },
   {
    "duration": 27603,
    "start_time": "2022-03-21T09:26:02.898Z"
   },
   {
    "duration": 5,
    "start_time": "2022-03-21T09:26:30.503Z"
   },
   {
    "duration": 27,
    "start_time": "2022-03-21T09:27:03.989Z"
   },
   {
    "duration": 4,
    "start_time": "2022-03-21T09:27:05.125Z"
   },
   {
    "duration": 3,
    "start_time": "2022-03-21T09:30:54.767Z"
   },
   {
    "duration": 28121,
    "start_time": "2022-03-21T09:30:59.360Z"
   },
   {
    "duration": 4,
    "start_time": "2022-03-21T09:31:27.483Z"
   },
   {
    "duration": 20,
    "start_time": "2022-03-21T09:31:27.488Z"
   },
   {
    "duration": 598,
    "start_time": "2022-03-21T09:31:27.511Z"
   },
   {
    "duration": 4,
    "start_time": "2022-03-21T09:31:28.112Z"
   },
   {
    "duration": 29,
    "start_time": "2022-03-21T09:33:49.908Z"
   },
   {
    "duration": 4,
    "start_time": "2022-03-21T09:33:50.725Z"
   },
   {
    "duration": 3,
    "start_time": "2022-03-21T09:34:01.877Z"
   },
   {
    "duration": 3,
    "start_time": "2022-03-21T09:34:30.236Z"
   },
   {
    "duration": 28422,
    "start_time": "2022-03-21T09:34:31.088Z"
   },
   {
    "duration": 5,
    "start_time": "2022-03-21T09:34:59.512Z"
   },
   {
    "duration": 23,
    "start_time": "2022-03-21T09:34:59.519Z"
   },
   {
    "duration": 26,
    "start_time": "2022-03-21T09:34:59.544Z"
   },
   {
    "duration": 13,
    "start_time": "2022-03-21T09:34:59.572Z"
   },
   {
    "duration": 41567,
    "start_time": "2022-03-21T09:35:09.461Z"
   },
   {
    "duration": 5,
    "start_time": "2022-03-21T09:35:51.031Z"
   },
   {
    "duration": 5,
    "start_time": "2022-03-21T09:36:16.531Z"
   },
   {
    "duration": 18,
    "start_time": "2022-03-21T09:36:17.068Z"
   },
   {
    "duration": 3,
    "start_time": "2022-03-21T09:36:18.007Z"
   },
   {
    "duration": 40675,
    "start_time": "2022-03-21T09:36:19.004Z"
   },
   {
    "duration": 5,
    "start_time": "2022-03-21T09:37:03.918Z"
   },
   {
    "duration": 3,
    "start_time": "2022-03-21T09:57:16.202Z"
   },
   {
    "duration": 5,
    "start_time": "2022-03-21T09:57:17.514Z"
   },
   {
    "duration": 18,
    "start_time": "2022-03-21T09:57:58.382Z"
   },
   {
    "duration": 5,
    "start_time": "2022-03-21T09:58:10.039Z"
   },
   {
    "duration": 20,
    "start_time": "2022-03-21T09:58:10.907Z"
   },
   {
    "duration": 3,
    "start_time": "2022-03-21T09:58:16.659Z"
   },
   {
    "duration": 5,
    "start_time": "2022-03-21T09:58:18.441Z"
   },
   {
    "duration": 23,
    "start_time": "2022-03-21T09:58:19.495Z"
   },
   {
    "duration": 4,
    "start_time": "2022-03-21T10:00:15.614Z"
   },
   {
    "duration": 4,
    "start_time": "2022-03-21T10:00:16.076Z"
   },
   {
    "duration": 23,
    "start_time": "2022-03-21T10:00:17.059Z"
   },
   {
    "duration": 1791,
    "start_time": "2022-03-21T10:25:32.488Z"
   },
   {
    "duration": 34,
    "start_time": "2022-03-21T10:25:34.282Z"
   },
   {
    "duration": 15,
    "start_time": "2022-03-21T10:25:35.556Z"
   },
   {
    "duration": 19,
    "start_time": "2022-03-21T10:25:38.249Z"
   },
   {
    "duration": 16,
    "start_time": "2022-03-21T10:25:40.176Z"
   },
   {
    "duration": 5,
    "start_time": "2022-03-21T10:25:45.391Z"
   },
   {
    "duration": 9,
    "start_time": "2022-03-21T10:25:47.914Z"
   },
   {
    "duration": 7,
    "start_time": "2022-03-21T10:25:50.452Z"
   },
   {
    "duration": 9,
    "start_time": "2022-03-21T10:25:53.321Z"
   },
   {
    "duration": 10,
    "start_time": "2022-03-21T10:25:57.645Z"
   },
   {
    "duration": 7,
    "start_time": "2022-03-21T10:26:00.493Z"
   },
   {
    "duration": 14,
    "start_time": "2022-03-21T10:26:02.471Z"
   },
   {
    "duration": 10,
    "start_time": "2022-03-21T10:26:04.701Z"
   },
   {
    "duration": 10,
    "start_time": "2022-03-21T10:26:07.523Z"
   },
   {
    "duration": 7,
    "start_time": "2022-03-21T10:26:10.467Z"
   },
   {
    "duration": 8,
    "start_time": "2022-03-21T10:26:14.441Z"
   },
   {
    "duration": 9,
    "start_time": "2022-03-21T10:26:17.131Z"
   },
   {
    "duration": 10,
    "start_time": "2022-03-21T10:26:18.473Z"
   },
   {
    "duration": 10,
    "start_time": "2022-03-21T10:26:20.489Z"
   },
   {
    "duration": 7,
    "start_time": "2022-03-21T10:26:23.569Z"
   },
   {
    "duration": 8,
    "start_time": "2022-03-21T10:26:24.981Z"
   },
   {
    "duration": 11,
    "start_time": "2022-03-21T10:26:27.325Z"
   },
   {
    "duration": 6,
    "start_time": "2022-03-21T10:26:52.343Z"
   },
   {
    "duration": 15,
    "start_time": "2022-03-21T10:26:55.111Z"
   },
   {
    "duration": 10,
    "start_time": "2022-03-21T10:26:56.213Z"
   },
   {
    "duration": 8,
    "start_time": "2022-03-21T10:26:57.967Z"
   },
   {
    "duration": 8,
    "start_time": "2022-03-21T10:26:58.845Z"
   },
   {
    "duration": 11,
    "start_time": "2022-03-21T10:27:01.215Z"
   },
   {
    "duration": 1060,
    "start_time": "2022-03-21T10:27:06.575Z"
   },
   {
    "duration": 28,
    "start_time": "2022-03-21T10:27:12.483Z"
   },
   {
    "duration": 33,
    "start_time": "2022-03-21T10:27:18.328Z"
   },
   {
    "duration": 12,
    "start_time": "2022-03-21T10:27:21.664Z"
   },
   {
    "duration": 3,
    "start_time": "2022-03-21T10:30:34.949Z"
   },
   {
    "duration": 164,
    "start_time": "2022-03-21T10:30:36.594Z"
   },
   {
    "duration": 6,
    "start_time": "2022-03-21T10:31:48.504Z"
   },
   {
    "duration": 846,
    "start_time": "2022-03-21T10:31:57.131Z"
   },
   {
    "duration": 5,
    "start_time": "2022-03-21T10:32:00.560Z"
   },
   {
    "duration": 3,
    "start_time": "2022-03-21T10:32:23.094Z"
   },
   {
    "duration": 34091,
    "start_time": "2022-03-21T10:32:26.869Z"
   },
   {
    "duration": 7,
    "start_time": "2022-03-21T10:33:00.963Z"
   },
   {
    "duration": 5,
    "start_time": "2022-03-21T10:34:35.957Z"
   },
   {
    "duration": 29,
    "start_time": "2022-03-21T10:34:39.815Z"
   },
   {
    "duration": 4,
    "start_time": "2022-03-21T10:34:40.673Z"
   },
   {
    "duration": 11,
    "start_time": "2022-03-21T10:35:55.890Z"
   },
   {
    "duration": 6,
    "start_time": "2022-03-21T10:36:09.346Z"
   },
   {
    "duration": 9,
    "start_time": "2022-03-21T10:36:24.262Z"
   },
   {
    "duration": 4,
    "start_time": "2022-03-21T10:37:35.157Z"
   },
   {
    "duration": 32396,
    "start_time": "2022-03-21T10:37:36.626Z"
   },
   {
    "duration": 4,
    "start_time": "2022-03-21T10:38:09.024Z"
   },
   {
    "duration": 4,
    "start_time": "2022-03-21T10:38:19.045Z"
   },
   {
    "duration": 13,
    "start_time": "2022-03-21T10:38:20.786Z"
   },
   {
    "duration": 3,
    "start_time": "2022-03-21T10:38:21.642Z"
   },
   {
    "duration": 32608,
    "start_time": "2022-03-21T10:38:24.938Z"
   },
   {
    "duration": 0,
    "start_time": "2022-03-21T10:38:57.549Z"
   },
   {
    "duration": 0,
    "start_time": "2022-03-21T10:38:57.555Z"
   },
   {
    "duration": 3,
    "start_time": "2022-03-21T10:39:02.853Z"
   },
   {
    "duration": 41799,
    "start_time": "2022-03-21T10:39:06.984Z"
   },
   {
    "duration": 5,
    "start_time": "2022-03-21T10:39:48.786Z"
   },
   {
    "duration": 5,
    "start_time": "2022-03-21T10:40:56.274Z"
   },
   {
    "duration": 11,
    "start_time": "2022-03-21T10:40:57.884Z"
   },
   {
    "duration": 3,
    "start_time": "2022-03-21T10:40:58.992Z"
   },
   {
    "duration": 16353,
    "start_time": "2022-03-21T10:41:01.094Z"
   },
   {
    "duration": 12,
    "start_time": "2022-03-21T10:41:25.009Z"
   },
   {
    "duration": 124,
    "start_time": "2022-03-21T10:44:37.280Z"
   },
   {
    "duration": 17,
    "start_time": "2022-03-21T10:45:15.377Z"
   },
   {
    "duration": 284,
    "start_time": "2022-03-21T10:45:16.448Z"
   },
   {
    "duration": 1751,
    "start_time": "2022-03-21T10:52:46.914Z"
   },
   {
    "duration": 28,
    "start_time": "2022-03-21T10:52:48.667Z"
   },
   {
    "duration": 25,
    "start_time": "2022-03-21T10:52:48.697Z"
   },
   {
    "duration": 28,
    "start_time": "2022-03-21T10:52:48.724Z"
   },
   {
    "duration": 13,
    "start_time": "2022-03-21T10:52:48.754Z"
   },
   {
    "duration": 6,
    "start_time": "2022-03-21T10:52:48.769Z"
   },
   {
    "duration": 11,
    "start_time": "2022-03-21T10:52:48.808Z"
   },
   {
    "duration": 8,
    "start_time": "2022-03-21T10:52:48.822Z"
   },
   {
    "duration": 12,
    "start_time": "2022-03-21T10:52:48.832Z"
   },
   {
    "duration": 11,
    "start_time": "2022-03-21T10:52:48.847Z"
   },
   {
    "duration": 6,
    "start_time": "2022-03-21T10:52:48.860Z"
   },
   {
    "duration": 27,
    "start_time": "2022-03-21T10:52:48.901Z"
   },
   {
    "duration": 5,
    "start_time": "2022-03-21T10:52:48.929Z"
   },
   {
    "duration": 14,
    "start_time": "2022-03-21T10:52:48.936Z"
   },
   {
    "duration": 8,
    "start_time": "2022-03-21T10:52:48.951Z"
   },
   {
    "duration": 9,
    "start_time": "2022-03-21T10:52:48.961Z"
   },
   {
    "duration": 46,
    "start_time": "2022-03-21T10:52:48.972Z"
   },
   {
    "duration": 17,
    "start_time": "2022-03-21T10:52:49.020Z"
   },
   {
    "duration": 17,
    "start_time": "2022-03-21T10:52:49.040Z"
   },
   {
    "duration": 7,
    "start_time": "2022-03-21T10:52:49.059Z"
   },
   {
    "duration": 14,
    "start_time": "2022-03-21T10:52:49.068Z"
   },
   {
    "duration": 29,
    "start_time": "2022-03-21T10:52:49.084Z"
   },
   {
    "duration": 8,
    "start_time": "2022-03-21T10:52:49.115Z"
   },
   {
    "duration": 16,
    "start_time": "2022-03-21T10:52:49.126Z"
   },
   {
    "duration": 8,
    "start_time": "2022-03-21T10:52:49.144Z"
   },
   {
    "duration": 10,
    "start_time": "2022-03-21T10:52:49.154Z"
   },
   {
    "duration": 40,
    "start_time": "2022-03-21T10:52:49.166Z"
   },
   {
    "duration": 13,
    "start_time": "2022-03-21T10:52:49.212Z"
   },
   {
    "duration": 1029,
    "start_time": "2022-03-21T10:52:49.227Z"
   },
   {
    "duration": 23,
    "start_time": "2022-03-21T10:52:50.258Z"
   },
   {
    "duration": 60,
    "start_time": "2022-03-21T10:52:50.283Z"
   },
   {
    "duration": 10,
    "start_time": "2022-03-21T10:52:50.345Z"
   },
   {
    "duration": 3,
    "start_time": "2022-03-21T10:52:50.358Z"
   },
   {
    "duration": 654,
    "start_time": "2022-03-21T10:52:50.363Z"
   },
   {
    "duration": 6,
    "start_time": "2022-03-21T10:52:51.019Z"
   },
   {
    "duration": 26,
    "start_time": "2022-03-21T10:52:51.027Z"
   },
   {
    "duration": 35387,
    "start_time": "2022-03-21T10:52:51.055Z"
   },
   {
    "duration": 4,
    "start_time": "2022-03-21T10:53:26.445Z"
   },
   {
    "duration": 69,
    "start_time": "2022-03-21T10:53:26.452Z"
   },
   {
    "duration": 80,
    "start_time": "2022-03-21T10:53:26.524Z"
   },
   {
    "duration": 106,
    "start_time": "2022-03-21T10:53:26.606Z"
   },
   {
    "duration": 12,
    "start_time": "2022-03-21T10:53:26.714Z"
   },
   {
    "duration": 13,
    "start_time": "2022-03-21T10:53:26.728Z"
   },
   {
    "duration": 7,
    "start_time": "2022-03-21T10:53:26.743Z"
   },
   {
    "duration": 33518,
    "start_time": "2022-03-21T10:53:26.752Z"
   },
   {
    "duration": 5,
    "start_time": "2022-03-21T10:54:00.272Z"
   },
   {
    "duration": 26,
    "start_time": "2022-03-21T10:54:00.279Z"
   },
   {
    "duration": 37,
    "start_time": "2022-03-21T10:54:00.308Z"
   },
   {
    "duration": 13,
    "start_time": "2022-03-21T10:54:00.346Z"
   },
   {
    "duration": 45856,
    "start_time": "2022-03-21T10:54:00.361Z"
   },
   {
    "duration": 7,
    "start_time": "2022-03-21T10:54:46.220Z"
   },
   {
    "duration": 23,
    "start_time": "2022-03-21T10:54:46.230Z"
   },
   {
    "duration": 23,
    "start_time": "2022-03-21T10:54:46.255Z"
   },
   {
    "duration": 6,
    "start_time": "2022-03-21T10:54:46.280Z"
   },
   {
    "duration": 17513,
    "start_time": "2022-03-21T10:54:46.288Z"
   },
   {
    "duration": 11,
    "start_time": "2022-03-21T10:55:03.810Z"
   },
   {
    "duration": 167,
    "start_time": "2022-03-21T10:55:03.823Z"
   },
   {
    "duration": 27,
    "start_time": "2022-03-21T10:55:03.993Z"
   },
   {
    "duration": 242,
    "start_time": "2022-03-21T10:55:04.023Z"
   },
   {
    "duration": 53,
    "start_time": "2022-03-22T09:37:20.304Z"
   },
   {
    "duration": 1898,
    "start_time": "2022-03-22T09:37:26.612Z"
   },
   {
    "duration": 31,
    "start_time": "2022-03-22T09:37:28.513Z"
   },
   {
    "duration": 20,
    "start_time": "2022-03-22T09:37:28.697Z"
   },
   {
    "duration": 17,
    "start_time": "2022-03-22T09:37:31.078Z"
   },
   {
    "duration": 15,
    "start_time": "2022-03-22T09:37:31.591Z"
   },
   {
    "duration": 4,
    "start_time": "2022-03-22T09:37:37.447Z"
   },
   {
    "duration": 8,
    "start_time": "2022-03-22T09:37:40.649Z"
   },
   {
    "duration": 7,
    "start_time": "2022-03-22T09:37:43.769Z"
   },
   {
    "duration": 10,
    "start_time": "2022-03-22T09:37:46.408Z"
   },
   {
    "duration": 8,
    "start_time": "2022-03-22T09:37:48.558Z"
   },
   {
    "duration": 5,
    "start_time": "2022-03-22T09:37:50.618Z"
   },
   {
    "duration": 12,
    "start_time": "2022-03-22T09:37:51.931Z"
   },
   {
    "duration": 2,
    "start_time": "2022-03-22T09:37:54.739Z"
   },
   {
    "duration": 11,
    "start_time": "2022-03-22T09:37:57.399Z"
   },
   {
    "duration": 9,
    "start_time": "2022-03-22T09:38:06.001Z"
   },
   {
    "duration": 8,
    "start_time": "2022-03-22T09:38:33.998Z"
   },
   {
    "duration": 9,
    "start_time": "2022-03-22T09:40:45.869Z"
   },
   {
    "duration": 3,
    "start_time": "2022-03-22T09:40:52.677Z"
   },
   {
    "duration": 28,
    "start_time": "2022-03-22T09:40:55.503Z"
   },
   {
    "duration": 13,
    "start_time": "2022-03-22T09:40:56.258Z"
   },
   {
    "duration": 8,
    "start_time": "2022-03-22T09:41:03.050Z"
   },
   {
    "duration": 6514,
    "start_time": "2022-03-22T09:41:06.103Z"
   },
   {
    "duration": 4,
    "start_time": "2022-03-22T09:41:19.937Z"
   },
   {
    "duration": 9,
    "start_time": "2022-03-22T09:41:20.796Z"
   },
   {
    "duration": 6,
    "start_time": "2022-03-22T09:41:24.051Z"
   },
   {
    "duration": 8,
    "start_time": "2022-03-22T09:41:26.822Z"
   },
   {
    "duration": 9,
    "start_time": "2022-03-22T09:41:30.065Z"
   },
   {
    "duration": 6,
    "start_time": "2022-03-22T09:41:34.576Z"
   },
   {
    "duration": 12,
    "start_time": "2022-03-22T09:41:36.052Z"
   },
   {
    "duration": 11,
    "start_time": "2022-03-22T09:41:42.170Z"
   },
   {
    "duration": 8,
    "start_time": "2022-03-22T09:41:46.657Z"
   },
   {
    "duration": 4,
    "start_time": "2022-03-22T10:47:05.513Z"
   },
   {
    "duration": 32,
    "start_time": "2022-03-22T10:47:05.519Z"
   },
   {
    "duration": 12,
    "start_time": "2022-03-22T10:47:05.553Z"
   },
   {
    "duration": 10,
    "start_time": "2022-03-22T10:47:05.567Z"
   },
   {
    "duration": 13,
    "start_time": "2022-03-22T10:47:05.579Z"
   },
   {
    "duration": 3,
    "start_time": "2022-03-22T10:47:05.601Z"
   },
   {
    "duration": 7,
    "start_time": "2022-03-22T10:47:05.605Z"
   },
   {
    "duration": 6,
    "start_time": "2022-03-22T10:47:05.613Z"
   },
   {
    "duration": 7,
    "start_time": "2022-03-22T10:47:05.622Z"
   },
   {
    "duration": 10,
    "start_time": "2022-03-22T10:47:05.631Z"
   },
   {
    "duration": 5,
    "start_time": "2022-03-22T10:47:05.643Z"
   },
   {
    "duration": 14,
    "start_time": "2022-03-22T10:47:05.649Z"
   },
   {
    "duration": 3,
    "start_time": "2022-03-22T10:47:05.665Z"
   },
   {
    "duration": 10,
    "start_time": "2022-03-22T10:47:05.702Z"
   },
   {
    "duration": 8,
    "start_time": "2022-03-22T10:47:08.700Z"
   },
   {
    "duration": 7,
    "start_time": "2022-03-22T10:47:40.631Z"
   },
   {
    "duration": 6,
    "start_time": "2022-03-22T10:47:41.699Z"
   },
   {
    "duration": 6,
    "start_time": "2022-03-22T10:47:44.025Z"
   },
   {
    "duration": 7,
    "start_time": "2022-03-22T10:47:44.811Z"
   },
   {
    "duration": 7,
    "start_time": "2022-03-22T10:47:46.687Z"
   },
   {
    "duration": 7,
    "start_time": "2022-03-22T10:47:48.714Z"
   },
   {
    "duration": 6,
    "start_time": "2022-03-22T10:47:50.446Z"
   },
   {
    "duration": 5,
    "start_time": "2022-03-22T10:47:51.410Z"
   },
   {
    "duration": 8,
    "start_time": "2022-03-22T10:47:53.438Z"
   },
   {
    "duration": 6,
    "start_time": "2022-03-22T10:47:57.332Z"
   },
   {
    "duration": 10,
    "start_time": "2022-03-22T10:48:00.621Z"
   },
   {
    "duration": 6,
    "start_time": "2022-03-22T10:48:01.329Z"
   },
   {
    "duration": 6,
    "start_time": "2022-03-22T10:48:03.143Z"
   },
   {
    "duration": 8,
    "start_time": "2022-03-22T10:48:03.499Z"
   },
   {
    "duration": 9,
    "start_time": "2022-03-22T10:48:04.769Z"
   },
   {
    "duration": 847,
    "start_time": "2022-03-22T10:48:12.718Z"
   },
   {
    "duration": 18,
    "start_time": "2022-03-22T10:48:17.377Z"
   },
   {
    "duration": 10,
    "start_time": "2022-03-22T10:50:50.537Z"
   },
   {
    "duration": 28,
    "start_time": "2022-03-22T10:50:51.759Z"
   },
   {
    "duration": 24,
    "start_time": "2022-03-22T10:51:10.078Z"
   },
   {
    "duration": 8,
    "start_time": "2022-03-22T10:51:51.158Z"
   },
   {
    "duration": 20,
    "start_time": "2022-03-22T10:51:51.812Z"
   },
   {
    "duration": 21,
    "start_time": "2022-03-22T10:52:01.618Z"
   },
   {
    "duration": 10,
    "start_time": "2022-03-22T10:53:20.517Z"
   },
   {
    "duration": 24,
    "start_time": "2022-03-22T10:53:21.153Z"
   },
   {
    "duration": 9,
    "start_time": "2022-03-22T10:54:02.307Z"
   },
   {
    "duration": 23,
    "start_time": "2022-03-22T10:54:03.202Z"
   },
   {
    "duration": 40,
    "start_time": "2022-03-22T10:57:18.467Z"
   },
   {
    "duration": 62,
    "start_time": "2022-03-22T10:59:40.241Z"
   },
   {
    "duration": 76,
    "start_time": "2022-03-22T10:59:56.930Z"
   },
   {
    "duration": 30,
    "start_time": "2022-03-22T11:15:32.182Z"
   },
   {
    "duration": 4,
    "start_time": "2022-03-22T11:15:33.240Z"
   },
   {
    "duration": 22,
    "start_time": "2022-03-22T11:15:58.218Z"
   },
   {
    "duration": 2,
    "start_time": "2022-03-22T11:16:02.327Z"
   },
   {
    "duration": 23450,
    "start_time": "2022-03-22T11:16:02.964Z"
   },
   {
    "duration": 4,
    "start_time": "2022-03-22T11:16:26.416Z"
   },
   {
    "duration": 22,
    "start_time": "2022-03-22T11:17:14.052Z"
   },
   {
    "duration": 2,
    "start_time": "2022-03-22T11:17:18.483Z"
   },
   {
    "duration": 507,
    "start_time": "2022-03-22T11:17:27.451Z"
   },
   {
    "duration": 3,
    "start_time": "2022-03-22T11:17:28.380Z"
   },
   {
    "duration": 2,
    "start_time": "2022-03-22T11:17:46.378Z"
   },
   {
    "duration": 23209,
    "start_time": "2022-03-22T11:17:47.362Z"
   },
   {
    "duration": 5,
    "start_time": "2022-03-22T11:18:10.573Z"
   },
   {
    "duration": 3,
    "start_time": "2022-03-22T11:18:49.540Z"
   },
   {
    "duration": 24083,
    "start_time": "2022-03-22T11:18:50.074Z"
   },
   {
    "duration": 5,
    "start_time": "2022-03-22T11:19:14.160Z"
   },
   {
    "duration": 4,
    "start_time": "2022-03-22T11:19:29.278Z"
   },
   {
    "duration": 12,
    "start_time": "2022-03-22T11:19:29.904Z"
   },
   {
    "duration": 3,
    "start_time": "2022-03-22T11:19:30.624Z"
   },
   {
    "duration": 31699,
    "start_time": "2022-03-22T11:19:31.343Z"
   },
   {
    "duration": 4,
    "start_time": "2022-03-22T11:20:03.044Z"
   },
   {
    "duration": 4,
    "start_time": "2022-03-22T11:20:22.308Z"
   },
   {
    "duration": 9,
    "start_time": "2022-03-22T11:20:22.320Z"
   },
   {
    "duration": 3,
    "start_time": "2022-03-22T11:20:22.331Z"
   },
   {
    "duration": 11348,
    "start_time": "2022-03-22T11:20:22.899Z"
   },
   {
    "duration": 4,
    "start_time": "2022-03-22T11:20:34.249Z"
   },
   {
    "duration": 26,
    "start_time": "2022-03-22T11:57:27.388Z"
   },
   {
    "duration": 9,
    "start_time": "2022-03-22T11:57:33.078Z"
   },
   {
    "duration": 2,
    "start_time": "2022-03-22T11:57:49.670Z"
   },
   {
    "duration": 3,
    "start_time": "2022-03-22T11:57:53.191Z"
   },
   {
    "duration": 514,
    "start_time": "2022-03-22T11:57:53.853Z"
   },
   {
    "duration": 4,
    "start_time": "2022-03-22T11:57:57.123Z"
   },
   {
    "duration": 3,
    "start_time": "2022-03-22T11:58:06.009Z"
   },
   {
    "duration": 24798,
    "start_time": "2022-03-22T11:58:08.227Z"
   },
   {
    "duration": 3,
    "start_time": "2022-03-22T11:58:33.027Z"
   },
   {
    "duration": 27,
    "start_time": "2022-03-22T11:58:45.094Z"
   },
   {
    "duration": 4,
    "start_time": "2022-03-22T11:58:46.030Z"
   },
   {
    "duration": 100,
    "start_time": "2022-03-22T12:14:06.511Z"
   },
   {
    "duration": 4,
    "start_time": "2022-03-22T12:14:06.950Z"
   },
   {
    "duration": 9,
    "start_time": "2022-03-22T12:14:10.737Z"
   },
   {
    "duration": 9,
    "start_time": "2022-03-22T12:14:11.716Z"
   },
   {
    "duration": 6,
    "start_time": "2022-03-22T12:14:12.551Z"
   },
   {
    "duration": 3,
    "start_time": "2022-03-22T12:14:17.561Z"
   },
   {
    "duration": 28997,
    "start_time": "2022-03-22T12:14:18.179Z"
   },
   {
    "duration": 4,
    "start_time": "2022-03-22T12:14:47.178Z"
   },
   {
    "duration": 5,
    "start_time": "2022-03-22T12:15:26.577Z"
   },
   {
    "duration": 14,
    "start_time": "2022-03-22T12:15:27.683Z"
   },
   {
    "duration": 3,
    "start_time": "2022-03-22T12:15:29.164Z"
   },
   {
    "duration": 36622,
    "start_time": "2022-03-22T12:15:30.880Z"
   },
   {
    "duration": 5,
    "start_time": "2022-03-22T12:16:07.505Z"
   },
   {
    "duration": 5,
    "start_time": "2022-03-22T12:16:30.856Z"
   },
   {
    "duration": 11,
    "start_time": "2022-03-22T12:16:31.495Z"
   },
   {
    "duration": 3,
    "start_time": "2022-03-22T12:16:33.007Z"
   },
   {
    "duration": 13274,
    "start_time": "2022-03-22T12:16:34.150Z"
   },
   {
    "duration": 5,
    "start_time": "2022-03-22T12:16:47.426Z"
   },
   {
    "duration": 133,
    "start_time": "2022-03-22T12:20:32.338Z"
   },
   {
    "duration": 14,
    "start_time": "2022-03-22T12:20:45.774Z"
   },
   {
    "duration": 171,
    "start_time": "2022-03-22T12:20:46.606Z"
   },
   {
    "duration": 9,
    "start_time": "2022-03-22T12:27:38.915Z"
   },
   {
    "duration": 12,
    "start_time": "2022-03-22T12:27:57.489Z"
   },
   {
    "duration": 15,
    "start_time": "2022-03-22T12:28:50.458Z"
   },
   {
    "duration": 280,
    "start_time": "2022-03-22T12:35:12.072Z"
   },
   {
    "duration": 283,
    "start_time": "2022-03-22T12:35:32.682Z"
   },
   {
    "duration": 276,
    "start_time": "2022-03-22T12:36:03.299Z"
   },
   {
    "duration": 249,
    "start_time": "2022-03-22T12:37:32.226Z"
   },
   {
    "duration": 270,
    "start_time": "2022-03-22T12:37:50.558Z"
   },
   {
    "duration": 16,
    "start_time": "2022-03-22T12:39:21.461Z"
   },
   {
    "duration": 327,
    "start_time": "2022-03-22T12:39:23.119Z"
   },
   {
    "duration": 4581,
    "start_time": "2022-03-22T12:40:13.085Z"
   },
   {
    "duration": 48,
    "start_time": "2022-03-22T12:40:17.668Z"
   },
   {
    "duration": 16,
    "start_time": "2022-03-22T12:40:17.718Z"
   },
   {
    "duration": 20,
    "start_time": "2022-03-22T12:40:17.737Z"
   },
   {
    "duration": 19,
    "start_time": "2022-03-22T12:40:17.759Z"
   },
   {
    "duration": 5,
    "start_time": "2022-03-22T12:40:17.801Z"
   },
   {
    "duration": 7,
    "start_time": "2022-03-22T12:40:17.809Z"
   },
   {
    "duration": 7,
    "start_time": "2022-03-22T12:40:17.818Z"
   },
   {
    "duration": 8,
    "start_time": "2022-03-22T12:40:17.827Z"
   },
   {
    "duration": 9,
    "start_time": "2022-03-22T12:40:17.839Z"
   },
   {
    "duration": 6,
    "start_time": "2022-03-22T12:40:17.850Z"
   },
   {
    "duration": 18,
    "start_time": "2022-03-22T12:40:17.902Z"
   },
   {
    "duration": 3,
    "start_time": "2022-03-22T12:40:17.922Z"
   },
   {
    "duration": 14,
    "start_time": "2022-03-22T12:40:17.927Z"
   },
   {
    "duration": 8,
    "start_time": "2022-03-22T12:40:17.943Z"
   },
   {
    "duration": 8,
    "start_time": "2022-03-22T12:40:17.953Z"
   },
   {
    "duration": 40,
    "start_time": "2022-03-22T12:40:17.962Z"
   },
   {
    "duration": 8,
    "start_time": "2022-03-22T12:40:18.004Z"
   },
   {
    "duration": 8,
    "start_time": "2022-03-22T12:40:18.014Z"
   },
   {
    "duration": 9,
    "start_time": "2022-03-22T12:40:18.024Z"
   },
   {
    "duration": 8,
    "start_time": "2022-03-22T12:40:18.035Z"
   },
   {
    "duration": 5,
    "start_time": "2022-03-22T12:40:18.045Z"
   },
   {
    "duration": 49,
    "start_time": "2022-03-22T12:40:18.052Z"
   },
   {
    "duration": 9,
    "start_time": "2022-03-22T12:40:18.103Z"
   },
   {
    "duration": 7,
    "start_time": "2022-03-22T12:40:18.113Z"
   },
   {
    "duration": 11,
    "start_time": "2022-03-22T12:40:18.122Z"
   },
   {
    "duration": 6,
    "start_time": "2022-03-22T12:40:18.135Z"
   },
   {
    "duration": 7,
    "start_time": "2022-03-22T12:40:18.144Z"
   },
   {
    "duration": 11,
    "start_time": "2022-03-22T12:40:18.153Z"
   },
   {
    "duration": 10,
    "start_time": "2022-03-22T12:40:18.202Z"
   },
   {
    "duration": 924,
    "start_time": "2022-03-22T12:40:18.214Z"
   },
   {
    "duration": 21,
    "start_time": "2022-03-22T12:40:19.140Z"
   },
   {
    "duration": 29,
    "start_time": "2022-03-22T12:40:19.163Z"
   },
   {
    "duration": 9,
    "start_time": "2022-03-22T12:40:19.194Z"
   },
   {
    "duration": 2,
    "start_time": "2022-03-22T12:40:19.205Z"
   },
   {
    "duration": 10,
    "start_time": "2022-03-22T12:40:19.209Z"
   },
   {
    "duration": 549,
    "start_time": "2022-03-22T12:40:19.220Z"
   },
   {
    "duration": 4,
    "start_time": "2022-03-22T12:40:19.771Z"
   },
   {
    "duration": 4,
    "start_time": "2022-03-22T12:40:19.777Z"
   },
   {
    "duration": 33395,
    "start_time": "2022-03-22T12:40:19.782Z"
   },
   {
    "duration": 4,
    "start_time": "2022-03-22T12:40:53.179Z"
   },
   {
    "duration": 228,
    "start_time": "2022-03-22T12:40:53.185Z"
   },
   {
    "duration": 86,
    "start_time": "2022-03-22T12:40:53.418Z"
   },
   {
    "duration": 8,
    "start_time": "2022-03-22T12:40:53.505Z"
   },
   {
    "duration": 9,
    "start_time": "2022-03-22T12:40:53.514Z"
   },
   {
    "duration": 10,
    "start_time": "2022-03-22T12:40:53.525Z"
   },
   {
    "duration": 5,
    "start_time": "2022-03-22T12:40:53.536Z"
   },
   {
    "duration": 27129,
    "start_time": "2022-03-22T12:40:53.543Z"
   },
   {
    "duration": 4,
    "start_time": "2022-03-22T12:41:20.675Z"
   },
   {
    "duration": 4,
    "start_time": "2022-03-22T12:41:20.681Z"
   },
   {
    "duration": 24,
    "start_time": "2022-03-22T12:41:20.687Z"
   },
   {
    "duration": 4,
    "start_time": "2022-03-22T12:41:20.712Z"
   },
   {
    "duration": 36829,
    "start_time": "2022-03-22T12:41:20.718Z"
   },
   {
    "duration": 4,
    "start_time": "2022-03-22T12:41:57.549Z"
   },
   {
    "duration": 6,
    "start_time": "2022-03-22T12:41:57.554Z"
   },
   {
    "duration": 12,
    "start_time": "2022-03-22T12:41:57.562Z"
   },
   {
    "duration": 3,
    "start_time": "2022-03-22T12:41:57.575Z"
   },
   {
    "duration": 17512,
    "start_time": "2022-03-22T12:41:57.601Z"
   },
   {
    "duration": 4,
    "start_time": "2022-03-22T12:42:15.116Z"
   },
   {
    "duration": 159,
    "start_time": "2022-03-22T12:42:15.122Z"
   },
   {
    "duration": 22,
    "start_time": "2022-03-22T12:42:15.283Z"
   },
   {
    "duration": 188,
    "start_time": "2022-03-22T12:42:15.307Z"
   },
   {
    "duration": 13,
    "start_time": "2022-03-22T12:42:15.496Z"
   },
   {
    "duration": 406,
    "start_time": "2022-03-22T12:42:15.511Z"
   }
  ],
  "kernelspec": {
   "display_name": "Python 3",
   "language": "python",
   "name": "python3"
  },
  "language_info": {
   "codemirror_mode": {
    "name": "ipython",
    "version": 3
   },
   "file_extension": ".py",
   "mimetype": "text/x-python",
   "name": "python",
   "nbconvert_exporter": "python",
   "pygments_lexer": "ipython3",
   "version": "3.8.8"
  },
  "toc": {
   "base_numbering": 1,
   "nav_menu": {},
   "number_sections": true,
   "sideBar": true,
   "skip_h1_title": true,
   "title_cell": "Содержание",
   "title_sidebar": "Contents",
   "toc_cell": true,
   "toc_position": {
    "height": "calc(100% - 180px)",
    "left": "10px",
    "top": "150px",
    "width": "289.6px"
   },
   "toc_section_display": true,
   "toc_window_display": true
  }
 },
 "nbformat": 4,
 "nbformat_minor": 4
}
