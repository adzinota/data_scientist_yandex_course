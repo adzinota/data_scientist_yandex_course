{
 "cells": [
  {
   "cell_type": "markdown",
   "metadata": {},
   "source": [
    "# Восстановление золота из руды"
   ]
  },
  {
   "cell_type": "markdown",
   "metadata": {},
   "source": [
    "Подготовьте прототип модели машинного обучения для «Цифры». Компания разрабатывает решения для эффективной работы промышленных предприятий.\n",
    "\n",
    "Модель должна предсказать коэффициент восстановления золота из золотосодержащей руды. Используйте данные с параметрами добычи и очистки. \n",
    "\n",
    "Модель поможет оптимизировать производство, чтобы не запускать предприятие с убыточными характеристиками.\n",
    "\n",
    "Вам нужно:\n",
    "\n",
    "1. Подготовить данные;\n",
    "2. Провести исследовательский анализ данных;\n",
    "3. Построить и обучить модель.\n",
    "\n",
    "Чтобы выполнить проект, обращайтесь к библиотекам *pandas*, *matplotlib* и *sklearn.* Вам поможет их документация."
   ]
  },
  {
   "cell_type": "markdown",
   "metadata": {},
   "source": [
    "## Подготовка данных"
   ]
  },
  {
   "cell_type": "markdown",
   "metadata": {},
   "source": [
    "### Откройте файлы и изучите их"
   ]
  },
  {
   "cell_type": "markdown",
   "metadata": {},
   "source": [
    "Импортируем необходимые библиотеки"
   ]
  },
  {
   "cell_type": "code",
   "execution_count": 1,
   "metadata": {},
   "outputs": [],
   "source": [
    "import pandas as pd\n",
    "from sklearn.metrics import mean_absolute_error\n",
    "import seaborn as sns\n",
    "sns.set(rc={'figure.figsize':(15,7)})\n",
    "import matplotlib.pyplot as plt\n",
    "import numpy as np\n",
    "from sklearn.metrics import make_scorer\n",
    "import re\n",
    "from sklearn.preprocessing import StandardScaler\n",
    "from sklearn.tree import DecisionTreeRegressor\n",
    "from sklearn.ensemble import RandomForestRegressor\n",
    "from sklearn.model_selection import GridSearchCV\n",
    "import warnings\n",
    "warnings.filterwarnings('ignore')"
   ]
  },
  {
   "cell_type": "markdown",
   "metadata": {},
   "source": [
    "Прочитаем файлы в датафреймы"
   ]
  },
  {
   "cell_type": "code",
   "execution_count": 2,
   "metadata": {},
   "outputs": [],
   "source": [
    "df_train = pd.read_csv('/datasets/gold_recovery_train_new.csv')\n",
    "df_test = pd.read_csv('/datasets/gold_recovery_test_new.csv')\n",
    "df_full = pd.read_csv('/datasets/gold_recovery_full_new.csv')"
   ]
  },
  {
   "cell_type": "markdown",
   "metadata": {},
   "source": [
    "Посмотрим общую информацию о файлах и первые строки"
   ]
  },
  {
   "cell_type": "code",
   "execution_count": 3,
   "metadata": {
    "scrolled": true,
    "tags": []
   },
   "outputs": [
    {
     "name": "stdout",
     "output_type": "stream",
     "text": [
      "<class 'pandas.core.frame.DataFrame'>\n",
      "RangeIndex: 14149 entries, 0 to 14148\n",
      "Data columns (total 87 columns):\n",
      " #   Column                                              Non-Null Count  Dtype  \n",
      "---  ------                                              --------------  -----  \n",
      " 0   date                                                14149 non-null  object \n",
      " 1   final.output.concentrate_ag                         14148 non-null  float64\n",
      " 2   final.output.concentrate_pb                         14148 non-null  float64\n",
      " 3   final.output.concentrate_sol                        13938 non-null  float64\n",
      " 4   final.output.concentrate_au                         14149 non-null  float64\n",
      " 5   final.output.recovery                               14149 non-null  float64\n",
      " 6   final.output.tail_ag                                14149 non-null  float64\n",
      " 7   final.output.tail_pb                                14049 non-null  float64\n",
      " 8   final.output.tail_sol                               14144 non-null  float64\n",
      " 9   final.output.tail_au                                14149 non-null  float64\n",
      " 10  primary_cleaner.input.sulfate                       14129 non-null  float64\n",
      " 11  primary_cleaner.input.depressant                    14117 non-null  float64\n",
      " 12  primary_cleaner.input.feed_size                     14149 non-null  float64\n",
      " 13  primary_cleaner.input.xanthate                      14049 non-null  float64\n",
      " 14  primary_cleaner.output.concentrate_ag               14149 non-null  float64\n",
      " 15  primary_cleaner.output.concentrate_pb               14063 non-null  float64\n",
      " 16  primary_cleaner.output.concentrate_sol              13863 non-null  float64\n",
      " 17  primary_cleaner.output.concentrate_au               14149 non-null  float64\n",
      " 18  primary_cleaner.output.tail_ag                      14148 non-null  float64\n",
      " 19  primary_cleaner.output.tail_pb                      14134 non-null  float64\n",
      " 20  primary_cleaner.output.tail_sol                     14103 non-null  float64\n",
      " 21  primary_cleaner.output.tail_au                      14149 non-null  float64\n",
      " 22  primary_cleaner.state.floatbank8_a_air              14145 non-null  float64\n",
      " 23  primary_cleaner.state.floatbank8_a_level            14148 non-null  float64\n",
      " 24  primary_cleaner.state.floatbank8_b_air              14145 non-null  float64\n",
      " 25  primary_cleaner.state.floatbank8_b_level            14148 non-null  float64\n",
      " 26  primary_cleaner.state.floatbank8_c_air              14147 non-null  float64\n",
      " 27  primary_cleaner.state.floatbank8_c_level            14148 non-null  float64\n",
      " 28  primary_cleaner.state.floatbank8_d_air              14146 non-null  float64\n",
      " 29  primary_cleaner.state.floatbank8_d_level            14148 non-null  float64\n",
      " 30  rougher.calculation.sulfate_to_au_concentrate       14148 non-null  float64\n",
      " 31  rougher.calculation.floatbank10_sulfate_to_au_feed  14148 non-null  float64\n",
      " 32  rougher.calculation.floatbank11_sulfate_to_au_feed  14148 non-null  float64\n",
      " 33  rougher.calculation.au_pb_ratio                     14149 non-null  float64\n",
      " 34  rougher.input.feed_ag                               14149 non-null  float64\n",
      " 35  rougher.input.feed_pb                               14049 non-null  float64\n",
      " 36  rougher.input.feed_rate                             14141 non-null  float64\n",
      " 37  rougher.input.feed_size                             14005 non-null  float64\n",
      " 38  rougher.input.feed_sol                              14071 non-null  float64\n",
      " 39  rougher.input.feed_au                               14149 non-null  float64\n",
      " 40  rougher.input.floatbank10_sulfate                   14120 non-null  float64\n",
      " 41  rougher.input.floatbank10_xanthate                  14141 non-null  float64\n",
      " 42  rougher.input.floatbank11_sulfate                   14113 non-null  float64\n",
      " 43  rougher.input.floatbank11_xanthate                  13721 non-null  float64\n",
      " 44  rougher.output.concentrate_ag                       14149 non-null  float64\n",
      " 45  rougher.output.concentrate_pb                       14149 non-null  float64\n",
      " 46  rougher.output.concentrate_sol                      14127 non-null  float64\n",
      " 47  rougher.output.concentrate_au                       14149 non-null  float64\n",
      " 48  rougher.output.recovery                             14149 non-null  float64\n",
      " 49  rougher.output.tail_ag                              14148 non-null  float64\n",
      " 50  rougher.output.tail_pb                              14149 non-null  float64\n",
      " 51  rougher.output.tail_sol                             14149 non-null  float64\n",
      " 52  rougher.output.tail_au                              14149 non-null  float64\n",
      " 53  rougher.state.floatbank10_a_air                     14148 non-null  float64\n",
      " 54  rougher.state.floatbank10_a_level                   14148 non-null  float64\n",
      " 55  rougher.state.floatbank10_b_air                     14148 non-null  float64\n",
      " 56  rougher.state.floatbank10_b_level                   14148 non-null  float64\n",
      " 57  rougher.state.floatbank10_c_air                     14148 non-null  float64\n",
      " 58  rougher.state.floatbank10_c_level                   14148 non-null  float64\n",
      " 59  rougher.state.floatbank10_d_air                     14149 non-null  float64\n",
      " 60  rougher.state.floatbank10_d_level                   14149 non-null  float64\n",
      " 61  rougher.state.floatbank10_e_air                     13713 non-null  float64\n",
      " 62  rougher.state.floatbank10_e_level                   14149 non-null  float64\n",
      " 63  rougher.state.floatbank10_f_air                     14149 non-null  float64\n",
      " 64  rougher.state.floatbank10_f_level                   14149 non-null  float64\n",
      " 65  secondary_cleaner.output.tail_ag                    14147 non-null  float64\n",
      " 66  secondary_cleaner.output.tail_pb                    14139 non-null  float64\n",
      " 67  secondary_cleaner.output.tail_sol                   12544 non-null  float64\n",
      " 68  secondary_cleaner.output.tail_au                    14149 non-null  float64\n",
      " 69  secondary_cleaner.state.floatbank2_a_air            13932 non-null  float64\n",
      " 70  secondary_cleaner.state.floatbank2_a_level          14148 non-null  float64\n",
      " 71  secondary_cleaner.state.floatbank2_b_air            14128 non-null  float64\n",
      " 72  secondary_cleaner.state.floatbank2_b_level          14148 non-null  float64\n",
      " 73  secondary_cleaner.state.floatbank3_a_air            14145 non-null  float64\n",
      " 74  secondary_cleaner.state.floatbank3_a_level          14148 non-null  float64\n",
      " 75  secondary_cleaner.state.floatbank3_b_air            14148 non-null  float64\n",
      " 76  secondary_cleaner.state.floatbank3_b_level          14148 non-null  float64\n",
      " 77  secondary_cleaner.state.floatbank4_a_air            14143 non-null  float64\n",
      " 78  secondary_cleaner.state.floatbank4_a_level          14148 non-null  float64\n",
      " 79  secondary_cleaner.state.floatbank4_b_air            14148 non-null  float64\n",
      " 80  secondary_cleaner.state.floatbank4_b_level          14148 non-null  float64\n",
      " 81  secondary_cleaner.state.floatbank5_a_air            14148 non-null  float64\n",
      " 82  secondary_cleaner.state.floatbank5_a_level          14148 non-null  float64\n",
      " 83  secondary_cleaner.state.floatbank5_b_air            14148 non-null  float64\n",
      " 84  secondary_cleaner.state.floatbank5_b_level          14148 non-null  float64\n",
      " 85  secondary_cleaner.state.floatbank6_a_air            14147 non-null  float64\n",
      " 86  secondary_cleaner.state.floatbank6_a_level          14148 non-null  float64\n",
      "dtypes: float64(86), object(1)\n",
      "memory usage: 9.4+ MB\n"
     ]
    }
   ],
   "source": [
    "df_train.info()"
   ]
  },
  {
   "cell_type": "code",
   "execution_count": 4,
   "metadata": {
    "scrolled": true,
    "tags": []
   },
   "outputs": [
    {
     "name": "stdout",
     "output_type": "stream",
     "text": [
      "<class 'pandas.core.frame.DataFrame'>\n",
      "RangeIndex: 5290 entries, 0 to 5289\n",
      "Data columns (total 53 columns):\n",
      " #   Column                                      Non-Null Count  Dtype  \n",
      "---  ------                                      --------------  -----  \n",
      " 0   date                                        5290 non-null   object \n",
      " 1   primary_cleaner.input.sulfate               5286 non-null   float64\n",
      " 2   primary_cleaner.input.depressant            5285 non-null   float64\n",
      " 3   primary_cleaner.input.feed_size             5290 non-null   float64\n",
      " 4   primary_cleaner.input.xanthate              5286 non-null   float64\n",
      " 5   primary_cleaner.state.floatbank8_a_air      5290 non-null   float64\n",
      " 6   primary_cleaner.state.floatbank8_a_level    5290 non-null   float64\n",
      " 7   primary_cleaner.state.floatbank8_b_air      5290 non-null   float64\n",
      " 8   primary_cleaner.state.floatbank8_b_level    5290 non-null   float64\n",
      " 9   primary_cleaner.state.floatbank8_c_air      5290 non-null   float64\n",
      " 10  primary_cleaner.state.floatbank8_c_level    5290 non-null   float64\n",
      " 11  primary_cleaner.state.floatbank8_d_air      5290 non-null   float64\n",
      " 12  primary_cleaner.state.floatbank8_d_level    5290 non-null   float64\n",
      " 13  rougher.input.feed_ag                       5290 non-null   float64\n",
      " 14  rougher.input.feed_pb                       5290 non-null   float64\n",
      " 15  rougher.input.feed_rate                     5287 non-null   float64\n",
      " 16  rougher.input.feed_size                     5289 non-null   float64\n",
      " 17  rougher.input.feed_sol                      5269 non-null   float64\n",
      " 18  rougher.input.feed_au                       5290 non-null   float64\n",
      " 19  rougher.input.floatbank10_sulfate           5285 non-null   float64\n",
      " 20  rougher.input.floatbank10_xanthate          5290 non-null   float64\n",
      " 21  rougher.input.floatbank11_sulfate           5282 non-null   float64\n",
      " 22  rougher.input.floatbank11_xanthate          5265 non-null   float64\n",
      " 23  rougher.state.floatbank10_a_air             5290 non-null   float64\n",
      " 24  rougher.state.floatbank10_a_level           5290 non-null   float64\n",
      " 25  rougher.state.floatbank10_b_air             5290 non-null   float64\n",
      " 26  rougher.state.floatbank10_b_level           5290 non-null   float64\n",
      " 27  rougher.state.floatbank10_c_air             5290 non-null   float64\n",
      " 28  rougher.state.floatbank10_c_level           5290 non-null   float64\n",
      " 29  rougher.state.floatbank10_d_air             5290 non-null   float64\n",
      " 30  rougher.state.floatbank10_d_level           5290 non-null   float64\n",
      " 31  rougher.state.floatbank10_e_air             5290 non-null   float64\n",
      " 32  rougher.state.floatbank10_e_level           5290 non-null   float64\n",
      " 33  rougher.state.floatbank10_f_air             5290 non-null   float64\n",
      " 34  rougher.state.floatbank10_f_level           5290 non-null   float64\n",
      " 35  secondary_cleaner.state.floatbank2_a_air    5287 non-null   float64\n",
      " 36  secondary_cleaner.state.floatbank2_a_level  5290 non-null   float64\n",
      " 37  secondary_cleaner.state.floatbank2_b_air    5288 non-null   float64\n",
      " 38  secondary_cleaner.state.floatbank2_b_level  5290 non-null   float64\n",
      " 39  secondary_cleaner.state.floatbank3_a_air    5281 non-null   float64\n",
      " 40  secondary_cleaner.state.floatbank3_a_level  5290 non-null   float64\n",
      " 41  secondary_cleaner.state.floatbank3_b_air    5290 non-null   float64\n",
      " 42  secondary_cleaner.state.floatbank3_b_level  5290 non-null   float64\n",
      " 43  secondary_cleaner.state.floatbank4_a_air    5290 non-null   float64\n",
      " 44  secondary_cleaner.state.floatbank4_a_level  5290 non-null   float64\n",
      " 45  secondary_cleaner.state.floatbank4_b_air    5290 non-null   float64\n",
      " 46  secondary_cleaner.state.floatbank4_b_level  5290 non-null   float64\n",
      " 47  secondary_cleaner.state.floatbank5_a_air    5290 non-null   float64\n",
      " 48  secondary_cleaner.state.floatbank5_a_level  5290 non-null   float64\n",
      " 49  secondary_cleaner.state.floatbank5_b_air    5290 non-null   float64\n",
      " 50  secondary_cleaner.state.floatbank5_b_level  5290 non-null   float64\n",
      " 51  secondary_cleaner.state.floatbank6_a_air    5290 non-null   float64\n",
      " 52  secondary_cleaner.state.floatbank6_a_level  5290 non-null   float64\n",
      "dtypes: float64(52), object(1)\n",
      "memory usage: 2.1+ MB\n"
     ]
    }
   ],
   "source": [
    "df_test.info()"
   ]
  },
  {
   "cell_type": "code",
   "execution_count": 5,
   "metadata": {
    "scrolled": true,
    "tags": []
   },
   "outputs": [
    {
     "name": "stdout",
     "output_type": "stream",
     "text": [
      "<class 'pandas.core.frame.DataFrame'>\n",
      "RangeIndex: 19439 entries, 0 to 19438\n",
      "Data columns (total 87 columns):\n",
      " #   Column                                              Non-Null Count  Dtype  \n",
      "---  ------                                              --------------  -----  \n",
      " 0   date                                                19439 non-null  object \n",
      " 1   final.output.concentrate_ag                         19438 non-null  float64\n",
      " 2   final.output.concentrate_pb                         19438 non-null  float64\n",
      " 3   final.output.concentrate_sol                        19228 non-null  float64\n",
      " 4   final.output.concentrate_au                         19439 non-null  float64\n",
      " 5   final.output.recovery                               19439 non-null  float64\n",
      " 6   final.output.tail_ag                                19438 non-null  float64\n",
      " 7   final.output.tail_pb                                19338 non-null  float64\n",
      " 8   final.output.tail_sol                               19433 non-null  float64\n",
      " 9   final.output.tail_au                                19439 non-null  float64\n",
      " 10  primary_cleaner.input.sulfate                       19415 non-null  float64\n",
      " 11  primary_cleaner.input.depressant                    19402 non-null  float64\n",
      " 12  primary_cleaner.input.feed_size                     19439 non-null  float64\n",
      " 13  primary_cleaner.input.xanthate                      19335 non-null  float64\n",
      " 14  primary_cleaner.output.concentrate_ag               19439 non-null  float64\n",
      " 15  primary_cleaner.output.concentrate_pb               19323 non-null  float64\n",
      " 16  primary_cleaner.output.concentrate_sol              19069 non-null  float64\n",
      " 17  primary_cleaner.output.concentrate_au               19439 non-null  float64\n",
      " 18  primary_cleaner.output.tail_ag                      19435 non-null  float64\n",
      " 19  primary_cleaner.output.tail_pb                      19418 non-null  float64\n",
      " 20  primary_cleaner.output.tail_sol                     19377 non-null  float64\n",
      " 21  primary_cleaner.output.tail_au                      19439 non-null  float64\n",
      " 22  primary_cleaner.state.floatbank8_a_air              19435 non-null  float64\n",
      " 23  primary_cleaner.state.floatbank8_a_level            19438 non-null  float64\n",
      " 24  primary_cleaner.state.floatbank8_b_air              19435 non-null  float64\n",
      " 25  primary_cleaner.state.floatbank8_b_level            19438 non-null  float64\n",
      " 26  primary_cleaner.state.floatbank8_c_air              19437 non-null  float64\n",
      " 27  primary_cleaner.state.floatbank8_c_level            19438 non-null  float64\n",
      " 28  primary_cleaner.state.floatbank8_d_air              19436 non-null  float64\n",
      " 29  primary_cleaner.state.floatbank8_d_level            19438 non-null  float64\n",
      " 30  rougher.calculation.sulfate_to_au_concentrate       19437 non-null  float64\n",
      " 31  rougher.calculation.floatbank10_sulfate_to_au_feed  19437 non-null  float64\n",
      " 32  rougher.calculation.floatbank11_sulfate_to_au_feed  19437 non-null  float64\n",
      " 33  rougher.calculation.au_pb_ratio                     19439 non-null  float64\n",
      " 34  rougher.input.feed_ag                               19439 non-null  float64\n",
      " 35  rougher.input.feed_pb                               19339 non-null  float64\n",
      " 36  rougher.input.feed_rate                             19428 non-null  float64\n",
      " 37  rougher.input.feed_size                             19294 non-null  float64\n",
      " 38  rougher.input.feed_sol                              19340 non-null  float64\n",
      " 39  rougher.input.feed_au                               19439 non-null  float64\n",
      " 40  rougher.input.floatbank10_sulfate                   19405 non-null  float64\n",
      " 41  rougher.input.floatbank10_xanthate                  19431 non-null  float64\n",
      " 42  rougher.input.floatbank11_sulfate                   19395 non-null  float64\n",
      " 43  rougher.input.floatbank11_xanthate                  18986 non-null  float64\n",
      " 44  rougher.output.concentrate_ag                       19439 non-null  float64\n",
      " 45  rougher.output.concentrate_pb                       19439 non-null  float64\n",
      " 46  rougher.output.concentrate_sol                      19416 non-null  float64\n",
      " 47  rougher.output.concentrate_au                       19439 non-null  float64\n",
      " 48  rougher.output.recovery                             19439 non-null  float64\n",
      " 49  rougher.output.tail_ag                              19438 non-null  float64\n",
      " 50  rougher.output.tail_pb                              19439 non-null  float64\n",
      " 51  rougher.output.tail_sol                             19439 non-null  float64\n",
      " 52  rougher.output.tail_au                              19439 non-null  float64\n",
      " 53  rougher.state.floatbank10_a_air                     19438 non-null  float64\n",
      " 54  rougher.state.floatbank10_a_level                   19438 non-null  float64\n",
      " 55  rougher.state.floatbank10_b_air                     19438 non-null  float64\n",
      " 56  rougher.state.floatbank10_b_level                   19438 non-null  float64\n",
      " 57  rougher.state.floatbank10_c_air                     19438 non-null  float64\n",
      " 58  rougher.state.floatbank10_c_level                   19438 non-null  float64\n",
      " 59  rougher.state.floatbank10_d_air                     19439 non-null  float64\n",
      " 60  rougher.state.floatbank10_d_level                   19439 non-null  float64\n",
      " 61  rougher.state.floatbank10_e_air                     19003 non-null  float64\n",
      " 62  rougher.state.floatbank10_e_level                   19439 non-null  float64\n",
      " 63  rougher.state.floatbank10_f_air                     19439 non-null  float64\n",
      " 64  rougher.state.floatbank10_f_level                   19439 non-null  float64\n",
      " 65  secondary_cleaner.output.tail_ag                    19437 non-null  float64\n",
      " 66  secondary_cleaner.output.tail_pb                    19427 non-null  float64\n",
      " 67  secondary_cleaner.output.tail_sol                   17691 non-null  float64\n",
      " 68  secondary_cleaner.output.tail_au                    19439 non-null  float64\n",
      " 69  secondary_cleaner.state.floatbank2_a_air            19219 non-null  float64\n",
      " 70  secondary_cleaner.state.floatbank2_a_level          19438 non-null  float64\n",
      " 71  secondary_cleaner.state.floatbank2_b_air            19416 non-null  float64\n",
      " 72  secondary_cleaner.state.floatbank2_b_level          19438 non-null  float64\n",
      " 73  secondary_cleaner.state.floatbank3_a_air            19426 non-null  float64\n",
      " 74  secondary_cleaner.state.floatbank3_a_level          19438 non-null  float64\n",
      " 75  secondary_cleaner.state.floatbank3_b_air            19438 non-null  float64\n",
      " 76  secondary_cleaner.state.floatbank3_b_level          19438 non-null  float64\n",
      " 77  secondary_cleaner.state.floatbank4_a_air            19433 non-null  float64\n",
      " 78  secondary_cleaner.state.floatbank4_a_level          19438 non-null  float64\n",
      " 79  secondary_cleaner.state.floatbank4_b_air            19438 non-null  float64\n",
      " 80  secondary_cleaner.state.floatbank4_b_level          19438 non-null  float64\n",
      " 81  secondary_cleaner.state.floatbank5_a_air            19438 non-null  float64\n",
      " 82  secondary_cleaner.state.floatbank5_a_level          19438 non-null  float64\n",
      " 83  secondary_cleaner.state.floatbank5_b_air            19438 non-null  float64\n",
      " 84  secondary_cleaner.state.floatbank5_b_level          19438 non-null  float64\n",
      " 85  secondary_cleaner.state.floatbank6_a_air            19437 non-null  float64\n",
      " 86  secondary_cleaner.state.floatbank6_a_level          19438 non-null  float64\n",
      "dtypes: float64(86), object(1)\n",
      "memory usage: 12.9+ MB\n"
     ]
    }
   ],
   "source": [
    "df_full.info()"
   ]
  },
  {
   "cell_type": "code",
   "execution_count": 6,
   "metadata": {},
   "outputs": [
    {
     "data": {
      "text/html": [
       "<div>\n",
       "<style scoped>\n",
       "    .dataframe tbody tr th:only-of-type {\n",
       "        vertical-align: middle;\n",
       "    }\n",
       "\n",
       "    .dataframe tbody tr th {\n",
       "        vertical-align: top;\n",
       "    }\n",
       "\n",
       "    .dataframe thead th {\n",
       "        text-align: right;\n",
       "    }\n",
       "</style>\n",
       "<table border=\"1\" class=\"dataframe\">\n",
       "  <thead>\n",
       "    <tr style=\"text-align: right;\">\n",
       "      <th></th>\n",
       "      <th>date</th>\n",
       "      <th>final.output.concentrate_ag</th>\n",
       "      <th>final.output.concentrate_pb</th>\n",
       "      <th>final.output.concentrate_sol</th>\n",
       "      <th>final.output.concentrate_au</th>\n",
       "      <th>final.output.recovery</th>\n",
       "      <th>final.output.tail_ag</th>\n",
       "      <th>final.output.tail_pb</th>\n",
       "      <th>final.output.tail_sol</th>\n",
       "      <th>final.output.tail_au</th>\n",
       "      <th>...</th>\n",
       "      <th>secondary_cleaner.state.floatbank4_a_air</th>\n",
       "      <th>secondary_cleaner.state.floatbank4_a_level</th>\n",
       "      <th>secondary_cleaner.state.floatbank4_b_air</th>\n",
       "      <th>secondary_cleaner.state.floatbank4_b_level</th>\n",
       "      <th>secondary_cleaner.state.floatbank5_a_air</th>\n",
       "      <th>secondary_cleaner.state.floatbank5_a_level</th>\n",
       "      <th>secondary_cleaner.state.floatbank5_b_air</th>\n",
       "      <th>secondary_cleaner.state.floatbank5_b_level</th>\n",
       "      <th>secondary_cleaner.state.floatbank6_a_air</th>\n",
       "      <th>secondary_cleaner.state.floatbank6_a_level</th>\n",
       "    </tr>\n",
       "  </thead>\n",
       "  <tbody>\n",
       "    <tr>\n",
       "      <th>0</th>\n",
       "      <td>2016-01-15 00:00:00</td>\n",
       "      <td>6.055403</td>\n",
       "      <td>9.889648</td>\n",
       "      <td>5.507324</td>\n",
       "      <td>42.192020</td>\n",
       "      <td>70.541216</td>\n",
       "      <td>10.411962</td>\n",
       "      <td>0.895447</td>\n",
       "      <td>16.904297</td>\n",
       "      <td>2.143149</td>\n",
       "      <td>...</td>\n",
       "      <td>14.016835</td>\n",
       "      <td>-502.488007</td>\n",
       "      <td>12.099931</td>\n",
       "      <td>-504.715942</td>\n",
       "      <td>9.925633</td>\n",
       "      <td>-498.310211</td>\n",
       "      <td>8.079666</td>\n",
       "      <td>-500.470978</td>\n",
       "      <td>14.151341</td>\n",
       "      <td>-605.841980</td>\n",
       "    </tr>\n",
       "    <tr>\n",
       "      <th>1</th>\n",
       "      <td>2016-01-15 01:00:00</td>\n",
       "      <td>6.029369</td>\n",
       "      <td>9.968944</td>\n",
       "      <td>5.257781</td>\n",
       "      <td>42.701629</td>\n",
       "      <td>69.266198</td>\n",
       "      <td>10.462676</td>\n",
       "      <td>0.927452</td>\n",
       "      <td>16.634514</td>\n",
       "      <td>2.224930</td>\n",
       "      <td>...</td>\n",
       "      <td>13.992281</td>\n",
       "      <td>-505.503262</td>\n",
       "      <td>11.950531</td>\n",
       "      <td>-501.331529</td>\n",
       "      <td>10.039245</td>\n",
       "      <td>-500.169983</td>\n",
       "      <td>7.984757</td>\n",
       "      <td>-500.582168</td>\n",
       "      <td>13.998353</td>\n",
       "      <td>-599.787184</td>\n",
       "    </tr>\n",
       "    <tr>\n",
       "      <th>2</th>\n",
       "      <td>2016-01-15 02:00:00</td>\n",
       "      <td>6.055926</td>\n",
       "      <td>10.213995</td>\n",
       "      <td>5.383759</td>\n",
       "      <td>42.657501</td>\n",
       "      <td>68.116445</td>\n",
       "      <td>10.507046</td>\n",
       "      <td>0.953716</td>\n",
       "      <td>16.208849</td>\n",
       "      <td>2.257889</td>\n",
       "      <td>...</td>\n",
       "      <td>14.015015</td>\n",
       "      <td>-502.520901</td>\n",
       "      <td>11.912783</td>\n",
       "      <td>-501.133383</td>\n",
       "      <td>10.070913</td>\n",
       "      <td>-500.129135</td>\n",
       "      <td>8.013877</td>\n",
       "      <td>-500.517572</td>\n",
       "      <td>14.028663</td>\n",
       "      <td>-601.427363</td>\n",
       "    </tr>\n",
       "    <tr>\n",
       "      <th>3</th>\n",
       "      <td>2016-01-15 03:00:00</td>\n",
       "      <td>6.047977</td>\n",
       "      <td>9.977019</td>\n",
       "      <td>4.858634</td>\n",
       "      <td>42.689819</td>\n",
       "      <td>68.347543</td>\n",
       "      <td>10.422762</td>\n",
       "      <td>0.883763</td>\n",
       "      <td>16.532835</td>\n",
       "      <td>2.146849</td>\n",
       "      <td>...</td>\n",
       "      <td>14.036510</td>\n",
       "      <td>-500.857308</td>\n",
       "      <td>11.999550</td>\n",
       "      <td>-501.193686</td>\n",
       "      <td>9.970366</td>\n",
       "      <td>-499.201640</td>\n",
       "      <td>7.977324</td>\n",
       "      <td>-500.255908</td>\n",
       "      <td>14.005551</td>\n",
       "      <td>-599.996129</td>\n",
       "    </tr>\n",
       "    <tr>\n",
       "      <th>4</th>\n",
       "      <td>2016-01-15 04:00:00</td>\n",
       "      <td>6.148599</td>\n",
       "      <td>10.142511</td>\n",
       "      <td>4.939416</td>\n",
       "      <td>42.774141</td>\n",
       "      <td>66.927016</td>\n",
       "      <td>10.360302</td>\n",
       "      <td>0.792826</td>\n",
       "      <td>16.525686</td>\n",
       "      <td>2.055292</td>\n",
       "      <td>...</td>\n",
       "      <td>14.027298</td>\n",
       "      <td>-499.838632</td>\n",
       "      <td>11.953070</td>\n",
       "      <td>-501.053894</td>\n",
       "      <td>9.925709</td>\n",
       "      <td>-501.686727</td>\n",
       "      <td>7.894242</td>\n",
       "      <td>-500.356035</td>\n",
       "      <td>13.996647</td>\n",
       "      <td>-601.496691</td>\n",
       "    </tr>\n",
       "  </tbody>\n",
       "</table>\n",
       "<p>5 rows × 87 columns</p>\n",
       "</div>"
      ],
      "text/plain": [
       "                  date  final.output.concentrate_ag  \\\n",
       "0  2016-01-15 00:00:00                     6.055403   \n",
       "1  2016-01-15 01:00:00                     6.029369   \n",
       "2  2016-01-15 02:00:00                     6.055926   \n",
       "3  2016-01-15 03:00:00                     6.047977   \n",
       "4  2016-01-15 04:00:00                     6.148599   \n",
       "\n",
       "   final.output.concentrate_pb  final.output.concentrate_sol  \\\n",
       "0                     9.889648                      5.507324   \n",
       "1                     9.968944                      5.257781   \n",
       "2                    10.213995                      5.383759   \n",
       "3                     9.977019                      4.858634   \n",
       "4                    10.142511                      4.939416   \n",
       "\n",
       "   final.output.concentrate_au  final.output.recovery  final.output.tail_ag  \\\n",
       "0                    42.192020              70.541216             10.411962   \n",
       "1                    42.701629              69.266198             10.462676   \n",
       "2                    42.657501              68.116445             10.507046   \n",
       "3                    42.689819              68.347543             10.422762   \n",
       "4                    42.774141              66.927016             10.360302   \n",
       "\n",
       "   final.output.tail_pb  final.output.tail_sol  final.output.tail_au  ...  \\\n",
       "0              0.895447              16.904297              2.143149  ...   \n",
       "1              0.927452              16.634514              2.224930  ...   \n",
       "2              0.953716              16.208849              2.257889  ...   \n",
       "3              0.883763              16.532835              2.146849  ...   \n",
       "4              0.792826              16.525686              2.055292  ...   \n",
       "\n",
       "   secondary_cleaner.state.floatbank4_a_air  \\\n",
       "0                                 14.016835   \n",
       "1                                 13.992281   \n",
       "2                                 14.015015   \n",
       "3                                 14.036510   \n",
       "4                                 14.027298   \n",
       "\n",
       "   secondary_cleaner.state.floatbank4_a_level  \\\n",
       "0                                 -502.488007   \n",
       "1                                 -505.503262   \n",
       "2                                 -502.520901   \n",
       "3                                 -500.857308   \n",
       "4                                 -499.838632   \n",
       "\n",
       "   secondary_cleaner.state.floatbank4_b_air  \\\n",
       "0                                 12.099931   \n",
       "1                                 11.950531   \n",
       "2                                 11.912783   \n",
       "3                                 11.999550   \n",
       "4                                 11.953070   \n",
       "\n",
       "   secondary_cleaner.state.floatbank4_b_level  \\\n",
       "0                                 -504.715942   \n",
       "1                                 -501.331529   \n",
       "2                                 -501.133383   \n",
       "3                                 -501.193686   \n",
       "4                                 -501.053894   \n",
       "\n",
       "   secondary_cleaner.state.floatbank5_a_air  \\\n",
       "0                                  9.925633   \n",
       "1                                 10.039245   \n",
       "2                                 10.070913   \n",
       "3                                  9.970366   \n",
       "4                                  9.925709   \n",
       "\n",
       "   secondary_cleaner.state.floatbank5_a_level  \\\n",
       "0                                 -498.310211   \n",
       "1                                 -500.169983   \n",
       "2                                 -500.129135   \n",
       "3                                 -499.201640   \n",
       "4                                 -501.686727   \n",
       "\n",
       "   secondary_cleaner.state.floatbank5_b_air  \\\n",
       "0                                  8.079666   \n",
       "1                                  7.984757   \n",
       "2                                  8.013877   \n",
       "3                                  7.977324   \n",
       "4                                  7.894242   \n",
       "\n",
       "   secondary_cleaner.state.floatbank5_b_level  \\\n",
       "0                                 -500.470978   \n",
       "1                                 -500.582168   \n",
       "2                                 -500.517572   \n",
       "3                                 -500.255908   \n",
       "4                                 -500.356035   \n",
       "\n",
       "   secondary_cleaner.state.floatbank6_a_air  \\\n",
       "0                                 14.151341   \n",
       "1                                 13.998353   \n",
       "2                                 14.028663   \n",
       "3                                 14.005551   \n",
       "4                                 13.996647   \n",
       "\n",
       "   secondary_cleaner.state.floatbank6_a_level  \n",
       "0                                 -605.841980  \n",
       "1                                 -599.787184  \n",
       "2                                 -601.427363  \n",
       "3                                 -599.996129  \n",
       "4                                 -601.496691  \n",
       "\n",
       "[5 rows x 87 columns]"
      ]
     },
     "execution_count": 6,
     "metadata": {},
     "output_type": "execute_result"
    }
   ],
   "source": [
    "df_train.head()"
   ]
  },
  {
   "cell_type": "code",
   "execution_count": 7,
   "metadata": {},
   "outputs": [
    {
     "data": {
      "text/html": [
       "<div>\n",
       "<style scoped>\n",
       "    .dataframe tbody tr th:only-of-type {\n",
       "        vertical-align: middle;\n",
       "    }\n",
       "\n",
       "    .dataframe tbody tr th {\n",
       "        vertical-align: top;\n",
       "    }\n",
       "\n",
       "    .dataframe thead th {\n",
       "        text-align: right;\n",
       "    }\n",
       "</style>\n",
       "<table border=\"1\" class=\"dataframe\">\n",
       "  <thead>\n",
       "    <tr style=\"text-align: right;\">\n",
       "      <th></th>\n",
       "      <th>date</th>\n",
       "      <th>primary_cleaner.input.sulfate</th>\n",
       "      <th>primary_cleaner.input.depressant</th>\n",
       "      <th>primary_cleaner.input.feed_size</th>\n",
       "      <th>primary_cleaner.input.xanthate</th>\n",
       "      <th>primary_cleaner.state.floatbank8_a_air</th>\n",
       "      <th>primary_cleaner.state.floatbank8_a_level</th>\n",
       "      <th>primary_cleaner.state.floatbank8_b_air</th>\n",
       "      <th>primary_cleaner.state.floatbank8_b_level</th>\n",
       "      <th>primary_cleaner.state.floatbank8_c_air</th>\n",
       "      <th>...</th>\n",
       "      <th>secondary_cleaner.state.floatbank4_a_air</th>\n",
       "      <th>secondary_cleaner.state.floatbank4_a_level</th>\n",
       "      <th>secondary_cleaner.state.floatbank4_b_air</th>\n",
       "      <th>secondary_cleaner.state.floatbank4_b_level</th>\n",
       "      <th>secondary_cleaner.state.floatbank5_a_air</th>\n",
       "      <th>secondary_cleaner.state.floatbank5_a_level</th>\n",
       "      <th>secondary_cleaner.state.floatbank5_b_air</th>\n",
       "      <th>secondary_cleaner.state.floatbank5_b_level</th>\n",
       "      <th>secondary_cleaner.state.floatbank6_a_air</th>\n",
       "      <th>secondary_cleaner.state.floatbank6_a_level</th>\n",
       "    </tr>\n",
       "  </thead>\n",
       "  <tbody>\n",
       "    <tr>\n",
       "      <th>0</th>\n",
       "      <td>2016-09-01 00:59:59</td>\n",
       "      <td>210.800909</td>\n",
       "      <td>14.993118</td>\n",
       "      <td>8.080000</td>\n",
       "      <td>1.005021</td>\n",
       "      <td>1398.981301</td>\n",
       "      <td>-500.225577</td>\n",
       "      <td>1399.144926</td>\n",
       "      <td>-499.919735</td>\n",
       "      <td>1400.102998</td>\n",
       "      <td>...</td>\n",
       "      <td>12.023554</td>\n",
       "      <td>-497.795834</td>\n",
       "      <td>8.016656</td>\n",
       "      <td>-501.289139</td>\n",
       "      <td>7.946562</td>\n",
       "      <td>-432.317850</td>\n",
       "      <td>4.872511</td>\n",
       "      <td>-500.037437</td>\n",
       "      <td>26.705889</td>\n",
       "      <td>-499.709414</td>\n",
       "    </tr>\n",
       "    <tr>\n",
       "      <th>1</th>\n",
       "      <td>2016-09-01 01:59:59</td>\n",
       "      <td>215.392455</td>\n",
       "      <td>14.987471</td>\n",
       "      <td>8.080000</td>\n",
       "      <td>0.990469</td>\n",
       "      <td>1398.777912</td>\n",
       "      <td>-500.057435</td>\n",
       "      <td>1398.055362</td>\n",
       "      <td>-499.778182</td>\n",
       "      <td>1396.151033</td>\n",
       "      <td>...</td>\n",
       "      <td>12.058140</td>\n",
       "      <td>-498.695773</td>\n",
       "      <td>8.130979</td>\n",
       "      <td>-499.634209</td>\n",
       "      <td>7.958270</td>\n",
       "      <td>-525.839648</td>\n",
       "      <td>4.878850</td>\n",
       "      <td>-500.162375</td>\n",
       "      <td>25.019940</td>\n",
       "      <td>-499.819438</td>\n",
       "    </tr>\n",
       "    <tr>\n",
       "      <th>2</th>\n",
       "      <td>2016-09-01 02:59:59</td>\n",
       "      <td>215.259946</td>\n",
       "      <td>12.884934</td>\n",
       "      <td>7.786667</td>\n",
       "      <td>0.996043</td>\n",
       "      <td>1398.493666</td>\n",
       "      <td>-500.868360</td>\n",
       "      <td>1398.860436</td>\n",
       "      <td>-499.764529</td>\n",
       "      <td>1398.075709</td>\n",
       "      <td>...</td>\n",
       "      <td>11.962366</td>\n",
       "      <td>-498.767484</td>\n",
       "      <td>8.096893</td>\n",
       "      <td>-500.827423</td>\n",
       "      <td>8.071056</td>\n",
       "      <td>-500.801673</td>\n",
       "      <td>4.905125</td>\n",
       "      <td>-499.828510</td>\n",
       "      <td>24.994862</td>\n",
       "      <td>-500.622559</td>\n",
       "    </tr>\n",
       "    <tr>\n",
       "      <th>3</th>\n",
       "      <td>2016-09-01 03:59:59</td>\n",
       "      <td>215.336236</td>\n",
       "      <td>12.006805</td>\n",
       "      <td>7.640000</td>\n",
       "      <td>0.863514</td>\n",
       "      <td>1399.618111</td>\n",
       "      <td>-498.863574</td>\n",
       "      <td>1397.440120</td>\n",
       "      <td>-499.211024</td>\n",
       "      <td>1400.129303</td>\n",
       "      <td>...</td>\n",
       "      <td>12.033091</td>\n",
       "      <td>-498.350935</td>\n",
       "      <td>8.074946</td>\n",
       "      <td>-499.474407</td>\n",
       "      <td>7.897085</td>\n",
       "      <td>-500.868509</td>\n",
       "      <td>4.931400</td>\n",
       "      <td>-499.963623</td>\n",
       "      <td>24.948919</td>\n",
       "      <td>-498.709987</td>\n",
       "    </tr>\n",
       "    <tr>\n",
       "      <th>4</th>\n",
       "      <td>2016-09-01 04:59:59</td>\n",
       "      <td>199.099327</td>\n",
       "      <td>10.682530</td>\n",
       "      <td>7.530000</td>\n",
       "      <td>0.805575</td>\n",
       "      <td>1401.268123</td>\n",
       "      <td>-500.808305</td>\n",
       "      <td>1398.128818</td>\n",
       "      <td>-499.504543</td>\n",
       "      <td>1402.172226</td>\n",
       "      <td>...</td>\n",
       "      <td>12.025367</td>\n",
       "      <td>-500.786497</td>\n",
       "      <td>8.054678</td>\n",
       "      <td>-500.397500</td>\n",
       "      <td>8.107890</td>\n",
       "      <td>-509.526725</td>\n",
       "      <td>4.957674</td>\n",
       "      <td>-500.360026</td>\n",
       "      <td>25.003331</td>\n",
       "      <td>-500.856333</td>\n",
       "    </tr>\n",
       "  </tbody>\n",
       "</table>\n",
       "<p>5 rows × 53 columns</p>\n",
       "</div>"
      ],
      "text/plain": [
       "                  date  primary_cleaner.input.sulfate  \\\n",
       "0  2016-09-01 00:59:59                     210.800909   \n",
       "1  2016-09-01 01:59:59                     215.392455   \n",
       "2  2016-09-01 02:59:59                     215.259946   \n",
       "3  2016-09-01 03:59:59                     215.336236   \n",
       "4  2016-09-01 04:59:59                     199.099327   \n",
       "\n",
       "   primary_cleaner.input.depressant  primary_cleaner.input.feed_size  \\\n",
       "0                         14.993118                         8.080000   \n",
       "1                         14.987471                         8.080000   \n",
       "2                         12.884934                         7.786667   \n",
       "3                         12.006805                         7.640000   \n",
       "4                         10.682530                         7.530000   \n",
       "\n",
       "   primary_cleaner.input.xanthate  primary_cleaner.state.floatbank8_a_air  \\\n",
       "0                        1.005021                             1398.981301   \n",
       "1                        0.990469                             1398.777912   \n",
       "2                        0.996043                             1398.493666   \n",
       "3                        0.863514                             1399.618111   \n",
       "4                        0.805575                             1401.268123   \n",
       "\n",
       "   primary_cleaner.state.floatbank8_a_level  \\\n",
       "0                               -500.225577   \n",
       "1                               -500.057435   \n",
       "2                               -500.868360   \n",
       "3                               -498.863574   \n",
       "4                               -500.808305   \n",
       "\n",
       "   primary_cleaner.state.floatbank8_b_air  \\\n",
       "0                             1399.144926   \n",
       "1                             1398.055362   \n",
       "2                             1398.860436   \n",
       "3                             1397.440120   \n",
       "4                             1398.128818   \n",
       "\n",
       "   primary_cleaner.state.floatbank8_b_level  \\\n",
       "0                               -499.919735   \n",
       "1                               -499.778182   \n",
       "2                               -499.764529   \n",
       "3                               -499.211024   \n",
       "4                               -499.504543   \n",
       "\n",
       "   primary_cleaner.state.floatbank8_c_air  ...  \\\n",
       "0                             1400.102998  ...   \n",
       "1                             1396.151033  ...   \n",
       "2                             1398.075709  ...   \n",
       "3                             1400.129303  ...   \n",
       "4                             1402.172226  ...   \n",
       "\n",
       "   secondary_cleaner.state.floatbank4_a_air  \\\n",
       "0                                 12.023554   \n",
       "1                                 12.058140   \n",
       "2                                 11.962366   \n",
       "3                                 12.033091   \n",
       "4                                 12.025367   \n",
       "\n",
       "   secondary_cleaner.state.floatbank4_a_level  \\\n",
       "0                                 -497.795834   \n",
       "1                                 -498.695773   \n",
       "2                                 -498.767484   \n",
       "3                                 -498.350935   \n",
       "4                                 -500.786497   \n",
       "\n",
       "   secondary_cleaner.state.floatbank4_b_air  \\\n",
       "0                                  8.016656   \n",
       "1                                  8.130979   \n",
       "2                                  8.096893   \n",
       "3                                  8.074946   \n",
       "4                                  8.054678   \n",
       "\n",
       "   secondary_cleaner.state.floatbank4_b_level  \\\n",
       "0                                 -501.289139   \n",
       "1                                 -499.634209   \n",
       "2                                 -500.827423   \n",
       "3                                 -499.474407   \n",
       "4                                 -500.397500   \n",
       "\n",
       "   secondary_cleaner.state.floatbank5_a_air  \\\n",
       "0                                  7.946562   \n",
       "1                                  7.958270   \n",
       "2                                  8.071056   \n",
       "3                                  7.897085   \n",
       "4                                  8.107890   \n",
       "\n",
       "   secondary_cleaner.state.floatbank5_a_level  \\\n",
       "0                                 -432.317850   \n",
       "1                                 -525.839648   \n",
       "2                                 -500.801673   \n",
       "3                                 -500.868509   \n",
       "4                                 -509.526725   \n",
       "\n",
       "   secondary_cleaner.state.floatbank5_b_air  \\\n",
       "0                                  4.872511   \n",
       "1                                  4.878850   \n",
       "2                                  4.905125   \n",
       "3                                  4.931400   \n",
       "4                                  4.957674   \n",
       "\n",
       "   secondary_cleaner.state.floatbank5_b_level  \\\n",
       "0                                 -500.037437   \n",
       "1                                 -500.162375   \n",
       "2                                 -499.828510   \n",
       "3                                 -499.963623   \n",
       "4                                 -500.360026   \n",
       "\n",
       "   secondary_cleaner.state.floatbank6_a_air  \\\n",
       "0                                 26.705889   \n",
       "1                                 25.019940   \n",
       "2                                 24.994862   \n",
       "3                                 24.948919   \n",
       "4                                 25.003331   \n",
       "\n",
       "   secondary_cleaner.state.floatbank6_a_level  \n",
       "0                                 -499.709414  \n",
       "1                                 -499.819438  \n",
       "2                                 -500.622559  \n",
       "3                                 -498.709987  \n",
       "4                                 -500.856333  \n",
       "\n",
       "[5 rows x 53 columns]"
      ]
     },
     "execution_count": 7,
     "metadata": {},
     "output_type": "execute_result"
    }
   ],
   "source": [
    "df_test.head()"
   ]
  },
  {
   "cell_type": "code",
   "execution_count": 8,
   "metadata": {},
   "outputs": [
    {
     "data": {
      "text/html": [
       "<div>\n",
       "<style scoped>\n",
       "    .dataframe tbody tr th:only-of-type {\n",
       "        vertical-align: middle;\n",
       "    }\n",
       "\n",
       "    .dataframe tbody tr th {\n",
       "        vertical-align: top;\n",
       "    }\n",
       "\n",
       "    .dataframe thead th {\n",
       "        text-align: right;\n",
       "    }\n",
       "</style>\n",
       "<table border=\"1\" class=\"dataframe\">\n",
       "  <thead>\n",
       "    <tr style=\"text-align: right;\">\n",
       "      <th></th>\n",
       "      <th>date</th>\n",
       "      <th>final.output.concentrate_ag</th>\n",
       "      <th>final.output.concentrate_pb</th>\n",
       "      <th>final.output.concentrate_sol</th>\n",
       "      <th>final.output.concentrate_au</th>\n",
       "      <th>final.output.recovery</th>\n",
       "      <th>final.output.tail_ag</th>\n",
       "      <th>final.output.tail_pb</th>\n",
       "      <th>final.output.tail_sol</th>\n",
       "      <th>final.output.tail_au</th>\n",
       "      <th>...</th>\n",
       "      <th>secondary_cleaner.state.floatbank4_a_air</th>\n",
       "      <th>secondary_cleaner.state.floatbank4_a_level</th>\n",
       "      <th>secondary_cleaner.state.floatbank4_b_air</th>\n",
       "      <th>secondary_cleaner.state.floatbank4_b_level</th>\n",
       "      <th>secondary_cleaner.state.floatbank5_a_air</th>\n",
       "      <th>secondary_cleaner.state.floatbank5_a_level</th>\n",
       "      <th>secondary_cleaner.state.floatbank5_b_air</th>\n",
       "      <th>secondary_cleaner.state.floatbank5_b_level</th>\n",
       "      <th>secondary_cleaner.state.floatbank6_a_air</th>\n",
       "      <th>secondary_cleaner.state.floatbank6_a_level</th>\n",
       "    </tr>\n",
       "  </thead>\n",
       "  <tbody>\n",
       "    <tr>\n",
       "      <th>0</th>\n",
       "      <td>2016-01-15 00:00:00</td>\n",
       "      <td>6.055403</td>\n",
       "      <td>9.889648</td>\n",
       "      <td>5.507324</td>\n",
       "      <td>42.192020</td>\n",
       "      <td>70.541216</td>\n",
       "      <td>10.411962</td>\n",
       "      <td>0.895447</td>\n",
       "      <td>16.904297</td>\n",
       "      <td>2.143149</td>\n",
       "      <td>...</td>\n",
       "      <td>14.016835</td>\n",
       "      <td>-502.488007</td>\n",
       "      <td>12.099931</td>\n",
       "      <td>-504.715942</td>\n",
       "      <td>9.925633</td>\n",
       "      <td>-498.310211</td>\n",
       "      <td>8.079666</td>\n",
       "      <td>-500.470978</td>\n",
       "      <td>14.151341</td>\n",
       "      <td>-605.841980</td>\n",
       "    </tr>\n",
       "    <tr>\n",
       "      <th>1</th>\n",
       "      <td>2016-01-15 01:00:00</td>\n",
       "      <td>6.029369</td>\n",
       "      <td>9.968944</td>\n",
       "      <td>5.257781</td>\n",
       "      <td>42.701629</td>\n",
       "      <td>69.266198</td>\n",
       "      <td>10.462676</td>\n",
       "      <td>0.927452</td>\n",
       "      <td>16.634514</td>\n",
       "      <td>2.224930</td>\n",
       "      <td>...</td>\n",
       "      <td>13.992281</td>\n",
       "      <td>-505.503262</td>\n",
       "      <td>11.950531</td>\n",
       "      <td>-501.331529</td>\n",
       "      <td>10.039245</td>\n",
       "      <td>-500.169983</td>\n",
       "      <td>7.984757</td>\n",
       "      <td>-500.582168</td>\n",
       "      <td>13.998353</td>\n",
       "      <td>-599.787184</td>\n",
       "    </tr>\n",
       "    <tr>\n",
       "      <th>2</th>\n",
       "      <td>2016-01-15 02:00:00</td>\n",
       "      <td>6.055926</td>\n",
       "      <td>10.213995</td>\n",
       "      <td>5.383759</td>\n",
       "      <td>42.657501</td>\n",
       "      <td>68.116445</td>\n",
       "      <td>10.507046</td>\n",
       "      <td>0.953716</td>\n",
       "      <td>16.208849</td>\n",
       "      <td>2.257889</td>\n",
       "      <td>...</td>\n",
       "      <td>14.015015</td>\n",
       "      <td>-502.520901</td>\n",
       "      <td>11.912783</td>\n",
       "      <td>-501.133383</td>\n",
       "      <td>10.070913</td>\n",
       "      <td>-500.129135</td>\n",
       "      <td>8.013877</td>\n",
       "      <td>-500.517572</td>\n",
       "      <td>14.028663</td>\n",
       "      <td>-601.427363</td>\n",
       "    </tr>\n",
       "    <tr>\n",
       "      <th>3</th>\n",
       "      <td>2016-01-15 03:00:00</td>\n",
       "      <td>6.047977</td>\n",
       "      <td>9.977019</td>\n",
       "      <td>4.858634</td>\n",
       "      <td>42.689819</td>\n",
       "      <td>68.347543</td>\n",
       "      <td>10.422762</td>\n",
       "      <td>0.883763</td>\n",
       "      <td>16.532835</td>\n",
       "      <td>2.146849</td>\n",
       "      <td>...</td>\n",
       "      <td>14.036510</td>\n",
       "      <td>-500.857308</td>\n",
       "      <td>11.999550</td>\n",
       "      <td>-501.193686</td>\n",
       "      <td>9.970366</td>\n",
       "      <td>-499.201640</td>\n",
       "      <td>7.977324</td>\n",
       "      <td>-500.255908</td>\n",
       "      <td>14.005551</td>\n",
       "      <td>-599.996129</td>\n",
       "    </tr>\n",
       "    <tr>\n",
       "      <th>4</th>\n",
       "      <td>2016-01-15 04:00:00</td>\n",
       "      <td>6.148599</td>\n",
       "      <td>10.142511</td>\n",
       "      <td>4.939416</td>\n",
       "      <td>42.774141</td>\n",
       "      <td>66.927016</td>\n",
       "      <td>10.360302</td>\n",
       "      <td>0.792826</td>\n",
       "      <td>16.525686</td>\n",
       "      <td>2.055292</td>\n",
       "      <td>...</td>\n",
       "      <td>14.027298</td>\n",
       "      <td>-499.838632</td>\n",
       "      <td>11.953070</td>\n",
       "      <td>-501.053894</td>\n",
       "      <td>9.925709</td>\n",
       "      <td>-501.686727</td>\n",
       "      <td>7.894242</td>\n",
       "      <td>-500.356035</td>\n",
       "      <td>13.996647</td>\n",
       "      <td>-601.496691</td>\n",
       "    </tr>\n",
       "  </tbody>\n",
       "</table>\n",
       "<p>5 rows × 87 columns</p>\n",
       "</div>"
      ],
      "text/plain": [
       "                  date  final.output.concentrate_ag  \\\n",
       "0  2016-01-15 00:00:00                     6.055403   \n",
       "1  2016-01-15 01:00:00                     6.029369   \n",
       "2  2016-01-15 02:00:00                     6.055926   \n",
       "3  2016-01-15 03:00:00                     6.047977   \n",
       "4  2016-01-15 04:00:00                     6.148599   \n",
       "\n",
       "   final.output.concentrate_pb  final.output.concentrate_sol  \\\n",
       "0                     9.889648                      5.507324   \n",
       "1                     9.968944                      5.257781   \n",
       "2                    10.213995                      5.383759   \n",
       "3                     9.977019                      4.858634   \n",
       "4                    10.142511                      4.939416   \n",
       "\n",
       "   final.output.concentrate_au  final.output.recovery  final.output.tail_ag  \\\n",
       "0                    42.192020              70.541216             10.411962   \n",
       "1                    42.701629              69.266198             10.462676   \n",
       "2                    42.657501              68.116445             10.507046   \n",
       "3                    42.689819              68.347543             10.422762   \n",
       "4                    42.774141              66.927016             10.360302   \n",
       "\n",
       "   final.output.tail_pb  final.output.tail_sol  final.output.tail_au  ...  \\\n",
       "0              0.895447              16.904297              2.143149  ...   \n",
       "1              0.927452              16.634514              2.224930  ...   \n",
       "2              0.953716              16.208849              2.257889  ...   \n",
       "3              0.883763              16.532835              2.146849  ...   \n",
       "4              0.792826              16.525686              2.055292  ...   \n",
       "\n",
       "   secondary_cleaner.state.floatbank4_a_air  \\\n",
       "0                                 14.016835   \n",
       "1                                 13.992281   \n",
       "2                                 14.015015   \n",
       "3                                 14.036510   \n",
       "4                                 14.027298   \n",
       "\n",
       "   secondary_cleaner.state.floatbank4_a_level  \\\n",
       "0                                 -502.488007   \n",
       "1                                 -505.503262   \n",
       "2                                 -502.520901   \n",
       "3                                 -500.857308   \n",
       "4                                 -499.838632   \n",
       "\n",
       "   secondary_cleaner.state.floatbank4_b_air  \\\n",
       "0                                 12.099931   \n",
       "1                                 11.950531   \n",
       "2                                 11.912783   \n",
       "3                                 11.999550   \n",
       "4                                 11.953070   \n",
       "\n",
       "   secondary_cleaner.state.floatbank4_b_level  \\\n",
       "0                                 -504.715942   \n",
       "1                                 -501.331529   \n",
       "2                                 -501.133383   \n",
       "3                                 -501.193686   \n",
       "4                                 -501.053894   \n",
       "\n",
       "   secondary_cleaner.state.floatbank5_a_air  \\\n",
       "0                                  9.925633   \n",
       "1                                 10.039245   \n",
       "2                                 10.070913   \n",
       "3                                  9.970366   \n",
       "4                                  9.925709   \n",
       "\n",
       "   secondary_cleaner.state.floatbank5_a_level  \\\n",
       "0                                 -498.310211   \n",
       "1                                 -500.169983   \n",
       "2                                 -500.129135   \n",
       "3                                 -499.201640   \n",
       "4                                 -501.686727   \n",
       "\n",
       "   secondary_cleaner.state.floatbank5_b_air  \\\n",
       "0                                  8.079666   \n",
       "1                                  7.984757   \n",
       "2                                  8.013877   \n",
       "3                                  7.977324   \n",
       "4                                  7.894242   \n",
       "\n",
       "   secondary_cleaner.state.floatbank5_b_level  \\\n",
       "0                                 -500.470978   \n",
       "1                                 -500.582168   \n",
       "2                                 -500.517572   \n",
       "3                                 -500.255908   \n",
       "4                                 -500.356035   \n",
       "\n",
       "   secondary_cleaner.state.floatbank6_a_air  \\\n",
       "0                                 14.151341   \n",
       "1                                 13.998353   \n",
       "2                                 14.028663   \n",
       "3                                 14.005551   \n",
       "4                                 13.996647   \n",
       "\n",
       "   secondary_cleaner.state.floatbank6_a_level  \n",
       "0                                 -605.841980  \n",
       "1                                 -599.787184  \n",
       "2                                 -601.427363  \n",
       "3                                 -599.996129  \n",
       "4                                 -601.496691  \n",
       "\n",
       "[5 rows x 87 columns]"
      ]
     },
     "execution_count": 8,
     "metadata": {},
     "output_type": "execute_result"
    }
   ],
   "source": [
    "df_full.head()"
   ]
  },
  {
   "cell_type": "markdown",
   "metadata": {},
   "source": [
    "В датафрейме с тестовыми данными 53 столбца, в обучающем и общем по 87  \n",
    "Также во всех датафреймах столбец date имеет тип object, необходимо преобразовать"
   ]
  },
  {
   "cell_type": "markdown",
   "metadata": {},
   "source": [
    "### Проверьте, что эффективность обогащения рассчитана правильно\n",
    "* Вычислите её на обучающей выборке для признака rougher.output.recovery\n",
    "* Найдите MAE между вашими расчётами и значением признака\n",
    "* Опишите выводы"
   ]
  },
  {
   "cell_type": "markdown",
   "metadata": {},
   "source": [
    "Эффективность обогащения рассчитывается по формуле\n",
    "$$\n",
    "\\\\Recovery = \\frac{C*(F-T)}{F*(C-T)}*100\\% \n",
    "$$\n",
    "\n",
    "Где:\n",
    "* C — доля золота в концентрате после флотации/очистки;\n",
    "* F — доля золота в сырье/концентрате до флотации/очистки;\n",
    "* T — доля золота в отвальных хвостах после флотации/очистки.\n",
    "\n",
    "Для прогноза коэффициента нужно найти долю золота в концентратах и хвостах. Причём важен не только финальный продукт, но и черновой концентрат."
   ]
  },
  {
   "cell_type": "markdown",
   "metadata": {},
   "source": [
    "Определим функцию, производяющую эти вычисления"
   ]
  },
  {
   "cell_type": "code",
   "execution_count": 9,
   "metadata": {},
   "outputs": [],
   "source": [
    "def get_recovery(C, F, T):\n",
    "    return 100 * (C*(F-T)) / (F*(C-T))"
   ]
  },
  {
   "cell_type": "markdown",
   "metadata": {},
   "source": [
    "Определим столбцы, содержащие необходимые значения:\n",
    "* Recovery - rougher.output.recovery\n",
    "* C - rougher.output.concentrate_au\n",
    "* F - rougher.input.feed_au\n",
    "* T - rougher.output.tail_au"
   ]
  },
  {
   "cell_type": "markdown",
   "metadata": {},
   "source": [
    "Для расчета значений и нахождения MAE сформируем отдельный датафрейм без NaN-значений"
   ]
  },
  {
   "cell_type": "code",
   "execution_count": 10,
   "metadata": {},
   "outputs": [],
   "source": [
    "df_recovery = df_train[\n",
    "    ['rougher.output.concentrate_au', 'rougher.input.feed_au', \n",
    "     'rougher.output.tail_au', 'rougher.output.recovery']].dropna(axis = 0)"
   ]
  },
  {
   "cell_type": "code",
   "execution_count": 11,
   "metadata": {},
   "outputs": [
    {
     "data": {
      "text/html": [
       "<div>\n",
       "<style scoped>\n",
       "    .dataframe tbody tr th:only-of-type {\n",
       "        vertical-align: middle;\n",
       "    }\n",
       "\n",
       "    .dataframe tbody tr th {\n",
       "        vertical-align: top;\n",
       "    }\n",
       "\n",
       "    .dataframe thead th {\n",
       "        text-align: right;\n",
       "    }\n",
       "</style>\n",
       "<table border=\"1\" class=\"dataframe\">\n",
       "  <thead>\n",
       "    <tr style=\"text-align: right;\">\n",
       "      <th></th>\n",
       "      <th>rougher.output.concentrate_au</th>\n",
       "      <th>rougher.input.feed_au</th>\n",
       "      <th>rougher.output.tail_au</th>\n",
       "      <th>rougher.output.recovery</th>\n",
       "    </tr>\n",
       "  </thead>\n",
       "  <tbody>\n",
       "    <tr>\n",
       "      <th>0</th>\n",
       "      <td>19.793808</td>\n",
       "      <td>6.486150</td>\n",
       "      <td>1.170244</td>\n",
       "      <td>87.107763</td>\n",
       "    </tr>\n",
       "    <tr>\n",
       "      <th>1</th>\n",
       "      <td>20.050975</td>\n",
       "      <td>6.478583</td>\n",
       "      <td>1.184827</td>\n",
       "      <td>86.843261</td>\n",
       "    </tr>\n",
       "    <tr>\n",
       "      <th>2</th>\n",
       "      <td>19.737170</td>\n",
       "      <td>6.362222</td>\n",
       "      <td>1.162562</td>\n",
       "      <td>86.842308</td>\n",
       "    </tr>\n",
       "    <tr>\n",
       "      <th>3</th>\n",
       "      <td>19.320810</td>\n",
       "      <td>6.118189</td>\n",
       "      <td>1.079755</td>\n",
       "      <td>87.226430</td>\n",
       "    </tr>\n",
       "    <tr>\n",
       "      <th>4</th>\n",
       "      <td>19.216101</td>\n",
       "      <td>5.663707</td>\n",
       "      <td>1.012642</td>\n",
       "      <td>86.688794</td>\n",
       "    </tr>\n",
       "  </tbody>\n",
       "</table>\n",
       "</div>"
      ],
      "text/plain": [
       "   rougher.output.concentrate_au  rougher.input.feed_au  \\\n",
       "0                      19.793808               6.486150   \n",
       "1                      20.050975               6.478583   \n",
       "2                      19.737170               6.362222   \n",
       "3                      19.320810               6.118189   \n",
       "4                      19.216101               5.663707   \n",
       "\n",
       "   rougher.output.tail_au  rougher.output.recovery  \n",
       "0                1.170244                87.107763  \n",
       "1                1.184827                86.843261  \n",
       "2                1.162562                86.842308  \n",
       "3                1.079755                87.226430  \n",
       "4                1.012642                86.688794  "
      ]
     },
     "execution_count": 11,
     "metadata": {},
     "output_type": "execute_result"
    }
   ],
   "source": [
    "df_recovery.head()"
   ]
  },
  {
   "cell_type": "code",
   "execution_count": 12,
   "metadata": {},
   "outputs": [],
   "source": [
    "df_recovery['rougher.calculated.recovery'] = get_recovery(C = df_recovery['rougher.output.concentrate_au'],\n",
    "                                                           F = df_recovery['rougher.input.feed_au'],\n",
    "                                                           T = df_recovery['rougher.output.tail_au'])"
   ]
  },
  {
   "cell_type": "code",
   "execution_count": 13,
   "metadata": {},
   "outputs": [
    {
     "data": {
      "text/html": [
       "<div>\n",
       "<style scoped>\n",
       "    .dataframe tbody tr th:only-of-type {\n",
       "        vertical-align: middle;\n",
       "    }\n",
       "\n",
       "    .dataframe tbody tr th {\n",
       "        vertical-align: top;\n",
       "    }\n",
       "\n",
       "    .dataframe thead th {\n",
       "        text-align: right;\n",
       "    }\n",
       "</style>\n",
       "<table border=\"1\" class=\"dataframe\">\n",
       "  <thead>\n",
       "    <tr style=\"text-align: right;\">\n",
       "      <th></th>\n",
       "      <th>rougher.output.concentrate_au</th>\n",
       "      <th>rougher.input.feed_au</th>\n",
       "      <th>rougher.output.tail_au</th>\n",
       "      <th>rougher.output.recovery</th>\n",
       "      <th>rougher.calculated.recovery</th>\n",
       "    </tr>\n",
       "  </thead>\n",
       "  <tbody>\n",
       "    <tr>\n",
       "      <th>0</th>\n",
       "      <td>19.793808</td>\n",
       "      <td>6.486150</td>\n",
       "      <td>1.170244</td>\n",
       "      <td>87.107763</td>\n",
       "      <td>87.107763</td>\n",
       "    </tr>\n",
       "    <tr>\n",
       "      <th>1</th>\n",
       "      <td>20.050975</td>\n",
       "      <td>6.478583</td>\n",
       "      <td>1.184827</td>\n",
       "      <td>86.843261</td>\n",
       "      <td>86.843261</td>\n",
       "    </tr>\n",
       "    <tr>\n",
       "      <th>2</th>\n",
       "      <td>19.737170</td>\n",
       "      <td>6.362222</td>\n",
       "      <td>1.162562</td>\n",
       "      <td>86.842308</td>\n",
       "      <td>86.842308</td>\n",
       "    </tr>\n",
       "    <tr>\n",
       "      <th>3</th>\n",
       "      <td>19.320810</td>\n",
       "      <td>6.118189</td>\n",
       "      <td>1.079755</td>\n",
       "      <td>87.226430</td>\n",
       "      <td>87.226430</td>\n",
       "    </tr>\n",
       "    <tr>\n",
       "      <th>4</th>\n",
       "      <td>19.216101</td>\n",
       "      <td>5.663707</td>\n",
       "      <td>1.012642</td>\n",
       "      <td>86.688794</td>\n",
       "      <td>86.688794</td>\n",
       "    </tr>\n",
       "  </tbody>\n",
       "</table>\n",
       "</div>"
      ],
      "text/plain": [
       "   rougher.output.concentrate_au  rougher.input.feed_au  \\\n",
       "0                      19.793808               6.486150   \n",
       "1                      20.050975               6.478583   \n",
       "2                      19.737170               6.362222   \n",
       "3                      19.320810               6.118189   \n",
       "4                      19.216101               5.663707   \n",
       "\n",
       "   rougher.output.tail_au  rougher.output.recovery  \\\n",
       "0                1.170244                87.107763   \n",
       "1                1.184827                86.843261   \n",
       "2                1.162562                86.842308   \n",
       "3                1.079755                87.226430   \n",
       "4                1.012642                86.688794   \n",
       "\n",
       "   rougher.calculated.recovery  \n",
       "0                    87.107763  \n",
       "1                    86.843261  \n",
       "2                    86.842308  \n",
       "3                    87.226430  \n",
       "4                    86.688794  "
      ]
     },
     "execution_count": 13,
     "metadata": {},
     "output_type": "execute_result"
    }
   ],
   "source": [
    "df_recovery.head()"
   ]
  },
  {
   "cell_type": "code",
   "execution_count": 14,
   "metadata": {},
   "outputs": [
    {
     "data": {
      "text/plain": [
       "1.1131451184435918e-14"
      ]
     },
     "execution_count": 14,
     "metadata": {},
     "output_type": "execute_result"
    }
   ],
   "source": [
    "mean_absolute_error(df_recovery['rougher.output.recovery'], df_recovery['rougher.calculated.recovery'])"
   ]
  },
  {
   "cell_type": "markdown",
   "metadata": {},
   "source": [
    "Вычисленное значение MAE крайне мало, также при просмотре первых строк полное совпадение до 6 знака после запятой, следовательно, эффективность обогащения рассчитана верно"
   ]
  },
  {
   "cell_type": "markdown",
   "metadata": {},
   "source": [
    "### Проанализируйте признаки, недоступные в тестовой выборке\n",
    "Что это за параметры? К какому типу относятся?"
   ]
  },
  {
   "cell_type": "markdown",
   "metadata": {},
   "source": [
    "Получим и проанализируем список столбцов, доступных и в тестовой, и в обучающей выборке, а также их количество"
   ]
  },
  {
   "cell_type": "code",
   "execution_count": 15,
   "metadata": {},
   "outputs": [
    {
     "data": {
      "text/plain": [
       "53"
      ]
     },
     "execution_count": 15,
     "metadata": {},
     "output_type": "execute_result"
    }
   ],
   "source": [
    "len(df_train.columns.intersection(df_test.columns))"
   ]
  },
  {
   "cell_type": "code",
   "execution_count": 16,
   "metadata": {},
   "outputs": [
    {
     "data": {
      "text/plain": [
       "53"
      ]
     },
     "execution_count": 16,
     "metadata": {},
     "output_type": "execute_result"
    }
   ],
   "source": [
    "len(df_test.columns)"
   ]
  },
  {
   "cell_type": "markdown",
   "metadata": {},
   "source": [
    "Количество совпадает, следовательно, дополнительных столбцов в тестовой выборке нет"
   ]
  },
  {
   "cell_type": "code",
   "execution_count": 17,
   "metadata": {
    "scrolled": true,
    "tags": []
   },
   "outputs": [
    {
     "data": {
      "text/plain": [
       "['date',\n",
       " 'primary_cleaner.input.sulfate',\n",
       " 'primary_cleaner.input.depressant',\n",
       " 'primary_cleaner.input.feed_size',\n",
       " 'primary_cleaner.input.xanthate',\n",
       " 'primary_cleaner.state.floatbank8_a_air',\n",
       " 'primary_cleaner.state.floatbank8_a_level',\n",
       " 'primary_cleaner.state.floatbank8_b_air',\n",
       " 'primary_cleaner.state.floatbank8_b_level',\n",
       " 'primary_cleaner.state.floatbank8_c_air',\n",
       " 'primary_cleaner.state.floatbank8_c_level',\n",
       " 'primary_cleaner.state.floatbank8_d_air',\n",
       " 'primary_cleaner.state.floatbank8_d_level',\n",
       " 'rougher.input.feed_ag',\n",
       " 'rougher.input.feed_pb',\n",
       " 'rougher.input.feed_rate',\n",
       " 'rougher.input.feed_size',\n",
       " 'rougher.input.feed_sol',\n",
       " 'rougher.input.feed_au',\n",
       " 'rougher.input.floatbank10_sulfate',\n",
       " 'rougher.input.floatbank10_xanthate',\n",
       " 'rougher.input.floatbank11_sulfate',\n",
       " 'rougher.input.floatbank11_xanthate',\n",
       " 'rougher.state.floatbank10_a_air',\n",
       " 'rougher.state.floatbank10_a_level',\n",
       " 'rougher.state.floatbank10_b_air',\n",
       " 'rougher.state.floatbank10_b_level',\n",
       " 'rougher.state.floatbank10_c_air',\n",
       " 'rougher.state.floatbank10_c_level',\n",
       " 'rougher.state.floatbank10_d_air',\n",
       " 'rougher.state.floatbank10_d_level',\n",
       " 'rougher.state.floatbank10_e_air',\n",
       " 'rougher.state.floatbank10_e_level',\n",
       " 'rougher.state.floatbank10_f_air',\n",
       " 'rougher.state.floatbank10_f_level',\n",
       " 'secondary_cleaner.state.floatbank2_a_air',\n",
       " 'secondary_cleaner.state.floatbank2_a_level',\n",
       " 'secondary_cleaner.state.floatbank2_b_air',\n",
       " 'secondary_cleaner.state.floatbank2_b_level',\n",
       " 'secondary_cleaner.state.floatbank3_a_air',\n",
       " 'secondary_cleaner.state.floatbank3_a_level',\n",
       " 'secondary_cleaner.state.floatbank3_b_air',\n",
       " 'secondary_cleaner.state.floatbank3_b_level',\n",
       " 'secondary_cleaner.state.floatbank4_a_air',\n",
       " 'secondary_cleaner.state.floatbank4_a_level',\n",
       " 'secondary_cleaner.state.floatbank4_b_air',\n",
       " 'secondary_cleaner.state.floatbank4_b_level',\n",
       " 'secondary_cleaner.state.floatbank5_a_air',\n",
       " 'secondary_cleaner.state.floatbank5_a_level',\n",
       " 'secondary_cleaner.state.floatbank5_b_air',\n",
       " 'secondary_cleaner.state.floatbank5_b_level',\n",
       " 'secondary_cleaner.state.floatbank6_a_air',\n",
       " 'secondary_cleaner.state.floatbank6_a_level']"
      ]
     },
     "execution_count": 17,
     "metadata": {},
     "output_type": "execute_result"
    }
   ],
   "source": [
    "list(df_train.columns.intersection(df_test.columns))"
   ]
  },
  {
   "cell_type": "markdown",
   "metadata": {},
   "source": [
    "Получим список столбцов, недоступных в тестовой выборке"
   ]
  },
  {
   "cell_type": "code",
   "execution_count": 18,
   "metadata": {
    "scrolled": true,
    "tags": []
   },
   "outputs": [
    {
     "data": {
      "text/plain": [
       "['final.output.concentrate_ag',\n",
       " 'final.output.concentrate_au',\n",
       " 'final.output.concentrate_pb',\n",
       " 'final.output.concentrate_sol',\n",
       " 'final.output.recovery',\n",
       " 'final.output.tail_ag',\n",
       " 'final.output.tail_au',\n",
       " 'final.output.tail_pb',\n",
       " 'final.output.tail_sol',\n",
       " 'primary_cleaner.output.concentrate_ag',\n",
       " 'primary_cleaner.output.concentrate_au',\n",
       " 'primary_cleaner.output.concentrate_pb',\n",
       " 'primary_cleaner.output.concentrate_sol',\n",
       " 'primary_cleaner.output.tail_ag',\n",
       " 'primary_cleaner.output.tail_au',\n",
       " 'primary_cleaner.output.tail_pb',\n",
       " 'primary_cleaner.output.tail_sol',\n",
       " 'rougher.calculation.au_pb_ratio',\n",
       " 'rougher.calculation.floatbank10_sulfate_to_au_feed',\n",
       " 'rougher.calculation.floatbank11_sulfate_to_au_feed',\n",
       " 'rougher.calculation.sulfate_to_au_concentrate',\n",
       " 'rougher.output.concentrate_ag',\n",
       " 'rougher.output.concentrate_au',\n",
       " 'rougher.output.concentrate_pb',\n",
       " 'rougher.output.concentrate_sol',\n",
       " 'rougher.output.recovery',\n",
       " 'rougher.output.tail_ag',\n",
       " 'rougher.output.tail_au',\n",
       " 'rougher.output.tail_pb',\n",
       " 'rougher.output.tail_sol',\n",
       " 'secondary_cleaner.output.tail_ag',\n",
       " 'secondary_cleaner.output.tail_au',\n",
       " 'secondary_cleaner.output.tail_pb',\n",
       " 'secondary_cleaner.output.tail_sol']"
      ]
     },
     "execution_count": 18,
     "metadata": {},
     "output_type": "execute_result"
    }
   ],
   "source": [
    "list(df_train.columns.difference(df_test.columns))"
   ]
  },
  {
   "cell_type": "markdown",
   "metadata": {},
   "source": [
    "Общие признаки двух выборок:\n",
    "* date - дата\n",
    "* primary_cleaner.input* - первичная очистка, параметры сырья\n",
    "* primary_cleaner.state* - первичная очистка, параметры, характеризующие текущее состояние этапа\n",
    "* rougher.input* - флотация, параметры сырья\n",
    "* secondary_cleaner.state* - вторичная очистка, параметры, характеризующие текущее состояние этапа\n",
    "\n",
    "Признаки, отсутствующие в тестовой выборке\n",
    "* final.output* - финальные характеристики, параметры продукта\n",
    "* primary_cleaner.output* - первичная очистка, параметры продукта\n",
    "* rougher.calculation* - флотация, расчётные характеристики\n",
    "* rougher.output* - флотация, параметры продукта\n",
    "* secondary_cleaner.output* - вторичная очистка, параметры продукта\n",
    "\n",
    "Эти данные недоступны в начале технического процесса и становятся известны позднее  \n",
    "При этом столбцы final.output.recovery и rougher.output.recovery являются целевыми, следовательно, их нужно как-то скопировать в тестовую выборку"
   ]
  },
  {
   "cell_type": "markdown",
   "metadata": {},
   "source": [
    "### Проведите предобработку данных"
   ]
  },
  {
   "cell_type": "markdown",
   "metadata": {},
   "source": [
    "Преобразуем столбцы date в тип datetime"
   ]
  },
  {
   "cell_type": "code",
   "execution_count": 19,
   "metadata": {},
   "outputs": [],
   "source": [
    "DATE = '%Y-%m-%d %H:%M:%S'\n",
    "df_train['date'] = pd.to_datetime(df_train['date'], format=DATE)\n",
    "df_test['date'] = pd.to_datetime(df_test['date'], format=DATE)\n",
    "df_full['date'] = pd.to_datetime(df_full['date'], format=DATE)"
   ]
  },
  {
   "cell_type": "markdown",
   "metadata": {},
   "source": [
    "Проверим данные на дубликаты"
   ]
  },
  {
   "cell_type": "code",
   "execution_count": 20,
   "metadata": {},
   "outputs": [
    {
     "data": {
      "text/plain": [
       "0"
      ]
     },
     "execution_count": 20,
     "metadata": {},
     "output_type": "execute_result"
    }
   ],
   "source": [
    "df_train.duplicated().sum()"
   ]
  },
  {
   "cell_type": "code",
   "execution_count": 21,
   "metadata": {},
   "outputs": [
    {
     "data": {
      "text/plain": [
       "0"
      ]
     },
     "execution_count": 21,
     "metadata": {},
     "output_type": "execute_result"
    }
   ],
   "source": [
    "df_test.duplicated().sum()"
   ]
  },
  {
   "cell_type": "code",
   "execution_count": 22,
   "metadata": {},
   "outputs": [
    {
     "data": {
      "text/plain": [
       "0"
      ]
     },
     "execution_count": 22,
     "metadata": {},
     "output_type": "execute_result"
    }
   ],
   "source": [
    "df_full.duplicated().sum()"
   ]
  },
  {
   "cell_type": "markdown",
   "metadata": {},
   "source": [
    "Проверим уникальность столбца date и наличие пропусков"
   ]
  },
  {
   "cell_type": "code",
   "execution_count": 23,
   "metadata": {},
   "outputs": [],
   "source": [
    "def get_duplicated_sum(column):\n",
    "    return column.duplicated().sum()"
   ]
  },
  {
   "cell_type": "code",
   "execution_count": 24,
   "metadata": {},
   "outputs": [
    {
     "name": "stdout",
     "output_type": "stream",
     "text": [
      "0 0 0\n"
     ]
    }
   ],
   "source": [
    "print(get_duplicated_sum(df_train['date']), get_duplicated_sum(df_test['date']), get_duplicated_sum(df_full['date']))"
   ]
  },
  {
   "cell_type": "code",
   "execution_count": 25,
   "metadata": {},
   "outputs": [],
   "source": [
    "def get_nan_sum(column):\n",
    "    return column.isna().sum()"
   ]
  },
  {
   "cell_type": "code",
   "execution_count": 26,
   "metadata": {},
   "outputs": [
    {
     "name": "stdout",
     "output_type": "stream",
     "text": [
      "0 0 0\n"
     ]
    }
   ],
   "source": [
    "print(get_nan_sum(df_train['date']), get_nan_sum(df_test['date']), get_nan_sum(df_full['date']))"
   ]
  },
  {
   "cell_type": "markdown",
   "metadata": {},
   "source": [
    "Значения уникальны и не имеют пропусков, следовательно, столбец можно назначить индексом"
   ]
  },
  {
   "cell_type": "code",
   "execution_count": 27,
   "metadata": {},
   "outputs": [],
   "source": [
    "df_train = df_train.set_index('date')\n",
    "df_test = df_test.set_index('date')\n",
    "df_full = df_full.set_index('date')"
   ]
  },
  {
   "cell_type": "markdown",
   "metadata": {},
   "source": [
    "Посмотрим размер выборок и соотношение"
   ]
  },
  {
   "cell_type": "code",
   "execution_count": 28,
   "metadata": {},
   "outputs": [
    {
     "data": {
      "text/plain": [
       "14149"
      ]
     },
     "execution_count": 28,
     "metadata": {},
     "output_type": "execute_result"
    }
   ],
   "source": [
    "df_train.shape[0]"
   ]
  },
  {
   "cell_type": "code",
   "execution_count": 29,
   "metadata": {},
   "outputs": [
    {
     "data": {
      "text/plain": [
       "5290"
      ]
     },
     "execution_count": 29,
     "metadata": {},
     "output_type": "execute_result"
    }
   ],
   "source": [
    "df_test.shape[0]"
   ]
  },
  {
   "cell_type": "code",
   "execution_count": 30,
   "metadata": {},
   "outputs": [
    {
     "data": {
      "text/plain": [
       "19439"
      ]
     },
     "execution_count": 30,
     "metadata": {},
     "output_type": "execute_result"
    }
   ],
   "source": [
    "df_full.shape[0]"
   ]
  },
  {
   "cell_type": "code",
   "execution_count": 31,
   "metadata": {},
   "outputs": [
    {
     "data": {
      "text/plain": [
       "0.7278666598076032"
      ]
     },
     "execution_count": 31,
     "metadata": {},
     "output_type": "execute_result"
    }
   ],
   "source": [
    "df_train.shape[0] / df_full.shape[0]"
   ]
  },
  {
   "cell_type": "code",
   "execution_count": 32,
   "metadata": {},
   "outputs": [
    {
     "data": {
      "text/plain": [
       "0.2721333401923967"
      ]
     },
     "execution_count": 32,
     "metadata": {},
     "output_type": "execute_result"
    }
   ],
   "source": [
    "df_test.shape[0] / df_full.shape[0]"
   ]
  },
  {
   "cell_type": "markdown",
   "metadata": {},
   "source": [
    "Соотношение не 3:1, но близко к тому"
   ]
  },
  {
   "cell_type": "markdown",
   "metadata": {},
   "source": [
    "Посмотрим, какое количество данных (в процентах) мы потеряем, если удалим все пропуски"
   ]
  },
  {
   "cell_type": "code",
   "execution_count": 33,
   "metadata": {},
   "outputs": [
    {
     "data": {
      "text/plain": [
       "22.135839988691785"
      ]
     },
     "execution_count": 33,
     "metadata": {},
     "output_type": "execute_result"
    }
   ],
   "source": [
    "100 * (1 - df_train.dropna().shape[0] / df_train.shape[0])"
   ]
  },
  {
   "cell_type": "code",
   "execution_count": 34,
   "metadata": {},
   "outputs": [
    {
     "data": {
      "text/plain": [
       "1.153119092627597"
      ]
     },
     "execution_count": 34,
     "metadata": {},
     "output_type": "execute_result"
    }
   ],
   "source": [
    "100 * (1 - df_test.dropna().shape[0] / df_test.shape[0])"
   ]
  },
  {
   "cell_type": "code",
   "execution_count": 35,
   "metadata": {},
   "outputs": [
    {
     "data": {
      "text/plain": [
       "17.207675291938884"
      ]
     },
     "execution_count": 35,
     "metadata": {},
     "output_type": "execute_result"
    }
   ],
   "source": [
    "100 * (1 - df_full.dropna().shape[0] / df_full.shape[0])"
   ]
  },
  {
   "cell_type": "markdown",
   "metadata": {},
   "source": [
    "В обучающей выборке 22%, при этом в тестовой всего чуть больше 1%  \n",
    "Возможно, пропуски в тех стобцах, которых нет в тестовой выборке"
   ]
  },
  {
   "cell_type": "markdown",
   "metadata": {},
   "source": [
    "Сохраним исходную выборку и сформируем новую, удалив пропуски (т.к. нет возможности их восстановить)"
   ]
  },
  {
   "cell_type": "code",
   "execution_count": 36,
   "metadata": {
    "scrolled": true
   },
   "outputs": [],
   "source": [
    "df_train_original = df_train.copy()"
   ]
  },
  {
   "cell_type": "code",
   "execution_count": 37,
   "metadata": {},
   "outputs": [],
   "source": [
    "df_train.dropna(inplace=True)"
   ]
  },
  {
   "cell_type": "code",
   "execution_count": 38,
   "metadata": {},
   "outputs": [],
   "source": [
    "df_test.dropna(inplace=True)"
   ]
  },
  {
   "cell_type": "markdown",
   "metadata": {},
   "source": [
    "Посмотрим новые размеры выборок и их соотношение"
   ]
  },
  {
   "cell_type": "code",
   "execution_count": 39,
   "metadata": {},
   "outputs": [
    {
     "data": {
      "text/plain": [
       "11017"
      ]
     },
     "execution_count": 39,
     "metadata": {},
     "output_type": "execute_result"
    }
   ],
   "source": [
    "df_train.shape[0]"
   ]
  },
  {
   "cell_type": "code",
   "execution_count": 40,
   "metadata": {},
   "outputs": [
    {
     "data": {
      "text/plain": [
       "5229"
      ]
     },
     "execution_count": 40,
     "metadata": {},
     "output_type": "execute_result"
    }
   ],
   "source": [
    "df_test.shape[0]"
   ]
  },
  {
   "cell_type": "code",
   "execution_count": 41,
   "metadata": {},
   "outputs": [
    {
     "data": {
      "text/plain": [
       "0.678136156592392"
      ]
     },
     "execution_count": 41,
     "metadata": {},
     "output_type": "execute_result"
    }
   ],
   "source": [
    "df_train.shape[0] / (df_train.shape[0] + df_test.shape[0])"
   ]
  },
  {
   "cell_type": "code",
   "execution_count": 42,
   "metadata": {},
   "outputs": [
    {
     "data": {
      "text/plain": [
       "0.32186384340760804"
      ]
     },
     "execution_count": 42,
     "metadata": {},
     "output_type": "execute_result"
    }
   ],
   "source": [
    "df_test.shape[0] / (df_train.shape[0] + df_test.shape[0])"
   ]
  },
  {
   "cell_type": "markdown",
   "metadata": {},
   "source": [
    "## Анализ данных"
   ]
  },
  {
   "cell_type": "markdown",
   "metadata": {},
   "source": [
    "### Посмотрите, как меняется концентрация металлов (Au, Ag, Pb) на различных этапах очистки\n",
    "Опишите выводы"
   ]
  },
  {
   "cell_type": "markdown",
   "metadata": {},
   "source": [
    "Сформируем списки стадий и металлов"
   ]
  },
  {
   "cell_type": "code",
   "execution_count": 49,
   "metadata": {},
   "outputs": [],
   "source": [
    "STAGES = ['rougher.input.feed', 'rougher.output.concentrate', 'primary_cleaner.output.concentrate', 'final.output.concentrate']\n",
    "\n",
    "METALS = ['au', 'pb', 'ag']"
   ]
  },
  {
   "cell_type": "markdown",
   "metadata": {},
   "source": [
    "Сделаем функцию, выводящую гистограмму на экран"
   ]
  },
  {
   "cell_type": "code",
   "execution_count": 50,
   "metadata": {},
   "outputs": [],
   "source": [
    "def display_hist(df, metal):\n",
    "    df.plot.hist(bins=100, alpha=0.5)\n",
    "    plt.title(f'Суммарная концентрация {metal} на разных стадиях')\n",
    "    plt.legend(['Сырье', 'Черновой концентрат', 'Первичная очистка', 'Финальный концентрат'])\n",
    "    plt.show()"
   ]
  },
  {
   "cell_type": "markdown",
   "metadata": {},
   "source": [
    "Выведем гистограммы концентрации вещества по стадиям для каждого металла"
   ]
  },
  {
   "cell_type": "code",
   "execution_count": 51,
   "metadata": {},
   "outputs": [
    {
     "data": {
      "image/png": "[encoded data removed]",
      "text/plain": [
       "<Figure size 1080x504 with 1 Axes>"
      ]
     },
     "metadata": {},
     "output_type": "display_data"
    },
    {
     "data": {
      "image/png": "[encoded data removed]",
      "text/plain": [
       "<Figure size 1080x504 with 1 Axes>"
      ]
     },
     "metadata": {},
     "output_type": "display_data"
    },
    {
     "data": {
      "image/png": "[encoded data removed]",
      "text/plain": [
       "<Figure size 1080x504 with 1 Axes>"
      ]
     },
     "metadata": {},
     "output_type": "display_data"
    }
   ],
   "source": [
    "for metal in METALS:\n",
    "    columns = []\n",
    "    for stage in STAGES:\n",
    "        columns.append(stage+'_'+metal)\n",
    "        \n",
    "    display_hist(df_full[columns], metal.upper())"
   ]
  },
  {
   "cell_type": "markdown",
   "metadata": {},
   "source": [
    "### Сравните распределения размеров гранул сырья на обучающей и тестовой выборках\n",
    "Если распределения сильно отличаются друг от друга, оценка модели будет неправильной"
   ]
  },
  {
   "cell_type": "markdown",
   "metadata": {},
   "source": [
    "Размер гранул сырья хранится в столбце rougher.input.feed_size"
   ]
  },
  {
   "cell_type": "markdown",
   "metadata": {},
   "source": [
    "Сформируем датафрейм из этих столбцов в обучающей и тестовой выборке"
   ]
  },
  {
   "cell_type": "code",
   "execution_count": 52,
   "metadata": {},
   "outputs": [],
   "source": [
    "sizes = pd.concat([df_train['rougher.input.feed_size'].dropna(), df_test['rougher.input.feed_size'].dropna()], axis = 1)\n",
    "sizes.columns = ['train', 'test']"
   ]
  },
  {
   "cell_type": "code",
   "execution_count": 53,
   "metadata": {},
   "outputs": [
    {
     "data": {
      "text/html": [
       "<div>\n",
       "<style scoped>\n",
       "    .dataframe tbody tr th:only-of-type {\n",
       "        vertical-align: middle;\n",
       "    }\n",
       "\n",
       "    .dataframe tbody tr th {\n",
       "        vertical-align: top;\n",
       "    }\n",
       "\n",
       "    .dataframe thead th {\n",
       "        text-align: right;\n",
       "    }\n",
       "</style>\n",
       "<table border=\"1\" class=\"dataframe\">\n",
       "  <thead>\n",
       "    <tr style=\"text-align: right;\">\n",
       "      <th></th>\n",
       "      <th>train</th>\n",
       "      <th>test</th>\n",
       "    </tr>\n",
       "  </thead>\n",
       "  <tbody>\n",
       "    <tr>\n",
       "      <th>count</th>\n",
       "      <td>11017.000000</td>\n",
       "      <td>5229.000000</td>\n",
       "    </tr>\n",
       "    <tr>\n",
       "      <th>mean</th>\n",
       "      <td>57.215128</td>\n",
       "      <td>55.863978</td>\n",
       "    </tr>\n",
       "    <tr>\n",
       "      <th>std</th>\n",
       "      <td>18.913146</td>\n",
       "      <td>18.914656</td>\n",
       "    </tr>\n",
       "    <tr>\n",
       "      <th>min</th>\n",
       "      <td>9.659576</td>\n",
       "      <td>0.046369</td>\n",
       "    </tr>\n",
       "    <tr>\n",
       "      <th>25%</th>\n",
       "      <td>48.397242</td>\n",
       "      <td>43.911874</td>\n",
       "    </tr>\n",
       "    <tr>\n",
       "      <th>50%</th>\n",
       "      <td>53.843359</td>\n",
       "      <td>50.772729</td>\n",
       "    </tr>\n",
       "    <tr>\n",
       "      <th>75%</th>\n",
       "      <td>61.461770</td>\n",
       "      <td>62.265394</td>\n",
       "    </tr>\n",
       "    <tr>\n",
       "      <th>max</th>\n",
       "      <td>484.967466</td>\n",
       "      <td>392.494040</td>\n",
       "    </tr>\n",
       "  </tbody>\n",
       "</table>\n",
       "</div>"
      ],
      "text/plain": [
       "              train         test\n",
       "count  11017.000000  5229.000000\n",
       "mean      57.215128    55.863978\n",
       "std       18.913146    18.914656\n",
       "min        9.659576     0.046369\n",
       "25%       48.397242    43.911874\n",
       "50%       53.843359    50.772729\n",
       "75%       61.461770    62.265394\n",
       "max      484.967466   392.494040"
      ]
     },
     "execution_count": 53,
     "metadata": {},
     "output_type": "execute_result"
    }
   ],
   "source": [
    "sizes.describe()"
   ]
  },
  {
   "cell_type": "markdown",
   "metadata": {},
   "source": [
    "Построим график ядерной оценки плотности (KDE - Kernel Density Estimation)"
   ]
  },
  {
   "cell_type": "code",
   "execution_count": 54,
   "metadata": {},
   "outputs": [
    {
     "data": {
      "image/png": "[encoded data removed]",
      "text/plain": [
       "<Figure size 1080x504 with 1 Axes>"
      ]
     },
     "metadata": {},
     "output_type": "display_data"
    }
   ],
   "source": [
    "sizes.plot.kde()\n",
    "plt.title('Распределение размеров гранул сырья')\n",
    "plt.legend(['Обучающая выборка', 'Тестовая выборка'])\n",
    "plt.show() "
   ]
  },
  {
   "cell_type": "markdown",
   "metadata": {},
   "source": [
    "По графику видно, что распределения близки друг к другу, следовательно, размеры гранул на обучающей и тестовой выборках отличаются несущественно"
   ]
  },
  {
   "cell_type": "markdown",
   "metadata": {},
   "source": [
    "### Исследуйте суммарную концентрацию всех веществ на разных стадиях: в сырье, в черновом и финальном концентратах\n",
    "Заметили аномальные значения в суммарном распределении или нет?\n",
    "Если они есть, стоит ли их удалять из обеих выборок?\n",
    "Опишите выводы и удалите аномалии."
   ]
  },
  {
   "cell_type": "markdown",
   "metadata": {},
   "source": [
    "Определим списки стадий и веществ"
   ]
  },
  {
   "cell_type": "code",
   "execution_count": 55,
   "metadata": {},
   "outputs": [],
   "source": [
    "stages = ['rougher.input.feed', 'rougher.output.concentrate', 'final.output.concentrate']\n",
    "\n",
    "agent = ['au', 'pb', 'sol', 'ag']"
   ]
  },
  {
   "cell_type": "markdown",
   "metadata": {},
   "source": [
    "Определим функцию, возвращающую список столбцов для каждой стадии"
   ]
  },
  {
   "cell_type": "code",
   "execution_count": 56,
   "metadata": {},
   "outputs": [],
   "source": [
    "def get_column_list(stage, agent):\n",
    "    return list(map(lambda item: stage + '_' + item, agent))"
   ]
  },
  {
   "cell_type": "markdown",
   "metadata": {},
   "source": [
    "Сформируем датафрейм с суммами для каждой стадии"
   ]
  },
  {
   "cell_type": "code",
   "execution_count": 57,
   "metadata": {},
   "outputs": [],
   "source": [
    "def get_agent_sum(df_train):\n",
    "    agent_sum = pd.DataFrame()\n",
    "\n",
    "    for stage in stages:\n",
    "        agent_sum[stage] = df_train[get_column_list(stage, agent)].sum(axis=1)\n",
    "    return agent_sum"
   ]
  },
  {
   "cell_type": "code",
   "execution_count": 58,
   "metadata": {},
   "outputs": [
    {
     "data": {
      "text/html": [
       "<div>\n",
       "<style scoped>\n",
       "    .dataframe tbody tr th:only-of-type {\n",
       "        vertical-align: middle;\n",
       "    }\n",
       "\n",
       "    .dataframe tbody tr th {\n",
       "        vertical-align: top;\n",
       "    }\n",
       "\n",
       "    .dataframe thead th {\n",
       "        text-align: right;\n",
       "    }\n",
       "</style>\n",
       "<table border=\"1\" class=\"dataframe\">\n",
       "  <thead>\n",
       "    <tr style=\"text-align: right;\">\n",
       "      <th></th>\n",
       "      <th>rougher.input.feed</th>\n",
       "      <th>rougher.output.concentrate</th>\n",
       "      <th>final.output.concentrate</th>\n",
       "    </tr>\n",
       "    <tr>\n",
       "      <th>date</th>\n",
       "      <th></th>\n",
       "      <th></th>\n",
       "      <th></th>\n",
       "    </tr>\n",
       "  </thead>\n",
       "  <tbody>\n",
       "    <tr>\n",
       "      <th>2016-01-15 00:00:00</th>\n",
       "      <td>51.680034</td>\n",
       "      <td>66.424950</td>\n",
       "      <td>63.644396</td>\n",
       "    </tr>\n",
       "    <tr>\n",
       "      <th>2016-01-15 01:00:00</th>\n",
       "      <td>50.659114</td>\n",
       "      <td>67.012710</td>\n",
       "      <td>63.957723</td>\n",
       "    </tr>\n",
       "    <tr>\n",
       "      <th>2016-01-15 02:00:00</th>\n",
       "      <td>50.609929</td>\n",
       "      <td>66.103793</td>\n",
       "      <td>64.311180</td>\n",
       "    </tr>\n",
       "    <tr>\n",
       "      <th>2016-01-15 03:00:00</th>\n",
       "      <td>51.061546</td>\n",
       "      <td>65.752751</td>\n",
       "      <td>63.573449</td>\n",
       "    </tr>\n",
       "    <tr>\n",
       "      <th>2016-01-15 04:00:00</th>\n",
       "      <td>47.859163</td>\n",
       "      <td>65.908382</td>\n",
       "      <td>64.004667</td>\n",
       "    </tr>\n",
       "  </tbody>\n",
       "</table>\n",
       "</div>"
      ],
      "text/plain": [
       "                     rougher.input.feed  rougher.output.concentrate  \\\n",
       "date                                                                  \n",
       "2016-01-15 00:00:00           51.680034                   66.424950   \n",
       "2016-01-15 01:00:00           50.659114                   67.012710   \n",
       "2016-01-15 02:00:00           50.609929                   66.103793   \n",
       "2016-01-15 03:00:00           51.061546                   65.752751   \n",
       "2016-01-15 04:00:00           47.859163                   65.908382   \n",
       "\n",
       "                     final.output.concentrate  \n",
       "date                                           \n",
       "2016-01-15 00:00:00                 63.644396  \n",
       "2016-01-15 01:00:00                 63.957723  \n",
       "2016-01-15 02:00:00                 64.311180  \n",
       "2016-01-15 03:00:00                 63.573449  \n",
       "2016-01-15 04:00:00                 64.004667  "
      ]
     },
     "execution_count": 58,
     "metadata": {},
     "output_type": "execute_result"
    }
   ],
   "source": [
    "agent_sum = get_agent_sum(df_train)\n",
    "agent_sum.head()"
   ]
  },
  {
   "cell_type": "markdown",
   "metadata": {},
   "source": [
    "Посмотрим описательные статистики"
   ]
  },
  {
   "cell_type": "code",
   "execution_count": 59,
   "metadata": {},
   "outputs": [
    {
     "data": {
      "text/html": [
       "<div>\n",
       "<style scoped>\n",
       "    .dataframe tbody tr th:only-of-type {\n",
       "        vertical-align: middle;\n",
       "    }\n",
       "\n",
       "    .dataframe tbody tr th {\n",
       "        vertical-align: top;\n",
       "    }\n",
       "\n",
       "    .dataframe thead th {\n",
       "        text-align: right;\n",
       "    }\n",
       "</style>\n",
       "<table border=\"1\" class=\"dataframe\">\n",
       "  <thead>\n",
       "    <tr style=\"text-align: right;\">\n",
       "      <th></th>\n",
       "      <th>rougher.input.feed</th>\n",
       "      <th>rougher.output.concentrate</th>\n",
       "      <th>final.output.concentrate</th>\n",
       "    </tr>\n",
       "  </thead>\n",
       "  <tbody>\n",
       "    <tr>\n",
       "      <th>count</th>\n",
       "      <td>11017.000000</td>\n",
       "      <td>11017.000000</td>\n",
       "      <td>11017.000000</td>\n",
       "    </tr>\n",
       "    <tr>\n",
       "      <th>mean</th>\n",
       "      <td>56.991456</td>\n",
       "      <td>67.898765</td>\n",
       "      <td>69.061226</td>\n",
       "    </tr>\n",
       "    <tr>\n",
       "      <th>std</th>\n",
       "      <td>6.545997</td>\n",
       "      <td>12.244650</td>\n",
       "      <td>5.992066</td>\n",
       "    </tr>\n",
       "    <tr>\n",
       "      <th>min</th>\n",
       "      <td>0.040000</td>\n",
       "      <td>0.000000</td>\n",
       "      <td>0.000000</td>\n",
       "    </tr>\n",
       "    <tr>\n",
       "      <th>25%</th>\n",
       "      <td>53.284545</td>\n",
       "      <td>65.471243</td>\n",
       "      <td>67.910682</td>\n",
       "    </tr>\n",
       "    <tr>\n",
       "      <th>50%</th>\n",
       "      <td>57.208141</td>\n",
       "      <td>69.701409</td>\n",
       "      <td>69.460715</td>\n",
       "    </tr>\n",
       "    <tr>\n",
       "      <th>75%</th>\n",
       "      <td>61.395474</td>\n",
       "      <td>73.921804</td>\n",
       "      <td>71.310493</td>\n",
       "    </tr>\n",
       "    <tr>\n",
       "      <th>max</th>\n",
       "      <td>72.492216</td>\n",
       "      <td>87.273435</td>\n",
       "      <td>80.210644</td>\n",
       "    </tr>\n",
       "  </tbody>\n",
       "</table>\n",
       "</div>"
      ],
      "text/plain": [
       "       rougher.input.feed  rougher.output.concentrate  \\\n",
       "count        11017.000000                11017.000000   \n",
       "mean            56.991456                   67.898765   \n",
       "std              6.545997                   12.244650   \n",
       "min              0.040000                    0.000000   \n",
       "25%             53.284545                   65.471243   \n",
       "50%             57.208141                   69.701409   \n",
       "75%             61.395474                   73.921804   \n",
       "max             72.492216                   87.273435   \n",
       "\n",
       "       final.output.concentrate  \n",
       "count              11017.000000  \n",
       "mean                  69.061226  \n",
       "std                    5.992066  \n",
       "min                    0.000000  \n",
       "25%                   67.910682  \n",
       "50%                   69.460715  \n",
       "75%                   71.310493  \n",
       "max                   80.210644  "
      ]
     },
     "execution_count": 59,
     "metadata": {},
     "output_type": "execute_result"
    }
   ],
   "source": [
    "agent_sum.describe()"
   ]
  },
  {
   "cell_type": "markdown",
   "metadata": {},
   "source": [
    "Построим графики - гистограмму и диаграмму \"ящик с усами\""
   ]
  },
  {
   "cell_type": "code",
   "execution_count": 60,
   "metadata": {},
   "outputs": [],
   "source": [
    "def display_hist(agent_sum):\n",
    "    agent_sum.plot.hist(bins=100, alpha=0.6)\n",
    "    plt.title('Суммарная концентрация всех веществ на разных стадиях')\n",
    "    plt.legend(['Сырье', 'Черновой концентрат', 'Финальный концентрат'])\n",
    "    plt.show() "
   ]
  },
  {
   "cell_type": "code",
   "execution_count": 61,
   "metadata": {},
   "outputs": [
    {
     "data": {
      "image/png": "[encoded data removed]",
      "text/plain": [
       "<Figure size 1080x504 with 1 Axes>"
      ]
     },
     "metadata": {},
     "output_type": "display_data"
    }
   ],
   "source": [
    "display_hist(agent_sum)"
   ]
  },
  {
   "cell_type": "code",
   "execution_count": 62,
   "metadata": {},
   "outputs": [],
   "source": [
    "def display_boxplot(agent_sum):\n",
    "    sns.boxplot(data= agent_sum)\n",
    "    plt.title('Суммарная концентрация всех веществ на разных стадиях')\n",
    "    plt.show() "
   ]
  },
  {
   "cell_type": "code",
   "execution_count": 63,
   "metadata": {},
   "outputs": [
    {
     "data": {
      "image/png": "[encoded data removed]",
      "text/plain": [
       "<Figure size 1080x504 with 1 Axes>"
      ]
     },
     "metadata": {},
     "output_type": "display_data"
    }
   ],
   "source": [
    "display_boxplot(agent_sum)"
   ]
  },
  {
   "cell_type": "markdown",
   "metadata": {},
   "source": [
    "Около нуля наблюдается большое количество выбросов (при этом это не NaN, мы их удалили), и в целом много выбросов  \n",
    "Попробуем от них избавиться"
   ]
  },
  {
   "cell_type": "markdown",
   "metadata": {},
   "source": [
    "Опишем функцию (фильтр Хампеля), которая заменяет на NaN все значения, у которых разница с медианой больше, чем пять медианных абсолютных отклонений (std)"
   ]
  },
  {
   "cell_type": "code",
   "execution_count": 64,
   "metadata": {},
   "outputs": [],
   "source": [
    "def hampel(vals_orig):\n",
    "    vals = vals_orig.copy()    \n",
    "    difference = np.abs(vals.median()-vals)\n",
    "    median_abs_deviation = difference.median()\n",
    "    threshold = 5 * median_abs_deviation\n",
    "    outlier_idx = difference > threshold\n",
    "    vals[outlier_idx] = np.nan\n",
    "    return(vals)"
   ]
  },
  {
   "cell_type": "markdown",
   "metadata": {},
   "source": [
    "Применим функцию к обучающей выборке"
   ]
  },
  {
   "cell_type": "code",
   "execution_count": 65,
   "metadata": {},
   "outputs": [],
   "source": [
    "for stage in stages:\n",
    "    column = get_column_list(stage, agent)\n",
    "    df_train[column] = hampel(df_train[column])"
   ]
  },
  {
   "cell_type": "code",
   "execution_count": 66,
   "metadata": {},
   "outputs": [
    {
     "data": {
      "text/plain": [
       "rougher.output.concentrate_sol                        399\n",
       "final.output.concentrate_au                           397\n",
       "rougher.output.concentrate_au                         346\n",
       "rougher.output.concentrate_pb                         280\n",
       "rougher.output.concentrate_ag                         237\n",
       "                                                     ... \n",
       "rougher.calculation.au_pb_ratio                         0\n",
       "rougher.calculation.floatbank11_sulfate_to_au_feed      0\n",
       "rougher.calculation.floatbank10_sulfate_to_au_feed      0\n",
       "rougher.calculation.sulfate_to_au_concentrate           0\n",
       "secondary_cleaner.state.floatbank6_a_level              0\n",
       "Length: 86, dtype: int64"
      ]
     },
     "execution_count": 66,
     "metadata": {},
     "output_type": "execute_result"
    }
   ],
   "source": [
    "df_train.isna().sum().sort_values(ascending=False)"
   ]
  },
  {
   "cell_type": "markdown",
   "metadata": {},
   "source": [
    "Удалим из выборки полученные пропуски"
   ]
  },
  {
   "cell_type": "code",
   "execution_count": 67,
   "metadata": {},
   "outputs": [],
   "source": [
    "df_train.dropna(inplace=True)"
   ]
  },
  {
   "cell_type": "markdown",
   "metadata": {},
   "source": [
    "Сформируем датафрейм с суммами и посмотрим описательные статистики"
   ]
  },
  {
   "cell_type": "code",
   "execution_count": 68,
   "metadata": {},
   "outputs": [
    {
     "data": {
      "text/html": [
       "<div>\n",
       "<style scoped>\n",
       "    .dataframe tbody tr th:only-of-type {\n",
       "        vertical-align: middle;\n",
       "    }\n",
       "\n",
       "    .dataframe tbody tr th {\n",
       "        vertical-align: top;\n",
       "    }\n",
       "\n",
       "    .dataframe thead th {\n",
       "        text-align: right;\n",
       "    }\n",
       "</style>\n",
       "<table border=\"1\" class=\"dataframe\">\n",
       "  <thead>\n",
       "    <tr style=\"text-align: right;\">\n",
       "      <th></th>\n",
       "      <th>rougher.input.feed</th>\n",
       "      <th>rougher.output.concentrate</th>\n",
       "      <th>final.output.concentrate</th>\n",
       "    </tr>\n",
       "  </thead>\n",
       "  <tbody>\n",
       "    <tr>\n",
       "      <th>count</th>\n",
       "      <td>9788.000000</td>\n",
       "      <td>9788.000000</td>\n",
       "      <td>9788.000000</td>\n",
       "    </tr>\n",
       "    <tr>\n",
       "      <th>mean</th>\n",
       "      <td>57.523704</td>\n",
       "      <td>69.892299</td>\n",
       "      <td>69.769200</td>\n",
       "    </tr>\n",
       "    <tr>\n",
       "      <th>std</th>\n",
       "      <td>5.675923</td>\n",
       "      <td>6.346869</td>\n",
       "      <td>2.761526</td>\n",
       "    </tr>\n",
       "    <tr>\n",
       "      <th>min</th>\n",
       "      <td>36.006457</td>\n",
       "      <td>42.790480</td>\n",
       "      <td>56.148667</td>\n",
       "    </tr>\n",
       "    <tr>\n",
       "      <th>25%</th>\n",
       "      <td>53.659452</td>\n",
       "      <td>66.196993</td>\n",
       "      <td>68.118389</td>\n",
       "    </tr>\n",
       "    <tr>\n",
       "      <th>50%</th>\n",
       "      <td>57.501756</td>\n",
       "      <td>70.001242</td>\n",
       "      <td>69.575033</td>\n",
       "    </tr>\n",
       "    <tr>\n",
       "      <th>75%</th>\n",
       "      <td>61.603934</td>\n",
       "      <td>74.044276</td>\n",
       "      <td>71.342433</td>\n",
       "    </tr>\n",
       "    <tr>\n",
       "      <th>max</th>\n",
       "      <td>72.492216</td>\n",
       "      <td>86.994951</td>\n",
       "      <td>77.346647</td>\n",
       "    </tr>\n",
       "  </tbody>\n",
       "</table>\n",
       "</div>"
      ],
      "text/plain": [
       "       rougher.input.feed  rougher.output.concentrate  \\\n",
       "count         9788.000000                 9788.000000   \n",
       "mean            57.523704                   69.892299   \n",
       "std              5.675923                    6.346869   \n",
       "min             36.006457                   42.790480   \n",
       "25%             53.659452                   66.196993   \n",
       "50%             57.501756                   70.001242   \n",
       "75%             61.603934                   74.044276   \n",
       "max             72.492216                   86.994951   \n",
       "\n",
       "       final.output.concentrate  \n",
       "count               9788.000000  \n",
       "mean                  69.769200  \n",
       "std                    2.761526  \n",
       "min                   56.148667  \n",
       "25%                   68.118389  \n",
       "50%                   69.575033  \n",
       "75%                   71.342433  \n",
       "max                   77.346647  "
      ]
     },
     "execution_count": 68,
     "metadata": {},
     "output_type": "execute_result"
    }
   ],
   "source": [
    "agent_sum = get_agent_sum(df_train)\n",
    "agent_sum.describe()"
   ]
  },
  {
   "cell_type": "markdown",
   "metadata": {},
   "source": [
    "Построим графики по новому датафрейму"
   ]
  },
  {
   "cell_type": "code",
   "execution_count": 69,
   "metadata": {},
   "outputs": [
    {
     "data": {
      "image/png": "[encoded data removed]",
      "text/plain": [
       "<Figure size 1080x504 with 1 Axes>"
      ]
     },
     "metadata": {},
     "output_type": "display_data"
    }
   ],
   "source": [
    "display_hist(agent_sum)"
   ]
  },
  {
   "cell_type": "code",
   "execution_count": 70,
   "metadata": {},
   "outputs": [
    {
     "data": {
      "image/png": "[encoded data removed]",
      "text/plain": [
       "<Figure size 1080x504 with 1 Axes>"
      ]
     },
     "metadata": {},
     "output_type": "display_data"
    }
   ],
   "source": [
    "display_boxplot(agent_sum)"
   ]
  },
  {
   "cell_type": "markdown",
   "metadata": {},
   "source": [
    "Стало гораздо лучше, но сколько данных мы потеряли?"
   ]
  },
  {
   "cell_type": "code",
   "execution_count": 71,
   "metadata": {},
   "outputs": [
    {
     "data": {
      "text/plain": [
       "69.17803378330625"
      ]
     },
     "execution_count": 71,
     "metadata": {},
     "output_type": "execute_result"
    }
   ],
   "source": [
    "100 * df_train.shape[0] / df_train_original.shape[0]"
   ]
  },
  {
   "cell_type": "markdown",
   "metadata": {},
   "source": [
    "По сравнению с исходной выборкой после всех очисток потерян почти 31% данных. Все ради модели!"
   ]
  },
  {
   "cell_type": "markdown",
   "metadata": {},
   "source": [
    "## Модель"
   ]
  },
  {
   "cell_type": "markdown",
   "metadata": {},
   "source": [
    "### Формулы метрик качества"
   ]
  },
  {
   "cell_type": "markdown",
   "metadata": {},
   "source": [
    "$$\n",
    "\\\\sMAPE = \\frac{1}{N}\\sum_{i=1}^{N}*\\frac{|y_{i}-\\hat{y}|}{(|y_{i}|+|\\hat{y}|)/2}*100\\% \n",
    "$$\n",
    "\n",
    "$$\n",
    "\\\\final = 25\\% * sMAPE(rougher) + 75\\% * sMAPE(final)\n",
    "$$"
   ]
  },
  {
   "cell_type": "markdown",
   "metadata": {},
   "source": [
    "Определим формулы для вычисления метрик качества"
   ]
  },
  {
   "cell_type": "code",
   "execution_count": 72,
   "metadata": {},
   "outputs": [],
   "source": [
    "def sMAPE(target, prediction):\n",
    "    return 1 / len(target) * sum( abs(target - prediction) / ( (abs(target) + abs(prediction)) * 0.5) ) * 100"
   ]
  },
  {
   "cell_type": "code",
   "execution_count": 73,
   "metadata": {},
   "outputs": [],
   "source": [
    "def sMAPE_final(rough, final):\n",
    "    return 0.25 * rough + 0.75 * final"
   ]
  },
  {
   "cell_type": "code",
   "execution_count": 74,
   "metadata": {},
   "outputs": [],
   "source": [
    "custom_score = make_scorer(sMAPE, greater_is_better=False)"
   ]
  },
  {
   "cell_type": "markdown",
   "metadata": {},
   "source": [
    "### Подготовка данных для машинного обучения"
   ]
  },
  {
   "cell_type": "markdown",
   "metadata": {},
   "source": [
    "Так как столбцы в тестовой и обучающей выборках различаются, необходимо сформировать новую обучающую выборку только с теми столбцами, которые есть в тестовой"
   ]
  },
  {
   "cell_type": "code",
   "execution_count": 75,
   "metadata": {},
   "outputs": [],
   "source": [
    "df_train_full = df_train.copy()\n",
    "\n",
    "df_train = df_train.drop(list(df_train.columns.difference(df_test.columns)), axis=1)"
   ]
  },
  {
   "cell_type": "markdown",
   "metadata": {},
   "source": [
    "Итоговая метрика sMAPE зависит линейно от sMAPE после флотации и после очистки, значит, обучать модель можно на двух независимых выборках\n",
    "Выделим в обучающей выборке признаки и целевые признаки"
   ]
  },
  {
   "cell_type": "markdown",
   "metadata": {},
   "source": [
    "Сформируем списки столбцов для rougher и final выборок"
   ]
  },
  {
   "cell_type": "code",
   "execution_count": 76,
   "metadata": {},
   "outputs": [],
   "source": [
    "rougher_columns = []\n",
    "pattern = re.compile('rougher')\n",
    "\n",
    "for column in list(df_test.columns):\n",
    "    if re.match(pattern, column):\n",
    "        rougher_columns.append(column)\n",
    "\n",
    "final_columns = list(set(df_test.columns) - set(rougher_columns))"
   ]
  },
  {
   "cell_type": "markdown",
   "metadata": {},
   "source": [
    "Скопируем из общей выборки в тестовую значения из целевых столбцов по индексу строк"
   ]
  },
  {
   "cell_type": "code",
   "execution_count": 77,
   "metadata": {},
   "outputs": [],
   "source": [
    "test_index = list(df_test.index)\n",
    "\n",
    "test_target_columns = pd.DataFrame()\n",
    "test_target_columns = df_full.loc[test_index][['rougher.output.recovery', 'final.output.recovery']]"
   ]
  },
  {
   "cell_type": "markdown",
   "metadata": {},
   "source": [
    "Разделим выборки"
   ]
  },
  {
   "cell_type": "code",
   "execution_count": 78,
   "metadata": {},
   "outputs": [],
   "source": [
    "rougher_train_features = df_train[rougher_columns]\n",
    "rougher_train_target = df_train_full['rougher.output.recovery']\n",
    "\n",
    "final_train_features = df_train[final_columns]\n",
    "final_train_target = df_train_full['final.output.recovery']\n",
    "\n",
    "rougher_test_features = df_test[rougher_columns]\n",
    "rougher_test_target = test_target_columns['rougher.output.recovery']\n",
    "\n",
    "final_test_features = df_test[final_columns]\n",
    "final_test_target = test_target_columns['final.output.recovery']"
   ]
  },
  {
   "cell_type": "markdown",
   "metadata": {},
   "source": [
    "Проверим размеры сформированных выборок"
   ]
  },
  {
   "cell_type": "code",
   "execution_count": 79,
   "metadata": {},
   "outputs": [
    {
     "name": "stdout",
     "output_type": "stream",
     "text": [
      "(9788, 22) (9788,)\n"
     ]
    }
   ],
   "source": [
    "print(rougher_train_features.shape, rougher_train_target.shape)"
   ]
  },
  {
   "cell_type": "code",
   "execution_count": 80,
   "metadata": {},
   "outputs": [
    {
     "name": "stdout",
     "output_type": "stream",
     "text": [
      "(9788, 30) (9788,)\n"
     ]
    }
   ],
   "source": [
    "print(final_train_features.shape, final_train_target.shape)"
   ]
  },
  {
   "cell_type": "code",
   "execution_count": 81,
   "metadata": {},
   "outputs": [
    {
     "name": "stdout",
     "output_type": "stream",
     "text": [
      "(5229, 22) (5229, 30)\n"
     ]
    }
   ],
   "source": [
    "print(rougher_test_features.shape, final_test_features.shape)"
   ]
  },
  {
   "cell_type": "markdown",
   "metadata": {},
   "source": [
    "Масштабируем признаки на обучающей и тестовой выборках с помощью метода StandardScaler"
   ]
  },
  {
   "cell_type": "markdown",
   "metadata": {},
   "source": [
    "Функция для обучения Scaler на выборке"
   ]
  },
  {
   "cell_type": "code",
   "execution_count": 84,
   "metadata": {},
   "outputs": [],
   "source": [
    "def fit_scaler(df):\n",
    "    scaler = StandardScaler()\n",
    "    scaler.fit(df)\n",
    "    return scaler"
   ]
  },
  {
   "cell_type": "markdown",
   "metadata": {},
   "source": [
    "Функция для применения обученного Scaler на выборке"
   ]
  },
  {
   "cell_type": "code",
   "execution_count": 85,
   "metadata": {},
   "outputs": [],
   "source": [
    "def apply_scaler(df, scaler):\n",
    "    return pd.DataFrame(scaler.transform(df))"
   ]
  },
  {
   "cell_type": "markdown",
   "metadata": {},
   "source": [
    "Обучим Scaler на обеих обучающих выборках (rougher и final)"
   ]
  },
  {
   "cell_type": "code",
   "execution_count": 86,
   "metadata": {},
   "outputs": [],
   "source": [
    "rougher_scaler = fit_scaler(rougher_train_features)\n",
    "final_scaler = fit_scaler(final_train_features)"
   ]
  },
  {
   "cell_type": "markdown",
   "metadata": {},
   "source": [
    "Применим обученный Scaler ко всем выборкам"
   ]
  },
  {
   "cell_type": "code",
   "execution_count": 87,
   "metadata": {},
   "outputs": [],
   "source": [
    "rougher_train_features = apply_scaler(rougher_train_features, rougher_scaler)\n",
    "rougher_test_features = apply_scaler(rougher_test_features, rougher_scaler)"
   ]
  },
  {
   "cell_type": "code",
   "execution_count": 88,
   "metadata": {},
   "outputs": [],
   "source": [
    "final_train_features = apply_scaler(final_train_features, final_scaler)\n",
    "final_test_features = apply_scaler(final_test_features, final_scaler)"
   ]
  },
  {
   "cell_type": "markdown",
   "metadata": {},
   "source": [
    "### Обучение моделей"
   ]
  },
  {
   "cell_type": "markdown",
   "metadata": {},
   "source": [
    "Создадим модели RandomForestRegressor и DecisionTreeRegressor"
   ]
  },
  {
   "cell_type": "code",
   "execution_count": 89,
   "metadata": {},
   "outputs": [],
   "source": [
    "model_rf = RandomForestRegressor()\n",
    "model_dt = DecisionTreeRegressor()"
   ]
  },
  {
   "cell_type": "markdown",
   "metadata": {},
   "source": [
    "Зададим параметры для GridSearchCV"
   ]
  },
  {
   "cell_type": "code",
   "execution_count": 90,
   "metadata": {},
   "outputs": [],
   "source": [
    "parameters_rf = {\"n_estimators\":[5,100], \"max_depth\":[1,10]}\n",
    "parameters_dt = {\"max_depth\":[1,10]}"
   ]
  },
  {
   "cell_type": "markdown",
   "metadata": {},
   "source": [
    "Проведем обучение моделей"
   ]
  },
  {
   "cell_type": "code",
   "execution_count": 91,
   "metadata": {},
   "outputs": [],
   "source": [
    "def get_grid(model, parameters, custom_score, features, target):\n",
    "    grid = GridSearchCV(model, parameters, custom_score)\n",
    "    grid.fit(features, target)\n",
    "    return grid"
   ]
  },
  {
   "cell_type": "code",
   "execution_count": 92,
   "metadata": {},
   "outputs": [],
   "source": [
    "grid_rougher_rf = get_grid(model_rf, parameters_rf, custom_score, rougher_train_features, rougher_train_target)\n",
    "grid_rougher_dt = get_grid(model_dt, parameters_dt, custom_score, rougher_train_features, rougher_train_target)\n",
    "\n",
    "grid_final_rf = get_grid(model_rf, parameters_rf, custom_score, final_train_features, final_train_target)\n",
    "grid_final_dt = get_grid(model_dt, parameters_dt, custom_score, final_train_features, final_train_target)"
   ]
  },
  {
   "cell_type": "markdown",
   "metadata": {},
   "source": [
    "Выведем параметры обученных моделей"
   ]
  },
  {
   "cell_type": "code",
   "execution_count": 93,
   "metadata": {},
   "outputs": [],
   "source": [
    "def display_grid(grid):\n",
    "    print('Best score:', grid.best_score_, \n",
    "          '\\nBest estimator:', grid.best_estimator_)"
   ]
  },
  {
   "cell_type": "code",
   "execution_count": 94,
   "metadata": {},
   "outputs": [
    {
     "name": "stdout",
     "output_type": "stream",
     "text": [
      "Best score: -5.942757268491076 \n",
      "Best estimator: RandomForestRegressor(max_depth=10)\n"
     ]
    }
   ],
   "source": [
    "display_grid(grid_rougher_rf)"
   ]
  },
  {
   "cell_type": "code",
   "execution_count": 95,
   "metadata": {},
   "outputs": [
    {
     "name": "stdout",
     "output_type": "stream",
     "text": [
      "Best score: -6.6261820243879255 \n",
      "Best estimator: DecisionTreeRegressor(max_depth=1)\n"
     ]
    }
   ],
   "source": [
    "display_grid(grid_rougher_dt)"
   ]
  },
  {
   "cell_type": "code",
   "execution_count": 96,
   "metadata": {},
   "outputs": [
    {
     "name": "stdout",
     "output_type": "stream",
     "text": [
      "Best score: -8.724345711055719 \n",
      "Best estimator: RandomForestRegressor(max_depth=1, n_estimators=5)\n"
     ]
    }
   ],
   "source": [
    "display_grid(grid_final_rf)"
   ]
  },
  {
   "cell_type": "code",
   "execution_count": 97,
   "metadata": {},
   "outputs": [
    {
     "name": "stdout",
     "output_type": "stream",
     "text": [
      "Best score: -8.8954475131055 \n",
      "Best estimator: DecisionTreeRegressor(max_depth=1)\n"
     ]
    }
   ],
   "source": [
    "display_grid(grid_final_dt)"
   ]
  },
  {
   "cell_type": "markdown",
   "metadata": {},
   "source": [
    "Очевидно, лучшие параметры показывает RandomForestRegressor"
   ]
  },
  {
   "cell_type": "markdown",
   "metadata": {},
   "source": [
    "Рассчитаем итоговую sMAPE"
   ]
  },
  {
   "cell_type": "code",
   "execution_count": 98,
   "metadata": {},
   "outputs": [
    {
     "data": {
      "text/plain": [
       "-8.028948600414559"
      ]
     },
     "execution_count": 98,
     "metadata": {},
     "output_type": "execute_result"
    }
   ],
   "source": [
    "sMAPE_final(grid_rougher_rf.best_score_, grid_final_rf.best_score_)"
   ]
  },
  {
   "cell_type": "code",
   "execution_count": 99,
   "metadata": {},
   "outputs": [
    {
     "data": {
      "text/plain": [
       "-8.328131140926105"
      ]
     },
     "execution_count": 99,
     "metadata": {},
     "output_type": "execute_result"
    }
   ],
   "source": [
    "sMAPE_final(grid_rougher_dt.best_score_, grid_final_dt.best_score_)"
   ]
  },
  {
   "cell_type": "markdown",
   "metadata": {},
   "source": [
    "Опять же, у RandomForestRegressor результат лучше"
   ]
  },
  {
   "cell_type": "markdown",
   "metadata": {},
   "source": [
    "### Предсказание на тестовой выборке"
   ]
  },
  {
   "cell_type": "code",
   "execution_count": 100,
   "metadata": {},
   "outputs": [],
   "source": [
    "rougher_test_predictions = grid_rougher_rf.predict(rougher_test_features)"
   ]
  },
  {
   "cell_type": "code",
   "execution_count": 101,
   "metadata": {},
   "outputs": [],
   "source": [
    "final_test_predictions = grid_final_rf.predict(final_test_features)"
   ]
  },
  {
   "cell_type": "code",
   "execution_count": 102,
   "metadata": {},
   "outputs": [
    {
     "data": {
      "text/plain": [
       "8.31330008363726"
      ]
     },
     "execution_count": 102,
     "metadata": {},
     "output_type": "execute_result"
    }
   ],
   "source": [
    "sMAPE_final(sMAPE(rougher_test_target, rougher_test_predictions),\n",
    "            sMAPE(final_test_target, final_test_predictions))"
   ]
  },
  {
   "cell_type": "markdown",
   "metadata": {},
   "source": [
    "* Итоговая модель была построена на алгоритме RandomForestRegressor\n",
    "* Ошибка модели на обучающей выборке 11.244732296697391\n",
    "* Ошибка модели на тестовой выборке 8.64075214819033"
   ]
  }
 ],
 "metadata": {
  "ExecuteTimeLog": [
   {
    "duration": 415,
    "start_time": "2022-03-26T17:18:49.321Z"
   },
   {
    "duration": 703,
    "start_time": "2022-03-26T17:21:05.083Z"
   },
   {
    "duration": 18,
    "start_time": "2022-03-26T17:21:14.207Z"
   },
   {
    "duration": 18,
    "start_time": "2022-03-26T17:21:33.986Z"
   },
   {
    "duration": 18,
    "start_time": "2022-03-26T17:27:07.511Z"
   },
   {
    "duration": 27,
    "start_time": "2022-03-26T17:27:54.972Z"
   },
   {
    "duration": 218,
    "start_time": "2022-03-26T17:28:48.094Z"
   },
   {
    "duration": 161,
    "start_time": "2022-03-26T19:06:19.269Z"
   },
   {
    "duration": 242,
    "start_time": "2022-03-26T19:06:47.193Z"
   },
   {
    "duration": 25,
    "start_time": "2022-03-26T19:08:05.565Z"
   },
   {
    "duration": 7,
    "start_time": "2022-03-26T19:08:22.531Z"
   },
   {
    "duration": 12,
    "start_time": "2022-03-26T19:08:30.243Z"
   },
   {
    "duration": 11,
    "start_time": "2022-03-26T19:08:59.821Z"
   },
   {
    "duration": 10,
    "start_time": "2022-03-26T19:09:41.236Z"
   },
   {
    "duration": 11,
    "start_time": "2022-03-26T19:09:45.250Z"
   },
   {
    "duration": 10,
    "start_time": "2022-03-26T19:09:48.978Z"
   },
   {
    "duration": 10,
    "start_time": "2022-03-26T19:09:54.590Z"
   },
   {
    "duration": 12,
    "start_time": "2022-03-26T19:09:59.513Z"
   },
   {
    "duration": 11,
    "start_time": "2022-03-26T19:10:05.981Z"
   },
   {
    "duration": 10,
    "start_time": "2022-03-26T19:10:10.097Z"
   },
   {
    "duration": 10,
    "start_time": "2022-03-26T19:10:15.981Z"
   },
   {
    "duration": 11,
    "start_time": "2022-03-26T19:10:34.125Z"
   },
   {
    "duration": 12,
    "start_time": "2022-03-26T19:10:42.364Z"
   },
   {
    "duration": 516,
    "start_time": "2022-03-28T07:39:00.693Z"
   },
   {
    "duration": 1007,
    "start_time": "2022-03-28T07:39:01.211Z"
   },
   {
    "duration": 22,
    "start_time": "2022-03-28T07:39:03.126Z"
   },
   {
    "duration": 17,
    "start_time": "2022-03-28T07:39:07.000Z"
   },
   {
    "duration": 24,
    "start_time": "2022-03-28T07:39:07.938Z"
   },
   {
    "duration": 70,
    "start_time": "2022-03-28T09:58:15.093Z"
   },
   {
    "duration": 518,
    "start_time": "2022-03-28T09:58:19.005Z"
   },
   {
    "duration": 807,
    "start_time": "2022-03-28T09:58:20.796Z"
   },
   {
    "duration": 25,
    "start_time": "2022-03-28T09:58:22.319Z"
   },
   {
    "duration": 22,
    "start_time": "2022-03-28T09:58:24.295Z"
   },
   {
    "duration": 26,
    "start_time": "2022-03-28T09:58:25.242Z"
   },
   {
    "duration": 41,
    "start_time": "2022-03-28T09:58:38.669Z"
   },
   {
    "duration": 31,
    "start_time": "2022-03-28T09:59:18.299Z"
   },
   {
    "duration": 32,
    "start_time": "2022-03-28T09:59:26.855Z"
   },
   {
    "duration": 30,
    "start_time": "2022-03-28T09:59:29.436Z"
   },
   {
    "duration": 142,
    "start_time": "2022-03-28T10:00:36.950Z"
   },
   {
    "duration": 16,
    "start_time": "2022-03-28T12:13:28.987Z"
   },
   {
    "duration": 550,
    "start_time": "2022-03-28T12:13:36.226Z"
   },
   {
    "duration": 837,
    "start_time": "2022-03-28T12:13:36.828Z"
   },
   {
    "duration": 25,
    "start_time": "2022-03-28T12:13:37.729Z"
   },
   {
    "duration": 21,
    "start_time": "2022-03-28T12:13:38.165Z"
   },
   {
    "duration": 24,
    "start_time": "2022-03-28T12:13:38.602Z"
   },
   {
    "duration": 41,
    "start_time": "2022-03-28T12:13:39.223Z"
   },
   {
    "duration": 30,
    "start_time": "2022-03-28T12:13:40.031Z"
   },
   {
    "duration": 29,
    "start_time": "2022-03-28T12:13:40.475Z"
   },
   {
    "duration": 4,
    "start_time": "2022-03-28T12:13:43.601Z"
   },
   {
    "duration": 4,
    "start_time": "2022-03-28T12:22:09.929Z"
   },
   {
    "duration": 12,
    "start_time": "2022-03-28T12:25:39.153Z"
   },
   {
    "duration": 14,
    "start_time": "2022-03-28T12:26:00.348Z"
   },
   {
    "duration": 4,
    "start_time": "2022-03-28T12:27:23.011Z"
   },
   {
    "duration": 8,
    "start_time": "2022-03-28T12:27:25.347Z"
   },
   {
    "duration": 12,
    "start_time": "2022-03-28T12:27:25.722Z"
   },
   {
    "duration": 8,
    "start_time": "2022-03-28T12:27:53.769Z"
   },
   {
    "duration": 13,
    "start_time": "2022-03-28T12:28:14.482Z"
   },
   {
    "duration": 171,
    "start_time": "2022-03-28T12:30:43.707Z"
   },
   {
    "duration": 1350,
    "start_time": "2022-03-28T12:31:05.003Z"
   },
   {
    "duration": 7,
    "start_time": "2022-03-28T12:31:10.078Z"
   },
   {
    "duration": 8,
    "start_time": "2022-03-28T13:55:26.700Z"
   },
   {
    "duration": 7,
    "start_time": "2022-03-28T13:59:23.481Z"
   },
   {
    "duration": 7,
    "start_time": "2022-03-28T14:00:36.597Z"
   },
   {
    "duration": 14,
    "start_time": "2022-03-28T14:02:04.443Z"
   },
   {
    "duration": 6,
    "start_time": "2022-03-28T14:02:20.322Z"
   },
   {
    "duration": 8,
    "start_time": "2022-03-28T14:02:33.715Z"
   },
   {
    "duration": 12,
    "start_time": "2022-03-28T14:02:55.664Z"
   },
   {
    "duration": 9,
    "start_time": "2022-03-28T14:03:02.872Z"
   },
   {
    "duration": 7,
    "start_time": "2022-03-28T14:03:43.158Z"
   },
   {
    "duration": 79,
    "start_time": "2022-03-28T16:33:20.673Z"
   },
   {
    "duration": 1796,
    "start_time": "2022-03-28T16:33:29.682Z"
   },
   {
    "duration": 814,
    "start_time": "2022-03-28T16:33:31.481Z"
   },
   {
    "duration": 25,
    "start_time": "2022-03-28T16:33:32.297Z"
   },
   {
    "duration": 18,
    "start_time": "2022-03-28T16:33:32.324Z"
   },
   {
    "duration": 28,
    "start_time": "2022-03-28T16:33:32.366Z"
   },
   {
    "duration": 39,
    "start_time": "2022-03-28T16:33:32.397Z"
   },
   {
    "duration": 59,
    "start_time": "2022-03-28T16:33:32.438Z"
   },
   {
    "duration": 28,
    "start_time": "2022-03-28T16:33:32.499Z"
   },
   {
    "duration": 5,
    "start_time": "2022-03-28T16:33:32.530Z"
   },
   {
    "duration": 40,
    "start_time": "2022-03-28T16:33:32.537Z"
   },
   {
    "duration": 11,
    "start_time": "2022-03-28T16:33:32.579Z"
   },
   {
    "duration": 8,
    "start_time": "2022-03-28T16:33:32.593Z"
   },
   {
    "duration": 15,
    "start_time": "2022-03-28T16:33:32.603Z"
   },
   {
    "duration": 48,
    "start_time": "2022-03-28T16:33:32.622Z"
   },
   {
    "duration": 7,
    "start_time": "2022-03-28T16:33:32.672Z"
   },
   {
    "duration": 7,
    "start_time": "2022-03-28T16:33:32.681Z"
   },
   {
    "duration": 8,
    "start_time": "2022-03-28T16:33:32.690Z"
   },
   {
    "duration": 7,
    "start_time": "2022-03-28T16:33:32.700Z"
   },
   {
    "duration": 9,
    "start_time": "2022-03-28T16:33:35.799Z"
   },
   {
    "duration": 11,
    "start_time": "2022-03-28T16:34:16.748Z"
   },
   {
    "duration": 9,
    "start_time": "2022-03-28T16:34:34.162Z"
   },
   {
    "duration": 10,
    "start_time": "2022-03-28T16:34:41.691Z"
   },
   {
    "duration": 10,
    "start_time": "2022-03-28T16:34:47.779Z"
   },
   {
    "duration": 94,
    "start_time": "2022-03-28T16:36:47.448Z"
   },
   {
    "duration": 36,
    "start_time": "2022-03-28T16:37:02.562Z"
   },
   {
    "duration": 35,
    "start_time": "2022-03-28T16:37:08.892Z"
   },
   {
    "duration": 181,
    "start_time": "2022-03-28T16:37:29.437Z"
   },
   {
    "duration": 35,
    "start_time": "2022-03-28T16:37:31.893Z"
   },
   {
    "duration": 161,
    "start_time": "2022-03-28T16:37:38.595Z"
   },
   {
    "duration": 12,
    "start_time": "2022-03-28T16:38:44.594Z"
   },
   {
    "duration": 43,
    "start_time": "2022-03-28T17:06:44.771Z"
   },
   {
    "duration": 1110,
    "start_time": "2022-03-28T17:06:49.293Z"
   },
   {
    "duration": 647,
    "start_time": "2022-03-28T17:06:50.405Z"
   },
   {
    "duration": 16,
    "start_time": "2022-03-28T17:06:51.053Z"
   },
   {
    "duration": 20,
    "start_time": "2022-03-28T17:06:51.071Z"
   },
   {
    "duration": 16,
    "start_time": "2022-03-28T17:06:51.092Z"
   },
   {
    "duration": 22,
    "start_time": "2022-03-28T17:06:51.110Z"
   },
   {
    "duration": 16,
    "start_time": "2022-03-28T17:06:51.134Z"
   },
   {
    "duration": 46,
    "start_time": "2022-03-28T17:06:51.151Z"
   },
   {
    "duration": 4,
    "start_time": "2022-03-28T17:06:51.198Z"
   },
   {
    "duration": 9,
    "start_time": "2022-03-28T17:06:51.204Z"
   },
   {
    "duration": 7,
    "start_time": "2022-03-28T17:06:51.214Z"
   },
   {
    "duration": 7,
    "start_time": "2022-03-28T17:06:51.223Z"
   },
   {
    "duration": 9,
    "start_time": "2022-03-28T17:06:51.231Z"
   },
   {
    "duration": 8,
    "start_time": "2022-03-28T17:06:51.241Z"
   },
   {
    "duration": 32,
    "start_time": "2022-03-28T17:06:51.250Z"
   },
   {
    "duration": 4,
    "start_time": "2022-03-28T17:06:51.283Z"
   },
   {
    "duration": 7,
    "start_time": "2022-03-28T17:06:51.288Z"
   },
   {
    "duration": 6,
    "start_time": "2022-03-28T17:06:51.296Z"
   },
   {
    "duration": 131,
    "start_time": "2022-03-28T17:06:51.303Z"
   },
   {
    "duration": 20,
    "start_time": "2022-03-28T17:06:51.435Z"
   },
   {
    "duration": 103,
    "start_time": "2022-03-28T17:06:51.457Z"
   },
   {
    "duration": 5,
    "start_time": "2022-03-28T17:06:53.493Z"
   },
   {
    "duration": 4,
    "start_time": "2022-03-28T17:07:04.563Z"
   },
   {
    "duration": 4,
    "start_time": "2022-03-28T17:07:13.526Z"
   },
   {
    "duration": 5,
    "start_time": "2022-03-28T17:07:34.407Z"
   },
   {
    "duration": 4,
    "start_time": "2022-03-28T17:07:48.781Z"
   },
   {
    "duration": 3,
    "start_time": "2022-03-28T17:08:55.087Z"
   },
   {
    "duration": 3,
    "start_time": "2022-03-28T17:08:59.460Z"
   },
   {
    "duration": 4,
    "start_time": "2022-03-28T17:09:04.384Z"
   },
   {
    "duration": 4,
    "start_time": "2022-03-28T17:09:08.143Z"
   },
   {
    "duration": 4,
    "start_time": "2022-03-28T17:09:12.458Z"
   },
   {
    "duration": 4,
    "start_time": "2022-03-28T17:09:18.682Z"
   },
   {
    "duration": 4,
    "start_time": "2022-03-28T17:09:25.990Z"
   },
   {
    "duration": 6,
    "start_time": "2022-03-28T17:13:19.802Z"
   },
   {
    "duration": 164,
    "start_time": "2022-03-28T17:13:56.288Z"
   },
   {
    "duration": 153,
    "start_time": "2022-03-28T17:14:06.187Z"
   },
   {
    "duration": 19,
    "start_time": "2022-03-28T17:14:13.056Z"
   },
   {
    "duration": 13,
    "start_time": "2022-03-28T17:15:45.936Z"
   },
   {
    "duration": 12,
    "start_time": "2022-03-28T17:15:58.604Z"
   },
   {
    "duration": 11,
    "start_time": "2022-03-28T17:16:07.217Z"
   },
   {
    "duration": 12,
    "start_time": "2022-03-28T17:16:50.836Z"
   },
   {
    "duration": 8,
    "start_time": "2022-03-28T17:18:34.581Z"
   },
   {
    "duration": 9,
    "start_time": "2022-03-28T17:18:53.886Z"
   },
   {
    "duration": 19,
    "start_time": "2022-03-28T17:19:11.167Z"
   },
   {
    "duration": 17,
    "start_time": "2022-03-28T17:19:18.277Z"
   },
   {
    "duration": 11,
    "start_time": "2022-03-28T17:19:53.382Z"
   },
   {
    "duration": 6,
    "start_time": "2022-03-28T17:52:47.328Z"
   },
   {
    "duration": 7,
    "start_time": "2022-03-28T17:52:54.752Z"
   },
   {
    "duration": 5,
    "start_time": "2022-03-28T17:52:58.163Z"
   },
   {
    "duration": 3,
    "start_time": "2022-03-28T17:53:07.377Z"
   },
   {
    "duration": 7,
    "start_time": "2022-03-28T17:53:15.891Z"
   },
   {
    "duration": 8,
    "start_time": "2022-03-28T17:53:32.252Z"
   },
   {
    "duration": 8,
    "start_time": "2022-03-28T17:54:06.428Z"
   },
   {
    "duration": 4,
    "start_time": "2022-03-28T17:54:21.069Z"
   },
   {
    "duration": 6,
    "start_time": "2022-03-28T17:55:02.211Z"
   },
   {
    "duration": 19,
    "start_time": "2022-03-28T17:55:52.339Z"
   },
   {
    "duration": 6,
    "start_time": "2022-03-28T17:56:25.415Z"
   },
   {
    "duration": 2,
    "start_time": "2022-03-28T17:56:36.838Z"
   },
   {
    "duration": 615,
    "start_time": "2022-03-28T17:56:36.842Z"
   },
   {
    "duration": 14,
    "start_time": "2022-03-28T17:56:37.459Z"
   },
   {
    "duration": 15,
    "start_time": "2022-03-28T17:56:37.475Z"
   },
   {
    "duration": 15,
    "start_time": "2022-03-28T17:56:37.492Z"
   },
   {
    "duration": 17,
    "start_time": "2022-03-28T17:56:37.509Z"
   },
   {
    "duration": 18,
    "start_time": "2022-03-28T17:56:37.528Z"
   },
   {
    "duration": 43,
    "start_time": "2022-03-28T17:56:37.548Z"
   },
   {
    "duration": 5,
    "start_time": "2022-03-28T17:56:37.592Z"
   },
   {
    "duration": 8,
    "start_time": "2022-03-28T17:56:37.598Z"
   },
   {
    "duration": 8,
    "start_time": "2022-03-28T17:56:37.607Z"
   },
   {
    "duration": 7,
    "start_time": "2022-03-28T17:56:37.616Z"
   },
   {
    "duration": 10,
    "start_time": "2022-03-28T17:56:37.625Z"
   },
   {
    "duration": 5,
    "start_time": "2022-03-28T17:56:37.638Z"
   },
   {
    "duration": 4,
    "start_time": "2022-03-28T17:56:37.644Z"
   },
   {
    "duration": 33,
    "start_time": "2022-03-28T17:56:37.649Z"
   },
   {
    "duration": 9,
    "start_time": "2022-03-28T17:56:37.683Z"
   },
   {
    "duration": 7,
    "start_time": "2022-03-28T17:56:37.693Z"
   },
   {
    "duration": 120,
    "start_time": "2022-03-28T17:56:37.701Z"
   },
   {
    "duration": 20,
    "start_time": "2022-03-28T17:56:37.822Z"
   },
   {
    "duration": 90,
    "start_time": "2022-03-28T17:56:37.843Z"
   },
   {
    "duration": 4,
    "start_time": "2022-03-28T17:56:37.934Z"
   },
   {
    "duration": 7,
    "start_time": "2022-03-28T17:56:37.939Z"
   },
   {
    "duration": 5,
    "start_time": "2022-03-28T17:56:37.947Z"
   },
   {
    "duration": 6,
    "start_time": "2022-03-28T17:56:37.953Z"
   },
   {
    "duration": 22,
    "start_time": "2022-03-28T17:56:37.960Z"
   },
   {
    "duration": 12,
    "start_time": "2022-03-28T17:56:37.983Z"
   },
   {
    "duration": 8,
    "start_time": "2022-03-28T17:56:37.996Z"
   },
   {
    "duration": 15,
    "start_time": "2022-03-28T17:56:38.006Z"
   },
   {
    "duration": 5,
    "start_time": "2022-03-28T17:56:38.022Z"
   },
   {
    "duration": 20,
    "start_time": "2022-03-28T17:56:41.282Z"
   },
   {
    "duration": 4,
    "start_time": "2022-03-28T17:57:25.716Z"
   },
   {
    "duration": 909,
    "start_time": "2022-03-28T17:57:25.722Z"
   },
   {
    "duration": 19,
    "start_time": "2022-03-28T17:57:26.632Z"
   },
   {
    "duration": 28,
    "start_time": "2022-03-28T17:57:26.653Z"
   },
   {
    "duration": 21,
    "start_time": "2022-03-28T17:57:26.683Z"
   },
   {
    "duration": 24,
    "start_time": "2022-03-28T17:57:26.705Z"
   },
   {
    "duration": 23,
    "start_time": "2022-03-28T17:57:26.730Z"
   },
   {
    "duration": 46,
    "start_time": "2022-03-28T17:57:26.755Z"
   },
   {
    "duration": 5,
    "start_time": "2022-03-28T17:57:26.802Z"
   },
   {
    "duration": 10,
    "start_time": "2022-03-28T17:57:26.809Z"
   },
   {
    "duration": 10,
    "start_time": "2022-03-28T17:57:26.820Z"
   },
   {
    "duration": 6,
    "start_time": "2022-03-28T17:57:26.831Z"
   },
   {
    "duration": 12,
    "start_time": "2022-03-28T17:57:26.838Z"
   },
   {
    "duration": 5,
    "start_time": "2022-03-28T17:57:26.853Z"
   },
   {
    "duration": 26,
    "start_time": "2022-03-28T17:57:26.859Z"
   },
   {
    "duration": 5,
    "start_time": "2022-03-28T17:57:26.886Z"
   },
   {
    "duration": 7,
    "start_time": "2022-03-28T17:57:26.893Z"
   },
   {
    "duration": 7,
    "start_time": "2022-03-28T17:57:26.901Z"
   },
   {
    "duration": 168,
    "start_time": "2022-03-28T17:57:26.909Z"
   },
   {
    "duration": 19,
    "start_time": "2022-03-28T17:57:27.080Z"
   },
   {
    "duration": 90,
    "start_time": "2022-03-28T17:57:27.100Z"
   },
   {
    "duration": 4,
    "start_time": "2022-03-28T17:57:27.192Z"
   },
   {
    "duration": 6,
    "start_time": "2022-03-28T17:57:27.197Z"
   },
   {
    "duration": 6,
    "start_time": "2022-03-28T17:57:27.204Z"
   },
   {
    "duration": 5,
    "start_time": "2022-03-28T17:57:27.211Z"
   },
   {
    "duration": 5,
    "start_time": "2022-03-28T17:57:27.218Z"
   },
   {
    "duration": 16,
    "start_time": "2022-03-28T17:57:27.224Z"
   },
   {
    "duration": 8,
    "start_time": "2022-03-28T17:57:27.242Z"
   },
   {
    "duration": 45,
    "start_time": "2022-03-28T17:57:27.252Z"
   },
   {
    "duration": 6,
    "start_time": "2022-03-28T17:57:27.299Z"
   },
   {
    "duration": 2575,
    "start_time": "2022-03-28T17:57:29.441Z"
   },
   {
    "duration": 19,
    "start_time": "2022-03-28T17:57:53.152Z"
   },
   {
    "duration": 4271,
    "start_time": "2022-03-28T17:58:41.663Z"
   },
   {
    "duration": 2,
    "start_time": "2022-03-28T17:58:58.254Z"
   },
   {
    "duration": 608,
    "start_time": "2022-03-28T17:58:58.258Z"
   },
   {
    "duration": 19,
    "start_time": "2022-03-28T17:58:58.867Z"
   },
   {
    "duration": 14,
    "start_time": "2022-03-28T17:58:58.887Z"
   },
   {
    "duration": 15,
    "start_time": "2022-03-28T17:58:58.903Z"
   },
   {
    "duration": 18,
    "start_time": "2022-03-28T17:58:58.919Z"
   },
   {
    "duration": 16,
    "start_time": "2022-03-28T17:58:58.938Z"
   },
   {
    "duration": 40,
    "start_time": "2022-03-28T17:58:58.955Z"
   },
   {
    "duration": 4,
    "start_time": "2022-03-28T17:58:58.996Z"
   },
   {
    "duration": 7,
    "start_time": "2022-03-28T17:58:59.002Z"
   },
   {
    "duration": 15,
    "start_time": "2022-03-28T17:58:59.011Z"
   },
   {
    "duration": 7,
    "start_time": "2022-03-28T17:58:59.028Z"
   },
   {
    "duration": 11,
    "start_time": "2022-03-28T17:58:59.036Z"
   },
   {
    "duration": 4,
    "start_time": "2022-03-28T17:58:59.049Z"
   },
   {
    "duration": 8,
    "start_time": "2022-03-28T17:58:59.055Z"
   },
   {
    "duration": 8,
    "start_time": "2022-03-28T17:58:59.080Z"
   },
   {
    "duration": 7,
    "start_time": "2022-03-28T17:58:59.090Z"
   },
   {
    "duration": 6,
    "start_time": "2022-03-28T17:58:59.098Z"
   },
   {
    "duration": 117,
    "start_time": "2022-03-28T17:58:59.106Z"
   },
   {
    "duration": 18,
    "start_time": "2022-03-28T17:58:59.225Z"
   },
   {
    "duration": 90,
    "start_time": "2022-03-28T17:58:59.244Z"
   },
   {
    "duration": 3,
    "start_time": "2022-03-28T17:58:59.335Z"
   },
   {
    "duration": 7,
    "start_time": "2022-03-28T17:58:59.340Z"
   },
   {
    "duration": 5,
    "start_time": "2022-03-28T17:58:59.348Z"
   },
   {
    "duration": 7,
    "start_time": "2022-03-28T17:58:59.354Z"
   },
   {
    "duration": 21,
    "start_time": "2022-03-28T17:58:59.362Z"
   },
   {
    "duration": 12,
    "start_time": "2022-03-28T17:58:59.384Z"
   },
   {
    "duration": 6,
    "start_time": "2022-03-28T17:58:59.398Z"
   },
   {
    "duration": 16,
    "start_time": "2022-03-28T17:58:59.405Z"
   },
   {
    "duration": 23,
    "start_time": "2022-03-28T17:59:01.769Z"
   },
   {
    "duration": 2,
    "start_time": "2022-03-28T17:59:08.086Z"
   },
   {
    "duration": 906,
    "start_time": "2022-03-28T17:59:08.090Z"
   },
   {
    "duration": 19,
    "start_time": "2022-03-28T17:59:08.998Z"
   },
   {
    "duration": 14,
    "start_time": "2022-03-28T17:59:09.019Z"
   },
   {
    "duration": 21,
    "start_time": "2022-03-28T17:59:09.036Z"
   },
   {
    "duration": 38,
    "start_time": "2022-03-28T17:59:09.058Z"
   },
   {
    "duration": 18,
    "start_time": "2022-03-28T17:59:09.098Z"
   },
   {
    "duration": 18,
    "start_time": "2022-03-28T17:59:09.117Z"
   },
   {
    "duration": 4,
    "start_time": "2022-03-28T17:59:09.137Z"
   },
   {
    "duration": 8,
    "start_time": "2022-03-28T17:59:09.143Z"
   },
   {
    "duration": 32,
    "start_time": "2022-03-28T17:59:09.153Z"
   },
   {
    "duration": 11,
    "start_time": "2022-03-28T17:59:09.187Z"
   },
   {
    "duration": 9,
    "start_time": "2022-03-28T17:59:09.201Z"
   },
   {
    "duration": 14,
    "start_time": "2022-03-28T17:59:09.212Z"
   },
   {
    "duration": 7,
    "start_time": "2022-03-28T17:59:09.227Z"
   },
   {
    "duration": 7,
    "start_time": "2022-03-28T17:59:09.235Z"
   },
   {
    "duration": 8,
    "start_time": "2022-03-28T17:59:09.243Z"
   },
   {
    "duration": 7,
    "start_time": "2022-03-28T17:59:09.253Z"
   },
   {
    "duration": 121,
    "start_time": "2022-03-28T17:59:09.261Z"
   },
   {
    "duration": 18,
    "start_time": "2022-03-28T17:59:09.383Z"
   },
   {
    "duration": 93,
    "start_time": "2022-03-28T17:59:09.403Z"
   },
   {
    "duration": 3,
    "start_time": "2022-03-28T17:59:09.498Z"
   },
   {
    "duration": 7,
    "start_time": "2022-03-28T17:59:09.503Z"
   },
   {
    "duration": 7,
    "start_time": "2022-03-28T17:59:09.511Z"
   },
   {
    "duration": 7,
    "start_time": "2022-03-28T17:59:09.519Z"
   },
   {
    "duration": 6,
    "start_time": "2022-03-28T17:59:09.527Z"
   },
   {
    "duration": 13,
    "start_time": "2022-03-28T17:59:09.534Z"
   },
   {
    "duration": 7,
    "start_time": "2022-03-28T17:59:09.548Z"
   },
   {
    "duration": 34,
    "start_time": "2022-03-28T17:59:09.557Z"
   },
   {
    "duration": 9,
    "start_time": "2022-03-28T17:59:11.044Z"
   },
   {
    "duration": 5,
    "start_time": "2022-03-28T18:02:18.081Z"
   },
   {
    "duration": 9,
    "start_time": "2022-03-28T18:06:16.713Z"
   },
   {
    "duration": 17,
    "start_time": "2022-03-28T18:06:30.239Z"
   },
   {
    "duration": 76,
    "start_time": "2022-03-28T18:06:36.109Z"
   },
   {
    "duration": 17,
    "start_time": "2022-03-28T18:07:18.699Z"
   },
   {
    "duration": 20,
    "start_time": "2022-03-28T18:07:21.480Z"
   },
   {
    "duration": 72,
    "start_time": "2022-03-28T18:07:22.970Z"
   },
   {
    "duration": 22,
    "start_time": "2022-03-28T18:07:23.568Z"
   },
   {
    "duration": 84,
    "start_time": "2022-03-28T18:07:23.982Z"
   },
   {
    "duration": 3,
    "start_time": "2022-03-28T18:07:26.219Z"
   },
   {
    "duration": 3,
    "start_time": "2022-03-28T18:07:26.704Z"
   },
   {
    "duration": 4,
    "start_time": "2022-03-28T18:07:27.090Z"
   },
   {
    "duration": 4,
    "start_time": "2022-03-28T18:07:27.482Z"
   },
   {
    "duration": 3,
    "start_time": "2022-03-28T18:07:29.018Z"
   },
   {
    "duration": 12,
    "start_time": "2022-03-28T18:07:29.894Z"
   },
   {
    "duration": 8,
    "start_time": "2022-03-28T18:07:30.265Z"
   },
   {
    "duration": 1117,
    "start_time": "2022-03-28T18:07:48.703Z"
   },
   {
    "duration": 633,
    "start_time": "2022-03-28T18:07:49.822Z"
   },
   {
    "duration": 24,
    "start_time": "2022-03-28T18:07:50.457Z"
   },
   {
    "duration": 12,
    "start_time": "2022-03-28T18:07:50.483Z"
   },
   {
    "duration": 17,
    "start_time": "2022-03-28T18:07:50.496Z"
   },
   {
    "duration": 27,
    "start_time": "2022-03-28T18:07:50.514Z"
   },
   {
    "duration": 44,
    "start_time": "2022-03-28T18:07:50.543Z"
   },
   {
    "duration": 19,
    "start_time": "2022-03-28T18:07:50.588Z"
   },
   {
    "duration": 4,
    "start_time": "2022-03-28T18:07:50.608Z"
   },
   {
    "duration": 10,
    "start_time": "2022-03-28T18:07:50.615Z"
   },
   {
    "duration": 7,
    "start_time": "2022-03-28T18:07:50.626Z"
   },
   {
    "duration": 5,
    "start_time": "2022-03-28T18:07:50.635Z"
   },
   {
    "duration": 8,
    "start_time": "2022-03-28T18:07:50.641Z"
   },
   {
    "duration": 6,
    "start_time": "2022-03-28T18:07:50.651Z"
   },
   {
    "duration": 3,
    "start_time": "2022-03-28T18:07:50.681Z"
   },
   {
    "duration": 5,
    "start_time": "2022-03-28T18:07:50.686Z"
   },
   {
    "duration": 8,
    "start_time": "2022-03-28T18:07:50.693Z"
   },
   {
    "duration": 6,
    "start_time": "2022-03-28T18:07:50.702Z"
   },
   {
    "duration": 14,
    "start_time": "2022-03-28T18:07:50.709Z"
   },
   {
    "duration": 157,
    "start_time": "2022-03-28T18:07:50.724Z"
   },
   {
    "duration": 23,
    "start_time": "2022-03-28T18:07:50.883Z"
   },
   {
    "duration": 139,
    "start_time": "2022-03-28T18:07:50.908Z"
   },
   {
    "duration": 4,
    "start_time": "2022-03-28T18:07:51.049Z"
   },
   {
    "duration": 7,
    "start_time": "2022-03-28T18:07:51.055Z"
   },
   {
    "duration": 18,
    "start_time": "2022-03-28T18:07:51.063Z"
   },
   {
    "duration": 3,
    "start_time": "2022-03-28T18:07:51.082Z"
   },
   {
    "duration": 7,
    "start_time": "2022-03-28T18:07:51.086Z"
   },
   {
    "duration": 12,
    "start_time": "2022-03-28T18:07:56.669Z"
   },
   {
    "duration": 7,
    "start_time": "2022-03-28T18:07:58.540Z"
   },
   {
    "duration": 15,
    "start_time": "2022-03-28T18:07:59.400Z"
   },
   {
    "duration": 6,
    "start_time": "2022-03-28T18:08:24.414Z"
   },
   {
    "duration": 7,
    "start_time": "2022-03-28T18:08:26.748Z"
   },
   {
    "duration": 4,
    "start_time": "2022-03-28T18:08:28.666Z"
   },
   {
    "duration": 4,
    "start_time": "2022-03-28T18:08:39.278Z"
   },
   {
    "duration": 15,
    "start_time": "2022-03-28T18:09:14.036Z"
   },
   {
    "duration": 9,
    "start_time": "2022-03-28T18:10:12.209Z"
   },
   {
    "duration": 8,
    "start_time": "2022-03-28T18:11:05.651Z"
   },
   {
    "duration": 8,
    "start_time": "2022-03-28T18:11:16.460Z"
   },
   {
    "duration": 21,
    "start_time": "2022-03-28T18:11:28.122Z"
   },
   {
    "duration": 7,
    "start_time": "2022-03-28T18:12:11.054Z"
   },
   {
    "duration": 84,
    "start_time": "2022-03-28T18:12:11.587Z"
   },
   {
    "duration": 7,
    "start_time": "2022-03-28T18:12:20.086Z"
   },
   {
    "duration": 7,
    "start_time": "2022-03-28T18:12:30.583Z"
   },
   {
    "duration": 3,
    "start_time": "2022-03-28T18:12:37.942Z"
   },
   {
    "duration": 618,
    "start_time": "2022-03-28T18:12:37.947Z"
   },
   {
    "duration": 19,
    "start_time": "2022-03-28T18:12:38.566Z"
   },
   {
    "duration": 11,
    "start_time": "2022-03-28T18:12:38.587Z"
   },
   {
    "duration": 28,
    "start_time": "2022-03-28T18:12:38.599Z"
   },
   {
    "duration": 18,
    "start_time": "2022-03-28T18:12:38.629Z"
   },
   {
    "duration": 16,
    "start_time": "2022-03-28T18:12:38.649Z"
   },
   {
    "duration": 19,
    "start_time": "2022-03-28T18:12:38.681Z"
   },
   {
    "duration": 3,
    "start_time": "2022-03-28T18:12:38.702Z"
   },
   {
    "duration": 15,
    "start_time": "2022-03-28T18:12:38.707Z"
   },
   {
    "duration": 25,
    "start_time": "2022-03-28T18:12:38.724Z"
   },
   {
    "duration": 13,
    "start_time": "2022-03-28T18:12:38.751Z"
   },
   {
    "duration": 24,
    "start_time": "2022-03-28T18:12:38.766Z"
   },
   {
    "duration": 18,
    "start_time": "2022-03-28T18:12:38.792Z"
   },
   {
    "duration": 20,
    "start_time": "2022-03-28T18:12:38.812Z"
   },
   {
    "duration": 41,
    "start_time": "2022-03-28T18:12:38.833Z"
   },
   {
    "duration": 14,
    "start_time": "2022-03-28T18:12:38.876Z"
   },
   {
    "duration": 19,
    "start_time": "2022-03-28T18:12:38.891Z"
   },
   {
    "duration": 23,
    "start_time": "2022-03-28T18:12:38.911Z"
   },
   {
    "duration": 118,
    "start_time": "2022-03-28T18:12:38.935Z"
   },
   {
    "duration": 20,
    "start_time": "2022-03-28T18:12:39.054Z"
   },
   {
    "duration": 79,
    "start_time": "2022-03-28T18:12:39.081Z"
   },
   {
    "duration": 3,
    "start_time": "2022-03-28T18:12:39.162Z"
   },
   {
    "duration": 13,
    "start_time": "2022-03-28T18:12:39.180Z"
   },
   {
    "duration": 9,
    "start_time": "2022-03-28T18:12:39.194Z"
   },
   {
    "duration": 7,
    "start_time": "2022-03-28T18:12:39.204Z"
   },
   {
    "duration": 8,
    "start_time": "2022-03-28T18:12:39.212Z"
   },
   {
    "duration": 29,
    "start_time": "2022-03-28T18:12:39.221Z"
   },
   {
    "duration": 7,
    "start_time": "2022-03-28T18:12:39.251Z"
   },
   {
    "duration": 14,
    "start_time": "2022-03-28T18:12:39.259Z"
   },
   {
    "duration": 19,
    "start_time": "2022-03-28T18:12:39.274Z"
   },
   {
    "duration": 4,
    "start_time": "2022-03-28T18:12:39.295Z"
   },
   {
    "duration": 16,
    "start_time": "2022-03-28T18:12:39.301Z"
   },
   {
    "duration": 17,
    "start_time": "2022-03-28T18:12:39.319Z"
   },
   {
    "duration": 24,
    "start_time": "2022-03-28T18:12:39.337Z"
   },
   {
    "duration": 8,
    "start_time": "2022-03-28T18:12:41.174Z"
   },
   {
    "duration": 6,
    "start_time": "2022-03-28T18:12:41.837Z"
   },
   {
    "duration": 7,
    "start_time": "2022-03-28T18:12:49.024Z"
   },
   {
    "duration": 6,
    "start_time": "2022-03-28T18:13:05.304Z"
   },
   {
    "duration": 4,
    "start_time": "2022-03-28T18:13:56.408Z"
   },
   {
    "duration": 3,
    "start_time": "2022-03-28T18:14:08.370Z"
   },
   {
    "duration": 4,
    "start_time": "2022-03-28T18:14:35.480Z"
   },
   {
    "duration": 4,
    "start_time": "2022-03-28T18:14:44.030Z"
   },
   {
    "duration": 3,
    "start_time": "2022-03-28T18:38:31.342Z"
   },
   {
    "duration": 73,
    "start_time": "2022-03-28T19:29:00.800Z"
   },
   {
    "duration": 11,
    "start_time": "2022-03-28T19:29:08.534Z"
   },
   {
    "duration": 1673,
    "start_time": "2022-03-28T19:29:15.507Z"
   },
   {
    "duration": 1198,
    "start_time": "2022-03-28T19:29:17.184Z"
   },
   {
    "duration": 36,
    "start_time": "2022-03-28T19:29:18.385Z"
   },
   {
    "duration": 44,
    "start_time": "2022-03-28T19:29:18.424Z"
   },
   {
    "duration": 40,
    "start_time": "2022-03-28T19:29:18.470Z"
   },
   {
    "duration": 74,
    "start_time": "2022-03-28T19:29:18.513Z"
   },
   {
    "duration": 57,
    "start_time": "2022-03-28T19:29:18.590Z"
   },
   {
    "duration": 30,
    "start_time": "2022-03-28T19:29:18.649Z"
   },
   {
    "duration": 11,
    "start_time": "2022-03-28T19:29:18.681Z"
   },
   {
    "duration": 14,
    "start_time": "2022-03-28T19:29:18.696Z"
   },
   {
    "duration": 34,
    "start_time": "2022-03-28T19:29:18.713Z"
   },
   {
    "duration": 8,
    "start_time": "2022-03-28T19:29:18.749Z"
   },
   {
    "duration": 21,
    "start_time": "2022-03-28T19:29:18.759Z"
   },
   {
    "duration": 15,
    "start_time": "2022-03-28T19:29:18.782Z"
   },
   {
    "duration": 17,
    "start_time": "2022-03-28T19:29:18.799Z"
   },
   {
    "duration": 25,
    "start_time": "2022-03-28T19:29:18.819Z"
   },
   {
    "duration": 8,
    "start_time": "2022-03-28T19:29:18.846Z"
   },
   {
    "duration": 12,
    "start_time": "2022-03-28T19:29:18.857Z"
   },
   {
    "duration": 19,
    "start_time": "2022-03-28T19:29:18.871Z"
   },
   {
    "duration": 228,
    "start_time": "2022-03-28T19:29:18.892Z"
   },
   {
    "duration": 64,
    "start_time": "2022-03-28T19:29:19.122Z"
   },
   {
    "duration": 224,
    "start_time": "2022-03-28T19:29:19.188Z"
   },
   {
    "duration": 5,
    "start_time": "2022-03-28T19:29:19.414Z"
   },
   {
    "duration": 23,
    "start_time": "2022-03-28T19:29:19.421Z"
   },
   {
    "duration": 8,
    "start_time": "2022-03-28T19:29:19.446Z"
   },
   {
    "duration": 5,
    "start_time": "2022-03-28T19:29:19.456Z"
   },
   {
    "duration": 10,
    "start_time": "2022-03-28T19:29:19.464Z"
   },
   {
    "duration": 19,
    "start_time": "2022-03-28T19:29:19.481Z"
   },
   {
    "duration": 11,
    "start_time": "2022-03-28T19:29:19.543Z"
   },
   {
    "duration": 27,
    "start_time": "2022-03-28T19:29:19.556Z"
   },
   {
    "duration": 7,
    "start_time": "2022-03-28T19:29:19.586Z"
   },
   {
    "duration": 16,
    "start_time": "2022-03-28T19:29:19.595Z"
   },
   {
    "duration": 42,
    "start_time": "2022-03-28T19:29:19.613Z"
   },
   {
    "duration": 15,
    "start_time": "2022-03-28T19:29:19.657Z"
   },
   {
    "duration": 27,
    "start_time": "2022-03-28T19:29:19.675Z"
   },
   {
    "duration": 12,
    "start_time": "2022-03-28T19:29:19.705Z"
   },
   {
    "duration": 26,
    "start_time": "2022-03-28T19:29:19.721Z"
   },
   {
    "duration": 6,
    "start_time": "2022-03-28T19:29:19.749Z"
   },
   {
    "duration": 7,
    "start_time": "2022-03-28T19:29:19.757Z"
   },
   {
    "duration": 10,
    "start_time": "2022-03-28T19:29:19.766Z"
   },
   {
    "duration": 6,
    "start_time": "2022-03-28T19:29:19.779Z"
   },
   {
    "duration": 11,
    "start_time": "2022-03-28T19:29:19.787Z"
   },
   {
    "duration": 90,
    "start_time": "2022-03-28T19:29:22.282Z"
   },
   {
    "duration": 8,
    "start_time": "2022-03-28T19:29:30.165Z"
   },
   {
    "duration": 20,
    "start_time": "2022-03-28T19:31:39.434Z"
   },
   {
    "duration": 5,
    "start_time": "2022-03-28T19:31:51.347Z"
   },
   {
    "duration": 12,
    "start_time": "2022-03-28T19:32:35.973Z"
   },
   {
    "duration": 5,
    "start_time": "2022-03-28T19:32:47.969Z"
   },
   {
    "duration": 4,
    "start_time": "2022-03-28T19:33:03.965Z"
   },
   {
    "duration": 6,
    "start_time": "2022-03-28T19:33:53.898Z"
   },
   {
    "duration": 19,
    "start_time": "2022-03-28T19:34:17.308Z"
   },
   {
    "duration": 6,
    "start_time": "2022-03-28T19:34:24.438Z"
   },
   {
    "duration": 5,
    "start_time": "2022-03-28T19:34:25.263Z"
   },
   {
    "duration": 6,
    "start_time": "2022-03-28T19:34:49.469Z"
   },
   {
    "duration": 5,
    "start_time": "2022-03-28T19:37:09.031Z"
   },
   {
    "duration": 7,
    "start_time": "2022-03-28T19:37:22.392Z"
   },
   {
    "duration": 16,
    "start_time": "2022-03-28T19:39:16.271Z"
   },
   {
    "duration": 5,
    "start_time": "2022-03-28T19:39:42.962Z"
   },
   {
    "duration": 19,
    "start_time": "2022-03-28T19:39:57.976Z"
   },
   {
    "duration": 9,
    "start_time": "2022-03-28T19:40:24.742Z"
   },
   {
    "duration": 11,
    "start_time": "2022-03-28T19:46:44.195Z"
   },
   {
    "duration": 13,
    "start_time": "2022-03-28T19:46:57.710Z"
   },
   {
    "duration": 22,
    "start_time": "2022-03-28T19:47:09.174Z"
   },
   {
    "duration": 10,
    "start_time": "2022-03-28T19:47:21.281Z"
   },
   {
    "duration": 8,
    "start_time": "2022-03-28T19:47:53.772Z"
   },
   {
    "duration": 10,
    "start_time": "2022-03-28T19:48:01.844Z"
   },
   {
    "duration": 4,
    "start_time": "2022-03-28T19:48:06.410Z"
   },
   {
    "duration": 9,
    "start_time": "2022-03-28T19:48:07.916Z"
   },
   {
    "duration": 11,
    "start_time": "2022-03-28T19:49:41.554Z"
   },
   {
    "duration": 24,
    "start_time": "2022-03-28T19:51:01.098Z"
   },
   {
    "duration": 14,
    "start_time": "2022-03-28T19:51:05.832Z"
   },
   {
    "duration": 12,
    "start_time": "2022-03-28T19:51:22.684Z"
   },
   {
    "duration": 179,
    "start_time": "2022-03-28T19:55:21.534Z"
   },
   {
    "duration": 6,
    "start_time": "2022-03-28T19:55:33.374Z"
   },
   {
    "duration": 6,
    "start_time": "2022-03-28T20:01:11.338Z"
   },
   {
    "duration": 24,
    "start_time": "2022-03-28T20:25:28.834Z"
   },
   {
    "duration": 183,
    "start_time": "2022-03-28T20:25:42.421Z"
   },
   {
    "duration": 4,
    "start_time": "2022-03-28T20:25:58.463Z"
   },
   {
    "duration": 810,
    "start_time": "2022-03-28T20:25:58.470Z"
   },
   {
    "duration": 26,
    "start_time": "2022-03-28T20:25:59.283Z"
   },
   {
    "duration": 43,
    "start_time": "2022-03-28T20:25:59.313Z"
   },
   {
    "duration": 34,
    "start_time": "2022-03-28T20:25:59.359Z"
   },
   {
    "duration": 56,
    "start_time": "2022-03-28T20:25:59.395Z"
   },
   {
    "duration": 32,
    "start_time": "2022-03-28T20:25:59.453Z"
   },
   {
    "duration": 63,
    "start_time": "2022-03-28T20:25:59.487Z"
   },
   {
    "duration": 4,
    "start_time": "2022-03-28T20:25:59.552Z"
   },
   {
    "duration": 8,
    "start_time": "2022-03-28T20:25:59.564Z"
   },
   {
    "duration": 13,
    "start_time": "2022-03-28T20:25:59.575Z"
   },
   {
    "duration": 52,
    "start_time": "2022-03-28T20:25:59.590Z"
   },
   {
    "duration": 13,
    "start_time": "2022-03-28T20:25:59.645Z"
   },
   {
    "duration": 8,
    "start_time": "2022-03-28T20:25:59.660Z"
   },
   {
    "duration": 6,
    "start_time": "2022-03-28T20:25:59.670Z"
   },
   {
    "duration": 9,
    "start_time": "2022-03-28T20:25:59.678Z"
   },
   {
    "duration": 7,
    "start_time": "2022-03-28T20:25:59.689Z"
   },
   {
    "duration": 49,
    "start_time": "2022-03-28T20:25:59.698Z"
   },
   {
    "duration": 30,
    "start_time": "2022-03-28T20:25:59.750Z"
   },
   {
    "duration": 241,
    "start_time": "2022-03-28T20:25:59.783Z"
   },
   {
    "duration": 55,
    "start_time": "2022-03-28T20:26:00.027Z"
   },
   {
    "duration": 207,
    "start_time": "2022-03-28T20:26:00.085Z"
   },
   {
    "duration": 6,
    "start_time": "2022-03-28T20:26:00.294Z"
   },
   {
    "duration": 25,
    "start_time": "2022-03-28T20:26:00.302Z"
   },
   {
    "duration": 32,
    "start_time": "2022-03-28T20:26:00.330Z"
   },
   {
    "duration": 6,
    "start_time": "2022-03-28T20:26:00.364Z"
   },
   {
    "duration": 28,
    "start_time": "2022-03-28T20:26:00.372Z"
   },
   {
    "duration": 21,
    "start_time": "2022-03-28T20:26:00.405Z"
   },
   {
    "duration": 12,
    "start_time": "2022-03-28T20:26:00.428Z"
   },
   {
    "duration": 24,
    "start_time": "2022-03-28T20:26:00.442Z"
   },
   {
    "duration": 11,
    "start_time": "2022-03-28T20:26:00.469Z"
   },
   {
    "duration": 7,
    "start_time": "2022-03-28T20:26:00.482Z"
   },
   {
    "duration": 9,
    "start_time": "2022-03-28T20:26:00.492Z"
   },
   {
    "duration": 18,
    "start_time": "2022-03-28T20:26:00.503Z"
   },
   {
    "duration": 23,
    "start_time": "2022-03-28T20:26:00.544Z"
   },
   {
    "duration": 13,
    "start_time": "2022-03-28T20:26:00.569Z"
   },
   {
    "duration": 12,
    "start_time": "2022-03-28T20:26:00.588Z"
   },
   {
    "duration": 13,
    "start_time": "2022-03-28T20:26:00.602Z"
   },
   {
    "duration": 30,
    "start_time": "2022-03-28T20:26:00.617Z"
   },
   {
    "duration": 11,
    "start_time": "2022-03-28T20:26:00.650Z"
   },
   {
    "duration": 15,
    "start_time": "2022-03-28T20:26:00.663Z"
   },
   {
    "duration": 20,
    "start_time": "2022-03-28T20:26:00.681Z"
   },
   {
    "duration": 182,
    "start_time": "2022-03-28T20:26:02.891Z"
   },
   {
    "duration": 193,
    "start_time": "2022-03-28T20:26:12.956Z"
   },
   {
    "duration": 5,
    "start_time": "2022-03-28T20:26:20.480Z"
   },
   {
    "duration": 7,
    "start_time": "2022-03-28T20:26:22.909Z"
   },
   {
    "duration": 14,
    "start_time": "2022-03-28T20:26:35.595Z"
   },
   {
    "duration": 22,
    "start_time": "2022-03-28T20:27:57.418Z"
   },
   {
    "duration": 4,
    "start_time": "2022-03-28T20:28:13.191Z"
   },
   {
    "duration": 794,
    "start_time": "2022-03-28T20:28:13.197Z"
   },
   {
    "duration": 54,
    "start_time": "2022-03-28T20:28:13.995Z"
   },
   {
    "duration": 25,
    "start_time": "2022-03-28T20:28:14.053Z"
   },
   {
    "duration": 38,
    "start_time": "2022-03-28T20:28:14.081Z"
   },
   {
    "duration": 53,
    "start_time": "2022-03-28T20:28:14.144Z"
   },
   {
    "duration": 72,
    "start_time": "2022-03-28T20:28:14.200Z"
   },
   {
    "duration": 33,
    "start_time": "2022-03-28T20:28:14.275Z"
   },
   {
    "duration": 34,
    "start_time": "2022-03-28T20:28:14.310Z"
   },
   {
    "duration": 9,
    "start_time": "2022-03-28T20:28:14.348Z"
   },
   {
    "duration": 14,
    "start_time": "2022-03-28T20:28:14.359Z"
   },
   {
    "duration": 9,
    "start_time": "2022-03-28T20:28:14.375Z"
   },
   {
    "duration": 62,
    "start_time": "2022-03-28T20:28:14.386Z"
   },
   {
    "duration": 8,
    "start_time": "2022-03-28T20:28:14.450Z"
   },
   {
    "duration": 7,
    "start_time": "2022-03-28T20:28:14.461Z"
   },
   {
    "duration": 11,
    "start_time": "2022-03-28T20:28:14.470Z"
   },
   {
    "duration": 59,
    "start_time": "2022-03-28T20:28:14.484Z"
   },
   {
    "duration": 22,
    "start_time": "2022-03-28T20:28:14.545Z"
   },
   {
    "duration": 19,
    "start_time": "2022-03-28T20:28:14.569Z"
   },
   {
    "duration": 227,
    "start_time": "2022-03-28T20:28:14.590Z"
   },
   {
    "duration": 45,
    "start_time": "2022-03-28T20:28:14.819Z"
   },
   {
    "duration": 167,
    "start_time": "2022-03-28T20:28:14.866Z"
   },
   {
    "duration": 7,
    "start_time": "2022-03-28T20:28:15.036Z"
   },
   {
    "duration": 6,
    "start_time": "2022-03-28T20:28:15.046Z"
   },
   {
    "duration": 10,
    "start_time": "2022-03-28T20:28:15.054Z"
   },
   {
    "duration": 9,
    "start_time": "2022-03-28T20:28:15.066Z"
   },
   {
    "duration": 9,
    "start_time": "2022-03-28T20:28:15.077Z"
   },
   {
    "duration": 16,
    "start_time": "2022-03-28T20:28:15.091Z"
   },
   {
    "duration": 11,
    "start_time": "2022-03-28T20:28:15.109Z"
   },
   {
    "duration": 30,
    "start_time": "2022-03-28T20:28:15.123Z"
   },
   {
    "duration": 6,
    "start_time": "2022-03-28T20:28:15.156Z"
   },
   {
    "duration": 8,
    "start_time": "2022-03-28T20:28:15.165Z"
   },
   {
    "duration": 8,
    "start_time": "2022-03-28T20:28:15.175Z"
   },
   {
    "duration": 8,
    "start_time": "2022-03-28T20:28:15.186Z"
   },
   {
    "duration": 25,
    "start_time": "2022-03-28T20:28:15.197Z"
   },
   {
    "duration": 28,
    "start_time": "2022-03-28T20:28:15.225Z"
   },
   {
    "duration": 10,
    "start_time": "2022-03-28T20:28:15.256Z"
   },
   {
    "duration": 6,
    "start_time": "2022-03-28T20:28:15.268Z"
   },
   {
    "duration": 13,
    "start_time": "2022-03-28T20:28:15.276Z"
   },
   {
    "duration": 7,
    "start_time": "2022-03-28T20:28:15.292Z"
   },
   {
    "duration": 7,
    "start_time": "2022-03-28T20:28:15.301Z"
   },
   {
    "duration": 7,
    "start_time": "2022-03-28T20:28:15.310Z"
   },
   {
    "duration": 8,
    "start_time": "2022-03-28T20:28:15.319Z"
   },
   {
    "duration": 23,
    "start_time": "2022-03-28T20:28:15.330Z"
   },
   {
    "duration": 19,
    "start_time": "2022-03-28T20:28:18.310Z"
   },
   {
    "duration": 749,
    "start_time": "2022-03-28T20:29:04.822Z"
   },
   {
    "duration": 759,
    "start_time": "2022-03-28T20:29:29.514Z"
   },
   {
    "duration": 4,
    "start_time": "2022-03-28T20:29:55.427Z"
   },
   {
    "duration": 9,
    "start_time": "2022-03-28T20:30:01.858Z"
   },
   {
    "duration": 24,
    "start_time": "2022-03-28T20:30:52.480Z"
   },
   {
    "duration": 16,
    "start_time": "2022-03-28T20:32:38.295Z"
   },
   {
    "duration": 13,
    "start_time": "2022-03-28T20:46:40.347Z"
   },
   {
    "duration": 756,
    "start_time": "2022-03-28T20:47:01.643Z"
   },
   {
    "duration": 2759,
    "start_time": "2022-03-28T20:47:11.351Z"
   },
   {
    "duration": 2906,
    "start_time": "2022-03-28T20:47:58.859Z"
   },
   {
    "duration": 8,
    "start_time": "2022-03-28T20:48:29.213Z"
   },
   {
    "duration": 7,
    "start_time": "2022-03-28T20:49:00.050Z"
   },
   {
    "duration": 16,
    "start_time": "2022-03-28T20:49:14.488Z"
   },
   {
    "duration": 4,
    "start_time": "2022-03-28T20:49:23.745Z"
   },
   {
    "duration": 798,
    "start_time": "2022-03-28T20:49:23.751Z"
   },
   {
    "duration": 27,
    "start_time": "2022-03-28T20:49:24.551Z"
   },
   {
    "duration": 19,
    "start_time": "2022-03-28T20:49:24.582Z"
   },
   {
    "duration": 64,
    "start_time": "2022-03-28T20:49:24.604Z"
   },
   {
    "duration": 30,
    "start_time": "2022-03-28T20:49:24.671Z"
   },
   {
    "duration": 54,
    "start_time": "2022-03-28T20:49:24.703Z"
   },
   {
    "duration": 32,
    "start_time": "2022-03-28T20:49:24.759Z"
   },
   {
    "duration": 4,
    "start_time": "2022-03-28T20:49:24.793Z"
   },
   {
    "duration": 8,
    "start_time": "2022-03-28T20:49:24.800Z"
   },
   {
    "duration": 45,
    "start_time": "2022-03-28T20:49:24.809Z"
   },
   {
    "duration": 7,
    "start_time": "2022-03-28T20:49:24.857Z"
   },
   {
    "duration": 12,
    "start_time": "2022-03-28T20:49:24.866Z"
   },
   {
    "duration": 8,
    "start_time": "2022-03-28T20:49:24.880Z"
   },
   {
    "duration": 7,
    "start_time": "2022-03-28T20:49:24.890Z"
   },
   {
    "duration": 45,
    "start_time": "2022-03-28T20:49:24.899Z"
   },
   {
    "duration": 7,
    "start_time": "2022-03-28T20:49:24.946Z"
   },
   {
    "duration": 6,
    "start_time": "2022-03-28T20:49:24.955Z"
   },
   {
    "duration": 19,
    "start_time": "2022-03-28T20:49:24.963Z"
   },
   {
    "duration": 226,
    "start_time": "2022-03-28T20:49:24.984Z"
   },
   {
    "duration": 46,
    "start_time": "2022-03-28T20:49:25.212Z"
   },
   {
    "duration": 171,
    "start_time": "2022-03-28T20:49:25.260Z"
   },
   {
    "duration": 5,
    "start_time": "2022-03-28T20:49:25.433Z"
   },
   {
    "duration": 15,
    "start_time": "2022-03-28T20:49:25.443Z"
   },
   {
    "duration": 15,
    "start_time": "2022-03-28T20:49:25.460Z"
   },
   {
    "duration": 17,
    "start_time": "2022-03-28T20:49:25.477Z"
   },
   {
    "duration": 20,
    "start_time": "2022-03-28T20:49:25.496Z"
   },
   {
    "duration": 22,
    "start_time": "2022-03-28T20:49:25.520Z"
   },
   {
    "duration": 12,
    "start_time": "2022-03-28T20:49:25.544Z"
   },
   {
    "duration": 25,
    "start_time": "2022-03-28T20:49:25.558Z"
   },
   {
    "duration": 9,
    "start_time": "2022-03-28T20:49:25.586Z"
   },
   {
    "duration": 50,
    "start_time": "2022-03-28T20:49:25.597Z"
   },
   {
    "duration": 9,
    "start_time": "2022-03-28T20:49:25.649Z"
   },
   {
    "duration": 8,
    "start_time": "2022-03-28T20:49:25.660Z"
   },
   {
    "duration": 22,
    "start_time": "2022-03-28T20:49:25.670Z"
   },
   {
    "duration": 53,
    "start_time": "2022-03-28T20:49:25.694Z"
   },
   {
    "duration": 8,
    "start_time": "2022-03-28T20:49:25.749Z"
   },
   {
    "duration": 6,
    "start_time": "2022-03-28T20:49:25.759Z"
   },
   {
    "duration": 7,
    "start_time": "2022-03-28T20:49:25.767Z"
   },
   {
    "duration": 5,
    "start_time": "2022-03-28T20:49:25.776Z"
   },
   {
    "duration": 12,
    "start_time": "2022-03-28T20:49:25.783Z"
   },
   {
    "duration": 4,
    "start_time": "2022-03-28T20:49:25.797Z"
   },
   {
    "duration": 40,
    "start_time": "2022-03-28T20:49:25.803Z"
   },
   {
    "duration": 10,
    "start_time": "2022-03-28T20:49:27.490Z"
   },
   {
    "duration": 10,
    "start_time": "2022-03-28T20:49:35.528Z"
   },
   {
    "duration": 10,
    "start_time": "2022-03-28T20:49:49.336Z"
   },
   {
    "duration": 3,
    "start_time": "2022-03-28T20:50:17.164Z"
   },
   {
    "duration": 4,
    "start_time": "2022-03-28T20:50:18.103Z"
   },
   {
    "duration": 10,
    "start_time": "2022-03-28T20:50:19.795Z"
   },
   {
    "duration": 16,
    "start_time": "2022-03-28T20:52:47.038Z"
   },
   {
    "duration": 8,
    "start_time": "2022-03-28T20:52:54.042Z"
   },
   {
    "duration": 10,
    "start_time": "2022-03-28T20:53:02.342Z"
   },
   {
    "duration": 11,
    "start_time": "2022-03-28T20:54:16.564Z"
   },
   {
    "duration": 10,
    "start_time": "2022-03-28T20:54:34.935Z"
   },
   {
    "duration": 9,
    "start_time": "2022-03-28T20:54:57.132Z"
   },
   {
    "duration": 9,
    "start_time": "2022-03-28T20:55:27.260Z"
   },
   {
    "duration": 9,
    "start_time": "2022-03-28T20:56:42.050Z"
   },
   {
    "duration": 9,
    "start_time": "2022-03-28T20:57:53.687Z"
   },
   {
    "duration": 10,
    "start_time": "2022-03-28T20:58:17.159Z"
   },
   {
    "duration": 6,
    "start_time": "2022-03-28T20:59:52.952Z"
   },
   {
    "duration": 6,
    "start_time": "2022-03-28T21:00:05.753Z"
   },
   {
    "duration": 4,
    "start_time": "2022-03-28T21:01:36.474Z"
   },
   {
    "duration": 6,
    "start_time": "2022-03-28T21:03:15.846Z"
   },
   {
    "duration": 8,
    "start_time": "2022-03-28T21:03:20.795Z"
   },
   {
    "duration": 5,
    "start_time": "2022-03-28T21:03:21.274Z"
   },
   {
    "duration": 9,
    "start_time": "2022-03-28T21:03:35.921Z"
   },
   {
    "duration": 14,
    "start_time": "2022-03-28T21:03:52.600Z"
   },
   {
    "duration": 9,
    "start_time": "2022-03-28T21:06:17.869Z"
   },
   {
    "duration": 8,
    "start_time": "2022-03-28T21:06:50.706Z"
   },
   {
    "duration": 11,
    "start_time": "2022-03-28T21:06:58.800Z"
   },
   {
    "duration": 10,
    "start_time": "2022-03-28T21:07:44.713Z"
   },
   {
    "duration": 10,
    "start_time": "2022-03-28T21:08:20.435Z"
   },
   {
    "duration": 8,
    "start_time": "2022-03-28T21:08:26.487Z"
   },
   {
    "duration": 11,
    "start_time": "2022-03-28T21:09:05.853Z"
   },
   {
    "duration": 13,
    "start_time": "2022-03-28T21:11:52.659Z"
   },
   {
    "duration": 11,
    "start_time": "2022-03-28T21:13:27.873Z"
   },
   {
    "duration": 11,
    "start_time": "2022-03-28T21:14:03.351Z"
   },
   {
    "duration": 11,
    "start_time": "2022-03-28T21:14:07.717Z"
   },
   {
    "duration": 12,
    "start_time": "2022-03-28T21:15:29.622Z"
   },
   {
    "duration": 12,
    "start_time": "2022-03-28T21:16:28.091Z"
   },
   {
    "duration": 14,
    "start_time": "2022-03-28T21:16:32.520Z"
   },
   {
    "duration": 20,
    "start_time": "2022-03-28T21:16:36.811Z"
   },
   {
    "duration": 22,
    "start_time": "2022-03-28T21:16:51.532Z"
   },
   {
    "duration": 22,
    "start_time": "2022-03-28T21:16:56.596Z"
   },
   {
    "duration": 11,
    "start_time": "2022-03-28T21:17:08.826Z"
   },
   {
    "duration": 28,
    "start_time": "2022-03-28T21:17:20.857Z"
   },
   {
    "duration": 20,
    "start_time": "2022-03-28T21:18:26.327Z"
   },
   {
    "duration": 14,
    "start_time": "2022-03-28T21:18:41.849Z"
   },
   {
    "duration": 14,
    "start_time": "2022-03-28T21:20:24.915Z"
   },
   {
    "duration": 18,
    "start_time": "2022-03-28T21:22:22.052Z"
   },
   {
    "duration": 24,
    "start_time": "2022-03-28T21:22:36.848Z"
   },
   {
    "duration": 22,
    "start_time": "2022-03-28T21:22:38.069Z"
   },
   {
    "duration": 20,
    "start_time": "2022-03-28T21:22:55.728Z"
   },
   {
    "duration": 14,
    "start_time": "2022-03-28T21:23:20.676Z"
   },
   {
    "duration": 15,
    "start_time": "2022-03-28T21:23:31.662Z"
   },
   {
    "duration": 14,
    "start_time": "2022-03-28T21:23:35.565Z"
   },
   {
    "duration": 15,
    "start_time": "2022-03-28T21:23:47.884Z"
   },
   {
    "duration": 14,
    "start_time": "2022-03-28T21:23:50.951Z"
   },
   {
    "duration": 22,
    "start_time": "2022-03-28T21:26:18.792Z"
   },
   {
    "duration": 745,
    "start_time": "2022-03-28T21:28:11.168Z"
   },
   {
    "duration": 18,
    "start_time": "2022-03-28T21:28:11.957Z"
   },
   {
    "duration": 22,
    "start_time": "2022-03-28T21:28:34.076Z"
   },
   {
    "duration": 20,
    "start_time": "2022-03-28T21:29:21.124Z"
   },
   {
    "duration": 18,
    "start_time": "2022-03-28T21:29:44.080Z"
   },
   {
    "duration": 18,
    "start_time": "2022-03-28T21:29:54.544Z"
   },
   {
    "duration": 21,
    "start_time": "2022-03-28T21:30:04.557Z"
   },
   {
    "duration": 15,
    "start_time": "2022-03-28T21:30:53.135Z"
   },
   {
    "duration": 14,
    "start_time": "2022-03-28T21:31:21.589Z"
   },
   {
    "duration": 6,
    "start_time": "2022-03-28T21:33:41.954Z"
   },
   {
    "duration": 22,
    "start_time": "2022-03-28T21:34:39.400Z"
   },
   {
    "duration": 15,
    "start_time": "2022-03-28T21:34:41.903Z"
   },
   {
    "duration": 21,
    "start_time": "2022-03-28T21:34:53.651Z"
   },
   {
    "duration": 15,
    "start_time": "2022-03-28T21:35:38.733Z"
   },
   {
    "duration": 353,
    "start_time": "2022-03-28T21:37:27.369Z"
   },
   {
    "duration": 3073,
    "start_time": "2022-03-28T21:37:36.761Z"
   },
   {
    "duration": 18,
    "start_time": "2022-03-28T21:37:55.412Z"
   },
   {
    "duration": 11,
    "start_time": "2022-03-28T21:38:03.839Z"
   },
   {
    "duration": 295,
    "start_time": "2022-03-28T21:38:20.590Z"
   },
   {
    "duration": 3057,
    "start_time": "2022-03-28T21:39:23.743Z"
   },
   {
    "duration": 19,
    "start_time": "2022-03-28T21:39:35.466Z"
   },
   {
    "duration": 14,
    "start_time": "2022-03-28T21:39:36.642Z"
   },
   {
    "duration": 5056,
    "start_time": "2022-03-28T21:40:19.494Z"
   },
   {
    "duration": 5134,
    "start_time": "2022-03-28T21:40:32.455Z"
   },
   {
    "duration": 322,
    "start_time": "2022-03-28T21:40:37.775Z"
   },
   {
    "duration": 2964,
    "start_time": "2022-03-28T21:41:12.453Z"
   },
   {
    "duration": 11,
    "start_time": "2022-03-28T21:53:22.816Z"
   },
   {
    "duration": 2849,
    "start_time": "2022-03-28T21:53:27.519Z"
   },
   {
    "duration": 3292,
    "start_time": "2022-03-28T21:54:13.612Z"
   },
   {
    "duration": 21,
    "start_time": "2022-03-28T21:54:19.285Z"
   },
   {
    "duration": 17,
    "start_time": "2022-03-28T21:54:30.029Z"
   },
   {
    "duration": 17,
    "start_time": "2022-03-28T21:54:53.460Z"
   },
   {
    "duration": 11,
    "start_time": "2022-03-28T21:54:58.491Z"
   },
   {
    "duration": 17,
    "start_time": "2022-03-28T21:55:06.942Z"
   },
   {
    "duration": 12,
    "start_time": "2022-03-28T21:55:23.218Z"
   },
   {
    "duration": 167,
    "start_time": "2022-03-28T21:56:38.868Z"
   },
   {
    "duration": 17,
    "start_time": "2022-03-28T21:56:45.199Z"
   },
   {
    "duration": 16,
    "start_time": "2022-03-28T21:57:04.169Z"
   },
   {
    "duration": 13,
    "start_time": "2022-03-28T21:57:09.753Z"
   },
   {
    "duration": 11,
    "start_time": "2022-03-28T21:57:23.846Z"
   },
   {
    "duration": 10,
    "start_time": "2022-03-28T21:57:54.043Z"
   },
   {
    "duration": 9,
    "start_time": "2022-03-28T21:58:07.003Z"
   },
   {
    "duration": 10,
    "start_time": "2022-03-28T21:58:42.464Z"
   },
   {
    "duration": 9,
    "start_time": "2022-03-28T21:59:13.600Z"
   },
   {
    "duration": 9,
    "start_time": "2022-03-28T21:59:44.967Z"
   },
   {
    "duration": 13,
    "start_time": "2022-03-28T22:02:29.054Z"
   },
   {
    "duration": 13,
    "start_time": "2022-03-28T22:04:12.203Z"
   },
   {
    "duration": 222,
    "start_time": "2022-03-28T22:06:04.594Z"
   },
   {
    "duration": 4,
    "start_time": "2022-03-28T22:06:57.677Z"
   },
   {
    "duration": 5,
    "start_time": "2022-03-28T22:06:59.545Z"
   },
   {
    "duration": 7,
    "start_time": "2022-03-28T22:07:13.137Z"
   },
   {
    "duration": 10,
    "start_time": "2022-03-28T22:07:20.316Z"
   },
   {
    "duration": 13,
    "start_time": "2022-03-28T22:07:24.509Z"
   },
   {
    "duration": 13,
    "start_time": "2022-03-28T22:07:36.342Z"
   },
   {
    "duration": 13,
    "start_time": "2022-03-28T22:07:44.222Z"
   },
   {
    "duration": 233,
    "start_time": "2022-03-28T22:07:48.134Z"
   },
   {
    "duration": 11,
    "start_time": "2022-03-28T22:19:29.820Z"
   },
   {
    "duration": 12,
    "start_time": "2022-03-28T22:19:32.963Z"
   },
   {
    "duration": 10,
    "start_time": "2022-03-28T22:19:33.441Z"
   },
   {
    "duration": 8,
    "start_time": "2022-03-28T22:19:42.200Z"
   },
   {
    "duration": 247,
    "start_time": "2022-03-28T22:19:43.224Z"
   },
   {
    "duration": 287,
    "start_time": "2022-03-28T22:20:23.029Z"
   },
   {
    "duration": 0,
    "start_time": "2022-03-28T22:22:00.686Z"
   },
   {
    "duration": 0,
    "start_time": "2022-03-28T22:22:00.691Z"
   },
   {
    "duration": 11,
    "start_time": "2022-03-28T22:22:02.972Z"
   },
   {
    "duration": 16120,
    "start_time": "2022-03-28T22:22:04.480Z"
   },
   {
    "duration": 239,
    "start_time": "2022-03-28T22:22:27.733Z"
   },
   {
    "duration": 734,
    "start_time": "2022-03-28T22:22:38.680Z"
   },
   {
    "duration": 9,
    "start_time": "2022-03-28T22:27:36.783Z"
   },
   {
    "duration": 690,
    "start_time": "2022-03-28T22:27:45.569Z"
   },
   {
    "duration": 9,
    "start_time": "2022-03-28T22:28:29.360Z"
   },
   {
    "duration": 970,
    "start_time": "2022-03-28T22:30:47.502Z"
   },
   {
    "duration": 746,
    "start_time": "2022-03-28T22:30:59.406Z"
   },
   {
    "duration": 21,
    "start_time": "2022-03-28T22:33:47.839Z"
   },
   {
    "duration": 2856,
    "start_time": "2022-03-28T22:49:08.523Z"
   },
   {
    "duration": 2708,
    "start_time": "2022-03-28T22:51:50.669Z"
   },
   {
    "duration": 18,
    "start_time": "2022-03-28T22:54:29.434Z"
   },
   {
    "duration": 3020,
    "start_time": "2022-03-28T22:54:36.359Z"
   },
   {
    "duration": 2737,
    "start_time": "2022-03-28T22:55:08.207Z"
   },
   {
    "duration": 7,
    "start_time": "2022-03-28T22:55:58.249Z"
   },
   {
    "duration": 3,
    "start_time": "2022-03-28T22:56:37.871Z"
   },
   {
    "duration": 883,
    "start_time": "2022-03-28T22:56:37.877Z"
   },
   {
    "duration": 31,
    "start_time": "2022-03-28T22:56:38.762Z"
   },
   {
    "duration": 18,
    "start_time": "2022-03-28T22:56:38.796Z"
   },
   {
    "duration": 50,
    "start_time": "2022-03-28T22:56:38.816Z"
   },
   {
    "duration": 29,
    "start_time": "2022-03-28T22:56:38.868Z"
   },
   {
    "duration": 58,
    "start_time": "2022-03-28T22:56:38.899Z"
   },
   {
    "duration": 28,
    "start_time": "2022-03-28T22:56:38.959Z"
   },
   {
    "duration": 5,
    "start_time": "2022-03-28T22:56:38.991Z"
   },
   {
    "duration": 10,
    "start_time": "2022-03-28T22:56:38.998Z"
   },
   {
    "duration": 11,
    "start_time": "2022-03-28T22:56:39.042Z"
   },
   {
    "duration": 9,
    "start_time": "2022-03-28T22:56:39.056Z"
   },
   {
    "duration": 14,
    "start_time": "2022-03-28T22:56:39.067Z"
   },
   {
    "duration": 8,
    "start_time": "2022-03-28T22:56:39.083Z"
   },
   {
    "duration": 50,
    "start_time": "2022-03-28T22:56:39.093Z"
   },
   {
    "duration": 5,
    "start_time": "2022-03-28T22:56:39.145Z"
   },
   {
    "duration": 9,
    "start_time": "2022-03-28T22:56:39.152Z"
   },
   {
    "duration": 7,
    "start_time": "2022-03-28T22:56:39.163Z"
   },
   {
    "duration": 18,
    "start_time": "2022-03-28T22:56:39.172Z"
   },
   {
    "duration": 224,
    "start_time": "2022-03-28T22:56:39.192Z"
   },
   {
    "duration": 46,
    "start_time": "2022-03-28T22:56:39.418Z"
   },
   {
    "duration": 168,
    "start_time": "2022-03-28T22:56:39.466Z"
   },
   {
    "duration": 9,
    "start_time": "2022-03-28T22:56:39.636Z"
   },
   {
    "duration": 6,
    "start_time": "2022-03-28T22:56:39.650Z"
   },
   {
    "duration": 5,
    "start_time": "2022-03-28T22:56:39.658Z"
   },
   {
    "duration": 5,
    "start_time": "2022-03-28T22:56:39.665Z"
   },
   {
    "duration": 7,
    "start_time": "2022-03-28T22:56:39.672Z"
   },
   {
    "duration": 69,
    "start_time": "2022-03-28T22:56:39.682Z"
   },
   {
    "duration": 11,
    "start_time": "2022-03-28T22:56:39.753Z"
   },
   {
    "duration": 20,
    "start_time": "2022-03-28T22:56:39.766Z"
   },
   {
    "duration": 6,
    "start_time": "2022-03-28T22:56:39.788Z"
   },
   {
    "duration": 47,
    "start_time": "2022-03-28T22:56:39.796Z"
   },
   {
    "duration": 11,
    "start_time": "2022-03-28T22:56:39.845Z"
   },
   {
    "duration": 6,
    "start_time": "2022-03-28T22:56:39.858Z"
   },
   {
    "duration": 22,
    "start_time": "2022-03-28T22:56:39.866Z"
   },
   {
    "duration": 11,
    "start_time": "2022-03-28T22:56:39.890Z"
   },
   {
    "duration": 44,
    "start_time": "2022-03-28T22:56:39.903Z"
   },
   {
    "duration": 5,
    "start_time": "2022-03-28T22:56:39.950Z"
   },
   {
    "duration": 9,
    "start_time": "2022-03-28T22:56:39.958Z"
   },
   {
    "duration": 7,
    "start_time": "2022-03-28T22:56:39.969Z"
   },
   {
    "duration": 9,
    "start_time": "2022-03-28T22:56:39.978Z"
   },
   {
    "duration": 5,
    "start_time": "2022-03-28T22:56:39.989Z"
   },
   {
    "duration": 9,
    "start_time": "2022-03-28T22:56:39.995Z"
   },
   {
    "duration": 44,
    "start_time": "2022-03-28T22:56:40.007Z"
   },
   {
    "duration": 12,
    "start_time": "2022-03-28T22:56:40.054Z"
   },
   {
    "duration": 13,
    "start_time": "2022-03-28T22:56:40.068Z"
   },
   {
    "duration": 266,
    "start_time": "2022-03-28T22:56:40.083Z"
   },
   {
    "duration": 9,
    "start_time": "2022-03-28T22:56:40.351Z"
   },
   {
    "duration": 23,
    "start_time": "2022-03-28T22:56:40.362Z"
   },
   {
    "duration": 766,
    "start_time": "2022-03-28T22:56:40.388Z"
   },
   {
    "duration": 7,
    "start_time": "2022-03-28T22:56:47.087Z"
   },
   {
    "duration": 7,
    "start_time": "2022-03-28T22:57:41.582Z"
   },
   {
    "duration": 3333,
    "start_time": "2022-03-28T23:00:12.682Z"
   },
   {
    "duration": 2794,
    "start_time": "2022-03-28T23:01:40.097Z"
   },
   {
    "duration": 1446,
    "start_time": "2022-03-28T23:02:03.693Z"
   },
   {
    "duration": 809,
    "start_time": "2022-03-28T23:02:05.142Z"
   },
   {
    "duration": 25,
    "start_time": "2022-03-28T23:02:05.953Z"
   },
   {
    "duration": 19,
    "start_time": "2022-03-28T23:02:05.981Z"
   },
   {
    "duration": 56,
    "start_time": "2022-03-28T23:02:06.002Z"
   },
   {
    "duration": 38,
    "start_time": "2022-03-28T23:02:06.061Z"
   },
   {
    "duration": 51,
    "start_time": "2022-03-28T23:02:06.101Z"
   },
   {
    "duration": 43,
    "start_time": "2022-03-28T23:02:06.154Z"
   },
   {
    "duration": 7,
    "start_time": "2022-03-28T23:02:06.199Z"
   },
   {
    "duration": 19,
    "start_time": "2022-03-28T23:02:06.211Z"
   },
   {
    "duration": 21,
    "start_time": "2022-03-28T23:02:06.232Z"
   },
   {
    "duration": 14,
    "start_time": "2022-03-28T23:02:06.255Z"
   },
   {
    "duration": 14,
    "start_time": "2022-03-28T23:02:06.272Z"
   },
   {
    "duration": 7,
    "start_time": "2022-03-28T23:02:06.288Z"
   },
   {
    "duration": 7,
    "start_time": "2022-03-28T23:02:06.296Z"
   },
   {
    "duration": 42,
    "start_time": "2022-03-28T23:02:06.304Z"
   },
   {
    "duration": 7,
    "start_time": "2022-03-28T23:02:06.348Z"
   },
   {
    "duration": 8,
    "start_time": "2022-03-28T23:02:06.357Z"
   },
   {
    "duration": 18,
    "start_time": "2022-03-28T23:02:06.367Z"
   },
   {
    "duration": 221,
    "start_time": "2022-03-28T23:02:06.388Z"
   },
   {
    "duration": 49,
    "start_time": "2022-03-28T23:02:06.611Z"
   },
   {
    "duration": 169,
    "start_time": "2022-03-28T23:02:06.662Z"
   },
   {
    "duration": 12,
    "start_time": "2022-03-28T23:02:06.833Z"
   },
   {
    "duration": 7,
    "start_time": "2022-03-28T23:02:06.847Z"
   },
   {
    "duration": 5,
    "start_time": "2022-03-28T23:02:06.856Z"
   },
   {
    "duration": 6,
    "start_time": "2022-03-28T23:02:06.863Z"
   },
   {
    "duration": 6,
    "start_time": "2022-03-28T23:02:06.871Z"
   },
   {
    "duration": 63,
    "start_time": "2022-03-28T23:02:06.882Z"
   },
   {
    "duration": 12,
    "start_time": "2022-03-28T23:02:06.947Z"
   },
   {
    "duration": 25,
    "start_time": "2022-03-28T23:02:06.962Z"
   },
   {
    "duration": 7,
    "start_time": "2022-03-28T23:02:06.989Z"
   },
   {
    "duration": 8,
    "start_time": "2022-03-28T23:02:06.998Z"
   },
   {
    "duration": 6,
    "start_time": "2022-03-28T23:02:07.043Z"
   },
   {
    "duration": 8,
    "start_time": "2022-03-28T23:02:07.052Z"
   },
   {
    "duration": 24,
    "start_time": "2022-03-28T23:02:07.062Z"
   },
   {
    "duration": 12,
    "start_time": "2022-03-28T23:02:07.089Z"
   },
   {
    "duration": 45,
    "start_time": "2022-03-28T23:02:07.104Z"
   },
   {
    "duration": 4,
    "start_time": "2022-03-28T23:02:07.152Z"
   },
   {
    "duration": 4,
    "start_time": "2022-03-28T23:02:07.159Z"
   },
   {
    "duration": 6,
    "start_time": "2022-03-28T23:02:07.165Z"
   },
   {
    "duration": 8,
    "start_time": "2022-03-28T23:02:07.173Z"
   },
   {
    "duration": 7,
    "start_time": "2022-03-28T23:02:07.183Z"
   },
   {
    "duration": 52,
    "start_time": "2022-03-28T23:02:07.192Z"
   },
   {
    "duration": 10,
    "start_time": "2022-03-28T23:02:07.247Z"
   },
   {
    "duration": 14,
    "start_time": "2022-03-28T23:02:07.259Z"
   },
   {
    "duration": 12,
    "start_time": "2022-03-28T23:02:07.276Z"
   },
   {
    "duration": 667,
    "start_time": "2022-03-28T23:02:07.290Z"
   },
   {
    "duration": 10,
    "start_time": "2022-03-28T23:02:07.959Z"
   },
   {
    "duration": 22,
    "start_time": "2022-03-28T23:02:07.971Z"
   },
   {
    "duration": 779,
    "start_time": "2022-03-28T23:02:07.995Z"
   },
   {
    "duration": 5,
    "start_time": "2022-03-28T23:04:16.776Z"
   },
   {
    "duration": 4,
    "start_time": "2022-03-28T23:04:17.212Z"
   },
   {
    "duration": 8,
    "start_time": "2022-03-28T23:05:07.947Z"
   },
   {
    "duration": 3,
    "start_time": "2022-03-28T23:06:25.456Z"
   },
   {
    "duration": 2931,
    "start_time": "2022-03-28T23:06:27.519Z"
   },
   {
    "duration": 5,
    "start_time": "2022-03-28T23:07:47.478Z"
   },
   {
    "duration": 4,
    "start_time": "2022-03-28T23:07:53.178Z"
   },
   {
    "duration": 3195,
    "start_time": "2022-03-28T23:08:14.100Z"
   },
   {
    "duration": 5,
    "start_time": "2022-03-28T23:09:03.709Z"
   },
   {
    "duration": 14,
    "start_time": "2022-03-28T23:09:08.397Z"
   },
   {
    "duration": 10,
    "start_time": "2022-03-28T23:09:31.769Z"
   },
   {
    "duration": 205,
    "start_time": "2022-03-28T23:22:53.525Z"
   },
   {
    "duration": 174,
    "start_time": "2022-03-28T23:23:10.638Z"
   },
   {
    "duration": 5,
    "start_time": "2022-03-28T23:26:48.820Z"
   },
   {
    "duration": 6,
    "start_time": "2022-03-28T23:27:02.827Z"
   },
   {
    "duration": 6,
    "start_time": "2022-03-28T23:27:23.747Z"
   },
   {
    "duration": 6,
    "start_time": "2022-03-28T23:28:16.753Z"
   },
   {
    "duration": 6,
    "start_time": "2022-03-28T23:28:57.145Z"
   },
   {
    "duration": 6,
    "start_time": "2022-03-28T23:29:06.095Z"
   },
   {
    "duration": 7,
    "start_time": "2022-03-28T23:30:48.362Z"
   },
   {
    "duration": 6,
    "start_time": "2022-03-28T23:31:01.645Z"
   },
   {
    "duration": 5,
    "start_time": "2022-03-28T23:37:10.401Z"
   },
   {
    "duration": 4,
    "start_time": "2022-03-28T23:37:22.492Z"
   },
   {
    "duration": 4,
    "start_time": "2022-03-28T23:37:23.846Z"
   },
   {
    "duration": 6,
    "start_time": "2022-03-28T23:38:36.357Z"
   },
   {
    "duration": 7,
    "start_time": "2022-03-28T23:38:45.684Z"
   },
   {
    "duration": 4,
    "start_time": "2022-03-28T23:39:37.396Z"
   },
   {
    "duration": 4,
    "start_time": "2022-03-28T23:39:37.844Z"
   },
   {
    "duration": 4,
    "start_time": "2022-03-28T23:51:23.474Z"
   },
   {
    "duration": 4,
    "start_time": "2022-03-28T23:51:23.950Z"
   },
   {
    "duration": 4,
    "start_time": "2022-03-28T23:51:24.444Z"
   },
   {
    "duration": 5,
    "start_time": "2022-03-28T23:51:24.954Z"
   },
   {
    "duration": 13,
    "start_time": "2022-03-28T23:51:33.101Z"
   },
   {
    "duration": 18,
    "start_time": "2022-03-28T23:51:57.338Z"
   },
   {
    "duration": 4,
    "start_time": "2022-03-28T23:52:13.993Z"
   },
   {
    "duration": 3,
    "start_time": "2022-03-28T23:52:14.433Z"
   },
   {
    "duration": 4,
    "start_time": "2022-03-28T23:52:15.720Z"
   },
   {
    "duration": 18,
    "start_time": "2022-03-28T23:52:15.727Z"
   },
   {
    "duration": 31,
    "start_time": "2022-03-28T23:52:42.997Z"
   },
   {
    "duration": 39,
    "start_time": "2022-03-28T23:53:36.150Z"
   },
   {
    "duration": 3,
    "start_time": "2022-03-28T23:55:07.438Z"
   },
   {
    "duration": 876,
    "start_time": "2022-03-28T23:55:07.444Z"
   },
   {
    "duration": 31,
    "start_time": "2022-03-28T23:55:08.322Z"
   },
   {
    "duration": 18,
    "start_time": "2022-03-28T23:55:08.356Z"
   },
   {
    "duration": 25,
    "start_time": "2022-03-28T23:55:08.376Z"
   },
   {
    "duration": 54,
    "start_time": "2022-03-28T23:55:08.403Z"
   },
   {
    "duration": 33,
    "start_time": "2022-03-28T23:55:08.459Z"
   },
   {
    "duration": 50,
    "start_time": "2022-03-28T23:55:08.494Z"
   },
   {
    "duration": 4,
    "start_time": "2022-03-28T23:55:08.546Z"
   },
   {
    "duration": 11,
    "start_time": "2022-03-28T23:55:08.554Z"
   },
   {
    "duration": 12,
    "start_time": "2022-03-28T23:55:08.567Z"
   },
   {
    "duration": 8,
    "start_time": "2022-03-28T23:55:08.581Z"
   },
   {
    "duration": 57,
    "start_time": "2022-03-28T23:55:08.592Z"
   },
   {
    "duration": 11,
    "start_time": "2022-03-28T23:55:08.651Z"
   },
   {
    "duration": 8,
    "start_time": "2022-03-28T23:55:08.664Z"
   },
   {
    "duration": 6,
    "start_time": "2022-03-28T23:55:08.674Z"
   },
   {
    "duration": 11,
    "start_time": "2022-03-28T23:55:08.682Z"
   },
   {
    "duration": 12,
    "start_time": "2022-03-28T23:55:08.695Z"
   },
   {
    "duration": 46,
    "start_time": "2022-03-28T23:55:08.709Z"
   },
   {
    "duration": 187,
    "start_time": "2022-03-28T23:55:08.757Z"
   },
   {
    "duration": 38,
    "start_time": "2022-03-28T23:55:08.946Z"
   },
   {
    "duration": 178,
    "start_time": "2022-03-28T23:55:08.986Z"
   },
   {
    "duration": 7,
    "start_time": "2022-03-28T23:55:09.167Z"
   },
   {
    "duration": 7,
    "start_time": "2022-03-28T23:55:09.176Z"
   },
   {
    "duration": 6,
    "start_time": "2022-03-28T23:55:09.185Z"
   },
   {
    "duration": 6,
    "start_time": "2022-03-28T23:55:09.193Z"
   },
   {
    "duration": 47,
    "start_time": "2022-03-28T23:55:09.201Z"
   },
   {
    "duration": 16,
    "start_time": "2022-03-28T23:55:09.254Z"
   },
   {
    "duration": 11,
    "start_time": "2022-03-28T23:55:09.273Z"
   },
   {
    "duration": 58,
    "start_time": "2022-03-28T23:55:09.286Z"
   },
   {
    "duration": 6,
    "start_time": "2022-03-28T23:55:09.347Z"
   },
   {
    "duration": 14,
    "start_time": "2022-03-28T23:55:09.355Z"
   },
   {
    "duration": 9,
    "start_time": "2022-03-28T23:55:09.371Z"
   },
   {
    "duration": 6,
    "start_time": "2022-03-28T23:55:09.382Z"
   },
   {
    "duration": 53,
    "start_time": "2022-03-28T23:55:09.390Z"
   },
   {
    "duration": 12,
    "start_time": "2022-03-28T23:55:09.445Z"
   },
   {
    "duration": 9,
    "start_time": "2022-03-28T23:55:09.459Z"
   },
   {
    "duration": 5,
    "start_time": "2022-03-28T23:55:09.470Z"
   },
   {
    "duration": 8,
    "start_time": "2022-03-28T23:55:09.477Z"
   },
   {
    "duration": 6,
    "start_time": "2022-03-28T23:55:09.487Z"
   },
   {
    "duration": 52,
    "start_time": "2022-03-28T23:55:09.495Z"
   },
   {
    "duration": 4,
    "start_time": "2022-03-28T23:55:09.549Z"
   },
   {
    "duration": 7,
    "start_time": "2022-03-28T23:55:09.556Z"
   },
   {
    "duration": 10,
    "start_time": "2022-03-28T23:55:09.565Z"
   },
   {
    "duration": 12,
    "start_time": "2022-03-28T23:55:09.577Z"
   },
   {
    "duration": 54,
    "start_time": "2022-03-28T23:55:09.591Z"
   },
   {
    "duration": 239,
    "start_time": "2022-03-28T23:55:09.647Z"
   },
   {
    "duration": 9,
    "start_time": "2022-03-28T23:55:09.888Z"
   },
   {
    "duration": 20,
    "start_time": "2022-03-28T23:55:09.900Z"
   },
   {
    "duration": 739,
    "start_time": "2022-03-28T23:55:09.921Z"
   },
   {
    "duration": 4,
    "start_time": "2022-03-28T23:55:10.662Z"
   },
   {
    "duration": 6,
    "start_time": "2022-03-28T23:55:10.668Z"
   },
   {
    "duration": 9,
    "start_time": "2022-03-28T23:55:10.676Z"
   },
   {
    "duration": 29,
    "start_time": "2022-03-28T23:55:13.988Z"
   },
   {
    "duration": 23,
    "start_time": "2022-03-28T23:56:05.893Z"
   },
   {
    "duration": 37,
    "start_time": "2022-03-28T23:56:46.525Z"
   },
   {
    "duration": 21,
    "start_time": "2022-03-29T00:00:35.799Z"
   },
   {
    "duration": 19,
    "start_time": "2022-03-29T00:00:43.089Z"
   },
   {
    "duration": 21,
    "start_time": "2022-03-29T00:00:51.497Z"
   },
   {
    "duration": 30,
    "start_time": "2022-03-29T00:01:03.656Z"
   },
   {
    "duration": 52,
    "start_time": "2022-03-29T00:01:17.739Z"
   },
   {
    "duration": 52,
    "start_time": "2022-03-29T00:01:51.853Z"
   },
   {
    "duration": 27,
    "start_time": "2022-03-29T00:02:03.091Z"
   },
   {
    "duration": 4,
    "start_time": "2022-03-29T00:03:52.848Z"
   },
   {
    "duration": 5,
    "start_time": "2022-03-29T00:03:54.025Z"
   },
   {
    "duration": 30,
    "start_time": "2022-03-29T00:04:32.651Z"
   },
   {
    "duration": 27,
    "start_time": "2022-03-29T00:04:45.623Z"
   },
   {
    "duration": 4,
    "start_time": "2022-03-29T00:05:35.427Z"
   },
   {
    "duration": 3,
    "start_time": "2022-03-29T00:05:36.451Z"
   },
   {
    "duration": 22,
    "start_time": "2022-03-29T00:05:37.390Z"
   },
   {
    "duration": 4,
    "start_time": "2022-03-29T00:06:12.588Z"
   },
   {
    "duration": 3,
    "start_time": "2022-03-29T00:06:13.779Z"
   },
   {
    "duration": 21,
    "start_time": "2022-03-29T00:06:15.637Z"
   },
   {
    "duration": 11,
    "start_time": "2022-03-29T00:06:49.406Z"
   },
   {
    "duration": 21,
    "start_time": "2022-03-29T00:07:05.788Z"
   },
   {
    "duration": 14,
    "start_time": "2022-03-29T00:07:06.945Z"
   },
   {
    "duration": 265,
    "start_time": "2022-03-29T00:07:13.919Z"
   },
   {
    "duration": 11,
    "start_time": "2022-03-29T00:07:24.555Z"
   },
   {
    "duration": 11,
    "start_time": "2022-03-29T00:07:44.259Z"
   },
   {
    "duration": 0,
    "start_time": "2022-03-29T00:08:13.306Z"
   },
   {
    "duration": 771,
    "start_time": "2022-03-29T00:08:18.016Z"
   },
   {
    "duration": 23,
    "start_time": "2022-03-29T00:10:24.577Z"
   },
   {
    "duration": 367,
    "start_time": "2022-03-29T00:10:27.309Z"
   },
   {
    "duration": 279,
    "start_time": "2022-03-29T00:10:43.158Z"
   },
   {
    "duration": 4,
    "start_time": "2022-03-29T00:11:11.782Z"
   },
   {
    "duration": 5,
    "start_time": "2022-03-29T00:11:12.642Z"
   },
   {
    "duration": 19,
    "start_time": "2022-03-29T00:11:13.864Z"
   },
   {
    "duration": 18,
    "start_time": "2022-03-29T00:11:18.946Z"
   },
   {
    "duration": 3,
    "start_time": "2022-03-29T00:11:30.013Z"
   },
   {
    "duration": 4,
    "start_time": "2022-03-29T00:11:30.728Z"
   },
   {
    "duration": 23,
    "start_time": "2022-03-29T00:11:32.412Z"
   },
   {
    "duration": 269,
    "start_time": "2022-03-29T00:11:33.980Z"
   },
   {
    "duration": 1453,
    "start_time": "2022-03-29T00:11:56.274Z"
   },
   {
    "duration": 810,
    "start_time": "2022-03-29T00:11:57.729Z"
   },
   {
    "duration": 25,
    "start_time": "2022-03-29T00:11:58.541Z"
   },
   {
    "duration": 18,
    "start_time": "2022-03-29T00:11:58.569Z"
   },
   {
    "duration": 24,
    "start_time": "2022-03-29T00:11:58.589Z"
   },
   {
    "duration": 42,
    "start_time": "2022-03-29T00:11:58.643Z"
   },
   {
    "duration": 30,
    "start_time": "2022-03-29T00:11:58.688Z"
   },
   {
    "duration": 32,
    "start_time": "2022-03-29T00:11:58.743Z"
   },
   {
    "duration": 7,
    "start_time": "2022-03-29T00:11:58.777Z"
   },
   {
    "duration": 12,
    "start_time": "2022-03-29T00:11:58.789Z"
   },
   {
    "duration": 48,
    "start_time": "2022-03-29T00:11:58.804Z"
   },
   {
    "duration": 8,
    "start_time": "2022-03-29T00:11:58.854Z"
   },
   {
    "duration": 18,
    "start_time": "2022-03-29T00:11:58.864Z"
   },
   {
    "duration": 17,
    "start_time": "2022-03-29T00:11:58.884Z"
   },
   {
    "duration": 7,
    "start_time": "2022-03-29T00:11:58.903Z"
   },
   {
    "duration": 32,
    "start_time": "2022-03-29T00:11:58.912Z"
   },
   {
    "duration": 24,
    "start_time": "2022-03-29T00:11:58.946Z"
   },
   {
    "duration": 14,
    "start_time": "2022-03-29T00:11:58.972Z"
   },
   {
    "duration": 20,
    "start_time": "2022-03-29T00:11:58.988Z"
   },
   {
    "duration": 206,
    "start_time": "2022-03-29T00:11:59.011Z"
   },
   {
    "duration": 46,
    "start_time": "2022-03-29T00:11:59.220Z"
   },
   {
    "duration": 180,
    "start_time": "2022-03-29T00:11:59.268Z"
   },
   {
    "duration": 5,
    "start_time": "2022-03-29T00:11:59.450Z"
   },
   {
    "duration": 13,
    "start_time": "2022-03-29T00:11:59.457Z"
   },
   {
    "duration": 11,
    "start_time": "2022-03-29T00:11:59.472Z"
   },
   {
    "duration": 10,
    "start_time": "2022-03-29T00:11:59.485Z"
   },
   {
    "duration": 9,
    "start_time": "2022-03-29T00:11:59.497Z"
   },
   {
    "duration": 47,
    "start_time": "2022-03-29T00:11:59.512Z"
   },
   {
    "duration": 16,
    "start_time": "2022-03-29T00:11:59.561Z"
   },
   {
    "duration": 28,
    "start_time": "2022-03-29T00:11:59.579Z"
   },
   {
    "duration": 34,
    "start_time": "2022-03-29T00:11:59.609Z"
   },
   {
    "duration": 10,
    "start_time": "2022-03-29T00:11:59.645Z"
   },
   {
    "duration": 18,
    "start_time": "2022-03-29T00:11:59.657Z"
   },
   {
    "duration": 19,
    "start_time": "2022-03-29T00:11:59.677Z"
   },
   {
    "duration": 29,
    "start_time": "2022-03-29T00:11:59.698Z"
   },
   {
    "duration": 20,
    "start_time": "2022-03-29T00:11:59.730Z"
   },
   {
    "duration": 9,
    "start_time": "2022-03-29T00:11:59.752Z"
   },
   {
    "duration": 15,
    "start_time": "2022-03-29T00:11:59.763Z"
   },
   {
    "duration": 7,
    "start_time": "2022-03-29T00:11:59.780Z"
   },
   {
    "duration": 15,
    "start_time": "2022-03-29T00:11:59.789Z"
   },
   {
    "duration": 15,
    "start_time": "2022-03-29T00:11:59.806Z"
   },
   {
    "duration": 21,
    "start_time": "2022-03-29T00:11:59.823Z"
   },
   {
    "duration": 21,
    "start_time": "2022-03-29T00:11:59.846Z"
   },
   {
    "duration": 11,
    "start_time": "2022-03-29T00:11:59.870Z"
   },
   {
    "duration": 15,
    "start_time": "2022-03-29T00:11:59.883Z"
   },
   {
    "duration": 18,
    "start_time": "2022-03-29T00:11:59.900Z"
   },
   {
    "duration": 603,
    "start_time": "2022-03-29T00:11:59.920Z"
   },
   {
    "duration": 18,
    "start_time": "2022-03-29T00:12:00.526Z"
   },
   {
    "duration": 21,
    "start_time": "2022-03-29T00:12:00.546Z"
   },
   {
    "duration": 792,
    "start_time": "2022-03-29T00:12:00.569Z"
   },
   {
    "duration": 4,
    "start_time": "2022-03-29T00:12:01.364Z"
   },
   {
    "duration": 11,
    "start_time": "2022-03-29T00:12:01.370Z"
   },
   {
    "duration": 38,
    "start_time": "2022-03-29T00:12:01.384Z"
   },
   {
    "duration": 175,
    "start_time": "2022-03-29T00:12:01.424Z"
   },
   {
    "duration": 263,
    "start_time": "2022-03-29T00:12:15.611Z"
   },
   {
    "duration": 1640,
    "start_time": "2022-03-29T00:12:29.788Z"
   },
   {
    "duration": 262,
    "start_time": "2022-03-29T00:12:39.875Z"
   },
   {
    "duration": 942,
    "start_time": "2022-03-29T00:13:03.805Z"
   },
   {
    "duration": 280,
    "start_time": "2022-03-29T00:15:04.321Z"
   },
   {
    "duration": 2005,
    "start_time": "2022-03-29T00:15:26.079Z"
   },
   {
    "duration": 273,
    "start_time": "2022-03-29T00:15:58.350Z"
   },
   {
    "duration": 4,
    "start_time": "2022-03-29T06:50:06.399Z"
   },
   {
    "duration": 865,
    "start_time": "2022-03-29T06:50:06.406Z"
   },
   {
    "duration": 27,
    "start_time": "2022-03-29T06:50:07.273Z"
   },
   {
    "duration": 48,
    "start_time": "2022-03-29T06:50:07.304Z"
   },
   {
    "duration": 35,
    "start_time": "2022-03-29T06:50:07.355Z"
   },
   {
    "duration": 54,
    "start_time": "2022-03-29T06:50:07.392Z"
   },
   {
    "duration": 29,
    "start_time": "2022-03-29T06:50:07.448Z"
   },
   {
    "duration": 32,
    "start_time": "2022-03-29T06:50:07.479Z"
   },
   {
    "duration": 4,
    "start_time": "2022-03-29T06:50:07.513Z"
   },
   {
    "duration": 8,
    "start_time": "2022-03-29T06:50:07.546Z"
   },
   {
    "duration": 14,
    "start_time": "2022-03-29T06:50:07.557Z"
   },
   {
    "duration": 11,
    "start_time": "2022-03-29T06:50:07.573Z"
   },
   {
    "duration": 14,
    "start_time": "2022-03-29T06:50:07.586Z"
   },
   {
    "duration": 44,
    "start_time": "2022-03-29T06:50:07.602Z"
   },
   {
    "duration": 6,
    "start_time": "2022-03-29T06:50:07.648Z"
   },
   {
    "duration": 7,
    "start_time": "2022-03-29T06:50:07.656Z"
   },
   {
    "duration": 8,
    "start_time": "2022-03-29T06:50:07.665Z"
   },
   {
    "duration": 8,
    "start_time": "2022-03-29T06:50:07.674Z"
   },
   {
    "duration": 20,
    "start_time": "2022-03-29T06:50:07.684Z"
   },
   {
    "duration": 189,
    "start_time": "2022-03-29T06:50:07.743Z"
   },
   {
    "duration": 43,
    "start_time": "2022-03-29T06:50:07.934Z"
   },
   {
    "duration": 166,
    "start_time": "2022-03-29T06:50:07.980Z"
   },
   {
    "duration": 5,
    "start_time": "2022-03-29T06:50:08.148Z"
   },
   {
    "duration": 8,
    "start_time": "2022-03-29T06:50:08.155Z"
   },
   {
    "duration": 12,
    "start_time": "2022-03-29T06:50:08.165Z"
   },
   {
    "duration": 8,
    "start_time": "2022-03-29T06:50:08.179Z"
   },
   {
    "duration": 7,
    "start_time": "2022-03-29T06:50:08.189Z"
   },
   {
    "duration": 53,
    "start_time": "2022-03-29T06:50:08.201Z"
   },
   {
    "duration": 10,
    "start_time": "2022-03-29T06:50:08.256Z"
   },
   {
    "duration": 20,
    "start_time": "2022-03-29T06:50:08.268Z"
   },
   {
    "duration": 6,
    "start_time": "2022-03-29T06:50:08.290Z"
   },
   {
    "duration": 45,
    "start_time": "2022-03-29T06:50:08.298Z"
   },
   {
    "duration": 8,
    "start_time": "2022-03-29T06:50:08.345Z"
   },
   {
    "duration": 6,
    "start_time": "2022-03-29T06:50:08.355Z"
   },
   {
    "duration": 20,
    "start_time": "2022-03-29T06:50:08.363Z"
   },
   {
    "duration": 11,
    "start_time": "2022-03-29T06:50:08.385Z"
   },
   {
    "duration": 47,
    "start_time": "2022-03-29T06:50:08.399Z"
   },
   {
    "duration": 5,
    "start_time": "2022-03-29T06:50:08.449Z"
   },
   {
    "duration": 6,
    "start_time": "2022-03-29T06:50:08.456Z"
   },
   {
    "duration": 5,
    "start_time": "2022-03-29T06:50:08.464Z"
   },
   {
    "duration": 9,
    "start_time": "2022-03-29T06:50:08.471Z"
   },
   {
    "duration": 4,
    "start_time": "2022-03-29T06:50:08.482Z"
   },
   {
    "duration": 6,
    "start_time": "2022-03-29T06:50:08.488Z"
   },
   {
    "duration": 55,
    "start_time": "2022-03-29T06:50:08.496Z"
   },
   {
    "duration": 16,
    "start_time": "2022-03-29T06:50:08.553Z"
   },
   {
    "duration": 13,
    "start_time": "2022-03-29T06:50:08.571Z"
   },
   {
    "duration": 266,
    "start_time": "2022-03-29T06:50:08.586Z"
   },
   {
    "duration": 10,
    "start_time": "2022-03-29T06:50:08.854Z"
   },
   {
    "duration": 22,
    "start_time": "2022-03-29T06:50:08.866Z"
   },
   {
    "duration": 869,
    "start_time": "2022-03-29T06:50:08.889Z"
   },
   {
    "duration": 4,
    "start_time": "2022-03-29T06:50:09.760Z"
   },
   {
    "duration": 6,
    "start_time": "2022-03-29T06:50:09.766Z"
   },
   {
    "duration": 24,
    "start_time": "2022-03-29T06:50:09.774Z"
   },
   {
    "duration": 294,
    "start_time": "2022-03-29T06:50:09.800Z"
   },
   {
    "duration": 0,
    "start_time": "2022-03-29T06:57:47.218Z"
   },
   {
    "duration": 624,
    "start_time": "2022-03-29T06:58:02.239Z"
   },
   {
    "duration": 520,
    "start_time": "2022-03-29T06:58:15.858Z"
   },
   {
    "duration": 912,
    "start_time": "2022-03-29T06:58:24.352Z"
   },
   {
    "duration": 9428,
    "start_time": "2022-03-29T06:58:32.136Z"
   },
   {
    "duration": 910,
    "start_time": "2022-03-29T06:59:27.002Z"
   },
   {
    "duration": 1610,
    "start_time": "2022-03-29T06:59:41.033Z"
   },
   {
    "duration": 890,
    "start_time": "2022-03-29T06:59:55.855Z"
   },
   {
    "duration": 97,
    "start_time": "2022-03-29T07:34:21.101Z"
   },
   {
    "duration": 2872,
    "start_time": "2022-03-29T07:34:37.345Z"
   },
   {
    "duration": 28,
    "start_time": "2022-03-29T07:35:11.088Z"
   },
   {
    "duration": 22,
    "start_time": "2022-03-29T07:36:01.523Z"
   },
   {
    "duration": 20,
    "start_time": "2022-03-29T07:36:16.819Z"
   },
   {
    "duration": 266,
    "start_time": "2022-03-29T07:36:27.980Z"
   },
   {
    "duration": 260,
    "start_time": "2022-03-29T07:37:48.719Z"
   },
   {
    "duration": 995,
    "start_time": "2022-03-29T07:37:57.711Z"
   },
   {
    "duration": 5,
    "start_time": "2022-03-29T07:38:34.343Z"
   },
   {
    "duration": 320,
    "start_time": "2022-03-29T07:38:41.878Z"
   },
   {
    "duration": 823,
    "start_time": "2022-03-29T07:38:50.949Z"
   },
   {
    "duration": 2030,
    "start_time": "2022-03-29T07:44:02.536Z"
   },
   {
    "duration": 1128,
    "start_time": "2022-03-29T07:44:12.443Z"
   },
   {
    "duration": 4,
    "start_time": "2022-03-29T07:44:42.151Z"
   },
   {
    "duration": 1035,
    "start_time": "2022-03-29T07:44:50.691Z"
   },
   {
    "duration": 6,
    "start_time": "2022-03-29T07:45:19.585Z"
   },
   {
    "duration": 1052,
    "start_time": "2022-03-29T07:45:26.396Z"
   },
   {
    "duration": 1033,
    "start_time": "2022-03-29T07:45:39.368Z"
   },
   {
    "duration": 1112,
    "start_time": "2022-03-29T07:45:45.533Z"
   },
   {
    "duration": 272,
    "start_time": "2022-03-29T07:45:50.544Z"
   },
   {
    "duration": 4,
    "start_time": "2022-03-29T07:46:32.429Z"
   },
   {
    "duration": 2967,
    "start_time": "2022-03-29T07:46:49.997Z"
   },
   {
    "duration": 2848,
    "start_time": "2022-03-29T07:47:02.585Z"
   },
   {
    "duration": 5,
    "start_time": "2022-03-29T07:47:12.965Z"
   },
   {
    "duration": 3067,
    "start_time": "2022-03-29T07:47:33.798Z"
   },
   {
    "duration": 2997,
    "start_time": "2022-03-29T07:47:47.229Z"
   },
   {
    "duration": 2949,
    "start_time": "2022-03-29T07:48:02.558Z"
   },
   {
    "duration": 1030,
    "start_time": "2022-03-29T07:49:04.533Z"
   },
   {
    "duration": 1354,
    "start_time": "2022-03-29T07:49:42.902Z"
   },
   {
    "duration": 1249,
    "start_time": "2022-03-29T07:49:56.598Z"
   },
   {
    "duration": 823,
    "start_time": "2022-03-29T07:50:06.348Z"
   },
   {
    "duration": 1024,
    "start_time": "2022-03-29T07:54:29.527Z"
   },
   {
    "duration": 1046,
    "start_time": "2022-03-29T07:54:38.009Z"
   },
   {
    "duration": 4604,
    "start_time": "2022-03-29T07:54:43.688Z"
   },
   {
    "duration": 341,
    "start_time": "2022-03-29T07:55:10.060Z"
   },
   {
    "duration": 267,
    "start_time": "2022-03-29T07:55:23.023Z"
   },
   {
    "duration": 22,
    "start_time": "2022-03-29T07:59:06.241Z"
   },
   {
    "duration": 72,
    "start_time": "2022-03-29T08:35:58.762Z"
   },
   {
    "duration": 1506,
    "start_time": "2022-03-29T08:36:02.973Z"
   },
   {
    "duration": 661,
    "start_time": "2022-03-29T08:36:04.481Z"
   },
   {
    "duration": 19,
    "start_time": "2022-03-29T08:36:05.144Z"
   },
   {
    "duration": 14,
    "start_time": "2022-03-29T08:36:05.165Z"
   },
   {
    "duration": 18,
    "start_time": "2022-03-29T08:36:05.180Z"
   },
   {
    "duration": 52,
    "start_time": "2022-03-29T08:36:05.200Z"
   },
   {
    "duration": 19,
    "start_time": "2022-03-29T08:36:05.254Z"
   },
   {
    "duration": 20,
    "start_time": "2022-03-29T08:36:05.275Z"
   },
   {
    "duration": 9,
    "start_time": "2022-03-29T08:36:05.296Z"
   },
   {
    "duration": 9,
    "start_time": "2022-03-29T08:36:05.332Z"
   },
   {
    "duration": 12,
    "start_time": "2022-03-29T08:36:05.343Z"
   },
   {
    "duration": 11,
    "start_time": "2022-03-29T08:36:05.357Z"
   },
   {
    "duration": 11,
    "start_time": "2022-03-29T08:36:05.370Z"
   },
   {
    "duration": 12,
    "start_time": "2022-03-29T08:36:05.383Z"
   },
   {
    "duration": 8,
    "start_time": "2022-03-29T08:36:05.397Z"
   },
   {
    "duration": 6,
    "start_time": "2022-03-29T08:36:05.407Z"
   },
   {
    "duration": 32,
    "start_time": "2022-03-29T08:36:05.414Z"
   },
   {
    "duration": 9,
    "start_time": "2022-03-29T08:36:05.448Z"
   },
   {
    "duration": 28,
    "start_time": "2022-03-29T08:36:05.458Z"
   },
   {
    "duration": 128,
    "start_time": "2022-03-29T08:36:05.488Z"
   },
   {
    "duration": 31,
    "start_time": "2022-03-29T08:36:05.618Z"
   },
   {
    "duration": 123,
    "start_time": "2022-03-29T08:36:05.650Z"
   },
   {
    "duration": 4,
    "start_time": "2022-03-29T08:36:05.774Z"
   },
   {
    "duration": 45,
    "start_time": "2022-03-29T08:36:05.780Z"
   },
   {
    "duration": 8,
    "start_time": "2022-03-29T08:36:05.826Z"
   },
   {
    "duration": 6,
    "start_time": "2022-03-29T08:36:05.836Z"
   },
   {
    "duration": 9,
    "start_time": "2022-03-29T08:36:05.844Z"
   },
   {
    "duration": 18,
    "start_time": "2022-03-29T08:36:05.858Z"
   },
   {
    "duration": 10,
    "start_time": "2022-03-29T08:36:05.878Z"
   },
   {
    "duration": 42,
    "start_time": "2022-03-29T08:36:05.890Z"
   },
   {
    "duration": 7,
    "start_time": "2022-03-29T08:36:05.935Z"
   },
   {
    "duration": 6,
    "start_time": "2022-03-29T08:36:05.945Z"
   },
   {
    "duration": 7,
    "start_time": "2022-03-29T08:36:05.953Z"
   },
   {
    "duration": 9,
    "start_time": "2022-03-29T08:36:05.962Z"
   },
   {
    "duration": 24,
    "start_time": "2022-03-29T08:36:05.973Z"
   },
   {
    "duration": 33,
    "start_time": "2022-03-29T08:36:06.000Z"
   },
   {
    "duration": 7,
    "start_time": "2022-03-29T08:36:06.035Z"
   },
   {
    "duration": 6,
    "start_time": "2022-03-29T08:36:06.043Z"
   },
   {
    "duration": 9,
    "start_time": "2022-03-29T08:36:06.050Z"
   },
   {
    "duration": 9,
    "start_time": "2022-03-29T08:36:06.060Z"
   },
   {
    "duration": 13,
    "start_time": "2022-03-29T08:36:06.070Z"
   },
   {
    "duration": 6,
    "start_time": "2022-03-29T08:36:06.084Z"
   },
   {
    "duration": 12,
    "start_time": "2022-03-29T08:36:06.091Z"
   },
   {
    "duration": 30,
    "start_time": "2022-03-29T08:36:06.105Z"
   },
   {
    "duration": 10,
    "start_time": "2022-03-29T08:36:06.136Z"
   },
   {
    "duration": 9,
    "start_time": "2022-03-29T08:36:06.147Z"
   },
   {
    "duration": 209,
    "start_time": "2022-03-29T08:36:06.158Z"
   },
   {
    "duration": 8,
    "start_time": "2022-03-29T08:36:06.368Z"
   },
   {
    "duration": 17,
    "start_time": "2022-03-29T08:36:06.377Z"
   },
   {
    "duration": 650,
    "start_time": "2022-03-29T08:36:06.396Z"
   },
   {
    "duration": 2,
    "start_time": "2022-03-29T08:36:07.048Z"
   },
   {
    "duration": 7,
    "start_time": "2022-03-29T08:36:07.052Z"
   },
   {
    "duration": 25,
    "start_time": "2022-03-29T08:36:07.061Z"
   },
   {
    "duration": 675,
    "start_time": "2022-03-29T08:36:07.088Z"
   },
   {
    "duration": 155,
    "start_time": "2022-03-29T08:36:26.251Z"
   },
   {
    "duration": 609,
    "start_time": "2022-03-29T08:38:08.724Z"
   },
   {
    "duration": 207,
    "start_time": "2022-03-29T08:39:15.402Z"
   },
   {
    "duration": 562,
    "start_time": "2022-03-29T08:40:17.409Z"
   },
   {
    "duration": 247,
    "start_time": "2022-03-29T08:40:18.772Z"
   },
   {
    "duration": 68,
    "start_time": "2022-03-29T08:41:22.771Z"
   },
   {
    "duration": 30,
    "start_time": "2022-03-29T08:41:28.246Z"
   },
   {
    "duration": 565,
    "start_time": "2022-03-29T08:41:30.542Z"
   },
   {
    "duration": 144,
    "start_time": "2022-03-29T08:41:34.441Z"
   },
   {
    "duration": 16,
    "start_time": "2022-03-29T08:41:48.329Z"
   },
   {
    "duration": 639,
    "start_time": "2022-03-29T08:43:11.275Z"
   },
   {
    "duration": 1532,
    "start_time": "2022-03-29T09:02:04.021Z"
   },
   {
    "duration": 45,
    "start_time": "2022-03-29T09:02:31.701Z"
   },
   {
    "duration": 31,
    "start_time": "2022-03-29T09:02:56.894Z"
   },
   {
    "duration": 44,
    "start_time": "2022-03-29T09:03:10.233Z"
   },
   {
    "duration": 1528,
    "start_time": "2022-03-29T09:03:37.770Z"
   },
   {
    "duration": 37,
    "start_time": "2022-03-29T09:04:09.413Z"
   },
   {
    "duration": 4,
    "start_time": "2022-03-29T09:06:10.650Z"
   },
   {
    "duration": 681,
    "start_time": "2022-03-29T09:06:10.657Z"
   },
   {
    "duration": 17,
    "start_time": "2022-03-29T09:06:11.340Z"
   },
   {
    "duration": 13,
    "start_time": "2022-03-29T09:06:11.360Z"
   },
   {
    "duration": 18,
    "start_time": "2022-03-29T09:06:11.374Z"
   },
   {
    "duration": 52,
    "start_time": "2022-03-29T09:06:11.394Z"
   },
   {
    "duration": 25,
    "start_time": "2022-03-29T09:06:11.449Z"
   },
   {
    "duration": 20,
    "start_time": "2022-03-29T09:06:11.476Z"
   },
   {
    "duration": 3,
    "start_time": "2022-03-29T09:06:11.498Z"
   },
   {
    "duration": 29,
    "start_time": "2022-03-29T09:06:11.504Z"
   },
   {
    "duration": 12,
    "start_time": "2022-03-29T09:06:11.535Z"
   },
   {
    "duration": 17,
    "start_time": "2022-03-29T09:06:11.549Z"
   },
   {
    "duration": 17,
    "start_time": "2022-03-29T09:06:11.568Z"
   },
   {
    "duration": 14,
    "start_time": "2022-03-29T09:06:11.587Z"
   },
   {
    "duration": 13,
    "start_time": "2022-03-29T09:06:11.602Z"
   },
   {
    "duration": 10,
    "start_time": "2022-03-29T09:06:11.617Z"
   },
   {
    "duration": 11,
    "start_time": "2022-03-29T09:06:11.629Z"
   },
   {
    "duration": 21,
    "start_time": "2022-03-29T09:06:11.642Z"
   },
   {
    "duration": 18,
    "start_time": "2022-03-29T09:06:11.665Z"
   },
   {
    "duration": 136,
    "start_time": "2022-03-29T09:06:11.684Z"
   },
   {
    "duration": 29,
    "start_time": "2022-03-29T09:06:11.823Z"
   },
   {
    "duration": 106,
    "start_time": "2022-03-29T09:06:11.855Z"
   },
   {
    "duration": 5,
    "start_time": "2022-03-29T09:06:11.963Z"
   },
   {
    "duration": 14,
    "start_time": "2022-03-29T09:06:11.969Z"
   },
   {
    "duration": 15,
    "start_time": "2022-03-29T09:06:11.985Z"
   },
   {
    "duration": 17,
    "start_time": "2022-03-29T09:06:12.002Z"
   },
   {
    "duration": 11,
    "start_time": "2022-03-29T09:06:12.021Z"
   },
   {
    "duration": 23,
    "start_time": "2022-03-29T09:06:12.035Z"
   },
   {
    "duration": 11,
    "start_time": "2022-03-29T09:06:12.060Z"
   },
   {
    "duration": 17,
    "start_time": "2022-03-29T09:06:12.073Z"
   },
   {
    "duration": 8,
    "start_time": "2022-03-29T09:06:12.092Z"
   },
   {
    "duration": 4,
    "start_time": "2022-03-29T09:06:12.101Z"
   },
   {
    "duration": 10,
    "start_time": "2022-03-29T09:06:12.106Z"
   },
   {
    "duration": 7,
    "start_time": "2022-03-29T09:06:12.117Z"
   },
   {
    "duration": 10,
    "start_time": "2022-03-29T09:06:14.097Z"
   },
   {
    "duration": 9,
    "start_time": "2022-03-29T09:06:15.710Z"
   },
   {
    "duration": 7,
    "start_time": "2022-03-29T09:06:16.582Z"
   },
   {
    "duration": 4,
    "start_time": "2022-03-29T09:06:19.394Z"
   },
   {
    "duration": 3,
    "start_time": "2022-03-29T09:06:19.929Z"
   },
   {
    "duration": 3,
    "start_time": "2022-03-29T09:06:20.893Z"
   },
   {
    "duration": 5,
    "start_time": "2022-03-29T09:06:23.571Z"
   },
   {
    "duration": 6,
    "start_time": "2022-03-29T09:06:40.398Z"
   },
   {
    "duration": 14,
    "start_time": "2022-03-29T09:06:41.411Z"
   },
   {
    "duration": 593,
    "start_time": "2022-03-29T09:06:44.514Z"
   },
   {
    "duration": 3,
    "start_time": "2022-03-29T09:06:52.426Z"
   },
   {
    "duration": 2,
    "start_time": "2022-03-29T09:06:54.414Z"
   },
   {
    "duration": 15,
    "start_time": "2022-03-29T09:07:07.764Z"
   },
   {
    "duration": 32,
    "start_time": "2022-03-29T09:07:09.785Z"
   },
   {
    "duration": 564,
    "start_time": "2022-03-29T09:07:20.742Z"
   },
   {
    "duration": 143,
    "start_time": "2022-03-29T09:07:23.799Z"
   },
   {
    "duration": 1383,
    "start_time": "2022-03-29T09:12:03.738Z"
   },
   {
    "duration": 656,
    "start_time": "2022-03-29T09:12:05.123Z"
   },
   {
    "duration": 17,
    "start_time": "2022-03-29T09:12:05.781Z"
   },
   {
    "duration": 12,
    "start_time": "2022-03-29T09:12:05.800Z"
   },
   {
    "duration": 33,
    "start_time": "2022-03-29T09:12:05.813Z"
   },
   {
    "duration": 22,
    "start_time": "2022-03-29T09:12:05.847Z"
   },
   {
    "duration": 20,
    "start_time": "2022-03-29T09:12:05.871Z"
   },
   {
    "duration": 44,
    "start_time": "2022-03-29T09:12:05.893Z"
   },
   {
    "duration": 8,
    "start_time": "2022-03-29T09:12:05.939Z"
   },
   {
    "duration": 9,
    "start_time": "2022-03-29T09:12:05.950Z"
   },
   {
    "duration": 9,
    "start_time": "2022-03-29T09:12:05.960Z"
   },
   {
    "duration": 9,
    "start_time": "2022-03-29T09:12:05.970Z"
   },
   {
    "duration": 24,
    "start_time": "2022-03-29T09:12:05.981Z"
   },
   {
    "duration": 8,
    "start_time": "2022-03-29T09:12:06.007Z"
   },
   {
    "duration": 9,
    "start_time": "2022-03-29T09:12:06.017Z"
   },
   {
    "duration": 15,
    "start_time": "2022-03-29T09:12:06.027Z"
   },
   {
    "duration": 12,
    "start_time": "2022-03-29T09:12:06.044Z"
   },
   {
    "duration": 13,
    "start_time": "2022-03-29T09:12:06.058Z"
   },
   {
    "duration": 20,
    "start_time": "2022-03-29T09:12:06.073Z"
   },
   {
    "duration": 129,
    "start_time": "2022-03-29T09:12:06.095Z"
   },
   {
    "duration": 28,
    "start_time": "2022-03-29T09:12:06.226Z"
   },
   {
    "duration": 110,
    "start_time": "2022-03-29T09:12:06.256Z"
   },
   {
    "duration": 4,
    "start_time": "2022-03-29T09:12:06.367Z"
   },
   {
    "duration": 7,
    "start_time": "2022-03-29T09:12:06.373Z"
   },
   {
    "duration": 13,
    "start_time": "2022-03-29T09:12:06.381Z"
   },
   {
    "duration": 5,
    "start_time": "2022-03-29T09:12:06.396Z"
   },
   {
    "duration": 16,
    "start_time": "2022-03-29T09:12:06.403Z"
   },
   {
    "duration": 22,
    "start_time": "2022-03-29T09:12:06.422Z"
   },
   {
    "duration": 9,
    "start_time": "2022-03-29T09:12:06.445Z"
   },
   {
    "duration": 16,
    "start_time": "2022-03-29T09:12:06.455Z"
   },
   {
    "duration": 7,
    "start_time": "2022-03-29T09:12:10.515Z"
   },
   {
    "duration": 12,
    "start_time": "2022-03-29T09:12:12.679Z"
   },
   {
    "duration": 6,
    "start_time": "2022-03-29T09:12:13.711Z"
   },
   {
    "duration": 3,
    "start_time": "2022-03-29T09:12:15.821Z"
   },
   {
    "duration": 4,
    "start_time": "2022-03-29T09:12:17.457Z"
   },
   {
    "duration": 4,
    "start_time": "2022-03-29T09:12:18.202Z"
   },
   {
    "duration": 4,
    "start_time": "2022-03-29T09:12:19.227Z"
   },
   {
    "duration": 2,
    "start_time": "2022-03-29T09:12:23.611Z"
   },
   {
    "duration": 4,
    "start_time": "2022-03-29T09:12:24.857Z"
   },
   {
    "duration": 9,
    "start_time": "2022-03-29T09:12:27.284Z"
   },
   {
    "duration": 10,
    "start_time": "2022-03-29T09:12:29.630Z"
   },
   {
    "duration": 9,
    "start_time": "2022-03-29T09:12:31.948Z"
   },
   {
    "duration": 204,
    "start_time": "2022-03-29T09:12:37.150Z"
   },
   {
    "duration": 6,
    "start_time": "2022-03-29T09:12:45.397Z"
   },
   {
    "duration": 16,
    "start_time": "2022-03-29T09:12:48.886Z"
   },
   {
    "duration": 584,
    "start_time": "2022-03-29T09:12:53.424Z"
   },
   {
    "duration": 3,
    "start_time": "2022-03-29T09:13:04.564Z"
   },
   {
    "duration": 3,
    "start_time": "2022-03-29T09:13:10.973Z"
   },
   {
    "duration": 15,
    "start_time": "2022-03-29T09:13:16.810Z"
   },
   {
    "duration": 690,
    "start_time": "2022-03-29T09:13:26.814Z"
   },
   {
    "duration": 158,
    "start_time": "2022-03-29T09:13:29.908Z"
   },
   {
    "duration": 192,
    "start_time": "2022-03-29T09:35:37.390Z"
   },
   {
    "duration": 40,
    "start_time": "2022-03-29T09:35:59.022Z"
   },
   {
    "duration": 43,
    "start_time": "2022-03-29T09:36:32.755Z"
   },
   {
    "duration": 9,
    "start_time": "2022-03-29T09:40:13.844Z"
   },
   {
    "duration": 20,
    "start_time": "2022-03-29T09:40:39.496Z"
   },
   {
    "duration": 9,
    "start_time": "2022-03-29T09:41:13.961Z"
   },
   {
    "duration": 7,
    "start_time": "2022-03-29T09:41:30.266Z"
   },
   {
    "duration": 7,
    "start_time": "2022-03-29T09:42:41.447Z"
   },
   {
    "duration": 8,
    "start_time": "2022-03-29T09:42:48.990Z"
   },
   {
    "duration": 8,
    "start_time": "2022-03-29T09:44:28.514Z"
   },
   {
    "duration": 5,
    "start_time": "2022-03-29T09:44:47.252Z"
   },
   {
    "duration": 7,
    "start_time": "2022-03-29T09:46:54.706Z"
   },
   {
    "duration": 6,
    "start_time": "2022-03-29T09:47:37.582Z"
   },
   {
    "duration": 36,
    "start_time": "2022-03-29T09:49:23.204Z"
   },
   {
    "duration": 8,
    "start_time": "2022-03-29T09:50:04.960Z"
   },
   {
    "duration": 33,
    "start_time": "2022-03-29T09:51:38.998Z"
   },
   {
    "duration": 13,
    "start_time": "2022-03-29T09:53:03.784Z"
   },
   {
    "duration": 35,
    "start_time": "2022-03-29T09:54:01.114Z"
   },
   {
    "duration": 1526,
    "start_time": "2022-03-29T10:34:05.453Z"
   },
   {
    "duration": 624,
    "start_time": "2022-03-29T10:34:06.981Z"
   },
   {
    "duration": 29,
    "start_time": "2022-03-29T10:34:07.606Z"
   },
   {
    "duration": 13,
    "start_time": "2022-03-29T10:34:07.638Z"
   },
   {
    "duration": 18,
    "start_time": "2022-03-29T10:34:07.653Z"
   },
   {
    "duration": 23,
    "start_time": "2022-03-29T10:34:07.673Z"
   },
   {
    "duration": 44,
    "start_time": "2022-03-29T10:34:07.698Z"
   },
   {
    "duration": 18,
    "start_time": "2022-03-29T10:34:07.744Z"
   },
   {
    "duration": 5,
    "start_time": "2022-03-29T10:34:07.764Z"
   },
   {
    "duration": 11,
    "start_time": "2022-03-29T10:34:07.773Z"
   },
   {
    "duration": 12,
    "start_time": "2022-03-29T10:34:07.786Z"
   },
   {
    "duration": 11,
    "start_time": "2022-03-29T10:34:07.799Z"
   },
   {
    "duration": 31,
    "start_time": "2022-03-29T10:34:07.811Z"
   },
   {
    "duration": 12,
    "start_time": "2022-03-29T10:34:07.843Z"
   },
   {
    "duration": 21,
    "start_time": "2022-03-29T10:34:07.856Z"
   },
   {
    "duration": 11,
    "start_time": "2022-03-29T10:34:07.879Z"
   },
   {
    "duration": 6,
    "start_time": "2022-03-29T10:34:07.892Z"
   },
   {
    "duration": 11,
    "start_time": "2022-03-29T10:34:07.899Z"
   },
   {
    "duration": 22,
    "start_time": "2022-03-29T10:34:07.911Z"
   },
   {
    "duration": 122,
    "start_time": "2022-03-29T10:34:07.934Z"
   },
   {
    "duration": 23,
    "start_time": "2022-03-29T10:34:08.058Z"
   },
   {
    "duration": 115,
    "start_time": "2022-03-29T10:34:08.082Z"
   },
   {
    "duration": 3,
    "start_time": "2022-03-29T10:34:08.199Z"
   },
   {
    "duration": 9,
    "start_time": "2022-03-29T10:34:08.204Z"
   },
   {
    "duration": 5,
    "start_time": "2022-03-29T10:34:08.215Z"
   },
   {
    "duration": 3,
    "start_time": "2022-03-29T10:34:08.233Z"
   },
   {
    "duration": 9,
    "start_time": "2022-03-29T10:34:08.238Z"
   },
   {
    "duration": 12,
    "start_time": "2022-03-29T10:34:08.250Z"
   },
   {
    "duration": 7,
    "start_time": "2022-03-29T10:34:08.264Z"
   },
   {
    "duration": 20,
    "start_time": "2022-03-29T10:34:08.272Z"
   },
   {
    "duration": 5,
    "start_time": "2022-03-29T10:34:08.294Z"
   },
   {
    "duration": 37,
    "start_time": "2022-03-29T10:34:08.301Z"
   },
   {
    "duration": 7,
    "start_time": "2022-03-29T10:34:08.340Z"
   },
   {
    "duration": 5,
    "start_time": "2022-03-29T10:34:08.348Z"
   },
   {
    "duration": 9,
    "start_time": "2022-03-29T10:34:08.354Z"
   },
   {
    "duration": 6,
    "start_time": "2022-03-29T10:34:08.364Z"
   },
   {
    "duration": 7,
    "start_time": "2022-03-29T10:34:08.372Z"
   },
   {
    "duration": 5,
    "start_time": "2022-03-29T10:34:08.381Z"
   },
   {
    "duration": 6,
    "start_time": "2022-03-29T10:34:08.388Z"
   },
   {
    "duration": 10,
    "start_time": "2022-03-29T10:34:08.395Z"
   },
   {
    "duration": 34,
    "start_time": "2022-03-29T10:34:08.406Z"
   },
   {
    "duration": 7,
    "start_time": "2022-03-29T10:34:08.442Z"
   },
   {
    "duration": 211,
    "start_time": "2022-03-29T10:34:08.451Z"
   },
   {
    "duration": 7,
    "start_time": "2022-03-29T10:34:08.663Z"
   },
   {
    "duration": 17,
    "start_time": "2022-03-29T10:34:08.671Z"
   },
   {
    "duration": 623,
    "start_time": "2022-03-29T10:34:08.690Z"
   },
   {
    "duration": 2,
    "start_time": "2022-03-29T10:34:09.316Z"
   },
   {
    "duration": 12,
    "start_time": "2022-03-29T10:34:09.320Z"
   },
   {
    "duration": 16,
    "start_time": "2022-03-29T10:34:09.335Z"
   },
   {
    "duration": 18,
    "start_time": "2022-03-29T10:34:11.409Z"
   },
   {
    "duration": 4,
    "start_time": "2022-03-29T10:37:33.804Z"
   },
   {
    "duration": 648,
    "start_time": "2022-03-29T10:37:33.810Z"
   },
   {
    "duration": 15,
    "start_time": "2022-03-29T10:37:34.460Z"
   },
   {
    "duration": 21,
    "start_time": "2022-03-29T10:37:34.477Z"
   },
   {
    "duration": 15,
    "start_time": "2022-03-29T10:37:34.500Z"
   },
   {
    "duration": 32,
    "start_time": "2022-03-29T10:37:34.517Z"
   },
   {
    "duration": 21,
    "start_time": "2022-03-29T10:37:34.551Z"
   },
   {
    "duration": 19,
    "start_time": "2022-03-29T10:37:34.573Z"
   },
   {
    "duration": 4,
    "start_time": "2022-03-29T10:37:34.593Z"
   },
   {
    "duration": 33,
    "start_time": "2022-03-29T10:37:34.600Z"
   },
   {
    "duration": 8,
    "start_time": "2022-03-29T10:37:34.635Z"
   },
   {
    "duration": 9,
    "start_time": "2022-03-29T10:37:34.645Z"
   },
   {
    "duration": 9,
    "start_time": "2022-03-29T10:37:34.656Z"
   },
   {
    "duration": 7,
    "start_time": "2022-03-29T10:37:34.667Z"
   },
   {
    "duration": 14,
    "start_time": "2022-03-29T10:37:34.675Z"
   },
   {
    "duration": 6,
    "start_time": "2022-03-29T10:37:34.691Z"
   },
   {
    "duration": 6,
    "start_time": "2022-03-29T10:37:34.698Z"
   },
   {
    "duration": 16,
    "start_time": "2022-03-29T10:37:34.705Z"
   },
   {
    "duration": 14,
    "start_time": "2022-03-29T10:37:34.732Z"
   },
   {
    "duration": 124,
    "start_time": "2022-03-29T10:37:34.748Z"
   },
   {
    "duration": 23,
    "start_time": "2022-03-29T10:37:34.873Z"
   },
   {
    "duration": 104,
    "start_time": "2022-03-29T10:37:34.898Z"
   },
   {
    "duration": 4,
    "start_time": "2022-03-29T10:37:35.004Z"
   },
   {
    "duration": 21,
    "start_time": "2022-03-29T10:37:35.009Z"
   },
   {
    "duration": 11,
    "start_time": "2022-03-29T10:37:35.032Z"
   },
   {
    "duration": 13,
    "start_time": "2022-03-29T10:37:35.044Z"
   },
   {
    "duration": 10,
    "start_time": "2022-03-29T10:37:35.059Z"
   },
   {
    "duration": 21,
    "start_time": "2022-03-29T10:37:35.072Z"
   },
   {
    "duration": 8,
    "start_time": "2022-03-29T10:37:35.094Z"
   },
   {
    "duration": 14,
    "start_time": "2022-03-29T10:37:35.103Z"
   },
   {
    "duration": 5,
    "start_time": "2022-03-29T10:37:35.118Z"
   },
   {
    "duration": 14,
    "start_time": "2022-03-29T10:37:35.133Z"
   },
   {
    "duration": 9,
    "start_time": "2022-03-29T10:37:35.149Z"
   },
   {
    "duration": 12,
    "start_time": "2022-03-29T10:37:35.159Z"
   },
   {
    "duration": 9,
    "start_time": "2022-03-29T10:37:35.173Z"
   },
   {
    "duration": 15,
    "start_time": "2022-03-29T10:37:35.183Z"
   },
   {
    "duration": 14,
    "start_time": "2022-03-29T10:37:35.199Z"
   },
   {
    "duration": 5,
    "start_time": "2022-03-29T10:37:35.215Z"
   },
   {
    "duration": 8,
    "start_time": "2022-03-29T10:37:35.221Z"
   },
   {
    "duration": 8,
    "start_time": "2022-03-29T10:37:35.231Z"
   },
   {
    "duration": 8,
    "start_time": "2022-03-29T10:37:35.241Z"
   },
   {
    "duration": 8,
    "start_time": "2022-03-29T10:37:35.251Z"
   },
   {
    "duration": 211,
    "start_time": "2022-03-29T10:37:35.261Z"
   },
   {
    "duration": 7,
    "start_time": "2022-03-29T10:37:35.473Z"
   },
   {
    "duration": 16,
    "start_time": "2022-03-29T10:37:35.481Z"
   },
   {
    "duration": 624,
    "start_time": "2022-03-29T10:37:35.499Z"
   },
   {
    "duration": 3,
    "start_time": "2022-03-29T10:37:36.132Z"
   },
   {
    "duration": 8,
    "start_time": "2022-03-29T10:37:36.137Z"
   },
   {
    "duration": 22,
    "start_time": "2022-03-29T10:37:36.146Z"
   },
   {
    "duration": 16,
    "start_time": "2022-03-29T10:37:36.169Z"
   },
   {
    "duration": 587,
    "start_time": "2022-03-29T10:37:36.186Z"
   },
   {
    "duration": 158,
    "start_time": "2022-03-29T10:37:36.775Z"
   },
   {
    "duration": 7,
    "start_time": "2022-03-29T10:37:36.935Z"
   },
   {
    "duration": 5,
    "start_time": "2022-03-29T10:37:46.998Z"
   },
   {
    "duration": 100,
    "start_time": "2022-03-29T10:38:33.349Z"
   },
   {
    "duration": 4,
    "start_time": "2022-03-29T10:39:01.809Z"
   },
   {
    "duration": 13,
    "start_time": "2022-03-29T10:39:05.598Z"
   },
   {
    "duration": 4,
    "start_time": "2022-03-29T10:39:58.858Z"
   },
   {
    "duration": 9,
    "start_time": "2022-03-29T10:40:26.414Z"
   },
   {
    "duration": 1441,
    "start_time": "2022-03-29T10:41:29.110Z"
   },
   {
    "duration": 22,
    "start_time": "2022-03-29T10:42:24.987Z"
   },
   {
    "duration": 7,
    "start_time": "2022-03-29T10:42:44.097Z"
   },
   {
    "duration": 3,
    "start_time": "2022-03-29T10:44:40.708Z"
   },
   {
    "duration": 16,
    "start_time": "2022-03-29T10:45:02.543Z"
   },
   {
    "duration": 15,
    "start_time": "2022-03-29T10:45:49.344Z"
   },
   {
    "duration": 16,
    "start_time": "2022-03-29T10:45:52.921Z"
   },
   {
    "duration": 674,
    "start_time": "2022-03-29T10:45:56.202Z"
   },
   {
    "duration": 151,
    "start_time": "2022-03-29T10:45:58.382Z"
   },
   {
    "duration": 8,
    "start_time": "2022-03-29T10:47:17.911Z"
   },
   {
    "duration": 27,
    "start_time": "2022-03-29T10:47:29.519Z"
   },
   {
    "duration": 151,
    "start_time": "2022-03-29T10:48:02.229Z"
   },
   {
    "duration": 157,
    "start_time": "2022-03-29T10:48:12.710Z"
   },
   {
    "duration": 3,
    "start_time": "2022-03-29T10:48:37.363Z"
   },
   {
    "duration": 4,
    "start_time": "2022-03-29T10:48:55.728Z"
   },
   {
    "duration": 675,
    "start_time": "2022-03-29T10:48:55.734Z"
   },
   {
    "duration": 22,
    "start_time": "2022-03-29T10:48:56.411Z"
   },
   {
    "duration": 13,
    "start_time": "2022-03-29T10:48:56.436Z"
   },
   {
    "duration": 17,
    "start_time": "2022-03-29T10:48:56.451Z"
   },
   {
    "duration": 19,
    "start_time": "2022-03-29T10:48:56.469Z"
   },
   {
    "duration": 50,
    "start_time": "2022-03-29T10:48:56.490Z"
   },
   {
    "duration": 23,
    "start_time": "2022-03-29T10:48:56.542Z"
   },
   {
    "duration": 3,
    "start_time": "2022-03-29T10:48:56.567Z"
   },
   {
    "duration": 7,
    "start_time": "2022-03-29T10:48:56.574Z"
   },
   {
    "duration": 10,
    "start_time": "2022-03-29T10:48:56.583Z"
   },
   {
    "duration": 43,
    "start_time": "2022-03-29T10:48:56.595Z"
   },
   {
    "duration": 10,
    "start_time": "2022-03-29T10:48:56.640Z"
   },
   {
    "duration": 6,
    "start_time": "2022-03-29T10:48:56.652Z"
   },
   {
    "duration": 7,
    "start_time": "2022-03-29T10:48:56.660Z"
   },
   {
    "duration": 5,
    "start_time": "2022-03-29T10:48:56.669Z"
   },
   {
    "duration": 8,
    "start_time": "2022-03-29T10:48:56.676Z"
   },
   {
    "duration": 8,
    "start_time": "2022-03-29T10:48:56.686Z"
   },
   {
    "duration": 12,
    "start_time": "2022-03-29T10:48:56.733Z"
   },
   {
    "duration": 126,
    "start_time": "2022-03-29T10:48:56.746Z"
   },
   {
    "duration": 22,
    "start_time": "2022-03-29T10:48:56.874Z"
   },
   {
    "duration": 100,
    "start_time": "2022-03-29T10:48:56.897Z"
   },
   {
    "duration": 3,
    "start_time": "2022-03-29T10:48:56.999Z"
   },
   {
    "duration": 17,
    "start_time": "2022-03-29T10:48:57.003Z"
   },
   {
    "duration": 13,
    "start_time": "2022-03-29T10:48:57.021Z"
   },
   {
    "duration": 8,
    "start_time": "2022-03-29T10:48:57.036Z"
   },
   {
    "duration": 6,
    "start_time": "2022-03-29T10:48:57.046Z"
   },
   {
    "duration": 13,
    "start_time": "2022-03-29T10:48:57.057Z"
   },
   {
    "duration": 7,
    "start_time": "2022-03-29T10:48:57.072Z"
   },
   {
    "duration": 16,
    "start_time": "2022-03-29T10:48:57.081Z"
   },
   {
    "duration": 35,
    "start_time": "2022-03-29T10:48:57.099Z"
   },
   {
    "duration": 17,
    "start_time": "2022-03-29T10:48:57.136Z"
   },
   {
    "duration": 7,
    "start_time": "2022-03-29T10:48:57.154Z"
   },
   {
    "duration": 5,
    "start_time": "2022-03-29T10:48:57.162Z"
   },
   {
    "duration": 7,
    "start_time": "2022-03-29T10:48:57.168Z"
   },
   {
    "duration": 6,
    "start_time": "2022-03-29T10:48:57.176Z"
   },
   {
    "duration": 7,
    "start_time": "2022-03-29T10:48:57.183Z"
   },
   {
    "duration": 7,
    "start_time": "2022-03-29T10:48:57.191Z"
   },
   {
    "duration": 8,
    "start_time": "2022-03-29T10:48:57.200Z"
   },
   {
    "duration": 8,
    "start_time": "2022-03-29T10:48:57.233Z"
   },
   {
    "duration": 11,
    "start_time": "2022-03-29T10:48:57.242Z"
   },
   {
    "duration": 8,
    "start_time": "2022-03-29T10:48:57.255Z"
   },
   {
    "duration": 214,
    "start_time": "2022-03-29T10:48:57.265Z"
   },
   {
    "duration": 8,
    "start_time": "2022-03-29T10:48:57.481Z"
   },
   {
    "duration": 21,
    "start_time": "2022-03-29T10:48:57.490Z"
   },
   {
    "duration": 600,
    "start_time": "2022-03-29T10:48:57.512Z"
   },
   {
    "duration": 2,
    "start_time": "2022-03-29T10:48:58.114Z"
   },
   {
    "duration": 15,
    "start_time": "2022-03-29T10:48:58.118Z"
   },
   {
    "duration": 10,
    "start_time": "2022-03-29T10:48:58.134Z"
   },
   {
    "duration": 17,
    "start_time": "2022-03-29T10:48:58.146Z"
   },
   {
    "duration": 17,
    "start_time": "2022-03-29T10:48:58.165Z"
   },
   {
    "duration": 701,
    "start_time": "2022-03-29T10:48:58.183Z"
   },
   {
    "duration": 162,
    "start_time": "2022-03-29T10:48:58.885Z"
   },
   {
    "duration": 3,
    "start_time": "2022-03-29T10:49:04.407Z"
   },
   {
    "duration": 22,
    "start_time": "2022-03-29T10:49:07.445Z"
   },
   {
    "duration": 8,
    "start_time": "2022-03-29T10:49:08.454Z"
   },
   {
    "duration": 8,
    "start_time": "2022-03-29T10:49:12.613Z"
   },
   {
    "duration": 3,
    "start_time": "2022-03-29T10:49:13.078Z"
   },
   {
    "duration": 3,
    "start_time": "2022-03-29T10:49:20.744Z"
   },
   {
    "duration": 856,
    "start_time": "2022-03-29T10:49:20.749Z"
   },
   {
    "duration": 29,
    "start_time": "2022-03-29T10:49:21.607Z"
   },
   {
    "duration": 12,
    "start_time": "2022-03-29T10:49:21.638Z"
   },
   {
    "duration": 15,
    "start_time": "2022-03-29T10:49:21.652Z"
   },
   {
    "duration": 17,
    "start_time": "2022-03-29T10:49:21.669Z"
   },
   {
    "duration": 22,
    "start_time": "2022-03-29T10:49:21.687Z"
   },
   {
    "duration": 20,
    "start_time": "2022-03-29T10:49:21.733Z"
   },
   {
    "duration": 7,
    "start_time": "2022-03-29T10:49:21.755Z"
   },
   {
    "duration": 9,
    "start_time": "2022-03-29T10:49:21.765Z"
   },
   {
    "duration": 14,
    "start_time": "2022-03-29T10:49:21.775Z"
   },
   {
    "duration": 11,
    "start_time": "2022-03-29T10:49:21.791Z"
   },
   {
    "duration": 11,
    "start_time": "2022-03-29T10:49:21.804Z"
   },
   {
    "duration": 19,
    "start_time": "2022-03-29T10:49:21.817Z"
   },
   {
    "duration": 6,
    "start_time": "2022-03-29T10:49:21.838Z"
   },
   {
    "duration": 7,
    "start_time": "2022-03-29T10:49:21.846Z"
   },
   {
    "duration": 6,
    "start_time": "2022-03-29T10:49:21.855Z"
   },
   {
    "duration": 7,
    "start_time": "2022-03-29T10:49:21.862Z"
   },
   {
    "duration": 13,
    "start_time": "2022-03-29T10:49:21.871Z"
   },
   {
    "duration": 150,
    "start_time": "2022-03-29T10:49:21.886Z"
   },
   {
    "duration": 24,
    "start_time": "2022-03-29T10:49:22.038Z"
   },
   {
    "duration": 103,
    "start_time": "2022-03-29T10:49:22.064Z"
   },
   {
    "duration": 4,
    "start_time": "2022-03-29T10:49:22.169Z"
   },
   {
    "duration": 5,
    "start_time": "2022-03-29T10:49:22.175Z"
   },
   {
    "duration": 5,
    "start_time": "2022-03-29T10:49:22.181Z"
   },
   {
    "duration": 7,
    "start_time": "2022-03-29T10:49:22.188Z"
   },
   {
    "duration": 6,
    "start_time": "2022-03-29T10:49:22.197Z"
   },
   {
    "duration": 39,
    "start_time": "2022-03-29T10:49:22.207Z"
   },
   {
    "duration": 9,
    "start_time": "2022-03-29T10:49:22.248Z"
   },
   {
    "duration": 18,
    "start_time": "2022-03-29T10:49:22.259Z"
   },
   {
    "duration": 5,
    "start_time": "2022-03-29T10:49:22.278Z"
   },
   {
    "duration": 11,
    "start_time": "2022-03-29T10:49:22.285Z"
   },
   {
    "duration": 39,
    "start_time": "2022-03-29T10:49:22.298Z"
   },
   {
    "duration": 4,
    "start_time": "2022-03-29T10:49:22.339Z"
   },
   {
    "duration": 6,
    "start_time": "2022-03-29T10:49:22.345Z"
   },
   {
    "duration": 7,
    "start_time": "2022-03-29T10:49:22.354Z"
   },
   {
    "duration": 6,
    "start_time": "2022-03-29T10:49:22.363Z"
   },
   {
    "duration": 4,
    "start_time": "2022-03-29T10:49:22.370Z"
   },
   {
    "duration": 15,
    "start_time": "2022-03-29T10:49:22.375Z"
   },
   {
    "duration": 9,
    "start_time": "2022-03-29T10:49:22.392Z"
   },
   {
    "duration": 32,
    "start_time": "2022-03-29T10:49:22.402Z"
   },
   {
    "duration": 9,
    "start_time": "2022-03-29T10:49:22.436Z"
   },
   {
    "duration": 206,
    "start_time": "2022-03-29T10:49:22.447Z"
   },
   {
    "duration": 7,
    "start_time": "2022-03-29T10:49:22.655Z"
   },
   {
    "duration": 15,
    "start_time": "2022-03-29T10:49:22.663Z"
   },
   {
    "duration": 525,
    "start_time": "2022-03-29T10:49:22.680Z"
   },
   {
    "duration": 3,
    "start_time": "2022-03-29T10:49:23.207Z"
   },
   {
    "duration": 6,
    "start_time": "2022-03-29T10:49:23.211Z"
   },
   {
    "duration": 15,
    "start_time": "2022-03-29T10:49:23.218Z"
   },
   {
    "duration": 15,
    "start_time": "2022-03-29T10:49:23.234Z"
   },
   {
    "duration": 16,
    "start_time": "2022-03-29T10:49:23.250Z"
   },
   {
    "duration": 598,
    "start_time": "2022-03-29T10:49:23.268Z"
   },
   {
    "duration": 156,
    "start_time": "2022-03-29T10:49:23.867Z"
   },
   {
    "duration": 3,
    "start_time": "2022-03-29T10:49:25.772Z"
   },
   {
    "duration": 22,
    "start_time": "2022-03-29T10:49:26.713Z"
   },
   {
    "duration": 8,
    "start_time": "2022-03-29T10:49:27.240Z"
   },
   {
    "duration": 9,
    "start_time": "2022-03-29T10:49:30.048Z"
   },
   {
    "duration": 4,
    "start_time": "2022-03-29T10:49:30.675Z"
   },
   {
    "duration": 22,
    "start_time": "2022-03-29T10:49:32.107Z"
   },
   {
    "duration": 244,
    "start_time": "2022-03-29T10:49:34.644Z"
   },
   {
    "duration": 4,
    "start_time": "2022-03-29T11:06:36.308Z"
   },
   {
    "duration": 3,
    "start_time": "2022-03-29T11:08:32.621Z"
   },
   {
    "duration": 10,
    "start_time": "2022-03-29T11:08:33.995Z"
   },
   {
    "duration": 10,
    "start_time": "2022-03-29T11:08:46.697Z"
   },
   {
    "duration": 15,
    "start_time": "2022-03-29T11:09:11.239Z"
   },
   {
    "duration": 15,
    "start_time": "2022-03-29T11:09:51.134Z"
   },
   {
    "duration": 17,
    "start_time": "2022-03-29T11:10:13.002Z"
   },
   {
    "duration": 25,
    "start_time": "2022-03-29T11:11:00.404Z"
   },
   {
    "duration": 20,
    "start_time": "2022-03-29T11:11:07.855Z"
   },
   {
    "duration": 8,
    "start_time": "2022-03-29T11:11:09.510Z"
   },
   {
    "duration": 7,
    "start_time": "2022-03-29T11:11:11.850Z"
   },
   {
    "duration": 4,
    "start_time": "2022-03-29T11:11:12.633Z"
   },
   {
    "duration": 23,
    "start_time": "2022-03-29T11:11:15.015Z"
   },
   {
    "duration": 143,
    "start_time": "2022-03-29T11:11:16.669Z"
   },
   {
    "duration": 4,
    "start_time": "2022-03-29T11:12:34.027Z"
   },
   {
    "duration": 650,
    "start_time": "2022-03-29T11:12:34.033Z"
   },
   {
    "duration": 16,
    "start_time": "2022-03-29T11:12:34.685Z"
   },
   {
    "duration": 30,
    "start_time": "2022-03-29T11:12:34.704Z"
   },
   {
    "duration": 17,
    "start_time": "2022-03-29T11:12:34.736Z"
   },
   {
    "duration": 20,
    "start_time": "2022-03-29T11:12:34.754Z"
   },
   {
    "duration": 22,
    "start_time": "2022-03-29T11:12:34.776Z"
   },
   {
    "duration": 47,
    "start_time": "2022-03-29T11:12:34.800Z"
   },
   {
    "duration": 7,
    "start_time": "2022-03-29T11:12:34.848Z"
   },
   {
    "duration": 9,
    "start_time": "2022-03-29T11:12:34.858Z"
   },
   {
    "duration": 11,
    "start_time": "2022-03-29T11:12:34.868Z"
   },
   {
    "duration": 10,
    "start_time": "2022-03-29T11:12:34.880Z"
   },
   {
    "duration": 16,
    "start_time": "2022-03-29T11:12:34.891Z"
   },
   {
    "duration": 26,
    "start_time": "2022-03-29T11:12:34.909Z"
   },
   {
    "duration": 6,
    "start_time": "2022-03-29T11:12:34.937Z"
   },
   {
    "duration": 6,
    "start_time": "2022-03-29T11:12:34.945Z"
   },
   {
    "duration": 9,
    "start_time": "2022-03-29T11:12:34.953Z"
   },
   {
    "duration": 8,
    "start_time": "2022-03-29T11:12:34.963Z"
   },
   {
    "duration": 17,
    "start_time": "2022-03-29T11:12:34.973Z"
   },
   {
    "duration": 146,
    "start_time": "2022-03-29T11:12:34.992Z"
   },
   {
    "duration": 25,
    "start_time": "2022-03-29T11:12:35.140Z"
   },
   {
    "duration": 109,
    "start_time": "2022-03-29T11:12:35.167Z"
   },
   {
    "duration": 4,
    "start_time": "2022-03-29T11:12:35.278Z"
   },
   {
    "duration": 9,
    "start_time": "2022-03-29T11:12:35.284Z"
   },
   {
    "duration": 7,
    "start_time": "2022-03-29T11:12:35.294Z"
   },
   {
    "duration": 9,
    "start_time": "2022-03-29T11:12:35.302Z"
   },
   {
    "duration": 22,
    "start_time": "2022-03-29T11:12:35.312Z"
   },
   {
    "duration": 11,
    "start_time": "2022-03-29T11:12:35.337Z"
   },
   {
    "duration": 8,
    "start_time": "2022-03-29T11:12:35.350Z"
   },
   {
    "duration": 16,
    "start_time": "2022-03-29T11:12:35.360Z"
   },
   {
    "duration": 5,
    "start_time": "2022-03-29T11:12:35.378Z"
   },
   {
    "duration": 49,
    "start_time": "2022-03-29T11:12:35.385Z"
   },
   {
    "duration": 7,
    "start_time": "2022-03-29T11:12:35.435Z"
   },
   {
    "duration": 6,
    "start_time": "2022-03-29T11:12:35.443Z"
   },
   {
    "duration": 10,
    "start_time": "2022-03-29T11:12:35.450Z"
   },
   {
    "duration": 5,
    "start_time": "2022-03-29T11:12:35.462Z"
   },
   {
    "duration": 6,
    "start_time": "2022-03-29T11:12:35.469Z"
   },
   {
    "duration": 5,
    "start_time": "2022-03-29T11:12:35.477Z"
   },
   {
    "duration": 6,
    "start_time": "2022-03-29T11:12:35.483Z"
   },
   {
    "duration": 10,
    "start_time": "2022-03-29T11:12:35.491Z"
   },
   {
    "duration": 10,
    "start_time": "2022-03-29T11:12:35.534Z"
   },
   {
    "duration": 36,
    "start_time": "2022-03-29T11:12:35.546Z"
   },
   {
    "duration": 200,
    "start_time": "2022-03-29T11:12:35.584Z"
   },
   {
    "duration": 7,
    "start_time": "2022-03-29T11:12:35.785Z"
   },
   {
    "duration": 15,
    "start_time": "2022-03-29T11:12:35.793Z"
   },
   {
    "duration": 896,
    "start_time": "2022-03-29T11:12:35.809Z"
   },
   {
    "duration": 3,
    "start_time": "2022-03-29T11:12:36.707Z"
   },
   {
    "duration": 4,
    "start_time": "2022-03-29T11:12:36.712Z"
   },
   {
    "duration": 15,
    "start_time": "2022-03-29T11:12:36.718Z"
   },
   {
    "duration": 15,
    "start_time": "2022-03-29T11:12:36.734Z"
   },
   {
    "duration": 17,
    "start_time": "2022-03-29T11:12:36.750Z"
   },
   {
    "duration": 4,
    "start_time": "2022-03-29T11:12:45.843Z"
   },
   {
    "duration": 600,
    "start_time": "2022-03-29T11:12:47.443Z"
   },
   {
    "duration": 4,
    "start_time": "2022-03-29T11:13:41.188Z"
   },
   {
    "duration": 158,
    "start_time": "2022-03-29T11:13:41.916Z"
   },
   {
    "duration": 4,
    "start_time": "2022-03-29T11:14:33.114Z"
   },
   {
    "duration": 96,
    "start_time": "2022-03-29T11:15:50.837Z"
   },
   {
    "duration": 11,
    "start_time": "2022-03-29T11:15:57.185Z"
   },
   {
    "duration": 4,
    "start_time": "2022-03-29T11:16:08.606Z"
   },
   {
    "duration": 23,
    "start_time": "2022-03-29T11:16:09.099Z"
   },
   {
    "duration": 8,
    "start_time": "2022-03-29T11:16:10.792Z"
   },
   {
    "duration": 9,
    "start_time": "2022-03-29T11:16:15.341Z"
   },
   {
    "duration": 4,
    "start_time": "2022-03-29T11:16:21.748Z"
   },
   {
    "duration": 21,
    "start_time": "2022-03-29T11:16:44.145Z"
   },
   {
    "duration": 3,
    "start_time": "2022-03-29T11:17:30.033Z"
   },
   {
    "duration": 10,
    "start_time": "2022-03-29T11:39:37.298Z"
   },
   {
    "duration": 8,
    "start_time": "2022-03-29T11:39:45.491Z"
   },
   {
    "duration": 8,
    "start_time": "2022-03-29T11:39:52.181Z"
   },
   {
    "duration": 1414,
    "start_time": "2022-03-29T11:40:12.357Z"
   },
   {
    "duration": 675,
    "start_time": "2022-03-29T11:40:13.773Z"
   },
   {
    "duration": 17,
    "start_time": "2022-03-29T11:40:14.450Z"
   },
   {
    "duration": 13,
    "start_time": "2022-03-29T11:40:14.469Z"
   },
   {
    "duration": 16,
    "start_time": "2022-03-29T11:40:14.484Z"
   },
   {
    "duration": 53,
    "start_time": "2022-03-29T11:40:14.502Z"
   },
   {
    "duration": 20,
    "start_time": "2022-03-29T11:40:14.557Z"
   },
   {
    "duration": 27,
    "start_time": "2022-03-29T11:40:14.580Z"
   },
   {
    "duration": 25,
    "start_time": "2022-03-29T11:40:14.608Z"
   },
   {
    "duration": 8,
    "start_time": "2022-03-29T11:40:14.637Z"
   },
   {
    "duration": 8,
    "start_time": "2022-03-29T11:40:14.646Z"
   },
   {
    "duration": 11,
    "start_time": "2022-03-29T11:40:14.656Z"
   },
   {
    "duration": 10,
    "start_time": "2022-03-29T11:40:14.669Z"
   },
   {
    "duration": 8,
    "start_time": "2022-03-29T11:40:14.681Z"
   },
   {
    "duration": 5,
    "start_time": "2022-03-29T11:40:14.692Z"
   },
   {
    "duration": 37,
    "start_time": "2022-03-29T11:40:14.699Z"
   },
   {
    "duration": 11,
    "start_time": "2022-03-29T11:40:14.738Z"
   },
   {
    "duration": 9,
    "start_time": "2022-03-29T11:40:14.750Z"
   },
   {
    "duration": 14,
    "start_time": "2022-03-29T11:40:14.760Z"
   },
   {
    "duration": 139,
    "start_time": "2022-03-29T11:40:14.776Z"
   },
   {
    "duration": 33,
    "start_time": "2022-03-29T11:40:14.917Z"
   },
   {
    "duration": 112,
    "start_time": "2022-03-29T11:40:14.953Z"
   },
   {
    "duration": 5,
    "start_time": "2022-03-29T11:40:15.066Z"
   },
   {
    "duration": 11,
    "start_time": "2022-03-29T11:40:15.072Z"
   },
   {
    "duration": 10,
    "start_time": "2022-03-29T11:40:15.086Z"
   },
   {
    "duration": 8,
    "start_time": "2022-03-29T11:40:15.098Z"
   },
   {
    "duration": 7,
    "start_time": "2022-03-29T11:40:15.107Z"
   },
   {
    "duration": 16,
    "start_time": "2022-03-29T11:40:15.132Z"
   },
   {
    "duration": 11,
    "start_time": "2022-03-29T11:40:15.149Z"
   },
   {
    "duration": 22,
    "start_time": "2022-03-29T11:40:15.162Z"
   },
   {
    "duration": 7,
    "start_time": "2022-03-29T11:40:15.185Z"
   },
   {
    "duration": 11,
    "start_time": "2022-03-29T11:40:15.193Z"
   },
   {
    "duration": 29,
    "start_time": "2022-03-29T11:40:15.206Z"
   },
   {
    "duration": 4,
    "start_time": "2022-03-29T11:40:15.237Z"
   },
   {
    "duration": 18,
    "start_time": "2022-03-29T11:40:15.242Z"
   },
   {
    "duration": 11,
    "start_time": "2022-03-29T11:40:15.262Z"
   },
   {
    "duration": 9,
    "start_time": "2022-03-29T11:40:15.274Z"
   },
   {
    "duration": 6,
    "start_time": "2022-03-29T11:40:15.285Z"
   },
   {
    "duration": 8,
    "start_time": "2022-03-29T11:40:15.293Z"
   },
   {
    "duration": 22,
    "start_time": "2022-03-29T11:40:15.303Z"
   },
   {
    "duration": 15,
    "start_time": "2022-03-29T11:40:15.328Z"
   },
   {
    "duration": 11,
    "start_time": "2022-03-29T11:40:15.346Z"
   },
   {
    "duration": 326,
    "start_time": "2022-03-29T11:40:15.359Z"
   },
   {
    "duration": 7,
    "start_time": "2022-03-29T11:40:15.687Z"
   },
   {
    "duration": 17,
    "start_time": "2022-03-29T11:40:15.696Z"
   },
   {
    "duration": 613,
    "start_time": "2022-03-29T11:40:15.714Z"
   },
   {
    "duration": 3,
    "start_time": "2022-03-29T11:40:16.333Z"
   },
   {
    "duration": 6,
    "start_time": "2022-03-29T11:40:16.338Z"
   },
   {
    "duration": 12,
    "start_time": "2022-03-29T11:40:16.346Z"
   },
   {
    "duration": 25,
    "start_time": "2022-03-29T11:40:16.361Z"
   },
   {
    "duration": 17,
    "start_time": "2022-03-29T11:40:16.387Z"
   },
   {
    "duration": 4,
    "start_time": "2022-03-29T11:40:16.406Z"
   },
   {
    "duration": 765,
    "start_time": "2022-03-29T11:40:16.412Z"
   },
   {
    "duration": 3,
    "start_time": "2022-03-29T11:40:17.179Z"
   },
   {
    "duration": 177,
    "start_time": "2022-03-29T11:40:17.184Z"
   },
   {
    "duration": 3,
    "start_time": "2022-03-29T11:41:06.676Z"
   },
   {
    "duration": 22,
    "start_time": "2022-03-29T11:41:36.683Z"
   },
   {
    "duration": 8,
    "start_time": "2022-03-29T11:41:37.735Z"
   },
   {
    "duration": 10,
    "start_time": "2022-03-29T11:42:32.734Z"
   },
   {
    "duration": 33,
    "start_time": "2022-03-29T11:43:14.965Z"
   },
   {
    "duration": 555,
    "start_time": "2022-03-29T11:44:00.899Z"
   },
   {
    "duration": 145,
    "start_time": "2022-03-29T11:44:21.093Z"
   },
   {
    "duration": 4,
    "start_time": "2022-03-29T11:47:22.143Z"
   },
   {
    "duration": 4,
    "start_time": "2022-03-29T11:47:35.168Z"
   },
   {
    "duration": 9,
    "start_time": "2022-03-29T12:15:24.336Z"
   },
   {
    "duration": 3,
    "start_time": "2022-03-29T12:15:59.864Z"
   },
   {
    "duration": 1827,
    "start_time": "2022-03-29T12:16:04.387Z"
   },
   {
    "duration": 710,
    "start_time": "2022-03-29T12:16:06.216Z"
   },
   {
    "duration": 17,
    "start_time": "2022-03-29T12:16:06.928Z"
   },
   {
    "duration": 15,
    "start_time": "2022-03-29T12:16:06.947Z"
   },
   {
    "duration": 34,
    "start_time": "2022-03-29T12:16:06.964Z"
   },
   {
    "duration": 31,
    "start_time": "2022-03-29T12:16:07.000Z"
   },
   {
    "duration": 20,
    "start_time": "2022-03-29T12:16:07.033Z"
   },
   {
    "duration": 26,
    "start_time": "2022-03-29T12:16:07.055Z"
   },
   {
    "duration": 32,
    "start_time": "2022-03-29T12:16:07.083Z"
   },
   {
    "duration": 22,
    "start_time": "2022-03-29T12:16:07.119Z"
   },
   {
    "duration": 52,
    "start_time": "2022-03-29T12:16:07.143Z"
   },
   {
    "duration": 23,
    "start_time": "2022-03-29T12:16:07.197Z"
   },
   {
    "duration": 44,
    "start_time": "2022-03-29T12:16:07.222Z"
   },
   {
    "duration": 24,
    "start_time": "2022-03-29T12:16:07.268Z"
   },
   {
    "duration": 30,
    "start_time": "2022-03-29T12:16:07.294Z"
   },
   {
    "duration": 5,
    "start_time": "2022-03-29T12:16:07.326Z"
   },
   {
    "duration": 22,
    "start_time": "2022-03-29T12:16:07.333Z"
   },
   {
    "duration": 16,
    "start_time": "2022-03-29T12:16:07.356Z"
   },
   {
    "duration": 43,
    "start_time": "2022-03-29T12:16:07.374Z"
   },
   {
    "duration": 140,
    "start_time": "2022-03-29T12:16:07.418Z"
   },
   {
    "duration": 21,
    "start_time": "2022-03-29T12:16:07.560Z"
   },
   {
    "duration": 124,
    "start_time": "2022-03-29T12:16:07.583Z"
   },
   {
    "duration": 8,
    "start_time": "2022-03-29T12:16:07.709Z"
   },
   {
    "duration": 18,
    "start_time": "2022-03-29T12:16:07.718Z"
   },
   {
    "duration": 11,
    "start_time": "2022-03-29T12:16:07.738Z"
   },
   {
    "duration": 31,
    "start_time": "2022-03-29T12:16:07.750Z"
   },
   {
    "duration": 32,
    "start_time": "2022-03-29T12:16:07.783Z"
   },
   {
    "duration": 33,
    "start_time": "2022-03-29T12:16:07.820Z"
   },
   {
    "duration": 10,
    "start_time": "2022-03-29T12:16:07.855Z"
   },
   {
    "duration": 27,
    "start_time": "2022-03-29T12:16:07.867Z"
   },
   {
    "duration": 12,
    "start_time": "2022-03-29T12:16:07.896Z"
   },
   {
    "duration": 32,
    "start_time": "2022-03-29T12:16:07.910Z"
   },
   {
    "duration": 18,
    "start_time": "2022-03-29T12:16:07.943Z"
   },
   {
    "duration": 9,
    "start_time": "2022-03-29T12:16:07.962Z"
   },
   {
    "duration": 45,
    "start_time": "2022-03-29T12:16:07.972Z"
   },
   {
    "duration": 24,
    "start_time": "2022-03-29T12:16:08.018Z"
   },
   {
    "duration": 31,
    "start_time": "2022-03-29T12:16:08.044Z"
   },
   {
    "duration": 25,
    "start_time": "2022-03-29T12:16:08.077Z"
   },
   {
    "duration": 13,
    "start_time": "2022-03-29T12:16:08.104Z"
   },
   {
    "duration": 27,
    "start_time": "2022-03-29T12:16:08.118Z"
   },
   {
    "duration": 34,
    "start_time": "2022-03-29T12:16:08.147Z"
   },
   {
    "duration": 14,
    "start_time": "2022-03-29T12:16:08.183Z"
   },
   {
    "duration": 258,
    "start_time": "2022-03-29T12:16:08.199Z"
   },
   {
    "duration": 6,
    "start_time": "2022-03-29T12:16:08.459Z"
   },
   {
    "duration": 15,
    "start_time": "2022-03-29T12:16:08.467Z"
   },
   {
    "duration": 664,
    "start_time": "2022-03-29T12:16:08.483Z"
   },
   {
    "duration": 3,
    "start_time": "2022-03-29T12:16:09.149Z"
   },
   {
    "duration": 4,
    "start_time": "2022-03-29T12:16:09.154Z"
   },
   {
    "duration": 5,
    "start_time": "2022-03-29T12:16:09.160Z"
   },
   {
    "duration": 16,
    "start_time": "2022-03-29T12:16:09.166Z"
   },
   {
    "duration": 40,
    "start_time": "2022-03-29T12:16:09.184Z"
   },
   {
    "duration": 3,
    "start_time": "2022-03-29T12:16:09.226Z"
   },
   {
    "duration": 757,
    "start_time": "2022-03-29T12:16:09.231Z"
   },
   {
    "duration": 11,
    "start_time": "2022-03-29T12:16:09.990Z"
   },
   {
    "duration": 268,
    "start_time": "2022-03-29T12:16:10.004Z"
   },
   {
    "duration": 3,
    "start_time": "2022-03-29T12:16:10.274Z"
   },
   {
    "duration": 45,
    "start_time": "2022-03-29T12:16:10.280Z"
   },
   {
    "duration": 8,
    "start_time": "2022-03-29T12:16:10.326Z"
   },
   {
    "duration": 10,
    "start_time": "2022-03-29T12:16:10.335Z"
   },
   {
    "duration": 22,
    "start_time": "2022-03-29T12:16:10.347Z"
   },
   {
    "duration": 692,
    "start_time": "2022-03-29T12:16:10.371Z"
   },
   {
    "duration": 172,
    "start_time": "2022-03-29T12:16:11.065Z"
   },
   {
    "duration": 3,
    "start_time": "2022-03-29T12:16:11.239Z"
   },
   {
    "duration": 4,
    "start_time": "2022-03-29T12:16:11.244Z"
   },
   {
    "duration": 3,
    "start_time": "2022-03-29T12:16:18.937Z"
   },
   {
    "duration": 3,
    "start_time": "2022-03-29T12:16:20.057Z"
   },
   {
    "duration": 10,
    "start_time": "2022-03-29T12:47:39.920Z"
   },
   {
    "duration": 100,
    "start_time": "2022-03-29T12:48:31.960Z"
   },
   {
    "duration": 7,
    "start_time": "2022-03-29T12:48:40.506Z"
   },
   {
    "duration": 2923,
    "start_time": "2022-03-29T12:48:42.701Z"
   },
   {
    "duration": 4,
    "start_time": "2022-03-29T12:48:51.977Z"
   },
   {
    "duration": 655,
    "start_time": "2022-03-29T12:48:51.983Z"
   },
   {
    "duration": 16,
    "start_time": "2022-03-29T12:48:52.639Z"
   },
   {
    "duration": 12,
    "start_time": "2022-03-29T12:48:52.657Z"
   },
   {
    "duration": 37,
    "start_time": "2022-03-29T12:48:52.670Z"
   },
   {
    "duration": 18,
    "start_time": "2022-03-29T12:48:52.709Z"
   },
   {
    "duration": 19,
    "start_time": "2022-03-29T12:48:52.728Z"
   },
   {
    "duration": 18,
    "start_time": "2022-03-29T12:48:52.748Z"
   },
   {
    "duration": 5,
    "start_time": "2022-03-29T12:48:52.767Z"
   },
   {
    "duration": 30,
    "start_time": "2022-03-29T12:48:52.775Z"
   },
   {
    "duration": 9,
    "start_time": "2022-03-29T12:48:52.807Z"
   },
   {
    "duration": 6,
    "start_time": "2022-03-29T12:48:52.818Z"
   },
   {
    "duration": 9,
    "start_time": "2022-03-29T12:48:52.825Z"
   },
   {
    "duration": 5,
    "start_time": "2022-03-29T12:48:52.836Z"
   },
   {
    "duration": 6,
    "start_time": "2022-03-29T12:48:52.843Z"
   },
   {
    "duration": 9,
    "start_time": "2022-03-29T12:48:52.850Z"
   },
   {
    "duration": 10,
    "start_time": "2022-03-29T12:48:52.861Z"
   },
   {
    "duration": 5,
    "start_time": "2022-03-29T12:48:52.902Z"
   },
   {
    "duration": 13,
    "start_time": "2022-03-29T12:48:52.908Z"
   },
   {
    "duration": 136,
    "start_time": "2022-03-29T12:48:52.923Z"
   },
   {
    "duration": 24,
    "start_time": "2022-03-29T12:48:53.061Z"
   },
   {
    "duration": 102,
    "start_time": "2022-03-29T12:48:53.086Z"
   },
   {
    "duration": 11,
    "start_time": "2022-03-29T12:48:53.191Z"
   },
   {
    "duration": 5,
    "start_time": "2022-03-29T12:48:53.204Z"
   },
   {
    "duration": 5,
    "start_time": "2022-03-29T12:48:53.210Z"
   },
   {
    "duration": 6,
    "start_time": "2022-03-29T12:48:53.216Z"
   },
   {
    "duration": 7,
    "start_time": "2022-03-29T12:48:53.224Z"
   },
   {
    "duration": 11,
    "start_time": "2022-03-29T12:48:53.234Z"
   },
   {
    "duration": 8,
    "start_time": "2022-03-29T12:48:53.246Z"
   },
   {
    "duration": 56,
    "start_time": "2022-03-29T12:48:53.256Z"
   },
   {
    "duration": 4,
    "start_time": "2022-03-29T12:48:53.314Z"
   },
   {
    "duration": 12,
    "start_time": "2022-03-29T12:48:53.320Z"
   },
   {
    "duration": 6,
    "start_time": "2022-03-29T12:48:53.334Z"
   },
   {
    "duration": 4,
    "start_time": "2022-03-29T12:48:53.341Z"
   },
   {
    "duration": 15,
    "start_time": "2022-03-29T12:48:53.347Z"
   },
   {
    "duration": 8,
    "start_time": "2022-03-29T12:48:53.363Z"
   },
   {
    "duration": 9,
    "start_time": "2022-03-29T12:48:53.373Z"
   },
   {
    "duration": 2,
    "start_time": "2022-03-29T12:48:53.401Z"
   },
   {
    "duration": 10,
    "start_time": "2022-03-29T12:48:53.405Z"
   },
   {
    "duration": 14,
    "start_time": "2022-03-29T12:48:53.416Z"
   },
   {
    "duration": 10,
    "start_time": "2022-03-29T12:48:53.432Z"
   },
   {
    "duration": 9,
    "start_time": "2022-03-29T12:48:53.443Z"
   },
   {
    "duration": 292,
    "start_time": "2022-03-29T12:48:53.453Z"
   },
   {
    "duration": 7,
    "start_time": "2022-03-29T12:48:53.746Z"
   },
   {
    "duration": 16,
    "start_time": "2022-03-29T12:48:53.754Z"
   },
   {
    "duration": 627,
    "start_time": "2022-03-29T12:48:53.771Z"
   },
   {
    "duration": 3,
    "start_time": "2022-03-29T12:48:54.400Z"
   },
   {
    "duration": 5,
    "start_time": "2022-03-29T12:48:54.404Z"
   },
   {
    "duration": 4,
    "start_time": "2022-03-29T12:48:54.411Z"
   },
   {
    "duration": 16,
    "start_time": "2022-03-29T12:48:54.417Z"
   },
   {
    "duration": 15,
    "start_time": "2022-03-29T12:48:54.435Z"
   },
   {
    "duration": 3,
    "start_time": "2022-03-29T12:48:54.452Z"
   },
   {
    "duration": 595,
    "start_time": "2022-03-29T12:48:54.456Z"
   },
   {
    "duration": 3,
    "start_time": "2022-03-29T12:48:55.053Z"
   },
   {
    "duration": 155,
    "start_time": "2022-03-29T12:48:55.058Z"
   },
   {
    "duration": 5,
    "start_time": "2022-03-29T12:48:55.215Z"
   },
   {
    "duration": 24,
    "start_time": "2022-03-29T12:48:55.221Z"
   },
   {
    "duration": 7,
    "start_time": "2022-03-29T12:48:55.247Z"
   },
   {
    "duration": 8,
    "start_time": "2022-03-29T12:48:55.255Z"
   },
   {
    "duration": 52,
    "start_time": "2022-03-29T12:48:55.264Z"
   },
   {
    "duration": 686,
    "start_time": "2022-03-29T12:48:55.318Z"
   },
   {
    "duration": 156,
    "start_time": "2022-03-29T12:48:56.005Z"
   },
   {
    "duration": 3,
    "start_time": "2022-03-29T12:48:56.163Z"
   },
   {
    "duration": 5,
    "start_time": "2022-03-29T12:48:56.168Z"
   },
   {
    "duration": 5,
    "start_time": "2022-03-29T12:48:56.174Z"
   },
   {
    "duration": 6,
    "start_time": "2022-03-29T12:49:02.001Z"
   },
   {
    "duration": 5,
    "start_time": "2022-03-29T12:49:03.632Z"
   },
   {
    "duration": 10,
    "start_time": "2022-03-29T14:00:46.002Z"
   },
   {
    "duration": 4,
    "start_time": "2022-03-29T14:01:12.820Z"
   },
   {
    "duration": 11,
    "start_time": "2022-03-29T14:01:17.886Z"
   },
   {
    "duration": 9,
    "start_time": "2022-03-29T14:01:35.224Z"
   },
   {
    "duration": 10,
    "start_time": "2022-03-29T14:02:03.886Z"
   },
   {
    "duration": 5,
    "start_time": "2022-03-29T14:02:15.678Z"
   },
   {
    "duration": 1820,
    "start_time": "2022-03-29T14:09:41.666Z"
   },
   {
    "duration": 766,
    "start_time": "2022-03-29T14:09:43.488Z"
   },
   {
    "duration": 20,
    "start_time": "2022-03-29T14:09:44.256Z"
   },
   {
    "duration": 31,
    "start_time": "2022-03-29T14:09:44.278Z"
   },
   {
    "duration": 19,
    "start_time": "2022-03-29T14:09:44.311Z"
   },
   {
    "duration": 26,
    "start_time": "2022-03-29T14:09:44.332Z"
   },
   {
    "duration": 47,
    "start_time": "2022-03-29T14:09:44.359Z"
   },
   {
    "duration": 28,
    "start_time": "2022-03-29T14:09:44.408Z"
   },
   {
    "duration": 3,
    "start_time": "2022-03-29T14:09:44.437Z"
   },
   {
    "duration": 10,
    "start_time": "2022-03-29T14:09:44.444Z"
   },
   {
    "duration": 15,
    "start_time": "2022-03-29T14:09:44.455Z"
   },
   {
    "duration": 32,
    "start_time": "2022-03-29T14:09:44.472Z"
   },
   {
    "duration": 11,
    "start_time": "2022-03-29T14:09:44.505Z"
   },
   {
    "duration": 8,
    "start_time": "2022-03-29T14:09:44.517Z"
   },
   {
    "duration": 7,
    "start_time": "2022-03-29T14:09:44.527Z"
   },
   {
    "duration": 8,
    "start_time": "2022-03-29T14:09:44.536Z"
   },
   {
    "duration": 9,
    "start_time": "2022-03-29T14:09:44.545Z"
   },
   {
    "duration": 7,
    "start_time": "2022-03-29T14:09:44.556Z"
   },
   {
    "duration": 45,
    "start_time": "2022-03-29T14:09:44.565Z"
   },
   {
    "duration": 144,
    "start_time": "2022-03-29T14:09:44.612Z"
   },
   {
    "duration": 26,
    "start_time": "2022-03-29T14:09:44.758Z"
   },
   {
    "duration": 129,
    "start_time": "2022-03-29T14:09:44.786Z"
   },
   {
    "duration": 4,
    "start_time": "2022-03-29T14:09:44.918Z"
   },
   {
    "duration": 8,
    "start_time": "2022-03-29T14:09:44.924Z"
   },
   {
    "duration": 6,
    "start_time": "2022-03-29T14:09:44.934Z"
   },
   {
    "duration": 14,
    "start_time": "2022-03-29T14:09:44.942Z"
   },
   {
    "duration": 9,
    "start_time": "2022-03-29T14:09:44.957Z"
   },
   {
    "duration": 36,
    "start_time": "2022-03-29T14:09:44.971Z"
   },
   {
    "duration": 11,
    "start_time": "2022-03-29T14:09:45.009Z"
   },
   {
    "duration": 24,
    "start_time": "2022-03-29T14:09:45.022Z"
   },
   {
    "duration": 11,
    "start_time": "2022-03-29T14:09:45.048Z"
   },
   {
    "duration": 14,
    "start_time": "2022-03-29T14:09:45.061Z"
   },
   {
    "duration": 9,
    "start_time": "2022-03-29T14:09:45.101Z"
   },
   {
    "duration": 9,
    "start_time": "2022-03-29T14:09:45.112Z"
   },
   {
    "duration": 9,
    "start_time": "2022-03-29T14:09:45.123Z"
   },
   {
    "duration": 10,
    "start_time": "2022-03-29T14:09:45.134Z"
   },
   {
    "duration": 9,
    "start_time": "2022-03-29T14:09:45.146Z"
   },
   {
    "duration": 7,
    "start_time": "2022-03-29T14:09:45.157Z"
   },
   {
    "duration": 37,
    "start_time": "2022-03-29T14:09:45.166Z"
   },
   {
    "duration": 12,
    "start_time": "2022-03-29T14:09:45.205Z"
   },
   {
    "duration": 11,
    "start_time": "2022-03-29T14:09:45.219Z"
   },
   {
    "duration": 10,
    "start_time": "2022-03-29T14:09:45.232Z"
   },
   {
    "duration": 261,
    "start_time": "2022-03-29T14:09:45.244Z"
   },
   {
    "duration": 8,
    "start_time": "2022-03-29T14:09:45.507Z"
   },
   {
    "duration": 16,
    "start_time": "2022-03-29T14:09:45.517Z"
   },
   {
    "duration": 698,
    "start_time": "2022-03-29T14:09:45.535Z"
   },
   {
    "duration": 3,
    "start_time": "2022-03-29T14:09:46.235Z"
   },
   {
    "duration": 6,
    "start_time": "2022-03-29T14:09:46.240Z"
   },
   {
    "duration": 6,
    "start_time": "2022-03-29T14:09:46.248Z"
   },
   {
    "duration": 18,
    "start_time": "2022-03-29T14:09:46.256Z"
   },
   {
    "duration": 41,
    "start_time": "2022-03-29T14:09:46.276Z"
   },
   {
    "duration": 4,
    "start_time": "2022-03-29T14:09:46.319Z"
   },
   {
    "duration": 758,
    "start_time": "2022-03-29T14:09:46.325Z"
   },
   {
    "duration": 15,
    "start_time": "2022-03-29T14:09:47.085Z"
   },
   {
    "duration": 199,
    "start_time": "2022-03-29T14:09:47.102Z"
   },
   {
    "duration": 3,
    "start_time": "2022-03-29T14:09:47.303Z"
   },
   {
    "duration": 28,
    "start_time": "2022-03-29T14:09:47.308Z"
   },
   {
    "duration": 10,
    "start_time": "2022-03-29T14:09:47.338Z"
   },
   {
    "duration": 11,
    "start_time": "2022-03-29T14:09:47.350Z"
   },
   {
    "duration": 53,
    "start_time": "2022-03-29T14:09:47.363Z"
   },
   {
    "duration": 640,
    "start_time": "2022-03-29T14:09:47.418Z"
   },
   {
    "duration": 173,
    "start_time": "2022-03-29T14:09:48.059Z"
   },
   {
    "duration": 4,
    "start_time": "2022-03-29T14:09:48.234Z"
   },
   {
    "duration": 6,
    "start_time": "2022-03-29T14:09:48.240Z"
   },
   {
    "duration": 7,
    "start_time": "2022-03-29T14:09:48.247Z"
   },
   {
    "duration": 14,
    "start_time": "2022-03-29T14:09:48.256Z"
   },
   {
    "duration": 5,
    "start_time": "2022-03-29T14:09:48.272Z"
   },
   {
    "duration": 6,
    "start_time": "2022-03-29T14:09:51.323Z"
   },
   {
    "duration": 5,
    "start_time": "2022-03-29T14:37:44.566Z"
   },
   {
    "duration": 5,
    "start_time": "2022-03-29T14:37:57.940Z"
   },
   {
    "duration": 58,
    "start_time": "2022-03-29T14:39:25.580Z"
   },
   {
    "duration": 7,
    "start_time": "2022-03-29T14:39:33.511Z"
   },
   {
    "duration": 4,
    "start_time": "2022-03-29T14:39:37.289Z"
   },
   {
    "duration": 719,
    "start_time": "2022-03-29T14:39:37.297Z"
   },
   {
    "duration": 18,
    "start_time": "2022-03-29T14:39:38.019Z"
   },
   {
    "duration": 14,
    "start_time": "2022-03-29T14:39:38.040Z"
   },
   {
    "duration": 46,
    "start_time": "2022-03-29T14:39:38.056Z"
   },
   {
    "duration": 23,
    "start_time": "2022-03-29T14:39:38.104Z"
   },
   {
    "duration": 24,
    "start_time": "2022-03-29T14:39:38.129Z"
   },
   {
    "duration": 46,
    "start_time": "2022-03-29T14:39:38.155Z"
   },
   {
    "duration": 5,
    "start_time": "2022-03-29T14:39:38.203Z"
   },
   {
    "duration": 11,
    "start_time": "2022-03-29T14:39:38.211Z"
   },
   {
    "duration": 11,
    "start_time": "2022-03-29T14:39:38.224Z"
   },
   {
    "duration": 8,
    "start_time": "2022-03-29T14:39:38.236Z"
   },
   {
    "duration": 20,
    "start_time": "2022-03-29T14:39:38.246Z"
   },
   {
    "duration": 8,
    "start_time": "2022-03-29T14:39:38.268Z"
   },
   {
    "duration": 6,
    "start_time": "2022-03-29T14:39:38.302Z"
   },
   {
    "duration": 7,
    "start_time": "2022-03-29T14:39:38.310Z"
   },
   {
    "duration": 9,
    "start_time": "2022-03-29T14:39:38.319Z"
   },
   {
    "duration": 13,
    "start_time": "2022-03-29T14:39:38.330Z"
   },
   {
    "duration": 18,
    "start_time": "2022-03-29T14:39:38.345Z"
   },
   {
    "duration": 161,
    "start_time": "2022-03-29T14:39:38.365Z"
   },
   {
    "duration": 28,
    "start_time": "2022-03-29T14:39:38.529Z"
   },
   {
    "duration": 121,
    "start_time": "2022-03-29T14:39:38.559Z"
   },
   {
    "duration": 5,
    "start_time": "2022-03-29T14:39:38.681Z"
   },
   {
    "duration": 16,
    "start_time": "2022-03-29T14:39:38.688Z"
   },
   {
    "duration": 9,
    "start_time": "2022-03-29T14:39:38.705Z"
   },
   {
    "duration": 10,
    "start_time": "2022-03-29T14:39:38.716Z"
   },
   {
    "duration": 9,
    "start_time": "2022-03-29T14:39:38.728Z"
   },
   {
    "duration": 13,
    "start_time": "2022-03-29T14:39:38.741Z"
   },
   {
    "duration": 9,
    "start_time": "2022-03-29T14:39:38.756Z"
   },
   {
    "duration": 47,
    "start_time": "2022-03-29T14:39:38.767Z"
   },
   {
    "duration": 4,
    "start_time": "2022-03-29T14:39:38.816Z"
   },
   {
    "duration": 14,
    "start_time": "2022-03-29T14:39:38.822Z"
   },
   {
    "duration": 7,
    "start_time": "2022-03-29T14:39:38.838Z"
   },
   {
    "duration": 6,
    "start_time": "2022-03-29T14:39:38.847Z"
   },
   {
    "duration": 10,
    "start_time": "2022-03-29T14:39:38.855Z"
   },
   {
    "duration": 39,
    "start_time": "2022-03-29T14:39:38.867Z"
   },
   {
    "duration": 10,
    "start_time": "2022-03-29T14:39:38.908Z"
   },
   {
    "duration": 7,
    "start_time": "2022-03-29T14:39:38.920Z"
   },
   {
    "duration": 10,
    "start_time": "2022-03-29T14:39:38.929Z"
   },
   {
    "duration": 13,
    "start_time": "2022-03-29T14:39:38.941Z"
   },
   {
    "duration": 45,
    "start_time": "2022-03-29T14:39:38.956Z"
   },
   {
    "duration": 11,
    "start_time": "2022-03-29T14:39:39.004Z"
   },
   {
    "duration": 351,
    "start_time": "2022-03-29T14:39:39.018Z"
   },
   {
    "duration": 8,
    "start_time": "2022-03-29T14:39:39.371Z"
   },
   {
    "duration": 33,
    "start_time": "2022-03-29T14:39:39.381Z"
   },
   {
    "duration": 713,
    "start_time": "2022-03-29T14:39:39.416Z"
   },
   {
    "duration": 4,
    "start_time": "2022-03-29T14:39:40.132Z"
   },
   {
    "duration": 6,
    "start_time": "2022-03-29T14:39:40.139Z"
   },
   {
    "duration": 10,
    "start_time": "2022-03-29T14:39:40.148Z"
   },
   {
    "duration": 41,
    "start_time": "2022-03-29T14:39:40.160Z"
   },
   {
    "duration": 24,
    "start_time": "2022-03-29T14:39:40.204Z"
   },
   {
    "duration": 5,
    "start_time": "2022-03-29T14:39:40.230Z"
   },
   {
    "duration": 777,
    "start_time": "2022-03-29T14:39:40.237Z"
   },
   {
    "duration": 4,
    "start_time": "2022-03-29T14:39:41.017Z"
   },
   {
    "duration": 189,
    "start_time": "2022-03-29T14:39:41.022Z"
   },
   {
    "duration": 4,
    "start_time": "2022-03-29T14:39:41.213Z"
   },
   {
    "duration": 27,
    "start_time": "2022-03-29T14:39:41.219Z"
   },
   {
    "duration": 9,
    "start_time": "2022-03-29T14:39:41.248Z"
   },
   {
    "duration": 46,
    "start_time": "2022-03-29T14:39:41.259Z"
   },
   {
    "duration": 24,
    "start_time": "2022-03-29T14:39:41.308Z"
   },
   {
    "duration": 782,
    "start_time": "2022-03-29T14:39:41.334Z"
   },
   {
    "duration": 185,
    "start_time": "2022-03-29T14:39:42.118Z"
   },
   {
    "duration": 5,
    "start_time": "2022-03-29T14:39:42.305Z"
   },
   {
    "duration": 9,
    "start_time": "2022-03-29T14:39:42.311Z"
   },
   {
    "duration": 22,
    "start_time": "2022-03-29T14:39:42.322Z"
   },
   {
    "duration": 14,
    "start_time": "2022-03-29T14:39:42.346Z"
   },
   {
    "duration": 7,
    "start_time": "2022-03-29T14:39:45.597Z"
   },
   {
    "duration": 7,
    "start_time": "2022-03-29T14:39:54.829Z"
   },
   {
    "duration": 6,
    "start_time": "2022-03-29T14:39:57.262Z"
   },
   {
    "duration": 122,
    "start_time": "2022-03-29T14:41:02.528Z"
   },
   {
    "duration": 6,
    "start_time": "2022-03-29T14:41:15.993Z"
   },
   {
    "duration": 7,
    "start_time": "2022-03-29T14:42:33.635Z"
   },
   {
    "duration": 7,
    "start_time": "2022-03-29T14:42:35.100Z"
   },
   {
    "duration": 3,
    "start_time": "2022-03-29T14:42:40.239Z"
   },
   {
    "duration": 4,
    "start_time": "2022-03-29T14:42:45.895Z"
   },
   {
    "duration": 3,
    "start_time": "2022-03-29T14:42:46.755Z"
   },
   {
    "duration": 3,
    "start_time": "2022-03-29T14:44:17.531Z"
   },
   {
    "duration": 8,
    "start_time": "2022-03-29T14:48:46.129Z"
   },
   {
    "duration": 5,
    "start_time": "2022-03-29T14:49:04.514Z"
   },
   {
    "duration": 7,
    "start_time": "2022-03-29T14:49:36.715Z"
   },
   {
    "duration": 5,
    "start_time": "2022-03-29T14:49:42.197Z"
   },
   {
    "duration": 4,
    "start_time": "2022-03-29T14:50:37.956Z"
   },
   {
    "duration": 8,
    "start_time": "2022-03-29T14:52:26.686Z"
   },
   {
    "duration": 5,
    "start_time": "2022-03-29T14:52:31.874Z"
   },
   {
    "duration": 5,
    "start_time": "2022-03-29T14:52:32.795Z"
   },
   {
    "duration": 5,
    "start_time": "2022-03-29T14:54:35.343Z"
   },
   {
    "duration": 3,
    "start_time": "2022-03-29T15:14:00.773Z"
   },
   {
    "duration": 15,
    "start_time": "2022-03-29T15:14:26.831Z"
   },
   {
    "duration": 4,
    "start_time": "2022-03-29T15:14:59.978Z"
   },
   {
    "duration": 3,
    "start_time": "2022-03-29T15:15:22.228Z"
   },
   {
    "duration": 15,
    "start_time": "2022-03-29T15:15:22.901Z"
   },
   {
    "duration": 23,
    "start_time": "2022-03-29T15:15:39.297Z"
   },
   {
    "duration": 4,
    "start_time": "2022-03-29T15:16:20.439Z"
   },
   {
    "duration": 23,
    "start_time": "2022-03-29T15:16:20.915Z"
   },
   {
    "duration": 4,
    "start_time": "2022-03-29T15:17:08.677Z"
   },
   {
    "duration": 28,
    "start_time": "2022-03-29T15:17:09.129Z"
   },
   {
    "duration": 31,
    "start_time": "2022-03-29T15:19:28.335Z"
   },
   {
    "duration": 55,
    "start_time": "2022-03-29T15:22:08.519Z"
   },
   {
    "duration": 25,
    "start_time": "2022-03-29T15:25:30.426Z"
   },
   {
    "duration": 10,
    "start_time": "2022-03-29T15:28:28.245Z"
   },
   {
    "duration": 4,
    "start_time": "2022-03-29T15:28:30.927Z"
   },
   {
    "duration": 1840,
    "start_time": "2022-03-29T15:28:41.721Z"
   },
   {
    "duration": 763,
    "start_time": "2022-03-29T15:28:43.564Z"
   },
   {
    "duration": 21,
    "start_time": "2022-03-29T15:28:44.330Z"
   },
   {
    "duration": 19,
    "start_time": "2022-03-29T15:28:44.356Z"
   },
   {
    "duration": 42,
    "start_time": "2022-03-29T15:28:44.377Z"
   },
   {
    "duration": 27,
    "start_time": "2022-03-29T15:28:44.421Z"
   },
   {
    "duration": 51,
    "start_time": "2022-03-29T15:28:44.450Z"
   },
   {
    "duration": 23,
    "start_time": "2022-03-29T15:28:44.503Z"
   },
   {
    "duration": 4,
    "start_time": "2022-03-29T15:28:44.528Z"
   },
   {
    "duration": 10,
    "start_time": "2022-03-29T15:28:44.537Z"
   },
   {
    "duration": 19,
    "start_time": "2022-03-29T15:28:44.549Z"
   },
   {
    "duration": 43,
    "start_time": "2022-03-29T15:28:44.569Z"
   },
   {
    "duration": 15,
    "start_time": "2022-03-29T15:28:44.614Z"
   },
   {
    "duration": 7,
    "start_time": "2022-03-29T15:28:44.631Z"
   },
   {
    "duration": 6,
    "start_time": "2022-03-29T15:28:44.640Z"
   },
   {
    "duration": 6,
    "start_time": "2022-03-29T15:28:44.649Z"
   },
   {
    "duration": 7,
    "start_time": "2022-03-29T15:28:44.656Z"
   },
   {
    "duration": 46,
    "start_time": "2022-03-29T15:28:44.665Z"
   },
   {
    "duration": 20,
    "start_time": "2022-03-29T15:28:44.713Z"
   },
   {
    "duration": 162,
    "start_time": "2022-03-29T15:28:44.735Z"
   },
   {
    "duration": 38,
    "start_time": "2022-03-29T15:28:44.900Z"
   },
   {
    "duration": 135,
    "start_time": "2022-03-29T15:28:44.939Z"
   },
   {
    "duration": 5,
    "start_time": "2022-03-29T15:28:45.076Z"
   },
   {
    "duration": 25,
    "start_time": "2022-03-29T15:28:45.083Z"
   },
   {
    "duration": 8,
    "start_time": "2022-03-29T15:28:45.110Z"
   },
   {
    "duration": 11,
    "start_time": "2022-03-29T15:28:45.120Z"
   },
   {
    "duration": 7,
    "start_time": "2022-03-29T15:28:45.133Z"
   },
   {
    "duration": 13,
    "start_time": "2022-03-29T15:28:45.145Z"
   },
   {
    "duration": 42,
    "start_time": "2022-03-29T15:28:45.160Z"
   },
   {
    "duration": 26,
    "start_time": "2022-03-29T15:28:45.204Z"
   },
   {
    "duration": 8,
    "start_time": "2022-03-29T15:28:45.233Z"
   },
   {
    "duration": 26,
    "start_time": "2022-03-29T15:28:45.244Z"
   },
   {
    "duration": 8,
    "start_time": "2022-03-29T15:28:45.272Z"
   },
   {
    "duration": 33,
    "start_time": "2022-03-29T15:28:45.282Z"
   },
   {
    "duration": 15,
    "start_time": "2022-03-29T15:28:45.318Z"
   },
   {
    "duration": 10,
    "start_time": "2022-03-29T15:28:45.336Z"
   },
   {
    "duration": 13,
    "start_time": "2022-03-29T15:28:45.349Z"
   },
   {
    "duration": 8,
    "start_time": "2022-03-29T15:28:45.365Z"
   },
   {
    "duration": 10,
    "start_time": "2022-03-29T15:28:45.375Z"
   },
   {
    "duration": 24,
    "start_time": "2022-03-29T15:28:45.387Z"
   },
   {
    "duration": 26,
    "start_time": "2022-03-29T15:28:45.413Z"
   },
   {
    "duration": 14,
    "start_time": "2022-03-29T15:28:45.442Z"
   },
   {
    "duration": 279,
    "start_time": "2022-03-29T15:28:45.458Z"
   },
   {
    "duration": 7,
    "start_time": "2022-03-29T15:28:45.740Z"
   },
   {
    "duration": 21,
    "start_time": "2022-03-29T15:28:45.749Z"
   },
   {
    "duration": 718,
    "start_time": "2022-03-29T15:28:45.772Z"
   },
   {
    "duration": 10,
    "start_time": "2022-03-29T15:28:46.492Z"
   },
   {
    "duration": 4,
    "start_time": "2022-03-29T15:28:46.505Z"
   },
   {
    "duration": 8,
    "start_time": "2022-03-29T15:28:46.512Z"
   },
   {
    "duration": 22,
    "start_time": "2022-03-29T15:28:46.523Z"
   },
   {
    "duration": 22,
    "start_time": "2022-03-29T15:28:46.548Z"
   },
   {
    "duration": 29,
    "start_time": "2022-03-29T15:28:46.572Z"
   },
   {
    "duration": 832,
    "start_time": "2022-03-29T15:28:46.604Z"
   },
   {
    "duration": 4,
    "start_time": "2022-03-29T15:28:47.438Z"
   },
   {
    "duration": 220,
    "start_time": "2022-03-29T15:28:47.444Z"
   },
   {
    "duration": 5,
    "start_time": "2022-03-29T15:28:47.666Z"
   },
   {
    "duration": 41,
    "start_time": "2022-03-29T15:28:47.673Z"
   },
   {
    "duration": 12,
    "start_time": "2022-03-29T15:28:47.716Z"
   },
   {
    "duration": 13,
    "start_time": "2022-03-29T15:28:47.731Z"
   },
   {
    "duration": 26,
    "start_time": "2022-03-29T15:28:47.746Z"
   },
   {
    "duration": 746,
    "start_time": "2022-03-29T15:28:47.800Z"
   },
   {
    "duration": 202,
    "start_time": "2022-03-29T15:28:48.548Z"
   },
   {
    "duration": 6,
    "start_time": "2022-03-29T15:28:48.752Z"
   },
   {
    "duration": 7,
    "start_time": "2022-03-29T15:28:48.760Z"
   },
   {
    "duration": 8,
    "start_time": "2022-03-29T15:28:48.769Z"
   },
   {
    "duration": 42,
    "start_time": "2022-03-29T15:28:48.779Z"
   },
   {
    "duration": 7,
    "start_time": "2022-03-29T15:28:48.823Z"
   },
   {
    "duration": 9,
    "start_time": "2022-03-29T15:28:48.832Z"
   },
   {
    "duration": 11,
    "start_time": "2022-03-29T15:28:54.048Z"
   },
   {
    "duration": 131,
    "start_time": "2022-03-29T15:28:55.414Z"
   },
   {
    "duration": 5,
    "start_time": "2022-03-29T15:29:17.629Z"
   },
   {
    "duration": 4,
    "start_time": "2022-03-29T15:29:24.101Z"
   },
   {
    "duration": 4,
    "start_time": "2022-03-29T15:29:45.680Z"
   },
   {
    "duration": 4,
    "start_time": "2022-03-29T15:30:04.387Z"
   },
   {
    "duration": 4,
    "start_time": "2022-03-29T15:30:19.011Z"
   },
   {
    "duration": 30,
    "start_time": "2022-03-29T15:32:03.831Z"
   },
   {
    "duration": 132,
    "start_time": "2022-03-29T15:34:26.218Z"
   },
   {
    "duration": 5,
    "start_time": "2022-03-29T15:34:33.154Z"
   },
   {
    "duration": 5,
    "start_time": "2022-03-29T15:37:30.565Z"
   },
   {
    "duration": 44,
    "start_time": "2022-03-29T15:39:17.607Z"
   },
   {
    "duration": 2449,
    "start_time": "2022-03-29T17:48:45.346Z"
   },
   {
    "duration": 829,
    "start_time": "2022-03-29T17:48:47.798Z"
   },
   {
    "duration": 30,
    "start_time": "2022-03-29T17:48:48.629Z"
   },
   {
    "duration": 18,
    "start_time": "2022-03-29T17:48:48.661Z"
   },
   {
    "duration": 24,
    "start_time": "2022-03-29T17:48:48.681Z"
   },
   {
    "duration": 58,
    "start_time": "2022-03-29T17:48:48.707Z"
   },
   {
    "duration": 29,
    "start_time": "2022-03-29T17:48:48.767Z"
   },
   {
    "duration": 59,
    "start_time": "2022-03-29T17:48:48.799Z"
   },
   {
    "duration": 4,
    "start_time": "2022-03-29T17:48:48.861Z"
   },
   {
    "duration": 12,
    "start_time": "2022-03-29T17:48:48.869Z"
   },
   {
    "duration": 11,
    "start_time": "2022-03-29T17:48:48.883Z"
   },
   {
    "duration": 7,
    "start_time": "2022-03-29T17:48:48.896Z"
   },
   {
    "duration": 47,
    "start_time": "2022-03-29T17:48:48.905Z"
   },
   {
    "duration": 9,
    "start_time": "2022-03-29T17:48:48.954Z"
   },
   {
    "duration": 7,
    "start_time": "2022-03-29T17:48:48.965Z"
   },
   {
    "duration": 9,
    "start_time": "2022-03-29T17:48:48.973Z"
   },
   {
    "duration": 7,
    "start_time": "2022-03-29T17:48:48.984Z"
   },
   {
    "duration": 7,
    "start_time": "2022-03-29T17:48:48.992Z"
   },
   {
    "duration": 60,
    "start_time": "2022-03-29T17:48:49.001Z"
   },
   {
    "duration": 202,
    "start_time": "2022-03-29T17:48:49.063Z"
   },
   {
    "duration": 37,
    "start_time": "2022-03-29T17:48:49.267Z"
   },
   {
    "duration": 183,
    "start_time": "2022-03-29T17:48:49.306Z"
   },
   {
    "duration": 5,
    "start_time": "2022-03-29T17:48:49.491Z"
   },
   {
    "duration": 7,
    "start_time": "2022-03-29T17:48:49.498Z"
   },
   {
    "duration": 6,
    "start_time": "2022-03-29T17:48:49.507Z"
   },
   {
    "duration": 6,
    "start_time": "2022-03-29T17:48:49.545Z"
   },
   {
    "duration": 9,
    "start_time": "2022-03-29T17:48:49.553Z"
   },
   {
    "duration": 20,
    "start_time": "2022-03-29T17:48:49.567Z"
   },
   {
    "duration": 11,
    "start_time": "2022-03-29T17:48:49.589Z"
   },
   {
    "duration": 59,
    "start_time": "2022-03-29T17:48:49.602Z"
   },
   {
    "duration": 7,
    "start_time": "2022-03-29T17:48:49.663Z"
   },
   {
    "duration": 18,
    "start_time": "2022-03-29T17:48:49.672Z"
   },
   {
    "duration": 9,
    "start_time": "2022-03-29T17:48:49.692Z"
   },
   {
    "duration": 39,
    "start_time": "2022-03-29T17:48:49.703Z"
   },
   {
    "duration": 5,
    "start_time": "2022-03-29T17:48:49.744Z"
   },
   {
    "duration": 10,
    "start_time": "2022-03-29T17:48:49.751Z"
   },
   {
    "duration": 6,
    "start_time": "2022-03-29T17:48:49.763Z"
   },
   {
    "duration": 5,
    "start_time": "2022-03-29T17:48:49.771Z"
   },
   {
    "duration": 8,
    "start_time": "2022-03-29T17:48:49.778Z"
   },
   {
    "duration": 59,
    "start_time": "2022-03-29T17:48:49.788Z"
   },
   {
    "duration": 13,
    "start_time": "2022-03-29T17:48:49.850Z"
   },
   {
    "duration": 12,
    "start_time": "2022-03-29T17:48:49.865Z"
   },
   {
    "duration": 483,
    "start_time": "2022-03-29T17:48:49.880Z"
   },
   {
    "duration": 11,
    "start_time": "2022-03-29T17:48:50.366Z"
   },
   {
    "duration": 20,
    "start_time": "2022-03-29T17:48:50.380Z"
   },
   {
    "duration": 841,
    "start_time": "2022-03-29T17:48:50.402Z"
   },
   {
    "duration": 3,
    "start_time": "2022-03-29T17:48:51.245Z"
   },
   {
    "duration": 7,
    "start_time": "2022-03-29T17:48:51.250Z"
   },
   {
    "duration": 6,
    "start_time": "2022-03-29T17:48:51.258Z"
   },
   {
    "duration": 22,
    "start_time": "2022-03-29T17:48:51.266Z"
   },
   {
    "duration": 57,
    "start_time": "2022-03-29T17:48:51.290Z"
   },
   {
    "duration": 4,
    "start_time": "2022-03-29T17:48:51.349Z"
   },
   {
    "duration": 1194,
    "start_time": "2022-03-29T17:48:51.355Z"
   },
   {
    "duration": 4,
    "start_time": "2022-03-29T17:48:52.551Z"
   },
   {
    "duration": 289,
    "start_time": "2022-03-29T17:48:52.557Z"
   },
   {
    "duration": 4,
    "start_time": "2022-03-29T17:48:52.848Z"
   },
   {
    "duration": 33,
    "start_time": "2022-03-29T17:48:52.854Z"
   },
   {
    "duration": 12,
    "start_time": "2022-03-29T17:48:52.889Z"
   },
   {
    "duration": 46,
    "start_time": "2022-03-29T17:48:52.903Z"
   },
   {
    "duration": 31,
    "start_time": "2022-03-29T17:48:52.951Z"
   },
   {
    "duration": 1030,
    "start_time": "2022-03-29T17:48:52.984Z"
   },
   {
    "duration": 361,
    "start_time": "2022-03-29T17:48:54.017Z"
   },
   {
    "duration": 6,
    "start_time": "2022-03-29T17:48:54.381Z"
   },
   {
    "duration": 8,
    "start_time": "2022-03-29T17:48:54.390Z"
   },
   {
    "duration": 160,
    "start_time": "2022-03-29T17:48:59.436Z"
   },
   {
    "duration": 4,
    "start_time": "2022-03-29T17:49:01.785Z"
   },
   {
    "duration": 11,
    "start_time": "2022-03-29T17:49:03.382Z"
   },
   {
    "duration": 5,
    "start_time": "2022-03-29T17:49:23.016Z"
   },
   {
    "duration": 6,
    "start_time": "2022-03-29T17:49:27.618Z"
   },
   {
    "duration": 5,
    "start_time": "2022-03-29T17:49:33.887Z"
   },
   {
    "duration": 3,
    "start_time": "2022-03-29T17:57:27.891Z"
   },
   {
    "duration": 4,
    "start_time": "2022-03-29T17:57:33.068Z"
   },
   {
    "duration": 15,
    "start_time": "2022-03-29T17:58:07.860Z"
   },
   {
    "duration": 6,
    "start_time": "2022-03-29T17:58:35.302Z"
   },
   {
    "duration": 16,
    "start_time": "2022-03-29T17:58:39.378Z"
   },
   {
    "duration": 13,
    "start_time": "2022-03-29T18:00:21.207Z"
   },
   {
    "duration": 11,
    "start_time": "2022-03-29T18:00:29.082Z"
   },
   {
    "duration": 12,
    "start_time": "2022-03-29T18:01:50.903Z"
   },
   {
    "duration": 12,
    "start_time": "2022-03-29T18:02:43.395Z"
   },
   {
    "duration": 12,
    "start_time": "2022-03-29T18:03:32.334Z"
   },
   {
    "duration": 8,
    "start_time": "2022-03-29T18:03:43.025Z"
   },
   {
    "duration": 863,
    "start_time": "2022-03-29T18:03:43.036Z"
   },
   {
    "duration": 27,
    "start_time": "2022-03-29T18:03:43.902Z"
   },
   {
    "duration": 20,
    "start_time": "2022-03-29T18:03:43.945Z"
   },
   {
    "duration": 26,
    "start_time": "2022-03-29T18:03:43.968Z"
   },
   {
    "duration": 62,
    "start_time": "2022-03-29T18:03:43.997Z"
   },
   {
    "duration": 31,
    "start_time": "2022-03-29T18:03:44.062Z"
   },
   {
    "duration": 61,
    "start_time": "2022-03-29T18:03:44.095Z"
   },
   {
    "duration": 5,
    "start_time": "2022-03-29T18:03:44.158Z"
   },
   {
    "duration": 8,
    "start_time": "2022-03-29T18:03:44.166Z"
   },
   {
    "duration": 12,
    "start_time": "2022-03-29T18:03:44.176Z"
   },
   {
    "duration": 6,
    "start_time": "2022-03-29T18:03:44.191Z"
   },
   {
    "duration": 51,
    "start_time": "2022-03-29T18:03:44.199Z"
   },
   {
    "duration": 7,
    "start_time": "2022-03-29T18:03:44.252Z"
   },
   {
    "duration": 6,
    "start_time": "2022-03-29T18:03:44.261Z"
   },
   {
    "duration": 5,
    "start_time": "2022-03-29T18:03:44.270Z"
   },
   {
    "duration": 9,
    "start_time": "2022-03-29T18:03:44.277Z"
   },
   {
    "duration": 55,
    "start_time": "2022-03-29T18:03:44.288Z"
   },
   {
    "duration": 19,
    "start_time": "2022-03-29T18:03:44.345Z"
   },
   {
    "duration": 211,
    "start_time": "2022-03-29T18:03:44.366Z"
   },
   {
    "duration": 39,
    "start_time": "2022-03-29T18:03:44.580Z"
   },
   {
    "duration": 177,
    "start_time": "2022-03-29T18:03:44.622Z"
   },
   {
    "duration": 5,
    "start_time": "2022-03-29T18:03:44.801Z"
   },
   {
    "duration": 7,
    "start_time": "2022-03-29T18:03:44.808Z"
   },
   {
    "duration": 30,
    "start_time": "2022-03-29T18:03:44.817Z"
   },
   {
    "duration": 6,
    "start_time": "2022-03-29T18:03:44.849Z"
   },
   {
    "duration": 7,
    "start_time": "2022-03-29T18:03:44.857Z"
   },
   {
    "duration": 20,
    "start_time": "2022-03-29T18:03:44.870Z"
   },
   {
    "duration": 52,
    "start_time": "2022-03-29T18:03:44.892Z"
   },
   {
    "duration": 22,
    "start_time": "2022-03-29T18:03:44.947Z"
   },
   {
    "duration": 8,
    "start_time": "2022-03-29T18:03:44.972Z"
   },
   {
    "duration": 15,
    "start_time": "2022-03-29T18:03:44.983Z"
   },
   {
    "duration": 10,
    "start_time": "2022-03-29T18:03:45.043Z"
   },
   {
    "duration": 6,
    "start_time": "2022-03-29T18:03:45.056Z"
   },
   {
    "duration": 8,
    "start_time": "2022-03-29T18:03:45.065Z"
   },
   {
    "duration": 10,
    "start_time": "2022-03-29T18:03:45.075Z"
   },
   {
    "duration": 7,
    "start_time": "2022-03-29T18:03:45.088Z"
   },
   {
    "duration": 4,
    "start_time": "2022-03-29T18:03:45.144Z"
   },
   {
    "duration": 9,
    "start_time": "2022-03-29T18:03:45.151Z"
   },
   {
    "duration": 12,
    "start_time": "2022-03-29T18:03:45.162Z"
   },
   {
    "duration": 14,
    "start_time": "2022-03-29T18:03:45.176Z"
   },
   {
    "duration": 53,
    "start_time": "2022-03-29T18:03:45.192Z"
   },
   {
    "duration": 372,
    "start_time": "2022-03-29T18:03:45.248Z"
   },
   {
    "duration": 20,
    "start_time": "2022-03-29T18:03:45.623Z"
   },
   {
    "duration": 23,
    "start_time": "2022-03-29T18:03:45.645Z"
   },
   {
    "duration": 896,
    "start_time": "2022-03-29T18:03:45.671Z"
   },
   {
    "duration": 4,
    "start_time": "2022-03-29T18:03:46.571Z"
   },
   {
    "duration": 24,
    "start_time": "2022-03-29T18:03:46.578Z"
   },
   {
    "duration": 12,
    "start_time": "2022-03-29T18:03:46.604Z"
   },
   {
    "duration": 31,
    "start_time": "2022-03-29T18:03:46.618Z"
   },
   {
    "duration": 26,
    "start_time": "2022-03-29T18:03:46.651Z"
   },
   {
    "duration": 4,
    "start_time": "2022-03-29T18:03:46.679Z"
   },
   {
    "duration": 1074,
    "start_time": "2022-03-29T18:03:46.687Z"
   },
   {
    "duration": 5,
    "start_time": "2022-03-29T18:03:47.764Z"
   },
   {
    "duration": 289,
    "start_time": "2022-03-29T18:03:47.773Z"
   },
   {
    "duration": 4,
    "start_time": "2022-03-29T18:03:48.065Z"
   },
   {
    "duration": 47,
    "start_time": "2022-03-29T18:03:48.071Z"
   },
   {
    "duration": 27,
    "start_time": "2022-03-29T18:03:48.120Z"
   },
   {
    "duration": 14,
    "start_time": "2022-03-29T18:03:48.149Z"
   },
   {
    "duration": 33,
    "start_time": "2022-03-29T18:03:48.165Z"
   },
   {
    "duration": 1128,
    "start_time": "2022-03-29T18:03:48.200Z"
   },
   {
    "duration": 279,
    "start_time": "2022-03-29T18:03:49.330Z"
   },
   {
    "duration": 7,
    "start_time": "2022-03-29T18:03:49.612Z"
   },
   {
    "duration": 22,
    "start_time": "2022-03-29T18:03:49.622Z"
   },
   {
    "duration": 4,
    "start_time": "2022-03-29T18:03:49.647Z"
   },
   {
    "duration": 8,
    "start_time": "2022-03-29T18:03:49.653Z"
   },
   {
    "duration": 14,
    "start_time": "2022-03-29T18:03:49.663Z"
   },
   {
    "duration": 8,
    "start_time": "2022-03-29T18:03:49.679Z"
   },
   {
    "duration": 11,
    "start_time": "2022-03-29T18:03:49.689Z"
   },
   {
    "duration": 47,
    "start_time": "2022-03-29T18:03:49.702Z"
   },
   {
    "duration": 7,
    "start_time": "2022-03-29T18:03:49.751Z"
   },
   {
    "duration": 7,
    "start_time": "2022-03-29T18:03:49.760Z"
   },
   {
    "duration": 7,
    "start_time": "2022-03-29T18:03:49.768Z"
   },
   {
    "duration": 4,
    "start_time": "2022-03-29T18:03:49.777Z"
   },
   {
    "duration": 72,
    "start_time": "2022-03-29T18:03:49.783Z"
   },
   {
    "duration": 4,
    "start_time": "2022-03-29T18:03:49.857Z"
   },
   {
    "duration": 6,
    "start_time": "2022-03-29T18:03:49.863Z"
   },
   {
    "duration": 13,
    "start_time": "2022-03-29T18:03:52.398Z"
   },
   {
    "duration": 11,
    "start_time": "2022-03-29T18:04:26.750Z"
   },
   {
    "duration": 85537,
    "start_time": "2022-03-29T18:06:30.686Z"
   },
   {
    "duration": 5,
    "start_time": "2022-03-29T18:08:56.820Z"
   },
   {
    "duration": 5,
    "start_time": "2022-03-29T18:09:11.773Z"
   },
   {
    "duration": 11,
    "start_time": "2022-03-29T18:36:00.163Z"
   },
   {
    "duration": 2487,
    "start_time": "2022-03-29T18:36:04.234Z"
   },
   {
    "duration": 769,
    "start_time": "2022-03-29T18:36:06.724Z"
   },
   {
    "duration": 26,
    "start_time": "2022-03-29T18:36:07.495Z"
   },
   {
    "duration": 36,
    "start_time": "2022-03-29T18:36:07.524Z"
   },
   {
    "duration": 28,
    "start_time": "2022-03-29T18:36:07.562Z"
   },
   {
    "duration": 60,
    "start_time": "2022-03-29T18:36:07.592Z"
   },
   {
    "duration": 32,
    "start_time": "2022-03-29T18:36:07.655Z"
   },
   {
    "duration": 57,
    "start_time": "2022-03-29T18:36:07.690Z"
   },
   {
    "duration": 4,
    "start_time": "2022-03-29T18:36:07.749Z"
   },
   {
    "duration": 15,
    "start_time": "2022-03-29T18:36:07.757Z"
   },
   {
    "duration": 12,
    "start_time": "2022-03-29T18:36:07.774Z"
   },
   {
    "duration": 9,
    "start_time": "2022-03-29T18:36:07.788Z"
   },
   {
    "duration": 45,
    "start_time": "2022-03-29T18:36:07.799Z"
   },
   {
    "duration": 7,
    "start_time": "2022-03-29T18:36:07.846Z"
   },
   {
    "duration": 9,
    "start_time": "2022-03-29T18:36:07.855Z"
   },
   {
    "duration": 8,
    "start_time": "2022-03-29T18:36:07.866Z"
   },
   {
    "duration": 8,
    "start_time": "2022-03-29T18:36:07.876Z"
   },
   {
    "duration": 9,
    "start_time": "2022-03-29T18:36:07.886Z"
   },
   {
    "duration": 55,
    "start_time": "2022-03-29T18:36:07.897Z"
   },
   {
    "duration": 198,
    "start_time": "2022-03-29T18:36:07.955Z"
   },
   {
    "duration": 37,
    "start_time": "2022-03-29T18:36:08.155Z"
   },
   {
    "duration": 185,
    "start_time": "2022-03-29T18:36:08.194Z"
   },
   {
    "duration": 5,
    "start_time": "2022-03-29T18:36:08.381Z"
   },
   {
    "duration": 12,
    "start_time": "2022-03-29T18:36:08.388Z"
   },
   {
    "duration": 14,
    "start_time": "2022-03-29T18:36:08.402Z"
   },
   {
    "duration": 25,
    "start_time": "2022-03-29T18:36:08.419Z"
   },
   {
    "duration": 6,
    "start_time": "2022-03-29T18:36:08.446Z"
   },
   {
    "duration": 18,
    "start_time": "2022-03-29T18:36:08.459Z"
   },
   {
    "duration": 10,
    "start_time": "2022-03-29T18:36:08.479Z"
   },
   {
    "duration": 64,
    "start_time": "2022-03-29T18:36:08.491Z"
   },
   {
    "duration": 8,
    "start_time": "2022-03-29T18:36:08.558Z"
   },
   {
    "duration": 18,
    "start_time": "2022-03-29T18:36:08.569Z"
   },
   {
    "duration": 9,
    "start_time": "2022-03-29T18:36:08.589Z"
   },
   {
    "duration": 5,
    "start_time": "2022-03-29T18:36:08.600Z"
   },
   {
    "duration": 6,
    "start_time": "2022-03-29T18:36:08.642Z"
   },
   {
    "duration": 7,
    "start_time": "2022-03-29T18:36:08.650Z"
   },
   {
    "duration": 7,
    "start_time": "2022-03-29T18:36:08.659Z"
   },
   {
    "duration": 6,
    "start_time": "2022-03-29T18:36:08.668Z"
   },
   {
    "duration": 7,
    "start_time": "2022-03-29T18:36:08.676Z"
   },
   {
    "duration": 10,
    "start_time": "2022-03-29T18:36:08.686Z"
   },
   {
    "duration": 12,
    "start_time": "2022-03-29T18:36:08.744Z"
   },
   {
    "duration": 13,
    "start_time": "2022-03-29T18:36:08.758Z"
   },
   {
    "duration": 380,
    "start_time": "2022-03-29T18:36:08.773Z"
   },
   {
    "duration": 9,
    "start_time": "2022-03-29T18:36:09.155Z"
   },
   {
    "duration": 23,
    "start_time": "2022-03-29T18:36:09.166Z"
   },
   {
    "duration": 957,
    "start_time": "2022-03-29T18:36:09.191Z"
   },
   {
    "duration": 4,
    "start_time": "2022-03-29T18:36:10.151Z"
   },
   {
    "duration": 9,
    "start_time": "2022-03-29T18:36:10.158Z"
   },
   {
    "duration": 7,
    "start_time": "2022-03-29T18:36:10.169Z"
   },
   {
    "duration": 22,
    "start_time": "2022-03-29T18:36:10.179Z"
   },
   {
    "duration": 51,
    "start_time": "2022-03-29T18:36:10.203Z"
   },
   {
    "duration": 5,
    "start_time": "2022-03-29T18:36:10.256Z"
   },
   {
    "duration": 1146,
    "start_time": "2022-03-29T18:36:10.264Z"
   },
   {
    "duration": 4,
    "start_time": "2022-03-29T18:36:11.412Z"
   },
   {
    "duration": 289,
    "start_time": "2022-03-29T18:36:11.418Z"
   },
   {
    "duration": 5,
    "start_time": "2022-03-29T18:36:11.709Z"
   },
   {
    "duration": 47,
    "start_time": "2022-03-29T18:36:11.716Z"
   },
   {
    "duration": 11,
    "start_time": "2022-03-29T18:36:11.765Z"
   },
   {
    "duration": 15,
    "start_time": "2022-03-29T18:36:11.778Z"
   },
   {
    "duration": 61,
    "start_time": "2022-03-29T18:36:11.795Z"
   },
   {
    "duration": 1016,
    "start_time": "2022-03-29T18:36:11.858Z"
   },
   {
    "duration": 355,
    "start_time": "2022-03-29T18:36:12.876Z"
   },
   {
    "duration": 12,
    "start_time": "2022-03-29T18:36:13.233Z"
   },
   {
    "duration": 4,
    "start_time": "2022-03-29T18:36:13.247Z"
   },
   {
    "duration": 6,
    "start_time": "2022-03-29T18:36:13.253Z"
   },
   {
    "duration": 6,
    "start_time": "2022-03-29T18:36:13.261Z"
   },
   {
    "duration": 12,
    "start_time": "2022-03-29T18:36:13.270Z"
   },
   {
    "duration": 7,
    "start_time": "2022-03-29T18:36:13.284Z"
   },
   {
    "duration": 6,
    "start_time": "2022-03-29T18:36:13.293Z"
   },
   {
    "duration": 55,
    "start_time": "2022-03-29T18:36:13.301Z"
   },
   {
    "duration": 7,
    "start_time": "2022-03-29T18:36:13.359Z"
   },
   {
    "duration": 5,
    "start_time": "2022-03-29T18:36:13.368Z"
   },
   {
    "duration": 5,
    "start_time": "2022-03-29T18:36:13.375Z"
   },
   {
    "duration": 5,
    "start_time": "2022-03-29T18:36:13.382Z"
   },
   {
    "duration": 73,
    "start_time": "2022-03-29T18:36:13.388Z"
   },
   {
    "duration": 4,
    "start_time": "2022-03-29T18:36:13.463Z"
   },
   {
    "duration": 7,
    "start_time": "2022-03-29T18:36:13.469Z"
   },
   {
    "duration": 5641,
    "start_time": "2022-03-29T18:36:13.477Z"
   },
   {
    "duration": 13,
    "start_time": "2022-03-29T18:36:26.925Z"
   },
   {
    "duration": 4,
    "start_time": "2022-03-29T18:36:35.217Z"
   },
   {
    "duration": 5,
    "start_time": "2022-03-29T18:36:38.533Z"
   },
   {
    "duration": 75550,
    "start_time": "2022-03-29T18:37:38.897Z"
   },
   {
    "duration": 7,
    "start_time": "2022-03-29T18:39:46.628Z"
   },
   {
    "duration": 11,
    "start_time": "2022-03-29T18:40:55.220Z"
   },
   {
    "duration": 4,
    "start_time": "2022-03-29T18:41:45.621Z"
   },
   {
    "duration": 3,
    "start_time": "2022-03-29T18:41:59.768Z"
   },
   {
    "duration": 4,
    "start_time": "2022-03-29T18:42:01.201Z"
   },
   {
    "duration": 5,
    "start_time": "2022-03-29T18:42:01.672Z"
   },
   {
    "duration": 10342,
    "start_time": "2022-03-29T18:42:02.487Z"
   },
   {
    "duration": 0,
    "start_time": "2022-03-29T18:42:12.831Z"
   },
   {
    "duration": 4,
    "start_time": "2022-03-29T18:42:35.699Z"
   },
   {
    "duration": 10012,
    "start_time": "2022-03-29T18:42:37.747Z"
   },
   {
    "duration": 5,
    "start_time": "2022-03-29T18:42:47.762Z"
   },
   {
    "duration": 4,
    "start_time": "2022-03-29T18:42:57.659Z"
   },
   {
    "duration": 6,
    "start_time": "2022-03-29T18:43:03.303Z"
   },
   {
    "duration": 4,
    "start_time": "2022-03-29T18:43:24.398Z"
   },
   {
    "duration": 4,
    "start_time": "2022-03-29T18:43:29.115Z"
   },
   {
    "duration": 2000,
    "start_time": "2022-03-29T18:45:21.663Z"
   },
   {
    "duration": 781,
    "start_time": "2022-03-29T18:45:23.665Z"
   },
   {
    "duration": 27,
    "start_time": "2022-03-29T18:45:24.448Z"
   },
   {
    "duration": 18,
    "start_time": "2022-03-29T18:45:24.477Z"
   },
   {
    "duration": 50,
    "start_time": "2022-03-29T18:45:24.497Z"
   },
   {
    "duration": 34,
    "start_time": "2022-03-29T18:45:24.549Z"
   },
   {
    "duration": 29,
    "start_time": "2022-03-29T18:45:24.585Z"
   },
   {
    "duration": 28,
    "start_time": "2022-03-29T18:45:24.643Z"
   },
   {
    "duration": 5,
    "start_time": "2022-03-29T18:45:24.673Z"
   },
   {
    "duration": 11,
    "start_time": "2022-03-29T18:45:24.682Z"
   },
   {
    "duration": 11,
    "start_time": "2022-03-29T18:45:24.695Z"
   },
   {
    "duration": 39,
    "start_time": "2022-03-29T18:45:24.707Z"
   },
   {
    "duration": 14,
    "start_time": "2022-03-29T18:45:24.749Z"
   },
   {
    "duration": 7,
    "start_time": "2022-03-29T18:45:24.765Z"
   },
   {
    "duration": 8,
    "start_time": "2022-03-29T18:45:24.775Z"
   },
   {
    "duration": 8,
    "start_time": "2022-03-29T18:45:24.785Z"
   },
   {
    "duration": 49,
    "start_time": "2022-03-29T18:45:24.795Z"
   },
   {
    "duration": 8,
    "start_time": "2022-03-29T18:45:24.847Z"
   },
   {
    "duration": 17,
    "start_time": "2022-03-29T18:45:24.858Z"
   },
   {
    "duration": 213,
    "start_time": "2022-03-29T18:45:24.877Z"
   },
   {
    "duration": 56,
    "start_time": "2022-03-29T18:45:25.092Z"
   },
   {
    "duration": 171,
    "start_time": "2022-03-29T18:45:25.150Z"
   },
   {
    "duration": 5,
    "start_time": "2022-03-29T18:45:25.323Z"
   },
   {
    "duration": 14,
    "start_time": "2022-03-29T18:45:25.329Z"
   },
   {
    "duration": 5,
    "start_time": "2022-03-29T18:45:25.344Z"
   },
   {
    "duration": 5,
    "start_time": "2022-03-29T18:45:25.351Z"
   },
   {
    "duration": 6,
    "start_time": "2022-03-29T18:45:25.358Z"
   },
   {
    "duration": 18,
    "start_time": "2022-03-29T18:45:25.370Z"
   },
   {
    "duration": 55,
    "start_time": "2022-03-29T18:45:25.390Z"
   },
   {
    "duration": 22,
    "start_time": "2022-03-29T18:45:25.447Z"
   },
   {
    "duration": 8,
    "start_time": "2022-03-29T18:45:25.471Z"
   },
   {
    "duration": 16,
    "start_time": "2022-03-29T18:45:25.481Z"
   },
   {
    "duration": 45,
    "start_time": "2022-03-29T18:45:25.499Z"
   },
   {
    "duration": 7,
    "start_time": "2022-03-29T18:45:25.546Z"
   },
   {
    "duration": 7,
    "start_time": "2022-03-29T18:45:25.555Z"
   },
   {
    "duration": 7,
    "start_time": "2022-03-29T18:45:25.565Z"
   },
   {
    "duration": 7,
    "start_time": "2022-03-29T18:45:25.574Z"
   },
   {
    "duration": 8,
    "start_time": "2022-03-29T18:45:25.583Z"
   },
   {
    "duration": 7,
    "start_time": "2022-03-29T18:45:25.644Z"
   },
   {
    "duration": 14,
    "start_time": "2022-03-29T18:45:25.654Z"
   },
   {
    "duration": 13,
    "start_time": "2022-03-29T18:45:25.671Z"
   },
   {
    "duration": 13,
    "start_time": "2022-03-29T18:45:25.686Z"
   },
   {
    "duration": 394,
    "start_time": "2022-03-29T18:45:25.701Z"
   },
   {
    "duration": 9,
    "start_time": "2022-03-29T18:45:26.097Z"
   },
   {
    "duration": 40,
    "start_time": "2022-03-29T18:45:26.108Z"
   },
   {
    "duration": 780,
    "start_time": "2022-03-29T18:45:26.150Z"
   },
   {
    "duration": 4,
    "start_time": "2022-03-29T18:45:26.933Z"
   },
   {
    "duration": 4,
    "start_time": "2022-03-29T18:45:26.943Z"
   },
   {
    "duration": 5,
    "start_time": "2022-03-29T18:45:26.949Z"
   },
   {
    "duration": 22,
    "start_time": "2022-03-29T18:45:26.956Z"
   },
   {
    "duration": 24,
    "start_time": "2022-03-29T18:45:26.980Z"
   },
   {
    "duration": 38,
    "start_time": "2022-03-29T18:45:27.006Z"
   },
   {
    "duration": 1096,
    "start_time": "2022-03-29T18:45:27.046Z"
   },
   {
    "duration": 4,
    "start_time": "2022-03-29T18:45:28.145Z"
   },
   {
    "duration": 280,
    "start_time": "2022-03-29T18:45:28.152Z"
   },
   {
    "duration": 9,
    "start_time": "2022-03-29T18:45:28.434Z"
   },
   {
    "duration": 36,
    "start_time": "2022-03-29T18:45:28.445Z"
   },
   {
    "duration": 13,
    "start_time": "2022-03-29T18:45:28.483Z"
   },
   {
    "duration": 49,
    "start_time": "2022-03-29T18:45:28.498Z"
   },
   {
    "duration": 33,
    "start_time": "2022-03-29T18:45:28.549Z"
   },
   {
    "duration": 1031,
    "start_time": "2022-03-29T18:45:28.585Z"
   },
   {
    "duration": 272,
    "start_time": "2022-03-29T18:45:29.619Z"
   },
   {
    "duration": 5,
    "start_time": "2022-03-29T18:45:29.894Z"
   },
   {
    "duration": 6,
    "start_time": "2022-03-29T18:45:29.901Z"
   },
   {
    "duration": 6,
    "start_time": "2022-03-29T18:45:29.909Z"
   },
   {
    "duration": 29,
    "start_time": "2022-03-29T18:45:29.917Z"
   },
   {
    "duration": 12,
    "start_time": "2022-03-29T18:45:29.948Z"
   },
   {
    "duration": 8,
    "start_time": "2022-03-29T18:45:29.962Z"
   },
   {
    "duration": 8,
    "start_time": "2022-03-29T18:45:29.972Z"
   },
   {
    "duration": 13,
    "start_time": "2022-03-29T18:45:29.981Z"
   },
   {
    "duration": 46,
    "start_time": "2022-03-29T18:45:29.997Z"
   },
   {
    "duration": 5,
    "start_time": "2022-03-29T18:45:30.045Z"
   },
   {
    "duration": 13,
    "start_time": "2022-03-29T18:45:30.052Z"
   },
   {
    "duration": 9,
    "start_time": "2022-03-29T18:45:30.067Z"
   },
   {
    "duration": 155,
    "start_time": "2022-03-29T18:45:30.078Z"
   },
   {
    "duration": 7,
    "start_time": "2022-03-29T18:45:30.235Z"
   },
   {
    "duration": 6,
    "start_time": "2022-03-29T18:45:33.352Z"
   },
   {
    "duration": 4,
    "start_time": "2022-03-29T18:45:36.158Z"
   },
   {
    "duration": 86471,
    "start_time": "2022-03-29T18:46:34.934Z"
   },
   {
    "duration": 5,
    "start_time": "2022-03-29T18:49:16.498Z"
   },
   {
    "duration": 7,
    "start_time": "2022-03-29T18:49:30.013Z"
   },
   {
    "duration": 4,
    "start_time": "2022-03-29T18:49:44.674Z"
   },
   {
    "duration": 6,
    "start_time": "2022-03-29T18:49:47.437Z"
   },
   {
    "duration": 5,
    "start_time": "2022-03-29T18:50:18.977Z"
   },
   {
    "duration": 5,
    "start_time": "2022-03-29T18:50:28.607Z"
   },
   {
    "duration": 5,
    "start_time": "2022-03-29T18:50:37.971Z"
   },
   {
    "duration": 157,
    "start_time": "2022-03-29T18:53:52.132Z"
   },
   {
    "duration": 6,
    "start_time": "2022-03-29T18:54:17.860Z"
   },
   {
    "duration": 5,
    "start_time": "2022-03-29T18:55:03.341Z"
   },
   {
    "duration": 29,
    "start_time": "2022-03-29T19:05:11.822Z"
   },
   {
    "duration": 12,
    "start_time": "2022-03-29T19:05:12.616Z"
   },
   {
    "duration": 16,
    "start_time": "2022-03-29T19:05:25.002Z"
   },
   {
    "duration": 13,
    "start_time": "2022-03-29T19:06:15.275Z"
   },
   {
    "duration": 29,
    "start_time": "2022-03-29T19:06:23.975Z"
   },
   {
    "duration": 14,
    "start_time": "2022-03-29T19:06:24.824Z"
   },
   {
    "duration": 3845,
    "start_time": "2022-03-29T19:08:36.360Z"
   },
   {
    "duration": 38,
    "start_time": "2022-03-29T19:09:40.138Z"
   },
   {
    "duration": 46,
    "start_time": "2022-03-29T20:09:41.142Z"
   },
   {
    "duration": 1593,
    "start_time": "2022-03-29T20:09:48.855Z"
   },
   {
    "duration": 603,
    "start_time": "2022-03-29T20:09:50.450Z"
   },
   {
    "duration": 19,
    "start_time": "2022-03-29T20:09:51.054Z"
   },
   {
    "duration": 10,
    "start_time": "2022-03-29T20:09:51.075Z"
   },
   {
    "duration": 14,
    "start_time": "2022-03-29T20:09:51.087Z"
   },
   {
    "duration": 21,
    "start_time": "2022-03-29T20:09:51.102Z"
   },
   {
    "duration": 47,
    "start_time": "2022-03-29T20:09:51.124Z"
   },
   {
    "duration": 17,
    "start_time": "2022-03-29T20:09:51.173Z"
   },
   {
    "duration": 2,
    "start_time": "2022-03-29T20:09:51.192Z"
   },
   {
    "duration": 9,
    "start_time": "2022-03-29T20:09:51.196Z"
   },
   {
    "duration": 7,
    "start_time": "2022-03-29T20:09:51.206Z"
   },
   {
    "duration": 5,
    "start_time": "2022-03-29T20:09:51.215Z"
   },
   {
    "duration": 9,
    "start_time": "2022-03-29T20:09:51.221Z"
   },
   {
    "duration": 32,
    "start_time": "2022-03-29T20:09:51.232Z"
   },
   {
    "duration": 6,
    "start_time": "2022-03-29T20:09:51.266Z"
   },
   {
    "duration": 5,
    "start_time": "2022-03-29T20:09:51.273Z"
   },
   {
    "duration": 10,
    "start_time": "2022-03-29T20:09:51.279Z"
   },
   {
    "duration": 10,
    "start_time": "2022-03-29T20:09:51.290Z"
   },
   {
    "duration": 12,
    "start_time": "2022-03-29T20:09:51.301Z"
   },
   {
    "duration": 128,
    "start_time": "2022-03-29T20:09:51.315Z"
   },
   {
    "duration": 31,
    "start_time": "2022-03-29T20:09:51.444Z"
   },
   {
    "duration": 92,
    "start_time": "2022-03-29T20:09:56.407Z"
   },
   {
    "duration": 5,
    "start_time": "2022-03-29T20:09:58.263Z"
   },
   {
    "duration": 5,
    "start_time": "2022-03-29T20:10:33.689Z"
   },
   {
    "duration": 5,
    "start_time": "2022-03-29T20:10:38.185Z"
   },
   {
    "duration": 27,
    "start_time": "2022-03-29T20:11:39.825Z"
   },
   {
    "duration": 8,
    "start_time": "2022-03-29T20:11:56.250Z"
   },
   {
    "duration": 72,
    "start_time": "2022-03-29T20:12:19.573Z"
   },
   {
    "duration": 4,
    "start_time": "2022-03-29T20:12:29.946Z"
   },
   {
    "duration": 619,
    "start_time": "2022-03-29T20:12:29.952Z"
   },
   {
    "duration": 15,
    "start_time": "2022-03-29T20:12:30.573Z"
   },
   {
    "duration": 11,
    "start_time": "2022-03-29T20:12:30.590Z"
   },
   {
    "duration": 16,
    "start_time": "2022-03-29T20:12:30.604Z"
   },
   {
    "duration": 42,
    "start_time": "2022-03-29T20:12:30.622Z"
   },
   {
    "duration": 28,
    "start_time": "2022-03-29T20:12:30.666Z"
   },
   {
    "duration": 23,
    "start_time": "2022-03-29T20:12:30.697Z"
   },
   {
    "duration": 10,
    "start_time": "2022-03-29T20:12:30.721Z"
   },
   {
    "duration": 22,
    "start_time": "2022-03-29T20:12:30.732Z"
   },
   {
    "duration": 27,
    "start_time": "2022-03-29T20:12:30.756Z"
   },
   {
    "duration": 16,
    "start_time": "2022-03-29T20:12:30.784Z"
   },
   {
    "duration": 31,
    "start_time": "2022-03-29T20:12:30.802Z"
   },
   {
    "duration": 9,
    "start_time": "2022-03-29T20:12:30.836Z"
   },
   {
    "duration": 17,
    "start_time": "2022-03-29T20:12:30.847Z"
   },
   {
    "duration": 18,
    "start_time": "2022-03-29T20:12:30.866Z"
   },
   {
    "duration": 17,
    "start_time": "2022-03-29T20:12:30.885Z"
   },
   {
    "duration": 12,
    "start_time": "2022-03-29T20:12:30.903Z"
   },
   {
    "duration": 21,
    "start_time": "2022-03-29T20:12:30.917Z"
   },
   {
    "duration": 133,
    "start_time": "2022-03-29T20:12:30.940Z"
   },
   {
    "duration": 24,
    "start_time": "2022-03-29T20:12:31.075Z"
   },
   {
    "duration": 112,
    "start_time": "2022-03-29T20:12:31.101Z"
   },
   {
    "duration": 6,
    "start_time": "2022-03-29T20:12:31.214Z"
   },
   {
    "duration": 17,
    "start_time": "2022-03-29T20:12:31.222Z"
   },
   {
    "duration": 11,
    "start_time": "2022-03-29T20:12:31.241Z"
   },
   {
    "duration": 16,
    "start_time": "2022-03-29T20:12:33.846Z"
   },
   {
    "duration": 4,
    "start_time": "2022-03-29T20:12:44.841Z"
   },
   {
    "duration": 4,
    "start_time": "2022-03-29T20:12:45.647Z"
   },
   {
    "duration": 4,
    "start_time": "2022-03-29T20:12:46.239Z"
   },
   {
    "duration": 5,
    "start_time": "2022-03-29T20:12:46.921Z"
   },
   {
    "duration": 4,
    "start_time": "2022-03-29T20:12:49.062Z"
   },
   {
    "duration": 13,
    "start_time": "2022-03-29T20:12:50.990Z"
   },
   {
    "duration": 7,
    "start_time": "2022-03-29T20:12:52.779Z"
   },
   {
    "duration": 15,
    "start_time": "2022-03-29T20:12:53.252Z"
   },
   {
    "duration": 6,
    "start_time": "2022-03-29T20:12:57.645Z"
   },
   {
    "duration": 12,
    "start_time": "2022-03-29T20:13:00.001Z"
   },
   {
    "duration": 6,
    "start_time": "2022-03-29T20:13:00.730Z"
   },
   {
    "duration": 4,
    "start_time": "2022-03-29T20:13:01.757Z"
   },
   {
    "duration": 4,
    "start_time": "2022-03-29T20:13:02.263Z"
   },
   {
    "duration": 4,
    "start_time": "2022-03-29T20:13:04.000Z"
   },
   {
    "duration": 4,
    "start_time": "2022-03-29T20:13:04.529Z"
   },
   {
    "duration": 2,
    "start_time": "2022-03-29T20:13:06.826Z"
   },
   {
    "duration": 4,
    "start_time": "2022-03-29T20:13:08.104Z"
   },
   {
    "duration": 7,
    "start_time": "2022-03-29T20:13:09.247Z"
   },
   {
    "duration": 9,
    "start_time": "2022-03-29T20:13:10.322Z"
   },
   {
    "duration": 9,
    "start_time": "2022-03-29T20:13:11.253Z"
   },
   {
    "duration": 195,
    "start_time": "2022-03-29T20:13:15.257Z"
   },
   {
    "duration": 9,
    "start_time": "2022-03-29T20:13:24.091Z"
   },
   {
    "duration": 15,
    "start_time": "2022-03-29T20:13:24.721Z"
   },
   {
    "duration": 600,
    "start_time": "2022-03-29T20:13:27.827Z"
   },
   {
    "duration": 3,
    "start_time": "2022-03-29T20:13:32.309Z"
   },
   {
    "duration": 3,
    "start_time": "2022-03-29T20:13:35.666Z"
   },
   {
    "duration": 3,
    "start_time": "2022-03-29T20:13:36.415Z"
   },
   {
    "duration": 105,
    "start_time": "2022-03-29T20:13:37.072Z"
   },
   {
    "duration": 16,
    "start_time": "2022-03-29T20:13:42.748Z"
   },
   {
    "duration": 3,
    "start_time": "2022-03-29T20:13:47.431Z"
   },
   {
    "duration": 686,
    "start_time": "2022-03-29T20:13:48.455Z"
   },
   {
    "duration": 3,
    "start_time": "2022-03-29T20:13:49.435Z"
   },
   {
    "duration": 138,
    "start_time": "2022-03-29T20:14:00.547Z"
   },
   {
    "duration": 4,
    "start_time": "2022-03-29T20:14:04.598Z"
   },
   {
    "duration": 21,
    "start_time": "2022-03-29T20:14:06.727Z"
   },
   {
    "duration": 8,
    "start_time": "2022-03-29T20:14:09.079Z"
   },
   {
    "duration": 9,
    "start_time": "2022-03-29T20:14:11.679Z"
   },
   {
    "duration": 44,
    "start_time": "2022-03-29T20:14:13.917Z"
   },
   {
    "duration": 2011,
    "start_time": "2022-03-29T20:15:13.998Z"
   },
   {
    "duration": 4,
    "start_time": "2022-03-29T20:15:19.373Z"
   },
   {
    "duration": 625,
    "start_time": "2022-03-29T20:15:19.379Z"
   },
   {
    "duration": 17,
    "start_time": "2022-03-29T20:15:20.006Z"
   },
   {
    "duration": 13,
    "start_time": "2022-03-29T20:15:20.025Z"
   },
   {
    "duration": 39,
    "start_time": "2022-03-29T20:15:20.039Z"
   },
   {
    "duration": 20,
    "start_time": "2022-03-29T20:15:20.080Z"
   },
   {
    "duration": 27,
    "start_time": "2022-03-29T20:15:20.102Z"
   },
   {
    "duration": 46,
    "start_time": "2022-03-29T20:15:20.131Z"
   },
   {
    "duration": 3,
    "start_time": "2022-03-29T20:15:20.178Z"
   },
   {
    "duration": 10,
    "start_time": "2022-03-29T20:15:20.185Z"
   },
   {
    "duration": 10,
    "start_time": "2022-03-29T20:15:20.197Z"
   },
   {
    "duration": 7,
    "start_time": "2022-03-29T20:15:20.209Z"
   },
   {
    "duration": 11,
    "start_time": "2022-03-29T20:15:20.218Z"
   },
   {
    "duration": 33,
    "start_time": "2022-03-29T20:15:20.231Z"
   },
   {
    "duration": 4,
    "start_time": "2022-03-29T20:15:20.266Z"
   },
   {
    "duration": 5,
    "start_time": "2022-03-29T20:15:20.271Z"
   },
   {
    "duration": 9,
    "start_time": "2022-03-29T20:15:20.278Z"
   },
   {
    "duration": 6,
    "start_time": "2022-03-29T20:15:20.288Z"
   },
   {
    "duration": 23,
    "start_time": "2022-03-29T20:15:20.295Z"
   },
   {
    "duration": 185,
    "start_time": "2022-03-29T20:15:20.320Z"
   },
   {
    "duration": 23,
    "start_time": "2022-03-29T20:15:20.507Z"
   },
   {
    "duration": 104,
    "start_time": "2022-03-29T20:15:20.531Z"
   },
   {
    "duration": 6,
    "start_time": "2022-03-29T20:15:20.637Z"
   },
   {
    "duration": 19,
    "start_time": "2022-03-29T20:15:20.645Z"
   },
   {
    "duration": 6,
    "start_time": "2022-03-29T20:15:20.665Z"
   },
   {
    "duration": 5,
    "start_time": "2022-03-29T20:15:24.954Z"
   },
   {
    "duration": 4,
    "start_time": "2022-03-29T20:15:25.741Z"
   },
   {
    "duration": 3,
    "start_time": "2022-03-29T20:16:54.618Z"
   },
   {
    "duration": 5,
    "start_time": "2022-03-29T20:17:57.083Z"
   },
   {
    "duration": 9,
    "start_time": "2022-03-29T20:18:46.488Z"
   },
   {
    "duration": 3,
    "start_time": "2022-03-29T20:18:50.391Z"
   },
   {
    "duration": 10,
    "start_time": "2022-03-29T20:18:51.207Z"
   },
   {
    "duration": 5,
    "start_time": "2022-03-29T20:19:06.837Z"
   },
   {
    "duration": 15,
    "start_time": "2022-03-29T20:19:17.483Z"
   },
   {
    "duration": 3,
    "start_time": "2022-03-29T20:19:18.855Z"
   },
   {
    "duration": 4,
    "start_time": "2022-03-29T20:19:20.590Z"
   },
   {
    "duration": 4,
    "start_time": "2022-03-29T20:19:21.008Z"
   },
   {
    "duration": 4,
    "start_time": "2022-03-29T20:19:21.560Z"
   },
   {
    "duration": 4,
    "start_time": "2022-03-29T20:19:22.082Z"
   },
   {
    "duration": 10,
    "start_time": "2022-03-29T20:19:24.156Z"
   },
   {
    "duration": 7,
    "start_time": "2022-03-29T20:19:24.476Z"
   },
   {
    "duration": 14,
    "start_time": "2022-03-29T20:19:27.629Z"
   },
   {
    "duration": 4,
    "start_time": "2022-03-29T20:19:28.225Z"
   },
   {
    "duration": 9,
    "start_time": "2022-03-29T20:19:28.664Z"
   },
   {
    "duration": 5,
    "start_time": "2022-03-29T20:19:29.047Z"
   },
   {
    "duration": 3,
    "start_time": "2022-03-29T20:19:29.581Z"
   },
   {
    "duration": 4,
    "start_time": "2022-03-29T20:19:29.787Z"
   },
   {
    "duration": 4,
    "start_time": "2022-03-29T20:19:30.001Z"
   },
   {
    "duration": 4,
    "start_time": "2022-03-29T20:19:30.745Z"
   },
   {
    "duration": 3,
    "start_time": "2022-03-29T20:19:32.711Z"
   },
   {
    "duration": 4,
    "start_time": "2022-03-29T20:19:33.447Z"
   },
   {
    "duration": 8,
    "start_time": "2022-03-29T20:19:34.295Z"
   },
   {
    "duration": 10,
    "start_time": "2022-03-29T20:19:35.167Z"
   },
   {
    "duration": 8,
    "start_time": "2022-03-29T20:19:35.903Z"
   },
   {
    "duration": 185,
    "start_time": "2022-03-29T20:19:36.915Z"
   },
   {
    "duration": 9,
    "start_time": "2022-03-29T20:19:39.348Z"
   },
   {
    "duration": 14,
    "start_time": "2022-03-29T20:19:39.795Z"
   },
   {
    "duration": 636,
    "start_time": "2022-03-29T20:19:40.809Z"
   },
   {
    "duration": 2,
    "start_time": "2022-03-29T20:19:43.447Z"
   },
   {
    "duration": 3,
    "start_time": "2022-03-29T20:19:44.516Z"
   },
   {
    "duration": 3,
    "start_time": "2022-03-29T20:19:45.939Z"
   },
   {
    "duration": 127,
    "start_time": "2022-03-29T20:19:46.984Z"
   },
   {
    "duration": 17,
    "start_time": "2022-03-29T20:19:52.320Z"
   },
   {
    "duration": 3,
    "start_time": "2022-03-29T20:19:55.175Z"
   },
   {
    "duration": 529,
    "start_time": "2022-03-29T20:19:57.490Z"
   },
   {
    "duration": 4,
    "start_time": "2022-03-29T20:20:00.778Z"
   },
   {
    "duration": 146,
    "start_time": "2022-03-29T20:20:01.748Z"
   },
   {
    "duration": 3,
    "start_time": "2022-03-29T20:20:04.536Z"
   },
   {
    "duration": 21,
    "start_time": "2022-03-29T20:20:06.968Z"
   },
   {
    "duration": 8,
    "start_time": "2022-03-29T20:20:07.676Z"
   },
   {
    "duration": 8,
    "start_time": "2022-03-29T20:20:10.374Z"
   },
   {
    "duration": 43,
    "start_time": "2022-03-29T20:20:12.282Z"
   },
   {
    "duration": 627,
    "start_time": "2022-03-29T20:20:15.092Z"
   },
   {
    "duration": 139,
    "start_time": "2022-03-29T20:20:18.202Z"
   },
   {
    "duration": 5,
    "start_time": "2022-03-29T20:20:23.000Z"
   },
   {
    "duration": 2,
    "start_time": "2022-03-29T20:20:28.204Z"
   },
   {
    "duration": 2,
    "start_time": "2022-03-29T20:20:29.903Z"
   },
   {
    "duration": 2,
    "start_time": "2022-03-29T20:20:30.224Z"
   },
   {
    "duration": 6,
    "start_time": "2022-03-29T20:20:41.724Z"
   },
   {
    "duration": 4,
    "start_time": "2022-03-29T20:20:50.454Z"
   },
   {
    "duration": 24,
    "start_time": "2022-03-29T20:20:52.364Z"
   },
   {
    "duration": 21,
    "start_time": "2022-03-29T20:24:32.886Z"
   },
   {
    "duration": 47,
    "start_time": "2022-03-29T20:25:26.698Z"
   },
   {
    "duration": 32,
    "start_time": "2022-03-29T20:26:12.931Z"
   },
   {
    "duration": 36,
    "start_time": "2022-03-29T20:26:40.491Z"
   },
   {
    "duration": 32,
    "start_time": "2022-03-29T20:26:55.140Z"
   },
   {
    "duration": 35,
    "start_time": "2022-03-29T20:27:10.349Z"
   },
   {
    "duration": 9,
    "start_time": "2022-03-29T20:27:22.381Z"
   },
   {
    "duration": 3,
    "start_time": "2022-03-29T20:27:25.664Z"
   },
   {
    "duration": 3,
    "start_time": "2022-03-29T20:27:26.318Z"
   },
   {
    "duration": 4,
    "start_time": "2022-03-29T20:27:27.117Z"
   },
   {
    "duration": 3,
    "start_time": "2022-03-29T20:27:30.010Z"
   },
   {
    "duration": 25,
    "start_time": "2022-03-29T20:27:31.401Z"
   },
   {
    "duration": 4,
    "start_time": "2022-03-29T20:27:34.345Z"
   },
   {
    "duration": 3,
    "start_time": "2022-03-29T20:27:39.519Z"
   },
   {
    "duration": 3,
    "start_time": "2022-03-29T20:27:41.589Z"
   },
   {
    "duration": 123483,
    "start_time": "2022-03-29T20:27:44.313Z"
   },
   {
    "duration": 3,
    "start_time": "2022-03-29T20:29:47.797Z"
   },
   {
    "duration": 7,
    "start_time": "2022-03-29T20:29:47.801Z"
   },
   {
    "duration": 3,
    "start_time": "2022-03-29T20:29:53.480Z"
   },
   {
    "duration": 4,
    "start_time": "2022-03-29T20:29:54.735Z"
   },
   {
    "duration": 4,
    "start_time": "2022-03-29T20:29:55.577Z"
   },
   {
    "duration": 4,
    "start_time": "2022-03-29T20:30:01.223Z"
   },
   {
    "duration": 4,
    "start_time": "2022-03-29T20:30:02.077Z"
   },
   {
    "duration": 35,
    "start_time": "2022-03-29T20:30:05.899Z"
   },
   {
    "duration": 18,
    "start_time": "2022-03-29T20:30:08.402Z"
   },
   {
    "duration": 10,
    "start_time": "2022-03-29T20:30:09.503Z"
   },
   {
    "duration": 17,
    "start_time": "2022-03-29T20:32:36.036Z"
   },
   {
    "duration": 17,
    "start_time": "2022-03-29T20:33:02.218Z"
   },
   {
    "duration": 6,
    "start_time": "2022-03-29T20:33:23.437Z"
   },
   {
    "duration": 7,
    "start_time": "2022-03-29T20:33:48.167Z"
   },
   {
    "duration": 6,
    "start_time": "2022-03-29T20:34:08.193Z"
   },
   {
    "duration": 4,
    "start_time": "2022-03-29T20:34:22.525Z"
   },
   {
    "duration": 9,
    "start_time": "2022-03-29T20:34:35.461Z"
   },
   {
    "duration": 9,
    "start_time": "2022-03-29T20:34:44.676Z"
   },
   {
    "duration": 4,
    "start_time": "2022-03-29T20:35:01.146Z"
   },
   {
    "duration": 9,
    "start_time": "2022-03-29T20:35:10.560Z"
   },
   {
    "duration": 9,
    "start_time": "2022-03-29T20:35:17.600Z"
   },
   {
    "duration": 3,
    "start_time": "2022-03-29T20:35:29.922Z"
   },
   {
    "duration": 4,
    "start_time": "2022-03-29T20:36:13.030Z"
   },
   {
    "duration": 4,
    "start_time": "2022-03-29T20:36:23.241Z"
   },
   {
    "duration": 4,
    "start_time": "2022-03-29T20:36:28.315Z"
   },
   {
    "duration": 9,
    "start_time": "2022-03-29T20:37:39.148Z"
   },
   {
    "duration": 9,
    "start_time": "2022-03-29T20:37:47.404Z"
   },
   {
    "duration": 14,
    "start_time": "2022-03-29T20:37:56.551Z"
   },
   {
    "duration": 13,
    "start_time": "2022-03-29T20:38:11.654Z"
   },
   {
    "duration": 2,
    "start_time": "2022-03-29T20:40:26.890Z"
   },
   {
    "duration": 3,
    "start_time": "2022-03-29T20:40:30.540Z"
   },
   {
    "duration": 3,
    "start_time": "2022-03-29T20:41:19.620Z"
   },
   {
    "duration": 4,
    "start_time": "2022-03-29T20:41:53.315Z"
   },
   {
    "duration": 3,
    "start_time": "2022-03-29T20:42:08.737Z"
   },
   {
    "duration": 2,
    "start_time": "2022-03-29T20:42:11.960Z"
   },
   {
    "duration": 2,
    "start_time": "2022-03-29T20:42:12.703Z"
   },
   {
    "duration": 8,
    "start_time": "2022-03-29T20:42:15.369Z"
   },
   {
    "duration": 3,
    "start_time": "2022-03-29T20:42:19.967Z"
   },
   {
    "duration": 36,
    "start_time": "2022-03-29T20:42:21.987Z"
   },
   {
    "duration": 1730,
    "start_time": "2022-03-29T20:42:30.478Z"
   },
   {
    "duration": 1525,
    "start_time": "2022-03-29T20:42:40.040Z"
   },
   {
    "duration": 579,
    "start_time": "2022-03-29T20:42:41.567Z"
   },
   {
    "duration": 18,
    "start_time": "2022-03-29T20:42:42.148Z"
   },
   {
    "duration": 12,
    "start_time": "2022-03-29T20:42:42.168Z"
   },
   {
    "duration": 16,
    "start_time": "2022-03-29T20:42:42.181Z"
   },
   {
    "duration": 20,
    "start_time": "2022-03-29T20:42:42.199Z"
   },
   {
    "duration": 49,
    "start_time": "2022-03-29T20:42:42.221Z"
   },
   {
    "duration": 18,
    "start_time": "2022-03-29T20:42:42.272Z"
   },
   {
    "duration": 3,
    "start_time": "2022-03-29T20:42:42.292Z"
   },
   {
    "duration": 9,
    "start_time": "2022-03-29T20:42:42.298Z"
   },
   {
    "duration": 8,
    "start_time": "2022-03-29T20:42:42.309Z"
   },
   {
    "duration": 5,
    "start_time": "2022-03-29T20:42:42.319Z"
   },
   {
    "duration": 39,
    "start_time": "2022-03-29T20:42:42.325Z"
   },
   {
    "duration": 6,
    "start_time": "2022-03-29T20:42:42.365Z"
   },
   {
    "duration": 5,
    "start_time": "2022-03-29T20:42:42.373Z"
   },
   {
    "duration": 5,
    "start_time": "2022-03-29T20:42:42.379Z"
   },
   {
    "duration": 6,
    "start_time": "2022-03-29T20:42:42.386Z"
   },
   {
    "duration": 6,
    "start_time": "2022-03-29T20:42:42.393Z"
   },
   {
    "duration": 12,
    "start_time": "2022-03-29T20:42:42.401Z"
   },
   {
    "duration": 149,
    "start_time": "2022-03-29T20:42:42.414Z"
   },
   {
    "duration": 22,
    "start_time": "2022-03-29T20:42:42.565Z"
   },
   {
    "duration": 111,
    "start_time": "2022-03-29T20:42:42.588Z"
   },
   {
    "duration": 3,
    "start_time": "2022-03-29T20:42:42.701Z"
   },
   {
    "duration": 7,
    "start_time": "2022-03-29T20:42:42.705Z"
   },
   {
    "duration": 3,
    "start_time": "2022-03-29T20:42:42.714Z"
   },
   {
    "duration": 6,
    "start_time": "2022-03-29T20:42:42.718Z"
   },
   {
    "duration": 41,
    "start_time": "2022-03-29T20:42:42.725Z"
   },
   {
    "duration": 4,
    "start_time": "2022-03-29T20:42:42.771Z"
   },
   {
    "duration": 5,
    "start_time": "2022-03-29T20:42:42.777Z"
   },
   {
    "duration": 8,
    "start_time": "2022-03-29T20:42:42.783Z"
   },
   {
    "duration": 7,
    "start_time": "2022-03-29T20:42:42.792Z"
   },
   {
    "duration": 6,
    "start_time": "2022-03-29T20:42:42.800Z"
   },
   {
    "duration": 12,
    "start_time": "2022-03-29T20:42:42.808Z"
   },
   {
    "duration": 6,
    "start_time": "2022-03-29T20:42:42.822Z"
   },
   {
    "duration": 55,
    "start_time": "2022-03-29T20:42:42.829Z"
   },
   {
    "duration": 6,
    "start_time": "2022-03-29T20:42:42.886Z"
   },
   {
    "duration": 11,
    "start_time": "2022-03-29T20:42:42.893Z"
   },
   {
    "duration": 5,
    "start_time": "2022-03-29T20:42:42.905Z"
   },
   {
    "duration": 6,
    "start_time": "2022-03-29T20:42:42.912Z"
   },
   {
    "duration": 12,
    "start_time": "2022-03-29T20:42:42.920Z"
   },
   {
    "duration": 7,
    "start_time": "2022-03-29T20:42:42.933Z"
   },
   {
    "duration": 6,
    "start_time": "2022-03-29T20:42:42.941Z"
   },
   {
    "duration": 15,
    "start_time": "2022-03-29T20:42:42.948Z"
   },
   {
    "duration": 8,
    "start_time": "2022-03-29T20:42:42.964Z"
   },
   {
    "duration": 10,
    "start_time": "2022-03-29T20:42:42.973Z"
   },
   {
    "duration": 8,
    "start_time": "2022-03-29T20:42:42.984Z"
   },
   {
    "duration": 7,
    "start_time": "2022-03-29T20:42:42.993Z"
   },
   {
    "duration": 197,
    "start_time": "2022-03-29T20:42:43.002Z"
   },
   {
    "duration": 7,
    "start_time": "2022-03-29T20:42:43.201Z"
   },
   {
    "duration": 12,
    "start_time": "2022-03-29T20:42:43.210Z"
   },
   {
    "duration": 596,
    "start_time": "2022-03-29T20:42:43.224Z"
   },
   {
    "duration": 2,
    "start_time": "2022-03-29T20:42:43.822Z"
   },
   {
    "duration": 6,
    "start_time": "2022-03-29T20:42:43.826Z"
   },
   {
    "duration": 4,
    "start_time": "2022-03-29T20:42:43.833Z"
   },
   {
    "duration": 119,
    "start_time": "2022-03-29T20:42:43.839Z"
   },
   {
    "duration": 16,
    "start_time": "2022-03-29T20:42:43.959Z"
   },
   {
    "duration": 3,
    "start_time": "2022-03-29T20:42:43.976Z"
   },
   {
    "duration": 563,
    "start_time": "2022-03-29T20:42:43.980Z"
   },
   {
    "duration": 3,
    "start_time": "2022-03-29T20:42:44.545Z"
   },
   {
    "duration": 154,
    "start_time": "2022-03-29T20:42:44.550Z"
   },
   {
    "duration": 3,
    "start_time": "2022-03-29T20:42:44.706Z"
   },
   {
    "duration": 25,
    "start_time": "2022-03-29T20:42:44.710Z"
   },
   {
    "duration": 7,
    "start_time": "2022-03-29T20:42:44.736Z"
   },
   {
    "duration": 25,
    "start_time": "2022-03-29T20:42:44.744Z"
   },
   {
    "duration": 44,
    "start_time": "2022-03-29T20:42:44.770Z"
   },
   {
    "duration": 658,
    "start_time": "2022-03-29T20:42:44.816Z"
   },
   {
    "duration": 155,
    "start_time": "2022-03-29T20:42:45.476Z"
   },
   {
    "duration": 4,
    "start_time": "2022-03-29T20:42:45.633Z"
   },
   {
    "duration": 6,
    "start_time": "2022-03-29T20:42:45.641Z"
   },
   {
    "duration": 14,
    "start_time": "2022-03-29T20:42:45.649Z"
   },
   {
    "duration": 3,
    "start_time": "2022-03-29T20:42:45.664Z"
   },
   {
    "duration": 4,
    "start_time": "2022-03-29T20:42:45.668Z"
   },
   {
    "duration": 10,
    "start_time": "2022-03-29T20:42:45.673Z"
   },
   {
    "duration": 4,
    "start_time": "2022-03-29T20:42:45.684Z"
   },
   {
    "duration": 32,
    "start_time": "2022-03-29T20:42:45.689Z"
   },
   {
    "duration": 8,
    "start_time": "2022-03-29T20:42:48.319Z"
   },
   {
    "duration": 3,
    "start_time": "2022-03-29T20:42:49.901Z"
   },
   {
    "duration": 4,
    "start_time": "2022-03-29T20:42:50.580Z"
   },
   {
    "duration": 3,
    "start_time": "2022-03-29T20:42:51.140Z"
   },
   {
    "duration": 3,
    "start_time": "2022-03-29T20:42:59.701Z"
   },
   {
    "duration": 3,
    "start_time": "2022-03-29T20:43:07.585Z"
   },
   {
    "duration": 3,
    "start_time": "2022-03-29T20:43:12.781Z"
   },
   {
    "duration": 3,
    "start_time": "2022-03-29T20:43:16.373Z"
   },
   {
    "duration": 25,
    "start_time": "2022-03-29T20:43:17.393Z"
   },
   {
    "duration": 3,
    "start_time": "2022-03-29T20:43:24.436Z"
   },
   {
    "duration": 3,
    "start_time": "2022-03-29T20:43:29.324Z"
   },
   {
    "duration": 3,
    "start_time": "2022-03-29T20:43:30.980Z"
   },
   {
    "duration": 18956,
    "start_time": "2022-03-29T20:43:32.124Z"
   },
   {
    "duration": 2,
    "start_time": "2022-03-29T20:43:51.082Z"
   },
   {
    "duration": 9,
    "start_time": "2022-03-29T20:43:51.086Z"
   },
   {
    "duration": 3,
    "start_time": "2022-03-29T20:44:00.047Z"
   },
   {
    "duration": 3,
    "start_time": "2022-03-29T20:44:03.797Z"
   },
   {
    "duration": 3,
    "start_time": "2022-03-29T20:44:04.684Z"
   },
   {
    "duration": 4,
    "start_time": "2022-03-29T20:44:12.202Z"
   },
   {
    "duration": 3,
    "start_time": "2022-03-29T20:44:13.036Z"
   },
   {
    "duration": 9,
    "start_time": "2022-03-29T20:44:30.438Z"
   },
   {
    "duration": 7,
    "start_time": "2022-03-29T20:44:31.816Z"
   },
   {
    "duration": 3,
    "start_time": "2022-03-29T20:44:33.859Z"
   },
   {
    "duration": 2,
    "start_time": "2022-03-29T20:44:34.678Z"
   },
   {
    "duration": 126,
    "start_time": "2022-03-29T20:44:36.769Z"
   },
   {
    "duration": 5,
    "start_time": "2022-03-29T20:44:45.690Z"
   },
   {
    "duration": 3,
    "start_time": "2022-03-29T20:52:39.921Z"
   },
   {
    "duration": 3,
    "start_time": "2022-03-29T20:52:42.973Z"
   },
   {
    "duration": 3,
    "start_time": "2022-03-29T20:52:43.434Z"
   },
   {
    "duration": 1473,
    "start_time": "2022-03-29T20:52:57.004Z"
   },
   {
    "duration": 591,
    "start_time": "2022-03-29T20:52:58.479Z"
   },
   {
    "duration": 17,
    "start_time": "2022-03-29T20:52:59.072Z"
   },
   {
    "duration": 11,
    "start_time": "2022-03-29T20:52:59.091Z"
   },
   {
    "duration": 15,
    "start_time": "2022-03-29T20:52:59.103Z"
   },
   {
    "duration": 45,
    "start_time": "2022-03-29T20:52:59.119Z"
   },
   {
    "duration": 20,
    "start_time": "2022-03-29T20:52:59.165Z"
   },
   {
    "duration": 19,
    "start_time": "2022-03-29T20:52:59.187Z"
   },
   {
    "duration": 3,
    "start_time": "2022-03-29T20:52:59.208Z"
   },
   {
    "duration": 9,
    "start_time": "2022-03-29T20:52:59.213Z"
   },
   {
    "duration": 7,
    "start_time": "2022-03-29T20:52:59.224Z"
   },
   {
    "duration": 30,
    "start_time": "2022-03-29T20:52:59.233Z"
   },
   {
    "duration": 11,
    "start_time": "2022-03-29T20:52:59.265Z"
   },
   {
    "duration": 5,
    "start_time": "2022-03-29T20:52:59.277Z"
   },
   {
    "duration": 4,
    "start_time": "2022-03-29T20:52:59.284Z"
   },
   {
    "duration": 5,
    "start_time": "2022-03-29T20:52:59.289Z"
   },
   {
    "duration": 5,
    "start_time": "2022-03-29T20:52:59.296Z"
   },
   {
    "duration": 5,
    "start_time": "2022-03-29T20:52:59.302Z"
   },
   {
    "duration": 11,
    "start_time": "2022-03-29T20:52:59.309Z"
   },
   {
    "duration": 150,
    "start_time": "2022-03-29T20:52:59.321Z"
   },
   {
    "duration": 21,
    "start_time": "2022-03-29T20:52:59.473Z"
   },
   {
    "duration": 109,
    "start_time": "2022-03-29T20:52:59.495Z"
   },
   {
    "duration": 3,
    "start_time": "2022-03-29T20:52:59.605Z"
   },
   {
    "duration": 11,
    "start_time": "2022-03-29T20:52:59.609Z"
   },
   {
    "duration": 7,
    "start_time": "2022-03-29T20:52:59.621Z"
   },
   {
    "duration": 6,
    "start_time": "2022-03-29T20:52:59.630Z"
   },
   {
    "duration": 25,
    "start_time": "2022-03-29T20:52:59.638Z"
   },
   {
    "duration": 3,
    "start_time": "2022-03-29T20:52:59.667Z"
   },
   {
    "duration": 10,
    "start_time": "2022-03-29T20:52:59.671Z"
   },
   {
    "duration": 6,
    "start_time": "2022-03-29T20:52:59.682Z"
   },
   {
    "duration": 7,
    "start_time": "2022-03-29T20:52:59.689Z"
   },
   {
    "duration": 6,
    "start_time": "2022-03-29T20:52:59.698Z"
   },
   {
    "duration": 12,
    "start_time": "2022-03-29T20:52:59.705Z"
   },
   {
    "duration": 6,
    "start_time": "2022-03-29T20:52:59.719Z"
   },
   {
    "duration": 46,
    "start_time": "2022-03-29T20:52:59.726Z"
   },
   {
    "duration": 5,
    "start_time": "2022-03-29T20:52:59.773Z"
   },
   {
    "duration": 11,
    "start_time": "2022-03-29T20:52:59.779Z"
   },
   {
    "duration": 5,
    "start_time": "2022-03-29T20:52:59.791Z"
   },
   {
    "duration": 3,
    "start_time": "2022-03-29T20:52:59.798Z"
   },
   {
    "duration": 6,
    "start_time": "2022-03-29T20:52:59.802Z"
   },
   {
    "duration": 9,
    "start_time": "2022-03-29T20:52:59.809Z"
   },
   {
    "duration": 5,
    "start_time": "2022-03-29T20:52:59.819Z"
   },
   {
    "duration": 4,
    "start_time": "2022-03-29T20:52:59.825Z"
   },
   {
    "duration": 34,
    "start_time": "2022-03-29T20:52:59.830Z"
   },
   {
    "duration": 7,
    "start_time": "2022-03-29T20:52:59.865Z"
   },
   {
    "duration": 9,
    "start_time": "2022-03-29T20:52:59.874Z"
   },
   {
    "duration": 7,
    "start_time": "2022-03-29T20:52:59.884Z"
   },
   {
    "duration": 220,
    "start_time": "2022-03-29T20:52:59.893Z"
   },
   {
    "duration": 8,
    "start_time": "2022-03-29T20:53:00.115Z"
   },
   {
    "duration": 15,
    "start_time": "2022-03-29T20:53:00.125Z"
   },
   {
    "duration": 578,
    "start_time": "2022-03-29T20:53:00.142Z"
   },
   {
    "duration": 2,
    "start_time": "2022-03-29T20:53:00.722Z"
   },
   {
    "duration": 8,
    "start_time": "2022-03-29T20:53:00.726Z"
   },
   {
    "duration": 11,
    "start_time": "2022-03-29T20:53:00.735Z"
   },
   {
    "duration": 122,
    "start_time": "2022-03-29T20:53:00.747Z"
   },
   {
    "duration": 16,
    "start_time": "2022-03-29T20:53:00.870Z"
   },
   {
    "duration": 3,
    "start_time": "2022-03-29T20:53:00.887Z"
   },
   {
    "duration": 562,
    "start_time": "2022-03-29T20:53:00.892Z"
   },
   {
    "duration": 7,
    "start_time": "2022-03-29T20:53:01.456Z"
   },
   {
    "duration": 140,
    "start_time": "2022-03-29T20:53:01.464Z"
   },
   {
    "duration": 3,
    "start_time": "2022-03-29T20:53:01.606Z"
   },
   {
    "duration": 36,
    "start_time": "2022-03-29T20:53:01.610Z"
   },
   {
    "duration": 8,
    "start_time": "2022-03-29T20:53:01.648Z"
   },
   {
    "duration": 11,
    "start_time": "2022-03-29T20:53:01.663Z"
   },
   {
    "duration": 43,
    "start_time": "2022-03-29T20:53:01.675Z"
   },
   {
    "duration": 673,
    "start_time": "2022-03-29T20:53:01.720Z"
   },
   {
    "duration": 147,
    "start_time": "2022-03-29T20:53:02.395Z"
   },
   {
    "duration": 4,
    "start_time": "2022-03-29T20:53:02.544Z"
   },
   {
    "duration": 13,
    "start_time": "2022-03-29T20:53:02.550Z"
   },
   {
    "duration": 3,
    "start_time": "2022-03-29T20:53:02.564Z"
   },
   {
    "duration": 8,
    "start_time": "2022-03-29T20:53:02.568Z"
   },
   {
    "duration": 5,
    "start_time": "2022-03-29T20:53:02.578Z"
   },
   {
    "duration": 115,
    "start_time": "2022-03-29T20:53:02.585Z"
   },
   {
    "duration": 0,
    "start_time": "2022-03-29T20:53:02.702Z"
   },
   {
    "duration": 0,
    "start_time": "2022-03-29T20:53:02.703Z"
   },
   {
    "duration": 0,
    "start_time": "2022-03-29T20:53:02.705Z"
   },
   {
    "duration": 0,
    "start_time": "2022-03-29T20:53:02.706Z"
   },
   {
    "duration": 0,
    "start_time": "2022-03-29T20:53:02.707Z"
   },
   {
    "duration": 0,
    "start_time": "2022-03-29T20:53:02.708Z"
   },
   {
    "duration": 0,
    "start_time": "2022-03-29T20:53:02.710Z"
   },
   {
    "duration": 0,
    "start_time": "2022-03-29T20:53:02.711Z"
   },
   {
    "duration": 0,
    "start_time": "2022-03-29T20:53:02.713Z"
   },
   {
    "duration": 3,
    "start_time": "2022-03-29T20:53:05.861Z"
   },
   {
    "duration": 3,
    "start_time": "2022-03-29T20:53:07.043Z"
   },
   {
    "duration": 4,
    "start_time": "2022-03-29T20:53:08.301Z"
   },
   {
    "duration": 9,
    "start_time": "2022-03-29T20:53:09.934Z"
   },
   {
    "duration": 3,
    "start_time": "2022-03-29T20:53:26.237Z"
   },
   {
    "duration": 3,
    "start_time": "2022-03-29T20:53:27.228Z"
   },
   {
    "duration": 3,
    "start_time": "2022-03-29T20:53:27.977Z"
   },
   {
    "duration": 8,
    "start_time": "2022-03-29T20:53:29.318Z"
   },
   {
    "duration": 4,
    "start_time": "2022-03-29T20:53:30.652Z"
   },
   {
    "duration": 31,
    "start_time": "2022-03-29T20:53:31.487Z"
   },
   {
    "duration": 8,
    "start_time": "2022-03-29T20:53:32.299Z"
   },
   {
    "duration": 4,
    "start_time": "2022-03-29T20:53:32.893Z"
   },
   {
    "duration": 3,
    "start_time": "2022-03-29T20:53:33.351Z"
   },
   {
    "duration": 3,
    "start_time": "2022-03-29T20:53:33.770Z"
   },
   {
    "duration": 2,
    "start_time": "2022-03-29T20:53:34.643Z"
   },
   {
    "duration": 25,
    "start_time": "2022-03-29T20:53:35.100Z"
   },
   {
    "duration": 2,
    "start_time": "2022-03-29T20:53:36.457Z"
   },
   {
    "duration": 3,
    "start_time": "2022-03-29T20:53:37.330Z"
   },
   {
    "duration": 3,
    "start_time": "2022-03-29T20:53:39.280Z"
   },
   {
    "duration": 18656,
    "start_time": "2022-03-29T20:53:43.655Z"
   },
   {
    "duration": 3,
    "start_time": "2022-03-29T20:59:34.779Z"
   },
   {
    "duration": 5,
    "start_time": "2022-03-29T20:59:36.313Z"
   },
   {
    "duration": 4,
    "start_time": "2022-03-29T20:59:41.261Z"
   },
   {
    "duration": 4,
    "start_time": "2022-03-29T20:59:42.136Z"
   },
   {
    "duration": 4,
    "start_time": "2022-03-29T20:59:45.184Z"
   },
   {
    "duration": 3,
    "start_time": "2022-03-29T21:02:24.504Z"
   },
   {
    "duration": 4,
    "start_time": "2022-03-29T21:02:35.456Z"
   },
   {
    "duration": 661,
    "start_time": "2022-03-29T21:02:35.462Z"
   },
   {
    "duration": 16,
    "start_time": "2022-03-29T21:02:36.125Z"
   },
   {
    "duration": 11,
    "start_time": "2022-03-29T21:02:36.143Z"
   },
   {
    "duration": 15,
    "start_time": "2022-03-29T21:02:36.163Z"
   },
   {
    "duration": 17,
    "start_time": "2022-03-29T21:02:36.180Z"
   },
   {
    "duration": 17,
    "start_time": "2022-03-29T21:02:36.198Z"
   },
   {
    "duration": 18,
    "start_time": "2022-03-29T21:02:36.216Z"
   },
   {
    "duration": 27,
    "start_time": "2022-03-29T21:02:36.236Z"
   },
   {
    "duration": 5,
    "start_time": "2022-03-29T21:02:36.265Z"
   },
   {
    "duration": 9,
    "start_time": "2022-03-29T21:02:36.272Z"
   },
   {
    "duration": 13,
    "start_time": "2022-03-29T21:02:36.282Z"
   },
   {
    "duration": 17,
    "start_time": "2022-03-29T21:02:36.296Z"
   },
   {
    "duration": 7,
    "start_time": "2022-03-29T21:02:36.315Z"
   },
   {
    "duration": 6,
    "start_time": "2022-03-29T21:02:36.323Z"
   },
   {
    "duration": 5,
    "start_time": "2022-03-29T21:02:36.331Z"
   },
   {
    "duration": 26,
    "start_time": "2022-03-29T21:02:36.338Z"
   },
   {
    "duration": 5,
    "start_time": "2022-03-29T21:02:36.365Z"
   },
   {
    "duration": 12,
    "start_time": "2022-03-29T21:02:36.372Z"
   },
   {
    "duration": 131,
    "start_time": "2022-03-29T21:02:36.385Z"
   },
   {
    "duration": 23,
    "start_time": "2022-03-29T21:02:36.518Z"
   },
   {
    "duration": 98,
    "start_time": "2022-03-29T21:02:36.543Z"
   },
   {
    "duration": 3,
    "start_time": "2022-03-29T21:02:36.643Z"
   },
   {
    "duration": 15,
    "start_time": "2022-03-29T21:02:36.648Z"
   },
   {
    "duration": 3,
    "start_time": "2022-03-29T21:02:36.665Z"
   },
   {
    "duration": 6,
    "start_time": "2022-03-29T21:02:36.670Z"
   },
   {
    "duration": 14,
    "start_time": "2022-03-29T21:02:36.677Z"
   },
   {
    "duration": 4,
    "start_time": "2022-03-29T21:02:36.696Z"
   },
   {
    "duration": 5,
    "start_time": "2022-03-29T21:02:36.701Z"
   },
   {
    "duration": 6,
    "start_time": "2022-03-29T21:02:36.708Z"
   },
   {
    "duration": 13,
    "start_time": "2022-03-29T21:02:36.716Z"
   },
   {
    "duration": 35,
    "start_time": "2022-03-29T21:02:36.730Z"
   },
   {
    "duration": 13,
    "start_time": "2022-03-29T21:02:36.767Z"
   },
   {
    "duration": 7,
    "start_time": "2022-03-29T21:02:36.782Z"
   },
   {
    "duration": 12,
    "start_time": "2022-03-29T21:02:36.790Z"
   },
   {
    "duration": 4,
    "start_time": "2022-03-29T21:02:36.804Z"
   },
   {
    "duration": 9,
    "start_time": "2022-03-29T21:02:36.810Z"
   },
   {
    "duration": 43,
    "start_time": "2022-03-29T21:02:36.820Z"
   },
   {
    "duration": 5,
    "start_time": "2022-03-29T21:02:36.865Z"
   },
   {
    "duration": 4,
    "start_time": "2022-03-29T21:02:36.872Z"
   },
   {
    "duration": 4,
    "start_time": "2022-03-29T21:02:36.878Z"
   },
   {
    "duration": 4,
    "start_time": "2022-03-29T21:02:36.884Z"
   },
   {
    "duration": 3,
    "start_time": "2022-03-29T21:02:36.890Z"
   },
   {
    "duration": 5,
    "start_time": "2022-03-29T21:02:36.894Z"
   },
   {
    "duration": 8,
    "start_time": "2022-03-29T21:02:36.901Z"
   },
   {
    "duration": 56,
    "start_time": "2022-03-29T21:02:36.911Z"
   },
   {
    "duration": 10,
    "start_time": "2022-03-29T21:02:36.968Z"
   },
   {
    "duration": 209,
    "start_time": "2022-03-29T21:02:36.979Z"
   },
   {
    "duration": 7,
    "start_time": "2022-03-29T21:02:37.190Z"
   },
   {
    "duration": 12,
    "start_time": "2022-03-29T21:02:37.199Z"
   },
   {
    "duration": 518,
    "start_time": "2022-03-29T21:02:37.212Z"
   },
   {
    "duration": 3,
    "start_time": "2022-03-29T21:02:37.732Z"
   },
   {
    "duration": 4,
    "start_time": "2022-03-29T21:02:37.736Z"
   },
   {
    "duration": 5,
    "start_time": "2022-03-29T21:02:37.742Z"
   },
   {
    "duration": 47,
    "start_time": "2022-03-29T21:02:37.748Z"
   },
   {
    "duration": 16,
    "start_time": "2022-03-29T21:02:37.796Z"
   },
   {
    "duration": 4,
    "start_time": "2022-03-29T21:02:37.813Z"
   },
   {
    "duration": 670,
    "start_time": "2022-03-29T21:02:37.818Z"
   },
   {
    "duration": 3,
    "start_time": "2022-03-29T21:02:38.490Z"
   },
   {
    "duration": 147,
    "start_time": "2022-03-29T21:02:38.494Z"
   },
   {
    "duration": 4,
    "start_time": "2022-03-29T21:02:38.643Z"
   },
   {
    "duration": 31,
    "start_time": "2022-03-29T21:02:38.649Z"
   },
   {
    "duration": 8,
    "start_time": "2022-03-29T21:02:38.682Z"
   },
   {
    "duration": 7,
    "start_time": "2022-03-29T21:02:38.691Z"
   },
   {
    "duration": 64,
    "start_time": "2022-03-29T21:02:38.700Z"
   },
   {
    "duration": 527,
    "start_time": "2022-03-29T21:02:38.766Z"
   },
   {
    "duration": 142,
    "start_time": "2022-03-29T21:02:39.295Z"
   },
   {
    "duration": 4,
    "start_time": "2022-03-29T21:02:39.438Z"
   },
   {
    "duration": 4,
    "start_time": "2022-03-29T21:02:39.443Z"
   },
   {
    "duration": 14,
    "start_time": "2022-03-29T21:02:39.449Z"
   },
   {
    "duration": 3,
    "start_time": "2022-03-29T21:02:39.464Z"
   },
   {
    "duration": 5,
    "start_time": "2022-03-29T21:02:39.468Z"
   },
   {
    "duration": 5,
    "start_time": "2022-03-29T21:02:39.475Z"
   },
   {
    "duration": 8,
    "start_time": "2022-03-29T21:02:39.481Z"
   },
   {
    "duration": 3,
    "start_time": "2022-03-29T21:02:39.491Z"
   },
   {
    "duration": 33,
    "start_time": "2022-03-29T21:02:39.495Z"
   },
   {
    "duration": 10,
    "start_time": "2022-03-29T21:02:39.530Z"
   },
   {
    "duration": 22,
    "start_time": "2022-03-29T21:02:39.542Z"
   },
   {
    "duration": 3,
    "start_time": "2022-03-29T21:02:39.565Z"
   },
   {
    "duration": 10,
    "start_time": "2022-03-29T21:02:39.569Z"
   },
   {
    "duration": 4,
    "start_time": "2022-03-29T21:02:39.580Z"
   },
   {
    "duration": 23,
    "start_time": "2022-03-29T21:02:39.589Z"
   },
   {
    "duration": 2,
    "start_time": "2022-03-29T21:02:39.613Z"
   },
   {
    "duration": 4,
    "start_time": "2022-03-29T21:02:39.617Z"
   },
   {
    "duration": 4,
    "start_time": "2022-03-29T21:02:39.623Z"
   },
   {
    "duration": 18516,
    "start_time": "2022-03-29T21:02:42.812Z"
   },
   {
    "duration": 3,
    "start_time": "2022-03-29T21:03:19.634Z"
   },
   {
    "duration": 4,
    "start_time": "2022-03-29T21:03:20.563Z"
   },
   {
    "duration": 3,
    "start_time": "2022-03-29T21:03:24.226Z"
   },
   {
    "duration": 3,
    "start_time": "2022-03-29T21:03:26.372Z"
   },
   {
    "duration": 3,
    "start_time": "2022-03-29T21:03:28.826Z"
   },
   {
    "duration": 3,
    "start_time": "2022-03-29T21:04:27.591Z"
   },
   {
    "duration": 1450,
    "start_time": "2022-03-29T21:04:50.526Z"
   },
   {
    "duration": 685,
    "start_time": "2022-03-29T21:04:51.978Z"
   },
   {
    "duration": 25,
    "start_time": "2022-03-29T21:04:52.665Z"
   },
   {
    "duration": 11,
    "start_time": "2022-03-29T21:04:52.692Z"
   },
   {
    "duration": 15,
    "start_time": "2022-03-29T21:04:52.705Z"
   },
   {
    "duration": 46,
    "start_time": "2022-03-29T21:04:52.722Z"
   },
   {
    "duration": 19,
    "start_time": "2022-03-29T21:04:52.769Z"
   },
   {
    "duration": 18,
    "start_time": "2022-03-29T21:04:52.790Z"
   },
   {
    "duration": 8,
    "start_time": "2022-03-29T21:04:52.810Z"
   },
   {
    "duration": 12,
    "start_time": "2022-03-29T21:04:52.821Z"
   },
   {
    "duration": 8,
    "start_time": "2022-03-29T21:04:52.835Z"
   },
   {
    "duration": 6,
    "start_time": "2022-03-29T21:04:52.863Z"
   },
   {
    "duration": 10,
    "start_time": "2022-03-29T21:04:52.871Z"
   },
   {
    "duration": 6,
    "start_time": "2022-03-29T21:04:52.883Z"
   },
   {
    "duration": 8,
    "start_time": "2022-03-29T21:04:52.891Z"
   },
   {
    "duration": 7,
    "start_time": "2022-03-29T21:04:52.901Z"
   },
   {
    "duration": 10,
    "start_time": "2022-03-29T21:04:52.909Z"
   },
   {
    "duration": 6,
    "start_time": "2022-03-29T21:04:52.921Z"
   },
   {
    "duration": 41,
    "start_time": "2022-03-29T21:04:52.929Z"
   },
   {
    "duration": 128,
    "start_time": "2022-03-29T21:04:52.972Z"
   },
   {
    "duration": 22,
    "start_time": "2022-03-29T21:04:53.101Z"
   },
   {
    "duration": 119,
    "start_time": "2022-03-29T21:04:53.125Z"
   },
   {
    "duration": 3,
    "start_time": "2022-03-29T21:04:53.246Z"
   },
   {
    "duration": 21,
    "start_time": "2022-03-29T21:04:53.250Z"
   },
   {
    "duration": 3,
    "start_time": "2022-03-29T21:04:53.272Z"
   },
   {
    "duration": 6,
    "start_time": "2022-03-29T21:04:53.276Z"
   },
   {
    "duration": 18,
    "start_time": "2022-03-29T21:04:53.284Z"
   },
   {
    "duration": 4,
    "start_time": "2022-03-29T21:04:53.305Z"
   },
   {
    "duration": 6,
    "start_time": "2022-03-29T21:04:53.310Z"
   },
   {
    "duration": 5,
    "start_time": "2022-03-29T21:04:53.318Z"
   },
   {
    "duration": 8,
    "start_time": "2022-03-29T21:04:53.325Z"
   },
   {
    "duration": 3,
    "start_time": "2022-03-29T21:04:53.363Z"
   },
   {
    "duration": 14,
    "start_time": "2022-03-29T21:04:53.368Z"
   },
   {
    "duration": 6,
    "start_time": "2022-03-29T21:04:53.384Z"
   },
   {
    "duration": 13,
    "start_time": "2022-03-29T21:04:53.391Z"
   },
   {
    "duration": 6,
    "start_time": "2022-03-29T21:04:53.405Z"
   },
   {
    "duration": 11,
    "start_time": "2022-03-29T21:04:53.412Z"
   },
   {
    "duration": 39,
    "start_time": "2022-03-29T21:04:53.424Z"
   },
   {
    "duration": 3,
    "start_time": "2022-03-29T21:04:53.465Z"
   },
   {
    "duration": 8,
    "start_time": "2022-03-29T21:04:53.469Z"
   },
   {
    "duration": 12,
    "start_time": "2022-03-29T21:04:53.479Z"
   },
   {
    "duration": 11,
    "start_time": "2022-03-29T21:04:53.492Z"
   },
   {
    "duration": 5,
    "start_time": "2022-03-29T21:04:53.504Z"
   },
   {
    "duration": 6,
    "start_time": "2022-03-29T21:04:53.510Z"
   },
   {
    "duration": 13,
    "start_time": "2022-03-29T21:04:53.517Z"
   },
   {
    "duration": 10,
    "start_time": "2022-03-29T21:04:53.532Z"
   },
   {
    "duration": 7,
    "start_time": "2022-03-29T21:04:53.543Z"
   },
   {
    "duration": 191,
    "start_time": "2022-03-29T21:04:53.562Z"
   },
   {
    "duration": 8,
    "start_time": "2022-03-29T21:04:53.762Z"
   },
   {
    "duration": 23,
    "start_time": "2022-03-29T21:04:53.771Z"
   },
   {
    "duration": 693,
    "start_time": "2022-03-29T21:04:53.795Z"
   },
   {
    "duration": 3,
    "start_time": "2022-03-29T21:04:54.489Z"
   },
   {
    "duration": 6,
    "start_time": "2022-03-29T21:04:54.493Z"
   },
   {
    "duration": 7,
    "start_time": "2022-03-29T21:04:54.500Z"
   },
   {
    "duration": 124,
    "start_time": "2022-03-29T21:04:54.508Z"
   },
   {
    "duration": 14,
    "start_time": "2022-03-29T21:04:54.634Z"
   },
   {
    "duration": 13,
    "start_time": "2022-03-29T21:04:54.650Z"
   },
   {
    "duration": 565,
    "start_time": "2022-03-29T21:04:54.664Z"
   },
   {
    "duration": 3,
    "start_time": "2022-03-29T21:04:55.230Z"
   },
   {
    "duration": 154,
    "start_time": "2022-03-29T21:04:55.234Z"
   },
   {
    "duration": 4,
    "start_time": "2022-03-29T21:04:55.389Z"
   },
   {
    "duration": 22,
    "start_time": "2022-03-29T21:04:55.394Z"
   },
   {
    "duration": 7,
    "start_time": "2022-03-29T21:04:55.418Z"
   },
   {
    "duration": 11,
    "start_time": "2022-03-29T21:04:55.426Z"
   },
   {
    "duration": 62,
    "start_time": "2022-03-29T21:04:55.439Z"
   },
   {
    "duration": 740,
    "start_time": "2022-03-29T21:04:55.503Z"
   },
   {
    "duration": 149,
    "start_time": "2022-03-29T21:04:56.245Z"
   },
   {
    "duration": 3,
    "start_time": "2022-03-29T21:04:56.396Z"
   },
   {
    "duration": 4,
    "start_time": "2022-03-29T21:04:56.401Z"
   },
   {
    "duration": 6,
    "start_time": "2022-03-29T21:04:56.407Z"
   },
   {
    "duration": 9,
    "start_time": "2022-03-29T21:04:56.414Z"
   },
   {
    "duration": 11,
    "start_time": "2022-03-29T21:04:56.425Z"
   },
   {
    "duration": 4,
    "start_time": "2022-03-29T21:04:56.437Z"
   },
   {
    "duration": 45,
    "start_time": "2022-03-29T21:04:56.443Z"
   },
   {
    "duration": 8,
    "start_time": "2022-03-29T21:04:56.489Z"
   },
   {
    "duration": 6,
    "start_time": "2022-03-29T21:04:56.498Z"
   },
   {
    "duration": 5,
    "start_time": "2022-03-29T21:04:56.505Z"
   },
   {
    "duration": 5,
    "start_time": "2022-03-29T21:04:56.511Z"
   },
   {
    "duration": 6,
    "start_time": "2022-03-29T21:04:56.517Z"
   },
   {
    "duration": 48,
    "start_time": "2022-03-29T21:04:56.524Z"
   },
   {
    "duration": 2,
    "start_time": "2022-03-29T21:05:13.293Z"
   },
   {
    "duration": 3,
    "start_time": "2022-03-29T21:05:14.213Z"
   },
   {
    "duration": 3,
    "start_time": "2022-03-29T21:05:15.661Z"
   },
   {
    "duration": 18155,
    "start_time": "2022-03-29T21:05:17.738Z"
   },
   {
    "duration": 2,
    "start_time": "2022-03-29T21:06:04.288Z"
   },
   {
    "duration": 4,
    "start_time": "2022-03-29T21:06:06.447Z"
   },
   {
    "duration": 4,
    "start_time": "2022-03-29T21:06:08.864Z"
   },
   {
    "duration": 3,
    "start_time": "2022-03-29T21:06:09.744Z"
   },
   {
    "duration": 3,
    "start_time": "2022-03-29T21:06:14.674Z"
   },
   {
    "duration": 3,
    "start_time": "2022-03-29T21:07:52.703Z"
   },
   {
    "duration": 3,
    "start_time": "2022-03-29T21:07:53.151Z"
   },
   {
    "duration": 3,
    "start_time": "2022-03-29T21:07:53.543Z"
   },
   {
    "duration": 9,
    "start_time": "2022-03-29T21:07:55.731Z"
   },
   {
    "duration": 3,
    "start_time": "2022-03-29T21:07:57.668Z"
   },
   {
    "duration": 33,
    "start_time": "2022-03-29T21:07:58.458Z"
   },
   {
    "duration": 1951,
    "start_time": "2022-03-29T21:07:59.027Z"
   },
   {
    "duration": 0,
    "start_time": "2022-03-29T21:08:00.980Z"
   },
   {
    "duration": 0,
    "start_time": "2022-03-29T21:08:00.981Z"
   },
   {
    "duration": 0,
    "start_time": "2022-03-29T21:08:00.982Z"
   },
   {
    "duration": 5,
    "start_time": "2022-03-29T21:08:08.309Z"
   },
   {
    "duration": 641,
    "start_time": "2022-03-29T21:08:08.315Z"
   },
   {
    "duration": 18,
    "start_time": "2022-03-29T21:08:08.957Z"
   },
   {
    "duration": 14,
    "start_time": "2022-03-29T21:08:08.977Z"
   },
   {
    "duration": 19,
    "start_time": "2022-03-29T21:08:08.993Z"
   },
   {
    "duration": 50,
    "start_time": "2022-03-29T21:08:09.014Z"
   },
   {
    "duration": 17,
    "start_time": "2022-03-29T21:08:09.066Z"
   },
   {
    "duration": 19,
    "start_time": "2022-03-29T21:08:09.085Z"
   },
   {
    "duration": 3,
    "start_time": "2022-03-29T21:08:09.105Z"
   },
   {
    "duration": 7,
    "start_time": "2022-03-29T21:08:09.110Z"
   },
   {
    "duration": 8,
    "start_time": "2022-03-29T21:08:09.118Z"
   },
   {
    "duration": 36,
    "start_time": "2022-03-29T21:08:09.127Z"
   },
   {
    "duration": 14,
    "start_time": "2022-03-29T21:08:09.165Z"
   },
   {
    "duration": 7,
    "start_time": "2022-03-29T21:08:09.181Z"
   },
   {
    "duration": 5,
    "start_time": "2022-03-29T21:08:09.189Z"
   },
   {
    "duration": 6,
    "start_time": "2022-03-29T21:08:09.196Z"
   },
   {
    "duration": 13,
    "start_time": "2022-03-29T21:08:09.204Z"
   },
   {
    "duration": 6,
    "start_time": "2022-03-29T21:08:09.218Z"
   },
   {
    "duration": 37,
    "start_time": "2022-03-29T21:08:09.226Z"
   },
   {
    "duration": 122,
    "start_time": "2022-03-29T21:08:09.265Z"
   },
   {
    "duration": 25,
    "start_time": "2022-03-29T21:08:09.389Z"
   },
   {
    "duration": 111,
    "start_time": "2022-03-29T21:08:09.416Z"
   },
   {
    "duration": 3,
    "start_time": "2022-03-29T21:08:09.528Z"
   },
   {
    "duration": 7,
    "start_time": "2022-03-29T21:08:09.532Z"
   },
   {
    "duration": 2,
    "start_time": "2022-03-29T21:08:09.541Z"
   },
   {
    "duration": 20,
    "start_time": "2022-03-29T21:08:09.544Z"
   },
   {
    "duration": 14,
    "start_time": "2022-03-29T21:08:09.566Z"
   },
   {
    "duration": 4,
    "start_time": "2022-03-29T21:08:09.584Z"
   },
   {
    "duration": 5,
    "start_time": "2022-03-29T21:08:09.589Z"
   },
   {
    "duration": 5,
    "start_time": "2022-03-29T21:08:09.595Z"
   },
   {
    "duration": 5,
    "start_time": "2022-03-29T21:08:09.602Z"
   },
   {
    "duration": 5,
    "start_time": "2022-03-29T21:08:09.608Z"
   },
   {
    "duration": 48,
    "start_time": "2022-03-29T21:08:09.615Z"
   },
   {
    "duration": 8,
    "start_time": "2022-03-29T21:08:09.665Z"
   },
   {
    "duration": 16,
    "start_time": "2022-03-29T21:08:09.674Z"
   },
   {
    "duration": 4,
    "start_time": "2022-03-29T21:08:09.692Z"
   },
   {
    "duration": 10,
    "start_time": "2022-03-29T21:08:09.698Z"
   },
   {
    "duration": 6,
    "start_time": "2022-03-29T21:08:09.710Z"
   },
   {
    "duration": 6,
    "start_time": "2022-03-29T21:08:09.718Z"
   },
   {
    "duration": 41,
    "start_time": "2022-03-29T21:08:09.725Z"
   },
   {
    "duration": 7,
    "start_time": "2022-03-29T21:08:09.768Z"
   },
   {
    "duration": 9,
    "start_time": "2022-03-29T21:08:09.776Z"
   },
   {
    "duration": 5,
    "start_time": "2022-03-29T21:08:09.787Z"
   },
   {
    "duration": 13,
    "start_time": "2022-03-29T21:08:09.793Z"
   },
   {
    "duration": 10,
    "start_time": "2022-03-29T21:08:09.808Z"
   },
   {
    "duration": 13,
    "start_time": "2022-03-29T21:08:09.820Z"
   },
   {
    "duration": 8,
    "start_time": "2022-03-29T21:08:09.834Z"
   },
   {
    "duration": 206,
    "start_time": "2022-03-29T21:08:09.863Z"
   },
   {
    "duration": 9,
    "start_time": "2022-03-29T21:08:10.071Z"
   },
   {
    "duration": 16,
    "start_time": "2022-03-29T21:08:10.081Z"
   },
   {
    "duration": 540,
    "start_time": "2022-03-29T21:08:10.099Z"
   },
   {
    "duration": 3,
    "start_time": "2022-03-29T21:08:10.641Z"
   },
   {
    "duration": 5,
    "start_time": "2022-03-29T21:08:10.645Z"
   },
   {
    "duration": 12,
    "start_time": "2022-03-29T21:08:10.651Z"
   },
   {
    "duration": 41,
    "start_time": "2022-03-29T21:08:10.664Z"
   },
   {
    "duration": 16,
    "start_time": "2022-03-29T21:08:10.706Z"
   },
   {
    "duration": 4,
    "start_time": "2022-03-29T21:08:10.723Z"
   },
   {
    "duration": 692,
    "start_time": "2022-03-29T21:08:10.728Z"
   },
   {
    "duration": 3,
    "start_time": "2022-03-29T21:08:11.422Z"
   },
   {
    "duration": 155,
    "start_time": "2022-03-29T21:08:11.427Z"
   },
   {
    "duration": 3,
    "start_time": "2022-03-29T21:08:11.584Z"
   },
   {
    "duration": 26,
    "start_time": "2022-03-29T21:08:11.588Z"
   },
   {
    "duration": 7,
    "start_time": "2022-03-29T21:08:11.615Z"
   },
   {
    "duration": 6,
    "start_time": "2022-03-29T21:08:11.624Z"
   },
   {
    "duration": 65,
    "start_time": "2022-03-29T21:08:11.631Z"
   },
   {
    "duration": 545,
    "start_time": "2022-03-29T21:08:11.697Z"
   },
   {
    "duration": 145,
    "start_time": "2022-03-29T21:08:12.244Z"
   },
   {
    "duration": 3,
    "start_time": "2022-03-29T21:08:12.391Z"
   },
   {
    "duration": 6,
    "start_time": "2022-03-29T21:08:12.395Z"
   },
   {
    "duration": 5,
    "start_time": "2022-03-29T21:08:12.402Z"
   },
   {
    "duration": 5,
    "start_time": "2022-03-29T21:08:12.408Z"
   },
   {
    "duration": 10,
    "start_time": "2022-03-29T21:08:12.414Z"
   },
   {
    "duration": 3,
    "start_time": "2022-03-29T21:08:12.426Z"
   },
   {
    "duration": 51,
    "start_time": "2022-03-29T21:08:12.430Z"
   },
   {
    "duration": 8,
    "start_time": "2022-03-29T21:08:15.631Z"
   },
   {
    "duration": 3,
    "start_time": "2022-03-29T21:08:16.670Z"
   },
   {
    "duration": 3,
    "start_time": "2022-03-29T21:08:17.128Z"
   },
   {
    "duration": 4,
    "start_time": "2022-03-29T21:08:17.592Z"
   },
   {
    "duration": 3,
    "start_time": "2022-03-29T21:08:18.803Z"
   },
   {
    "duration": 25,
    "start_time": "2022-03-29T21:08:19.892Z"
   },
   {
    "duration": 3,
    "start_time": "2022-03-29T21:08:23.099Z"
   },
   {
    "duration": 3,
    "start_time": "2022-03-29T21:08:24.632Z"
   },
   {
    "duration": 3,
    "start_time": "2022-03-29T21:08:26.679Z"
   },
   {
    "duration": 20097,
    "start_time": "2022-03-29T21:08:28.670Z"
   },
   {
    "duration": 3,
    "start_time": "2022-03-29T21:09:02.338Z"
   },
   {
    "duration": 4,
    "start_time": "2022-03-29T21:09:04.006Z"
   },
   {
    "duration": 4,
    "start_time": "2022-03-29T21:09:05.278Z"
   },
   {
    "duration": 5,
    "start_time": "2022-03-29T21:09:07.326Z"
   },
   {
    "duration": 5,
    "start_time": "2022-03-29T21:09:08.227Z"
   },
   {
    "duration": 4,
    "start_time": "2022-03-29T21:09:19.131Z"
   },
   {
    "duration": 4,
    "start_time": "2022-03-29T21:09:19.994Z"
   },
   {
    "duration": 6,
    "start_time": "2022-03-29T21:09:27.029Z"
   },
   {
    "duration": 8,
    "start_time": "2022-03-29T21:09:28.152Z"
   },
   {
    "duration": 5,
    "start_time": "2022-03-29T21:09:31.658Z"
   },
   {
    "duration": 7,
    "start_time": "2022-03-29T21:09:33.290Z"
   },
   {
    "duration": 1413,
    "start_time": "2022-03-29T21:16:08.421Z"
   },
   {
    "duration": 590,
    "start_time": "2022-03-29T21:16:09.836Z"
   },
   {
    "duration": 18,
    "start_time": "2022-03-29T21:16:10.427Z"
   },
   {
    "duration": 20,
    "start_time": "2022-03-29T21:16:10.447Z"
   },
   {
    "duration": 16,
    "start_time": "2022-03-29T21:16:10.468Z"
   },
   {
    "duration": 23,
    "start_time": "2022-03-29T21:16:10.485Z"
   },
   {
    "duration": 18,
    "start_time": "2022-03-29T21:16:10.509Z"
   },
   {
    "duration": 42,
    "start_time": "2022-03-29T21:16:10.529Z"
   },
   {
    "duration": 2,
    "start_time": "2022-03-29T21:16:10.573Z"
   },
   {
    "duration": 8,
    "start_time": "2022-03-29T21:16:10.578Z"
   },
   {
    "duration": 7,
    "start_time": "2022-03-29T21:16:10.588Z"
   },
   {
    "duration": 6,
    "start_time": "2022-03-29T21:16:10.596Z"
   },
   {
    "duration": 9,
    "start_time": "2022-03-29T21:16:10.603Z"
   },
   {
    "duration": 6,
    "start_time": "2022-03-29T21:16:10.613Z"
   },
   {
    "duration": 6,
    "start_time": "2022-03-29T21:16:10.620Z"
   },
   {
    "duration": 37,
    "start_time": "2022-03-29T21:16:10.628Z"
   },
   {
    "duration": 7,
    "start_time": "2022-03-29T21:16:10.666Z"
   },
   {
    "duration": 6,
    "start_time": "2022-03-29T21:16:10.674Z"
   },
   {
    "duration": 12,
    "start_time": "2022-03-29T21:16:10.682Z"
   },
   {
    "duration": 132,
    "start_time": "2022-03-29T21:16:10.696Z"
   },
   {
    "duration": 22,
    "start_time": "2022-03-29T21:16:10.829Z"
   },
   {
    "duration": 98,
    "start_time": "2022-03-29T21:16:10.852Z"
   },
   {
    "duration": 11,
    "start_time": "2022-03-29T21:16:10.952Z"
   },
   {
    "duration": 5,
    "start_time": "2022-03-29T21:16:10.964Z"
   },
   {
    "duration": 3,
    "start_time": "2022-03-29T21:16:10.971Z"
   },
   {
    "duration": 7,
    "start_time": "2022-03-29T21:16:10.975Z"
   },
   {
    "duration": 16,
    "start_time": "2022-03-29T21:16:10.984Z"
   },
   {
    "duration": 3,
    "start_time": "2022-03-29T21:16:11.005Z"
   },
   {
    "duration": 7,
    "start_time": "2022-03-29T21:16:11.009Z"
   },
   {
    "duration": 8,
    "start_time": "2022-03-29T21:16:11.017Z"
   },
   {
    "duration": 40,
    "start_time": "2022-03-29T21:16:11.027Z"
   },
   {
    "duration": 7,
    "start_time": "2022-03-29T21:16:11.069Z"
   },
   {
    "duration": 12,
    "start_time": "2022-03-29T21:16:11.078Z"
   },
   {
    "duration": 9,
    "start_time": "2022-03-29T21:16:11.092Z"
   },
   {
    "duration": 16,
    "start_time": "2022-03-29T21:16:11.102Z"
   },
   {
    "duration": 6,
    "start_time": "2022-03-29T21:16:11.119Z"
   },
   {
    "duration": 43,
    "start_time": "2022-03-29T21:16:11.126Z"
   },
   {
    "duration": 5,
    "start_time": "2022-03-29T21:16:11.171Z"
   },
   {
    "duration": 5,
    "start_time": "2022-03-29T21:16:11.177Z"
   },
   {
    "duration": 7,
    "start_time": "2022-03-29T21:16:11.183Z"
   },
   {
    "duration": 7,
    "start_time": "2022-03-29T21:16:11.191Z"
   },
   {
    "duration": 11,
    "start_time": "2022-03-29T21:16:11.199Z"
   },
   {
    "duration": 5,
    "start_time": "2022-03-29T21:16:11.211Z"
   },
   {
    "duration": 7,
    "start_time": "2022-03-29T21:16:11.217Z"
   },
   {
    "duration": 9,
    "start_time": "2022-03-29T21:16:11.226Z"
   },
   {
    "duration": 27,
    "start_time": "2022-03-29T21:16:11.236Z"
   },
   {
    "duration": 8,
    "start_time": "2022-03-29T21:16:11.264Z"
   },
   {
    "duration": 195,
    "start_time": "2022-03-29T21:16:11.273Z"
   },
   {
    "duration": 8,
    "start_time": "2022-03-29T21:16:11.469Z"
   },
   {
    "duration": 13,
    "start_time": "2022-03-29T21:16:11.479Z"
   },
   {
    "duration": 535,
    "start_time": "2022-03-29T21:16:11.493Z"
   },
   {
    "duration": 3,
    "start_time": "2022-03-29T21:16:12.030Z"
   },
   {
    "duration": 5,
    "start_time": "2022-03-29T21:16:12.034Z"
   },
   {
    "duration": 5,
    "start_time": "2022-03-29T21:16:12.041Z"
   },
   {
    "duration": 119,
    "start_time": "2022-03-29T21:16:12.047Z"
   },
   {
    "duration": 15,
    "start_time": "2022-03-29T21:16:12.168Z"
   },
   {
    "duration": 3,
    "start_time": "2022-03-29T21:16:12.184Z"
   },
   {
    "duration": 563,
    "start_time": "2022-03-29T21:16:12.189Z"
   },
   {
    "duration": 3,
    "start_time": "2022-03-29T21:16:12.753Z"
   },
   {
    "duration": 149,
    "start_time": "2022-03-29T21:16:12.758Z"
   },
   {
    "duration": 4,
    "start_time": "2022-03-29T21:16:12.908Z"
   },
   {
    "duration": 22,
    "start_time": "2022-03-29T21:16:12.913Z"
   },
   {
    "duration": 6,
    "start_time": "2022-03-29T21:16:12.936Z"
   },
   {
    "duration": 24,
    "start_time": "2022-03-29T21:16:12.944Z"
   },
   {
    "duration": 42,
    "start_time": "2022-03-29T21:16:12.970Z"
   },
   {
    "duration": 644,
    "start_time": "2022-03-29T21:16:13.013Z"
   },
   {
    "duration": 141,
    "start_time": "2022-03-29T21:16:13.658Z"
   },
   {
    "duration": 3,
    "start_time": "2022-03-29T21:16:13.801Z"
   },
   {
    "duration": 6,
    "start_time": "2022-03-29T21:16:13.806Z"
   },
   {
    "duration": 8,
    "start_time": "2022-03-29T21:16:13.813Z"
   },
   {
    "duration": 4,
    "start_time": "2022-03-29T21:16:13.823Z"
   },
   {
    "duration": 11,
    "start_time": "2022-03-29T21:16:13.828Z"
   },
   {
    "duration": 6,
    "start_time": "2022-03-29T21:16:13.840Z"
   },
   {
    "duration": 38,
    "start_time": "2022-03-29T21:16:13.847Z"
   },
   {
    "duration": 7,
    "start_time": "2022-03-29T21:16:13.886Z"
   },
   {
    "duration": 7,
    "start_time": "2022-03-29T21:16:13.895Z"
   },
   {
    "duration": 5,
    "start_time": "2022-03-29T21:16:13.903Z"
   },
   {
    "duration": 6,
    "start_time": "2022-03-29T21:16:13.909Z"
   },
   {
    "duration": 5,
    "start_time": "2022-03-29T21:16:13.916Z"
   },
   {
    "duration": 49,
    "start_time": "2022-03-29T21:16:13.922Z"
   },
   {
    "duration": 3,
    "start_time": "2022-03-29T21:16:13.972Z"
   },
   {
    "duration": 4,
    "start_time": "2022-03-29T21:16:13.979Z"
   },
   {
    "duration": 3,
    "start_time": "2022-03-29T21:16:16.636Z"
   },
   {
    "duration": 126616,
    "start_time": "2022-03-29T21:16:17.305Z"
   },
   {
    "duration": 3,
    "start_time": "2022-03-29T21:18:46.218Z"
   },
   {
    "duration": 4,
    "start_time": "2022-03-29T21:18:46.807Z"
   },
   {
    "duration": 5,
    "start_time": "2022-03-29T21:18:49.398Z"
   },
   {
    "duration": 4,
    "start_time": "2022-03-29T21:18:50.507Z"
   },
   {
    "duration": 4,
    "start_time": "2022-03-29T21:18:53.584Z"
   },
   {
    "duration": 4,
    "start_time": "2022-03-29T21:18:56.546Z"
   },
   {
    "duration": 4,
    "start_time": "2022-03-29T21:18:58.410Z"
   },
   {
    "duration": 6,
    "start_time": "2022-03-29T21:19:11.393Z"
   },
   {
    "duration": 33,
    "start_time": "2022-03-29T21:19:12.046Z"
   },
   {
    "duration": 7,
    "start_time": "2022-03-29T21:19:14.084Z"
   },
   {
    "duration": 8,
    "start_time": "2022-03-29T21:19:15.269Z"
   },
   {
    "duration": 8,
    "start_time": "2022-03-31T08:18:28.878Z"
   },
   {
    "duration": 317,
    "start_time": "2022-03-31T08:18:38.548Z"
   },
   {
    "duration": 474,
    "start_time": "2022-03-31T08:18:59.745Z"
   },
   {
    "duration": 1548,
    "start_time": "2022-03-31T08:20:07.591Z"
   },
   {
    "duration": 1351,
    "start_time": "2022-03-31T08:20:50.466Z"
   },
   {
    "duration": 117,
    "start_time": "2022-03-31T08:21:15.999Z"
   },
   {
    "duration": 1305,
    "start_time": "2022-03-31T08:21:22.790Z"
   },
   {
    "duration": 8,
    "start_time": "2022-03-31T08:26:19.904Z"
   },
   {
    "duration": 789,
    "start_time": "2022-03-31T08:26:19.915Z"
   },
   {
    "duration": 24,
    "start_time": "2022-03-31T08:26:20.706Z"
   },
   {
    "duration": 19,
    "start_time": "2022-03-31T08:26:20.733Z"
   },
   {
    "duration": 51,
    "start_time": "2022-03-31T08:26:20.754Z"
   },
   {
    "duration": 29,
    "start_time": "2022-03-31T08:26:20.808Z"
   },
   {
    "duration": 56,
    "start_time": "2022-03-31T08:26:20.839Z"
   },
   {
    "duration": 29,
    "start_time": "2022-03-31T08:26:20.897Z"
   },
   {
    "duration": 7,
    "start_time": "2022-03-31T08:26:20.929Z"
   },
   {
    "duration": 11,
    "start_time": "2022-03-31T08:26:20.941Z"
   },
   {
    "duration": 37,
    "start_time": "2022-03-31T08:26:20.954Z"
   },
   {
    "duration": 11,
    "start_time": "2022-03-31T08:26:20.993Z"
   },
   {
    "duration": 22,
    "start_time": "2022-03-31T08:26:21.006Z"
   },
   {
    "duration": 11,
    "start_time": "2022-03-31T08:26:21.030Z"
   },
   {
    "duration": 9,
    "start_time": "2022-03-31T08:26:21.043Z"
   },
   {
    "duration": 30,
    "start_time": "2022-03-31T08:26:21.054Z"
   },
   {
    "duration": 7,
    "start_time": "2022-03-31T08:26:21.086Z"
   },
   {
    "duration": 9,
    "start_time": "2022-03-31T08:26:21.096Z"
   },
   {
    "duration": 28,
    "start_time": "2022-03-31T08:26:21.107Z"
   },
   {
    "duration": 207,
    "start_time": "2022-03-31T08:26:21.137Z"
   },
   {
    "duration": 48,
    "start_time": "2022-03-31T08:26:21.347Z"
   },
   {
    "duration": 154,
    "start_time": "2022-03-31T08:26:21.397Z"
   },
   {
    "duration": 3,
    "start_time": "2022-03-31T08:26:21.554Z"
   },
   {
    "duration": 23,
    "start_time": "2022-03-31T08:26:21.559Z"
   },
   {
    "duration": 4,
    "start_time": "2022-03-31T08:26:21.584Z"
   },
   {
    "duration": 9,
    "start_time": "2022-03-31T08:26:21.590Z"
   },
   {
    "duration": 16,
    "start_time": "2022-03-31T08:26:21.601Z"
   },
   {
    "duration": 6,
    "start_time": "2022-03-31T08:26:21.622Z"
   },
   {
    "duration": 7,
    "start_time": "2022-03-31T08:26:21.630Z"
   },
   {
    "duration": 48,
    "start_time": "2022-03-31T08:26:21.639Z"
   },
   {
    "duration": 8,
    "start_time": "2022-03-31T08:26:21.689Z"
   },
   {
    "duration": 7,
    "start_time": "2022-03-31T08:26:21.699Z"
   },
   {
    "duration": 17,
    "start_time": "2022-03-31T08:26:21.708Z"
   },
   {
    "duration": 8,
    "start_time": "2022-03-31T08:26:21.728Z"
   },
   {
    "duration": 60,
    "start_time": "2022-03-31T08:26:21.738Z"
   },
   {
    "duration": 5,
    "start_time": "2022-03-31T08:26:21.800Z"
   },
   {
    "duration": 22,
    "start_time": "2022-03-31T08:26:21.807Z"
   },
   {
    "duration": 7,
    "start_time": "2022-03-31T08:26:21.831Z"
   },
   {
    "duration": 11,
    "start_time": "2022-03-31T08:26:21.840Z"
   },
   {
    "duration": 30,
    "start_time": "2022-03-31T08:26:21.853Z"
   },
   {
    "duration": 5,
    "start_time": "2022-03-31T08:26:21.885Z"
   },
   {
    "duration": 11,
    "start_time": "2022-03-31T08:26:21.892Z"
   },
   {
    "duration": 17,
    "start_time": "2022-03-31T08:26:21.906Z"
   },
   {
    "duration": 8,
    "start_time": "2022-03-31T08:26:21.925Z"
   },
   {
    "duration": 5,
    "start_time": "2022-03-31T08:26:21.936Z"
   },
   {
    "duration": 6,
    "start_time": "2022-03-31T08:26:21.943Z"
   },
   {
    "duration": 8,
    "start_time": "2022-03-31T08:26:21.951Z"
   },
   {
    "duration": 3,
    "start_time": "2022-03-31T08:26:21.983Z"
   },
   {
    "duration": 3,
    "start_time": "2022-03-31T08:27:57.103Z"
   },
   {
    "duration": 4,
    "start_time": "2022-03-31T08:34:21.678Z"
   },
   {
    "duration": 6,
    "start_time": "2022-03-31T08:35:32.771Z"
   },
   {
    "duration": 4,
    "start_time": "2022-03-31T08:35:46.342Z"
   },
   {
    "duration": 5,
    "start_time": "2022-03-31T08:35:46.745Z"
   },
   {
    "duration": 4097,
    "start_time": "2022-03-31T08:36:42.759Z"
   },
   {
    "duration": 3841,
    "start_time": "2022-03-31T08:37:16.280Z"
   },
   {
    "duration": 4,
    "start_time": "2022-03-31T08:53:57.099Z"
   },
   {
    "duration": 5,
    "start_time": "2022-03-31T08:53:57.696Z"
   },
   {
    "duration": 4225,
    "start_time": "2022-03-31T08:54:26.666Z"
   },
   {
    "duration": 16,
    "start_time": "2022-03-31T08:54:58.063Z"
   },
   {
    "duration": 4012,
    "start_time": "2022-03-31T08:55:16.397Z"
   },
   {
    "duration": 7,
    "start_time": "2022-03-31T09:03:07.436Z"
   },
   {
    "duration": 759,
    "start_time": "2022-03-31T09:03:07.446Z"
   },
   {
    "duration": 23,
    "start_time": "2022-03-31T09:03:08.207Z"
   },
   {
    "duration": 17,
    "start_time": "2022-03-31T09:03:08.233Z"
   },
   {
    "duration": 48,
    "start_time": "2022-03-31T09:03:08.253Z"
   },
   {
    "duration": 28,
    "start_time": "2022-03-31T09:03:08.303Z"
   },
   {
    "duration": 53,
    "start_time": "2022-03-31T09:03:08.333Z"
   },
   {
    "duration": 29,
    "start_time": "2022-03-31T09:03:08.388Z"
   },
   {
    "duration": 5,
    "start_time": "2022-03-31T09:03:08.419Z"
   },
   {
    "duration": 10,
    "start_time": "2022-03-31T09:03:08.428Z"
   },
   {
    "duration": 13,
    "start_time": "2022-03-31T09:03:08.440Z"
   },
   {
    "duration": 7,
    "start_time": "2022-03-31T09:03:08.483Z"
   },
   {
    "duration": 20,
    "start_time": "2022-03-31T09:03:08.492Z"
   },
   {
    "duration": 7,
    "start_time": "2022-03-31T09:03:08.514Z"
   },
   {
    "duration": 6,
    "start_time": "2022-03-31T09:03:08.523Z"
   },
   {
    "duration": 6,
    "start_time": "2022-03-31T09:03:08.531Z"
   },
   {
    "duration": 44,
    "start_time": "2022-03-31T09:03:08.539Z"
   },
   {
    "duration": 6,
    "start_time": "2022-03-31T09:03:08.585Z"
   },
   {
    "duration": 19,
    "start_time": "2022-03-31T09:03:08.593Z"
   },
   {
    "duration": 196,
    "start_time": "2022-03-31T09:03:08.614Z"
   },
   {
    "duration": 35,
    "start_time": "2022-03-31T09:03:08.813Z"
   },
   {
    "duration": 164,
    "start_time": "2022-03-31T09:03:08.850Z"
   },
   {
    "duration": 4,
    "start_time": "2022-03-31T09:03:09.016Z"
   },
   {
    "duration": 12,
    "start_time": "2022-03-31T09:03:09.022Z"
   },
   {
    "duration": 4,
    "start_time": "2022-03-31T09:03:09.036Z"
   },
   {
    "duration": 8,
    "start_time": "2022-03-31T09:03:09.043Z"
   },
   {
    "duration": 20,
    "start_time": "2022-03-31T09:03:09.083Z"
   },
   {
    "duration": 5,
    "start_time": "2022-03-31T09:03:09.109Z"
   },
   {
    "duration": 9,
    "start_time": "2022-03-31T09:03:09.116Z"
   },
   {
    "duration": 6,
    "start_time": "2022-03-31T09:03:09.127Z"
   },
   {
    "duration": 8,
    "start_time": "2022-03-31T09:03:09.135Z"
   },
   {
    "duration": 6,
    "start_time": "2022-03-31T09:03:09.183Z"
   },
   {
    "duration": 18,
    "start_time": "2022-03-31T09:03:09.191Z"
   },
   {
    "duration": 10,
    "start_time": "2022-03-31T09:03:09.211Z"
   },
   {
    "duration": 22,
    "start_time": "2022-03-31T09:03:09.223Z"
   },
   {
    "duration": 38,
    "start_time": "2022-03-31T09:03:09.247Z"
   },
   {
    "duration": 13,
    "start_time": "2022-03-31T09:03:09.288Z"
   },
   {
    "duration": 8,
    "start_time": "2022-03-31T09:03:09.303Z"
   },
   {
    "duration": 6,
    "start_time": "2022-03-31T09:03:09.313Z"
   },
   {
    "duration": 13,
    "start_time": "2022-03-31T09:03:09.321Z"
   },
   {
    "duration": 6,
    "start_time": "2022-03-31T09:03:09.337Z"
   },
   {
    "duration": 6,
    "start_time": "2022-03-31T09:03:09.383Z"
   },
   {
    "duration": 6,
    "start_time": "2022-03-31T09:03:09.391Z"
   },
   {
    "duration": 9,
    "start_time": "2022-03-31T09:03:09.399Z"
   },
   {
    "duration": 5,
    "start_time": "2022-03-31T09:03:09.410Z"
   },
   {
    "duration": 6,
    "start_time": "2022-03-31T09:03:09.417Z"
   },
   {
    "duration": 7,
    "start_time": "2022-03-31T09:03:09.425Z"
   },
   {
    "duration": 7,
    "start_time": "2022-03-31T09:03:09.434Z"
   },
   {
    "duration": 39,
    "start_time": "2022-03-31T09:03:09.443Z"
   },
   {
    "duration": 6,
    "start_time": "2022-03-31T09:03:09.485Z"
   },
   {
    "duration": 3853,
    "start_time": "2022-03-31T09:03:09.493Z"
   },
   {
    "duration": 13,
    "start_time": "2022-03-31T09:03:13.348Z"
   },
   {
    "duration": 35,
    "start_time": "2022-03-31T09:03:13.363Z"
   },
   {
    "duration": 866,
    "start_time": "2022-03-31T09:03:13.400Z"
   },
   {
    "duration": 13,
    "start_time": "2022-03-31T09:03:14.269Z"
   },
   {
    "duration": 4,
    "start_time": "2022-03-31T09:03:14.284Z"
   },
   {
    "duration": 6,
    "start_time": "2022-03-31T09:03:14.291Z"
   },
   {
    "duration": 216,
    "start_time": "2022-03-31T09:03:14.299Z"
   },
   {
    "duration": 24,
    "start_time": "2022-03-31T09:03:14.517Z"
   },
   {
    "duration": 5,
    "start_time": "2022-03-31T09:03:14.543Z"
   },
   {
    "duration": 1094,
    "start_time": "2022-03-31T09:03:14.550Z"
   },
   {
    "duration": 5,
    "start_time": "2022-03-31T09:03:15.646Z"
   },
   {
    "duration": 268,
    "start_time": "2022-03-31T09:03:15.654Z"
   },
   {
    "duration": 6,
    "start_time": "2022-03-31T09:03:15.925Z"
   },
   {
    "duration": 51,
    "start_time": "2022-03-31T09:03:15.934Z"
   },
   {
    "duration": 10,
    "start_time": "2022-03-31T09:03:15.988Z"
   },
   {
    "duration": 12,
    "start_time": "2022-03-31T09:03:16.000Z"
   },
   {
    "duration": 90,
    "start_time": "2022-03-31T09:03:16.014Z"
   },
   {
    "duration": 1090,
    "start_time": "2022-03-31T09:03:16.107Z"
   },
   {
    "duration": 263,
    "start_time": "2022-03-31T09:03:17.199Z"
   },
   {
    "duration": 17,
    "start_time": "2022-03-31T09:03:17.464Z"
   },
   {
    "duration": 5,
    "start_time": "2022-03-31T09:03:21.807Z"
   },
   {
    "duration": 4,
    "start_time": "2022-03-31T09:03:22.265Z"
   },
   {
    "duration": 3,
    "start_time": "2022-03-31T09:03:23.315Z"
   },
   {
    "duration": 10,
    "start_time": "2022-03-31T09:03:25.707Z"
   },
   {
    "duration": 5,
    "start_time": "2022-03-31T09:03:26.373Z"
   },
   {
    "duration": 47,
    "start_time": "2022-03-31T09:03:27.134Z"
   },
   {
    "duration": 13,
    "start_time": "2022-03-31T09:03:28.284Z"
   },
   {
    "duration": 5,
    "start_time": "2022-03-31T09:03:29.376Z"
   },
   {
    "duration": 6,
    "start_time": "2022-03-31T09:03:30.172Z"
   },
   {
    "duration": 5,
    "start_time": "2022-03-31T09:03:30.413Z"
   },
   {
    "duration": 4,
    "start_time": "2022-03-31T09:03:31.065Z"
   },
   {
    "duration": 35,
    "start_time": "2022-03-31T09:03:31.528Z"
   },
   {
    "duration": 4,
    "start_time": "2022-03-31T09:24:51.773Z"
   },
   {
    "duration": 4,
    "start_time": "2022-03-31T09:25:27.283Z"
   },
   {
    "duration": 4,
    "start_time": "2022-03-31T09:26:34.558Z"
   },
   {
    "duration": 4,
    "start_time": "2022-03-31T09:26:35.188Z"
   },
   {
    "duration": 9,
    "start_time": "2022-03-31T09:26:37.295Z"
   },
   {
    "duration": 33,
    "start_time": "2022-03-31T09:27:35.747Z"
   },
   {
    "duration": 4,
    "start_time": "2022-03-31T09:27:52.153Z"
   },
   {
    "duration": 29,
    "start_time": "2022-03-31T09:27:52.881Z"
   },
   {
    "duration": 5,
    "start_time": "2022-03-31T09:28:52.748Z"
   },
   {
    "duration": 4,
    "start_time": "2022-03-31T09:28:55.384Z"
   },
   {
    "duration": 29,
    "start_time": "2022-03-31T09:28:56.182Z"
   },
   {
    "duration": 15,
    "start_time": "2022-03-31T09:29:30.984Z"
   },
   {
    "duration": 4,
    "start_time": "2022-03-31T09:29:52.159Z"
   },
   {
    "duration": 4,
    "start_time": "2022-03-31T09:30:51.879Z"
   },
   {
    "duration": 15,
    "start_time": "2022-03-31T09:32:04.306Z"
   },
   {
    "duration": 12,
    "start_time": "2022-03-31T09:33:03.419Z"
   },
   {
    "duration": 11,
    "start_time": "2022-03-31T09:33:04.097Z"
   },
   {
    "duration": 4,
    "start_time": "2022-03-31T09:33:07.326Z"
   },
   {
    "duration": 4,
    "start_time": "2022-03-31T09:33:09.043Z"
   },
   {
    "duration": 5,
    "start_time": "2022-03-31T09:33:12.628Z"
   },
   {
    "duration": 160468,
    "start_time": "2022-03-31T09:33:16.569Z"
   },
   {
    "duration": 4,
    "start_time": "2022-03-31T09:37:15.606Z"
   },
   {
    "duration": 6,
    "start_time": "2022-03-31T09:37:16.293Z"
   },
   {
    "duration": 5,
    "start_time": "2022-03-31T09:37:19.530Z"
   },
   {
    "duration": 6,
    "start_time": "2022-03-31T09:37:27.090Z"
   },
   {
    "duration": 5,
    "start_time": "2022-03-31T09:37:29.946Z"
   },
   {
    "duration": 5,
    "start_time": "2022-03-31T09:38:13.292Z"
   },
   {
    "duration": 6,
    "start_time": "2022-03-31T09:38:14.926Z"
   },
   {
    "duration": 48,
    "start_time": "2022-03-31T09:38:18.122Z"
   },
   {
    "duration": 20,
    "start_time": "2022-03-31T09:38:18.748Z"
   },
   {
    "duration": 9,
    "start_time": "2022-03-31T09:38:19.242Z"
   },
   {
    "duration": 2201,
    "start_time": "2022-03-31T09:39:22.815Z"
   },
   {
    "duration": 770,
    "start_time": "2022-03-31T09:39:25.019Z"
   },
   {
    "duration": 27,
    "start_time": "2022-03-31T09:39:25.793Z"
   },
   {
    "duration": 18,
    "start_time": "2022-03-31T09:39:25.823Z"
   },
   {
    "duration": 60,
    "start_time": "2022-03-31T09:39:25.843Z"
   },
   {
    "duration": 32,
    "start_time": "2022-03-31T09:39:25.905Z"
   },
   {
    "duration": 52,
    "start_time": "2022-03-31T09:39:25.940Z"
   },
   {
    "duration": 29,
    "start_time": "2022-03-31T09:39:25.995Z"
   },
   {
    "duration": 6,
    "start_time": "2022-03-31T09:39:26.026Z"
   },
   {
    "duration": 13,
    "start_time": "2022-03-31T09:39:26.036Z"
   },
   {
    "duration": 47,
    "start_time": "2022-03-31T09:39:26.051Z"
   },
   {
    "duration": 9,
    "start_time": "2022-03-31T09:39:26.100Z"
   },
   {
    "duration": 12,
    "start_time": "2022-03-31T09:39:26.111Z"
   },
   {
    "duration": 9,
    "start_time": "2022-03-31T09:39:26.126Z"
   },
   {
    "duration": 50,
    "start_time": "2022-03-31T09:39:26.138Z"
   },
   {
    "duration": 7,
    "start_time": "2022-03-31T09:39:26.191Z"
   },
   {
    "duration": 13,
    "start_time": "2022-03-31T09:39:26.200Z"
   },
   {
    "duration": 8,
    "start_time": "2022-03-31T09:39:26.216Z"
   },
   {
    "duration": 18,
    "start_time": "2022-03-31T09:39:26.227Z"
   },
   {
    "duration": 227,
    "start_time": "2022-03-31T09:39:26.247Z"
   },
   {
    "duration": 49,
    "start_time": "2022-03-31T09:39:26.476Z"
   },
   {
    "duration": 184,
    "start_time": "2022-03-31T09:39:26.528Z"
   },
   {
    "duration": 4,
    "start_time": "2022-03-31T09:39:26.714Z"
   },
   {
    "duration": 12,
    "start_time": "2022-03-31T09:39:26.720Z"
   },
   {
    "duration": 4,
    "start_time": "2022-03-31T09:39:26.734Z"
   },
   {
    "duration": 7,
    "start_time": "2022-03-31T09:39:26.740Z"
   },
   {
    "duration": 52,
    "start_time": "2022-03-31T09:39:26.749Z"
   },
   {
    "duration": 5,
    "start_time": "2022-03-31T09:39:26.810Z"
   },
   {
    "duration": 9,
    "start_time": "2022-03-31T09:39:26.818Z"
   },
   {
    "duration": 7,
    "start_time": "2022-03-31T09:39:26.829Z"
   },
   {
    "duration": 46,
    "start_time": "2022-03-31T09:39:26.838Z"
   },
   {
    "duration": 19,
    "start_time": "2022-03-31T09:39:26.887Z"
   },
   {
    "duration": 18,
    "start_time": "2022-03-31T09:39:26.908Z"
   },
   {
    "duration": 10,
    "start_time": "2022-03-31T09:39:26.928Z"
   },
   {
    "duration": 57,
    "start_time": "2022-03-31T09:39:26.940Z"
   },
   {
    "duration": 8,
    "start_time": "2022-03-31T09:39:26.999Z"
   },
   {
    "duration": 18,
    "start_time": "2022-03-31T09:39:27.009Z"
   },
   {
    "duration": 7,
    "start_time": "2022-03-31T09:39:27.029Z"
   },
   {
    "duration": 7,
    "start_time": "2022-03-31T09:39:27.038Z"
   },
   {
    "duration": 37,
    "start_time": "2022-03-31T09:39:27.047Z"
   },
   {
    "duration": 9,
    "start_time": "2022-03-31T09:39:27.087Z"
   },
   {
    "duration": 16,
    "start_time": "2022-03-31T09:39:27.098Z"
   },
   {
    "duration": 5,
    "start_time": "2022-03-31T09:39:27.116Z"
   },
   {
    "duration": 7,
    "start_time": "2022-03-31T09:39:27.123Z"
   },
   {
    "duration": 13,
    "start_time": "2022-03-31T09:39:27.132Z"
   },
   {
    "duration": 34,
    "start_time": "2022-03-31T09:39:27.148Z"
   },
   {
    "duration": 17,
    "start_time": "2022-03-31T09:39:27.185Z"
   },
   {
    "duration": 6,
    "start_time": "2022-03-31T09:39:27.204Z"
   },
   {
    "duration": 7,
    "start_time": "2022-03-31T09:39:27.213Z"
   },
   {
    "duration": 6,
    "start_time": "2022-03-31T09:39:27.222Z"
   },
   {
    "duration": 4277,
    "start_time": "2022-03-31T09:39:27.230Z"
   },
   {
    "duration": 12,
    "start_time": "2022-03-31T09:39:31.510Z"
   },
   {
    "duration": 23,
    "start_time": "2022-03-31T09:39:31.525Z"
   },
   {
    "duration": 893,
    "start_time": "2022-03-31T09:39:31.551Z"
   },
   {
    "duration": 4,
    "start_time": "2022-03-31T09:39:32.446Z"
   },
   {
    "duration": 14,
    "start_time": "2022-03-31T09:39:32.452Z"
   },
   {
    "duration": 15,
    "start_time": "2022-03-31T09:39:32.469Z"
   },
   {
    "duration": 72,
    "start_time": "2022-03-31T09:39:32.487Z"
   },
   {
    "duration": 36,
    "start_time": "2022-03-31T09:39:32.562Z"
   },
   {
    "duration": 6,
    "start_time": "2022-03-31T09:39:32.601Z"
   },
   {
    "duration": 1117,
    "start_time": "2022-03-31T09:39:32.609Z"
   },
   {
    "duration": 5,
    "start_time": "2022-03-31T09:39:33.730Z"
   },
   {
    "duration": 395,
    "start_time": "2022-03-31T09:39:33.738Z"
   },
   {
    "duration": 6,
    "start_time": "2022-03-31T09:39:34.135Z"
   },
   {
    "duration": 51,
    "start_time": "2022-03-31T09:39:34.144Z"
   },
   {
    "duration": 12,
    "start_time": "2022-03-31T09:39:34.197Z"
   },
   {
    "duration": 12,
    "start_time": "2022-03-31T09:39:34.212Z"
   },
   {
    "duration": 109,
    "start_time": "2022-03-31T09:39:34.227Z"
   },
   {
    "duration": 1282,
    "start_time": "2022-03-31T09:39:34.339Z"
   },
   {
    "duration": 270,
    "start_time": "2022-03-31T09:39:35.623Z"
   },
   {
    "duration": 6,
    "start_time": "2022-03-31T09:39:35.895Z"
   },
   {
    "duration": 27,
    "start_time": "2022-03-31T09:39:35.903Z"
   },
   {
    "duration": 50,
    "start_time": "2022-03-31T09:39:35.932Z"
   },
   {
    "duration": 42,
    "start_time": "2022-03-31T09:39:35.984Z"
   },
   {
    "duration": 42,
    "start_time": "2022-03-31T09:39:36.029Z"
   },
   {
    "duration": 17,
    "start_time": "2022-03-31T09:39:36.073Z"
   },
   {
    "duration": 57,
    "start_time": "2022-03-31T09:39:36.092Z"
   },
   {
    "duration": 12,
    "start_time": "2022-03-31T09:39:36.151Z"
   },
   {
    "duration": 8,
    "start_time": "2022-03-31T09:39:36.166Z"
   },
   {
    "duration": 16,
    "start_time": "2022-03-31T09:39:36.177Z"
   },
   {
    "duration": 8,
    "start_time": "2022-03-31T09:39:36.195Z"
   },
   {
    "duration": 3,
    "start_time": "2022-03-31T09:39:36.212Z"
   },
   {
    "duration": 6,
    "start_time": "2022-03-31T09:39:36.217Z"
   },
   {
    "duration": 8,
    "start_time": "2022-03-31T09:39:36.225Z"
   },
   {
    "duration": 6,
    "start_time": "2022-03-31T09:39:36.235Z"
   },
   {
    "duration": 48,
    "start_time": "2022-03-31T09:39:36.243Z"
   },
   {
    "duration": 10,
    "start_time": "2022-03-31T09:39:36.293Z"
   },
   {
    "duration": 11,
    "start_time": "2022-03-31T09:39:36.305Z"
   },
   {
    "duration": 4,
    "start_time": "2022-03-31T09:39:36.319Z"
   },
   {
    "duration": 5,
    "start_time": "2022-03-31T09:39:36.326Z"
   },
   {
    "duration": 48,
    "start_time": "2022-03-31T09:39:36.334Z"
   },
   {
    "duration": 181693,
    "start_time": "2022-03-31T09:39:36.384Z"
   },
   {
    "duration": 4,
    "start_time": "2022-03-31T09:42:38.081Z"
   },
   {
    "duration": 14,
    "start_time": "2022-03-31T09:42:38.088Z"
   },
   {
    "duration": 14,
    "start_time": "2022-03-31T09:42:38.104Z"
   },
   {
    "duration": 8,
    "start_time": "2022-03-31T09:42:38.120Z"
   },
   {
    "duration": 10,
    "start_time": "2022-03-31T09:42:38.131Z"
   },
   {
    "duration": 8,
    "start_time": "2022-03-31T09:42:38.143Z"
   },
   {
    "duration": 33,
    "start_time": "2022-03-31T09:42:38.153Z"
   },
   {
    "duration": 66,
    "start_time": "2022-03-31T09:42:38.188Z"
   },
   {
    "duration": 28,
    "start_time": "2022-03-31T09:42:38.257Z"
   },
   {
    "duration": 12,
    "start_time": "2022-03-31T09:42:38.288Z"
   }
  ],
  "kernelspec": {
   "display_name": "Python 3",
   "language": "python",
   "name": "python3"
  },
  "language_info": {
   "codemirror_mode": {
    "name": "ipython",
    "version": 3
   },
   "file_extension": ".py",
   "mimetype": "text/x-python",
   "name": "python",
   "nbconvert_exporter": "python",
   "pygments_lexer": "ipython3",
   "version": "3.8.8"
  },
  "toc": {
   "base_numbering": 1,
   "nav_menu": {},
   "number_sections": true,
   "sideBar": true,
   "skip_h1_title": true,
   "title_cell": "Содержание",
   "title_sidebar": "Contents",
   "toc_cell": true,
   "toc_position": {
    "height": "calc(100% - 180px)",
    "left": "10px",
    "top": "150px",
    "width": "289.6px"
   },
   "toc_section_display": true,
   "toc_window_display": true
  }
 },
 "nbformat": 4,
 "nbformat_minor": 4
}
