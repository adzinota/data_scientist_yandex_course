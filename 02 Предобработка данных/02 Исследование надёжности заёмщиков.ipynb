{
 "cells": [
  {
   "cell_type": "markdown",
   "metadata": {},
   "source": [
    "# Исследование надёжности заёмщиков\n",
    "\n",
    "Заказчик — кредитный отдел банка. Нужно разобраться, влияет ли семейное положение и количество детей клиента на факт погашения кредита в срок. Входные данные от банка — статистика о платёжеспособности клиентов.\n",
    "\n",
    "Результаты исследования будут учтены при построении модели **кредитного скоринга** — специальной системы, которая оценивает способность потенциального заёмщика вернуть кредит банку."
   ]
  },
  {
   "cell_type": "markdown",
   "metadata": {},
   "source": [
    "## Шаг 1. Откройте файл с данными и изучите общую информацию"
   ]
  },
  {
   "cell_type": "code",
   "execution_count": 1,
   "metadata": {},
   "outputs": [],
   "source": [
    "#импорт используемых библиотек\n",
    "import pandas as pd\n",
    "from pymystem3 import Mystem\n",
    "from nltk.stem import SnowballStemmer"
   ]
  },
  {
   "cell_type": "code",
   "execution_count": 2,
   "metadata": {},
   "outputs": [],
   "source": [
    "df = pd.read_csv('/datasets/data.csv') #чтение файла csv в датафрейм df"
   ]
  },
  {
   "cell_type": "code",
   "execution_count": 3,
   "metadata": {},
   "outputs": [
    {
     "name": "stdout",
     "output_type": "stream",
     "text": [
      "<class 'pandas.core.frame.DataFrame'>\n",
      "RangeIndex: 21525 entries, 0 to 21524\n",
      "Data columns (total 12 columns):\n",
      " #   Column            Non-Null Count  Dtype  \n",
      "---  ------            --------------  -----  \n",
      " 0   children          21525 non-null  int64  \n",
      " 1   days_employed     19351 non-null  float64\n",
      " 2   dob_years         21525 non-null  int64  \n",
      " 3   education         21525 non-null  object \n",
      " 4   education_id      21525 non-null  int64  \n",
      " 5   family_status     21525 non-null  object \n",
      " 6   family_status_id  21525 non-null  int64  \n",
      " 7   gender            21525 non-null  object \n",
      " 8   income_type       21525 non-null  object \n",
      " 9   debt              21525 non-null  int64  \n",
      " 10  total_income      19351 non-null  float64\n",
      " 11  purpose           21525 non-null  object \n",
      "dtypes: float64(2), int64(5), object(5)\n",
      "memory usage: 2.0+ MB\n"
     ]
    }
   ],
   "source": [
    "df.info() #вывод общей информации о датафрейме"
   ]
  },
  {
   "cell_type": "code",
   "execution_count": 4,
   "metadata": {},
   "outputs": [
    {
     "data": {
      "text/html": [
       "<div>\n",
       "<style scoped>\n",
       "    .dataframe tbody tr th:only-of-type {\n",
       "        vertical-align: middle;\n",
       "    }\n",
       "\n",
       "    .dataframe tbody tr th {\n",
       "        vertical-align: top;\n",
       "    }\n",
       "\n",
       "    .dataframe thead th {\n",
       "        text-align: right;\n",
       "    }\n",
       "</style>\n",
       "<table border=\"1\" class=\"dataframe\">\n",
       "  <thead>\n",
       "    <tr style=\"text-align: right;\">\n",
       "      <th></th>\n",
       "      <th>children</th>\n",
       "      <th>days_employed</th>\n",
       "      <th>dob_years</th>\n",
       "      <th>education</th>\n",
       "      <th>education_id</th>\n",
       "      <th>family_status</th>\n",
       "      <th>family_status_id</th>\n",
       "      <th>gender</th>\n",
       "      <th>income_type</th>\n",
       "      <th>debt</th>\n",
       "      <th>total_income</th>\n",
       "      <th>purpose</th>\n",
       "    </tr>\n",
       "  </thead>\n",
       "  <tbody>\n",
       "    <tr>\n",
       "      <th>0</th>\n",
       "      <td>1</td>\n",
       "      <td>-8437.673028</td>\n",
       "      <td>42</td>\n",
       "      <td>высшее</td>\n",
       "      <td>0</td>\n",
       "      <td>женат / замужем</td>\n",
       "      <td>0</td>\n",
       "      <td>F</td>\n",
       "      <td>сотрудник</td>\n",
       "      <td>0</td>\n",
       "      <td>253875.639453</td>\n",
       "      <td>покупка жилья</td>\n",
       "    </tr>\n",
       "    <tr>\n",
       "      <th>1</th>\n",
       "      <td>1</td>\n",
       "      <td>-4024.803754</td>\n",
       "      <td>36</td>\n",
       "      <td>среднее</td>\n",
       "      <td>1</td>\n",
       "      <td>женат / замужем</td>\n",
       "      <td>0</td>\n",
       "      <td>F</td>\n",
       "      <td>сотрудник</td>\n",
       "      <td>0</td>\n",
       "      <td>112080.014102</td>\n",
       "      <td>приобретение автомобиля</td>\n",
       "    </tr>\n",
       "    <tr>\n",
       "      <th>2</th>\n",
       "      <td>0</td>\n",
       "      <td>-5623.422610</td>\n",
       "      <td>33</td>\n",
       "      <td>Среднее</td>\n",
       "      <td>1</td>\n",
       "      <td>женат / замужем</td>\n",
       "      <td>0</td>\n",
       "      <td>M</td>\n",
       "      <td>сотрудник</td>\n",
       "      <td>0</td>\n",
       "      <td>145885.952297</td>\n",
       "      <td>покупка жилья</td>\n",
       "    </tr>\n",
       "    <tr>\n",
       "      <th>3</th>\n",
       "      <td>3</td>\n",
       "      <td>-4124.747207</td>\n",
       "      <td>32</td>\n",
       "      <td>среднее</td>\n",
       "      <td>1</td>\n",
       "      <td>женат / замужем</td>\n",
       "      <td>0</td>\n",
       "      <td>M</td>\n",
       "      <td>сотрудник</td>\n",
       "      <td>0</td>\n",
       "      <td>267628.550329</td>\n",
       "      <td>дополнительное образование</td>\n",
       "    </tr>\n",
       "    <tr>\n",
       "      <th>4</th>\n",
       "      <td>0</td>\n",
       "      <td>340266.072047</td>\n",
       "      <td>53</td>\n",
       "      <td>среднее</td>\n",
       "      <td>1</td>\n",
       "      <td>гражданский брак</td>\n",
       "      <td>1</td>\n",
       "      <td>F</td>\n",
       "      <td>пенсионер</td>\n",
       "      <td>0</td>\n",
       "      <td>158616.077870</td>\n",
       "      <td>сыграть свадьбу</td>\n",
       "    </tr>\n",
       "  </tbody>\n",
       "</table>\n",
       "</div>"
      ],
      "text/plain": [
       "   children  days_employed  dob_years education  education_id  \\\n",
       "0         1   -8437.673028         42    высшее             0   \n",
       "1         1   -4024.803754         36   среднее             1   \n",
       "2         0   -5623.422610         33   Среднее             1   \n",
       "3         3   -4124.747207         32   среднее             1   \n",
       "4         0  340266.072047         53   среднее             1   \n",
       "\n",
       "      family_status  family_status_id gender income_type  debt   total_income  \\\n",
       "0   женат / замужем                 0      F   сотрудник     0  253875.639453   \n",
       "1   женат / замужем                 0      F   сотрудник     0  112080.014102   \n",
       "2   женат / замужем                 0      M   сотрудник     0  145885.952297   \n",
       "3   женат / замужем                 0      M   сотрудник     0  267628.550329   \n",
       "4  гражданский брак                 1      F   пенсионер     0  158616.077870   \n",
       "\n",
       "                      purpose  \n",
       "0               покупка жилья  \n",
       "1     приобретение автомобиля  \n",
       "2               покупка жилья  \n",
       "3  дополнительное образование  \n",
       "4             сыграть свадьбу  "
      ]
     },
     "execution_count": 4,
     "metadata": {},
     "output_type": "execute_result"
    }
   ],
   "source": [
    "df.head(5) #вывод первых 5 строк датафрейма"
   ]
  },
  {
   "cell_type": "markdown",
   "metadata": {},
   "source": [
    "**Вывод**"
   ]
  },
  {
   "cell_type": "markdown",
   "metadata": {},
   "source": [
    "В файле 12 колонок, 2 колонки типа float, 5 колонок типа int и 5 колонок типа object."
   ]
  },
  {
   "cell_type": "markdown",
   "metadata": {},
   "source": [
    "## Шаг 2. Предобработка данных"
   ]
  },
  {
   "cell_type": "markdown",
   "metadata": {},
   "source": [
    "### Обработка пропусков"
   ]
  },
  {
   "cell_type": "markdown",
   "metadata": {},
   "source": [
    "#### Столбец children"
   ]
  },
  {
   "cell_type": "code",
   "execution_count": 5,
   "metadata": {},
   "outputs": [
    {
     "data": {
      "text/plain": [
       " 0     14149\n",
       " 1      4818\n",
       " 2      2055\n",
       " 3       330\n",
       " 20       76\n",
       "-1        47\n",
       " 4        41\n",
       " 5         9\n",
       "Name: children, dtype: int64"
      ]
     },
     "execution_count": 5,
     "metadata": {},
     "output_type": "execute_result"
    }
   ],
   "source": [
    "df['children'].value_counts() #получение уникальных значений"
   ]
  },
  {
   "cell_type": "markdown",
   "metadata": {},
   "source": [
    "В столбце children есть неясные значения (-1 и 20), но пропусков нет  \n",
    "Можно предположить, что это ошибки, возникшие при заполнении анкеты, и заменить значение -1 на 1, а 20 заменить на 2"
   ]
  },
  {
   "cell_type": "code",
   "execution_count": 6,
   "metadata": {},
   "outputs": [
    {
     "data": {
      "text/plain": [
       "0    14149\n",
       "1     4865\n",
       "2     2131\n",
       "3      330\n",
       "4       41\n",
       "5        9\n",
       "Name: children, dtype: int64"
      ]
     },
     "execution_count": 6,
     "metadata": {},
     "output_type": "execute_result"
    }
   ],
   "source": [
    "df.loc[(df['children'] == -1), 'children'] = 1 #замена в столбце children значений, равных -1\n",
    "\n",
    "df.loc[(df['children'] == 20), 'children'] = 2#замена в столбце children значений, равных 20\n",
    "\n",
    "df['children'].value_counts() #получение уникальных значений"
   ]
  },
  {
   "cell_type": "markdown",
   "metadata": {},
   "source": [
    "Теперь данные похожи на правду!"
   ]
  },
  {
   "cell_type": "markdown",
   "metadata": {},
   "source": [
    "#### Столбец days_employed"
   ]
  },
  {
   "cell_type": "code",
   "execution_count": 7,
   "metadata": {},
   "outputs": [
    {
     "data": {
      "text/plain": [
       "-327.685916     1\n",
       "-1580.622577    1\n",
       "-4122.460569    1\n",
       "-2828.237691    1\n",
       "-2636.090517    1\n",
       "               ..\n",
       "-7120.517564    1\n",
       "-2146.884040    1\n",
       "-881.454684     1\n",
       "-794.666350     1\n",
       "-3382.113891    1\n",
       "Name: days_employed, Length: 19351, dtype: int64"
      ]
     },
     "execution_count": 7,
     "metadata": {},
     "output_type": "execute_result"
    }
   ],
   "source": [
    "df['days_employed'].value_counts() #получение уникальных значений"
   ]
  },
  {
   "cell_type": "markdown",
   "metadata": {},
   "source": [
    "Так как в столбце слишком много различных значений, то значений NaN (если они есть) не видно. Чтобы проверить их наличие, воспользуемся методом isna()"
   ]
  },
  {
   "cell_type": "code",
   "execution_count": 8,
   "metadata": {},
   "outputs": [
    {
     "data": {
      "text/plain": [
       "2174"
      ]
     },
     "execution_count": 8,
     "metadata": {},
     "output_type": "execute_result"
    }
   ],
   "source": [
    "len(df[df['days_employed'].isna()]) #вывод количества тех строк, где есть NaN"
   ]
  },
  {
   "cell_type": "markdown",
   "metadata": {},
   "source": [
    "Ого, в этом столбце целых 2147 пропусков!  \n",
    "\n",
    "Заменим пропущенные значения на среднее при помощи метода mean()"
   ]
  },
  {
   "cell_type": "code",
   "execution_count": 9,
   "metadata": {},
   "outputs": [
    {
     "data": {
      "text/plain": [
       "0"
      ]
     },
     "execution_count": 9,
     "metadata": {},
     "output_type": "execute_result"
    }
   ],
   "source": [
    "df['days_employed'] = df['days_employed'].fillna(value = df['days_employed'].mean()) \n",
    "#замена пропущенных значений средним по столбцу\n",
    "\n",
    "len(df[df['days_employed'].isna()])  #вывод количества тех строк, где в заданном столбце есть NaN"
   ]
  },
  {
   "cell_type": "markdown",
   "metadata": {},
   "source": [
    "Пропуски устранены"
   ]
  },
  {
   "cell_type": "markdown",
   "metadata": {},
   "source": [
    "#### Столбец dob_years"
   ]
  },
  {
   "cell_type": "code",
   "execution_count": 10,
   "metadata": {},
   "outputs": [
    {
     "data": {
      "text/plain": [
       "count    21525.000000\n",
       "mean        43.293380\n",
       "std         12.574584\n",
       "min          0.000000\n",
       "25%         33.000000\n",
       "50%         42.000000\n",
       "75%         53.000000\n",
       "max         75.000000\n",
       "Name: dob_years, dtype: float64"
      ]
     },
     "execution_count": 10,
     "metadata": {},
     "output_type": "execute_result"
    }
   ],
   "source": [
    "#df['dob_years'].value_counts().sort_index() #получение уникальных значений и сортировка для удобства восприятия\n",
    "df['dob_years'].describe() #лучше использовать describe(), более компактный вывод и сразу видно min и max"
   ]
  },
  {
   "cell_type": "markdown",
   "metadata": {},
   "source": [
    "В этом столбце пропуском можно считать значение 0  \n",
    "Заменим его на средний возраст при помощи метода mean()"
   ]
  },
  {
   "cell_type": "code",
   "execution_count": 11,
   "metadata": {},
   "outputs": [
    {
     "data": {
      "text/plain": [
       "count    21525.000000\n",
       "mean        43.495145\n",
       "std         12.218213\n",
       "min         19.000000\n",
       "25%         34.000000\n",
       "50%         43.000000\n",
       "75%         53.000000\n",
       "max         75.000000\n",
       "Name: dob_years, dtype: float64"
      ]
     },
     "execution_count": 11,
     "metadata": {},
     "output_type": "execute_result"
    }
   ],
   "source": [
    "df.loc[(df['dob_years'] == 0), 'dob_years'] = int(df['dob_years'].mean()) \n",
    "#замена значения 0 средним по столбцу и приведение к типу int, т.к среднее - вещественное\n",
    "df['dob_years'].describe()"
   ]
  },
  {
   "cell_type": "markdown",
   "metadata": {},
   "source": [
    "Теперь видно, что минимальный возраст 19, а максимальный - 75  \n",
    "Подходит!"
   ]
  },
  {
   "cell_type": "markdown",
   "metadata": {},
   "source": [
    "#### Столбец education"
   ]
  },
  {
   "cell_type": "code",
   "execution_count": 12,
   "metadata": {},
   "outputs": [
    {
     "data": {
      "text/plain": [
       "array(['высшее', 'среднее', 'Среднее', 'СРЕДНЕЕ', 'ВЫСШЕЕ',\n",
       "       'неоконченное высшее', 'начальное', 'Высшее',\n",
       "       'НЕОКОНЧЕННОЕ ВЫСШЕЕ', 'Неоконченное высшее', 'НАЧАЛЬНОЕ',\n",
       "       'Начальное', 'Ученая степень', 'УЧЕНАЯ СТЕПЕНЬ', 'ученая степень'],\n",
       "      dtype=object)"
      ]
     },
     "execution_count": 12,
     "metadata": {},
     "output_type": "execute_result"
    }
   ],
   "source": [
    "#df['education'].value_counts() #получение уникальных значений\n",
    "df['education'].unique() #лучше использовать unique() для компактности вывода"
   ]
  },
  {
   "cell_type": "markdown",
   "metadata": {},
   "source": [
    "Пропусков нет"
   ]
  },
  {
   "cell_type": "markdown",
   "metadata": {},
   "source": [
    "#### Столбец education_id"
   ]
  },
  {
   "cell_type": "code",
   "execution_count": 13,
   "metadata": {},
   "outputs": [
    {
     "data": {
      "text/plain": [
       "1    15233\n",
       "0     5260\n",
       "2      744\n",
       "3      282\n",
       "4        6\n",
       "Name: education_id, dtype: int64"
      ]
     },
     "execution_count": 13,
     "metadata": {},
     "output_type": "execute_result"
    }
   ],
   "source": [
    "df['education_id'].value_counts() #получение уникальных значений"
   ]
  },
  {
   "cell_type": "markdown",
   "metadata": {},
   "source": [
    "Тут все отлично"
   ]
  },
  {
   "cell_type": "markdown",
   "metadata": {},
   "source": [
    "#### Столбец family_status"
   ]
  },
  {
   "cell_type": "code",
   "execution_count": 14,
   "metadata": {},
   "outputs": [
    {
     "data": {
      "text/plain": [
       "женат / замужем          12380\n",
       "гражданский брак          4177\n",
       "Не женат / не замужем     2813\n",
       "в разводе                 1195\n",
       "вдовец / вдова             960\n",
       "Name: family_status, dtype: int64"
      ]
     },
     "execution_count": 14,
     "metadata": {},
     "output_type": "execute_result"
    }
   ],
   "source": [
    "df['family_status'].value_counts() #получение уникальных значений"
   ]
  },
  {
   "cell_type": "markdown",
   "metadata": {},
   "source": [
    "Все хорошо"
   ]
  },
  {
   "cell_type": "markdown",
   "metadata": {},
   "source": [
    "#### Столбец family_status_id"
   ]
  },
  {
   "cell_type": "code",
   "execution_count": 15,
   "metadata": {},
   "outputs": [
    {
     "data": {
      "text/plain": [
       "0    12380\n",
       "1     4177\n",
       "4     2813\n",
       "3     1195\n",
       "2      960\n",
       "Name: family_status_id, dtype: int64"
      ]
     },
     "execution_count": 15,
     "metadata": {},
     "output_type": "execute_result"
    }
   ],
   "source": [
    "df['family_status_id'].value_counts() #получение уникальных значений"
   ]
  },
  {
   "cell_type": "markdown",
   "metadata": {},
   "source": [
    "Супер"
   ]
  },
  {
   "cell_type": "markdown",
   "metadata": {},
   "source": [
    "#### Столбец gender"
   ]
  },
  {
   "cell_type": "code",
   "execution_count": 16,
   "metadata": {},
   "outputs": [
    {
     "data": {
      "text/plain": [
       "F      14236\n",
       "M       7288\n",
       "XNA        1\n",
       "Name: gender, dtype: int64"
      ]
     },
     "execution_count": 16,
     "metadata": {},
     "output_type": "execute_result"
    }
   ],
   "source": [
    "df['gender'].value_counts() #получение уникальных значений"
   ]
  },
  {
   "cell_type": "markdown",
   "metadata": {},
   "source": [
    "Один раз встречается пропуск  \n",
    "Заменим его на F, т.к этот пол встречается почти вдвое чаще"
   ]
  },
  {
   "cell_type": "code",
   "execution_count": 17,
   "metadata": {},
   "outputs": [
    {
     "data": {
      "text/plain": [
       "F    14237\n",
       "M     7288\n",
       "Name: gender, dtype: int64"
      ]
     },
     "execution_count": 17,
     "metadata": {},
     "output_type": "execute_result"
    }
   ],
   "source": [
    "df.loc[(df['gender'] == 'XNA'), 'gender'] = 'F' #замена в столбце gender значения, равного XNA\n",
    "df['gender'].value_counts() #получение уникальных значений"
   ]
  },
  {
   "cell_type": "markdown",
   "metadata": {},
   "source": [
    "#### Столбец income_type"
   ]
  },
  {
   "cell_type": "code",
   "execution_count": 18,
   "metadata": {},
   "outputs": [
    {
     "data": {
      "text/plain": [
       "сотрудник          11119\n",
       "компаньон           5085\n",
       "пенсионер           3856\n",
       "госслужащий         1459\n",
       "предприниматель        2\n",
       "безработный            2\n",
       "в декрете              1\n",
       "студент                1\n",
       "Name: income_type, dtype: int64"
      ]
     },
     "execution_count": 18,
     "metadata": {},
     "output_type": "execute_result"
    }
   ],
   "source": [
    "df['income_type'].value_counts() #получение уникальных значений"
   ]
  },
  {
   "cell_type": "markdown",
   "metadata": {},
   "source": [
    "Отлично"
   ]
  },
  {
   "cell_type": "markdown",
   "metadata": {},
   "source": [
    "#### Столбец dept"
   ]
  },
  {
   "cell_type": "code",
   "execution_count": 19,
   "metadata": {},
   "outputs": [
    {
     "data": {
      "text/plain": [
       "0    19784\n",
       "1     1741\n",
       "Name: debt, dtype: int64"
      ]
     },
     "execution_count": 19,
     "metadata": {},
     "output_type": "execute_result"
    }
   ],
   "source": [
    "df['debt'].value_counts() #получение уникальных значений"
   ]
  },
  {
   "cell_type": "markdown",
   "metadata": {},
   "source": [
    "Супер"
   ]
  },
  {
   "cell_type": "markdown",
   "metadata": {},
   "source": [
    "#### Столбец total_income"
   ]
  },
  {
   "cell_type": "code",
   "execution_count": 20,
   "metadata": {},
   "outputs": [
    {
     "data": {
      "text/plain": [
       "169846.427535    1\n",
       "257737.077768    1\n",
       "200508.675866    1\n",
       "106196.235958    1\n",
       "248730.171354    1\n",
       "                ..\n",
       "175057.266090    1\n",
       "101516.604975    1\n",
       "239154.168013    1\n",
       "165009.733021    1\n",
       "189255.286637    1\n",
       "Name: total_income, Length: 19351, dtype: int64"
      ]
     },
     "execution_count": 20,
     "metadata": {},
     "output_type": "execute_result"
    }
   ],
   "source": [
    "df['total_income'].value_counts() #получение уникальных значений"
   ]
  },
  {
   "cell_type": "markdown",
   "metadata": {},
   "source": [
    "Снова воспользуемся методом isna()"
   ]
  },
  {
   "cell_type": "code",
   "execution_count": 21,
   "metadata": {},
   "outputs": [
    {
     "data": {
      "text/plain": [
       "2174"
      ]
     },
     "execution_count": 21,
     "metadata": {},
     "output_type": "execute_result"
    }
   ],
   "source": [
    "len(df[df['total_income'].isna()]) #вывод количествоа тех строк, где в заданном столбце есть NaN"
   ]
  },
  {
   "cell_type": "markdown",
   "metadata": {},
   "source": [
    "Тоже 2174 пропусков, как в столбце days_employed  \n",
    "Тут явно есть связь...  \n",
    "Заменим на медианное значение"
   ]
  },
  {
   "cell_type": "code",
   "execution_count": 22,
   "metadata": {},
   "outputs": [
    {
     "data": {
      "text/plain": [
       "0"
      ]
     },
     "execution_count": 22,
     "metadata": {},
     "output_type": "execute_result"
    }
   ],
   "source": [
    "df['total_income'] = df['total_income'].fillna(value=df['total_income'].median())\n",
    "#замена пропущенных значенией медианным по столбцу\n",
    "\n",
    "len(df[df['total_income'].isna()]) #вывод количества тех строк, где в заданном столбце есть NaN"
   ]
  },
  {
   "cell_type": "markdown",
   "metadata": {},
   "source": [
    "#### Столбец purpose"
   ]
  },
  {
   "cell_type": "code",
   "execution_count": 23,
   "metadata": {},
   "outputs": [
    {
     "data": {
      "text/plain": [
       "свадьба                                   797\n",
       "на проведение свадьбы                     777\n",
       "сыграть свадьбу                           774\n",
       "операции с недвижимостью                  676\n",
       "покупка коммерческой недвижимости         664\n",
       "покупка жилья для сдачи                   653\n",
       "операции с жильем                         653\n",
       "операции с коммерческой недвижимостью     651\n",
       "жилье                                     647\n",
       "покупка жилья                             647\n",
       "покупка жилья для семьи                   641\n",
       "строительство собственной недвижимости    635\n",
       "недвижимость                              634\n",
       "операции со своей недвижимостью           630\n",
       "строительство жилой недвижимости          626\n",
       "покупка недвижимости                      624\n",
       "строительство недвижимости                620\n",
       "покупка своего жилья                      620\n",
       "ремонт жилью                              612\n",
       "покупка жилой недвижимости                607\n",
       "на покупку своего автомобиля              505\n",
       "заняться высшим образованием              496\n",
       "автомобиль                                495\n",
       "сделка с подержанным автомобилем          489\n",
       "свой автомобиль                           480\n",
       "на покупку подержанного автомобиля        479\n",
       "автомобили                                478\n",
       "на покупку автомобиля                     472\n",
       "приобретение автомобиля                   462\n",
       "дополнительное образование                462\n",
       "сделка с автомобилем                      455\n",
       "высшее образование                        453\n",
       "образование                               447\n",
       "получение дополнительного образования     447\n",
       "получение образования                     443\n",
       "профильное образование                    436\n",
       "получение высшего образования             426\n",
       "заняться образованием                     412\n",
       "Name: purpose, dtype: int64"
      ]
     },
     "execution_count": 23,
     "metadata": {},
     "output_type": "execute_result"
    }
   ],
   "source": [
    "df['purpose'].value_counts() #получение уникальных значений"
   ]
  },
  {
   "cell_type": "markdown",
   "metadata": {},
   "source": [
    "Пропусков нет"
   ]
  },
  {
   "cell_type": "markdown",
   "metadata": {},
   "source": [
    "### Замена типа данных"
   ]
  },
  {
   "cell_type": "markdown",
   "metadata": {},
   "source": [
    "У столбцов days_employed и total_income данные представлены в вещественном типе, хотя никакой роли дробная часть не играет  \n",
    "Представим эти столбцы в целочисленном типе с помощью метода astype(), т.к все пропуски, могущие вызвать ошибку, устранены в предыдущем разделе"
   ]
  },
  {
   "cell_type": "markdown",
   "metadata": {},
   "source": [
    "#### Столбец days_employed"
   ]
  },
  {
   "cell_type": "code",
   "execution_count": 24,
   "metadata": {},
   "outputs": [
    {
     "data": {
      "text/html": [
       "<div>\n",
       "<style scoped>\n",
       "    .dataframe tbody tr th:only-of-type {\n",
       "        vertical-align: middle;\n",
       "    }\n",
       "\n",
       "    .dataframe tbody tr th {\n",
       "        vertical-align: top;\n",
       "    }\n",
       "\n",
       "    .dataframe thead th {\n",
       "        text-align: right;\n",
       "    }\n",
       "</style>\n",
       "<table border=\"1\" class=\"dataframe\">\n",
       "  <thead>\n",
       "    <tr style=\"text-align: right;\">\n",
       "      <th></th>\n",
       "      <th>children</th>\n",
       "      <th>days_employed</th>\n",
       "      <th>dob_years</th>\n",
       "      <th>education</th>\n",
       "      <th>education_id</th>\n",
       "      <th>family_status</th>\n",
       "      <th>family_status_id</th>\n",
       "      <th>gender</th>\n",
       "      <th>income_type</th>\n",
       "      <th>debt</th>\n",
       "      <th>total_income</th>\n",
       "      <th>purpose</th>\n",
       "    </tr>\n",
       "  </thead>\n",
       "  <tbody>\n",
       "    <tr>\n",
       "      <th>0</th>\n",
       "      <td>1</td>\n",
       "      <td>-8437</td>\n",
       "      <td>42</td>\n",
       "      <td>высшее</td>\n",
       "      <td>0</td>\n",
       "      <td>женат / замужем</td>\n",
       "      <td>0</td>\n",
       "      <td>F</td>\n",
       "      <td>сотрудник</td>\n",
       "      <td>0</td>\n",
       "      <td>253875.639453</td>\n",
       "      <td>покупка жилья</td>\n",
       "    </tr>\n",
       "    <tr>\n",
       "      <th>1</th>\n",
       "      <td>1</td>\n",
       "      <td>-4024</td>\n",
       "      <td>36</td>\n",
       "      <td>среднее</td>\n",
       "      <td>1</td>\n",
       "      <td>женат / замужем</td>\n",
       "      <td>0</td>\n",
       "      <td>F</td>\n",
       "      <td>сотрудник</td>\n",
       "      <td>0</td>\n",
       "      <td>112080.014102</td>\n",
       "      <td>приобретение автомобиля</td>\n",
       "    </tr>\n",
       "    <tr>\n",
       "      <th>2</th>\n",
       "      <td>0</td>\n",
       "      <td>-5623</td>\n",
       "      <td>33</td>\n",
       "      <td>Среднее</td>\n",
       "      <td>1</td>\n",
       "      <td>женат / замужем</td>\n",
       "      <td>0</td>\n",
       "      <td>M</td>\n",
       "      <td>сотрудник</td>\n",
       "      <td>0</td>\n",
       "      <td>145885.952297</td>\n",
       "      <td>покупка жилья</td>\n",
       "    </tr>\n",
       "    <tr>\n",
       "      <th>3</th>\n",
       "      <td>3</td>\n",
       "      <td>-4124</td>\n",
       "      <td>32</td>\n",
       "      <td>среднее</td>\n",
       "      <td>1</td>\n",
       "      <td>женат / замужем</td>\n",
       "      <td>0</td>\n",
       "      <td>M</td>\n",
       "      <td>сотрудник</td>\n",
       "      <td>0</td>\n",
       "      <td>267628.550329</td>\n",
       "      <td>дополнительное образование</td>\n",
       "    </tr>\n",
       "    <tr>\n",
       "      <th>4</th>\n",
       "      <td>0</td>\n",
       "      <td>340266</td>\n",
       "      <td>53</td>\n",
       "      <td>среднее</td>\n",
       "      <td>1</td>\n",
       "      <td>гражданский брак</td>\n",
       "      <td>1</td>\n",
       "      <td>F</td>\n",
       "      <td>пенсионер</td>\n",
       "      <td>0</td>\n",
       "      <td>158616.077870</td>\n",
       "      <td>сыграть свадьбу</td>\n",
       "    </tr>\n",
       "  </tbody>\n",
       "</table>\n",
       "</div>"
      ],
      "text/plain": [
       "   children  days_employed  dob_years education  education_id  \\\n",
       "0         1          -8437         42    высшее             0   \n",
       "1         1          -4024         36   среднее             1   \n",
       "2         0          -5623         33   Среднее             1   \n",
       "3         3          -4124         32   среднее             1   \n",
       "4         0         340266         53   среднее             1   \n",
       "\n",
       "      family_status  family_status_id gender income_type  debt   total_income  \\\n",
       "0   женат / замужем                 0      F   сотрудник     0  253875.639453   \n",
       "1   женат / замужем                 0      F   сотрудник     0  112080.014102   \n",
       "2   женат / замужем                 0      M   сотрудник     0  145885.952297   \n",
       "3   женат / замужем                 0      M   сотрудник     0  267628.550329   \n",
       "4  гражданский брак                 1      F   пенсионер     0  158616.077870   \n",
       "\n",
       "                      purpose  \n",
       "0               покупка жилья  \n",
       "1     приобретение автомобиля  \n",
       "2               покупка жилья  \n",
       "3  дополнительное образование  \n",
       "4             сыграть свадьбу  "
      ]
     },
     "execution_count": 24,
     "metadata": {},
     "output_type": "execute_result"
    }
   ],
   "source": [
    "df['days_employed'] = df['days_employed'].astype('int') #приведение к целочисленному типу\n",
    "df.head(5) #вывод первых пяти строк"
   ]
  },
  {
   "cell_type": "markdown",
   "metadata": {},
   "source": [
    "Данные в столбце days_employed какие-то странные, где-то значения отрицательные, а где-то при переводе в года дают нереальные числа  \n",
    "Хотелось бы уточнить у разработчиков, как получились такие данные и получить корректные значения  \n",
    "Видимо, использовать этот столбец при анализе не получится"
   ]
  },
  {
   "cell_type": "markdown",
   "metadata": {},
   "source": [
    "#### Столбец total_income"
   ]
  },
  {
   "cell_type": "code",
   "execution_count": 25,
   "metadata": {},
   "outputs": [
    {
     "data": {
      "text/html": [
       "<div>\n",
       "<style scoped>\n",
       "    .dataframe tbody tr th:only-of-type {\n",
       "        vertical-align: middle;\n",
       "    }\n",
       "\n",
       "    .dataframe tbody tr th {\n",
       "        vertical-align: top;\n",
       "    }\n",
       "\n",
       "    .dataframe thead th {\n",
       "        text-align: right;\n",
       "    }\n",
       "</style>\n",
       "<table border=\"1\" class=\"dataframe\">\n",
       "  <thead>\n",
       "    <tr style=\"text-align: right;\">\n",
       "      <th></th>\n",
       "      <th>children</th>\n",
       "      <th>days_employed</th>\n",
       "      <th>dob_years</th>\n",
       "      <th>education</th>\n",
       "      <th>education_id</th>\n",
       "      <th>family_status</th>\n",
       "      <th>family_status_id</th>\n",
       "      <th>gender</th>\n",
       "      <th>income_type</th>\n",
       "      <th>debt</th>\n",
       "      <th>total_income</th>\n",
       "      <th>purpose</th>\n",
       "    </tr>\n",
       "  </thead>\n",
       "  <tbody>\n",
       "    <tr>\n",
       "      <th>0</th>\n",
       "      <td>1</td>\n",
       "      <td>-8437</td>\n",
       "      <td>42</td>\n",
       "      <td>высшее</td>\n",
       "      <td>0</td>\n",
       "      <td>женат / замужем</td>\n",
       "      <td>0</td>\n",
       "      <td>F</td>\n",
       "      <td>сотрудник</td>\n",
       "      <td>0</td>\n",
       "      <td>253875</td>\n",
       "      <td>покупка жилья</td>\n",
       "    </tr>\n",
       "    <tr>\n",
       "      <th>1</th>\n",
       "      <td>1</td>\n",
       "      <td>-4024</td>\n",
       "      <td>36</td>\n",
       "      <td>среднее</td>\n",
       "      <td>1</td>\n",
       "      <td>женат / замужем</td>\n",
       "      <td>0</td>\n",
       "      <td>F</td>\n",
       "      <td>сотрудник</td>\n",
       "      <td>0</td>\n",
       "      <td>112080</td>\n",
       "      <td>приобретение автомобиля</td>\n",
       "    </tr>\n",
       "    <tr>\n",
       "      <th>2</th>\n",
       "      <td>0</td>\n",
       "      <td>-5623</td>\n",
       "      <td>33</td>\n",
       "      <td>Среднее</td>\n",
       "      <td>1</td>\n",
       "      <td>женат / замужем</td>\n",
       "      <td>0</td>\n",
       "      <td>M</td>\n",
       "      <td>сотрудник</td>\n",
       "      <td>0</td>\n",
       "      <td>145885</td>\n",
       "      <td>покупка жилья</td>\n",
       "    </tr>\n",
       "    <tr>\n",
       "      <th>3</th>\n",
       "      <td>3</td>\n",
       "      <td>-4124</td>\n",
       "      <td>32</td>\n",
       "      <td>среднее</td>\n",
       "      <td>1</td>\n",
       "      <td>женат / замужем</td>\n",
       "      <td>0</td>\n",
       "      <td>M</td>\n",
       "      <td>сотрудник</td>\n",
       "      <td>0</td>\n",
       "      <td>267628</td>\n",
       "      <td>дополнительное образование</td>\n",
       "    </tr>\n",
       "    <tr>\n",
       "      <th>4</th>\n",
       "      <td>0</td>\n",
       "      <td>340266</td>\n",
       "      <td>53</td>\n",
       "      <td>среднее</td>\n",
       "      <td>1</td>\n",
       "      <td>гражданский брак</td>\n",
       "      <td>1</td>\n",
       "      <td>F</td>\n",
       "      <td>пенсионер</td>\n",
       "      <td>0</td>\n",
       "      <td>158616</td>\n",
       "      <td>сыграть свадьбу</td>\n",
       "    </tr>\n",
       "  </tbody>\n",
       "</table>\n",
       "</div>"
      ],
      "text/plain": [
       "   children  days_employed  dob_years education  education_id  \\\n",
       "0         1          -8437         42    высшее             0   \n",
       "1         1          -4024         36   среднее             1   \n",
       "2         0          -5623         33   Среднее             1   \n",
       "3         3          -4124         32   среднее             1   \n",
       "4         0         340266         53   среднее             1   \n",
       "\n",
       "      family_status  family_status_id gender income_type  debt  total_income  \\\n",
       "0   женат / замужем                 0      F   сотрудник     0        253875   \n",
       "1   женат / замужем                 0      F   сотрудник     0        112080   \n",
       "2   женат / замужем                 0      M   сотрудник     0        145885   \n",
       "3   женат / замужем                 0      M   сотрудник     0        267628   \n",
       "4  гражданский брак                 1      F   пенсионер     0        158616   \n",
       "\n",
       "                      purpose  \n",
       "0               покупка жилья  \n",
       "1     приобретение автомобиля  \n",
       "2               покупка жилья  \n",
       "3  дополнительное образование  \n",
       "4             сыграть свадьбу  "
      ]
     },
     "execution_count": 25,
     "metadata": {},
     "output_type": "execute_result"
    }
   ],
   "source": [
    "df['total_income'] = df['total_income'].astype(int) #приведение к целочисленному типу\n",
    "df.head(5) #вывод первых пяти строк"
   ]
  },
  {
   "cell_type": "markdown",
   "metadata": {},
   "source": [
    "Теперь числа в столбце удобнее для восприятия"
   ]
  },
  {
   "cell_type": "markdown",
   "metadata": {},
   "source": [
    "#### Столбец debt"
   ]
  },
  {
   "cell_type": "code",
   "execution_count": 26,
   "metadata": {},
   "outputs": [
    {
     "data": {
      "text/html": [
       "<div>\n",
       "<style scoped>\n",
       "    .dataframe tbody tr th:only-of-type {\n",
       "        vertical-align: middle;\n",
       "    }\n",
       "\n",
       "    .dataframe tbody tr th {\n",
       "        vertical-align: top;\n",
       "    }\n",
       "\n",
       "    .dataframe thead th {\n",
       "        text-align: right;\n",
       "    }\n",
       "</style>\n",
       "<table border=\"1\" class=\"dataframe\">\n",
       "  <thead>\n",
       "    <tr style=\"text-align: right;\">\n",
       "      <th></th>\n",
       "      <th>children</th>\n",
       "      <th>days_employed</th>\n",
       "      <th>dob_years</th>\n",
       "      <th>education</th>\n",
       "      <th>education_id</th>\n",
       "      <th>family_status</th>\n",
       "      <th>family_status_id</th>\n",
       "      <th>gender</th>\n",
       "      <th>income_type</th>\n",
       "      <th>debt</th>\n",
       "      <th>total_income</th>\n",
       "      <th>purpose</th>\n",
       "    </tr>\n",
       "  </thead>\n",
       "  <tbody>\n",
       "    <tr>\n",
       "      <th>0</th>\n",
       "      <td>1</td>\n",
       "      <td>-8437</td>\n",
       "      <td>42</td>\n",
       "      <td>высшее</td>\n",
       "      <td>0</td>\n",
       "      <td>женат / замужем</td>\n",
       "      <td>0</td>\n",
       "      <td>F</td>\n",
       "      <td>сотрудник</td>\n",
       "      <td>False</td>\n",
       "      <td>253875</td>\n",
       "      <td>покупка жилья</td>\n",
       "    </tr>\n",
       "    <tr>\n",
       "      <th>1</th>\n",
       "      <td>1</td>\n",
       "      <td>-4024</td>\n",
       "      <td>36</td>\n",
       "      <td>среднее</td>\n",
       "      <td>1</td>\n",
       "      <td>женат / замужем</td>\n",
       "      <td>0</td>\n",
       "      <td>F</td>\n",
       "      <td>сотрудник</td>\n",
       "      <td>False</td>\n",
       "      <td>112080</td>\n",
       "      <td>приобретение автомобиля</td>\n",
       "    </tr>\n",
       "    <tr>\n",
       "      <th>2</th>\n",
       "      <td>0</td>\n",
       "      <td>-5623</td>\n",
       "      <td>33</td>\n",
       "      <td>Среднее</td>\n",
       "      <td>1</td>\n",
       "      <td>женат / замужем</td>\n",
       "      <td>0</td>\n",
       "      <td>M</td>\n",
       "      <td>сотрудник</td>\n",
       "      <td>False</td>\n",
       "      <td>145885</td>\n",
       "      <td>покупка жилья</td>\n",
       "    </tr>\n",
       "    <tr>\n",
       "      <th>3</th>\n",
       "      <td>3</td>\n",
       "      <td>-4124</td>\n",
       "      <td>32</td>\n",
       "      <td>среднее</td>\n",
       "      <td>1</td>\n",
       "      <td>женат / замужем</td>\n",
       "      <td>0</td>\n",
       "      <td>M</td>\n",
       "      <td>сотрудник</td>\n",
       "      <td>False</td>\n",
       "      <td>267628</td>\n",
       "      <td>дополнительное образование</td>\n",
       "    </tr>\n",
       "    <tr>\n",
       "      <th>4</th>\n",
       "      <td>0</td>\n",
       "      <td>340266</td>\n",
       "      <td>53</td>\n",
       "      <td>среднее</td>\n",
       "      <td>1</td>\n",
       "      <td>гражданский брак</td>\n",
       "      <td>1</td>\n",
       "      <td>F</td>\n",
       "      <td>пенсионер</td>\n",
       "      <td>False</td>\n",
       "      <td>158616</td>\n",
       "      <td>сыграть свадьбу</td>\n",
       "    </tr>\n",
       "  </tbody>\n",
       "</table>\n",
       "</div>"
      ],
      "text/plain": [
       "   children  days_employed  dob_years education  education_id  \\\n",
       "0         1          -8437         42    высшее             0   \n",
       "1         1          -4024         36   среднее             1   \n",
       "2         0          -5623         33   Среднее             1   \n",
       "3         3          -4124         32   среднее             1   \n",
       "4         0         340266         53   среднее             1   \n",
       "\n",
       "      family_status  family_status_id gender income_type   debt  total_income  \\\n",
       "0   женат / замужем                 0      F   сотрудник  False        253875   \n",
       "1   женат / замужем                 0      F   сотрудник  False        112080   \n",
       "2   женат / замужем                 0      M   сотрудник  False        145885   \n",
       "3   женат / замужем                 0      M   сотрудник  False        267628   \n",
       "4  гражданский брак                 1      F   пенсионер  False        158616   \n",
       "\n",
       "                      purpose  \n",
       "0               покупка жилья  \n",
       "1     приобретение автомобиля  \n",
       "2               покупка жилья  \n",
       "3  дополнительное образование  \n",
       "4             сыграть свадьбу  "
      ]
     },
     "execution_count": 26,
     "metadata": {},
     "output_type": "execute_result"
    }
   ],
   "source": [
    "df['debt'] = df['debt'].astype(bool) #приведение к целочисленному типу\n",
    "df.head(5) #вывод первых пяти строк"
   ]
  },
  {
   "cell_type": "markdown",
   "metadata": {},
   "source": [
    "Debt действительно лучше переводить в bool"
   ]
  },
  {
   "cell_type": "markdown",
   "metadata": {},
   "source": [
    "### Обработка дубликатов"
   ]
  },
  {
   "cell_type": "markdown",
   "metadata": {},
   "source": [
    "#### Столбец education"
   ]
  },
  {
   "cell_type": "code",
   "execution_count": 27,
   "metadata": {},
   "outputs": [
    {
     "data": {
      "text/plain": [
       "среднее                13750\n",
       "высшее                  4718\n",
       "СРЕДНЕЕ                  772\n",
       "Среднее                  711\n",
       "неоконченное высшее      668\n",
       "ВЫСШЕЕ                   274\n",
       "Высшее                   268\n",
       "начальное                250\n",
       "Неоконченное высшее       47\n",
       "НЕОКОНЧЕННОЕ ВЫСШЕЕ       29\n",
       "НАЧАЛЬНОЕ                 17\n",
       "Начальное                 15\n",
       "ученая степень             4\n",
       "Ученая степень             1\n",
       "УЧЕНАЯ СТЕПЕНЬ             1\n",
       "Name: education, dtype: int64"
      ]
     },
     "execution_count": 27,
     "metadata": {},
     "output_type": "execute_result"
    }
   ],
   "source": [
    "df['education'].value_counts() #получение уникальных значений"
   ]
  },
  {
   "cell_type": "markdown",
   "metadata": {},
   "source": [
    "Приведем все значения к нижнему регистру методом str.lower()"
   ]
  },
  {
   "cell_type": "code",
   "execution_count": 28,
   "metadata": {},
   "outputs": [
    {
     "data": {
      "text/plain": [
       "среднее                15233\n",
       "высшее                  5260\n",
       "неоконченное высшее      744\n",
       "начальное                282\n",
       "ученая степень             6\n",
       "Name: education, dtype: int64"
      ]
     },
     "execution_count": 28,
     "metadata": {},
     "output_type": "execute_result"
    }
   ],
   "source": [
    "df['education']=df['education'].str.lower() #приведение к нижнему регистру\n",
    "\n",
    "df['education'].value_counts() #получение уникальных значений"
   ]
  },
  {
   "cell_type": "code",
   "execution_count": 29,
   "metadata": {},
   "outputs": [
    {
     "data": {
      "text/plain": [
       "0        False\n",
       "1        False\n",
       "2         True\n",
       "3         True\n",
       "4         True\n",
       "         ...  \n",
       "21520     True\n",
       "21521     True\n",
       "21522     True\n",
       "21523     True\n",
       "21524     True\n",
       "Name: education, Length: 21525, dtype: bool"
      ]
     },
     "execution_count": 29,
     "metadata": {},
     "output_type": "execute_result"
    }
   ],
   "source": [
    "df['education'].duplicated()"
   ]
  },
  {
   "cell_type": "code",
   "execution_count": 30,
   "metadata": {},
   "outputs": [
    {
     "data": {
      "text/plain": [
       "21520"
      ]
     },
     "execution_count": 30,
     "metadata": {},
     "output_type": "execute_result"
    }
   ],
   "source": [
    "df['education'].duplicated().sum()"
   ]
  },
  {
   "cell_type": "code",
   "execution_count": 31,
   "metadata": {},
   "outputs": [
    {
     "data": {
      "text/plain": [
       "71"
      ]
     },
     "execution_count": 31,
     "metadata": {},
     "output_type": "execute_result"
    }
   ],
   "source": [
    "df.duplicated().sum()"
   ]
  },
  {
   "cell_type": "code",
   "execution_count": 32,
   "metadata": {},
   "outputs": [],
   "source": [
    "df = df.drop_duplicates().reset_index(drop=True) "
   ]
  },
  {
   "cell_type": "code",
   "execution_count": 33,
   "metadata": {},
   "outputs": [
    {
     "data": {
      "text/plain": [
       "0"
      ]
     },
     "execution_count": 33,
     "metadata": {},
     "output_type": "execute_result"
    }
   ],
   "source": [
    "df.duplicated().sum()"
   ]
  },
  {
   "cell_type": "markdown",
   "metadata": {},
   "source": [
    "### Лемматизация"
   ]
  },
  {
   "cell_type": "code",
   "execution_count": 34,
   "metadata": {},
   "outputs": [],
   "source": [
    "m = Mystem() #создание объекта класса Mystem"
   ]
  },
  {
   "cell_type": "code",
   "execution_count": 35,
   "metadata": {},
   "outputs": [
    {
     "data": {
      "text/plain": [
       "свадьба                                   791\n",
       "на проведение свадьбы                     768\n",
       "сыграть свадьбу                           765\n",
       "операции с недвижимостью                  675\n",
       "покупка коммерческой недвижимости         661\n",
       "операции с жильем                         652\n",
       "покупка жилья для сдачи                   651\n",
       "операции с коммерческой недвижимостью     650\n",
       "жилье                                     646\n",
       "покупка жилья                             646\n",
       "покупка жилья для семьи                   638\n",
       "строительство собственной недвижимости    635\n",
       "недвижимость                              633\n",
       "операции со своей недвижимостью           627\n",
       "строительство жилой недвижимости          624\n",
       "покупка недвижимости                      621\n",
       "покупка своего жилья                      620\n",
       "строительство недвижимости                619\n",
       "ремонт жилью                              607\n",
       "покупка жилой недвижимости                606\n",
       "на покупку своего автомобиля              505\n",
       "заняться высшим образованием              496\n",
       "автомобиль                                494\n",
       "сделка с подержанным автомобилем          486\n",
       "автомобили                                478\n",
       "свой автомобиль                           478\n",
       "на покупку подержанного автомобиля        478\n",
       "на покупку автомобиля                     471\n",
       "приобретение автомобиля                   461\n",
       "дополнительное образование                460\n",
       "сделка с автомобилем                      455\n",
       "высшее образование                        452\n",
       "образование                               447\n",
       "получение дополнительного образования     446\n",
       "получение образования                     442\n",
       "профильное образование                    436\n",
       "получение высшего образования             426\n",
       "заняться образованием                     408\n",
       "Name: purpose, dtype: int64"
      ]
     },
     "execution_count": 35,
     "metadata": {},
     "output_type": "execute_result"
    }
   ],
   "source": [
    "df['purpose'].value_counts() #получение уникальных значений"
   ]
  },
  {
   "cell_type": "markdown",
   "metadata": {},
   "source": [
    "Произведем лемматизацию"
   ]
  },
  {
   "cell_type": "code",
   "execution_count": 36,
   "metadata": {},
   "outputs": [],
   "source": [
    "df['lemmas'] = df['purpose'].apply(m.lemmatize) \n",
    "#лемматизация значений в столбце purpose и запись их в столбец lemmas"
   ]
  },
  {
   "cell_type": "code",
   "execution_count": 37,
   "metadata": {},
   "outputs": [
    {
     "data": {
      "text/html": [
       "<div>\n",
       "<style scoped>\n",
       "    .dataframe tbody tr th:only-of-type {\n",
       "        vertical-align: middle;\n",
       "    }\n",
       "\n",
       "    .dataframe tbody tr th {\n",
       "        vertical-align: top;\n",
       "    }\n",
       "\n",
       "    .dataframe thead th {\n",
       "        text-align: right;\n",
       "    }\n",
       "</style>\n",
       "<table border=\"1\" class=\"dataframe\">\n",
       "  <thead>\n",
       "    <tr style=\"text-align: right;\">\n",
       "      <th></th>\n",
       "      <th>lemmas</th>\n",
       "    </tr>\n",
       "  </thead>\n",
       "  <tbody>\n",
       "    <tr>\n",
       "      <th>[автомобиль, \\n]</th>\n",
       "      <td>972</td>\n",
       "    </tr>\n",
       "    <tr>\n",
       "      <th>[свадьба, \\n]</th>\n",
       "      <td>791</td>\n",
       "    </tr>\n",
       "    <tr>\n",
       "      <th>[на,  , проведение,  , свадьба, \\n]</th>\n",
       "      <td>768</td>\n",
       "    </tr>\n",
       "    <tr>\n",
       "      <th>[сыграть,  , свадьба, \\n]</th>\n",
       "      <td>765</td>\n",
       "    </tr>\n",
       "    <tr>\n",
       "      <th>[операция,  , с,  , недвижимость, \\n]</th>\n",
       "      <td>675</td>\n",
       "    </tr>\n",
       "    <tr>\n",
       "      <th>[покупка,  , коммерческий,  , недвижимость, \\n]</th>\n",
       "      <td>661</td>\n",
       "    </tr>\n",
       "    <tr>\n",
       "      <th>[операция,  , с,  , жилье, \\n]</th>\n",
       "      <td>652</td>\n",
       "    </tr>\n",
       "    <tr>\n",
       "      <th>[покупка,  , жилье,  , для,  , сдача, \\n]</th>\n",
       "      <td>651</td>\n",
       "    </tr>\n",
       "    <tr>\n",
       "      <th>[операция,  , с,  , коммерческий,  , недвижимость, \\n]</th>\n",
       "      <td>650</td>\n",
       "    </tr>\n",
       "    <tr>\n",
       "      <th>[покупка,  , жилье, \\n]</th>\n",
       "      <td>646</td>\n",
       "    </tr>\n",
       "    <tr>\n",
       "      <th>[жилье, \\n]</th>\n",
       "      <td>646</td>\n",
       "    </tr>\n",
       "    <tr>\n",
       "      <th>[покупка,  , жилье,  , для,  , семья, \\n]</th>\n",
       "      <td>638</td>\n",
       "    </tr>\n",
       "    <tr>\n",
       "      <th>[строительство,  , собственный,  , недвижимость, \\n]</th>\n",
       "      <td>635</td>\n",
       "    </tr>\n",
       "    <tr>\n",
       "      <th>[недвижимость, \\n]</th>\n",
       "      <td>633</td>\n",
       "    </tr>\n",
       "    <tr>\n",
       "      <th>[операция,  , со,  , свой,  , недвижимость, \\n]</th>\n",
       "      <td>627</td>\n",
       "    </tr>\n",
       "    <tr>\n",
       "      <th>[строительство,  , жилой,  , недвижимость, \\n]</th>\n",
       "      <td>624</td>\n",
       "    </tr>\n",
       "    <tr>\n",
       "      <th>[покупка,  , недвижимость, \\n]</th>\n",
       "      <td>621</td>\n",
       "    </tr>\n",
       "    <tr>\n",
       "      <th>[покупка,  , свой,  , жилье, \\n]</th>\n",
       "      <td>620</td>\n",
       "    </tr>\n",
       "    <tr>\n",
       "      <th>[строительство,  , недвижимость, \\n]</th>\n",
       "      <td>619</td>\n",
       "    </tr>\n",
       "    <tr>\n",
       "      <th>[ремонт,  , жилье, \\n]</th>\n",
       "      <td>607</td>\n",
       "    </tr>\n",
       "    <tr>\n",
       "      <th>[покупка,  , жилой,  , недвижимость, \\n]</th>\n",
       "      <td>606</td>\n",
       "    </tr>\n",
       "    <tr>\n",
       "      <th>[на,  , покупка,  , свой,  , автомобиль, \\n]</th>\n",
       "      <td>505</td>\n",
       "    </tr>\n",
       "    <tr>\n",
       "      <th>[заниматься,  , высокий,  , образование, \\n]</th>\n",
       "      <td>496</td>\n",
       "    </tr>\n",
       "    <tr>\n",
       "      <th>[сделка,  , с,  , подержанный,  , автомобиль, \\n]</th>\n",
       "      <td>486</td>\n",
       "    </tr>\n",
       "    <tr>\n",
       "      <th>[на,  , покупка,  , подержать,  , автомобиль, \\n]</th>\n",
       "      <td>478</td>\n",
       "    </tr>\n",
       "    <tr>\n",
       "      <th>[свой,  , автомобиль, \\n]</th>\n",
       "      <td>478</td>\n",
       "    </tr>\n",
       "    <tr>\n",
       "      <th>[на,  , покупка,  , автомобиль, \\n]</th>\n",
       "      <td>471</td>\n",
       "    </tr>\n",
       "    <tr>\n",
       "      <th>[приобретение,  , автомобиль, \\n]</th>\n",
       "      <td>461</td>\n",
       "    </tr>\n",
       "    <tr>\n",
       "      <th>[дополнительный,  , образование, \\n]</th>\n",
       "      <td>460</td>\n",
       "    </tr>\n",
       "    <tr>\n",
       "      <th>[сделка,  , с,  , автомобиль, \\n]</th>\n",
       "      <td>455</td>\n",
       "    </tr>\n",
       "    <tr>\n",
       "      <th>[высокий,  , образование, \\n]</th>\n",
       "      <td>452</td>\n",
       "    </tr>\n",
       "    <tr>\n",
       "      <th>[образование, \\n]</th>\n",
       "      <td>447</td>\n",
       "    </tr>\n",
       "    <tr>\n",
       "      <th>[получение,  , дополнительный,  , образование, \\n]</th>\n",
       "      <td>446</td>\n",
       "    </tr>\n",
       "    <tr>\n",
       "      <th>[получение,  , образование, \\n]</th>\n",
       "      <td>442</td>\n",
       "    </tr>\n",
       "    <tr>\n",
       "      <th>[профильный,  , образование, \\n]</th>\n",
       "      <td>436</td>\n",
       "    </tr>\n",
       "    <tr>\n",
       "      <th>[получение,  , высокий,  , образование, \\n]</th>\n",
       "      <td>426</td>\n",
       "    </tr>\n",
       "    <tr>\n",
       "      <th>[заниматься,  , образование, \\n]</th>\n",
       "      <td>408</td>\n",
       "    </tr>\n",
       "  </tbody>\n",
       "</table>\n",
       "</div>"
      ],
      "text/plain": [
       "                                                    lemmas\n",
       "[автомобиль, \\n]                                       972\n",
       "[свадьба, \\n]                                          791\n",
       "[на,  , проведение,  , свадьба, \\n]                    768\n",
       "[сыграть,  , свадьба, \\n]                              765\n",
       "[операция,  , с,  , недвижимость, \\n]                  675\n",
       "[покупка,  , коммерческий,  , недвижимость, \\n]        661\n",
       "[операция,  , с,  , жилье, \\n]                         652\n",
       "[покупка,  , жилье,  , для,  , сдача, \\n]              651\n",
       "[операция,  , с,  , коммерческий,  , недвижимос...     650\n",
       "[покупка,  , жилье, \\n]                                646\n",
       "[жилье, \\n]                                            646\n",
       "[покупка,  , жилье,  , для,  , семья, \\n]              638\n",
       "[строительство,  , собственный,  , недвижимость...     635\n",
       "[недвижимость, \\n]                                     633\n",
       "[операция,  , со,  , свой,  , недвижимость, \\n]        627\n",
       "[строительство,  , жилой,  , недвижимость, \\n]         624\n",
       "[покупка,  , недвижимость, \\n]                         621\n",
       "[покупка,  , свой,  , жилье, \\n]                       620\n",
       "[строительство,  , недвижимость, \\n]                   619\n",
       "[ремонт,  , жилье, \\n]                                 607\n",
       "[покупка,  , жилой,  , недвижимость, \\n]               606\n",
       "[на,  , покупка,  , свой,  , автомобиль, \\n]           505\n",
       "[заниматься,  , высокий,  , образование, \\n]           496\n",
       "[сделка,  , с,  , подержанный,  , автомобиль, \\n]      486\n",
       "[на,  , покупка,  , подержать,  , автомобиль, \\n]      478\n",
       "[свой,  , автомобиль, \\n]                              478\n",
       "[на,  , покупка,  , автомобиль, \\n]                    471\n",
       "[приобретение,  , автомобиль, \\n]                      461\n",
       "[дополнительный,  , образование, \\n]                   460\n",
       "[сделка,  , с,  , автомобиль, \\n]                      455\n",
       "[высокий,  , образование, \\n]                          452\n",
       "[образование, \\n]                                      447\n",
       "[получение,  , дополнительный,  , образование, \\n]     446\n",
       "[получение,  , образование, \\n]                        442\n",
       "[профильный,  , образование, \\n]                       436\n",
       "[получение,  , высокий,  , образование, \\n]            426\n",
       "[заниматься,  , образование, \\n]                       408"
      ]
     },
     "execution_count": 37,
     "metadata": {},
     "output_type": "execute_result"
    }
   ],
   "source": [
    "df['lemmas'].value_counts().to_frame() #получение уникальных значений"
   ]
  },
  {
   "cell_type": "markdown",
   "metadata": {},
   "source": [
    "Много дублирующихся значений"
   ]
  },
  {
   "cell_type": "code",
   "execution_count": 38,
   "metadata": {},
   "outputs": [
    {
     "data": {
      "text/plain": [
       "['\\n',\n",
       " ' ',\n",
       " 'автомобиль',\n",
       " 'высокий',\n",
       " 'для',\n",
       " 'дополнительный',\n",
       " 'жилой',\n",
       " 'жилье',\n",
       " 'заниматься',\n",
       " 'коммерческий',\n",
       " 'на',\n",
       " 'недвижимость',\n",
       " 'образование',\n",
       " 'операция',\n",
       " 'подержанный',\n",
       " 'подержать',\n",
       " 'покупка',\n",
       " 'получение',\n",
       " 'приобретение',\n",
       " 'проведение',\n",
       " 'профильный',\n",
       " 'ремонт',\n",
       " 'с',\n",
       " 'свадьба',\n",
       " 'свой',\n",
       " 'сдача',\n",
       " 'сделка',\n",
       " 'семья',\n",
       " 'со',\n",
       " 'собственный',\n",
       " 'строительство',\n",
       " 'сыграть']"
      ]
     },
     "execution_count": 38,
     "metadata": {},
     "output_type": "execute_result"
    }
   ],
   "source": [
    "lemmas = df['lemmas'].value_counts().index.tolist() \n",
    "#скопируем из столбца lemmas уникальные значения (списки слов), т.е индексы, в список lemmas\n",
    "\n",
    "#получился список списков, преобразуем в единый список\n",
    "lemmas_list = [] #пустой список, куда добавим вложенные списки\n",
    "\n",
    "for lemma in lemmas: #пройдемся по всему списку\n",
    "    lemmas_list.extend(lemma) #добавим список в новый методом extend()\n",
    "    \n",
    "words = sorted(list(set(lemmas_list))) \n",
    "#получим сортированный список, при этом для уникальности значений используем преобразование в set\n",
    "\n",
    "words"
   ]
  },
  {
   "cell_type": "markdown",
   "metadata": {},
   "source": [
    "С данными в таком виде гораздо проще и удобнее работать  \n",
    "Выделим из этого списка ключевые слова и произведем стемминг для получения основ слов"
   ]
  },
  {
   "cell_type": "code",
   "execution_count": 39,
   "metadata": {},
   "outputs": [],
   "source": [
    "russian_stemmer = SnowballStemmer('russian')"
   ]
  },
  {
   "cell_type": "code",
   "execution_count": 40,
   "metadata": {},
   "outputs": [
    {
     "name": "stdout",
     "output_type": "stream",
     "text": [
      "Исходное слово: автомобиль, после стемминга: автомобил\n",
      "Исходное слово: жилье, после стемминга: жил\n",
      "Исходное слово: недвижимость, после стемминга: недвижим\n",
      "Исходное слово: образование, после стемминга: образован\n",
      "Исходное слово: свадьба, после стемминга: свадьб\n"
     ]
    }
   ],
   "source": [
    "words = ['автомобиль', 'жилье', 'недвижимость', 'образование', 'свадьба'] #список ключевых слов\n",
    "\n",
    "for word in words:\n",
    "    print ('Исходное слово: ' + word + ', после стемминга: ' + russian_stemmer.stem(word)) #стемминг слов"
   ]
  },
  {
   "cell_type": "markdown",
   "metadata": {},
   "source": [
    "### Категоризация данных"
   ]
  },
  {
   "cell_type": "markdown",
   "metadata": {},
   "source": [
    "#### Категоризация по цели кредита"
   ]
  },
  {
   "cell_type": "markdown",
   "metadata": {},
   "source": [
    "В предыдущем разделе мы обработали текстовые данные, таким образом получив список основ слов, при помощи которых можно провести категоризацию по цели кредита  \n",
    "\n",
    "Всего можно выделить 4 цели:\n",
    "* Автомобиль\n",
    "* Недвижимость\n",
    "* Образование\n",
    "* Свадьба"
   ]
  },
  {
   "cell_type": "code",
   "execution_count": 41,
   "metadata": {},
   "outputs": [],
   "source": [
    "def category(purpose): #функция, возвращающая значение категории\n",
    "    if 'автомобил' in purpose:\n",
    "        return 'Автомобиль'\n",
    "    if 'жил' in purpose or 'недвижим' in purpose:\n",
    "        return 'Недвижимость'\n",
    "    if 'образован' in purpose:\n",
    "        return 'Образование'\n",
    "    if 'свадьб' in purpose:\n",
    "        return 'Свадьба'"
   ]
  },
  {
   "cell_type": "code",
   "execution_count": 42,
   "metadata": {},
   "outputs": [],
   "source": [
    "df['purpose_category'] = df['purpose'].apply(category) \n",
    "#получение столбца purpose_category, содержащего категорию цели кредита"
   ]
  },
  {
   "cell_type": "code",
   "execution_count": 43,
   "metadata": {},
   "outputs": [
    {
     "data": {
      "text/plain": [
       "Недвижимость    10811\n",
       "Автомобиль       4306\n",
       "Образование      4013\n",
       "Свадьба          2324\n",
       "Name: purpose_category, dtype: int64"
      ]
     },
     "execution_count": 43,
     "metadata": {},
     "output_type": "execute_result"
    }
   ],
   "source": [
    "df['purpose_category'].value_counts() #вывод количества уникальных значений"
   ]
  },
  {
   "cell_type": "markdown",
   "metadata": {},
   "source": [
    "Получили столбец датафрейма, содержащий нужную категорию для каждой цели кредита"
   ]
  },
  {
   "cell_type": "markdown",
   "metadata": {},
   "source": [
    "#### Категоризация по наличию или отсуствию детей"
   ]
  },
  {
   "cell_type": "markdown",
   "metadata": {},
   "source": [
    "Произведем категоризацию по наличию или отсутствию детей  \n",
    "Так как категорий всего две, разумно использовать тип bool"
   ]
  },
  {
   "cell_type": "code",
   "execution_count": 44,
   "metadata": {},
   "outputs": [],
   "source": [
    "def category(children): #функция, возвращающая значение категории\n",
    "    if children == 0:\n",
    "        return False #если детей нет, вернуть False\n",
    "    else:\n",
    "        return True #если дети есть, вернуть True"
   ]
  },
  {
   "cell_type": "code",
   "execution_count": 45,
   "metadata": {},
   "outputs": [],
   "source": [
    "df['children_category'] = df['children'].apply(category) \n",
    "#получение столбца children_category, содержащего категорию наличия детей"
   ]
  },
  {
   "cell_type": "code",
   "execution_count": 46,
   "metadata": {
    "scrolled": true
   },
   "outputs": [
    {
     "data": {
      "text/plain": [
       "False    14091\n",
       "True      7363\n",
       "Name: children_category, dtype: int64"
      ]
     },
     "execution_count": 46,
     "metadata": {},
     "output_type": "execute_result"
    }
   ],
   "source": [
    "df['children_category'].value_counts() #вывод количества уникальных значений"
   ]
  },
  {
   "cell_type": "markdown",
   "metadata": {},
   "source": [
    "Получили столбец датафрейма, содержащий нужную категорию для наличия или отсутствия детей"
   ]
  },
  {
   "cell_type": "markdown",
   "metadata": {},
   "source": [
    "#### Категоризация по уровню дохода"
   ]
  },
  {
   "cell_type": "markdown",
   "metadata": {},
   "source": [
    "Произведем категоризацию по уровню дохода  \n",
    "Воспользуемся методом describe() для вычисления сводных статистик"
   ]
  },
  {
   "cell_type": "code",
   "execution_count": 47,
   "metadata": {},
   "outputs": [
    {
     "data": {
      "text/plain": [
       "count      21454\n",
       "mean      165225\n",
       "std        98021\n",
       "min        20667\n",
       "25%       107623\n",
       "50%       145017\n",
       "75%       195813\n",
       "max      2265604\n",
       "Name: total_income, dtype: int64"
      ]
     },
     "execution_count": 47,
     "metadata": {},
     "output_type": "execute_result"
    }
   ],
   "source": [
    "df['total_income'].describe().astype('int')"
   ]
  },
  {
   "cell_type": "code",
   "execution_count": 48,
   "metadata": {},
   "outputs": [
    {
     "data": {
      "text/plain": [
       "1    6415\n",
       "0    5364\n",
       "3    5364\n",
       "2    4311\n",
       "Name: quantile_id, dtype: int64"
      ]
     },
     "execution_count": 48,
     "metadata": {},
     "output_type": "execute_result"
    }
   ],
   "source": [
    "df['quantile_id'] = pd.qcut(df['total_income'], q=4,labels=False)\n",
    "df['quantile_id'].value_counts()"
   ]
  },
  {
   "cell_type": "code",
   "execution_count": 49,
   "metadata": {},
   "outputs": [
    {
     "data": {
      "text/plain": [
       "(107623.0, 145017.0]      6415\n",
       "(20666.999, 107623.0]     5364\n",
       "(195813.25, 2265604.0]    5364\n",
       "(145017.0, 195813.25]     4311\n",
       "Name: quantile, dtype: int64"
      ]
     },
     "execution_count": 49,
     "metadata": {},
     "output_type": "execute_result"
    }
   ],
   "source": [
    "df['quantile'] = pd.qcut(df['total_income'], q=4)\n",
    "df['quantile'].value_counts()"
   ]
  },
  {
   "cell_type": "markdown",
   "metadata": {},
   "source": [
    "## Шаг 3. Ответьте на вопросы"
   ]
  },
  {
   "cell_type": "markdown",
   "metadata": {},
   "source": [
    "### Есть ли зависимость между наличием детей и возвратом кредита в срок?"
   ]
  },
  {
   "cell_type": "markdown",
   "metadata": {},
   "source": [
    "В предыдущем пункте мы получили категории для наличия или отсутствия детей  \n",
    "Теперь необходимо вывести взаимосвязь между наличием детей и возвратом кредита в срок"
   ]
  },
  {
   "cell_type": "markdown",
   "metadata": {},
   "source": [
    "Для начала сформируем датафрейм, который будет содержать сводные данные по категории и количеству \"хороших\" и \"плохих\" задолженностей"
   ]
  },
  {
   "cell_type": "markdown",
   "metadata": {},
   "source": [
    "Напишем функцию, которая будет возвращать Series из количества сгруппированных и отфильтрованных по debt записей"
   ]
  },
  {
   "cell_type": "code",
   "execution_count": 50,
   "metadata": {},
   "outputs": [],
   "source": [
    "def df_category_debt(column, debt):\n",
    "    return df[df['debt'] == debt].groupby(column)['debt'].count()"
   ]
  },
  {
   "cell_type": "code",
   "execution_count": 51,
   "metadata": {
    "scrolled": true
   },
   "outputs": [
    {
     "data": {
      "text/html": [
       "<div>\n",
       "<style scoped>\n",
       "    .dataframe tbody tr th:only-of-type {\n",
       "        vertical-align: middle;\n",
       "    }\n",
       "\n",
       "    .dataframe tbody tr th {\n",
       "        vertical-align: top;\n",
       "    }\n",
       "\n",
       "    .dataframe thead th {\n",
       "        text-align: right;\n",
       "    }\n",
       "</style>\n",
       "<table border=\"1\" class=\"dataframe\">\n",
       "  <thead>\n",
       "    <tr style=\"text-align: right;\">\n",
       "      <th></th>\n",
       "      <th>debt</th>\n",
       "      <th>ok</th>\n",
       "    </tr>\n",
       "    <tr>\n",
       "      <th>children_category</th>\n",
       "      <th></th>\n",
       "      <th></th>\n",
       "    </tr>\n",
       "  </thead>\n",
       "  <tbody>\n",
       "    <tr>\n",
       "      <th>False</th>\n",
       "      <td>1063</td>\n",
       "      <td>13028</td>\n",
       "    </tr>\n",
       "    <tr>\n",
       "      <th>True</th>\n",
       "      <td>678</td>\n",
       "      <td>6685</td>\n",
       "    </tr>\n",
       "  </tbody>\n",
       "</table>\n",
       "</div>"
      ],
      "text/plain": [
       "                   debt     ok\n",
       "children_category             \n",
       "False              1063  13028\n",
       "True                678   6685"
      ]
     },
     "execution_count": 51,
     "metadata": {},
     "output_type": "execute_result"
    }
   ],
   "source": [
    "df_children = df_category_debt('children_category', True).to_frame()\n",
    "\n",
    "df_children['ok'] = df_category_debt('children_category', False)\n",
    "#проделаем то же самое для записей, где просрочка отсуствует, \n",
    "#после чего получившийся столбец добавим к датафрейму\n",
    "\n",
    "df_children #выведем датафрейм на экран"
   ]
  },
  {
   "cell_type": "markdown",
   "metadata": {},
   "source": [
    "Получили количество просрочек и выплаченных задолженностей для каждой категории  \n",
    "Но полученные абсолютные значения неинформативны, следовательно, нужно вычислить относительные значения (проценты)"
   ]
  },
  {
   "cell_type": "markdown",
   "metadata": {},
   "source": [
    "Напишем функцию, которая будет возвращать Series из процентов просроченных задолженностей"
   ]
  },
  {
   "cell_type": "code",
   "execution_count": 52,
   "metadata": {},
   "outputs": [],
   "source": [
    "def percent (df, col1, col2):\n",
    "    return 100 * df[col1] / (df[col2] + df[col1])"
   ]
  },
  {
   "cell_type": "code",
   "execution_count": 53,
   "metadata": {},
   "outputs": [
    {
     "data": {
      "text/html": [
       "<div>\n",
       "<style scoped>\n",
       "    .dataframe tbody tr th:only-of-type {\n",
       "        vertical-align: middle;\n",
       "    }\n",
       "\n",
       "    .dataframe tbody tr th {\n",
       "        vertical-align: top;\n",
       "    }\n",
       "\n",
       "    .dataframe thead th {\n",
       "        text-align: right;\n",
       "    }\n",
       "</style>\n",
       "<table border=\"1\" class=\"dataframe\">\n",
       "  <thead>\n",
       "    <tr style=\"text-align: right;\">\n",
       "      <th></th>\n",
       "      <th>debt</th>\n",
       "      <th>ok</th>\n",
       "      <th>%</th>\n",
       "    </tr>\n",
       "    <tr>\n",
       "      <th>children_category</th>\n",
       "      <th></th>\n",
       "      <th></th>\n",
       "      <th></th>\n",
       "    </tr>\n",
       "  </thead>\n",
       "  <tbody>\n",
       "    <tr>\n",
       "      <th>False</th>\n",
       "      <td>1063</td>\n",
       "      <td>13028</td>\n",
       "      <td>7.543822</td>\n",
       "    </tr>\n",
       "    <tr>\n",
       "      <th>True</th>\n",
       "      <td>678</td>\n",
       "      <td>6685</td>\n",
       "      <td>9.208203</td>\n",
       "    </tr>\n",
       "  </tbody>\n",
       "</table>\n",
       "</div>"
      ],
      "text/plain": [
       "                   debt     ok         %\n",
       "children_category                       \n",
       "False              1063  13028  7.543822\n",
       "True                678   6685  9.208203"
      ]
     },
     "execution_count": 53,
     "metadata": {},
     "output_type": "execute_result"
    }
   ],
   "source": [
    "df_children['%'] = percent(df_children,'debt','ok')\n",
    "df_children.sort_values('%')"
   ]
  },
  {
   "cell_type": "markdown",
   "metadata": {},
   "source": [
    "Таким образом, выяснили, что имеющие детей допускают просрочки в 10% случаев  \n",
    "При этом не имеющие детей допускают просрочки в 8% случаев  \n",
    "Следовательно, наличие детей немного увеличивает вероятность просрочки"
   ]
  },
  {
   "cell_type": "markdown",
   "metadata": {},
   "source": [
    "### Есть ли зависимость между семейным положением и возвратом кредита в срок?"
   ]
  },
  {
   "cell_type": "markdown",
   "metadata": {},
   "source": [
    "Исходные данные категоризированы по семейному положению, следовательно, необходимо провести аналогичные действия для этих категорий"
   ]
  },
  {
   "cell_type": "markdown",
   "metadata": {},
   "source": [
    "Для начала сформируем датафрейм, который будет содержать сводные данные по категории и количеству \"хороших\" и \"плохих\" задолженностей\n",
    "Воспользуемся уже написанными функциями df_category_debt() и percent()"
   ]
  },
  {
   "cell_type": "code",
   "execution_count": 54,
   "metadata": {
    "scrolled": true
   },
   "outputs": [
    {
     "data": {
      "text/html": [
       "<div>\n",
       "<style scoped>\n",
       "    .dataframe tbody tr th:only-of-type {\n",
       "        vertical-align: middle;\n",
       "    }\n",
       "\n",
       "    .dataframe tbody tr th {\n",
       "        vertical-align: top;\n",
       "    }\n",
       "\n",
       "    .dataframe thead th {\n",
       "        text-align: right;\n",
       "    }\n",
       "</style>\n",
       "<table border=\"1\" class=\"dataframe\">\n",
       "  <thead>\n",
       "    <tr style=\"text-align: right;\">\n",
       "      <th></th>\n",
       "      <th>debt</th>\n",
       "      <th>ok</th>\n",
       "    </tr>\n",
       "    <tr>\n",
       "      <th>family_status</th>\n",
       "      <th></th>\n",
       "      <th></th>\n",
       "    </tr>\n",
       "  </thead>\n",
       "  <tbody>\n",
       "    <tr>\n",
       "      <th>Не женат / не замужем</th>\n",
       "      <td>274</td>\n",
       "      <td>2536</td>\n",
       "    </tr>\n",
       "    <tr>\n",
       "      <th>в разводе</th>\n",
       "      <td>85</td>\n",
       "      <td>1110</td>\n",
       "    </tr>\n",
       "    <tr>\n",
       "      <th>вдовец / вдова</th>\n",
       "      <td>63</td>\n",
       "      <td>896</td>\n",
       "    </tr>\n",
       "    <tr>\n",
       "      <th>гражданский брак</th>\n",
       "      <td>388</td>\n",
       "      <td>3763</td>\n",
       "    </tr>\n",
       "    <tr>\n",
       "      <th>женат / замужем</th>\n",
       "      <td>931</td>\n",
       "      <td>11408</td>\n",
       "    </tr>\n",
       "  </tbody>\n",
       "</table>\n",
       "</div>"
      ],
      "text/plain": [
       "                       debt     ok\n",
       "family_status                     \n",
       "Не женат / не замужем   274   2536\n",
       "в разводе                85   1110\n",
       "вдовец / вдова           63    896\n",
       "гражданский брак        388   3763\n",
       "женат / замужем         931  11408"
      ]
     },
     "execution_count": 54,
     "metadata": {},
     "output_type": "execute_result"
    }
   ],
   "source": [
    "df_family_status = df_category_debt('family_status', True).to_frame()\n",
    "\n",
    "df_family_status['ok'] = df_category_debt('family_status', False)\n",
    "\n",
    "df_family_status"
   ]
  },
  {
   "cell_type": "code",
   "execution_count": 55,
   "metadata": {},
   "outputs": [
    {
     "data": {
      "text/html": [
       "<div>\n",
       "<style scoped>\n",
       "    .dataframe tbody tr th:only-of-type {\n",
       "        vertical-align: middle;\n",
       "    }\n",
       "\n",
       "    .dataframe tbody tr th {\n",
       "        vertical-align: top;\n",
       "    }\n",
       "\n",
       "    .dataframe thead th {\n",
       "        text-align: right;\n",
       "    }\n",
       "</style>\n",
       "<table border=\"1\" class=\"dataframe\">\n",
       "  <thead>\n",
       "    <tr style=\"text-align: right;\">\n",
       "      <th></th>\n",
       "      <th>debt</th>\n",
       "      <th>ok</th>\n",
       "      <th>%</th>\n",
       "    </tr>\n",
       "    <tr>\n",
       "      <th>family_status</th>\n",
       "      <th></th>\n",
       "      <th></th>\n",
       "      <th></th>\n",
       "    </tr>\n",
       "  </thead>\n",
       "  <tbody>\n",
       "    <tr>\n",
       "      <th>вдовец / вдова</th>\n",
       "      <td>63</td>\n",
       "      <td>896</td>\n",
       "      <td>6.569343</td>\n",
       "    </tr>\n",
       "    <tr>\n",
       "      <th>в разводе</th>\n",
       "      <td>85</td>\n",
       "      <td>1110</td>\n",
       "      <td>7.112971</td>\n",
       "    </tr>\n",
       "    <tr>\n",
       "      <th>женат / замужем</th>\n",
       "      <td>931</td>\n",
       "      <td>11408</td>\n",
       "      <td>7.545182</td>\n",
       "    </tr>\n",
       "    <tr>\n",
       "      <th>гражданский брак</th>\n",
       "      <td>388</td>\n",
       "      <td>3763</td>\n",
       "      <td>9.347145</td>\n",
       "    </tr>\n",
       "    <tr>\n",
       "      <th>Не женат / не замужем</th>\n",
       "      <td>274</td>\n",
       "      <td>2536</td>\n",
       "      <td>9.750890</td>\n",
       "    </tr>\n",
       "  </tbody>\n",
       "</table>\n",
       "</div>"
      ],
      "text/plain": [
       "                       debt     ok         %\n",
       "family_status                               \n",
       "вдовец / вдова           63    896  6.569343\n",
       "в разводе                85   1110  7.112971\n",
       "женат / замужем         931  11408  7.545182\n",
       "гражданский брак        388   3763  9.347145\n",
       "Не женат / не замужем   274   2536  9.750890"
      ]
     },
     "execution_count": 55,
     "metadata": {},
     "output_type": "execute_result"
    }
   ],
   "source": [
    "df_family_status['%'] = percent(df_family_status,'debt','ok')\n",
    "df_family_status.sort_values('%')"
   ]
  },
  {
   "cell_type": "markdown",
   "metadata": {},
   "source": [
    "Получились довольно интересные результаты  \n",
    "Самые дисциплинированные - вдовцы и разведенные  \n",
    "Состоящие в браке - крепкие середнячки  \n",
    "А большее число просрочек у состоящих в \"гражданском браке\" и несемейных"
   ]
  },
  {
   "cell_type": "markdown",
   "metadata": {},
   "source": [
    "### Есть ли зависимость между уровнем дохода и возвратом кредита в срок?"
   ]
  },
  {
   "cell_type": "markdown",
   "metadata": {},
   "source": [
    "В предыдущем пункте мы получили категории для распределения доходов, разделив данные на 4 группы по квантилям\n",
    "Теперь необходимо вывести взаимосвязь между уровнем дохода и просрочками"
   ]
  },
  {
   "cell_type": "markdown",
   "metadata": {},
   "source": [
    "Для начала сформируем датафрейм, который будет содержать сводные данные по категории и количеству \"хороших\" и \"плохих\" задолженностей\n",
    "Воспользуемся уже написанными функциями df_category_debt() и percent()"
   ]
  },
  {
   "cell_type": "code",
   "execution_count": 56,
   "metadata": {
    "scrolled": true
   },
   "outputs": [
    {
     "data": {
      "text/html": [
       "<div>\n",
       "<style scoped>\n",
       "    .dataframe tbody tr th:only-of-type {\n",
       "        vertical-align: middle;\n",
       "    }\n",
       "\n",
       "    .dataframe tbody tr th {\n",
       "        vertical-align: top;\n",
       "    }\n",
       "\n",
       "    .dataframe thead th {\n",
       "        text-align: right;\n",
       "    }\n",
       "</style>\n",
       "<table border=\"1\" class=\"dataframe\">\n",
       "  <thead>\n",
       "    <tr style=\"text-align: right;\">\n",
       "      <th></th>\n",
       "      <th>debt</th>\n",
       "      <th>ok</th>\n",
       "    </tr>\n",
       "    <tr>\n",
       "      <th>quantile_id</th>\n",
       "      <th></th>\n",
       "      <th></th>\n",
       "    </tr>\n",
       "  </thead>\n",
       "  <tbody>\n",
       "    <tr>\n",
       "      <th>0</th>\n",
       "      <td>427</td>\n",
       "      <td>4937</td>\n",
       "    </tr>\n",
       "    <tr>\n",
       "      <th>1</th>\n",
       "      <td>547</td>\n",
       "      <td>5868</td>\n",
       "    </tr>\n",
       "    <tr>\n",
       "      <th>2</th>\n",
       "      <td>384</td>\n",
       "      <td>3927</td>\n",
       "    </tr>\n",
       "    <tr>\n",
       "      <th>3</th>\n",
       "      <td>383</td>\n",
       "      <td>4981</td>\n",
       "    </tr>\n",
       "  </tbody>\n",
       "</table>\n",
       "</div>"
      ],
      "text/plain": [
       "             debt    ok\n",
       "quantile_id            \n",
       "0             427  4937\n",
       "1             547  5868\n",
       "2             384  3927\n",
       "3             383  4981"
      ]
     },
     "execution_count": 56,
     "metadata": {},
     "output_type": "execute_result"
    }
   ],
   "source": [
    "df_quantile = df_category_debt('quantile_id', True).to_frame()\n",
    "\n",
    "df_quantile['ok'] = df_category_debt('quantile_id', False)\n",
    "\n",
    "df_quantile"
   ]
  },
  {
   "cell_type": "code",
   "execution_count": 57,
   "metadata": {},
   "outputs": [
    {
     "data": {
      "text/html": [
       "<div>\n",
       "<style scoped>\n",
       "    .dataframe tbody tr th:only-of-type {\n",
       "        vertical-align: middle;\n",
       "    }\n",
       "\n",
       "    .dataframe tbody tr th {\n",
       "        vertical-align: top;\n",
       "    }\n",
       "\n",
       "    .dataframe thead th {\n",
       "        text-align: right;\n",
       "    }\n",
       "</style>\n",
       "<table border=\"1\" class=\"dataframe\">\n",
       "  <thead>\n",
       "    <tr style=\"text-align: right;\">\n",
       "      <th></th>\n",
       "      <th>debt</th>\n",
       "      <th>ok</th>\n",
       "      <th>%</th>\n",
       "    </tr>\n",
       "    <tr>\n",
       "      <th>quantile_id</th>\n",
       "      <th></th>\n",
       "      <th></th>\n",
       "      <th></th>\n",
       "    </tr>\n",
       "  </thead>\n",
       "  <tbody>\n",
       "    <tr>\n",
       "      <th>3</th>\n",
       "      <td>383</td>\n",
       "      <td>4981</td>\n",
       "      <td>7.140194</td>\n",
       "    </tr>\n",
       "    <tr>\n",
       "      <th>0</th>\n",
       "      <td>427</td>\n",
       "      <td>4937</td>\n",
       "      <td>7.960477</td>\n",
       "    </tr>\n",
       "    <tr>\n",
       "      <th>1</th>\n",
       "      <td>547</td>\n",
       "      <td>5868</td>\n",
       "      <td>8.526890</td>\n",
       "    </tr>\n",
       "    <tr>\n",
       "      <th>2</th>\n",
       "      <td>384</td>\n",
       "      <td>3927</td>\n",
       "      <td>8.907446</td>\n",
       "    </tr>\n",
       "  </tbody>\n",
       "</table>\n",
       "</div>"
      ],
      "text/plain": [
       "             debt    ok         %\n",
       "quantile_id                      \n",
       "3             383  4981  7.140194\n",
       "0             427  4937  7.960477\n",
       "1             547  5868  8.526890\n",
       "2             384  3927  8.907446"
      ]
     },
     "execution_count": 57,
     "metadata": {},
     "output_type": "execute_result"
    }
   ],
   "source": [
    "df_quantile['%'] = percent(df_quantile,'debt','ok')\n",
    "df_quantile.sort_values('%')"
   ]
  },
  {
   "cell_type": "markdown",
   "metadata": {},
   "source": [
    "Получается, что лучше всех выплачивают кредиты самые обеспеченные, потом самые бедные, а у середнячков число просрочек растет"
   ]
  },
  {
   "cell_type": "markdown",
   "metadata": {},
   "source": [
    "### Как разные цели кредита влияют на его возврат в срок?"
   ]
  },
  {
   "cell_type": "markdown",
   "metadata": {},
   "source": [
    "В предыдущем пункте мы провели лемматизацию и стемминг, получив 4 категории для целей получения кредита\n",
    "Теперь необходимо вывести взаимосвязь между целью кредита и просрочками"
   ]
  },
  {
   "cell_type": "markdown",
   "metadata": {},
   "source": [
    "Для начала сформируем датафрейм, который будет содержать сводные данные по категории и количеству \"хороших\" и \"плохих\" задолженностей\n",
    "Воспользуемся уже написанными функциями df_category_debt() и percent()"
   ]
  },
  {
   "cell_type": "code",
   "execution_count": 58,
   "metadata": {
    "scrolled": true
   },
   "outputs": [
    {
     "data": {
      "text/html": [
       "<div>\n",
       "<style scoped>\n",
       "    .dataframe tbody tr th:only-of-type {\n",
       "        vertical-align: middle;\n",
       "    }\n",
       "\n",
       "    .dataframe tbody tr th {\n",
       "        vertical-align: top;\n",
       "    }\n",
       "\n",
       "    .dataframe thead th {\n",
       "        text-align: right;\n",
       "    }\n",
       "</style>\n",
       "<table border=\"1\" class=\"dataframe\">\n",
       "  <thead>\n",
       "    <tr style=\"text-align: right;\">\n",
       "      <th></th>\n",
       "      <th>debt</th>\n",
       "      <th>ok</th>\n",
       "    </tr>\n",
       "    <tr>\n",
       "      <th>purpose_category</th>\n",
       "      <th></th>\n",
       "      <th></th>\n",
       "    </tr>\n",
       "  </thead>\n",
       "  <tbody>\n",
       "    <tr>\n",
       "      <th>Автомобиль</th>\n",
       "      <td>403</td>\n",
       "      <td>3903</td>\n",
       "    </tr>\n",
       "    <tr>\n",
       "      <th>Недвижимость</th>\n",
       "      <td>782</td>\n",
       "      <td>10029</td>\n",
       "    </tr>\n",
       "    <tr>\n",
       "      <th>Образование</th>\n",
       "      <td>370</td>\n",
       "      <td>3643</td>\n",
       "    </tr>\n",
       "    <tr>\n",
       "      <th>Свадьба</th>\n",
       "      <td>186</td>\n",
       "      <td>2138</td>\n",
       "    </tr>\n",
       "  </tbody>\n",
       "</table>\n",
       "</div>"
      ],
      "text/plain": [
       "                  debt     ok\n",
       "purpose_category             \n",
       "Автомобиль         403   3903\n",
       "Недвижимость       782  10029\n",
       "Образование        370   3643\n",
       "Свадьба            186   2138"
      ]
     },
     "execution_count": 58,
     "metadata": {},
     "output_type": "execute_result"
    }
   ],
   "source": [
    "df_purpose_category = df_category_debt('purpose_category', True).to_frame()\n",
    "\n",
    "df_purpose_category['ok'] = df_category_debt('purpose_category', False)\n",
    "\n",
    "df_purpose_category"
   ]
  },
  {
   "cell_type": "code",
   "execution_count": 59,
   "metadata": {},
   "outputs": [
    {
     "data": {
      "text/html": [
       "<div>\n",
       "<style scoped>\n",
       "    .dataframe tbody tr th:only-of-type {\n",
       "        vertical-align: middle;\n",
       "    }\n",
       "\n",
       "    .dataframe tbody tr th {\n",
       "        vertical-align: top;\n",
       "    }\n",
       "\n",
       "    .dataframe thead th {\n",
       "        text-align: right;\n",
       "    }\n",
       "</style>\n",
       "<table border=\"1\" class=\"dataframe\">\n",
       "  <thead>\n",
       "    <tr style=\"text-align: right;\">\n",
       "      <th></th>\n",
       "      <th>debt</th>\n",
       "      <th>ok</th>\n",
       "      <th>%</th>\n",
       "    </tr>\n",
       "    <tr>\n",
       "      <th>purpose_category</th>\n",
       "      <th></th>\n",
       "      <th></th>\n",
       "      <th></th>\n",
       "    </tr>\n",
       "  </thead>\n",
       "  <tbody>\n",
       "    <tr>\n",
       "      <th>Недвижимость</th>\n",
       "      <td>782</td>\n",
       "      <td>10029</td>\n",
       "      <td>7.233373</td>\n",
       "    </tr>\n",
       "    <tr>\n",
       "      <th>Свадьба</th>\n",
       "      <td>186</td>\n",
       "      <td>2138</td>\n",
       "      <td>8.003442</td>\n",
       "    </tr>\n",
       "    <tr>\n",
       "      <th>Образование</th>\n",
       "      <td>370</td>\n",
       "      <td>3643</td>\n",
       "      <td>9.220035</td>\n",
       "    </tr>\n",
       "    <tr>\n",
       "      <th>Автомобиль</th>\n",
       "      <td>403</td>\n",
       "      <td>3903</td>\n",
       "      <td>9.359034</td>\n",
       "    </tr>\n",
       "  </tbody>\n",
       "</table>\n",
       "</div>"
      ],
      "text/plain": [
       "                  debt     ok         %\n",
       "purpose_category                       \n",
       "Недвижимость       782  10029  7.233373\n",
       "Свадьба            186   2138  8.003442\n",
       "Образование        370   3643  9.220035\n",
       "Автомобиль         403   3903  9.359034"
      ]
     },
     "execution_count": 59,
     "metadata": {},
     "output_type": "execute_result"
    }
   ],
   "source": [
    "df_purpose_category['%'] = percent(df_purpose_category,'debt','ok')\n",
    "df_purpose_category.sort_values('%')"
   ]
  },
  {
   "cell_type": "markdown",
   "metadata": {},
   "source": [
    "Выходит так, что ипотечники платят стабильнее всех, за ними идут молодожены, а на кредиты на образование и автомобиль чаще \"забивают\""
   ]
  },
  {
   "cell_type": "markdown",
   "metadata": {},
   "source": [
    "## Шаг 4. Общий вывод"
   ]
  },
  {
   "cell_type": "markdown",
   "metadata": {},
   "source": [
    "Были проанализированы зависимости различных категорий заемщиков и количества просрочек  \n",
    "Но насколько полученные данные значимы?"
   ]
  },
  {
   "cell_type": "markdown",
   "metadata": {},
   "source": [
    "Сформируем датафрейм, в котором соберем сводные статистики по всем изученным зависимостям"
   ]
  },
  {
   "cell_type": "code",
   "execution_count": 60,
   "metadata": {},
   "outputs": [],
   "source": [
    "def df_final(column, series):\n",
    "    return series.describe()\n",
    "#функция, формирующая столбец из сводной статистики"
   ]
  },
  {
   "cell_type": "code",
   "execution_count": 61,
   "metadata": {},
   "outputs": [],
   "source": [
    "columns = ['children', 'family', 'quantile', 'purpose'] #список колонок\n",
    "\n",
    "series = [df_children['%'], df_family_status['%'], df_quantile['%'], df_purpose_category['%']]\n",
    "#список Series, из которых извлекаем статистику"
   ]
  },
  {
   "cell_type": "code",
   "execution_count": 62,
   "metadata": {},
   "outputs": [
    {
     "data": {
      "text/html": [
       "<div>\n",
       "<style scoped>\n",
       "    .dataframe tbody tr th:only-of-type {\n",
       "        vertical-align: middle;\n",
       "    }\n",
       "\n",
       "    .dataframe tbody tr th {\n",
       "        vertical-align: top;\n",
       "    }\n",
       "\n",
       "    .dataframe thead th {\n",
       "        text-align: right;\n",
       "    }\n",
       "</style>\n",
       "<table border=\"1\" class=\"dataframe\">\n",
       "  <thead>\n",
       "    <tr style=\"text-align: right;\">\n",
       "      <th></th>\n",
       "      <th>children</th>\n",
       "      <th>family</th>\n",
       "      <th>quantile</th>\n",
       "      <th>purpose</th>\n",
       "    </tr>\n",
       "  </thead>\n",
       "  <tbody>\n",
       "    <tr>\n",
       "      <th>count</th>\n",
       "      <td>2.000000</td>\n",
       "      <td>5.000000</td>\n",
       "      <td>4.000000</td>\n",
       "      <td>4.000000</td>\n",
       "    </tr>\n",
       "    <tr>\n",
       "      <th>mean</th>\n",
       "      <td>8.376013</td>\n",
       "      <td>8.065106</td>\n",
       "      <td>8.133752</td>\n",
       "      <td>8.453971</td>\n",
       "    </tr>\n",
       "    <tr>\n",
       "      <th>std</th>\n",
       "      <td>1.176895</td>\n",
       "      <td>1.405319</td>\n",
       "      <td>0.768189</td>\n",
       "      <td>1.016338</td>\n",
       "    </tr>\n",
       "    <tr>\n",
       "      <th>min</th>\n",
       "      <td>7.543822</td>\n",
       "      <td>6.569343</td>\n",
       "      <td>7.140194</td>\n",
       "      <td>7.233373</td>\n",
       "    </tr>\n",
       "    <tr>\n",
       "      <th>25%</th>\n",
       "      <td>7.959918</td>\n",
       "      <td>7.112971</td>\n",
       "      <td>7.755406</td>\n",
       "      <td>7.810925</td>\n",
       "    </tr>\n",
       "    <tr>\n",
       "      <th>50%</th>\n",
       "      <td>8.376013</td>\n",
       "      <td>7.545182</td>\n",
       "      <td>8.243684</td>\n",
       "      <td>8.611739</td>\n",
       "    </tr>\n",
       "    <tr>\n",
       "      <th>75%</th>\n",
       "      <td>8.792108</td>\n",
       "      <td>9.347145</td>\n",
       "      <td>8.622029</td>\n",
       "      <td>9.254785</td>\n",
       "    </tr>\n",
       "    <tr>\n",
       "      <th>max</th>\n",
       "      <td>9.208203</td>\n",
       "      <td>9.750890</td>\n",
       "      <td>8.907446</td>\n",
       "      <td>9.359034</td>\n",
       "    </tr>\n",
       "  </tbody>\n",
       "</table>\n",
       "</div>"
      ],
      "text/plain": [
       "       children    family  quantile   purpose\n",
       "count  2.000000  5.000000  4.000000  4.000000\n",
       "mean   8.376013  8.065106  8.133752  8.453971\n",
       "std    1.176895  1.405319  0.768189  1.016338\n",
       "min    7.543822  6.569343  7.140194  7.233373\n",
       "25%    7.959918  7.112971  7.755406  7.810925\n",
       "50%    8.376013  7.545182  8.243684  8.611739\n",
       "75%    8.792108  9.347145  8.622029  9.254785\n",
       "max    9.208203  9.750890  8.907446  9.359034"
      ]
     },
     "execution_count": 62,
     "metadata": {},
     "output_type": "execute_result"
    }
   ],
   "source": [
    "final = pd.DataFrame() #объявление итогового датафрейма со статистикой\n",
    "\n",
    "for i in range(len(series)):\n",
    "    final[columns[i]] = df_final(columns[i], series[i])\n",
    "#в цикле формируем столбцы датафрейма\n",
    "    \n",
    "final #выведем датафрейм на экран"
   ]
  },
  {
   "cell_type": "markdown",
   "metadata": {},
   "source": [
    "Получается, что корреляция есть, но она не очень значительная  \n",
    "В любом случае, число просрочек находится в диапазоне 7-10%, в среднем 9%  \n",
    "Нужно использовать еще какие-то данные"
   ]
  }
 ],
 "metadata": {
  "ExecuteTimeLog": [
   {
    "duration": 846,
    "start_time": "2022-01-07T02:02:03.554Z"
   },
   {
    "duration": 16,
    "start_time": "2022-01-07T02:02:18.028Z"
   },
   {
    "duration": 29,
    "start_time": "2022-01-07T02:02:52.860Z"
   },
   {
    "duration": 8,
    "start_time": "2022-01-07T02:03:52.097Z"
   },
   {
    "duration": 16,
    "start_time": "2022-01-07T02:05:18.487Z"
   },
   {
    "duration": 14,
    "start_time": "2022-01-07T02:06:42.811Z"
   },
   {
    "duration": 35,
    "start_time": "2022-01-07T02:07:23.497Z"
   },
   {
    "duration": 10,
    "start_time": "2022-01-07T02:08:02.810Z"
   },
   {
    "duration": 10,
    "start_time": "2022-01-07T02:09:21.732Z"
   },
   {
    "duration": 9,
    "start_time": "2022-01-07T02:09:29.862Z"
   },
   {
    "duration": 10,
    "start_time": "2022-01-07T02:09:35.533Z"
   },
   {
    "duration": 8,
    "start_time": "2022-01-07T02:11:04.009Z"
   },
   {
    "duration": 107,
    "start_time": "2022-01-07T02:13:23.003Z"
   },
   {
    "duration": 15,
    "start_time": "2022-01-07T02:13:27.854Z"
   },
   {
    "duration": 16,
    "start_time": "2022-01-07T02:14:07.598Z"
   },
   {
    "duration": 14,
    "start_time": "2022-01-07T02:15:32.747Z"
   },
   {
    "duration": 9,
    "start_time": "2022-01-07T02:16:29.455Z"
   },
   {
    "duration": 13,
    "start_time": "2022-01-07T02:16:34.102Z"
   },
   {
    "duration": 14,
    "start_time": "2022-01-07T02:17:38.454Z"
   },
   {
    "duration": 14,
    "start_time": "2022-01-07T02:18:56.879Z"
   },
   {
    "duration": 14,
    "start_time": "2022-01-07T02:19:02.413Z"
   },
   {
    "duration": 15,
    "start_time": "2022-01-07T02:19:12.291Z"
   },
   {
    "duration": 10,
    "start_time": "2022-01-07T02:19:46.796Z"
   },
   {
    "duration": 23,
    "start_time": "2022-01-07T02:20:35.489Z"
   },
   {
    "duration": 61,
    "start_time": "2022-01-07T02:21:20.751Z"
   },
   {
    "duration": 15,
    "start_time": "2022-01-07T02:21:21.323Z"
   },
   {
    "duration": 19,
    "start_time": "2022-01-07T02:21:21.836Z"
   },
   {
    "duration": 7,
    "start_time": "2022-01-07T02:21:24.773Z"
   },
   {
    "duration": 17,
    "start_time": "2022-01-07T02:21:26.000Z"
   },
   {
    "duration": 13,
    "start_time": "2022-01-07T02:21:28.938Z"
   },
   {
    "duration": 32,
    "start_time": "2022-01-07T02:21:32.621Z"
   },
   {
    "duration": 9,
    "start_time": "2022-01-07T02:21:42.828Z"
   },
   {
    "duration": 10,
    "start_time": "2022-01-07T02:21:48.468Z"
   },
   {
    "duration": 16,
    "start_time": "2022-01-07T02:21:52.419Z"
   },
   {
    "duration": 10,
    "start_time": "2022-01-07T02:22:00.734Z"
   },
   {
    "duration": 24,
    "start_time": "2022-01-07T02:22:04.364Z"
   },
   {
    "duration": 8,
    "start_time": "2022-01-07T02:22:25.393Z"
   },
   {
    "duration": 10,
    "start_time": "2022-01-07T02:23:11.030Z"
   },
   {
    "duration": 25,
    "start_time": "2022-01-07T02:23:53.263Z"
   },
   {
    "duration": 9,
    "start_time": "2022-01-07T02:24:33.730Z"
   },
   {
    "duration": 9,
    "start_time": "2022-01-07T02:25:29.417Z"
   },
   {
    "duration": 110,
    "start_time": "2022-01-07T02:26:18.484Z"
   },
   {
    "duration": 16,
    "start_time": "2022-01-07T02:26:31.665Z"
   },
   {
    "duration": 10,
    "start_time": "2022-01-07T02:26:54.285Z"
   },
   {
    "duration": 536,
    "start_time": "2022-01-07T02:35:54.972Z"
   },
   {
    "duration": 356,
    "start_time": "2022-01-07T02:36:10.105Z"
   },
   {
    "duration": 338,
    "start_time": "2022-01-07T02:36:20.654Z"
   },
   {
    "duration": 33,
    "start_time": "2022-01-07T02:36:43.448Z"
   },
   {
    "duration": 29,
    "start_time": "2022-01-07T02:38:25.931Z"
   },
   {
    "duration": 10,
    "start_time": "2022-01-07T02:38:33.057Z"
   },
   {
    "duration": 29,
    "start_time": "2022-01-07T02:38:53.702Z"
   },
   {
    "duration": 9,
    "start_time": "2022-01-07T02:38:54.513Z"
   },
   {
    "duration": 10,
    "start_time": "2022-01-07T02:38:58.530Z"
   },
   {
    "duration": 790,
    "start_time": "2022-01-07T02:39:14.790Z"
   },
   {
    "duration": 23,
    "start_time": "2022-01-07T02:39:16.147Z"
   },
   {
    "duration": 29,
    "start_time": "2022-01-07T02:39:16.945Z"
   },
   {
    "duration": 10,
    "start_time": "2022-01-07T02:39:20.134Z"
   },
   {
    "duration": 18,
    "start_time": "2022-01-07T02:39:21.252Z"
   },
   {
    "duration": 12,
    "start_time": "2022-01-07T02:39:22.965Z"
   },
   {
    "duration": 36,
    "start_time": "2022-01-07T02:39:24.220Z"
   },
   {
    "duration": 11,
    "start_time": "2022-01-07T02:39:25.443Z"
   },
   {
    "duration": 11,
    "start_time": "2022-01-07T02:39:27.312Z"
   },
   {
    "duration": 18,
    "start_time": "2022-01-07T02:39:30.990Z"
   },
   {
    "duration": 10,
    "start_time": "2022-01-07T02:39:33.572Z"
   },
   {
    "duration": 24,
    "start_time": "2022-01-07T02:39:35.206Z"
   },
   {
    "duration": 9,
    "start_time": "2022-01-07T02:39:38.745Z"
   },
   {
    "duration": 10,
    "start_time": "2022-01-07T02:39:42.664Z"
   },
   {
    "duration": 28,
    "start_time": "2022-01-07T02:39:45.072Z"
   },
   {
    "duration": 9,
    "start_time": "2022-01-07T02:39:46.649Z"
   },
   {
    "duration": 10,
    "start_time": "2022-01-07T02:39:49.580Z"
   },
   {
    "duration": 17,
    "start_time": "2022-01-07T02:39:51.334Z"
   },
   {
    "duration": 10,
    "start_time": "2022-01-07T02:39:56.236Z"
   },
   {
    "duration": 28,
    "start_time": "2022-01-07T02:40:01.970Z"
   },
   {
    "duration": 10,
    "start_time": "2022-01-07T02:40:03.767Z"
   },
   {
    "duration": 8,
    "start_time": "2022-01-07T02:41:10.247Z"
   },
   {
    "duration": 13,
    "start_time": "2022-01-07T02:43:05.456Z"
   },
   {
    "duration": 37,
    "start_time": "2022-01-07T02:43:37.825Z"
   },
   {
    "duration": 9,
    "start_time": "2022-01-07T02:46:37.096Z"
   },
   {
    "duration": 10,
    "start_time": "2022-01-07T02:47:25.781Z"
   },
   {
    "duration": 4778,
    "start_time": "2022-01-07T02:47:56.270Z"
   },
   {
    "duration": 4827,
    "start_time": "2022-01-07T02:48:26.587Z"
   },
   {
    "duration": 4903,
    "start_time": "2022-01-07T02:49:55.494Z"
   },
   {
    "duration": 5553,
    "start_time": "2022-01-07T03:00:47.099Z"
   },
   {
    "duration": 5210,
    "start_time": "2022-01-07T03:01:53.783Z"
   },
   {
    "duration": 4940,
    "start_time": "2022-01-07T03:02:27.240Z"
   },
   {
    "duration": 32,
    "start_time": "2022-01-07T03:03:05.034Z"
   },
   {
    "duration": 4761,
    "start_time": "2022-01-07T03:03:10.504Z"
   },
   {
    "duration": 4082,
    "start_time": "2022-01-07T03:04:55.602Z"
   },
   {
    "duration": 6687,
    "start_time": "2022-01-07T03:05:55.120Z"
   },
   {
    "duration": 3798,
    "start_time": "2022-01-07T03:06:17.631Z"
   },
   {
    "duration": 37,
    "start_time": "2022-01-07T03:06:35.803Z"
   },
   {
    "duration": 16,
    "start_time": "2022-01-07T03:10:44.068Z"
   },
   {
    "duration": 793,
    "start_time": "2022-01-07T03:28:09.111Z"
   },
   {
    "duration": 15,
    "start_time": "2022-01-07T03:28:09.907Z"
   },
   {
    "duration": 28,
    "start_time": "2022-01-07T03:28:12.549Z"
   },
   {
    "duration": 8,
    "start_time": "2022-01-07T03:28:20.555Z"
   },
   {
    "duration": 17,
    "start_time": "2022-01-07T03:28:21.772Z"
   },
   {
    "duration": 11,
    "start_time": "2022-01-07T03:28:23.566Z"
   },
   {
    "duration": 34,
    "start_time": "2022-01-07T03:28:27.619Z"
   },
   {
    "duration": 10,
    "start_time": "2022-01-07T03:28:30.708Z"
   },
   {
    "duration": 9,
    "start_time": "2022-01-07T03:28:34.129Z"
   },
   {
    "duration": 9,
    "start_time": "2022-01-07T03:28:39.517Z"
   },
   {
    "duration": 10,
    "start_time": "2022-01-07T03:28:41.570Z"
   },
   {
    "duration": 9,
    "start_time": "2022-01-07T03:28:45.832Z"
   },
   {
    "duration": 10,
    "start_time": "2022-01-07T03:28:47.544Z"
   },
   {
    "duration": 17,
    "start_time": "2022-01-07T03:28:50.444Z"
   },
   {
    "duration": 9,
    "start_time": "2022-01-07T03:28:53.552Z"
   },
   {
    "duration": 8,
    "start_time": "2022-01-07T03:29:17.269Z"
   },
   {
    "duration": 10,
    "start_time": "2022-01-07T03:29:19.019Z"
   },
   {
    "duration": 15,
    "start_time": "2022-01-07T03:29:21.288Z"
   },
   {
    "duration": 10,
    "start_time": "2022-01-07T03:29:22.930Z"
   },
   {
    "duration": 8,
    "start_time": "2022-01-07T03:29:26.439Z"
   },
   {
    "duration": 11,
    "start_time": "2022-01-07T03:29:30.833Z"
   },
   {
    "duration": 36,
    "start_time": "2022-01-07T03:29:35.003Z"
   },
   {
    "duration": 9,
    "start_time": "2022-01-07T03:29:38.912Z"
   },
   {
    "duration": 11,
    "start_time": "2022-01-07T03:29:40.522Z"
   },
   {
    "duration": 4,
    "start_time": "2022-01-07T03:34:24.840Z"
   },
   {
    "duration": 18,
    "start_time": "2022-01-07T03:34:38.556Z"
   },
   {
    "duration": 18,
    "start_time": "2022-01-07T03:38:01.815Z"
   },
   {
    "duration": 9,
    "start_time": "2022-01-07T03:39:40.543Z"
   },
   {
    "duration": 22,
    "start_time": "2022-01-07T03:39:44.005Z"
   },
   {
    "duration": 10,
    "start_time": "2022-01-07T03:39:53.458Z"
   },
   {
    "duration": 30,
    "start_time": "2022-01-07T03:39:58.331Z"
   },
   {
    "duration": 10,
    "start_time": "2022-01-07T03:40:00.767Z"
   },
   {
    "duration": 10,
    "start_time": "2022-01-07T03:40:10.634Z"
   },
   {
    "duration": 10,
    "start_time": "2022-01-07T03:40:15.162Z"
   },
   {
    "duration": 4674,
    "start_time": "2022-01-07T03:40:15.864Z"
   },
   {
    "duration": 60,
    "start_time": "2022-01-07T03:40:20.541Z"
   },
   {
    "duration": 10,
    "start_time": "2022-01-07T03:42:14.517Z"
   },
   {
    "duration": 32,
    "start_time": "2022-01-07T03:42:32.268Z"
   },
   {
    "duration": 5076,
    "start_time": "2022-01-07T03:42:33.531Z"
   },
   {
    "duration": 36,
    "start_time": "2022-01-07T03:42:38.610Z"
   },
   {
    "duration": 178,
    "start_time": "2022-01-07T03:47:07.960Z"
   },
   {
    "duration": 8,
    "start_time": "2022-01-07T03:49:07.175Z"
   },
   {
    "duration": 9,
    "start_time": "2022-01-07T03:51:10.943Z"
   },
   {
    "duration": 10,
    "start_time": "2022-01-07T03:51:14.226Z"
   },
   {
    "duration": 19,
    "start_time": "2022-01-07T03:51:47.661Z"
   },
   {
    "duration": 24,
    "start_time": "2022-01-07T03:52:46.146Z"
   },
   {
    "duration": 17,
    "start_time": "2022-01-07T03:53:04.357Z"
   },
   {
    "duration": 11,
    "start_time": "2022-01-07T03:53:17.387Z"
   },
   {
    "duration": 24,
    "start_time": "2022-01-07T03:53:37.911Z"
   },
   {
    "duration": 10,
    "start_time": "2022-01-07T03:54:43.146Z"
   },
   {
    "duration": 10,
    "start_time": "2022-01-07T03:54:50.149Z"
   },
   {
    "duration": 3768,
    "start_time": "2022-01-07T03:57:04.099Z"
   },
   {
    "duration": 34,
    "start_time": "2022-01-07T03:57:09.811Z"
   },
   {
    "duration": 15,
    "start_time": "2022-01-07T04:06:37.990Z"
   },
   {
    "duration": 10,
    "start_time": "2022-01-07T04:06:46.495Z"
   },
   {
    "duration": 9,
    "start_time": "2022-01-07T04:10:09.867Z"
   },
   {
    "duration": 38,
    "start_time": "2022-01-07T04:10:19.616Z"
   },
   {
    "duration": 9,
    "start_time": "2022-01-07T04:10:47.252Z"
   },
   {
    "duration": 38,
    "start_time": "2022-01-07T04:10:52.017Z"
   },
   {
    "duration": 9,
    "start_time": "2022-01-07T04:11:29.643Z"
   },
   {
    "duration": 8,
    "start_time": "2022-01-07T04:25:54.849Z"
   },
   {
    "duration": 9,
    "start_time": "2022-01-07T04:25:59.636Z"
   },
   {
    "duration": 2358,
    "start_time": "2022-01-07T04:26:10.310Z"
   },
   {
    "duration": 35,
    "start_time": "2022-01-07T04:26:29.419Z"
   },
   {
    "duration": 29,
    "start_time": "2022-01-07T04:27:20.363Z"
   },
   {
    "duration": 131,
    "start_time": "2022-01-07T04:27:59.223Z"
   },
   {
    "duration": 333,
    "start_time": "2022-01-07T04:28:10.629Z"
   },
   {
    "duration": 385,
    "start_time": "2022-01-07T04:29:37.429Z"
   },
   {
    "duration": 340,
    "start_time": "2022-01-07T04:29:55.145Z"
   },
   {
    "duration": 328,
    "start_time": "2022-01-07T04:30:22.684Z"
   },
   {
    "duration": 80,
    "start_time": "2022-01-07T04:30:29.859Z"
   },
   {
    "duration": 2294,
    "start_time": "2022-01-07T04:32:05.192Z"
   },
   {
    "duration": 115,
    "start_time": "2022-01-07T04:32:27.552Z"
   },
   {
    "duration": 2538,
    "start_time": "2022-01-07T04:33:45.708Z"
   },
   {
    "duration": 15,
    "start_time": "2022-01-07T04:35:07.330Z"
   },
   {
    "duration": 343,
    "start_time": "2022-01-07T04:35:22.729Z"
   },
   {
    "duration": 17,
    "start_time": "2022-01-07T04:35:31.539Z"
   },
   {
    "duration": 351,
    "start_time": "2022-01-07T04:35:54.001Z"
   },
   {
    "duration": 359,
    "start_time": "2022-01-07T04:36:07.538Z"
   },
   {
    "duration": 45,
    "start_time": "2022-01-07T04:36:19.415Z"
   },
   {
    "duration": 424,
    "start_time": "2022-01-07T04:37:10.402Z"
   },
   {
    "duration": 7390,
    "start_time": "2022-01-07T04:38:09.024Z"
   },
   {
    "duration": 46,
    "start_time": "2022-01-07T04:38:22.963Z"
   },
   {
    "duration": 366,
    "start_time": "2022-01-07T04:38:47.077Z"
   },
   {
    "duration": 31,
    "start_time": "2022-01-07T04:39:08.424Z"
   },
   {
    "duration": 36,
    "start_time": "2022-01-07T04:41:51.213Z"
   },
   {
    "duration": 34,
    "start_time": "2022-01-07T04:47:10.931Z"
   },
   {
    "duration": 32,
    "start_time": "2022-01-07T04:47:22.533Z"
   },
   {
    "duration": 349,
    "start_time": "2022-01-07T04:47:36.277Z"
   },
   {
    "duration": 30,
    "start_time": "2022-01-07T04:48:28.626Z"
   },
   {
    "duration": 31,
    "start_time": "2022-01-07T04:57:45.461Z"
   },
   {
    "duration": 766,
    "start_time": "2022-01-07T04:58:47.755Z"
   },
   {
    "duration": 12,
    "start_time": "2022-01-07T04:59:32.322Z"
   },
   {
    "duration": 7,
    "start_time": "2022-01-07T04:59:58.567Z"
   },
   {
    "duration": 126,
    "start_time": "2022-01-07T05:00:42.068Z"
   },
   {
    "duration": 9,
    "start_time": "2022-01-07T05:00:43.933Z"
   },
   {
    "duration": 7,
    "start_time": "2022-01-07T05:01:08.576Z"
   },
   {
    "duration": 9,
    "start_time": "2022-01-07T05:01:19.786Z"
   },
   {
    "duration": 467,
    "start_time": "2022-01-07T05:04:27.260Z"
   },
   {
    "duration": 27,
    "start_time": "2022-01-07T05:04:34.712Z"
   },
   {
    "duration": 28,
    "start_time": "2022-01-07T05:04:37.982Z"
   },
   {
    "duration": 32,
    "start_time": "2022-01-07T05:04:52.952Z"
   },
   {
    "duration": 36,
    "start_time": "2022-01-07T05:06:27.637Z"
   },
   {
    "duration": 3,
    "start_time": "2022-01-07T05:13:55.185Z"
   },
   {
    "duration": 34,
    "start_time": "2022-01-07T05:13:59.829Z"
   },
   {
    "duration": 4,
    "start_time": "2022-01-07T05:14:02.661Z"
   },
   {
    "duration": 17,
    "start_time": "2022-01-07T05:15:28.456Z"
   },
   {
    "duration": 13,
    "start_time": "2022-01-07T05:15:38.146Z"
   },
   {
    "duration": 6,
    "start_time": "2022-01-07T05:15:58.018Z"
   },
   {
    "duration": 6,
    "start_time": "2022-01-07T05:16:24.694Z"
   },
   {
    "duration": 325,
    "start_time": "2022-01-07T05:27:03.616Z"
   },
   {
    "duration": 23,
    "start_time": "2022-01-07T05:27:19.474Z"
   },
   {
    "duration": 34,
    "start_time": "2022-01-07T05:28:09.677Z"
   },
   {
    "duration": 5,
    "start_time": "2022-01-07T05:29:47.030Z"
   },
   {
    "duration": 13,
    "start_time": "2022-01-07T05:29:49.397Z"
   },
   {
    "duration": 37,
    "start_time": "2022-01-07T05:29:51.950Z"
   },
   {
    "duration": 24,
    "start_time": "2022-01-07T05:30:09.499Z"
   },
   {
    "duration": 20,
    "start_time": "2022-01-07T05:30:44.594Z"
   },
   {
    "duration": 371,
    "start_time": "2022-01-07T05:31:21.243Z"
   },
   {
    "duration": 10,
    "start_time": "2022-01-07T05:31:25.821Z"
   },
   {
    "duration": 13,
    "start_time": "2022-01-07T05:40:50.615Z"
   },
   {
    "duration": 7,
    "start_time": "2022-01-07T05:41:09.862Z"
   },
   {
    "duration": 7,
    "start_time": "2022-01-07T05:45:26.981Z"
   },
   {
    "duration": 8,
    "start_time": "2022-01-07T05:54:33.669Z"
   },
   {
    "duration": 7,
    "start_time": "2022-01-07T05:55:02.804Z"
   },
   {
    "duration": 377,
    "start_time": "2022-01-07T05:56:10.491Z"
   },
   {
    "duration": 11,
    "start_time": "2022-01-07T05:56:32.773Z"
   },
   {
    "duration": 9,
    "start_time": "2022-01-07T05:56:42.367Z"
   },
   {
    "duration": 31,
    "start_time": "2022-01-07T05:56:53.437Z"
   },
   {
    "duration": 6,
    "start_time": "2022-01-07T05:57:00.615Z"
   },
   {
    "duration": 369,
    "start_time": "2022-01-07T05:57:55.154Z"
   },
   {
    "duration": 20,
    "start_time": "2022-01-07T05:58:08.378Z"
   },
   {
    "duration": 23,
    "start_time": "2022-01-07T05:58:17.990Z"
   },
   {
    "duration": 2254,
    "start_time": "2022-01-07T05:58:42.889Z"
   },
   {
    "duration": 2223,
    "start_time": "2022-01-07T05:58:57.156Z"
   },
   {
    "duration": 21,
    "start_time": "2022-01-07T05:59:08.711Z"
   },
   {
    "duration": 12,
    "start_time": "2022-01-07T05:59:33.309Z"
   },
   {
    "duration": 16,
    "start_time": "2022-01-07T05:59:48.357Z"
   },
   {
    "duration": 10,
    "start_time": "2022-01-07T06:00:40.916Z"
   },
   {
    "duration": 14,
    "start_time": "2022-01-07T06:00:50.589Z"
   },
   {
    "duration": 389,
    "start_time": "2022-01-07T06:01:51.825Z"
   },
   {
    "duration": 11,
    "start_time": "2022-01-07T06:02:30.790Z"
   },
   {
    "duration": 17,
    "start_time": "2022-01-07T06:02:32.481Z"
   },
   {
    "duration": 11,
    "start_time": "2022-01-07T06:03:18.825Z"
   },
   {
    "duration": 15,
    "start_time": "2022-01-07T06:03:46.523Z"
   },
   {
    "duration": 352,
    "start_time": "2022-01-07T06:04:11.691Z"
   },
   {
    "duration": 15,
    "start_time": "2022-01-07T06:04:17.488Z"
   },
   {
    "duration": 358,
    "start_time": "2022-01-07T06:07:10.752Z"
   },
   {
    "duration": 10,
    "start_time": "2022-01-07T06:07:17.713Z"
   },
   {
    "duration": 9,
    "start_time": "2022-01-07T06:07:19.235Z"
   },
   {
    "duration": 15,
    "start_time": "2022-01-07T06:07:20.021Z"
   },
   {
    "duration": 370,
    "start_time": "2022-01-07T06:07:21.067Z"
   },
   {
    "duration": 19,
    "start_time": "2022-01-07T06:09:28.299Z"
   },
   {
    "duration": 18,
    "start_time": "2022-01-07T06:09:34.072Z"
   },
   {
    "duration": -1528,
    "start_time": "2022-01-07T06:10:29.158Z"
   },
   {
    "duration": 8546,
    "start_time": "2022-01-07T06:10:31.315Z"
   },
   {
    "duration": 19,
    "start_time": "2022-01-07T06:11:11.407Z"
   },
   {
    "duration": 15,
    "start_time": "2022-01-07T06:11:29.010Z"
   },
   {
    "duration": 19,
    "start_time": "2022-01-07T06:11:33.000Z"
   },
   {
    "duration": 18,
    "start_time": "2022-01-07T06:12:33.196Z"
   },
   {
    "duration": 20,
    "start_time": "2022-01-07T06:13:00.487Z"
   },
   {
    "duration": 12,
    "start_time": "2022-01-07T06:13:14.102Z"
   },
   {
    "duration": 25,
    "start_time": "2022-01-07T06:18:50.153Z"
   },
   {
    "duration": 26,
    "start_time": "2022-01-07T06:20:01.698Z"
   },
   {
    "duration": 9,
    "start_time": "2022-01-07T06:20:18.240Z"
   },
   {
    "duration": 24,
    "start_time": "2022-01-07T06:20:19.509Z"
   },
   {
    "duration": 26,
    "start_time": "2022-01-07T06:21:04.245Z"
   },
   {
    "duration": 10,
    "start_time": "2022-01-07T06:22:21.063Z"
   },
   {
    "duration": 4,
    "start_time": "2022-01-07T06:47:35.496Z"
   },
   {
    "duration": 4,
    "start_time": "2022-01-07T06:48:37.394Z"
   },
   {
    "duration": 11,
    "start_time": "2022-01-07T06:48:37.891Z"
   },
   {
    "duration": 9,
    "start_time": "2022-01-07T06:48:38.735Z"
   },
   {
    "duration": 6,
    "start_time": "2022-01-07T06:51:35.184Z"
   },
   {
    "duration": 5,
    "start_time": "2022-01-07T06:51:50.888Z"
   },
   {
    "duration": 5,
    "start_time": "2022-01-07T06:52:02.062Z"
   },
   {
    "duration": 7,
    "start_time": "2022-01-07T06:52:17.931Z"
   },
   {
    "duration": 6,
    "start_time": "2022-01-07T06:52:50.144Z"
   },
   {
    "duration": 6,
    "start_time": "2022-01-07T06:52:50.606Z"
   },
   {
    "duration": 13,
    "start_time": "2022-01-07T06:55:10.424Z"
   },
   {
    "duration": 13,
    "start_time": "2022-01-07T06:55:31.405Z"
   },
   {
    "duration": 13,
    "start_time": "2022-01-07T06:55:38.257Z"
   },
   {
    "duration": 12,
    "start_time": "2022-01-07T06:56:39.728Z"
   },
   {
    "duration": 11,
    "start_time": "2022-01-07T06:59:49.875Z"
   },
   {
    "duration": 14,
    "start_time": "2022-01-07T07:05:37.076Z"
   },
   {
    "duration": 21,
    "start_time": "2022-01-07T07:05:47.392Z"
   },
   {
    "duration": 418,
    "start_time": "2022-01-07T07:06:16.811Z"
   },
   {
    "duration": 44,
    "start_time": "2022-01-07T07:06:26.337Z"
   },
   {
    "duration": 45,
    "start_time": "2022-01-07T07:07:11.268Z"
   },
   {
    "duration": 20,
    "start_time": "2022-01-07T07:07:36.842Z"
   },
   {
    "duration": 19,
    "start_time": "2022-01-07T07:07:47.869Z"
   },
   {
    "duration": 15,
    "start_time": "2022-01-07T07:10:22.374Z"
   },
   {
    "duration": 20,
    "start_time": "2022-01-07T07:11:05.537Z"
   },
   {
    "duration": 6,
    "start_time": "2022-01-07T07:13:02.032Z"
   },
   {
    "duration": 109,
    "start_time": "2022-01-07T07:13:40.825Z"
   },
   {
    "duration": 225,
    "start_time": "2022-01-07T07:13:53.875Z"
   },
   {
    "duration": 7,
    "start_time": "2022-01-07T07:14:01.485Z"
   },
   {
    "duration": 5,
    "start_time": "2022-01-07T07:14:15.303Z"
   },
   {
    "duration": 6,
    "start_time": "2022-01-07T07:15:38.554Z"
   },
   {
    "duration": 14,
    "start_time": "2022-01-07T07:17:53.512Z"
   },
   {
    "duration": 6,
    "start_time": "2022-01-07T07:17:58.492Z"
   },
   {
    "duration": 114,
    "start_time": "2022-01-07T07:20:48.318Z"
   },
   {
    "duration": 29,
    "start_time": "2022-01-07T07:23:15.976Z"
   },
   {
    "duration": 26,
    "start_time": "2022-01-07T07:26:50.094Z"
   },
   {
    "duration": 26,
    "start_time": "2022-01-07T07:29:13.928Z"
   },
   {
    "duration": 23,
    "start_time": "2022-01-07T07:30:02.789Z"
   },
   {
    "duration": 15,
    "start_time": "2022-01-07T07:30:20.125Z"
   },
   {
    "duration": 361,
    "start_time": "2022-01-07T07:44:35.810Z"
   },
   {
    "duration": 12,
    "start_time": "2022-01-07T07:44:51.276Z"
   },
   {
    "duration": 173,
    "start_time": "2022-01-07T07:45:04.497Z"
   },
   {
    "duration": 13,
    "start_time": "2022-01-07T07:45:07.743Z"
   },
   {
    "duration": 36,
    "start_time": "2022-01-07T07:51:28.453Z"
   },
   {
    "duration": 13,
    "start_time": "2022-01-07T07:51:53.733Z"
   },
   {
    "duration": 26,
    "start_time": "2022-01-07T07:55:21.690Z"
   },
   {
    "duration": 364,
    "start_time": "2022-01-07T07:58:13.662Z"
   },
   {
    "duration": 325,
    "start_time": "2022-01-07T07:58:39.319Z"
   },
   {
    "duration": 27,
    "start_time": "2022-01-07T07:59:12.569Z"
   },
   {
    "duration": 4,
    "start_time": "2022-01-07T08:09:24.446Z"
   },
   {
    "duration": 24,
    "start_time": "2022-01-07T08:09:25.174Z"
   },
   {
    "duration": 4,
    "start_time": "2022-01-07T08:09:47.609Z"
   },
   {
    "duration": 22,
    "start_time": "2022-01-07T08:09:48.274Z"
   },
   {
    "duration": 812,
    "start_time": "2022-01-07T08:10:36.299Z"
   },
   {
    "duration": 15,
    "start_time": "2022-01-07T08:10:37.113Z"
   },
   {
    "duration": 42,
    "start_time": "2022-01-07T08:10:37.131Z"
   },
   {
    "duration": 9,
    "start_time": "2022-01-07T08:10:37.176Z"
   },
   {
    "duration": 19,
    "start_time": "2022-01-07T08:10:37.187Z"
   },
   {
    "duration": 10,
    "start_time": "2022-01-07T08:10:37.208Z"
   },
   {
    "duration": 70,
    "start_time": "2022-01-07T08:10:37.220Z"
   },
   {
    "duration": 9,
    "start_time": "2022-01-07T08:10:37.294Z"
   },
   {
    "duration": 10,
    "start_time": "2022-01-07T08:10:37.306Z"
   },
   {
    "duration": 41,
    "start_time": "2022-01-07T08:10:37.318Z"
   },
   {
    "duration": 12,
    "start_time": "2022-01-07T08:10:37.362Z"
   },
   {
    "duration": 8,
    "start_time": "2022-01-07T08:10:37.377Z"
   },
   {
    "duration": 10,
    "start_time": "2022-01-07T08:10:37.387Z"
   },
   {
    "duration": 8,
    "start_time": "2022-01-07T08:10:37.400Z"
   },
   {
    "duration": 54,
    "start_time": "2022-01-07T08:10:37.411Z"
   },
   {
    "duration": 17,
    "start_time": "2022-01-07T08:10:37.467Z"
   },
   {
    "duration": 12,
    "start_time": "2022-01-07T08:10:37.488Z"
   },
   {
    "duration": 9,
    "start_time": "2022-01-07T08:10:37.503Z"
   },
   {
    "duration": 51,
    "start_time": "2022-01-07T08:10:37.514Z"
   },
   {
    "duration": 35,
    "start_time": "2022-01-07T08:10:37.567Z"
   },
   {
    "duration": 9,
    "start_time": "2022-01-07T08:10:37.604Z"
   },
   {
    "duration": 46,
    "start_time": "2022-01-07T08:10:37.615Z"
   },
   {
    "duration": 18,
    "start_time": "2022-01-07T08:10:37.666Z"
   },
   {
    "duration": 18,
    "start_time": "2022-01-07T08:10:37.688Z"
   },
   {
    "duration": 9,
    "start_time": "2022-01-07T08:10:37.709Z"
   },
   {
    "duration": 23,
    "start_time": "2022-01-07T08:10:37.759Z"
   },
   {
    "duration": 10,
    "start_time": "2022-01-07T08:10:37.784Z"
   },
   {
    "duration": 12,
    "start_time": "2022-01-07T08:10:37.796Z"
   },
   {
    "duration": 4927,
    "start_time": "2022-01-07T08:10:37.810Z"
   },
   {
    "duration": 49,
    "start_time": "2022-01-07T08:10:42.740Z"
   },
   {
    "duration": 32,
    "start_time": "2022-01-07T08:10:42.791Z"
   },
   {
    "duration": 417,
    "start_time": "2022-01-07T08:10:42.825Z"
   },
   {
    "duration": -39,
    "start_time": "2022-01-07T08:10:43.284Z"
   },
   {
    "duration": -46,
    "start_time": "2022-01-07T08:10:43.292Z"
   },
   {
    "duration": -48,
    "start_time": "2022-01-07T08:10:43.296Z"
   },
   {
    "duration": -50,
    "start_time": "2022-01-07T08:10:43.299Z"
   },
   {
    "duration": -51,
    "start_time": "2022-01-07T08:10:43.302Z"
   },
   {
    "duration": -53,
    "start_time": "2022-01-07T08:10:43.306Z"
   },
   {
    "duration": -56,
    "start_time": "2022-01-07T08:10:43.310Z"
   },
   {
    "duration": -59,
    "start_time": "2022-01-07T08:10:43.314Z"
   },
   {
    "duration": -60,
    "start_time": "2022-01-07T08:10:43.317Z"
   },
   {
    "duration": -63,
    "start_time": "2022-01-07T08:10:43.321Z"
   },
   {
    "duration": -64,
    "start_time": "2022-01-07T08:10:43.324Z"
   },
   {
    "duration": -65,
    "start_time": "2022-01-07T08:10:43.326Z"
   },
   {
    "duration": -67,
    "start_time": "2022-01-07T08:10:43.329Z"
   },
   {
    "duration": -72,
    "start_time": "2022-01-07T08:10:43.336Z"
   },
   {
    "duration": -74,
    "start_time": "2022-01-07T08:10:43.339Z"
   },
   {
    "duration": 844,
    "start_time": "2022-01-07T08:20:50.352Z"
   },
   {
    "duration": 6,
    "start_time": "2022-01-07T08:20:52.124Z"
   },
   {
    "duration": 4,
    "start_time": "2022-01-07T08:20:56.646Z"
   },
   {
    "duration": 13,
    "start_time": "2022-01-07T08:20:57.247Z"
   },
   {
    "duration": 10,
    "start_time": "2022-01-07T08:20:58.975Z"
   },
   {
    "duration": 4,
    "start_time": "2022-01-07T08:21:03.820Z"
   },
   {
    "duration": 11,
    "start_time": "2022-01-07T08:21:04.856Z"
   },
   {
    "duration": 8,
    "start_time": "2022-01-07T08:21:05.593Z"
   },
   {
    "duration": 12,
    "start_time": "2022-01-07T08:21:13.090Z"
   },
   {
    "duration": 13,
    "start_time": "2022-01-07T08:21:15.472Z"
   },
   {
    "duration": 6,
    "start_time": "2022-01-07T08:21:18.125Z"
   },
   {
    "duration": 14,
    "start_time": "2022-01-07T08:21:54.329Z"
   },
   {
    "duration": 20,
    "start_time": "2022-01-07T08:22:05.218Z"
   },
   {
    "duration": 6,
    "start_time": "2022-01-07T08:22:09.832Z"
   },
   {
    "duration": 6,
    "start_time": "2022-01-07T08:22:30.633Z"
   },
   {
    "duration": 4,
    "start_time": "2022-01-07T08:23:01.743Z"
   },
   {
    "duration": 409,
    "start_time": "2022-01-07T08:23:02.829Z"
   },
   {
    "duration": 22,
    "start_time": "2022-01-07T08:23:18.697Z"
   },
   {
    "duration": 5,
    "start_time": "2022-01-07T08:26:23.359Z"
   },
   {
    "duration": 20,
    "start_time": "2022-01-07T08:26:24.453Z"
   },
   {
    "duration": 4,
    "start_time": "2022-01-07T08:27:39.689Z"
   },
   {
    "duration": 24,
    "start_time": "2022-01-07T08:27:40.542Z"
   },
   {
    "duration": 4,
    "start_time": "2022-01-07T08:27:44.049Z"
   },
   {
    "duration": 17,
    "start_time": "2022-01-07T08:27:46.278Z"
   },
   {
    "duration": 5,
    "start_time": "2022-01-07T08:29:59.318Z"
   },
   {
    "duration": 13,
    "start_time": "2022-01-07T08:30:13.100Z"
   },
   {
    "duration": 23,
    "start_time": "2022-01-07T08:33:38.199Z"
   },
   {
    "duration": 363,
    "start_time": "2022-01-07T08:34:59.299Z"
   },
   {
    "duration": 24,
    "start_time": "2022-01-07T08:35:04.558Z"
   },
   {
    "duration": 1505,
    "start_time": "2022-01-07T08:35:05.365Z"
   },
   {
    "duration": 14,
    "start_time": "2022-01-07T08:36:01.645Z"
   },
   {
    "duration": 25,
    "start_time": "2022-01-07T08:44:23.454Z"
   },
   {
    "duration": 23,
    "start_time": "2022-01-07T08:45:07.837Z"
   },
   {
    "duration": 14,
    "start_time": "2022-01-07T08:45:31.378Z"
   },
   {
    "duration": 23,
    "start_time": "2022-01-07T08:48:39.134Z"
   },
   {
    "duration": 382,
    "start_time": "2022-01-07T08:49:00.216Z"
   },
   {
    "duration": 15,
    "start_time": "2022-01-07T08:49:12.057Z"
   },
   {
    "duration": 6,
    "start_time": "2022-01-07T09:06:31.534Z"
   },
   {
    "duration": 6,
    "start_time": "2022-01-07T09:06:59.929Z"
   },
   {
    "duration": 6,
    "start_time": "2022-01-07T09:07:50.608Z"
   },
   {
    "duration": 5,
    "start_time": "2022-01-07T09:08:56.523Z"
   },
   {
    "duration": 5,
    "start_time": "2022-01-07T09:08:57.593Z"
   },
   {
    "duration": 8,
    "start_time": "2022-01-07T09:11:07.701Z"
   },
   {
    "duration": 340,
    "start_time": "2022-01-07T09:11:27.442Z"
   },
   {
    "duration": 429,
    "start_time": "2022-01-07T09:12:52.660Z"
   },
   {
    "duration": 6,
    "start_time": "2022-01-07T09:12:59.258Z"
   },
   {
    "duration": 25,
    "start_time": "2022-01-07T09:13:58.017Z"
   },
   {
    "duration": 9,
    "start_time": "2022-01-07T09:14:09.655Z"
   },
   {
    "duration": 7,
    "start_time": "2022-01-07T09:14:32.663Z"
   },
   {
    "duration": 10,
    "start_time": "2022-01-07T09:14:55.848Z"
   },
   {
    "duration": 9,
    "start_time": "2022-01-07T09:14:56.834Z"
   },
   {
    "duration": 8,
    "start_time": "2022-01-07T09:14:57.728Z"
   },
   {
    "duration": 11,
    "start_time": "2022-01-07T09:16:34.444Z"
   },
   {
    "duration": 11,
    "start_time": "2022-01-07T09:19:15.526Z"
   },
   {
    "duration": 20,
    "start_time": "2022-01-07T09:20:18.171Z"
   },
   {
    "duration": 18,
    "start_time": "2022-01-07T09:21:17.488Z"
   },
   {
    "duration": 15,
    "start_time": "2022-01-07T09:22:21.931Z"
   },
   {
    "duration": 28,
    "start_time": "2022-01-07T09:30:16.261Z"
   },
   {
    "duration": 559,
    "start_time": "2022-01-07T09:33:46.463Z"
   },
   {
    "duration": 363,
    "start_time": "2022-01-07T09:34:58.314Z"
   },
   {
    "duration": 38,
    "start_time": "2022-01-07T09:35:15.352Z"
   },
   {
    "duration": 44,
    "start_time": "2022-01-07T09:36:18.768Z"
   },
   {
    "duration": 115,
    "start_time": "2022-01-07T09:36:45.097Z"
   },
   {
    "duration": 120,
    "start_time": "2022-01-07T09:38:07.642Z"
   },
   {
    "duration": 15,
    "start_time": "2022-01-07T09:38:17.686Z"
   },
   {
    "duration": 21,
    "start_time": "2022-01-07T09:38:50.717Z"
   },
   {
    "duration": 36,
    "start_time": "2022-01-07T09:44:54.979Z"
   },
   {
    "duration": 33,
    "start_time": "2022-01-07T09:45:22.860Z"
   },
   {
    "duration": 3,
    "start_time": "2022-01-07T09:51:02.109Z"
   },
   {
    "duration": 30,
    "start_time": "2022-01-07T09:53:32.937Z"
   },
   {
    "duration": 354,
    "start_time": "2022-01-07T09:55:42.427Z"
   },
   {
    "duration": 339,
    "start_time": "2022-01-07T09:56:33.801Z"
   },
   {
    "duration": 510,
    "start_time": "2022-01-07T09:57:04.126Z"
   },
   {
    "duration": 870,
    "start_time": "2022-01-07T10:06:11.303Z"
   },
   {
    "duration": 18,
    "start_time": "2022-01-07T10:06:12.176Z"
   },
   {
    "duration": 31,
    "start_time": "2022-01-07T10:06:12.197Z"
   },
   {
    "duration": 8,
    "start_time": "2022-01-07T10:06:12.258Z"
   },
   {
    "duration": 18,
    "start_time": "2022-01-07T10:06:12.269Z"
   },
   {
    "duration": 10,
    "start_time": "2022-01-07T10:06:12.290Z"
   },
   {
    "duration": 75,
    "start_time": "2022-01-07T10:06:12.302Z"
   },
   {
    "duration": 8,
    "start_time": "2022-01-07T10:06:12.382Z"
   },
   {
    "duration": 10,
    "start_time": "2022-01-07T10:06:12.393Z"
   },
   {
    "duration": 8,
    "start_time": "2022-01-07T10:06:12.405Z"
   },
   {
    "duration": 48,
    "start_time": "2022-01-07T10:06:12.415Z"
   },
   {
    "duration": 11,
    "start_time": "2022-01-07T10:06:12.466Z"
   },
   {
    "duration": 12,
    "start_time": "2022-01-07T10:06:12.479Z"
   },
   {
    "duration": 10,
    "start_time": "2022-01-07T10:06:12.493Z"
   },
   {
    "duration": 11,
    "start_time": "2022-01-07T10:06:12.506Z"
   },
   {
    "duration": 57,
    "start_time": "2022-01-07T10:06:12.519Z"
   },
   {
    "duration": 10,
    "start_time": "2022-01-07T10:06:12.579Z"
   },
   {
    "duration": 14,
    "start_time": "2022-01-07T10:06:12.591Z"
   },
   {
    "duration": 53,
    "start_time": "2022-01-07T10:06:12.608Z"
   },
   {
    "duration": 48,
    "start_time": "2022-01-07T10:06:12.664Z"
   },
   {
    "duration": 12,
    "start_time": "2022-01-07T10:06:12.715Z"
   },
   {
    "duration": 40,
    "start_time": "2022-01-07T10:06:12.729Z"
   },
   {
    "duration": 20,
    "start_time": "2022-01-07T10:06:12.777Z"
   },
   {
    "duration": 18,
    "start_time": "2022-01-07T10:06:12.800Z"
   },
   {
    "duration": 44,
    "start_time": "2022-01-07T10:06:12.821Z"
   },
   {
    "duration": 24,
    "start_time": "2022-01-07T10:06:12.868Z"
   },
   {
    "duration": 10,
    "start_time": "2022-01-07T10:06:12.894Z"
   },
   {
    "duration": 11,
    "start_time": "2022-01-07T10:06:12.906Z"
   },
   {
    "duration": 5914,
    "start_time": "2022-01-07T10:06:12.919Z"
   },
   {
    "duration": 45,
    "start_time": "2022-01-07T10:06:18.836Z"
   },
   {
    "duration": 32,
    "start_time": "2022-01-07T10:06:18.883Z"
   },
   {
    "duration": 835,
    "start_time": "2022-01-07T10:06:18.918Z"
   },
   {
    "duration": 6,
    "start_time": "2022-01-07T10:06:19.756Z"
   },
   {
    "duration": 5,
    "start_time": "2022-01-07T10:06:19.764Z"
   },
   {
    "duration": 15,
    "start_time": "2022-01-07T10:06:19.771Z"
   },
   {
    "duration": 12,
    "start_time": "2022-01-07T10:06:19.788Z"
   },
   {
    "duration": 4,
    "start_time": "2022-01-07T10:06:19.803Z"
   },
   {
    "duration": 59,
    "start_time": "2022-01-07T10:06:19.810Z"
   },
   {
    "duration": 8,
    "start_time": "2022-01-07T10:06:19.871Z"
   },
   {
    "duration": 11,
    "start_time": "2022-01-07T10:06:19.882Z"
   },
   {
    "duration": 12,
    "start_time": "2022-01-07T10:06:19.895Z"
   },
   {
    "duration": 68,
    "start_time": "2022-01-07T10:06:19.910Z"
   },
   {
    "duration": 4,
    "start_time": "2022-01-07T10:06:19.981Z"
   },
   {
    "duration": 33,
    "start_time": "2022-01-07T10:06:19.987Z"
   },
   {
    "duration": 3,
    "start_time": "2022-01-07T10:06:20.023Z"
   },
   {
    "duration": 20,
    "start_time": "2022-01-07T10:06:20.060Z"
   },
   {
    "duration": 31,
    "start_time": "2022-01-07T10:06:20.083Z"
   },
   {
    "duration": 41,
    "start_time": "2022-01-07T10:06:20.118Z"
   },
   {
    "duration": 22,
    "start_time": "2022-01-07T10:06:20.162Z"
   },
   {
    "duration": 12,
    "start_time": "2022-01-07T10:06:20.187Z"
   },
   {
    "duration": 59,
    "start_time": "2022-01-07T10:06:20.202Z"
   },
   {
    "duration": 13,
    "start_time": "2022-01-07T10:06:20.263Z"
   },
   {
    "duration": 4,
    "start_time": "2022-01-07T10:06:20.279Z"
   },
   {
    "duration": 7,
    "start_time": "2022-01-07T10:06:20.286Z"
   },
   {
    "duration": 67,
    "start_time": "2022-01-07T10:06:20.295Z"
   },
   {
    "duration": 104,
    "start_time": "2022-01-08T04:42:45.852Z"
   },
   {
    "duration": 46,
    "start_time": "2022-01-08T13:04:10.847Z"
   },
   {
    "duration": 572,
    "start_time": "2022-01-08T13:04:16.121Z"
   },
   {
    "duration": 12,
    "start_time": "2022-01-08T13:04:17.407Z"
   },
   {
    "duration": 19,
    "start_time": "2022-01-08T13:04:18.785Z"
   },
   {
    "duration": 39,
    "start_time": "2022-01-08T13:04:21.765Z"
   },
   {
    "duration": 8,
    "start_time": "2022-01-08T13:04:27.653Z"
   },
   {
    "duration": 9,
    "start_time": "2022-01-08T13:11:06.527Z"
   },
   {
    "duration": 9,
    "start_time": "2022-01-08T13:13:10.154Z"
   },
   {
    "duration": 5,
    "start_time": "2022-01-08T13:14:16.274Z"
   },
   {
    "duration": 8,
    "start_time": "2022-01-08T13:39:48.348Z"
   },
   {
    "duration": 5,
    "start_time": "2022-01-08T13:40:55.280Z"
   },
   {
    "duration": 6,
    "start_time": "2022-01-08T13:43:47.694Z"
   },
   {
    "duration": 26,
    "start_time": "2022-01-08T13:43:56.734Z"
   },
   {
    "duration": 7,
    "start_time": "2022-01-08T13:43:58.840Z"
   },
   {
    "duration": 6,
    "start_time": "2022-01-08T13:44:11.041Z"
   },
   {
    "duration": 7,
    "start_time": "2022-01-08T13:44:19.891Z"
   },
   {
    "duration": 6,
    "start_time": "2022-01-08T13:45:17.751Z"
   },
   {
    "duration": 6,
    "start_time": "2022-01-08T13:45:42.099Z"
   },
   {
    "duration": 6,
    "start_time": "2022-01-08T13:45:56.388Z"
   },
   {
    "duration": 7,
    "start_time": "2022-01-08T13:50:10.863Z"
   },
   {
    "duration": 6,
    "start_time": "2022-01-08T13:50:52.047Z"
   },
   {
    "duration": 14,
    "start_time": "2022-01-08T14:06:16.259Z"
   },
   {
    "duration": 192,
    "start_time": "2022-01-08T14:09:36.003Z"
   },
   {
    "duration": 4,
    "start_time": "2022-01-08T14:09:40.019Z"
   },
   {
    "duration": 267,
    "start_time": "2022-01-08T14:09:40.766Z"
   },
   {
    "duration": 1274,
    "start_time": "2022-01-08T14:09:56.191Z"
   },
   {
    "duration": 52,
    "start_time": "2022-01-08T14:09:58.367Z"
   },
   {
    "duration": 11,
    "start_time": "2022-01-08T14:09:59.165Z"
   },
   {
    "duration": 1170,
    "start_time": "2022-01-08T14:10:58.798Z"
   },
   {
    "duration": 53,
    "start_time": "2022-01-08T14:11:02.093Z"
   },
   {
    "duration": 12,
    "start_time": "2022-01-08T14:11:02.947Z"
   },
   {
    "duration": 23,
    "start_time": "2022-01-08T14:11:05.482Z"
   },
   {
    "duration": 1149,
    "start_time": "2022-01-08T14:11:23.929Z"
   },
   {
    "duration": 52,
    "start_time": "2022-01-08T14:11:25.657Z"
   },
   {
    "duration": 12,
    "start_time": "2022-01-08T14:11:26.467Z"
   },
   {
    "duration": 20,
    "start_time": "2022-01-08T14:11:28.636Z"
   },
   {
    "duration": 1281,
    "start_time": "2022-01-08T14:11:40.677Z"
   },
   {
    "duration": 50,
    "start_time": "2022-01-08T14:11:41.960Z"
   },
   {
    "duration": 15,
    "start_time": "2022-01-08T14:11:42.501Z"
   },
   {
    "duration": 21,
    "start_time": "2022-01-08T14:11:43.323Z"
   },
   {
    "duration": 10,
    "start_time": "2022-01-08T14:11:55.583Z"
   },
   {
    "duration": 17,
    "start_time": "2022-01-08T14:12:02.798Z"
   },
   {
    "duration": 10,
    "start_time": "2022-01-08T14:12:08.590Z"
   },
   {
    "duration": 7,
    "start_time": "2022-01-08T14:12:42.528Z"
   },
   {
    "duration": 8,
    "start_time": "2022-01-08T14:13:09.655Z"
   },
   {
    "duration": 13,
    "start_time": "2022-01-08T14:14:03.381Z"
   },
   {
    "duration": 19,
    "start_time": "2022-01-08T14:14:55.299Z"
   },
   {
    "duration": 11,
    "start_time": "2022-01-08T14:15:12.649Z"
   },
   {
    "duration": 8,
    "start_time": "2022-01-08T14:17:19.630Z"
   },
   {
    "duration": 5,
    "start_time": "2022-01-08T14:17:37.511Z"
   },
   {
    "duration": 6,
    "start_time": "2022-01-08T14:18:13.800Z"
   },
   {
    "duration": 6,
    "start_time": "2022-01-08T14:18:26.557Z"
   },
   {
    "duration": 7,
    "start_time": "2022-01-08T14:18:28.223Z"
   },
   {
    "duration": 5,
    "start_time": "2022-01-08T14:18:51.805Z"
   },
   {
    "duration": 7,
    "start_time": "2022-01-08T14:19:01.839Z"
   },
   {
    "duration": 7,
    "start_time": "2022-01-08T14:19:05.657Z"
   },
   {
    "duration": 165,
    "start_time": "2022-01-08T14:23:48.325Z"
   },
   {
    "duration": 145,
    "start_time": "2022-01-08T14:24:02.688Z"
   },
   {
    "duration": 3,
    "start_time": "2022-01-08T14:24:07.161Z"
   },
   {
    "duration": 350,
    "start_time": "2022-01-08T14:24:08.469Z"
   },
   {
    "duration": 1175,
    "start_time": "2022-01-08T14:24:21.879Z"
   },
   {
    "duration": 1146,
    "start_time": "2022-01-08T14:24:46.319Z"
   },
   {
    "duration": 1163,
    "start_time": "2022-01-08T14:25:20.716Z"
   },
   {
    "duration": 54,
    "start_time": "2022-01-08T14:25:22.447Z"
   },
   {
    "duration": 12,
    "start_time": "2022-01-08T14:25:23.037Z"
   },
   {
    "duration": 19,
    "start_time": "2022-01-08T14:25:25.843Z"
   },
   {
    "duration": 7,
    "start_time": "2022-01-08T14:25:29.376Z"
   },
   {
    "duration": 16,
    "start_time": "2022-01-08T14:25:30.302Z"
   },
   {
    "duration": 10,
    "start_time": "2022-01-08T14:25:31.796Z"
   },
   {
    "duration": 8,
    "start_time": "2022-01-08T14:25:32.691Z"
   },
   {
    "duration": 10,
    "start_time": "2022-01-08T14:25:33.493Z"
   },
   {
    "duration": 8,
    "start_time": "2022-01-08T14:25:35.825Z"
   },
   {
    "duration": 14,
    "start_time": "2022-01-08T14:25:37.118Z"
   },
   {
    "duration": 7,
    "start_time": "2022-01-08T14:25:40.500Z"
   },
   {
    "duration": 7,
    "start_time": "2022-01-08T14:25:44.033Z"
   },
   {
    "duration": 11,
    "start_time": "2022-01-08T14:25:48.100Z"
   },
   {
    "duration": 8,
    "start_time": "2022-01-08T14:25:49.578Z"
   },
   {
    "duration": 9,
    "start_time": "2022-01-08T14:25:51.007Z"
   },
   {
    "duration": 11,
    "start_time": "2022-01-08T14:25:53.369Z"
   },
   {
    "duration": 8,
    "start_time": "2022-01-08T14:25:54.383Z"
   },
   {
    "duration": 8,
    "start_time": "2022-01-08T14:25:56.122Z"
   },
   {
    "duration": 8,
    "start_time": "2022-01-08T14:25:59.405Z"
   },
   {
    "duration": 7,
    "start_time": "2022-01-08T14:26:00.934Z"
   },
   {
    "duration": 8,
    "start_time": "2022-01-08T14:26:03.883Z"
   },
   {
    "duration": 8,
    "start_time": "2022-01-08T14:26:05.929Z"
   },
   {
    "duration": 19,
    "start_time": "2022-01-08T14:26:10.426Z"
   },
   {
    "duration": 12,
    "start_time": "2022-01-08T14:26:13.653Z"
   },
   {
    "duration": 16,
    "start_time": "2022-01-08T14:26:15.492Z"
   },
   {
    "duration": 8,
    "start_time": "2022-01-08T14:26:31.099Z"
   },
   {
    "duration": 17,
    "start_time": "2022-01-08T14:26:32.428Z"
   },
   {
    "duration": 6,
    "start_time": "2022-01-08T14:26:33.734Z"
   },
   {
    "duration": 5,
    "start_time": "2022-01-08T14:26:35.863Z"
   },
   {
    "duration": 3,
    "start_time": "2022-01-08T14:26:41.204Z"
   },
   {
    "duration": 8,
    "start_time": "2022-01-08T14:26:41.951Z"
   },
   {
    "duration": 3742,
    "start_time": "2022-01-08T14:26:50.358Z"
   },
   {
    "duration": 26,
    "start_time": "2022-01-08T14:26:54.960Z"
   },
   {
    "duration": 23,
    "start_time": "2022-01-08T14:26:57.974Z"
   },
   {
    "duration": 3,
    "start_time": "2022-01-08T14:27:00.729Z"
   },
   {
    "duration": 5,
    "start_time": "2022-01-08T14:27:01.223Z"
   },
   {
    "duration": 5,
    "start_time": "2022-01-08T14:27:04.791Z"
   },
   {
    "duration": 9,
    "start_time": "2022-01-08T14:27:06.747Z"
   },
   {
    "duration": 7,
    "start_time": "2022-01-08T14:27:07.331Z"
   },
   {
    "duration": 3,
    "start_time": "2022-01-08T14:27:09.681Z"
   },
   {
    "duration": 9,
    "start_time": "2022-01-08T14:27:11.655Z"
   },
   {
    "duration": 6,
    "start_time": "2022-01-08T14:27:12.147Z"
   },
   {
    "duration": 9,
    "start_time": "2022-01-08T14:27:17.650Z"
   },
   {
    "duration": 20,
    "start_time": "2022-01-08T14:27:21.288Z"
   },
   {
    "duration": 15,
    "start_time": "2022-01-08T14:27:22.247Z"
   },
   {
    "duration": 3,
    "start_time": "2022-01-08T14:27:27.673Z"
   },
   {
    "duration": 25,
    "start_time": "2022-01-08T14:27:28.883Z"
   },
   {
    "duration": 3,
    "start_time": "2022-01-08T14:27:40.630Z"
   },
   {
    "duration": 12,
    "start_time": "2022-01-08T14:27:41.087Z"
   },
   {
    "duration": 22,
    "start_time": "2022-01-08T14:27:46.597Z"
   },
   {
    "duration": 11,
    "start_time": "2022-01-08T14:27:49.493Z"
   },
   {
    "duration": 25,
    "start_time": "2022-01-08T14:30:25.614Z"
   },
   {
    "duration": 31,
    "start_time": "2022-01-08T14:31:24.105Z"
   },
   {
    "duration": 23,
    "start_time": "2022-01-08T14:31:35.769Z"
   },
   {
    "duration": 12,
    "start_time": "2022-01-08T14:32:04.635Z"
   },
   {
    "duration": 294,
    "start_time": "2022-01-08T14:33:01.236Z"
   },
   {
    "duration": 139,
    "start_time": "2022-01-08T14:33:19.664Z"
   },
   {
    "duration": 17,
    "start_time": "2022-01-08T14:33:27.313Z"
   },
   {
    "duration": 15,
    "start_time": "2022-01-08T14:33:55.035Z"
   },
   {
    "duration": 13,
    "start_time": "2022-01-08T14:34:04.357Z"
   },
   {
    "duration": 127,
    "start_time": "2022-01-08T14:35:26.372Z"
   },
   {
    "duration": 13,
    "start_time": "2022-01-08T14:35:35.053Z"
   },
   {
    "duration": 13,
    "start_time": "2022-01-08T14:36:19.985Z"
   },
   {
    "duration": 138,
    "start_time": "2022-01-08T14:36:40.787Z"
   },
   {
    "duration": 13,
    "start_time": "2022-01-08T14:36:47.141Z"
   },
   {
    "duration": 16,
    "start_time": "2022-01-08T14:56:46.592Z"
   },
   {
    "duration": 14,
    "start_time": "2022-01-08T14:57:08.964Z"
   },
   {
    "duration": 1135,
    "start_time": "2022-01-08T15:00:08.249Z"
   },
   {
    "duration": 51,
    "start_time": "2022-01-08T15:00:09.386Z"
   },
   {
    "duration": 11,
    "start_time": "2022-01-08T15:00:09.439Z"
   },
   {
    "duration": 24,
    "start_time": "2022-01-08T15:00:09.452Z"
   },
   {
    "duration": 6,
    "start_time": "2022-01-08T15:00:09.478Z"
   },
   {
    "duration": 14,
    "start_time": "2022-01-08T15:00:09.492Z"
   },
   {
    "duration": 7,
    "start_time": "2022-01-08T15:00:09.507Z"
   },
   {
    "duration": 6,
    "start_time": "2022-01-08T15:00:09.517Z"
   },
   {
    "duration": 10,
    "start_time": "2022-01-08T15:00:09.525Z"
   },
   {
    "duration": 16,
    "start_time": "2022-01-08T15:00:09.536Z"
   },
   {
    "duration": 44,
    "start_time": "2022-01-08T15:00:09.553Z"
   },
   {
    "duration": 5,
    "start_time": "2022-01-08T15:00:09.599Z"
   },
   {
    "duration": 6,
    "start_time": "2022-01-08T15:00:09.605Z"
   },
   {
    "duration": 7,
    "start_time": "2022-01-08T15:00:09.613Z"
   },
   {
    "duration": 9,
    "start_time": "2022-01-08T15:00:09.621Z"
   },
   {
    "duration": 9,
    "start_time": "2022-01-08T15:00:09.632Z"
   },
   {
    "duration": 13,
    "start_time": "2022-01-08T15:00:09.642Z"
   },
   {
    "duration": 39,
    "start_time": "2022-01-08T15:00:09.657Z"
   },
   {
    "duration": 8,
    "start_time": "2022-01-08T15:00:09.698Z"
   },
   {
    "duration": 15,
    "start_time": "2022-01-08T15:00:09.708Z"
   },
   {
    "duration": 5,
    "start_time": "2022-01-08T15:00:09.725Z"
   },
   {
    "duration": 11,
    "start_time": "2022-01-08T15:00:09.732Z"
   },
   {
    "duration": 7,
    "start_time": "2022-01-08T15:00:09.747Z"
   },
   {
    "duration": 44,
    "start_time": "2022-01-08T15:00:09.757Z"
   },
   {
    "duration": 12,
    "start_time": "2022-01-08T15:00:09.802Z"
   },
   {
    "duration": 15,
    "start_time": "2022-01-08T15:00:09.816Z"
   },
   {
    "duration": 7,
    "start_time": "2022-01-08T15:00:09.833Z"
   },
   {
    "duration": 19,
    "start_time": "2022-01-08T15:00:09.841Z"
   },
   {
    "duration": 32,
    "start_time": "2022-01-08T15:00:09.861Z"
   },
   {
    "duration": 7,
    "start_time": "2022-01-08T15:00:09.894Z"
   },
   {
    "duration": 5,
    "start_time": "2022-01-08T15:00:09.903Z"
   },
   {
    "duration": 11,
    "start_time": "2022-01-08T15:00:09.909Z"
   },
   {
    "duration": 3842,
    "start_time": "2022-01-08T15:00:09.922Z"
   },
   {
    "duration": 33,
    "start_time": "2022-01-08T15:00:13.767Z"
   },
   {
    "duration": 22,
    "start_time": "2022-01-08T15:00:13.802Z"
   },
   {
    "duration": 7,
    "start_time": "2022-01-08T15:00:13.826Z"
   },
   {
    "duration": 9,
    "start_time": "2022-01-08T15:00:13.835Z"
   },
   {
    "duration": 8,
    "start_time": "2022-01-08T15:00:13.845Z"
   },
   {
    "duration": 12,
    "start_time": "2022-01-08T15:00:13.854Z"
   },
   {
    "duration": 7,
    "start_time": "2022-01-08T15:00:13.891Z"
   },
   {
    "duration": 8,
    "start_time": "2022-01-08T15:00:13.900Z"
   },
   {
    "duration": 11,
    "start_time": "2022-01-08T15:00:13.910Z"
   },
   {
    "duration": 7,
    "start_time": "2022-01-08T15:00:13.922Z"
   },
   {
    "duration": 9,
    "start_time": "2022-01-08T15:00:13.931Z"
   },
   {
    "duration": 14,
    "start_time": "2022-01-08T15:00:13.943Z"
   },
   {
    "duration": 52,
    "start_time": "2022-01-08T15:00:13.959Z"
   },
   {
    "duration": 4,
    "start_time": "2022-01-08T15:00:14.013Z"
   },
   {
    "duration": 24,
    "start_time": "2022-01-08T15:00:14.019Z"
   },
   {
    "duration": 4,
    "start_time": "2022-01-08T15:00:14.045Z"
   },
   {
    "duration": 39,
    "start_time": "2022-01-08T15:00:14.051Z"
   },
   {
    "duration": 25,
    "start_time": "2022-01-08T15:00:14.093Z"
   },
   {
    "duration": 8,
    "start_time": "2022-01-08T15:00:14.120Z"
   },
   {
    "duration": 15,
    "start_time": "2022-01-08T15:00:14.130Z"
   },
   {
    "duration": 9,
    "start_time": "2022-01-08T15:00:14.147Z"
   },
   {
    "duration": 47,
    "start_time": "2022-01-08T15:00:14.158Z"
   },
   {
    "duration": 10,
    "start_time": "2022-01-08T15:00:14.207Z"
   },
   {
    "duration": 15,
    "start_time": "2022-01-08T15:00:14.219Z"
   },
   {
    "duration": 11,
    "start_time": "2022-01-08T15:00:14.236Z"
   },
   {
    "duration": 6,
    "start_time": "2022-01-08T15:00:14.249Z"
   },
   {
    "duration": 52,
    "start_time": "2022-01-08T15:00:14.256Z"
   },
   {
    "duration": 1552,
    "start_time": "2022-01-09T05:13:15.094Z"
   },
   {
    "duration": 62,
    "start_time": "2022-01-09T05:13:17.327Z"
   },
   {
    "duration": 15,
    "start_time": "2022-01-09T05:13:17.524Z"
   },
   {
    "duration": 27,
    "start_time": "2022-01-09T05:13:17.676Z"
   },
   {
    "duration": 9,
    "start_time": "2022-01-09T05:13:19.323Z"
   },
   {
    "duration": 17,
    "start_time": "2022-01-09T05:13:19.659Z"
   },
   {
    "duration": 12,
    "start_time": "2022-01-09T05:13:20.339Z"
   },
   {
    "duration": 8,
    "start_time": "2022-01-09T05:13:20.675Z"
   },
   {
    "duration": 10,
    "start_time": "2022-01-09T05:13:21.020Z"
   },
   {
    "duration": 11,
    "start_time": "2022-01-09T05:13:21.718Z"
   },
   {
    "duration": 17,
    "start_time": "2022-01-09T05:13:22.058Z"
   },
   {
    "duration": 7,
    "start_time": "2022-01-09T05:13:22.590Z"
   },
   {
    "duration": 8,
    "start_time": "2022-01-09T05:13:23.115Z"
   },
   {
    "duration": 10,
    "start_time": "2022-01-09T05:13:23.651Z"
   },
   {
    "duration": 9,
    "start_time": "2022-01-09T05:13:24.324Z"
   },
   {
    "duration": 11,
    "start_time": "2022-01-09T05:13:24.755Z"
   },
   {
    "duration": 15,
    "start_time": "2022-01-09T05:13:25.123Z"
   },
   {
    "duration": 11,
    "start_time": "2022-01-09T05:13:25.499Z"
   },
   {
    "duration": 11,
    "start_time": "2022-01-09T05:13:26.059Z"
   },
   {
    "duration": 12,
    "start_time": "2022-01-09T05:13:26.643Z"
   },
   {
    "duration": 9,
    "start_time": "2022-01-09T05:13:27.027Z"
   },
   {
    "duration": 11,
    "start_time": "2022-01-09T05:13:27.419Z"
   },
   {
    "duration": 11,
    "start_time": "2022-01-09T05:13:28.187Z"
   },
   {
    "duration": 19,
    "start_time": "2022-01-09T05:13:29.676Z"
   },
   {
    "duration": 19,
    "start_time": "2022-01-09T05:13:30.227Z"
   },
   {
    "duration": 18,
    "start_time": "2022-01-09T05:13:30.772Z"
   },
   {
    "duration": 10,
    "start_time": "2022-01-09T05:13:34.298Z"
   },
   {
    "duration": 26,
    "start_time": "2022-01-09T05:13:34.311Z"
   },
   {
    "duration": 8,
    "start_time": "2022-01-09T05:13:34.340Z"
   },
   {
    "duration": 8,
    "start_time": "2022-01-09T05:13:34.351Z"
   },
   {
    "duration": 28,
    "start_time": "2022-01-09T05:14:38.544Z"
   },
   {
    "duration": 29,
    "start_time": "2022-01-09T05:15:35.195Z"
   },
   {
    "duration": 24,
    "start_time": "2022-01-09T05:15:44.333Z"
   },
   {
    "duration": 1342,
    "start_time": "2022-07-05T12:50:24.890Z"
   },
   {
    "duration": 114,
    "start_time": "2022-07-05T12:50:26.234Z"
   },
   {
    "duration": 16,
    "start_time": "2022-07-05T12:50:26.350Z"
   },
   {
    "duration": 21,
    "start_time": "2022-07-05T12:50:26.368Z"
   },
   {
    "duration": 7,
    "start_time": "2022-07-05T12:50:26.390Z"
   },
   {
    "duration": 14,
    "start_time": "2022-07-05T12:50:26.398Z"
   },
   {
    "duration": 7,
    "start_time": "2022-07-05T12:50:26.414Z"
   },
   {
    "duration": 6,
    "start_time": "2022-07-05T12:50:26.423Z"
   },
   {
    "duration": 38,
    "start_time": "2022-07-05T12:50:26.430Z"
   },
   {
    "duration": 9,
    "start_time": "2022-07-05T12:50:26.472Z"
   },
   {
    "duration": 10,
    "start_time": "2022-07-05T12:50:26.483Z"
   },
   {
    "duration": 5,
    "start_time": "2022-07-05T12:50:26.495Z"
   },
   {
    "duration": 10,
    "start_time": "2022-07-05T12:50:26.501Z"
   },
   {
    "duration": 9,
    "start_time": "2022-07-05T12:50:26.513Z"
   },
   {
    "duration": 45,
    "start_time": "2022-07-05T12:50:26.524Z"
   },
   {
    "duration": 9,
    "start_time": "2022-07-05T12:50:26.572Z"
   },
   {
    "duration": 14,
    "start_time": "2022-07-05T12:50:26.582Z"
   },
   {
    "duration": 9,
    "start_time": "2022-07-05T12:50:26.598Z"
   },
   {
    "duration": 7,
    "start_time": "2022-07-05T12:50:26.608Z"
   },
   {
    "duration": 11,
    "start_time": "2022-07-05T12:50:26.617Z"
   },
   {
    "duration": 37,
    "start_time": "2022-07-05T12:50:26.629Z"
   },
   {
    "duration": 8,
    "start_time": "2022-07-05T12:50:26.668Z"
   },
   {
    "duration": 10,
    "start_time": "2022-07-05T12:50:26.677Z"
   },
   {
    "duration": 23,
    "start_time": "2022-07-05T12:50:26.689Z"
   },
   {
    "duration": 14,
    "start_time": "2022-07-05T12:50:26.714Z"
   },
   {
    "duration": 54,
    "start_time": "2022-07-05T12:50:26.730Z"
   },
   {
    "duration": 23,
    "start_time": "2022-07-05T12:50:26.786Z"
   },
   {
    "duration": 25,
    "start_time": "2022-07-05T12:50:26.813Z"
   },
   {
    "duration": 7,
    "start_time": "2022-07-05T12:50:26.840Z"
   },
   {
    "duration": 17,
    "start_time": "2022-07-05T12:50:26.848Z"
   },
   {
    "duration": 27,
    "start_time": "2022-07-05T12:50:26.867Z"
   },
   {
    "duration": 22,
    "start_time": "2022-07-05T12:50:26.896Z"
   },
   {
    "duration": 16,
    "start_time": "2022-07-05T12:50:26.920Z"
   },
   {
    "duration": 12,
    "start_time": "2022-07-05T12:50:30.313Z"
   },
   {
    "duration": 10,
    "start_time": "2022-07-05T12:50:31.491Z"
   },
   {
    "duration": 4239,
    "start_time": "2022-07-05T12:50:35.644Z"
   },
   {
    "duration": 406,
    "start_time": "2022-07-05T12:50:39.886Z"
   },
   {
    "duration": 33,
    "start_time": "2022-07-05T12:50:40.295Z"
   },
   {
    "duration": 8,
    "start_time": "2022-07-05T12:50:40.330Z"
   },
   {
    "duration": 9,
    "start_time": "2022-07-05T12:50:40.339Z"
   },
   {
    "duration": 4,
    "start_time": "2022-07-05T12:50:43.211Z"
   },
   {
    "duration": 9,
    "start_time": "2022-07-05T12:50:43.919Z"
   },
   {
    "duration": 10,
    "start_time": "2022-07-05T12:50:44.686Z"
   },
   {
    "duration": 3,
    "start_time": "2022-07-05T12:50:48.049Z"
   },
   {
    "duration": 8,
    "start_time": "2022-07-05T12:50:48.585Z"
   },
   {
    "duration": 9,
    "start_time": "2022-07-05T12:50:49.331Z"
   },
   {
    "duration": 10,
    "start_time": "2022-07-05T12:50:55.140Z"
   },
   {
    "duration": 10,
    "start_time": "2022-07-05T12:50:55.348Z"
   },
   {
    "duration": 29,
    "start_time": "2022-07-05T12:50:55.891Z"
   },
   {
    "duration": 3,
    "start_time": "2022-07-05T12:50:58.931Z"
   },
   {
    "duration": 24,
    "start_time": "2022-07-05T12:51:00.322Z"
   },
   {
    "duration": 3,
    "start_time": "2022-07-05T12:51:23.501Z"
   },
   {
    "duration": 10,
    "start_time": "2022-07-05T12:51:24.590Z"
   },
   {
    "duration": 18,
    "start_time": "2022-07-05T12:51:36.082Z"
   },
   {
    "duration": 11,
    "start_time": "2022-07-05T12:51:39.211Z"
   },
   {
    "duration": 17,
    "start_time": "2022-07-05T12:51:46.639Z"
   },
   {
    "duration": 11,
    "start_time": "2022-07-05T12:51:49.014Z"
   },
   {
    "duration": 17,
    "start_time": "2022-07-05T12:52:00.597Z"
   },
   {
    "duration": 11,
    "start_time": "2022-07-05T12:52:03.025Z"
   },
   {
    "duration": 1311,
    "start_time": "2022-07-05T13:04:37.200Z"
   },
   {
    "duration": 67,
    "start_time": "2022-07-05T13:04:38.513Z"
   },
   {
    "duration": 16,
    "start_time": "2022-07-05T13:04:38.582Z"
   },
   {
    "duration": 19,
    "start_time": "2022-07-05T13:04:38.600Z"
   },
   {
    "duration": 5,
    "start_time": "2022-07-05T13:04:38.620Z"
   },
   {
    "duration": 23,
    "start_time": "2022-07-05T13:04:38.627Z"
   },
   {
    "duration": 19,
    "start_time": "2022-07-05T13:04:38.664Z"
   },
   {
    "duration": 14,
    "start_time": "2022-07-05T13:04:38.685Z"
   },
   {
    "duration": 20,
    "start_time": "2022-07-05T13:04:38.700Z"
   },
   {
    "duration": 11,
    "start_time": "2022-07-05T13:04:38.723Z"
   },
   {
    "duration": 20,
    "start_time": "2022-07-05T13:04:38.736Z"
   },
   {
    "duration": 14,
    "start_time": "2022-07-05T13:04:38.758Z"
   },
   {
    "duration": 27,
    "start_time": "2022-07-05T13:04:38.774Z"
   },
   {
    "duration": 15,
    "start_time": "2022-07-05T13:04:38.803Z"
   },
   {
    "duration": 26,
    "start_time": "2022-07-05T13:04:38.820Z"
   },
   {
    "duration": 42,
    "start_time": "2022-07-05T13:04:38.848Z"
   },
   {
    "duration": 43,
    "start_time": "2022-07-05T13:04:38.892Z"
   },
   {
    "duration": 17,
    "start_time": "2022-07-05T13:04:38.937Z"
   },
   {
    "duration": 32,
    "start_time": "2022-07-05T13:04:38.956Z"
   },
   {
    "duration": 22,
    "start_time": "2022-07-05T13:04:38.990Z"
   },
   {
    "duration": 15,
    "start_time": "2022-07-05T13:04:39.014Z"
   },
   {
    "duration": 59,
    "start_time": "2022-07-05T13:04:39.031Z"
   },
   {
    "duration": 16,
    "start_time": "2022-07-05T13:04:39.092Z"
   },
   {
    "duration": 26,
    "start_time": "2022-07-05T13:04:39.110Z"
   },
   {
    "duration": 15,
    "start_time": "2022-07-05T13:04:39.138Z"
   },
   {
    "duration": 41,
    "start_time": "2022-07-05T13:04:39.154Z"
   },
   {
    "duration": 30,
    "start_time": "2022-07-05T13:04:39.196Z"
   },
   {
    "duration": 40,
    "start_time": "2022-07-05T13:04:39.229Z"
   },
   {
    "duration": 14,
    "start_time": "2022-07-05T13:04:39.276Z"
   },
   {
    "duration": 16,
    "start_time": "2022-07-05T13:04:39.292Z"
   },
   {
    "duration": 51,
    "start_time": "2022-07-05T13:04:39.310Z"
   },
   {
    "duration": 56,
    "start_time": "2022-07-05T13:04:39.364Z"
   },
   {
    "duration": 32,
    "start_time": "2022-07-05T13:04:39.422Z"
   },
   {
    "duration": 3,
    "start_time": "2022-07-05T13:04:39.456Z"
   },
   {
    "duration": 35,
    "start_time": "2022-07-05T13:04:39.461Z"
   },
   {
    "duration": 3769,
    "start_time": "2022-07-05T13:04:39.498Z"
   },
   {
    "duration": 533,
    "start_time": "2022-07-05T13:04:43.269Z"
   },
   {
    "duration": 1309,
    "start_time": "2022-07-05T13:05:27.416Z"
   },
   {
    "duration": 68,
    "start_time": "2022-07-05T13:05:28.727Z"
   },
   {
    "duration": 16,
    "start_time": "2022-07-05T13:05:28.797Z"
   },
   {
    "duration": 25,
    "start_time": "2022-07-05T13:05:28.815Z"
   },
   {
    "duration": 37,
    "start_time": "2022-07-05T13:05:28.842Z"
   },
   {
    "duration": 20,
    "start_time": "2022-07-05T13:05:28.882Z"
   },
   {
    "duration": 7,
    "start_time": "2022-07-05T13:05:28.903Z"
   },
   {
    "duration": 9,
    "start_time": "2022-07-05T13:05:28.912Z"
   },
   {
    "duration": 6,
    "start_time": "2022-07-05T13:05:28.923Z"
   },
   {
    "duration": 12,
    "start_time": "2022-07-05T13:05:28.932Z"
   },
   {
    "duration": 13,
    "start_time": "2022-07-05T13:05:28.945Z"
   },
   {
    "duration": 12,
    "start_time": "2022-07-05T13:05:28.964Z"
   },
   {
    "duration": 12,
    "start_time": "2022-07-05T13:05:28.977Z"
   },
   {
    "duration": 11,
    "start_time": "2022-07-05T13:05:28.991Z"
   },
   {
    "duration": 10,
    "start_time": "2022-07-05T13:05:29.003Z"
   },
   {
    "duration": 9,
    "start_time": "2022-07-05T13:05:29.015Z"
   },
   {
    "duration": 17,
    "start_time": "2022-07-05T13:05:29.026Z"
   },
   {
    "duration": 29,
    "start_time": "2022-07-05T13:05:29.045Z"
   },
   {
    "duration": 8,
    "start_time": "2022-07-05T13:05:29.076Z"
   },
   {
    "duration": 9,
    "start_time": "2022-07-05T13:05:29.086Z"
   },
   {
    "duration": 5,
    "start_time": "2022-07-05T13:05:29.097Z"
   },
   {
    "duration": 14,
    "start_time": "2022-07-05T13:05:29.104Z"
   },
   {
    "duration": 9,
    "start_time": "2022-07-05T13:05:29.120Z"
   },
   {
    "duration": 14,
    "start_time": "2022-07-05T13:05:29.131Z"
   },
   {
    "duration": 12,
    "start_time": "2022-07-05T13:05:29.168Z"
   },
   {
    "duration": 23,
    "start_time": "2022-07-05T13:05:29.182Z"
   },
   {
    "duration": 11,
    "start_time": "2022-07-05T13:05:29.207Z"
   },
   {
    "duration": 21,
    "start_time": "2022-07-05T13:05:29.221Z"
   },
   {
    "duration": 6,
    "start_time": "2022-07-05T13:05:29.244Z"
   },
   {
    "duration": 6,
    "start_time": "2022-07-05T13:05:29.269Z"
   },
   {
    "duration": 23,
    "start_time": "2022-07-05T13:05:29.277Z"
   },
   {
    "duration": 22,
    "start_time": "2022-07-05T13:05:29.301Z"
   },
   {
    "duration": 40,
    "start_time": "2022-07-05T13:05:29.325Z"
   },
   {
    "duration": 3,
    "start_time": "2022-07-05T13:05:29.367Z"
   },
   {
    "duration": 15,
    "start_time": "2022-07-05T13:05:29.372Z"
   },
   {
    "duration": 3893,
    "start_time": "2022-07-05T13:05:29.389Z"
   },
   {
    "duration": 623,
    "start_time": "2022-07-05T13:05:33.284Z"
   },
   {
    "duration": 20,
    "start_time": "2022-07-05T13:05:33.909Z"
   },
   {
    "duration": 8,
    "start_time": "2022-07-05T13:05:33.931Z"
   },
   {
    "duration": 9,
    "start_time": "2022-07-05T13:05:33.940Z"
   },
   {
    "duration": 7,
    "start_time": "2022-07-05T13:05:33.951Z"
   },
   {
    "duration": 30,
    "start_time": "2022-07-05T13:05:33.960Z"
   },
   {
    "duration": 10,
    "start_time": "2022-07-05T13:05:33.992Z"
   },
   {
    "duration": 10,
    "start_time": "2022-07-05T13:05:34.004Z"
   },
   {
    "duration": 13,
    "start_time": "2022-07-05T13:05:34.016Z"
   },
   {
    "duration": 7,
    "start_time": "2022-07-05T13:05:34.031Z"
   },
   {
    "duration": 13,
    "start_time": "2022-07-05T13:05:34.039Z"
   },
   {
    "duration": 11,
    "start_time": "2022-07-05T13:05:34.053Z"
   },
   {
    "duration": 28,
    "start_time": "2022-07-05T13:05:34.070Z"
   },
   {
    "duration": 5,
    "start_time": "2022-07-05T13:05:34.100Z"
   },
   {
    "duration": 28,
    "start_time": "2022-07-05T13:05:34.106Z"
   },
   {
    "duration": 3,
    "start_time": "2022-07-05T13:05:34.136Z"
   },
   {
    "duration": 27,
    "start_time": "2022-07-05T13:05:34.141Z"
   },
   {
    "duration": 20,
    "start_time": "2022-07-05T13:05:34.170Z"
   },
   {
    "duration": 15,
    "start_time": "2022-07-05T13:05:34.192Z"
   },
   {
    "duration": 17,
    "start_time": "2022-07-05T13:05:34.209Z"
   },
   {
    "duration": 10,
    "start_time": "2022-07-05T13:05:34.228Z"
   },
   {
    "duration": 40,
    "start_time": "2022-07-05T13:05:34.240Z"
   },
   {
    "duration": 15,
    "start_time": "2022-07-05T13:05:34.282Z"
   },
   {
    "duration": 5,
    "start_time": "2022-07-05T13:05:34.299Z"
   },
   {
    "duration": 6,
    "start_time": "2022-07-05T13:05:34.305Z"
   },
   {
    "duration": 25,
    "start_time": "2022-07-05T13:05:34.313Z"
   },
   {
    "duration": 431,
    "start_time": "2022-07-05T13:15:42.235Z"
   },
   {
    "duration": 20,
    "start_time": "2022-07-05T13:16:26.637Z"
   },
   {
    "duration": 316,
    "start_time": "2022-07-05T13:16:38.382Z"
   },
   {
    "duration": 20,
    "start_time": "2022-07-05T13:16:50.076Z"
   },
   {
    "duration": 310,
    "start_time": "2022-07-05T13:16:56.939Z"
   },
   {
    "duration": 35,
    "start_time": "2022-07-05T13:17:17.634Z"
   },
   {
    "duration": 342,
    "start_time": "2022-07-05T13:17:28.842Z"
   },
   {
    "duration": 29,
    "start_time": "2022-07-05T13:17:37.637Z"
   },
   {
    "duration": 1297,
    "start_time": "2022-07-05T13:18:15.209Z"
   },
   {
    "duration": 62,
    "start_time": "2022-07-05T13:18:16.508Z"
   },
   {
    "duration": 16,
    "start_time": "2022-07-05T13:18:16.575Z"
   },
   {
    "duration": 57,
    "start_time": "2022-07-05T13:18:16.594Z"
   },
   {
    "duration": 5,
    "start_time": "2022-07-05T13:18:16.653Z"
   },
   {
    "duration": 18,
    "start_time": "2022-07-05T13:18:16.659Z"
   },
   {
    "duration": 22,
    "start_time": "2022-07-05T13:18:16.679Z"
   },
   {
    "duration": 10,
    "start_time": "2022-07-05T13:18:16.703Z"
   },
   {
    "duration": 11,
    "start_time": "2022-07-05T13:18:16.715Z"
   },
   {
    "duration": 9,
    "start_time": "2022-07-05T13:18:16.729Z"
   },
   {
    "duration": 9,
    "start_time": "2022-07-05T13:18:16.740Z"
   },
   {
    "duration": 23,
    "start_time": "2022-07-05T13:18:16.751Z"
   },
   {
    "duration": 7,
    "start_time": "2022-07-05T13:18:16.780Z"
   },
   {
    "duration": 20,
    "start_time": "2022-07-05T13:18:16.788Z"
   },
   {
    "duration": 20,
    "start_time": "2022-07-05T13:18:16.810Z"
   },
   {
    "duration": 9,
    "start_time": "2022-07-05T13:18:16.832Z"
   },
   {
    "duration": 19,
    "start_time": "2022-07-05T13:18:16.843Z"
   },
   {
    "duration": 27,
    "start_time": "2022-07-05T13:18:16.864Z"
   },
   {
    "duration": 13,
    "start_time": "2022-07-05T13:18:16.892Z"
   },
   {
    "duration": 16,
    "start_time": "2022-07-05T13:18:16.906Z"
   },
   {
    "duration": 5,
    "start_time": "2022-07-05T13:18:16.924Z"
   },
   {
    "duration": 8,
    "start_time": "2022-07-05T13:18:16.931Z"
   },
   {
    "duration": 9,
    "start_time": "2022-07-05T13:18:16.940Z"
   },
   {
    "duration": 27,
    "start_time": "2022-07-05T13:18:16.950Z"
   },
   {
    "duration": 11,
    "start_time": "2022-07-05T13:18:16.979Z"
   },
   {
    "duration": 21,
    "start_time": "2022-07-05T13:18:16.992Z"
   },
   {
    "duration": 13,
    "start_time": "2022-07-05T13:18:17.015Z"
   },
   {
    "duration": 17,
    "start_time": "2022-07-05T13:18:17.031Z"
   },
   {
    "duration": 29,
    "start_time": "2022-07-05T13:18:17.049Z"
   },
   {
    "duration": 10,
    "start_time": "2022-07-05T13:18:17.081Z"
   },
   {
    "duration": 25,
    "start_time": "2022-07-05T13:18:17.092Z"
   },
   {
    "duration": 21,
    "start_time": "2022-07-05T13:18:17.119Z"
   },
   {
    "duration": 35,
    "start_time": "2022-07-05T13:18:17.142Z"
   },
   {
    "duration": 5,
    "start_time": "2022-07-05T13:18:17.179Z"
   },
   {
    "duration": 15,
    "start_time": "2022-07-05T13:18:17.186Z"
   },
   {
    "duration": 3802,
    "start_time": "2022-07-05T13:18:17.202Z"
   },
   {
    "duration": 29,
    "start_time": "2022-07-05T13:18:21.006Z"
   },
   {
    "duration": 41,
    "start_time": "2022-07-05T13:18:21.037Z"
   },
   {
    "duration": 4,
    "start_time": "2022-07-05T13:18:21.080Z"
   },
   {
    "duration": 9,
    "start_time": "2022-07-05T13:18:21.085Z"
   },
   {
    "duration": 10,
    "start_time": "2022-07-05T13:18:21.095Z"
   },
   {
    "duration": 10,
    "start_time": "2022-07-05T13:18:21.106Z"
   },
   {
    "duration": 9,
    "start_time": "2022-07-05T13:18:21.118Z"
   },
   {
    "duration": 3,
    "start_time": "2022-07-05T13:18:21.128Z"
   },
   {
    "duration": 9,
    "start_time": "2022-07-05T13:18:21.133Z"
   },
   {
    "duration": 25,
    "start_time": "2022-07-05T13:18:21.143Z"
   },
   {
    "duration": 26,
    "start_time": "2022-07-05T13:18:21.169Z"
   },
   {
    "duration": 12,
    "start_time": "2022-07-05T13:18:21.196Z"
   },
   {
    "duration": 13,
    "start_time": "2022-07-05T13:18:21.210Z"
   },
   {
    "duration": 3,
    "start_time": "2022-07-05T13:18:21.224Z"
   },
   {
    "duration": 37,
    "start_time": "2022-07-05T13:18:21.229Z"
   },
   {
    "duration": 8,
    "start_time": "2022-07-05T13:18:21.267Z"
   },
   {
    "duration": 16,
    "start_time": "2022-07-05T13:18:21.279Z"
   },
   {
    "duration": 20,
    "start_time": "2022-07-05T13:18:21.297Z"
   },
   {
    "duration": 10,
    "start_time": "2022-07-05T13:18:21.319Z"
   },
   {
    "duration": 47,
    "start_time": "2022-07-05T13:18:21.331Z"
   },
   {
    "duration": 10,
    "start_time": "2022-07-05T13:18:21.381Z"
   },
   {
    "duration": 25,
    "start_time": "2022-07-05T13:18:21.393Z"
   },
   {
    "duration": 11,
    "start_time": "2022-07-05T13:18:21.420Z"
   },
   {
    "duration": 6,
    "start_time": "2022-07-05T13:18:21.433Z"
   },
   {
    "duration": 5,
    "start_time": "2022-07-05T13:18:21.441Z"
   },
   {
    "duration": 34,
    "start_time": "2022-07-05T13:18:21.448Z"
   },
   {
    "duration": 2284,
    "start_time": "2022-07-05T13:19:16.820Z"
   },
   {
    "duration": 78,
    "start_time": "2022-07-05T13:19:19.106Z"
   },
   {
    "duration": 16,
    "start_time": "2022-07-05T13:19:19.186Z"
   },
   {
    "duration": 19,
    "start_time": "2022-07-05T13:19:19.204Z"
   },
   {
    "duration": 6,
    "start_time": "2022-07-05T13:19:19.224Z"
   },
   {
    "duration": 45,
    "start_time": "2022-07-05T13:19:19.232Z"
   },
   {
    "duration": 7,
    "start_time": "2022-07-05T13:19:19.279Z"
   },
   {
    "duration": 6,
    "start_time": "2022-07-05T13:19:19.288Z"
   },
   {
    "duration": 7,
    "start_time": "2022-07-05T13:19:19.295Z"
   },
   {
    "duration": 8,
    "start_time": "2022-07-05T13:19:19.305Z"
   },
   {
    "duration": 10,
    "start_time": "2022-07-05T13:19:19.315Z"
   },
   {
    "duration": 4,
    "start_time": "2022-07-05T13:19:19.326Z"
   },
   {
    "duration": 38,
    "start_time": "2022-07-05T13:19:19.332Z"
   },
   {
    "duration": 13,
    "start_time": "2022-07-05T13:19:19.371Z"
   },
   {
    "duration": 9,
    "start_time": "2022-07-05T13:19:19.386Z"
   },
   {
    "duration": 12,
    "start_time": "2022-07-05T13:19:19.397Z"
   },
   {
    "duration": 12,
    "start_time": "2022-07-05T13:19:19.410Z"
   },
   {
    "duration": 11,
    "start_time": "2022-07-05T13:19:19.424Z"
   },
   {
    "duration": 8,
    "start_time": "2022-07-05T13:19:19.437Z"
   },
   {
    "duration": 14,
    "start_time": "2022-07-05T13:19:19.463Z"
   },
   {
    "duration": 8,
    "start_time": "2022-07-05T13:19:19.478Z"
   },
   {
    "duration": 8,
    "start_time": "2022-07-05T13:19:19.487Z"
   },
   {
    "duration": 13,
    "start_time": "2022-07-05T13:19:19.496Z"
   },
   {
    "duration": 19,
    "start_time": "2022-07-05T13:19:19.511Z"
   },
   {
    "duration": 14,
    "start_time": "2022-07-05T13:19:19.532Z"
   },
   {
    "duration": 16,
    "start_time": "2022-07-05T13:19:19.565Z"
   },
   {
    "duration": 10,
    "start_time": "2022-07-05T13:19:19.583Z"
   },
   {
    "duration": 17,
    "start_time": "2022-07-05T13:19:19.597Z"
   },
   {
    "duration": 6,
    "start_time": "2022-07-05T13:19:19.616Z"
   },
   {
    "duration": 14,
    "start_time": "2022-07-05T13:19:19.624Z"
   },
   {
    "duration": 48,
    "start_time": "2022-07-05T13:19:19.639Z"
   },
   {
    "duration": 22,
    "start_time": "2022-07-05T13:19:19.688Z"
   },
   {
    "duration": 18,
    "start_time": "2022-07-05T13:19:19.712Z"
   },
   {
    "duration": 3,
    "start_time": "2022-07-05T13:19:19.731Z"
   },
   {
    "duration": 27,
    "start_time": "2022-07-05T13:19:19.765Z"
   },
   {
    "duration": 4003,
    "start_time": "2022-07-05T13:19:19.794Z"
   },
   {
    "duration": 28,
    "start_time": "2022-07-05T13:19:23.800Z"
   },
   {
    "duration": 39,
    "start_time": "2022-07-05T13:19:23.831Z"
   },
   {
    "duration": 5,
    "start_time": "2022-07-05T13:19:23.872Z"
   },
   {
    "duration": 11,
    "start_time": "2022-07-05T13:19:23.879Z"
   },
   {
    "duration": 7,
    "start_time": "2022-07-05T13:19:23.892Z"
   },
   {
    "duration": 17,
    "start_time": "2022-07-05T13:19:23.901Z"
   },
   {
    "duration": 8,
    "start_time": "2022-07-05T13:19:23.920Z"
   },
   {
    "duration": 8,
    "start_time": "2022-07-05T13:19:23.930Z"
   },
   {
    "duration": 20,
    "start_time": "2022-07-05T13:19:23.940Z"
   },
   {
    "duration": 24,
    "start_time": "2022-07-05T13:19:23.964Z"
   },
   {
    "duration": 9,
    "start_time": "2022-07-05T13:19:23.990Z"
   },
   {
    "duration": 9,
    "start_time": "2022-07-05T13:19:24.000Z"
   },
   {
    "duration": 13,
    "start_time": "2022-07-05T13:19:24.010Z"
   },
   {
    "duration": 3,
    "start_time": "2022-07-05T13:19:24.025Z"
   },
   {
    "duration": 37,
    "start_time": "2022-07-05T13:19:24.030Z"
   },
   {
    "duration": 3,
    "start_time": "2022-07-05T13:19:24.074Z"
   },
   {
    "duration": 17,
    "start_time": "2022-07-05T13:19:24.079Z"
   },
   {
    "duration": 18,
    "start_time": "2022-07-05T13:19:24.098Z"
   },
   {
    "duration": 11,
    "start_time": "2022-07-05T13:19:24.117Z"
   },
   {
    "duration": 28,
    "start_time": "2022-07-05T13:19:24.130Z"
   },
   {
    "duration": 29,
    "start_time": "2022-07-05T13:19:24.160Z"
   },
   {
    "duration": 17,
    "start_time": "2022-07-05T13:19:24.192Z"
   },
   {
    "duration": 11,
    "start_time": "2022-07-05T13:19:24.211Z"
   },
   {
    "duration": 6,
    "start_time": "2022-07-05T13:19:24.224Z"
   },
   {
    "duration": 7,
    "start_time": "2022-07-05T13:19:24.231Z"
   },
   {
    "duration": 29,
    "start_time": "2022-07-05T13:19:24.239Z"
   }
  ],
  "celltoolbar": "Отсутствует",
  "kernelspec": {
   "display_name": "Python 3",
   "language": "python",
   "name": "python3"
  },
  "language_info": {
   "codemirror_mode": {
    "name": "ipython",
    "version": 3
   },
   "file_extension": ".py",
   "mimetype": "text/x-python",
   "name": "python",
   "nbconvert_exporter": "python",
   "pygments_lexer": "ipython3",
   "version": "3.8.8"
  },
  "toc": {
   "base_numbering": 1,
   "nav_menu": {},
   "number_sections": true,
   "sideBar": true,
   "skip_h1_title": true,
   "title_cell": "Table of Contents",
   "title_sidebar": "Contents",
   "toc_cell": false,
   "toc_position": {
    "height": "calc(100% - 180px)",
    "left": "10px",
    "top": "150px",
    "width": "366.391px"
   },
   "toc_section_display": true,
   "toc_window_display": true
  }
 },
 "nbformat": 4,
 "nbformat_minor": 4
}
