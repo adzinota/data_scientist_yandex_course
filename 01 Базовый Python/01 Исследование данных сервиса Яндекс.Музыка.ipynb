{
 "cells": [
  {
   "cell_type": "markdown",
   "metadata": {
    "id": "E0vqbgi9ay0H",
    "pycharm": {
     "name": "#%% md\n"
    }
   },
   "source": [
    "# Яндекс.Музыка"
   ]
  },
  {
   "cell_type": "markdown",
   "metadata": {
    "id": "VUC88oWjTJw2",
    "pycharm": {
     "name": "#%% md\n"
    }
   },
   "source": [
    "Сравнение Москвы и Петербурга окружено мифами. Например:\n",
    " * Москва — мегаполис, подчинённый жёсткому ритму рабочей недели;\n",
    " * Петербург — культурная столица, со своими вкусами.\n",
    "\n",
    "На данных Яндекс.Музыки вы сравните поведение пользователей двух столиц.\n",
    "\n",
    "**Цель исследования** — проверьте три гипотезы:\n",
    "1. Активность пользователей зависит от дня недели. Причём в Москве и Петербурге это проявляется по-разному.\n",
    "2. В понедельник утром в Москве преобладают одни жанры, а в Петербурге — другие. Так же и вечером пятницы преобладают разные жанры — в зависимости от города. \n",
    "3. Москва и Петербург предпочитают разные жанры музыки. В Москве чаще слушают поп-музыку, в Петербурге — русский рэп.\n",
    "\n",
    "**Ход исследования**\n",
    "\n",
    "Данные о поведении пользователей вы получите из файла `yandex_music_project.csv`. О качестве данных ничего не известно. Поэтому перед проверкой гипотез понадобится обзор данных. \n",
    "\n",
    "Вы проверите данные на ошибки и оцените их влияние на исследование. Затем, на этапе предобработки вы поищете возможность исправить самые критичные ошибки данных.\n",
    " \n",
    "Таким образом, исследование пройдёт в три этапа:\n",
    " 1. Обзор данных.\n",
    " 2. Предобработка данных.\n",
    " 3. Проверка гипотез.\n",
    "\n"
   ]
  },
  {
   "cell_type": "markdown",
   "metadata": {
    "id": "Ml1hmfXC_Zcs",
    "pycharm": {
     "name": "#%% md\n"
    }
   },
   "source": [
    "## Обзор данных\n",
    "\n",
    "Составьте первое представление о данных Яндекс.Музыки.\n",
    "\n",
    "\n"
   ]
  },
  {
   "cell_type": "markdown",
   "metadata": {
    "id": "57eAOGIz_Zcs",
    "pycharm": {
     "name": "#%% md\n"
    }
   },
   "source": [
    "Основной инструмент аналитика — `pandas`. Импортируйте эту библиотеку."
   ]
  },
  {
   "cell_type": "code",
   "execution_count": 1,
   "metadata": {
    "id": "AXN7PHPN_Zcs",
    "pycharm": {
     "name": "#%%\n"
    }
   },
   "outputs": [],
   "source": [
    "import pandas as pd"
   ]
  },
  {
   "cell_type": "markdown",
   "metadata": {
    "id": "SG23P8tt_Zcs",
    "pycharm": {
     "name": "#%% md\n"
    }
   },
   "source": [
    "Прочитайте файл `yandex_music_project.csv` из папки `/datasets` и сохраните его в переменной `df`:"
   ]
  },
  {
   "cell_type": "code",
   "execution_count": 2,
   "metadata": {
    "id": "fFVu7vqh_Zct",
    "pycharm": {
     "name": "#%%\n"
    }
   },
   "outputs": [],
   "source": [
    "df = pd.read_csv('/datasets/yandex_music_project.csv')"
   ]
  },
  {
   "cell_type": "markdown",
   "metadata": {
    "id": "rDoOMd3uTqnZ",
    "pycharm": {
     "name": "#%% md\n"
    }
   },
   "source": [
    "Выведите на экран первые десять строк таблицы:"
   ]
  },
  {
   "cell_type": "code",
   "execution_count": 3,
   "metadata": {
    "id": "oWTVX3gW_Zct",
    "pycharm": {
     "name": "#%%\n"
    }
   },
   "outputs": [
    {
     "data": {
      "text/html": [
       "<div>\n",
       "<style scoped>\n",
       "    .dataframe tbody tr th:only-of-type {\n",
       "        vertical-align: middle;\n",
       "    }\n",
       "\n",
       "    .dataframe tbody tr th {\n",
       "        vertical-align: top;\n",
       "    }\n",
       "\n",
       "    .dataframe thead th {\n",
       "        text-align: right;\n",
       "    }\n",
       "</style>\n",
       "<table border=\"1\" class=\"dataframe\">\n",
       "  <thead>\n",
       "    <tr style=\"text-align: right;\">\n",
       "      <th></th>\n",
       "      <th>userID</th>\n",
       "      <th>Track</th>\n",
       "      <th>artist</th>\n",
       "      <th>genre</th>\n",
       "      <th>City</th>\n",
       "      <th>time</th>\n",
       "      <th>Day</th>\n",
       "    </tr>\n",
       "  </thead>\n",
       "  <tbody>\n",
       "    <tr>\n",
       "      <td>0</td>\n",
       "      <td>FFB692EC</td>\n",
       "      <td>Kamigata To Boots</td>\n",
       "      <td>The Mass Missile</td>\n",
       "      <td>rock</td>\n",
       "      <td>Saint-Petersburg</td>\n",
       "      <td>20:28:33</td>\n",
       "      <td>Wednesday</td>\n",
       "    </tr>\n",
       "    <tr>\n",
       "      <td>1</td>\n",
       "      <td>55204538</td>\n",
       "      <td>Delayed Because of Accident</td>\n",
       "      <td>Andreas Rönnberg</td>\n",
       "      <td>rock</td>\n",
       "      <td>Moscow</td>\n",
       "      <td>14:07:09</td>\n",
       "      <td>Friday</td>\n",
       "    </tr>\n",
       "    <tr>\n",
       "      <td>2</td>\n",
       "      <td>20EC38</td>\n",
       "      <td>Funiculì funiculà</td>\n",
       "      <td>Mario Lanza</td>\n",
       "      <td>pop</td>\n",
       "      <td>Saint-Petersburg</td>\n",
       "      <td>20:58:07</td>\n",
       "      <td>Wednesday</td>\n",
       "    </tr>\n",
       "    <tr>\n",
       "      <td>3</td>\n",
       "      <td>A3DD03C9</td>\n",
       "      <td>Dragons in the Sunset</td>\n",
       "      <td>Fire + Ice</td>\n",
       "      <td>folk</td>\n",
       "      <td>Saint-Petersburg</td>\n",
       "      <td>08:37:09</td>\n",
       "      <td>Monday</td>\n",
       "    </tr>\n",
       "    <tr>\n",
       "      <td>4</td>\n",
       "      <td>E2DC1FAE</td>\n",
       "      <td>Soul People</td>\n",
       "      <td>Space Echo</td>\n",
       "      <td>dance</td>\n",
       "      <td>Moscow</td>\n",
       "      <td>08:34:34</td>\n",
       "      <td>Monday</td>\n",
       "    </tr>\n",
       "    <tr>\n",
       "      <td>5</td>\n",
       "      <td>842029A1</td>\n",
       "      <td>Преданная</td>\n",
       "      <td>IMPERVTOR</td>\n",
       "      <td>rusrap</td>\n",
       "      <td>Saint-Petersburg</td>\n",
       "      <td>13:09:41</td>\n",
       "      <td>Friday</td>\n",
       "    </tr>\n",
       "    <tr>\n",
       "      <td>6</td>\n",
       "      <td>4CB90AA5</td>\n",
       "      <td>True</td>\n",
       "      <td>Roman Messer</td>\n",
       "      <td>dance</td>\n",
       "      <td>Moscow</td>\n",
       "      <td>13:00:07</td>\n",
       "      <td>Wednesday</td>\n",
       "    </tr>\n",
       "    <tr>\n",
       "      <td>7</td>\n",
       "      <td>F03E1C1F</td>\n",
       "      <td>Feeling This Way</td>\n",
       "      <td>Polina Griffith</td>\n",
       "      <td>dance</td>\n",
       "      <td>Moscow</td>\n",
       "      <td>20:47:49</td>\n",
       "      <td>Wednesday</td>\n",
       "    </tr>\n",
       "    <tr>\n",
       "      <td>8</td>\n",
       "      <td>8FA1D3BE</td>\n",
       "      <td>И вновь продолжается бой</td>\n",
       "      <td>NaN</td>\n",
       "      <td>ruspop</td>\n",
       "      <td>Moscow</td>\n",
       "      <td>09:17:40</td>\n",
       "      <td>Friday</td>\n",
       "    </tr>\n",
       "    <tr>\n",
       "      <td>9</td>\n",
       "      <td>E772D5C0</td>\n",
       "      <td>Pessimist</td>\n",
       "      <td>NaN</td>\n",
       "      <td>dance</td>\n",
       "      <td>Saint-Petersburg</td>\n",
       "      <td>21:20:49</td>\n",
       "      <td>Wednesday</td>\n",
       "    </tr>\n",
       "  </tbody>\n",
       "</table>\n",
       "</div>"
      ],
      "text/plain": [
       "     userID                        Track            artist   genre  \\\n",
       "0  FFB692EC            Kamigata To Boots  The Mass Missile    rock   \n",
       "1  55204538  Delayed Because of Accident  Andreas Rönnberg    rock   \n",
       "2    20EC38            Funiculì funiculà       Mario Lanza     pop   \n",
       "3  A3DD03C9        Dragons in the Sunset        Fire + Ice    folk   \n",
       "4  E2DC1FAE                  Soul People        Space Echo   dance   \n",
       "5  842029A1                    Преданная         IMPERVTOR  rusrap   \n",
       "6  4CB90AA5                         True      Roman Messer   dance   \n",
       "7  F03E1C1F             Feeling This Way   Polina Griffith   dance   \n",
       "8  8FA1D3BE     И вновь продолжается бой               NaN  ruspop   \n",
       "9  E772D5C0                    Pessimist               NaN   dance   \n",
       "\n",
       "             City        time        Day  \n",
       "0  Saint-Petersburg  20:28:33  Wednesday  \n",
       "1            Moscow  14:07:09     Friday  \n",
       "2  Saint-Petersburg  20:58:07  Wednesday  \n",
       "3  Saint-Petersburg  08:37:09     Monday  \n",
       "4            Moscow  08:34:34     Monday  \n",
       "5  Saint-Petersburg  13:09:41     Friday  \n",
       "6            Moscow  13:00:07  Wednesday  \n",
       "7            Moscow  20:47:49  Wednesday  \n",
       "8            Moscow  09:17:40     Friday  \n",
       "9  Saint-Petersburg  21:20:49  Wednesday  "
      ]
     },
     "execution_count": 3,
     "metadata": {},
     "output_type": "execute_result"
    }
   ],
   "source": [
    "df.head(10)"
   ]
  },
  {
   "cell_type": "markdown",
   "metadata": {
    "id": "EO73Kwic_Zct",
    "pycharm": {
     "name": "#%% md\n"
    }
   },
   "source": [
    "Одной командой получить общую информацию о таблице:"
   ]
  },
  {
   "cell_type": "code",
   "execution_count": 4,
   "metadata": {
    "id": "DSf2kIb-_Zct",
    "pycharm": {
     "name": "#%%\n"
    }
   },
   "outputs": [
    {
     "name": "stdout",
     "output_type": "stream",
     "text": [
      "<class 'pandas.core.frame.DataFrame'>\n",
      "RangeIndex: 65079 entries, 0 to 65078\n",
      "Data columns (total 7 columns):\n",
      "  userID    65079 non-null object\n",
      "Track       63848 non-null object\n",
      "artist      57876 non-null object\n",
      "genre       63881 non-null object\n",
      "  City      65079 non-null object\n",
      "time        65079 non-null object\n",
      "Day         65079 non-null object\n",
      "dtypes: object(7)\n",
      "memory usage: 3.5+ MB\n"
     ]
    }
   ],
   "source": [
    "df.info()"
   ]
  },
  {
   "cell_type": "markdown",
   "metadata": {
    "id": "TaQ2Iwbr_Zct",
    "pycharm": {
     "name": "#%% md\n"
    }
   },
   "source": [
    "Итак, в таблице семь столбцов. Тип данных во всех столбцах — `object`.\n",
    "\n",
    "Согласно документации к данным:\n",
    "* `userID` — идентификатор пользователя;\n",
    "* `Track` — название трека;  \n",
    "* `artist` — имя исполнителя;\n",
    "* `genre` — название жанра;\n",
    "* `City` — город пользователя;\n",
    "* `time` — время начала прослушивания;\n",
    "* `Day` — день недели.\n",
    "\n",
    "В названиях колонок видны три нарушения стиля:\n",
    "1. Строчные буквы сочетаются с прописными.\n",
    "2. Встречаются пробелы.\n",
    "3. Нужно разделение слов в змеином регистре.\n",
    "\n",
    "\n",
    "\n",
    "Количество значений в столбцах различается. Значит, в данных есть пропущенные значения.\n"
   ]
  },
  {
   "cell_type": "markdown",
   "metadata": {
    "id": "MCB6-dXG_Zct",
    "pycharm": {
     "name": "#%% md\n"
    }
   },
   "source": [
    "**Выводы**\n",
    "\n",
    "В каждой строке таблицы — данные о прослушанном треке. Часть колонок описывает саму композицию: название, исполнителя и жанр. Остальные данные рассказывают о пользователе: из какого он города, когда он слушал музыку. \n",
    "\n",
    "Предварительно можно утверждать, что, данных достаточно для проверки гипотез. Но встречаются пропуски в данных, а в названиях колонок — расхождения с хорошим стилем.\n",
    "\n",
    "Чтобы двигаться дальше, нужно устранить проблемы в данных."
   ]
  },
  {
   "cell_type": "markdown",
   "metadata": {
    "id": "SjYF6Ub9_Zct",
    "pycharm": {
     "name": "#%% md\n"
    }
   },
   "source": [
    "## Предобработка данных\n",
    "Исправьте стиль в заголовках столбцов, исключите пропуски. Затем проверьте данные на дубликаты."
   ]
  },
  {
   "cell_type": "markdown",
   "metadata": {
    "id": "dIaKXr29_Zct",
    "pycharm": {
     "name": "#%% md\n"
    }
   },
   "source": [
    "### Стиль заголовков\n",
    "Выведите на экран названия столбцов:"
   ]
  },
  {
   "cell_type": "code",
   "execution_count": 5,
   "metadata": {
    "id": "oKOTdF_Q_Zct",
    "pycharm": {
     "name": "#%%\n"
    }
   },
   "outputs": [
    {
     "data": {
      "text/plain": [
       "Index(['  userID', 'Track', 'artist', 'genre', '  City  ', 'time', 'Day'], dtype='object')"
      ]
     },
     "execution_count": 5,
     "metadata": {},
     "output_type": "execute_result"
    }
   ],
   "source": [
    "df.columns"
   ]
  },
  {
   "cell_type": "markdown",
   "metadata": {
    "id": "zj5534cv_Zct",
    "pycharm": {
     "name": "#%% md\n"
    }
   },
   "source": [
    "Приведите названия в соответствие с хорошим стилем:\n",
    "* несколько слов в названии запишите в «змеином_регистре»,\n",
    "* все символы сделайте строчными,\n",
    "* устраните пробелы.\n",
    "\n",
    "Для этого переименуйте колонки так:\n",
    "* `'  userID'` → `'user_id'`;\n",
    "* `'Track'` → `'track'`;\n",
    "* `'  City  '` → `'city'`;\n",
    "* `'Day'` → `'day'`."
   ]
  },
  {
   "cell_type": "code",
   "execution_count": 6,
   "metadata": {
    "id": "ISlFqs5y_Zct",
    "pycharm": {
     "name": "#%%\n"
    }
   },
   "outputs": [],
   "source": [
    "columns_rename = {'  userID':'user_id', 'Track':'track', '  City  ':'city', 'Day':'day'}\n",
    "df = df.rename(columns=columns_rename)"
   ]
  },
  {
   "cell_type": "markdown",
   "metadata": {
    "id": "1dqbh00J_Zct",
    "pycharm": {
     "name": "#%% md\n"
    }
   },
   "source": [
    "Проверьте результат. Для этого ещё раз выведите на экран названия столбцов:"
   ]
  },
  {
   "cell_type": "code",
   "execution_count": 7,
   "metadata": {
    "id": "d4NOAmTW_Zct",
    "pycharm": {
     "name": "#%%\n"
    }
   },
   "outputs": [
    {
     "data": {
      "text/plain": [
       "Index(['user_id', 'track', 'artist', 'genre', 'city', 'time', 'day'], dtype='object')"
      ]
     },
     "execution_count": 7,
     "metadata": {},
     "output_type": "execute_result"
    }
   ],
   "source": [
    "df.columns"
   ]
  },
  {
   "cell_type": "markdown",
   "metadata": {
    "id": "5ISfbcfY_Zct",
    "pycharm": {
     "name": "#%% md\n"
    }
   },
   "source": [
    "### Пропуски значений\n",
    "Сначала посчитайте, сколько в таблице пропущенных значений. Для этого достаточно двух методов `pandas`:"
   ]
  },
  {
   "cell_type": "code",
   "execution_count": 8,
   "metadata": {
    "id": "RskX29qr_Zct",
    "pycharm": {
     "name": "#%%\n"
    }
   },
   "outputs": [
    {
     "data": {
      "text/plain": [
       "user_id       0\n",
       "track      1231\n",
       "artist     7203\n",
       "genre      1198\n",
       "city          0\n",
       "time          0\n",
       "day           0\n",
       "dtype: int64"
      ]
     },
     "execution_count": 8,
     "metadata": {},
     "output_type": "execute_result"
    }
   ],
   "source": [
    "df.isna().sum()"
   ]
  },
  {
   "cell_type": "markdown",
   "metadata": {
    "id": "qubhgnlO_Zct",
    "pycharm": {
     "name": "#%% md\n"
    }
   },
   "source": [
    "Не все пропущенные значения влияют на исследование. Так в `track` и `artist` пропуски не важны для вашей работы. Достаточно заменить их явными обозначениями.\n",
    "\n",
    "Но пропуски в `genre` могут помешать сравнению музыкальных вкусов в Москве и Санкт-Петербурге. На практике было бы правильно установить причину пропусков и восстановить данные. Такой возможности нет в учебном проекте. Придётся:\n",
    "* заполнить и эти пропуски явными обозначениями,\n",
    "* оценить, насколько они повредят расчётам. "
   ]
  },
  {
   "cell_type": "markdown",
   "metadata": {
    "id": "fSv2laPA_Zct",
    "pycharm": {
     "name": "#%% md\n"
    }
   },
   "source": [
    "Замените пропущенные значения в столбцах `track`, `artist` и `genre` на строку `'unknown'`. Для этого создайте список `columns_to_replace`, переберите его элементы циклом `for` и для каждого столбца выполните замену пропущенных значений:"
   ]
  },
  {
   "cell_type": "code",
   "execution_count": 9,
   "metadata": {
    "id": "KplB5qWs_Zct",
    "pycharm": {
     "name": "#%%\n"
    }
   },
   "outputs": [],
   "source": [
    "columns_to_replace = ['track', 'artist', 'genre']\n",
    "for column in columns_to_replace:\n",
    "    df[column] = df[column].fillna('unknown')"
   ]
  },
  {
   "cell_type": "markdown",
   "metadata": {
    "id": "Ilsm-MZo_Zct",
    "pycharm": {
     "name": "#%% md\n"
    }
   },
   "source": [
    "Убедитесь, что в таблице не осталось пропусков. Для этого ещё раз посчитайте пропущенные значения."
   ]
  },
  {
   "cell_type": "code",
   "execution_count": 10,
   "metadata": {
    "id": "Tq4nYRX4_Zct",
    "pycharm": {
     "name": "#%%\n"
    }
   },
   "outputs": [
    {
     "data": {
      "text/plain": [
       "user_id    0\n",
       "track      0\n",
       "artist     0\n",
       "genre      0\n",
       "city       0\n",
       "time       0\n",
       "day        0\n",
       "dtype: int64"
      ]
     },
     "execution_count": 10,
     "metadata": {},
     "output_type": "execute_result"
    }
   ],
   "source": [
    "df.isna().sum()"
   ]
  },
  {
   "cell_type": "markdown",
   "metadata": {
    "id": "BWKRtBJ3_Zct",
    "pycharm": {
     "name": "#%% md\n"
    }
   },
   "source": [
    "### Дубликаты\n",
    "Посчитайте явные дубликаты в таблице одной командой:"
   ]
  },
  {
   "cell_type": "code",
   "execution_count": 11,
   "metadata": {
    "id": "36eES_S0_Zct",
    "pycharm": {
     "name": "#%%\n"
    }
   },
   "outputs": [
    {
     "data": {
      "text/plain": [
       "3826"
      ]
     },
     "execution_count": 11,
     "metadata": {},
     "output_type": "execute_result"
    }
   ],
   "source": [
    "df.duplicated().sum()"
   ]
  },
  {
   "cell_type": "markdown",
   "metadata": {
    "id": "Ot25h6XR_Zct",
    "pycharm": {
     "name": "#%% md\n"
    }
   },
   "source": [
    "Вызовите специальный метод `pandas`, чтобы удалить явные дубликаты:"
   ]
  },
  {
   "cell_type": "code",
   "execution_count": 12,
   "metadata": {
    "id": "exFHq6tt_Zct",
    "pycharm": {
     "name": "#%%\n"
    }
   },
   "outputs": [],
   "source": [
    "df = df.drop_duplicates().reset_index(drop=True)"
   ]
  },
  {
   "cell_type": "markdown",
   "metadata": {
    "id": "Im2YwBEG_Zct",
    "pycharm": {
     "name": "#%% md\n"
    }
   },
   "source": [
    "Ещё раз посчитайте явные дубликаты в таблице — убедитесь, что полностью от них избавились:"
   ]
  },
  {
   "cell_type": "code",
   "execution_count": 13,
   "metadata": {
    "id": "-8PuNWQ0_Zct",
    "pycharm": {
     "name": "#%%\n"
    }
   },
   "outputs": [
    {
     "data": {
      "text/plain": [
       "0"
      ]
     },
     "execution_count": 13,
     "metadata": {},
     "output_type": "execute_result"
    }
   ],
   "source": [
    "df.duplicated().sum()"
   ]
  },
  {
   "cell_type": "markdown",
   "metadata": {
    "id": "QlFBsxAr_Zct",
    "pycharm": {
     "name": "#%% md\n"
    }
   },
   "source": [
    "Теперь избавьтесь от неявных дубликатов в колонке `genre`. Например, название одного и того же жанра может быть записано немного по-разному. Такие ошибки тоже повлияют на результат исследования."
   ]
  },
  {
   "cell_type": "markdown",
   "metadata": {
    "id": "eSjWwsOh_Zct",
    "pycharm": {
     "name": "#%% md\n"
    }
   },
   "source": [
    "Выведите на экран список уникальных названий жанров, отсортированный в алфавитном порядке. Для этого:\n",
    "* извлеките нужный столбец датафрейма, \n",
    "* примените к нему метод сортировки,\n",
    "* для отсортированного столбца вызовите метод, который вернёт уникальные значения из столбца."
   ]
  },
  {
   "cell_type": "code",
   "execution_count": 14,
   "metadata": {
    "id": "JIUcqzZN_Zct",
    "pycharm": {
     "name": "#%%\n"
    }
   },
   "outputs": [
    {
     "data": {
      "text/plain": [
       "array(['acid', 'acoustic', 'action', 'adult', 'africa', 'afrikaans',\n",
       "       'alternative', 'alternativepunk', 'ambient', 'americana',\n",
       "       'animated', 'anime', 'arabesk', 'arabic', 'arena',\n",
       "       'argentinetango', 'art', 'audiobook', 'author', 'avantgarde',\n",
       "       'axé', 'baile', 'balkan', 'beats', 'bigroom', 'black', 'bluegrass',\n",
       "       'blues', 'bollywood', 'bossa', 'brazilian', 'breakbeat', 'breaks',\n",
       "       'broadway', 'cantautori', 'cantopop', 'canzone', 'caribbean',\n",
       "       'caucasian', 'celtic', 'chamber', 'chanson', 'children', 'chill',\n",
       "       'chinese', 'choral', 'christian', 'christmas', 'classical',\n",
       "       'classicmetal', 'club', 'colombian', 'comedy', 'conjazz',\n",
       "       'contemporary', 'country', 'cuban', 'dance', 'dancehall',\n",
       "       'dancepop', 'dark', 'death', 'deep', 'deutschrock', 'deutschspr',\n",
       "       'dirty', 'disco', 'dnb', 'documentary', 'downbeat', 'downtempo',\n",
       "       'drum', 'dub', 'dubstep', 'eastern', 'easy', 'electronic',\n",
       "       'electropop', 'emo', 'entehno', 'epicmetal', 'estrada', 'ethnic',\n",
       "       'eurofolk', 'european', 'experimental', 'extrememetal', 'fado',\n",
       "       'fairytail', 'film', 'fitness', 'flamenco', 'folk', 'folklore',\n",
       "       'folkmetal', 'folkrock', 'folktronica', 'forró', 'frankreich',\n",
       "       'französisch', 'french', 'funk', 'future', 'gangsta', 'garage',\n",
       "       'german', 'ghazal', 'gitarre', 'glitch', 'gospel', 'gothic',\n",
       "       'grime', 'grunge', 'gypsy', 'handsup', \"hard'n'heavy\", 'hardcore',\n",
       "       'hardstyle', 'hardtechno', 'hip', 'hip-hop', 'hiphop',\n",
       "       'historisch', 'holiday', 'hop', 'horror', 'house', 'hymn', 'idm',\n",
       "       'independent', 'indian', 'indie', 'indipop', 'industrial',\n",
       "       'inspirational', 'instrumental', 'international', 'irish', 'jam',\n",
       "       'japanese', 'jazz', 'jewish', 'jpop', 'jungle', 'k-pop',\n",
       "       'karadeniz', 'karaoke', 'kayokyoku', 'korean', 'laiko', 'latin',\n",
       "       'latino', 'leftfield', 'local', 'lounge', 'loungeelectronic',\n",
       "       'lovers', 'malaysian', 'mandopop', 'marschmusik', 'meditative',\n",
       "       'mediterranean', 'melodic', 'metal', 'metalcore', 'mexican',\n",
       "       'middle', 'minimal', 'miscellaneous', 'modern', 'mood', 'mpb',\n",
       "       'muslim', 'native', 'neoklassik', 'neue', 'new', 'newage',\n",
       "       'newwave', 'nu', 'nujazz', 'numetal', 'oceania', 'old', 'opera',\n",
       "       'orchestral', 'other', 'piano', 'podcasts', 'pop', 'popdance',\n",
       "       'popelectronic', 'popeurodance', 'poprussian', 'post',\n",
       "       'posthardcore', 'postrock', 'power', 'progmetal', 'progressive',\n",
       "       'psychedelic', 'punjabi', 'punk', 'quebecois', 'ragga', 'ram',\n",
       "       'rancheras', 'rap', 'rave', 'reggae', 'reggaeton', 'regional',\n",
       "       'relax', 'religious', 'retro', 'rhythm', 'rnb', 'rnr', 'rock',\n",
       "       'rockabilly', 'rockalternative', 'rockindie', 'rockother',\n",
       "       'romance', 'roots', 'ruspop', 'rusrap', 'rusrock', 'russian',\n",
       "       'salsa', 'samba', 'scenic', 'schlager', 'self', 'sertanejo',\n",
       "       'shanson', 'shoegazing', 'showtunes', 'singer', 'ska', 'skarock',\n",
       "       'slow', 'smooth', 'soft', 'soul', 'soulful', 'sound', 'soundtrack',\n",
       "       'southern', 'specialty', 'speech', 'spiritual', 'sport',\n",
       "       'stonerrock', 'surf', 'swing', 'synthpop', 'synthrock',\n",
       "       'sängerportrait', 'tango', 'tanzorchester', 'taraftar', 'tatar',\n",
       "       'tech', 'techno', 'teen', 'thrash', 'top', 'traditional',\n",
       "       'tradjazz', 'trance', 'tribal', 'trip', 'triphop', 'tropical',\n",
       "       'türk', 'türkçe', 'ukrrock', 'unknown', 'urban', 'uzbek',\n",
       "       'variété', 'vi', 'videogame', 'vocal', 'western', 'world',\n",
       "       'worldbeat', 'ïîï', 'электроника'], dtype=object)"
      ]
     },
     "execution_count": 14,
     "metadata": {},
     "output_type": "execute_result"
    }
   ],
   "source": [
    "df['genre'].sort_values().unique()"
   ]
  },
  {
   "cell_type": "markdown",
   "metadata": {
    "id": "qej-Qmuo_Zct",
    "pycharm": {
     "name": "#%% md\n"
    }
   },
   "source": [
    "Просмотрите список и найдите неявные дубликаты названия `hiphop`. Это могут быть названия с ошибками или альтернативные названия того же жанра.\n",
    "\n",
    "Вы увидите следующие неявные дубликаты:\n",
    "* *hip*,\n",
    "* *hop*,\n",
    "* *hip-hop*.\n",
    "\n",
    "Чтобы очистить от них таблицу, напишите функцию `replace_wrong_genres()` с двумя параметрами: \n",
    "* `wrong_genres` — список дубликатов,\n",
    "* `correct_genre` — строка с правильным значением.\n",
    "\n",
    "Функция должна исправить колонку `genre` в таблице `df`: заменить каждое значение из списка `wrong_genres` на значение из `correct_genre`."
   ]
  },
  {
   "cell_type": "code",
   "execution_count": 15,
   "metadata": {
    "id": "ErNDkmns_Zct",
    "pycharm": {
     "name": "#%%\n"
    }
   },
   "outputs": [],
   "source": [
    "def replace_wrong_genres(wrong_genres, correct_genre):\n",
    "    for wrong_genre in wrong_genres:\n",
    "        df['genre'] = df['genre'].replace(wrong_genre, correct_genre)"
   ]
  },
  {
   "cell_type": "markdown",
   "metadata": {
    "id": "aDoBJxbA_Zct",
    "pycharm": {
     "name": "#%% md\n"
    }
   },
   "source": [
    "Вызовите `replace_wrong_genres()` и передайте ей такие аргументы, чтобы она устранила неявные дубликаты: вместо `hip`, `hop` и `hip-hop` в таблице должно быть значение `hiphop`:"
   ]
  },
  {
   "cell_type": "code",
   "execution_count": 16,
   "metadata": {
    "id": "YN5i2hpmSo09",
    "pycharm": {
     "name": "#%%\n"
    }
   },
   "outputs": [],
   "source": [
    "wrong_genres = ['hip', 'hop', 'hip-hop']\n",
    "correct_genre = 'hiphop'\n",
    "\n",
    "replace_wrong_genres(wrong_genres, correct_genre)"
   ]
  },
  {
   "cell_type": "markdown",
   "metadata": {
    "id": "zQKF16_RG15m",
    "pycharm": {
     "name": "#%% md\n"
    }
   },
   "source": [
    "Проверьте, что заменили неправильные названия:\n",
    "\n",
    "*   hip\n",
    "*   hop\n",
    "*   hip-hop\n",
    "\n",
    "Выведите отсортированный список уникальных значений столбца `genre`:"
   ]
  },
  {
   "cell_type": "code",
   "execution_count": 17,
   "metadata": {
    "id": "wvixALnFG15m",
    "pycharm": {
     "name": "#%%\n"
    }
   },
   "outputs": [
    {
     "data": {
      "text/plain": [
       "array(['acid', 'acoustic', 'action', 'adult', 'africa', 'afrikaans',\n",
       "       'alternative', 'alternativepunk', 'ambient', 'americana',\n",
       "       'animated', 'anime', 'arabesk', 'arabic', 'arena',\n",
       "       'argentinetango', 'art', 'audiobook', 'author', 'avantgarde',\n",
       "       'axé', 'baile', 'balkan', 'beats', 'bigroom', 'black', 'bluegrass',\n",
       "       'blues', 'bollywood', 'bossa', 'brazilian', 'breakbeat', 'breaks',\n",
       "       'broadway', 'cantautori', 'cantopop', 'canzone', 'caribbean',\n",
       "       'caucasian', 'celtic', 'chamber', 'chanson', 'children', 'chill',\n",
       "       'chinese', 'choral', 'christian', 'christmas', 'classical',\n",
       "       'classicmetal', 'club', 'colombian', 'comedy', 'conjazz',\n",
       "       'contemporary', 'country', 'cuban', 'dance', 'dancehall',\n",
       "       'dancepop', 'dark', 'death', 'deep', 'deutschrock', 'deutschspr',\n",
       "       'dirty', 'disco', 'dnb', 'documentary', 'downbeat', 'downtempo',\n",
       "       'drum', 'dub', 'dubstep', 'eastern', 'easy', 'electronic',\n",
       "       'electropop', 'emo', 'entehno', 'epicmetal', 'estrada', 'ethnic',\n",
       "       'eurofolk', 'european', 'experimental', 'extrememetal', 'fado',\n",
       "       'fairytail', 'film', 'fitness', 'flamenco', 'folk', 'folklore',\n",
       "       'folkmetal', 'folkrock', 'folktronica', 'forró', 'frankreich',\n",
       "       'französisch', 'french', 'funk', 'future', 'gangsta', 'garage',\n",
       "       'german', 'ghazal', 'gitarre', 'glitch', 'gospel', 'gothic',\n",
       "       'grime', 'grunge', 'gypsy', 'handsup', \"hard'n'heavy\", 'hardcore',\n",
       "       'hardstyle', 'hardtechno', 'hiphop', 'historisch', 'holiday',\n",
       "       'horror', 'house', 'hymn', 'idm', 'independent', 'indian', 'indie',\n",
       "       'indipop', 'industrial', 'inspirational', 'instrumental',\n",
       "       'international', 'irish', 'jam', 'japanese', 'jazz', 'jewish',\n",
       "       'jpop', 'jungle', 'k-pop', 'karadeniz', 'karaoke', 'kayokyoku',\n",
       "       'korean', 'laiko', 'latin', 'latino', 'leftfield', 'local',\n",
       "       'lounge', 'loungeelectronic', 'lovers', 'malaysian', 'mandopop',\n",
       "       'marschmusik', 'meditative', 'mediterranean', 'melodic', 'metal',\n",
       "       'metalcore', 'mexican', 'middle', 'minimal', 'miscellaneous',\n",
       "       'modern', 'mood', 'mpb', 'muslim', 'native', 'neoklassik', 'neue',\n",
       "       'new', 'newage', 'newwave', 'nu', 'nujazz', 'numetal', 'oceania',\n",
       "       'old', 'opera', 'orchestral', 'other', 'piano', 'podcasts', 'pop',\n",
       "       'popdance', 'popelectronic', 'popeurodance', 'poprussian', 'post',\n",
       "       'posthardcore', 'postrock', 'power', 'progmetal', 'progressive',\n",
       "       'psychedelic', 'punjabi', 'punk', 'quebecois', 'ragga', 'ram',\n",
       "       'rancheras', 'rap', 'rave', 'reggae', 'reggaeton', 'regional',\n",
       "       'relax', 'religious', 'retro', 'rhythm', 'rnb', 'rnr', 'rock',\n",
       "       'rockabilly', 'rockalternative', 'rockindie', 'rockother',\n",
       "       'romance', 'roots', 'ruspop', 'rusrap', 'rusrock', 'russian',\n",
       "       'salsa', 'samba', 'scenic', 'schlager', 'self', 'sertanejo',\n",
       "       'shanson', 'shoegazing', 'showtunes', 'singer', 'ska', 'skarock',\n",
       "       'slow', 'smooth', 'soft', 'soul', 'soulful', 'sound', 'soundtrack',\n",
       "       'southern', 'specialty', 'speech', 'spiritual', 'sport',\n",
       "       'stonerrock', 'surf', 'swing', 'synthpop', 'synthrock',\n",
       "       'sängerportrait', 'tango', 'tanzorchester', 'taraftar', 'tatar',\n",
       "       'tech', 'techno', 'teen', 'thrash', 'top', 'traditional',\n",
       "       'tradjazz', 'trance', 'tribal', 'trip', 'triphop', 'tropical',\n",
       "       'türk', 'türkçe', 'ukrrock', 'unknown', 'urban', 'uzbek',\n",
       "       'variété', 'vi', 'videogame', 'vocal', 'western', 'world',\n",
       "       'worldbeat', 'ïîï', 'электроника'], dtype=object)"
      ]
     },
     "execution_count": 17,
     "metadata": {},
     "output_type": "execute_result"
    }
   ],
   "source": [
    "df['genre'].sort_values().unique()"
   ]
  },
  {
   "cell_type": "markdown",
   "metadata": {
    "id": "jz6a9-7HQUDd",
    "pycharm": {
     "name": "#%% md\n"
    }
   },
   "source": [
    "**Выводы**\n",
    "\n",
    "Предобработка обнаружила три проблемы в данных:\n",
    "\n",
    "- нарушения в стиле заголовков,\n",
    "- пропущенные значения,\n",
    "- дубликаты — явные и неявные.\n",
    "\n",
    "Вы исправили заголовки, чтобы упростить работу с таблицей. Без дубликатов исследование станет более точным.\n",
    "\n",
    "Пропущенные значения вы заменили на `'unknown'`. Ещё предстоит увидеть, не повредят ли исследованию пропуски в колонке `genre`.\n",
    "\n",
    "Теперь можно перейти к проверке гипотез. "
   ]
  },
  {
   "cell_type": "markdown",
   "metadata": {
    "id": "WttZHXH0SqKk",
    "pycharm": {
     "name": "#%% md\n"
    }
   },
   "source": [
    "## Проверка гипотез"
   ]
  },
  {
   "cell_type": "markdown",
   "metadata": {
    "id": "Im936VVi_Zcu",
    "pycharm": {
     "name": "#%% md\n"
    }
   },
   "source": [
    "### Сравнение поведения пользователей двух столиц"
   ]
  },
  {
   "cell_type": "markdown",
   "metadata": {
    "id": "nwt_MuaL_Zcu",
    "pycharm": {
     "name": "#%% md\n"
    }
   },
   "source": [
    "Первая гипотеза утверждает, что пользователи по-разному слушают музыку в Москве и Санкт-Петербурге. Проверьте это предположение по данным о трёх днях недели — понедельнике, среде и пятнице. Для этого:\n",
    "\n",
    "* Разделите пользователей Москвы и Санкт-Петербурга\n",
    "* Сравните, сколько треков послушала каждая группа пользователей в понедельник, среду и пятницу.\n"
   ]
  },
  {
   "cell_type": "markdown",
   "metadata": {
    "id": "8Dw_YMmT_Zcu",
    "pycharm": {
     "name": "#%% md\n"
    }
   },
   "source": [
    "Для тренировки сначала выполните каждый из расчётов по отдельности. \n",
    "\n",
    "Оцените активность пользователей в каждом городе. Сгруппируйте данные по городу и посчитайте прослушивания в каждой группе.\n",
    "\n"
   ]
  },
  {
   "cell_type": "code",
   "execution_count": 18,
   "metadata": {
    "id": "0_Qs96oh_Zcu",
    "pycharm": {
     "name": "#%%\n"
    }
   },
   "outputs": [
    {
     "data": {
      "text/plain": [
       "city\n",
       "Moscow              42741\n",
       "Saint-Petersburg    18512\n",
       "Name: track, dtype: int64"
      ]
     },
     "execution_count": 18,
     "metadata": {},
     "output_type": "execute_result"
    }
   ],
   "source": [
    "df.groupby('city')['track'].count()"
   ]
  },
  {
   "cell_type": "markdown",
   "metadata": {
    "id": "dzli3w8o_Zcu",
    "pycharm": {
     "name": "#%% md\n"
    }
   },
   "source": [
    "В Москве прослушиваний больше, чем в Петербурге. Из этого не следует, что московские пользователи чаще слушают музыку. Просто самих пользователей в Москве больше.\n",
    "\n",
    "Теперь сгруппируйте данные по дню недели и подсчитайте прослушивания в понедельник, среду и пятницу. Учтите, что в данных есть информация только о прослушиваниях только за эти дни.\n"
   ]
  },
  {
   "cell_type": "code",
   "execution_count": 19,
   "metadata": {
    "id": "uZMKjiJz_Zcu",
    "pycharm": {
     "name": "#%%\n"
    }
   },
   "outputs": [
    {
     "data": {
      "text/plain": [
       "day\n",
       "Friday       21840\n",
       "Monday       21354\n",
       "Wednesday    18059\n",
       "Name: track, dtype: int64"
      ]
     },
     "execution_count": 19,
     "metadata": {},
     "output_type": "execute_result"
    }
   ],
   "source": [
    "df.groupby('day')['track'].count()"
   ]
  },
  {
   "cell_type": "markdown",
   "metadata": {
    "id": "cC2tNrlL_Zcu",
    "pycharm": {
     "name": "#%% md\n"
    }
   },
   "source": [
    "В среднем пользователи из двух городов менее активны по средам. Но картина может измениться, если рассмотреть каждый город в отдельности."
   ]
  },
  {
   "cell_type": "markdown",
   "metadata": {
    "id": "POzs8bGa_Zcu",
    "pycharm": {
     "name": "#%% md\n"
    }
   },
   "source": [
    "Вы видели, как работает группировка по городу и по дням недели. Теперь напишите функцию, которая объединит два эти расчёта.\n",
    "\n",
    "Создайте функцию `number_tracks()`, которая посчитает прослушивания для заданного дня и города. Ей понадобятся два параметра:\n",
    "* день недели,\n",
    "* название города.\n",
    "\n",
    "В функции сохраните в переменную строки исходной таблицы, у которых значение:\n",
    "  * в колонке `day` равно параметру `day`,\n",
    "  * в колонке `city` равно параметру `city`.\n",
    "\n",
    "Для этого примените последовательную фильтрацию с логической индексацией.\n",
    "\n",
    "Затем посчитайте значения в столбце `user_id` получившейся таблицы. Результат сохраните в новую переменную. Верните эту переменную из функции."
   ]
  },
  {
   "cell_type": "code",
   "execution_count": 20,
   "metadata": {
    "id": "Nz3GdQB1_Zcu",
    "pycharm": {
     "name": "#%%\n"
    }
   },
   "outputs": [],
   "source": [
    "def number_tracks(day, city):\n",
    "    track_list = df[ (df['day'] == day) & (df['city']==city) ]\n",
    "    track_list_count = track_list['user_id'].count()\n",
    "    return track_list_count "
   ]
  },
  {
   "cell_type": "markdown",
   "metadata": {
    "id": "ytf7xFrFJQ2r",
    "pycharm": {
     "name": "#%% md\n"
    }
   },
   "source": [
    "Вызовите `number_tracks()` шесть раз, меняя значение параметров — так, чтобы получить данные для каждого города в каждый из трёх дней."
   ]
  },
  {
   "cell_type": "code",
   "execution_count": 21,
   "metadata": {
    "id": "rJcRATNQ_Zcu",
    "pycharm": {
     "name": "#%%\n"
    }
   },
   "outputs": [
    {
     "data": {
      "text/plain": [
       "15740"
      ]
     },
     "execution_count": 21,
     "metadata": {},
     "output_type": "execute_result"
    }
   ],
   "source": [
    "mon_msk = number_tracks('Monday', 'Moscow')\n",
    "mon_msk"
   ]
  },
  {
   "cell_type": "code",
   "execution_count": 22,
   "metadata": {
    "id": "hq_ncZ5T_Zcu",
    "pycharm": {
     "name": "#%%\n"
    }
   },
   "outputs": [
    {
     "data": {
      "text/plain": [
       "5614"
      ]
     },
     "execution_count": 22,
     "metadata": {},
     "output_type": "execute_result"
    }
   ],
   "source": [
    "mon_spb = number_tracks('Monday', 'Saint-Petersburg')\n",
    "mon_spb"
   ]
  },
  {
   "cell_type": "code",
   "execution_count": 23,
   "metadata": {
    "id": "_NTy2VPU_Zcu",
    "pycharm": {
     "name": "#%%\n"
    }
   },
   "outputs": [
    {
     "data": {
      "text/plain": [
       "11056"
      ]
     },
     "execution_count": 23,
     "metadata": {},
     "output_type": "execute_result"
    }
   ],
   "source": [
    "wed_msk = number_tracks('Wednesday', 'Moscow')\n",
    "wed_msk"
   ]
  },
  {
   "cell_type": "code",
   "execution_count": 24,
   "metadata": {
    "id": "j2y3TAwo_Zcu",
    "pycharm": {
     "name": "#%%\n"
    }
   },
   "outputs": [
    {
     "data": {
      "text/plain": [
       "7003"
      ]
     },
     "execution_count": 24,
     "metadata": {},
     "output_type": "execute_result"
    }
   ],
   "source": [
    "wed_spb = number_tracks('Wednesday', 'Saint-Petersburg')\n",
    "wed_spb"
   ]
  },
  {
   "cell_type": "code",
   "execution_count": 25,
   "metadata": {
    "id": "vYDw5u_K_Zcu",
    "pycharm": {
     "name": "#%%\n"
    }
   },
   "outputs": [
    {
     "data": {
      "text/plain": [
       "15945"
      ]
     },
     "execution_count": 25,
     "metadata": {},
     "output_type": "execute_result"
    }
   ],
   "source": [
    "fri_msk = number_tracks('Friday', 'Moscow')\n",
    "fri_msk"
   ]
  },
  {
   "cell_type": "code",
   "execution_count": 26,
   "metadata": {
    "id": "8_yzFtW3_Zcu",
    "pycharm": {
     "name": "#%%\n"
    }
   },
   "outputs": [
    {
     "data": {
      "text/plain": [
       "5895"
      ]
     },
     "execution_count": 26,
     "metadata": {},
     "output_type": "execute_result"
    }
   ],
   "source": [
    "fri_spb = number_tracks('Friday', 'Saint-Petersburg')\n",
    "fri_spb"
   ]
  },
  {
   "cell_type": "markdown",
   "metadata": {
    "id": "7QXffbO-_Zcu",
    "pycharm": {
     "name": "#%% md\n"
    }
   },
   "source": [
    "Создайте c помощью конструктора `pd.DataFrame` таблицу, где\n",
    "* названия колонок — `['city', 'monday', 'wednesday', 'friday']`;\n",
    "* данные — результаты, которые вы получили с помощью `number_tracks`."
   ]
  },
  {
   "cell_type": "code",
   "execution_count": 27,
   "metadata": {
    "id": "APAcLpOr_Zcu",
    "pycharm": {
     "name": "#%%\n"
    }
   },
   "outputs": [
    {
     "data": {
      "text/html": [
       "<div>\n",
       "<style scoped>\n",
       "    .dataframe tbody tr th:only-of-type {\n",
       "        vertical-align: middle;\n",
       "    }\n",
       "\n",
       "    .dataframe tbody tr th {\n",
       "        vertical-align: top;\n",
       "    }\n",
       "\n",
       "    .dataframe thead th {\n",
       "        text-align: right;\n",
       "    }\n",
       "</style>\n",
       "<table border=\"1\" class=\"dataframe\">\n",
       "  <thead>\n",
       "    <tr style=\"text-align: right;\">\n",
       "      <th></th>\n",
       "      <th>city</th>\n",
       "      <th>monday</th>\n",
       "      <th>wednesday</th>\n",
       "      <th>friday</th>\n",
       "    </tr>\n",
       "  </thead>\n",
       "  <tbody>\n",
       "    <tr>\n",
       "      <td>0</td>\n",
       "      <td>Moscow</td>\n",
       "      <td>15740</td>\n",
       "      <td>11056</td>\n",
       "      <td>15945</td>\n",
       "    </tr>\n",
       "    <tr>\n",
       "      <td>1</td>\n",
       "      <td>Saint-Petersburg</td>\n",
       "      <td>5614</td>\n",
       "      <td>7003</td>\n",
       "      <td>5895</td>\n",
       "    </tr>\n",
       "  </tbody>\n",
       "</table>\n",
       "</div>"
      ],
      "text/plain": [
       "               city  monday  wednesday  friday\n",
       "0            Moscow   15740      11056   15945\n",
       "1  Saint-Petersburg    5614       7003    5895"
      ]
     },
     "execution_count": 27,
     "metadata": {},
     "output_type": "execute_result"
    }
   ],
   "source": [
    "columns=['city', 'monday', 'wednesday', 'friday']\n",
    "data = [ ['Moscow', mon_msk, wed_msk, fri_msk], ['Saint-Petersburg', mon_spb, wed_spb, fri_spb] ]\n",
    "result = pd.DataFrame(data=data, columns=columns)\n",
    "result"
   ]
  },
  {
   "cell_type": "markdown",
   "metadata": {
    "id": "-EgPIHYu_Zcu",
    "pycharm": {
     "name": "#%% md\n"
    }
   },
   "source": [
    "**Выводы**\n",
    "\n",
    "Данные показывают разницу поведения пользователей:\n",
    "\n",
    "- В Москве пик прослушиваний приходится на понедельник и пятницу, а в среду заметен спад.\n",
    "- В Петербурге, наоборот, больше слушают музыку по средам. Активность в понедельник и пятницу здесь почти в равной мере уступает среде.\n",
    "\n",
    "Значит, данные говорят в пользу первой гипотезы."
   ]
  },
  {
   "cell_type": "markdown",
   "metadata": {
    "id": "atZAxtq4_Zcu",
    "pycharm": {
     "name": "#%% md\n"
    }
   },
   "source": [
    "### Музыка в начале и в конце недели"
   ]
  },
  {
   "cell_type": "markdown",
   "metadata": {
    "id": "eXrQqXFH_Zcu",
    "pycharm": {
     "name": "#%% md\n"
    }
   },
   "source": [
    "Согласно второй гипотезе, утром в понедельник в Москве преобладают одни жанры, а в Петербурге — другие. Так же и вечером пятницы преобладают разные жанры — в зависимости от города."
   ]
  },
  {
   "cell_type": "markdown",
   "metadata": {
    "id": "S8UcW6Hw_Zcu",
    "pycharm": {
     "name": "#%% md\n"
    }
   },
   "source": [
    "Сохраните таблицы с данными в две переменные:\n",
    "* по Москве — в `moscow_general`;\n",
    "* по Санкт-Петербургу — в `spb_general`."
   ]
  },
  {
   "cell_type": "code",
   "execution_count": 28,
   "metadata": {
    "id": "qeaFfM_P_Zcu",
    "pycharm": {
     "name": "#%%\n"
    }
   },
   "outputs": [],
   "source": [
    "moscow_general = df[ df['city'] == 'Moscow']"
   ]
  },
  {
   "cell_type": "code",
   "execution_count": 29,
   "metadata": {
    "id": "ORaVRKto_Zcu",
    "pycharm": {
     "name": "#%%\n"
    }
   },
   "outputs": [],
   "source": [
    "spb_general = df[ df['city'] == 'Saint-Petersburg']"
   ]
  },
  {
   "cell_type": "markdown",
   "metadata": {
    "id": "MEJV-CX2_Zcu",
    "pycharm": {
     "name": "#%% md\n"
    }
   },
   "source": [
    "Создайте функцию `genre_weekday()` с четырьмя параметрами:\n",
    "* таблица (датафрейм) с данными,\n",
    "* день недели,\n",
    "* начальная временная метка в формате 'hh:mm', \n",
    "* последняя временная метка в формате 'hh:mm'.\n",
    "\n",
    "Функция должна вернуть информацию о топ-10 жанров тех треков, которые прослушивали в указанный день, в промежутке между двумя отметками времени."
   ]
  },
  {
   "cell_type": "code",
   "execution_count": 30,
   "metadata": {
    "id": "laJT9BYl_Zcu",
    "pycharm": {
     "name": "#%%\n"
    }
   },
   "outputs": [],
   "source": [
    "def genre_weekday(table, day, time1, time2):\n",
    "    genre_df = table[ (table['day'] == day) & (table['time'] > time1) & (table['time'] < time2) ]\n",
    "    genre_df_count = genre_df.groupby('genre')['user_id'].count()\n",
    "    genre_df_sorted = genre_df_count.sort_values(ascending=False)\n",
    "    return genre_df_sorted.head(10)"
   ]
  },
  {
   "cell_type": "markdown",
   "metadata": {
    "id": "la2s2_PF_Zcu",
    "pycharm": {
     "name": "#%% md\n"
    }
   },
   "source": [
    "Cравните результаты функции `genre_weekday()` для Москвы и Санкт-Петербурга в понедельник утром (с 7:00 до 11:00) и в пятницу вечером (с 17:00 до 23:00):"
   ]
  },
  {
   "cell_type": "code",
   "execution_count": 31,
   "metadata": {
    "id": "yz7itPUQ_Zcu",
    "pycharm": {
     "name": "#%%\n"
    }
   },
   "outputs": [
    {
     "data": {
      "text/plain": [
       "genre\n",
       "pop            781\n",
       "dance          549\n",
       "electronic     480\n",
       "rock           474\n",
       "hiphop         286\n",
       "ruspop         186\n",
       "world          181\n",
       "rusrap         175\n",
       "alternative    164\n",
       "unknown        161\n",
       "Name: user_id, dtype: int64"
      ]
     },
     "execution_count": 31,
     "metadata": {},
     "output_type": "execute_result"
    }
   ],
   "source": [
    "genre_weekday(moscow_general, 'Monday', '07:00', '11:00')"
   ]
  },
  {
   "cell_type": "code",
   "execution_count": 32,
   "metadata": {
    "id": "kwUcHPdy_Zcu",
    "pycharm": {
     "name": "#%%\n"
    }
   },
   "outputs": [
    {
     "data": {
      "text/plain": [
       "genre\n",
       "pop            218\n",
       "dance          182\n",
       "rock           162\n",
       "electronic     147\n",
       "hiphop          80\n",
       "ruspop          64\n",
       "alternative     58\n",
       "rusrap          55\n",
       "jazz            44\n",
       "classical       40\n",
       "Name: user_id, dtype: int64"
      ]
     },
     "execution_count": 32,
     "metadata": {},
     "output_type": "execute_result"
    }
   ],
   "source": [
    "genre_weekday(spb_general, 'Monday', '07:00', '11:00')"
   ]
  },
  {
   "cell_type": "code",
   "execution_count": 33,
   "metadata": {
    "id": "EzXVRE1o_Zcu",
    "pycharm": {
     "name": "#%%\n"
    }
   },
   "outputs": [
    {
     "data": {
      "text/plain": [
       "genre\n",
       "pop            713\n",
       "rock           517\n",
       "dance          495\n",
       "electronic     482\n",
       "hiphop         273\n",
       "world          208\n",
       "ruspop         170\n",
       "alternative    163\n",
       "classical      163\n",
       "rusrap         142\n",
       "Name: user_id, dtype: int64"
      ]
     },
     "execution_count": 33,
     "metadata": {},
     "output_type": "execute_result"
    }
   ],
   "source": [
    "genre_weekday(moscow_general, 'Friday', '17:00', '23:00')"
   ]
  },
  {
   "cell_type": "code",
   "execution_count": 34,
   "metadata": {
    "id": "JZaEKu5v_Zcu",
    "pycharm": {
     "name": "#%%\n"
    }
   },
   "outputs": [
    {
     "data": {
      "text/plain": [
       "genre\n",
       "pop            256\n",
       "rock           216\n",
       "electronic     216\n",
       "dance          210\n",
       "hiphop          97\n",
       "alternative     63\n",
       "jazz            61\n",
       "classical       60\n",
       "rusrap          59\n",
       "world           54\n",
       "Name: user_id, dtype: int64"
      ]
     },
     "execution_count": 34,
     "metadata": {},
     "output_type": "execute_result"
    }
   ],
   "source": [
    "genre_weekday(spb_general, 'Friday', '17:00', '23:00')"
   ]
  },
  {
   "cell_type": "markdown",
   "metadata": {
    "id": "wrCe4MNX_Zcu",
    "pycharm": {
     "name": "#%% md\n"
    }
   },
   "source": [
    "**Выводы**\n",
    "\n",
    "Если сравнить топ-10 жанров в понедельник утром, можно сделать такие выводы:\n",
    "\n",
    "1. В Москве и Петербурге слушают похожую музыку. Единственное отличие — в московский рейтинг вошёл жанр “world”, а в петербургский — джаз и классика.\n",
    "\n",
    "2. В Москве пропущенных значений оказалось так много, что значение `'unknown'` заняло десятое место среди самых популярных жанров. Значит, пропущенные значения занимают существенную долю в данных и угрожают достоверности исследования.\n",
    "\n",
    "Вечер пятницы не меняет эту картину. Некоторые жанры поднимаются немного выше, другие спускаются, но в целом топ-10 остаётся тем же самым.\n",
    "\n",
    "Таким образом, вторая гипотеза подтвердилась лишь частично:\n",
    "* Пользователи слушают похожую музыку в начале недели и в конце.\n",
    "* Разница между Москвой и Петербургом не слишком выражена. В Москве чаще слушают русскую популярную музыку, в Петербурге — джаз.\n",
    "\n",
    "Однако пропуски в данных ставят под сомнение этот результат. В Москве их так много, что рейтинг топ-10 мог бы выглядеть иначе, если бы не утерянные  данные о жанрах."
   ]
  },
  {
   "cell_type": "markdown",
   "metadata": {
    "id": "JolODAqr_Zcu",
    "pycharm": {
     "name": "#%% md\n"
    }
   },
   "source": [
    "### Жанровые предпочтения в Москве и Петербурге\n",
    "\n",
    "Гипотеза: Петербург — столица рэпа, музыку этого жанра там слушают чаще, чем в Москве.  А Москва — город контрастов, в котором, тем не менее, преобладает поп-музыка."
   ]
  },
  {
   "cell_type": "markdown",
   "metadata": {
    "id": "DlegSvaT_Zcu",
    "pycharm": {
     "name": "#%% md\n"
    }
   },
   "source": [
    "Сгруппируйте таблицу `moscow_general` по жанру и посчитайте прослушивания треков каждого жанра методом `count()`. Затем отсортируйте результат в порядке убывания и сохраните его в таблице `moscow_genres`."
   ]
  },
  {
   "cell_type": "code",
   "execution_count": 35,
   "metadata": {
    "id": "r19lIPke_Zcu",
    "pycharm": {
     "name": "#%%\n"
    }
   },
   "outputs": [],
   "source": [
    "moscow_genres = moscow_general.groupby('genre')['genre'].count().sort_values(ascending=False)"
   ]
  },
  {
   "cell_type": "markdown",
   "metadata": {
    "id": "6kMuomxTiIr8",
    "pycharm": {
     "name": "#%% md\n"
    }
   },
   "source": [
    "Выведите на экран первые десять строк `moscow_genres`:"
   ]
  },
  {
   "cell_type": "code",
   "execution_count": 36,
   "metadata": {
    "id": "WhCSooF8_Zcv",
    "pycharm": {
     "name": "#%%\n"
    }
   },
   "outputs": [
    {
     "data": {
      "text/plain": [
       "genre\n",
       "pop            5892\n",
       "dance          4435\n",
       "rock           3965\n",
       "electronic     3786\n",
       "hiphop         2096\n",
       "classical      1616\n",
       "world          1432\n",
       "alternative    1379\n",
       "ruspop         1372\n",
       "rusrap         1161\n",
       "Name: genre, dtype: int64"
      ]
     },
     "execution_count": 36,
     "metadata": {},
     "output_type": "execute_result"
    }
   ],
   "source": [
    "moscow_genres.head(10)"
   ]
  },
  {
   "cell_type": "markdown",
   "metadata": {
    "id": "cnPG2vnN_Zcv",
    "pycharm": {
     "name": "#%% md\n"
    }
   },
   "source": [
    "Теперь повторите то же и для Петербурга.\n",
    "\n",
    "Сгруппируйте таблицу `spb_general` по жанру. Посчитайте прослушивания треков каждого жанра. Результат отсортируйте в порядке убывания и сохраните в таблице `spb_genres`:\n"
   ]
  },
  {
   "cell_type": "code",
   "execution_count": 37,
   "metadata": {
    "id": "gluLIpE7_Zcv",
    "pycharm": {
     "name": "#%%\n"
    }
   },
   "outputs": [],
   "source": [
    "spb_genres = spb_general.groupby('genre')['genre'].count().sort_values(ascending=False)"
   ]
  },
  {
   "cell_type": "markdown",
   "metadata": {
    "id": "5Doha_ODgyQ8",
    "pycharm": {
     "name": "#%% md\n"
    }
   },
   "source": [
    "Выведите на экран первые десять строк `spb_genres`:"
   ]
  },
  {
   "cell_type": "code",
   "execution_count": 38,
   "metadata": {
    "id": "uaGJHjVU_Zcv",
    "pycharm": {
     "name": "#%%\n"
    }
   },
   "outputs": [
    {
     "data": {
      "text/plain": [
       "genre\n",
       "pop            2431\n",
       "dance          1932\n",
       "rock           1879\n",
       "electronic     1736\n",
       "hiphop          960\n",
       "alternative     649\n",
       "classical       646\n",
       "rusrap          564\n",
       "ruspop          538\n",
       "world           515\n",
       "Name: genre, dtype: int64"
      ]
     },
     "execution_count": 38,
     "metadata": {},
     "output_type": "execute_result"
    }
   ],
   "source": [
    "spb_genres.head(10)"
   ]
  },
  {
   "cell_type": "markdown",
   "metadata": {
    "id": "RY51YJYu_Zcv",
    "pycharm": {
     "name": "#%% md\n"
    }
   },
   "source": [
    "**Выводы**"
   ]
  },
  {
   "cell_type": "markdown",
   "metadata": {
    "id": "nVhnJEm__Zcv",
    "pycharm": {
     "name": "#%% md\n"
    }
   },
   "source": [
    "Гипотеза частично подтвердилась:\n",
    "* Поп-музыка — самый популярный жанр в Москве, как и предполагала гипотеза. Более того, в топ-10 жанров встречается близкий жанр — русская популярная музыка.\n",
    "* Вопреки ожиданиям, рэп одинаково популярен в Москве и Петербурге. \n"
   ]
  },
  {
   "cell_type": "markdown",
   "metadata": {
    "id": "ykKQ0N65_Zcv",
    "pycharm": {
     "name": "#%% md\n"
    }
   },
   "source": [
    "## Итоги исследования"
   ]
  },
  {
   "cell_type": "markdown",
   "metadata": {
    "id": "tjUwbHb3_Zcv",
    "pycharm": {
     "name": "#%% md\n"
    }
   },
   "source": [
    "Вы проверили три гипотезы и установили:\n",
    "\n",
    "1. День недели по-разному влияет на активность пользователей в Москве и Петербурге. \n",
    "\n",
    "Первая гипотеза полностью подтвердилась.\n",
    "\n",
    "2. Музыкальные предпочтения не сильно меняются в течение недели — будь то Москва или Петербург. Небольшие различия заметны в начале недели, по понедельникам:\n",
    "* в Москве слушают музыку жанра “world”,\n",
    "* в Петербурге — джаз и классику.\n",
    "\n",
    "Таким образом, вторая гипотеза подтвердилась лишь отчасти. Этот результат мог оказаться иным, если бы не пропуски в данных.\n",
    "\n",
    "3. Во вкусах пользователей Москвы и Петербурга больше общего чем различий. Вопреки ожиданиям, предпочтения жанров в Петербурге напоминают московские.\n",
    "\n",
    "Третья гипотеза не подтвердилась. Если различия в предпочтениях и существуют, на основной массе пользователей они незаметны.\n",
    "\n",
    "**На практике исследования содержат проверки статистических гипотез.**\n",
    "Из данных одного сервиса не всегда можно сделать вывод о всех жителях города.\n",
    "Проверки статистических гипотез покажут, насколько они достоверны, исходя из имеющихся данных. \n",
    "С методами проверок гипотез вы ещё познакомитесь в следующих темах."
   ]
  }
 ],
 "metadata": {
  "ExecuteTimeLog": [
   {
    "duration": 1009,
    "start_time": "2021-11-25T08:49:55.798Z"
   },
   {
    "duration": 182,
    "start_time": "2021-11-25T08:49:58.291Z"
   },
   {
    "duration": 12,
    "start_time": "2021-11-25T08:50:16.540Z"
   },
   {
    "duration": 25,
    "start_time": "2021-11-25T08:50:32.398Z"
   },
   {
    "duration": 33,
    "start_time": "2021-11-25T08:50:58.784Z"
   },
   {
    "duration": 4,
    "start_time": "2021-11-25T09:28:47.668Z"
   },
   {
    "duration": 30,
    "start_time": "2021-11-25T09:31:51.183Z"
   },
   {
    "duration": 4,
    "start_time": "2021-11-25T09:32:02.293Z"
   },
   {
    "duration": 30,
    "start_time": "2021-11-25T09:32:57.781Z"
   },
   {
    "duration": 21,
    "start_time": "2021-11-25T09:35:41.727Z"
   },
   {
    "duration": 29,
    "start_time": "2021-11-25T09:35:56.418Z"
   },
   {
    "duration": 22,
    "start_time": "2021-11-25T09:35:58.235Z"
   },
   {
    "duration": 30,
    "start_time": "2021-11-25T09:35:59.506Z"
   },
   {
    "duration": 83,
    "start_time": "2021-11-25T09:36:39.594Z"
   },
   {
    "duration": 95,
    "start_time": "2021-11-25T09:37:35.320Z"
   },
   {
    "duration": 79,
    "start_time": "2021-11-25T09:37:45.914Z"
   },
   {
    "duration": 9,
    "start_time": "2021-11-25T09:38:22.783Z"
   },
   {
    "duration": 4,
    "start_time": "2021-11-25T09:51:54.308Z"
   },
   {
    "duration": 443,
    "start_time": "2021-11-25T09:55:48.943Z"
   },
   {
    "duration": 4,
    "start_time": "2021-11-25T09:56:06.479Z"
   },
   {
    "duration": 15,
    "start_time": "2021-11-25T09:56:08.217Z"
   },
   {
    "duration": 21,
    "start_time": "2021-11-25T09:56:47.681Z"
   },
   {
    "duration": 4,
    "start_time": "2021-11-25T09:56:50.221Z"
   },
   {
    "duration": 22,
    "start_time": "2021-11-25T09:56:51.506Z"
   },
   {
    "duration": 8,
    "start_time": "2021-11-25T09:57:43.741Z"
   },
   {
    "duration": 4,
    "start_time": "2021-11-25T10:00:57.694Z"
   },
   {
    "duration": 258,
    "start_time": "2021-11-25T10:00:59.507Z"
   },
   {
    "duration": 17,
    "start_time": "2021-11-25T10:01:00.595Z"
   },
   {
    "duration": 46,
    "start_time": "2021-11-25T10:01:01.825Z"
   },
   {
    "duration": 6,
    "start_time": "2021-11-25T10:01:04.442Z"
   },
   {
    "duration": 20,
    "start_time": "2021-11-25T10:01:05.757Z"
   },
   {
    "duration": 4,
    "start_time": "2021-11-25T10:01:06.808Z"
   },
   {
    "duration": 30,
    "start_time": "2021-11-25T10:01:07.908Z"
   },
   {
    "duration": 24,
    "start_time": "2021-11-25T10:01:09.750Z"
   },
   {
    "duration": 29,
    "start_time": "2021-11-25T10:01:11.042Z"
   },
   {
    "duration": 82,
    "start_time": "2021-11-25T10:01:12.331Z"
   },
   {
    "duration": 94,
    "start_time": "2021-11-25T10:01:14.448Z"
   },
   {
    "duration": 76,
    "start_time": "2021-11-25T10:01:15.580Z"
   },
   {
    "duration": 11,
    "start_time": "2021-11-25T10:01:17.524Z"
   },
   {
    "duration": 5,
    "start_time": "2021-11-25T10:01:19.684Z"
   },
   {
    "duration": 15,
    "start_time": "2021-11-25T10:01:22.154Z"
   },
   {
    "duration": 9,
    "start_time": "2021-11-25T10:01:24.118Z"
   },
   {
    "duration": 527,
    "start_time": "2021-11-25T10:02:28.038Z"
   },
   {
    "duration": 344,
    "start_time": "2021-11-25T10:02:43.036Z"
   },
   {
    "duration": 9,
    "start_time": "2021-11-25T10:02:52.586Z"
   },
   {
    "duration": 9,
    "start_time": "2021-11-25T10:03:15.318Z"
   },
   {
    "duration": 861,
    "start_time": "2021-11-25T10:03:49.054Z"
   },
   {
    "duration": 210,
    "start_time": "2021-11-25T10:03:51.427Z"
   },
   {
    "duration": 26,
    "start_time": "2021-11-25T10:03:53.128Z"
   },
   {
    "duration": 35,
    "start_time": "2021-11-25T10:03:54.629Z"
   },
   {
    "duration": 6,
    "start_time": "2021-11-25T10:03:57.906Z"
   },
   {
    "duration": 29,
    "start_time": "2021-11-25T10:03:59.430Z"
   },
   {
    "duration": 4,
    "start_time": "2021-11-25T10:04:00.546Z"
   },
   {
    "duration": 29,
    "start_time": "2021-11-25T10:04:01.814Z"
   },
   {
    "duration": 23,
    "start_time": "2021-11-25T10:04:04.251Z"
   },
   {
    "duration": 29,
    "start_time": "2021-11-25T10:04:05.477Z"
   },
   {
    "duration": 95,
    "start_time": "2021-11-25T10:04:06.731Z"
   },
   {
    "duration": 97,
    "start_time": "2021-11-25T10:04:07.907Z"
   },
   {
    "duration": 80,
    "start_time": "2021-11-25T10:04:08.933Z"
   },
   {
    "duration": 11,
    "start_time": "2021-11-25T10:04:10.554Z"
   },
   {
    "duration": 5,
    "start_time": "2021-11-25T10:04:28.151Z"
   },
   {
    "duration": 14,
    "start_time": "2021-11-25T10:04:30.185Z"
   },
   {
    "duration": 10,
    "start_time": "2021-11-25T10:04:33.208Z"
   },
   {
    "duration": 44,
    "start_time": "2021-11-25T10:48:51.035Z"
   },
   {
    "duration": 41,
    "start_time": "2021-11-25T10:49:20.177Z"
   },
   {
    "duration": 124,
    "start_time": "2021-11-25T11:20:28.168Z"
   },
   {
    "duration": 132,
    "start_time": "2021-11-25T11:20:55.063Z"
   },
   {
    "duration": 4,
    "start_time": "2021-11-25T11:23:42.448Z"
   },
   {
    "duration": 20,
    "start_time": "2021-11-25T11:27:19.351Z"
   },
   {
    "duration": 16,
    "start_time": "2021-11-25T11:27:20.079Z"
   },
   {
    "duration": 18,
    "start_time": "2021-11-25T11:27:20.706Z"
   },
   {
    "duration": 17,
    "start_time": "2021-11-25T11:27:21.378Z"
   },
   {
    "duration": 19,
    "start_time": "2021-11-25T11:27:21.890Z"
   },
   {
    "duration": 18,
    "start_time": "2021-11-25T11:27:22.478Z"
   },
   {
    "duration": 111,
    "start_time": "2021-11-25T11:34:09.202Z"
   },
   {
    "duration": 142,
    "start_time": "2021-11-25T11:34:26.976Z"
   },
   {
    "duration": 121,
    "start_time": "2021-11-25T11:34:34.328Z"
   },
   {
    "duration": 6,
    "start_time": "2021-11-25T11:34:48.665Z"
   },
   {
    "duration": 15,
    "start_time": "2021-11-25T11:34:58.145Z"
   },
   {
    "duration": 46,
    "start_time": "2021-11-25T11:36:32.478Z"
   },
   {
    "duration": 45,
    "start_time": "2021-11-25T11:37:17.230Z"
   },
   {
    "duration": 32,
    "start_time": "2021-11-25T11:37:44.305Z"
   },
   {
    "duration": 29,
    "start_time": "2021-11-25T11:37:50.631Z"
   },
   {
    "duration": 15,
    "start_time": "2021-11-25T13:07:06.914Z"
   },
   {
    "duration": 12,
    "start_time": "2021-11-25T13:07:29.028Z"
   },
   {
    "duration": 8,
    "start_time": "2021-11-25T13:30:00.482Z"
   },
   {
    "duration": 34,
    "start_time": "2021-11-25T13:31:34.064Z"
   },
   {
    "duration": 24,
    "start_time": "2021-11-25T13:33:13.073Z"
   },
   {
    "duration": 23,
    "start_time": "2021-11-25T13:34:24.071Z"
   },
   {
    "duration": 16,
    "start_time": "2021-11-25T13:34:26.847Z"
   },
   {
    "duration": 10,
    "start_time": "2021-11-25T13:37:42.453Z"
   },
   {
    "duration": 6,
    "start_time": "2021-11-25T13:38:06.421Z"
   },
   {
    "duration": 8,
    "start_time": "2021-11-25T13:38:14.632Z"
   },
   {
    "duration": 6,
    "start_time": "2021-11-25T13:38:22.137Z"
   },
   {
    "duration": 10,
    "start_time": "2021-11-25T13:38:57.809Z"
   },
   {
    "duration": 6,
    "start_time": "2021-11-25T13:38:59.037Z"
   },
   {
    "duration": 799,
    "start_time": "2021-11-25T13:39:37.230Z"
   },
   {
    "duration": 201,
    "start_time": "2021-11-25T13:39:41.013Z"
   },
   {
    "duration": 29,
    "start_time": "2021-11-25T13:39:43.305Z"
   },
   {
    "duration": 34,
    "start_time": "2021-11-25T13:39:47.674Z"
   },
   {
    "duration": 6,
    "start_time": "2021-11-25T13:39:52.174Z"
   },
   {
    "duration": 36,
    "start_time": "2021-11-25T13:40:18.747Z"
   },
   {
    "duration": 5,
    "start_time": "2021-11-25T13:40:21.375Z"
   },
   {
    "duration": 45,
    "start_time": "2021-11-25T13:40:24.208Z"
   },
   {
    "duration": 23,
    "start_time": "2021-11-25T13:40:31.477Z"
   },
   {
    "duration": 34,
    "start_time": "2021-11-25T13:40:32.688Z"
   },
   {
    "duration": 89,
    "start_time": "2021-11-25T13:40:35.075Z"
   },
   {
    "duration": 114,
    "start_time": "2021-11-25T13:40:40.873Z"
   },
   {
    "duration": 86,
    "start_time": "2021-11-25T13:40:44.548Z"
   },
   {
    "duration": 8,
    "start_time": "2021-11-25T13:40:50.827Z"
   },
   {
    "duration": 4,
    "start_time": "2021-11-25T13:40:56.250Z"
   },
   {
    "duration": 14,
    "start_time": "2021-11-25T13:43:32.668Z"
   },
   {
    "duration": 8,
    "start_time": "2021-11-25T13:43:34.876Z"
   },
   {
    "duration": 57,
    "start_time": "2021-11-25T13:43:57.192Z"
   },
   {
    "duration": 55,
    "start_time": "2021-11-25T13:44:01.060Z"
   },
   {
    "duration": 5,
    "start_time": "2021-11-25T13:44:31.920Z"
   },
   {
    "duration": 27,
    "start_time": "2021-11-25T13:45:09.847Z"
   },
   {
    "duration": 18,
    "start_time": "2021-11-25T13:45:10.688Z"
   },
   {
    "duration": 21,
    "start_time": "2021-11-25T13:45:11.809Z"
   },
   {
    "duration": 17,
    "start_time": "2021-11-25T13:45:12.632Z"
   },
   {
    "duration": 27,
    "start_time": "2021-11-25T13:45:13.473Z"
   },
   {
    "duration": 18,
    "start_time": "2021-11-25T13:45:15.910Z"
   },
   {
    "duration": 13,
    "start_time": "2021-11-25T13:45:43.696Z"
   },
   {
    "duration": 17,
    "start_time": "2021-11-25T13:46:52.208Z"
   },
   {
    "duration": 13,
    "start_time": "2021-11-25T13:46:56.320Z"
   },
   {
    "duration": 6,
    "start_time": "2021-11-25T13:47:59.301Z"
   },
   {
    "duration": 25,
    "start_time": "2021-11-25T13:48:07.776Z"
   },
   {
    "duration": 24,
    "start_time": "2021-11-25T13:48:17.022Z"
   },
   {
    "duration": 32,
    "start_time": "2021-11-25T13:48:24.598Z"
   },
   {
    "duration": 19,
    "start_time": "2021-11-25T13:48:31.483Z"
   },
   {
    "duration": 11,
    "start_time": "2021-11-25T13:48:52.871Z"
   },
   {
    "duration": 6,
    "start_time": "2021-11-25T13:48:59.905Z"
   },
   {
    "duration": 9,
    "start_time": "2021-11-25T13:50:34.629Z"
   },
   {
    "duration": 6,
    "start_time": "2021-11-25T13:50:36.702Z"
   },
   {
    "duration": 788,
    "start_time": "2021-11-25T16:57:10.334Z"
   },
   {
    "duration": 189,
    "start_time": "2021-11-25T16:57:11.125Z"
   },
   {
    "duration": 26,
    "start_time": "2021-11-25T16:57:11.317Z"
   },
   {
    "duration": 55,
    "start_time": "2021-11-25T16:57:11.346Z"
   },
   {
    "duration": 11,
    "start_time": "2021-11-25T16:57:11.404Z"
   },
   {
    "duration": 34,
    "start_time": "2021-11-25T16:57:11.418Z"
   },
   {
    "duration": 7,
    "start_time": "2021-11-25T16:57:11.454Z"
   },
   {
    "duration": 46,
    "start_time": "2021-11-25T16:57:11.494Z"
   },
   {
    "duration": 45,
    "start_time": "2021-11-25T16:57:11.544Z"
   },
   {
    "duration": 30,
    "start_time": "2021-11-25T16:57:11.592Z"
   },
   {
    "duration": 112,
    "start_time": "2021-11-25T16:57:11.624Z"
   },
   {
    "duration": 109,
    "start_time": "2021-11-25T16:57:11.739Z"
   },
   {
    "duration": 88,
    "start_time": "2021-11-25T16:57:11.850Z"
   },
   {
    "duration": 8,
    "start_time": "2021-11-25T16:57:11.940Z"
   },
   {
    "duration": 6,
    "start_time": "2021-11-25T16:57:11.950Z"
   },
   {
    "duration": 36,
    "start_time": "2021-11-25T16:57:11.958Z"
   },
   {
    "duration": 7,
    "start_time": "2021-11-25T16:57:11.997Z"
   },
   {
    "duration": 80,
    "start_time": "2021-11-25T16:57:12.007Z"
   },
   {
    "duration": 46,
    "start_time": "2021-11-25T16:57:12.089Z"
   },
   {
    "duration": 5,
    "start_time": "2021-11-25T16:57:12.137Z"
   },
   {
    "duration": 46,
    "start_time": "2021-11-25T16:57:12.144Z"
   },
   {
    "duration": 17,
    "start_time": "2021-11-25T16:57:12.193Z"
   },
   {
    "duration": 19,
    "start_time": "2021-11-25T16:57:12.215Z"
   },
   {
    "duration": 45,
    "start_time": "2021-11-25T16:57:12.237Z"
   },
   {
    "duration": 19,
    "start_time": "2021-11-25T16:57:12.285Z"
   },
   {
    "duration": 20,
    "start_time": "2021-11-25T16:57:12.307Z"
   },
   {
    "duration": 12,
    "start_time": "2021-11-25T16:57:12.330Z"
   },
   {
    "duration": 40,
    "start_time": "2021-11-25T16:57:12.344Z"
   },
   {
    "duration": 14,
    "start_time": "2021-11-25T16:57:12.387Z"
   },
   {
    "duration": 5,
    "start_time": "2021-11-25T16:57:12.404Z"
   },
   {
    "duration": 70,
    "start_time": "2021-11-25T16:57:12.412Z"
   },
   {
    "duration": 19,
    "start_time": "2021-11-25T16:57:12.484Z"
   },
   {
    "duration": 25,
    "start_time": "2021-11-25T16:57:12.505Z"
   },
   {
    "duration": 49,
    "start_time": "2021-11-25T16:57:12.533Z"
   },
   {
    "duration": 11,
    "start_time": "2021-11-25T16:57:12.585Z"
   },
   {
    "duration": 5,
    "start_time": "2021-11-25T16:57:12.599Z"
   },
   {
    "duration": 10,
    "start_time": "2021-11-25T16:57:12.606Z"
   },
   {
    "duration": 6,
    "start_time": "2021-11-25T16:57:12.619Z"
   },
   {
    "duration": 738,
    "start_time": "2021-11-25T17:26:08.428Z"
   },
   {
    "duration": 189,
    "start_time": "2021-11-25T17:26:09.169Z"
   },
   {
    "duration": 32,
    "start_time": "2021-11-25T17:26:09.360Z"
   },
   {
    "duration": 33,
    "start_time": "2021-11-25T17:26:09.395Z"
   },
   {
    "duration": 4,
    "start_time": "2021-11-25T17:26:09.431Z"
   },
   {
    "duration": 67,
    "start_time": "2021-11-25T17:26:09.438Z"
   },
   {
    "duration": 4,
    "start_time": "2021-11-25T17:26:09.508Z"
   },
   {
    "duration": 30,
    "start_time": "2021-11-25T17:26:09.516Z"
   },
   {
    "duration": 49,
    "start_time": "2021-11-25T17:26:09.549Z"
   },
   {
    "duration": 29,
    "start_time": "2021-11-25T17:26:09.600Z"
   },
   {
    "duration": 106,
    "start_time": "2021-11-25T17:26:09.631Z"
   },
   {
    "duration": 112,
    "start_time": "2021-11-25T17:26:09.739Z"
   },
   {
    "duration": 84,
    "start_time": "2021-11-25T17:26:09.854Z"
   },
   {
    "duration": 7,
    "start_time": "2021-11-25T17:26:09.941Z"
   },
   {
    "duration": 4,
    "start_time": "2021-11-25T17:26:09.951Z"
   },
   {
    "duration": 36,
    "start_time": "2021-11-25T17:26:09.957Z"
   },
   {
    "duration": 11,
    "start_time": "2021-11-25T17:26:09.995Z"
   },
   {
    "duration": 45,
    "start_time": "2021-11-25T17:26:10.008Z"
   },
   {
    "duration": 69,
    "start_time": "2021-11-25T17:26:10.055Z"
   },
   {
    "duration": 5,
    "start_time": "2021-11-25T17:26:10.126Z"
   },
   {
    "duration": 57,
    "start_time": "2021-11-25T17:26:10.133Z"
   },
   {
    "duration": 17,
    "start_time": "2021-11-25T17:26:10.193Z"
   },
   {
    "duration": 16,
    "start_time": "2021-11-25T17:26:10.215Z"
   },
   {
    "duration": 16,
    "start_time": "2021-11-25T17:26:10.234Z"
   },
   {
    "duration": 18,
    "start_time": "2021-11-25T17:26:10.282Z"
   },
   {
    "duration": 16,
    "start_time": "2021-11-25T17:26:10.303Z"
   },
   {
    "duration": 16,
    "start_time": "2021-11-25T17:26:10.322Z"
   },
   {
    "duration": 51,
    "start_time": "2021-11-25T17:26:10.340Z"
   },
   {
    "duration": 12,
    "start_time": "2021-11-25T17:26:10.393Z"
   },
   {
    "duration": 5,
    "start_time": "2021-11-25T17:26:10.407Z"
   },
   {
    "duration": 26,
    "start_time": "2021-11-25T17:26:10.415Z"
   },
   {
    "duration": 52,
    "start_time": "2021-11-25T17:26:10.444Z"
   },
   {
    "duration": 25,
    "start_time": "2021-11-25T17:26:10.499Z"
   },
   {
    "duration": 18,
    "start_time": "2021-11-25T17:26:10.527Z"
   },
   {
    "duration": 14,
    "start_time": "2021-11-25T17:26:10.583Z"
   },
   {
    "duration": 7,
    "start_time": "2021-11-25T17:26:10.600Z"
   },
   {
    "duration": 12,
    "start_time": "2021-11-25T17:26:10.610Z"
   },
   {
    "duration": 7,
    "start_time": "2021-11-25T17:26:10.624Z"
   },
   {
    "duration": 523,
    "start_time": "2021-11-26T04:35:08.923Z"
   },
   {
    "duration": 134,
    "start_time": "2021-11-26T04:35:11.760Z"
   },
   {
    "duration": 19,
    "start_time": "2021-11-26T04:35:19.494Z"
   },
   {
    "duration": 25,
    "start_time": "2021-11-26T04:35:41.910Z"
   },
   {
    "duration": 4,
    "start_time": "2021-11-26T04:41:36.919Z"
   },
   {
    "duration": 22,
    "start_time": "2021-11-26T04:41:49.150Z"
   },
   {
    "duration": 4,
    "start_time": "2021-11-26T04:41:58.372Z"
   },
   {
    "duration": 23,
    "start_time": "2021-11-26T04:42:10.528Z"
   },
   {
    "duration": 17,
    "start_time": "2021-11-26T04:42:22.922Z"
   },
   {
    "duration": 23,
    "start_time": "2021-11-26T04:42:36.884Z"
   },
   {
    "duration": 56,
    "start_time": "2021-11-26T04:42:46.552Z"
   },
   {
    "duration": 69,
    "start_time": "2021-11-26T04:43:02.360Z"
   },
   {
    "duration": 50,
    "start_time": "2021-11-26T04:43:04.774Z"
   },
   {
    "duration": 39,
    "start_time": "2021-11-26T04:43:43.116Z"
   },
   {
    "duration": 2,
    "start_time": "2021-11-26T04:43:58.310Z"
   },
   {
    "duration": 38,
    "start_time": "2021-11-26T04:44:10.276Z"
   },
   {
    "duration": 11,
    "start_time": "2021-11-26T04:44:56.879Z"
   },
   {
    "duration": 11,
    "start_time": "2021-11-26T04:45:18.689Z"
   },
   {
    "duration": 3,
    "start_time": "2021-11-26T04:45:56.536Z"
   },
   {
    "duration": 16,
    "start_time": "2021-11-26T04:45:58.719Z"
   },
   {
    "duration": 15,
    "start_time": "2021-11-26T04:46:07.216Z"
   },
   {
    "duration": 14,
    "start_time": "2021-11-26T04:46:15.284Z"
   },
   {
    "duration": 14,
    "start_time": "2021-11-26T04:46:22.286Z"
   },
   {
    "duration": 16,
    "start_time": "2021-11-26T04:46:30.166Z"
   },
   {
    "duration": 16,
    "start_time": "2021-11-26T04:46:38.064Z"
   },
   {
    "duration": 8,
    "start_time": "2021-11-26T04:46:58.600Z"
   },
   {
    "duration": 11,
    "start_time": "2021-11-26T04:47:23.873Z"
   },
   {
    "duration": 10,
    "start_time": "2021-11-26T04:47:25.158Z"
   },
   {
    "duration": 3,
    "start_time": "2021-11-26T04:47:31.345Z"
   },
   {
    "duration": 18,
    "start_time": "2021-11-26T04:47:40.223Z"
   },
   {
    "duration": 13,
    "start_time": "2021-11-26T04:47:47.177Z"
   },
   {
    "duration": 18,
    "start_time": "2021-11-26T04:47:52.559Z"
   },
   {
    "duration": 13,
    "start_time": "2021-11-26T04:47:57.059Z"
   },
   {
    "duration": 8,
    "start_time": "2021-11-26T04:48:11.261Z"
   },
   {
    "duration": 4,
    "start_time": "2021-11-26T04:48:19.335Z"
   },
   {
    "duration": 6,
    "start_time": "2021-11-26T04:48:27.579Z"
   },
   {
    "duration": 4,
    "start_time": "2021-11-26T04:48:48.018Z"
   },
   {
    "duration": 556,
    "start_time": "2021-11-26T15:20:01.497Z"
   },
   {
    "duration": 137,
    "start_time": "2021-11-26T15:20:02.055Z"
   },
   {
    "duration": 17,
    "start_time": "2021-11-26T15:20:02.195Z"
   },
   {
    "duration": 38,
    "start_time": "2021-11-26T15:20:02.214Z"
   },
   {
    "duration": 17,
    "start_time": "2021-11-26T15:20:02.254Z"
   },
   {
    "duration": 32,
    "start_time": "2021-11-26T15:20:02.273Z"
   },
   {
    "duration": 7,
    "start_time": "2021-11-26T15:20:02.307Z"
   },
   {
    "duration": 42,
    "start_time": "2021-11-26T15:20:02.315Z"
   },
   {
    "duration": 32,
    "start_time": "2021-11-26T15:20:02.360Z"
   },
   {
    "duration": 41,
    "start_time": "2021-11-26T15:20:02.395Z"
   },
   {
    "duration": 81,
    "start_time": "2021-11-26T15:20:02.437Z"
   },
   {
    "duration": 61,
    "start_time": "2021-11-26T15:20:02.520Z"
   },
   {
    "duration": 48,
    "start_time": "2021-11-26T15:20:02.583Z"
   },
   {
    "duration": 46,
    "start_time": "2021-11-26T15:20:02.633Z"
   },
   {
    "duration": 18,
    "start_time": "2021-11-26T15:20:02.681Z"
   },
   {
    "duration": 14,
    "start_time": "2021-11-26T15:20:02.701Z"
   },
   {
    "duration": 64,
    "start_time": "2021-11-26T15:20:02.717Z"
   },
   {
    "duration": 26,
    "start_time": "2021-11-26T15:20:02.783Z"
   },
   {
    "duration": 21,
    "start_time": "2021-11-26T15:20:02.811Z"
   },
   {
    "duration": 10,
    "start_time": "2021-11-26T15:20:02.834Z"
   },
   {
    "duration": 34,
    "start_time": "2021-11-26T15:20:02.846Z"
   },
   {
    "duration": 35,
    "start_time": "2021-11-26T15:20:02.882Z"
   },
   {
    "duration": 22,
    "start_time": "2021-11-26T15:20:02.919Z"
   },
   {
    "duration": 22,
    "start_time": "2021-11-26T15:20:02.943Z"
   },
   {
    "duration": 25,
    "start_time": "2021-11-26T15:20:02.967Z"
   },
   {
    "duration": 30,
    "start_time": "2021-11-26T15:20:02.994Z"
   },
   {
    "duration": 15,
    "start_time": "2021-11-26T15:20:03.028Z"
   },
   {
    "duration": 23,
    "start_time": "2021-11-26T15:20:03.044Z"
   },
   {
    "duration": 37,
    "start_time": "2021-11-26T15:20:03.069Z"
   },
   {
    "duration": 11,
    "start_time": "2021-11-26T15:20:03.107Z"
   },
   {
    "duration": 23,
    "start_time": "2021-11-26T15:20:03.119Z"
   },
   {
    "duration": 12,
    "start_time": "2021-11-26T15:20:03.143Z"
   },
   {
    "duration": 19,
    "start_time": "2021-11-26T15:20:03.157Z"
   },
   {
    "duration": 12,
    "start_time": "2021-11-26T15:20:03.178Z"
   },
   {
    "duration": 8,
    "start_time": "2021-11-26T15:20:03.191Z"
   },
   {
    "duration": 4,
    "start_time": "2021-11-26T15:20:03.200Z"
   },
   {
    "duration": 38,
    "start_time": "2021-11-26T15:20:03.206Z"
   },
   {
    "duration": 4,
    "start_time": "2021-11-26T15:20:03.246Z"
   }
  ],
  "colab": {
   "collapsed_sections": [
    "E0vqbgi9ay0H",
    "VUC88oWjTJw2"
   ],
   "name": "yandex_music_project_2021.2.ipynb",
   "provenance": []
  },
  "kernelspec": {
   "display_name": "Python 3",
   "language": "python",
   "name": "python3"
  },
  "language_info": {
   "codemirror_mode": {
    "name": "ipython",
    "version": 3
   },
   "file_extension": ".py",
   "mimetype": "text/x-python",
   "name": "python",
   "nbconvert_exporter": "python",
   "pygments_lexer": "ipython3",
   "version": "3.8.8"
  },
  "toc": {
   "base_numbering": 1,
   "nav_menu": {},
   "number_sections": true,
   "sideBar": true,
   "skip_h1_title": true,
   "title_cell": "Table of Contents",
   "title_sidebar": "Contents",
   "toc_cell": false,
   "toc_position": {},
   "toc_section_display": true,
   "toc_window_display": true
  }
 },
 "nbformat": 4,
 "nbformat_minor": 4
}
